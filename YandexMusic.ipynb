{
 "cells": [
  {
   "cell_type": "markdown",
   "metadata": {
    "id": "E0vqbgi9ay0H"
   },
   "source": [
    "# Яндекс.Музыка"
   ]
  },
  {
   "cell_type": "markdown",
   "metadata": {
    "id": "VUC88oWjTJw2"
   },
   "source": [
    "Сравнение Москвы и Петербурга окружено мифами. Например:\n",
    " * Москва — мегаполис, подчинённый жёсткому ритму рабочей недели;\n",
    " * Петербург — культурная столица, со своими вкусами.\n",
    "\n",
    "На данных Яндекс.Музыки вы сравните поведение пользователей двух столиц.\n",
    "\n",
    "**Цель исследования** — проверьте три гипотезы:\n",
    "1. Активность пользователей зависит от дня недели. Причём в Москве и Петербурге это проявляется по-разному.\n",
    "2. В понедельник утром в Москве преобладают одни жанры, а в Петербурге — другие. Так же и вечером пятницы преобладают разные жанры — в зависимости от города. \n",
    "3. Москва и Петербург предпочитают разные жанры музыки. В Москве чаще слушают поп-музыку, в Петербурге — русский рэп.\n",
    "\n",
    "**Ход исследования**\n",
    "\n",
    "Исследование пройдёт в три этапа:\n",
    " 1. Обзор данных.\n",
    " 2. Предобработка данных.\n",
    " 3. Проверка гипотез.\n",
    "\n"
   ]
  },
  {
   "cell_type": "markdown",
   "metadata": {
    "id": "Ml1hmfXC_Zcs"
   },
   "source": [
    "## Обзор данных\n",
    "\n",
    "Составьте первое представление о данных Яндекс.Музыки.\n",
    "\n",
    "\n"
   ]
  },
  {
   "cell_type": "code",
   "execution_count": 1,
   "metadata": {
    "id": "AXN7PHPN_Zcs"
   },
   "outputs": [],
   "source": [
    "import pandas as pd # импорт библиотеки pandas"
   ]
  },
  {
   "cell_type": "code",
   "execution_count": 2,
   "metadata": {
    "id": "fFVu7vqh_Zct"
   },
   "outputs": [],
   "source": [
    "df=pd.read_csv('/datasets/yandex_music_project.csv') # чтение файла с данными и сохранение в df"
   ]
  },
  {
   "cell_type": "code",
   "execution_count": 3,
   "metadata": {
    "id": "oWTVX3gW_Zct"
   },
   "outputs": [
    {
     "data": {
      "text/html": [
       "<div>\n",
       "<style scoped>\n",
       "    .dataframe tbody tr th:only-of-type {\n",
       "        vertical-align: middle;\n",
       "    }\n",
       "\n",
       "    .dataframe tbody tr th {\n",
       "        vertical-align: top;\n",
       "    }\n",
       "\n",
       "    .dataframe thead th {\n",
       "        text-align: right;\n",
       "    }\n",
       "</style>\n",
       "<table border=\"1\" class=\"dataframe\">\n",
       "  <thead>\n",
       "    <tr style=\"text-align: right;\">\n",
       "      <th></th>\n",
       "      <th>userID</th>\n",
       "      <th>Track</th>\n",
       "      <th>artist</th>\n",
       "      <th>genre</th>\n",
       "      <th>City</th>\n",
       "      <th>time</th>\n",
       "      <th>Day</th>\n",
       "    </tr>\n",
       "  </thead>\n",
       "  <tbody>\n",
       "    <tr>\n",
       "      <td>0</td>\n",
       "      <td>FFB692EC</td>\n",
       "      <td>Kamigata To Boots</td>\n",
       "      <td>The Mass Missile</td>\n",
       "      <td>rock</td>\n",
       "      <td>Saint-Petersburg</td>\n",
       "      <td>20:28:33</td>\n",
       "      <td>Wednesday</td>\n",
       "    </tr>\n",
       "    <tr>\n",
       "      <td>1</td>\n",
       "      <td>55204538</td>\n",
       "      <td>Delayed Because of Accident</td>\n",
       "      <td>Andreas Rönnberg</td>\n",
       "      <td>rock</td>\n",
       "      <td>Moscow</td>\n",
       "      <td>14:07:09</td>\n",
       "      <td>Friday</td>\n",
       "    </tr>\n",
       "    <tr>\n",
       "      <td>2</td>\n",
       "      <td>20EC38</td>\n",
       "      <td>Funiculì funiculà</td>\n",
       "      <td>Mario Lanza</td>\n",
       "      <td>pop</td>\n",
       "      <td>Saint-Petersburg</td>\n",
       "      <td>20:58:07</td>\n",
       "      <td>Wednesday</td>\n",
       "    </tr>\n",
       "    <tr>\n",
       "      <td>3</td>\n",
       "      <td>A3DD03C9</td>\n",
       "      <td>Dragons in the Sunset</td>\n",
       "      <td>Fire + Ice</td>\n",
       "      <td>folk</td>\n",
       "      <td>Saint-Petersburg</td>\n",
       "      <td>08:37:09</td>\n",
       "      <td>Monday</td>\n",
       "    </tr>\n",
       "    <tr>\n",
       "      <td>4</td>\n",
       "      <td>E2DC1FAE</td>\n",
       "      <td>Soul People</td>\n",
       "      <td>Space Echo</td>\n",
       "      <td>dance</td>\n",
       "      <td>Moscow</td>\n",
       "      <td>08:34:34</td>\n",
       "      <td>Monday</td>\n",
       "    </tr>\n",
       "    <tr>\n",
       "      <td>5</td>\n",
       "      <td>842029A1</td>\n",
       "      <td>Преданная</td>\n",
       "      <td>IMPERVTOR</td>\n",
       "      <td>rusrap</td>\n",
       "      <td>Saint-Petersburg</td>\n",
       "      <td>13:09:41</td>\n",
       "      <td>Friday</td>\n",
       "    </tr>\n",
       "    <tr>\n",
       "      <td>6</td>\n",
       "      <td>4CB90AA5</td>\n",
       "      <td>True</td>\n",
       "      <td>Roman Messer</td>\n",
       "      <td>dance</td>\n",
       "      <td>Moscow</td>\n",
       "      <td>13:00:07</td>\n",
       "      <td>Wednesday</td>\n",
       "    </tr>\n",
       "    <tr>\n",
       "      <td>7</td>\n",
       "      <td>F03E1C1F</td>\n",
       "      <td>Feeling This Way</td>\n",
       "      <td>Polina Griffith</td>\n",
       "      <td>dance</td>\n",
       "      <td>Moscow</td>\n",
       "      <td>20:47:49</td>\n",
       "      <td>Wednesday</td>\n",
       "    </tr>\n",
       "    <tr>\n",
       "      <td>8</td>\n",
       "      <td>8FA1D3BE</td>\n",
       "      <td>И вновь продолжается бой</td>\n",
       "      <td>NaN</td>\n",
       "      <td>ruspop</td>\n",
       "      <td>Moscow</td>\n",
       "      <td>09:17:40</td>\n",
       "      <td>Friday</td>\n",
       "    </tr>\n",
       "    <tr>\n",
       "      <td>9</td>\n",
       "      <td>E772D5C0</td>\n",
       "      <td>Pessimist</td>\n",
       "      <td>NaN</td>\n",
       "      <td>dance</td>\n",
       "      <td>Saint-Petersburg</td>\n",
       "      <td>21:20:49</td>\n",
       "      <td>Wednesday</td>\n",
       "    </tr>\n",
       "  </tbody>\n",
       "</table>\n",
       "</div>"
      ],
      "text/plain": [
       "     userID                        Track            artist   genre  \\\n",
       "0  FFB692EC            Kamigata To Boots  The Mass Missile    rock   \n",
       "1  55204538  Delayed Because of Accident  Andreas Rönnberg    rock   \n",
       "2    20EC38            Funiculì funiculà       Mario Lanza     pop   \n",
       "3  A3DD03C9        Dragons in the Sunset        Fire + Ice    folk   \n",
       "4  E2DC1FAE                  Soul People        Space Echo   dance   \n",
       "5  842029A1                    Преданная         IMPERVTOR  rusrap   \n",
       "6  4CB90AA5                         True      Roman Messer   dance   \n",
       "7  F03E1C1F             Feeling This Way   Polina Griffith   dance   \n",
       "8  8FA1D3BE     И вновь продолжается бой               NaN  ruspop   \n",
       "9  E772D5C0                    Pessimist               NaN   dance   \n",
       "\n",
       "             City        time        Day  \n",
       "0  Saint-Petersburg  20:28:33  Wednesday  \n",
       "1            Moscow  14:07:09     Friday  \n",
       "2  Saint-Petersburg  20:58:07  Wednesday  \n",
       "3  Saint-Petersburg  08:37:09     Monday  \n",
       "4            Moscow  08:34:34     Monday  \n",
       "5  Saint-Petersburg  13:09:41     Friday  \n",
       "6            Moscow  13:00:07  Wednesday  \n",
       "7            Moscow  20:47:49  Wednesday  \n",
       "8            Moscow  09:17:40     Friday  \n",
       "9  Saint-Petersburg  21:20:49  Wednesday  "
      ]
     },
     "execution_count": 3,
     "metadata": {},
     "output_type": "execute_result"
    }
   ],
   "source": [
    "df.head(10) # получение первых 10 строк таблицы df"
   ]
  },
  {
   "cell_type": "code",
   "execution_count": 4,
   "metadata": {
    "id": "DSf2kIb-_Zct"
   },
   "outputs": [
    {
     "name": "stdout",
     "output_type": "stream",
     "text": [
      "<class 'pandas.core.frame.DataFrame'>\n",
      "RangeIndex: 65079 entries, 0 to 65078\n",
      "Data columns (total 7 columns):\n",
      "  userID    65079 non-null object\n",
      "Track       63848 non-null object\n",
      "artist      57876 non-null object\n",
      "genre       63881 non-null object\n",
      "  City      65079 non-null object\n",
      "time        65079 non-null object\n",
      "Day         65079 non-null object\n",
      "dtypes: object(7)\n",
      "memory usage: 3.5+ MB\n"
     ]
    }
   ],
   "source": [
    "df.info() # получение общей информации о данных в таблице df"
   ]
  },
  {
   "cell_type": "markdown",
   "metadata": {
    "id": "TaQ2Iwbr_Zct"
   },
   "source": [
    "Итак, в таблице семь столбцов. Тип данных во всех столбцах — `object`.\n",
    "\n",
    "Согласно документации к данным:\n",
    "* `userID` — идентификатор пользователя;\n",
    "* `Track` — название трека;  \n",
    "* `artist` — имя исполнителя;\n",
    "* `genre` — название жанра;\n",
    "* `City` — город пользователя;\n",
    "* `time` — время начала прослушивания;\n",
    "* `Day` — день недели.\n",
    "\n",
    "В названиях колонок видны три нарушения стиля:\n",
    "1. Строчные буквы сочетаются с прописными.\n",
    "2. Встречаются пробелы.\n",
    "3. `userID` нужно переписать как `user_id`\n",
    "\n",
    "\n",
    "\n",
    "Количество значений в столбцах различается. Значит, в данных есть пропущенные значения.\n"
   ]
  },
  {
   "cell_type": "markdown",
   "metadata": {
    "id": "MCB6-dXG_Zct"
   },
   "source": [
    "**Выводы**\n",
    "\n",
    "В каждой строке таблицы — данные о прослушанном треке. Часть колонок описывает саму композицию: название, исполнителя и жанр. Остальные данные рассказывают о пользователе: из какого он города, когда он слушал музыку. \n",
    "\n",
    "Предварительно можно утверждать, что, данных достаточно для проверки гипотез. Но встречаются пропуски в данных, а в названиях колонок — расхождения с хорошим стилем.\n",
    "\n",
    "Чтобы двигаться дальше, нужно устранить проблемы в данных."
   ]
  },
  {
   "cell_type": "markdown",
   "metadata": {
    "id": "SjYF6Ub9_Zct"
   },
   "source": [
    "## Предобработка данных"
   ]
  },
  {
   "cell_type": "markdown",
   "metadata": {
    "id": "dIaKXr29_Zct"
   },
   "source": [
    "### Стиль заголовков\n"
   ]
  },
  {
   "cell_type": "code",
   "execution_count": 5,
   "metadata": {
    "id": "oKOTdF_Q_Zct"
   },
   "outputs": [
    {
     "data": {
      "text/plain": [
       "Index(['  userID', 'Track', 'artist', 'genre', '  City  ', 'time', 'Day'], dtype='object')"
      ]
     },
     "execution_count": 5,
     "metadata": {},
     "output_type": "execute_result"
    }
   ],
   "source": [
    "df.columns# перечень названий столбцов таблицы df"
   ]
  },
  {
   "cell_type": "code",
   "execution_count": 6,
   "metadata": {
    "id": "ISlFqs5y_Zct"
   },
   "outputs": [],
   "source": [
    "df=df.rename(columns={'  userID':'user_id','Track':'track','  City  ':'city','Day':'day'}) # переименование столбцов"
   ]
  },
  {
   "cell_type": "code",
   "execution_count": 7,
   "metadata": {
    "id": "d4NOAmTW_Zct"
   },
   "outputs": [
    {
     "data": {
      "text/plain": [
       "Index(['user_id', 'track', 'artist', 'genre', 'city', 'time', 'day'], dtype='object')"
      ]
     },
     "execution_count": 7,
     "metadata": {},
     "output_type": "execute_result"
    }
   ],
   "source": [
    "df.columns# проверка результатов - перечень названий столбцов"
   ]
  },
  {
   "cell_type": "markdown",
   "metadata": {
    "id": "5ISfbcfY_Zct"
   },
   "source": [
    "### Пропуски значений"
   ]
  },
  {
   "cell_type": "code",
   "execution_count": 8,
   "metadata": {
    "id": "RskX29qr_Zct"
   },
   "outputs": [
    {
     "data": {
      "text/plain": [
       "user_id       0\n",
       "track      1231\n",
       "artist     7203\n",
       "genre      1198\n",
       "city          0\n",
       "time          0\n",
       "day           0\n",
       "dtype: int64"
      ]
     },
     "execution_count": 8,
     "metadata": {},
     "output_type": "execute_result"
    }
   ],
   "source": [
    "df.isna().sum() # подсчёт пропусков"
   ]
  },
  {
   "cell_type": "markdown",
   "metadata": {
    "id": "qubhgnlO_Zct"
   },
   "source": [
    "Не все пропущенные значения влияют на исследование. Так в `track` и `artist` пропуски не важны для нашей работы. Достаточно заменить их явными обозначениями.\n",
    "\n",
    "Но пропуски в `genre` могут помешать сравнению музыкальных вкусов в Москве и Санкт-Петербурге. На практике было бы правильно установить причину пропусков и восстановить данные. Такой возможности нет в учебном проекте. Придётся:\n",
    "* заполнить и эти пропуски явными обозначениями,\n",
    "* оценить, насколько они повредят расчётам. "
   ]
  },
  {
   "cell_type": "code",
   "execution_count": 9,
   "metadata": {
    "id": "KplB5qWs_Zct"
   },
   "outputs": [],
   "source": [
    "df['track']=df['track'].fillna('unknown')\n",
    "df['artist']=df['artist'].fillna('unknown')\n",
    "df['genre']=df['genre'].fillna('unknown')# замена пропущенных значений на 'unknown'   "
   ]
  },
  {
   "cell_type": "code",
   "execution_count": 10,
   "metadata": {
    "id": "Tq4nYRX4_Zct"
   },
   "outputs": [
    {
     "data": {
      "text/plain": [
       "user_id    0\n",
       "track      0\n",
       "artist     0\n",
       "genre      0\n",
       "city       0\n",
       "time       0\n",
       "day        0\n",
       "dtype: int64"
      ]
     },
     "execution_count": 10,
     "metadata": {},
     "output_type": "execute_result"
    }
   ],
   "source": [
    "df.isna().sum() # подсчёт пропусков"
   ]
  },
  {
   "cell_type": "markdown",
   "metadata": {
    "id": "BWKRtBJ3_Zct"
   },
   "source": [
    "### Дубликаты"
   ]
  },
  {
   "cell_type": "code",
   "execution_count": 11,
   "metadata": {
    "id": "36eES_S0_Zct"
   },
   "outputs": [
    {
     "data": {
      "text/plain": [
       "3826"
      ]
     },
     "execution_count": 11,
     "metadata": {},
     "output_type": "execute_result"
    }
   ],
   "source": [
    "df.duplicated().sum() # подсчёт явных дубликатов\n"
   ]
  },
  {
   "cell_type": "code",
   "execution_count": 12,
   "metadata": {
    "id": "exFHq6tt_Zct"
   },
   "outputs": [],
   "source": [
    "df=df.drop_duplicates().reset_index(drop=True) # удаление явных дубликатов (с удалением старых индексов и формированием новых)"
   ]
  },
  {
   "cell_type": "code",
   "execution_count": 39,
   "metadata": {},
   "outputs": [
    {
     "name": "stdout",
     "output_type": "stream",
     "text": [
      "Количество пропусков: 0\n"
     ]
    }
   ],
   "source": [
    "print(\"Количество пропусков: {}\".format(df.duplicated().sum()))"
   ]
  },
  {
   "cell_type": "code",
   "execution_count": 14,
   "metadata": {
    "id": "JIUcqzZN_Zct",
    "scrolled": true
   },
   "outputs": [
    {
     "data": {
      "text/plain": [
       "array(['acid', 'acoustic', 'action', 'adult', 'africa', 'afrikaans',\n",
       "       'alternative', 'alternativepunk', 'ambient', 'americana',\n",
       "       'animated', 'anime', 'arabesk', 'arabic', 'arena',\n",
       "       'argentinetango', 'art', 'audiobook', 'author', 'avantgarde',\n",
       "       'axé', 'baile', 'balkan', 'beats', 'bigroom', 'black', 'bluegrass',\n",
       "       'blues', 'bollywood', 'bossa', 'brazilian', 'breakbeat', 'breaks',\n",
       "       'broadway', 'cantautori', 'cantopop', 'canzone', 'caribbean',\n",
       "       'caucasian', 'celtic', 'chamber', 'chanson', 'children', 'chill',\n",
       "       'chinese', 'choral', 'christian', 'christmas', 'classical',\n",
       "       'classicmetal', 'club', 'colombian', 'comedy', 'conjazz',\n",
       "       'contemporary', 'country', 'cuban', 'dance', 'dancehall',\n",
       "       'dancepop', 'dark', 'death', 'deep', 'deutschrock', 'deutschspr',\n",
       "       'dirty', 'disco', 'dnb', 'documentary', 'downbeat', 'downtempo',\n",
       "       'drum', 'dub', 'dubstep', 'eastern', 'easy', 'electronic',\n",
       "       'electropop', 'emo', 'entehno', 'epicmetal', 'estrada', 'ethnic',\n",
       "       'eurofolk', 'european', 'experimental', 'extrememetal', 'fado',\n",
       "       'fairytail', 'film', 'fitness', 'flamenco', 'folk', 'folklore',\n",
       "       'folkmetal', 'folkrock', 'folktronica', 'forró', 'frankreich',\n",
       "       'französisch', 'french', 'funk', 'future', 'gangsta', 'garage',\n",
       "       'german', 'ghazal', 'gitarre', 'glitch', 'gospel', 'gothic',\n",
       "       'grime', 'grunge', 'gypsy', 'handsup', \"hard'n'heavy\", 'hardcore',\n",
       "       'hardstyle', 'hardtechno', 'hip', 'hip-hop', 'hiphop',\n",
       "       'historisch', 'holiday', 'hop', 'horror', 'house', 'hymn', 'idm',\n",
       "       'independent', 'indian', 'indie', 'indipop', 'industrial',\n",
       "       'inspirational', 'instrumental', 'international', 'irish', 'jam',\n",
       "       'japanese', 'jazz', 'jewish', 'jpop', 'jungle', 'k-pop',\n",
       "       'karadeniz', 'karaoke', 'kayokyoku', 'korean', 'laiko', 'latin',\n",
       "       'latino', 'leftfield', 'local', 'lounge', 'loungeelectronic',\n",
       "       'lovers', 'malaysian', 'mandopop', 'marschmusik', 'meditative',\n",
       "       'mediterranean', 'melodic', 'metal', 'metalcore', 'mexican',\n",
       "       'middle', 'minimal', 'miscellaneous', 'modern', 'mood', 'mpb',\n",
       "       'muslim', 'native', 'neoklassik', 'neue', 'new', 'newage',\n",
       "       'newwave', 'nu', 'nujazz', 'numetal', 'oceania', 'old', 'opera',\n",
       "       'orchestral', 'other', 'piano', 'podcasts', 'pop', 'popdance',\n",
       "       'popelectronic', 'popeurodance', 'poprussian', 'post',\n",
       "       'posthardcore', 'postrock', 'power', 'progmetal', 'progressive',\n",
       "       'psychedelic', 'punjabi', 'punk', 'quebecois', 'ragga', 'ram',\n",
       "       'rancheras', 'rap', 'rave', 'reggae', 'reggaeton', 'regional',\n",
       "       'relax', 'religious', 'retro', 'rhythm', 'rnb', 'rnr', 'rock',\n",
       "       'rockabilly', 'rockalternative', 'rockindie', 'rockother',\n",
       "       'romance', 'roots', 'ruspop', 'rusrap', 'rusrock', 'russian',\n",
       "       'salsa', 'samba', 'scenic', 'schlager', 'self', 'sertanejo',\n",
       "       'shanson', 'shoegazing', 'showtunes', 'singer', 'ska', 'skarock',\n",
       "       'slow', 'smooth', 'soft', 'soul', 'soulful', 'sound', 'soundtrack',\n",
       "       'southern', 'specialty', 'speech', 'spiritual', 'sport',\n",
       "       'stonerrock', 'surf', 'swing', 'synthpop', 'synthrock',\n",
       "       'sängerportrait', 'tango', 'tanzorchester', 'taraftar', 'tatar',\n",
       "       'tech', 'techno', 'teen', 'thrash', 'top', 'traditional',\n",
       "       'tradjazz', 'trance', 'tribal', 'trip', 'triphop', 'tropical',\n",
       "       'türk', 'türkçe', 'ukrrock', 'unknown', 'urban', 'uzbek',\n",
       "       'variété', 'vi', 'videogame', 'vocal', 'western', 'world',\n",
       "       'worldbeat', 'ïîï', 'электроника'], dtype=object)"
      ]
     },
     "execution_count": 14,
     "metadata": {},
     "output_type": "execute_result"
    }
   ],
   "source": [
    "df=df.sort_values(by='genre') #сортировка по жанру\n",
    "df['genre'].unique() #Просмотр уникальных названий жанров"
   ]
  },
  {
   "cell_type": "code",
   "execution_count": 15,
   "metadata": {
    "id": "ErNDkmns_Zct"
   },
   "outputs": [],
   "source": [
    "def replace_wrong_genres(wrong_genres,correct_genre):\n",
    "    for i in wrong_genres:\n",
    "        df['genre']=df['genre'].replace(i,correct_genre)\n",
    "# Функция для замены неявных дубликатов"
   ]
  },
  {
   "cell_type": "code",
   "execution_count": 16,
   "metadata": {
    "id": "YN5i2hpmSo09"
   },
   "outputs": [],
   "source": [
    "duplicates = ['hip','hop','hip-hop']\n",
    "genres = 'hiphop'\n",
    "replace_wrong_genres(duplicates, genres) # Устранение неявных дубликатов\n",
    "\n",
    "duplicates = ['электроника']\n",
    "genres = 'electronic'\n",
    "replace_wrong_genres(duplicates, genres) # Устранение неявных дубликатов\n",
    "\n",
    "duplicates = ['ïîï']\n",
    "genres = 'unknown'\n",
    "replace_wrong_genres(duplicates, genres) # Устранение неявных дубликатов"
   ]
  },
  {
   "cell_type": "code",
   "execution_count": 17,
   "metadata": {
    "id": "wvixALnFG15m",
    "scrolled": true
   },
   "outputs": [
    {
     "data": {
      "text/plain": [
       "0"
      ]
     },
     "metadata": {},
     "output_type": "display_data"
    },
    {
     "data": {
      "text/plain": [
       "array(['acid', 'acoustic', 'action', 'adult', 'africa', 'afrikaans',\n",
       "       'alternative', 'alternativepunk', 'ambient', 'americana',\n",
       "       'animated', 'anime', 'arabesk', 'arabic', 'arena',\n",
       "       'argentinetango', 'art', 'audiobook', 'author', 'avantgarde',\n",
       "       'axé', 'baile', 'balkan', 'beats', 'bigroom', 'black', 'bluegrass',\n",
       "       'blues', 'bollywood', 'bossa', 'brazilian', 'breakbeat', 'breaks',\n",
       "       'broadway', 'cantautori', 'cantopop', 'canzone', 'caribbean',\n",
       "       'caucasian', 'celtic', 'chamber', 'chanson', 'children', 'chill',\n",
       "       'chinese', 'choral', 'christian', 'christmas', 'classical',\n",
       "       'classicmetal', 'club', 'colombian', 'comedy', 'conjazz',\n",
       "       'contemporary', 'country', 'cuban', 'dance', 'dancehall',\n",
       "       'dancepop', 'dark', 'death', 'deep', 'deutschrock', 'deutschspr',\n",
       "       'dirty', 'disco', 'dnb', 'documentary', 'downbeat', 'downtempo',\n",
       "       'drum', 'dub', 'dubstep', 'eastern', 'easy', 'electronic',\n",
       "       'electropop', 'emo', 'entehno', 'epicmetal', 'estrada', 'ethnic',\n",
       "       'eurofolk', 'european', 'experimental', 'extrememetal', 'fado',\n",
       "       'fairytail', 'film', 'fitness', 'flamenco', 'folk', 'folklore',\n",
       "       'folkmetal', 'folkrock', 'folktronica', 'forró', 'frankreich',\n",
       "       'französisch', 'french', 'funk', 'future', 'gangsta', 'garage',\n",
       "       'german', 'ghazal', 'gitarre', 'glitch', 'gospel', 'gothic',\n",
       "       'grime', 'grunge', 'gypsy', 'handsup', \"hard'n'heavy\", 'hardcore',\n",
       "       'hardstyle', 'hardtechno', 'hiphop', 'historisch', 'holiday',\n",
       "       'horror', 'house', 'hymn', 'idm', 'independent', 'indian', 'indie',\n",
       "       'indipop', 'industrial', 'inspirational', 'instrumental',\n",
       "       'international', 'irish', 'jam', 'japanese', 'jazz', 'jewish',\n",
       "       'jpop', 'jungle', 'k-pop', 'karadeniz', 'karaoke', 'kayokyoku',\n",
       "       'korean', 'laiko', 'latin', 'latino', 'leftfield', 'local',\n",
       "       'lounge', 'loungeelectronic', 'lovers', 'malaysian', 'mandopop',\n",
       "       'marschmusik', 'meditative', 'mediterranean', 'melodic', 'metal',\n",
       "       'metalcore', 'mexican', 'middle', 'minimal', 'miscellaneous',\n",
       "       'modern', 'mood', 'mpb', 'muslim', 'native', 'neoklassik', 'neue',\n",
       "       'new', 'newage', 'newwave', 'nu', 'nujazz', 'numetal', 'oceania',\n",
       "       'old', 'opera', 'orchestral', 'other', 'piano', 'podcasts', 'pop',\n",
       "       'popdance', 'popelectronic', 'popeurodance', 'poprussian', 'post',\n",
       "       'posthardcore', 'postrock', 'power', 'progmetal', 'progressive',\n",
       "       'psychedelic', 'punjabi', 'punk', 'quebecois', 'ragga', 'ram',\n",
       "       'rancheras', 'rap', 'rave', 'reggae', 'reggaeton', 'regional',\n",
       "       'relax', 'religious', 'retro', 'rhythm', 'rnb', 'rnr', 'rock',\n",
       "       'rockabilly', 'rockalternative', 'rockindie', 'rockother',\n",
       "       'romance', 'roots', 'ruspop', 'rusrap', 'rusrock', 'russian',\n",
       "       'salsa', 'samba', 'scenic', 'schlager', 'self', 'sertanejo',\n",
       "       'shanson', 'shoegazing', 'showtunes', 'singer', 'ska', 'skarock',\n",
       "       'slow', 'smooth', 'soft', 'soul', 'soulful', 'sound', 'soundtrack',\n",
       "       'southern', 'specialty', 'speech', 'spiritual', 'sport',\n",
       "       'stonerrock', 'surf', 'swing', 'synthpop', 'synthrock',\n",
       "       'sängerportrait', 'tango', 'tanzorchester', 'taraftar', 'tatar',\n",
       "       'tech', 'techno', 'teen', 'thrash', 'top', 'traditional',\n",
       "       'tradjazz', 'trance', 'tribal', 'trip', 'triphop', 'tropical',\n",
       "       'türk', 'türkçe', 'ukrrock', 'unknown', 'urban', 'uzbek',\n",
       "       'variété', 'vi', 'videogame', 'vocal', 'western', 'world',\n",
       "       'worldbeat'], dtype=object)"
      ]
     },
     "execution_count": 17,
     "metadata": {},
     "output_type": "execute_result"
    }
   ],
   "source": [
    "display(df.duplicated().sum())# проверка на явные дубликаты после изменения данных\n",
    "\n",
    "df['genre'].unique()# Проверка на неявные дубликаты"
   ]
  },
  {
   "cell_type": "markdown",
   "metadata": {
    "id": "jz6a9-7HQUDd"
   },
   "source": [
    "**Выводы**\n",
    "\n",
    "Предобработка обнаружила три проблемы в данных:\n",
    "\n",
    "- нарушения в стиле заголовков,\n",
    "- пропущенные значения,\n",
    "- дубликаты — явные и неявные.\n",
    "\n",
    "Исправили заголовки, чтобы упростить работу с таблицей. Без дубликатов исследование станет более точным.\n",
    "\n",
    "Пропущенные значения заменили на `'unknown'`. Ещё предстоит увидеть, не повредят ли исследованию пропуски в колонке `genre`.\n",
    "\n",
    "Теперь можно перейти к проверке гипотез. "
   ]
  },
  {
   "cell_type": "markdown",
   "metadata": {
    "id": "WttZHXH0SqKk"
   },
   "source": [
    "## Проверка гипотез"
   ]
  },
  {
   "cell_type": "markdown",
   "metadata": {
    "id": "Im936VVi_Zcu"
   },
   "source": [
    "### Сравнение поведения пользователей двух столиц"
   ]
  },
  {
   "cell_type": "markdown",
   "metadata": {
    "id": "nwt_MuaL_Zcu"
   },
   "source": [
    "Первая гипотеза утверждает, что пользователи по-разному слушают музыку в Москве и Санкт-Петербурге. Проверти это предположение по данным о трёх днях недели — понедельнике, среде и пятнице. Для этого:\n",
    "\n",
    "* Разделите пользователей Москвы и Санкт-Петербурга\n",
    "* Сравните, сколько треков послушала каждая группа пользователей в понедельник, среду и пятницу.\n"
   ]
  },
  {
   "cell_type": "code",
   "execution_count": 18,
   "metadata": {
    "id": "0_Qs96oh_Zcu",
    "scrolled": true
   },
   "outputs": [
    {
     "data": {
      "text/plain": [
       "city\n",
       "Moscow              42741\n",
       "Saint-Petersburg    18512\n",
       "Name: user_id, dtype: int64"
      ]
     },
     "execution_count": 18,
     "metadata": {},
     "output_type": "execute_result"
    }
   ],
   "source": [
    "df.groupby('city')['user_id'].count()# Подсчёт прослушиваний в каждом городе"
   ]
  },
  {
   "cell_type": "code",
   "execution_count": 19,
   "metadata": {
    "id": "uZMKjiJz_Zcu"
   },
   "outputs": [
    {
     "data": {
      "text/plain": [
       "day\n",
       "Friday       21840\n",
       "Monday       21354\n",
       "Wednesday    18059\n",
       "Name: user_id, dtype: int64"
      ]
     },
     "execution_count": 19,
     "metadata": {},
     "output_type": "execute_result"
    }
   ],
   "source": [
    "df.groupby('day')['user_id'].count()# Подсчёт прослушиваний в каждый из трёх дней"
   ]
  },
  {
   "cell_type": "markdown",
   "metadata": {
    "id": "cC2tNrlL_Zcu"
   },
   "source": [
    "В среднем пользователи из двух городов менее активны по средам. Но картина может измениться, если рассмотреть каждый город в отдельности."
   ]
  },
  {
   "cell_type": "code",
   "execution_count": 20,
   "metadata": {
    "id": "Nz3GdQB1_Zcu"
   },
   "outputs": [],
   "source": [
    "# <создание функции number_tracks()>\n",
    "def number_tracks(day,city): # Объявляется функция с двумя параметрами: day, city.\n",
    "    track_list = df[(df['day']==day)&(df['city']==city)]\n",
    "# В переменной track_list сохраняются те строки таблицы df, для которых \n",
    "# значение в столбце 'day' равно параметру day и одновременно значение\n",
    "# в столбце 'city' равно параметру city (используйте последовательную фильтрацию\n",
    "# с помощью логической индексации).\n",
    "    track_list_count=track_list['user_id'].count()\n",
    "# В переменной track_list_count сохраняется число значений столбца 'user_id',\n",
    "# рассчитанное методом count() для таблицы track_list.\n",
    "    return track_list_count\n",
    "# Функция возвращает число - значение track_list_count.\n",
    "\n",
    "# Функция для подсчёта прослушиваний для конкретного города и дня.\n",
    "# С помощью последовательной фильтрации с логической индексацией она \n",
    "# сначала получит из исходной таблицы строки с нужным днём,\n",
    "# затем из результата отфильтрует строки с нужным городом,\n",
    "# методом count() посчитает количество значений в колонке user_id. \n",
    "# Это количество функция вернёт в качестве результата"
   ]
  },
  {
   "cell_type": "code",
   "execution_count": 21,
   "metadata": {
    "id": "rJcRATNQ_Zcu"
   },
   "outputs": [
    {
     "data": {
      "text/plain": [
       "15740"
      ]
     },
     "execution_count": 21,
     "metadata": {},
     "output_type": "execute_result"
    }
   ],
   "source": [
    "number_tracks('Monday','Moscow')# количество прослушиваний в Москве по понедельникам"
   ]
  },
  {
   "cell_type": "code",
   "execution_count": 22,
   "metadata": {
    "id": "hq_ncZ5T_Zcu"
   },
   "outputs": [
    {
     "data": {
      "text/plain": [
       "5614"
      ]
     },
     "execution_count": 22,
     "metadata": {},
     "output_type": "execute_result"
    }
   ],
   "source": [
    "number_tracks('Monday','Saint-Petersburg')# количество прослушиваний в Санкт-Петербурге по понедельникам"
   ]
  },
  {
   "cell_type": "code",
   "execution_count": 23,
   "metadata": {
    "id": "_NTy2VPU_Zcu"
   },
   "outputs": [
    {
     "data": {
      "text/plain": [
       "11056"
      ]
     },
     "execution_count": 23,
     "metadata": {},
     "output_type": "execute_result"
    }
   ],
   "source": [
    "number_tracks('Wednesday','Moscow')# количество прослушиваний в Москве по средам"
   ]
  },
  {
   "cell_type": "code",
   "execution_count": 24,
   "metadata": {
    "id": "j2y3TAwo_Zcu"
   },
   "outputs": [
    {
     "data": {
      "text/plain": [
       "7003"
      ]
     },
     "execution_count": 24,
     "metadata": {},
     "output_type": "execute_result"
    }
   ],
   "source": [
    "number_tracks('Wednesday','Saint-Petersburg')# количество прослушиваний в Санкт-Петербурге по средам"
   ]
  },
  {
   "cell_type": "code",
   "execution_count": 25,
   "metadata": {
    "id": "vYDw5u_K_Zcu"
   },
   "outputs": [
    {
     "data": {
      "text/plain": [
       "15945"
      ]
     },
     "execution_count": 25,
     "metadata": {},
     "output_type": "execute_result"
    }
   ],
   "source": [
    "number_tracks('Friday','Moscow')# количество прослушиваний в Москве по пятницам"
   ]
  },
  {
   "cell_type": "code",
   "execution_count": 26,
   "metadata": {
    "id": "8_yzFtW3_Zcu"
   },
   "outputs": [
    {
     "data": {
      "text/plain": [
       "5895"
      ]
     },
     "execution_count": 26,
     "metadata": {},
     "output_type": "execute_result"
    }
   ],
   "source": [
    "number_tracks('Friday','Saint-Petersburg')# количество прослушиваний в Санкт-Петербурге по пятницам "
   ]
  },
  {
   "cell_type": "code",
   "execution_count": 27,
   "metadata": {
    "id": "APAcLpOr_Zcu"
   },
   "outputs": [
    {
     "data": {
      "text/html": [
       "<div>\n",
       "<style scoped>\n",
       "    .dataframe tbody tr th:only-of-type {\n",
       "        vertical-align: middle;\n",
       "    }\n",
       "\n",
       "    .dataframe tbody tr th {\n",
       "        vertical-align: top;\n",
       "    }\n",
       "\n",
       "    .dataframe thead th {\n",
       "        text-align: right;\n",
       "    }\n",
       "</style>\n",
       "<table border=\"1\" class=\"dataframe\">\n",
       "  <thead>\n",
       "    <tr style=\"text-align: right;\">\n",
       "      <th></th>\n",
       "      <th>city</th>\n",
       "      <th>5614</th>\n",
       "      <th>wednesday</th>\n",
       "      <th>friday</th>\n",
       "    </tr>\n",
       "  </thead>\n",
       "  <tbody>\n",
       "    <tr>\n",
       "      <td>0</td>\n",
       "      <td>Moscow</td>\n",
       "      <td>15740</td>\n",
       "      <td>11056</td>\n",
       "      <td>15945</td>\n",
       "    </tr>\n",
       "    <tr>\n",
       "      <td>1</td>\n",
       "      <td>Saint-Petersburg</td>\n",
       "      <td>5614</td>\n",
       "      <td>7003</td>\n",
       "      <td>5895</td>\n",
       "    </tr>\n",
       "  </tbody>\n",
       "</table>\n",
       "</div>"
      ],
      "text/plain": [
       "               city   5614  wednesday  friday\n",
       "0            Moscow  15740      11056   15945\n",
       "1  Saint-Petersburg   5614       7003    5895"
      ]
     },
     "execution_count": 27,
     "metadata": {},
     "output_type": "execute_result"
    }
   ],
   "source": [
    "data=[['Moscow', 15740, 11056, 15945],\n",
    "       ['Saint-Petersburg', 5614, 7003, 5895]]\n",
    "columns=['city',5614,'wednesday','friday']\n",
    "table=pd.DataFrame(data=data, columns=columns) \n",
    "table # Таблица с результатами"
   ]
  },
  {
   "cell_type": "markdown",
   "metadata": {
    "id": "-EgPIHYu_Zcu"
   },
   "source": [
    "**Выводы**\n",
    "\n",
    "Данные показывают разницу поведения пользователей:\n",
    "\n",
    "- В Москве пик прослушиваний приходится на понедельник и пятницу, а в среду заметен спад.\n",
    "- В Петербурге, наоборот, больше слушают музыку по средам. Активность в понедельник и пятницу здесь почти в равной мере уступает среде.\n",
    "\n",
    "Значит, данные говорят в пользу первой гипотезы."
   ]
  },
  {
   "cell_type": "markdown",
   "metadata": {
    "id": "atZAxtq4_Zcu"
   },
   "source": [
    "### Музыка в начале и в конце недели"
   ]
  },
  {
   "cell_type": "markdown",
   "metadata": {
    "id": "eXrQqXFH_Zcu"
   },
   "source": [
    "Согласно второй гипотезе, утром в понедельник в Москве преобладают одни жанры, а в Петербурге — другие. Так же и вечером пятницы преобладают разные жанры — в зависимости от города."
   ]
  },
  {
   "cell_type": "code",
   "execution_count": 28,
   "metadata": {
    "id": "qeaFfM_P_Zcu"
   },
   "outputs": [
    {
     "data": {
      "text/html": [
       "<div>\n",
       "<style scoped>\n",
       "    .dataframe tbody tr th:only-of-type {\n",
       "        vertical-align: middle;\n",
       "    }\n",
       "\n",
       "    .dataframe tbody tr th {\n",
       "        vertical-align: top;\n",
       "    }\n",
       "\n",
       "    .dataframe thead th {\n",
       "        text-align: right;\n",
       "    }\n",
       "</style>\n",
       "<table border=\"1\" class=\"dataframe\">\n",
       "  <thead>\n",
       "    <tr style=\"text-align: right;\">\n",
       "      <th></th>\n",
       "      <th>user_id</th>\n",
       "      <th>track</th>\n",
       "      <th>artist</th>\n",
       "      <th>genre</th>\n",
       "      <th>city</th>\n",
       "      <th>time</th>\n",
       "      <th>day</th>\n",
       "    </tr>\n",
       "  </thead>\n",
       "  <tbody>\n",
       "    <tr>\n",
       "      <td>31916</td>\n",
       "      <td>C40BC5DF</td>\n",
       "      <td>Shot in the Dark</td>\n",
       "      <td>Four80East</td>\n",
       "      <td>acid</td>\n",
       "      <td>Moscow</td>\n",
       "      <td>09:44:12</td>\n",
       "      <td>Friday</td>\n",
       "    </tr>\n",
       "    <tr>\n",
       "      <td>57580</td>\n",
       "      <td>23C64044</td>\n",
       "      <td>Don't Stop Me Now</td>\n",
       "      <td>Acoustic Heartstrings</td>\n",
       "      <td>acoustic</td>\n",
       "      <td>Moscow</td>\n",
       "      <td>13:30:01</td>\n",
       "      <td>Wednesday</td>\n",
       "    </tr>\n",
       "    <tr>\n",
       "      <td>20264</td>\n",
       "      <td>B02ED3AB</td>\n",
       "      <td>Ой да</td>\n",
       "      <td>unknown</td>\n",
       "      <td>acoustic</td>\n",
       "      <td>Moscow</td>\n",
       "      <td>13:31:03</td>\n",
       "      <td>Wednesday</td>\n",
       "    </tr>\n",
       "    <tr>\n",
       "      <td>37784</td>\n",
       "      <td>77D3A7D9</td>\n",
       "      <td>Ой да</td>\n",
       "      <td>unknown</td>\n",
       "      <td>acoustic</td>\n",
       "      <td>Moscow</td>\n",
       "      <td>14:27:34</td>\n",
       "      <td>Monday</td>\n",
       "    </tr>\n",
       "    <tr>\n",
       "      <td>26378</td>\n",
       "      <td>4D96EB78</td>\n",
       "      <td>Eventuality</td>\n",
       "      <td>Jack Trammell</td>\n",
       "      <td>action</td>\n",
       "      <td>Moscow</td>\n",
       "      <td>21:22:51</td>\n",
       "      <td>Monday</td>\n",
       "    </tr>\n",
       "  </tbody>\n",
       "</table>\n",
       "</div>"
      ],
      "text/plain": [
       "        user_id              track                 artist     genre    city  \\\n",
       "31916  C40BC5DF   Shot in the Dark             Four80East      acid  Moscow   \n",
       "57580  23C64044  Don't Stop Me Now  Acoustic Heartstrings  acoustic  Moscow   \n",
       "20264  B02ED3AB              Ой да                unknown  acoustic  Moscow   \n",
       "37784  77D3A7D9              Ой да                unknown  acoustic  Moscow   \n",
       "26378  4D96EB78        Eventuality          Jack Trammell    action  Moscow   \n",
       "\n",
       "           time        day  \n",
       "31916  09:44:12     Friday  \n",
       "57580  13:30:01  Wednesday  \n",
       "20264  13:31:03  Wednesday  \n",
       "37784  14:27:34     Monday  \n",
       "26378  21:22:51     Monday  "
      ]
     },
     "execution_count": 28,
     "metadata": {},
     "output_type": "execute_result"
    }
   ],
   "source": [
    "moscow_general=df[(df['city']=='Moscow')]  \n",
    "# получение таблицы moscow_general из тех строк таблицы df, \n",
    "# для которых значение в столбце 'city' равно 'Moscow'\n",
    "moscow_general.head()"
   ]
  },
  {
   "cell_type": "code",
   "execution_count": 29,
   "metadata": {
    "id": "ORaVRKto_Zcu"
   },
   "outputs": [
    {
     "data": {
      "text/html": [
       "<div>\n",
       "<style scoped>\n",
       "    .dataframe tbody tr th:only-of-type {\n",
       "        vertical-align: middle;\n",
       "    }\n",
       "\n",
       "    .dataframe tbody tr th {\n",
       "        vertical-align: top;\n",
       "    }\n",
       "\n",
       "    .dataframe thead th {\n",
       "        text-align: right;\n",
       "    }\n",
       "</style>\n",
       "<table border=\"1\" class=\"dataframe\">\n",
       "  <thead>\n",
       "    <tr style=\"text-align: right;\">\n",
       "      <th></th>\n",
       "      <th>user_id</th>\n",
       "      <th>track</th>\n",
       "      <th>artist</th>\n",
       "      <th>genre</th>\n",
       "      <th>city</th>\n",
       "      <th>time</th>\n",
       "      <th>day</th>\n",
       "    </tr>\n",
       "  </thead>\n",
       "  <tbody>\n",
       "    <tr>\n",
       "      <td>3636</td>\n",
       "      <td>F10919ED</td>\n",
       "      <td>Ready For The Fire</td>\n",
       "      <td>Valley Of Wolves</td>\n",
       "      <td>acoustic</td>\n",
       "      <td>Saint-Petersburg</td>\n",
       "      <td>21:33:18</td>\n",
       "      <td>Monday</td>\n",
       "    </tr>\n",
       "    <tr>\n",
       "      <td>14611</td>\n",
       "      <td>1C7D9E90</td>\n",
       "      <td>Prelude – Ne Me Qui Te Pas</td>\n",
       "      <td>unknown</td>\n",
       "      <td>acoustic</td>\n",
       "      <td>Saint-Petersburg</td>\n",
       "      <td>21:47:42</td>\n",
       "      <td>Friday</td>\n",
       "    </tr>\n",
       "    <tr>\n",
       "      <td>9393</td>\n",
       "      <td>B24158ED</td>\n",
       "      <td>Cellophane</td>\n",
       "      <td>Sara Jackson-Holman</td>\n",
       "      <td>adult</td>\n",
       "      <td>Saint-Petersburg</td>\n",
       "      <td>14:18:42</td>\n",
       "      <td>Monday</td>\n",
       "    </tr>\n",
       "    <tr>\n",
       "      <td>13408</td>\n",
       "      <td>BF3BEA4</td>\n",
       "      <td>Sweet Love</td>\n",
       "      <td>Anita Baker</td>\n",
       "      <td>adult</td>\n",
       "      <td>Saint-Petersburg</td>\n",
       "      <td>14:56:07</td>\n",
       "      <td>Monday</td>\n",
       "    </tr>\n",
       "    <tr>\n",
       "      <td>34021</td>\n",
       "      <td>4DCD818F</td>\n",
       "      <td>Blue Skies Again</td>\n",
       "      <td>Jessica Lea Mayfield</td>\n",
       "      <td>adult</td>\n",
       "      <td>Saint-Petersburg</td>\n",
       "      <td>09:05:48</td>\n",
       "      <td>Wednesday</td>\n",
       "    </tr>\n",
       "  </tbody>\n",
       "</table>\n",
       "</div>"
      ],
      "text/plain": [
       "        user_id                       track                artist     genre  \\\n",
       "3636   F10919ED          Ready For The Fire      Valley Of Wolves  acoustic   \n",
       "14611  1C7D9E90  Prelude – Ne Me Qui Te Pas               unknown  acoustic   \n",
       "9393   B24158ED                  Cellophane   Sara Jackson-Holman     adult   \n",
       "13408   BF3BEA4                  Sweet Love           Anita Baker     adult   \n",
       "34021  4DCD818F            Blue Skies Again  Jessica Lea Mayfield     adult   \n",
       "\n",
       "                   city      time        day  \n",
       "3636   Saint-Petersburg  21:33:18     Monday  \n",
       "14611  Saint-Petersburg  21:47:42     Friday  \n",
       "9393   Saint-Petersburg  14:18:42     Monday  \n",
       "13408  Saint-Petersburg  14:56:07     Monday  \n",
       "34021  Saint-Petersburg  09:05:48  Wednesday  "
      ]
     },
     "execution_count": 29,
     "metadata": {},
     "output_type": "execute_result"
    }
   ],
   "source": [
    "spb_general=df[(df['city']=='Saint-Petersburg')] \n",
    "# получение таблицы spb_general из тех строк таблицы df,\n",
    "# для которых значение в столбце 'city' равно 'Saint-Petersburg'\n",
    "spb_general.head()"
   ]
  },
  {
   "cell_type": "code",
   "execution_count": 30,
   "metadata": {
    "id": "laJT9BYl_Zcu"
   },
   "outputs": [],
   "source": [
    "def genre_weekday(table, day, time1, time2): \n",
    "# Объявление функции genre_weekday() с параметрами table, day, time1, time2,\n",
    "# которая возвращает информацию о самых популярных жанрах в указанный день в\n",
    "# заданное время:\n",
    "\n",
    "    genre_df=df[(df['day']==day)&(df['time']>time1)&(df['time']<time2)]    \n",
    "# 1) в переменную genre_df сохраняются те строки переданного датафрейма table, для\n",
    "#    которых одновременно:\n",
    "#    - значение в столбце day равно значению аргумента day\n",
    "#    - значение в столбце time больше значения аргумента time1\n",
    "#    - значение в столбце time меньше значения аргумента time2\n",
    "#    Используйте последовательную фильтрацию с помощью логической индексации.\n",
    "             \n",
    "    genre_df_count=genre_df.groupby('genre')['genre'].count()          \n",
    "# 2) сгруппировать датафрейм genre_df по столбцу genre, взять один из его\n",
    "#    столбцов и посчитать методом count() количество записей для каждого из\n",
    "#    присутствующих жанров, получившийся Series записать в переменную\n",
    "#    genre_df_count\n",
    "\n",
    "    genre_df_sorted=genre_df_count.sort_values(ascending = False)\n",
    "# 3) отсортировать genre_df_count по убыванию встречаемости и сохранить\n",
    "#    в переменную genre_df_sorted\n",
    "\n",
    "    return genre_df_sorted.head(10)\n",
    "# 4) вернуть Series из 10 первых значений genre_df_sorted, это будут топ-10\n",
    "#    популярных жанров (в указанный день, в заданное время)"
   ]
  },
  {
   "cell_type": "code",
   "execution_count": 31,
   "metadata": {
    "id": "yz7itPUQ_Zcu"
   },
   "outputs": [
    {
     "data": {
      "text/plain": [
       "genre\n",
       "pop            999\n",
       "dance          731\n",
       "rock           636\n",
       "electronic     627\n",
       "hiphop         366\n",
       "ruspop         250\n",
       "rusrap         230\n",
       "alternative    222\n",
       "world          217\n",
       "classical      197\n",
       "Name: genre, dtype: int64"
      ]
     },
     "execution_count": 31,
     "metadata": {},
     "output_type": "execute_result"
    }
   ],
   "source": [
    "genre_weekday(moscow_general, 'Monday', '07:00', '11:00')\n",
    "# вызов функции для утра понедельника в Москве (вместо df — таблица moscow_general)\n",
    "# объекты, хранящие время, являются строками и сравниваются как строки\n",
    "# пример вызова: genre_weekday(moscow_general, 'Monday', '07:00', '11:00')"
   ]
  },
  {
   "cell_type": "code",
   "execution_count": 32,
   "metadata": {
    "id": "kwUcHPdy_Zcu",
    "scrolled": true
   },
   "outputs": [
    {
     "data": {
      "text/plain": [
       "genre\n",
       "pop            999\n",
       "dance          731\n",
       "rock           636\n",
       "electronic     627\n",
       "hiphop         366\n",
       "ruspop         250\n",
       "rusrap         230\n",
       "alternative    222\n",
       "world          217\n",
       "classical      197\n",
       "Name: genre, dtype: int64"
      ]
     },
     "execution_count": 32,
     "metadata": {},
     "output_type": "execute_result"
    }
   ],
   "source": [
    "genre_weekday(spb_general, 'Monday', '07:00', '11:00')# вызов функции для утра понедельника в Петербурге (вместо df — таблица spb_general)"
   ]
  },
  {
   "cell_type": "code",
   "execution_count": 33,
   "metadata": {
    "id": "EzXVRE1o_Zcu"
   },
   "outputs": [
    {
     "data": {
      "text/plain": [
       "genre\n",
       "pop            969\n",
       "rock           733\n",
       "dance          705\n",
       "electronic     698\n",
       "hiphop         370\n",
       "world          262\n",
       "alternative    226\n",
       "classical      223\n",
       "ruspop         217\n",
       "rusrap         201\n",
       "Name: genre, dtype: int64"
      ]
     },
     "execution_count": 33,
     "metadata": {},
     "output_type": "execute_result"
    }
   ],
   "source": [
    "genre_weekday(moscow_general, 'Friday', '17:00', '23:00')# вызов функции для вечера пятницы в Москве"
   ]
  },
  {
   "cell_type": "code",
   "execution_count": 34,
   "metadata": {
    "id": "JZaEKu5v_Zcu"
   },
   "outputs": [
    {
     "data": {
      "text/plain": [
       "genre\n",
       "pop            969\n",
       "rock           733\n",
       "dance          705\n",
       "electronic     698\n",
       "hiphop         370\n",
       "world          262\n",
       "alternative    226\n",
       "classical      223\n",
       "ruspop         217\n",
       "rusrap         201\n",
       "Name: genre, dtype: int64"
      ]
     },
     "execution_count": 34,
     "metadata": {},
     "output_type": "execute_result"
    }
   ],
   "source": [
    "genre_weekday(spb_general, 'Friday', '17:00', '23:00')# вызов функции для вечера пятницы в Петербурге"
   ]
  },
  {
   "cell_type": "markdown",
   "metadata": {
    "id": "wrCe4MNX_Zcu"
   },
   "source": [
    "**Выводы**\n",
    "\n",
    "Если сравнить топ-10 жанров в понедельник утром, можно сделать такие выводы:\n",
    "\n",
    "1. В Москве и Петербурге слушают похожую музыку. Единственное отличие — в московский рейтинг вошёл жанр “world”, а в петербургский — джаз и классика.\n",
    "\n",
    "2. В Москве пропущенных значений оказалось так много, что значение `'unknown'` заняло десятое место среди самых популярных жанров. Значит, пропущенные значения занимают существенную долю в данных и угрожают достоверности исследования.\n",
    "\n",
    "Вечер пятницы не меняет эту картину. Некоторые жанры поднимаются немного выше, другие спускаются, но в целом топ-10 остаётся тем же самым.\n",
    "\n",
    "Таким образом, вторая гипотеза подтвердилась лишь частично:\n",
    "* Пользователи слушают похожую музыку в начале недели и в конце.\n",
    "* Разница между Москвой и Петербургом не слишком выражена. В Москве чаще слушают русскую популярную музыку, в Петербурге — джаз.\n",
    "\n",
    "Однако пропуски в данных ставят под сомнение этот результат. В Москве их так много, что рейтинг топ-10 мог бы выглядеть иначе, если бы не утерянные  данные о жанрах."
   ]
  },
  {
   "cell_type": "markdown",
   "metadata": {
    "id": "JolODAqr_Zcu"
   },
   "source": [
    "### Жанровые предпочтения в Москве и Петербурге\n",
    "\n",
    "Гипотеза: Петербург — столица рэпа, музыку этого жанра там слушают чаще, чем в Москве.  А Москва — город контрастов, в котором, тем не менее, преобладает поп-музыка."
   ]
  },
  {
   "cell_type": "code",
   "execution_count": 35,
   "metadata": {
    "id": "r19lIPke_Zcu"
   },
   "outputs": [],
   "source": [
    "moscow_genres=moscow_general.groupby('genre')['genre'].count().sort_values(ascending = False)\n",
    "# одной строкой: группировка таблицы moscow_general по столбцу 'genre', \n",
    "# подсчёт числа значений 'genre' в этой группировке методом count(), \n",
    "# сортировка получившегося Series в порядке убывания и сохранение в moscow_genres\n"
   ]
  },
  {
   "cell_type": "code",
   "execution_count": 36,
   "metadata": {
    "id": "WhCSooF8_Zcv"
   },
   "outputs": [
    {
     "data": {
      "text/plain": [
       "genre\n",
       "pop            5892\n",
       "dance          4435\n",
       "rock           3965\n",
       "electronic     3786\n",
       "hiphop         2096\n",
       "classical      1616\n",
       "world          1432\n",
       "alternative    1379\n",
       "ruspop         1372\n",
       "rusrap         1161\n",
       "Name: genre, dtype: int64"
      ]
     },
     "execution_count": 36,
     "metadata": {},
     "output_type": "execute_result"
    }
   ],
   "source": [
    "moscow_genres.head(10) # просмотр первых 10 строк moscow_genres"
   ]
  },
  {
   "cell_type": "code",
   "execution_count": 37,
   "metadata": {
    "id": "gluLIpE7_Zcv"
   },
   "outputs": [],
   "source": [
    "spb_genres=spb_general.groupby('genre')['genre'].count().sort_values(ascending = False)\n",
    "# одной строкой: группировка таблицы spb_general по столбцу 'genre', \n",
    "# подсчёт числа значений 'genre' в этой группировке методом count(), \n",
    "# сортировка получившегося Series в порядке убывания и сохранение в spb_genres"
   ]
  },
  {
   "cell_type": "code",
   "execution_count": 38,
   "metadata": {
    "id": "uaGJHjVU_Zcv"
   },
   "outputs": [
    {
     "data": {
      "text/plain": [
       "genre\n",
       "pop            2431\n",
       "dance          1932\n",
       "rock           1879\n",
       "electronic     1737\n",
       "hiphop          960\n",
       "alternative     649\n",
       "classical       646\n",
       "rusrap          564\n",
       "ruspop          538\n",
       "world           515\n",
       "Name: genre, dtype: int64"
      ]
     },
     "execution_count": 38,
     "metadata": {},
     "output_type": "execute_result"
    }
   ],
   "source": [
    "spb_genres.head(10)# просмотр первых 10 строк spb_genres"
   ]
  },
  {
   "cell_type": "markdown",
   "metadata": {
    "id": "RY51YJYu_Zcv"
   },
   "source": [
    "**Выводы**"
   ]
  },
  {
   "cell_type": "markdown",
   "metadata": {
    "id": "nVhnJEm__Zcv"
   },
   "source": [
    "Гипотеза частично подтвердилась:\n",
    "* Поп-музыка — самый популярный жанр в Москве, как и предполагала гипотеза. Более того, в топ-10 жанров встречается близкий жанр — русская популярная музыка.\n",
    "* Вопреки ожиданиям, рэп одинаково популярен в Москве и Петербурге. \n"
   ]
  },
  {
   "cell_type": "markdown",
   "metadata": {
    "id": "ykKQ0N65_Zcv"
   },
   "source": [
    "## Итоги исследования"
   ]
  },
  {
   "cell_type": "markdown",
   "metadata": {
    "id": "tjUwbHb3_Zcv"
   },
   "source": [
    "Проверили три гипотезы и установили:\n",
    "\n",
    "1. День недели по-разному влияет на активность пользователей в Москве и Петербурге. \n",
    "\n",
    "Первая гипотеза полностью подтвердилась.\n",
    "\n",
    "2. Музыкальные предпочтения не сильно меняются в течение недели — будь то Москва или Петербург. Небольшие различия заметны в начале недели, по понедельникам:\n",
    "* в Москве слушают музыку жанра “world”,\n",
    "* в Петербурге — джаз и классику.\n",
    "\n",
    "Таким образом, вторая гипотеза подтвердилась лишь отчасти. Этот результат мог оказаться иным, если бы не пропуски в данных.\n",
    "\n",
    "3. Во вкусах пользователей Москвы и Петербурга больше общего чем различий. Вопреки ожиданиям, предпочтения жанров в Петербурге напоминают московские.\n",
    "\n",
    "Третья гипотеза не подтвердилась. Если различия в предпочтениях и существуют, на основной массе пользователей они незаметны."
   ]
  }
 ],
 "metadata": {
  "ExecuteTimeLog": [
   {
    "duration": 206,
    "start_time": "2021-10-28T11:22:38.126Z"
   },
   {
    "duration": 63,
    "start_time": "2021-10-28T11:22:51.039Z"
   },
   {
    "duration": 178,
    "start_time": "2021-10-28T11:23:02.846Z"
   },
   {
    "duration": 586,
    "start_time": "2021-10-28T11:23:09.078Z"
   },
   {
    "duration": 2,
    "start_time": "2021-10-28T11:23:12.440Z"
   },
   {
    "duration": 132,
    "start_time": "2021-10-28T11:23:54.877Z"
   },
   {
    "duration": 200,
    "start_time": "2021-10-28T11:23:59.358Z"
   },
   {
    "duration": 16,
    "start_time": "2021-10-28T11:25:13.438Z"
   },
   {
    "duration": 201,
    "start_time": "2021-10-28T11:38:35.597Z"
   },
   {
    "duration": 22,
    "start_time": "2021-10-28T11:39:55.638Z"
   },
   {
    "duration": 178,
    "start_time": "2021-10-28T11:49:47.318Z"
   },
   {
    "duration": 4,
    "start_time": "2021-10-28T11:49:57.278Z"
   },
   {
    "duration": 63,
    "start_time": "2021-10-28T11:57:17.038Z"
   },
   {
    "duration": 21,
    "start_time": "2021-10-28T11:57:30.758Z"
   },
   {
    "duration": 4,
    "start_time": "2021-10-28T11:57:43.678Z"
   },
   {
    "duration": 27,
    "start_time": "2021-10-28T12:00:54.395Z"
   },
   {
    "duration": 22,
    "start_time": "2021-10-28T12:01:07.558Z"
   },
   {
    "duration": 171,
    "start_time": "2021-10-28T12:08:43.598Z"
   },
   {
    "duration": 218,
    "start_time": "2021-10-28T12:09:03.391Z"
   },
   {
    "duration": 33,
    "start_time": "2021-10-28T12:09:22.999Z"
   },
   {
    "duration": 80,
    "start_time": "2021-10-28T12:10:18.887Z"
   },
   {
    "duration": 23,
    "start_time": "2021-10-28T12:10:45.838Z"
   },
   {
    "duration": 83,
    "start_time": "2021-10-28T12:11:42.407Z"
   },
   {
    "duration": 20,
    "start_time": "2021-10-28T12:11:45.559Z"
   },
   {
    "duration": 74,
    "start_time": "2021-10-28T12:13:31.878Z"
   },
   {
    "duration": 71,
    "start_time": "2021-10-28T12:13:45.679Z"
   },
   {
    "duration": 90,
    "start_time": "2021-10-28T12:15:06.839Z"
   },
   {
    "duration": 69,
    "start_time": "2021-10-28T12:15:32.439Z"
   },
   {
    "duration": 73,
    "start_time": "2021-10-28T12:16:26.406Z"
   },
   {
    "duration": 52,
    "start_time": "2021-10-28T12:16:29.910Z"
   },
   {
    "duration": 11,
    "start_time": "2021-10-28T12:18:01.791Z"
   },
   {
    "duration": 10,
    "start_time": "2021-10-28T12:19:31.518Z"
   },
   {
    "duration": 10,
    "start_time": "2021-10-28T12:19:35.918Z"
   },
   {
    "duration": 9,
    "start_time": "2021-10-28T12:19:48.039Z"
   },
   {
    "duration": 57,
    "start_time": "2021-10-28T12:21:19.918Z"
   },
   {
    "duration": 2,
    "start_time": "2021-10-28T12:22:54.311Z"
   },
   {
    "duration": 59,
    "start_time": "2021-10-28T12:29:03.270Z"
   },
   {
    "duration": 57,
    "start_time": "2021-10-28T12:29:18.319Z"
   },
   {
    "duration": 30,
    "start_time": "2021-10-28T12:30:06.447Z"
   },
   {
    "duration": 13,
    "start_time": "2021-10-28T12:30:47.399Z"
   },
   {
    "duration": 13,
    "start_time": "2021-10-28T12:31:19.958Z"
   },
   {
    "duration": 4,
    "start_time": "2021-10-28T12:31:28.119Z"
   },
   {
    "duration": 30,
    "start_time": "2021-10-28T12:31:49.919Z"
   },
   {
    "duration": 24,
    "start_time": "2021-10-28T12:32:45.518Z"
   },
   {
    "duration": 4,
    "start_time": "2021-10-28T12:32:57.159Z"
   },
   {
    "duration": 23,
    "start_time": "2021-10-28T12:33:05.959Z"
   },
   {
    "duration": 98,
    "start_time": "2021-10-28T12:33:10.798Z"
   },
   {
    "duration": 17,
    "start_time": "2021-10-28T12:33:15.919Z"
   },
   {
    "duration": 57,
    "start_time": "2021-10-28T12:33:19.431Z"
   },
   {
    "duration": 52,
    "start_time": "2021-10-28T12:33:23.680Z"
   },
   {
    "duration": 40,
    "start_time": "2021-10-28T12:33:26.279Z"
   },
   {
    "duration": 2,
    "start_time": "2021-10-28T12:33:30.079Z"
   },
   {
    "duration": 15,
    "start_time": "2021-10-28T12:33:45.079Z"
   },
   {
    "duration": 3,
    "start_time": "2021-10-28T12:33:53.879Z"
   },
   {
    "duration": 3,
    "start_time": "2021-10-28T12:34:02.600Z"
   },
   {
    "duration": 135,
    "start_time": "2021-10-28T12:34:02.604Z"
   },
   {
    "duration": 9,
    "start_time": "2021-10-28T12:34:02.741Z"
   },
   {
    "duration": 24,
    "start_time": "2021-10-28T12:34:02.752Z"
   },
   {
    "duration": 16,
    "start_time": "2021-10-28T12:34:02.778Z"
   },
   {
    "duration": 19,
    "start_time": "2021-10-28T12:34:02.795Z"
   },
   {
    "duration": 4,
    "start_time": "2021-10-28T12:34:02.816Z"
   },
   {
    "duration": 25,
    "start_time": "2021-10-28T12:34:02.821Z"
   },
   {
    "duration": 113,
    "start_time": "2021-10-28T12:34:02.849Z"
   },
   {
    "duration": 13,
    "start_time": "2021-10-28T12:34:02.964Z"
   },
   {
    "duration": 24,
    "start_time": "2021-10-28T12:34:02.978Z"
   },
   {
    "duration": 16,
    "start_time": "2021-10-28T12:34:03.004Z"
   },
   {
    "duration": 6,
    "start_time": "2021-10-28T12:34:03.021Z"
   },
   {
    "duration": 6,
    "start_time": "2021-10-28T12:34:03.028Z"
   },
   {
    "duration": 8,
    "start_time": "2021-10-28T12:34:03.035Z"
   },
   {
    "duration": 9,
    "start_time": "2021-10-28T12:34:03.044Z"
   },
   {
    "duration": 7,
    "start_time": "2021-10-28T12:34:03.054Z"
   },
   {
    "duration": 11,
    "start_time": "2021-10-28T12:34:03.062Z"
   },
   {
    "duration": 13,
    "start_time": "2021-10-28T12:34:03.074Z"
   },
   {
    "duration": 10,
    "start_time": "2021-10-28T12:34:03.091Z"
   },
   {
    "duration": 11,
    "start_time": "2021-10-28T12:34:03.103Z"
   },
   {
    "duration": 7,
    "start_time": "2021-10-28T12:34:03.115Z"
   },
   {
    "duration": 9,
    "start_time": "2021-10-28T12:34:03.123Z"
   },
   {
    "duration": 20,
    "start_time": "2021-10-28T12:34:03.134Z"
   },
   {
    "duration": 18,
    "start_time": "2021-10-28T12:34:03.155Z"
   },
   {
    "duration": 16,
    "start_time": "2021-10-28T12:34:03.174Z"
   },
   {
    "duration": 5,
    "start_time": "2021-10-28T12:34:03.193Z"
   },
   {
    "duration": 7,
    "start_time": "2021-10-28T12:34:03.200Z"
   },
   {
    "duration": 10,
    "start_time": "2021-10-28T12:34:03.209Z"
   },
   {
    "duration": 11,
    "start_time": "2021-10-28T12:34:03.220Z"
   },
   {
    "duration": 19,
    "start_time": "2021-10-28T12:34:03.232Z"
   },
   {
    "duration": 19,
    "start_time": "2021-10-28T12:34:03.252Z"
   },
   {
    "duration": 10,
    "start_time": "2021-10-28T12:34:03.272Z"
   },
   {
    "duration": 7,
    "start_time": "2021-10-28T12:34:03.284Z"
   },
   {
    "duration": 7,
    "start_time": "2021-10-28T12:34:03.293Z"
   },
   {
    "duration": 9,
    "start_time": "2021-10-28T12:34:03.302Z"
   },
   {
    "duration": 21,
    "start_time": "2021-10-28T12:34:03.312Z"
   },
   {
    "duration": 20,
    "start_time": "2021-10-28T12:34:03.334Z"
   },
   {
    "duration": 11,
    "start_time": "2021-10-28T12:34:35.478Z"
   },
   {
    "duration": 29,
    "start_time": "2021-10-28T12:35:03.799Z"
   },
   {
    "duration": 23,
    "start_time": "2021-10-28T12:35:28.240Z"
   },
   {
    "duration": 10,
    "start_time": "2021-10-28T12:35:50.311Z"
   },
   {
    "duration": 17,
    "start_time": "2021-10-28T12:36:14.718Z"
   },
   {
    "duration": 187,
    "start_time": "2021-10-28T12:36:38.598Z"
   },
   {
    "duration": 186,
    "start_time": "2021-10-28T12:36:39.759Z"
   },
   {
    "duration": 11,
    "start_time": "2021-10-28T12:36:49.718Z"
   },
   {
    "duration": 10,
    "start_time": "2021-10-28T12:36:50.919Z"
   },
   {
    "duration": 26,
    "start_time": "2021-10-28T12:37:07.599Z"
   },
   {
    "duration": 63,
    "start_time": "2021-10-28T12:37:42.759Z"
   },
   {
    "duration": 86,
    "start_time": "2021-10-28T12:37:49.776Z"
   },
   {
    "duration": 66,
    "start_time": "2021-10-28T12:38:07.199Z"
   },
   {
    "duration": 187,
    "start_time": "2021-10-28T12:38:19.847Z"
   },
   {
    "duration": 187,
    "start_time": "2021-10-28T12:38:45.896Z"
   },
   {
    "duration": 183,
    "start_time": "2021-10-28T12:38:55.599Z"
   },
   {
    "duration": 66,
    "start_time": "2021-10-28T12:39:18.847Z"
   },
   {
    "duration": 65,
    "start_time": "2021-10-28T12:39:32.998Z"
   },
   {
    "duration": 9,
    "start_time": "2021-10-28T12:40:43.446Z"
   },
   {
    "duration": 62,
    "start_time": "2021-10-28T12:41:18.159Z"
   },
   {
    "duration": 59,
    "start_time": "2021-10-28T12:41:34.646Z"
   },
   {
    "duration": 14,
    "start_time": "2021-10-28T12:41:47.166Z"
   },
   {
    "duration": 17,
    "start_time": "2021-10-28T12:42:00.239Z"
   },
   {
    "duration": 20,
    "start_time": "2021-10-28T12:42:14.830Z"
   },
   {
    "duration": 25,
    "start_time": "2021-10-28T12:42:38.406Z"
   },
   {
    "duration": 23,
    "start_time": "2021-10-28T12:43:00.158Z"
   },
   {
    "duration": 58,
    "start_time": "2021-10-28T12:43:05.198Z"
   },
   {
    "duration": 54,
    "start_time": "2021-10-28T12:43:09.718Z"
   },
   {
    "duration": 70,
    "start_time": "2021-10-28T12:43:14.198Z"
   },
   {
    "duration": 27,
    "start_time": "2021-10-28T12:44:08.920Z"
   },
   {
    "duration": 26,
    "start_time": "2021-10-28T12:44:29.199Z"
   },
   {
    "duration": 26,
    "start_time": "2021-10-28T12:44:56.040Z"
   },
   {
    "duration": 26,
    "start_time": "2021-10-28T12:46:54.720Z"
   },
   {
    "duration": 17,
    "start_time": "2021-10-28T12:47:10.000Z"
   },
   {
    "duration": 22,
    "start_time": "2021-10-28T12:47:14.518Z"
   },
   {
    "duration": 53,
    "start_time": "2021-10-28T12:47:20.478Z"
   },
   {
    "duration": 48,
    "start_time": "2021-10-28T12:47:31.950Z"
   },
   {
    "duration": 49,
    "start_time": "2021-10-28T12:48:00.678Z"
   },
   {
    "duration": 52,
    "start_time": "2021-10-28T12:48:20.838Z"
   },
   {
    "duration": 61,
    "start_time": "2021-10-28T12:48:44.279Z"
   },
   {
    "duration": 50,
    "start_time": "2021-10-28T12:49:09.710Z"
   },
   {
    "duration": 51,
    "start_time": "2021-10-28T12:49:33.118Z"
   },
   {
    "duration": 51,
    "start_time": "2021-10-28T12:49:51.758Z"
   },
   {
    "duration": 60,
    "start_time": "2021-10-28T12:51:01.678Z"
   },
   {
    "duration": 47,
    "start_time": "2021-10-28T12:51:03.958Z"
   },
   {
    "duration": 2,
    "start_time": "2021-10-28T12:51:13.161Z"
   },
   {
    "duration": 128,
    "start_time": "2021-10-28T12:51:13.165Z"
   },
   {
    "duration": 9,
    "start_time": "2021-10-28T12:51:13.295Z"
   },
   {
    "duration": 25,
    "start_time": "2021-10-28T12:51:13.306Z"
   },
   {
    "duration": 3,
    "start_time": "2021-10-28T12:51:13.333Z"
   },
   {
    "duration": 20,
    "start_time": "2021-10-28T12:51:13.338Z"
   },
   {
    "duration": 4,
    "start_time": "2021-10-28T12:51:13.359Z"
   },
   {
    "duration": 43,
    "start_time": "2021-10-28T12:51:13.364Z"
   },
   {
    "duration": 17,
    "start_time": "2021-10-28T12:51:13.410Z"
   },
   {
    "duration": 20,
    "start_time": "2021-10-28T12:51:13.429Z"
   },
   {
    "duration": 74,
    "start_time": "2021-10-28T12:51:13.450Z"
   },
   {
    "duration": 65,
    "start_time": "2021-10-28T12:51:13.526Z"
   },
   {
    "duration": 47,
    "start_time": "2021-10-28T12:51:13.593Z"
   },
   {
    "duration": 2,
    "start_time": "2021-10-28T12:51:13.641Z"
   },
   {
    "duration": 8,
    "start_time": "2021-10-28T12:51:13.644Z"
   },
   {
    "duration": 5,
    "start_time": "2021-10-28T12:51:13.654Z"
   },
   {
    "duration": 4,
    "start_time": "2021-10-28T12:51:13.660Z"
   },
   {
    "duration": 5,
    "start_time": "2021-10-28T12:51:13.666Z"
   },
   {
    "duration": 19,
    "start_time": "2021-10-28T12:51:13.672Z"
   },
   {
    "duration": 6,
    "start_time": "2021-10-28T12:51:13.693Z"
   },
   {
    "duration": 7,
    "start_time": "2021-10-28T12:51:13.700Z"
   },
   {
    "duration": 9,
    "start_time": "2021-10-28T12:51:13.708Z"
   },
   {
    "duration": 5,
    "start_time": "2021-10-28T12:51:13.718Z"
   },
   {
    "duration": 5,
    "start_time": "2021-10-28T12:51:13.725Z"
   },
   {
    "duration": 5,
    "start_time": "2021-10-28T12:51:13.731Z"
   },
   {
    "duration": 8,
    "start_time": "2021-10-28T12:51:13.737Z"
   },
   {
    "duration": 3,
    "start_time": "2021-10-28T12:51:13.747Z"
   },
   {
    "duration": 4,
    "start_time": "2021-10-28T12:51:13.752Z"
   },
   {
    "duration": 4,
    "start_time": "2021-10-28T12:51:13.758Z"
   },
   {
    "duration": 5,
    "start_time": "2021-10-28T12:51:13.764Z"
   },
   {
    "duration": 6,
    "start_time": "2021-10-28T12:51:13.770Z"
   },
   {
    "duration": 13,
    "start_time": "2021-10-28T12:51:13.778Z"
   },
   {
    "duration": 2,
    "start_time": "2021-10-28T12:51:13.792Z"
   },
   {
    "duration": 6,
    "start_time": "2021-10-28T12:51:13.796Z"
   },
   {
    "duration": 5,
    "start_time": "2021-10-28T12:51:13.803Z"
   },
   {
    "duration": 4,
    "start_time": "2021-10-28T12:51:13.810Z"
   },
   {
    "duration": 5,
    "start_time": "2021-10-28T12:51:13.816Z"
   },
   {
    "duration": 5,
    "start_time": "2021-10-28T12:51:13.822Z"
   },
   {
    "duration": 49,
    "start_time": "2021-10-28T12:59:41.798Z"
   },
   {
    "duration": 216,
    "start_time": "2021-10-28T13:01:50.906Z"
   },
   {
    "duration": 46,
    "start_time": "2021-10-28T13:02:19.967Z"
   },
   {
    "duration": 49,
    "start_time": "2021-10-28T13:02:56.398Z"
   },
   {
    "duration": 62,
    "start_time": "2021-10-28T13:24:10.293Z"
   },
   {
    "duration": 4,
    "start_time": "2021-10-28T13:24:38.169Z"
   },
   {
    "duration": 3,
    "start_time": "2021-10-28T13:25:07.544Z"
   },
   {
    "duration": 6,
    "start_time": "2021-10-28T13:27:22.443Z"
   },
   {
    "duration": 4,
    "start_time": "2021-10-28T13:28:07.162Z"
   },
   {
    "duration": 6,
    "start_time": "2021-10-28T13:28:09.809Z"
   },
   {
    "duration": 3,
    "start_time": "2021-10-28T13:28:42.922Z"
   },
   {
    "duration": 177,
    "start_time": "2021-10-28T13:28:45.081Z"
   },
   {
    "duration": 4,
    "start_time": "2021-10-28T13:29:05.882Z"
   },
   {
    "duration": 6,
    "start_time": "2021-10-28T13:29:09.490Z"
   },
   {
    "duration": 5,
    "start_time": "2021-10-28T13:29:25.690Z"
   },
   {
    "duration": 8,
    "start_time": "2021-10-28T13:29:28.161Z"
   },
   {
    "duration": 2,
    "start_time": "2021-10-28T13:29:44.562Z"
   },
   {
    "duration": 149,
    "start_time": "2021-10-28T13:29:44.566Z"
   },
   {
    "duration": 10,
    "start_time": "2021-10-28T13:29:44.718Z"
   },
   {
    "duration": 25,
    "start_time": "2021-10-28T13:29:44.730Z"
   },
   {
    "duration": 4,
    "start_time": "2021-10-28T13:29:44.757Z"
   },
   {
    "duration": 39,
    "start_time": "2021-10-28T13:29:44.762Z"
   },
   {
    "duration": 4,
    "start_time": "2021-10-28T13:29:44.802Z"
   },
   {
    "duration": 25,
    "start_time": "2021-10-28T13:29:44.808Z"
   },
   {
    "duration": 19,
    "start_time": "2021-10-28T13:29:44.836Z"
   },
   {
    "duration": 42,
    "start_time": "2021-10-28T13:29:44.857Z"
   },
   {
    "duration": 51,
    "start_time": "2021-10-28T13:29:44.901Z"
   },
   {
    "duration": 73,
    "start_time": "2021-10-28T13:29:44.953Z"
   },
   {
    "duration": 48,
    "start_time": "2021-10-28T13:29:45.028Z"
   },
   {
    "duration": 56,
    "start_time": "2021-10-28T13:29:45.077Z"
   },
   {
    "duration": 3,
    "start_time": "2021-10-28T13:29:45.134Z"
   },
   {
    "duration": 11,
    "start_time": "2021-10-28T13:29:45.139Z"
   },
   {
    "duration": 12,
    "start_time": "2021-10-28T13:29:45.152Z"
   },
   {
    "duration": 5,
    "start_time": "2021-10-28T13:29:45.166Z"
   },
   {
    "duration": 10,
    "start_time": "2021-10-28T13:29:45.173Z"
   },
   {
    "duration": 14,
    "start_time": "2021-10-28T13:29:45.184Z"
   },
   {
    "duration": 19,
    "start_time": "2021-10-28T13:29:45.199Z"
   },
   {
    "duration": 11,
    "start_time": "2021-10-28T13:29:45.219Z"
   },
   {
    "duration": 14,
    "start_time": "2021-10-28T13:29:45.231Z"
   },
   {
    "duration": 9,
    "start_time": "2021-10-28T13:29:45.246Z"
   },
   {
    "duration": 18,
    "start_time": "2021-10-28T13:29:45.256Z"
   },
   {
    "duration": 21,
    "start_time": "2021-10-28T13:29:45.275Z"
   },
   {
    "duration": 5,
    "start_time": "2021-10-28T13:29:45.300Z"
   },
   {
    "duration": 6,
    "start_time": "2021-10-28T13:29:45.307Z"
   },
   {
    "duration": 5,
    "start_time": "2021-10-28T13:29:45.314Z"
   },
   {
    "duration": 5,
    "start_time": "2021-10-28T13:29:45.320Z"
   },
   {
    "duration": 10,
    "start_time": "2021-10-28T13:29:45.326Z"
   },
   {
    "duration": 5,
    "start_time": "2021-10-28T13:29:45.337Z"
   },
   {
    "duration": 11,
    "start_time": "2021-10-28T13:29:45.343Z"
   },
   {
    "duration": 7,
    "start_time": "2021-10-28T13:29:45.356Z"
   },
   {
    "duration": 6,
    "start_time": "2021-10-28T13:29:45.365Z"
   },
   {
    "duration": 7,
    "start_time": "2021-10-28T13:29:45.373Z"
   },
   {
    "duration": 8,
    "start_time": "2021-10-28T13:29:45.381Z"
   },
   {
    "duration": 5,
    "start_time": "2021-10-28T13:29:45.391Z"
   },
   {
    "duration": 3,
    "start_time": "2021-10-28T13:38:42.604Z"
   },
   {
    "duration": 129,
    "start_time": "2021-10-28T13:38:42.612Z"
   },
   {
    "duration": 10,
    "start_time": "2021-10-28T13:38:42.743Z"
   },
   {
    "duration": 38,
    "start_time": "2021-10-28T13:38:42.756Z"
   },
   {
    "duration": 4,
    "start_time": "2021-10-28T13:38:42.796Z"
   },
   {
    "duration": 14,
    "start_time": "2021-10-28T13:38:42.802Z"
   },
   {
    "duration": 3,
    "start_time": "2021-10-28T13:38:42.818Z"
   },
   {
    "duration": 23,
    "start_time": "2021-10-28T13:38:42.823Z"
   },
   {
    "duration": 44,
    "start_time": "2021-10-28T13:38:42.849Z"
   },
   {
    "duration": 26,
    "start_time": "2021-10-28T13:38:42.895Z"
   },
   {
    "duration": 50,
    "start_time": "2021-10-28T13:38:42.923Z"
   },
   {
    "duration": 63,
    "start_time": "2021-10-28T13:38:42.974Z"
   },
   {
    "duration": 66,
    "start_time": "2021-10-28T13:38:43.039Z"
   },
   {
    "duration": 48,
    "start_time": "2021-10-28T13:38:43.107Z"
   },
   {
    "duration": 2,
    "start_time": "2021-10-28T13:38:43.157Z"
   },
   {
    "duration": 5,
    "start_time": "2021-10-28T13:38:43.160Z"
   },
   {
    "duration": 4,
    "start_time": "2021-10-28T13:38:43.167Z"
   },
   {
    "duration": 19,
    "start_time": "2021-10-28T13:38:43.173Z"
   },
   {
    "duration": 7,
    "start_time": "2021-10-28T13:38:43.193Z"
   },
   {
    "duration": 5,
    "start_time": "2021-10-28T13:38:43.202Z"
   },
   {
    "duration": 6,
    "start_time": "2021-10-28T13:38:43.208Z"
   },
   {
    "duration": 5,
    "start_time": "2021-10-28T13:38:43.215Z"
   },
   {
    "duration": 5,
    "start_time": "2021-10-28T13:38:43.221Z"
   },
   {
    "duration": 3,
    "start_time": "2021-10-28T13:38:43.229Z"
   },
   {
    "duration": 4,
    "start_time": "2021-10-28T13:38:43.234Z"
   },
   {
    "duration": 7,
    "start_time": "2021-10-28T13:38:43.239Z"
   },
   {
    "duration": 5,
    "start_time": "2021-10-28T13:38:43.248Z"
   },
   {
    "duration": 5,
    "start_time": "2021-10-28T13:38:43.255Z"
   },
   {
    "duration": 4,
    "start_time": "2021-10-28T13:38:43.262Z"
   },
   {
    "duration": 25,
    "start_time": "2021-10-28T13:38:43.267Z"
   },
   {
    "duration": 8,
    "start_time": "2021-10-28T13:38:43.293Z"
   },
   {
    "duration": 6,
    "start_time": "2021-10-28T13:38:43.302Z"
   },
   {
    "duration": 11,
    "start_time": "2021-10-28T13:38:43.309Z"
   },
   {
    "duration": 7,
    "start_time": "2021-10-28T13:38:43.322Z"
   },
   {
    "duration": 7,
    "start_time": "2021-10-28T13:38:43.331Z"
   },
   {
    "duration": 5,
    "start_time": "2021-10-28T13:38:43.339Z"
   },
   {
    "duration": 6,
    "start_time": "2021-10-28T13:38:43.345Z"
   },
   {
    "duration": 5,
    "start_time": "2021-10-28T13:38:43.352Z"
   },
   {
    "duration": 25,
    "start_time": "2021-10-28T13:40:35.724Z"
   },
   {
    "duration": 18,
    "start_time": "2021-10-28T13:40:39.403Z"
   },
   {
    "duration": 22,
    "start_time": "2021-10-28T13:40:46.643Z"
   },
   {
    "duration": 49,
    "start_time": "2021-10-28T13:40:53.961Z"
   },
   {
    "duration": 75,
    "start_time": "2021-10-28T13:41:05.043Z"
   },
   {
    "duration": 50,
    "start_time": "2021-10-28T13:41:09.761Z"
   },
   {
    "duration": 45,
    "start_time": "2021-10-28T13:41:28.769Z"
   },
   {
    "duration": 4,
    "start_time": "2021-10-28T13:55:56.325Z"
   },
   {
    "duration": 2,
    "start_time": "2021-10-28T13:56:01.364Z"
   },
   {
    "duration": 161,
    "start_time": "2021-10-28T13:56:01.368Z"
   },
   {
    "duration": 10,
    "start_time": "2021-10-28T13:56:01.531Z"
   },
   {
    "duration": 46,
    "start_time": "2021-10-28T13:56:01.543Z"
   },
   {
    "duration": 12,
    "start_time": "2021-10-28T13:56:01.591Z"
   },
   {
    "duration": 18,
    "start_time": "2021-10-28T13:56:01.604Z"
   },
   {
    "duration": 8,
    "start_time": "2021-10-28T13:56:01.623Z"
   },
   {
    "duration": 39,
    "start_time": "2021-10-28T13:56:01.632Z"
   },
   {
    "duration": 27,
    "start_time": "2021-10-28T13:56:01.673Z"
   },
   {
    "duration": 33,
    "start_time": "2021-10-28T13:56:01.702Z"
   },
   {
    "duration": 64,
    "start_time": "2021-10-28T13:56:01.737Z"
   },
   {
    "duration": 57,
    "start_time": "2021-10-28T13:56:01.803Z"
   },
   {
    "duration": 57,
    "start_time": "2021-10-28T13:56:01.862Z"
   },
   {
    "duration": 46,
    "start_time": "2021-10-28T13:56:01.921Z"
   },
   {
    "duration": 9,
    "start_time": "2021-10-28T13:56:01.969Z"
   },
   {
    "duration": 28,
    "start_time": "2021-10-28T13:56:01.980Z"
   },
   {
    "duration": 14,
    "start_time": "2021-10-28T13:56:02.009Z"
   },
   {
    "duration": 22,
    "start_time": "2021-10-28T13:56:02.024Z"
   },
   {
    "duration": 28,
    "start_time": "2021-10-28T13:56:02.047Z"
   },
   {
    "duration": 25,
    "start_time": "2021-10-28T13:56:02.077Z"
   },
   {
    "duration": 20,
    "start_time": "2021-10-28T13:56:02.104Z"
   },
   {
    "duration": 12,
    "start_time": "2021-10-28T13:56:02.126Z"
   },
   {
    "duration": 16,
    "start_time": "2021-10-28T13:56:02.139Z"
   },
   {
    "duration": 14,
    "start_time": "2021-10-28T13:56:02.156Z"
   },
   {
    "duration": 7,
    "start_time": "2021-10-28T13:56:02.172Z"
   },
   {
    "duration": 13,
    "start_time": "2021-10-28T13:56:02.181Z"
   },
   {
    "duration": 10,
    "start_time": "2021-10-28T13:56:02.197Z"
   },
   {
    "duration": 9,
    "start_time": "2021-10-28T13:56:02.209Z"
   },
   {
    "duration": 10,
    "start_time": "2021-10-28T13:56:02.220Z"
   },
   {
    "duration": 7,
    "start_time": "2021-10-28T13:56:02.231Z"
   },
   {
    "duration": 9,
    "start_time": "2021-10-28T13:56:02.239Z"
   },
   {
    "duration": 7,
    "start_time": "2021-10-28T13:56:02.250Z"
   },
   {
    "duration": 10,
    "start_time": "2021-10-28T13:56:02.258Z"
   },
   {
    "duration": 11,
    "start_time": "2021-10-28T13:56:02.269Z"
   },
   {
    "duration": 8,
    "start_time": "2021-10-28T13:56:02.282Z"
   },
   {
    "duration": 9,
    "start_time": "2021-10-28T13:56:02.292Z"
   },
   {
    "duration": 9,
    "start_time": "2021-10-28T13:56:02.302Z"
   },
   {
    "duration": 8,
    "start_time": "2021-10-28T13:56:02.312Z"
   },
   {
    "duration": 6,
    "start_time": "2021-10-28T13:56:44.170Z"
   },
   {
    "duration": 2,
    "start_time": "2021-10-28T13:57:03.802Z"
   },
   {
    "duration": 126,
    "start_time": "2021-10-28T13:57:03.806Z"
   },
   {
    "duration": 10,
    "start_time": "2021-10-28T13:57:03.934Z"
   },
   {
    "duration": 28,
    "start_time": "2021-10-28T13:57:03.946Z"
   },
   {
    "duration": 16,
    "start_time": "2021-10-28T13:57:03.975Z"
   },
   {
    "duration": 14,
    "start_time": "2021-10-28T13:57:03.993Z"
   },
   {
    "duration": 3,
    "start_time": "2021-10-28T13:57:04.009Z"
   },
   {
    "duration": 26,
    "start_time": "2021-10-28T13:57:04.013Z"
   },
   {
    "duration": 17,
    "start_time": "2021-10-28T13:57:04.041Z"
   },
   {
    "duration": 36,
    "start_time": "2021-10-28T13:57:04.060Z"
   },
   {
    "duration": 56,
    "start_time": "2021-10-28T13:57:04.097Z"
   },
   {
    "duration": 67,
    "start_time": "2021-10-28T13:57:04.155Z"
   },
   {
    "duration": 46,
    "start_time": "2021-10-28T13:57:04.223Z"
   },
   {
    "duration": 58,
    "start_time": "2021-10-28T13:57:04.270Z"
   },
   {
    "duration": 3,
    "start_time": "2021-10-28T13:57:04.330Z"
   },
   {
    "duration": 5,
    "start_time": "2021-10-28T13:57:04.335Z"
   },
   {
    "duration": 8,
    "start_time": "2021-10-28T13:57:04.341Z"
   },
   {
    "duration": 2,
    "start_time": "2021-10-28T13:57:04.351Z"
   },
   {
    "duration": 4,
    "start_time": "2021-10-28T13:57:04.355Z"
   },
   {
    "duration": 6,
    "start_time": "2021-10-28T13:57:04.361Z"
   },
   {
    "duration": 24,
    "start_time": "2021-10-28T13:57:04.368Z"
   },
   {
    "duration": 9,
    "start_time": "2021-10-28T13:57:04.393Z"
   },
   {
    "duration": 6,
    "start_time": "2021-10-28T13:57:04.403Z"
   },
   {
    "duration": 5,
    "start_time": "2021-10-28T13:57:04.410Z"
   },
   {
    "duration": 5,
    "start_time": "2021-10-28T13:57:04.416Z"
   },
   {
    "duration": 8,
    "start_time": "2021-10-28T13:57:04.422Z"
   },
   {
    "duration": 3,
    "start_time": "2021-10-28T13:57:04.433Z"
   },
   {
    "duration": 4,
    "start_time": "2021-10-28T13:57:04.438Z"
   },
   {
    "duration": 4,
    "start_time": "2021-10-28T13:57:04.444Z"
   },
   {
    "duration": 5,
    "start_time": "2021-10-28T13:57:04.450Z"
   },
   {
    "duration": 9,
    "start_time": "2021-10-28T13:57:04.456Z"
   },
   {
    "duration": 6,
    "start_time": "2021-10-28T13:57:04.467Z"
   },
   {
    "duration": 10,
    "start_time": "2021-10-28T13:57:04.474Z"
   },
   {
    "duration": 2,
    "start_time": "2021-10-28T13:57:04.491Z"
   },
   {
    "duration": 5,
    "start_time": "2021-10-28T13:57:04.495Z"
   },
   {
    "duration": 9,
    "start_time": "2021-10-28T13:57:04.501Z"
   },
   {
    "duration": 4,
    "start_time": "2021-10-28T13:57:04.512Z"
   },
   {
    "duration": 8,
    "start_time": "2021-10-28T13:57:04.518Z"
   },
   {
    "duration": 3,
    "start_time": "2021-10-28T14:00:06.604Z"
   },
   {
    "duration": 6,
    "start_time": "2021-10-28T14:00:10.803Z"
   },
   {
    "duration": 3,
    "start_time": "2021-10-28T14:02:36.883Z"
   },
   {
    "duration": 7,
    "start_time": "2021-10-28T14:02:40.003Z"
   },
   {
    "duration": 177,
    "start_time": "2021-10-28T14:02:59.923Z"
   },
   {
    "duration": 9,
    "start_time": "2021-10-28T14:03:12.086Z"
   },
   {
    "duration": 7,
    "start_time": "2021-10-28T14:03:18.642Z"
   },
   {
    "duration": 2,
    "start_time": "2021-10-28T14:08:05.802Z"
   },
   {
    "duration": 133,
    "start_time": "2021-10-28T14:08:05.806Z"
   },
   {
    "duration": 10,
    "start_time": "2021-10-28T14:08:05.941Z"
   },
   {
    "duration": 25,
    "start_time": "2021-10-28T14:08:05.953Z"
   },
   {
    "duration": 4,
    "start_time": "2021-10-28T14:08:05.992Z"
   },
   {
    "duration": 18,
    "start_time": "2021-10-28T14:08:05.997Z"
   },
   {
    "duration": 3,
    "start_time": "2021-10-28T14:08:06.018Z"
   },
   {
    "duration": 29,
    "start_time": "2021-10-28T14:08:06.023Z"
   },
   {
    "duration": 38,
    "start_time": "2021-10-28T14:08:06.054Z"
   },
   {
    "duration": 22,
    "start_time": "2021-10-28T14:08:06.093Z"
   },
   {
    "duration": 51,
    "start_time": "2021-10-28T14:08:06.117Z"
   },
   {
    "duration": 77,
    "start_time": "2021-10-28T14:08:06.169Z"
   },
   {
    "duration": 63,
    "start_time": "2021-10-28T14:08:06.248Z"
   },
   {
    "duration": 45,
    "start_time": "2021-10-28T14:08:06.313Z"
   },
   {
    "duration": 3,
    "start_time": "2021-10-28T14:08:06.360Z"
   },
   {
    "duration": 31,
    "start_time": "2021-10-28T14:08:06.364Z"
   },
   {
    "duration": 5,
    "start_time": "2021-10-28T14:08:06.397Z"
   },
   {
    "duration": 4,
    "start_time": "2021-10-28T14:08:06.404Z"
   },
   {
    "duration": 9,
    "start_time": "2021-10-28T14:08:06.409Z"
   },
   {
    "duration": 5,
    "start_time": "2021-10-28T14:08:06.420Z"
   },
   {
    "duration": 8,
    "start_time": "2021-10-28T14:08:06.426Z"
   },
   {
    "duration": 5,
    "start_time": "2021-10-28T14:08:06.436Z"
   },
   {
    "duration": 5,
    "start_time": "2021-10-28T14:08:06.442Z"
   },
   {
    "duration": 5,
    "start_time": "2021-10-28T14:08:06.449Z"
   },
   {
    "duration": 6,
    "start_time": "2021-10-28T14:08:06.456Z"
   },
   {
    "duration": 7,
    "start_time": "2021-10-28T14:08:06.463Z"
   },
   {
    "duration": 6,
    "start_time": "2021-10-28T14:08:06.471Z"
   },
   {
    "duration": 14,
    "start_time": "2021-10-28T14:08:06.478Z"
   },
   {
    "duration": 5,
    "start_time": "2021-10-28T14:08:06.493Z"
   },
   {
    "duration": 5,
    "start_time": "2021-10-28T14:08:06.500Z"
   },
   {
    "duration": 13,
    "start_time": "2021-10-28T14:08:06.507Z"
   },
   {
    "duration": 13,
    "start_time": "2021-10-28T14:08:06.522Z"
   },
   {
    "duration": 12,
    "start_time": "2021-10-28T14:08:06.537Z"
   },
   {
    "duration": 10,
    "start_time": "2021-10-28T14:08:06.550Z"
   },
   {
    "duration": 9,
    "start_time": "2021-10-28T14:08:06.561Z"
   },
   {
    "duration": 7,
    "start_time": "2021-10-28T14:08:06.572Z"
   },
   {
    "duration": 8,
    "start_time": "2021-10-28T14:08:06.581Z"
   },
   {
    "duration": 8,
    "start_time": "2021-10-28T14:08:06.590Z"
   },
   {
    "duration": 11,
    "start_time": "2021-10-28T14:13:19.410Z"
   },
   {
    "duration": 6,
    "start_time": "2021-10-28T14:13:22.290Z"
   },
   {
    "duration": 15,
    "start_time": "2021-10-28T14:15:52.203Z"
   },
   {
    "duration": 7,
    "start_time": "2021-10-28T14:15:55.362Z"
   },
   {
    "duration": 6,
    "start_time": "2021-10-28T14:18:24.362Z"
   },
   {
    "duration": 15,
    "start_time": "2021-10-28T14:23:08.355Z"
   },
   {
    "duration": 13,
    "start_time": "2021-10-28T14:24:23.936Z"
   },
   {
    "duration": 12,
    "start_time": "2021-10-28T14:25:36.399Z"
   },
   {
    "duration": 60,
    "start_time": "2021-10-28T14:40:20.793Z"
   },
   {
    "duration": 58,
    "start_time": "2021-10-28T14:41:00.028Z"
   },
   {
    "duration": 4,
    "start_time": "2021-10-28T14:41:36.396Z"
   },
   {
    "duration": 3,
    "start_time": "2021-10-28T14:47:29.021Z"
   },
   {
    "duration": 132,
    "start_time": "2021-10-28T14:47:29.029Z"
   },
   {
    "duration": 10,
    "start_time": "2021-10-28T14:47:29.163Z"
   },
   {
    "duration": 39,
    "start_time": "2021-10-28T14:47:29.175Z"
   },
   {
    "duration": 5,
    "start_time": "2021-10-28T14:47:29.216Z"
   },
   {
    "duration": 18,
    "start_time": "2021-10-28T14:47:29.222Z"
   },
   {
    "duration": 4,
    "start_time": "2021-10-28T14:47:29.241Z"
   },
   {
    "duration": 26,
    "start_time": "2021-10-28T14:47:29.247Z"
   },
   {
    "duration": 33,
    "start_time": "2021-10-28T14:47:29.274Z"
   },
   {
    "duration": 23,
    "start_time": "2021-10-28T14:47:29.309Z"
   },
   {
    "duration": 71,
    "start_time": "2021-10-28T14:47:29.333Z"
   },
   {
    "duration": 56,
    "start_time": "2021-10-28T14:47:29.405Z"
   },
   {
    "duration": 62,
    "start_time": "2021-10-28T14:47:29.463Z"
   },
   {
    "duration": 46,
    "start_time": "2021-10-28T14:47:29.527Z"
   },
   {
    "duration": 2,
    "start_time": "2021-10-28T14:47:29.592Z"
   },
   {
    "duration": 22,
    "start_time": "2021-10-28T14:47:29.597Z"
   },
   {
    "duration": 13,
    "start_time": "2021-10-28T14:47:29.621Z"
   },
   {
    "duration": 18,
    "start_time": "2021-10-28T14:47:29.636Z"
   },
   {
    "duration": 47,
    "start_time": "2021-10-28T14:47:29.656Z"
   },
   {
    "duration": 5,
    "start_time": "2021-10-28T14:47:29.705Z"
   },
   {
    "duration": 173,
    "start_time": "2021-10-28T14:47:29.712Z"
   },
   {
    "duration": -448,
    "start_time": "2021-10-28T14:47:30.335Z"
   },
   {
    "duration": -450,
    "start_time": "2021-10-28T14:47:30.338Z"
   },
   {
    "duration": -452,
    "start_time": "2021-10-28T14:47:30.341Z"
   },
   {
    "duration": -453,
    "start_time": "2021-10-28T14:47:30.343Z"
   },
   {
    "duration": -512,
    "start_time": "2021-10-28T14:47:30.403Z"
   },
   {
    "duration": -522,
    "start_time": "2021-10-28T14:47:30.414Z"
   },
   {
    "duration": -523,
    "start_time": "2021-10-28T14:47:30.416Z"
   },
   {
    "duration": -525,
    "start_time": "2021-10-28T14:47:30.419Z"
   },
   {
    "duration": -526,
    "start_time": "2021-10-28T14:47:30.421Z"
   },
   {
    "duration": -528,
    "start_time": "2021-10-28T14:47:30.424Z"
   },
   {
    "duration": -529,
    "start_time": "2021-10-28T14:47:30.426Z"
   },
   {
    "duration": -532,
    "start_time": "2021-10-28T14:47:30.429Z"
   },
   {
    "duration": -534,
    "start_time": "2021-10-28T14:47:30.432Z"
   },
   {
    "duration": -535,
    "start_time": "2021-10-28T14:47:30.434Z"
   },
   {
    "duration": -537,
    "start_time": "2021-10-28T14:47:30.437Z"
   },
   {
    "duration": -544,
    "start_time": "2021-10-28T14:47:30.445Z"
   },
   {
    "duration": -546,
    "start_time": "2021-10-28T14:47:30.448Z"
   },
   {
    "duration": 17,
    "start_time": "2021-10-28T14:50:42.755Z"
   },
   {
    "duration": 181,
    "start_time": "2021-10-28T14:50:48.156Z"
   },
   {
    "duration": 14,
    "start_time": "2021-10-28T14:51:17.303Z"
   },
   {
    "duration": 12,
    "start_time": "2021-10-28T14:51:23.201Z"
   },
   {
    "duration": 11,
    "start_time": "2021-10-28T14:51:31.496Z"
   },
   {
    "duration": 4,
    "start_time": "2021-10-28T14:51:55.083Z"
   },
   {
    "duration": 16,
    "start_time": "2021-10-28T14:51:58.511Z"
   },
   {
    "duration": 12,
    "start_time": "2021-10-28T14:52:01.758Z"
   },
   {
    "duration": 14,
    "start_time": "2021-10-28T14:52:04.188Z"
   },
   {
    "duration": 4,
    "start_time": "2021-10-28T14:52:37.900Z"
   },
   {
    "duration": 16,
    "start_time": "2021-10-28T14:52:40.434Z"
   },
   {
    "duration": 15,
    "start_time": "2021-10-28T14:52:46.433Z"
   },
   {
    "duration": 17,
    "start_time": "2021-10-28T14:52:56.349Z"
   },
   {
    "duration": 14,
    "start_time": "2021-10-28T14:53:03.593Z"
   },
   {
    "duration": 17,
    "start_time": "2021-10-28T14:53:40.601Z"
   },
   {
    "duration": 14,
    "start_time": "2021-10-28T14:53:43.434Z"
   },
   {
    "duration": 6,
    "start_time": "2021-10-28T14:55:04.998Z"
   },
   {
    "duration": 6,
    "start_time": "2021-10-28T14:55:11.074Z"
   },
   {
    "duration": 8,
    "start_time": "2021-10-28T14:55:34.431Z"
   },
   {
    "duration": 203,
    "start_time": "2021-10-28T14:57:37.988Z"
   },
   {
    "duration": 16,
    "start_time": "2021-10-28T14:57:51.671Z"
   },
   {
    "duration": 15,
    "start_time": "2021-10-28T14:57:55.745Z"
   },
   {
    "duration": 16,
    "start_time": "2021-10-28T14:58:01.545Z"
   },
   {
    "duration": 3,
    "start_time": "2021-10-28T14:59:05.901Z"
   },
   {
    "duration": 132,
    "start_time": "2021-10-28T14:59:05.907Z"
   },
   {
    "duration": 11,
    "start_time": "2021-10-28T14:59:06.041Z"
   },
   {
    "duration": 46,
    "start_time": "2021-10-28T14:59:06.054Z"
   },
   {
    "duration": 5,
    "start_time": "2021-10-28T14:59:06.103Z"
   },
   {
    "duration": 17,
    "start_time": "2021-10-28T14:59:06.110Z"
   },
   {
    "duration": 4,
    "start_time": "2021-10-28T14:59:06.129Z"
   },
   {
    "duration": 24,
    "start_time": "2021-10-28T14:59:06.135Z"
   },
   {
    "duration": 47,
    "start_time": "2021-10-28T14:59:06.161Z"
   },
   {
    "duration": 24,
    "start_time": "2021-10-28T14:59:06.210Z"
   },
   {
    "duration": 96,
    "start_time": "2021-10-28T14:59:06.236Z"
   },
   {
    "duration": 77,
    "start_time": "2021-10-28T14:59:06.334Z"
   },
   {
    "duration": 57,
    "start_time": "2021-10-28T14:59:06.414Z"
   },
   {
    "duration": 77,
    "start_time": "2021-10-28T14:59:06.473Z"
   },
   {
    "duration": 3,
    "start_time": "2021-10-28T14:59:06.551Z"
   },
   {
    "duration": 35,
    "start_time": "2021-10-28T14:59:06.556Z"
   },
   {
    "duration": 8,
    "start_time": "2021-10-28T14:59:06.594Z"
   },
   {
    "duration": 18,
    "start_time": "2021-10-28T14:59:06.604Z"
   },
   {
    "duration": 15,
    "start_time": "2021-10-28T14:59:06.626Z"
   },
   {
    "duration": 4,
    "start_time": "2021-10-28T14:59:06.643Z"
   },
   {
    "duration": 55,
    "start_time": "2021-10-28T14:59:06.649Z"
   },
   {
    "duration": 19,
    "start_time": "2021-10-28T14:59:06.706Z"
   },
   {
    "duration": 20,
    "start_time": "2021-10-28T14:59:06.727Z"
   },
   {
    "duration": 19,
    "start_time": "2021-10-28T14:59:06.749Z"
   },
   {
    "duration": 23,
    "start_time": "2021-10-28T14:59:06.792Z"
   },
   {
    "duration": 20,
    "start_time": "2021-10-28T14:59:06.817Z"
   },
   {
    "duration": 11,
    "start_time": "2021-10-28T14:59:06.839Z"
   },
   {
    "duration": 4,
    "start_time": "2021-10-28T14:59:06.852Z"
   },
   {
    "duration": 35,
    "start_time": "2021-10-28T14:59:06.857Z"
   },
   {
    "duration": 5,
    "start_time": "2021-10-28T14:59:06.894Z"
   },
   {
    "duration": 6,
    "start_time": "2021-10-28T14:59:06.901Z"
   },
   {
    "duration": 5,
    "start_time": "2021-10-28T14:59:06.909Z"
   },
   {
    "duration": 9,
    "start_time": "2021-10-28T14:59:06.916Z"
   },
   {
    "duration": 6,
    "start_time": "2021-10-28T14:59:06.926Z"
   },
   {
    "duration": 5,
    "start_time": "2021-10-28T14:59:06.933Z"
   },
   {
    "duration": 6,
    "start_time": "2021-10-28T14:59:06.940Z"
   },
   {
    "duration": 5,
    "start_time": "2021-10-28T14:59:06.948Z"
   },
   {
    "duration": 6,
    "start_time": "2021-10-28T14:59:06.955Z"
   },
   {
    "duration": 368,
    "start_time": "2021-10-30T04:00:38.138Z"
   },
   {
    "duration": 346,
    "start_time": "2021-10-30T04:00:51.416Z"
   },
   {
    "duration": 712,
    "start_time": "2021-10-30T04:10:02.655Z"
   },
   {
    "duration": 143,
    "start_time": "2021-10-30T04:10:03.369Z"
   },
   {
    "duration": 18,
    "start_time": "2021-10-30T04:10:03.515Z"
   },
   {
    "duration": 43,
    "start_time": "2021-10-30T04:10:03.536Z"
   },
   {
    "duration": 4,
    "start_time": "2021-10-30T04:10:03.580Z"
   },
   {
    "duration": 21,
    "start_time": "2021-10-30T04:10:03.585Z"
   },
   {
    "duration": 5,
    "start_time": "2021-10-30T04:10:03.608Z"
   },
   {
    "duration": 25,
    "start_time": "2021-10-30T04:10:03.615Z"
   },
   {
    "duration": 48,
    "start_time": "2021-10-30T04:10:03.644Z"
   },
   {
    "duration": 23,
    "start_time": "2021-10-30T04:10:03.695Z"
   },
   {
    "duration": 84,
    "start_time": "2021-10-30T04:10:03.720Z"
   },
   {
    "duration": 84,
    "start_time": "2021-10-30T04:10:03.806Z"
   },
   {
    "duration": 53,
    "start_time": "2021-10-30T04:10:03.892Z"
   },
   {
    "duration": 66,
    "start_time": "2021-10-30T04:10:03.947Z"
   },
   {
    "duration": 3,
    "start_time": "2021-10-30T04:10:04.014Z"
   },
   {
    "duration": 15,
    "start_time": "2021-10-30T04:10:04.019Z"
   },
   {
    "duration": 6,
    "start_time": "2021-10-30T04:10:04.036Z"
   },
   {
    "duration": 36,
    "start_time": "2021-10-30T04:10:04.044Z"
   },
   {
    "duration": 13,
    "start_time": "2021-10-30T04:10:04.081Z"
   },
   {
    "duration": 3,
    "start_time": "2021-10-30T04:10:04.096Z"
   },
   {
    "duration": 23,
    "start_time": "2021-10-30T04:10:04.101Z"
   },
   {
    "duration": 15,
    "start_time": "2021-10-30T04:10:04.125Z"
   },
   {
    "duration": 42,
    "start_time": "2021-10-30T04:10:04.141Z"
   },
   {
    "duration": 14,
    "start_time": "2021-10-30T04:10:04.185Z"
   },
   {
    "duration": 17,
    "start_time": "2021-10-30T04:10:04.200Z"
   },
   {
    "duration": 14,
    "start_time": "2021-10-30T04:10:04.219Z"
   },
   {
    "duration": 8,
    "start_time": "2021-10-30T04:10:04.236Z"
   },
   {
    "duration": 3,
    "start_time": "2021-10-30T04:10:04.277Z"
   },
   {
    "duration": 4,
    "start_time": "2021-10-30T04:10:04.281Z"
   },
   {
    "duration": 4,
    "start_time": "2021-10-30T04:10:04.287Z"
   },
   {
    "duration": 6,
    "start_time": "2021-10-30T04:10:04.293Z"
   },
   {
    "duration": 4,
    "start_time": "2021-10-30T04:10:04.301Z"
   },
   {
    "duration": 5,
    "start_time": "2021-10-30T04:10:04.307Z"
   },
   {
    "duration": 5,
    "start_time": "2021-10-30T04:10:04.314Z"
   },
   {
    "duration": 5,
    "start_time": "2021-10-30T04:10:04.321Z"
   },
   {
    "duration": 4,
    "start_time": "2021-10-30T04:10:04.327Z"
   },
   {
    "duration": 3,
    "start_time": "2021-10-30T04:10:04.333Z"
   },
   {
    "duration": 4,
    "start_time": "2021-10-30T04:10:04.338Z"
   },
   {
    "duration": 71,
    "start_time": "2021-10-30T04:11:13.047Z"
   },
   {
    "duration": 60,
    "start_time": "2021-10-30T04:12:40.495Z"
   },
   {
    "duration": 62,
    "start_time": "2021-10-30T04:13:21.058Z"
   },
   {
    "duration": 10,
    "start_time": "2021-10-30T04:16:34.575Z"
   },
   {
    "duration": 12,
    "start_time": "2021-10-30T04:16:37.257Z"
   },
   {
    "duration": 2,
    "start_time": "2021-10-30T04:16:43.190Z"
   },
   {
    "duration": 141,
    "start_time": "2021-10-30T04:16:43.194Z"
   },
   {
    "duration": 10,
    "start_time": "2021-10-30T04:16:43.337Z"
   },
   {
    "duration": 33,
    "start_time": "2021-10-30T04:16:43.349Z"
   },
   {
    "duration": 10,
    "start_time": "2021-10-30T04:16:43.383Z"
   },
   {
    "duration": 23,
    "start_time": "2021-10-30T04:16:43.395Z"
   },
   {
    "duration": 4,
    "start_time": "2021-10-30T04:16:43.419Z"
   },
   {
    "duration": 26,
    "start_time": "2021-10-30T04:16:43.424Z"
   },
   {
    "duration": 29,
    "start_time": "2021-10-30T04:16:43.453Z"
   },
   {
    "duration": 22,
    "start_time": "2021-10-30T04:16:43.484Z"
   },
   {
    "duration": 68,
    "start_time": "2021-10-30T04:16:43.508Z"
   },
   {
    "duration": 60,
    "start_time": "2021-10-30T04:16:43.578Z"
   },
   {
    "duration": 63,
    "start_time": "2021-10-30T04:16:43.640Z"
   },
   {
    "duration": 49,
    "start_time": "2021-10-30T04:16:43.704Z"
   },
   {
    "duration": 3,
    "start_time": "2021-10-30T04:16:43.754Z"
   },
   {
    "duration": 17,
    "start_time": "2021-10-30T04:16:43.776Z"
   },
   {
    "duration": 66,
    "start_time": "2021-10-30T04:16:43.795Z"
   },
   {
    "duration": 14,
    "start_time": "2021-10-30T04:16:43.877Z"
   },
   {
    "duration": 13,
    "start_time": "2021-10-30T04:16:43.892Z"
   },
   {
    "duration": 3,
    "start_time": "2021-10-30T04:16:43.907Z"
   },
   {
    "duration": 26,
    "start_time": "2021-10-30T04:16:43.912Z"
   },
   {
    "duration": 38,
    "start_time": "2021-10-30T04:16:43.940Z"
   },
   {
    "duration": 28,
    "start_time": "2021-10-30T04:16:43.980Z"
   },
   {
    "duration": 20,
    "start_time": "2021-10-30T04:16:44.010Z"
   },
   {
    "duration": 43,
    "start_time": "2021-10-30T04:16:44.033Z"
   },
   {
    "duration": 15,
    "start_time": "2021-10-30T04:16:44.078Z"
   },
   {
    "duration": 8,
    "start_time": "2021-10-30T04:16:44.096Z"
   },
   {
    "duration": 14,
    "start_time": "2021-10-30T04:16:44.106Z"
   },
   {
    "duration": 11,
    "start_time": "2021-10-30T04:16:44.121Z"
   },
   {
    "duration": 2,
    "start_time": "2021-10-30T04:16:44.134Z"
   },
   {
    "duration": 39,
    "start_time": "2021-10-30T04:16:44.138Z"
   },
   {
    "duration": 7,
    "start_time": "2021-10-30T04:16:44.179Z"
   },
   {
    "duration": 6,
    "start_time": "2021-10-30T04:16:44.187Z"
   },
   {
    "duration": 4,
    "start_time": "2021-10-30T04:16:44.195Z"
   },
   {
    "duration": 5,
    "start_time": "2021-10-30T04:16:44.201Z"
   },
   {
    "duration": 4,
    "start_time": "2021-10-30T04:16:44.207Z"
   },
   {
    "duration": 4,
    "start_time": "2021-10-30T04:16:44.213Z"
   },
   {
    "duration": 4,
    "start_time": "2021-10-30T04:16:44.219Z"
   },
   {
    "duration": 24,
    "start_time": "2021-10-30T04:17:38.264Z"
   },
   {
    "duration": 25,
    "start_time": "2021-10-30T04:17:41.576Z"
   },
   {
    "duration": 22,
    "start_time": "2021-10-30T04:18:04.975Z"
   },
   {
    "duration": 133,
    "start_time": "2021-10-30T04:27:38.186Z"
   },
   {
    "duration": 3,
    "start_time": "2021-10-30T04:27:47.703Z"
   },
   {
    "duration": 3,
    "start_time": "2021-10-30T04:27:54.224Z"
   },
   {
    "duration": 4,
    "start_time": "2021-10-30T04:29:53.828Z"
   },
   {
    "duration": 4,
    "start_time": "2021-10-30T04:29:58.855Z"
   },
   {
    "duration": 162,
    "start_time": "2021-10-30T04:29:58.861Z"
   },
   {
    "duration": 11,
    "start_time": "2021-10-30T04:29:59.026Z"
   },
   {
    "duration": 43,
    "start_time": "2021-10-30T04:29:59.039Z"
   },
   {
    "duration": 5,
    "start_time": "2021-10-30T04:29:59.084Z"
   },
   {
    "duration": 20,
    "start_time": "2021-10-30T04:29:59.091Z"
   },
   {
    "duration": 5,
    "start_time": "2021-10-30T04:29:59.112Z"
   },
   {
    "duration": 28,
    "start_time": "2021-10-30T04:29:59.119Z"
   },
   {
    "duration": 43,
    "start_time": "2021-10-30T04:29:59.150Z"
   },
   {
    "duration": 23,
    "start_time": "2021-10-30T04:29:59.195Z"
   },
   {
    "duration": 75,
    "start_time": "2021-10-30T04:29:59.220Z"
   },
   {
    "duration": 63,
    "start_time": "2021-10-30T04:29:59.297Z"
   },
   {
    "duration": 58,
    "start_time": "2021-10-30T04:29:59.362Z"
   },
   {
    "duration": 62,
    "start_time": "2021-10-30T04:29:59.421Z"
   },
   {
    "duration": 3,
    "start_time": "2021-10-30T04:29:59.484Z"
   },
   {
    "duration": 17,
    "start_time": "2021-10-30T04:29:59.489Z"
   },
   {
    "duration": 82,
    "start_time": "2021-10-30T04:29:59.507Z"
   },
   {
    "duration": 13,
    "start_time": "2021-10-30T04:29:59.591Z"
   },
   {
    "duration": 14,
    "start_time": "2021-10-30T04:29:59.606Z"
   },
   {
    "duration": 4,
    "start_time": "2021-10-30T04:29:59.621Z"
   },
   {
    "duration": 28,
    "start_time": "2021-10-30T04:29:59.626Z"
   },
   {
    "duration": 14,
    "start_time": "2021-10-30T04:29:59.677Z"
   },
   {
    "duration": 15,
    "start_time": "2021-10-30T04:29:59.693Z"
   },
   {
    "duration": 15,
    "start_time": "2021-10-30T04:29:59.710Z"
   },
   {
    "duration": 16,
    "start_time": "2021-10-30T04:29:59.726Z"
   },
   {
    "duration": 43,
    "start_time": "2021-10-30T04:29:59.744Z"
   },
   {
    "duration": 8,
    "start_time": "2021-10-30T04:29:59.790Z"
   },
   {
    "duration": 13,
    "start_time": "2021-10-30T04:29:59.800Z"
   },
   {
    "duration": 10,
    "start_time": "2021-10-30T04:29:59.815Z"
   },
   {
    "duration": 3,
    "start_time": "2021-10-30T04:29:59.827Z"
   },
   {
    "duration": 8,
    "start_time": "2021-10-30T04:29:59.831Z"
   },
   {
    "duration": 6,
    "start_time": "2021-10-30T04:29:59.840Z"
   },
   {
    "duration": 3,
    "start_time": "2021-10-30T04:29:59.876Z"
   },
   {
    "duration": 6,
    "start_time": "2021-10-30T04:29:59.880Z"
   },
   {
    "duration": 8,
    "start_time": "2021-10-30T04:29:59.887Z"
   },
   {
    "duration": 6,
    "start_time": "2021-10-30T04:29:59.897Z"
   },
   {
    "duration": 4,
    "start_time": "2021-10-30T04:29:59.905Z"
   },
   {
    "duration": 7,
    "start_time": "2021-10-30T04:29:59.911Z"
   },
   {
    "duration": 4,
    "start_time": "2021-10-30T04:33:48.536Z"
   },
   {
    "duration": 2,
    "start_time": "2021-10-30T04:33:53.736Z"
   },
   {
    "duration": 157,
    "start_time": "2021-10-30T04:33:53.740Z"
   },
   {
    "duration": 10,
    "start_time": "2021-10-30T04:33:53.899Z"
   },
   {
    "duration": 31,
    "start_time": "2021-10-30T04:33:53.911Z"
   },
   {
    "duration": 4,
    "start_time": "2021-10-30T04:33:53.944Z"
   },
   {
    "duration": 32,
    "start_time": "2021-10-30T04:33:53.950Z"
   },
   {
    "duration": 4,
    "start_time": "2021-10-30T04:33:53.984Z"
   },
   {
    "duration": 25,
    "start_time": "2021-10-30T04:33:53.990Z"
   },
   {
    "duration": 17,
    "start_time": "2021-10-30T04:33:54.018Z"
   },
   {
    "duration": 43,
    "start_time": "2021-10-30T04:33:54.038Z"
   },
   {
    "duration": 58,
    "start_time": "2021-10-30T04:33:54.083Z"
   },
   {
    "duration": 77,
    "start_time": "2021-10-30T04:33:54.142Z"
   },
   {
    "duration": 47,
    "start_time": "2021-10-30T04:33:54.220Z"
   },
   {
    "duration": 49,
    "start_time": "2021-10-30T04:33:54.277Z"
   },
   {
    "duration": 3,
    "start_time": "2021-10-30T04:33:54.327Z"
   },
   {
    "duration": 16,
    "start_time": "2021-10-30T04:33:54.332Z"
   },
   {
    "duration": 82,
    "start_time": "2021-10-30T04:33:54.350Z"
   },
   {
    "duration": 12,
    "start_time": "2021-10-30T04:33:54.433Z"
   },
   {
    "duration": 33,
    "start_time": "2021-10-30T04:33:54.447Z"
   },
   {
    "duration": 3,
    "start_time": "2021-10-30T04:33:54.481Z"
   },
   {
    "duration": 27,
    "start_time": "2021-10-30T04:33:54.486Z"
   },
   {
    "duration": 14,
    "start_time": "2021-10-30T04:33:54.514Z"
   },
   {
    "duration": 14,
    "start_time": "2021-10-30T04:33:54.529Z"
   },
   {
    "duration": 34,
    "start_time": "2021-10-30T04:33:54.545Z"
   },
   {
    "duration": 16,
    "start_time": "2021-10-30T04:33:54.581Z"
   },
   {
    "duration": 16,
    "start_time": "2021-10-30T04:33:54.599Z"
   },
   {
    "duration": 9,
    "start_time": "2021-10-30T04:33:54.619Z"
   },
   {
    "duration": 48,
    "start_time": "2021-10-30T04:33:54.630Z"
   },
   {
    "duration": 11,
    "start_time": "2021-10-30T04:33:54.680Z"
   },
   {
    "duration": 4,
    "start_time": "2021-10-30T04:33:54.693Z"
   },
   {
    "duration": 6,
    "start_time": "2021-10-30T04:33:54.699Z"
   },
   {
    "duration": 5,
    "start_time": "2021-10-30T04:33:54.707Z"
   },
   {
    "duration": 5,
    "start_time": "2021-10-30T04:33:54.714Z"
   },
   {
    "duration": 6,
    "start_time": "2021-10-30T04:33:54.721Z"
   },
   {
    "duration": 4,
    "start_time": "2021-10-30T04:33:54.729Z"
   },
   {
    "duration": 6,
    "start_time": "2021-10-30T04:33:54.734Z"
   },
   {
    "duration": 4,
    "start_time": "2021-10-30T04:33:54.742Z"
   },
   {
    "duration": 5,
    "start_time": "2021-10-30T04:33:54.748Z"
   },
   {
    "duration": 4,
    "start_time": "2021-10-30T04:34:50.386Z"
   },
   {
    "duration": 4,
    "start_time": "2021-10-30T04:40:42.138Z"
   },
   {
    "duration": 2,
    "start_time": "2021-10-30T04:40:45.223Z"
   },
   {
    "duration": 144,
    "start_time": "2021-10-30T04:40:45.227Z"
   },
   {
    "duration": 11,
    "start_time": "2021-10-30T04:40:45.373Z"
   },
   {
    "duration": 24,
    "start_time": "2021-10-30T04:40:45.387Z"
   },
   {
    "duration": 4,
    "start_time": "2021-10-30T04:40:45.412Z"
   },
   {
    "duration": 15,
    "start_time": "2021-10-30T04:40:45.418Z"
   },
   {
    "duration": 4,
    "start_time": "2021-10-30T04:40:45.435Z"
   },
   {
    "duration": 57,
    "start_time": "2021-10-30T04:40:45.441Z"
   },
   {
    "duration": 17,
    "start_time": "2021-10-30T04:40:45.500Z"
   },
   {
    "duration": 24,
    "start_time": "2021-10-30T04:40:45.519Z"
   },
   {
    "duration": 73,
    "start_time": "2021-10-30T04:40:45.544Z"
   },
   {
    "duration": 74,
    "start_time": "2021-10-30T04:40:45.619Z"
   },
   {
    "duration": 49,
    "start_time": "2021-10-30T04:40:45.694Z"
   },
   {
    "duration": 56,
    "start_time": "2021-10-30T04:40:45.744Z"
   },
   {
    "duration": 3,
    "start_time": "2021-10-30T04:40:45.801Z"
   },
   {
    "duration": 17,
    "start_time": "2021-10-30T04:40:45.805Z"
   },
   {
    "duration": 79,
    "start_time": "2021-10-30T04:40:45.824Z"
   },
   {
    "duration": 13,
    "start_time": "2021-10-30T04:40:45.904Z"
   },
   {
    "duration": 13,
    "start_time": "2021-10-30T04:40:45.919Z"
   },
   {
    "duration": 3,
    "start_time": "2021-10-30T04:40:45.933Z"
   },
   {
    "duration": 40,
    "start_time": "2021-10-30T04:40:45.938Z"
   },
   {
    "duration": 14,
    "start_time": "2021-10-30T04:40:45.980Z"
   },
   {
    "duration": 14,
    "start_time": "2021-10-30T04:40:45.998Z"
   },
   {
    "duration": 14,
    "start_time": "2021-10-30T04:40:46.014Z"
   },
   {
    "duration": 47,
    "start_time": "2021-10-30T04:40:46.029Z"
   },
   {
    "duration": 15,
    "start_time": "2021-10-30T04:40:46.078Z"
   },
   {
    "duration": 8,
    "start_time": "2021-10-30T04:40:46.094Z"
   },
   {
    "duration": 19,
    "start_time": "2021-10-30T04:40:46.104Z"
   },
   {
    "duration": 13,
    "start_time": "2021-10-30T04:40:46.125Z"
   },
   {
    "duration": 6,
    "start_time": "2021-10-30T04:40:46.140Z"
   },
   {
    "duration": 22,
    "start_time": "2021-10-30T04:40:46.147Z"
   },
   {
    "duration": 23,
    "start_time": "2021-10-30T04:40:46.170Z"
   },
   {
    "duration": 4,
    "start_time": "2021-10-30T04:40:46.194Z"
   },
   {
    "duration": 9,
    "start_time": "2021-10-30T04:40:46.199Z"
   },
   {
    "duration": 5,
    "start_time": "2021-10-30T04:40:46.209Z"
   },
   {
    "duration": 4,
    "start_time": "2021-10-30T04:40:46.215Z"
   },
   {
    "duration": 4,
    "start_time": "2021-10-30T04:40:46.220Z"
   },
   {
    "duration": 6,
    "start_time": "2021-10-30T04:40:46.226Z"
   },
   {
    "duration": 10097,
    "start_time": "2021-10-30T04:41:54.538Z"
   },
   {
    "duration": 3,
    "start_time": "2021-10-30T04:42:05.014Z"
   },
   {
    "duration": 157,
    "start_time": "2021-10-30T04:42:05.020Z"
   },
   {
    "duration": 10,
    "start_time": "2021-10-30T04:42:05.179Z"
   },
   {
    "duration": 25,
    "start_time": "2021-10-30T04:42:05.191Z"
   },
   {
    "duration": 4,
    "start_time": "2021-10-30T04:42:05.218Z"
   },
   {
    "duration": 23,
    "start_time": "2021-10-30T04:42:05.224Z"
   },
   {
    "duration": 28,
    "start_time": "2021-10-30T04:42:05.250Z"
   },
   {
    "duration": 25,
    "start_time": "2021-10-30T04:42:05.281Z"
   },
   {
    "duration": 20,
    "start_time": "2021-10-30T04:42:05.307Z"
   },
   {
    "duration": 48,
    "start_time": "2021-10-30T04:42:05.329Z"
   },
   {
    "duration": 57,
    "start_time": "2021-10-30T04:42:05.379Z"
   },
   {
    "duration": 82,
    "start_time": "2021-10-30T04:42:05.437Z"
   },
   {
    "duration": 56,
    "start_time": "2021-10-30T04:42:05.521Z"
   },
   {
    "duration": 49,
    "start_time": "2021-10-30T04:42:05.579Z"
   },
   {
    "duration": 2,
    "start_time": "2021-10-30T04:42:05.630Z"
   },
   {
    "duration": 25,
    "start_time": "2021-10-30T04:42:05.635Z"
   },
   {
    "duration": 76,
    "start_time": "2021-10-30T04:42:05.662Z"
   },
   {
    "duration": 15,
    "start_time": "2021-10-30T04:42:05.740Z"
   },
   {
    "duration": 12,
    "start_time": "2021-10-30T04:42:05.780Z"
   },
   {
    "duration": 4,
    "start_time": "2021-10-30T04:42:05.794Z"
   },
   {
    "duration": 21,
    "start_time": "2021-10-30T04:42:05.799Z"
   },
   {
    "duration": 14,
    "start_time": "2021-10-30T04:42:05.822Z"
   },
   {
    "duration": 40,
    "start_time": "2021-10-30T04:42:05.838Z"
   },
   {
    "duration": 14,
    "start_time": "2021-10-30T04:42:05.880Z"
   },
   {
    "duration": 16,
    "start_time": "2021-10-30T04:42:05.896Z"
   },
   {
    "duration": 14,
    "start_time": "2021-10-30T04:42:05.914Z"
   },
   {
    "duration": 8,
    "start_time": "2021-10-30T04:42:05.929Z"
   },
   {
    "duration": 39,
    "start_time": "2021-10-30T04:42:05.939Z"
   },
   {
    "duration": 10,
    "start_time": "2021-10-30T04:42:05.980Z"
   },
   {
    "duration": 7,
    "start_time": "2021-10-30T04:42:05.992Z"
   },
   {
    "duration": 9954,
    "start_time": "2021-10-30T04:42:06.000Z"
   },
   {
    "duration": 269,
    "start_time": "2021-10-30T04:42:15.687Z"
   },
   {
    "duration": 261,
    "start_time": "2021-10-30T04:42:15.696Z"
   },
   {
    "duration": 259,
    "start_time": "2021-10-30T04:42:15.699Z"
   },
   {
    "duration": 259,
    "start_time": "2021-10-30T04:42:15.701Z"
   },
   {
    "duration": 257,
    "start_time": "2021-10-30T04:42:15.704Z"
   },
   {
    "duration": 255,
    "start_time": "2021-10-30T04:42:15.707Z"
   },
   {
    "duration": 253,
    "start_time": "2021-10-30T04:42:15.710Z"
   },
   {
    "duration": 3,
    "start_time": "2021-10-30T04:42:16.785Z"
   },
   {
    "duration": 147,
    "start_time": "2021-10-30T04:42:16.790Z"
   },
   {
    "duration": 11,
    "start_time": "2021-10-30T04:42:16.939Z"
   },
   {
    "duration": 36,
    "start_time": "2021-10-30T04:42:16.952Z"
   },
   {
    "duration": 4,
    "start_time": "2021-10-30T04:42:16.990Z"
   },
   {
    "duration": 19,
    "start_time": "2021-10-30T04:42:16.996Z"
   },
   {
    "duration": 4,
    "start_time": "2021-10-30T04:42:17.017Z"
   },
   {
    "duration": 27,
    "start_time": "2021-10-30T04:42:17.023Z"
   },
   {
    "duration": 38,
    "start_time": "2021-10-30T04:42:17.053Z"
   },
   {
    "duration": 26,
    "start_time": "2021-10-30T04:42:17.094Z"
   },
   {
    "duration": 75,
    "start_time": "2021-10-30T04:42:17.121Z"
   },
   {
    "duration": 60,
    "start_time": "2021-10-30T04:42:17.198Z"
   },
   {
    "duration": 59,
    "start_time": "2021-10-30T04:42:17.260Z"
   },
   {
    "duration": 62,
    "start_time": "2021-10-30T04:42:17.321Z"
   },
   {
    "duration": 3,
    "start_time": "2021-10-30T04:42:17.385Z"
   },
   {
    "duration": 20,
    "start_time": "2021-10-30T04:42:17.390Z"
   },
   {
    "duration": 86,
    "start_time": "2021-10-30T04:42:17.412Z"
   },
   {
    "duration": 14,
    "start_time": "2021-10-30T04:42:17.499Z"
   },
   {
    "duration": 13,
    "start_time": "2021-10-30T04:42:17.514Z"
   },
   {
    "duration": 3,
    "start_time": "2021-10-30T04:42:17.529Z"
   },
   {
    "duration": 45,
    "start_time": "2021-10-30T04:42:17.533Z"
   },
   {
    "duration": 14,
    "start_time": "2021-10-30T04:42:17.580Z"
   },
   {
    "duration": 15,
    "start_time": "2021-10-30T04:42:17.596Z"
   },
   {
    "duration": 13,
    "start_time": "2021-10-30T04:42:17.613Z"
   },
   {
    "duration": 49,
    "start_time": "2021-10-30T04:42:17.628Z"
   },
   {
    "duration": 16,
    "start_time": "2021-10-30T04:42:17.679Z"
   },
   {
    "duration": 8,
    "start_time": "2021-10-30T04:42:17.699Z"
   },
   {
    "duration": 13,
    "start_time": "2021-10-30T04:42:17.710Z"
   },
   {
    "duration": 12,
    "start_time": "2021-10-30T04:42:17.725Z"
   },
   {
    "duration": 37,
    "start_time": "2021-10-30T04:42:17.739Z"
   },
   {
    "duration": 8880,
    "start_time": "2021-10-30T04:42:17.778Z"
   },
   {
    "duration": 273,
    "start_time": "2021-10-30T04:42:26.387Z"
   },
   {
    "duration": 272,
    "start_time": "2021-10-30T04:42:26.389Z"
   },
   {
    "duration": 270,
    "start_time": "2021-10-30T04:42:26.392Z"
   },
   {
    "duration": 267,
    "start_time": "2021-10-30T04:42:26.395Z"
   },
   {
    "duration": 265,
    "start_time": "2021-10-30T04:42:26.398Z"
   },
   {
    "duration": 264,
    "start_time": "2021-10-30T04:42:26.400Z"
   },
   {
    "duration": 263,
    "start_time": "2021-10-30T04:42:26.402Z"
   },
   {
    "duration": 265,
    "start_time": "2021-10-30T04:46:42.275Z"
   },
   {
    "duration": 264,
    "start_time": "2021-10-30T04:46:42.277Z"
   },
   {
    "duration": 262,
    "start_time": "2021-10-30T04:46:42.280Z"
   },
   {
    "duration": 260,
    "start_time": "2021-10-30T04:46:42.283Z"
   },
   {
    "duration": 259,
    "start_time": "2021-10-30T04:46:42.285Z"
   },
   {
    "duration": 258,
    "start_time": "2021-10-30T04:46:42.287Z"
   },
   {
    "duration": 256,
    "start_time": "2021-10-30T04:46:42.290Z"
   },
   {
    "duration": 255,
    "start_time": "2021-10-30T04:46:42.292Z"
   },
   {
    "duration": 253,
    "start_time": "2021-10-30T04:46:42.295Z"
   },
   {
    "duration": 251,
    "start_time": "2021-10-30T04:46:42.298Z"
   },
   {
    "duration": 215,
    "start_time": "2021-10-30T04:46:42.335Z"
   },
   {
    "duration": 213,
    "start_time": "2021-10-30T04:46:42.338Z"
   },
   {
    "duration": 211,
    "start_time": "2021-10-30T04:46:42.341Z"
   },
   {
    "duration": 210,
    "start_time": "2021-10-30T04:46:42.343Z"
   },
   {
    "duration": 208,
    "start_time": "2021-10-30T04:46:42.346Z"
   },
   {
    "duration": 206,
    "start_time": "2021-10-30T04:46:42.349Z"
   },
   {
    "duration": 204,
    "start_time": "2021-10-30T04:46:42.352Z"
   },
   {
    "duration": 203,
    "start_time": "2021-10-30T04:46:42.354Z"
   },
   {
    "duration": 201,
    "start_time": "2021-10-30T04:46:42.357Z"
   },
   {
    "duration": 199,
    "start_time": "2021-10-30T04:46:42.360Z"
   },
   {
    "duration": 197,
    "start_time": "2021-10-30T04:46:42.363Z"
   },
   {
    "duration": 195,
    "start_time": "2021-10-30T04:46:42.366Z"
   },
   {
    "duration": 194,
    "start_time": "2021-10-30T04:46:42.368Z"
   },
   {
    "duration": 193,
    "start_time": "2021-10-30T04:46:42.370Z"
   },
   {
    "duration": 186,
    "start_time": "2021-10-30T04:46:42.378Z"
   },
   {
    "duration": 184,
    "start_time": "2021-10-30T04:46:42.381Z"
   },
   {
    "duration": 182,
    "start_time": "2021-10-30T04:46:42.384Z"
   },
   {
    "duration": 181,
    "start_time": "2021-10-30T04:46:42.386Z"
   },
   {
    "duration": 179,
    "start_time": "2021-10-30T04:46:42.389Z"
   },
   {
    "duration": 178,
    "start_time": "2021-10-30T04:46:42.391Z"
   },
   {
    "duration": 176,
    "start_time": "2021-10-30T04:46:42.394Z"
   },
   {
    "duration": 175,
    "start_time": "2021-10-30T04:46:42.396Z"
   },
   {
    "duration": 173,
    "start_time": "2021-10-30T04:46:42.399Z"
   },
   {
    "duration": 172,
    "start_time": "2021-10-30T04:46:42.401Z"
   },
   {
    "duration": 170,
    "start_time": "2021-10-30T04:46:42.404Z"
   },
   {
    "duration": 169,
    "start_time": "2021-10-30T04:46:42.406Z"
   },
   {
    "duration": 167,
    "start_time": "2021-10-30T04:46:42.409Z"
   },
   {
    "duration": 166,
    "start_time": "2021-10-30T04:46:42.411Z"
   },
   {
    "duration": 276,
    "start_time": "2021-10-30T04:47:05.148Z"
   },
   {
    "duration": 64,
    "start_time": "2021-10-30T04:47:27.576Z"
   },
   {
    "duration": 3,
    "start_time": "2021-10-30T04:47:34.214Z"
   },
   {
    "duration": 148,
    "start_time": "2021-10-30T04:47:34.219Z"
   },
   {
    "duration": 15,
    "start_time": "2021-10-30T04:47:34.369Z"
   },
   {
    "duration": 26,
    "start_time": "2021-10-30T04:47:34.386Z"
   },
   {
    "duration": 4,
    "start_time": "2021-10-30T04:47:34.414Z"
   },
   {
    "duration": 20,
    "start_time": "2021-10-30T04:47:34.419Z"
   },
   {
    "duration": 4,
    "start_time": "2021-10-30T04:47:34.441Z"
   },
   {
    "duration": 23,
    "start_time": "2021-10-30T04:47:34.476Z"
   },
   {
    "duration": 18,
    "start_time": "2021-10-30T04:47:34.501Z"
   },
   {
    "duration": 22,
    "start_time": "2021-10-30T04:47:34.521Z"
   },
   {
    "duration": 83,
    "start_time": "2021-10-30T04:47:34.545Z"
   },
   {
    "duration": 71,
    "start_time": "2021-10-30T04:47:34.630Z"
   },
   {
    "duration": 47,
    "start_time": "2021-10-30T04:47:34.703Z"
   },
   {
    "duration": 60,
    "start_time": "2021-10-30T04:47:34.752Z"
   },
   {
    "duration": 2,
    "start_time": "2021-10-30T04:47:34.814Z"
   },
   {
    "duration": 17,
    "start_time": "2021-10-30T04:47:34.818Z"
   },
   {
    "duration": 78,
    "start_time": "2021-10-30T04:47:34.837Z"
   },
   {
    "duration": 13,
    "start_time": "2021-10-30T04:47:34.916Z"
   },
   {
    "duration": 12,
    "start_time": "2021-10-30T04:47:34.931Z"
   },
   {
    "duration": 3,
    "start_time": "2021-10-30T04:47:34.945Z"
   },
   {
    "duration": 39,
    "start_time": "2021-10-30T04:47:34.950Z"
   },
   {
    "duration": 15,
    "start_time": "2021-10-30T04:47:34.991Z"
   },
   {
    "duration": 15,
    "start_time": "2021-10-30T04:47:35.009Z"
   },
   {
    "duration": 15,
    "start_time": "2021-10-30T04:47:35.026Z"
   },
   {
    "duration": 46,
    "start_time": "2021-10-30T04:47:35.042Z"
   },
   {
    "duration": 15,
    "start_time": "2021-10-30T04:47:35.090Z"
   },
   {
    "duration": 9,
    "start_time": "2021-10-30T04:47:35.107Z"
   },
   {
    "duration": 15,
    "start_time": "2021-10-30T04:47:35.118Z"
   },
   {
    "duration": 44,
    "start_time": "2021-10-30T04:47:35.135Z"
   },
   {
    "duration": 4,
    "start_time": "2021-10-30T04:47:35.180Z"
   },
   {
    "duration": 43,
    "start_time": "2021-10-30T04:47:35.186Z"
   },
   {
    "duration": 3,
    "start_time": "2021-10-30T04:47:35.230Z"
   },
   {
    "duration": 5,
    "start_time": "2021-10-30T04:47:35.234Z"
   },
   {
    "duration": 5,
    "start_time": "2021-10-30T04:47:35.240Z"
   },
   {
    "duration": 5,
    "start_time": "2021-10-30T04:47:35.246Z"
   },
   {
    "duration": 4,
    "start_time": "2021-10-30T04:47:35.253Z"
   },
   {
    "duration": 2,
    "start_time": "2021-10-30T04:47:35.277Z"
   },
   {
    "duration": 6,
    "start_time": "2021-10-30T04:47:35.281Z"
   },
   {
    "duration": 24,
    "start_time": "2021-10-30T04:49:26.577Z"
   },
   {
    "duration": 3,
    "start_time": "2021-10-30T04:50:48.135Z"
   },
   {
    "duration": 173,
    "start_time": "2021-10-30T04:50:48.139Z"
   },
   {
    "duration": 10,
    "start_time": "2021-10-30T04:50:48.314Z"
   },
   {
    "duration": 30,
    "start_time": "2021-10-30T04:50:48.327Z"
   },
   {
    "duration": 20,
    "start_time": "2021-10-30T04:50:48.359Z"
   },
   {
    "duration": 30,
    "start_time": "2021-10-30T04:50:48.381Z"
   },
   {
    "duration": 11,
    "start_time": "2021-10-30T04:50:48.413Z"
   },
   {
    "duration": 35,
    "start_time": "2021-10-30T04:50:48.428Z"
   },
   {
    "duration": 22,
    "start_time": "2021-10-30T04:50:48.466Z"
   },
   {
    "duration": 24,
    "start_time": "2021-10-30T04:50:48.490Z"
   },
   {
    "duration": 74,
    "start_time": "2021-10-30T04:50:48.516Z"
   },
   {
    "duration": 62,
    "start_time": "2021-10-30T04:50:48.592Z"
   },
   {
    "duration": 62,
    "start_time": "2021-10-30T04:50:48.656Z"
   },
   {
    "duration": 68,
    "start_time": "2021-10-30T04:50:48.720Z"
   },
   {
    "duration": 4,
    "start_time": "2021-10-30T04:50:48.790Z"
   },
   {
    "duration": 30,
    "start_time": "2021-10-30T04:50:48.796Z"
   },
   {
    "duration": 81,
    "start_time": "2021-10-30T04:50:48.828Z"
   },
   {
    "duration": 15,
    "start_time": "2021-10-30T04:50:48.911Z"
   },
   {
    "duration": 14,
    "start_time": "2021-10-30T04:50:48.928Z"
   },
   {
    "duration": 4,
    "start_time": "2021-10-30T04:50:48.944Z"
   },
   {
    "duration": 17,
    "start_time": "2021-10-30T04:50:48.977Z"
   },
   {
    "duration": 19,
    "start_time": "2021-10-30T04:50:48.996Z"
   },
   {
    "duration": 16,
    "start_time": "2021-10-30T04:50:49.019Z"
   },
   {
    "duration": 24,
    "start_time": "2021-10-30T04:50:49.037Z"
   },
   {
    "duration": 18,
    "start_time": "2021-10-30T04:50:49.077Z"
   },
   {
    "duration": 22,
    "start_time": "2021-10-30T04:50:49.096Z"
   },
   {
    "duration": 14,
    "start_time": "2021-10-30T04:50:49.119Z"
   },
   {
    "duration": 27,
    "start_time": "2021-10-30T04:50:49.135Z"
   },
   {
    "duration": 18,
    "start_time": "2021-10-30T04:50:49.163Z"
   },
   {
    "duration": 4,
    "start_time": "2021-10-30T04:50:49.183Z"
   },
   {
    "duration": 35,
    "start_time": "2021-10-30T04:50:49.188Z"
   },
   {
    "duration": 30,
    "start_time": "2021-10-30T04:50:49.225Z"
   },
   {
    "duration": 27,
    "start_time": "2021-10-30T04:50:49.257Z"
   },
   {
    "duration": 24,
    "start_time": "2021-10-30T04:50:49.285Z"
   },
   {
    "duration": 11,
    "start_time": "2021-10-30T04:50:49.310Z"
   },
   {
    "duration": 6,
    "start_time": "2021-10-30T04:50:49.322Z"
   },
   {
    "duration": 9,
    "start_time": "2021-10-30T04:50:49.330Z"
   },
   {
    "duration": 6,
    "start_time": "2021-10-30T04:50:49.341Z"
   },
   {
    "duration": 4,
    "start_time": "2021-10-30T04:51:53.706Z"
   },
   {
    "duration": 3,
    "start_time": "2021-10-30T04:51:57.775Z"
   },
   {
    "duration": 145,
    "start_time": "2021-10-30T04:51:57.780Z"
   },
   {
    "duration": 10,
    "start_time": "2021-10-30T04:51:57.927Z"
   },
   {
    "duration": 39,
    "start_time": "2021-10-30T04:51:57.939Z"
   },
   {
    "duration": 3,
    "start_time": "2021-10-30T04:51:57.980Z"
   },
   {
    "duration": 19,
    "start_time": "2021-10-30T04:51:57.985Z"
   },
   {
    "duration": 3,
    "start_time": "2021-10-30T04:51:58.006Z"
   },
   {
    "duration": 24,
    "start_time": "2021-10-30T04:51:58.011Z"
   },
   {
    "duration": 45,
    "start_time": "2021-10-30T04:51:58.038Z"
   },
   {
    "duration": 23,
    "start_time": "2021-10-30T04:51:58.085Z"
   },
   {
    "duration": 71,
    "start_time": "2021-10-30T04:51:58.110Z"
   },
   {
    "duration": 61,
    "start_time": "2021-10-30T04:51:58.182Z"
   },
   {
    "duration": 61,
    "start_time": "2021-10-30T04:51:58.245Z"
   },
   {
    "duration": 69,
    "start_time": "2021-10-30T04:51:58.308Z"
   },
   {
    "duration": 3,
    "start_time": "2021-10-30T04:51:58.379Z"
   },
   {
    "duration": 17,
    "start_time": "2021-10-30T04:51:58.383Z"
   },
   {
    "duration": 80,
    "start_time": "2021-10-30T04:51:58.401Z"
   },
   {
    "duration": 12,
    "start_time": "2021-10-30T04:51:58.483Z"
   },
   {
    "duration": 11,
    "start_time": "2021-10-30T04:51:58.497Z"
   },
   {
    "duration": 3,
    "start_time": "2021-10-30T04:51:58.509Z"
   },
   {
    "duration": 20,
    "start_time": "2021-10-30T04:51:58.514Z"
   },
   {
    "duration": 42,
    "start_time": "2021-10-30T04:51:58.535Z"
   },
   {
    "duration": 16,
    "start_time": "2021-10-30T04:51:58.578Z"
   },
   {
    "duration": 13,
    "start_time": "2021-10-30T04:51:58.596Z"
   },
   {
    "duration": 17,
    "start_time": "2021-10-30T04:51:58.610Z"
   },
   {
    "duration": 14,
    "start_time": "2021-10-30T04:51:58.629Z"
   },
   {
    "duration": 37,
    "start_time": "2021-10-30T04:51:58.646Z"
   },
   {
    "duration": 15,
    "start_time": "2021-10-30T04:51:58.685Z"
   },
   {
    "duration": 10,
    "start_time": "2021-10-30T04:51:58.701Z"
   },
   {
    "duration": 3,
    "start_time": "2021-10-30T04:51:58.713Z"
   },
   {
    "duration": 26,
    "start_time": "2021-10-30T04:51:58.718Z"
   },
   {
    "duration": 49,
    "start_time": "2021-10-30T04:51:58.745Z"
   },
   {
    "duration": 24,
    "start_time": "2021-10-30T04:51:58.796Z"
   },
   {
    "duration": 23,
    "start_time": "2021-10-30T04:51:58.821Z"
   },
   {
    "duration": 30,
    "start_time": "2021-10-30T04:51:58.847Z"
   },
   {
    "duration": 3,
    "start_time": "2021-10-30T04:51:58.878Z"
   },
   {
    "duration": 5,
    "start_time": "2021-10-30T04:51:58.883Z"
   },
   {
    "duration": 6,
    "start_time": "2021-10-30T04:51:58.890Z"
   },
   {
    "duration": 4,
    "start_time": "2021-10-30T04:52:50.347Z"
   },
   {
    "duration": 2,
    "start_time": "2021-10-30T04:52:54.494Z"
   },
   {
    "duration": 152,
    "start_time": "2021-10-30T04:52:54.498Z"
   },
   {
    "duration": 25,
    "start_time": "2021-10-30T04:52:54.653Z"
   },
   {
    "duration": 27,
    "start_time": "2021-10-30T04:52:54.681Z"
   },
   {
    "duration": 5,
    "start_time": "2021-10-30T04:52:54.709Z"
   },
   {
    "duration": 17,
    "start_time": "2021-10-30T04:52:54.716Z"
   },
   {
    "duration": 5,
    "start_time": "2021-10-30T04:52:54.735Z"
   },
   {
    "duration": 23,
    "start_time": "2021-10-30T04:52:54.779Z"
   },
   {
    "duration": 17,
    "start_time": "2021-10-30T04:52:54.804Z"
   },
   {
    "duration": 23,
    "start_time": "2021-10-30T04:52:54.823Z"
   },
   {
    "duration": 74,
    "start_time": "2021-10-30T04:52:54.848Z"
   },
   {
    "duration": 77,
    "start_time": "2021-10-30T04:52:54.924Z"
   },
   {
    "duration": 48,
    "start_time": "2021-10-30T04:52:55.002Z"
   },
   {
    "duration": 56,
    "start_time": "2021-10-30T04:52:55.052Z"
   },
   {
    "duration": 3,
    "start_time": "2021-10-30T04:52:55.110Z"
   },
   {
    "duration": 16,
    "start_time": "2021-10-30T04:52:55.115Z"
   },
   {
    "duration": 91,
    "start_time": "2021-10-30T04:52:55.133Z"
   },
   {
    "duration": 15,
    "start_time": "2021-10-30T04:52:55.226Z"
   },
   {
    "duration": 34,
    "start_time": "2021-10-30T04:52:55.243Z"
   },
   {
    "duration": 3,
    "start_time": "2021-10-30T04:52:55.280Z"
   },
   {
    "duration": 22,
    "start_time": "2021-10-30T04:52:55.285Z"
   },
   {
    "duration": 15,
    "start_time": "2021-10-30T04:52:55.309Z"
   },
   {
    "duration": 16,
    "start_time": "2021-10-30T04:52:55.328Z"
   },
   {
    "duration": 41,
    "start_time": "2021-10-30T04:52:55.346Z"
   },
   {
    "duration": 17,
    "start_time": "2021-10-30T04:52:55.389Z"
   },
   {
    "duration": 16,
    "start_time": "2021-10-30T04:52:55.408Z"
   },
   {
    "duration": 8,
    "start_time": "2021-10-30T04:52:55.426Z"
   },
   {
    "duration": 53,
    "start_time": "2021-10-30T04:52:55.436Z"
   },
   {
    "duration": 12,
    "start_time": "2021-10-30T04:52:55.491Z"
   },
   {
    "duration": 4,
    "start_time": "2021-10-30T04:52:55.505Z"
   },
   {
    "duration": 25,
    "start_time": "2021-10-30T04:52:55.511Z"
   },
   {
    "duration": 43,
    "start_time": "2021-10-30T04:52:55.539Z"
   },
   {
    "duration": 23,
    "start_time": "2021-10-30T04:52:55.584Z"
   },
   {
    "duration": 23,
    "start_time": "2021-10-30T04:52:55.608Z"
   },
   {
    "duration": 3,
    "start_time": "2021-10-30T04:52:55.633Z"
   },
   {
    "duration": 6,
    "start_time": "2021-10-30T04:52:55.638Z"
   },
   {
    "duration": 33,
    "start_time": "2021-10-30T04:52:55.645Z"
   },
   {
    "duration": 3,
    "start_time": "2021-10-30T04:52:55.680Z"
   },
   {
    "duration": 109,
    "start_time": "2021-10-30T04:55:09.978Z"
   },
   {
    "duration": 122,
    "start_time": "2021-10-30T04:55:16.866Z"
   },
   {
    "duration": 4,
    "start_time": "2021-10-30T04:55:24.344Z"
   },
   {
    "duration": 4,
    "start_time": "2021-10-30T04:55:28.060Z"
   },
   {
    "duration": 2,
    "start_time": "2021-10-30T04:55:31.335Z"
   },
   {
    "duration": 259,
    "start_time": "2021-10-30T04:55:31.339Z"
   },
   {
    "duration": 11,
    "start_time": "2021-10-30T04:55:31.600Z"
   },
   {
    "duration": 25,
    "start_time": "2021-10-30T04:55:31.613Z"
   },
   {
    "duration": 5,
    "start_time": "2021-10-30T04:55:31.640Z"
   },
   {
    "duration": 39,
    "start_time": "2021-10-30T04:55:31.646Z"
   },
   {
    "duration": 4,
    "start_time": "2021-10-30T04:55:31.687Z"
   },
   {
    "duration": 23,
    "start_time": "2021-10-30T04:55:31.694Z"
   },
   {
    "duration": 18,
    "start_time": "2021-10-30T04:55:31.719Z"
   },
   {
    "duration": 53,
    "start_time": "2021-10-30T04:55:31.739Z"
   },
   {
    "duration": 60,
    "start_time": "2021-10-30T04:55:31.794Z"
   },
   {
    "duration": 73,
    "start_time": "2021-10-30T04:55:31.856Z"
   },
   {
    "duration": 57,
    "start_time": "2021-10-30T04:55:31.930Z"
   },
   {
    "duration": 50,
    "start_time": "2021-10-30T04:55:31.989Z"
   },
   {
    "duration": 3,
    "start_time": "2021-10-30T04:55:32.040Z"
   },
   {
    "duration": 32,
    "start_time": "2021-10-30T04:55:32.045Z"
   },
   {
    "duration": 65,
    "start_time": "2021-10-30T04:55:32.078Z"
   },
   {
    "duration": 13,
    "start_time": "2021-10-30T04:55:32.145Z"
   },
   {
    "duration": 13,
    "start_time": "2021-10-30T04:55:32.177Z"
   },
   {
    "duration": 3,
    "start_time": "2021-10-30T04:55:32.192Z"
   },
   {
    "duration": 21,
    "start_time": "2021-10-30T04:55:32.197Z"
   },
   {
    "duration": 15,
    "start_time": "2021-10-30T04:55:32.220Z"
   },
   {
    "duration": 40,
    "start_time": "2021-10-30T04:55:32.238Z"
   },
   {
    "duration": 16,
    "start_time": "2021-10-30T04:55:32.280Z"
   },
   {
    "duration": 18,
    "start_time": "2021-10-30T04:55:32.298Z"
   },
   {
    "duration": 14,
    "start_time": "2021-10-30T04:55:32.318Z"
   },
   {
    "duration": 44,
    "start_time": "2021-10-30T04:55:32.334Z"
   },
   {
    "duration": 20,
    "start_time": "2021-10-30T04:55:32.380Z"
   },
   {
    "duration": 14,
    "start_time": "2021-10-30T04:55:32.402Z"
   },
   {
    "duration": 5,
    "start_time": "2021-10-30T04:55:32.418Z"
   },
   {
    "duration": 58,
    "start_time": "2021-10-30T04:55:32.425Z"
   },
   {
    "duration": 34,
    "start_time": "2021-10-30T04:55:32.485Z"
   },
   {
    "duration": 55,
    "start_time": "2021-10-30T04:55:32.521Z"
   },
   {
    "duration": 23,
    "start_time": "2021-10-30T04:55:32.578Z"
   },
   {
    "duration": 6,
    "start_time": "2021-10-30T04:55:32.603Z"
   },
   {
    "duration": 11,
    "start_time": "2021-10-30T04:55:32.610Z"
   },
   {
    "duration": 10,
    "start_time": "2021-10-30T04:55:32.623Z"
   },
   {
    "duration": 18,
    "start_time": "2021-10-30T04:55:32.634Z"
   },
   {
    "duration": 4,
    "start_time": "2021-10-30T04:55:52.540Z"
   },
   {
    "duration": 2,
    "start_time": "2021-10-30T04:56:28.936Z"
   },
   {
    "duration": 180,
    "start_time": "2021-10-30T04:56:28.941Z"
   },
   {
    "duration": 10,
    "start_time": "2021-10-30T04:56:29.124Z"
   },
   {
    "duration": 40,
    "start_time": "2021-10-30T04:56:29.137Z"
   },
   {
    "duration": 5,
    "start_time": "2021-10-30T04:56:29.179Z"
   },
   {
    "duration": 27,
    "start_time": "2021-10-30T04:56:29.186Z"
   },
   {
    "duration": 5,
    "start_time": "2021-10-30T04:56:29.215Z"
   },
   {
    "duration": 27,
    "start_time": "2021-10-30T04:56:29.222Z"
   },
   {
    "duration": 20,
    "start_time": "2021-10-30T04:56:29.279Z"
   },
   {
    "duration": 28,
    "start_time": "2021-10-30T04:56:29.302Z"
   },
   {
    "duration": 75,
    "start_time": "2021-10-30T04:56:29.332Z"
   },
   {
    "duration": 76,
    "start_time": "2021-10-30T04:56:29.409Z"
   },
   {
    "duration": 52,
    "start_time": "2021-10-30T04:56:29.487Z"
   },
   {
    "duration": 63,
    "start_time": "2021-10-30T04:56:29.541Z"
   },
   {
    "duration": 4,
    "start_time": "2021-10-30T04:56:29.606Z"
   },
   {
    "duration": 16,
    "start_time": "2021-10-30T04:56:29.612Z"
   },
   {
    "duration": 93,
    "start_time": "2021-10-30T04:56:29.630Z"
   },
   {
    "duration": 14,
    "start_time": "2021-10-30T04:56:29.725Z"
   },
   {
    "duration": 13,
    "start_time": "2021-10-30T04:56:29.740Z"
   },
   {
    "duration": 4,
    "start_time": "2021-10-30T04:56:29.777Z"
   },
   {
    "duration": 21,
    "start_time": "2021-10-30T04:56:29.783Z"
   },
   {
    "duration": 14,
    "start_time": "2021-10-30T04:56:29.805Z"
   },
   {
    "duration": 17,
    "start_time": "2021-10-30T04:56:29.821Z"
   },
   {
    "duration": 40,
    "start_time": "2021-10-30T04:56:29.839Z"
   },
   {
    "duration": 17,
    "start_time": "2021-10-30T04:56:29.881Z"
   },
   {
    "duration": 16,
    "start_time": "2021-10-30T04:56:29.900Z"
   },
   {
    "duration": 9,
    "start_time": "2021-10-30T04:56:29.920Z"
   },
   {
    "duration": 15,
    "start_time": "2021-10-30T04:56:29.931Z"
   },
   {
    "duration": 12,
    "start_time": "2021-10-30T04:56:29.978Z"
   },
   {
    "duration": 5,
    "start_time": "2021-10-30T04:56:29.992Z"
   },
   {
    "duration": 356,
    "start_time": "2021-10-30T04:56:29.643Z"
   },
   {
    "duration": 355,
    "start_time": "2021-10-30T04:56:29.645Z"
   },
   {
    "duration": 332,
    "start_time": "2021-10-30T04:56:29.670Z"
   },
   {
    "duration": 331,
    "start_time": "2021-10-30T04:56:29.672Z"
   },
   {
    "duration": 329,
    "start_time": "2021-10-30T04:56:29.675Z"
   },
   {
    "duration": 329,
    "start_time": "2021-10-30T04:56:29.677Z"
   },
   {
    "duration": 327,
    "start_time": "2021-10-30T04:56:29.680Z"
   },
   {
    "duration": 304,
    "start_time": "2021-10-30T04:56:29.705Z"
   },
   {
    "duration": 4,
    "start_time": "2021-10-30T04:58:34.180Z"
   },
   {
    "duration": 4,
    "start_time": "2021-10-30T04:58:44.658Z"
   },
   {
    "duration": 4,
    "start_time": "2021-10-30T04:59:12.498Z"
   },
   {
    "duration": 2,
    "start_time": "2021-10-30T04:59:15.895Z"
   },
   {
    "duration": 167,
    "start_time": "2021-10-30T04:59:15.899Z"
   },
   {
    "duration": 16,
    "start_time": "2021-10-30T04:59:16.068Z"
   },
   {
    "duration": 23,
    "start_time": "2021-10-30T04:59:16.086Z"
   },
   {
    "duration": 4,
    "start_time": "2021-10-30T04:59:16.111Z"
   },
   {
    "duration": 19,
    "start_time": "2021-10-30T04:59:16.117Z"
   },
   {
    "duration": 4,
    "start_time": "2021-10-30T04:59:16.139Z"
   },
   {
    "duration": 53,
    "start_time": "2021-10-30T04:59:16.145Z"
   },
   {
    "duration": 16,
    "start_time": "2021-10-30T04:59:16.200Z"
   },
   {
    "duration": 27,
    "start_time": "2021-10-30T04:59:16.218Z"
   },
   {
    "duration": 76,
    "start_time": "2021-10-30T04:59:16.247Z"
   },
   {
    "duration": 75,
    "start_time": "2021-10-30T04:59:16.325Z"
   },
   {
    "duration": 51,
    "start_time": "2021-10-30T04:59:16.401Z"
   },
   {
    "duration": 66,
    "start_time": "2021-10-30T04:59:16.453Z"
   },
   {
    "duration": 3,
    "start_time": "2021-10-30T04:59:16.521Z"
   },
   {
    "duration": 16,
    "start_time": "2021-10-30T04:59:16.526Z"
   },
   {
    "duration": 79,
    "start_time": "2021-10-30T04:59:16.544Z"
   },
   {
    "duration": 13,
    "start_time": "2021-10-30T04:59:16.625Z"
   },
   {
    "duration": 12,
    "start_time": "2021-10-30T04:59:16.641Z"
   },
   {
    "duration": 22,
    "start_time": "2021-10-30T04:59:16.655Z"
   },
   {
    "duration": 27,
    "start_time": "2021-10-30T04:59:16.679Z"
   },
   {
    "duration": 14,
    "start_time": "2021-10-30T04:59:16.708Z"
   },
   {
    "duration": 15,
    "start_time": "2021-10-30T04:59:16.724Z"
   },
   {
    "duration": 40,
    "start_time": "2021-10-30T04:59:16.741Z"
   },
   {
    "duration": 18,
    "start_time": "2021-10-30T04:59:16.782Z"
   },
   {
    "duration": 14,
    "start_time": "2021-10-30T04:59:16.801Z"
   },
   {
    "duration": 8,
    "start_time": "2021-10-30T04:59:16.816Z"
   },
   {
    "duration": 15,
    "start_time": "2021-10-30T04:59:16.825Z"
   },
   {
    "duration": 34,
    "start_time": "2021-10-30T04:59:16.842Z"
   },
   {
    "duration": 4,
    "start_time": "2021-10-30T04:59:16.878Z"
   },
   {
    "duration": 26,
    "start_time": "2021-10-30T04:59:16.884Z"
   },
   {
    "duration": 21,
    "start_time": "2021-10-30T04:59:16.912Z"
   },
   {
    "duration": 48,
    "start_time": "2021-10-30T04:59:16.934Z"
   },
   {
    "duration": 23,
    "start_time": "2021-10-30T04:59:16.983Z"
   },
   {
    "duration": 2,
    "start_time": "2021-10-30T04:59:17.008Z"
   },
   {
    "duration": 6,
    "start_time": "2021-10-30T04:59:17.011Z"
   },
   {
    "duration": 4,
    "start_time": "2021-10-30T04:59:17.019Z"
   },
   {
    "duration": 4,
    "start_time": "2021-10-30T04:59:17.024Z"
   },
   {
    "duration": 349,
    "start_time": "2021-10-30T05:01:25.855Z"
   },
   {
    "duration": 16,
    "start_time": "2021-10-30T05:01:37.174Z"
   },
   {
    "duration": 15,
    "start_time": "2021-10-30T05:02:05.099Z"
   },
   {
    "duration": 16,
    "start_time": "2021-10-30T05:02:46.935Z"
   },
   {
    "duration": 15,
    "start_time": "2021-10-30T05:03:07.615Z"
   },
   {
    "duration": 19,
    "start_time": "2021-10-30T05:04:17.331Z"
   },
   {
    "duration": 19,
    "start_time": "2021-10-30T05:04:36.541Z"
   },
   {
    "duration": 19,
    "start_time": "2021-10-30T05:04:41.816Z"
   },
   {
    "duration": 15,
    "start_time": "2021-10-30T05:05:05.855Z"
   },
   {
    "duration": 353,
    "start_time": "2021-10-30T05:05:18.896Z"
   },
   {
    "duration": 15,
    "start_time": "2021-10-30T05:05:27.854Z"
   },
   {
    "duration": 14,
    "start_time": "2021-10-30T05:05:58.256Z"
   },
   {
    "duration": 370,
    "start_time": "2021-10-30T05:08:58.174Z"
   },
   {
    "duration": 9,
    "start_time": "2021-10-30T05:09:13.856Z"
   },
   {
    "duration": 8,
    "start_time": "2021-10-30T05:10:33.534Z"
   },
   {
    "duration": 110,
    "start_time": "2021-10-30T05:10:38.135Z"
   },
   {
    "duration": 9,
    "start_time": "2021-10-30T05:10:56.536Z"
   },
   {
    "duration": 11,
    "start_time": "2021-10-30T05:11:03.894Z"
   },
   {
    "duration": 11,
    "start_time": "2021-10-30T05:11:57.094Z"
   },
   {
    "duration": 17,
    "start_time": "2021-10-30T05:12:30.855Z"
   },
   {
    "duration": 20,
    "start_time": "2021-10-30T05:13:16.935Z"
   },
   {
    "duration": 18,
    "start_time": "2021-10-30T05:13:21.213Z"
   },
   {
    "duration": 11,
    "start_time": "2021-10-30T05:13:37.497Z"
   },
   {
    "duration": 3,
    "start_time": "2021-10-30T05:13:40.822Z"
   },
   {
    "duration": 149,
    "start_time": "2021-10-30T05:13:40.827Z"
   },
   {
    "duration": 10,
    "start_time": "2021-10-30T05:13:40.978Z"
   },
   {
    "duration": 24,
    "start_time": "2021-10-30T05:13:40.990Z"
   },
   {
    "duration": 3,
    "start_time": "2021-10-30T05:13:41.016Z"
   },
   {
    "duration": 19,
    "start_time": "2021-10-30T05:13:41.021Z"
   },
   {
    "duration": 4,
    "start_time": "2021-10-30T05:13:41.042Z"
   },
   {
    "duration": 23,
    "start_time": "2021-10-30T05:13:41.077Z"
   },
   {
    "duration": 17,
    "start_time": "2021-10-30T05:13:41.103Z"
   },
   {
    "duration": 25,
    "start_time": "2021-10-30T05:13:41.122Z"
   },
   {
    "duration": 58,
    "start_time": "2021-10-30T05:13:41.176Z"
   },
   {
    "duration": 82,
    "start_time": "2021-10-30T05:13:41.236Z"
   },
   {
    "duration": 62,
    "start_time": "2021-10-30T05:13:41.319Z"
   },
   {
    "duration": 50,
    "start_time": "2021-10-30T05:13:41.383Z"
   },
   {
    "duration": 3,
    "start_time": "2021-10-30T05:13:41.436Z"
   },
   {
    "duration": 42,
    "start_time": "2021-10-30T05:13:41.441Z"
   },
   {
    "duration": 67,
    "start_time": "2021-10-30T05:13:41.485Z"
   },
   {
    "duration": 31,
    "start_time": "2021-10-30T05:13:41.554Z"
   },
   {
    "duration": 14,
    "start_time": "2021-10-30T05:13:41.588Z"
   },
   {
    "duration": 3,
    "start_time": "2021-10-30T05:13:41.604Z"
   },
   {
    "duration": 22,
    "start_time": "2021-10-30T05:13:41.609Z"
   },
   {
    "duration": 14,
    "start_time": "2021-10-30T05:13:41.633Z"
   },
   {
    "duration": 15,
    "start_time": "2021-10-30T05:13:41.679Z"
   },
   {
    "duration": 14,
    "start_time": "2021-10-30T05:13:41.696Z"
   },
   {
    "duration": 16,
    "start_time": "2021-10-30T05:13:41.712Z"
   },
   {
    "duration": 14,
    "start_time": "2021-10-30T05:13:41.730Z"
   },
   {
    "duration": 36,
    "start_time": "2021-10-30T05:13:41.745Z"
   },
   {
    "duration": 10,
    "start_time": "2021-10-30T05:13:41.783Z"
   },
   {
    "duration": 19,
    "start_time": "2021-10-30T05:13:41.795Z"
   },
   {
    "duration": 4,
    "start_time": "2021-10-30T05:13:41.816Z"
   },
   {
    "duration": 26,
    "start_time": "2021-10-30T05:13:41.821Z"
   },
   {
    "duration": 47,
    "start_time": "2021-10-30T05:13:41.849Z"
   },
   {
    "duration": 22,
    "start_time": "2021-10-30T05:13:41.897Z"
   },
   {
    "duration": 23,
    "start_time": "2021-10-30T05:13:41.920Z"
   },
   {
    "duration": 2,
    "start_time": "2021-10-30T05:13:41.945Z"
   },
   {
    "duration": 28,
    "start_time": "2021-10-30T05:13:41.949Z"
   },
   {
    "duration": 8,
    "start_time": "2021-10-30T05:13:41.979Z"
   },
   {
    "duration": 4,
    "start_time": "2021-10-30T05:13:41.989Z"
   },
   {
    "duration": 11,
    "start_time": "2021-10-30T05:13:49.622Z"
   },
   {
    "duration": 11,
    "start_time": "2021-10-30T05:14:02.774Z"
   },
   {
    "duration": 18,
    "start_time": "2021-10-30T05:14:08.094Z"
   },
   {
    "duration": 11,
    "start_time": "2021-10-30T05:14:30.776Z"
   },
   {
    "duration": 3,
    "start_time": "2021-10-30T05:14:36.094Z"
   },
   {
    "duration": 150,
    "start_time": "2021-10-30T05:14:36.100Z"
   },
   {
    "duration": 10,
    "start_time": "2021-10-30T05:14:36.252Z"
   },
   {
    "duration": 35,
    "start_time": "2021-10-30T05:14:36.264Z"
   },
   {
    "duration": 4,
    "start_time": "2021-10-30T05:14:36.301Z"
   },
   {
    "duration": 22,
    "start_time": "2021-10-30T05:14:36.306Z"
   },
   {
    "duration": 4,
    "start_time": "2021-10-30T05:14:36.330Z"
   },
   {
    "duration": 49,
    "start_time": "2021-10-30T05:14:36.336Z"
   },
   {
    "duration": 18,
    "start_time": "2021-10-30T05:14:36.388Z"
   },
   {
    "duration": 22,
    "start_time": "2021-10-30T05:14:36.409Z"
   },
   {
    "duration": 83,
    "start_time": "2021-10-30T05:14:36.433Z"
   },
   {
    "duration": 76,
    "start_time": "2021-10-30T05:14:36.518Z"
   },
   {
    "duration": 52,
    "start_time": "2021-10-30T05:14:36.596Z"
   },
   {
    "duration": 57,
    "start_time": "2021-10-30T05:14:36.650Z"
   },
   {
    "duration": 3,
    "start_time": "2021-10-30T05:14:36.709Z"
   },
   {
    "duration": 16,
    "start_time": "2021-10-30T05:14:36.713Z"
   },
   {
    "duration": 85,
    "start_time": "2021-10-30T05:14:36.731Z"
   },
   {
    "duration": 13,
    "start_time": "2021-10-30T05:14:36.818Z"
   },
   {
    "duration": 12,
    "start_time": "2021-10-30T05:14:36.833Z"
   },
   {
    "duration": 3,
    "start_time": "2021-10-30T05:14:36.847Z"
   },
   {
    "duration": 40,
    "start_time": "2021-10-30T05:14:36.852Z"
   },
   {
    "duration": 14,
    "start_time": "2021-10-30T05:14:36.894Z"
   },
   {
    "duration": 15,
    "start_time": "2021-10-30T05:14:36.910Z"
   },
   {
    "duration": 15,
    "start_time": "2021-10-30T05:14:36.927Z"
   },
   {
    "duration": 47,
    "start_time": "2021-10-30T05:14:36.944Z"
   },
   {
    "duration": 15,
    "start_time": "2021-10-30T05:14:36.992Z"
   },
   {
    "duration": 8,
    "start_time": "2021-10-30T05:14:37.010Z"
   },
   {
    "duration": 11,
    "start_time": "2021-10-30T05:14:37.020Z"
   },
   {
    "duration": 51,
    "start_time": "2021-10-30T05:14:37.033Z"
   },
   {
    "duration": 3,
    "start_time": "2021-10-30T05:14:37.086Z"
   },
   {
    "duration": 30,
    "start_time": "2021-10-30T05:14:37.091Z"
   },
   {
    "duration": 23,
    "start_time": "2021-10-30T05:14:37.122Z"
   },
   {
    "duration": 39,
    "start_time": "2021-10-30T05:14:37.147Z"
   },
   {
    "duration": 21,
    "start_time": "2021-10-30T05:14:37.188Z"
   },
   {
    "duration": 2,
    "start_time": "2021-10-30T05:14:37.211Z"
   },
   {
    "duration": 5,
    "start_time": "2021-10-30T05:14:37.214Z"
   },
   {
    "duration": 4,
    "start_time": "2021-10-30T05:14:37.220Z"
   },
   {
    "duration": 4,
    "start_time": "2021-10-30T05:14:37.226Z"
   },
   {
    "duration": 11,
    "start_time": "2021-10-30T05:15:06.912Z"
   },
   {
    "duration": 16,
    "start_time": "2021-10-30T05:15:37.295Z"
   },
   {
    "duration": 18,
    "start_time": "2021-10-30T05:15:56.496Z"
   },
   {
    "duration": 10,
    "start_time": "2021-10-30T05:16:02.096Z"
   },
   {
    "duration": 11,
    "start_time": "2021-10-30T05:16:28.503Z"
   },
   {
    "duration": 2,
    "start_time": "2021-10-30T05:16:34.415Z"
   },
   {
    "duration": 145,
    "start_time": "2021-10-30T05:16:34.419Z"
   },
   {
    "duration": 11,
    "start_time": "2021-10-30T05:16:34.566Z"
   },
   {
    "duration": 25,
    "start_time": "2021-10-30T05:16:34.579Z"
   },
   {
    "duration": 5,
    "start_time": "2021-10-30T05:16:34.606Z"
   },
   {
    "duration": 21,
    "start_time": "2021-10-30T05:16:34.612Z"
   },
   {
    "duration": 4,
    "start_time": "2021-10-30T05:16:34.634Z"
   },
   {
    "duration": 58,
    "start_time": "2021-10-30T05:16:34.640Z"
   },
   {
    "duration": 17,
    "start_time": "2021-10-30T05:16:34.702Z"
   },
   {
    "duration": 24,
    "start_time": "2021-10-30T05:16:34.722Z"
   },
   {
    "duration": 79,
    "start_time": "2021-10-30T05:16:34.748Z"
   },
   {
    "duration": 70,
    "start_time": "2021-10-30T05:16:34.829Z"
   },
   {
    "duration": 48,
    "start_time": "2021-10-30T05:16:34.900Z"
   },
   {
    "duration": 64,
    "start_time": "2021-10-30T05:16:34.950Z"
   },
   {
    "duration": 3,
    "start_time": "2021-10-30T05:16:35.015Z"
   },
   {
    "duration": 17,
    "start_time": "2021-10-30T05:16:35.020Z"
   },
   {
    "duration": 83,
    "start_time": "2021-10-30T05:16:35.039Z"
   },
   {
    "duration": 13,
    "start_time": "2021-10-30T05:16:35.123Z"
   },
   {
    "duration": 12,
    "start_time": "2021-10-30T05:16:35.138Z"
   },
   {
    "duration": 3,
    "start_time": "2021-10-30T05:16:35.152Z"
   },
   {
    "duration": 37,
    "start_time": "2021-10-30T05:16:35.156Z"
   },
   {
    "duration": 15,
    "start_time": "2021-10-30T05:16:35.194Z"
   },
   {
    "duration": 16,
    "start_time": "2021-10-30T05:16:35.211Z"
   },
   {
    "duration": 15,
    "start_time": "2021-10-30T05:16:35.229Z"
   },
   {
    "duration": 17,
    "start_time": "2021-10-30T05:16:35.277Z"
   },
   {
    "duration": 14,
    "start_time": "2021-10-30T05:16:35.296Z"
   },
   {
    "duration": 9,
    "start_time": "2021-10-30T05:16:35.314Z"
   },
   {
    "duration": 8,
    "start_time": "2021-10-30T05:16:35.324Z"
   },
   {
    "duration": 18,
    "start_time": "2021-10-30T05:16:35.334Z"
   },
   {
    "duration": 4,
    "start_time": "2021-10-30T05:16:35.377Z"
   },
   {
    "duration": 29,
    "start_time": "2021-10-30T05:16:35.382Z"
   },
   {
    "duration": 22,
    "start_time": "2021-10-30T05:16:35.413Z"
   },
   {
    "duration": 40,
    "start_time": "2021-10-30T05:16:35.437Z"
   },
   {
    "duration": 23,
    "start_time": "2021-10-30T05:16:35.479Z"
   },
   {
    "duration": 2,
    "start_time": "2021-10-30T05:16:35.504Z"
   },
   {
    "duration": 7,
    "start_time": "2021-10-30T05:16:35.508Z"
   },
   {
    "duration": 4,
    "start_time": "2021-10-30T05:16:35.517Z"
   },
   {
    "duration": 7,
    "start_time": "2021-10-30T05:16:35.523Z"
   },
   {
    "duration": 7,
    "start_time": "2021-10-30T05:23:25.022Z"
   },
   {
    "duration": 10,
    "start_time": "2021-10-30T05:23:26.735Z"
   },
   {
    "duration": 2,
    "start_time": "2021-10-30T05:23:29.455Z"
   },
   {
    "duration": 152,
    "start_time": "2021-10-30T05:23:29.459Z"
   },
   {
    "duration": 11,
    "start_time": "2021-10-30T05:23:29.613Z"
   },
   {
    "duration": 24,
    "start_time": "2021-10-30T05:23:29.626Z"
   },
   {
    "duration": 26,
    "start_time": "2021-10-30T05:23:29.652Z"
   },
   {
    "duration": 21,
    "start_time": "2021-10-30T05:23:29.679Z"
   },
   {
    "duration": 9,
    "start_time": "2021-10-30T05:23:29.702Z"
   },
   {
    "duration": 24,
    "start_time": "2021-10-30T05:23:29.714Z"
   },
   {
    "duration": 43,
    "start_time": "2021-10-30T05:23:29.741Z"
   },
   {
    "duration": 23,
    "start_time": "2021-10-30T05:23:29.785Z"
   },
   {
    "duration": 71,
    "start_time": "2021-10-30T05:23:29.810Z"
   },
   {
    "duration": 63,
    "start_time": "2021-10-30T05:23:29.882Z"
   },
   {
    "duration": 68,
    "start_time": "2021-10-30T05:23:29.947Z"
   },
   {
    "duration": 59,
    "start_time": "2021-10-30T05:23:30.017Z"
   },
   {
    "duration": 3,
    "start_time": "2021-10-30T05:23:30.078Z"
   },
   {
    "duration": 27,
    "start_time": "2021-10-30T05:23:30.083Z"
   },
   {
    "duration": 87,
    "start_time": "2021-10-30T05:23:30.112Z"
   },
   {
    "duration": 14,
    "start_time": "2021-10-30T05:23:30.201Z"
   },
   {
    "duration": 15,
    "start_time": "2021-10-30T05:23:30.217Z"
   },
   {
    "duration": 3,
    "start_time": "2021-10-30T05:23:30.234Z"
   },
   {
    "duration": 46,
    "start_time": "2021-10-30T05:23:30.239Z"
   },
   {
    "duration": 15,
    "start_time": "2021-10-30T05:23:30.286Z"
   },
   {
    "duration": 22,
    "start_time": "2021-10-30T05:23:30.304Z"
   },
   {
    "duration": 24,
    "start_time": "2021-10-30T05:23:30.328Z"
   },
   {
    "duration": 26,
    "start_time": "2021-10-30T05:23:30.354Z"
   },
   {
    "duration": 14,
    "start_time": "2021-10-30T05:23:30.382Z"
   },
   {
    "duration": 23,
    "start_time": "2021-10-30T05:23:30.398Z"
   },
   {
    "duration": 11,
    "start_time": "2021-10-30T05:23:30.423Z"
   },
   {
    "duration": 25,
    "start_time": "2021-10-30T05:23:30.436Z"
   },
   {
    "duration": 22,
    "start_time": "2021-10-30T05:23:30.463Z"
   },
   {
    "duration": 42,
    "start_time": "2021-10-30T05:23:30.487Z"
   },
   {
    "duration": 36,
    "start_time": "2021-10-30T05:23:30.531Z"
   },
   {
    "duration": 32,
    "start_time": "2021-10-30T05:23:30.569Z"
   },
   {
    "duration": 28,
    "start_time": "2021-10-30T05:23:30.603Z"
   },
   {
    "duration": 3,
    "start_time": "2021-10-30T05:23:30.633Z"
   },
   {
    "duration": 13,
    "start_time": "2021-10-30T05:23:30.638Z"
   },
   {
    "duration": 12,
    "start_time": "2021-10-30T05:23:30.653Z"
   },
   {
    "duration": 10,
    "start_time": "2021-10-30T05:23:30.667Z"
   },
   {
    "duration": 376,
    "start_time": "2021-10-30T05:24:00.334Z"
   },
   {
    "duration": 345,
    "start_time": "2021-10-30T05:24:05.822Z"
   },
   {
    "duration": 110,
    "start_time": "2021-10-30T05:24:09.062Z"
   },
   {
    "duration": 13,
    "start_time": "2021-10-30T05:24:20.855Z"
   },
   {
    "duration": 10,
    "start_time": "2021-10-30T05:24:37.254Z"
   },
   {
    "duration": 19,
    "start_time": "2021-10-30T05:24:59.774Z"
   },
   {
    "duration": 25,
    "start_time": "2021-10-30T05:25:29.334Z"
   },
   {
    "duration": 114,
    "start_time": "2021-10-30T05:25:49.822Z"
   },
   {
    "duration": 15,
    "start_time": "2021-10-30T05:25:58.574Z"
   },
   {
    "duration": 17,
    "start_time": "2021-10-30T05:26:08.414Z"
   },
   {
    "duration": 25,
    "start_time": "2021-10-30T05:26:33.136Z"
   },
   {
    "duration": 8,
    "start_time": "2021-10-30T05:32:05.063Z"
   },
   {
    "duration": 3,
    "start_time": "2021-10-30T05:32:07.726Z"
   },
   {
    "duration": 149,
    "start_time": "2021-10-30T05:32:07.733Z"
   },
   {
    "duration": 11,
    "start_time": "2021-10-30T05:32:07.884Z"
   },
   {
    "duration": 24,
    "start_time": "2021-10-30T05:32:07.897Z"
   },
   {
    "duration": 4,
    "start_time": "2021-10-30T05:32:07.924Z"
   },
   {
    "duration": 48,
    "start_time": "2021-10-30T05:32:07.929Z"
   },
   {
    "duration": 4,
    "start_time": "2021-10-30T05:32:07.979Z"
   },
   {
    "duration": 26,
    "start_time": "2021-10-30T05:32:07.985Z"
   },
   {
    "duration": 18,
    "start_time": "2021-10-30T05:32:08.014Z"
   },
   {
    "duration": 46,
    "start_time": "2021-10-30T05:32:08.034Z"
   },
   {
    "duration": 59,
    "start_time": "2021-10-30T05:32:08.082Z"
   },
   {
    "duration": 85,
    "start_time": "2021-10-30T05:32:08.143Z"
   },
   {
    "duration": 56,
    "start_time": "2021-10-30T05:32:08.229Z"
   },
   {
    "duration": 50,
    "start_time": "2021-10-30T05:32:08.287Z"
   },
   {
    "duration": 2,
    "start_time": "2021-10-30T05:32:08.339Z"
   },
   {
    "duration": 34,
    "start_time": "2021-10-30T05:32:08.343Z"
   },
   {
    "duration": 64,
    "start_time": "2021-10-30T05:32:08.378Z"
   },
   {
    "duration": 13,
    "start_time": "2021-10-30T05:32:08.443Z"
   },
   {
    "duration": 30,
    "start_time": "2021-10-30T05:32:08.457Z"
   },
   {
    "duration": 4,
    "start_time": "2021-10-30T05:32:08.488Z"
   },
   {
    "duration": 21,
    "start_time": "2021-10-30T05:32:08.493Z"
   },
   {
    "duration": 14,
    "start_time": "2021-10-30T05:32:08.516Z"
   },
   {
    "duration": 16,
    "start_time": "2021-10-30T05:32:08.532Z"
   },
   {
    "duration": 15,
    "start_time": "2021-10-30T05:32:08.579Z"
   },
   {
    "duration": 17,
    "start_time": "2021-10-30T05:32:08.596Z"
   },
   {
    "duration": 14,
    "start_time": "2021-10-30T05:32:08.615Z"
   },
   {
    "duration": 9,
    "start_time": "2021-10-30T05:32:08.630Z"
   },
   {
    "duration": 58,
    "start_time": "2021-10-30T05:32:08.640Z"
   },
   {
    "duration": 18,
    "start_time": "2021-10-30T05:32:08.700Z"
   },
   {
    "duration": 4,
    "start_time": "2021-10-30T05:32:08.719Z"
   },
   {
    "duration": 30,
    "start_time": "2021-10-30T05:32:08.725Z"
   },
   {
    "duration": 39,
    "start_time": "2021-10-30T05:32:08.757Z"
   },
   {
    "duration": 22,
    "start_time": "2021-10-30T05:32:08.798Z"
   },
   {
    "duration": 23,
    "start_time": "2021-10-30T05:32:08.822Z"
   },
   {
    "duration": 36,
    "start_time": "2021-10-30T05:32:08.847Z"
   },
   {
    "duration": 2,
    "start_time": "2021-10-30T05:32:08.885Z"
   },
   {
    "duration": 4,
    "start_time": "2021-10-30T05:32:08.889Z"
   },
   {
    "duration": 7,
    "start_time": "2021-10-30T05:32:08.895Z"
   },
   {
    "duration": 12,
    "start_time": "2021-10-30T05:32:36.222Z"
   },
   {
    "duration": 5,
    "start_time": "2021-10-30T05:33:14.022Z"
   },
   {
    "duration": 351,
    "start_time": "2021-10-30T05:34:07.695Z"
   },
   {
    "duration": 350,
    "start_time": "2021-10-30T05:34:14.214Z"
   },
   {
    "duration": 6,
    "start_time": "2021-10-30T05:34:23.504Z"
   },
   {
    "duration": 6,
    "start_time": "2021-10-30T05:34:25.816Z"
   },
   {
    "duration": 3,
    "start_time": "2021-10-30T05:36:20.846Z"
   },
   {
    "duration": 149,
    "start_time": "2021-10-30T05:36:20.853Z"
   },
   {
    "duration": 10,
    "start_time": "2021-10-30T05:36:21.004Z"
   },
   {
    "duration": 25,
    "start_time": "2021-10-30T05:36:21.017Z"
   },
   {
    "duration": 3,
    "start_time": "2021-10-30T05:36:21.044Z"
   },
   {
    "duration": 40,
    "start_time": "2021-10-30T05:36:21.049Z"
   },
   {
    "duration": 4,
    "start_time": "2021-10-30T05:36:21.091Z"
   },
   {
    "duration": 27,
    "start_time": "2021-10-30T05:36:21.096Z"
   },
   {
    "duration": 18,
    "start_time": "2021-10-30T05:36:21.126Z"
   },
   {
    "duration": 55,
    "start_time": "2021-10-30T05:36:21.147Z"
   },
   {
    "duration": 58,
    "start_time": "2021-10-30T05:36:21.203Z"
   },
   {
    "duration": 77,
    "start_time": "2021-10-30T05:36:21.263Z"
   },
   {
    "duration": 63,
    "start_time": "2021-10-30T05:36:21.341Z"
   },
   {
    "duration": 49,
    "start_time": "2021-10-30T05:36:21.405Z"
   },
   {
    "duration": 3,
    "start_time": "2021-10-30T05:36:21.455Z"
   },
   {
    "duration": 29,
    "start_time": "2021-10-30T05:36:21.460Z"
   },
   {
    "duration": 65,
    "start_time": "2021-10-30T05:36:21.491Z"
   },
   {
    "duration": 30,
    "start_time": "2021-10-30T05:36:21.558Z"
   },
   {
    "duration": 13,
    "start_time": "2021-10-30T05:36:21.590Z"
   },
   {
    "duration": 3,
    "start_time": "2021-10-30T05:36:21.605Z"
   },
   {
    "duration": 26,
    "start_time": "2021-10-30T05:36:21.610Z"
   },
   {
    "duration": 15,
    "start_time": "2021-10-30T05:36:21.637Z"
   },
   {
    "duration": 16,
    "start_time": "2021-10-30T05:36:21.677Z"
   },
   {
    "duration": 21,
    "start_time": "2021-10-30T05:36:21.696Z"
   },
   {
    "duration": 16,
    "start_time": "2021-10-30T05:36:21.719Z"
   },
   {
    "duration": 14,
    "start_time": "2021-10-30T05:36:21.737Z"
   },
   {
    "duration": 30,
    "start_time": "2021-10-30T05:36:21.752Z"
   },
   {
    "duration": 25,
    "start_time": "2021-10-30T05:36:21.784Z"
   },
   {
    "duration": 17,
    "start_time": "2021-10-30T05:36:21.811Z"
   },
   {
    "duration": 4,
    "start_time": "2021-10-30T05:36:21.829Z"
   },
   {
    "duration": 52,
    "start_time": "2021-10-30T05:36:21.834Z"
   },
   {
    "duration": 22,
    "start_time": "2021-10-30T05:36:21.888Z"
   },
   {
    "duration": 23,
    "start_time": "2021-10-30T05:36:21.912Z"
   },
   {
    "duration": 44,
    "start_time": "2021-10-30T05:36:21.937Z"
   },
   {
    "duration": 8,
    "start_time": "2021-10-30T05:36:21.982Z"
   },
   {
    "duration": 5,
    "start_time": "2021-10-30T05:36:21.991Z"
   },
   {
    "duration": 8,
    "start_time": "2021-10-30T05:36:21.997Z"
   },
   {
    "duration": 7,
    "start_time": "2021-10-30T05:36:22.007Z"
   },
   {
    "duration": 2,
    "start_time": "2021-10-30T05:37:56.336Z"
   },
   {
    "duration": 146,
    "start_time": "2021-10-30T05:37:56.375Z"
   },
   {
    "duration": 10,
    "start_time": "2021-10-30T05:37:56.523Z"
   },
   {
    "duration": 45,
    "start_time": "2021-10-30T05:37:56.535Z"
   },
   {
    "duration": 4,
    "start_time": "2021-10-30T05:37:56.582Z"
   },
   {
    "duration": 19,
    "start_time": "2021-10-30T05:37:56.587Z"
   },
   {
    "duration": 4,
    "start_time": "2021-10-30T05:37:56.608Z"
   },
   {
    "duration": 29,
    "start_time": "2021-10-30T05:37:56.613Z"
   },
   {
    "duration": 44,
    "start_time": "2021-10-30T05:37:56.645Z"
   },
   {
    "duration": 26,
    "start_time": "2021-10-30T05:37:56.691Z"
   },
   {
    "duration": 75,
    "start_time": "2021-10-30T05:37:56.719Z"
   },
   {
    "duration": 60,
    "start_time": "2021-10-30T05:37:56.796Z"
   },
   {
    "duration": 65,
    "start_time": "2021-10-30T05:37:56.858Z"
   },
   {
    "duration": 57,
    "start_time": "2021-10-30T05:37:56.924Z"
   },
   {
    "duration": 3,
    "start_time": "2021-10-30T05:37:56.983Z"
   },
   {
    "duration": 18,
    "start_time": "2021-10-30T05:37:56.988Z"
   },
   {
    "duration": 83,
    "start_time": "2021-10-30T05:37:57.008Z"
   },
   {
    "duration": 15,
    "start_time": "2021-10-30T05:37:57.093Z"
   },
   {
    "duration": 13,
    "start_time": "2021-10-30T05:37:57.109Z"
   },
   {
    "duration": 3,
    "start_time": "2021-10-30T05:37:57.123Z"
   },
   {
    "duration": 22,
    "start_time": "2021-10-30T05:37:57.128Z"
   },
   {
    "duration": 40,
    "start_time": "2021-10-30T05:37:57.151Z"
   },
   {
    "duration": 16,
    "start_time": "2021-10-30T05:37:57.192Z"
   },
   {
    "duration": 14,
    "start_time": "2021-10-30T05:37:57.211Z"
   },
   {
    "duration": 20,
    "start_time": "2021-10-30T05:37:57.227Z"
   },
   {
    "duration": 15,
    "start_time": "2021-10-30T05:37:57.278Z"
   },
   {
    "duration": 11,
    "start_time": "2021-10-30T05:37:57.294Z"
   },
   {
    "duration": 23,
    "start_time": "2021-10-30T05:37:57.307Z"
   },
   {
    "duration": 18,
    "start_time": "2021-10-30T05:37:57.331Z"
   },
   {
    "duration": 5,
    "start_time": "2021-10-30T05:37:57.376Z"
   },
   {
    "duration": 26,
    "start_time": "2021-10-30T05:37:57.383Z"
   },
   {
    "duration": 23,
    "start_time": "2021-10-30T05:37:57.411Z"
   },
   {
    "duration": 44,
    "start_time": "2021-10-30T05:37:57.436Z"
   },
   {
    "duration": 22,
    "start_time": "2021-10-30T05:37:57.482Z"
   },
   {
    "duration": 7,
    "start_time": "2021-10-30T05:37:57.506Z"
   },
   {
    "duration": 4,
    "start_time": "2021-10-30T05:37:57.515Z"
   },
   {
    "duration": 6,
    "start_time": "2021-10-30T05:37:57.521Z"
   },
   {
    "duration": 5,
    "start_time": "2021-10-30T05:37:57.528Z"
   },
   {
    "duration": 2,
    "start_time": "2021-10-30T05:41:14.449Z"
   },
   {
    "duration": 158,
    "start_time": "2021-10-30T05:41:14.456Z"
   },
   {
    "duration": 12,
    "start_time": "2021-10-30T05:41:14.616Z"
   },
   {
    "duration": 25,
    "start_time": "2021-10-30T05:41:14.630Z"
   },
   {
    "duration": 5,
    "start_time": "2021-10-30T05:41:14.676Z"
   },
   {
    "duration": 29,
    "start_time": "2021-10-30T05:41:14.683Z"
   },
   {
    "duration": 5,
    "start_time": "2021-10-30T05:41:14.714Z"
   },
   {
    "duration": 27,
    "start_time": "2021-10-30T05:41:14.721Z"
   },
   {
    "duration": 41,
    "start_time": "2021-10-30T05:41:14.751Z"
   },
   {
    "duration": 24,
    "start_time": "2021-10-30T05:41:14.794Z"
   },
   {
    "duration": 81,
    "start_time": "2021-10-30T05:41:14.820Z"
   },
   {
    "duration": 61,
    "start_time": "2021-10-30T05:41:14.903Z"
   },
   {
    "duration": 60,
    "start_time": "2021-10-30T05:41:14.965Z"
   },
   {
    "duration": 63,
    "start_time": "2021-10-30T05:41:15.026Z"
   },
   {
    "duration": 3,
    "start_time": "2021-10-30T05:41:15.091Z"
   },
   {
    "duration": 17,
    "start_time": "2021-10-30T05:41:15.095Z"
   },
   {
    "duration": 76,
    "start_time": "2021-10-30T05:41:15.113Z"
   },
   {
    "duration": 13,
    "start_time": "2021-10-30T05:41:15.190Z"
   },
   {
    "duration": 11,
    "start_time": "2021-10-30T05:41:15.205Z"
   },
   {
    "duration": 4,
    "start_time": "2021-10-30T05:41:15.217Z"
   },
   {
    "duration": 23,
    "start_time": "2021-10-30T05:41:15.222Z"
   },
   {
    "duration": 39,
    "start_time": "2021-10-30T05:41:15.247Z"
   },
   {
    "duration": 15,
    "start_time": "2021-10-30T05:41:15.288Z"
   },
   {
    "duration": 14,
    "start_time": "2021-10-30T05:41:15.307Z"
   },
   {
    "duration": 17,
    "start_time": "2021-10-30T05:41:15.323Z"
   },
   {
    "duration": 43,
    "start_time": "2021-10-30T05:41:15.341Z"
   },
   {
    "duration": 8,
    "start_time": "2021-10-30T05:41:15.386Z"
   },
   {
    "duration": 19,
    "start_time": "2021-10-30T05:41:15.395Z"
   },
   {
    "duration": 16,
    "start_time": "2021-10-30T05:41:15.415Z"
   },
   {
    "duration": 3,
    "start_time": "2021-10-30T05:41:15.433Z"
   },
   {
    "duration": 57,
    "start_time": "2021-10-30T05:41:15.438Z"
   },
   {
    "duration": 22,
    "start_time": "2021-10-30T05:41:15.497Z"
   },
   {
    "duration": 23,
    "start_time": "2021-10-30T05:41:15.520Z"
   },
   {
    "duration": 43,
    "start_time": "2021-10-30T05:41:15.544Z"
   },
   {
    "duration": 6,
    "start_time": "2021-10-30T05:41:15.589Z"
   },
   {
    "duration": 6,
    "start_time": "2021-10-30T05:41:15.597Z"
   },
   {
    "duration": 7,
    "start_time": "2021-10-30T05:41:15.604Z"
   },
   {
    "duration": 9,
    "start_time": "2021-10-30T05:41:15.612Z"
   },
   {
    "duration": 361,
    "start_time": "2021-10-30T05:42:48.102Z"
   },
   {
    "duration": 21,
    "start_time": "2021-10-30T05:42:55.258Z"
   },
   {
    "duration": 22,
    "start_time": "2021-10-30T05:43:04.618Z"
   },
   {
    "duration": 22,
    "start_time": "2021-10-30T05:43:33.466Z"
   },
   {
    "duration": 2,
    "start_time": "2021-10-30T05:44:30.977Z"
   },
   {
    "duration": 165,
    "start_time": "2021-10-30T05:44:30.981Z"
   },
   {
    "duration": 10,
    "start_time": "2021-10-30T05:44:31.148Z"
   },
   {
    "duration": 36,
    "start_time": "2021-10-30T05:44:31.160Z"
   },
   {
    "duration": 22,
    "start_time": "2021-10-30T05:44:31.198Z"
   },
   {
    "duration": 36,
    "start_time": "2021-10-30T05:44:31.222Z"
   },
   {
    "duration": 15,
    "start_time": "2021-10-30T05:44:31.260Z"
   },
   {
    "duration": 43,
    "start_time": "2021-10-30T05:44:31.278Z"
   },
   {
    "duration": 22,
    "start_time": "2021-10-30T05:44:31.324Z"
   },
   {
    "duration": 41,
    "start_time": "2021-10-30T05:44:31.348Z"
   },
   {
    "duration": 86,
    "start_time": "2021-10-30T05:44:31.391Z"
   },
   {
    "duration": 63,
    "start_time": "2021-10-30T05:44:31.479Z"
   },
   {
    "duration": 61,
    "start_time": "2021-10-30T05:44:31.543Z"
   },
   {
    "duration": 49,
    "start_time": "2021-10-30T05:44:31.606Z"
   },
   {
    "duration": 3,
    "start_time": "2021-10-30T05:44:31.657Z"
   },
   {
    "duration": 29,
    "start_time": "2021-10-30T05:44:31.662Z"
   },
   {
    "duration": 79,
    "start_time": "2021-10-30T05:44:31.693Z"
   },
   {
    "duration": 12,
    "start_time": "2021-10-30T05:44:31.777Z"
   },
   {
    "duration": 23,
    "start_time": "2021-10-30T05:44:31.791Z"
   },
   {
    "duration": 11,
    "start_time": "2021-10-30T05:44:31.815Z"
   },
   {
    "duration": 37,
    "start_time": "2021-10-30T05:44:31.828Z"
   },
   {
    "duration": 35,
    "start_time": "2021-10-30T05:44:31.867Z"
   },
   {
    "duration": 27,
    "start_time": "2021-10-30T05:44:31.905Z"
   },
   {
    "duration": 34,
    "start_time": "2021-10-30T05:44:31.934Z"
   },
   {
    "duration": 35,
    "start_time": "2021-10-30T05:44:31.969Z"
   },
   {
    "duration": 21,
    "start_time": "2021-10-30T05:44:32.005Z"
   },
   {
    "duration": 26,
    "start_time": "2021-10-30T05:44:32.028Z"
   },
   {
    "duration": 37,
    "start_time": "2021-10-30T05:44:32.056Z"
   },
   {
    "duration": 30,
    "start_time": "2021-10-30T05:44:32.094Z"
   },
   {
    "duration": 17,
    "start_time": "2021-10-30T05:44:32.125Z"
   },
   {
    "duration": 48,
    "start_time": "2021-10-30T05:44:32.144Z"
   },
   {
    "duration": 54,
    "start_time": "2021-10-30T05:44:32.194Z"
   },
   {
    "duration": 42,
    "start_time": "2021-10-30T05:44:32.249Z"
   },
   {
    "duration": 38,
    "start_time": "2021-10-30T05:44:32.293Z"
   },
   {
    "duration": 21,
    "start_time": "2021-10-30T05:44:32.333Z"
   },
   {
    "duration": 24,
    "start_time": "2021-10-30T05:44:32.356Z"
   },
   {
    "duration": 18,
    "start_time": "2021-10-30T05:44:32.382Z"
   },
   {
    "duration": 29,
    "start_time": "2021-10-30T05:44:32.402Z"
   },
   {
    "duration": 2,
    "start_time": "2021-10-30T05:46:55.618Z"
   },
   {
    "duration": 148,
    "start_time": "2021-10-30T05:46:55.622Z"
   },
   {
    "duration": 13,
    "start_time": "2021-10-30T05:46:55.772Z"
   },
   {
    "duration": 28,
    "start_time": "2021-10-30T05:46:55.786Z"
   },
   {
    "duration": 6,
    "start_time": "2021-10-30T05:46:55.815Z"
   },
   {
    "duration": 23,
    "start_time": "2021-10-30T05:46:55.822Z"
   },
   {
    "duration": 9,
    "start_time": "2021-10-30T05:46:55.846Z"
   },
   {
    "duration": 41,
    "start_time": "2021-10-30T05:46:55.857Z"
   },
   {
    "duration": 19,
    "start_time": "2021-10-30T05:46:55.902Z"
   },
   {
    "duration": 25,
    "start_time": "2021-10-30T05:46:55.923Z"
   },
   {
    "duration": 81,
    "start_time": "2021-10-30T05:46:55.950Z"
   },
   {
    "duration": 74,
    "start_time": "2021-10-30T05:46:56.033Z"
   },
   {
    "duration": 49,
    "start_time": "2021-10-30T05:46:56.109Z"
   },
   {
    "duration": 62,
    "start_time": "2021-10-30T05:46:56.160Z"
   },
   {
    "duration": 3,
    "start_time": "2021-10-30T05:46:56.224Z"
   },
   {
    "duration": 18,
    "start_time": "2021-10-30T05:46:56.228Z"
   },
   {
    "duration": 90,
    "start_time": "2021-10-30T05:46:56.247Z"
   },
   {
    "duration": 15,
    "start_time": "2021-10-30T05:46:56.338Z"
   },
   {
    "duration": 27,
    "start_time": "2021-10-30T05:46:56.354Z"
   },
   {
    "duration": 4,
    "start_time": "2021-10-30T05:46:56.382Z"
   },
   {
    "duration": 23,
    "start_time": "2021-10-30T05:46:56.387Z"
   },
   {
    "duration": 15,
    "start_time": "2021-10-30T05:46:56.412Z"
   },
   {
    "duration": 17,
    "start_time": "2021-10-30T05:46:56.429Z"
   },
   {
    "duration": 41,
    "start_time": "2021-10-30T05:46:56.448Z"
   },
   {
    "duration": 21,
    "start_time": "2021-10-30T05:46:56.491Z"
   },
   {
    "duration": 15,
    "start_time": "2021-10-30T05:46:56.514Z"
   },
   {
    "duration": 9,
    "start_time": "2021-10-30T05:46:56.532Z"
   },
   {
    "duration": 46,
    "start_time": "2021-10-30T05:46:56.543Z"
   },
   {
    "duration": 16,
    "start_time": "2021-10-30T05:46:56.591Z"
   },
   {
    "duration": 3,
    "start_time": "2021-10-30T05:46:56.609Z"
   },
   {
    "duration": 28,
    "start_time": "2021-10-30T05:46:56.614Z"
   },
   {
    "duration": 46,
    "start_time": "2021-10-30T05:46:56.644Z"
   },
   {
    "duration": 23,
    "start_time": "2021-10-30T05:46:56.692Z"
   },
   {
    "duration": 23,
    "start_time": "2021-10-30T05:46:56.716Z"
   },
   {
    "duration": 36,
    "start_time": "2021-10-30T05:46:56.741Z"
   },
   {
    "duration": 4,
    "start_time": "2021-10-30T05:46:56.779Z"
   },
   {
    "duration": 8,
    "start_time": "2021-10-30T05:46:56.785Z"
   },
   {
    "duration": 5,
    "start_time": "2021-10-30T05:46:56.794Z"
   },
   {
    "duration": 3,
    "start_time": "2021-10-30T05:50:41.929Z"
   },
   {
    "duration": 157,
    "start_time": "2021-10-30T05:50:41.937Z"
   },
   {
    "duration": 10,
    "start_time": "2021-10-30T05:50:42.096Z"
   },
   {
    "duration": 25,
    "start_time": "2021-10-30T05:50:42.109Z"
   },
   {
    "duration": 4,
    "start_time": "2021-10-30T05:50:42.137Z"
   },
   {
    "duration": 45,
    "start_time": "2021-10-30T05:50:42.142Z"
   },
   {
    "duration": 6,
    "start_time": "2021-10-30T05:50:42.189Z"
   },
   {
    "duration": 26,
    "start_time": "2021-10-30T05:50:42.196Z"
   },
   {
    "duration": 19,
    "start_time": "2021-10-30T05:50:42.223Z"
   },
   {
    "duration": 44,
    "start_time": "2021-10-30T05:50:42.245Z"
   },
   {
    "duration": 58,
    "start_time": "2021-10-30T05:50:42.291Z"
   },
   {
    "duration": 77,
    "start_time": "2021-10-30T05:50:42.350Z"
   },
   {
    "duration": 61,
    "start_time": "2021-10-30T05:50:42.428Z"
   },
   {
    "duration": 50,
    "start_time": "2021-10-30T05:50:42.490Z"
   },
   {
    "duration": 3,
    "start_time": "2021-10-30T05:50:42.542Z"
   },
   {
    "duration": 38,
    "start_time": "2021-10-30T05:50:42.547Z"
   },
   {
    "duration": 67,
    "start_time": "2021-10-30T05:50:42.587Z"
   },
   {
    "duration": 30,
    "start_time": "2021-10-30T05:50:42.655Z"
   },
   {
    "duration": 14,
    "start_time": "2021-10-30T05:50:42.687Z"
   },
   {
    "duration": 3,
    "start_time": "2021-10-30T05:50:42.703Z"
   },
   {
    "duration": 23,
    "start_time": "2021-10-30T05:50:42.708Z"
   },
   {
    "duration": 15,
    "start_time": "2021-10-30T05:50:42.733Z"
   },
   {
    "duration": 17,
    "start_time": "2021-10-30T05:50:42.777Z"
   },
   {
    "duration": 16,
    "start_time": "2021-10-30T05:50:42.796Z"
   },
   {
    "duration": 18,
    "start_time": "2021-10-30T05:50:42.814Z"
   },
   {
    "duration": 45,
    "start_time": "2021-10-30T05:50:42.834Z"
   },
   {
    "duration": 10,
    "start_time": "2021-10-30T05:50:42.881Z"
   },
   {
    "duration": 26,
    "start_time": "2021-10-30T05:50:42.894Z"
   },
   {
    "duration": 16,
    "start_time": "2021-10-30T05:50:42.923Z"
   },
   {
    "duration": 4,
    "start_time": "2021-10-30T05:50:42.941Z"
   },
   {
    "duration": 50,
    "start_time": "2021-10-30T05:50:42.947Z"
   },
   {
    "duration": 23,
    "start_time": "2021-10-30T05:50:42.999Z"
   },
   {
    "duration": 23,
    "start_time": "2021-10-30T05:50:43.023Z"
   },
   {
    "duration": 47,
    "start_time": "2021-10-30T05:50:43.047Z"
   },
   {
    "duration": 7,
    "start_time": "2021-10-30T05:50:43.096Z"
   },
   {
    "duration": 7,
    "start_time": "2021-10-30T05:50:43.105Z"
   },
   {
    "duration": 16,
    "start_time": "2021-10-30T05:50:43.113Z"
   },
   {
    "duration": 9,
    "start_time": "2021-10-30T05:50:43.130Z"
   },
   {
    "duration": 3,
    "start_time": "2021-10-30T05:51:45.777Z"
   },
   {
    "duration": 170,
    "start_time": "2021-10-30T05:51:45.783Z"
   },
   {
    "duration": 12,
    "start_time": "2021-10-30T05:51:45.955Z"
   },
   {
    "duration": 38,
    "start_time": "2021-10-30T05:51:45.968Z"
   },
   {
    "duration": 19,
    "start_time": "2021-10-30T05:51:46.008Z"
   },
   {
    "duration": 28,
    "start_time": "2021-10-30T05:51:46.029Z"
   },
   {
    "duration": 11,
    "start_time": "2021-10-30T05:51:46.059Z"
   },
   {
    "duration": 39,
    "start_time": "2021-10-30T05:51:46.072Z"
   },
   {
    "duration": 17,
    "start_time": "2021-10-30T05:51:46.114Z"
   },
   {
    "duration": 22,
    "start_time": "2021-10-30T05:51:46.133Z"
   },
   {
    "duration": 56,
    "start_time": "2021-10-30T05:51:46.157Z"
   },
   {
    "duration": 70,
    "start_time": "2021-10-30T05:51:46.215Z"
   },
   {
    "duration": 51,
    "start_time": "2021-10-30T05:51:46.287Z"
   },
   {
    "duration": 62,
    "start_time": "2021-10-30T05:51:46.340Z"
   },
   {
    "duration": 2,
    "start_time": "2021-10-30T05:51:46.404Z"
   },
   {
    "duration": 22,
    "start_time": "2021-10-30T05:51:46.408Z"
   },
   {
    "duration": 84,
    "start_time": "2021-10-30T05:51:46.432Z"
   },
   {
    "duration": 14,
    "start_time": "2021-10-30T05:51:46.517Z"
   },
   {
    "duration": 12,
    "start_time": "2021-10-30T05:51:46.533Z"
   },
   {
    "duration": 4,
    "start_time": "2021-10-30T05:51:46.547Z"
   },
   {
    "duration": 53,
    "start_time": "2021-10-30T05:51:46.552Z"
   },
   {
    "duration": 22,
    "start_time": "2021-10-30T05:51:46.607Z"
   },
   {
    "duration": 22,
    "start_time": "2021-10-30T05:51:46.630Z"
   },
   {
    "duration": 26,
    "start_time": "2021-10-30T05:51:46.654Z"
   },
   {
    "duration": 23,
    "start_time": "2021-10-30T05:51:46.682Z"
   },
   {
    "duration": 16,
    "start_time": "2021-10-30T05:51:46.706Z"
   },
   {
    "duration": 13,
    "start_time": "2021-10-30T05:51:46.726Z"
   },
   {
    "duration": 29,
    "start_time": "2021-10-30T05:51:46.741Z"
   },
   {
    "duration": 17,
    "start_time": "2021-10-30T05:51:46.776Z"
   },
   {
    "duration": 4,
    "start_time": "2021-10-30T05:51:46.795Z"
   },
   {
    "duration": 31,
    "start_time": "2021-10-30T05:51:46.800Z"
   },
   {
    "duration": 44,
    "start_time": "2021-10-30T05:51:46.833Z"
   },
   {
    "duration": 23,
    "start_time": "2021-10-30T05:51:46.879Z"
   },
   {
    "duration": 22,
    "start_time": "2021-10-30T05:51:46.904Z"
   },
   {
    "duration": 8,
    "start_time": "2021-10-30T05:51:46.928Z"
   },
   {
    "duration": 5,
    "start_time": "2021-10-30T05:51:46.937Z"
   },
   {
    "duration": 40,
    "start_time": "2021-10-30T05:51:46.944Z"
   },
   {
    "duration": 6,
    "start_time": "2021-10-30T05:51:46.986Z"
   },
   {
    "duration": 3,
    "start_time": "2021-10-30T05:52:47.737Z"
   },
   {
    "duration": 150,
    "start_time": "2021-10-30T05:52:47.742Z"
   },
   {
    "duration": 10,
    "start_time": "2021-10-30T05:52:47.894Z"
   },
   {
    "duration": 25,
    "start_time": "2021-10-30T05:52:47.906Z"
   },
   {
    "duration": 5,
    "start_time": "2021-10-30T05:52:47.932Z"
   },
   {
    "duration": 45,
    "start_time": "2021-10-30T05:52:47.938Z"
   },
   {
    "duration": 3,
    "start_time": "2021-10-30T05:52:47.985Z"
   },
   {
    "duration": 24,
    "start_time": "2021-10-30T05:52:47.990Z"
   },
   {
    "duration": 17,
    "start_time": "2021-10-30T05:52:48.017Z"
   },
   {
    "duration": 48,
    "start_time": "2021-10-30T05:52:48.036Z"
   },
   {
    "duration": 54,
    "start_time": "2021-10-30T05:52:48.086Z"
   },
   {
    "duration": 76,
    "start_time": "2021-10-30T05:52:48.142Z"
   },
   {
    "duration": 49,
    "start_time": "2021-10-30T05:52:48.220Z"
   },
   {
    "duration": 48,
    "start_time": "2021-10-30T05:52:48.277Z"
   },
   {
    "duration": 2,
    "start_time": "2021-10-30T05:52:48.327Z"
   },
   {
    "duration": 17,
    "start_time": "2021-10-30T05:52:48.331Z"
   },
   {
    "duration": 85,
    "start_time": "2021-10-30T05:52:48.350Z"
   },
   {
    "duration": 12,
    "start_time": "2021-10-30T05:52:48.437Z"
   },
   {
    "duration": 33,
    "start_time": "2021-10-30T05:52:48.451Z"
   },
   {
    "duration": 3,
    "start_time": "2021-10-30T05:52:48.486Z"
   },
   {
    "duration": 19,
    "start_time": "2021-10-30T05:52:48.491Z"
   },
   {
    "duration": 13,
    "start_time": "2021-10-30T05:52:48.512Z"
   },
   {
    "duration": 14,
    "start_time": "2021-10-30T05:52:48.526Z"
   },
   {
    "duration": 43,
    "start_time": "2021-10-30T05:52:48.541Z"
   },
   {
    "duration": 17,
    "start_time": "2021-10-30T05:52:48.585Z"
   },
   {
    "duration": 15,
    "start_time": "2021-10-30T05:52:48.603Z"
   },
   {
    "duration": 8,
    "start_time": "2021-10-30T05:52:48.621Z"
   },
   {
    "duration": 48,
    "start_time": "2021-10-30T05:52:48.631Z"
   },
   {
    "duration": 16,
    "start_time": "2021-10-30T05:52:48.680Z"
   },
   {
    "duration": 4,
    "start_time": "2021-10-30T05:52:48.697Z"
   },
   {
    "duration": 28,
    "start_time": "2021-10-30T05:52:48.703Z"
   },
   {
    "duration": 47,
    "start_time": "2021-10-30T05:52:48.733Z"
   },
   {
    "duration": 22,
    "start_time": "2021-10-30T05:52:48.781Z"
   },
   {
    "duration": 22,
    "start_time": "2021-10-30T05:52:48.804Z"
   },
   {
    "duration": 6,
    "start_time": "2021-10-30T05:52:48.828Z"
   },
   {
    "duration": 4,
    "start_time": "2021-10-30T05:52:48.836Z"
   },
   {
    "duration": 38,
    "start_time": "2021-10-30T05:52:48.841Z"
   },
   {
    "duration": 4,
    "start_time": "2021-10-30T05:52:48.881Z"
   },
   {
    "duration": 3,
    "start_time": "2021-10-30T05:53:28.297Z"
   },
   {
    "duration": 151,
    "start_time": "2021-10-30T05:53:28.302Z"
   },
   {
    "duration": 10,
    "start_time": "2021-10-30T05:53:28.455Z"
   },
   {
    "duration": 31,
    "start_time": "2021-10-30T05:53:28.467Z"
   },
   {
    "duration": 4,
    "start_time": "2021-10-30T05:53:28.500Z"
   },
   {
    "duration": 21,
    "start_time": "2021-10-30T05:53:28.505Z"
   },
   {
    "duration": 4,
    "start_time": "2021-10-30T05:53:28.528Z"
   },
   {
    "duration": 49,
    "start_time": "2021-10-30T05:53:28.533Z"
   },
   {
    "duration": 19,
    "start_time": "2021-10-30T05:53:28.585Z"
   },
   {
    "duration": 22,
    "start_time": "2021-10-30T05:53:28.606Z"
   },
   {
    "duration": 78,
    "start_time": "2021-10-30T05:53:28.630Z"
   },
   {
    "duration": 70,
    "start_time": "2021-10-30T05:53:28.710Z"
   },
   {
    "duration": 52,
    "start_time": "2021-10-30T05:53:28.781Z"
   },
   {
    "duration": 62,
    "start_time": "2021-10-30T05:53:28.835Z"
   },
   {
    "duration": 3,
    "start_time": "2021-10-30T05:53:28.898Z"
   },
   {
    "duration": 17,
    "start_time": "2021-10-30T05:53:28.903Z"
   },
   {
    "duration": 110,
    "start_time": "2021-10-30T05:53:28.921Z"
   },
   {
    "duration": 16,
    "start_time": "2021-10-30T05:53:29.033Z"
   },
   {
    "duration": 33,
    "start_time": "2021-10-30T05:53:29.051Z"
   },
   {
    "duration": 3,
    "start_time": "2021-10-30T05:53:29.086Z"
   },
   {
    "duration": 22,
    "start_time": "2021-10-30T05:53:29.091Z"
   },
   {
    "duration": 15,
    "start_time": "2021-10-30T05:53:29.115Z"
   },
   {
    "duration": 16,
    "start_time": "2021-10-30T05:53:29.131Z"
   },
   {
    "duration": 42,
    "start_time": "2021-10-30T05:53:29.149Z"
   },
   {
    "duration": 19,
    "start_time": "2021-10-30T05:53:29.193Z"
   },
   {
    "duration": 17,
    "start_time": "2021-10-30T05:53:29.214Z"
   },
   {
    "duration": 41,
    "start_time": "2021-10-30T05:53:29.235Z"
   },
   {
    "duration": 21,
    "start_time": "2021-10-30T05:53:29.279Z"
   },
   {
    "duration": 18,
    "start_time": "2021-10-30T05:53:29.302Z"
   },
   {
    "duration": 5,
    "start_time": "2021-10-30T05:53:29.322Z"
   },
   {
    "duration": 71,
    "start_time": "2021-10-30T05:53:29.329Z"
   },
   {
    "duration": 25,
    "start_time": "2021-10-30T05:53:29.401Z"
   },
   {
    "duration": 25,
    "start_time": "2021-10-30T05:53:29.428Z"
   },
   {
    "duration": 25,
    "start_time": "2021-10-30T05:53:29.476Z"
   },
   {
    "duration": 8,
    "start_time": "2021-10-30T05:53:29.503Z"
   },
   {
    "duration": 6,
    "start_time": "2021-10-30T05:53:29.513Z"
   },
   {
    "duration": 7,
    "start_time": "2021-10-30T05:53:29.521Z"
   },
   {
    "duration": 6,
    "start_time": "2021-10-30T05:53:29.530Z"
   },
   {
    "duration": 2,
    "start_time": "2021-10-30T05:54:05.297Z"
   },
   {
    "duration": 152,
    "start_time": "2021-10-30T05:54:05.302Z"
   },
   {
    "duration": 10,
    "start_time": "2021-10-30T05:54:05.457Z"
   },
   {
    "duration": 26,
    "start_time": "2021-10-30T05:54:05.476Z"
   },
   {
    "duration": 5,
    "start_time": "2021-10-30T05:54:05.504Z"
   },
   {
    "duration": 21,
    "start_time": "2021-10-30T05:54:05.511Z"
   },
   {
    "duration": 4,
    "start_time": "2021-10-30T05:54:05.534Z"
   },
   {
    "duration": 53,
    "start_time": "2021-10-30T05:54:05.542Z"
   },
   {
    "duration": 20,
    "start_time": "2021-10-30T05:54:05.597Z"
   },
   {
    "duration": 25,
    "start_time": "2021-10-30T05:54:05.618Z"
   },
   {
    "duration": 76,
    "start_time": "2021-10-30T05:54:05.645Z"
   },
   {
    "duration": 72,
    "start_time": "2021-10-30T05:54:05.723Z"
   },
   {
    "duration": 50,
    "start_time": "2021-10-30T05:54:05.796Z"
   },
   {
    "duration": 62,
    "start_time": "2021-10-30T05:54:05.848Z"
   },
   {
    "duration": 2,
    "start_time": "2021-10-30T05:54:05.912Z"
   },
   {
    "duration": 17,
    "start_time": "2021-10-30T05:54:05.916Z"
   },
   {
    "duration": 83,
    "start_time": "2021-10-30T05:54:05.935Z"
   },
   {
    "duration": 13,
    "start_time": "2021-10-30T05:54:06.020Z"
   },
   {
    "duration": 11,
    "start_time": "2021-10-30T05:54:06.035Z"
   },
   {
    "duration": 3,
    "start_time": "2021-10-30T05:54:06.048Z"
   },
   {
    "duration": 39,
    "start_time": "2021-10-30T05:54:06.053Z"
   },
   {
    "duration": 14,
    "start_time": "2021-10-30T05:54:06.094Z"
   },
   {
    "duration": 14,
    "start_time": "2021-10-30T05:54:06.111Z"
   },
   {
    "duration": 13,
    "start_time": "2021-10-30T05:54:06.127Z"
   },
   {
    "duration": 45,
    "start_time": "2021-10-30T05:54:06.142Z"
   },
   {
    "duration": 15,
    "start_time": "2021-10-30T05:54:06.189Z"
   },
   {
    "duration": 9,
    "start_time": "2021-10-30T05:54:06.205Z"
   },
   {
    "duration": 20,
    "start_time": "2021-10-30T05:54:06.216Z"
   },
   {
    "duration": 46,
    "start_time": "2021-10-30T05:54:06.238Z"
   },
   {
    "duration": 3,
    "start_time": "2021-10-30T05:54:06.286Z"
   },
   {
    "duration": 36,
    "start_time": "2021-10-30T05:54:06.291Z"
   },
   {
    "duration": 23,
    "start_time": "2021-10-30T05:54:06.328Z"
   },
   {
    "duration": 35,
    "start_time": "2021-10-30T05:54:06.352Z"
   },
   {
    "duration": 21,
    "start_time": "2021-10-30T05:54:06.388Z"
   },
   {
    "duration": 7,
    "start_time": "2021-10-30T05:54:06.411Z"
   },
   {
    "duration": 4,
    "start_time": "2021-10-30T05:54:06.419Z"
   },
   {
    "duration": 8,
    "start_time": "2021-10-30T05:54:06.425Z"
   },
   {
    "duration": 5,
    "start_time": "2021-10-30T05:54:06.435Z"
   },
   {
    "duration": 3,
    "start_time": "2021-10-30T05:55:07.488Z"
   },
   {
    "duration": 141,
    "start_time": "2021-10-30T05:55:07.495Z"
   },
   {
    "duration": 10,
    "start_time": "2021-10-30T05:55:07.638Z"
   },
   {
    "duration": 33,
    "start_time": "2021-10-30T05:55:07.650Z"
   },
   {
    "duration": 4,
    "start_time": "2021-10-30T05:55:07.685Z"
   },
   {
    "duration": 20,
    "start_time": "2021-10-30T05:55:07.691Z"
   },
   {
    "duration": 4,
    "start_time": "2021-10-30T05:55:07.713Z"
   },
   {
    "duration": 24,
    "start_time": "2021-10-30T05:55:07.719Z"
   },
   {
    "duration": 44,
    "start_time": "2021-10-30T05:55:07.745Z"
   },
   {
    "duration": 23,
    "start_time": "2021-10-30T05:55:07.792Z"
   },
   {
    "duration": 72,
    "start_time": "2021-10-30T05:55:07.818Z"
   },
   {
    "duration": 62,
    "start_time": "2021-10-30T05:55:07.892Z"
   },
   {
    "duration": 62,
    "start_time": "2021-10-30T05:55:07.956Z"
   },
   {
    "duration": 62,
    "start_time": "2021-10-30T05:55:08.020Z"
   },
   {
    "duration": 3,
    "start_time": "2021-10-30T05:55:08.083Z"
   },
   {
    "duration": 17,
    "start_time": "2021-10-30T05:55:08.087Z"
   },
   {
    "duration": 79,
    "start_time": "2021-10-30T05:55:08.105Z"
   },
   {
    "duration": 13,
    "start_time": "2021-10-30T05:55:08.186Z"
   },
   {
    "duration": 13,
    "start_time": "2021-10-30T05:55:08.201Z"
   },
   {
    "duration": 3,
    "start_time": "2021-10-30T05:55:08.216Z"
   },
   {
    "duration": 20,
    "start_time": "2021-10-30T05:55:08.221Z"
   },
   {
    "duration": 44,
    "start_time": "2021-10-30T05:55:08.243Z"
   },
   {
    "duration": 16,
    "start_time": "2021-10-30T05:55:08.288Z"
   },
   {
    "duration": 15,
    "start_time": "2021-10-30T05:55:08.305Z"
   },
   {
    "duration": 17,
    "start_time": "2021-10-30T05:55:08.321Z"
   },
   {
    "duration": 44,
    "start_time": "2021-10-30T05:55:08.339Z"
   },
   {
    "duration": 9,
    "start_time": "2021-10-30T05:55:08.384Z"
   },
   {
    "duration": 33,
    "start_time": "2021-10-30T05:55:08.396Z"
   },
   {
    "duration": 24,
    "start_time": "2021-10-30T05:55:08.430Z"
   },
   {
    "duration": 6,
    "start_time": "2021-10-30T05:55:08.456Z"
   },
   {
    "duration": 61,
    "start_time": "2021-10-30T05:55:08.463Z"
   },
   {
    "duration": 37,
    "start_time": "2021-10-30T05:55:08.526Z"
   },
   {
    "duration": 27,
    "start_time": "2021-10-30T05:55:08.565Z"
   },
   {
    "duration": 34,
    "start_time": "2021-10-30T05:55:08.593Z"
   },
   {
    "duration": 7,
    "start_time": "2021-10-30T05:55:08.629Z"
   },
   {
    "duration": 4,
    "start_time": "2021-10-30T05:55:08.638Z"
   },
   {
    "duration": 8,
    "start_time": "2021-10-30T05:55:08.643Z"
   },
   {
    "duration": 4,
    "start_time": "2021-10-30T05:55:08.653Z"
   },
   {
    "duration": 733,
    "start_time": "2021-10-30T10:26:05.101Z"
   },
   {
    "duration": 183,
    "start_time": "2021-10-30T10:26:05.837Z"
   },
   {
    "duration": 24,
    "start_time": "2021-10-30T10:26:06.023Z"
   },
   {
    "duration": 47,
    "start_time": "2021-10-30T10:26:06.049Z"
   },
   {
    "duration": 15,
    "start_time": "2021-10-30T10:26:06.098Z"
   },
   {
    "duration": 34,
    "start_time": "2021-10-30T10:26:06.116Z"
   },
   {
    "duration": 9,
    "start_time": "2021-10-30T10:26:06.152Z"
   },
   {
    "duration": 44,
    "start_time": "2021-10-30T10:26:06.164Z"
   },
   {
    "duration": 23,
    "start_time": "2021-10-30T10:26:06.212Z"
   },
   {
    "duration": 54,
    "start_time": "2021-10-30T10:26:06.238Z"
   },
   {
    "duration": 98,
    "start_time": "2021-10-30T10:26:06.294Z"
   },
   {
    "duration": 105,
    "start_time": "2021-10-30T10:26:06.394Z"
   },
   {
    "duration": 83,
    "start_time": "2021-10-30T10:26:06.502Z"
   },
   {
    "duration": 72,
    "start_time": "2021-10-30T10:26:06.588Z"
   },
   {
    "duration": 20,
    "start_time": "2021-10-30T10:26:06.662Z"
   },
   {
    "duration": 23,
    "start_time": "2021-10-30T10:26:06.685Z"
   },
   {
    "duration": 109,
    "start_time": "2021-10-30T10:26:06.710Z"
   },
   {
    "duration": 16,
    "start_time": "2021-10-30T10:26:06.821Z"
   },
   {
    "duration": 42,
    "start_time": "2021-10-30T10:26:06.840Z"
   },
   {
    "duration": 5,
    "start_time": "2021-10-30T10:26:06.884Z"
   },
   {
    "duration": 30,
    "start_time": "2021-10-30T10:26:06.892Z"
   },
   {
    "duration": 18,
    "start_time": "2021-10-30T10:26:06.924Z"
   },
   {
    "duration": 44,
    "start_time": "2021-10-30T10:26:06.946Z"
   },
   {
    "duration": 17,
    "start_time": "2021-10-30T10:26:06.993Z"
   },
   {
    "duration": 22,
    "start_time": "2021-10-30T10:26:07.012Z"
   },
   {
    "duration": 52,
    "start_time": "2021-10-30T10:26:07.036Z"
   },
   {
    "duration": 12,
    "start_time": "2021-10-30T10:26:07.090Z"
   },
   {
    "duration": 34,
    "start_time": "2021-10-30T10:26:07.104Z"
   },
   {
    "duration": 48,
    "start_time": "2021-10-30T10:26:07.140Z"
   },
   {
    "duration": 5,
    "start_time": "2021-10-30T10:26:07.190Z"
   },
   {
    "duration": 37,
    "start_time": "2021-10-30T10:26:07.198Z"
   },
   {
    "duration": 49,
    "start_time": "2021-10-30T10:26:07.237Z"
   },
   {
    "duration": 31,
    "start_time": "2021-10-30T10:26:07.288Z"
   },
   {
    "duration": 29,
    "start_time": "2021-10-30T10:26:07.321Z"
   },
   {
    "duration": 36,
    "start_time": "2021-10-30T10:26:07.352Z"
   },
   {
    "duration": 6,
    "start_time": "2021-10-30T10:26:07.391Z"
   },
   {
    "duration": 11,
    "start_time": "2021-10-30T10:26:07.399Z"
   },
   {
    "duration": 6,
    "start_time": "2021-10-30T10:26:07.412Z"
   },
   {
    "duration": 79,
    "start_time": "2021-10-30T10:27:24.567Z"
   },
   {
    "duration": 49,
    "start_time": "2021-10-30T10:28:54.387Z"
   }
  ],
  "colab": {
   "collapsed_sections": [
    "E0vqbgi9ay0H",
    "VUC88oWjTJw2"
   ],
   "name": "yandex_music_project_2021.2.ipynb",
   "provenance": []
  },
  "kernelspec": {
   "display_name": "Python 3",
   "language": "python",
   "name": "python3"
  },
  "language_info": {
   "codemirror_mode": {
    "name": "ipython",
    "version": 3
   },
   "file_extension": ".py",
   "mimetype": "text/x-python",
   "name": "python",
   "nbconvert_exporter": "python",
   "pygments_lexer": "ipython3",
   "version": "3.8.8"
  },
  "toc": {
   "base_numbering": 1,
   "nav_menu": {},
   "number_sections": true,
   "sideBar": true,
   "skip_h1_title": true,
   "title_cell": "Table of Contents",
   "title_sidebar": "Contents",
   "toc_cell": false,
   "toc_position": {},
   "toc_section_display": true,
   "toc_window_display": true
  }
 },
 "nbformat": 4,
 "nbformat_minor": 1
}
