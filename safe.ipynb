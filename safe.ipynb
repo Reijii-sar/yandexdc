{
 "cells": [
  {
   "cell_type": "markdown",
   "metadata": {},
   "source": [
    "# Защита персональных данных клиентов"
   ]
  },
  {
   "cell_type": "markdown",
   "metadata": {},
   "source": [
    "Вам нужно защитить данные клиентов страховой компании «Хоть потоп». Разработайте такой метод преобразования данных, чтобы по ним было сложно восстановить персональную информацию. Обоснуйте корректность его работы.\n",
    "\n",
    "Нужно защитить данные, чтобы при преобразовании качество моделей машинного обучения не ухудшилось. Подбирать наилучшую модель не требуется.\n",
    "\n",
    "Задачи проекта:  \n",
    "1. Ответьте на вопрос и обоснуйте решение.  \n",
    "Признаки умножают на обратимую матрицу. Изменится ли качество линейной регрессии?  \n",
    "a. Изменится. Приведите примеры матриц.  \n",
    "b. Не изменится. Укажите, как связаны параметры линейной регрессии в исходной задаче и в преобразованной.  \n",
    "2. Предложите алгоритм преобразования данных для решения задачи. Обоснуйте, почему качество линейной регрессии не поменяется.  \n",
    "3. Запрограммируйте этот алгоритм, применив матричные операции. Проверьте, что качество линейной регрессии из sklearn не отличается до и после преобразования. Примените метрику R2.  \n",
    "\n",
    "Описание данных:  \n",
    "Признаки: пол, возраст и зарплата застрахованного, количество членов его семьи.  \n",
    "Целевой признак: количество страховых выплат клиенту за последние 5 лет.  "
   ]
  },
  {
   "cell_type": "markdown",
   "metadata": {},
   "source": [
    "## Загрузка данных"
   ]
  },
  {
   "cell_type": "code",
   "execution_count": 1,
   "metadata": {},
   "outputs": [],
   "source": [
    "import pandas as pd\n",
    "import numpy as np\n",
    "import seaborn as sns\n",
    "import matplotlib.pyplot as plt\n",
    "from sklearn.model_selection import train_test_split\n",
    "from sklearn.linear_model import LinearRegression\n",
    "from sklearn.metrics import r2_score"
   ]
  },
  {
   "cell_type": "code",
   "execution_count": 2,
   "metadata": {},
   "outputs": [],
   "source": [
    "data = pd.read_csv('/datasets/insurance.csv')"
   ]
  },
  {
   "cell_type": "code",
   "execution_count": 3,
   "metadata": {},
   "outputs": [
    {
     "data": {
      "text/html": [
       "<div>\n",
       "<style scoped>\n",
       "    .dataframe tbody tr th:only-of-type {\n",
       "        vertical-align: middle;\n",
       "    }\n",
       "\n",
       "    .dataframe tbody tr th {\n",
       "        vertical-align: top;\n",
       "    }\n",
       "\n",
       "    .dataframe thead th {\n",
       "        text-align: right;\n",
       "    }\n",
       "</style>\n",
       "<table border=\"1\" class=\"dataframe\">\n",
       "  <thead>\n",
       "    <tr style=\"text-align: right;\">\n",
       "      <th></th>\n",
       "      <th>Пол</th>\n",
       "      <th>Возраст</th>\n",
       "      <th>Зарплата</th>\n",
       "      <th>Члены семьи</th>\n",
       "      <th>Страховые выплаты</th>\n",
       "    </tr>\n",
       "  </thead>\n",
       "  <tbody>\n",
       "    <tr>\n",
       "      <td>0</td>\n",
       "      <td>1</td>\n",
       "      <td>41.0</td>\n",
       "      <td>49600.0</td>\n",
       "      <td>1</td>\n",
       "      <td>0</td>\n",
       "    </tr>\n",
       "    <tr>\n",
       "      <td>1</td>\n",
       "      <td>0</td>\n",
       "      <td>46.0</td>\n",
       "      <td>38000.0</td>\n",
       "      <td>1</td>\n",
       "      <td>1</td>\n",
       "    </tr>\n",
       "    <tr>\n",
       "      <td>2</td>\n",
       "      <td>0</td>\n",
       "      <td>29.0</td>\n",
       "      <td>21000.0</td>\n",
       "      <td>0</td>\n",
       "      <td>0</td>\n",
       "    </tr>\n",
       "    <tr>\n",
       "      <td>3</td>\n",
       "      <td>0</td>\n",
       "      <td>21.0</td>\n",
       "      <td>41700.0</td>\n",
       "      <td>2</td>\n",
       "      <td>0</td>\n",
       "    </tr>\n",
       "    <tr>\n",
       "      <td>4</td>\n",
       "      <td>1</td>\n",
       "      <td>28.0</td>\n",
       "      <td>26100.0</td>\n",
       "      <td>0</td>\n",
       "      <td>0</td>\n",
       "    </tr>\n",
       "  </tbody>\n",
       "</table>\n",
       "</div>"
      ],
      "text/plain": [
       "   Пол  Возраст  Зарплата  Члены семьи  Страховые выплаты\n",
       "0    1     41.0   49600.0            1                  0\n",
       "1    0     46.0   38000.0            1                  1\n",
       "2    0     29.0   21000.0            0                  0\n",
       "3    0     21.0   41700.0            2                  0\n",
       "4    1     28.0   26100.0            0                  0"
      ]
     },
     "execution_count": 3,
     "metadata": {},
     "output_type": "execute_result"
    }
   ],
   "source": [
    "data.head()"
   ]
  },
  {
   "cell_type": "code",
   "execution_count": 4,
   "metadata": {},
   "outputs": [
    {
     "name": "stdout",
     "output_type": "stream",
     "text": [
      "<class 'pandas.core.frame.DataFrame'>\n",
      "RangeIndex: 5000 entries, 0 to 4999\n",
      "Data columns (total 5 columns):\n",
      "Пол                  5000 non-null int64\n",
      "Возраст              5000 non-null float64\n",
      "Зарплата             5000 non-null float64\n",
      "Члены семьи          5000 non-null int64\n",
      "Страховые выплаты    5000 non-null int64\n",
      "dtypes: float64(2), int64(3)\n",
      "memory usage: 195.4 KB\n"
     ]
    }
   ],
   "source": [
    "data.info()"
   ]
  },
  {
   "cell_type": "code",
   "execution_count": 5,
   "metadata": {},
   "outputs": [
    {
     "data": {
      "text/html": [
       "<div>\n",
       "<style scoped>\n",
       "    .dataframe tbody tr th:only-of-type {\n",
       "        vertical-align: middle;\n",
       "    }\n",
       "\n",
       "    .dataframe tbody tr th {\n",
       "        vertical-align: top;\n",
       "    }\n",
       "\n",
       "    .dataframe thead th {\n",
       "        text-align: right;\n",
       "    }\n",
       "</style>\n",
       "<table border=\"1\" class=\"dataframe\">\n",
       "  <thead>\n",
       "    <tr style=\"text-align: right;\">\n",
       "      <th></th>\n",
       "      <th>Пол</th>\n",
       "      <th>Возраст</th>\n",
       "      <th>Зарплата</th>\n",
       "      <th>Члены семьи</th>\n",
       "      <th>Страховые выплаты</th>\n",
       "    </tr>\n",
       "  </thead>\n",
       "  <tbody>\n",
       "    <tr>\n",
       "      <td>count</td>\n",
       "      <td>5000.000000</td>\n",
       "      <td>5000.000000</td>\n",
       "      <td>5000.000000</td>\n",
       "      <td>5000.000000</td>\n",
       "      <td>5000.000000</td>\n",
       "    </tr>\n",
       "    <tr>\n",
       "      <td>mean</td>\n",
       "      <td>0.499000</td>\n",
       "      <td>30.952800</td>\n",
       "      <td>39916.360000</td>\n",
       "      <td>1.194200</td>\n",
       "      <td>0.148000</td>\n",
       "    </tr>\n",
       "    <tr>\n",
       "      <td>std</td>\n",
       "      <td>0.500049</td>\n",
       "      <td>8.440807</td>\n",
       "      <td>9900.083569</td>\n",
       "      <td>1.091387</td>\n",
       "      <td>0.463183</td>\n",
       "    </tr>\n",
       "    <tr>\n",
       "      <td>min</td>\n",
       "      <td>0.000000</td>\n",
       "      <td>18.000000</td>\n",
       "      <td>5300.000000</td>\n",
       "      <td>0.000000</td>\n",
       "      <td>0.000000</td>\n",
       "    </tr>\n",
       "    <tr>\n",
       "      <td>25%</td>\n",
       "      <td>0.000000</td>\n",
       "      <td>24.000000</td>\n",
       "      <td>33300.000000</td>\n",
       "      <td>0.000000</td>\n",
       "      <td>0.000000</td>\n",
       "    </tr>\n",
       "    <tr>\n",
       "      <td>50%</td>\n",
       "      <td>0.000000</td>\n",
       "      <td>30.000000</td>\n",
       "      <td>40200.000000</td>\n",
       "      <td>1.000000</td>\n",
       "      <td>0.000000</td>\n",
       "    </tr>\n",
       "    <tr>\n",
       "      <td>75%</td>\n",
       "      <td>1.000000</td>\n",
       "      <td>37.000000</td>\n",
       "      <td>46600.000000</td>\n",
       "      <td>2.000000</td>\n",
       "      <td>0.000000</td>\n",
       "    </tr>\n",
       "    <tr>\n",
       "      <td>max</td>\n",
       "      <td>1.000000</td>\n",
       "      <td>65.000000</td>\n",
       "      <td>79000.000000</td>\n",
       "      <td>6.000000</td>\n",
       "      <td>5.000000</td>\n",
       "    </tr>\n",
       "  </tbody>\n",
       "</table>\n",
       "</div>"
      ],
      "text/plain": [
       "               Пол      Возраст      Зарплата  Члены семьи  Страховые выплаты\n",
       "count  5000.000000  5000.000000   5000.000000  5000.000000        5000.000000\n",
       "mean      0.499000    30.952800  39916.360000     1.194200           0.148000\n",
       "std       0.500049     8.440807   9900.083569     1.091387           0.463183\n",
       "min       0.000000    18.000000   5300.000000     0.000000           0.000000\n",
       "25%       0.000000    24.000000  33300.000000     0.000000           0.000000\n",
       "50%       0.000000    30.000000  40200.000000     1.000000           0.000000\n",
       "75%       1.000000    37.000000  46600.000000     2.000000           0.000000\n",
       "max       1.000000    65.000000  79000.000000     6.000000           5.000000"
      ]
     },
     "execution_count": 5,
     "metadata": {},
     "output_type": "execute_result"
    }
   ],
   "source": [
    "data.describe()"
   ]
  },
  {
   "cell_type": "code",
   "execution_count": 6,
   "metadata": {},
   "outputs": [
    {
     "data": {
      "text/plain": [
       "153"
      ]
     },
     "execution_count": 6,
     "metadata": {},
     "output_type": "execute_result"
    }
   ],
   "source": [
    "data.duplicated().sum()"
   ]
  },
  {
   "cell_type": "code",
   "execution_count": 7,
   "metadata": {},
   "outputs": [],
   "source": [
    "# количество дубликатов составляет 3% от гашей выборки, удалим их.\n",
    "data = data.drop_duplicates().reset_index(drop=True)"
   ]
  },
  {
   "cell_type": "code",
   "execution_count": 8,
   "metadata": {},
   "outputs": [
    {
     "data": {
      "text/plain": [
       "<matplotlib.axes._subplots.AxesSubplot at 0x7f0ba9552fd0>"
      ]
     },
     "execution_count": 8,
     "metadata": {},
     "output_type": "execute_result"
    },
    {
     "data": {
      "image/png": "[encoded data removed]",
      "text/plain": [
       "<Figure size 432x288 with 2 Axes>"
      ]
     },
     "metadata": {
      "needs_background": "light"
     },
     "output_type": "display_data"
    }
   ],
   "source": [
    "sns.heatmap(data.corr())"
   ]
  },
  {
   "cell_type": "code",
   "execution_count": 9,
   "metadata": {},
   "outputs": [
    {
     "data": {
      "text/plain": [
       "0.6549641033747963"
      ]
     },
     "execution_count": 9,
     "metadata": {},
     "output_type": "execute_result"
    }
   ],
   "source": [
    "data['Возраст'].corr(data['Страховые выплаты'])"
   ]
  },
  {
   "cell_type": "code",
   "execution_count": 10,
   "metadata": {},
   "outputs": [
    {
     "data": {
      "text/plain": [
       "<matplotlib.axes._subplots.AxesSubplot at 0x7f0ba1431bd0>"
      ]
     },
     "execution_count": 10,
     "metadata": {},
     "output_type": "execute_result"
    },
    {
     "data": {
      "image/png": "[encoded data removed]",
      "text/plain": [
       "<Figure size 432x288 with 1 Axes>"
      ]
     },
     "metadata": {
      "needs_background": "light"
     },
     "output_type": "display_data"
    }
   ],
   "source": [
    "sns.scatterplot(data=data, x='Возраст', y='Страховые выплаты')"
   ]
  },
  {
   "cell_type": "code",
   "execution_count": 11,
   "metadata": {},
   "outputs": [],
   "source": [
    "def plot(title, column, type_plot, color):\n",
    "    sns.set()\n",
    "    if type_plot == 1:\n",
    "        fig, ax = plt.subplots(figsize=(7, 3))\n",
    "        sns.countplot(x=column, data=data, palette=color)\n",
    "    else:\n",
    "        fig, ax = plt.subplots(figsize=(20, 5))\n",
    "        sns.distplot(data[column], color=color, bins=len(data[column].unique()))\n",
    "    ax.set_title(title)\n",
    "    plt.ylabel('Частота')"
   ]
  },
  {
   "cell_type": "code",
   "execution_count": 12,
   "metadata": {},
   "outputs": [
    {
     "data": {
      "image/png": "[encoded data removed]",
      "text/plain": [
       "<Figure size 504x216 with 1 Axes>"
      ]
     },
     "metadata": {},
     "output_type": "display_data"
    }
   ],
   "source": [
    "plot('Распределение по полу', 'Пол', 1, 'Set1')"
   ]
  },
  {
   "cell_type": "code",
   "execution_count": 13,
   "metadata": {},
   "outputs": [
    {
     "data": {
      "image/png": "[encoded data removed]",
      "text/plain": [
       "<Figure size 1440x360 with 1 Axes>"
      ]
     },
     "metadata": {},
     "output_type": "display_data"
    }
   ],
   "source": [
    "plot('Распределение по возрасту', 'Возраст', 2, 'green')"
   ]
  },
  {
   "cell_type": "code",
   "execution_count": 14,
   "metadata": {},
   "outputs": [
    {
     "data": {
      "image/png": "[encoded data removed]",
      "text/plain": [
       "<Figure size 1440x360 with 1 Axes>"
      ]
     },
     "metadata": {},
     "output_type": "display_data"
    }
   ],
   "source": [
    "plot('Распределение по доходам', 'Зарплата', 2, 'blue')"
   ]
  },
  {
   "cell_type": "code",
   "execution_count": 15,
   "metadata": {},
   "outputs": [
    {
     "data": {
      "image/png": "[encoded data removed]",
      "text/plain": [
       "<Figure size 504x216 with 1 Axes>"
      ]
     },
     "metadata": {},
     "output_type": "display_data"
    }
   ],
   "source": [
    "plot('Распределение по численности семьи', 'Члены семьи', 1, 'autumn')"
   ]
  },
  {
   "cell_type": "code",
   "execution_count": 16,
   "metadata": {},
   "outputs": [
    {
     "data": {
      "image/png": "[encoded data removed]",
      "text/plain": [
       "<Figure size 504x216 with 1 Axes>"
      ]
     },
     "metadata": {},
     "output_type": "display_data"
    }
   ],
   "source": [
    "plot('Распределение по страховым выплатам', 'Страховые выплаты', 1, 'winter')"
   ]
  },
  {
   "cell_type": "markdown",
   "metadata": {},
   "source": [
    "**Пропусков в данных нет, выбивающихся значений то же.  \n",
    "Имелось 153 явных дубликата (3% от выборки) - избавились от них.  \n",
    "Есть зависимость между возрастом заемщиков и количеством выплат - с возрастом растет.  \n",
    "Имеется выброс по столбцу \"Возраст\", однако можно предположить, что это особенность нашиего набора данных**"
   ]
  },
  {
   "cell_type": "markdown",
   "metadata": {},
   "source": [
    "## Умножение матриц"
   ]
  },
  {
   "cell_type": "markdown",
   "metadata": {},
   "source": [
    "В этом задании вы можете записывать формулы в *Jupyter Notebook.*\n",
    "\n",
    "Чтобы записать формулу внутри текста, окружите её символами доллара \\\\$; если снаружи —  двойными символами \\\\$\\\\$. Эти формулы записываются на языке вёрстки *LaTeX.* \n",
    "\n",
    "Для примера мы записали формулы линейной регрессии. Можете их скопировать и отредактировать, чтобы решить задачу.\n",
    "\n",
    "Работать в *LaTeX* необязательно."
   ]
  },
  {
   "cell_type": "markdown",
   "metadata": {},
   "source": [
    "Обозначения:\n",
    "\n",
    "- $X$ — матрица признаков (нулевой столбец состоит из единиц)\n",
    "\n",
    "- $y$ — вектор целевого признака\n",
    "\n",
    "- $P$ — матрица, на которую умножаются признаки\n",
    "\n",
    "- $w$ — вектор весов линейной регрессии (нулевой элемент равен сдвигу)"
   ]
  },
  {
   "cell_type": "markdown",
   "metadata": {},
   "source": [
    "Предсказания:\n",
    "\n",
    "$$\n",
    "a = Xw\n",
    "$$\n",
    "\n",
    "Задача обучения:\n",
    "\n",
    "$$\n",
    "w = \\arg\\min_w MSE(Xw, y)\n",
    "$$\n",
    "\n",
    "Формула обучения:\n",
    "\n",
    "$$\n",
    "w = (X^T X)^{-1} X^T y\n",
    "$$"
   ]
  },
  {
   "cell_type": "markdown",
   "metadata": {},
   "source": [
    "**Вопрос:** Признаки умножают на обратимую матрицу. Изменится ли качество линейной регрессии?  \n",
    "  \n",
    "**Ответ:** Не изменится.\n",
    "\n",
    "**Обоснование:**  \n",
    "\n",
    "Представим новую матрицу признаков X1 как произведение старой X на обратимую матрицу P:  \n",
    "$$\n",
    "X^1 = XP\n",
    "$$\n",
    "\n",
    "Используемые свойства:\n",
    "$$\n",
    "(AB)^T=B^T A^T\n",
    "$$\n",
    "$$\n",
    "(AB)^{-1} = B^{-1} A^{-1}\n",
    "$$\n",
    "$$\n",
    "A A^{-1} = A^{-1} A = E\n",
    "$$\n",
    "$$\n",
    "AE = EA = A\n",
    "$$\n",
    "  \n",
    "Наша новая формула обучения будет:  \n",
    "$$\n",
    "w^1 = ((XP)^T (XP))^{-1} (XP)^T y \\tag{1}\n",
    "$$\n",
    "  \n",
    "Раскроем скобки:  \n",
    "$$\n",
    "a = Xw = XEw = XPP^{-1}w = (XP)P^{-1}w = (XP)w'\n",
    "$$\n",
    "\\\n",
    "$$\n",
    "w = (X^T X)^{-1} X^T y\n",
    "$$\n",
    "\\\n",
    "$$\n",
    "w' = ((XP)^T XP)^{-1} (XP)^T y\n",
    "$$\n",
    "$$\n",
    "w' = (P^T (X^T X) P)^{-1} (XP)^T y\n",
    "$$\n",
    "$$\n",
    "w' = (P^T (X^T X) P)^{-1} P^T X^T y\n",
    "$$\n",
    "$$\n",
    "w' = P^{-1} (X^T X)^{-1} (P^T)^{-1} P^T X^T y\n",
    "$$\n",
    "  \n",
    "Так как: $ w = (X^T X)^{-1} X^T y $, а так же (так как P обратимая): $ (P^T )^{-1} P^T = E $. То:\n",
    "$$\n",
    "w^1 = P^{-1} w\n",
    "$$\n",
    "  \n",
    "Подставим новое значение вектора весов в формулу предсказания:  \n",
    "$$\n",
    "a^1 = X^1 w^1 = XP P^{-1} w\n",
    "$$\n",
    "  \n",
    "Так как матрица P обратима, то:\n",
    "$$\n",
    "a^1 = Xw = a\n",
    "$$\n",
    "  \n",
    "А следовательно качество линейной регрессии останется неизменным"
   ]
  },
  {
   "cell_type": "markdown",
   "metadata": {},
   "source": [
    "**Обоснование:**\n",
    "\n",
    "Используемые свойства:\n",
    "$$\n",
    "(AB)^T=B^T A^T\n",
    "$$\n",
    "$$\n",
    "(AB)^{-1} = B^{-1} A^{-1}\n",
    "$$\n",
    "$$\n",
    "A A^{-1} = A^{-1} A = E\n",
    "$$\n",
    "$$\n",
    "AE = EA = A\n",
    "$$\n",
    "Доказательство:\n",
    "$$\n",
    "a = Xw = XEw = XPP^{-1}w = (XP)P^{-1}w = (XP)w'\n",
    "$$\n",
    "\\\n",
    "$$\n",
    "w = (X^T X)^{-1} X^T y\n",
    "$$\n",
    "\\\n",
    "$$\n",
    "w' = ((XP)^T XP)^{-1} (XP)^T y\n",
    "$$\n",
    "$$\n",
    "w' = (P^T (X^T X) P)^{-1} (XP)^T y\n",
    "$$\n",
    "$$\n",
    "w' = (P^T (X^T X) P)^{-1} P^T X^T y\n",
    "$$\n",
    "$$\n",
    "w' = P^{-1} (X^T X)^{-1} (P^T)^{-1} P^T X^T y\n",
    "$$"
   ]
  },
  {
   "cell_type": "markdown",
   "metadata": {},
   "source": [
    "## Алгоритм преобразования"
   ]
  },
  {
   "cell_type": "markdown",
   "metadata": {},
   "source": [
    "**Алгоритм**  \n",
    "Алгоритмом преобразования будет матрица со случайными величинами, у которой существует обратная к ней матрица. "
   ]
  },
  {
   "cell_type": "markdown",
   "metadata": {},
   "source": [
    "**Обоснование**\n",
    "\n",
    "Так как мы доказали в предыдущем пункте, что качество линейной регрессии при этом не изменится результаты метрик должны совпать."
   ]
  },
  {
   "cell_type": "code",
   "execution_count": 17,
   "metadata": {},
   "outputs": [],
   "source": [
    "target = data['Страховые выплаты']\n",
    "features = data.drop(['Страховые выплаты'], axis=1)\n",
    "features_train, features_test, target_train, target_test = train_test_split(features, target, test_size=0.2, random_state=12345)"
   ]
  },
  {
   "cell_type": "code",
   "execution_count": 18,
   "metadata": {},
   "outputs": [],
   "source": [
    "mfeatures_train = features_train.values\n",
    "mfeatures_test = features_test.values"
   ]
  },
  {
   "cell_type": "code",
   "execution_count": 19,
   "metadata": {},
   "outputs": [
    {
     "data": {
      "text/plain": [
       "array([[-0.15168697, -2.06110468,  0.17368374, -1.4379943 ],\n",
       "       [ 0.52414266,  2.35251238, -0.5712239 ,  0.2314349 ],\n",
       "       [ 0.27068223, -1.15381714,  0.60882987, -0.5903381 ],\n",
       "       [-0.86510369,  0.22979861,  0.86798369,  0.6905024 ]])"
      ]
     },
     "execution_count": 19,
     "metadata": {},
     "output_type": "execute_result"
    }
   ],
   "source": [
    "#создаем случайную матрицу 4х4 по количеству признаков основной матрицы\n",
    "random_matrix = np.random.randn(4, 4)\n",
    "random_matrix"
   ]
  },
  {
   "cell_type": "code",
   "execution_count": 20,
   "metadata": {},
   "outputs": [
    {
     "data": {
      "text/plain": [
       "array([[ 1.,  0., -0.,  0.],\n",
       "       [-0.,  1.,  0.,  0.],\n",
       "       [ 0.,  0.,  1.,  0.],\n",
       "       [-0.,  0., -0.,  1.]])"
      ]
     },
     "execution_count": 20,
     "metadata": {},
     "output_type": "execute_result"
    }
   ],
   "source": [
    "#проверим новую матрицу на обратимость. Матрица будет обратимой, если мы в результате вычислений получим единичную матрицу\n",
    "np.round(random_matrix @ np.linalg.inv(random_matrix))"
   ]
  },
  {
   "cell_type": "code",
   "execution_count": 21,
   "metadata": {},
   "outputs": [],
   "source": [
    "new_features_train = mfeatures_train @ random_matrix\n",
    "new_features_test = mfeatures_test @ random_matrix"
   ]
  },
  {
   "cell_type": "markdown",
   "metadata": {},
   "source": [
    "## Проверка алгоритма"
   ]
  },
  {
   "cell_type": "code",
   "execution_count": 22,
   "metadata": {},
   "outputs": [],
   "source": [
    "model = LinearRegression()\n",
    "model.fit(mfeatures_train, target_train)\n",
    "predicted_norm = model.predict(mfeatures_test)\n",
    "r2_1 = model.score(mfeatures_test, target_test)"
   ]
  },
  {
   "cell_type": "code",
   "execution_count": 23,
   "metadata": {},
   "outputs": [],
   "source": [
    "model.fit(new_features_train, target_train)\n",
    "predicted_encoded = model.predict(new_features_test)\n",
    "r2_2 = model.score(new_features_test, target_test)"
   ]
  },
  {
   "cell_type": "code",
   "execution_count": 24,
   "metadata": {},
   "outputs": [
    {
     "name": "stdout",
     "output_type": "stream",
     "text": [
      "R2 базовой матрицы:  0.41605\n",
      "R2 преобразованой матрицы:  0.41605\n"
     ]
    }
   ],
   "source": [
    "print('R2 базовой матрицы: ', round(r2_1, 5))\n",
    "print('R2 преобразованой матрицы: ', round(r2_2, 5))"
   ]
  },
  {
   "cell_type": "markdown",
   "metadata": {},
   "source": [
    "**Модели показали одинаковые результаты как с проебразованием , так и без преобразования.\n",
    "Это означает, что алгоритм работает.**"
   ]
  }
 ],
 "metadata": {
  "ExecuteTimeLog": [
   {
    "duration": 764,
    "start_time": "2022-03-10T11:14:24.629Z"
   },
   {
    "duration": 20,
    "start_time": "2022-03-10T11:14:25.396Z"
   },
   {
    "duration": 23,
    "start_time": "2022-03-10T11:14:43.029Z"
   },
   {
    "duration": 9,
    "start_time": "2022-03-10T11:18:05.589Z"
   },
   {
    "duration": 35,
    "start_time": "2022-03-10T11:18:19.308Z"
   },
   {
    "duration": 458,
    "start_time": "2022-03-10T11:19:18.468Z"
   },
   {
    "duration": 611,
    "start_time": "2022-03-10T11:20:10.300Z"
   },
   {
    "duration": 6,
    "start_time": "2022-03-10T11:20:32.029Z"
   },
   {
    "duration": 7,
    "start_time": "2022-03-10T11:20:46.708Z"
   },
   {
    "duration": 17,
    "start_time": "2022-03-10T11:21:11.388Z"
   },
   {
    "duration": 8,
    "start_time": "2022-03-10T11:21:29.628Z"
   },
   {
    "duration": 6,
    "start_time": "2022-03-10T11:21:42.108Z"
   },
   {
    "duration": 9,
    "start_time": "2022-03-10T12:02:39.506Z"
   },
   {
    "duration": 11,
    "start_time": "2022-03-10T12:03:02.426Z"
   },
   {
    "duration": 357,
    "start_time": "2022-03-10T12:03:20.419Z"
   },
   {
    "duration": 108,
    "start_time": "2022-03-10T12:04:26.627Z"
   },
   {
    "duration": 376,
    "start_time": "2022-03-10T12:04:32.627Z"
   },
   {
    "duration": 339,
    "start_time": "2022-03-10T12:04:42.988Z"
   },
   {
    "duration": 385,
    "start_time": "2022-03-10T12:05:12.748Z"
   },
   {
    "duration": 9,
    "start_time": "2022-03-10T12:05:19.866Z"
   },
   {
    "duration": 22,
    "start_time": "2022-03-10T12:08:04.748Z"
   },
   {
    "duration": 20,
    "start_time": "2022-03-10T12:09:39.306Z"
   },
   {
    "duration": 35,
    "start_time": "2022-03-10T12:10:45.268Z"
   },
   {
    "duration": 371,
    "start_time": "2022-03-10T12:12:03.155Z"
   },
   {
    "duration": 342,
    "start_time": "2022-03-10T12:13:28.706Z"
   },
   {
    "duration": 9,
    "start_time": "2022-03-10T12:13:52.309Z"
   },
   {
    "duration": 13,
    "start_time": "2022-03-10T12:14:02.516Z"
   },
   {
    "duration": 4,
    "start_time": "2022-03-10T12:14:10.358Z"
   },
   {
    "duration": 48,
    "start_time": "2022-03-10T12:14:10.365Z"
   },
   {
    "duration": 21,
    "start_time": "2022-03-10T12:14:10.417Z"
   },
   {
    "duration": 30,
    "start_time": "2022-03-10T12:14:10.440Z"
   },
   {
    "duration": 50,
    "start_time": "2022-03-10T12:14:10.472Z"
   },
   {
    "duration": 8,
    "start_time": "2022-03-10T12:14:10.525Z"
   },
   {
    "duration": 7,
    "start_time": "2022-03-10T12:14:10.679Z"
   },
   {
    "duration": 11,
    "start_time": "2022-03-10T12:14:29.590Z"
   },
   {
    "duration": 8,
    "start_time": "2022-03-10T12:15:14.388Z"
   },
   {
    "duration": 8,
    "start_time": "2022-03-10T12:17:40.147Z"
   },
   {
    "duration": 20,
    "start_time": "2022-03-10T12:17:43.387Z"
   },
   {
    "duration": 9,
    "start_time": "2022-03-10T12:18:05.715Z"
   },
   {
    "duration": 29,
    "start_time": "2022-03-10T12:18:12.586Z"
   },
   {
    "duration": 8,
    "start_time": "2022-03-10T12:21:12.028Z"
   },
   {
    "duration": 3,
    "start_time": "2022-03-10T12:21:29.148Z"
   },
   {
    "duration": 39,
    "start_time": "2022-03-10T12:21:29.154Z"
   },
   {
    "duration": 13,
    "start_time": "2022-03-10T12:21:29.196Z"
   },
   {
    "duration": 8,
    "start_time": "2022-03-10T12:21:29.211Z"
   },
   {
    "duration": 33,
    "start_time": "2022-03-10T12:21:29.221Z"
   },
   {
    "duration": 8,
    "start_time": "2022-03-10T12:21:29.257Z"
   },
   {
    "duration": 20,
    "start_time": "2022-03-10T12:21:29.267Z"
   },
   {
    "duration": 739,
    "start_time": "2022-03-10T12:26:16.675Z"
   },
   {
    "duration": 457,
    "start_time": "2022-03-10T12:26:19.988Z"
   },
   {
    "duration": 748,
    "start_time": "2022-03-10T12:27:21.187Z"
   },
   {
    "duration": 388,
    "start_time": "2022-03-10T12:29:15.547Z"
   },
   {
    "duration": 6,
    "start_time": "2022-03-10T12:30:20.747Z"
   },
   {
    "duration": 568,
    "start_time": "2022-03-10T12:30:52.020Z"
   },
   {
    "duration": 428,
    "start_time": "2022-03-10T12:31:00.987Z"
   },
   {
    "duration": 542,
    "start_time": "2022-03-10T12:32:55.907Z"
   },
   {
    "duration": 5,
    "start_time": "2022-03-10T12:38:54.067Z"
   },
   {
    "duration": 676,
    "start_time": "2022-03-10T12:39:19.628Z"
   },
   {
    "duration": 4,
    "start_time": "2022-03-10T12:39:54.147Z"
   },
   {
    "duration": 232,
    "start_time": "2022-03-10T12:39:59.275Z"
   },
   {
    "duration": 5,
    "start_time": "2022-03-10T12:41:06.467Z"
   },
   {
    "duration": 238,
    "start_time": "2022-03-10T12:41:09.979Z"
   },
   {
    "duration": 5,
    "start_time": "2022-03-10T12:41:26.147Z"
   },
   {
    "duration": 228,
    "start_time": "2022-03-10T12:41:27.040Z"
   },
   {
    "duration": 230,
    "start_time": "2022-03-10T12:41:49.156Z"
   },
   {
    "duration": 5,
    "start_time": "2022-03-10T12:42:05.348Z"
   },
   {
    "duration": 234,
    "start_time": "2022-03-10T12:42:06.350Z"
   },
   {
    "duration": 6,
    "start_time": "2022-03-10T12:43:30.108Z"
   },
   {
    "duration": 1113,
    "start_time": "2022-03-10T12:43:32.269Z"
   },
   {
    "duration": 4,
    "start_time": "2022-03-10T12:44:25.707Z"
   },
   {
    "duration": 232,
    "start_time": "2022-03-10T12:44:27.748Z"
   },
   {
    "duration": 231,
    "start_time": "2022-03-10T12:45:08.227Z"
   },
   {
    "duration": 112,
    "start_time": "2022-03-10T12:45:11.950Z"
   },
   {
    "duration": 5,
    "start_time": "2022-03-10T12:45:24.028Z"
   },
   {
    "duration": 236,
    "start_time": "2022-03-10T12:45:25.160Z"
   },
   {
    "duration": 4,
    "start_time": "2022-03-10T12:45:34.003Z"
   },
   {
    "duration": 248,
    "start_time": "2022-03-10T12:45:34.908Z"
   },
   {
    "duration": 5,
    "start_time": "2022-03-10T12:45:58.316Z"
   },
   {
    "duration": 241,
    "start_time": "2022-03-10T12:46:07.068Z"
   },
   {
    "duration": 1164,
    "start_time": "2022-03-10T12:47:07.428Z"
   },
   {
    "duration": 5,
    "start_time": "2022-03-10T12:49:10.069Z"
   },
   {
    "duration": 1054,
    "start_time": "2022-03-10T12:49:11.203Z"
   },
   {
    "duration": 5,
    "start_time": "2022-03-10T12:50:07.628Z"
   },
   {
    "duration": 1264,
    "start_time": "2022-03-10T12:50:09.164Z"
   },
   {
    "duration": 6,
    "start_time": "2022-03-10T12:50:25.107Z"
   },
   {
    "duration": 239,
    "start_time": "2022-03-10T12:50:31.149Z"
   },
   {
    "duration": 5,
    "start_time": "2022-03-10T12:50:45.830Z"
   },
   {
    "duration": 1028,
    "start_time": "2022-03-10T12:50:47.187Z"
   },
   {
    "duration": 1022,
    "start_time": "2022-03-10T12:50:56.668Z"
   },
   {
    "duration": 5,
    "start_time": "2022-03-10T12:51:06.468Z"
   },
   {
    "duration": 1811,
    "start_time": "2022-03-10T12:51:07.670Z"
   },
   {
    "duration": 5,
    "start_time": "2022-03-10T12:51:23.079Z"
   },
   {
    "duration": 1086,
    "start_time": "2022-03-10T12:51:26.948Z"
   },
   {
    "duration": 5,
    "start_time": "2022-03-10T12:51:36.155Z"
   },
   {
    "duration": 1347,
    "start_time": "2022-03-10T12:51:38.628Z"
   },
   {
    "duration": 1312,
    "start_time": "2022-03-10T12:52:14.195Z"
   },
   {
    "duration": 1329,
    "start_time": "2022-03-10T12:52:41.348Z"
   },
   {
    "duration": 340,
    "start_time": "2022-03-10T12:53:18.868Z"
   },
   {
    "duration": 5,
    "start_time": "2022-03-10T12:53:20.072Z"
   },
   {
    "duration": 273,
    "start_time": "2022-03-10T12:53:22.469Z"
   },
   {
    "duration": 235,
    "start_time": "2022-03-10T12:53:35.468Z"
   },
   {
    "duration": 1287,
    "start_time": "2022-03-10T12:53:53.027Z"
   },
   {
    "duration": 1129,
    "start_time": "2022-03-10T12:54:02.029Z"
   },
   {
    "duration": 24624,
    "start_time": "2022-03-10T12:54:46.348Z"
   },
   {
    "duration": 120,
    "start_time": "2022-03-10T13:00:02.989Z"
   },
   {
    "duration": 128,
    "start_time": "2022-03-10T13:00:10.998Z"
   },
   {
    "duration": 6,
    "start_time": "2022-03-10T13:00:19.707Z"
   },
   {
    "duration": 379,
    "start_time": "2022-03-10T13:00:21.763Z"
   },
   {
    "duration": 221,
    "start_time": "2022-03-10T13:00:26.107Z"
   },
   {
    "duration": 719,
    "start_time": "2022-03-10T13:00:31.867Z"
   },
   {
    "duration": 6,
    "start_time": "2022-03-10T13:00:46.948Z"
   },
   {
    "duration": 1180,
    "start_time": "2022-03-10T13:00:48.507Z"
   },
   {
    "duration": 338,
    "start_time": "2022-03-10T13:01:24.067Z"
   },
   {
    "duration": 9,
    "start_time": "2022-03-10T13:01:25.509Z"
   },
   {
    "duration": 456,
    "start_time": "2022-03-10T13:01:26.388Z"
   },
   {
    "duration": 1181,
    "start_time": "2022-03-10T13:01:33.755Z"
   },
   {
    "duration": 5,
    "start_time": "2022-03-10T13:01:41.462Z"
   },
   {
    "duration": 1159,
    "start_time": "2022-03-10T13:01:44.429Z"
   },
   {
    "duration": 6,
    "start_time": "2022-03-10T13:02:10.356Z"
   },
   {
    "duration": 217,
    "start_time": "2022-03-10T13:02:12.810Z"
   },
   {
    "duration": 1134,
    "start_time": "2022-03-10T13:02:14.475Z"
   },
   {
    "duration": 8,
    "start_time": "2022-03-10T13:02:23.428Z"
   },
   {
    "duration": 970,
    "start_time": "2022-03-10T13:02:24.989Z"
   },
   {
    "duration": 6,
    "start_time": "2022-03-10T13:03:09.989Z"
   },
   {
    "duration": 1191,
    "start_time": "2022-03-10T13:03:11.548Z"
   },
   {
    "duration": 9,
    "start_time": "2022-03-10T13:03:29.189Z"
   },
   {
    "duration": 1172,
    "start_time": "2022-03-10T13:03:31.588Z"
   },
   {
    "duration": 6,
    "start_time": "2022-03-10T13:03:50.246Z"
   },
   {
    "duration": 718,
    "start_time": "2022-03-10T13:03:52.477Z"
   },
   {
    "duration": 6,
    "start_time": "2022-03-10T13:04:21.588Z"
   },
   {
    "duration": 681,
    "start_time": "2022-03-10T13:04:24.675Z"
   },
   {
    "duration": 8,
    "start_time": "2022-03-10T13:04:34.949Z"
   },
   {
    "duration": 687,
    "start_time": "2022-03-10T13:04:40.548Z"
   },
   {
    "duration": 6,
    "start_time": "2022-03-10T13:05:47.957Z"
   },
   {
    "duration": 327,
    "start_time": "2022-03-10T13:05:49.187Z"
   },
   {
    "duration": 966,
    "start_time": "2022-03-10T13:05:50.788Z"
   },
   {
    "duration": 2980,
    "start_time": "2022-03-10T13:06:33.028Z"
   },
   {
    "duration": 1169,
    "start_time": "2022-03-10T13:06:54.315Z"
   },
   {
    "duration": 606,
    "start_time": "2022-03-10T13:07:06.975Z"
   },
   {
    "duration": 341,
    "start_time": "2022-03-10T13:07:32.668Z"
   },
   {
    "duration": 294,
    "start_time": "2022-03-10T13:08:45.988Z"
   },
   {
    "duration": 277,
    "start_time": "2022-03-10T13:10:12.797Z"
   },
   {
    "duration": 274,
    "start_time": "2022-03-10T13:10:32.188Z"
   },
   {
    "duration": 6,
    "start_time": "2022-03-10T13:13:03.110Z"
   },
   {
    "duration": 656,
    "start_time": "2022-03-10T13:13:05.547Z"
   },
   {
    "duration": 712,
    "start_time": "2022-03-10T13:13:49.907Z"
   },
   {
    "duration": 6,
    "start_time": "2022-03-10T13:14:42.068Z"
   },
   {
    "duration": 710,
    "start_time": "2022-03-10T13:14:43.707Z"
   },
   {
    "duration": 2201,
    "start_time": "2022-03-10T13:14:45.837Z"
   },
   {
    "duration": 6,
    "start_time": "2022-03-10T13:17:00.388Z"
   },
   {
    "duration": 1514,
    "start_time": "2022-03-13T05:02:06.980Z"
   },
   {
    "duration": 4,
    "start_time": "2022-03-13T05:07:09.341Z"
   },
   {
    "duration": 22,
    "start_time": "2022-03-13T05:07:09.349Z"
   },
   {
    "duration": 18,
    "start_time": "2022-03-13T05:07:09.375Z"
   },
   {
    "duration": 9,
    "start_time": "2022-03-13T05:07:09.397Z"
   },
   {
    "duration": 36,
    "start_time": "2022-03-13T05:07:09.409Z"
   },
   {
    "duration": 11,
    "start_time": "2022-03-13T05:07:09.483Z"
   },
   {
    "duration": 10,
    "start_time": "2022-03-13T05:07:09.497Z"
   },
   {
    "duration": 463,
    "start_time": "2022-03-13T05:07:09.510Z"
   },
   {
    "duration": 6,
    "start_time": "2022-03-13T05:07:09.984Z"
   },
   {
    "duration": 412,
    "start_time": "2022-03-13T05:07:09.993Z"
   },
   {
    "duration": 5,
    "start_time": "2022-03-13T05:07:10.408Z"
   },
   {
    "duration": 235,
    "start_time": "2022-03-13T05:07:10.416Z"
   },
   {
    "duration": 672,
    "start_time": "2022-03-13T05:07:10.654Z"
   },
   {
    "duration": 2040,
    "start_time": "2022-03-13T05:07:11.329Z"
   },
   {
    "duration": 285,
    "start_time": "2022-03-13T05:07:13.371Z"
   },
   {
    "duration": 269,
    "start_time": "2022-03-13T05:07:13.659Z"
   },
   {
    "duration": 5,
    "start_time": "2022-03-13T05:07:13.931Z"
   },
   {
    "duration": 10,
    "start_time": "2022-03-13T05:07:34.740Z"
   },
   {
    "duration": 6,
    "start_time": "2022-03-13T05:08:52.700Z"
   },
   {
    "duration": 7,
    "start_time": "2022-03-13T05:10:08.996Z"
   },
   {
    "duration": 8,
    "start_time": "2022-03-13T05:11:43.612Z"
   },
   {
    "duration": 469,
    "start_time": "2022-03-13T05:12:39.732Z"
   },
   {
    "duration": 7,
    "start_time": "2022-03-13T05:12:48.900Z"
   },
   {
    "duration": 7,
    "start_time": "2022-03-13T05:13:47.100Z"
   },
   {
    "duration": 8,
    "start_time": "2022-03-13T05:14:09.220Z"
   },
   {
    "duration": 7,
    "start_time": "2022-03-13T05:14:42.060Z"
   },
   {
    "duration": 6,
    "start_time": "2022-03-13T05:15:00.509Z"
   },
   {
    "duration": 8,
    "start_time": "2022-03-13T05:15:01.900Z"
   },
   {
    "duration": 318,
    "start_time": "2022-03-13T05:16:31.173Z"
   },
   {
    "duration": 5,
    "start_time": "2022-03-13T05:16:38.071Z"
   },
   {
    "duration": 7,
    "start_time": "2022-03-13T05:16:40.069Z"
   },
   {
    "duration": 8,
    "start_time": "2022-03-13T05:16:41.101Z"
   },
   {
    "duration": 4,
    "start_time": "2022-03-13T05:16:41.988Z"
   },
   {
    "duration": 9,
    "start_time": "2022-03-13T05:19:51.653Z"
   },
   {
    "duration": 283,
    "start_time": "2022-03-13T05:20:12.053Z"
   },
   {
    "duration": 9,
    "start_time": "2022-03-13T05:20:37.021Z"
   },
   {
    "duration": 10,
    "start_time": "2022-03-13T05:21:33.741Z"
   },
   {
    "duration": 8,
    "start_time": "2022-03-13T05:22:45.180Z"
   },
   {
    "duration": 267,
    "start_time": "2022-03-13T05:23:31.541Z"
   },
   {
    "duration": 7,
    "start_time": "2022-03-13T05:24:09.309Z"
   },
   {
    "duration": 8,
    "start_time": "2022-03-13T05:24:10.140Z"
   },
   {
    "duration": 5,
    "start_time": "2022-03-13T05:24:10.838Z"
   },
   {
    "duration": 87,
    "start_time": "2022-03-13T05:25:09.717Z"
   },
   {
    "duration": 5,
    "start_time": "2022-03-13T05:25:19.621Z"
   },
   {
    "duration": 97,
    "start_time": "2022-03-13T05:25:29.462Z"
   },
   {
    "duration": 87,
    "start_time": "2022-03-13T05:25:33.621Z"
   },
   {
    "duration": 5,
    "start_time": "2022-03-13T05:25:41.661Z"
   },
   {
    "duration": 5,
    "start_time": "2022-03-13T05:27:29.106Z"
   },
   {
    "duration": 21,
    "start_time": "2022-03-13T05:27:29.113Z"
   },
   {
    "duration": 10,
    "start_time": "2022-03-13T05:27:29.137Z"
   },
   {
    "duration": 10,
    "start_time": "2022-03-13T05:27:29.150Z"
   },
   {
    "duration": 43,
    "start_time": "2022-03-13T05:27:29.163Z"
   },
   {
    "duration": 7,
    "start_time": "2022-03-13T05:27:29.208Z"
   },
   {
    "duration": 7,
    "start_time": "2022-03-13T05:27:29.218Z"
   },
   {
    "duration": 505,
    "start_time": "2022-03-13T05:27:29.227Z"
   },
   {
    "duration": 6,
    "start_time": "2022-03-13T05:27:29.736Z"
   },
   {
    "duration": 603,
    "start_time": "2022-03-13T05:27:29.745Z"
   },
   {
    "duration": 6,
    "start_time": "2022-03-13T05:27:30.351Z"
   },
   {
    "duration": 234,
    "start_time": "2022-03-13T05:27:30.359Z"
   },
   {
    "duration": 672,
    "start_time": "2022-03-13T05:27:30.595Z"
   },
   {
    "duration": 2114,
    "start_time": "2022-03-13T05:27:31.269Z"
   },
   {
    "duration": 291,
    "start_time": "2022-03-13T05:27:33.386Z"
   },
   {
    "duration": 281,
    "start_time": "2022-03-13T05:27:33.683Z"
   },
   {
    "duration": 16,
    "start_time": "2022-03-13T05:27:33.966Z"
   },
   {
    "duration": 3,
    "start_time": "2022-03-13T05:27:33.985Z"
   },
   {
    "duration": 8,
    "start_time": "2022-03-13T05:27:33.991Z"
   },
   {
    "duration": 9,
    "start_time": "2022-03-13T05:27:34.001Z"
   },
   {
    "duration": 71,
    "start_time": "2022-03-13T05:27:34.013Z"
   },
   {
    "duration": 8,
    "start_time": "2022-03-13T05:27:34.087Z"
   },
   {
    "duration": 84,
    "start_time": "2022-03-13T05:27:34.098Z"
   },
   {
    "duration": 6,
    "start_time": "2022-03-13T05:27:34.185Z"
   },
   {
    "duration": 1175,
    "start_time": "2022-03-13T10:34:30.355Z"
   },
   {
    "duration": 29,
    "start_time": "2022-03-13T10:34:31.532Z"
   },
   {
    "duration": 12,
    "start_time": "2022-03-13T10:34:31.563Z"
   },
   {
    "duration": 9,
    "start_time": "2022-03-13T10:34:31.577Z"
   },
   {
    "duration": 24,
    "start_time": "2022-03-13T10:34:31.587Z"
   },
   {
    "duration": 6,
    "start_time": "2022-03-13T10:34:31.612Z"
   },
   {
    "duration": 5,
    "start_time": "2022-03-13T10:34:31.620Z"
   },
   {
    "duration": 290,
    "start_time": "2022-03-13T10:34:31.628Z"
   },
   {
    "duration": 4,
    "start_time": "2022-03-13T10:34:31.921Z"
   },
   {
    "duration": 283,
    "start_time": "2022-03-13T10:34:31.927Z"
   },
   {
    "duration": 5,
    "start_time": "2022-03-13T10:34:32.212Z"
   },
   {
    "duration": 129,
    "start_time": "2022-03-13T10:34:32.219Z"
   },
   {
    "duration": 371,
    "start_time": "2022-03-13T10:34:32.350Z"
   },
   {
    "duration": 1097,
    "start_time": "2022-03-13T10:34:32.722Z"
   },
   {
    "duration": 228,
    "start_time": "2022-03-13T10:34:33.821Z"
   },
   {
    "duration": 154,
    "start_time": "2022-03-13T10:34:34.051Z"
   },
   {
    "duration": 6,
    "start_time": "2022-03-13T10:34:34.207Z"
   },
   {
    "duration": 10,
    "start_time": "2022-03-13T10:34:34.215Z"
   },
   {
    "duration": 6,
    "start_time": "2022-03-13T10:34:34.226Z"
   },
   {
    "duration": 6,
    "start_time": "2022-03-13T10:34:34.233Z"
   },
   {
    "duration": 18,
    "start_time": "2022-03-13T10:34:34.241Z"
   },
   {
    "duration": 7,
    "start_time": "2022-03-13T10:34:34.306Z"
   },
   {
    "duration": 8,
    "start_time": "2022-03-13T10:34:34.317Z"
   },
   {
    "duration": 82,
    "start_time": "2022-03-13T10:34:34.326Z"
   }
  ],
  "kernelspec": {
   "display_name": "Python 3",
   "language": "python",
   "name": "python3"
  },
  "language_info": {
   "codemirror_mode": {
    "name": "ipython",
    "version": 3
   },
   "file_extension": ".py",
   "mimetype": "text/x-python",
   "name": "python",
   "nbconvert_exporter": "python",
   "pygments_lexer": "ipython3",
   "version": "3.8.8"
  },
  "toc": {
   "base_numbering": 1,
   "nav_menu": {},
   "number_sections": true,
   "sideBar": true,
   "skip_h1_title": true,
   "title_cell": "Содержание",
   "title_sidebar": "Contents",
   "toc_cell": true,
   "toc_position": {},
   "toc_section_display": true,
   "toc_window_display": true
  }
 },
 "nbformat": 4,
 "nbformat_minor": 2
}
