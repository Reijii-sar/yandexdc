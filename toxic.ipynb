{
 "cells": [
  {
   "cell_type": "markdown",
   "id": "5485750b",
   "metadata": {},
   "source": [
    "# Проект для «Викишоп»"
   ]
  },
  {
   "cell_type": "markdown",
   "id": "b5e38c61",
   "metadata": {},
   "source": [
    "Интернет-магазин «Викишоп» запускает новый сервис. Теперь пользователи могут редактировать и дополнять описания товаров, как в вики-сообществах. То есть клиенты предлагают свои правки и комментируют изменения других. Магазину нужен инструмент, который будет искать токсичные комментарии и отправлять их на модерацию. \n",
    "\n",
    "Обучите модель классифицировать комментарии на позитивные и негативные. В вашем распоряжении набор данных с разметкой о токсичности правок.\n",
    "\n",
    "Постройте модель со значением метрики качества *F1* не меньше 0.75. \n",
    "\n",
    "**Инструкция по выполнению проекта**\n",
    "\n",
    "1. Загрузите и подготовьте данные.\n",
    "2. Обучите разные модели. \n",
    "3. Сделайте выводы.\n",
    "\n",
    "Для выполнения проекта применять *BERT* необязательно, но вы можете попробовать.\n",
    "\n",
    "**Описание данных**\n",
    "\n",
    "Данные находятся в файле `toxic_comments.csv`. Столбец *text* в нём содержит текст комментария, а *toxic* — целевой признак."
   ]
  },
  {
   "cell_type": "markdown",
   "id": "15a095ba",
   "metadata": {},
   "source": [
    "## Подготовка"
   ]
  },
  {
   "cell_type": "code",
   "execution_count": 1,
   "id": "c1042087",
   "metadata": {
    "scrolled": true
   },
   "outputs": [],
   "source": [
    "import pandas as pd \n",
    "from sklearn.model_selection import train_test_split, GridSearchCV, ShuffleSplit\n",
    "from sklearn.metrics import f1_score\n",
    "import time\n",
    "import warnings\n",
    "import nltk\n",
    "from nltk.corpus import stopwords as nltk_stopwords\n",
    "from sklearn.feature_extraction.text import TfidfVectorizer, TfidfTransformer\n",
    "from sklearn.utils import shuffle\n",
    "from nltk.stem import WordNetLemmatizer \n",
    "import re\n",
    "from sklearn.linear_model import LogisticRegression\n",
    "from sklearn.metrics import f1_score\n",
    "from sklearn.pipeline import Pipeline\n",
    "from catboost import CatBoostClassifier\n",
    "from lightgbm import LGBMClassifier "
   ]
  },
  {
   "cell_type": "code",
   "execution_count": 2,
   "id": "d3d90105",
   "metadata": {
    "scrolled": true
   },
   "outputs": [
    {
     "name": "stderr",
     "output_type": "stream",
     "text": [
      "[nltk_data] Downloading package stopwords to\n",
      "[nltk_data]     C:\\Users\\reiji\\AppData\\Roaming\\nltk_data...\n",
      "[nltk_data]   Package stopwords is already up-to-date!\n"
     ]
    }
   ],
   "source": [
    "warnings.filterwarnings('ignore')\n",
    "nltk.download('stopwords')\n",
    "stopwords = set(nltk_stopwords.words('english'))"
   ]
  },
  {
   "cell_type": "code",
   "execution_count": 3,
   "id": "4298f585",
   "metadata": {},
   "outputs": [],
   "source": [
    "#df = pd.read_csv('https://code.s3.yandex.net/datasets/toxic_comments.csv')\n",
    "df = pd.read_csv('/datasets/toxic_comments.csv') "
   ]
  },
  {
   "cell_type": "code",
   "execution_count": 4,
   "id": "2a0c76bd",
   "metadata": {},
   "outputs": [
    {
     "data": {
      "text/html": [
       "<div>\n",
       "<style scoped>\n",
       "    .dataframe tbody tr th:only-of-type {\n",
       "        vertical-align: middle;\n",
       "    }\n",
       "\n",
       "    .dataframe tbody tr th {\n",
       "        vertical-align: top;\n",
       "    }\n",
       "\n",
       "    .dataframe thead th {\n",
       "        text-align: right;\n",
       "    }\n",
       "</style>\n",
       "<table border=\"1\" class=\"dataframe\">\n",
       "  <thead>\n",
       "    <tr style=\"text-align: right;\">\n",
       "      <th></th>\n",
       "      <th>text</th>\n",
       "      <th>toxic</th>\n",
       "    </tr>\n",
       "  </thead>\n",
       "  <tbody>\n",
       "    <tr>\n",
       "      <th>0</th>\n",
       "      <td>Explanation\\nWhy the edits made under my usern...</td>\n",
       "      <td>0</td>\n",
       "    </tr>\n",
       "    <tr>\n",
       "      <th>1</th>\n",
       "      <td>D'aww! He matches this background colour I'm s...</td>\n",
       "      <td>0</td>\n",
       "    </tr>\n",
       "    <tr>\n",
       "      <th>2</th>\n",
       "      <td>Hey man, I'm really not trying to edit war. It...</td>\n",
       "      <td>0</td>\n",
       "    </tr>\n",
       "    <tr>\n",
       "      <th>3</th>\n",
       "      <td>\"\\nMore\\nI can't make any real suggestions on ...</td>\n",
       "      <td>0</td>\n",
       "    </tr>\n",
       "    <tr>\n",
       "      <th>4</th>\n",
       "      <td>You, sir, are my hero. Any chance you remember...</td>\n",
       "      <td>0</td>\n",
       "    </tr>\n",
       "  </tbody>\n",
       "</table>\n",
       "</div>"
      ],
      "text/plain": [
       "                                                text  toxic\n",
       "0  Explanation\\nWhy the edits made under my usern...      0\n",
       "1  D'aww! He matches this background colour I'm s...      0\n",
       "2  Hey man, I'm really not trying to edit war. It...      0\n",
       "3  \"\\nMore\\nI can't make any real suggestions on ...      0\n",
       "4  You, sir, are my hero. Any chance you remember...      0"
      ]
     },
     "execution_count": 4,
     "metadata": {},
     "output_type": "execute_result"
    }
   ],
   "source": [
    "df.head()"
   ]
  },
  {
   "cell_type": "code",
   "execution_count": 5,
   "id": "6b10e741",
   "metadata": {},
   "outputs": [
    {
     "name": "stdout",
     "output_type": "stream",
     "text": [
      "<class 'pandas.core.frame.DataFrame'>\n",
      "RangeIndex: 159571 entries, 0 to 159570\n",
      "Data columns (total 2 columns):\n",
      " #   Column  Non-Null Count   Dtype \n",
      "---  ------  --------------   ----- \n",
      " 0   text    159571 non-null  object\n",
      " 1   toxic   159571 non-null  int64 \n",
      "dtypes: int64(1), object(1)\n",
      "memory usage: 2.4+ MB\n"
     ]
    }
   ],
   "source": [
    "df.info()"
   ]
  },
  {
   "cell_type": "code",
   "execution_count": 6,
   "id": "2425ed2b",
   "metadata": {},
   "outputs": [
    {
     "data": {
      "text/plain": [
       "0    143346\n",
       "1     16225\n",
       "Name: toxic, dtype: int64"
      ]
     },
     "execution_count": 6,
     "metadata": {},
     "output_type": "execute_result"
    }
   ],
   "source": [
    "df['toxic'].value_counts()"
   ]
  },
  {
   "cell_type": "markdown",
   "id": "5daa7324",
   "metadata": {},
   "source": [
    "**- Все данные загружены корректно**  \n",
    "**- В датасете 2 колонки с 159571 строкой**  \n",
    "**- Пропусков нет**  \n",
    "**- Имеется сильный перекос в данных в целевом признаке: \"0\" - 89,8% от выборки, \"1\" - 10,2%.**"
   ]
  },
  {
   "cell_type": "code",
   "execution_count": 7,
   "id": "f910186d",
   "metadata": {},
   "outputs": [],
   "source": [
    "X = df.drop('toxic', axis=1)\n",
    "y = df['toxic']"
   ]
  },
  {
   "cell_type": "markdown",
   "id": "7595d199",
   "metadata": {},
   "source": [
    "**Лемматизируем тестковые данные:**"
   ]
  },
  {
   "cell_type": "code",
   "execution_count": 8,
   "id": "1d6ed9f9",
   "metadata": {},
   "outputs": [
    {
     "name": "stdout",
     "output_type": "stream",
     "text": [
      "Wall time: 1min 13s\n"
     ]
    }
   ],
   "source": [
    "%%time\n",
    "w_tokenizer = nltk.tokenize.WhitespaceTokenizer()\n",
    "lemmatizer = nltk.stem.WordNetLemmatizer()\n",
    "\n",
    "def lemmatize_text(text):\n",
    "    return [lemmatizer.lemmatize(w) for w in w_tokenizer.tokenize(text)]\n",
    "\n",
    "X = X.text.apply(lemmatize_text)"
   ]
  },
  {
   "cell_type": "code",
   "execution_count": 9,
   "id": "82f7d0a4",
   "metadata": {},
   "outputs": [],
   "source": [
    "X = X.map(lambda x: ' '.join(x))"
   ]
  },
  {
   "cell_type": "code",
   "execution_count": 10,
   "id": "df036b39",
   "metadata": {},
   "outputs": [],
   "source": [
    "def clean_text(text):\n",
    "    text = text.lower()\n",
    "    text = re.sub(r\"what's\", \"what is \", text)\n",
    "    text = re.sub(r\"\\'s\", \" \", text)\n",
    "    text = re.sub(r\"\\'ve\", \" have \", text)\n",
    "    text = re.sub(r\"can't\", \"cannot \", text)\n",
    "    text = re.sub(r\"n't\", \" not \", text)\n",
    "    text = re.sub(r\"i'm\", \"i am \", text)\n",
    "    text = re.sub(r\"\\'re\", \" are \", text)\n",
    "    text = re.sub(r\"\\'d\", \" would \", text)\n",
    "    text = re.sub(r\"\\'ll\", \" will \", text)\n",
    "    text = re.sub('\\W', ' ', text)\n",
    "    text = re.sub('\\s+', ' ', text)\n",
    "    text = re.sub(r'[^a-zA-Z ]',' ', text)\n",
    "    text = text.strip(' ')\n",
    "    return text"
   ]
  },
  {
   "cell_type": "code",
   "execution_count": 11,
   "id": "33912303",
   "metadata": {},
   "outputs": [
    {
     "name": "stdout",
     "output_type": "stream",
     "text": [
      "Wall time: 13.7 s\n"
     ]
    }
   ],
   "source": [
    "%%time\n",
    "X = X.map(lambda x: clean_text(x))"
   ]
  },
  {
   "cell_type": "code",
   "execution_count": 12,
   "id": "d0db37ae",
   "metadata": {},
   "outputs": [
    {
     "name": "stdout",
     "output_type": "stream",
     "text": [
      "0    explanation why the edits made under my userna...\n",
      "1    d aww he match this background colour i am see...\n",
      "2    hey man i am really not trying to edit war it ...\n",
      "3    more i cannot make any real suggestion on impr...\n",
      "4    you sir are my hero any chance you remember wh...\n",
      "Name: text, dtype: object\n"
     ]
    }
   ],
   "source": [
    "X = X.map(lambda x: ' '.join(x.split()))    \n",
    "print (X.head())"
   ]
  },
  {
   "cell_type": "code",
   "execution_count": 13,
   "id": "7374777a",
   "metadata": {},
   "outputs": [],
   "source": [
    "X_train, X_test, y_train, y_test = train_test_split(X, y, test_size = 0.25, random_state=12345)"
   ]
  },
  {
   "cell_type": "markdown",
   "id": "0d1e3a34",
   "metadata": {},
   "source": [
    "**Избавимся от дисбаланса в целевом признаке с помощью апсемплинга:**"
   ]
  },
  {
   "cell_type": "code",
   "execution_count": 14,
   "id": "079664cb",
   "metadata": {},
   "outputs": [],
   "source": [
    "def upsample(features, target, repeat): \n",
    "    features_zeros = features[target == 0]\n",
    "    features_ones = features[target == 1]\n",
    "    target_zeros = target[target == 0]  \n",
    "    target_ones = target[target == 1]\n",
    "    features_upsampled = pd.concat([features_zeros] + [features_ones] * repeat) \n",
    "    target_upsampled = pd.concat([target_zeros] + [target_ones] * repeat)\n",
    "    features_upsampled, target_upsampled = shuffle( features_upsampled, target_upsampled, random_state=12345)\n",
    "    return features_upsampled, target_upsampled"
   ]
  },
  {
   "cell_type": "code",
   "execution_count": 15,
   "id": "3d441387",
   "metadata": {},
   "outputs": [
    {
     "name": "stdout",
     "output_type": "stream",
     "text": [
      "(119678,) (119678,) (39893,) (39893,)\n",
      "0    107540\n",
      "1     12138\n",
      "Name: toxic, dtype: int64\n",
      "(119678,) (119678,) (39893,) (39893,)\n",
      "0    107540\n",
      "1     12138\n",
      "Name: toxic, dtype: int64\n"
     ]
    }
   ],
   "source": [
    "#print (X_train.shape, y_train.shape, X_test.shape, y_test.shape)\n",
    "#print (y_train.value_counts())\n",
    "#X_train, y_train = upsample(X_train, y_train, 8)\n",
    "#print (X_train.shape, y_train.shape, X_test.shape, y_test.shape)\n",
    "#print (y_train.value_counts())"
   ]
  },
  {
   "cell_type": "code",
   "execution_count": null,
   "id": "35e5e978",
   "metadata": {},
   "outputs": [],
   "source": [
    "#**Избавились от дисбаланса: \"0\" - 53%, \"1\"- 47%**"
   ]
  },
  {
   "cell_type": "markdown",
   "id": "35340943",
   "metadata": {},
   "source": [
    "## Обучение"
   ]
  },
  {
   "cell_type": "code",
   "execution_count": 16,
   "id": "1918c0d5",
   "metadata": {},
   "outputs": [],
   "source": [
    "def no_parametrs (model):\n",
    "    model.fit(X_train, y_train)\n",
    "    predict = model.predict(X_test)\n",
    "    f1 = f1_score(predict, y_test)\n",
    "    print('f1:', round(f1, 3))\n",
    "    return f1"
   ]
  },
  {
   "cell_type": "code",
   "execution_count": 17,
   "id": "40c9b250",
   "metadata": {},
   "outputs": [],
   "source": [
    "cv=ShuffleSplit(n_splits=1, random_state=12345)\n",
    "\n",
    "def giper (model, params):\n",
    "    grid = GridSearchCV(estimator=model, param_grid=params, cv=cv, scoring='f1', n_jobs=-1, refit=False)\n",
    "    grid.fit(X_train, y_train)\n",
    "#    f1 = grid.best_score_\n",
    "    print('Лучшие параметры модели:', grid.best_params_) \n",
    "#    print('f1 с гиперпараметрами:', round (f1, 3))\n",
    "#    return f1"
   ]
  },
  {
   "cell_type": "code",
   "execution_count": 18,
   "id": "84776d4f",
   "metadata": {},
   "outputs": [],
   "source": [
    "value = []"
   ]
  },
  {
   "cell_type": "markdown",
   "id": "7455f949",
   "metadata": {},
   "source": [
    "### LogisticRegression"
   ]
  },
  {
   "cell_type": "code",
   "execution_count": 19,
   "id": "fdbe370c",
   "metadata": {},
   "outputs": [],
   "source": [
    "lr_pipe = Pipeline([\n",
    "    ('tfidf', TfidfVectorizer(stop_words=stopwords)),\n",
    "    ('clf', LogisticRegression(random_state=12345))])"
   ]
  },
  {
   "cell_type": "code",
   "execution_count": 20,
   "id": "d901752f",
   "metadata": {},
   "outputs": [
    {
     "name": "stdout",
     "output_type": "stream",
     "text": [
      "Без гиперпараметров:\n",
      "f1: 0.737\n",
      "Wall time: 16.3 s\n"
     ]
    }
   ],
   "source": [
    "%%time\n",
    "print ('Без гиперпараметров:')\n",
    "value.append(no_parametrs (lr_pipe))"
   ]
  },
  {
   "cell_type": "code",
   "execution_count": 21,
   "id": "4e71cccd",
   "metadata": {},
   "outputs": [],
   "source": [
    "lr_params= {'clf__C': [1,3,5],\n",
    "      'clf__class_weight': ['balanced', None]}"
   ]
  },
  {
   "cell_type": "code",
   "execution_count": 22,
   "id": "b1ad7eb1",
   "metadata": {
    "scrolled": true
   },
   "outputs": [
    {
     "name": "stdout",
     "output_type": "stream",
     "text": [
      "Лучшие параметры модели: {'clf__C': 5, 'clf__class_weight': None}\n",
      "Wall time: 45.4 s\n"
     ]
    }
   ],
   "source": [
    "%%time\n",
    "giper(lr_pipe, lr_params)"
   ]
  },
  {
   "cell_type": "code",
   "execution_count": 23,
   "id": "9a2ef097",
   "metadata": {},
   "outputs": [],
   "source": [
    "lr_pipe_2= Pipeline([\n",
    "    ('tfidf', TfidfVectorizer(stop_words=stopwords)),\n",
    "    ('clf', LogisticRegression(random_state=12345, C=5, class_weight=None))])"
   ]
  },
  {
   "cell_type": "code",
   "execution_count": 24,
   "id": "2337390b",
   "metadata": {},
   "outputs": [
    {
     "name": "stdout",
     "output_type": "stream",
     "text": [
      "С гиперпараметрами:\n",
      "f1: 0.774\n",
      "Wall time: 16.8 s\n"
     ]
    }
   ],
   "source": [
    "%%time\n",
    "print ('С гиперпараметрами:')\n",
    "value.append(no_parametrs (lr_pipe_2))"
   ]
  },
  {
   "cell_type": "markdown",
   "id": "9333b41c",
   "metadata": {},
   "source": [
    "### CatBoostClassifier"
   ]
  },
  {
   "cell_type": "code",
   "execution_count": 25,
   "id": "1af348d3",
   "metadata": {},
   "outputs": [],
   "source": [
    "cat_pipe = Pipeline([\n",
    "    ('tfidf', TfidfVectorizer (stop_words=stopwords)),\n",
    "    ('clf', CatBoostClassifier(random_state=12345, iterations=20))])"
   ]
  },
  {
   "cell_type": "code",
   "execution_count": 26,
   "id": "e99899c8",
   "metadata": {},
   "outputs": [
    {
     "name": "stdout",
     "output_type": "stream",
     "text": [
      "Без гиперпараметров:\n",
      "Learning rate set to 0.5\n",
      "0:\tlearn: 0.3487411\ttotal: 2.83s\tremaining: 53.7s\n",
      "1:\tlearn: 0.2611765\ttotal: 5.05s\tremaining: 45.5s\n",
      "2:\tlearn: 0.2379450\ttotal: 7.2s\tremaining: 40.8s\n",
      "3:\tlearn: 0.2207759\ttotal: 9.4s\tremaining: 37.6s\n",
      "4:\tlearn: 0.2125078\ttotal: 11.6s\tremaining: 34.7s\n",
      "5:\tlearn: 0.2066996\ttotal: 13.8s\tremaining: 32.1s\n",
      "6:\tlearn: 0.2005670\ttotal: 16s\tremaining: 29.6s\n",
      "7:\tlearn: 0.1959569\ttotal: 18.2s\tremaining: 27.3s\n",
      "8:\tlearn: 0.1925906\ttotal: 20.4s\tremaining: 25s\n",
      "9:\tlearn: 0.1881789\ttotal: 22.7s\tremaining: 22.7s\n",
      "10:\tlearn: 0.1848464\ttotal: 24.9s\tremaining: 20.4s\n",
      "11:\tlearn: 0.1812500\ttotal: 27.3s\tremaining: 18.2s\n",
      "12:\tlearn: 0.1784575\ttotal: 29.4s\tremaining: 15.8s\n",
      "13:\tlearn: 0.1765541\ttotal: 31.6s\tremaining: 13.5s\n",
      "14:\tlearn: 0.1744910\ttotal: 33.9s\tremaining: 11.3s\n",
      "15:\tlearn: 0.1727788\ttotal: 36s\tremaining: 9.01s\n",
      "16:\tlearn: 0.1710551\ttotal: 38.3s\tremaining: 6.76s\n",
      "17:\tlearn: 0.1692989\ttotal: 40.4s\tremaining: 4.49s\n",
      "18:\tlearn: 0.1668213\ttotal: 42.6s\tremaining: 2.24s\n",
      "19:\tlearn: 0.1656836\ttotal: 44.8s\tremaining: 0us\n",
      "f1: 0.678\n",
      "Wall time: 1min 16s\n"
     ]
    }
   ],
   "source": [
    "%%time\n",
    "print ('Без гиперпараметров:')\n",
    "value.append(no_parametrs (cat_pipe))"
   ]
  },
  {
   "cell_type": "code",
   "execution_count": 27,
   "id": "2cb444df",
   "metadata": {},
   "outputs": [],
   "source": [
    "cat_params= {'clf__max_depth': [1, 3, -1]}"
   ]
  },
  {
   "cell_type": "code",
   "execution_count": 28,
   "id": "41228b9d",
   "metadata": {},
   "outputs": [
    {
     "name": "stdout",
     "output_type": "stream",
     "text": [
      "Лучшие параметры модели: {'clf__max_depth': 3}\n",
      "Wall time: 1min 1s\n"
     ]
    }
   ],
   "source": [
    "%%time\n",
    "giper(cat_pipe, cat_params)"
   ]
  },
  {
   "cell_type": "code",
   "execution_count": 29,
   "id": "9a100ab8",
   "metadata": {},
   "outputs": [],
   "source": [
    "cat_pipe_2= Pipeline([\n",
    "    ('tfidf', TfidfVectorizer(stop_words=stopwords)),\n",
    "    ('clf', CatBoostClassifier(random_state=12345, iterations=20, max_depth = 3))])"
   ]
  },
  {
   "cell_type": "code",
   "execution_count": 30,
   "id": "6c88b29a",
   "metadata": {},
   "outputs": [
    {
     "name": "stdout",
     "output_type": "stream",
     "text": [
      "С гиперпараметрами:\n",
      "Learning rate set to 0.5\n",
      "0:\tlearn: 0.3538501\ttotal: 684ms\tremaining: 13s\n",
      "1:\tlearn: 0.2779995\ttotal: 1.36s\tremaining: 12.2s\n",
      "2:\tlearn: 0.2544812\ttotal: 2.02s\tremaining: 11.5s\n",
      "3:\tlearn: 0.2427986\ttotal: 2.67s\tremaining: 10.7s\n",
      "4:\tlearn: 0.2348714\ttotal: 3.36s\tremaining: 10.1s\n",
      "5:\tlearn: 0.2299637\ttotal: 4.09s\tremaining: 9.55s\n",
      "6:\tlearn: 0.2229257\ttotal: 4.76s\tremaining: 8.85s\n",
      "7:\tlearn: 0.2180596\ttotal: 5.47s\tremaining: 8.21s\n",
      "8:\tlearn: 0.2140510\ttotal: 6.14s\tremaining: 7.51s\n",
      "9:\tlearn: 0.2104940\ttotal: 6.83s\tremaining: 6.83s\n",
      "10:\tlearn: 0.2062758\ttotal: 7.53s\tremaining: 6.16s\n",
      "11:\tlearn: 0.2040850\ttotal: 8.2s\tremaining: 5.46s\n",
      "12:\tlearn: 0.2020268\ttotal: 8.88s\tremaining: 4.78s\n",
      "13:\tlearn: 0.1997674\ttotal: 9.54s\tremaining: 4.09s\n",
      "14:\tlearn: 0.1980011\ttotal: 10.2s\tremaining: 3.41s\n",
      "15:\tlearn: 0.1961883\ttotal: 10.9s\tremaining: 2.72s\n",
      "16:\tlearn: 0.1943882\ttotal: 11.5s\tremaining: 2.04s\n",
      "17:\tlearn: 0.1926547\ttotal: 12.2s\tremaining: 1.35s\n",
      "18:\tlearn: 0.1902146\ttotal: 12.9s\tremaining: 678ms\n",
      "19:\tlearn: 0.1887500\ttotal: 13.5s\tremaining: 0us\n",
      "f1: 0.611\n",
      "Wall time: 46.6 s\n"
     ]
    }
   ],
   "source": [
    "%%time\n",
    "print ('С гиперпараметрами:')\n",
    "value.append(no_parametrs (cat_pipe_2))"
   ]
  },
  {
   "cell_type": "markdown",
   "id": "100707cd",
   "metadata": {},
   "source": [
    "### LGBM"
   ]
  },
  {
   "cell_type": "code",
   "execution_count": 31,
   "id": "bdfb333a",
   "metadata": {},
   "outputs": [],
   "source": [
    "lgb_pipe = Pipeline([\n",
    "    ('tfidf', TfidfVectorizer(stop_words=stopwords)),\n",
    "    ('clf', LGBMClassifier(random_state=12345))])"
   ]
  },
  {
   "cell_type": "code",
   "execution_count": 32,
   "id": "2ab85236",
   "metadata": {},
   "outputs": [
    {
     "name": "stdout",
     "output_type": "stream",
     "text": [
      "Без гиперпараметров:\n",
      "f1: 0.745\n",
      "Wall time: 53.5 s\n"
     ]
    }
   ],
   "source": [
    "%%time\n",
    "print ('Без гиперпараметров:')\n",
    "value.append(no_parametrs (lgb_pipe))"
   ]
  },
  {
   "cell_type": "code",
   "execution_count": 33,
   "id": "9576bec7",
   "metadata": {},
   "outputs": [],
   "source": [
    "lgb_params = {'clf__n_estimators': [20],\n",
    "    'clf__max_depth': [1, 3, -1]}"
   ]
  },
  {
   "cell_type": "code",
   "execution_count": 34,
   "id": "4ad7113f",
   "metadata": {},
   "outputs": [
    {
     "name": "stdout",
     "output_type": "stream",
     "text": [
      "Лучшие параметры модели: {'clf__max_depth': -1, 'clf__n_estimators': 20}\n",
      "Wall time: 44.1 s\n"
     ]
    }
   ],
   "source": [
    "%%time\n",
    "giper(lgb_pipe, lgb_params)"
   ]
  },
  {
   "cell_type": "code",
   "execution_count": 35,
   "id": "7317f11f",
   "metadata": {},
   "outputs": [],
   "source": [
    "lgb_pipe_2= Pipeline([\n",
    "    ('tfidf', TfidfVectorizer(stop_words=stopwords)),\n",
    "    ('clf', LGBMClassifier(random_state=12345, max_depth = -1, n_estimators = 20))])"
   ]
  },
  {
   "cell_type": "code",
   "execution_count": 36,
   "id": "c239964e",
   "metadata": {},
   "outputs": [
    {
     "name": "stdout",
     "output_type": "stream",
     "text": [
      "С гиперпараметрами:\n",
      "f1: 0.643\n",
      "Wall time: 26.5 s\n"
     ]
    }
   ],
   "source": [
    "%%time\n",
    "print ('С гиперпараметрами:')\n",
    "value.append(no_parametrs (lgb_pipe_2))"
   ]
  },
  {
   "cell_type": "markdown",
   "id": "45266719",
   "metadata": {},
   "source": [
    "## Выводы"
   ]
  },
  {
   "cell_type": "code",
   "execution_count": 37,
   "id": "21cee9ce",
   "metadata": {},
   "outputs": [],
   "source": [
    "rezult=pd.DataFrame(value, index=['LogisticRegression без гиперпараметров', 'LogisticRegression с гиперпараметрами',\n",
    "                                  'CatBoostClassifier без гиперпараметров', 'CatBoostClassifier с гиперпараметрами',\n",
    "                                  'LGBMClassifier без гиперпараметров', 'LGBMClassifier с гиперпараметрами'])"
   ]
  },
  {
   "cell_type": "code",
   "execution_count": 38,
   "id": "fd86a167",
   "metadata": {},
   "outputs": [],
   "source": [
    "rezult.set_axis(['F1'],axis='columns',inplace=True)"
   ]
  },
  {
   "cell_type": "code",
   "execution_count": 39,
   "id": "6f8305a5",
   "metadata": {},
   "outputs": [
    {
     "data": {
      "text/html": [
       "<div>\n",
       "<style scoped>\n",
       "    .dataframe tbody tr th:only-of-type {\n",
       "        vertical-align: middle;\n",
       "    }\n",
       "\n",
       "    .dataframe tbody tr th {\n",
       "        vertical-align: top;\n",
       "    }\n",
       "\n",
       "    .dataframe thead th {\n",
       "        text-align: right;\n",
       "    }\n",
       "</style>\n",
       "<table border=\"1\" class=\"dataframe\">\n",
       "  <thead>\n",
       "    <tr style=\"text-align: right;\">\n",
       "      <th></th>\n",
       "      <th>F1</th>\n",
       "    </tr>\n",
       "  </thead>\n",
       "  <tbody>\n",
       "    <tr>\n",
       "      <th>LogisticRegression без гиперпараметров</th>\n",
       "      <td>0.737417</td>\n",
       "    </tr>\n",
       "    <tr>\n",
       "      <th>LogisticRegression с гиперпараметрами</th>\n",
       "      <td>0.773656</td>\n",
       "    </tr>\n",
       "    <tr>\n",
       "      <th>CatBoostClassifier без гиперпараметров</th>\n",
       "      <td>0.678040</td>\n",
       "    </tr>\n",
       "    <tr>\n",
       "      <th>CatBoostClassifier с гиперпараметрами</th>\n",
       "      <td>0.611394</td>\n",
       "    </tr>\n",
       "    <tr>\n",
       "      <th>LGBMClassifier без гиперпараметров</th>\n",
       "      <td>0.744678</td>\n",
       "    </tr>\n",
       "    <tr>\n",
       "      <th>LGBMClassifier с гиперпараметрами</th>\n",
       "      <td>0.642515</td>\n",
       "    </tr>\n",
       "  </tbody>\n",
       "</table>\n",
       "</div>"
      ],
      "text/plain": [
       "                                              F1\n",
       "LogisticRegression без гиперпараметров  0.737417\n",
       "LogisticRegression с гиперпараметрами   0.773656\n",
       "CatBoostClassifier без гиперпараметров  0.678040\n",
       "CatBoostClassifier с гиперпараметрами   0.611394\n",
       "LGBMClassifier без гиперпараметров      0.744678\n",
       "LGBMClassifier с гиперпараметрами       0.642515"
      ]
     },
     "execution_count": 39,
     "metadata": {},
     "output_type": "execute_result"
    }
   ],
   "source": [
    "rezult"
   ]
  },
  {
   "cell_type": "markdown",
   "id": "ddc62ea0",
   "metadata": {},
   "source": [
    "**- наилучшим образом себя показала модель логистической регрессии с гиперпараметрами C = 5 и class_weight = None**  \n",
    "**- ее показатели составили 0,774**  \n",
    "**- при увеличении показателя C, значение метрики продолжит расти, однако сильно увеличивается время обсчета модели**"
   ]
  }
 ],
 "metadata": {
  "ExecuteTimeLog": [
   {
    "duration": 1459,
    "start_time": "2022-04-16T05:47:43.897Z"
   },
   {
    "duration": 1790202,
    "start_time": "2022-04-16T05:47:45.358Z"
   },
   {
    "duration": 0,
    "start_time": "2022-04-16T06:17:35.563Z"
   },
   {
    "duration": 0,
    "start_time": "2022-04-16T06:17:35.564Z"
   },
   {
    "duration": 0,
    "start_time": "2022-04-16T06:17:35.565Z"
   },
   {
    "duration": 0,
    "start_time": "2022-04-16T06:17:35.565Z"
   },
   {
    "duration": 0,
    "start_time": "2022-04-16T06:17:35.567Z"
   },
   {
    "duration": 0,
    "start_time": "2022-04-16T06:17:35.568Z"
   },
   {
    "duration": 0,
    "start_time": "2022-04-16T06:17:35.569Z"
   },
   {
    "duration": 0,
    "start_time": "2022-04-16T06:17:35.570Z"
   },
   {
    "duration": 0,
    "start_time": "2022-04-16T06:17:35.571Z"
   },
   {
    "duration": 0,
    "start_time": "2022-04-16T06:17:35.572Z"
   },
   {
    "duration": 0,
    "start_time": "2022-04-16T06:17:35.573Z"
   },
   {
    "duration": 0,
    "start_time": "2022-04-16T06:17:35.574Z"
   },
   {
    "duration": 0,
    "start_time": "2022-04-16T06:17:35.575Z"
   },
   {
    "duration": 0,
    "start_time": "2022-04-16T06:17:35.576Z"
   },
   {
    "duration": 0,
    "start_time": "2022-04-16T06:17:35.577Z"
   },
   {
    "duration": 0,
    "start_time": "2022-04-16T06:17:35.578Z"
   },
   {
    "duration": 0,
    "start_time": "2022-04-16T06:17:35.579Z"
   },
   {
    "duration": 0,
    "start_time": "2022-04-16T06:17:35.607Z"
   },
   {
    "duration": 0,
    "start_time": "2022-04-16T06:17:35.608Z"
   },
   {
    "duration": 0,
    "start_time": "2022-04-16T06:17:35.609Z"
   },
   {
    "duration": 0,
    "start_time": "2022-04-16T06:17:35.610Z"
   },
   {
    "duration": 0,
    "start_time": "2022-04-16T06:17:35.611Z"
   },
   {
    "duration": 0,
    "start_time": "2022-04-16T06:17:35.612Z"
   },
   {
    "duration": 4,
    "start_time": "2022-04-16T12:19:48.248Z"
   },
   {
    "duration": 177,
    "start_time": "2022-04-16T12:19:48.254Z"
   },
   {
    "duration": 914,
    "start_time": "2022-04-16T12:19:48.433Z"
   },
   {
    "duration": 13,
    "start_time": "2022-04-16T12:19:49.349Z"
   },
   {
    "duration": 30,
    "start_time": "2022-04-16T12:19:49.364Z"
   },
   {
    "duration": 12,
    "start_time": "2022-04-16T12:19:49.396Z"
   },
   {
    "duration": 16,
    "start_time": "2022-04-16T12:19:49.411Z"
   },
   {
    "duration": 37343,
    "start_time": "2022-04-16T12:19:49.428Z"
   },
   {
    "duration": 668,
    "start_time": "2022-04-16T12:20:26.772Z"
   },
   {
    "duration": 5,
    "start_time": "2022-04-16T12:20:27.441Z"
   },
   {
    "duration": 10212,
    "start_time": "2022-04-16T12:20:27.447Z"
   },
   {
    "duration": 922,
    "start_time": "2022-04-16T12:20:37.661Z"
   },
   {
    "duration": 46,
    "start_time": "2022-04-16T12:20:38.585Z"
   },
   {
    "duration": 5,
    "start_time": "2022-04-16T12:20:38.634Z"
   },
   {
    "duration": 121,
    "start_time": "2022-04-16T12:20:38.641Z"
   },
   {
    "duration": 3,
    "start_time": "2022-04-16T12:20:38.764Z"
   },
   {
    "duration": 5,
    "start_time": "2022-04-16T12:20:38.769Z"
   },
   {
    "duration": 7,
    "start_time": "2022-04-16T12:20:38.775Z"
   },
   {
    "duration": 4,
    "start_time": "2022-04-16T12:20:38.784Z"
   },
   {
    "duration": 19,
    "start_time": "2022-04-16T12:20:38.790Z"
   },
   {
    "duration": 64511,
    "start_time": "2022-04-16T12:20:38.812Z"
   },
   {
    "duration": 3,
    "start_time": "2022-04-16T12:21:43.325Z"
   },
   {
    "duration": 959637,
    "start_time": "2022-04-16T12:21:43.329Z"
   },
   {
    "duration": 2,
    "start_time": "2022-04-16T12:37:42.968Z"
   },
   {
    "duration": 73,
    "start_time": "2022-04-16T12:37:42.972Z"
   },
   {
    "duration": 3,
    "start_time": "2022-04-16T12:37:43.047Z"
   },
   {
    "duration": 123733,
    "start_time": "2022-04-16T12:37:43.052Z"
   },
   {
    "duration": 3,
    "start_time": "2022-04-16T12:39:46.787Z"
   },
   {
    "duration": 357178,
    "start_time": "2022-04-16T12:39:46.792Z"
   },
   {
    "duration": 3,
    "start_time": "2022-04-16T12:45:43.972Z"
   },
   {
    "duration": 1755164,
    "start_time": "2022-04-16T12:45:43.977Z"
   },
   {
    "duration": 3,
    "start_time": "2022-04-16T13:14:59.143Z"
   },
   {
    "duration": 2769577,
    "start_time": "2022-04-16T13:14:59.148Z"
   },
   {
    "duration": 18,
    "start_time": "2022-04-16T14:01:08.727Z"
   },
   {
    "duration": 0,
    "start_time": "2022-04-16T14:01:08.747Z"
   },
   {
    "duration": 0,
    "start_time": "2022-04-16T14:01:08.748Z"
   },
   {
    "duration": 3,
    "start_time": "2022-04-16T15:04:38.092Z"
   },
   {
    "duration": 75,
    "start_time": "2022-04-16T15:04:38.891Z"
   },
   {
    "duration": 79,
    "start_time": "2022-04-16T15:05:07.908Z"
   },
   {
    "duration": 3,
    "start_time": "2022-04-16T15:05:09.123Z"
   },
   {
    "duration": 77,
    "start_time": "2022-04-16T15:05:10.051Z"
   },
   {
    "duration": 4,
    "start_time": "2022-04-16T15:06:25.940Z"
   },
   {
    "duration": 4314445,
    "start_time": "2022-04-16T15:06:25.946Z"
   },
   {
    "duration": 0,
    "start_time": "2022-04-16T16:18:20.394Z"
   },
   {
    "duration": 0,
    "start_time": "2022-04-16T16:18:20.395Z"
   },
   {
    "duration": 0,
    "start_time": "2022-04-16T16:18:20.396Z"
   },
   {
    "duration": 0,
    "start_time": "2022-04-16T16:18:20.397Z"
   },
   {
    "duration": 0,
    "start_time": "2022-04-16T16:18:20.398Z"
   },
   {
    "duration": 0,
    "start_time": "2022-04-16T16:18:20.400Z"
   },
   {
    "duration": 0,
    "start_time": "2022-04-16T16:18:20.401Z"
   },
   {
    "duration": 0,
    "start_time": "2022-04-16T16:18:20.402Z"
   },
   {
    "duration": 0,
    "start_time": "2022-04-16T16:18:20.403Z"
   },
   {
    "duration": 0,
    "start_time": "2022-04-16T16:18:20.404Z"
   },
   {
    "duration": 0,
    "start_time": "2022-04-16T16:18:20.405Z"
   },
   {
    "duration": 0,
    "start_time": "2022-04-16T16:18:20.407Z"
   },
   {
    "duration": 0,
    "start_time": "2022-04-16T16:18:20.408Z"
   },
   {
    "duration": 0,
    "start_time": "2022-04-16T16:18:20.409Z"
   },
   {
    "duration": 0,
    "start_time": "2022-04-16T16:18:20.410Z"
   },
   {
    "duration": 0,
    "start_time": "2022-04-16T16:18:20.411Z"
   },
   {
    "duration": 0,
    "start_time": "2022-04-16T16:18:20.413Z"
   },
   {
    "duration": 0,
    "start_time": "2022-04-16T16:18:20.415Z"
   },
   {
    "duration": 0,
    "start_time": "2022-04-16T16:18:20.418Z"
   },
   {
    "duration": 0,
    "start_time": "2022-04-16T16:18:20.419Z"
   },
   {
    "duration": 0,
    "start_time": "2022-04-16T16:18:20.420Z"
   },
   {
    "duration": 0,
    "start_time": "2022-04-16T16:18:20.422Z"
   },
   {
    "duration": 0,
    "start_time": "2022-04-16T16:18:20.423Z"
   },
   {
    "duration": 0,
    "start_time": "2022-04-16T16:18:20.424Z"
   },
   {
    "duration": 0,
    "start_time": "2022-04-16T16:18:20.425Z"
   },
   {
    "duration": 0,
    "start_time": "2022-04-16T16:18:20.427Z"
   },
   {
    "duration": 0,
    "start_time": "2022-04-16T16:18:20.429Z"
   },
   {
    "duration": 0,
    "start_time": "2022-04-16T16:18:20.431Z"
   },
   {
    "duration": 0,
    "start_time": "2022-04-16T16:18:20.432Z"
   },
   {
    "duration": 0,
    "start_time": "2022-04-16T16:18:20.433Z"
   },
   {
    "duration": 0,
    "start_time": "2022-04-16T16:18:20.434Z"
   },
   {
    "duration": 0,
    "start_time": "2022-04-16T16:18:20.435Z"
   },
   {
    "duration": 0,
    "start_time": "2022-04-16T16:18:20.436Z"
   },
   {
    "duration": 0,
    "start_time": "2022-04-16T16:18:20.438Z"
   }
  ],
  "kernelspec": {
   "display_name": "Python 3",
   "language": "python",
   "name": "python3"
  },
  "language_info": {
   "codemirror_mode": {
    "name": "ipython",
    "version": 3
   },
   "file_extension": ".py",
   "mimetype": "text/x-python",
   "name": "python",
   "nbconvert_exporter": "python",
   "pygments_lexer": "ipython3",
   "version": "3.8.8"
  },
  "toc": {
   "base_numbering": 1,
   "nav_menu": {},
   "number_sections": true,
   "sideBar": true,
   "skip_h1_title": true,
   "title_cell": "Table of Contents",
   "title_sidebar": "Contents",
   "toc_cell": false,
   "toc_position": {},
   "toc_section_display": true,
   "toc_window_display": false
  }
 },
 "nbformat": 4,
 "nbformat_minor": 5
}
