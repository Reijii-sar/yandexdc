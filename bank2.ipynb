{
 "cells": [
  {
   "cell_type": "markdown",
   "metadata": {},
   "source": [
    "# Отток клиентов"
   ]
  },
  {
   "cell_type": "markdown",
   "metadata": {},
   "source": [
    "Из «Бета-Банка» стали уходить клиенты. Каждый месяц. Немного, но заметно. Банковские маркетологи посчитали: сохранять текущих клиентов дешевле, чем привлекать новых.\n",
    "\n",
    "Нужно спрогнозировать, уйдёт клиент из банка в ближайшее время или нет. Вам предоставлены исторические данные о поведении клиентов и расторжении договоров с банком. \n",
    "\n",
    "Постройте модель с предельно большим значением *F1*-меры. Чтобы сдать проект успешно, нужно довести метрику до 0.59. Проверьте *F1*-меру на тестовой выборке самостоятельно.\n",
    "\n",
    "Дополнительно измеряйте *AUC-ROC*, сравнивайте её значение с *F1*-мерой.\n",
    "\n",
    "Источник данных: [https://www.kaggle.com/barelydedicated/bank-customer-churn-modeling](https://www.kaggle.com/barelydedicated/bank-customer-churn-modeling)\n",
    "\n",
    "**Описание данных**\n",
    "\n",
    "**Признаки**  \n",
    "RowNumber — индекс строки в данных  \n",
    "CustomerId — уникальный идентификатор клиента  \n",
    "Surname — фамилия  \n",
    "CreditScore — кредитный рейтинг  \n",
    "Geography — страна проживания  \n",
    "Gender — пол  \n",
    "Age — возраст  \n",
    "Tenure — сколько лет человек является клиентом банка  \n",
    "Balance — баланс на счёте  \n",
    "NumOfProducts — количество продуктов банка, используемых клиентом  \n",
    "HasCrCard — наличие кредитной карты  \n",
    "IsActiveMember — активность клиента  \n",
    "EstimatedSalary — предполагаемая зарплата  \n",
    "\n",
    "**Целевой признак**  \n",
    "Exited — факт ухода клиента"
   ]
  },
  {
   "cell_type": "markdown",
   "metadata": {},
   "source": [
    "## Подготовка данных"
   ]
  },
  {
   "cell_type": "code",
   "execution_count": 66,
   "metadata": {},
   "outputs": [],
   "source": [
    "import pandas as pd\n",
    "from sklearn.model_selection import train_test_split\n",
    "from sklearn.preprocessing import StandardScaler\n",
    "from sklearn.tree import DecisionTreeClassifier\n",
    "from sklearn.ensemble import RandomForestClassifier \n",
    "from sklearn.linear_model import LogisticRegression \n",
    "from sklearn.metrics import f1_score, roc_auc_score, roc_curve\n",
    "from sklearn.utils import shuffle\n",
    "from sklearn.dummy import DummyClassifier\n",
    "import matplotlib.pyplot as plt\n",
    "import warnings"
   ]
  },
  {
   "cell_type": "code",
   "execution_count": 67,
   "metadata": {},
   "outputs": [
    {
     "data": {
      "text/html": [
       "<div>\n",
       "<style scoped>\n",
       "    .dataframe tbody tr th:only-of-type {\n",
       "        vertical-align: middle;\n",
       "    }\n",
       "\n",
       "    .dataframe tbody tr th {\n",
       "        vertical-align: top;\n",
       "    }\n",
       "\n",
       "    .dataframe thead th {\n",
       "        text-align: right;\n",
       "    }\n",
       "</style>\n",
       "<table border=\"1\" class=\"dataframe\">\n",
       "  <thead>\n",
       "    <tr style=\"text-align: right;\">\n",
       "      <th></th>\n",
       "      <th>RowNumber</th>\n",
       "      <th>CustomerId</th>\n",
       "      <th>Surname</th>\n",
       "      <th>CreditScore</th>\n",
       "      <th>Geography</th>\n",
       "      <th>Gender</th>\n",
       "      <th>Age</th>\n",
       "      <th>Tenure</th>\n",
       "      <th>Balance</th>\n",
       "      <th>NumOfProducts</th>\n",
       "      <th>HasCrCard</th>\n",
       "      <th>IsActiveMember</th>\n",
       "      <th>EstimatedSalary</th>\n",
       "      <th>Exited</th>\n",
       "    </tr>\n",
       "  </thead>\n",
       "  <tbody>\n",
       "    <tr>\n",
       "      <td>0</td>\n",
       "      <td>1</td>\n",
       "      <td>15634602</td>\n",
       "      <td>Hargrave</td>\n",
       "      <td>619</td>\n",
       "      <td>France</td>\n",
       "      <td>Female</td>\n",
       "      <td>42</td>\n",
       "      <td>2.0</td>\n",
       "      <td>0.00</td>\n",
       "      <td>1</td>\n",
       "      <td>1</td>\n",
       "      <td>1</td>\n",
       "      <td>101348.88</td>\n",
       "      <td>1</td>\n",
       "    </tr>\n",
       "    <tr>\n",
       "      <td>1</td>\n",
       "      <td>2</td>\n",
       "      <td>15647311</td>\n",
       "      <td>Hill</td>\n",
       "      <td>608</td>\n",
       "      <td>Spain</td>\n",
       "      <td>Female</td>\n",
       "      <td>41</td>\n",
       "      <td>1.0</td>\n",
       "      <td>83807.86</td>\n",
       "      <td>1</td>\n",
       "      <td>0</td>\n",
       "      <td>1</td>\n",
       "      <td>112542.58</td>\n",
       "      <td>0</td>\n",
       "    </tr>\n",
       "    <tr>\n",
       "      <td>2</td>\n",
       "      <td>3</td>\n",
       "      <td>15619304</td>\n",
       "      <td>Onio</td>\n",
       "      <td>502</td>\n",
       "      <td>France</td>\n",
       "      <td>Female</td>\n",
       "      <td>42</td>\n",
       "      <td>8.0</td>\n",
       "      <td>159660.80</td>\n",
       "      <td>3</td>\n",
       "      <td>1</td>\n",
       "      <td>0</td>\n",
       "      <td>113931.57</td>\n",
       "      <td>1</td>\n",
       "    </tr>\n",
       "    <tr>\n",
       "      <td>3</td>\n",
       "      <td>4</td>\n",
       "      <td>15701354</td>\n",
       "      <td>Boni</td>\n",
       "      <td>699</td>\n",
       "      <td>France</td>\n",
       "      <td>Female</td>\n",
       "      <td>39</td>\n",
       "      <td>1.0</td>\n",
       "      <td>0.00</td>\n",
       "      <td>2</td>\n",
       "      <td>0</td>\n",
       "      <td>0</td>\n",
       "      <td>93826.63</td>\n",
       "      <td>0</td>\n",
       "    </tr>\n",
       "    <tr>\n",
       "      <td>4</td>\n",
       "      <td>5</td>\n",
       "      <td>15737888</td>\n",
       "      <td>Mitchell</td>\n",
       "      <td>850</td>\n",
       "      <td>Spain</td>\n",
       "      <td>Female</td>\n",
       "      <td>43</td>\n",
       "      <td>2.0</td>\n",
       "      <td>125510.82</td>\n",
       "      <td>1</td>\n",
       "      <td>1</td>\n",
       "      <td>1</td>\n",
       "      <td>79084.10</td>\n",
       "      <td>0</td>\n",
       "    </tr>\n",
       "  </tbody>\n",
       "</table>\n",
       "</div>"
      ],
      "text/plain": [
       "   RowNumber  CustomerId   Surname  CreditScore Geography  Gender  Age  \\\n",
       "0          1    15634602  Hargrave          619    France  Female   42   \n",
       "1          2    15647311      Hill          608     Spain  Female   41   \n",
       "2          3    15619304      Onio          502    France  Female   42   \n",
       "3          4    15701354      Boni          699    France  Female   39   \n",
       "4          5    15737888  Mitchell          850     Spain  Female   43   \n",
       "\n",
       "   Tenure    Balance  NumOfProducts  HasCrCard  IsActiveMember  \\\n",
       "0     2.0       0.00              1          1               1   \n",
       "1     1.0   83807.86              1          0               1   \n",
       "2     8.0  159660.80              3          1               0   \n",
       "3     1.0       0.00              2          0               0   \n",
       "4     2.0  125510.82              1          1               1   \n",
       "\n",
       "   EstimatedSalary  Exited  \n",
       "0        101348.88       1  \n",
       "1        112542.58       0  \n",
       "2        113931.57       1  \n",
       "3         93826.63       0  \n",
       "4         79084.10       0  "
      ]
     },
     "execution_count": 67,
     "metadata": {},
     "output_type": "execute_result"
    }
   ],
   "source": [
    "data = pd.read_csv('/datasets/Churn.csv')\n",
    "r_s = 12345\n",
    "warnings.filterwarnings('ignore')\n",
    "data.head()"
   ]
  },
  {
   "cell_type": "code",
   "execution_count": 68,
   "metadata": {},
   "outputs": [
    {
     "name": "stdout",
     "output_type": "stream",
     "text": [
      "<class 'pandas.core.frame.DataFrame'>\n",
      "RangeIndex: 10000 entries, 0 to 9999\n",
      "Data columns (total 14 columns):\n",
      "RowNumber          10000 non-null int64\n",
      "CustomerId         10000 non-null int64\n",
      "Surname            10000 non-null object\n",
      "CreditScore        10000 non-null int64\n",
      "Geography          10000 non-null object\n",
      "Gender             10000 non-null object\n",
      "Age                10000 non-null int64\n",
      "Tenure             9091 non-null float64\n",
      "Balance            10000 non-null float64\n",
      "NumOfProducts      10000 non-null int64\n",
      "HasCrCard          10000 non-null int64\n",
      "IsActiveMember     10000 non-null int64\n",
      "EstimatedSalary    10000 non-null float64\n",
      "Exited             10000 non-null int64\n",
      "dtypes: float64(3), int64(8), object(3)\n",
      "memory usage: 1.1+ MB\n"
     ]
    }
   ],
   "source": [
    "data.info()"
   ]
  },
  {
   "cell_type": "code",
   "execution_count": 69,
   "metadata": {},
   "outputs": [],
   "source": [
    "# колонки 'RowNumber', 'CustomerId', 'Surname' не важны для построения нашей модели\n",
    "# уберем их из наших данных\n",
    "df = data.drop(['RowNumber', 'CustomerId', 'Surname'], axis=1)"
   ]
  },
  {
   "cell_type": "code",
   "execution_count": 70,
   "metadata": {},
   "outputs": [
    {
     "data": {
      "text/plain": [
       "1.0     952\n",
       "2.0     950\n",
       "8.0     933\n",
       "3.0     928\n",
       "5.0     927\n",
       "7.0     925\n",
       "4.0     885\n",
       "9.0     882\n",
       "6.0     881\n",
       "10.0    446\n",
       "0.0     382\n",
       "Name: Tenure, dtype: int64"
      ]
     },
     "execution_count": 70,
     "metadata": {},
     "output_type": "execute_result"
    }
   ],
   "source": [
    "df['Tenure'].value_counts()"
   ]
  },
  {
   "cell_type": "code",
   "execution_count": 71,
   "metadata": {},
   "outputs": [],
   "source": [
    "# так как распределенией по годам примерно одинаковое, заполнение NAN средним или медианой приведет к перекосу в данных\n",
    "# так как количество NAN не превышает 10% от нашей выборки - удалим эти строки из наших данных\n",
    "df=df.dropna()"
   ]
  },
  {
   "cell_type": "code",
   "execution_count": 72,
   "metadata": {},
   "outputs": [
    {
     "data": {
      "text/plain": [
       "array(['France', 'Spain', 'Germany'], dtype=object)"
      ]
     },
     "execution_count": 72,
     "metadata": {},
     "output_type": "execute_result"
    }
   ],
   "source": [
    "# смотрим уникальные значения Geography\n",
    "df['Geography'].unique()"
   ]
  },
  {
   "cell_type": "code",
   "execution_count": 73,
   "metadata": {},
   "outputs": [],
   "source": [
    "# получаем дамми-признаки, избегая дамми-ловушки\n",
    "df_geography = pd.get_dummies(df['Geography'], drop_first=True)\n",
    "df_gender = pd.get_dummies(df['Gender'], drop_first=True)\n",
    "# добавляем получившиеся данные в наш dataset\n",
    "df = pd.concat([df, df_geography, df_gender], axis=1)\n",
    "# удаляем ненужные теперь столбцы\n",
    "df = df.drop(['Geography', 'Gender'], axis=1)"
   ]
  },
  {
   "cell_type": "code",
   "execution_count": 74,
   "metadata": {},
   "outputs": [
    {
     "data": {
      "image/png": "[encoded data removed]",
      "text/plain": [
       "<Figure size 864x864 with 144 Axes>"
      ]
     },
     "metadata": {
      "needs_background": "light"
     },
     "output_type": "display_data"
    }
   ],
   "source": [
    "#построим графики для проверки мультиколлинеарности\n",
    "pd.plotting.scatter_matrix(df, figsize=(12, 12));"
   ]
  },
  {
   "cell_type": "code",
   "execution_count": 75,
   "metadata": {},
   "outputs": [],
   "source": [
    "#стандартизируем количественные признаки\n",
    "#numeric = ['CreditScore', 'Age', 'Tenure', 'Balance', 'NumOfProducts', 'EstimatedSalary']\n",
    "#scaler = StandardScaler()\n",
    "#scaler.fit(df[numeric])  \n",
    "#df[numeric] = scaler.transform(df[numeric])"
   ]
  },
  {
   "cell_type": "code",
   "execution_count": 76,
   "metadata": {},
   "outputs": [],
   "source": [
    "#подготовим выборки\n",
    "df_features = df.drop(['Exited'], axis=1) \n",
    "df_targets = df['Exited']\n",
    "features, features_valid, targets, targets_valid = train_test_split(\n",
    "    df_features, df_targets, test_size = 0.4, random_state=r_s)\n",
    "features_test, features_valid, targets_test, targets_valid = train_test_split(\n",
    "    features_valid, targets_valid, test_size = 0.5, random_state=r_s)"
   ]
  },
  {
   "cell_type": "code",
   "execution_count": 77,
   "metadata": {},
   "outputs": [],
   "source": [
    "numeric = ['CreditScore', 'Age', 'Tenure', 'Balance', 'NumOfProducts', 'EstimatedSalary']\n",
    "scaler = StandardScaler()\n",
    "scaler.fit(features[numeric])\n",
    "features[numeric] = scaler.transform(features[numeric])\n",
    "features_valid[numeric] = scaler.transform(features_valid[numeric])\n",
    "features_test[numeric] = scaler.transform(features_test[numeric])"
   ]
  },
  {
   "cell_type": "markdown",
   "metadata": {},
   "source": [
    "### Вывод:  \n",
    "- загрузили и оценили данные - имеются пропуски в столбце 'Tenure'\n",
    "- убрали из наших данных колонки 'RowNumber', 'CustomerId', 'Surname', так как для построения нашей модели они не нужны\n",
    "- так как распределение в данных \"сколько лет человек является клиентом банка\" примерно одинаковое по годам и доля Nan в наших данных не превышает 10% - удаляем эти строки с пропусками из нашей выборки\n",
    "- построили графики для проверки мультиколлинеарности\n",
    "- на графиках видно, что в данных нет явной корреляции, следовательно они не мультиколлинеарны - оставляем данные без изменений\n",
    "- получили дамми-призники признаков 'Geography' и 'Gender', избавились от фиктивных признаков\n",
    "- масштабировали количественные признаки методом стандартизации данных\n",
    "- разбили данные на обучающую, валидационную и тестовую выборки в соотношении 3:1:1 для последующего моделирования"
   ]
  },
  {
   "cell_type": "markdown",
   "metadata": {},
   "source": [
    "## Исследование задачи"
   ]
  },
  {
   "cell_type": "markdown",
   "metadata": {},
   "source": [
    "Обучим модели без учета дисбаланса классов"
   ]
  },
  {
   "cell_type": "code",
   "execution_count": 78,
   "metadata": {},
   "outputs": [
    {
     "data": {
      "text/plain": [
       "0    0.796062\n",
       "1    0.203938\n",
       "Name: Exited, dtype: float64"
      ]
     },
     "execution_count": 78,
     "metadata": {},
     "output_type": "execute_result"
    }
   ],
   "source": [
    "#проверим баланс исходных данных\n",
    "frequency = df['Exited'].value_counts(normalize=True)\n",
    "frequency"
   ]
  },
  {
   "cell_type": "markdown",
   "metadata": {},
   "source": [
    "### Дерево решений"
   ]
  },
  {
   "cell_type": "code",
   "execution_count": 79,
   "metadata": {},
   "outputs": [
    {
     "name": "stdout",
     "output_type": "stream",
     "text": [
      "Глубина дерева = 7 F1_score: 0.5534804753820034 AUC-ROC 0.8280166825807154\n"
     ]
    }
   ],
   "source": [
    "max_depth = 0\n",
    "f1 = 0\n",
    "auc = 0\n",
    "for i in range(1, 21, 1):\n",
    "    model_tree = DecisionTreeClassifier(max_depth=i, random_state=r_s)\n",
    "    model_tree.fit(features, targets)\n",
    "    predicted = model_tree.predict(features_valid)\n",
    "    if f1 < f1_score(targets_valid, predicted):\n",
    "        f1 = f1_score(targets_valid, predicted)\n",
    "        auc = roc_auc_score(targets_valid, model_tree.predict_proba(features_valid)[:,1])\n",
    "        max_depth = i\n",
    "print('Глубина дерева =', max_depth, 'F1_score:', f1, 'AUC-ROC', auc)"
   ]
  },
  {
   "cell_type": "markdown",
   "metadata": {},
   "source": [
    "### Случайный лес"
   ]
  },
  {
   "cell_type": "code",
   "execution_count": 80,
   "metadata": {},
   "outputs": [
    {
     "name": "stdout",
     "output_type": "stream",
     "text": [
      "Количество деревьев 17 Глубина дерева = 13 F1_score: 0.5944055944055944 AUC-ROC 0.8363705877329856\n"
     ]
    }
   ],
   "source": [
    "max_depth = 0\n",
    "forest = 0\n",
    "f1 = 0\n",
    "auc = 0\n",
    "for i in range(1, 21, 1):\n",
    "    for n in range(1, 21, 1):\n",
    "        model_forest = RandomForestClassifier(n_estimators=i, max_depth=n, random_state=r_s)\n",
    "        model_forest.fit(features, targets)\n",
    "        predicted = model_forest.predict(features_valid)\n",
    "        if f1 < f1_score(targets_valid, predicted):\n",
    "            f1 = f1_score(targets_valid, predicted)\n",
    "            auc = roc_auc_score(targets_valid, model_forest.predict_proba(features_valid)[:,1])\n",
    "            forest = i \n",
    "            max_depth = n\n",
    "print('Количество деревьев', forest, 'Глубина дерева =', max_depth  , 'F1_score:', f1, 'AUC-ROC', auc)"
   ]
  },
  {
   "cell_type": "markdown",
   "metadata": {},
   "source": [
    "### Логистическая регрессия"
   ]
  },
  {
   "cell_type": "code",
   "execution_count": 81,
   "metadata": {},
   "outputs": [
    {
     "name": "stdout",
     "output_type": "stream",
     "text": [
      "F1_score: 0.3175965665236052 AUC-ROC 0.780939239386106\n"
     ]
    }
   ],
   "source": [
    "model_log = LogisticRegression(solver='liblinear', random_state=r_s) \n",
    "model_log.fit(features, targets)\n",
    "predicted = model_log.predict(features_valid)\n",
    "print('F1_score:', f1_score(targets_valid, predicted), 'AUC-ROC', roc_auc_score(targets_valid,\n",
    "                                                                                model_log.predict_proba(features_valid)[:,1]))"
   ]
  },
  {
   "cell_type": "markdown",
   "metadata": {},
   "source": [
    "### Вывод:\n",
    "- наши данные сильно расбалансированы, 79,6% респондентов остались клиентом банка, 20,4% - ушли из банка\n",
    "- по условиям задания, найдем модель с учетом дисбаланса\n",
    "- наилучшей моделью является \"Случайный лес\" с количеством деревьев 17 и глубиной 10\n",
    "- метрика F1 для этой модели выдает 0,5921, что немнгого превышает нашу цель в 0,59\n",
    "- AUC-ROC при этом равен 0,8566, что говорит о том что модель достаточно хорошо различает классы\n",
    "- наихудшая модель - логистическая регрессия, показатель F1 - всего 0,3176"
   ]
  },
  {
   "cell_type": "markdown",
   "metadata": {},
   "source": [
    "## Борьба с дисбалансом"
   ]
  },
  {
   "cell_type": "markdown",
   "metadata": {},
   "source": [
    "Сбалансируем наши данные, придав объектам редкого класса 1 больший вес"
   ]
  },
  {
   "cell_type": "markdown",
   "metadata": {},
   "source": [
    "### Дерево решений (balanced)"
   ]
  },
  {
   "cell_type": "code",
   "execution_count": 82,
   "metadata": {},
   "outputs": [
    {
     "name": "stdout",
     "output_type": "stream",
     "text": [
      "Глубина дерева = 5 F1_score: 0.5653631284916201 AUC-ROC 0.8374962155616106\n"
     ]
    }
   ],
   "source": [
    "max_depth = 0\n",
    "f1 = 0\n",
    "auc = 0\n",
    "for i in range(1, 21, 1):\n",
    "    model_tree_balanced = DecisionTreeClassifier(max_depth=i, random_state=r_s, class_weight='balanced')\n",
    "    model_tree_balanced.fit(features, targets)\n",
    "    predicted = model_tree_balanced.predict(features_valid)\n",
    "    if f1 < f1_score(targets_valid, predicted):\n",
    "        f1 = f1_score(targets_valid, predicted)\n",
    "        auc = roc_auc_score(targets_valid, model_tree_balanced.predict_proba(features_valid)[:,1])\n",
    "        max_depth = i\n",
    "print('Глубина дерева =', max_depth, 'F1_score:', f1, 'AUC-ROC', auc)"
   ]
  },
  {
   "cell_type": "markdown",
   "metadata": {},
   "source": [
    "### Случайный лес (balanced)"
   ]
  },
  {
   "cell_type": "code",
   "execution_count": 83,
   "metadata": {},
   "outputs": [
    {
     "name": "stdout",
     "output_type": "stream",
     "text": [
      "Количество деревьев 13 Глубина дерева = 8 F1_score: 0.6035353535353535 AUC-ROC 0.8467515933455987\n"
     ]
    }
   ],
   "source": [
    "max_depth = 0\n",
    "forest = 0\n",
    "f1 = 0\n",
    "auc = 0\n",
    "for i in range(1, 21, 1):\n",
    "    for n in range(1, 21, 1):\n",
    "        model_forest_balanced = RandomForestClassifier(n_estimators=i, max_depth=n, random_state=r_s, class_weight='balanced')\n",
    "        model_forest_balanced.fit(features, targets)\n",
    "        predicted = model_forest_balanced.predict(features_valid)\n",
    "        if f1 < f1_score(targets_valid, predicted):\n",
    "            f1 = f1_score(targets_valid, predicted)\n",
    "            auc = roc_auc_score(targets_valid, model_forest_balanced.predict_proba(features_valid)[:,1])\n",
    "            forest = i \n",
    "            max_depth = n\n",
    "print('Количество деревьев', forest, 'Глубина дерева =', max_depth  , 'F1_score:', f1, 'AUC-ROC', auc)"
   ]
  },
  {
   "cell_type": "markdown",
   "metadata": {},
   "source": [
    "### Логистическая регрессия (balanced)"
   ]
  },
  {
   "cell_type": "code",
   "execution_count": 84,
   "metadata": {},
   "outputs": [
    {
     "name": "stdout",
     "output_type": "stream",
     "text": [
      "F1_score: 0.5025432349949135 AUC-ROC 0.7817621121435836\n"
     ]
    }
   ],
   "source": [
    "model_log_balanced = LogisticRegression(solver='liblinear', random_state=r_s, class_weight='balanced') \n",
    "model_log_balanced.fit(features, targets)\n",
    "predicted = model_log_balanced.predict(features_valid)\n",
    "print('F1_score:', f1_score(targets_valid, predicted), 'AUC-ROC', roc_auc_score(\n",
    "    targets_valid, model_log_balanced.predict_proba(features_valid)[:,1]))"
   ]
  },
  {
   "cell_type": "markdown",
   "metadata": {},
   "source": [
    "Сбалансируем наши данные, увеличив выборку"
   ]
  },
  {
   "cell_type": "code",
   "execution_count": 85,
   "metadata": {},
   "outputs": [],
   "source": [
    "def upsample (features, target, repeat):\n",
    "    features_zero = features[target == 0]\n",
    "    features_ones = features[target == 1]\n",
    "    target_zero = target[target == 0]\n",
    "    target_ones = target[target == 1]\n",
    "    features_upsampled = pd.concat([features_zero] + [features_ones] * repeat)\n",
    "    target_upsampled = pd.concat([target_zero] + [target_ones] * repeat)\n",
    "    features_upsampled, target_upsampled = shuffle (features_upsampled, target_upsampled, random_state = r_s)\n",
    "    return features_upsampled, target_upsampled"
   ]
  },
  {
   "cell_type": "code",
   "execution_count": 86,
   "metadata": {},
   "outputs": [],
   "source": [
    "# количество 0 больше количества 1 примерно в 4 раза, увеличим нашу выборку на данное значение\n",
    "features_upsampled, target_upsampled = upsample (features, targets, 4)"
   ]
  },
  {
   "cell_type": "markdown",
   "metadata": {},
   "source": [
    "### Дерево решений (upsampling)"
   ]
  },
  {
   "cell_type": "code",
   "execution_count": 87,
   "metadata": {},
   "outputs": [
    {
     "name": "stdout",
     "output_type": "stream",
     "text": [
      "Глубина дерева = 5 F1_score: 0.5653631284916201 AUC-ROC 0.8374962155616106\n"
     ]
    }
   ],
   "source": [
    "max_depth = 0\n",
    "f1 = 0\n",
    "auc = 0\n",
    "for i in range(1, 21, 1):\n",
    "    model_tree_upsampling = DecisionTreeClassifier(max_depth=i, random_state=r_s)\n",
    "    model_tree_upsampling.fit(features_upsampled, target_upsampled)\n",
    "    predicted = model_tree_upsampling.predict(features_valid)\n",
    "    if f1 < f1_score(targets_valid, predicted):\n",
    "        f1 = f1_score(targets_valid, predicted)\n",
    "        auc = roc_auc_score(targets_valid, model_tree_upsampling.predict_proba(features_valid)[:,1])\n",
    "        max_depth = i\n",
    "print('Глубина дерева =', max_depth, 'F1_score:', f1, 'AUC-ROC', auc)"
   ]
  },
  {
   "cell_type": "markdown",
   "metadata": {},
   "source": [
    "### Случайный лес (upsampling)"
   ]
  },
  {
   "cell_type": "code",
   "execution_count": 88,
   "metadata": {},
   "outputs": [
    {
     "name": "stdout",
     "output_type": "stream",
     "text": [
      "Количество деревьев 19 Глубина дерева = 19 F1_score: 0.6183431952662722 AUC-ROC 0.8380289480425719\n"
     ]
    }
   ],
   "source": [
    "max_depth = 0\n",
    "forest = 0\n",
    "f1 = 0\n",
    "auc = 0\n",
    "for i in range(1, 21, 1):\n",
    "    for n in range(1, 21, 1):\n",
    "        model_forest_upsampling = RandomForestClassifier(n_estimators=i, max_depth=n, random_state=r_s)\n",
    "        model_forest_upsampling.fit(features_upsampled, target_upsampled)\n",
    "        predicted = model_forest_upsampling.predict(features_valid)\n",
    "        if f1 < f1_score(targets_valid, predicted):\n",
    "            f1 = f1_score(targets_valid, predicted)\n",
    "            auc = roc_auc_score(targets_valid, model_forest_upsampling.predict_proba(features_valid)[:,1])\n",
    "            forest = i \n",
    "            max_depth = n\n",
    "print('Количество деревьев', forest, 'Глубина дерева =', max_depth  , 'F1_score:', f1, 'AUC-ROC', auc)"
   ]
  },
  {
   "cell_type": "markdown",
   "metadata": {},
   "source": [
    "### Логистическая регрессия (upsampling)"
   ]
  },
  {
   "cell_type": "code",
   "execution_count": 89,
   "metadata": {},
   "outputs": [
    {
     "name": "stdout",
     "output_type": "stream",
     "text": [
      "F1_score: 0.49653808110781406 AUC-ROC 0.7817349418166857\n"
     ]
    }
   ],
   "source": [
    "model_log_upsampling = LogisticRegression(solver='liblinear', random_state=r_s) \n",
    "model_log_upsampling.fit(features_upsampled, target_upsampled)\n",
    "predicted = model_log_upsampling.predict(features_valid)\n",
    "print('F1_score:', f1_score(targets_valid, predicted), 'AUC-ROC', roc_auc_score(\n",
    "    targets_valid, model_log_upsampling.predict_proba(features_valid)[:,1]))"
   ]
  },
  {
   "cell_type": "markdown",
   "metadata": {},
   "source": [
    "Сбалансируем наши данные, уменьшив выборку"
   ]
  },
  {
   "cell_type": "code",
   "execution_count": 90,
   "metadata": {},
   "outputs": [],
   "source": [
    "def downsample (features, target, fraction):\n",
    "    features_zero = features[target == 0]\n",
    "    features_ones = features[target == 1]\n",
    "    target_zero = target[target == 0]\n",
    "    target_ones = target[target == 1]\n",
    "    features_downsampled = pd.concat([features_zero.sample(frac=fraction, random_state=r_s)] + [features_ones])\n",
    "    target_downsampled = pd.concat([target_zero.sample(frac=fraction, random_state=r_s)] + [target_ones])\n",
    "    features_downsampled, target_downsampled = shuffle (features_downsampled, target_downsampled, random_state = r_s)\n",
    "    return features_downsampled, target_downsampled"
   ]
  },
  {
   "cell_type": "code",
   "execution_count": 91,
   "metadata": {},
   "outputs": [],
   "source": [
    "# количество 1 меньше количества 0 примерно в 0,26 раз, уменьшим нашу выборку на данное значение\n",
    "features_downsampled, target_downsampled = downsample (features, targets, 0.26)"
   ]
  },
  {
   "cell_type": "markdown",
   "metadata": {},
   "source": [
    "### Дерево решений (downsampling)"
   ]
  },
  {
   "cell_type": "code",
   "execution_count": 92,
   "metadata": {},
   "outputs": [
    {
     "name": "stdout",
     "output_type": "stream",
     "text": [
      "Глубина дерева = 7 F1_score: 0.5581896551724137 AUC-ROC 0.8262137373172795\n"
     ]
    }
   ],
   "source": [
    "max_depth = 0\n",
    "f1 = 0\n",
    "auc = 0\n",
    "for i in range(1, 21, 1):\n",
    "    model_tree_downsampling = DecisionTreeClassifier(max_depth=i, random_state=r_s)\n",
    "    model_tree_downsampling.fit(features_downsampled, target_downsampled)\n",
    "    predicted = model_tree_downsampling.predict(features_valid)\n",
    "    if f1 < f1_score(targets_valid, predicted):\n",
    "        f1 = f1_score(targets_valid, predicted)\n",
    "        auc = roc_auc_score(targets_valid, model_tree_downsampling.predict_proba(features_valid)[:,1])\n",
    "        max_depth = i\n",
    "print('Глубина дерева =', max_depth, 'F1_score:', f1, 'AUC-ROC', auc)"
   ]
  },
  {
   "cell_type": "markdown",
   "metadata": {},
   "source": [
    "### Случайнгый лес (downsampling)"
   ]
  },
  {
   "cell_type": "code",
   "execution_count": 93,
   "metadata": {},
   "outputs": [
    {
     "name": "stdout",
     "output_type": "stream",
     "text": [
      "Количество деревьев 16 Глубина дерева = 20 F1_score: 0.5772972972972973 AUC-ROC 0.849302692967543\n"
     ]
    }
   ],
   "source": [
    "max_depth = 0\n",
    "forest = 0\n",
    "f1 = 0\n",
    "auc = 0\n",
    "for i in range(1, 21, 1):\n",
    "    for n in range(1, 21, 1):\n",
    "        model_forest_downsampling = RandomForestClassifier(n_estimators=i, max_depth=n, random_state=r_s)\n",
    "        model_forest_downsampling.fit(features_downsampled, target_downsampled)\n",
    "        predicted = model_forest_downsampling.predict(features_valid)\n",
    "        if f1 < f1_score(targets_valid, predicted):\n",
    "            f1 = f1_score(targets_valid, predicted)\n",
    "            auc = roc_auc_score(targets_valid, model_forest_downsampling.predict_proba(features_valid)[:,1])\n",
    "            forest = i \n",
    "            max_depth = n\n",
    "print('Количество деревьев', forest, 'Глубина дерева =', max_depth  , 'F1_score:', f1, 'AUC-ROC', auc)"
   ]
  },
  {
   "cell_type": "markdown",
   "metadata": {},
   "source": [
    "### Логистическая регрессия (downsampling)"
   ]
  },
  {
   "cell_type": "code",
   "execution_count": 94,
   "metadata": {},
   "outputs": [
    {
     "name": "stdout",
     "output_type": "stream",
     "text": [
      "F1_score: 0.492462311557789 AUC-ROC 0.7809159505344792\n"
     ]
    }
   ],
   "source": [
    "model_log_downsampling = LogisticRegression(solver='liblinear', random_state=r_s) \n",
    "model_log_downsampling.fit(features_downsampled, target_downsampled)\n",
    "predicted = model_log_downsampling.predict(features_valid)\n",
    "print('F1_score:', f1_score(targets_valid, predicted), 'AUC-ROC', roc_auc_score(\n",
    "    targets_valid, model_log_downsampling.predict_proba(features_valid)[:,1]))"
   ]
  },
  {
   "cell_type": "markdown",
   "metadata": {},
   "source": [
    "### Вывод:\n",
    "- после устранения дисбаланса качество модели выросло в случаях балансировки через весы и увеличение выборки\n",
    "- при уменьшении выборки качество моделей да же в ряде случаев ухудшилось\n",
    "- особенно это заметно на Логистической регресии - увеличение показателя F1 c 0.3176 до 0.503\n",
    "- наилучшей моделю так же осталась \"Случайный лес\" во всех случаях\n",
    "- наиболее качественной моделью является \"Случайный лес\" при методе балансировки \"Уведличение выборки\" с количеством деревьев 19 и глубиной 19\n",
    "- показатель F1 нашей лучшей модели 0.6183, что выше порогового значения 0,59\n",
    "- покзатель AUC-ROC несколько хуже чем у не сбалансированной модели, однако все еще остается достаточно высоким\n",
    "<code>Модель                     |Метрика | НЕсбалансированные данные  |Balanced              |Upsampling          |Downsampling\n",
    ":------------------------- | :----: | :------------------------: | :------------------: | :----------------: | ---------------:\n",
    "Дерево решений             |F1      |0.5534804753820034          |0.5653631284916201    |0.5653631284916201  |0.5581896551724137\n",
    "Дерево решений             |AUC-ROC |0.8280166825807154          |0.8374962155616106    |0.8374962155616106  |0.8262137373172795\n",
    "Случайный лес              |F1      |0.5944055944055944          |0.6035353535353535    |0.6183431952662722  |0.5772972972972973\n",
    "Случайный лес              |AUC-ROC |0.8363705877329856          |0.8467515933455987    |0.8380289480425719  |0.8493026929675430\n",
    "Логистическая регрессия    |F1      |0.3175965665236052          |0.5025432349949135    |0.49653808110781406  |0.492462311557789\n",
    "Логистическая регрессия    |AUC-ROC |0.7809392393861060          |0.7817621121435836    |0.7817349418166857  |0.7809159505344792\n",
    "    \n",
    "</code>\n"
   ]
  },
  {
   "cell_type": "markdown",
   "metadata": {},
   "source": [
    "## Тестирование модели"
   ]
  },
  {
   "cell_type": "code",
   "execution_count": 95,
   "metadata": {},
   "outputs": [
    {
     "name": "stdout",
     "output_type": "stream",
     "text": [
      "F1_score: 0.6049204052098409 AUC-ROC 0.8399330335366135\n"
     ]
    }
   ],
   "source": [
    "# Наша лучшая модель \"Случайный лес\" отбалансированная методом upsampled, с количеством деревьев и глубиной = 19\n",
    "model_forest_upsampling_test = RandomForestClassifier(n_estimators=19, max_depth=19, random_state=r_s)\n",
    "model_forest_upsampling_test.fit(features_upsampled, target_upsampled)\n",
    "predicted = model_forest_upsampling_test.predict(features_test)\n",
    "print('F1_score:', f1_score(targets_test, predicted), 'AUC-ROC', roc_auc_score(\n",
    "    targets_test, model_forest_upsampling_test.predict_proba(features_test)[:,1]))"
   ]
  },
  {
   "cell_type": "code",
   "execution_count": 96,
   "metadata": {},
   "outputs": [
    {
     "data": {
      "image/png": "[encoded data removed]",
      "text/plain": [
       "<Figure size 432x288 with 1 Axes>"
      ]
     },
     "metadata": {
      "needs_background": "light"
     },
     "output_type": "display_data"
    }
   ],
   "source": [
    "probs = model_forest_upsampling_test.predict_proba(features_test)\n",
    "preds = probs[:,1]\n",
    "fpr, tpr, threshold = roc_curve(targets_test, preds)\n",
    "roc_auc = roc_auc_score(targets_test, preds)\n",
    "plt.title('ROC-кривая')\n",
    "plt.plot(fpr, tpr, 'b', label = 'AUC = %0.4f' % roc_auc)\n",
    "plt.legend(loc = 'lower right')\n",
    "plt.plot([0, 1], [0, 1],'r--')\n",
    "plt.xlim([0, 1])\n",
    "plt.ylim([0, 1])\n",
    "plt.ylabel('True Positive Rate')\n",
    "plt.xlabel('False Positive Rate')\n",
    "plt.show()"
   ]
  },
  {
   "cell_type": "markdown",
   "metadata": {},
   "source": [
    "### Вывод:\n",
    "- Метрика F1 тестовой модели ниже, чем метрика валидационной - 0,6049 против 0,6183\n",
    "- однако значение больше порогового 0.59, \n",
    "- AUC-ROC тестовой модели выше, чем у валидационной\n",
    "- и в том и другом случае показатели данной метрики высокие, что говориит о том, что модель хорошо различает классы\n",
    "- таким образом можно сделать вывод о адекватности и работоспособности модели в рамках поставленной задачи"
   ]
  }
 ],
 "metadata": {
  "ExecuteTimeLog": [
   {
    "duration": 903,
    "start_time": "2022-01-31T06:25:42.402Z"
   },
   {
    "duration": 37,
    "start_time": "2022-01-31T06:25:44.786Z"
   },
   {
    "duration": 35,
    "start_time": "2022-01-31T06:26:05.234Z"
   },
   {
    "duration": 56,
    "start_time": "2022-01-31T06:26:34.586Z"
   },
   {
    "duration": 14,
    "start_time": "2022-01-31T06:26:51.834Z"
   },
   {
    "duration": 714,
    "start_time": "2022-01-31T06:31:03.394Z"
   },
   {
    "duration": 6,
    "start_time": "2022-01-31T06:31:15.114Z"
   },
   {
    "duration": 473,
    "start_time": "2022-01-31T06:31:22.474Z"
   },
   {
    "duration": 3,
    "start_time": "2022-01-31T06:31:33.146Z"
   },
   {
    "duration": 48,
    "start_time": "2022-01-31T06:31:33.155Z"
   },
   {
    "duration": 11,
    "start_time": "2022-01-31T06:31:33.206Z"
   },
   {
    "duration": 40,
    "start_time": "2022-01-31T06:31:33.220Z"
   },
   {
    "duration": 7,
    "start_time": "2022-01-31T06:33:34.034Z"
   },
   {
    "duration": 6,
    "start_time": "2022-01-31T06:33:53.114Z"
   },
   {
    "duration": 7,
    "start_time": "2022-01-31T06:34:05.634Z"
   },
   {
    "duration": 6,
    "start_time": "2022-01-31T06:37:08.915Z"
   },
   {
    "duration": 505,
    "start_time": "2022-01-31T06:37:17.234Z"
   },
   {
    "duration": 424,
    "start_time": "2022-01-31T06:37:27.074Z"
   },
   {
    "duration": 470,
    "start_time": "2022-01-31T06:37:34.475Z"
   },
   {
    "duration": 11,
    "start_time": "2022-01-31T06:38:16.475Z"
   },
   {
    "duration": 383,
    "start_time": "2022-01-31T06:45:25.915Z"
   },
   {
    "duration": 4,
    "start_time": "2022-01-31T06:45:31.987Z"
   },
   {
    "duration": 50,
    "start_time": "2022-01-31T06:45:32.002Z"
   },
   {
    "duration": 11,
    "start_time": "2022-01-31T06:45:32.055Z"
   },
   {
    "duration": 6,
    "start_time": "2022-01-31T06:45:32.070Z"
   },
   {
    "duration": 7,
    "start_time": "2022-01-31T06:45:32.078Z"
   },
   {
    "duration": 21,
    "start_time": "2022-01-31T06:45:32.087Z"
   },
   {
    "duration": 8,
    "start_time": "2022-01-31T06:46:47.515Z"
   },
   {
    "duration": 9,
    "start_time": "2022-01-31T06:46:50.515Z"
   },
   {
    "duration": 6,
    "start_time": "2022-01-31T06:47:58.763Z"
   },
   {
    "duration": 119,
    "start_time": "2022-01-31T06:53:06.597Z"
   },
   {
    "duration": 6,
    "start_time": "2022-01-31T06:53:35.074Z"
   },
   {
    "duration": 9327,
    "start_time": "2022-01-31T06:53:39.427Z"
   },
   {
    "duration": 3,
    "start_time": "2022-01-31T06:53:54.987Z"
   },
   {
    "duration": 53,
    "start_time": "2022-01-31T06:53:54.997Z"
   },
   {
    "duration": 14,
    "start_time": "2022-01-31T06:53:55.053Z"
   },
   {
    "duration": 5,
    "start_time": "2022-01-31T06:53:55.070Z"
   },
   {
    "duration": 10,
    "start_time": "2022-01-31T06:53:55.077Z"
   },
   {
    "duration": 12,
    "start_time": "2022-01-31T06:53:55.089Z"
   },
   {
    "duration": 7,
    "start_time": "2022-01-31T06:53:55.104Z"
   },
   {
    "duration": 56,
    "start_time": "2022-01-31T06:53:55.114Z"
   },
   {
    "duration": 4,
    "start_time": "2022-01-31T06:58:58.884Z"
   },
   {
    "duration": 53,
    "start_time": "2022-01-31T06:58:58.890Z"
   },
   {
    "duration": 10,
    "start_time": "2022-01-31T06:58:58.946Z"
   },
   {
    "duration": 17,
    "start_time": "2022-01-31T06:58:58.959Z"
   },
   {
    "duration": 20,
    "start_time": "2022-01-31T06:58:58.978Z"
   },
   {
    "duration": 16,
    "start_time": "2022-01-31T06:58:59.001Z"
   },
   {
    "duration": 367,
    "start_time": "2022-01-31T06:58:59.019Z"
   },
   {
    "duration": 3284,
    "start_time": "2022-01-31T06:58:56.105Z"
   },
   {
    "duration": 363,
    "start_time": "2022-01-31T06:59:20.195Z"
   },
   {
    "duration": 4,
    "start_time": "2022-01-31T06:59:25.546Z"
   },
   {
    "duration": 48,
    "start_time": "2022-01-31T06:59:25.556Z"
   },
   {
    "duration": 11,
    "start_time": "2022-01-31T06:59:25.607Z"
   },
   {
    "duration": 6,
    "start_time": "2022-01-31T06:59:25.621Z"
   },
   {
    "duration": 8,
    "start_time": "2022-01-31T06:59:25.629Z"
   },
   {
    "duration": 27,
    "start_time": "2022-01-31T06:59:25.639Z"
   },
   {
    "duration": 362,
    "start_time": "2022-01-31T06:59:25.669Z"
   },
   {
    "duration": 3295,
    "start_time": "2022-01-31T06:59:22.739Z"
   },
   {
    "duration": 4,
    "start_time": "2022-01-31T06:59:36.746Z"
   },
   {
    "duration": 49,
    "start_time": "2022-01-31T06:59:36.756Z"
   },
   {
    "duration": 13,
    "start_time": "2022-01-31T06:59:36.808Z"
   },
   {
    "duration": 6,
    "start_time": "2022-01-31T06:59:36.825Z"
   },
   {
    "duration": 33,
    "start_time": "2022-01-31T06:59:36.834Z"
   },
   {
    "duration": 11,
    "start_time": "2022-01-31T06:59:36.870Z"
   },
   {
    "duration": 357,
    "start_time": "2022-01-31T06:59:36.883Z"
   },
   {
    "duration": 3297,
    "start_time": "2022-01-31T06:59:33.946Z"
   },
   {
    "duration": 371,
    "start_time": "2022-01-31T07:00:05.075Z"
   },
   {
    "duration": 4,
    "start_time": "2022-01-31T07:00:18.474Z"
   },
   {
    "duration": 51,
    "start_time": "2022-01-31T07:00:18.480Z"
   },
   {
    "duration": 11,
    "start_time": "2022-01-31T07:00:18.533Z"
   },
   {
    "duration": 5,
    "start_time": "2022-01-31T07:00:18.547Z"
   },
   {
    "duration": 11,
    "start_time": "2022-01-31T07:00:18.554Z"
   },
   {
    "duration": 10,
    "start_time": "2022-01-31T07:00:25.283Z"
   },
   {
    "duration": 389,
    "start_time": "2022-01-31T07:00:33.834Z"
   },
   {
    "duration": 3,
    "start_time": "2022-01-31T07:00:47.627Z"
   },
   {
    "duration": 49,
    "start_time": "2022-01-31T07:00:48.355Z"
   },
   {
    "duration": 11,
    "start_time": "2022-01-31T07:00:50.194Z"
   },
   {
    "duration": 5,
    "start_time": "2022-01-31T07:00:53.075Z"
   },
   {
    "duration": 8,
    "start_time": "2022-01-31T07:00:56.546Z"
   },
   {
    "duration": 10,
    "start_time": "2022-01-31T07:00:58.834Z"
   },
   {
    "duration": 6,
    "start_time": "2022-01-31T07:01:16.754Z"
   },
   {
    "duration": 20,
    "start_time": "2022-01-31T07:01:21.674Z"
   },
   {
    "duration": 11,
    "start_time": "2022-01-31T07:01:49.427Z"
   },
   {
    "duration": 47,
    "start_time": "2022-01-31T07:01:53.314Z"
   },
   {
    "duration": 6,
    "start_time": "2022-01-31T07:01:56.914Z"
   },
   {
    "duration": 9,
    "start_time": "2022-01-31T07:01:59.835Z"
   },
   {
    "duration": 6,
    "start_time": "2022-01-31T07:02:02.314Z"
   },
   {
    "duration": 14,
    "start_time": "2022-01-31T07:02:07.674Z"
   },
   {
    "duration": 4,
    "start_time": "2022-01-31T07:03:09.842Z"
   },
   {
    "duration": 50,
    "start_time": "2022-01-31T07:03:09.849Z"
   },
   {
    "duration": 11,
    "start_time": "2022-01-31T07:03:09.902Z"
   },
   {
    "duration": 5,
    "start_time": "2022-01-31T07:03:09.916Z"
   },
   {
    "duration": 9,
    "start_time": "2022-01-31T07:03:09.923Z"
   },
   {
    "duration": 29,
    "start_time": "2022-01-31T07:03:09.935Z"
   },
   {
    "duration": 6,
    "start_time": "2022-01-31T07:03:09.966Z"
   },
   {
    "duration": 28,
    "start_time": "2022-01-31T07:03:09.975Z"
   },
   {
    "duration": 13,
    "start_time": "2022-01-31T07:04:53.514Z"
   },
   {
    "duration": 3195,
    "start_time": "2022-01-31T07:05:06.798Z"
   },
   {
    "duration": 4,
    "start_time": "2022-01-31T07:05:11.997Z"
   },
   {
    "duration": 50,
    "start_time": "2022-01-31T07:05:12.004Z"
   },
   {
    "duration": 13,
    "start_time": "2022-01-31T07:05:12.059Z"
   },
   {
    "duration": 6,
    "start_time": "2022-01-31T07:05:12.075Z"
   },
   {
    "duration": 11,
    "start_time": "2022-01-31T07:05:12.084Z"
   },
   {
    "duration": 11,
    "start_time": "2022-01-31T07:05:12.097Z"
   },
   {
    "duration": 53,
    "start_time": "2022-01-31T07:05:12.110Z"
   },
   {
    "duration": 29,
    "start_time": "2022-01-31T07:05:12.166Z"
   },
   {
    "duration": 16,
    "start_time": "2022-01-31T07:14:32.714Z"
   },
   {
    "duration": 15,
    "start_time": "2022-01-31T07:14:47.475Z"
   },
   {
    "duration": 70,
    "start_time": "2022-01-31T07:15:52.483Z"
   },
   {
    "duration": 3,
    "start_time": "2022-01-31T07:18:10.243Z"
   },
   {
    "duration": 61,
    "start_time": "2022-01-31T07:18:10.249Z"
   },
   {
    "duration": 11,
    "start_time": "2022-01-31T07:18:10.314Z"
   },
   {
    "duration": 8,
    "start_time": "2022-01-31T07:18:10.328Z"
   },
   {
    "duration": 22,
    "start_time": "2022-01-31T07:18:10.338Z"
   },
   {
    "duration": 8,
    "start_time": "2022-01-31T07:18:10.363Z"
   },
   {
    "duration": 9,
    "start_time": "2022-01-31T07:18:10.374Z"
   },
   {
    "duration": 74,
    "start_time": "2022-01-31T07:18:10.386Z"
   },
   {
    "duration": 14,
    "start_time": "2022-01-31T07:19:04.235Z"
   },
   {
    "duration": 3193,
    "start_time": "2022-01-31T07:19:15.426Z"
   },
   {
    "duration": 3193,
    "start_time": "2022-01-31T07:19:15.428Z"
   },
   {
    "duration": 3193,
    "start_time": "2022-01-31T07:19:15.429Z"
   },
   {
    "duration": 3193,
    "start_time": "2022-01-31T07:19:15.431Z"
   },
   {
    "duration": 3193,
    "start_time": "2022-01-31T07:19:15.432Z"
   },
   {
    "duration": 3194,
    "start_time": "2022-01-31T07:19:15.433Z"
   },
   {
    "duration": 3188,
    "start_time": "2022-01-31T07:19:15.440Z"
   },
   {
    "duration": 3188,
    "start_time": "2022-01-31T07:19:15.442Z"
   },
   {
    "duration": 3,
    "start_time": "2022-01-31T07:19:28.717Z"
   },
   {
    "duration": 51,
    "start_time": "2022-01-31T07:19:28.724Z"
   },
   {
    "duration": 12,
    "start_time": "2022-01-31T07:19:28.778Z"
   },
   {
    "duration": 5,
    "start_time": "2022-01-31T07:19:28.793Z"
   },
   {
    "duration": 11,
    "start_time": "2022-01-31T07:19:28.801Z"
   },
   {
    "duration": 50,
    "start_time": "2022-01-31T07:19:28.814Z"
   },
   {
    "duration": 6,
    "start_time": "2022-01-31T07:19:28.867Z"
   },
   {
    "duration": 37,
    "start_time": "2022-01-31T07:19:28.876Z"
   },
   {
    "duration": 9648,
    "start_time": "2022-01-31T07:21:51.166Z"
   },
   {
    "duration": 3,
    "start_time": "2022-01-31T07:22:10.676Z"
   },
   {
    "duration": 51,
    "start_time": "2022-01-31T07:22:10.682Z"
   },
   {
    "duration": 11,
    "start_time": "2022-01-31T07:22:10.735Z"
   },
   {
    "duration": 5,
    "start_time": "2022-01-31T07:22:10.749Z"
   },
   {
    "duration": 8,
    "start_time": "2022-01-31T07:22:10.760Z"
   },
   {
    "duration": 8,
    "start_time": "2022-01-31T07:22:10.771Z"
   },
   {
    "duration": 6,
    "start_time": "2022-01-31T07:22:10.782Z"
   },
   {
    "duration": 13,
    "start_time": "2022-01-31T07:22:10.790Z"
   },
   {
    "duration": 67,
    "start_time": "2022-01-31T07:22:10.806Z"
   },
   {
    "duration": 15,
    "start_time": "2022-01-31T07:22:41.226Z"
   },
   {
    "duration": 16,
    "start_time": "2022-01-31T07:22:49.954Z"
   },
   {
    "duration": 9,
    "start_time": "2022-01-31T07:22:53.195Z"
   },
   {
    "duration": 407,
    "start_time": "2022-01-31T09:28:18.530Z"
   },
   {
    "duration": 354,
    "start_time": "2022-01-31T09:28:18.585Z"
   },
   {
    "duration": 353,
    "start_time": "2022-01-31T09:28:18.588Z"
   },
   {
    "duration": 355,
    "start_time": "2022-01-31T09:28:18.589Z"
   },
   {
    "duration": 355,
    "start_time": "2022-01-31T09:28:18.591Z"
   },
   {
    "duration": 355,
    "start_time": "2022-01-31T09:28:18.593Z"
   },
   {
    "duration": 356,
    "start_time": "2022-01-31T09:28:18.594Z"
   },
   {
    "duration": 355,
    "start_time": "2022-01-31T09:28:18.597Z"
   },
   {
    "duration": 355,
    "start_time": "2022-01-31T09:28:18.599Z"
   },
   {
    "duration": 4,
    "start_time": "2022-01-31T09:32:50.356Z"
   },
   {
    "duration": 54,
    "start_time": "2022-01-31T09:32:50.362Z"
   },
   {
    "duration": 12,
    "start_time": "2022-01-31T09:32:50.419Z"
   },
   {
    "duration": 27,
    "start_time": "2022-01-31T09:32:50.434Z"
   },
   {
    "duration": 9,
    "start_time": "2022-01-31T09:32:50.463Z"
   },
   {
    "duration": 9,
    "start_time": "2022-01-31T09:32:50.474Z"
   },
   {
    "duration": 7,
    "start_time": "2022-01-31T09:32:50.485Z"
   },
   {
    "duration": 67,
    "start_time": "2022-01-31T09:32:50.495Z"
   },
   {
    "duration": 42485,
    "start_time": "2022-01-31T09:32:50.565Z"
   },
   {
    "duration": 130,
    "start_time": "2022-01-31T09:41:06.970Z"
   },
   {
    "duration": 406,
    "start_time": "2022-01-31T09:41:19.226Z"
   },
   {
    "duration": 371,
    "start_time": "2022-01-31T09:42:11.787Z"
   },
   {
    "duration": 501,
    "start_time": "2022-01-31T09:42:17.298Z"
   },
   {
    "duration": 52,
    "start_time": "2022-01-31T09:42:17.801Z"
   },
   {
    "duration": 11,
    "start_time": "2022-01-31T09:42:17.860Z"
   },
   {
    "duration": 5,
    "start_time": "2022-01-31T09:42:17.874Z"
   },
   {
    "duration": 8,
    "start_time": "2022-01-31T09:42:17.882Z"
   },
   {
    "duration": 8,
    "start_time": "2022-01-31T09:42:17.892Z"
   },
   {
    "duration": 6,
    "start_time": "2022-01-31T09:42:17.903Z"
   },
   {
    "duration": 59,
    "start_time": "2022-01-31T09:42:17.912Z"
   },
   {
    "duration": 2,
    "start_time": "2022-01-31T09:42:17.974Z"
   },
   {
    "duration": 21,
    "start_time": "2022-01-31T09:42:17.979Z"
   },
   {
    "duration": 19,
    "start_time": "2022-01-31T09:57:38.046Z"
   },
   {
    "duration": 10,
    "start_time": "2022-01-31T09:58:23.883Z"
   },
   {
    "duration": 9,
    "start_time": "2022-01-31T09:59:33.587Z"
   },
   {
    "duration": 4,
    "start_time": "2022-01-31T10:14:29.472Z"
   },
   {
    "duration": 420,
    "start_time": "2022-01-31T10:14:33.640Z"
   },
   {
    "duration": 377,
    "start_time": "2022-01-31T10:15:09.962Z"
   },
   {
    "duration": 354,
    "start_time": "2022-01-31T10:15:52.387Z"
   },
   {
    "duration": 4,
    "start_time": "2022-01-31T10:16:04.907Z"
   },
   {
    "duration": 57,
    "start_time": "2022-01-31T10:16:04.915Z"
   },
   {
    "duration": 14,
    "start_time": "2022-01-31T10:16:04.976Z"
   },
   {
    "duration": 6,
    "start_time": "2022-01-31T10:16:04.994Z"
   },
   {
    "duration": 11,
    "start_time": "2022-01-31T10:16:05.003Z"
   },
   {
    "duration": 10,
    "start_time": "2022-01-31T10:16:05.060Z"
   },
   {
    "duration": 6,
    "start_time": "2022-01-31T10:16:05.072Z"
   },
   {
    "duration": 14,
    "start_time": "2022-01-31T10:16:05.081Z"
   },
   {
    "duration": 3,
    "start_time": "2022-01-31T10:16:05.097Z"
   },
   {
    "duration": 379,
    "start_time": "2022-01-31T10:16:05.102Z"
   },
   {
    "duration": 200,
    "start_time": "2022-01-31T10:16:05.283Z"
   },
   {
    "duration": 182,
    "start_time": "2022-01-31T10:16:05.302Z"
   },
   {
    "duration": 16,
    "start_time": "2022-01-31T10:16:43.946Z"
   },
   {
    "duration": 14,
    "start_time": "2022-01-31T10:21:20.347Z"
   },
   {
    "duration": 32,
    "start_time": "2022-01-31T10:23:11.388Z"
   },
   {
    "duration": 43,
    "start_time": "2022-01-31T10:23:18.516Z"
   },
   {
    "duration": 3,
    "start_time": "2022-01-31T10:25:43.867Z"
   },
   {
    "duration": 54,
    "start_time": "2022-01-31T10:25:43.873Z"
   },
   {
    "duration": 11,
    "start_time": "2022-01-31T10:25:43.930Z"
   },
   {
    "duration": 18,
    "start_time": "2022-01-31T10:25:43.943Z"
   },
   {
    "duration": 11,
    "start_time": "2022-01-31T10:25:43.964Z"
   },
   {
    "duration": 8,
    "start_time": "2022-01-31T10:25:43.977Z"
   },
   {
    "duration": 16,
    "start_time": "2022-01-31T10:25:43.987Z"
   },
   {
    "duration": 17,
    "start_time": "2022-01-31T10:25:44.005Z"
   },
   {
    "duration": 3,
    "start_time": "2022-01-31T10:25:44.026Z"
   },
   {
    "duration": 22,
    "start_time": "2022-01-31T10:25:44.060Z"
   },
   {
    "duration": 21,
    "start_time": "2022-01-31T10:25:44.085Z"
   },
   {
    "duration": 10,
    "start_time": "2022-01-31T10:25:44.108Z"
   },
   {
    "duration": 437,
    "start_time": "2022-01-31T10:36:19.346Z"
   },
   {
    "duration": 5,
    "start_time": "2022-01-31T10:36:24.787Z"
   },
   {
    "duration": 51,
    "start_time": "2022-01-31T10:36:26.546Z"
   },
   {
    "duration": 456,
    "start_time": "2022-01-31T10:36:31.510Z"
   },
   {
    "duration": 404,
    "start_time": "2022-01-31T10:37:03.186Z"
   },
   {
    "duration": 461,
    "start_time": "2022-01-31T10:37:38.787Z"
   },
   {
    "duration": 4,
    "start_time": "2022-01-31T10:38:25.827Z"
   },
   {
    "duration": 59,
    "start_time": "2022-01-31T10:38:25.834Z"
   },
   {
    "duration": 12,
    "start_time": "2022-01-31T10:38:25.898Z"
   },
   {
    "duration": 9,
    "start_time": "2022-01-31T10:38:25.913Z"
   },
   {
    "duration": 38,
    "start_time": "2022-01-31T10:38:25.924Z"
   },
   {
    "duration": 9,
    "start_time": "2022-01-31T10:38:25.964Z"
   },
   {
    "duration": 6,
    "start_time": "2022-01-31T10:38:25.975Z"
   },
   {
    "duration": 15,
    "start_time": "2022-01-31T10:38:25.984Z"
   },
   {
    "duration": 3,
    "start_time": "2022-01-31T10:38:26.002Z"
   },
   {
    "duration": 63,
    "start_time": "2022-01-31T10:38:26.007Z"
   },
   {
    "duration": 21,
    "start_time": "2022-01-31T10:38:26.072Z"
   },
   {
    "duration": 8,
    "start_time": "2022-01-31T10:38:26.095Z"
   },
   {
    "duration": 462,
    "start_time": "2022-01-31T10:38:26.106Z"
   },
   {
    "duration": 419,
    "start_time": "2022-01-31T10:38:55.106Z"
   },
   {
    "duration": 384,
    "start_time": "2022-01-31T10:41:00.515Z"
   },
   {
    "duration": 4,
    "start_time": "2022-01-31T10:41:04.946Z"
   },
   {
    "duration": 51,
    "start_time": "2022-01-31T10:41:06.866Z"
   },
   {
    "duration": 465,
    "start_time": "2022-01-31T10:41:12.434Z"
   },
   {
    "duration": 146,
    "start_time": "2022-01-31T10:41:31.467Z"
   },
   {
    "duration": 469,
    "start_time": "2022-01-31T10:42:05.402Z"
   },
   {
    "duration": 20,
    "start_time": "2022-01-31T10:47:45.364Z"
   },
   {
    "duration": 132,
    "start_time": "2022-01-31T10:48:29.652Z"
   },
   {
    "duration": 373,
    "start_time": "2022-01-31T10:48:38.705Z"
   },
   {
    "duration": 364,
    "start_time": "2022-01-31T10:49:17.345Z"
   },
   {
    "duration": 192,
    "start_time": "2022-01-31T10:49:27.879Z"
   },
   {
    "duration": 6,
    "start_time": "2022-01-31T10:52:11.386Z"
   },
   {
    "duration": 55,
    "start_time": "2022-01-31T10:52:11.395Z"
   },
   {
    "duration": 12,
    "start_time": "2022-01-31T10:52:11.453Z"
   },
   {
    "duration": 6,
    "start_time": "2022-01-31T10:52:11.468Z"
   },
   {
    "duration": 12,
    "start_time": "2022-01-31T10:52:11.476Z"
   },
   {
    "duration": 9,
    "start_time": "2022-01-31T10:52:11.491Z"
   },
   {
    "duration": 6,
    "start_time": "2022-01-31T10:52:11.503Z"
   },
   {
    "duration": 59,
    "start_time": "2022-01-31T10:52:11.512Z"
   },
   {
    "duration": 3,
    "start_time": "2022-01-31T10:52:11.576Z"
   },
   {
    "duration": 26,
    "start_time": "2022-01-31T10:52:11.582Z"
   },
   {
    "duration": 63,
    "start_time": "2022-01-31T10:52:11.611Z"
   },
   {
    "duration": 10,
    "start_time": "2022-01-31T10:52:11.677Z"
   },
   {
    "duration": 207,
    "start_time": "2022-01-31T10:52:11.690Z"
   },
   {
    "duration": 4,
    "start_time": "2022-01-31T10:52:15.787Z"
   },
   {
    "duration": 52,
    "start_time": "2022-01-31T10:52:15.794Z"
   },
   {
    "duration": 11,
    "start_time": "2022-01-31T10:52:15.849Z"
   },
   {
    "duration": 5,
    "start_time": "2022-01-31T10:52:15.864Z"
   },
   {
    "duration": 8,
    "start_time": "2022-01-31T10:52:15.872Z"
   },
   {
    "duration": 9,
    "start_time": "2022-01-31T10:52:15.882Z"
   },
   {
    "duration": 6,
    "start_time": "2022-01-31T10:52:15.894Z"
   },
   {
    "duration": 62,
    "start_time": "2022-01-31T10:52:15.902Z"
   },
   {
    "duration": 3,
    "start_time": "2022-01-31T10:52:15.967Z"
   },
   {
    "duration": 24,
    "start_time": "2022-01-31T10:52:15.973Z"
   },
   {
    "duration": 20,
    "start_time": "2022-01-31T10:52:16.000Z"
   },
   {
    "duration": 9,
    "start_time": "2022-01-31T10:52:16.022Z"
   },
   {
    "duration": 226,
    "start_time": "2022-01-31T10:52:16.033Z"
   },
   {
    "duration": 21,
    "start_time": "2022-01-31T10:53:00.027Z"
   },
   {
    "duration": 5,
    "start_time": "2022-01-31T10:53:05.826Z"
   },
   {
    "duration": 53,
    "start_time": "2022-01-31T10:53:05.834Z"
   },
   {
    "duration": 12,
    "start_time": "2022-01-31T10:53:05.891Z"
   },
   {
    "duration": 6,
    "start_time": "2022-01-31T10:53:05.906Z"
   },
   {
    "duration": 9,
    "start_time": "2022-01-31T10:53:05.914Z"
   },
   {
    "duration": 37,
    "start_time": "2022-01-31T10:53:05.926Z"
   },
   {
    "duration": 7,
    "start_time": "2022-01-31T10:53:05.966Z"
   },
   {
    "duration": 16,
    "start_time": "2022-01-31T10:53:05.975Z"
   },
   {
    "duration": 3,
    "start_time": "2022-01-31T10:53:05.994Z"
   },
   {
    "duration": 70,
    "start_time": "2022-01-31T10:53:06.000Z"
   },
   {
    "duration": 21,
    "start_time": "2022-01-31T10:53:06.072Z"
   },
   {
    "duration": 9,
    "start_time": "2022-01-31T10:53:06.095Z"
   },
   {
    "duration": 223,
    "start_time": "2022-01-31T10:53:06.107Z"
   },
   {
    "duration": 4,
    "start_time": "2022-01-31T10:53:11.307Z"
   },
   {
    "duration": 54,
    "start_time": "2022-01-31T10:53:11.314Z"
   },
   {
    "duration": 13,
    "start_time": "2022-01-31T10:53:11.372Z"
   },
   {
    "duration": 6,
    "start_time": "2022-01-31T10:53:11.387Z"
   },
   {
    "duration": 10,
    "start_time": "2022-01-31T10:53:11.396Z"
   },
   {
    "duration": 8,
    "start_time": "2022-01-31T10:53:11.408Z"
   },
   {
    "duration": 42,
    "start_time": "2022-01-31T10:53:11.420Z"
   },
   {
    "duration": 14,
    "start_time": "2022-01-31T10:53:11.465Z"
   },
   {
    "duration": 3,
    "start_time": "2022-01-31T10:53:11.481Z"
   },
   {
    "duration": 24,
    "start_time": "2022-01-31T10:53:11.486Z"
   },
   {
    "duration": 58,
    "start_time": "2022-01-31T10:53:11.512Z"
   },
   {
    "duration": 8,
    "start_time": "2022-01-31T10:53:11.572Z"
   },
   {
    "duration": 203,
    "start_time": "2022-01-31T10:53:11.582Z"
   },
   {
    "duration": 579,
    "start_time": "2022-01-31T10:53:33.346Z"
   },
   {
    "duration": 3442,
    "start_time": "2022-01-31T10:53:39.595Z"
   },
   {
    "duration": 562,
    "start_time": "2022-01-31T10:53:48.949Z"
   },
   {
    "duration": 424,
    "start_time": "2022-01-31T10:57:46.667Z"
   },
   {
    "duration": 400,
    "start_time": "2022-01-31T10:57:55.714Z"
   },
   {
    "duration": 25,
    "start_time": "2022-01-31T10:58:02.583Z"
   },
   {
    "duration": 25,
    "start_time": "2022-01-31T10:58:09.197Z"
   },
   {
    "duration": 24,
    "start_time": "2022-01-31T10:58:27.673Z"
   },
   {
    "duration": 28,
    "start_time": "2022-01-31T10:58:42.941Z"
   },
   {
    "duration": 29,
    "start_time": "2022-01-31T10:59:08.308Z"
   },
   {
    "duration": 20,
    "start_time": "2022-01-31T10:59:31.115Z"
   },
   {
    "duration": 399,
    "start_time": "2022-01-31T10:59:54.027Z"
   },
   {
    "duration": 536,
    "start_time": "2022-01-31T11:00:10.387Z"
   },
   {
    "duration": 591,
    "start_time": "2022-01-31T11:01:28.707Z"
   },
   {
    "duration": 527,
    "start_time": "2022-01-31T11:01:47.789Z"
   },
   {
    "duration": 521,
    "start_time": "2022-01-31T11:03:56.787Z"
   },
   {
    "duration": 534,
    "start_time": "2022-01-31T11:04:16.597Z"
   },
   {
    "duration": 558,
    "start_time": "2022-01-31T11:04:49.083Z"
   },
   {
    "duration": 583,
    "start_time": "2022-01-31T11:04:58.986Z"
   },
   {
    "duration": 646,
    "start_time": "2022-01-31T11:05:33.427Z"
   },
   {
    "duration": 5,
    "start_time": "2022-01-31T11:10:06.468Z"
   },
   {
    "duration": 50,
    "start_time": "2022-01-31T11:10:06.475Z"
   },
   {
    "duration": 12,
    "start_time": "2022-01-31T11:10:06.529Z"
   },
   {
    "duration": 6,
    "start_time": "2022-01-31T11:10:06.559Z"
   },
   {
    "duration": 10,
    "start_time": "2022-01-31T11:10:06.567Z"
   },
   {
    "duration": 8,
    "start_time": "2022-01-31T11:10:06.580Z"
   },
   {
    "duration": 6,
    "start_time": "2022-01-31T11:10:06.591Z"
   },
   {
    "duration": 14,
    "start_time": "2022-01-31T11:10:06.599Z"
   },
   {
    "duration": 4,
    "start_time": "2022-01-31T11:10:06.661Z"
   },
   {
    "duration": 29,
    "start_time": "2022-01-31T11:10:06.667Z"
   },
   {
    "duration": 21,
    "start_time": "2022-01-31T11:10:06.699Z"
   },
   {
    "duration": 42,
    "start_time": "2022-01-31T11:10:06.723Z"
   },
   {
    "duration": 593,
    "start_time": "2022-01-31T11:10:06.768Z"
   },
   {
    "duration": 52,
    "start_time": "2022-01-31T11:11:03.004Z"
   },
   {
    "duration": 66,
    "start_time": "2022-01-31T11:11:41.188Z"
   },
   {
    "duration": 6,
    "start_time": "2022-01-31T11:11:51.348Z"
   },
   {
    "duration": 52,
    "start_time": "2022-01-31T11:11:51.357Z"
   },
   {
    "duration": 12,
    "start_time": "2022-01-31T11:11:51.412Z"
   },
   {
    "duration": 6,
    "start_time": "2022-01-31T11:11:51.427Z"
   },
   {
    "duration": 9,
    "start_time": "2022-01-31T11:11:51.460Z"
   },
   {
    "duration": 9,
    "start_time": "2022-01-31T11:11:51.472Z"
   },
   {
    "duration": 7,
    "start_time": "2022-01-31T11:11:51.483Z"
   },
   {
    "duration": 15,
    "start_time": "2022-01-31T11:11:51.494Z"
   },
   {
    "duration": 3,
    "start_time": "2022-01-31T11:11:51.559Z"
   },
   {
    "duration": 26,
    "start_time": "2022-01-31T11:11:51.565Z"
   },
   {
    "duration": 22,
    "start_time": "2022-01-31T11:11:51.594Z"
   },
   {
    "duration": 45,
    "start_time": "2022-01-31T11:11:51.618Z"
   },
   {
    "duration": 600,
    "start_time": "2022-01-31T11:11:51.667Z"
   },
   {
    "duration": 50,
    "start_time": "2022-01-31T11:12:36.386Z"
   },
   {
    "duration": 1484,
    "start_time": "2022-01-31T11:15:53.628Z"
   },
   {
    "duration": 64,
    "start_time": "2022-01-31T11:15:55.115Z"
   },
   {
    "duration": 12,
    "start_time": "2022-01-31T11:15:55.182Z"
   },
   {
    "duration": 5,
    "start_time": "2022-01-31T11:15:55.197Z"
   },
   {
    "duration": 12,
    "start_time": "2022-01-31T11:15:55.205Z"
   },
   {
    "duration": 39,
    "start_time": "2022-01-31T11:15:55.220Z"
   },
   {
    "duration": 6,
    "start_time": "2022-01-31T11:15:55.262Z"
   },
   {
    "duration": 15,
    "start_time": "2022-01-31T11:15:55.270Z"
   },
   {
    "duration": 3,
    "start_time": "2022-01-31T11:15:55.288Z"
   },
   {
    "duration": 27,
    "start_time": "2022-01-31T11:15:55.293Z"
   },
   {
    "duration": 20,
    "start_time": "2022-01-31T11:15:55.359Z"
   },
   {
    "duration": 9,
    "start_time": "2022-01-31T11:15:55.382Z"
   },
   {
    "duration": 685,
    "start_time": "2022-01-31T11:15:55.394Z"
   },
   {
    "duration": 4,
    "start_time": "2022-01-31T11:16:11.667Z"
   },
   {
    "duration": 54,
    "start_time": "2022-01-31T11:16:11.674Z"
   },
   {
    "duration": 10,
    "start_time": "2022-01-31T11:16:11.732Z"
   },
   {
    "duration": 17,
    "start_time": "2022-01-31T11:16:11.746Z"
   },
   {
    "duration": 11,
    "start_time": "2022-01-31T11:16:11.765Z"
   },
   {
    "duration": 10,
    "start_time": "2022-01-31T11:16:11.779Z"
   },
   {
    "duration": 7,
    "start_time": "2022-01-31T11:16:11.792Z"
   },
   {
    "duration": 65,
    "start_time": "2022-01-31T11:16:11.802Z"
   },
   {
    "duration": 3,
    "start_time": "2022-01-31T11:16:11.872Z"
   },
   {
    "duration": 26,
    "start_time": "2022-01-31T11:16:11.878Z"
   },
   {
    "duration": 60,
    "start_time": "2022-01-31T11:16:11.907Z"
   },
   {
    "duration": 11,
    "start_time": "2022-01-31T11:16:11.969Z"
   },
   {
    "duration": 678,
    "start_time": "2022-01-31T11:16:11.982Z"
   },
   {
    "duration": 5,
    "start_time": "2022-01-31T11:18:57.276Z"
   },
   {
    "duration": 545,
    "start_time": "2022-01-31T11:23:00.747Z"
   },
   {
    "duration": 568,
    "start_time": "2022-01-31T11:23:26.267Z"
   },
   {
    "duration": 559,
    "start_time": "2022-01-31T11:24:13.828Z"
   },
   {
    "duration": 615,
    "start_time": "2022-01-31T11:27:19.708Z"
   },
   {
    "duration": 30606,
    "start_time": "2022-01-31T11:32:18.115Z"
   },
   {
    "duration": 246389,
    "start_time": "2022-01-31T11:34:12.588Z"
   },
   {
    "duration": 8952,
    "start_time": "2022-01-31T11:38:33.669Z"
   },
   {
    "duration": 10478,
    "start_time": "2022-01-31T11:39:24.716Z"
   },
   {
    "duration": 39462,
    "start_time": "2022-01-31T11:40:02.669Z"
   },
   {
    "duration": 2445,
    "start_time": "2022-01-31T11:40:45.551Z"
   },
   {
    "duration": 149,
    "start_time": "2022-01-31T11:41:35.990Z"
   },
   {
    "duration": 2566,
    "start_time": "2022-01-31T11:41:39.595Z"
   },
   {
    "duration": 2695,
    "start_time": "2022-01-31T11:42:32.599Z"
   },
   {
    "duration": 32382,
    "start_time": "2022-01-31T11:42:49.597Z"
   },
   {
    "duration": 3612,
    "start_time": "2022-01-31T11:44:14.078Z"
   },
   {
    "duration": 7334,
    "start_time": "2022-01-31T11:44:26.629Z"
   },
   {
    "duration": 68903,
    "start_time": "2022-01-31T11:44:52.744Z"
   },
   {
    "duration": 70657,
    "start_time": "2022-01-31T11:46:14.110Z"
   },
   {
    "duration": 33138,
    "start_time": "2022-01-31T11:47:39.437Z"
   },
   {
    "duration": 103,
    "start_time": "2022-01-31T11:52:26.963Z"
   },
   {
    "duration": 4,
    "start_time": "2022-01-31T12:08:52.277Z"
   },
   {
    "duration": 54,
    "start_time": "2022-01-31T12:08:52.284Z"
   },
   {
    "duration": 13,
    "start_time": "2022-01-31T12:08:52.375Z"
   },
   {
    "duration": 5,
    "start_time": "2022-01-31T12:08:52.391Z"
   },
   {
    "duration": 12,
    "start_time": "2022-01-31T12:08:52.399Z"
   },
   {
    "duration": 9,
    "start_time": "2022-01-31T12:08:52.414Z"
   },
   {
    "duration": 9,
    "start_time": "2022-01-31T12:08:52.425Z"
   },
   {
    "duration": 14,
    "start_time": "2022-01-31T12:08:52.465Z"
   },
   {
    "duration": 3,
    "start_time": "2022-01-31T12:08:52.482Z"
   },
   {
    "duration": 22,
    "start_time": "2022-01-31T12:08:52.488Z"
   },
   {
    "duration": 46,
    "start_time": "2022-01-31T12:08:52.513Z"
   },
   {
    "duration": 11,
    "start_time": "2022-01-31T12:08:52.562Z"
   },
   {
    "duration": 594,
    "start_time": "2022-01-31T12:08:52.576Z"
   },
   {
    "duration": 32392,
    "start_time": "2022-01-31T12:08:53.172Z"
   },
   {
    "duration": 36,
    "start_time": "2022-01-31T12:09:25.566Z"
   },
   {
    "duration": 132,
    "start_time": "2022-01-31T12:15:18.708Z"
   },
   {
    "duration": 703,
    "start_time": "2022-01-31T12:15:45.429Z"
   },
   {
    "duration": 3552,
    "start_time": "2022-01-31T12:16:05.189Z"
   },
   {
    "duration": 610,
    "start_time": "2022-01-31T12:16:14.950Z"
   },
   {
    "duration": 34570,
    "start_time": "2022-01-31T12:17:27.869Z"
   },
   {
    "duration": 32817,
    "start_time": "2022-01-31T12:18:39.150Z"
   },
   {
    "duration": 404,
    "start_time": "2022-01-31T12:21:18.588Z"
   },
   {
    "duration": 111,
    "start_time": "2022-01-31T12:21:49.348Z"
   },
   {
    "duration": 367,
    "start_time": "2022-01-31T13:10:35.628Z"
   },
   {
    "duration": 5,
    "start_time": "2022-01-31T13:10:42.548Z"
   },
   {
    "duration": 6,
    "start_time": "2022-01-31T13:16:38.310Z"
   },
   {
    "duration": 423,
    "start_time": "2022-01-31T13:17:44.948Z"
   },
   {
    "duration": 355,
    "start_time": "2022-01-31T13:18:14.516Z"
   },
   {
    "duration": 411,
    "start_time": "2022-01-31T13:18:28.155Z"
   },
   {
    "duration": 6164,
    "start_time": "2022-01-31T13:18:33.629Z"
   },
   {
    "duration": 5,
    "start_time": "2022-01-31T13:19:00.643Z"
   },
   {
    "duration": 58,
    "start_time": "2022-01-31T13:19:00.654Z"
   },
   {
    "duration": 12,
    "start_time": "2022-01-31T13:19:00.715Z"
   },
   {
    "duration": 29,
    "start_time": "2022-01-31T13:19:00.730Z"
   },
   {
    "duration": 13,
    "start_time": "2022-01-31T13:19:00.763Z"
   },
   {
    "duration": 9,
    "start_time": "2022-01-31T13:19:00.779Z"
   },
   {
    "duration": 14,
    "start_time": "2022-01-31T13:19:00.790Z"
   },
   {
    "duration": 15,
    "start_time": "2022-01-31T13:19:00.807Z"
   },
   {
    "duration": 3,
    "start_time": "2022-01-31T13:19:00.858Z"
   },
   {
    "duration": 32,
    "start_time": "2022-01-31T13:19:00.864Z"
   },
   {
    "duration": 13,
    "start_time": "2022-01-31T13:19:00.899Z"
   },
   {
    "duration": 11,
    "start_time": "2022-01-31T13:19:00.915Z"
   },
   {
    "duration": 601,
    "start_time": "2022-01-31T13:19:00.928Z"
   },
   {
    "duration": 32461,
    "start_time": "2022-01-31T13:19:01.532Z"
   },
   {
    "duration": 69,
    "start_time": "2022-01-31T13:19:33.996Z"
   },
   {
    "duration": 762,
    "start_time": "2022-01-31T13:19:34.068Z"
   },
   {
    "duration": 33219,
    "start_time": "2022-01-31T13:19:34.833Z"
   },
   {
    "duration": 106,
    "start_time": "2022-01-31T13:20:08.060Z"
   },
   {
    "duration": 91,
    "start_time": "2022-01-31T13:20:08.169Z"
   },
   {
    "duration": 2814,
    "start_time": "2022-01-31T13:20:08.262Z"
   },
   {
    "duration": 8,
    "start_time": "2022-01-31T13:21:49.631Z"
   },
   {
    "duration": 710,
    "start_time": "2022-01-31T13:21:51.909Z"
   },
   {
    "duration": 1068,
    "start_time": "2022-01-31T13:24:17.828Z"
   },
   {
    "duration": 6,
    "start_time": "2022-01-31T13:24:37.573Z"
   },
   {
    "duration": 768,
    "start_time": "2022-01-31T13:25:16.588Z"
   },
   {
    "duration": 6,
    "start_time": "2022-01-31T13:25:21.349Z"
   },
   {
    "duration": 713,
    "start_time": "2022-01-31T13:25:23.829Z"
   },
   {
    "duration": 803,
    "start_time": "2022-01-31T13:25:50.636Z"
   },
   {
    "duration": 1419,
    "start_time": "2022-01-31T13:26:49.453Z"
   },
   {
    "duration": 5,
    "start_time": "2022-01-31T13:26:51.432Z"
   },
   {
    "duration": 749,
    "start_time": "2022-01-31T13:29:28.268Z"
   },
   {
    "duration": 477,
    "start_time": "2022-01-31T13:32:29.758Z"
   },
   {
    "duration": 444,
    "start_time": "2022-01-31T13:32:45.631Z"
   },
   {
    "duration": 437,
    "start_time": "2022-01-31T13:33:18.159Z"
   },
   {
    "duration": 7,
    "start_time": "2022-01-31T13:35:26.269Z"
   },
   {
    "duration": 15,
    "start_time": "2022-01-31T13:35:29.149Z"
   },
   {
    "duration": 1070,
    "start_time": "2022-01-31T13:38:56.713Z"
   },
   {
    "duration": 6,
    "start_time": "2022-01-31T13:48:17.969Z"
   },
   {
    "duration": 52,
    "start_time": "2022-01-31T13:48:17.977Z"
   },
   {
    "duration": 10,
    "start_time": "2022-01-31T13:48:18.032Z"
   },
   {
    "duration": 5,
    "start_time": "2022-01-31T13:48:18.059Z"
   },
   {
    "duration": 11,
    "start_time": "2022-01-31T13:48:18.067Z"
   },
   {
    "duration": 10,
    "start_time": "2022-01-31T13:48:18.081Z"
   },
   {
    "duration": 7,
    "start_time": "2022-01-31T13:48:18.094Z"
   },
   {
    "duration": 54,
    "start_time": "2022-01-31T13:48:18.105Z"
   },
   {
    "duration": 3,
    "start_time": "2022-01-31T13:48:18.162Z"
   },
   {
    "duration": 25,
    "start_time": "2022-01-31T13:48:18.167Z"
   },
   {
    "duration": 13,
    "start_time": "2022-01-31T13:48:18.194Z"
   },
   {
    "duration": 8,
    "start_time": "2022-01-31T13:48:18.209Z"
   },
   {
    "duration": 617,
    "start_time": "2022-01-31T13:48:18.220Z"
   },
   {
    "duration": 33487,
    "start_time": "2022-01-31T13:48:18.840Z"
   },
   {
    "duration": 47,
    "start_time": "2022-01-31T13:48:52.329Z"
   },
   {
    "duration": 708,
    "start_time": "2022-01-31T13:48:52.460Z"
   },
   {
    "duration": 34904,
    "start_time": "2022-01-31T13:48:53.171Z"
   },
   {
    "duration": 179,
    "start_time": "2022-01-31T13:49:28.080Z"
   },
   {
    "duration": 97,
    "start_time": "2022-01-31T13:49:28.263Z"
   },
   {
    "duration": 16,
    "start_time": "2022-01-31T13:49:28.363Z"
   },
   {
    "duration": 768,
    "start_time": "2022-01-31T13:49:28.382Z"
   },
   {
    "duration": 417,
    "start_time": "2022-01-31T13:51:52.856Z"
   },
   {
    "duration": 46010,
    "start_time": "2022-01-31T13:52:04.449Z"
   },
   {
    "duration": 98,
    "start_time": "2022-01-31T13:55:02.070Z"
   },
   {
    "duration": 1070,
    "start_time": "2022-01-31T14:03:15.151Z"
   },
   {
    "duration": 6,
    "start_time": "2022-01-31T14:03:21.097Z"
   },
   {
    "duration": 15,
    "start_time": "2022-01-31T14:03:23.032Z"
   },
   {
    "duration": 864,
    "start_time": "2022-01-31T14:03:41.147Z"
   },
   {
    "duration": 20,
    "start_time": "2022-01-31T14:03:50.961Z"
   },
   {
    "duration": 11069,
    "start_time": "2022-01-31T14:04:47.128Z"
   },
   {
    "duration": 33,
    "start_time": "2022-01-31T14:05:13.497Z"
   },
   {
    "duration": 16,
    "start_time": "2022-01-31T14:05:54.022Z"
   },
   {
    "duration": 5370,
    "start_time": "2022-01-31T14:06:02.016Z"
   },
   {
    "duration": 20,
    "start_time": "2022-01-31T14:06:15.965Z"
   },
   {
    "duration": 17,
    "start_time": "2022-01-31T14:06:54.651Z"
   },
   {
    "duration": 20,
    "start_time": "2022-01-31T14:08:11.337Z"
   },
   {
    "duration": 20,
    "start_time": "2022-01-31T14:08:21.107Z"
   },
   {
    "duration": 20,
    "start_time": "2022-01-31T14:08:25.779Z"
   },
   {
    "duration": 20,
    "start_time": "2022-01-31T14:08:28.987Z"
   },
   {
    "duration": 16,
    "start_time": "2022-01-31T14:09:10.566Z"
   },
   {
    "duration": 358,
    "start_time": "2022-01-31T14:10:54.795Z"
   },
   {
    "duration": 19408,
    "start_time": "2022-01-31T14:13:09.251Z"
   },
   {
    "duration": 101,
    "start_time": "2022-01-31T14:15:29.861Z"
   },
   {
    "duration": 131,
    "start_time": "2022-01-31T14:16:23.628Z"
   },
   {
    "duration": 371,
    "start_time": "2022-01-31T14:28:19.951Z"
   },
   {
    "duration": 267,
    "start_time": "2022-01-31T14:29:55.068Z"
   },
   {
    "duration": 377,
    "start_time": "2022-01-31T14:34:43.327Z"
   },
   {
    "duration": 6,
    "start_time": "2022-01-31T14:34:50.321Z"
   },
   {
    "duration": 368,
    "start_time": "2022-01-31T14:34:55.192Z"
   },
   {
    "duration": 10,
    "start_time": "2022-01-31T14:35:15.193Z"
   },
   {
    "duration": 10,
    "start_time": "2022-01-31T14:35:49.248Z"
   },
   {
    "duration": 5,
    "start_time": "2022-01-31T14:46:13.749Z"
   },
   {
    "duration": 58,
    "start_time": "2022-01-31T14:46:13.756Z"
   },
   {
    "duration": 12,
    "start_time": "2022-01-31T14:46:13.818Z"
   },
   {
    "duration": 7,
    "start_time": "2022-01-31T14:46:13.860Z"
   },
   {
    "duration": 11,
    "start_time": "2022-01-31T14:46:13.870Z"
   },
   {
    "duration": 8,
    "start_time": "2022-01-31T14:46:13.883Z"
   },
   {
    "duration": 6,
    "start_time": "2022-01-31T14:46:13.893Z"
   },
   {
    "duration": 63,
    "start_time": "2022-01-31T14:46:13.903Z"
   },
   {
    "duration": 45400,
    "start_time": "2022-01-31T14:46:13.969Z"
   },
   {
    "duration": 24,
    "start_time": "2022-01-31T14:46:59.372Z"
   },
   {
    "duration": 14,
    "start_time": "2022-01-31T14:46:59.399Z"
   },
   {
    "duration": 9,
    "start_time": "2022-01-31T14:46:59.415Z"
   },
   {
    "duration": 577,
    "start_time": "2022-01-31T14:46:59.459Z"
   },
   {
    "duration": 32501,
    "start_time": "2022-01-31T14:47:00.038Z"
   },
   {
    "duration": 42,
    "start_time": "2022-01-31T14:47:32.541Z"
   },
   {
    "duration": 703,
    "start_time": "2022-01-31T14:47:32.664Z"
   },
   {
    "duration": 33025,
    "start_time": "2022-01-31T14:47:33.369Z"
   },
   {
    "duration": 71,
    "start_time": "2022-01-31T14:48:06.396Z"
   },
   {
    "duration": 10,
    "start_time": "2022-01-31T14:48:06.559Z"
   },
   {
    "duration": 105,
    "start_time": "2022-01-31T14:48:06.571Z"
   },
   {
    "duration": 789,
    "start_time": "2022-01-31T14:48:06.679Z"
   },
   {
    "duration": 45447,
    "start_time": "2022-01-31T14:48:07.470Z"
   },
   {
    "duration": 143,
    "start_time": "2022-01-31T14:48:52.923Z"
   },
   {
    "duration": 93,
    "start_time": "2022-01-31T14:48:53.070Z"
   },
   {
    "duration": 16,
    "start_time": "2022-01-31T14:48:53.166Z"
   },
   {
    "duration": 336,
    "start_time": "2022-01-31T14:48:53.184Z"
   },
   {
    "duration": 19456,
    "start_time": "2022-01-31T14:48:53.522Z"
   },
   {
    "duration": 83,
    "start_time": "2022-01-31T14:49:12.982Z"
   },
   {
    "duration": 410,
    "start_time": "2022-01-31T14:49:13.068Z"
   },
   {
    "duration": 1160,
    "start_time": "2022-02-01T08:32:43.786Z"
   },
   {
    "duration": 45,
    "start_time": "2022-02-01T08:32:44.948Z"
   },
   {
    "duration": 10,
    "start_time": "2022-02-01T08:32:44.995Z"
   },
   {
    "duration": 7,
    "start_time": "2022-02-01T08:32:45.008Z"
   },
   {
    "duration": 19,
    "start_time": "2022-02-01T08:32:45.017Z"
   },
   {
    "duration": 10,
    "start_time": "2022-02-01T08:32:45.038Z"
   },
   {
    "duration": 6,
    "start_time": "2022-02-01T08:32:45.050Z"
   },
   {
    "duration": 12,
    "start_time": "2022-02-01T08:32:45.058Z"
   },
   {
    "duration": 28546,
    "start_time": "2022-02-01T08:32:45.072Z"
   },
   {
    "duration": 2,
    "start_time": "2022-02-01T08:33:13.621Z"
   },
   {
    "duration": 14,
    "start_time": "2022-02-01T08:33:13.625Z"
   },
   {
    "duration": 383,
    "start_time": "2022-02-01T08:33:13.641Z"
   },
   {
    "duration": -98,
    "start_time": "2022-02-01T08:33:14.125Z"
   },
   {
    "duration": -100,
    "start_time": "2022-02-01T08:33:14.128Z"
   },
   {
    "duration": -101,
    "start_time": "2022-02-01T08:33:14.131Z"
   },
   {
    "duration": -103,
    "start_time": "2022-02-01T08:33:14.134Z"
   },
   {
    "duration": -104,
    "start_time": "2022-02-01T08:33:14.137Z"
   },
   {
    "duration": -106,
    "start_time": "2022-02-01T08:33:14.141Z"
   },
   {
    "duration": -109,
    "start_time": "2022-02-01T08:33:14.145Z"
   },
   {
    "duration": -110,
    "start_time": "2022-02-01T08:33:14.148Z"
   },
   {
    "duration": -112,
    "start_time": "2022-02-01T08:33:14.151Z"
   },
   {
    "duration": -115,
    "start_time": "2022-02-01T08:33:14.155Z"
   },
   {
    "duration": -117,
    "start_time": "2022-02-01T08:33:14.158Z"
   },
   {
    "duration": -118,
    "start_time": "2022-02-01T08:33:14.160Z"
   },
   {
    "duration": -120,
    "start_time": "2022-02-01T08:33:14.163Z"
   },
   {
    "duration": -127,
    "start_time": "2022-02-01T08:33:14.171Z"
   },
   {
    "duration": -128,
    "start_time": "2022-02-01T08:33:14.174Z"
   },
   {
    "duration": -130,
    "start_time": "2022-02-01T08:33:14.177Z"
   },
   {
    "duration": -131,
    "start_time": "2022-02-01T08:33:14.179Z"
   },
   {
    "duration": -133,
    "start_time": "2022-02-01T08:33:14.182Z"
   },
   {
    "duration": 4,
    "start_time": "2022-02-01T08:35:05.237Z"
   },
   {
    "duration": 45,
    "start_time": "2022-02-01T08:35:05.243Z"
   },
   {
    "duration": 9,
    "start_time": "2022-02-01T08:35:05.291Z"
   },
   {
    "duration": 4,
    "start_time": "2022-02-01T08:35:05.303Z"
   },
   {
    "duration": 10,
    "start_time": "2022-02-01T08:35:05.310Z"
   },
   {
    "duration": 10,
    "start_time": "2022-02-01T08:35:05.323Z"
   },
   {
    "duration": 6,
    "start_time": "2022-02-01T08:35:05.336Z"
   },
   {
    "duration": 17,
    "start_time": "2022-02-01T08:35:05.345Z"
   },
   {
    "duration": 29789,
    "start_time": "2022-02-01T08:35:05.366Z"
   },
   {
    "duration": 3,
    "start_time": "2022-02-01T08:35:35.157Z"
   },
   {
    "duration": 849,
    "start_time": "2022-02-01T08:35:35.161Z"
   },
   {
    "duration": 24,
    "start_time": "2022-02-01T08:36:16.693Z"
   },
   {
    "duration": 4,
    "start_time": "2022-02-01T08:36:21.148Z"
   },
   {
    "duration": 44,
    "start_time": "2022-02-01T08:36:21.154Z"
   },
   {
    "duration": 8,
    "start_time": "2022-02-01T08:36:21.200Z"
   },
   {
    "duration": 268,
    "start_time": "2022-02-01T08:36:21.210Z"
   },
   {
    "duration": 12,
    "start_time": "2022-02-01T08:36:21.480Z"
   },
   {
    "duration": 6,
    "start_time": "2022-02-01T08:36:21.499Z"
   },
   {
    "duration": 4,
    "start_time": "2022-02-01T08:36:21.507Z"
   },
   {
    "duration": 10,
    "start_time": "2022-02-01T08:36:21.513Z"
   },
   {
    "duration": 28974,
    "start_time": "2022-02-01T08:36:21.526Z"
   },
   {
    "duration": 3,
    "start_time": "2022-02-01T08:36:50.502Z"
   },
   {
    "duration": 13,
    "start_time": "2022-02-01T08:36:50.507Z"
   },
   {
    "duration": 26,
    "start_time": "2022-02-01T08:37:02.448Z"
   },
   {
    "duration": 8,
    "start_time": "2022-02-01T08:37:02.476Z"
   },
   {
    "duration": 445,
    "start_time": "2022-02-01T08:37:02.486Z"
   },
   {
    "duration": 23101,
    "start_time": "2022-02-01T08:37:02.934Z"
   },
   {
    "duration": 164,
    "start_time": "2022-02-01T08:37:26.036Z"
   },
   {
    "duration": 580,
    "start_time": "2022-02-01T08:37:26.202Z"
   },
   {
    "duration": 23025,
    "start_time": "2022-02-01T08:37:26.784Z"
   },
   {
    "duration": 89,
    "start_time": "2022-02-01T08:37:49.811Z"
   },
   {
    "duration": 95,
    "start_time": "2022-02-01T08:37:49.904Z"
   },
   {
    "duration": 13,
    "start_time": "2022-02-01T08:37:50.001Z"
   },
   {
    "duration": 588,
    "start_time": "2022-02-01T08:37:50.017Z"
   },
   {
    "duration": 31438,
    "start_time": "2022-02-01T08:37:50.608Z"
   },
   {
    "duration": 57,
    "start_time": "2022-02-01T08:38:22.048Z"
   },
   {
    "duration": 96,
    "start_time": "2022-02-01T08:38:22.108Z"
   },
   {
    "duration": 93,
    "start_time": "2022-02-01T08:38:22.207Z"
   },
   {
    "duration": 239,
    "start_time": "2022-02-01T08:38:22.302Z"
   },
   {
    "duration": 13487,
    "start_time": "2022-02-01T08:38:22.543Z"
   },
   {
    "duration": 69,
    "start_time": "2022-02-01T08:38:36.031Z"
   },
   {
    "duration": 296,
    "start_time": "2022-02-01T08:38:36.102Z"
   },
   {
    "duration": 4,
    "start_time": "2022-02-01T08:55:08.528Z"
   },
   {
    "duration": 329,
    "start_time": "2022-02-01T08:55:13.208Z"
   },
   {
    "duration": 282,
    "start_time": "2022-02-01T08:59:07.715Z"
   },
   {
    "duration": 259,
    "start_time": "2022-02-01T09:02:14.568Z"
   },
   {
    "duration": 205,
    "start_time": "2022-02-01T09:02:39.387Z"
   },
   {
    "duration": 269,
    "start_time": "2022-02-01T09:02:41.410Z"
   },
   {
    "duration": 4,
    "start_time": "2022-02-01T09:05:31.608Z"
   },
   {
    "duration": 303,
    "start_time": "2022-02-01T09:06:09.488Z"
   },
   {
    "duration": 223,
    "start_time": "2022-02-01T09:09:24.719Z"
   },
   {
    "duration": 224,
    "start_time": "2022-02-01T09:10:03.427Z"
   },
   {
    "duration": 205,
    "start_time": "2022-02-01T09:10:41.547Z"
   },
   {
    "duration": 4,
    "start_time": "2022-02-01T09:12:01.735Z"
   },
   {
    "duration": 50,
    "start_time": "2022-02-01T09:12:01.741Z"
   },
   {
    "duration": 9,
    "start_time": "2022-02-01T09:12:01.793Z"
   },
   {
    "duration": 4,
    "start_time": "2022-02-01T09:12:01.805Z"
   },
   {
    "duration": 11,
    "start_time": "2022-02-01T09:12:01.811Z"
   },
   {
    "duration": 9,
    "start_time": "2022-02-01T09:12:01.824Z"
   },
   {
    "duration": 5,
    "start_time": "2022-02-01T09:12:01.835Z"
   },
   {
    "duration": 13,
    "start_time": "2022-02-01T09:12:01.843Z"
   },
   {
    "duration": 28365,
    "start_time": "2022-02-01T09:12:01.858Z"
   },
   {
    "duration": 2,
    "start_time": "2022-02-01T09:12:30.225Z"
   },
   {
    "duration": 19,
    "start_time": "2022-02-01T09:12:30.229Z"
   },
   {
    "duration": 27,
    "start_time": "2022-02-01T09:12:30.250Z"
   },
   {
    "duration": 23,
    "start_time": "2022-02-01T09:12:30.279Z"
   },
   {
    "duration": 450,
    "start_time": "2022-02-01T09:12:30.304Z"
   },
   {
    "duration": 23075,
    "start_time": "2022-02-01T09:12:30.756Z"
   },
   {
    "duration": 69,
    "start_time": "2022-02-01T09:12:53.832Z"
   },
   {
    "duration": 548,
    "start_time": "2022-02-01T09:12:53.903Z"
   },
   {
    "duration": 23437,
    "start_time": "2022-02-01T09:12:54.453Z"
   },
   {
    "duration": 109,
    "start_time": "2022-02-01T09:13:17.892Z"
   },
   {
    "duration": 91,
    "start_time": "2022-02-01T09:13:18.008Z"
   },
   {
    "duration": 25,
    "start_time": "2022-02-01T09:13:18.101Z"
   },
   {
    "duration": 573,
    "start_time": "2022-02-01T09:13:18.128Z"
   },
   {
    "duration": 31665,
    "start_time": "2022-02-01T09:13:18.704Z"
   },
   {
    "duration": 128,
    "start_time": "2022-02-01T09:13:50.371Z"
   },
   {
    "duration": 7,
    "start_time": "2022-02-01T09:13:50.501Z"
   },
   {
    "duration": 18,
    "start_time": "2022-02-01T09:13:50.599Z"
   },
   {
    "duration": 233,
    "start_time": "2022-02-01T09:13:50.619Z"
   },
   {
    "duration": 13463,
    "start_time": "2022-02-01T09:13:50.855Z"
   },
   {
    "duration": 80,
    "start_time": "2022-02-01T09:14:04.320Z"
   },
   {
    "duration": 284,
    "start_time": "2022-02-01T09:14:04.402Z"
   },
   {
    "duration": 219,
    "start_time": "2022-02-01T09:14:04.689Z"
   }
  ],
  "kernelspec": {
   "display_name": "Python 3",
   "language": "python",
   "name": "python3"
  },
  "language_info": {
   "codemirror_mode": {
    "name": "ipython",
    "version": 3
   },
   "file_extension": ".py",
   "mimetype": "text/x-python",
   "name": "python",
   "nbconvert_exporter": "python",
   "pygments_lexer": "ipython3",
   "version": "3.8.8"
  },
  "toc": {
   "base_numbering": 1,
   "nav_menu": {},
   "number_sections": true,
   "sideBar": true,
   "skip_h1_title": true,
   "title_cell": "Содержание",
   "title_sidebar": "Contents",
   "toc_cell": true,
   "toc_position": {},
   "toc_section_display": true,
   "toc_window_display": false
  }
 },
 "nbformat": 4,
 "nbformat_minor": 2
}
