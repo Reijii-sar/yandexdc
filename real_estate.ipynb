{
 "cells": [
  {
   "cell_type": "markdown",
   "metadata": {},
   "source": [
    "# Исследование объявлений о продаже квартир\n",
    "\n",
    "В вашем распоряжении данные сервиса Яндекс.Недвижимость — архив объявлений о продаже квартир в Санкт-Петербурге и соседних населённых пунктах за несколько лет. Нужно научиться определять рыночную стоимость объектов недвижимости. Ваша задача — установить параметры. Это позволит построить автоматизированную систему: она отследит аномалии и мошенническую деятельность. \n",
    "\n",
    "По каждой квартире на продажу доступны два вида данных. Первые вписаны пользователем, вторые получены автоматически на основе картографических данных. Например, расстояние до центра, аэропорта, ближайшего парка и водоёма. \n",
    "\n",
    "# Описание данных\n",
    "total_images — число фотографий квартиры в объявлении <br/>\n",
    "last_price — цена на момент снятия с публикации<br/>\n",
    "total_area — площадь квартиры в квадратных метрах (м²)<br/>\n",
    "first_day_exposition — дата публикации<br/>\n",
    "rooms — число комнат<br/>\n",
    "ceiling_height — высота потолков (м)<br/>\n",
    "floors_total - всего этажей в доме <br/>\n",
    "living_area — жилая площадь в квадратных метрах (м²)<br/>\n",
    "floor — этаж<br/>\n",
    "is_apartment — апартаменты (булев тип)<br/>\n",
    "studio — квартира-студия (булев тип)<br/>\n",
    "open_plan — свободная планировка (булев тип)<br/>\n",
    "kitchen_area — площадь кухни в квадратных метрах (м²)<br/>\n",
    "balcony — число балконов <br/>\n",
    "locality_name — название населённого пункта<br/>\n",
    "airports_nearest — расстояние до ближайшего аэропорта в метрах (м) <br/>\n",
    "cityCenters_nearest — расстояние до центра города (м)<br/>\n",
    "parks_around3000 — число парков в радиусе 3 км<br/>\n",
    "parks_nearest — расстояние до ближайшего парка (м)<br/>\n",
    "ponds_around3000 - число водоемов в радиусе 3 км<br/>\n",
    "ponds_nearest — расстояние до ближайшего водоёма (м)<br/>\n",
    "days_exposition — сколько дней было размещено объявление (от публикации до снятия)<br/>\n",
    "\n",
    "# Предмет исследования\n",
    "- зависимость следующих параметров: площадь, цена, число комнат, высота потолков\n",
    "- время продажи квартиры, определить что продажи идут быстро/медленно\n",
    "- зависит ли цена от площади, числа комнат и удаленности от центра\n",
    "- зависит ли цена от того на каком этаже размещена квартира\n",
    "- зависит ли цена от даты размещения объявления\n",
    "- изучить среднюю стоимость квадратного метра в 10 населенных пунктах с самым большим количеством объявлений\n",
    "- определить центр города и определить зависимость цены от удаления от центра \n",
    "- определить факторы влияющие на стоимость квартиры в центре (площадь, число комнат, высота потолков, этажность, удаленность от центра, дата размещения объявления), имеются ли различия с общей картиной"
   ]
  },
  {
   "cell_type": "markdown",
   "metadata": {},
   "source": [
    "## Шаг 1: Открываем данные и изучаем общую информацию"
   ]
  },
  {
   "cell_type": "markdown",
   "metadata": {},
   "source": [
    "### Загружаем необходимые библиотеки и открываем файл"
   ]
  },
  {
   "cell_type": "code",
   "execution_count": 3,
   "metadata": {},
   "outputs": [],
   "source": [
    "import pandas as pd\n",
    "import matplotlib.pyplot as plt\n",
    "from pymystem3 import Mystem\n",
    "from collections import Counter\n",
    "\n",
    "try:\n",
    "    df=pd.read_csv('/datasets/real_estate_data.csv', sep='\\t')\n",
    "except:\n",
    "    print('Ошибка при загрузке данных')\n",
    "\n",
    "data=df.copy() #делаем копию первоначальной таблицы, для контроля при изменении данных в df\n",
    "m=Mystem()"
   ]
  },
  {
   "cell_type": "markdown",
   "metadata": {},
   "source": [
    "### Изучаем общую информацию"
   ]
  },
  {
   "cell_type": "code",
   "execution_count": 4,
   "metadata": {},
   "outputs": [
    {
     "data": {
      "text/html": [
       "<div>\n",
       "<style scoped>\n",
       "    .dataframe tbody tr th:only-of-type {\n",
       "        vertical-align: middle;\n",
       "    }\n",
       "\n",
       "    .dataframe tbody tr th {\n",
       "        vertical-align: top;\n",
       "    }\n",
       "\n",
       "    .dataframe thead th {\n",
       "        text-align: right;\n",
       "    }\n",
       "</style>\n",
       "<table border=\"1\" class=\"dataframe\">\n",
       "  <thead>\n",
       "    <tr style=\"text-align: right;\">\n",
       "      <th></th>\n",
       "      <th>total_images</th>\n",
       "      <th>last_price</th>\n",
       "      <th>total_area</th>\n",
       "      <th>first_day_exposition</th>\n",
       "      <th>rooms</th>\n",
       "      <th>ceiling_height</th>\n",
       "      <th>floors_total</th>\n",
       "      <th>living_area</th>\n",
       "      <th>floor</th>\n",
       "      <th>is_apartment</th>\n",
       "      <th>...</th>\n",
       "      <th>kitchen_area</th>\n",
       "      <th>balcony</th>\n",
       "      <th>locality_name</th>\n",
       "      <th>airports_nearest</th>\n",
       "      <th>cityCenters_nearest</th>\n",
       "      <th>parks_around3000</th>\n",
       "      <th>parks_nearest</th>\n",
       "      <th>ponds_around3000</th>\n",
       "      <th>ponds_nearest</th>\n",
       "      <th>days_exposition</th>\n",
       "    </tr>\n",
       "  </thead>\n",
       "  <tbody>\n",
       "    <tr>\n",
       "      <td>0</td>\n",
       "      <td>20</td>\n",
       "      <td>13000000.0</td>\n",
       "      <td>108.0</td>\n",
       "      <td>2019-03-07T00:00:00</td>\n",
       "      <td>3</td>\n",
       "      <td>2.70</td>\n",
       "      <td>16.0</td>\n",
       "      <td>51.0</td>\n",
       "      <td>8</td>\n",
       "      <td>NaN</td>\n",
       "      <td>...</td>\n",
       "      <td>25.0</td>\n",
       "      <td>NaN</td>\n",
       "      <td>Санкт-Петербург</td>\n",
       "      <td>18863.0</td>\n",
       "      <td>16028.0</td>\n",
       "      <td>1.0</td>\n",
       "      <td>482.0</td>\n",
       "      <td>2.0</td>\n",
       "      <td>755.0</td>\n",
       "      <td>NaN</td>\n",
       "    </tr>\n",
       "    <tr>\n",
       "      <td>1</td>\n",
       "      <td>7</td>\n",
       "      <td>3350000.0</td>\n",
       "      <td>40.4</td>\n",
       "      <td>2018-12-04T00:00:00</td>\n",
       "      <td>1</td>\n",
       "      <td>NaN</td>\n",
       "      <td>11.0</td>\n",
       "      <td>18.6</td>\n",
       "      <td>1</td>\n",
       "      <td>NaN</td>\n",
       "      <td>...</td>\n",
       "      <td>11.0</td>\n",
       "      <td>2.0</td>\n",
       "      <td>посёлок Шушары</td>\n",
       "      <td>12817.0</td>\n",
       "      <td>18603.0</td>\n",
       "      <td>0.0</td>\n",
       "      <td>NaN</td>\n",
       "      <td>0.0</td>\n",
       "      <td>NaN</td>\n",
       "      <td>81.0</td>\n",
       "    </tr>\n",
       "    <tr>\n",
       "      <td>2</td>\n",
       "      <td>10</td>\n",
       "      <td>5196000.0</td>\n",
       "      <td>56.0</td>\n",
       "      <td>2015-08-20T00:00:00</td>\n",
       "      <td>2</td>\n",
       "      <td>NaN</td>\n",
       "      <td>5.0</td>\n",
       "      <td>34.3</td>\n",
       "      <td>4</td>\n",
       "      <td>NaN</td>\n",
       "      <td>...</td>\n",
       "      <td>8.3</td>\n",
       "      <td>0.0</td>\n",
       "      <td>Санкт-Петербург</td>\n",
       "      <td>21741.0</td>\n",
       "      <td>13933.0</td>\n",
       "      <td>1.0</td>\n",
       "      <td>90.0</td>\n",
       "      <td>2.0</td>\n",
       "      <td>574.0</td>\n",
       "      <td>558.0</td>\n",
       "    </tr>\n",
       "    <tr>\n",
       "      <td>3</td>\n",
       "      <td>0</td>\n",
       "      <td>64900000.0</td>\n",
       "      <td>159.0</td>\n",
       "      <td>2015-07-24T00:00:00</td>\n",
       "      <td>3</td>\n",
       "      <td>NaN</td>\n",
       "      <td>14.0</td>\n",
       "      <td>NaN</td>\n",
       "      <td>9</td>\n",
       "      <td>NaN</td>\n",
       "      <td>...</td>\n",
       "      <td>NaN</td>\n",
       "      <td>0.0</td>\n",
       "      <td>Санкт-Петербург</td>\n",
       "      <td>28098.0</td>\n",
       "      <td>6800.0</td>\n",
       "      <td>2.0</td>\n",
       "      <td>84.0</td>\n",
       "      <td>3.0</td>\n",
       "      <td>234.0</td>\n",
       "      <td>424.0</td>\n",
       "    </tr>\n",
       "    <tr>\n",
       "      <td>4</td>\n",
       "      <td>2</td>\n",
       "      <td>10000000.0</td>\n",
       "      <td>100.0</td>\n",
       "      <td>2018-06-19T00:00:00</td>\n",
       "      <td>2</td>\n",
       "      <td>3.03</td>\n",
       "      <td>14.0</td>\n",
       "      <td>32.0</td>\n",
       "      <td>13</td>\n",
       "      <td>NaN</td>\n",
       "      <td>...</td>\n",
       "      <td>41.0</td>\n",
       "      <td>NaN</td>\n",
       "      <td>Санкт-Петербург</td>\n",
       "      <td>31856.0</td>\n",
       "      <td>8098.0</td>\n",
       "      <td>2.0</td>\n",
       "      <td>112.0</td>\n",
       "      <td>1.0</td>\n",
       "      <td>48.0</td>\n",
       "      <td>121.0</td>\n",
       "    </tr>\n",
       "  </tbody>\n",
       "</table>\n",
       "<p>5 rows × 22 columns</p>\n",
       "</div>"
      ],
      "text/plain": [
       "   total_images  last_price  total_area first_day_exposition  rooms  \\\n",
       "0            20  13000000.0       108.0  2019-03-07T00:00:00      3   \n",
       "1             7   3350000.0        40.4  2018-12-04T00:00:00      1   \n",
       "2            10   5196000.0        56.0  2015-08-20T00:00:00      2   \n",
       "3             0  64900000.0       159.0  2015-07-24T00:00:00      3   \n",
       "4             2  10000000.0       100.0  2018-06-19T00:00:00      2   \n",
       "\n",
       "   ceiling_height  floors_total  living_area  floor is_apartment  ...  \\\n",
       "0            2.70          16.0         51.0      8          NaN  ...   \n",
       "1             NaN          11.0         18.6      1          NaN  ...   \n",
       "2             NaN           5.0         34.3      4          NaN  ...   \n",
       "3             NaN          14.0          NaN      9          NaN  ...   \n",
       "4            3.03          14.0         32.0     13          NaN  ...   \n",
       "\n",
       "   kitchen_area  balcony    locality_name  airports_nearest  \\\n",
       "0          25.0      NaN  Санкт-Петербург           18863.0   \n",
       "1          11.0      2.0   посёлок Шушары           12817.0   \n",
       "2           8.3      0.0  Санкт-Петербург           21741.0   \n",
       "3           NaN      0.0  Санкт-Петербург           28098.0   \n",
       "4          41.0      NaN  Санкт-Петербург           31856.0   \n",
       "\n",
       "  cityCenters_nearest  parks_around3000  parks_nearest  ponds_around3000  \\\n",
       "0             16028.0               1.0          482.0               2.0   \n",
       "1             18603.0               0.0            NaN               0.0   \n",
       "2             13933.0               1.0           90.0               2.0   \n",
       "3              6800.0               2.0           84.0               3.0   \n",
       "4              8098.0               2.0          112.0               1.0   \n",
       "\n",
       "   ponds_nearest  days_exposition  \n",
       "0          755.0              NaN  \n",
       "1            NaN             81.0  \n",
       "2          574.0            558.0  \n",
       "3          234.0            424.0  \n",
       "4           48.0            121.0  \n",
       "\n",
       "[5 rows x 22 columns]"
      ]
     },
     "execution_count": 4,
     "metadata": {},
     "output_type": "execute_result"
    }
   ],
   "source": [
    "data.head(5)"
   ]
  },
  {
   "cell_type": "code",
   "execution_count": 5,
   "metadata": {
    "scrolled": true
   },
   "outputs": [
    {
     "name": "stdout",
     "output_type": "stream",
     "text": [
      "<class 'pandas.core.frame.DataFrame'>\n",
      "RangeIndex: 23699 entries, 0 to 23698\n",
      "Data columns (total 22 columns):\n",
      "total_images            23699 non-null int64\n",
      "last_price              23699 non-null float64\n",
      "total_area              23699 non-null float64\n",
      "first_day_exposition    23699 non-null object\n",
      "rooms                   23699 non-null int64\n",
      "ceiling_height          14504 non-null float64\n",
      "floors_total            23613 non-null float64\n",
      "living_area             21796 non-null float64\n",
      "floor                   23699 non-null int64\n",
      "is_apartment            2775 non-null object\n",
      "studio                  23699 non-null bool\n",
      "open_plan               23699 non-null bool\n",
      "kitchen_area            21421 non-null float64\n",
      "balcony                 12180 non-null float64\n",
      "locality_name           23650 non-null object\n",
      "airports_nearest        18157 non-null float64\n",
      "cityCenters_nearest     18180 non-null float64\n",
      "parks_around3000        18181 non-null float64\n",
      "parks_nearest           8079 non-null float64\n",
      "ponds_around3000        18181 non-null float64\n",
      "ponds_nearest           9110 non-null float64\n",
      "days_exposition         20518 non-null float64\n",
      "dtypes: bool(2), float64(14), int64(3), object(3)\n",
      "memory usage: 3.7+ MB\n"
     ]
    }
   ],
   "source": [
    "data.info() #смотрим распределение типов данных в таблице"
   ]
  },
  {
   "cell_type": "code",
   "execution_count": 6,
   "metadata": {
    "scrolled": true
   },
   "outputs": [
    {
     "data": {
      "text/html": [
       "<div>\n",
       "<style scoped>\n",
       "    .dataframe tbody tr th:only-of-type {\n",
       "        vertical-align: middle;\n",
       "    }\n",
       "\n",
       "    .dataframe tbody tr th {\n",
       "        vertical-align: top;\n",
       "    }\n",
       "\n",
       "    .dataframe thead th {\n",
       "        text-align: right;\n",
       "    }\n",
       "</style>\n",
       "<table border=\"1\" class=\"dataframe\">\n",
       "  <thead>\n",
       "    <tr style=\"text-align: right;\">\n",
       "      <th></th>\n",
       "      <th>count</th>\n",
       "      <th>mean</th>\n",
       "      <th>std</th>\n",
       "      <th>min</th>\n",
       "      <th>25%</th>\n",
       "      <th>50%</th>\n",
       "      <th>75%</th>\n",
       "      <th>max</th>\n",
       "    </tr>\n",
       "  </thead>\n",
       "  <tbody>\n",
       "    <tr>\n",
       "      <td>total_images</td>\n",
       "      <td>23699.0</td>\n",
       "      <td>9.858475e+00</td>\n",
       "      <td>5.682529e+00</td>\n",
       "      <td>0.0</td>\n",
       "      <td>6.00</td>\n",
       "      <td>9.00</td>\n",
       "      <td>14.0</td>\n",
       "      <td>50.0</td>\n",
       "    </tr>\n",
       "    <tr>\n",
       "      <td>last_price</td>\n",
       "      <td>23699.0</td>\n",
       "      <td>6.541549e+06</td>\n",
       "      <td>1.088701e+07</td>\n",
       "      <td>12190.0</td>\n",
       "      <td>3400000.00</td>\n",
       "      <td>4650000.00</td>\n",
       "      <td>6800000.0</td>\n",
       "      <td>763000000.0</td>\n",
       "    </tr>\n",
       "    <tr>\n",
       "      <td>total_area</td>\n",
       "      <td>23699.0</td>\n",
       "      <td>6.034865e+01</td>\n",
       "      <td>3.565408e+01</td>\n",
       "      <td>12.0</td>\n",
       "      <td>40.00</td>\n",
       "      <td>52.00</td>\n",
       "      <td>69.9</td>\n",
       "      <td>900.0</td>\n",
       "    </tr>\n",
       "    <tr>\n",
       "      <td>rooms</td>\n",
       "      <td>23699.0</td>\n",
       "      <td>2.070636e+00</td>\n",
       "      <td>1.078405e+00</td>\n",
       "      <td>0.0</td>\n",
       "      <td>1.00</td>\n",
       "      <td>2.00</td>\n",
       "      <td>3.0</td>\n",
       "      <td>19.0</td>\n",
       "    </tr>\n",
       "    <tr>\n",
       "      <td>ceiling_height</td>\n",
       "      <td>14504.0</td>\n",
       "      <td>2.771499e+00</td>\n",
       "      <td>1.261056e+00</td>\n",
       "      <td>1.0</td>\n",
       "      <td>2.52</td>\n",
       "      <td>2.65</td>\n",
       "      <td>2.8</td>\n",
       "      <td>100.0</td>\n",
       "    </tr>\n",
       "    <tr>\n",
       "      <td>floors_total</td>\n",
       "      <td>23613.0</td>\n",
       "      <td>1.067382e+01</td>\n",
       "      <td>6.597173e+00</td>\n",
       "      <td>1.0</td>\n",
       "      <td>5.00</td>\n",
       "      <td>9.00</td>\n",
       "      <td>16.0</td>\n",
       "      <td>60.0</td>\n",
       "    </tr>\n",
       "    <tr>\n",
       "      <td>living_area</td>\n",
       "      <td>21796.0</td>\n",
       "      <td>3.445785e+01</td>\n",
       "      <td>2.203045e+01</td>\n",
       "      <td>2.0</td>\n",
       "      <td>18.60</td>\n",
       "      <td>30.00</td>\n",
       "      <td>42.3</td>\n",
       "      <td>409.7</td>\n",
       "    </tr>\n",
       "    <tr>\n",
       "      <td>floor</td>\n",
       "      <td>23699.0</td>\n",
       "      <td>5.892358e+00</td>\n",
       "      <td>4.885249e+00</td>\n",
       "      <td>1.0</td>\n",
       "      <td>2.00</td>\n",
       "      <td>4.00</td>\n",
       "      <td>8.0</td>\n",
       "      <td>33.0</td>\n",
       "    </tr>\n",
       "    <tr>\n",
       "      <td>kitchen_area</td>\n",
       "      <td>21421.0</td>\n",
       "      <td>1.056981e+01</td>\n",
       "      <td>5.905438e+00</td>\n",
       "      <td>1.3</td>\n",
       "      <td>7.00</td>\n",
       "      <td>9.10</td>\n",
       "      <td>12.0</td>\n",
       "      <td>112.0</td>\n",
       "    </tr>\n",
       "    <tr>\n",
       "      <td>balcony</td>\n",
       "      <td>12180.0</td>\n",
       "      <td>1.150082e+00</td>\n",
       "      <td>1.071300e+00</td>\n",
       "      <td>0.0</td>\n",
       "      <td>0.00</td>\n",
       "      <td>1.00</td>\n",
       "      <td>2.0</td>\n",
       "      <td>5.0</td>\n",
       "    </tr>\n",
       "    <tr>\n",
       "      <td>airports_nearest</td>\n",
       "      <td>18157.0</td>\n",
       "      <td>2.879367e+04</td>\n",
       "      <td>1.263088e+04</td>\n",
       "      <td>0.0</td>\n",
       "      <td>18585.00</td>\n",
       "      <td>26726.00</td>\n",
       "      <td>37273.0</td>\n",
       "      <td>84869.0</td>\n",
       "    </tr>\n",
       "    <tr>\n",
       "      <td>cityCenters_nearest</td>\n",
       "      <td>18180.0</td>\n",
       "      <td>1.419128e+04</td>\n",
       "      <td>8.608386e+03</td>\n",
       "      <td>181.0</td>\n",
       "      <td>9238.00</td>\n",
       "      <td>13098.50</td>\n",
       "      <td>16293.0</td>\n",
       "      <td>65968.0</td>\n",
       "    </tr>\n",
       "    <tr>\n",
       "      <td>parks_around3000</td>\n",
       "      <td>18181.0</td>\n",
       "      <td>6.114075e-01</td>\n",
       "      <td>8.020736e-01</td>\n",
       "      <td>0.0</td>\n",
       "      <td>0.00</td>\n",
       "      <td>0.00</td>\n",
       "      <td>1.0</td>\n",
       "      <td>3.0</td>\n",
       "    </tr>\n",
       "    <tr>\n",
       "      <td>parks_nearest</td>\n",
       "      <td>8079.0</td>\n",
       "      <td>4.908046e+02</td>\n",
       "      <td>3.423180e+02</td>\n",
       "      <td>1.0</td>\n",
       "      <td>288.00</td>\n",
       "      <td>455.00</td>\n",
       "      <td>612.0</td>\n",
       "      <td>3190.0</td>\n",
       "    </tr>\n",
       "    <tr>\n",
       "      <td>ponds_around3000</td>\n",
       "      <td>18181.0</td>\n",
       "      <td>7.702547e-01</td>\n",
       "      <td>9.383456e-01</td>\n",
       "      <td>0.0</td>\n",
       "      <td>0.00</td>\n",
       "      <td>1.00</td>\n",
       "      <td>1.0</td>\n",
       "      <td>3.0</td>\n",
       "    </tr>\n",
       "    <tr>\n",
       "      <td>ponds_nearest</td>\n",
       "      <td>9110.0</td>\n",
       "      <td>5.179809e+02</td>\n",
       "      <td>2.777206e+02</td>\n",
       "      <td>13.0</td>\n",
       "      <td>294.00</td>\n",
       "      <td>502.00</td>\n",
       "      <td>729.0</td>\n",
       "      <td>1344.0</td>\n",
       "    </tr>\n",
       "    <tr>\n",
       "      <td>days_exposition</td>\n",
       "      <td>20518.0</td>\n",
       "      <td>1.808886e+02</td>\n",
       "      <td>2.197280e+02</td>\n",
       "      <td>1.0</td>\n",
       "      <td>45.00</td>\n",
       "      <td>95.00</td>\n",
       "      <td>232.0</td>\n",
       "      <td>1580.0</td>\n",
       "    </tr>\n",
       "  </tbody>\n",
       "</table>\n",
       "</div>"
      ],
      "text/plain": [
       "                       count          mean           std      min         25%  \\\n",
       "total_images         23699.0  9.858475e+00  5.682529e+00      0.0        6.00   \n",
       "last_price           23699.0  6.541549e+06  1.088701e+07  12190.0  3400000.00   \n",
       "total_area           23699.0  6.034865e+01  3.565408e+01     12.0       40.00   \n",
       "rooms                23699.0  2.070636e+00  1.078405e+00      0.0        1.00   \n",
       "ceiling_height       14504.0  2.771499e+00  1.261056e+00      1.0        2.52   \n",
       "floors_total         23613.0  1.067382e+01  6.597173e+00      1.0        5.00   \n",
       "living_area          21796.0  3.445785e+01  2.203045e+01      2.0       18.60   \n",
       "floor                23699.0  5.892358e+00  4.885249e+00      1.0        2.00   \n",
       "kitchen_area         21421.0  1.056981e+01  5.905438e+00      1.3        7.00   \n",
       "balcony              12180.0  1.150082e+00  1.071300e+00      0.0        0.00   \n",
       "airports_nearest     18157.0  2.879367e+04  1.263088e+04      0.0    18585.00   \n",
       "cityCenters_nearest  18180.0  1.419128e+04  8.608386e+03    181.0     9238.00   \n",
       "parks_around3000     18181.0  6.114075e-01  8.020736e-01      0.0        0.00   \n",
       "parks_nearest         8079.0  4.908046e+02  3.423180e+02      1.0      288.00   \n",
       "ponds_around3000     18181.0  7.702547e-01  9.383456e-01      0.0        0.00   \n",
       "ponds_nearest         9110.0  5.179809e+02  2.777206e+02     13.0      294.00   \n",
       "days_exposition      20518.0  1.808886e+02  2.197280e+02      1.0       45.00   \n",
       "\n",
       "                            50%        75%          max  \n",
       "total_images               9.00       14.0         50.0  \n",
       "last_price           4650000.00  6800000.0  763000000.0  \n",
       "total_area                52.00       69.9        900.0  \n",
       "rooms                      2.00        3.0         19.0  \n",
       "ceiling_height             2.65        2.8        100.0  \n",
       "floors_total               9.00       16.0         60.0  \n",
       "living_area               30.00       42.3        409.7  \n",
       "floor                      4.00        8.0         33.0  \n",
       "kitchen_area               9.10       12.0        112.0  \n",
       "balcony                    1.00        2.0          5.0  \n",
       "airports_nearest       26726.00    37273.0      84869.0  \n",
       "cityCenters_nearest    13098.50    16293.0      65968.0  \n",
       "parks_around3000           0.00        1.0          3.0  \n",
       "parks_nearest            455.00      612.0       3190.0  \n",
       "ponds_around3000           1.00        1.0          3.0  \n",
       "ponds_nearest            502.00      729.0       1344.0  \n",
       "days_exposition           95.00      232.0       1580.0  "
      ]
     },
     "execution_count": 6,
     "metadata": {},
     "output_type": "execute_result"
    }
   ],
   "source": [
    "data.describe().T #смотрим список характерных значений"
   ]
  },
  {
   "cell_type": "code",
   "execution_count": 7,
   "metadata": {},
   "outputs": [
    {
     "data": {
      "text/plain": [
       "1     8047\n",
       "2     7940\n",
       "3     5814\n",
       "4     1180\n",
       "5      326\n",
       "0      197\n",
       "6      105\n",
       "7       59\n",
       "8       12\n",
       "9        8\n",
       "10       3\n",
       "14       2\n",
       "11       2\n",
       "19       1\n",
       "12       1\n",
       "16       1\n",
       "15       1\n",
       "Name: rooms, dtype: int64"
      ]
     },
     "execution_count": 7,
     "metadata": {},
     "output_type": "execute_result"
    }
   ],
   "source": [
    "data['rooms'].value_counts() #проверяем количество значений комнат = 0"
   ]
  },
  {
   "cell_type": "code",
   "execution_count": 8,
   "metadata": {},
   "outputs": [
    {
     "data": {
      "text/plain": [
       "False    2725\n",
       "True       50\n",
       "Name: is_apartment, dtype: int64"
      ]
     },
     "execution_count": 8,
     "metadata": {},
     "output_type": "execute_result"
    }
   ],
   "source": [
    "data['is_apartment'].value_counts() #считаем количество уникальных значений по аппартаментам"
   ]
  },
  {
   "cell_type": "markdown",
   "metadata": {},
   "source": [
    "### Вывод"
   ]
  },
  {
   "cell_type": "markdown",
   "metadata": {},
   "source": [
    "- имеются пропуски в данных в столбцах ceiling_height (высота потолков), floors_total (этажность), living_area (жилая площадь), is_apartment (аппартаменты), kitchen_area (площадь кухни), balcony (наличие балкона), locality_name (населенный пункт), airports_nearest (расстояние до аэропорта), cityCenters_nearest (расстояние до центра), parks_around3000 (число парков в радиусе 3км), parks_nearest (расстояние до ближайшего парка), ponds_around3000 (водоемы в радиусе 3 км), ponds_nearest (расстояние до ближайшего водоема), days_exposition (сколько дней было размещено объявление)\n",
    "- в столбце is_apartment перемешаны различные типы данных, необходимо превести их к одному формату\n",
    "- минимальная цена указана в 12190 рублей, возможны ошибки в данных, необходимо проверить на достоверность\n",
    "- имеется 197 объектов с количеством комнат 0, необходимо проверить на достоверность\n",
    "- минимальная высота потолков указана в 1 метр, а максимальная 100м - явная ошибка в данных\n",
    "- минимальная площадь кухни 1,3м, скорей всего ошибка в данных\n",
    "- минимальное расстояние до аэропорта 0м, явная ошибка в данных\n",
    "- мимнимальное время размещения объявления 1 день, максимальное больше 4 лет, необходимо проверить распределение данных на выбросы\n",
    "- в графе аппартаменты очень много пропусков, заполнено менее 12% строк, а положительное значение имеют менее 2% из заполненных, из-за малого количества информации по данному параметру будем исключать его влияняние на нашу выборку"
   ]
  },
  {
   "cell_type": "markdown",
   "metadata": {},
   "source": [
    "## Предобработка данных"
   ]
  },
  {
   "cell_type": "markdown",
   "metadata": {},
   "source": [
    "### Избавляемся от пропусков и некорретных значений"
   ]
  },
  {
   "cell_type": "markdown",
   "metadata": {},
   "source": [
    "#### Высота потолков"
   ]
  },
  {
   "cell_type": "code",
   "execution_count": 9,
   "metadata": {},
   "outputs": [
    {
     "name": "stdout",
     "output_type": "stream",
     "text": [
      "[  2.7     nan   3.03   2.5    2.67   2.56   3.05   2.75   2.6    2.9\n",
      "   2.8    2.55   3.     2.65   3.2    2.61   3.25   3.45   2.77   2.85\n",
      "   2.64   2.57   4.15   3.5    3.3    2.71   4.     2.47   2.73   2.84\n",
      "   3.1    2.34   3.4    3.06   2.72   2.54   2.51   2.78   2.76  25.\n",
      "   2.58   3.7    2.52   5.2    2.87   2.66   2.59   2.     2.45   3.6\n",
      "   2.92   3.11   3.13   3.8    3.15   3.55   3.16   3.62   3.12   2.53\n",
      "   2.74   2.96   2.46   5.3    5.     2.79   2.95   4.06   2.94   3.82\n",
      "   3.54   3.53   2.83   4.7    2.4    3.38   3.01   5.6    3.65   3.9\n",
      "   3.18   3.35   2.3    3.57   2.48   2.62   2.82   3.98   2.63   3.83\n",
      "   3.52   3.95   3.75   2.88   3.67   3.87   3.66   3.85   3.86   4.19\n",
      "   3.24   4.8    4.5    4.2    3.36  32.     3.08   3.68   3.07   3.37\n",
      "   3.09   8.     3.26   3.34   2.81   3.44   2.97   3.14   4.37   2.68\n",
      "   3.22   3.27  27.     4.1    2.93   3.46  24.     3.47   3.33   3.63\n",
      "   3.32  26.     1.2    8.3    2.98   2.86   3.17   4.4    3.28   3.04\n",
      "   4.45   5.5    3.84   3.23   3.02   3.21   3.43   3.78   4.3    3.39\n",
      "   2.69   3.31   4.65   3.56   2.2    3.51   3.93   3.42   2.99   3.49\n",
      "  14.     4.14   2.91   3.88   1.75   4.25   3.29  20.     2.25   3.76\n",
      "   3.69   6.    22.6    2.89   3.58   5.8   27.5    2.49   4.9    3.48\n",
      "  10.3    1.   100.     3.59]\n"
     ]
    },
    {
     "data": {
      "text/plain": [
       "<matplotlib.axes._subplots.AxesSubplot at 0x7f26827e7650>"
      ]
     },
     "execution_count": 9,
     "metadata": {},
     "output_type": "execute_result"
    },
    {
     "data": {
      "image/png": "[encoded data removed]",
      "text/plain": [
       "<Figure size 432x288 with 1 Axes>"
      ]
     },
     "metadata": {
      "needs_background": "light"
     },
     "output_type": "display_data"
    }
   ],
   "source": [
    "print(df['ceiling_height'].unique())\n",
    "df['ceiling_height'].hist(bins=15, range = (1, 4))"
   ]
  },
  {
   "cell_type": "markdown",
   "metadata": {},
   "source": [
    "После анализа данных по высоте потолков, выявляем выбросы данных в диапазонах <2,5 и >3,2м. <br/>\n",
    "Высота потолков в жилых домах различной планировки и года постройки колеблиться от 2,48 ('хрущевки') до 3,2 ('сталинки')\n",
    "Однако в домах дореволюционной постройки в Санкт-Петербурге встречаются потолки высотой до 4,5м\n",
    "Таким образом сократим нашу выборку до диапазона >2,48 и <4,5м\n",
    "Таким образом отнесем к некорректным данным следующие величины по высотам:<br/>\n",
    "nan, 25, 5.2, 2.0, 5.3, 5.0, 32.0, 8.0, 27.0, 26.0, 24.0, 8.3, 14.0, 20.0, 6.0, 22.6, 5.8, 27.5, 10.3, 1.0, 100 <br/>\n",
    "- явно в данных >20.0 ошибка при внесении высоты, сдвиг на один порядок\n",
    "- в иных случаях нет возможности выявить причину возникновения ошибки либо выброса данных,<br/>\n",
    "в связи с тем что данное количество значений в выборке невелико<br/>\n",
    "приведем их к медианному значению "
   ]
  },
  {
   "cell_type": "code",
   "execution_count": 10,
   "metadata": {},
   "outputs": [],
   "source": [
    "height_median=df['ceiling_height'].median()\n",
    "\n",
    "df['ceiling_height']=df['ceiling_height'].fillna(height_median) #убираем пропуски\n",
    "\n",
    "for i in df['ceiling_height']:\n",
    "    if i<2.48 or (i>4.5 and i<=20) or i==100:                              #заменяем выбросы на медиану\n",
    "        df['ceiling_height'].replace(i, height_median, inplace=True)\n",
    "    elif i>20 and i<100:                                                  #исправляем ошибки вноса данных\n",
    "        df['ceiling_height'].replace(i, i/10, inplace=True)       "
   ]
  },
  {
   "cell_type": "markdown",
   "metadata": {},
   "source": [
    "#### Этажность дома"
   ]
  },
  {
   "cell_type": "code",
   "execution_count": 11,
   "metadata": {},
   "outputs": [
    {
     "name": "stdout",
     "output_type": "stream",
     "text": [
      "[16. 11.  5. 14. 12. 26. 24. 27.  9.  6. 17. 25.  3. 23. 19. 18.  4. 22.\n",
      "  8.  2. 10.  7. 13. 15. nan 20. 28. 36. 21. 35. 34. 60.  1. 29. 33. 52.\n",
      " 37.]\n"
     ]
    },
    {
     "data": {
      "text/plain": [
       "5.0     5788\n",
       "9.0     3761\n",
       "16.0    1376\n",
       "12.0    1362\n",
       "4.0     1200\n",
       "10.0    1174\n",
       "25.0    1075\n",
       "6.0      914\n",
       "17.0     833\n",
       "3.0      668\n",
       "7.0      592\n",
       "14.0     553\n",
       "18.0     505\n",
       "24.0     469\n",
       "8.0      390\n",
       "2.0      383\n",
       "15.0     365\n",
       "23.0     352\n",
       "19.0     339\n",
       "22.0     286\n",
       "20.0     271\n",
       "13.0     229\n",
       "11.0     203\n",
       "27.0     164\n",
       "21.0     158\n",
       "26.0     124\n",
       "1.0       25\n",
       "35.0      24\n",
       "28.0      21\n",
       "36.0       3\n",
       "29.0       1\n",
       "60.0       1\n",
       "33.0       1\n",
       "52.0       1\n",
       "37.0       1\n",
       "34.0       1\n",
       "Name: floors_total, dtype: int64"
      ]
     },
     "execution_count": 11,
     "metadata": {},
     "output_type": "execute_result"
    }
   ],
   "source": [
    "print(df['floors_total'].unique())\n",
    "df['floors_total'].value_counts()"
   ]
  },
  {
   "cell_type": "markdown",
   "metadata": {},
   "source": [
    "Имеется 86 пропусков в данных. В связи с тем что кол-во их не превышает 0,3% от общей выборки, приведем их к медианному значению.<br/>\n",
    "Согласно <code>[Википедии](https://ru.wikipedia.org/wiki/%D0%A1%D0%BF%D0%B8%D1%81%D0%BE%D0%BA_%D1%81%D0%B0%D0%BC%D1%8B%D1%85_%D0%B2%D1%8B%D1%81%D0%BE%D0%BA%D0%B8%D1%85_%D0%B7%D0%B4%D0%B0%D0%BD%D0%B8%D0%B9_%D0%A1%D0%B0%D0%BD%D0%BA%D1%82-%D0%9F%D0%B5%D1%82%D0%B5%D1%80%D0%B1%D1%83%D1%80%D0%B3%D0%B0)</code> в Санк-Петербурге отсутстуют здания со следуюшей этажностью:<br/>\n",
    "36, 35, 34, 33, 60, 52<br/>\n",
    "Таких значений всего 31, что не повлияет на выборку.<br/>\n",
    "Так как все \"нереальные\" значения описывают высотные дома, приведем их к условному значению в 35 этажей."
   ]
  },
  {
   "cell_type": "code",
   "execution_count": 12,
   "metadata": {},
   "outputs": [
    {
     "name": "stdout",
     "output_type": "stream",
     "text": [
      "[16. 11.  5. 14. 12. 26. 24. 27.  9.  6. 17. 25.  3. 23. 19. 18.  4. 22.\n",
      "  8.  2. 10.  7. 13. 15. 20. 28. 35. 21. 34.  1. 29. 33. 37.]\n"
     ]
    }
   ],
   "source": [
    "floors_total_median=df['floors_total'].median()\n",
    "df['floors_total']=df['floors_total'].fillna(floors_total_median) #убираем пропуски\n",
    "\n",
    "for i in df['floors_total']:\n",
    "    if i>35 and i !=37:                                           #заменяем выбросы на значение 35\n",
    "        df['floors_total'].replace(i, 35, inplace=True)\n",
    "print(df['floors_total'].unique())"
   ]
  },
  {
   "cell_type": "markdown",
   "metadata": {},
   "source": [
    "#### Жилая площадь"
   ]
  },
  {
   "cell_type": "code",
   "execution_count": 13,
   "metadata": {},
   "outputs": [
    {
     "data": {
      "text/plain": [
       "<matplotlib.axes._subplots.AxesSubplot at 0x7f2679995ad0>"
      ]
     },
     "execution_count": 13,
     "metadata": {},
     "output_type": "execute_result"
    },
    {
     "data": {
      "image/png": "[encoded data removed]",
      "text/plain": [
       "<Figure size 432x288 with 1 Axes>"
      ]
     },
     "metadata": {
      "needs_background": "light"
     },
     "output_type": "display_data"
    }
   ],
   "source": [
    "df.plot(x='living_area', y='total_area', kind='scatter')"
   ]
  },
  {
   "cell_type": "markdown",
   "metadata": {},
   "source": [
    "- в данных о жилой площади много пропущенных значений, около 9%\n",
    "- однако в данных об общей площади пропусков нет, заменим пропущенные данные на соотношение медианной жилой площади  (30м) к медианной общей (52м)\n",
    "- берем медианный данные, а не средние - по причине высокого стандартного отклонения в данных показателях\n",
    "- в данных имеются значения с очень маленькими жилыми площадями, минимальная общая площадь составляет 12 м, заменим все данные с жилой площадью менее 12м на их общую площадь"
   ]
  },
  {
   "cell_type": "code",
   "execution_count": 14,
   "metadata": {},
   "outputs": [],
   "source": [
    "living_total_median=df['living_area'].median()/df['total_area'].median()\n",
    "df['living_area']=df['living_area'].fillna(living_total_median*df['total_area']) #заменяем пропуски на коэффициент\n",
    "df.loc[df['living_area']<12, 'living_area'] = df['total_area']  #меняем все значения с жилой площадью <12 на общую площадь"
   ]
  },
  {
   "cell_type": "markdown",
   "metadata": {},
   "source": [
    "#### Аппартаменты"
   ]
  },
  {
   "cell_type": "code",
   "execution_count": 15,
   "metadata": {},
   "outputs": [
    {
     "name": "stdout",
     "output_type": "stream",
     "text": [
      "[nan False True]\n",
      "\n",
      "False    2725\n",
      "True       50\n",
      "Name: is_apartment, dtype: int64\n",
      "\n",
      "False    23550\n",
      "True       149\n",
      "Name: studio, dtype: int64\n",
      "\n"
     ]
    },
    {
     "data": {
      "text/plain": [
       "False    23632\n",
       "True        67\n",
       "Name: open_plan, dtype: int64"
      ]
     },
     "execution_count": 15,
     "metadata": {},
     "output_type": "execute_result"
    }
   ],
   "source": [
    "print(df['is_apartment'].unique())\n",
    "print()\n",
    "print(df['is_apartment'].value_counts())\n",
    "print()\n",
    "print(df['studio'].value_counts())\n",
    "print()\n",
    "df['open_plan'].value_counts()"
   ]
  },
  {
   "cell_type": "markdown",
   "metadata": {},
   "source": [
    "- заполненных данных по аппартаментам очень мало, чуть более 9%\n",
    "- однако столбцы \"студия\" и \"открытая планировка\" не имеют пропусков\n",
    "- при анализе данных выяснилось, что и студий и квартир с открытой планировкой в базе достаточно мало (менее 1% от всей выборки)\n",
    "- таким образом можем предположить, что все пропущенные данные в столбце 'аппартаменты' являются обычными квартирами\n",
    "- cледовательно заполним пропуски в данном столбце на переменную False"
   ]
  },
  {
   "cell_type": "code",
   "execution_count": 16,
   "metadata": {},
   "outputs": [],
   "source": [
    "df['is_apartment']=df['is_apartment'].fillna(False) #запоняем пропуски, и меняем тип переменной на bool"
   ]
  },
  {
   "cell_type": "markdown",
   "metadata": {},
   "source": [
    "#### Площадь кухни"
   ]
  },
  {
   "cell_type": "code",
   "execution_count": 17,
   "metadata": {
    "scrolled": false
   },
   "outputs": [
    {
     "data": {
      "text/html": [
       "<div>\n",
       "<style scoped>\n",
       "    .dataframe tbody tr th:only-of-type {\n",
       "        vertical-align: middle;\n",
       "    }\n",
       "\n",
       "    .dataframe tbody tr th {\n",
       "        vertical-align: top;\n",
       "    }\n",
       "\n",
       "    .dataframe thead th {\n",
       "        text-align: right;\n",
       "    }\n",
       "</style>\n",
       "<table border=\"1\" class=\"dataframe\">\n",
       "  <thead>\n",
       "    <tr style=\"text-align: right;\">\n",
       "      <th></th>\n",
       "      <th>total_area</th>\n",
       "    </tr>\n",
       "    <tr>\n",
       "      <th>kitchen_area</th>\n",
       "      <th></th>\n",
       "    </tr>\n",
       "  </thead>\n",
       "  <tbody>\n",
       "    <tr>\n",
       "      <td>1.30</td>\n",
       "      <td>28.500000</td>\n",
       "    </tr>\n",
       "    <tr>\n",
       "      <td>2.00</td>\n",
       "      <td>23.712857</td>\n",
       "    </tr>\n",
       "    <tr>\n",
       "      <td>2.30</td>\n",
       "      <td>34.700000</td>\n",
       "    </tr>\n",
       "    <tr>\n",
       "      <td>2.40</td>\n",
       "      <td>18.400000</td>\n",
       "    </tr>\n",
       "    <tr>\n",
       "      <td>2.89</td>\n",
       "      <td>66.400000</td>\n",
       "    </tr>\n",
       "    <tr>\n",
       "      <td>3.00</td>\n",
       "      <td>23.827143</td>\n",
       "    </tr>\n",
       "    <tr>\n",
       "      <td>3.20</td>\n",
       "      <td>43.000000</td>\n",
       "    </tr>\n",
       "    <tr>\n",
       "      <td>3.30</td>\n",
       "      <td>45.000000</td>\n",
       "    </tr>\n",
       "    <tr>\n",
       "      <td>3.40</td>\n",
       "      <td>44.400000</td>\n",
       "    </tr>\n",
       "    <tr>\n",
       "      <td>3.50</td>\n",
       "      <td>46.300000</td>\n",
       "    </tr>\n",
       "  </tbody>\n",
       "</table>\n",
       "</div>"
      ],
      "text/plain": [
       "              total_area\n",
       "kitchen_area            \n",
       "1.30           28.500000\n",
       "2.00           23.712857\n",
       "2.30           34.700000\n",
       "2.40           18.400000\n",
       "2.89           66.400000\n",
       "3.00           23.827143\n",
       "3.20           43.000000\n",
       "3.30           45.000000\n",
       "3.40           44.400000\n",
       "3.50           46.300000"
      ]
     },
     "execution_count": 17,
     "metadata": {},
     "output_type": "execute_result"
    },
    {
     "data": {
      "image/png": "[encoded data removed]",
      "text/plain": [
       "<Figure size 432x288 with 1 Axes>"
      ]
     },
     "metadata": {
      "needs_background": "light"
     },
     "output_type": "display_data"
    },
    {
     "data": {
      "image/png": "[encoded data removed]",
      "text/plain": [
       "<Figure size 432x288 with 1 Axes>"
      ]
     },
     "metadata": {
      "needs_background": "light"
     },
     "output_type": "display_data"
    }
   ],
   "source": [
    "df['kitchen_area'].hist(bins=10, range=(1.3, 4.5))\n",
    "df.plot(x='kitchen_area', y='total_area', kind='scatter')\n",
    "kitchen_pivot=df.pivot_table(index=['kitchen_area'], values = 'total_area') #смотрим зависимость площади кухни от общей площади\n",
    "kitchen_pivot.head(10)"
   ]
  },
  {
   "cell_type": "markdown",
   "metadata": {},
   "source": [
    "- в столбце 'площадь кухни' отсутствует 10% данных\n",
    "- заполним их соотношением общей площади к медианной доли площади кухни в квартире\n",
    "- из анализа данных мы видим, что распределение маленьких кухонь, в большинстве своем не зависит от площади помещения\n",
    "- минимальная площадь кухонь в 'хрущевках' 4.5м, проанализаруем кол-во квартир с площадью кухни меньше этого значения\n",
    "- если данным количеством можно принебречь - приведем площади маленьких кухонь к 4,5м"
   ]
  },
  {
   "cell_type": "code",
   "execution_count": 18,
   "metadata": {},
   "outputs": [
    {
     "name": "stdout",
     "output_type": "stream",
     "text": [
      "Количеcтво квартир с кухнями <4,5м.кв. - 267 объектов недвижимости - 1.13% от общей выборки\n"
     ]
    }
   ],
   "source": [
    "kitchen_total_median=df['kitchen_area'].median()/df['total_area'].median()\n",
    "df['kitchen_area']=df['kitchen_area'].fillna(kitchen_total_median*df['total_area']) #заменяем пропуски на коэффициент\n",
    "\n",
    "# ищем долю маленьких кухонь\n",
    "kitchen_little = 0\n",
    "for i in df['kitchen_area']:\n",
    "    if i<4.5:\n",
    "        kitchen_little +=1\n",
    "print('Количеcтво квартир с кухнями <4,5м.кв. -', kitchen_little, 'объектов недвижимости -',\n",
    "      \"{0:.2f}% от общей выборки\".format(kitchen_little/len(df['kitchen_area'])*100))"
   ]
  },
  {
   "cell_type": "code",
   "execution_count": 19,
   "metadata": {},
   "outputs": [],
   "source": [
    "#меняем все значения кухонь <4,5м.кв. \n",
    "df.loc[df['kitchen_area']<4.5, 'kitchen_area'] = 4.5  "
   ]
  },
  {
   "cell_type": "markdown",
   "metadata": {},
   "source": [
    "#### Наличие балкона"
   ]
  },
  {
   "cell_type": "code",
   "execution_count": 20,
   "metadata": {},
   "outputs": [
    {
     "name": "stdout",
     "output_type": "stream",
     "text": [
      "Коэффициент корреляции Пирсона:\n"
     ]
    },
    {
     "data": {
      "text/plain": [
       "0.16877298407082728"
      ]
     },
     "execution_count": 20,
     "metadata": {},
     "output_type": "execute_result"
    },
    {
     "data": {
      "image/png": "[encoded data removed]",
      "text/plain": [
       "<Figure size 432x288 with 1 Axes>"
      ]
     },
     "metadata": {
      "needs_background": "light"
     },
     "output_type": "display_data"
    },
    {
     "data": {
      "image/png": "[encoded data removed]",
      "text/plain": [
       "<Figure size 432x288 with 1 Axes>"
      ]
     },
     "metadata": {
      "needs_background": "light"
     },
     "output_type": "display_data"
    }
   ],
   "source": [
    "df['balcony'].hist(bins=5)\n",
    "df.plot(x='floor', y='balcony', kind='scatter')\n",
    "print('Коэффициент корреляции Пирсона:')\n",
    "df['floor'].corr(df['balcony'])"
   ]
  },
  {
   "cell_type": "markdown",
   "metadata": {},
   "source": [
    "- как видно из графиков и коэффициента корреляции, наличие балкона не зависит от того на каком этаже находится квартира\n",
    "- таким образом мы можем предположить, что отсутствующие данные о наличии балконов, могут означть его физическое отсутствие\n",
    "- заполним отсутствующие данные 0"
   ]
  },
  {
   "cell_type": "code",
   "execution_count": 21,
   "metadata": {},
   "outputs": [],
   "source": [
    "df['balcony']=df['balcony'].fillna(0) #заполняем пропуски 0"
   ]
  },
  {
   "cell_type": "markdown",
   "metadata": {},
   "source": [
    "#### Населенный пункт"
   ]
  },
  {
   "cell_type": "code",
   "execution_count": 22,
   "metadata": {},
   "outputs": [
    {
     "data": {
      "text/plain": [
       "Counter({'Санкт-Петербург': 15721,\n",
       "         'посёлок Шушары': 440,\n",
       "         'городской посёлок Янино-1': 61,\n",
       "         'посёлок Парголово': 327,\n",
       "         'посёлок Мурино': 522,\n",
       "         'Ломоносов': 133,\n",
       "         'Сертолово': 142,\n",
       "         'Петергоф': 201,\n",
       "         'Пушкин': 369,\n",
       "         'деревня Кудрово': 299,\n",
       "         'Коммунар': 89,\n",
       "         'Колпино': 338,\n",
       "         'поселок городского типа Красный Бор': 5,\n",
       "         'Гатчина': 307,\n",
       "         'поселок Мурино': 34,\n",
       "         'деревня Фёдоровское': 8,\n",
       "         'Выборг': 237,\n",
       "         'Кронштадт': 96,\n",
       "         'Кировск': 84,\n",
       "         'деревня Новое Девяткино': 144,\n",
       "         'посёлок Металлострой': 66,\n",
       "         'посёлок городского типа Лебяжье': 11,\n",
       "         'посёлок городского типа Сиверский': 29,\n",
       "         'поселок Молодцово': 9,\n",
       "         'поселок городского типа Кузьмоловский': 13,\n",
       "         'садовое товарищество Новая Ропша': 1,\n",
       "         'Павловск': 38,\n",
       "         'деревня Пикколово': 1,\n",
       "         'Всеволожск': 398,\n",
       "         'Волхов': 111,\n",
       "         'Кингисепп': 104,\n",
       "         'Приозерск': 66,\n",
       "         'Сестрорецк': 183,\n",
       "         'деревня Куттузи': 7,\n",
       "         'посёлок Аннино': 11,\n",
       "         'поселок городского типа Ефимовский': 3,\n",
       "         'посёлок Плодовое': 5,\n",
       "         'деревня Заклинье': 3,\n",
       "         'поселок Торковичи': 3,\n",
       "         'поселок Первомайское': 8,\n",
       "         'Красное Село': 178,\n",
       "         'посёлок Понтонный': 20,\n",
       "         'Сясьстрой': 24,\n",
       "         'деревня Старая': 64,\n",
       "         'деревня Лесколово': 20,\n",
       "         'посёлок Новый Свет': 17,\n",
       "         'Сланцы': 112,\n",
       "         'село Путилово': 2,\n",
       "         'Ивангород': 28,\n",
       "         'Мурино': 34,\n",
       "         'Шлиссельбург': 57,\n",
       "         'Никольское': 93,\n",
       "         'Зеленогорск': 24,\n",
       "         'Сосновый Бор': 87,\n",
       "         'поселок Новый Свет': 5,\n",
       "         'деревня Оржицы': 9,\n",
       "         'деревня Кальтино': 7,\n",
       "         'Кудрово': 173,\n",
       "         'поселок Романовка': 36,\n",
       "         'посёлок Бугры': 69,\n",
       "         'поселок Бугры': 45,\n",
       "         'поселок городского типа Рощино': 19,\n",
       "         'Кириши': 125,\n",
       "         'Луга': 56,\n",
       "         'Волосово': 36,\n",
       "         'Отрадное': 80,\n",
       "         'село Павлово': 7,\n",
       "         'поселок Оредеж': 3,\n",
       "         'село Копорье': 5,\n",
       "         'посёлок городского типа Красный Бор': 3,\n",
       "         'посёлок Молодёжное': 5,\n",
       "         'Тихвин': 49,\n",
       "         'посёлок Победа': 3,\n",
       "         'деревня Нурма': 11,\n",
       "         'поселок городского типа Синявино': 21,\n",
       "         'Тосно': 104,\n",
       "         'посёлок городского типа Кузьмоловский': 22,\n",
       "         'посёлок Стрельна': 44,\n",
       "         'Бокситогорск': 16,\n",
       "         'посёлок Александровская': 2,\n",
       "         'деревня Лопухинка': 6,\n",
       "         'Пикалёво': 18,\n",
       "         'поселок Терволово': 2,\n",
       "         'поселок городского типа Советский': 9,\n",
       "         'Подпорожье': 19,\n",
       "         'посёлок Петровское': 3,\n",
       "         'посёлок городского типа Токсово': 16,\n",
       "         'поселок Сельцо': 9,\n",
       "         'посёлок городского типа Вырица': 10,\n",
       "         'деревня Кипень': 7,\n",
       "         'деревня Келози': 4,\n",
       "         'деревня Вартемяги': 20,\n",
       "         'посёлок Тельмана': 39,\n",
       "         'поселок Севастьяново': 1,\n",
       "         'городской поселок Большая Ижора': 16,\n",
       "         nan: 49,\n",
       "         'городской посёлок Павлово': 9,\n",
       "         'деревня Агалатово': 4,\n",
       "         'посёлок Новогорелово': 20,\n",
       "         'городской посёлок Лесогорский': 2,\n",
       "         'деревня Лаголово': 10,\n",
       "         'поселок Цвелодубово': 4,\n",
       "         'поселок городского типа Рахья': 15,\n",
       "         'поселок городского типа Вырица': 12,\n",
       "         'деревня Белогорка': 11,\n",
       "         'поселок Заводской': 3,\n",
       "         'городской посёлок Новоселье': 28,\n",
       "         'деревня Большие Колпаны': 16,\n",
       "         'деревня Горбунки': 15,\n",
       "         'деревня Батово': 9,\n",
       "         'деревня Заневка': 6,\n",
       "         'деревня Иссад': 1,\n",
       "         'Приморск': 8,\n",
       "         'городской посёлок Фёдоровское': 7,\n",
       "         'деревня Мистолово': 11,\n",
       "         'Новая Ладога': 14,\n",
       "         'поселок Зимитицы': 3,\n",
       "         'поселок Барышево': 2,\n",
       "         'деревня Разметелево': 4,\n",
       "         'поселок городского типа имени Свердлова': 25,\n",
       "         'деревня Пеники': 6,\n",
       "         'поселок Рябово': 2,\n",
       "         'деревня Пудомяги': 6,\n",
       "         'поселок станции Корнево': 1,\n",
       "         'деревня Низино': 10,\n",
       "         'деревня Бегуницы': 17,\n",
       "         'посёлок Поляны': 4,\n",
       "         'городской посёлок Мга': 27,\n",
       "         'поселок Елизаветино': 13,\n",
       "         'посёлок городского типа Кузнечное': 13,\n",
       "         'деревня Колтуши': 11,\n",
       "         'поселок Запорожское': 8,\n",
       "         'посёлок городского типа Рощино': 15,\n",
       "         'деревня Гостилицы': 11,\n",
       "         'деревня Малое Карлино': 9,\n",
       "         'посёлок Мичуринское': 6,\n",
       "         'посёлок городского типа имени Морозова': 17,\n",
       "         'посёлок Песочный': 4,\n",
       "         'посёлок Сосново': 18,\n",
       "         'деревня Аро': 3,\n",
       "         'поселок Ильичёво': 2,\n",
       "         'посёлок городского типа Тайцы': 6,\n",
       "         'деревня Малое Верево': 11,\n",
       "         'деревня Извара': 7,\n",
       "         'поселок станции Вещево': 4,\n",
       "         'село Паша': 2,\n",
       "         'деревня Калитино': 7,\n",
       "         'посёлок городского типа Ульяновка': 13,\n",
       "         'деревня Чудской Бор': 1,\n",
       "         'поселок городского типа Дубровка': 15,\n",
       "         'деревня Мины': 2,\n",
       "         'поселок Войсковицы': 10,\n",
       "         'посёлок городского типа имени Свердлова': 11,\n",
       "         'деревня Коркино': 2,\n",
       "         'посёлок Ропша': 1,\n",
       "         'поселок городского типа Приладожский': 9,\n",
       "         'посёлок Щеглово': 23,\n",
       "         'посёлок Гаврилово': 4,\n",
       "         'Лодейное Поле': 20,\n",
       "         'деревня Рабитицы': 2,\n",
       "         'поселок городского типа Никольский': 7,\n",
       "         'деревня Кузьмолово': 7,\n",
       "         'деревня Малые Колпаны': 7,\n",
       "         'поселок Тельмана': 2,\n",
       "         'посёлок Петро-Славянка': 1,\n",
       "         'городской посёлок Назия': 15,\n",
       "         'посёлок Репино': 4,\n",
       "         'посёлок Ильичёво': 6,\n",
       "         'поселок Углово': 7,\n",
       "         'поселок Старая Малукса': 2,\n",
       "         'садовое товарищество Рахья': 1,\n",
       "         'поселок Аннино': 5,\n",
       "         'поселок Победа': 3,\n",
       "         'деревня Меньково': 1,\n",
       "         'деревня Старые Бегуницы': 2,\n",
       "         'посёлок Сапёрный': 6,\n",
       "         'поселок Семрино': 5,\n",
       "         'поселок Гаврилово': 1,\n",
       "         'поселок Глажево': 5,\n",
       "         'поселок Кобринское': 6,\n",
       "         'деревня Гарболово': 13,\n",
       "         'деревня Юкки': 5,\n",
       "         'поселок станции Приветнинское': 2,\n",
       "         'деревня Мануйлово': 1,\n",
       "         'деревня Пчева': 1,\n",
       "         'поселок Поляны': 2,\n",
       "         'поселок Цвылёво': 1,\n",
       "         'поселок Мельниково': 3,\n",
       "         'посёлок Пудость': 9,\n",
       "         'посёлок Усть-Луга': 4,\n",
       "         'Светогорск': 11,\n",
       "         'Любань': 8,\n",
       "         'поселок Селезнёво': 5,\n",
       "         'поселок городского типа Рябово': 1,\n",
       "         'Каменногорск': 13,\n",
       "         'деревня Кривко': 1,\n",
       "         'поселок Глебычево': 3,\n",
       "         'деревня Парицы': 4,\n",
       "         'поселок Жилпосёлок': 1,\n",
       "         'посёлок городского типа Мга': 6,\n",
       "         'городской поселок Янино-1': 7,\n",
       "         'посёлок Войскорово': 5,\n",
       "         'село Никольское': 1,\n",
       "         'посёлок Терволово': 4,\n",
       "         'поселок Стеклянный': 3,\n",
       "         'посёлок городского типа Важины': 6,\n",
       "         'посёлок Мыза-Ивановка': 1,\n",
       "         'село Русско-Высоцкое': 9,\n",
       "         'поселок городского типа Лебяжье': 4,\n",
       "         'поселок городского типа Форносово': 2,\n",
       "         'село Старая Ладога': 2,\n",
       "         'поселок Житково': 2,\n",
       "         'городской посёлок Виллози': 3,\n",
       "         'деревня Лампово': 6,\n",
       "         'деревня Шпаньково': 1,\n",
       "         'деревня Лаврики': 1,\n",
       "         'посёлок Сумино': 1,\n",
       "         'посёлок Возрождение': 2,\n",
       "         'деревня Старосиверская': 3,\n",
       "         'посёлок Кикерино': 4,\n",
       "         'поселок Возрождение': 1,\n",
       "         'деревня Старое Хинколово': 1,\n",
       "         'посёлок Пригородный': 3,\n",
       "         'посёлок Торфяное': 4,\n",
       "         'городской посёлок Будогощь': 4,\n",
       "         'поселок Суходолье': 8,\n",
       "         'поселок Красная Долина': 3,\n",
       "         'деревня Хапо-Ое': 1,\n",
       "         'поселок городского типа Дружная Горка': 5,\n",
       "         'поселок Лисий Нос': 1,\n",
       "         'деревня Яльгелево': 6,\n",
       "         'посёлок Стеклянный': 5,\n",
       "         'село Рождествено': 3,\n",
       "         'деревня Старополье': 3,\n",
       "         'посёлок Левашово': 1,\n",
       "         'деревня Сяськелево': 10,\n",
       "         'деревня Камышовка': 2,\n",
       "         'садоводческое некоммерческое товарищество Лесная Поляна': 1,\n",
       "         'деревня Хязельки': 1,\n",
       "         'поселок Жилгородок': 1,\n",
       "         'посёлок городского типа Павлово': 2,\n",
       "         'деревня Ялгино': 1,\n",
       "         'поселок Новый Учхоз': 6,\n",
       "         'городской посёлок Рощино': 5,\n",
       "         'поселок Гончарово': 1,\n",
       "         'поселок Почап': 1,\n",
       "         'посёлок Сапёрное': 2,\n",
       "         'посёлок Платформа 69-й километр': 1,\n",
       "         'поселок Каложицы': 1,\n",
       "         'деревня Фалилеево': 2,\n",
       "         'деревня Пельгора': 1,\n",
       "         'поселок городского типа Лесогорский': 3,\n",
       "         'деревня Торошковичи': 3,\n",
       "         'посёлок Белоостров': 1,\n",
       "         'посёлок Алексеевка': 1,\n",
       "         'поселок Серебрянский': 2,\n",
       "         'поселок Лукаши': 3,\n",
       "         'поселок Петровское': 2,\n",
       "         'деревня Щеглово': 1,\n",
       "         'поселок Мичуринское': 5,\n",
       "         'деревня Тарасово': 2,\n",
       "         'поселок Кингисеппский': 2,\n",
       "         'посёлок при железнодорожной станции Вещево': 1,\n",
       "         'поселок Ушаки': 6,\n",
       "         'деревня Котлы': 1,\n",
       "         'деревня Сижно': 1,\n",
       "         'деревня Торосово': 3,\n",
       "         'посёлок Форт Красная Горка': 1,\n",
       "         'поселок городского типа Токсово': 4,\n",
       "         'деревня Новолисино': 1,\n",
       "         'посёлок станции Громово': 3,\n",
       "         'деревня Глинка': 2,\n",
       "         'посёлок Мельниково': 2,\n",
       "         'поселок городского типа Назия': 2,\n",
       "         'деревня Старая Пустошь': 2,\n",
       "         'поселок Коммунары': 1,\n",
       "         'поселок Починок': 2,\n",
       "         'посёлок городского типа Вознесенье': 2,\n",
       "         'деревня Разбегаево': 4,\n",
       "         'посёлок городского типа Рябово': 1,\n",
       "         'поселок Гладкое': 1,\n",
       "         'посёлок при железнодорожной станции Приветнинское': 1,\n",
       "         'поселок Тёсово-4': 1,\n",
       "         'посёлок Жилгородок': 2,\n",
       "         'деревня Бор': 2,\n",
       "         'посёлок Коробицыно': 1,\n",
       "         'деревня Большая Вруда': 4,\n",
       "         'деревня Курковицы': 1,\n",
       "         'посёлок Лисий Нос': 2,\n",
       "         'городской посёлок Советский': 2,\n",
       "         'посёлок Кобралово': 5,\n",
       "         'деревня Суоранда': 2,\n",
       "         'поселок Кобралово': 4,\n",
       "         'поселок городского типа Кондратьево': 1,\n",
       "         'коттеджный поселок Счастье': 1,\n",
       "         'поселок Любань': 3,\n",
       "         'деревня Реброво': 1,\n",
       "         'деревня Зимитицы': 1,\n",
       "         'деревня Тойворово': 1,\n",
       "         'поселок Семиозерье': 1,\n",
       "         'поселок Лесное': 2,\n",
       "         'поселок Совхозный': 2,\n",
       "         'поселок Усть-Луга': 1,\n",
       "         'посёлок Ленинское': 2,\n",
       "         'посёлок Суйда': 4,\n",
       "         'посёлок городского типа Форносово': 4,\n",
       "         'деревня Нижние Осельки': 1,\n",
       "         'посёлок станции Свирь': 2,\n",
       "         'поселок Перово': 1,\n",
       "         'Высоцк': 4,\n",
       "         'поселок Гарболово': 4,\n",
       "         'село Шум': 1,\n",
       "         'поселок Котельский': 3,\n",
       "         'поселок станции Лужайка': 1,\n",
       "         'деревня Большая Пустомержа': 1,\n",
       "         'поселок Красносельское': 1,\n",
       "         'деревня Вахнова Кара': 1,\n",
       "         'деревня Пижма': 1,\n",
       "         'коттеджный поселок Кивеннапа Север': 1,\n",
       "         'поселок Коробицыно': 1,\n",
       "         'поселок Ромашки': 1,\n",
       "         'посёлок Перово': 3,\n",
       "         'деревня Каськово': 1,\n",
       "         'деревня Куровицы': 1,\n",
       "         'посёлок Плоское': 1,\n",
       "         'поселок Сумино': 1,\n",
       "         'поселок городского типа Большая Ижора': 1,\n",
       "         'поселок Кирпичное': 1,\n",
       "         'деревня Ям-Тесово': 2,\n",
       "         'деревня Раздолье': 1,\n",
       "         'деревня Терпилицы': 1,\n",
       "         'посёлок Шугозеро': 1,\n",
       "         'деревня Ваганово': 3,\n",
       "         'поселок Пушное': 2,\n",
       "         'садовое товарищество Садко': 1,\n",
       "         'посёлок Усть-Ижора': 2,\n",
       "         'деревня Выскатка': 2,\n",
       "         'городской посёлок Свирьстрой': 1,\n",
       "         'поселок Громово': 3,\n",
       "         'деревня Кисельня': 1,\n",
       "         'посёлок Старая Малукса': 2,\n",
       "         'деревня Трубников Бор': 1,\n",
       "         'поселок Калитино': 1,\n",
       "         'посёлок Высокоключевой': 1,\n",
       "         'садовое товарищество Приладожский': 1,\n",
       "         'посёлок Пансионат Зелёный Бор': 1,\n",
       "         'деревня Ненимяки': 2,\n",
       "         'поселок Пансионат Зелёный Бор': 1,\n",
       "         'деревня Снегирёвка': 1,\n",
       "         'деревня Рапполово': 1,\n",
       "         'деревня Пустынка': 1,\n",
       "         'поселок Рабитицы': 1,\n",
       "         'деревня Большой Сабск': 1,\n",
       "         'деревня Русско': 1,\n",
       "         'деревня Лупполово': 1,\n",
       "         'деревня Большое Рейзино': 1,\n",
       "         'деревня Малая Романовка': 1,\n",
       "         'поселок Дружноселье': 1,\n",
       "         'поселок Пчевжа': 1,\n",
       "         'поселок Володарское': 1,\n",
       "         'деревня Нижняя': 1,\n",
       "         'коттеджный посёлок Лесное': 1,\n",
       "         'деревня Тихковицы': 1,\n",
       "         'деревня Борисова Грива': 1,\n",
       "         'посёлок Дзержинского': 1})"
      ]
     },
     "execution_count": 22,
     "metadata": {},
     "output_type": "execute_result"
    }
   ],
   "source": [
    "Counter(df['locality_name'])"
   ]
  },
  {
   "cell_type": "markdown",
   "metadata": {},
   "source": [
    "- в данных о местонахождении объекта имеются пропуски в данных\n",
    "- их количество ничтожно, поэтому заменим их на \"Прочее\"\n",
    "- в имеющихся данных по местоположению могут находиться неявные дубликаты\n",
    "- проведем леммитизацию данных и избавимся от них"
   ]
  },
  {
   "cell_type": "code",
   "execution_count": 23,
   "metadata": {},
   "outputs": [
    {
     "data": {
      "text/plain": [
       "[['санкт-петербург', '\\n'],\n",
       " ['поселок', ' ', 'шушар', '\\n'],\n",
       " ['городской', ' ', 'поселок', ' ', 'янино', '-', '1', '\\n'],\n",
       " ['поселок', ' ', 'парголовый', '\\n'],\n",
       " ['поселок', ' ', 'муриный', '\\n'],\n",
       " ['ломоносов', '\\n'],\n",
       " ['сертолово', '\\n'],\n",
       " ['петергоф', '\\n'],\n",
       " ['пушкин', '\\n'],\n",
       " ['деревня', ' ', 'кудрово', '\\n'],\n",
       " ['коммунар', '\\n'],\n",
       " ['колпино', '\\n'],\n",
       " ['поселок', ' ', 'городской', ' ', 'тип', ' ', 'красный', ' ', 'бор', '\\n'],\n",
       " ['гатчина', '\\n'],\n",
       " ['поселок', ' ', 'муриный', '\\n'],\n",
       " ['деревня', ' ', 'федоровский', '\\n'],\n",
       " ['выборг', '\\n'],\n",
       " ['кронштадт', '\\n'],\n",
       " ['кировск', '\\n'],\n",
       " ['деревня', ' ', 'новый', ' ', 'девяткино', '\\n'],\n",
       " ['поселок', ' ', 'металлострой', '\\n'],\n",
       " ['поселок', ' ', 'городской', ' ', 'тип', ' ', 'лебяжий', '\\n'],\n",
       " ['поселок', ' ', 'городской', ' ', 'тип', ' ', 'сиверский', '\\n'],\n",
       " ['поселок', ' ', 'молодцово', '\\n'],\n",
       " ['поселок', ' ', 'городской', ' ', 'тип', ' ', 'кузьмоловский', '\\n'],\n",
       " ['садовый', ' ', 'товарищество', ' ', 'новый', ' ', 'ропша', '\\n'],\n",
       " ['павловск', '\\n'],\n",
       " ['деревня', ' ', 'пикколово', '\\n'],\n",
       " ['всеволожск', '\\n'],\n",
       " ['волхов', '\\n'],\n",
       " ['кингисепп', '\\n'],\n",
       " ['приозерск', '\\n'],\n",
       " ['сестрорецк', '\\n'],\n",
       " ['деревня', ' ', 'куттузить', '\\n'],\n",
       " ['поселок', ' ', 'аннино', '\\n'],\n",
       " ['поселок', ' ', 'городской', ' ', 'тип', ' ', 'ефимовский', '\\n'],\n",
       " ['поселок', ' ', 'плодовый', '\\n'],\n",
       " ['деревня', ' ', 'заклинья', '\\n'],\n",
       " ['поселок', ' ', 'торкович', '\\n'],\n",
       " ['поселок', ' ', 'первомайский', '\\n'],\n",
       " ['красный', ' ', 'село', '\\n'],\n",
       " ['поселок', ' ', 'понтонный', '\\n'],\n",
       " ['сясьстрой', '\\n'],\n",
       " ['деревня', ' ', 'старый', '\\n'],\n",
       " ['деревня', ' ', 'лесколово', '\\n'],\n",
       " ['поселок', ' ', 'новый', ' ', 'свет', '\\n'],\n",
       " ['сланцы', '\\n'],\n",
       " ['село', ' ', 'путиловый', '\\n'],\n",
       " ['ивангород', '\\n'],\n",
       " ['муриный', '\\n'],\n",
       " ['шлиссельбург', '\\n'],\n",
       " ['никольское', '\\n'],\n",
       " ['зеленогорск', '\\n'],\n",
       " ['сосновый', ' ', 'бор', '\\n'],\n",
       " ['поселок', ' ', 'новый', ' ', 'свет', '\\n'],\n",
       " ['деревня', ' ', 'оржица', '\\n'],\n",
       " ['деревня', ' ', 'кальтина', '\\n'],\n",
       " ['кудрово', '\\n'],\n",
       " ['поселок', ' ', 'романовка', '\\n'],\n",
       " ['поселок', ' ', 'бугор', '\\n'],\n",
       " ['поселок', ' ', 'бугор', '\\n'],\n",
       " ['поселок', ' ', 'городской', ' ', 'тип', ' ', 'рощино', '\\n'],\n",
       " ['кириши', '\\n'],\n",
       " ['луг', '\\n'],\n",
       " ['волосово', '\\n'],\n",
       " ['отрадный', '\\n'],\n",
       " ['село', ' ', 'павлово', '\\n'],\n",
       " ['поселок', ' ', 'оредеж', '\\n'],\n",
       " ['село', ' ', 'копорье', '\\n'],\n",
       " ['поселок', ' ', 'городской', ' ', 'тип', ' ', 'красный', ' ', 'бор', '\\n'],\n",
       " ['поселок', ' ', 'молодежный', '\\n'],\n",
       " ['тихвин', '\\n'],\n",
       " ['поселок', ' ', 'победа', '\\n'],\n",
       " ['деревня', ' ', 'нурм', '\\n'],\n",
       " ['поселок', ' ', 'городской', ' ', 'тип', ' ', 'синявина', '\\n'],\n",
       " ['тосно', '\\n'],\n",
       " ['поселок', ' ', 'городской', ' ', 'тип', ' ', 'кузьмоловский', '\\n'],\n",
       " ['поселок', ' ', 'стрельна', '\\n'],\n",
       " ['бокситогорск', '\\n'],\n",
       " ['поселок', ' ', 'александровский', '\\n'],\n",
       " ['деревня', ' ', 'лопухинка', '\\n'],\n",
       " ['пикалево', '\\n'],\n",
       " ['поселок', ' ', 'терволов', '\\n'],\n",
       " ['поселок', ' ', 'городской', ' ', 'тип', ' ', 'советский', '\\n'],\n",
       " ['подпорожье', '\\n'],\n",
       " ['поселок', ' ', 'петровское', '\\n'],\n",
       " ['поселок', ' ', 'городской', ' ', 'тип', ' ', 'токсово', '\\n'],\n",
       " ['поселок', ' ', 'сельцо', '\\n'],\n",
       " ['поселок', ' ', 'городской', ' ', 'тип', ' ', 'вырица', '\\n'],\n",
       " ['деревня', ' ', 'кипень', '\\n'],\n",
       " ['деревня', ' ', 'келози', '\\n'],\n",
       " ['деревня', ' ', 'вартемяга', '\\n'],\n",
       " ['поселок', ' ', 'тельман', '\\n'],\n",
       " ['поселок', ' ', 'севастьяново', '\\n'],\n",
       " ['городской', ' ', 'поселок', ' ', 'большой', ' ', 'ижора', '\\n'],\n",
       " ['прочее', '\\n'],\n",
       " ['городской', ' ', 'поселок', ' ', 'павлово', '\\n'],\n",
       " ['деревня', ' ', 'агалатово', '\\n'],\n",
       " ['поселок', ' ', 'новогорелово', '\\n'],\n",
       " ['городской', ' ', 'поселок', ' ', 'лесогорский', '\\n'],\n",
       " ['деревня', ' ', 'лаголовый', '\\n'],\n",
       " ['поселок', ' ', 'цвелодубово', '\\n'],\n",
       " ['поселок', ' ', 'городской', ' ', 'тип', ' ', 'рахья', '\\n'],\n",
       " ['поселок', ' ', 'городской', ' ', 'тип', ' ', 'вырица', '\\n'],\n",
       " ['деревня', ' ', 'белогорка', '\\n'],\n",
       " ['поселок', ' ', 'заводской', '\\n'],\n",
       " ['городской', ' ', 'поселок', ' ', 'новоселье', '\\n'],\n",
       " ['деревня', ' ', 'большой', ' ', 'колпана', '\\n'],\n",
       " ['деревня', ' ', 'горбунок', '\\n'],\n",
       " ['деревня', ' ', 'батово', '\\n'],\n",
       " ['деревня', ' ', 'заневка', '\\n'],\n",
       " ['деревня', ' ', 'иссад', '\\n'],\n",
       " ['приморск', '\\n'],\n",
       " ['городской', ' ', 'поселок', ' ', 'федоровский', '\\n'],\n",
       " ['деревня', ' ', 'мистолово', '\\n'],\n",
       " ['новый', ' ', 'ладога', '\\n'],\n",
       " ['поселок', ' ', 'зимитиц', '\\n'],\n",
       " ['поселок', ' ', 'барышево', '\\n'],\n",
       " ['деревня', ' ', 'разметелево', '\\n'],\n",
       " ['поселок', ' ', 'городской', ' ', 'тип', ' ', 'имя', ' ', 'свердлов', '\\n'],\n",
       " ['деревня', ' ', 'пеник', '\\n'],\n",
       " ['поселок', ' ', 'рябово', '\\n'],\n",
       " ['деревня', ' ', 'пудомяга', '\\n'],\n",
       " ['поселок', ' ', 'станция', ' ', 'корневый', '\\n'],\n",
       " ['деревня', ' ', 'низино', '\\n'],\n",
       " ['деревня', ' ', 'бегуница', '\\n'],\n",
       " ['поселок', ' ', 'поляна', '\\n'],\n",
       " ['городской', ' ', 'поселок', ' ', 'мга', '\\n'],\n",
       " ['поселок', ' ', 'елизаветин', '\\n'],\n",
       " ['поселок', ' ', 'городской', ' ', 'тип', ' ', 'кузнечный', '\\n'],\n",
       " ['деревня', ' ', 'колтуша', '\\n'],\n",
       " ['поселок', ' ', 'запорожский', '\\n'],\n",
       " ['поселок', ' ', 'городской', ' ', 'тип', ' ', 'рощино', '\\n'],\n",
       " ['деревня', ' ', 'гостилица', '\\n'],\n",
       " ['деревня', ' ', 'малый', ' ', 'карлино', '\\n'],\n",
       " ['поселок', ' ', 'мичуринский', '\\n'],\n",
       " ['поселок', ' ', 'городской', ' ', 'тип', ' ', 'имя', ' ', 'морозов', '\\n'],\n",
       " ['поселок', ' ', 'песочный', '\\n'],\n",
       " ['поселок', ' ', 'сосновый', '\\n'],\n",
       " ['деревня', ' ', 'аро', '\\n'],\n",
       " ['поселок', ' ', 'ильичев', '\\n'],\n",
       " ['поселок', ' ', 'городской', ' ', 'тип', ' ', 'тайцы', '\\n'],\n",
       " ['деревня', ' ', 'малый', ' ', 'верево', '\\n'],\n",
       " ['деревня', ' ', 'извар', '\\n'],\n",
       " ['поселок', ' ', 'станция', ' ', 'вещево', '\\n'],\n",
       " ['село', ' ', 'паша', '\\n'],\n",
       " ['деревня', ' ', 'калитин', '\\n'],\n",
       " ['поселок', ' ', 'городской', ' ', 'тип', ' ', 'ульяновка', '\\n'],\n",
       " ['деревня', ' ', 'чудской', ' ', 'бор', '\\n'],\n",
       " ['поселок', ' ', 'городской', ' ', 'тип', ' ', 'дубровка', '\\n'],\n",
       " ['деревня', ' ', 'мина', '\\n'],\n",
       " ['поселок', ' ', 'войсковица', '\\n'],\n",
       " ['поселок', ' ', 'городской', ' ', 'тип', ' ', 'имя', ' ', 'свердлов', '\\n'],\n",
       " ['деревня', ' ', 'коркино', '\\n'],\n",
       " ['поселок', ' ', 'ропша', '\\n'],\n",
       " ['поселок', ' ', 'городской', ' ', 'тип', ' ', 'приладожский', '\\n'],\n",
       " ['поселок', ' ', 'щегловый', '\\n'],\n",
       " ['поселок', ' ', 'гаврилов', '\\n'],\n",
       " ['лодейный', ' ', 'поле', '\\n'],\n",
       " ['деревня', ' ', 'рабитиц', '\\n'],\n",
       " ['поселок', ' ', 'городской', ' ', 'тип', ' ', 'никольский', '\\n'],\n",
       " ['деревня', ' ', 'кузьмоловый', '\\n'],\n",
       " ['деревня', ' ', 'малый', ' ', 'колпана', '\\n'],\n",
       " ['поселок', ' ', 'тельман', '\\n'],\n",
       " ['поселок', ' ', 'петро', '-', 'славянка', '\\n'],\n",
       " ['городской', ' ', 'поселок', ' ', 'назия', '\\n'],\n",
       " ['поселок', ' ', 'репино', '\\n'],\n",
       " ['поселок', ' ', 'ильичев', '\\n'],\n",
       " ['поселок', ' ', 'угловый', '\\n'],\n",
       " ['поселок', ' ', 'старый', ' ', 'малукс', '\\n'],\n",
       " ['садовый', ' ', 'товарищество', ' ', 'рахья', '\\n'],\n",
       " ['поселок', ' ', 'аннино', '\\n'],\n",
       " ['поселок', ' ', 'победа', '\\n'],\n",
       " ['деревня', ' ', 'меньковый', '\\n'],\n",
       " ['деревня', ' ', 'старый', ' ', 'бегуница', '\\n'],\n",
       " ['поселок', ' ', 'саперный', '\\n'],\n",
       " ['поселок', ' ', 'семрино', '\\n'],\n",
       " ['поселок', ' ', 'гаврилов', '\\n'],\n",
       " ['поселок', ' ', 'глажево', '\\n'],\n",
       " ['поселок', ' ', 'кобринский', '\\n'],\n",
       " ['деревня', ' ', 'гарболовый', '\\n'],\n",
       " ['деревня', ' ', 'юкка', '\\n'],\n",
       " ['поселок', ' ', 'станция', ' ', 'приветнинский', '\\n'],\n",
       " ['деревня', ' ', 'мануйлово', '\\n'],\n",
       " ['деревня', ' ', 'пчев', '\\n'],\n",
       " ['поселок', ' ', 'поляна', '\\n'],\n",
       " ['поселок', ' ', 'цвылево', '\\n'],\n",
       " ['поселок', ' ', 'мельниково', '\\n'],\n",
       " ['поселок', ' ', 'пудость', '\\n'],\n",
       " ['поселок', ' ', 'усть', '-', 'луг', '\\n'],\n",
       " ['светогорск', '\\n'],\n",
       " ['любань', '\\n'],\n",
       " ['поселок', ' ', 'селезневый', '\\n'],\n",
       " ['поселок', ' ', 'городской', ' ', 'тип', ' ', 'рябово', '\\n'],\n",
       " ['каменногорск', '\\n'],\n",
       " ['деревня', ' ', 'кривко', '\\n'],\n",
       " ['поселок', ' ', 'глебычево', '\\n'],\n",
       " ['деревня', ' ', 'парица', '\\n'],\n",
       " ['поселок', ' ', 'жилпоселок', '\\n'],\n",
       " ['поселок', ' ', 'городской', ' ', 'тип', ' ', 'мга', '\\n'],\n",
       " ['городской', ' ', 'поселок', ' ', 'янино', '-', '1', '\\n'],\n",
       " ['поселок', ' ', 'войскоровый', '\\n'],\n",
       " ['село', ' ', 'никольское', '\\n'],\n",
       " ['поселок', ' ', 'терволов', '\\n'],\n",
       " ['поселок', ' ', 'стеклянный', '\\n'],\n",
       " ['поселок', ' ', 'городской', ' ', 'тип', ' ', 'важин', '\\n'],\n",
       " ['поселок', ' ', 'мыза', '-', 'ивановка', '\\n'],\n",
       " ['село', ' ', 'русский', '-', 'высоцкий', '\\n'],\n",
       " ['поселок', ' ', 'городской', ' ', 'тип', ' ', 'лебяжий', '\\n'],\n",
       " ['поселок', ' ', 'городской', ' ', 'тип', ' ', 'форносовый', '\\n'],\n",
       " ['село', ' ', 'старый', ' ', 'ладога', '\\n'],\n",
       " ['поселок', ' ', 'житковый', '\\n'],\n",
       " ['городской', ' ', 'поселок', ' ', 'виллози', '\\n'],\n",
       " ['деревня', ' ', 'ламповый', '\\n'],\n",
       " ['деревня', ' ', 'шпаньково', '\\n'],\n",
       " ['деревня', ' ', 'лаврик', '\\n'],\n",
       " ['поселок', ' ', 'сумино', '\\n'],\n",
       " ['поселок', ' ', 'возрождение', '\\n'],\n",
       " ['деревня', ' ', 'старосиверский', '\\n'],\n",
       " ['поселок', ' ', 'кикерино', '\\n'],\n",
       " ['поселок', ' ', 'возрождение', '\\n'],\n",
       " ['деревня', ' ', 'старый', ' ', 'хинколово', '\\n'],\n",
       " ['поселок', ' ', 'пригородный', '\\n'],\n",
       " ['поселок', ' ', 'торфяной', '\\n'],\n",
       " ['городской', ' ', 'поселок', ' ', 'будогощь', '\\n'],\n",
       " ['поселок', ' ', 'суходолье', '\\n'],\n",
       " ['поселок', ' ', 'красный', ' ', 'долина', '\\n'],\n",
       " ['деревня', ' ', 'хапо', '-', 'Ое', '\\n'],\n",
       " ['поселок', ' ', 'городской', ' ', 'тип', ' ', 'дружный', ' ', 'горка', '\\n'],\n",
       " ['поселок', ' ', 'лисий', ' ', 'нос', '\\n'],\n",
       " ['деревня', ' ', 'яльгелево', '\\n'],\n",
       " ['поселок', ' ', 'стеклянный', '\\n'],\n",
       " ['село', ' ', 'рождествено', '\\n'],\n",
       " ['деревня', ' ', 'старополье', '\\n'],\n",
       " ['поселок', ' ', 'левашово', '\\n'],\n",
       " ['деревня', ' ', 'сяськелевый', '\\n'],\n",
       " ['деревня', ' ', 'камышовка', '\\n'],\n",
       " ['садоводческий',\n",
       "  ' ',\n",
       "  'некоммерческий',\n",
       "  ' ',\n",
       "  'товарищество',\n",
       "  ' ',\n",
       "  'лесной',\n",
       "  ' ',\n",
       "  'поляна',\n",
       "  '\\n'],\n",
       " ['деревня', ' ', 'хязелька', '\\n'],\n",
       " ['поселок', ' ', 'жилгородка', '\\n'],\n",
       " ['поселок', ' ', 'городской', ' ', 'тип', ' ', 'павлово', '\\n'],\n",
       " ['деревня', ' ', 'ялгино', '\\n'],\n",
       " ['поселок', ' ', 'новый', ' ', 'учхоз', '\\n'],\n",
       " ['городской', ' ', 'поселок', ' ', 'рощино', '\\n'],\n",
       " ['поселок', ' ', 'гончарово', '\\n'],\n",
       " ['поселок', ' ', 'почап', '\\n'],\n",
       " ['поселок', ' ', 'саперный', '\\n'],\n",
       " ['поселок', ' ', 'платформа', ' ', '69', '-', 'й', ' ', 'километр', '\\n'],\n",
       " ['поселок', ' ', 'каложица', '\\n'],\n",
       " ['деревня', ' ', 'фалилеево', '\\n'],\n",
       " ['деревня', ' ', 'пельгора', '\\n'],\n",
       " ['поселок', ' ', 'городской', ' ', 'тип', ' ', 'лесогорский', '\\n'],\n",
       " ['деревня', ' ', 'торошкович', '\\n'],\n",
       " ['поселок', ' ', 'белоостров', '\\n'],\n",
       " ['поселок', ' ', 'алексеевка', '\\n'],\n",
       " ['поселок', ' ', 'серебрянский', '\\n'],\n",
       " ['поселок', ' ', 'лукаша', '\\n'],\n",
       " ['поселок', ' ', 'петровское', '\\n'],\n",
       " ['деревня', ' ', 'щегловый', '\\n'],\n",
       " ['поселок', ' ', 'мичуринский', '\\n'],\n",
       " ['деревня', ' ', 'тарасовый', '\\n'],\n",
       " ['поселок', ' ', 'кингисеппский', '\\n'],\n",
       " ['поселок',\n",
       "  ' ',\n",
       "  'при',\n",
       "  ' ',\n",
       "  'железнодорожный',\n",
       "  ' ',\n",
       "  'станция',\n",
       "  ' ',\n",
       "  'вещево',\n",
       "  '\\n'],\n",
       " ['поселок', ' ', 'ушак', '\\n'],\n",
       " ['деревня', ' ', 'котел', '\\n'],\n",
       " ['деревня', ' ', 'сижно', '\\n'],\n",
       " ['деревня', ' ', 'торосовый', '\\n'],\n",
       " ['поселок', ' ', 'форт', ' ', 'красный', ' ', 'горка', '\\n'],\n",
       " ['поселок', ' ', 'городской', ' ', 'тип', ' ', 'токсово', '\\n'],\n",
       " ['деревня', ' ', 'новолисиный', '\\n'],\n",
       " ['поселок', ' ', 'станция', ' ', 'громовый', '\\n'],\n",
       " ['деревня', ' ', 'глинка', '\\n'],\n",
       " ['поселок', ' ', 'мельниково', '\\n'],\n",
       " ['поселок', ' ', 'городской', ' ', 'тип', ' ', 'назия', '\\n'],\n",
       " ['деревня', ' ', 'старый', ' ', 'пустошь', '\\n'],\n",
       " ['поселок', ' ', 'коммунар', '\\n'],\n",
       " ['поселок', ' ', 'починок', '\\n'],\n",
       " ['поселок', ' ', 'городской', ' ', 'тип', ' ', 'вознесение', '\\n'],\n",
       " ['деревня', ' ', 'разбегаево', '\\n'],\n",
       " ['поселок', ' ', 'городской', ' ', 'тип', ' ', 'рябово', '\\n'],\n",
       " ['поселок', ' ', 'гладкий', '\\n'],\n",
       " ['поселок',\n",
       "  ' ',\n",
       "  'при',\n",
       "  ' ',\n",
       "  'железнодорожный',\n",
       "  ' ',\n",
       "  'станция',\n",
       "  ' ',\n",
       "  'приветнинский',\n",
       "  '\\n'],\n",
       " ['поселок', ' ', 'тесовый', '-', '4', '\\n'],\n",
       " ['поселок', ' ', 'жилгородка', '\\n'],\n",
       " ['деревня', ' ', 'бор', '\\n'],\n",
       " ['поселок', ' ', 'коробицыно', '\\n'],\n",
       " ['деревня', ' ', 'большой', ' ', 'вруд', '\\n'],\n",
       " ['деревня', ' ', 'курковица', '\\n'],\n",
       " ['поселок', ' ', 'лисий', ' ', 'нос', '\\n'],\n",
       " ['городской', ' ', 'поселок', ' ', 'советский', '\\n'],\n",
       " ['поселок', ' ', 'кобраловый', '\\n'],\n",
       " ['деревня', ' ', 'суоранд', '\\n'],\n",
       " ['поселок', ' ', 'кобраловый', '\\n'],\n",
       " ['поселок', ' ', 'городской', ' ', 'тип', ' ', 'кондратьево', '\\n'],\n",
       " ['коттеджный', ' ', 'поселок', ' ', 'счастие', '\\n'],\n",
       " ['поселок', ' ', 'любань', '\\n'],\n",
       " ['деревня', ' ', 'ребровый', '\\n'],\n",
       " ['деревня', ' ', 'зимитиц', '\\n'],\n",
       " ['деревня', ' ', 'тойворовый', '\\n'],\n",
       " ['поселок', ' ', 'семиозерье', '\\n'],\n",
       " ['поселок', ' ', 'лесной', '\\n'],\n",
       " ['поселок', ' ', 'совхозный', '\\n'],\n",
       " ['поселок', ' ', 'усть', '-', 'луг', '\\n'],\n",
       " ['поселок', ' ', 'ленинский', '\\n'],\n",
       " ['поселок', ' ', 'суйда', '\\n'],\n",
       " ['поселок', ' ', 'городской', ' ', 'тип', ' ', 'форносовый', '\\n'],\n",
       " ['деревня', ' ', 'нижний', ' ', 'оселек', '\\n'],\n",
       " ['поселок', ' ', 'станция', ' ', 'свирь', '\\n'],\n",
       " ['поселок', ' ', 'перово', '\\n'],\n",
       " ['высоцк', '\\n'],\n",
       " ['поселок', ' ', 'гарболовый', '\\n'],\n",
       " ['село', ' ', 'шум', '\\n'],\n",
       " ['поселок', ' ', 'котельский', '\\n'],\n",
       " ['поселок', ' ', 'станция', ' ', 'лужайка', '\\n'],\n",
       " ['деревня', ' ', 'большой', ' ', 'пустомерж', '\\n'],\n",
       " ['поселок', ' ', 'красносельский', '\\n'],\n",
       " ['деревня', ' ', 'вахнов', ' ', 'кара', '\\n'],\n",
       " ['деревня', ' ', 'пижма', '\\n'],\n",
       " ['коттеджный', ' ', 'поселок', ' ', 'кивеннап', ' ', 'север', '\\n'],\n",
       " ['поселок', ' ', 'коробицыно', '\\n'],\n",
       " ['поселок', ' ', 'ромашка', '\\n'],\n",
       " ['поселок', ' ', 'перово', '\\n'],\n",
       " ['деревня', ' ', 'каськово', '\\n'],\n",
       " ['деревня', ' ', 'куровица', '\\n'],\n",
       " ['поселок', ' ', 'плоский', '\\n'],\n",
       " ['поселок', ' ', 'сумино', '\\n'],\n",
       " ['поселок', ' ', 'городской', ' ', 'тип', ' ', 'большой', ' ', 'ижора', '\\n'],\n",
       " ['поселок', ' ', 'кирпичный', '\\n'],\n",
       " ['деревня', ' ', 'яма', '-', 'тесовый', '\\n'],\n",
       " ['деревня', ' ', 'раздолье', '\\n'],\n",
       " ['деревня', ' ', 'терпилица', '\\n'],\n",
       " ['поселок', ' ', 'шугозеро', '\\n'],\n",
       " ['деревня', ' ', 'ваганово', '\\n'],\n",
       " ['поселок', ' ', 'пушной', '\\n'],\n",
       " ['садовый', ' ', 'товарищество', ' ', 'садко', '\\n'],\n",
       " ['поселок', ' ', 'усть', '-', 'ижора', '\\n'],\n",
       " ['деревня', ' ', 'выскатка', '\\n'],\n",
       " ['городской', ' ', 'поселок', ' ', 'свирьстрой', '\\n'],\n",
       " ['поселок', ' ', 'громовый', '\\n'],\n",
       " ['деревня', ' ', 'кисельня', '\\n'],\n",
       " ['поселок', ' ', 'старый', ' ', 'малукс', '\\n'],\n",
       " ['деревня', ' ', 'трубник', ' ', 'бор', '\\n'],\n",
       " ['поселок', ' ', 'калитино', '\\n'],\n",
       " ['поселок', ' ', 'высокоключевой', '\\n'],\n",
       " ['садовый', ' ', 'товарищество', ' ', 'приладожский', '\\n'],\n",
       " ['поселок', ' ', 'пансионат', ' ', 'зеленый', ' ', 'бор', '\\n'],\n",
       " ['деревня', ' ', 'ненимяк', '\\n'],\n",
       " ['поселок', ' ', 'пансионат', ' ', 'зеленый', ' ', 'бор', '\\n'],\n",
       " ['деревня', ' ', 'снегиревка', '\\n'],\n",
       " ['деревня', ' ', 'рапполовый', '\\n'],\n",
       " ['деревня', ' ', 'пустынка', '\\n'],\n",
       " ['поселок', ' ', 'рабитиц', '\\n'],\n",
       " ['деревня', ' ', 'большой', ' ', 'сабск', '\\n'],\n",
       " ['деревня', ' ', 'русско', '\\n'],\n",
       " ['деревня', ' ', 'лупполовый', '\\n'],\n",
       " ['деревня', ' ', 'большой', ' ', 'рейзино', '\\n'],\n",
       " ['деревня', ' ', 'малый', ' ', 'романовка', '\\n'],\n",
       " ['поселок', ' ', 'дружноселье', '\\n'],\n",
       " ['поселок', ' ', 'пчевжа', '\\n'],\n",
       " ['поселок', ' ', 'володарское', '\\n'],\n",
       " ['деревня', ' ', 'нижний', '\\n'],\n",
       " ['коттеджный', ' ', 'поселок', ' ', 'лесной', '\\n'],\n",
       " ['деревня', ' ', 'тихковица', '\\n'],\n",
       " ['деревня', ' ', 'борисова', ' ', 'грива', '\\n'],\n",
       " ['поселок', ' ', 'дзержинский', '\\n']]"
      ]
     },
     "execution_count": 23,
     "metadata": {},
     "output_type": "execute_result"
    }
   ],
   "source": [
    "df['locality_name']=df['locality_name'].fillna('Прочее') #заменим пропуски                        \n",
    "\n",
    "locality_lem=[]\n",
    "for i in df['locality_name'].unique():\n",
    "    lemma = m.lemmatize(i)\n",
    "    locality_lem.append(lemma)\n",
    "locality_lem"
   ]
  },
  {
   "cell_type": "markdown",
   "metadata": {},
   "source": [
    "Выявленны неявные дубликаты Мурино, Кудрово, Коммунар, Бугры, Тельмана, Мга, им.Свердлова, Щеглово, Кузьмоловский, Гарболово, Вырица, Лебяжье, Аннино, Советский, Павлово, Федоровское, Любань, Калитино, Янино, Мичуринское, Ильичёво, Саперное, Красный Бор, Стеклянный, Лесогорский, Громово, Перово, Терловово, Рябово, Рабитицы, Старая Малукса, Приветинское, Возрождение, Петровское, Мельниково, Назия, Жилгородок, Зеленый Бор, Лисий Нос, Лесное, Гаврилово, Никольское, Сумино, Вещево, Приветнинское, Большая Ижора, Коробицыно, Зимитицы, Усть-Луга.   \n",
    "Основная причина их появления различное написание слова \"поселок\" и сочетания \"поселок городского типа\".\n",
    "Исправим такие дубликаты.        "
   ]
  },
  {
   "cell_type": "code",
   "execution_count": 24,
   "metadata": {},
   "outputs": [
    {
     "data": {
      "text/plain": [
       "Counter({'Санкт-Петербург': 15721,\n",
       "         'Шушары': 440,\n",
       "         'Янино-1': 68,\n",
       "         'Парголово': 327,\n",
       "         'Мурино': 590,\n",
       "         'Ломоносов': 133,\n",
       "         'Сертолово': 142,\n",
       "         'Петергоф': 201,\n",
       "         'Пушкин': 369,\n",
       "         'Кудрово': 472,\n",
       "         'Коммунар': 89,\n",
       "         'Колпино': 338,\n",
       "         'КрасныйБор': 8,\n",
       "         'Гатчина': 307,\n",
       "         'Фёдоровское': 15,\n",
       "         'Выборг': 237,\n",
       "         'Кронштадт': 96,\n",
       "         'Кировск': 84,\n",
       "         'НовоеДевяткино': 144,\n",
       "         'Металлострой': 66,\n",
       "         'Лебяжье': 15,\n",
       "         'Сиверский': 29,\n",
       "         'Молодцово': 9,\n",
       "         'Кузьмоловский': 35,\n",
       "         'НоваяРопша': 1,\n",
       "         'Павловск': 38,\n",
       "         'Пикколово': 1,\n",
       "         'Всеволожск': 398,\n",
       "         'Волхов': 111,\n",
       "         'Кингисепп': 104,\n",
       "         'Приозерск': 66,\n",
       "         'Сестрорецк': 183,\n",
       "         'Куттузи': 7,\n",
       "         'Аннино': 16,\n",
       "         'Ефимовский': 3,\n",
       "         'Плодовое': 5,\n",
       "         'Заклинье': 3,\n",
       "         'Торковичи': 3,\n",
       "         'Первомайское': 8,\n",
       "         'КрасноеСело': 178,\n",
       "         'Понтонный': 20,\n",
       "         'Сясьстрой': 24,\n",
       "         'Старая': 64,\n",
       "         'Лесколово': 20,\n",
       "         'НовыйСвет': 22,\n",
       "         'Сланцы': 112,\n",
       "         'Путилово': 2,\n",
       "         'Ивангород': 28,\n",
       "         'Шлиссельбург': 57,\n",
       "         'Никольское': 94,\n",
       "         'Зеленогорск': 24,\n",
       "         'СосновыйБор': 87,\n",
       "         'Оржицы': 9,\n",
       "         'Кальтино': 7,\n",
       "         'Романовка': 36,\n",
       "         'Бугры': 114,\n",
       "         'Рощино': 39,\n",
       "         'Кириши': 125,\n",
       "         'Луга': 56,\n",
       "         'Волосово': 36,\n",
       "         'Отрадное': 80,\n",
       "         'Павлово': 18,\n",
       "         'Оредеж': 3,\n",
       "         'Копорье': 5,\n",
       "         'Молодёжное': 5,\n",
       "         'Тихвин': 49,\n",
       "         'Победа': 6,\n",
       "         'Нурма': 11,\n",
       "         'Синявино': 21,\n",
       "         'Тосно': 104,\n",
       "         'Стрельна': 44,\n",
       "         'Бокситогорск': 16,\n",
       "         'Александровская': 2,\n",
       "         'Лопухинка': 6,\n",
       "         'Пикалёво': 18,\n",
       "         'Терволово': 6,\n",
       "         'Советский': 11,\n",
       "         'Подпорожье': 19,\n",
       "         'Петровское': 5,\n",
       "         'Токсово': 20,\n",
       "         'Сельцо': 9,\n",
       "         'Вырица': 22,\n",
       "         'Кипень': 7,\n",
       "         'Келози': 4,\n",
       "         'Вартемяги': 20,\n",
       "         'Тельмана': 41,\n",
       "         'Севастьяново': 1,\n",
       "         'БольшаяИжора': 17,\n",
       "         'Прочее': 49,\n",
       "         'Агалатово': 4,\n",
       "         'Новогорелово': 20,\n",
       "         'Лесогорский': 5,\n",
       "         'Лаголово': 10,\n",
       "         'Цвелодубово': 4,\n",
       "         'Рахья': 16,\n",
       "         'Белогорка': 11,\n",
       "         'Заводской': 3,\n",
       "         'Новоселье': 28,\n",
       "         'БольшиеКолпаны': 16,\n",
       "         'Горбунки': 15,\n",
       "         'Батово': 9,\n",
       "         'Заневка': 6,\n",
       "         'Иссад': 1,\n",
       "         'Приморск': 8,\n",
       "         'Мистолово': 11,\n",
       "         'НоваяЛадога': 14,\n",
       "         'Зимитицы': 4,\n",
       "         'Барышево': 2,\n",
       "         'Разметелево': 4,\n",
       "         'имениСвердлова': 36,\n",
       "         'Пеники': 6,\n",
       "         'Рябово': 4,\n",
       "         'Пудомяги': 6,\n",
       "         'Корнево': 1,\n",
       "         'Низино': 10,\n",
       "         'Бегуницы': 17,\n",
       "         'Поляны': 6,\n",
       "         'Мга': 33,\n",
       "         'Елизаветино': 13,\n",
       "         'Кузнечное': 13,\n",
       "         'Колтуши': 11,\n",
       "         'Запорожское': 8,\n",
       "         'Гостилицы': 11,\n",
       "         'МалоеКарлино': 9,\n",
       "         'Мичуринское': 11,\n",
       "         'имениМорозова': 17,\n",
       "         'Песочный': 4,\n",
       "         'Сосново': 18,\n",
       "         'Аро': 3,\n",
       "         'Ильичёво': 8,\n",
       "         'Тайцы': 6,\n",
       "         'МалоеВерево': 11,\n",
       "         'Извара': 7,\n",
       "         'Вещево': 5,\n",
       "         'Паша': 2,\n",
       "         'Калитино': 8,\n",
       "         'Ульяновка': 13,\n",
       "         'ЧудскойБор': 1,\n",
       "         'Дубровка': 15,\n",
       "         'Мины': 2,\n",
       "         'Войсковицы': 10,\n",
       "         'Коркино': 2,\n",
       "         'Ропша': 1,\n",
       "         'Приладожский': 10,\n",
       "         'Щеглово': 24,\n",
       "         'Гаврилово': 5,\n",
       "         'ЛодейноеПоле': 20,\n",
       "         'Рабитицы': 3,\n",
       "         'Никольский': 7,\n",
       "         'Кузьмолово': 7,\n",
       "         'МалыеКолпаны': 7,\n",
       "         'Петро-Славянка': 1,\n",
       "         'Назия': 17,\n",
       "         'Репино': 4,\n",
       "         'Углово': 7,\n",
       "         'СтараяМалукса': 4,\n",
       "         'Меньково': 1,\n",
       "         'СтарыеБегуницы': 2,\n",
       "         'Сапёрный': 6,\n",
       "         'Семрино': 5,\n",
       "         'Глажево': 5,\n",
       "         'Кобринское': 6,\n",
       "         'Гарболово': 17,\n",
       "         'Юкки': 5,\n",
       "         'Приветнинское': 3,\n",
       "         'Мануйлово': 1,\n",
       "         'Пчева': 1,\n",
       "         'Цвылёво': 1,\n",
       "         'Мельниково': 5,\n",
       "         'Пудость': 9,\n",
       "         'Усть-Луга': 5,\n",
       "         'Светогорск': 11,\n",
       "         'Любань': 11,\n",
       "         'Селезнёво': 5,\n",
       "         'Каменногорск': 13,\n",
       "         'Кривко': 1,\n",
       "         'Глебычево': 3,\n",
       "         'Парицы': 4,\n",
       "         'Жил': 1,\n",
       "         'Войскорово': 5,\n",
       "         'Стеклянный': 8,\n",
       "         'Важины': 6,\n",
       "         'Мыза-Ивановка': 1,\n",
       "         'Русско-Высоцкое': 9,\n",
       "         'Форносово': 6,\n",
       "         'СтараяЛадога': 2,\n",
       "         'Житково': 2,\n",
       "         'Виллози': 3,\n",
       "         'Лампово': 6,\n",
       "         'Шпаньково': 1,\n",
       "         'Лаврики': 1,\n",
       "         'Сумино': 2,\n",
       "         'Возрождение': 3,\n",
       "         'Старосиверская': 3,\n",
       "         'Кикерино': 4,\n",
       "         'СтароеХинколово': 1,\n",
       "         'Пригородный': 3,\n",
       "         'Торфяное': 4,\n",
       "         'Будогощь': 4,\n",
       "         'Суходолье': 8,\n",
       "         'КраснаяДолина': 3,\n",
       "         'Хапо-Ое': 1,\n",
       "         'ДружнаяГорка': 5,\n",
       "         'ЛисийНос': 3,\n",
       "         'Яльгелево': 6,\n",
       "         'Рождествено': 3,\n",
       "         'Старополье': 3,\n",
       "         'Левашово': 1,\n",
       "         'Сяськелево': 10,\n",
       "         'Камышовка': 2,\n",
       "         'ЛеснаяПоляна': 1,\n",
       "         'Хязельки': 1,\n",
       "         'Жилгородок': 3,\n",
       "         'Ялгино': 1,\n",
       "         'НовыйУчхоз': 6,\n",
       "         'Гончарово': 1,\n",
       "         'Почап': 1,\n",
       "         'Сапёрное': 2,\n",
       "         'Платформа69-йкилометр': 1,\n",
       "         'Каложицы': 1,\n",
       "         'Фалилеево': 2,\n",
       "         'Пельгора': 1,\n",
       "         'Торошковичи': 3,\n",
       "         'Белоостров': 1,\n",
       "         'Алексеевка': 1,\n",
       "         'Серебрянский': 2,\n",
       "         'Лукаши': 3,\n",
       "         'Тарасово': 2,\n",
       "         'Кингисеппский': 2,\n",
       "         'Ушаки': 6,\n",
       "         'Котлы': 1,\n",
       "         'Сижно': 1,\n",
       "         'Торосово': 3,\n",
       "         'ФортКраснаяГорка': 1,\n",
       "         'Новолисино': 1,\n",
       "         'Громово': 6,\n",
       "         'Глинка': 2,\n",
       "         'СтараяПустошь': 2,\n",
       "         'Коммунары': 1,\n",
       "         'Починок': 2,\n",
       "         'Вознесенье': 2,\n",
       "         'Разбегаево': 4,\n",
       "         'Гладкое': 1,\n",
       "         'Тёсово-4': 1,\n",
       "         'Бор': 2,\n",
       "         'Коробицыно': 2,\n",
       "         'БольшаяВруда': 4,\n",
       "         'Курковицы': 1,\n",
       "         'Кобралово': 9,\n",
       "         'Суоранда': 2,\n",
       "         'Кондратьево': 1,\n",
       "         'Счастье': 1,\n",
       "         'Реброво': 1,\n",
       "         'Тойворово': 1,\n",
       "         'Семиозерье': 1,\n",
       "         'Лесное': 3,\n",
       "         'Совхозный': 2,\n",
       "         'Ленинское': 2,\n",
       "         'Суйда': 4,\n",
       "         'НижниеОсельки': 1,\n",
       "         'Свирь': 2,\n",
       "         'Перово': 4,\n",
       "         'Высоцк': 4,\n",
       "         'Шум': 1,\n",
       "         'Котельский': 3,\n",
       "         'Лужайка': 1,\n",
       "         'БольшаяПустомержа': 1,\n",
       "         'Красносельское': 1,\n",
       "         'ВахноваКара': 1,\n",
       "         'Пижма': 1,\n",
       "         'КивеннапаСевер': 1,\n",
       "         'Ромашки': 1,\n",
       "         'Каськово': 1,\n",
       "         'Куровицы': 1,\n",
       "         'Плоское': 1,\n",
       "         'Кирпичное': 1,\n",
       "         'Ям-Тесово': 2,\n",
       "         'Раздолье': 1,\n",
       "         'Терпилицы': 1,\n",
       "         'Шугозеро': 1,\n",
       "         'Ваганово': 3,\n",
       "         'Пушное': 2,\n",
       "         'Садко': 1,\n",
       "         'Усть-Ижора': 2,\n",
       "         'Выскатка': 2,\n",
       "         'Свирьстрой': 1,\n",
       "         'Кисельня': 1,\n",
       "         'ТрубниковБор': 1,\n",
       "         'Высокоключевой': 1,\n",
       "         'ПансионатЗелёныйБор': 2,\n",
       "         'Ненимяки': 2,\n",
       "         'Снегирёвка': 1,\n",
       "         'Рапполово': 1,\n",
       "         'Пустынка': 1,\n",
       "         'БольшойСабск': 1,\n",
       "         'Русско': 1,\n",
       "         'Лупполово': 1,\n",
       "         'БольшоеРейзино': 1,\n",
       "         'МалаяРомановка': 1,\n",
       "         'Дружноселье': 1,\n",
       "         'Пчевжа': 1,\n",
       "         'Володарское': 1,\n",
       "         'Нижняя': 1,\n",
       "         'Тихковицы': 1,\n",
       "         'БорисоваГрива': 1,\n",
       "         'Дзержинского': 1})"
      ]
     },
     "execution_count": 24,
     "metadata": {},
     "output_type": "execute_result"
    }
   ],
   "source": [
    "# удалим все параметры кроме названия населенных пунктов\n",
    "df['locality_name'] = df['locality_name'].str.replace('поселок', '')\n",
    "df['locality_name'] = df['locality_name'].str.replace('посёлок', '')\n",
    "df['locality_name'] = df['locality_name'].str.replace('городской', '')\n",
    "df['locality_name'] = df['locality_name'].str.replace('городского', '')\n",
    "df['locality_name'] = df['locality_name'].str.replace('типа', '')\n",
    "df['locality_name'] = df['locality_name'].str.replace('деревня', '')\n",
    "df['locality_name'] = df['locality_name'].str.replace('садовое товарищество ', '')\n",
    "df['locality_name'] = df['locality_name'].str.replace('село', '')\n",
    "df['locality_name'] = df['locality_name'].str.replace('станции', '')\n",
    "df['locality_name'] = df['locality_name'].str.replace('садоводческое некоммерческое товарищество', '')\n",
    "df['locality_name'] = df['locality_name'].str.replace('при железнодорожной', '')\n",
    "df['locality_name'] = df['locality_name'].str.replace('коттеджный', '')\n",
    "\n",
    "#убираем лишние пробелы\n",
    "df['locality_name'] = df['locality_name'].str.replace(' ', '')\n",
    "\n",
    "Counter(df['locality_name'])\n"
   ]
  },
  {
   "cell_type": "markdown",
   "metadata": {},
   "source": [
    "Количество населенных пунктов после обработки уменьшилось  \n",
    "Так же произошли значительные изменения в качестве данных.  \n",
    "Так Кудрово, например, поднялось с 10 места на 3 по количеству размещенных объявлений (472 против 299 ранее)."
   ]
  },
  {
   "cell_type": "markdown",
   "metadata": {},
   "source": [
    "#### Расстояние до аэропорта"
   ]
  },
  {
   "cell_type": "code",
   "execution_count": 25,
   "metadata": {},
   "outputs": [
    {
     "data": {
      "text/plain": [
       "locality_name\n",
       "Агалатово              NaN\n",
       "Александровская    12896.5\n",
       "Алексеевка             NaN\n",
       "Аннино                 NaN\n",
       "Аро                    NaN\n",
       "                    ...   \n",
       "Яльгелево              NaN\n",
       "Ям-Тесово              NaN\n",
       "Янино-1                NaN\n",
       "имениМорозова          NaN\n",
       "имениСвердлова         NaN\n",
       "Name: airports_nearest, Length: 306, dtype: float64"
      ]
     },
     "execution_count": 25,
     "metadata": {},
     "output_type": "execute_result"
    }
   ],
   "source": [
    "# группируем данные о расстоянии до аэропрорта по географическому признаку\n",
    "df.groupby('locality_name')['airports_nearest'].mean()"
   ]
  },
  {
   "cell_type": "markdown",
   "metadata": {},
   "source": [
    "- из полученных данных видно что целые поселки не имеют данных о расстоянии до аэропорта\n",
    "- здесь явно не достает картографических данных\n",
    "- для нашего анализа данные значения пока не актуальны, поэтому заменим для удобства анализа все пропуски 0"
   ]
  },
  {
   "cell_type": "code",
   "execution_count": 26,
   "metadata": {},
   "outputs": [],
   "source": [
    "df['airports_nearest']=df['airports_nearest'].fillna(0)"
   ]
  },
  {
   "cell_type": "markdown",
   "metadata": {},
   "source": [
    "#### Расстояние до центра, число парков и водоемов и расстояние до них"
   ]
  },
  {
   "cell_type": "markdown",
   "metadata": {},
   "source": [
    "- здесь мы видим аналогичную проблему с недостатком картографических данных, как и в случае с расстоянием до аэропорта\n",
    "- поступим аналогично, для простоты анализа заменим пропуски 0"
   ]
  },
  {
   "cell_type": "code",
   "execution_count": 27,
   "metadata": {},
   "outputs": [],
   "source": [
    "df['cityCenters_nearest']=df['cityCenters_nearest'].fillna(0)\n",
    "df['parks_around3000']=df['parks_around3000'].fillna(0)\n",
    "df['parks_nearest']=df['parks_nearest'].fillna(0)\n",
    "df['ponds_around3000']=df['ponds_around3000'].fillna(0)\n",
    "df['ponds_nearest']=df['ponds_nearest'].fillna(0)"
   ]
  },
  {
   "cell_type": "markdown",
   "metadata": {},
   "source": [
    "#### Cколько дней было размещено объявление"
   ]
  },
  {
   "cell_type": "code",
   "execution_count": 28,
   "metadata": {},
   "outputs": [
    {
     "data": {
      "text/plain": [
       "<matplotlib.axes._subplots.AxesSubplot at 0x7f267922ec90>"
      ]
     },
     "execution_count": 28,
     "metadata": {},
     "output_type": "execute_result"
    },
    {
     "data": {
      "image/png": "[encoded data removed]",
      "text/plain": [
       "<Figure size 432x288 with 1 Axes>"
      ]
     },
     "metadata": {
      "needs_background": "light"
     },
     "output_type": "display_data"
    }
   ],
   "source": [
    "df['days_exposition'].hist(bins=21, range=(0, 21))"
   ]
  },
  {
   "cell_type": "markdown",
   "metadata": {},
   "source": [
    "- в данных имеются низкие значения в столбце 'кол-во дней размещения'\n",
    "- возьмем за стандртное время размещения объявления 3 недели\n",
    "- сверх низких значений (менее 3 дней) практически нет, возможно это ошибка в данных, а возможно выброс\n",
    "- так же имеется порядка 2% данных со сроком размещения менее недели\n",
    "- в данном случае кол-во ничтожно, поэтому оставим без изменений\n",
    "- имеется так же порядка 14% пропусков значений в данных, заменим их на медианое значение"
   ]
  },
  {
   "cell_type": "code",
   "execution_count": 29,
   "metadata": {},
   "outputs": [],
   "source": [
    "df['days_exposition']=df['days_exposition'].fillna(df['days_exposition'].median())"
   ]
  },
  {
   "cell_type": "markdown",
   "metadata": {},
   "source": [
    "#### Количество-комнат"
   ]
  },
  {
   "cell_type": "code",
   "execution_count": 30,
   "metadata": {},
   "outputs": [],
   "source": [
    "# проверим вхождение квартир без комнаты в наши группы\n",
    "apartment_zero=df.pivot_table(index='rooms', values='is_apartment', aggfunc='sum')\n",
    "studio_zero=df.pivot_table(index='rooms', values='studio', aggfunc='sum')\n",
    "open_zero=df.pivot_table(index='rooms', values='open_plan', aggfunc='sum')"
   ]
  },
  {
   "cell_type": "markdown",
   "metadata": {},
   "source": [
    "Из предыдущего анализа данных мы выяснили, что квартир с количеством комнат 0 составляет 197шт.  \n",
    "После проверки, мы видим, что это не совсем ошибочные значение, так как все данные квартиры относятся либо к студиям либо к квартирам со свободной планировкой.  \n",
    "Так как доля таких квартир в общей выборке не велика, а доля 1-комнатных составляет почти 35%, то для удобства анализа изменим значение 0 на 1 комнату."
   ]
  },
  {
   "cell_type": "code",
   "execution_count": 31,
   "metadata": {},
   "outputs": [],
   "source": [
    "df.loc[df['rooms']==0, 'rooms'] = 1 "
   ]
  },
  {
   "cell_type": "markdown",
   "metadata": {},
   "source": [
    "#### Низкая цена"
   ]
  },
  {
   "cell_type": "code",
   "execution_count": 32,
   "metadata": {},
   "outputs": [
    {
     "data": {
      "text/html": [
       "<div>\n",
       "<style scoped>\n",
       "    .dataframe tbody tr th:only-of-type {\n",
       "        vertical-align: middle;\n",
       "    }\n",
       "\n",
       "    .dataframe tbody tr th {\n",
       "        vertical-align: top;\n",
       "    }\n",
       "\n",
       "    .dataframe thead th {\n",
       "        text-align: right;\n",
       "    }\n",
       "</style>\n",
       "<table border=\"1\" class=\"dataframe\">\n",
       "  <thead>\n",
       "    <tr style=\"text-align: right;\">\n",
       "      <th></th>\n",
       "      <th>total_images</th>\n",
       "      <th>last_price</th>\n",
       "      <th>total_area</th>\n",
       "      <th>first_day_exposition</th>\n",
       "      <th>rooms</th>\n",
       "      <th>ceiling_height</th>\n",
       "      <th>floors_total</th>\n",
       "      <th>living_area</th>\n",
       "      <th>floor</th>\n",
       "      <th>is_apartment</th>\n",
       "      <th>...</th>\n",
       "      <th>kitchen_area</th>\n",
       "      <th>balcony</th>\n",
       "      <th>locality_name</th>\n",
       "      <th>airports_nearest</th>\n",
       "      <th>cityCenters_nearest</th>\n",
       "      <th>parks_around3000</th>\n",
       "      <th>parks_nearest</th>\n",
       "      <th>ponds_around3000</th>\n",
       "      <th>ponds_nearest</th>\n",
       "      <th>days_exposition</th>\n",
       "    </tr>\n",
       "  </thead>\n",
       "  <tbody>\n",
       "    <tr>\n",
       "      <td>12592</td>\n",
       "      <td>15</td>\n",
       "      <td>850000.0</td>\n",
       "      <td>52.0</td>\n",
       "      <td>2018-02-09T00:00:00</td>\n",
       "      <td>3</td>\n",
       "      <td>2.65</td>\n",
       "      <td>4.0</td>\n",
       "      <td>30.000000</td>\n",
       "      <td>2</td>\n",
       "      <td>False</td>\n",
       "      <td>...</td>\n",
       "      <td>5.800</td>\n",
       "      <td>0.0</td>\n",
       "      <td>Пикалёво</td>\n",
       "      <td>0.0</td>\n",
       "      <td>0.0</td>\n",
       "      <td>0.0</td>\n",
       "      <td>0.0</td>\n",
       "      <td>0.0</td>\n",
       "      <td>0.0</td>\n",
       "      <td>46.0</td>\n",
       "    </tr>\n",
       "    <tr>\n",
       "      <td>12999</td>\n",
       "      <td>6</td>\n",
       "      <td>850000.0</td>\n",
       "      <td>31.0</td>\n",
       "      <td>2019-01-29T00:00:00</td>\n",
       "      <td>1</td>\n",
       "      <td>2.65</td>\n",
       "      <td>5.0</td>\n",
       "      <td>17.884615</td>\n",
       "      <td>1</td>\n",
       "      <td>False</td>\n",
       "      <td>...</td>\n",
       "      <td>5.425</td>\n",
       "      <td>0.0</td>\n",
       "      <td>Подпорожье</td>\n",
       "      <td>0.0</td>\n",
       "      <td>0.0</td>\n",
       "      <td>0.0</td>\n",
       "      <td>0.0</td>\n",
       "      <td>0.0</td>\n",
       "      <td>0.0</td>\n",
       "      <td>95.0</td>\n",
       "    </tr>\n",
       "    <tr>\n",
       "      <td>19395</td>\n",
       "      <td>20</td>\n",
       "      <td>700000.0</td>\n",
       "      <td>41.0</td>\n",
       "      <td>2018-10-26T00:00:00</td>\n",
       "      <td>1</td>\n",
       "      <td>2.65</td>\n",
       "      <td>5.0</td>\n",
       "      <td>16.000000</td>\n",
       "      <td>5</td>\n",
       "      <td>False</td>\n",
       "      <td>...</td>\n",
       "      <td>9.000</td>\n",
       "      <td>0.0</td>\n",
       "      <td>Сланцы</td>\n",
       "      <td>0.0</td>\n",
       "      <td>0.0</td>\n",
       "      <td>0.0</td>\n",
       "      <td>0.0</td>\n",
       "      <td>0.0</td>\n",
       "      <td>0.0</td>\n",
       "      <td>26.0</td>\n",
       "    </tr>\n",
       "    <tr>\n",
       "      <td>6859</td>\n",
       "      <td>6</td>\n",
       "      <td>490000.0</td>\n",
       "      <td>40.0</td>\n",
       "      <td>2017-12-11T00:00:00</td>\n",
       "      <td>1</td>\n",
       "      <td>2.65</td>\n",
       "      <td>5.0</td>\n",
       "      <td>23.076923</td>\n",
       "      <td>3</td>\n",
       "      <td>False</td>\n",
       "      <td>...</td>\n",
       "      <td>7.000</td>\n",
       "      <td>0.0</td>\n",
       "      <td>Старополье</td>\n",
       "      <td>0.0</td>\n",
       "      <td>0.0</td>\n",
       "      <td>0.0</td>\n",
       "      <td>0.0</td>\n",
       "      <td>0.0</td>\n",
       "      <td>0.0</td>\n",
       "      <td>43.0</td>\n",
       "    </tr>\n",
       "    <tr>\n",
       "      <td>12756</td>\n",
       "      <td>10</td>\n",
       "      <td>950000.0</td>\n",
       "      <td>57.0</td>\n",
       "      <td>2018-06-11T00:00:00</td>\n",
       "      <td>3</td>\n",
       "      <td>2.70</td>\n",
       "      <td>2.0</td>\n",
       "      <td>38.000000</td>\n",
       "      <td>2</td>\n",
       "      <td>False</td>\n",
       "      <td>...</td>\n",
       "      <td>6.000</td>\n",
       "      <td>1.0</td>\n",
       "      <td>Сланцы</td>\n",
       "      <td>0.0</td>\n",
       "      <td>0.0</td>\n",
       "      <td>0.0</td>\n",
       "      <td>0.0</td>\n",
       "      <td>0.0</td>\n",
       "      <td>0.0</td>\n",
       "      <td>133.0</td>\n",
       "    </tr>\n",
       "  </tbody>\n",
       "</table>\n",
       "<p>5 rows × 22 columns</p>\n",
       "</div>"
      ],
      "text/plain": [
       "       total_images  last_price  total_area first_day_exposition  rooms  \\\n",
       "12592            15    850000.0        52.0  2018-02-09T00:00:00      3   \n",
       "12999             6    850000.0        31.0  2019-01-29T00:00:00      1   \n",
       "19395            20    700000.0        41.0  2018-10-26T00:00:00      1   \n",
       "6859              6    490000.0        40.0  2017-12-11T00:00:00      1   \n",
       "12756            10    950000.0        57.0  2018-06-11T00:00:00      3   \n",
       "\n",
       "       ceiling_height  floors_total  living_area  floor  is_apartment  ...  \\\n",
       "12592            2.65           4.0    30.000000      2         False  ...   \n",
       "12999            2.65           5.0    17.884615      1         False  ...   \n",
       "19395            2.65           5.0    16.000000      5         False  ...   \n",
       "6859             2.65           5.0    23.076923      3         False  ...   \n",
       "12756            2.70           2.0    38.000000      2         False  ...   \n",
       "\n",
       "       kitchen_area  balcony  locality_name  airports_nearest  \\\n",
       "12592         5.800      0.0       Пикалёво               0.0   \n",
       "12999         5.425      0.0     Подпорожье               0.0   \n",
       "19395         9.000      0.0         Сланцы               0.0   \n",
       "6859          7.000      0.0     Старополье               0.0   \n",
       "12756         6.000      1.0         Сланцы               0.0   \n",
       "\n",
       "      cityCenters_nearest  parks_around3000  parks_nearest  ponds_around3000  \\\n",
       "12592                 0.0               0.0            0.0               0.0   \n",
       "12999                 0.0               0.0            0.0               0.0   \n",
       "19395                 0.0               0.0            0.0               0.0   \n",
       "6859                  0.0               0.0            0.0               0.0   \n",
       "12756                 0.0               0.0            0.0               0.0   \n",
       "\n",
       "       ponds_nearest  days_exposition  \n",
       "12592            0.0             46.0  \n",
       "12999            0.0             95.0  \n",
       "19395            0.0             26.0  \n",
       "6859             0.0             43.0  \n",
       "12756            0.0            133.0  \n",
       "\n",
       "[5 rows x 22 columns]"
      ]
     },
     "execution_count": 32,
     "metadata": {},
     "output_type": "execute_result"
    },
    {
     "data": {
      "image/png": "[encoded data removed]",
      "text/plain": [
       "<Figure size 432x288 with 1 Axes>"
      ]
     },
     "metadata": {
      "needs_background": "light"
     },
     "output_type": "display_data"
    }
   ],
   "source": [
    "df['last_price'].hist(bins=100, range=(0, 1000000))\n",
    "df['last_price'].sort_values()  #определяем индекс строки с минимальной ценой\n",
    "df.iloc[8793] #смотрим данные на квартиру по индексу\n",
    "df.query('total_area == 109').sample(5) #смотрим цены на квартиры с площадью 109м.кв.\n",
    "df.query('last_price < 1000000').sample(5) #смотрим данные по квартирам дешевле 1000000"
   ]
  },
  {
   "cell_type": "markdown",
   "metadata": {},
   "source": [
    "- имеется одно ошибочное значение в данных о цене\n",
    "- после анализа данных определяем, что ошибка составляет 3 порядка, исправим данный выброс\n",
    "- квартиры дешевле 1 000 000руб., расположены в области, и скорее всего имеют корректное обозначение цены."
   ]
  },
  {
   "cell_type": "code",
   "execution_count": 33,
   "metadata": {},
   "outputs": [],
   "source": [
    "df.loc[df['last_price']==12190, 'last_price'] = 12190000"
   ]
  },
  {
   "cell_type": "markdown",
   "metadata": {},
   "source": [
    "### Замена типа данных"
   ]
  },
  {
   "cell_type": "code",
   "execution_count": 34,
   "metadata": {
    "scrolled": true
   },
   "outputs": [
    {
     "data": {
      "text/html": [
       "<div>\n",
       "<style scoped>\n",
       "    .dataframe tbody tr th:only-of-type {\n",
       "        vertical-align: middle;\n",
       "    }\n",
       "\n",
       "    .dataframe tbody tr th {\n",
       "        vertical-align: top;\n",
       "    }\n",
       "\n",
       "    .dataframe thead th {\n",
       "        text-align: right;\n",
       "    }\n",
       "</style>\n",
       "<table border=\"1\" class=\"dataframe\">\n",
       "  <thead>\n",
       "    <tr style=\"text-align: right;\">\n",
       "      <th></th>\n",
       "      <th>total_images</th>\n",
       "      <th>last_price</th>\n",
       "      <th>total_area</th>\n",
       "      <th>first_day_exposition</th>\n",
       "      <th>rooms</th>\n",
       "      <th>ceiling_height</th>\n",
       "      <th>floors_total</th>\n",
       "      <th>living_area</th>\n",
       "      <th>floor</th>\n",
       "      <th>is_apartment</th>\n",
       "      <th>...</th>\n",
       "      <th>kitchen_area</th>\n",
       "      <th>balcony</th>\n",
       "      <th>locality_name</th>\n",
       "      <th>airports_nearest</th>\n",
       "      <th>cityCenters_nearest</th>\n",
       "      <th>parks_around3000</th>\n",
       "      <th>parks_nearest</th>\n",
       "      <th>ponds_around3000</th>\n",
       "      <th>ponds_nearest</th>\n",
       "      <th>days_exposition</th>\n",
       "    </tr>\n",
       "  </thead>\n",
       "  <tbody>\n",
       "    <tr>\n",
       "      <td>7239</td>\n",
       "      <td>10</td>\n",
       "      <td>9990000</td>\n",
       "      <td>90</td>\n",
       "      <td>2016-06-13</td>\n",
       "      <td>3</td>\n",
       "      <td>3.10</td>\n",
       "      <td>6</td>\n",
       "      <td>76</td>\n",
       "      <td>6</td>\n",
       "      <td>False</td>\n",
       "      <td>...</td>\n",
       "      <td>43.4</td>\n",
       "      <td>3</td>\n",
       "      <td>Санкт-Петербург</td>\n",
       "      <td>33358</td>\n",
       "      <td>13171</td>\n",
       "      <td>0</td>\n",
       "      <td>0</td>\n",
       "      <td>2</td>\n",
       "      <td>118</td>\n",
       "      <td>630</td>\n",
       "    </tr>\n",
       "    <tr>\n",
       "      <td>20068</td>\n",
       "      <td>11</td>\n",
       "      <td>6990000</td>\n",
       "      <td>80</td>\n",
       "      <td>2019-02-19</td>\n",
       "      <td>3</td>\n",
       "      <td>2.65</td>\n",
       "      <td>5</td>\n",
       "      <td>49</td>\n",
       "      <td>4</td>\n",
       "      <td>False</td>\n",
       "      <td>...</td>\n",
       "      <td>11.0</td>\n",
       "      <td>4</td>\n",
       "      <td>Санкт-Петербург</td>\n",
       "      <td>47362</td>\n",
       "      <td>25925</td>\n",
       "      <td>1</td>\n",
       "      <td>169</td>\n",
       "      <td>1</td>\n",
       "      <td>404</td>\n",
       "      <td>95</td>\n",
       "    </tr>\n",
       "    <tr>\n",
       "      <td>5474</td>\n",
       "      <td>8</td>\n",
       "      <td>1370000</td>\n",
       "      <td>31</td>\n",
       "      <td>2017-10-19</td>\n",
       "      <td>1</td>\n",
       "      <td>2.65</td>\n",
       "      <td>4</td>\n",
       "      <td>17</td>\n",
       "      <td>1</td>\n",
       "      <td>False</td>\n",
       "      <td>...</td>\n",
       "      <td>7.0</td>\n",
       "      <td>0</td>\n",
       "      <td>Тосно</td>\n",
       "      <td>0</td>\n",
       "      <td>0</td>\n",
       "      <td>0</td>\n",
       "      <td>0</td>\n",
       "      <td>0</td>\n",
       "      <td>0</td>\n",
       "      <td>48</td>\n",
       "    </tr>\n",
       "    <tr>\n",
       "      <td>22223</td>\n",
       "      <td>8</td>\n",
       "      <td>6750000</td>\n",
       "      <td>54</td>\n",
       "      <td>2018-07-23</td>\n",
       "      <td>2</td>\n",
       "      <td>2.70</td>\n",
       "      <td>18</td>\n",
       "      <td>28</td>\n",
       "      <td>14</td>\n",
       "      <td>False</td>\n",
       "      <td>...</td>\n",
       "      <td>11.7</td>\n",
       "      <td>5</td>\n",
       "      <td>Санкт-Петербург</td>\n",
       "      <td>45929</td>\n",
       "      <td>18654</td>\n",
       "      <td>0</td>\n",
       "      <td>0</td>\n",
       "      <td>0</td>\n",
       "      <td>0</td>\n",
       "      <td>70</td>\n",
       "    </tr>\n",
       "    <tr>\n",
       "      <td>12366</td>\n",
       "      <td>11</td>\n",
       "      <td>6800000</td>\n",
       "      <td>53</td>\n",
       "      <td>2016-12-07</td>\n",
       "      <td>2</td>\n",
       "      <td>3.30</td>\n",
       "      <td>7</td>\n",
       "      <td>34</td>\n",
       "      <td>5</td>\n",
       "      <td>False</td>\n",
       "      <td>...</td>\n",
       "      <td>8.0</td>\n",
       "      <td>1</td>\n",
       "      <td>Санкт-Петербург</td>\n",
       "      <td>10574</td>\n",
       "      <td>9556</td>\n",
       "      <td>1</td>\n",
       "      <td>194</td>\n",
       "      <td>0</td>\n",
       "      <td>0</td>\n",
       "      <td>493</td>\n",
       "    </tr>\n",
       "  </tbody>\n",
       "</table>\n",
       "<p>5 rows × 22 columns</p>\n",
       "</div>"
      ],
      "text/plain": [
       "       total_images  last_price  total_area first_day_exposition  rooms  \\\n",
       "7239             10     9990000          90           2016-06-13      3   \n",
       "20068            11     6990000          80           2019-02-19      3   \n",
       "5474              8     1370000          31           2017-10-19      1   \n",
       "22223             8     6750000          54           2018-07-23      2   \n",
       "12366            11     6800000          53           2016-12-07      2   \n",
       "\n",
       "       ceiling_height  floors_total  living_area  floor  is_apartment  ...  \\\n",
       "7239             3.10             6           76      6         False  ...   \n",
       "20068            2.65             5           49      4         False  ...   \n",
       "5474             2.65             4           17      1         False  ...   \n",
       "22223            2.70            18           28     14         False  ...   \n",
       "12366            3.30             7           34      5         False  ...   \n",
       "\n",
       "       kitchen_area  balcony    locality_name  airports_nearest  \\\n",
       "7239           43.4        3  Санкт-Петербург             33358   \n",
       "20068          11.0        4  Санкт-Петербург             47362   \n",
       "5474            7.0        0            Тосно                 0   \n",
       "22223          11.7        5  Санкт-Петербург             45929   \n",
       "12366           8.0        1  Санкт-Петербург             10574   \n",
       "\n",
       "      cityCenters_nearest  parks_around3000  parks_nearest  ponds_around3000  \\\n",
       "7239                13171                 0              0                 2   \n",
       "20068               25925                 1            169                 1   \n",
       "5474                    0                 0              0                 0   \n",
       "22223               18654                 0              0                 0   \n",
       "12366                9556                 1            194                 0   \n",
       "\n",
       "       ponds_nearest  days_exposition  \n",
       "7239             118              630  \n",
       "20068            404               95  \n",
       "5474               0               48  \n",
       "22223              0               70  \n",
       "12366              0              493  \n",
       "\n",
       "[5 rows x 22 columns]"
      ]
     },
     "execution_count": 34,
     "metadata": {},
     "output_type": "execute_result"
    }
   ],
   "source": [
    "df['total_images']=df['total_images'].astype('int8')\n",
    "df['last_price']=df['last_price'].astype('int32')\n",
    "df['total_area']=round(df['total_area'].astype('int16')) #округляем до целых значений\n",
    "df['rooms']=df['rooms'].astype('int8')\n",
    "df['floors_total']=df['floors_total'].astype('int8')\n",
    "df['living_area']=round(df['living_area'].astype('int16')) #округляем до целых значений\n",
    "df['floor']=df['floor'].astype('int8')\n",
    "df['balcony']=df['balcony'].astype('int8')\n",
    "df['airports_nearest']=df['airports_nearest'].astype('int32')\n",
    "df['cityCenters_nearest']=df['cityCenters_nearest'].astype('int32')\n",
    "df['parks_around3000']=df['parks_around3000'].astype('int8')\n",
    "df['parks_nearest']=df['parks_nearest'].astype('int32')\n",
    "df['ponds_around3000']=df['ponds_around3000'].astype('int8')\n",
    "df['ponds_nearest']=df['ponds_nearest'].astype('int32')\n",
    "df['days_exposition']=df['days_exposition'].astype('int16')\n",
    "df['first_day_exposition'] = pd.to_datetime(df['first_day_exposition'])\n",
    "df.sample(5)"
   ]
  },
  {
   "cell_type": "markdown",
   "metadata": {},
   "source": [
    "### Общий вывод по подготовке данных"
   ]
  },
  {
   "cell_type": "markdown",
   "metadata": {},
   "source": [
    "- После проведения обработки и замены типов данных, удалось снизить затраты памяти с 3,7 до 1,5mb.   \n",
    "- При росте объема данных экономия ресурсов на 60% может иметь большое значение.  \n",
    "- Кроме того данные приняли вид более удобный для визуального анализа.\n",
    "- Убрали выбросы в высоте потолков. Объеденили их в диапазоне 2,48-4,5м. Такие значения были выбраны в соответствии со сложишимися исторически высотами потолков в Санкт-Петербурге\n",
    "- убрали этажность домов, которая отстутствует в городе. Несмотря на это, выбросы были в сторону высотных домов. Таким образом объеденили данныен выбросы для условной высоты в 35 этажей.\n",
    "- в столбце \"жилая площадь\" много пропусков данных. Убрали их заменив на отношений общей площади квартиры к медианному отношению общей площади к жилой по всей выборке\n",
    "- так же отсекли нижний порог по жилым площадям менее 12м.кв. (площадь выбрана на основнаии наличия в реальной продаже в Санкт-Петербурге квартиры такой площади)\n",
    "- доля аппартаментов очень мала, поэтому несмотря на большое количество пропущенных данных будем считать данные объекты обычными квартирами\n",
    "- по площадям кухонь так же наблюдается относительно большой пропуск в данных (10%), заменим их по аналогии с квартирами с отсутствующей жилой площадью. За минимальную площадь кухни примем 4,5м.кв.(минимальная кухня в 'хрущевке')\n",
    "- наличие балкона не коррелируется с иными данными, поэтому все пропуски будим считать - отсутствием балкона в квартире.\n",
    "- при обработке данных по населенным пунктам, было выявлено большое количество неявных дубликатов, связанных с различным вводом данных в таблице, привели ее к общему виду\n",
    "- в результате обработки данных дубликатов, так же изменились данные, стали более соответствовать их фактическому значению. Так например, Кудрово, поднялось в результате корректировки данных с 10 места на 3 по количеству размещенных объявлений (472 против 299 ранее).\n",
    "- имеется множество пропусков в данных о расстоянии до аэропорта, центра, о наличии и расстоянии до парков и водоемов\n",
    "- это явный пропуск в картографических данных, с учетом того что актуализировать данные у нас на данный момент нет возможности, для удобство анализа заменим пропуски 0\n",
    "- количество размещений объявлений менее 1 недели незначительно, поэтому оставляем их как есть\n",
    "- пропуски в данных о времени размещения объявлений заменим на медиану, медиана составляет 95 дней, что чуть больше 3 месяцев - нормальное время размещения объявления о продаже недвижимости\n",
    "- все квартиры с количеством комнат 0 являются либо студиями либо квартирами с свободной планировкой\n",
    "- нельзя отнести данный момент к некорректной обработке данных, однако в связи с тем что данных квартир незначительное количество, изменим количество комнат на 1 для удобства проведения последующего анализа\n",
    "- имеется один выброс близкий к 0 в столбце \"цена\". После анализа определили, что ошибка в данных на 3 порядка, исправили значение\n",
    "- квартиры дешевле 1 000 000 находятся в области, так что низкая цена допустима"
   ]
  },
  {
   "cell_type": "markdown",
   "metadata": {},
   "source": [
    "## Расчёты и добавление результатов в таблицу"
   ]
  },
  {
   "cell_type": "markdown",
   "metadata": {},
   "source": [
    "### Расчеты"
   ]
  },
  {
   "cell_type": "markdown",
   "metadata": {},
   "source": [
    "#### Цена квадратного метра"
   ]
  },
  {
   "cell_type": "code",
   "execution_count": 35,
   "metadata": {},
   "outputs": [
    {
     "name": "stdout",
     "output_type": "stream",
     "text": [
      "Минимальная цена кв.м. 7962\n",
      "Максимальная цена кв.м. 1907500\n",
      "Средняя стоимость кв.м. 99878\n",
      "Медианная стоимость кв.м. 95454\n"
     ]
    }
   ],
   "source": [
    "df['price_kvm']=df['last_price']/df['total_area']\n",
    "df['price_kvm']=df['price_kvm'].astype('int32')\n",
    "print('Минимальная цена кв.м.', df['price_kvm'].min())\n",
    "print('Максимальная цена кв.м.', df['price_kvm'].max())\n",
    "print('Средняя стоимость кв.м.', round(df['price_kvm'].mean()))\n",
    "print('Медианная стоимость кв.м.', round(df['price_kvm'].median()))"
   ]
  },
  {
   "cell_type": "markdown",
   "metadata": {},
   "source": [
    "#### Дата снятия объявления с публикации"
   ]
  },
  {
   "cell_type": "code",
   "execution_count": 36,
   "metadata": {},
   "outputs": [
    {
     "name": "stdout",
     "output_type": "stream",
     "text": [
      "Самое раннее снятое объявление 2015-03-02 00:00:00\n",
      "Самое позднее снятое объявление 2019-08-06 00:00:00\n"
     ]
    }
   ],
   "source": [
    "exp_off = df['days_exposition'].apply(lambda x: pd.Timedelta(x, unit='D'))\n",
    "df['last_day_exposition'] = df['first_day_exposition'] + exp_off\n",
    "\n",
    "print('Самое раннее снятое объявление', df['last_day_exposition'].min())\n",
    "print('Самое позднее снятое объявление', df['last_day_exposition'].max())"
   ]
  },
  {
   "cell_type": "markdown",
   "metadata": {},
   "source": [
    "#### День недели, месяц и год подачи объявления"
   ]
  },
  {
   "cell_type": "code",
   "execution_count": 37,
   "metadata": {},
   "outputs": [
    {
     "name": "stdout",
     "output_type": "stream",
     "text": [
      "Чаще всего размещали объявления по дням недели (0-пн, 6-вс) в %:\n",
      "3    18.0\n",
      "1    18.0\n",
      "4    17.0\n",
      "2    17.0\n",
      "0    15.0\n",
      "5     8.0\n",
      "6     7.0\n",
      "Name: first_weekday, dtype: float64\n",
      "\n",
      "Чаще всего размещали объявления в следующие месяцы (1-янв, 12-дек) в %:\n",
      "2     11.0\n",
      "3     11.0\n",
      "4     10.0\n",
      "11    10.0\n",
      "10     9.0\n",
      "9      8.0\n",
      "6      7.0\n",
      "8      7.0\n",
      "7      7.0\n",
      "12     7.0\n",
      "1      6.0\n",
      "5      5.0\n",
      "Name: first_month, dtype: float64\n",
      "\n",
      "Чаще всего размещали объявления в следующие годы в %:\n",
      "2018    36.0\n",
      "2017    35.0\n",
      "2019    12.0\n",
      "2016    12.0\n",
      "2015     5.0\n",
      "2014     1.0\n",
      "Name: first_year, dtype: float64\n"
     ]
    }
   ],
   "source": [
    "df['first_weekday']=df['first_day_exposition'].dt.weekday\n",
    "df['first_month']=df['first_day_exposition'].dt.month\n",
    "df['first_year']=df['first_day_exposition'].dt.year\n",
    "print ('Чаще всего размещали объявления по дням недели (0-пн, 6-вс) в %:')\n",
    "print(round(df['first_weekday'].value_counts(normalize=True)*100))\n",
    "print('')\n",
    "print ('Чаще всего размещали объявления в следующие месяцы (1-янв, 12-дек) в %:')\n",
    "print(round(df['first_month'].value_counts(normalize=True)*100))\n",
    "print('')\n",
    "print ('Чаще всего размещали объявления в следующие годы в %:')\n",
    "print(round(df['first_year'].value_counts(normalize=True)*100))"
   ]
  },
  {
   "cell_type": "markdown",
   "metadata": {},
   "source": [
    "#### Этаж квартиры (первый, последний, другой)"
   ]
  },
  {
   "cell_type": "code",
   "execution_count": 38,
   "metadata": {},
   "outputs": [
    {
     "name": "stdout",
     "output_type": "stream",
     "text": [
      "На каком этаже расположена квартира:\n"
     ]
    },
    {
     "data": {
      "text/plain": [
       "другой       17441\n",
       "последний     3341\n",
       "первый        2917\n",
       "Name: id_floor, dtype: int64"
      ]
     },
     "execution_count": 38,
     "metadata": {},
     "output_type": "execute_result"
    }
   ],
   "source": [
    "def n_floor(i):\n",
    "        if i['floor'] == 1:\n",
    "            return 'первый'\n",
    "        if i['floor'] == i['floors_total']:\n",
    "            return 'последний'\n",
    "        return 'другой'\n",
    "               \n",
    "df['id_floor'] = df.apply(n_floor, axis = 1)  \n",
    "\n",
    "print('На каком этаже расположена квартира:')\n",
    "df['id_floor'].value_counts()"
   ]
  },
  {
   "cell_type": "markdown",
   "metadata": {},
   "source": [
    "#### Соотношение жилой и общей площади"
   ]
  },
  {
   "cell_type": "code",
   "execution_count": 39,
   "metadata": {},
   "outputs": [
    {
     "name": "stdout",
     "output_type": "stream",
     "text": [
      "Минимальное соотношение жилой и общей площади 0.14\n",
      "Максимальное соотношение жилой и общей площади 1.0\n",
      "Среднее соотношение жилой и общей площади 0.57\n",
      "Медианное соотношение жилой и общей площади 0.57\n"
     ]
    }
   ],
   "source": [
    "df['k_area'] = round(df['living_area']/df['total_area'], 2)\n",
    "print('Минимальное соотношение жилой и общей площади', df['k_area'].min())\n",
    "print('Максимальное соотношение жилой и общей площади', df['k_area'].max())\n",
    "print('Среднее соотношение жилой и общей площади', round(df['k_area'].mean(), 2))\n",
    "print('Медианное соотношение жилой и общей площади', round(df['k_area'].median(),2))"
   ]
  },
  {
   "cell_type": "markdown",
   "metadata": {},
   "source": [
    "#### Отношение площади кухни к общей площади"
   ]
  },
  {
   "cell_type": "code",
   "execution_count": 40,
   "metadata": {},
   "outputs": [
    {
     "name": "stdout",
     "output_type": "stream",
     "text": [
      "Минимальное соотношение кухни и общей площади 0.03\n",
      "Максимальное соотношение кухни и общей площади 0.79\n",
      "Среднее соотношение кухни и общей площади 0.19\n",
      "Медианное соотношение кухни и общей площади 0.18\n"
     ]
    }
   ],
   "source": [
    "df['k_kitchen'] = round(df['kitchen_area']/df['total_area'], 2)\n",
    "print('Минимальное соотношение кухни и общей площади', df['k_kitchen'].min())\n",
    "print('Максимальное соотношение кухни и общей площади', df['k_kitchen'].max())\n",
    "print('Среднее соотношение кухни и общей площади', round(df['k_kitchen'].mean(), 2))\n",
    "print('Медианное соотношение кухни и общей площади', round(df['k_kitchen'].median(),2))"
   ]
  },
  {
   "cell_type": "markdown",
   "metadata": {},
   "source": [
    "### Выводы по расчетам"
   ]
  },
  {
   "cell_type": "markdown",
   "metadata": {},
   "source": [
    "- разброс по стоимость жилья очень велик и зависит от множества факторов\n",
    "- средняя цена метра и медианная практически совпадают и составляют 95-99 тыс.руб./м.кв.\n",
    "- чаще всего объявления размещают в будние дни, на долю сб и вс приходится всего 15% всех объявлений\n",
    "- больше всего объявлений приходится на февраль-апрель - 32%, а меньше всего на лето - 21%\n",
    "- 71% объявлений приходится на 2017-2018 года\n",
    "- на первый и последний этажи приходится 12 и 14 %% всех объявлений\n",
    "- в соотношении жилой и общей площади просматривается большой разброс,  \n",
    "причем максимальное значение в 1 является выбросом из-за наших допущений при обработке входящих данных\n",
    "- при этом среднее и медианное соотношение площадей совпадает - 0,57\n",
    "- соотношение площади кухни к общей площади квартиры, так же имеет очень широкий разброс\n",
    "- при этом среднее и медианное значение очень близки 0,18-0,19"
   ]
  },
  {
   "cell_type": "markdown",
   "metadata": {},
   "source": [
    "## Исследовательский анализ данных"
   ]
  },
  {
   "cell_type": "markdown",
   "metadata": {},
   "source": [
    "#### Площадь, цена, число комнат и высота потолков"
   ]
  },
  {
   "cell_type": "code",
   "execution_count": 41,
   "metadata": {},
   "outputs": [
    {
     "data": {
      "text/plain": [
       "<matplotlib.axes._subplots.AxesSubplot at 0x7f26c7e78ed0>"
      ]
     },
     "execution_count": 41,
     "metadata": {},
     "output_type": "execute_result"
    },
    {
     "data": {
      "image/png": "[encoded data removed]",
      "text/plain": [
       "<Figure size 432x288 with 1 Axes>"
      ]
     },
     "metadata": {
      "needs_background": "light"
     },
     "output_type": "display_data"
    }
   ],
   "source": [
    "# общая площадь\n",
    "df['total_area'].hist(bins=20, range=(10, 150))"
   ]
  },
  {
   "cell_type": "markdown",
   "metadata": {},
   "source": [
    "- наибольшее предложение квартир с общей площадью 30-65 м.кв. (около 65%)\n",
    "- но и доля \"больших\" квартир 70-100 достаточна велика (около 20%)\n",
    "- доля квартир менее 30м.кв. мала и составляет около 5%\n",
    "- предложение квартир свыше 100 кв.м. относительно не велико, но их доля равномерна распределена"
   ]
  },
  {
   "cell_type": "code",
   "execution_count": 42,
   "metadata": {},
   "outputs": [
    {
     "data": {
      "text/plain": [
       "<matplotlib.axes._subplots.AxesSubplot at 0x7f26791595d0>"
      ]
     },
     "execution_count": 42,
     "metadata": {},
     "output_type": "execute_result"
    },
    {
     "data": {
      "image/png": "[encoded data removed]",
      "text/plain": [
       "<Figure size 432x288 with 1 Axes>"
      ]
     },
     "metadata": {
      "needs_background": "light"
     },
     "output_type": "display_data"
    }
   ],
   "source": [
    "# количество комнат\n",
    "df['rooms'].hist(bins=10, range=(1, 10))"
   ]
  },
  {
   "cell_type": "markdown",
   "metadata": {},
   "source": [
    "- предложение 1 и 2-х комнатных квартир примерно одинаковое и составляет подавляющую долю объявлений - 68%\n",
    "- число предложений квартир с 3 комнатами так же велико - около 25%\n",
    "- предложение квартир с числом комнат больше 3 резко падает\n",
    "- предложения с числом комнат 5+ практически отсутствуют"
   ]
  },
  {
   "cell_type": "code",
   "execution_count": 43,
   "metadata": {},
   "outputs": [
    {
     "data": {
      "text/plain": [
       "<matplotlib.axes._subplots.AxesSubplot at 0x7f267917bd10>"
      ]
     },
     "execution_count": 43,
     "metadata": {},
     "output_type": "execute_result"
    },
    {
     "data": {
      "image/png": "[encoded data removed]",
      "text/plain": [
       "<Figure size 432x288 with 1 Axes>"
      ]
     },
     "metadata": {
      "needs_background": "light"
     },
     "output_type": "display_data"
    }
   ],
   "source": [
    "# цена\n",
    "df['last_price'].hist(bins=30, range=(400000, 15000000))"
   ]
  },
  {
   "cell_type": "markdown",
   "metadata": {},
   "source": [
    "- больше всего предлагается квартир в диапазоне 3-5 млн.руб. (около 47%)\n",
    "- имеется значительная часть предложений (около 15%) с ценой менее 3 млн.руб., что можно связать с большим предложением квартир в области\n",
    "- предложения свыше 5 млн руб, так же широко распределны, но их доля плавно уменьшается с ростом цены"
   ]
  },
  {
   "cell_type": "code",
   "execution_count": 44,
   "metadata": {},
   "outputs": [
    {
     "data": {
      "text/plain": [
       "<matplotlib.axes._subplots.AxesSubplot at 0x7f2679232c50>"
      ]
     },
     "execution_count": 44,
     "metadata": {},
     "output_type": "execute_result"
    },
    {
     "data": {
      "image/png": "[encoded data removed]",
      "text/plain": [
       "<Figure size 432x288 with 1 Axes>"
      ]
     },
     "metadata": {
      "needs_background": "light"
     },
     "output_type": "display_data"
    }
   ],
   "source": [
    "# высота потолков\n",
    "df['ceiling_height'].hist(bins=20, range=(2.4, 3.2))"
   ]
  },
  {
   "cell_type": "markdown",
   "metadata": {},
   "source": [
    "- наибольшее число предложений квартир с высотой потолка 2,65 (более 40%), что соответствует высоте в наиболее распространенных жилых домах\n",
    "- выброс на уровне высоты потолка в 2,5м, можно связать с наличием в продаже большого количества \"хрущевок\" (около 17% от выборки)\n",
    "- небольшой выброс в районе высоты в 3-3,2м, можно объяснить наличием относительно большого количества \"сталинок\" в выборке (около 8%)"
   ]
  },
  {
   "cell_type": "markdown",
   "metadata": {},
   "source": [
    "#### Время продажи квартиры"
   ]
  },
  {
   "cell_type": "code",
   "execution_count": 45,
   "metadata": {},
   "outputs": [
    {
     "name": "stdout",
     "output_type": "stream",
     "text": [
      "Среднее время продажи квартиры 169 дней\n",
      "Медианное время продажи квартиры 95 дней\n"
     ]
    },
    {
     "data": {
      "image/png": "[encoded data removed]",
      "text/plain": [
       "<Figure size 432x288 with 1 Axes>"
      ]
     },
     "metadata": {
      "needs_background": "light"
     },
     "output_type": "display_data"
    }
   ],
   "source": [
    "df['days_exposition'].hist(bins=30, range=(0, 400))\n",
    "print('Среднее время продажи квартиры', round(df['days_exposition'].mean()), 'дней')\n",
    "print('Медианное время продажи квартиры', round(df['days_exposition'].median()), 'дней')"
   ]
  },
  {
   "cell_type": "code",
   "execution_count": 46,
   "metadata": {},
   "outputs": [
    {
     "data": {
      "text/plain": [
       "{'whiskers': [<matplotlib.lines.Line2D at 0x7f26c7c3c2d0>,\n",
       "  <matplotlib.lines.Line2D at 0x7f26c7c3c7d0>],\n",
       " 'caps': [<matplotlib.lines.Line2D at 0x7f26c7c2ffd0>,\n",
       "  <matplotlib.lines.Line2D at 0x7f26c7bc4210>],\n",
       " 'boxes': [<matplotlib.lines.Line2D at 0x7f26827e4c50>],\n",
       " 'medians': [<matplotlib.lines.Line2D at 0x7f26c7bc4750>],\n",
       " 'fliers': [<matplotlib.lines.Line2D at 0x7f26c7bc4c50>],\n",
       " 'means': []}"
      ]
     },
     "execution_count": 46,
     "metadata": {},
     "output_type": "execute_result"
    },
    {
     "data": {
      "image/png": "[encoded data removed]",
      "text/plain": [
       "<Figure size 432x288 with 1 Axes>"
      ]
     },
     "metadata": {
      "needs_background": "light"
     },
     "output_type": "display_data"
    }
   ],
   "source": [
    "plt.boxplot(df['days_exposition']) #диаграмма размаха"
   ]
  },
  {
   "cell_type": "markdown",
   "metadata": {},
   "source": [
    "- выброс данных в районе медианы ненужно полностью принимать в расчет, так как во время обработки данных мы заполняли отсутствующие данные медианой\n",
    "- с учетом того что таких данных было значительное количество (14%), это привело к перекосу графика\n",
    "- однако медианное значение без учета пропусков так же составляло 95 дней\n",
    "- из этого можно сделать вывод, что половина объявлений закрывается за 3 месяца\n",
    "- если исключить пропущенные данные по дате из выборки, то наибольший пик закрытия объявлений придется на период 50-60 дней\n",
    "- доля закрытия объявлений менее чем за 10 дней то же велика и составляет более 6%\n",
    "- нет понимания в чем причина короткого размещения объявления, необходим более глубокий анализ и наличие данных для поиска 3-го фактора\n",
    "- можно говорить о том, что стандартное время размещения объявления составляет от 2 недель до 6 месяцев\n",
    "- судя по межквартильному размаху, объявления снятые менее чем за 2 недели размещаются очень быстро, а объявления размещенные более 400 дней - очень долго"
   ]
  },
  {
   "cell_type": "markdown",
   "metadata": {},
   "source": [
    "#### Редкие и выбивающиеся значения"
   ]
  },
  {
   "cell_type": "code",
   "execution_count": 47,
   "metadata": {},
   "outputs": [
    {
     "data": {
      "text/plain": [
       "{'whiskers': [<matplotlib.lines.Line2D at 0x7f26c7bb0f50>,\n",
       "  <matplotlib.lines.Line2D at 0x7f26c7bb6510>],\n",
       " 'caps': [<matplotlib.lines.Line2D at 0x7f26c7bb6a10>,\n",
       "  <matplotlib.lines.Line2D at 0x7f26c7bb6f10>],\n",
       " 'boxes': [<matplotlib.lines.Line2D at 0x7f26c7bb0390>],\n",
       " 'medians': [<matplotlib.lines.Line2D at 0x7f26c7bbc490>],\n",
       " 'fliers': [<matplotlib.lines.Line2D at 0x7f26c7bbc990>],\n",
       " 'means': []}"
      ]
     },
     "execution_count": 47,
     "metadata": {},
     "output_type": "execute_result"
    },
    {
     "data": {
      "image/png": "[encoded data removed]",
      "text/plain": [
       "<Figure size 432x288 with 1 Axes>"
      ]
     },
     "metadata": {
      "needs_background": "light"
     },
     "output_type": "display_data"
    }
   ],
   "source": [
    "df.sort_values(by='total_area', ascending=False).head(10).T #смотрим топ-10 квартир по общей площадт\n",
    "df.sort_values(by='total_area', ascending=True).head(10).T #смотрим 10 самых маленьких квартир\n",
    "plt.boxplot(df['total_area'])"
   ]
  },
  {
   "cell_type": "markdown",
   "metadata": {},
   "source": [
    "- среди топ-10 квартир по площади не просматривается явная зависимость от какого-либо параметра\n",
    "- среди 10 самых маленьких квартир прослеживаются следующие моменты:   \n",
    "квартира расположена в Санкт-Петербурге, в 5 этажном доме, в основном на 1 этажах, с очень маленькими кухнями \n",
    "- из этого можно сделать вывод, что данные квартиры являются либо комнатами в коммуналках либо перестроенными подсобными помещениями"
   ]
  },
  {
   "cell_type": "code",
   "execution_count": 48,
   "metadata": {},
   "outputs": [
    {
     "data": {
      "text/plain": [
       "{'whiskers': [<matplotlib.lines.Line2D at 0x7f26c7b19d10>,\n",
       "  <matplotlib.lines.Line2D at 0x7f26c7b1d2d0>],\n",
       " 'caps': [<matplotlib.lines.Line2D at 0x7f26c7b1d7d0>,\n",
       "  <matplotlib.lines.Line2D at 0x7f26c7b1dcd0>],\n",
       " 'boxes': [<matplotlib.lines.Line2D at 0x7f26c7b19150>],\n",
       " 'medians': [<matplotlib.lines.Line2D at 0x7f26c7b26250>],\n",
       " 'fliers': [<matplotlib.lines.Line2D at 0x7f26c7b26750>],\n",
       " 'means': []}"
      ]
     },
     "execution_count": 48,
     "metadata": {},
     "output_type": "execute_result"
    },
    {
     "data": {
      "image/png": "[encoded data removed]",
      "text/plain": [
       "<Figure size 432x288 with 1 Axes>"
      ]
     },
     "metadata": {
      "needs_background": "light"
     },
     "output_type": "display_data"
    }
   ],
   "source": [
    "df.sort_values(by='rooms', ascending=False).head(10).T\n",
    "plt.boxplot(df['rooms'])"
   ]
  },
  {
   "cell_type": "markdown",
   "metadata": {},
   "source": [
    "- среди квартир с большим количеством комнат можно четко увидеть следующие общие параметры:   \n",
    "квартира находится в Санкт-Петербурге, в 3-4 км от центра, несмотря на большое кол-во комнат, жилая площадь маленькая, т.е. комнаты по площади 10-15 м.кв., высокие потолки, дома в 4-6 этажей, при этом стоимость квадратного метра либо чуть выше, либо чуть ниже среднерыночной\n",
    "- из этого можно сделать вывод, что в основном квартиры с большим количеством комнат представляют из себя расселенные коммунальные квартиры в старом жил.фонде"
   ]
  },
  {
   "cell_type": "code",
   "execution_count": 49,
   "metadata": {},
   "outputs": [
    {
     "data": {
      "text/plain": [
       "(0, 15000000)"
      ]
     },
     "execution_count": 49,
     "metadata": {},
     "output_type": "execute_result"
    },
    {
     "data": {
      "image/png": "[encoded data removed]",
      "text/plain": [
       "<Figure size 432x288 with 1 Axes>"
      ]
     },
     "metadata": {
      "needs_background": "light"
     },
     "output_type": "display_data"
    }
   ],
   "source": [
    "df.sort_values(by='last_price', ascending=False).head(10).T\n",
    "df.sort_values(by='last_price', ascending=True).head(10).T\n",
    "plt.boxplot(df['last_price'])\n",
    "plt.ylim(0,15000000)"
   ]
  },
  {
   "cell_type": "markdown",
   "metadata": {},
   "source": [
    "- среди топ-10 по стоимости выделяются квартиры с большой общей площадью находящиеся на последних этажах, при этом отношение жилой к общей площади ниже среднего по рынку\n",
    "- из этого можно сделать вывод, что выбивающиеся значения по стоимости пренадлежат определенной нише недвижимости - в виде пентхаусов с террасами\n",
    "- среди самых бюджетных вариантов, общий основноой признак один - нахождение квартиры в области"
   ]
  },
  {
   "cell_type": "code",
   "execution_count": 50,
   "metadata": {
    "scrolled": true
   },
   "outputs": [
    {
     "data": {
      "text/plain": [
       "{'whiskers': [<matplotlib.lines.Line2D at 0x7f26c7c50590>,\n",
       "  <matplotlib.lines.Line2D at 0x7f26c7c50b10>],\n",
       " 'caps': [<matplotlib.lines.Line2D at 0x7f26c7c4a050>,\n",
       "  <matplotlib.lines.Line2D at 0x7f26c7c4a550>],\n",
       " 'boxes': [<matplotlib.lines.Line2D at 0x7f26c7c91a10>],\n",
       " 'medians': [<matplotlib.lines.Line2D at 0x7f26c7c4aa90>],\n",
       " 'fliers': [<matplotlib.lines.Line2D at 0x7f26c7c4af90>],\n",
       " 'means': []}"
      ]
     },
     "execution_count": 50,
     "metadata": {},
     "output_type": "execute_result"
    },
    {
     "data": {
      "image/png": "[encoded data removed]",
      "text/plain": [
       "<Figure size 432x288 with 1 Axes>"
      ]
     },
     "metadata": {
      "needs_background": "light"
     },
     "output_type": "display_data"
    }
   ],
   "source": [
    "df.sort_values(by='days_exposition', ascending=False).head(10).T\n",
    "df.sort_values(by='days_exposition', ascending=True).head(10).T\n",
    "plt.boxplot(df['days_exposition'])"
   ]
  },
  {
   "cell_type": "code",
   "execution_count": 51,
   "metadata": {},
   "outputs": [
    {
     "name": "stdout",
     "output_type": "stream",
     "text": [
      "Показатели по первоначальным данным:\n",
      "count    23699.000000\n",
      "mean       169.360226\n",
      "std        206.535633\n",
      "min          1.000000\n",
      "25%         45.000000\n",
      "50%         95.000000\n",
      "75%        199.000000\n",
      "max       1580.000000\n",
      "Name: days_exposition, dtype: float64\n",
      "\n",
      "Выбросы:\n",
      "95    3245\n",
      "45     880\n",
      "60     538\n",
      "7      234\n",
      "30     208\n",
      "90     204\n",
      "4      176\n",
      "3      158\n",
      "5      152\n",
      "14     148\n",
      "Name: days_exposition, dtype: int64\n",
      "Показатели по отфильтрованым данным:\n",
      "count    14359.000000\n",
      "mean       130.621631\n",
      "std         99.446673\n",
      "min         14.000000\n",
      "25%         50.000000\n",
      "50%        103.000000\n",
      "75%        188.000000\n",
      "max        400.000000\n",
      "Name: days_exposition, dtype: float64\n"
     ]
    },
    {
     "data": {
      "image/png": "[encoded data removed]",
      "text/plain": [
       "<Figure size 432x288 with 1 Axes>"
      ]
     },
     "metadata": {
      "needs_background": "light"
     },
     "output_type": "display_data"
    },
    {
     "data": {
      "image/png": "[encoded data removed]",
      "text/plain": [
       "<Figure size 432x288 with 1 Axes>"
      ]
     },
     "metadata": {
      "needs_background": "light"
     },
     "output_type": "display_data"
    }
   ],
   "source": [
    "df.plot(y = 'days_exposition', kind = 'hist', bins = 50, grid = True, range = (1, 400)) #график с первоначальными данными\n",
    "print('Показатели по первоначальным данным:')\n",
    "print(df['days_exposition'].describe())\n",
    "print('')\n",
    "print('Выбросы:')\n",
    "print(df['days_exposition'].value_counts().head(10))\n",
    "       \n",
    "#уберем выбросы >400, <14, 90, 95, 45, 60, 30\n",
    "filter_day = df.query('days_exposition != 30 and days_exposition != 45'\n",
    "                        'and days_exposition != 60 and days_exposition != 90'\n",
    "                        'and days_exposition >= 14 and days_exposition <= 400'\n",
    "                        'and days_exposition != 95')\n",
    "\n",
    "filter_day.plot(y = 'days_exposition', kind = 'hist', bins = 50, grid = True, range = (14, 400))\n",
    "print ('Показатели по отфильтрованым данным:')\n",
    "print(filter_day['days_exposition'].describe())"
   ]
  },
  {
   "cell_type": "markdown",
   "metadata": {},
   "source": [
    "Убираем выбросы и значения вне рамок межквартильного размаха (как мы уже определили этот диапазон в 14-400 дней).    \n",
    "Выбросы на 30, 45, 90 дней скорее всего связаны со спецификой размещения объявлений (автоматически снимаются с публикации в эти дни).  \n",
    "Выброс в 95 дней, как отмечалось ранее, свяpан с нашей предобработкой данных.   \n",
    "Ожидаемо, что в очищенных данных получаем большие значения медианы и меньшие значения среднего значения - 103 и 130 соответственно, вместо 95 и 169.  \n",
    "В целом картина не изменилась - половина всех размещенных объявлений приходится на срок до 100 дней."
   ]
  },
  {
   "cell_type": "code",
   "execution_count": 72,
   "metadata": {},
   "outputs": [
    {
     "data": {
      "text/plain": [
       "'% удаленных данных:'"
      ]
     },
     "metadata": {},
     "output_type": "display_data"
    },
    {
     "data": {
      "text/plain": [
       "61"
      ]
     },
     "metadata": {},
     "output_type": "display_data"
    },
    {
     "name": "stdout",
     "output_type": "stream",
     "text": [
      "Показатели по первоначальным данным:\n",
      "count    20518.000000\n",
      "mean       180.888634\n",
      "std        219.727988\n",
      "min          1.000000\n",
      "25%         45.000000\n",
      "50%         95.000000\n",
      "75%        232.000000\n",
      "max       1580.000000\n",
      "Name: days_exposition, dtype: float64\n",
      "\n",
      "Выбросы:\n",
      "45.0    880\n",
      "60.0    538\n",
      "7.0     234\n",
      "30.0    208\n",
      "90.0    204\n",
      "4.0     176\n",
      "3.0     158\n",
      "5.0     152\n",
      "14.0    148\n",
      "9.0     143\n",
      "Name: days_exposition, dtype: int64\n"
     ]
    },
    {
     "data": {
      "text/plain": [
       "Int64Index([], dtype='int64')"
      ]
     },
     "execution_count": 72,
     "metadata": {},
     "output_type": "execute_result"
    },
    {
     "data": {
      "image/png": "[encoded data removed]",
      "text/plain": [
       "<Figure size 432x288 with 1 Axes>"
      ]
     },
     "metadata": {
      "needs_background": "light"
     },
     "output_type": "display_data"
    }
   ],
   "source": [
    "# % удаленных данных\n",
    "display('% удаленных данных:', round(len(filter_day)/len(df)*100))\n",
    "\n",
    "# в связи с большим количеством выпадающих данных, создадим новый df с первоначальными значениями days_exposition\n",
    "# исключим из него только значения NaN (14% от всей выборки)\n",
    "\n",
    "new_day = data ['days_exposition'].dropna()\n",
    "\n",
    "new_day.plot(y = 'days_exposition', kind = 'hist', bins = 50, grid = True, range = (1, 400)) #график с первоначальными данными\n",
    "print('Показатели по первоначальным данным:')\n",
    "print(new_day.describe())\n",
    "print('')\n",
    "print('Выбросы:')\n",
    "print(new_day.value_counts().head(10))"
   ]
  },
  {
   "cell_type": "markdown",
   "metadata": {},
   "source": [
    "выбросы в 30, 45, 90 дней могут говорить нам о том, что в данные дни автоматически снимались объявления с публикации. "
   ]
  },
  {
   "cell_type": "markdown",
   "metadata": {},
   "source": [
    "#### Факторы больше всего влияющие на стоимость"
   ]
  },
  {
   "cell_type": "markdown",
   "metadata": {},
   "source": [
    "##### Цена - общая площадь"
   ]
  },
  {
   "cell_type": "code",
   "execution_count": null,
   "metadata": {},
   "outputs": [],
   "source": [
    "df['total_area'].hist(bins=30, range=(12, 150)) #распределение объявлений\n",
    "plt.show\n",
    "\n",
    "df.plot(x='total_area', y='price_kvm', kind='scatter', alpha = 0.3)\n",
    "plt.show\n",
    "print('Коэффициент корреляции Пирсона (площадь):')\n",
    "print(df['total_area'].corr(df['price_kvm']))\n",
    "\n",
    "filter_total = df.query('total_area <= 100 and last_price <=7000000')\n",
    "\n",
    "filter_total.plot(x='total_area', y='price_kvm', kind='hexbin')\n",
    "plt.show\n",
    "print('Коэффициент корреляции Пирсона в выборке (площадь):')\n",
    "print(filter_total['total_area'].corr(df['price_kvm']))"
   ]
  },
  {
   "cell_type": "markdown",
   "metadata": {},
   "source": [
    "- с ростом площади квартиры стоимость квадратного метра слабо коррелируется  \n",
    "- при чем если отсечь редкие и выбивающиеся значения (оставить выборку квартир с условием до 100м.кв. и до 7 000 000руб) мы видим обратную корреляцию - с ростом площади, стоимость квадрата снижается"
   ]
  },
  {
   "cell_type": "markdown",
   "metadata": {},
   "source": [
    "##### Цена - число комнат"
   ]
  },
  {
   "cell_type": "code",
   "execution_count": null,
   "metadata": {},
   "outputs": [],
   "source": [
    "df.plot(x='rooms', y='price_kvm', kind='scatter')\n",
    "print('Коэффициент корреляции Пирсона (комнаты):')\n",
    "print(df['rooms'].corr(df['price_kvm']))\n",
    "print('Коэффициент корреляции Пирсона в выборке (комнаты):')\n",
    "print(filter_total['rooms'].corr(df['price_kvm']))\n",
    "\n",
    "#построим график по медианной стоимости кв.м. в зависимости от числа комнат\n",
    "pivot_room = filter_total.pivot_table(index = 'rooms', values = 'price_kvm', aggfunc = 'median')\n",
    "pivot_room.columns = ['median']\n",
    "pivot_room.plot(y = 'median', style = '-o')\n"
   ]
  },
  {
   "cell_type": "markdown",
   "metadata": {},
   "source": [
    "- в общей массе цена практически не зависит от количества комнат (корреляция стремится к 0)\n",
    "- если отсечь редкие и выбивающиеся значения (оставить выборку квартир с условием до 100м.кв. и до 7 000 000руб) мы видим обратную корреляцию - чем меньше комнат, тем цена за квадратный метр выше"
   ]
  },
  {
   "cell_type": "markdown",
   "metadata": {},
   "source": [
    "##### Цена - этаж"
   ]
  },
  {
   "cell_type": "code",
   "execution_count": null,
   "metadata": {},
   "outputs": [],
   "source": [
    "df.plot(x='floor', y='price_kvm', kind='scatter')\n",
    "print('Коэффициент корреляции Пирсона (этаж):')\n",
    "print(df['floor'].corr(df['price_kvm']))\n",
    "\n",
    "filter_total.plot(x='floor', y='price_kvm', kind='hexbin')\n",
    "print('Коэффициент корреляции Пирсона в выборке (этаж):')\n",
    "print(filter_total['floor'].corr(df['price_kvm']))\n",
    "\n",
    "print('Медианная стоимость кв.м.:')\n",
    "print(df.pivot_table(index = 'id_floor', values = 'price_kvm', aggfunc = 'median'))\n",
    "\n",
    "print('Медианная стоимость кв.м. в выборке:')\n",
    "print(filter_total.pivot_table(index = 'id_floor', values = 'price_kvm', aggfunc = 'median'))"
   ]
  },
  {
   "cell_type": "markdown",
   "metadata": {},
   "source": [
    "- прямой зависимости стоимости кв.м. от этажа нет\n",
    "- единственное, что можно выделить - это то, что первые и последние этажи стоят значительно дешевле других этажей (на 10-17% дешевле)\n",
    "- первые этажи несколько дешевле последних (3-8%%)"
   ]
  },
  {
   "cell_type": "markdown",
   "metadata": {},
   "source": [
    "##### Цена - удаленность от центра"
   ]
  },
  {
   "cell_type": "code",
   "execution_count": null,
   "metadata": {},
   "outputs": [],
   "source": [
    "df.plot(x='cityCenters_nearest', y='price_kvm', kind='scatter', alpha = 0.3)\n",
    "print('Коэффициент корреляции Пирсона (удаленность от центра):')\n",
    "print(df['cityCenters_nearest'].corr(df['price_kvm']))\n",
    "\n",
    "filter_total_new = filter_total.query('cityCenters_nearest > 0 and cityCenters_nearest <= 10000') #убираем выброс\n",
    "\n",
    "filter_total_new.plot(x='cityCenters_nearest', y='price_kvm', kind='scatter', alpha = 0.3)\n",
    "print('Коэффициент корреляции Пирсона в выборке (удаленность от центра):')\n",
    "print(filter_total_new['cityCenters_nearest'].corr(df['price_kvm']))\n"
   ]
  },
  {
   "cell_type": "markdown",
   "metadata": {},
   "source": [
    "- несмотря на то, что корреляция стремиться к 0, можно четко выделить зону до 10 км от центра с более высокой стоимостью жилья\n",
    "- это нормально - цена в Санкт-Петербурге выше чем в области\n",
    "- так же чем ближе к центру, тем более неравномерные данные, имеется очень большое количество выбросов"
   ]
  },
  {
   "cell_type": "markdown",
   "metadata": {},
   "source": [
    "##### Цена - дата размещения"
   ]
  },
  {
   "cell_type": "code",
   "execution_count": null,
   "metadata": {},
   "outputs": [],
   "source": [
    "#день недели\n",
    "pivot_weekday = df.pivot_table(index = 'first_weekday', values = 'price_kvm', aggfunc = ['count', 'median'])\n",
    "pivot_weekday.columns = ['count', 'median']\n",
    "pivot_weekday.plot(y = 'median')\n",
    "plt.show\n",
    "pivot_weekday.plot(y = 'count')\n",
    "\n",
    "print('Коэффициент корреляции Пирсона (день недели):')\n",
    "print(df['first_weekday'].corr(df['price_kvm']))\n",
    "\n",
    "print('Медианное значение стоимости кв.метра в зависимости от дня недели:')\n",
    "pivot_weekday.sort_values('median', ascending = False)"
   ]
  },
  {
   "cell_type": "markdown",
   "metadata": {},
   "source": [
    "- прямой зависимости стоимости кв.м. от дня недели размещения объявления нет\n",
    "- несмотря на то, что на графике видна четкая просадка по стоимости в субботу - разница в цене составляет 2%, что может являться статистической погрешностью\n",
    "- так же на чуть более низкую стоимость может влиять то, что в выходные количество объявлений подается значительно меньше чем в будни и ценовой охват соотвтетственно так же может быть меньше"
   ]
  },
  {
   "cell_type": "code",
   "execution_count": null,
   "metadata": {},
   "outputs": [],
   "source": [
    "#месяц\n",
    "pivot_month = df.pivot_table(index = 'first_month', values = 'price_kvm', aggfunc = ['count', 'median'])\n",
    "pivot_month.columns = ['count', 'median']\n",
    "pivot_month.plot(y = 'median')\n",
    "plt.show\n",
    "pivot_month.plot(y = 'count')\n",
    "\n",
    "print('Коэффициент корреляции Пирсона (месяц):')\n",
    "print(df['first_month'].corr(df['price_kvm']))\n",
    "\n",
    "print('Медианное значение стоимости кв.метра в зависимости от месяца:')\n",
    "pivot_month.sort_values('median', ascending = False)"
   ]
  },
  {
   "cell_type": "markdown",
   "metadata": {},
   "source": [
    "- прямой зависимости стоимости кв.м. от месяца размещения объявления нет\n",
    "- просадка в летние месяцы по стоимости связана с низким предложением в летние месяцы\n",
    "- так как сезон на рынке недвижимости это весна-осень, то просадка по стоимости и кол-ву объявлений вполне объяснима"
   ]
  },
  {
   "cell_type": "code",
   "execution_count": null,
   "metadata": {},
   "outputs": [],
   "source": [
    "#год\n",
    "pivot_years = df.pivot_table(index = 'first_year', values = 'price_kvm', aggfunc = ['count', 'median'])\n",
    "pivot_years.columns = ['count', 'median']\n",
    "pivot_years.plot(y = 'median')\n",
    "plt.show\n",
    "pivot_years.plot(y = 'count')\n",
    "\n",
    "print('Коэффициент корреляции Пирсона (год):')\n",
    "print(df['first_year'].corr(df['price_kvm']))\n",
    "\n",
    "print('Медианное значение стоимости кв.метра в зависимости от года:')\n",
    "pivot_years.sort_values('median', ascending = False)"
   ]
  },
  {
   "cell_type": "markdown",
   "metadata": {},
   "source": [
    "- прямой зависимости стоимости кв.м. от года размещения объявления нет\n",
    "- падение стоимости в 2015-2017 годах можно связать с 2 факторами:\n",
    "1. рост предложения на рынке и следовательно снижение цены\n",
    "2. валютный кризис 2014-2015 годов\n",
    "- в пользу зависимости цены от предложения так же говорит тот факт, что во время падения предложения в 2019году - цена росла"
   ]
  },
  {
   "cell_type": "markdown",
   "metadata": {},
   "source": [
    "##### Вывод по факторам влияния"
   ]
  },
  {
   "cell_type": "markdown",
   "metadata": {},
   "source": [
    "- наибольшее влияние на стоимость квадратного метра оказывает общая площадь квартиры\n",
    "- при чем здесь можно просмотреть 2 зависимости:\n",
    "1. на массвом рынке - чем меньше площадь - тем дороже м.кв.\n",
    "2. в квартирах большой площади (свыше 100м.кв.) - чем выше площадь, тем дороже м.кв.\n",
    "- в общей массе цена практически не зависит от количества комнат (корреляция стремится к 0)\n",
    "- на массовом рынке мы видим обратную корреляцию - чем меньше комнат, тем цена за квадратный метр выше\n",
    "- первые и последние этажи стоят значительно дешевле других этажей (на 10-17% дешевле)\n",
    "- первые этажи несколько дешевле последних (3-8%%)\n",
    "- можно четко выделить зону до 10 км от центра с более высокой стоимостью жилья (цена в Санкт-Петербурге выше чем в области)\n",
    "- чем ближе к центру, тем более неравномерные данные, имеется очень большое количество выбросов\n",
    "- это связано с неоднородностью жилищного фонда в центре\n",
    "- по дате размещения объявлений можно выделить следующие основные моменты:\n",
    "1. объявления размещаются преимущественно по будням\n",
    "2. четкая сезонность предложения - весна-осень\n",
    "3. был провал на рынке в 2015-2017 годах связанный с избытком предложения и ситуацией в экономике"
   ]
  },
  {
   "cell_type": "markdown",
   "metadata": {},
   "source": [
    "#### 10 населенных пунктов с наибольшим числом объявлений"
   ]
  },
  {
   "cell_type": "code",
   "execution_count": null,
   "metadata": {},
   "outputs": [],
   "source": [
    "city_pivot = df.pivot_table(index = 'locality_name', values = 'price_kvm', aggfunc=['count', 'mean'])\n",
    "city_pivot.columns = ['count', 'price']\n",
    "city_pivot['price']=city_pivot['price'].astype('int32')\n",
    "city_pivot_10 = city_pivot.sort_values('count', ascending = False).head(10) # топ-10 по кол-ву объявлений\n",
    "print('10 населенных пунктов с наибольшим числом объявлений:')\n",
    "print(city_pivot_10)\n",
    "\n",
    "print ('Cамая высокая стоимость за м.кв.:')\n",
    "print (city_pivot[city_pivot['price']==city_pivot['price'].max()])\n",
    "print ('')\n",
    "print ('Cамая низкая стоимость за м.кв.:')\n",
    "print(city_pivot[city_pivot['price']==city_pivot['price'].min()])"
   ]
  },
  {
   "cell_type": "markdown",
   "metadata": {},
   "source": [
    "- среди городов с наибольшим числом объявлений самая высокая цена средняя цена за кв.м.в Санкт-Петербурге - 115 354 руб./м.кв., самая низкая в Выблорге - 58 295 руб./м.кв.\n",
    "- среди всех городов представленных в базе - самая высокая средняя цена за кв.м. в Зеленогорске - 115 527 руб./м.кв., самая низкая в Старополье - 11 238 руб./м.кв."
   ]
  },
  {
   "cell_type": "markdown",
   "metadata": {},
   "source": [
    "#### Центр города"
   ]
  },
  {
   "cell_type": "code",
   "execution_count": null,
   "metadata": {},
   "outputs": [],
   "source": [
    "center=df.copy()\n",
    "center = center.loc[df['cityCenters_nearest'] != 0] #убираем все адреса с расстоянием 0\n",
    "\n",
    "center['center'] = round(center['cityCenters_nearest']/1000)  #расстояние до центра в километрах\n",
    "center['center'] = df_center['center'].astype('int32')\n",
    "\n",
    "\n",
    "km = center.query('locality_name == \"Санкт-Петербург\"').pivot_table(index = 'center', values = 'price_kvm', aggfunc = 'mean')\n",
    "km['price_kvm'] = km['price_kvm'].astype('int32')\n",
    "km.plot(grid=True, style = '-o')\n",
    "km"
   ]
  },
  {
   "cell_type": "markdown",
   "metadata": {},
   "source": [
    "- судя по графику, центром города можно считать расстояние от центра в 3 км\n",
    "- всплеск стоимости в районе 3-7 км связан с тем, что в данный промежуток попадает Василеостровский и Петроградский районы, где исторически сложилась более высокая стоимость недвижимости "
   ]
  },
  {
   "cell_type": "markdown",
   "metadata": {},
   "source": [
    "#### Сегмент квартир в центре"
   ]
  },
  {
   "cell_type": "code",
   "execution_count": null,
   "metadata": {},
   "outputs": [],
   "source": [
    "#выберем квартиры в центре (расстояние от центра - 3 км)\n",
    "center_3 = center.query('center <= 3 and locality_name == \"Санкт-Петербург\"')\n",
    "center_3.describe().T"
   ]
  },
  {
   "cell_type": "code",
   "execution_count": null,
   "metadata": {},
   "outputs": [],
   "source": [
    "# общая площадь\n",
    "center_3['total_area'].hist(bins=50, range=(12, 517))\n",
    "\n",
    "center_3.plot(x='total_area', y='price_kvm', kind='scatter', alpha = 0.3)\n",
    "print('Коэффициент корреляции Пирсона (площадь):')\n",
    "print(df['total_area'].corr(df['price_kvm']))"
   ]
  },
  {
   "cell_type": "markdown",
   "metadata": {},
   "source": [
    "- в центре наиболее представленный сегмент 40-90 м.кв., с пиком 60-70кв.м.\n",
    "- в общей выборке предпочтение отдается площадям в 30-60м.кв.,  с пиком 30-40м.кв.\n",
    "- сохраняется общая тенденция - небольшая положительная корреляция - с ростом площади растет стоимость кв.м."
   ]
  },
  {
   "cell_type": "code",
   "execution_count": null,
   "metadata": {},
   "outputs": [],
   "source": [
    "# стоимость кв.м.\n",
    "df['price_kvm'].hist(bins=50, range=(0, 180000))\n",
    "center_3['price_kvm'].hist(bins=30, range=(0, 180000))"
   ]
  },
  {
   "cell_type": "markdown",
   "metadata": {},
   "source": [
    "- по стоимости квадратного метра - повторяется та же картина что и по выборке\n",
    "- общая картина по выборке представлена нормальным распределением, а по квартирам в центре - распределением Пуассона\n",
    "- связано это с большим количеством данных в общей базе"
   ]
  },
  {
   "cell_type": "code",
   "execution_count": null,
   "metadata": {},
   "outputs": [],
   "source": [
    "# число комнат\n",
    "df['rooms'].hist(bins=5, range=(1, 5))\n",
    "center_3['rooms'].hist(bins=5, range=(1, 5))"
   ]
  },
  {
   "cell_type": "markdown",
   "metadata": {},
   "source": [
    "- в отличии от общей базы, где большая часть объявлений это 1-2 комнатные квартиры, в центре больше предложений 2-3 комнатных"
   ]
  },
  {
   "cell_type": "code",
   "execution_count": null,
   "metadata": {},
   "outputs": [],
   "source": [
    "# высота потолков\n",
    "df['ceiling_height'].hist(bins=10)\n",
    "center_3['ceiling_height'].hist(bins=10)"
   ]
  },
  {
   "cell_type": "markdown",
   "metadata": {},
   "source": [
    "- общая картина по высоте потолков повтореятся и в центре - больше всего предложений с высотой 2,6-2,7\n",
    "- однако в центре есть, особенность - большое предложение квартир с потолком 3м+\n",
    "- это скорее всего связано с большим сосредоточением в центре исторических зданий с высокими потолками"
   ]
  },
  {
   "cell_type": "code",
   "execution_count": null,
   "metadata": {},
   "outputs": [],
   "source": [
    "#создаем новый df с нужными нам столбцами\n",
    "center_3_filter = center_3[['price_kvm', 'rooms', 'floor', 'id_floor', 'center', 'first_weekday', 'first_month', 'first_year']]\n",
    "\n",
    "#построим график по медианной стоимости кв.м. в зависимости от числа комнат\n",
    "pivot_center_3_filter = center_3_filter.pivot_table(index = 'rooms', values = 'price_kvm', aggfunc = 'median')\n",
    "pivot_center_3_filter.columns = ['median']\n",
    "pivot_center_3_filter.plot(y = 'median', style = '-o', grid=True)\n",
    "\n",
    "print('Коэффициент корреляции Пирсона (комнаты):')\n",
    "print(center_3_filter['rooms'].corr(df['price_kvm']))"
   ]
  },
  {
   "cell_type": "markdown",
   "metadata": {},
   "source": [
    "- корреляция на уменьшение стоимости кв.м. относительно кол-ва комнат сохраняется такая же как и для общей выборки для квартир с количеством комнат <6\n",
    "- для большего количества комнат - корреляции нет"
   ]
  },
  {
   "cell_type": "code",
   "execution_count": null,
   "metadata": {},
   "outputs": [],
   "source": [
    "print('Коэффициент корреляции Пирсона (этаж):')\n",
    "print(center_3_filter['floor'].corr(center_3_filter['price_kvm']))\n",
    "\n",
    "print('Медианная стоимость кв.м.:')\n",
    "print(center_3_filter.pivot_table(index = 'id_floor', values = 'price_kvm', aggfunc = 'median'))"
   ]
  },
  {
   "cell_type": "markdown",
   "metadata": {},
   "source": [
    "- картина по соотношению цена/этаж остается такая же\n",
    "- первый/последний этаж дешевле прочих, первый/дешевле последнего\n",
    "- однако разница в цене ниже чем в среднем по городу"
   ]
  },
  {
   "cell_type": "code",
   "execution_count": null,
   "metadata": {},
   "outputs": [],
   "source": [
    "center_3_filter.plot(x='center', y='price_kvm', kind='scatter', alpha = 0.3)\n",
    "print('Коэффициент корреляции Пирсона (удаленность от центра):')\n",
    "print(center_3_filter['center'].corr(center_3_filter['price_kvm']))\n"
   ]
  },
  {
   "cell_type": "markdown",
   "metadata": {},
   "source": [
    "- имеется небольшая зависимость цены кв.м. от удаленности от центра (чем дальше - тем дешевле)\n",
    "- это соотносится с общей картиной, в центре данная зависимость чуть больше чем в целом по городу"
   ]
  },
  {
   "cell_type": "code",
   "execution_count": null,
   "metadata": {},
   "outputs": [],
   "source": [
    "#день недели\n",
    "pivot_weekday_center_3_filter = center_3_filter.pivot_table(index = 'first_weekday', values = 'price_kvm', aggfunc = ['count', 'median'])\n",
    "pivot_weekday_center_3_filter.columns = ['count', 'median']\n",
    "pivot_weekday_center_3_filter.plot(y = 'median')\n",
    "plt.show\n",
    "pivot_weekday_center_3_filter.plot(y = 'count')\n",
    "\n",
    "print('Коэффициент корреляции Пирсона (день недели):')\n",
    "print(center_3_filter['first_weekday'].corr(df['price_kvm']))\n",
    "\n",
    "print('Медианное значение стоимости кв.метра в зависимости от дня недели:')\n",
    "pivot_weekday_center_3_filter.sort_values('median', ascending = False)"
   ]
  },
  {
   "cell_type": "markdown",
   "metadata": {},
   "source": [
    "- корреляция отсутствует\n",
    "- нельзя брать выброс в стоимости кв.м. приходящийся на субботы, так как количество объявлений в этот день очень мало и данный выброс скорей всего является погрешностью"
   ]
  },
  {
   "cell_type": "code",
   "execution_count": null,
   "metadata": {},
   "outputs": [],
   "source": [
    "#месяц\n",
    "pivot_month_center_3_filter = center_3_filter.pivot_table(index = 'first_month', values = 'price_kvm', aggfunc = ['count', 'median'])\n",
    "pivot_month_center_3_filter.columns = ['count', 'median']\n",
    "pivot_month_center_3_filter.plot(y = 'median')\n",
    "plt.show\n",
    "pivot_month_center_3_filter.plot(y = 'count')\n",
    "\n",
    "print('Коэффициент корреляции Пирсона (месяц):')\n",
    "print(center_3_filter['first_month'].corr(df['price_kvm']))\n",
    "\n",
    "print('Медианное значение стоимости кв.метра в зависимости от месяца:')\n",
    "pivot_month_center_3_filter.sort_values('median', ascending = False)"
   ]
  },
  {
   "cell_type": "markdown",
   "metadata": {},
   "source": [
    "- здесь повторяется картина с сезонными пиками как для всей выборки\n",
    "- так же сохраняется тенденция - больше объявлений - ниже цена за метр\n",
    "- имеется пик в июле идущий в разрез с тенденциями\n",
    "- возможно это связано с практически отсутствующими объявлениями за май-июнь, что несколько подогрело рынок"
   ]
  },
  {
   "cell_type": "code",
   "execution_count": null,
   "metadata": {},
   "outputs": [],
   "source": [
    "#год\n",
    "pivot_years_center_3_filter = center_3_filter.pivot_table(index = 'first_year', values = 'price_kvm', aggfunc = ['count', 'median'])\n",
    "pivot_years_center_3_filter.columns = ['count', 'median']\n",
    "pivot_years_center_3_filter.plot(y = 'median')\n",
    "plt.show\n",
    "pivot_years_center_3_filter.plot(y = 'count')\n",
    "\n",
    "print('Коэффициент корреляции Пирсона (год):')\n",
    "print(center_3_filter['first_year'].corr(center_3_filter['price_kvm']))\n",
    "\n",
    "print('Медианное значение стоимости кв.метра в зависимости от года:')\n",
    "pivot_years_center_3_filter.sort_values('median', ascending = False)"
   ]
  },
  {
   "cell_type": "markdown",
   "metadata": {},
   "source": [
    "- тенденции те же что и в общей выборке - резкое падение цены после 2014года и пик предложений 2017-2018\n",
    "- особенность центра в то, что рост стоимости квадратного метра к 2019г. намного меньше чем по всей выборке\n",
    "- это может говорить о том, что центр города был ранее переоценен и сейчас не пользуется таким спросом"
   ]
  },
  {
   "cell_type": "markdown",
   "metadata": {},
   "source": [
    "В целом можно сделать вывод о недвижимости в центре, что она в большинстве своем повторяет общегородские тенденции.\n",
    "Исключением можно назвать, что в центре более популярно предложение 3-х комнатных квартир по сравнению с 1-комнатными во всем городе.\n",
    "А так же наличие достаточно большого количества квартир с высокими потолками, что обусловлено исторической застройкой центра города."
   ]
  },
  {
   "cell_type": "markdown",
   "metadata": {},
   "source": [
    "## Общий вывод"
   ]
  },
  {
   "cell_type": "markdown",
   "metadata": {},
   "source": [
    "- были обработаны полученные данные - заменены пропущенные значения, заменены типы данных на необходимые для более удобной работы и экономии ресурсов.\n",
    "- были добавлены в выборку данные о цене квадратного метра, этажности, дате размещения объявления\n",
    "- были рассмотрены выбивающиеся значения, а так же выдвинуты гиппотезы их появления.\n",
    "- выявлено, что наибольшее предложение квартир с общей площадью 30-65 м.кв. (около 65%), но и доля \"больших\" квартир 70-100 достаточна велика (около 20%)\n",
    "- доля квартир менее 30м.кв. мала и составляет около 5%\n",
    "- предложение 1 и 2-х комнатных квартир примерно одинаковое и составляет подавляющую долю объявлений - 68%\n",
    "- при этом в центре города преобладает предложение 2-3-комнатных квартир\n",
    "- больше всего предлагается квартир в диапазоне 3-5 млн.руб. (около 47%)\n",
    "- имеется значительная часть предложений (около 15%) с ценой менее 3 млн.руб., что можно связать с большим предложением квартир в области\n",
    "- наибольшее число предложений квартир с высотой потолка 2,65 (более 40%), что соответствует высоте в наиболее распространенных жилых домах\n",
    "- в центре города встречается большое количество квартир с высотой потолка 3+, что обусловленно исторической застройкой \n",
    "- время размещения влияет на стоимость квадратного метра в зависимости от сезона\n",
    "- наибольшее количество предложений приходится на весна-осень\n",
    "- спад стоимости кв.м после 2014г обусловлен экономическим кризисом и ростом предложения на рынке жилья\n",
    "- после анализа сроков размещения можно говорить о том, что стандартное время размещения объявления составляет от 2 недель до 6 месяцев\n",
    "- объявления снятые менее чем за 2 недели размещаются очень быстро, а объявления размещенные более 400 дней - очень долго\n",
    "- наибольшее влияние на стоимость квадратного метра оказывает общая площадь квартиры\n",
    "- при этом можно выделить 2 зависимости:\n",
    "на массвом рынке - чем меньше площадь - тем дороже м.кв.  \n",
    "в квартирах большой площади (свыше 100м.кв.) - чем выше площадь, тем дороже м.кв.  \n",
    "- в общей массе цена практически не зависит от количества комнат (корреляция стремится к 0)\n",
    "- на массовом рынке мы видим обратную корреляцию - чем меньше комнат, тем цена за квадратный метр выше\n",
    "- первые и последние этажи стоят значительно дешевле других этажей (на 10-17% дешевле)\n",
    "- можно четко выделить зону до 10 км от центра с более высокой стоимостью жилья (цена в Санкт-Петербурге выше чем в области)\n",
    "- чем ближе к центру, тем более неравномерные данные, имеется очень большое количество выбросов. Это связано с неоднородностью жилищного фонда в центре\n",
    "- среди городов с наибольшим числом объявлений самая высокая цена средняя цена за кв.м.в Санкт-Петербурге - 115 354 руб./м.кв., самая низкая в Выблорге - 58 295 руб./м.кв.\n",
    "- среди всех городов представленных в базе - самая высокая средняя цена за кв.м. в Зеленогорске - 115 527 руб./м.кв., самая низкая в Старополье - 11 238 руб./м.кв.\n",
    "- судя по резкости изменения цен, центром города можно считать расстояние от центра в 3 км\n",
    "- необходимо учитывать, что при анализе данных мы смотрели усредненные показатели по рынку в целом\n",
    "- поведение в узких сегментах может координально отличаться от поведения выборки в целом\n",
    "- так, например, востановление по стоимости кв.м. в центре города после резкого падения в 2014 году идет очень медленными темпами, что может говорить о том, что предложение данных квартир было сильно переоценено"
   ]
  }
 ],
 "metadata": {
  "ExecuteTimeLog": [
   {
    "duration": 803,
    "start_time": "2021-11-25T11:57:30.675Z"
   },
   {
    "duration": 85,
    "start_time": "2021-11-25T11:57:42.656Z"
   },
   {
    "duration": 95,
    "start_time": "2021-11-25T12:10:21.247Z"
   },
   {
    "duration": 137,
    "start_time": "2021-11-25T12:11:31.107Z"
   },
   {
    "duration": 70,
    "start_time": "2021-11-25T12:11:57.895Z"
   },
   {
    "duration": 96,
    "start_time": "2021-11-25T12:12:11.409Z"
   },
   {
    "duration": 128,
    "start_time": "2021-11-25T12:12:29.748Z"
   },
   {
    "duration": 42,
    "start_time": "2021-11-25T12:14:14.095Z"
   },
   {
    "duration": 23,
    "start_time": "2021-11-25T12:14:58.637Z"
   },
   {
    "duration": 23,
    "start_time": "2021-11-25T12:15:27.736Z"
   },
   {
    "duration": 25,
    "start_time": "2021-11-25T12:15:32.203Z"
   },
   {
    "duration": 26,
    "start_time": "2021-11-25T12:15:37.716Z"
   },
   {
    "duration": 18,
    "start_time": "2021-11-25T12:15:58.488Z"
   },
   {
    "duration": 81,
    "start_time": "2021-11-25T12:16:24.616Z"
   },
   {
    "duration": 344,
    "start_time": "2021-11-25T12:16:29.208Z"
   },
   {
    "duration": 64,
    "start_time": "2021-11-25T12:16:36.248Z"
   },
   {
    "duration": 301,
    "start_time": "2021-11-25T12:17:25.895Z"
   },
   {
    "duration": 54,
    "start_time": "2021-11-25T12:17:46.635Z"
   },
   {
    "duration": 11,
    "start_time": "2021-11-25T12:19:29.595Z"
   },
   {
    "duration": 12,
    "start_time": "2021-11-25T12:19:33.195Z"
   },
   {
    "duration": 74,
    "start_time": "2021-11-25T12:19:38.496Z"
   },
   {
    "duration": 32,
    "start_time": "2021-11-25T12:19:38.573Z"
   },
   {
    "duration": 18,
    "start_time": "2021-11-25T12:19:38.607Z"
   },
   {
    "duration": 71,
    "start_time": "2021-11-25T12:19:46.976Z"
   },
   {
    "duration": 28,
    "start_time": "2021-11-25T12:19:47.049Z"
   },
   {
    "duration": 24,
    "start_time": "2021-11-25T12:19:47.080Z"
   },
   {
    "duration": 19,
    "start_time": "2021-11-25T12:19:47.107Z"
   },
   {
    "duration": 79,
    "start_time": "2021-11-25T12:25:36.659Z"
   },
   {
    "duration": 88,
    "start_time": "2021-11-25T12:27:04.255Z"
   },
   {
    "duration": 29,
    "start_time": "2021-11-25T12:27:04.345Z"
   },
   {
    "duration": 28,
    "start_time": "2021-11-25T12:27:04.377Z"
   },
   {
    "duration": 113,
    "start_time": "2021-11-25T12:27:04.407Z"
   },
   {
    "duration": 109,
    "start_time": "2021-11-25T12:40:02.292Z"
   },
   {
    "duration": 9,
    "start_time": "2021-11-25T12:50:32.851Z"
   },
   {
    "duration": 5,
    "start_time": "2021-11-25T13:00:51.439Z"
   },
   {
    "duration": 6,
    "start_time": "2021-11-25T13:01:06.719Z"
   },
   {
    "duration": 270,
    "start_time": "2021-11-25T13:02:05.251Z"
   },
   {
    "duration": 7,
    "start_time": "2021-11-25T13:02:20.831Z"
   },
   {
    "duration": 84,
    "start_time": "2021-11-25T13:03:07.200Z"
   },
   {
    "duration": 264,
    "start_time": "2021-11-25T13:03:16.319Z"
   },
   {
    "duration": 13,
    "start_time": "2021-11-25T13:04:50.999Z"
   },
   {
    "duration": 325,
    "start_time": "2021-11-25T13:05:02.950Z"
   },
   {
    "duration": 6,
    "start_time": "2021-11-25T13:05:20.999Z"
   },
   {
    "duration": 302,
    "start_time": "2021-11-25T13:05:26.311Z"
   },
   {
    "duration": 4,
    "start_time": "2021-11-25T13:06:41.811Z"
   },
   {
    "duration": 296,
    "start_time": "2021-11-25T13:06:53.231Z"
   },
   {
    "duration": 252,
    "start_time": "2021-11-25T13:07:52.987Z"
   },
   {
    "duration": 5,
    "start_time": "2021-11-25T13:07:59.751Z"
   },
   {
    "duration": 5,
    "start_time": "2021-11-25T13:08:12.656Z"
   },
   {
    "duration": 282,
    "start_time": "2021-11-25T13:09:47.511Z"
   },
   {
    "duration": 265,
    "start_time": "2021-11-25T13:09:53.191Z"
   },
   {
    "duration": 5,
    "start_time": "2021-11-25T13:09:57.843Z"
   },
   {
    "duration": 8,
    "start_time": "2021-11-25T13:12:28.774Z"
   },
   {
    "duration": 7,
    "start_time": "2021-11-25T13:14:22.103Z"
   },
   {
    "duration": 14,
    "start_time": "2021-11-25T13:25:23.410Z"
   },
   {
    "duration": 7,
    "start_time": "2021-11-25T13:25:55.090Z"
   },
   {
    "duration": 8,
    "start_time": "2021-11-25T13:28:25.618Z"
   },
   {
    "duration": 2,
    "start_time": "2021-11-25T13:48:27.959Z"
   },
   {
    "duration": 280,
    "start_time": "2021-11-25T13:55:13.979Z"
   },
   {
    "duration": 15,
    "start_time": "2021-11-25T13:55:40.019Z"
   },
   {
    "duration": 31,
    "start_time": "2021-11-25T13:55:49.679Z"
   },
   {
    "duration": 266,
    "start_time": "2021-11-25T13:56:14.516Z"
   },
   {
    "duration": 34,
    "start_time": "2021-11-25T13:56:19.279Z"
   },
   {
    "duration": 32,
    "start_time": "2021-11-25T13:56:51.128Z"
   },
   {
    "duration": 36,
    "start_time": "2021-11-25T14:00:38.499Z"
   },
   {
    "duration": 35,
    "start_time": "2021-11-25T14:01:26.411Z"
   },
   {
    "duration": 83,
    "start_time": "2021-11-25T14:06:48.691Z"
   },
   {
    "duration": 90,
    "start_time": "2021-11-25T14:07:06.078Z"
   },
   {
    "duration": 87,
    "start_time": "2021-11-25T14:07:11.239Z"
   },
   {
    "duration": 37,
    "start_time": "2021-11-25T14:07:23.898Z"
   },
   {
    "duration": 25,
    "start_time": "2021-11-25T14:08:27.694Z"
   },
   {
    "duration": 34,
    "start_time": "2021-11-25T14:10:24.218Z"
   },
   {
    "duration": 33,
    "start_time": "2021-11-25T14:10:34.666Z"
   },
   {
    "duration": 75,
    "start_time": "2021-11-25T14:10:47.250Z"
   },
   {
    "duration": 22,
    "start_time": "2021-11-25T14:10:47.327Z"
   },
   {
    "duration": 23,
    "start_time": "2021-11-25T14:10:47.351Z"
   },
   {
    "duration": 78,
    "start_time": "2021-11-25T14:10:47.376Z"
   },
   {
    "duration": 10,
    "start_time": "2021-11-25T14:10:47.456Z"
   },
   {
    "duration": 9,
    "start_time": "2021-11-25T14:10:47.468Z"
   },
   {
    "duration": 38,
    "start_time": "2021-11-25T14:10:47.479Z"
   },
   {
    "duration": 36,
    "start_time": "2021-11-25T14:11:25.138Z"
   },
   {
    "duration": 35,
    "start_time": "2021-11-25T14:11:34.946Z"
   },
   {
    "duration": 70,
    "start_time": "2021-11-25T14:12:52.774Z"
   },
   {
    "duration": 30,
    "start_time": "2021-11-25T14:12:52.846Z"
   },
   {
    "duration": 11,
    "start_time": "2021-11-25T14:12:52.879Z"
   },
   {
    "duration": 95,
    "start_time": "2021-11-25T14:12:52.892Z"
   },
   {
    "duration": 6,
    "start_time": "2021-11-25T14:12:52.989Z"
   },
   {
    "duration": 10,
    "start_time": "2021-11-25T14:12:52.996Z"
   },
   {
    "duration": 40,
    "start_time": "2021-11-25T14:12:53.008Z"
   },
   {
    "duration": 33,
    "start_time": "2021-11-25T14:13:57.410Z"
   },
   {
    "duration": 73,
    "start_time": "2021-11-25T14:14:06.591Z"
   },
   {
    "duration": 29,
    "start_time": "2021-11-25T14:14:06.667Z"
   },
   {
    "duration": 11,
    "start_time": "2021-11-25T14:14:06.698Z"
   },
   {
    "duration": 93,
    "start_time": "2021-11-25T14:14:06.711Z"
   },
   {
    "duration": 6,
    "start_time": "2021-11-25T14:14:06.806Z"
   },
   {
    "duration": 24,
    "start_time": "2021-11-25T14:14:06.813Z"
   },
   {
    "duration": 58,
    "start_time": "2021-11-25T14:14:06.838Z"
   },
   {
    "duration": 37,
    "start_time": "2021-11-25T14:15:36.451Z"
   },
   {
    "duration": 34,
    "start_time": "2021-11-25T14:15:51.240Z"
   },
   {
    "duration": 63,
    "start_time": "2021-11-25T14:15:58.388Z"
   },
   {
    "duration": 27,
    "start_time": "2021-11-25T14:15:58.453Z"
   },
   {
    "duration": 10,
    "start_time": "2021-11-25T14:15:58.482Z"
   },
   {
    "duration": 88,
    "start_time": "2021-11-25T14:15:58.494Z"
   },
   {
    "duration": 5,
    "start_time": "2021-11-25T14:15:58.584Z"
   },
   {
    "duration": 9,
    "start_time": "2021-11-25T14:15:58.591Z"
   },
   {
    "duration": 38,
    "start_time": "2021-11-25T14:15:58.602Z"
   },
   {
    "duration": 34,
    "start_time": "2021-11-25T14:16:20.522Z"
   },
   {
    "duration": 35,
    "start_time": "2021-11-25T14:16:36.047Z"
   },
   {
    "duration": 68,
    "start_time": "2021-11-25T14:17:12.579Z"
   },
   {
    "duration": 30,
    "start_time": "2021-11-25T14:17:12.649Z"
   },
   {
    "duration": 12,
    "start_time": "2021-11-25T14:17:12.681Z"
   },
   {
    "duration": 86,
    "start_time": "2021-11-25T14:17:12.694Z"
   },
   {
    "duration": 6,
    "start_time": "2021-11-25T14:17:12.782Z"
   },
   {
    "duration": 18,
    "start_time": "2021-11-25T14:17:12.789Z"
   },
   {
    "duration": 39,
    "start_time": "2021-11-25T14:17:12.809Z"
   },
   {
    "duration": 35,
    "start_time": "2021-11-25T14:17:30.439Z"
   },
   {
    "duration": 67,
    "start_time": "2021-11-25T14:18:02.302Z"
   },
   {
    "duration": 23,
    "start_time": "2021-11-25T14:18:02.372Z"
   },
   {
    "duration": 21,
    "start_time": "2021-11-25T14:18:02.398Z"
   },
   {
    "duration": 88,
    "start_time": "2021-11-25T14:18:02.421Z"
   },
   {
    "duration": 7,
    "start_time": "2021-11-25T14:18:02.510Z"
   },
   {
    "duration": 9,
    "start_time": "2021-11-25T14:18:02.519Z"
   },
   {
    "duration": 55,
    "start_time": "2021-11-25T14:18:02.530Z"
   },
   {
    "duration": 31,
    "start_time": "2021-11-25T14:18:17.579Z"
   },
   {
    "duration": 32,
    "start_time": "2021-11-25T14:18:28.691Z"
   },
   {
    "duration": 37,
    "start_time": "2021-11-25T14:18:35.640Z"
   },
   {
    "duration": 84,
    "start_time": "2021-11-25T14:18:38.299Z"
   },
   {
    "duration": 22,
    "start_time": "2021-11-25T14:18:38.385Z"
   },
   {
    "duration": 20,
    "start_time": "2021-11-25T14:18:38.409Z"
   },
   {
    "duration": 105,
    "start_time": "2021-11-25T14:18:38.431Z"
   },
   {
    "duration": 5,
    "start_time": "2021-11-25T14:18:38.538Z"
   },
   {
    "duration": 26,
    "start_time": "2021-11-25T14:18:38.545Z"
   },
   {
    "duration": 59,
    "start_time": "2021-11-25T14:18:38.573Z"
   },
   {
    "duration": 256,
    "start_time": "2021-11-25T14:20:29.559Z"
   },
   {
    "duration": 265,
    "start_time": "2021-11-25T14:20:48.587Z"
   },
   {
    "duration": 33,
    "start_time": "2021-11-25T14:20:52.640Z"
   },
   {
    "duration": 263,
    "start_time": "2021-11-25T14:21:12.559Z"
   },
   {
    "duration": 70,
    "start_time": "2021-11-25T14:21:15.539Z"
   },
   {
    "duration": 23,
    "start_time": "2021-11-25T14:21:15.611Z"
   },
   {
    "duration": 59,
    "start_time": "2021-11-25T14:21:15.636Z"
   },
   {
    "duration": 67,
    "start_time": "2021-11-25T14:21:15.697Z"
   },
   {
    "duration": 5,
    "start_time": "2021-11-25T14:21:15.766Z"
   },
   {
    "duration": 23,
    "start_time": "2021-11-25T14:21:15.773Z"
   },
   {
    "duration": 456,
    "start_time": "2021-11-25T14:21:15.798Z"
   },
   {
    "duration": 31,
    "start_time": "2021-11-25T14:21:26.479Z"
   },
   {
    "duration": 265,
    "start_time": "2021-11-25T14:21:50.839Z"
   },
   {
    "duration": 269,
    "start_time": "2021-11-25T14:22:42.676Z"
   },
   {
    "duration": 3,
    "start_time": "2021-11-25T14:23:43.259Z"
   },
   {
    "duration": 34,
    "start_time": "2021-11-25T14:23:55.579Z"
   },
   {
    "duration": 837,
    "start_time": "2021-11-25T14:23:59.640Z"
   },
   {
    "duration": 9,
    "start_time": "2021-11-25T14:24:41.412Z"
   },
   {
    "duration": 8,
    "start_time": "2021-11-25T14:26:07.671Z"
   },
   {
    "duration": 7,
    "start_time": "2021-11-25T14:26:30.379Z"
   },
   {
    "duration": 7,
    "start_time": "2021-11-25T14:26:35.979Z"
   },
   {
    "duration": 162,
    "start_time": "2021-11-25T14:29:22.791Z"
   },
   {
    "duration": 32,
    "start_time": "2021-11-25T14:29:22.955Z"
   },
   {
    "duration": 11,
    "start_time": "2021-11-25T14:29:22.989Z"
   },
   {
    "duration": 101,
    "start_time": "2021-11-25T14:29:23.002Z"
   },
   {
    "duration": 6,
    "start_time": "2021-11-25T14:29:23.105Z"
   },
   {
    "duration": 15,
    "start_time": "2021-11-25T14:29:23.112Z"
   },
   {
    "duration": 13,
    "start_time": "2021-11-25T14:29:23.129Z"
   },
   {
    "duration": 54,
    "start_time": "2021-11-25T14:29:23.145Z"
   },
   {
    "duration": 216,
    "start_time": "2021-11-25T14:30:35.219Z"
   },
   {
    "duration": 175,
    "start_time": "2021-11-25T14:30:52.739Z"
   },
   {
    "duration": 355,
    "start_time": "2021-11-25T14:32:46.379Z"
   },
   {
    "duration": 252,
    "start_time": "2021-11-25T14:33:22.148Z"
   },
   {
    "duration": 6,
    "start_time": "2021-11-25T14:33:47.319Z"
   },
   {
    "duration": 257,
    "start_time": "2021-11-25T14:34:56.639Z"
   },
   {
    "duration": 8,
    "start_time": "2021-11-25T14:35:03.919Z"
   },
   {
    "duration": 249,
    "start_time": "2021-11-25T14:35:18.239Z"
   },
   {
    "duration": 328,
    "start_time": "2021-11-25T14:35:23.159Z"
   },
   {
    "duration": 626,
    "start_time": "2021-11-25T14:35:27.802Z"
   },
   {
    "duration": 73,
    "start_time": "2021-11-25T14:35:34.280Z"
   },
   {
    "duration": 27,
    "start_time": "2021-11-25T14:35:34.354Z"
   },
   {
    "duration": 91,
    "start_time": "2021-11-25T14:35:34.384Z"
   },
   {
    "duration": 69,
    "start_time": "2021-11-25T14:35:34.477Z"
   },
   {
    "duration": 6,
    "start_time": "2021-11-25T14:35:34.548Z"
   },
   {
    "duration": 9,
    "start_time": "2021-11-25T14:35:34.572Z"
   },
   {
    "duration": 297,
    "start_time": "2021-11-25T14:35:34.583Z"
   },
   {
    "duration": -552,
    "start_time": "2021-11-25T14:35:35.434Z"
   },
   {
    "duration": 8,
    "start_time": "2021-11-25T14:35:52.967Z"
   },
   {
    "duration": 249,
    "start_time": "2021-11-25T14:36:03.139Z"
   },
   {
    "duration": 6,
    "start_time": "2021-11-25T14:36:07.010Z"
   },
   {
    "duration": 266,
    "start_time": "2021-11-25T14:36:25.678Z"
   },
   {
    "duration": 264,
    "start_time": "2021-11-25T14:36:33.359Z"
   },
   {
    "duration": 6,
    "start_time": "2021-11-25T14:36:41.751Z"
   },
   {
    "duration": 264,
    "start_time": "2021-11-25T14:50:49.978Z"
   },
   {
    "duration": 133,
    "start_time": "2021-11-25T14:51:20.440Z"
   },
   {
    "duration": 179,
    "start_time": "2021-11-25T14:59:43.962Z"
   },
   {
    "duration": 148,
    "start_time": "2021-11-25T15:00:11.259Z"
   },
   {
    "duration": 7,
    "start_time": "2021-11-25T15:02:42.218Z"
   },
   {
    "duration": 235,
    "start_time": "2021-11-25T15:03:21.700Z"
   },
   {
    "duration": 188,
    "start_time": "2021-11-25T15:06:00.738Z"
   },
   {
    "duration": 207,
    "start_time": "2021-11-25T15:08:56.708Z"
   },
   {
    "duration": 362,
    "start_time": "2021-11-25T15:09:04.468Z"
   },
   {
    "duration": 257,
    "start_time": "2021-11-25T15:09:12.242Z"
   },
   {
    "duration": 1162,
    "start_time": "2021-11-25T15:09:24.779Z"
   },
   {
    "duration": 296,
    "start_time": "2021-11-25T15:09:56.058Z"
   },
   {
    "duration": 254,
    "start_time": "2021-11-25T15:10:04.298Z"
   },
   {
    "duration": 285,
    "start_time": "2021-11-25T15:10:18.538Z"
   },
   {
    "duration": 238,
    "start_time": "2021-11-25T15:10:27.598Z"
   },
   {
    "duration": 208,
    "start_time": "2021-11-25T15:10:39.538Z"
   },
   {
    "duration": 3,
    "start_time": "2021-11-25T15:12:14.558Z"
   },
   {
    "duration": 178,
    "start_time": "2021-11-25T15:14:56.340Z"
   },
   {
    "duration": 176,
    "start_time": "2021-11-25T15:16:38.610Z"
   },
   {
    "duration": 137,
    "start_time": "2021-11-25T15:16:48.908Z"
   },
   {
    "duration": 134,
    "start_time": "2021-11-25T15:17:00.006Z"
   },
   {
    "duration": 86,
    "start_time": "2021-11-25T15:33:17.179Z"
   },
   {
    "duration": 4,
    "start_time": "2021-11-25T15:36:18.622Z"
   },
   {
    "duration": 6,
    "start_time": "2021-11-25T15:36:31.939Z"
   },
   {
    "duration": 11,
    "start_time": "2021-11-25T15:40:20.207Z"
   },
   {
    "duration": 97,
    "start_time": "2021-11-25T15:43:41.147Z"
   },
   {
    "duration": 260,
    "start_time": "2021-11-25T15:43:49.940Z"
   },
   {
    "duration": 273,
    "start_time": "2021-11-25T15:44:32.760Z"
   },
   {
    "duration": 274,
    "start_time": "2021-11-25T15:44:41.740Z"
   },
   {
    "duration": 36,
    "start_time": "2021-11-25T15:44:50.858Z"
   },
   {
    "duration": 358,
    "start_time": "2021-11-25T15:46:10.603Z"
   },
   {
    "duration": 13,
    "start_time": "2021-11-25T15:46:45.981Z"
   },
   {
    "duration": 13,
    "start_time": "2021-11-25T15:46:55.780Z"
   },
   {
    "duration": 14,
    "start_time": "2021-11-25T15:47:05.619Z"
   },
   {
    "duration": 12,
    "start_time": "2021-11-25T15:47:11.579Z"
   },
   {
    "duration": 72,
    "start_time": "2021-11-25T15:47:15.700Z"
   },
   {
    "duration": 21,
    "start_time": "2021-11-25T15:47:15.774Z"
   },
   {
    "duration": 15,
    "start_time": "2021-11-25T15:47:15.797Z"
   },
   {
    "duration": 83,
    "start_time": "2021-11-25T15:47:15.814Z"
   },
   {
    "duration": 6,
    "start_time": "2021-11-25T15:47:15.899Z"
   },
   {
    "duration": 26,
    "start_time": "2021-11-25T15:47:15.907Z"
   },
   {
    "duration": 132,
    "start_time": "2021-11-25T15:47:15.936Z"
   },
   {
    "duration": 38,
    "start_time": "2021-11-25T15:47:16.070Z"
   },
   {
    "duration": 55,
    "start_time": "2021-11-25T15:47:16.110Z"
   },
   {
    "duration": 311,
    "start_time": "2021-11-25T15:47:35.140Z"
   },
   {
    "duration": 17,
    "start_time": "2021-11-25T15:48:31.980Z"
   },
   {
    "duration": 62,
    "start_time": "2021-11-25T15:49:34.561Z"
   },
   {
    "duration": 22,
    "start_time": "2021-11-25T15:49:34.624Z"
   },
   {
    "duration": 13,
    "start_time": "2021-11-25T15:49:34.648Z"
   },
   {
    "duration": 64,
    "start_time": "2021-11-25T15:49:34.663Z"
   },
   {
    "duration": 5,
    "start_time": "2021-11-25T15:49:34.729Z"
   },
   {
    "duration": 10,
    "start_time": "2021-11-25T15:49:34.735Z"
   },
   {
    "duration": 137,
    "start_time": "2021-11-25T15:49:34.763Z"
   },
   {
    "duration": 15,
    "start_time": "2021-11-25T15:49:34.902Z"
   },
   {
    "duration": 50,
    "start_time": "2021-11-25T15:49:34.919Z"
   },
   {
    "duration": 16,
    "start_time": "2021-11-25T15:50:06.399Z"
   },
   {
    "duration": 307,
    "start_time": "2021-11-25T15:50:19.419Z"
   },
   {
    "duration": -2030,
    "start_time": "2021-11-25T15:50:35.428Z"
   },
   {
    "duration": 64,
    "start_time": "2021-11-25T15:50:35.958Z"
   },
   {
    "duration": 21,
    "start_time": "2021-11-25T15:50:36.025Z"
   },
   {
    "duration": 18,
    "start_time": "2021-11-25T15:50:36.048Z"
   },
   {
    "duration": 65,
    "start_time": "2021-11-25T15:50:36.068Z"
   },
   {
    "duration": 28,
    "start_time": "2021-11-25T15:50:36.136Z"
   },
   {
    "duration": 8,
    "start_time": "2021-11-25T15:50:36.166Z"
   },
   {
    "duration": 147,
    "start_time": "2021-11-25T15:50:36.176Z"
   },
   {
    "duration": 6162,
    "start_time": "2021-11-25T15:50:36.325Z"
   },
   {
    "duration": -1507,
    "start_time": "2021-11-25T15:50:43.996Z"
   },
   {
    "duration": 15,
    "start_time": "2021-11-25T15:51:04.127Z"
   },
   {
    "duration": 89,
    "start_time": "2021-11-25T15:51:49.980Z"
   },
   {
    "duration": 271,
    "start_time": "2021-11-25T15:52:03.799Z"
   },
   {
    "duration": 21,
    "start_time": "2021-11-25T15:52:21.719Z"
   },
   {
    "duration": 284,
    "start_time": "2021-11-25T15:52:39.839Z"
   },
   {
    "duration": 16,
    "start_time": "2021-11-25T15:52:45.347Z"
   },
   {
    "duration": 16,
    "start_time": "2021-11-25T15:52:59.352Z"
   },
   {
    "duration": 15,
    "start_time": "2021-11-25T15:55:22.639Z"
   },
   {
    "duration": 14,
    "start_time": "2021-11-25T15:55:56.740Z"
   },
   {
    "duration": 14,
    "start_time": "2021-11-25T15:56:11.094Z"
   },
   {
    "duration": 264,
    "start_time": "2021-11-25T15:56:55.168Z"
   },
   {
    "duration": 17,
    "start_time": "2021-11-25T15:57:05.759Z"
   },
   {
    "duration": 17,
    "start_time": "2021-11-25T15:57:19.299Z"
   },
   {
    "duration": 22,
    "start_time": "2021-11-25T15:57:24.668Z"
   },
   {
    "duration": 15,
    "start_time": "2021-11-25T15:58:44.447Z"
   },
   {
    "duration": 13,
    "start_time": "2021-11-25T16:01:06.860Z"
   },
   {
    "duration": 3,
    "start_time": "2021-11-25T16:02:59.691Z"
   },
   {
    "duration": 5,
    "start_time": "2021-11-25T16:03:51.270Z"
   },
   {
    "duration": 128,
    "start_time": "2021-11-25T16:13:14.270Z"
   },
   {
    "duration": 5,
    "start_time": "2021-11-25T16:30:29.751Z"
   },
   {
    "duration": 7,
    "start_time": "2021-11-25T16:30:54.090Z"
   },
   {
    "duration": 267,
    "start_time": "2021-11-25T16:31:03.359Z"
   },
   {
    "duration": 294,
    "start_time": "2021-11-25T16:31:23.211Z"
   },
   {
    "duration": 6,
    "start_time": "2021-11-25T16:31:31.919Z"
   },
   {
    "duration": 9,
    "start_time": "2021-11-25T16:32:31.618Z"
   },
   {
    "duration": 145,
    "start_time": "2021-11-25T16:33:07.778Z"
   },
   {
    "duration": 139,
    "start_time": "2021-11-25T16:33:31.818Z"
   },
   {
    "duration": 10,
    "start_time": "2021-11-25T16:38:07.140Z"
   },
   {
    "duration": 11,
    "start_time": "2021-11-25T16:38:25.298Z"
   },
   {
    "duration": 13,
    "start_time": "2021-11-25T16:38:47.659Z"
   },
   {
    "duration": 69,
    "start_time": "2021-11-25T16:39:03.181Z"
   },
   {
    "duration": 21,
    "start_time": "2021-11-25T16:39:03.252Z"
   },
   {
    "duration": 75,
    "start_time": "2021-11-25T16:39:03.276Z"
   },
   {
    "duration": 68,
    "start_time": "2021-11-25T16:39:03.353Z"
   },
   {
    "duration": 6,
    "start_time": "2021-11-25T16:39:03.422Z"
   },
   {
    "duration": 10,
    "start_time": "2021-11-25T16:39:03.430Z"
   },
   {
    "duration": 146,
    "start_time": "2021-11-25T16:39:03.463Z"
   },
   {
    "duration": 22,
    "start_time": "2021-11-25T16:39:03.611Z"
   },
   {
    "duration": 9,
    "start_time": "2021-11-25T16:39:03.635Z"
   },
   {
    "duration": 11,
    "start_time": "2021-11-25T16:39:03.664Z"
   },
   {
    "duration": 35,
    "start_time": "2021-11-25T16:39:03.677Z"
   },
   {
    "duration": 13,
    "start_time": "2021-11-25T16:39:25.899Z"
   },
   {
    "duration": 13,
    "start_time": "2021-11-25T16:40:33.838Z"
   },
   {
    "duration": 11,
    "start_time": "2021-11-25T16:41:26.579Z"
   },
   {
    "duration": 15,
    "start_time": "2021-11-25T16:42:00.539Z"
   },
   {
    "duration": 12,
    "start_time": "2021-11-25T16:42:19.678Z"
   },
   {
    "duration": 69,
    "start_time": "2021-11-25T16:42:23.419Z"
   },
   {
    "duration": 23,
    "start_time": "2021-11-25T16:42:23.490Z"
   },
   {
    "duration": 12,
    "start_time": "2021-11-25T16:42:23.516Z"
   },
   {
    "duration": 87,
    "start_time": "2021-11-25T16:42:23.530Z"
   },
   {
    "duration": 7,
    "start_time": "2021-11-25T16:42:23.619Z"
   },
   {
    "duration": 8,
    "start_time": "2021-11-25T16:42:23.628Z"
   },
   {
    "duration": 166,
    "start_time": "2021-11-25T16:42:23.638Z"
   },
   {
    "duration": 20,
    "start_time": "2021-11-25T16:42:23.806Z"
   },
   {
    "duration": 9,
    "start_time": "2021-11-25T16:42:23.829Z"
   },
   {
    "duration": 296,
    "start_time": "2021-11-25T16:42:23.840Z"
   },
   {
    "duration": -2600,
    "start_time": "2021-11-25T16:42:26.738Z"
   },
   {
    "duration": 283,
    "start_time": "2021-11-25T16:43:28.978Z"
   },
   {
    "duration": 267,
    "start_time": "2021-11-25T16:44:09.400Z"
   },
   {
    "duration": 285,
    "start_time": "2021-11-25T16:45:09.340Z"
   },
   {
    "duration": 346,
    "start_time": "2021-11-25T16:46:24.003Z"
   },
   {
    "duration": 64,
    "start_time": "2021-11-25T16:46:50.867Z"
   },
   {
    "duration": 22,
    "start_time": "2021-11-25T16:46:50.933Z"
   },
   {
    "duration": 12,
    "start_time": "2021-11-25T16:46:50.958Z"
   },
   {
    "duration": 65,
    "start_time": "2021-11-25T16:46:50.972Z"
   },
   {
    "duration": 28,
    "start_time": "2021-11-25T16:46:51.039Z"
   },
   {
    "duration": 9,
    "start_time": "2021-11-25T16:46:51.069Z"
   },
   {
    "duration": 156,
    "start_time": "2021-11-25T16:46:51.080Z"
   },
   {
    "duration": 30,
    "start_time": "2021-11-25T16:46:51.238Z"
   },
   {
    "duration": 8,
    "start_time": "2021-11-25T16:46:51.270Z"
   },
   {
    "duration": 12,
    "start_time": "2021-11-25T16:46:51.280Z"
   },
   {
    "duration": 33,
    "start_time": "2021-11-25T16:46:51.294Z"
   },
   {
    "duration": 10,
    "start_time": "2021-11-25T16:47:34.268Z"
   },
   {
    "duration": 11,
    "start_time": "2021-11-25T16:47:55.859Z"
   },
   {
    "duration": 67,
    "start_time": "2021-11-25T16:48:00.179Z"
   },
   {
    "duration": 22,
    "start_time": "2021-11-25T16:48:00.248Z"
   },
   {
    "duration": 28,
    "start_time": "2021-11-25T16:48:00.272Z"
   },
   {
    "duration": 78,
    "start_time": "2021-11-25T16:48:00.303Z"
   },
   {
    "duration": 5,
    "start_time": "2021-11-25T16:48:00.383Z"
   },
   {
    "duration": 17,
    "start_time": "2021-11-25T16:48:00.390Z"
   },
   {
    "duration": 159,
    "start_time": "2021-11-25T16:48:00.409Z"
   },
   {
    "duration": 19,
    "start_time": "2021-11-25T16:48:00.571Z"
   },
   {
    "duration": 9,
    "start_time": "2021-11-25T16:48:00.592Z"
   },
   {
    "duration": 11,
    "start_time": "2021-11-25T16:48:00.602Z"
   },
   {
    "duration": 62,
    "start_time": "2021-11-25T16:48:00.615Z"
   },
   {
    "duration": 31,
    "start_time": "2021-11-25T16:50:27.008Z"
   },
   {
    "duration": 135,
    "start_time": "2021-11-25T16:51:20.899Z"
   },
   {
    "duration": 139,
    "start_time": "2021-11-25T16:52:01.879Z"
   },
   {
    "duration": 459,
    "start_time": "2021-11-25T16:53:40.559Z"
   },
   {
    "duration": 497,
    "start_time": "2021-11-25T16:55:19.566Z"
   },
   {
    "duration": 497,
    "start_time": "2021-11-25T16:57:26.878Z"
   },
   {
    "duration": 814,
    "start_time": "2021-11-25T16:58:55.035Z"
   },
   {
    "duration": 502,
    "start_time": "2021-11-25T16:59:33.219Z"
   },
   {
    "duration": 530,
    "start_time": "2021-11-25T16:59:48.499Z"
   },
   {
    "duration": 523,
    "start_time": "2021-11-25T17:00:24.099Z"
   },
   {
    "duration": 86,
    "start_time": "2021-11-25T17:07:14.495Z"
   },
   {
    "duration": 264,
    "start_time": "2021-11-25T17:13:30.308Z"
   },
   {
    "duration": 251,
    "start_time": "2021-11-25T17:13:40.959Z"
   },
   {
    "duration": 5,
    "start_time": "2021-11-25T17:13:53.959Z"
   },
   {
    "duration": 272,
    "start_time": "2021-11-25T17:14:20.037Z"
   },
   {
    "duration": 6,
    "start_time": "2021-11-25T17:15:04.119Z"
   },
   {
    "duration": 10,
    "start_time": "2021-11-25T17:22:45.680Z"
   },
   {
    "duration": 5,
    "start_time": "2021-11-25T17:22:55.027Z"
   },
   {
    "duration": 149,
    "start_time": "2021-11-25T17:24:05.880Z"
   },
   {
    "duration": 8,
    "start_time": "2021-11-25T17:25:32.255Z"
   },
   {
    "duration": 6,
    "start_time": "2021-11-25T17:25:43.931Z"
   },
   {
    "duration": 244,
    "start_time": "2021-11-25T17:26:29.362Z"
   },
   {
    "duration": 251,
    "start_time": "2021-11-25T17:28:28.399Z"
   },
   {
    "duration": 6,
    "start_time": "2021-11-25T17:30:16.939Z"
   },
   {
    "duration": 6,
    "start_time": "2021-11-25T17:30:20.019Z"
   },
   {
    "duration": 67,
    "start_time": "2021-11-25T17:30:24.239Z"
   },
   {
    "duration": 21,
    "start_time": "2021-11-25T17:30:24.308Z"
   },
   {
    "duration": 21,
    "start_time": "2021-11-25T17:30:24.331Z"
   },
   {
    "duration": 70,
    "start_time": "2021-11-25T17:30:24.354Z"
   },
   {
    "duration": 5,
    "start_time": "2021-11-25T17:30:24.426Z"
   },
   {
    "duration": 14,
    "start_time": "2021-11-25T17:30:24.433Z"
   },
   {
    "duration": 150,
    "start_time": "2021-11-25T17:30:24.449Z"
   },
   {
    "duration": 19,
    "start_time": "2021-11-25T17:30:24.601Z"
   },
   {
    "duration": 8,
    "start_time": "2021-11-25T17:30:24.623Z"
   },
   {
    "duration": 31,
    "start_time": "2021-11-25T17:30:24.633Z"
   },
   {
    "duration": 479,
    "start_time": "2021-11-25T17:30:24.666Z"
   },
   {
    "duration": 6,
    "start_time": "2021-11-25T17:30:25.147Z"
   },
   {
    "duration": 55,
    "start_time": "2021-11-25T17:30:25.154Z"
   },
   {
    "duration": 69,
    "start_time": "2021-11-25T17:31:07.608Z"
   },
   {
    "duration": 69,
    "start_time": "2021-11-25T17:31:42.056Z"
   },
   {
    "duration": 64,
    "start_time": "2021-11-25T17:31:59.440Z"
   },
   {
    "duration": 268,
    "start_time": "2021-11-25T17:33:53.800Z"
   },
   {
    "duration": 82,
    "start_time": "2021-11-25T17:34:39.860Z"
   },
   {
    "duration": 82,
    "start_time": "2021-11-25T17:34:46.619Z"
   },
   {
    "duration": 63,
    "start_time": "2021-11-25T17:35:35.928Z"
   },
   {
    "duration": 21,
    "start_time": "2021-11-25T17:35:35.993Z"
   },
   {
    "duration": 11,
    "start_time": "2021-11-25T17:35:36.015Z"
   },
   {
    "duration": 84,
    "start_time": "2021-11-25T17:35:36.027Z"
   },
   {
    "duration": 5,
    "start_time": "2021-11-25T17:35:36.113Z"
   },
   {
    "duration": 13,
    "start_time": "2021-11-25T17:35:36.119Z"
   },
   {
    "duration": 142,
    "start_time": "2021-11-25T17:35:36.133Z"
   },
   {
    "duration": 20,
    "start_time": "2021-11-25T17:35:36.277Z"
   },
   {
    "duration": 8,
    "start_time": "2021-11-25T17:35:36.299Z"
   },
   {
    "duration": 11,
    "start_time": "2021-11-25T17:35:36.309Z"
   },
   {
    "duration": 515,
    "start_time": "2021-11-25T17:35:36.321Z"
   },
   {
    "duration": 77,
    "start_time": "2021-11-25T17:35:36.837Z"
   },
   {
    "duration": 33,
    "start_time": "2021-11-25T17:35:36.916Z"
   },
   {
    "duration": 472,
    "start_time": "2021-11-25T17:37:25.354Z"
   },
   {
    "duration": 66,
    "start_time": "2021-11-25T17:37:53.999Z"
   },
   {
    "duration": 22,
    "start_time": "2021-11-25T17:37:54.067Z"
   },
   {
    "duration": 30,
    "start_time": "2021-11-25T17:37:54.091Z"
   },
   {
    "duration": 65,
    "start_time": "2021-11-25T17:37:54.123Z"
   },
   {
    "duration": 5,
    "start_time": "2021-11-25T17:37:54.190Z"
   },
   {
    "duration": 8,
    "start_time": "2021-11-25T17:37:54.197Z"
   },
   {
    "duration": 152,
    "start_time": "2021-11-25T17:37:54.206Z"
   },
   {
    "duration": 21,
    "start_time": "2021-11-25T17:37:54.364Z"
   },
   {
    "duration": 10,
    "start_time": "2021-11-25T17:37:54.388Z"
   },
   {
    "duration": 13,
    "start_time": "2021-11-25T17:37:54.401Z"
   },
   {
    "duration": 507,
    "start_time": "2021-11-25T17:37:54.416Z"
   },
   {
    "duration": 80,
    "start_time": "2021-11-25T17:37:54.925Z"
   },
   {
    "duration": 35,
    "start_time": "2021-11-25T17:37:55.007Z"
   },
   {
    "duration": 566,
    "start_time": "2021-11-25T17:38:33.299Z"
   },
   {
    "duration": 536,
    "start_time": "2021-11-25T17:39:47.142Z"
   },
   {
    "duration": 477,
    "start_time": "2021-11-25T17:40:23.380Z"
   },
   {
    "duration": -1152,
    "start_time": "2021-11-25T17:43:04.878Z"
   },
   {
    "duration": -1172,
    "start_time": "2021-11-25T17:43:04.899Z"
   },
   {
    "duration": -1269,
    "start_time": "2021-11-25T17:43:04.997Z"
   },
   {
    "duration": -1271,
    "start_time": "2021-11-25T17:43:05.001Z"
   },
   {
    "duration": -1328,
    "start_time": "2021-11-25T17:43:05.059Z"
   },
   {
    "duration": -1330,
    "start_time": "2021-11-25T17:43:05.062Z"
   },
   {
    "duration": -1330,
    "start_time": "2021-11-25T17:43:05.063Z"
   },
   {
    "duration": -1335,
    "start_time": "2021-11-25T17:43:05.069Z"
   },
   {
    "duration": -1390,
    "start_time": "2021-11-25T17:43:05.125Z"
   },
   {
    "duration": -1396,
    "start_time": "2021-11-25T17:43:05.132Z"
   },
   {
    "duration": -1397,
    "start_time": "2021-11-25T17:43:05.134Z"
   },
   {
    "duration": -1398,
    "start_time": "2021-11-25T17:43:05.136Z"
   },
   {
    "duration": -1466,
    "start_time": "2021-11-25T17:43:05.205Z"
   },
   {
    "duration": 67,
    "start_time": "2021-11-25T17:43:14.419Z"
   },
   {
    "duration": 22,
    "start_time": "2021-11-25T17:43:14.488Z"
   },
   {
    "duration": 11,
    "start_time": "2021-11-25T17:43:14.512Z"
   },
   {
    "duration": 87,
    "start_time": "2021-11-25T17:43:14.525Z"
   },
   {
    "duration": 5,
    "start_time": "2021-11-25T17:43:14.614Z"
   },
   {
    "duration": 16,
    "start_time": "2021-11-25T17:43:14.621Z"
   },
   {
    "duration": 148,
    "start_time": "2021-11-25T17:43:14.638Z"
   },
   {
    "duration": 22,
    "start_time": "2021-11-25T17:43:14.787Z"
   },
   {
    "duration": 8,
    "start_time": "2021-11-25T17:43:14.811Z"
   },
   {
    "duration": 20,
    "start_time": "2021-11-25T17:43:14.820Z"
   },
   {
    "duration": 485,
    "start_time": "2021-11-25T17:43:14.842Z"
   },
   {
    "duration": 11159,
    "start_time": "2021-11-25T17:43:15.329Z"
   },
   {
    "duration": -812,
    "start_time": "2021-11-25T17:43:27.302Z"
   },
   {
    "duration": 474,
    "start_time": "2021-11-25T17:44:32.447Z"
   },
   {
    "duration": 549,
    "start_time": "2021-11-25T17:44:42.240Z"
   },
   {
    "duration": 564,
    "start_time": "2021-11-25T17:45:37.380Z"
   },
   {
    "duration": 588,
    "start_time": "2021-11-25T17:45:51.720Z"
   },
   {
    "duration": 555,
    "start_time": "2021-11-25T17:46:08.240Z"
   },
   {
    "duration": 68,
    "start_time": "2021-11-25T17:46:17.928Z"
   },
   {
    "duration": 21,
    "start_time": "2021-11-25T17:46:17.998Z"
   },
   {
    "duration": 10,
    "start_time": "2021-11-25T17:46:18.021Z"
   },
   {
    "duration": 82,
    "start_time": "2021-11-25T17:46:18.033Z"
   },
   {
    "duration": 6,
    "start_time": "2021-11-25T17:46:18.116Z"
   },
   {
    "duration": 9,
    "start_time": "2021-11-25T17:46:18.123Z"
   },
   {
    "duration": 149,
    "start_time": "2021-11-25T17:46:18.133Z"
   },
   {
    "duration": 23,
    "start_time": "2021-11-25T17:46:18.283Z"
   },
   {
    "duration": 9,
    "start_time": "2021-11-25T17:46:18.309Z"
   },
   {
    "duration": 12,
    "start_time": "2021-11-25T17:46:18.320Z"
   },
   {
    "duration": 467,
    "start_time": "2021-11-25T17:46:18.363Z"
   },
   {
    "duration": 710,
    "start_time": "2021-11-25T17:46:18.831Z"
   },
   {
    "duration": 43,
    "start_time": "2021-11-25T17:46:19.543Z"
   },
   {
    "duration": 624,
    "start_time": "2021-11-25T17:46:34.560Z"
   },
   {
    "duration": 66,
    "start_time": "2021-11-25T17:47:02.121Z"
   },
   {
    "duration": 24,
    "start_time": "2021-11-25T17:47:02.189Z"
   },
   {
    "duration": 33,
    "start_time": "2021-11-25T17:47:02.214Z"
   },
   {
    "duration": 67,
    "start_time": "2021-11-25T17:47:02.249Z"
   },
   {
    "duration": 6,
    "start_time": "2021-11-25T17:47:02.318Z"
   },
   {
    "duration": 14,
    "start_time": "2021-11-25T17:47:02.326Z"
   },
   {
    "duration": 144,
    "start_time": "2021-11-25T17:47:02.342Z"
   },
   {
    "duration": 19,
    "start_time": "2021-11-25T17:47:02.487Z"
   },
   {
    "duration": 9,
    "start_time": "2021-11-25T17:47:02.508Z"
   },
   {
    "duration": 10,
    "start_time": "2021-11-25T17:47:02.518Z"
   },
   {
    "duration": 512,
    "start_time": "2021-11-25T17:47:02.529Z"
   },
   {
    "duration": 638,
    "start_time": "2021-11-25T17:47:03.044Z"
   },
   {
    "duration": 34,
    "start_time": "2021-11-25T17:47:03.684Z"
   },
   {
    "duration": 67,
    "start_time": "2021-11-25T17:47:22.027Z"
   },
   {
    "duration": 27,
    "start_time": "2021-11-25T17:47:22.096Z"
   },
   {
    "duration": 19,
    "start_time": "2021-11-25T17:47:22.126Z"
   },
   {
    "duration": 103,
    "start_time": "2021-11-25T17:47:22.148Z"
   },
   {
    "duration": 5,
    "start_time": "2021-11-25T17:47:22.253Z"
   },
   {
    "duration": 15,
    "start_time": "2021-11-25T17:47:22.260Z"
   },
   {
    "duration": 138,
    "start_time": "2021-11-25T17:47:22.277Z"
   },
   {
    "duration": 21,
    "start_time": "2021-11-25T17:47:22.417Z"
   },
   {
    "duration": 10,
    "start_time": "2021-11-25T17:47:22.441Z"
   },
   {
    "duration": 12,
    "start_time": "2021-11-25T17:47:22.464Z"
   },
   {
    "duration": 519,
    "start_time": "2021-11-25T17:47:22.477Z"
   },
   {
    "duration": 591,
    "start_time": "2021-11-25T17:47:22.998Z"
   },
   {
    "duration": 35,
    "start_time": "2021-11-25T17:47:23.591Z"
   },
   {
    "duration": 555,
    "start_time": "2021-11-25T17:48:00.224Z"
   },
   {
    "duration": 530,
    "start_time": "2021-11-25T17:48:35.560Z"
   },
   {
    "duration": 568,
    "start_time": "2021-11-25T17:49:31.107Z"
   },
   {
    "duration": 542,
    "start_time": "2021-11-25T17:49:56.360Z"
   },
   {
    "duration": 82,
    "start_time": "2021-11-25T17:50:01.836Z"
   },
   {
    "duration": 22,
    "start_time": "2021-11-25T17:50:01.920Z"
   },
   {
    "duration": 23,
    "start_time": "2021-11-25T17:50:01.945Z"
   },
   {
    "duration": 70,
    "start_time": "2021-11-25T17:50:01.970Z"
   },
   {
    "duration": 6,
    "start_time": "2021-11-25T17:50:02.041Z"
   },
   {
    "duration": 28,
    "start_time": "2021-11-25T17:50:02.048Z"
   },
   {
    "duration": 148,
    "start_time": "2021-11-25T17:50:02.078Z"
   },
   {
    "duration": 21,
    "start_time": "2021-11-25T17:50:02.228Z"
   },
   {
    "duration": 40,
    "start_time": "2021-11-25T17:50:02.253Z"
   },
   {
    "duration": 21,
    "start_time": "2021-11-25T17:50:02.296Z"
   },
   {
    "duration": 510,
    "start_time": "2021-11-25T17:50:02.319Z"
   },
   {
    "duration": 551,
    "start_time": "2021-11-25T17:50:02.831Z"
   },
   {
    "duration": 38,
    "start_time": "2021-11-25T17:50:03.383Z"
   },
   {
    "duration": 588,
    "start_time": "2021-11-25T17:51:02.943Z"
   },
   {
    "duration": 71,
    "start_time": "2021-11-25T17:51:19.641Z"
   },
   {
    "duration": 26,
    "start_time": "2021-11-25T17:51:19.714Z"
   },
   {
    "duration": 31,
    "start_time": "2021-11-25T17:51:19.743Z"
   },
   {
    "duration": 71,
    "start_time": "2021-11-25T17:51:19.777Z"
   },
   {
    "duration": 16,
    "start_time": "2021-11-25T17:51:19.850Z"
   },
   {
    "duration": 33,
    "start_time": "2021-11-25T17:51:19.868Z"
   },
   {
    "duration": 162,
    "start_time": "2021-11-25T17:51:19.903Z"
   },
   {
    "duration": 23,
    "start_time": "2021-11-25T17:51:20.067Z"
   },
   {
    "duration": 9,
    "start_time": "2021-11-25T17:51:20.093Z"
   },
   {
    "duration": 12,
    "start_time": "2021-11-25T17:51:20.104Z"
   },
   {
    "duration": 528,
    "start_time": "2021-11-25T17:51:20.118Z"
   },
   {
    "duration": 565,
    "start_time": "2021-11-25T17:51:20.648Z"
   },
   {
    "duration": 49,
    "start_time": "2021-11-25T17:51:21.215Z"
   },
   {
    "duration": 545,
    "start_time": "2021-11-25T17:52:03.800Z"
   },
   {
    "duration": 68,
    "start_time": "2021-11-25T17:52:11.228Z"
   },
   {
    "duration": 26,
    "start_time": "2021-11-25T17:52:11.298Z"
   },
   {
    "duration": 13,
    "start_time": "2021-11-25T17:52:11.326Z"
   },
   {
    "duration": 79,
    "start_time": "2021-11-25T17:52:11.341Z"
   },
   {
    "duration": 6,
    "start_time": "2021-11-25T17:52:11.421Z"
   },
   {
    "duration": 8,
    "start_time": "2021-11-25T17:52:11.429Z"
   },
   {
    "duration": 147,
    "start_time": "2021-11-25T17:52:11.439Z"
   },
   {
    "duration": 19,
    "start_time": "2021-11-25T17:52:11.588Z"
   },
   {
    "duration": 8,
    "start_time": "2021-11-25T17:52:11.609Z"
   },
   {
    "duration": 10,
    "start_time": "2021-11-25T17:52:11.619Z"
   },
   {
    "duration": 482,
    "start_time": "2021-11-25T17:52:11.631Z"
   },
   {
    "duration": 728,
    "start_time": "2021-11-25T17:52:12.115Z"
   },
   {
    "duration": 43,
    "start_time": "2021-11-25T17:52:12.845Z"
   },
   {
    "duration": 80,
    "start_time": "2021-11-25T17:53:15.540Z"
   },
   {
    "duration": 22,
    "start_time": "2021-11-25T17:53:15.621Z"
   },
   {
    "duration": 43,
    "start_time": "2021-11-25T17:53:15.645Z"
   },
   {
    "duration": 74,
    "start_time": "2021-11-25T17:53:15.690Z"
   },
   {
    "duration": 8,
    "start_time": "2021-11-25T17:53:15.767Z"
   },
   {
    "duration": 37,
    "start_time": "2021-11-25T17:53:15.777Z"
   },
   {
    "duration": 134,
    "start_time": "2021-11-25T17:53:15.816Z"
   },
   {
    "duration": 27,
    "start_time": "2021-11-25T17:53:15.952Z"
   },
   {
    "duration": 11,
    "start_time": "2021-11-25T17:53:15.983Z"
   },
   {
    "duration": 29,
    "start_time": "2021-11-25T17:53:15.996Z"
   },
   {
    "duration": 504,
    "start_time": "2021-11-25T17:53:16.027Z"
   },
   {
    "duration": 582,
    "start_time": "2021-11-25T17:53:16.533Z"
   },
   {
    "duration": 33,
    "start_time": "2021-11-25T17:53:17.117Z"
   },
   {
    "duration": 293,
    "start_time": "2021-11-25T17:55:29.880Z"
   },
   {
    "duration": 571,
    "start_time": "2021-11-25T17:56:16.883Z"
   },
   {
    "duration": 87,
    "start_time": "2021-11-25T17:56:22.940Z"
   },
   {
    "duration": 91,
    "start_time": "2021-11-25T17:57:30.222Z"
   },
   {
    "duration": 244,
    "start_time": "2021-11-25T17:57:36.276Z"
   },
   {
    "duration": 65,
    "start_time": "2021-11-25T17:57:48.279Z"
   },
   {
    "duration": 22,
    "start_time": "2021-11-25T17:57:48.346Z"
   },
   {
    "duration": 11,
    "start_time": "2021-11-25T17:57:48.370Z"
   },
   {
    "duration": 68,
    "start_time": "2021-11-25T17:57:48.383Z"
   },
   {
    "duration": 7,
    "start_time": "2021-11-25T17:57:48.463Z"
   },
   {
    "duration": 13,
    "start_time": "2021-11-25T17:57:48.471Z"
   },
   {
    "duration": 150,
    "start_time": "2021-11-25T17:57:48.486Z"
   },
   {
    "duration": 26,
    "start_time": "2021-11-25T17:57:48.637Z"
   },
   {
    "duration": 8,
    "start_time": "2021-11-25T17:57:48.666Z"
   },
   {
    "duration": 10,
    "start_time": "2021-11-25T17:57:48.676Z"
   },
   {
    "duration": 530,
    "start_time": "2021-11-25T17:57:48.687Z"
   },
   {
    "duration": 248,
    "start_time": "2021-11-25T17:57:49.219Z"
   },
   {
    "duration": -815,
    "start_time": "2021-11-25T17:57:50.284Z"
   },
   {
    "duration": 559,
    "start_time": "2021-11-25T17:58:10.143Z"
   },
   {
    "duration": 581,
    "start_time": "2021-11-25T17:58:49.343Z"
   },
   {
    "duration": 2821,
    "start_time": "2021-11-25T18:02:00.001Z"
   },
   {
    "duration": 549,
    "start_time": "2021-11-25T18:02:14.081Z"
   },
   {
    "duration": 67,
    "start_time": "2021-11-25T18:02:18.528Z"
   },
   {
    "duration": 22,
    "start_time": "2021-11-25T18:02:18.597Z"
   },
   {
    "duration": 13,
    "start_time": "2021-11-25T18:02:18.621Z"
   },
   {
    "duration": 80,
    "start_time": "2021-11-25T18:02:18.636Z"
   },
   {
    "duration": 5,
    "start_time": "2021-11-25T18:02:18.718Z"
   },
   {
    "duration": 9,
    "start_time": "2021-11-25T18:02:18.725Z"
   },
   {
    "duration": 151,
    "start_time": "2021-11-25T18:02:18.735Z"
   },
   {
    "duration": 19,
    "start_time": "2021-11-25T18:02:18.888Z"
   },
   {
    "duration": 9,
    "start_time": "2021-11-25T18:02:18.909Z"
   },
   {
    "duration": 10,
    "start_time": "2021-11-25T18:02:18.920Z"
   },
   {
    "duration": 499,
    "start_time": "2021-11-25T18:02:18.931Z"
   },
   {
    "duration": 2363,
    "start_time": "2021-11-25T18:02:19.431Z"
   },
   {
    "duration": 36,
    "start_time": "2021-11-25T18:02:21.795Z"
   },
   {
    "duration": 66,
    "start_time": "2021-11-25T18:02:51.561Z"
   },
   {
    "duration": 23,
    "start_time": "2021-11-25T18:02:51.629Z"
   },
   {
    "duration": 17,
    "start_time": "2021-11-25T18:02:51.654Z"
   },
   {
    "duration": 66,
    "start_time": "2021-11-25T18:02:51.673Z"
   },
   {
    "duration": 23,
    "start_time": "2021-11-25T18:02:51.741Z"
   },
   {
    "duration": 7,
    "start_time": "2021-11-25T18:02:51.766Z"
   },
   {
    "duration": 146,
    "start_time": "2021-11-25T18:02:51.775Z"
   },
   {
    "duration": 20,
    "start_time": "2021-11-25T18:02:51.923Z"
   },
   {
    "duration": 20,
    "start_time": "2021-11-25T18:02:51.946Z"
   },
   {
    "duration": 11,
    "start_time": "2021-11-25T18:02:51.968Z"
   },
   {
    "duration": 526,
    "start_time": "2021-11-25T18:02:51.980Z"
   },
   {
    "duration": 2888,
    "start_time": "2021-11-25T18:02:52.507Z"
   },
   {
    "duration": 34,
    "start_time": "2021-11-25T18:02:55.396Z"
   },
   {
    "duration": 578,
    "start_time": "2021-11-25T18:03:26.600Z"
   },
   {
    "duration": 85,
    "start_time": "2021-11-25T18:05:18.820Z"
   },
   {
    "duration": 113,
    "start_time": "2021-11-25T18:05:27.108Z"
   },
   {
    "duration": 545,
    "start_time": "2021-11-25T18:05:36.280Z"
   },
   {
    "duration": 69,
    "start_time": "2021-11-25T18:05:42.588Z"
   },
   {
    "duration": 24,
    "start_time": "2021-11-25T18:05:42.659Z"
   },
   {
    "duration": 12,
    "start_time": "2021-11-25T18:05:42.686Z"
   },
   {
    "duration": 82,
    "start_time": "2021-11-25T18:05:42.700Z"
   },
   {
    "duration": 5,
    "start_time": "2021-11-25T18:05:42.784Z"
   },
   {
    "duration": 7,
    "start_time": "2021-11-25T18:05:42.791Z"
   },
   {
    "duration": 151,
    "start_time": "2021-11-25T18:05:42.799Z"
   },
   {
    "duration": 29,
    "start_time": "2021-11-25T18:05:42.951Z"
   },
   {
    "duration": 9,
    "start_time": "2021-11-25T18:05:42.983Z"
   },
   {
    "duration": 12,
    "start_time": "2021-11-25T18:05:42.994Z"
   },
   {
    "duration": 514,
    "start_time": "2021-11-25T18:05:43.008Z"
   },
   {
    "duration": 15964,
    "start_time": "2021-11-25T18:05:43.525Z"
   },
   {
    "duration": -1095,
    "start_time": "2021-11-25T18:06:00.586Z"
   },
   {
    "duration": 86,
    "start_time": "2021-11-25T18:06:28.128Z"
   },
   {
    "duration": 64,
    "start_time": "2021-11-25T18:06:31.908Z"
   },
   {
    "duration": 22,
    "start_time": "2021-11-25T18:06:31.974Z"
   },
   {
    "duration": 17,
    "start_time": "2021-11-25T18:06:31.998Z"
   },
   {
    "duration": 75,
    "start_time": "2021-11-25T18:06:32.017Z"
   },
   {
    "duration": 5,
    "start_time": "2021-11-25T18:06:32.094Z"
   },
   {
    "duration": 12,
    "start_time": "2021-11-25T18:06:32.100Z"
   },
   {
    "duration": 141,
    "start_time": "2021-11-25T18:06:32.113Z"
   },
   {
    "duration": 19,
    "start_time": "2021-11-25T18:06:32.263Z"
   },
   {
    "duration": 13,
    "start_time": "2021-11-25T18:06:32.284Z"
   },
   {
    "duration": 15,
    "start_time": "2021-11-25T18:06:32.298Z"
   },
   {
    "duration": 509,
    "start_time": "2021-11-25T18:06:32.315Z"
   },
   {
    "duration": 93,
    "start_time": "2021-11-25T18:06:32.825Z"
   },
   {
    "duration": -1380,
    "start_time": "2021-11-25T18:06:34.300Z"
   },
   {
    "duration": 64,
    "start_time": "2021-11-25T18:06:53.227Z"
   },
   {
    "duration": 22,
    "start_time": "2021-11-25T18:06:53.293Z"
   },
   {
    "duration": 11,
    "start_time": "2021-11-25T18:06:53.317Z"
   },
   {
    "duration": 272,
    "start_time": "2021-11-25T18:06:53.330Z"
   },
   {
    "duration": 5,
    "start_time": "2021-11-25T18:06:53.604Z"
   },
   {
    "duration": 10,
    "start_time": "2021-11-25T18:06:53.611Z"
   },
   {
    "duration": 188,
    "start_time": "2021-11-25T18:06:53.622Z"
   },
   {
    "duration": 23,
    "start_time": "2021-11-25T18:06:53.812Z"
   },
   {
    "duration": 31,
    "start_time": "2021-11-25T18:06:53.837Z"
   },
   {
    "duration": 12,
    "start_time": "2021-11-25T18:06:53.870Z"
   },
   {
    "duration": 529,
    "start_time": "2021-11-25T18:06:53.884Z"
   },
   {
    "duration": 125,
    "start_time": "2021-11-25T18:06:54.415Z"
   },
   {
    "duration": -2071,
    "start_time": "2021-11-25T18:06:56.613Z"
   },
   {
    "duration": 67,
    "start_time": "2021-11-25T18:07:12.307Z"
   },
   {
    "duration": 29,
    "start_time": "2021-11-25T18:07:12.376Z"
   },
   {
    "duration": 52,
    "start_time": "2021-11-25T18:07:12.408Z"
   },
   {
    "duration": 102,
    "start_time": "2021-11-25T18:07:12.462Z"
   },
   {
    "duration": 5,
    "start_time": "2021-11-25T18:07:12.566Z"
   },
   {
    "duration": 11,
    "start_time": "2021-11-25T18:07:12.573Z"
   },
   {
    "duration": 146,
    "start_time": "2021-11-25T18:07:12.586Z"
   },
   {
    "duration": 34,
    "start_time": "2021-11-25T18:07:12.734Z"
   },
   {
    "duration": 9,
    "start_time": "2021-11-25T18:07:12.772Z"
   },
   {
    "duration": 12,
    "start_time": "2021-11-25T18:07:12.784Z"
   },
   {
    "duration": 605,
    "start_time": "2021-11-25T18:07:12.798Z"
   },
   {
    "duration": 50971,
    "start_time": "2021-11-25T18:07:13.405Z"
   },
   {
    "duration": -1103,
    "start_time": "2021-11-25T18:08:05.481Z"
   },
   {
    "duration": -1270,
    "start_time": "2021-11-25T18:09:12.453Z"
   },
   {
    "duration": -1347,
    "start_time": "2021-11-25T18:09:12.531Z"
   },
   {
    "duration": -1349,
    "start_time": "2021-11-25T18:09:12.534Z"
   },
   {
    "duration": -1403,
    "start_time": "2021-11-25T18:09:12.589Z"
   },
   {
    "duration": -1407,
    "start_time": "2021-11-25T18:09:12.594Z"
   },
   {
    "duration": -1520,
    "start_time": "2021-11-25T18:09:12.707Z"
   },
   {
    "duration": -1520,
    "start_time": "2021-11-25T18:09:12.709Z"
   },
   {
    "duration": -1577,
    "start_time": "2021-11-25T18:09:12.767Z"
   },
   {
    "duration": -1582,
    "start_time": "2021-11-25T18:09:12.772Z"
   },
   {
    "duration": -1635,
    "start_time": "2021-11-25T18:09:12.826Z"
   },
   {
    "duration": -1636,
    "start_time": "2021-11-25T18:09:12.828Z"
   },
   {
    "duration": -1700,
    "start_time": "2021-11-25T18:09:12.893Z"
   },
   {
    "duration": -1701,
    "start_time": "2021-11-25T18:09:12.895Z"
   },
   {
    "duration": 62,
    "start_time": "2021-11-25T18:09:16.088Z"
   },
   {
    "duration": 23,
    "start_time": "2021-11-25T18:09:16.152Z"
   },
   {
    "duration": 12,
    "start_time": "2021-11-25T18:09:16.177Z"
   },
   {
    "duration": 79,
    "start_time": "2021-11-25T18:09:16.191Z"
   },
   {
    "duration": 6,
    "start_time": "2021-11-25T18:09:16.271Z"
   },
   {
    "duration": 8,
    "start_time": "2021-11-25T18:09:16.279Z"
   },
   {
    "duration": 163,
    "start_time": "2021-11-25T18:09:16.289Z"
   },
   {
    "duration": 26,
    "start_time": "2021-11-25T18:09:16.454Z"
   },
   {
    "duration": 10,
    "start_time": "2021-11-25T18:09:16.483Z"
   },
   {
    "duration": 12,
    "start_time": "2021-11-25T18:09:16.495Z"
   },
   {
    "duration": 512,
    "start_time": "2021-11-25T18:09:16.508Z"
   },
   {
    "duration": 29198,
    "start_time": "2021-11-25T18:09:17.021Z"
   },
   {
    "duration": -1182,
    "start_time": "2021-11-25T18:09:47.404Z"
   },
   {
    "duration": -1079,
    "start_time": "2021-11-25T18:12:39.778Z"
   },
   {
    "duration": -1141,
    "start_time": "2021-11-25T18:12:39.841Z"
   },
   {
    "duration": -1195,
    "start_time": "2021-11-25T18:12:39.897Z"
   },
   {
    "duration": -1196,
    "start_time": "2021-11-25T18:12:39.899Z"
   },
   {
    "duration": -1197,
    "start_time": "2021-11-25T18:12:39.901Z"
   },
   {
    "duration": -1197,
    "start_time": "2021-11-25T18:12:39.902Z"
   },
   {
    "duration": -1198,
    "start_time": "2021-11-25T18:12:39.904Z"
   },
   {
    "duration": -1200,
    "start_time": "2021-11-25T18:12:39.907Z"
   },
   {
    "duration": -1261,
    "start_time": "2021-11-25T18:12:39.969Z"
   },
   {
    "duration": -1421,
    "start_time": "2021-11-25T18:12:40.130Z"
   },
   {
    "duration": -1479,
    "start_time": "2021-11-25T18:12:40.189Z"
   },
   {
    "duration": -1484,
    "start_time": "2021-11-25T18:12:40.195Z"
   },
   {
    "duration": -1484,
    "start_time": "2021-11-25T18:12:40.196Z"
   },
   {
    "duration": 64,
    "start_time": "2021-11-25T18:12:48.876Z"
   },
   {
    "duration": 24,
    "start_time": "2021-11-25T18:12:48.942Z"
   },
   {
    "duration": 14,
    "start_time": "2021-11-25T18:12:48.968Z"
   },
   {
    "duration": 85,
    "start_time": "2021-11-25T18:12:48.984Z"
   },
   {
    "duration": 5,
    "start_time": "2021-11-25T18:12:49.071Z"
   },
   {
    "duration": 11,
    "start_time": "2021-11-25T18:12:49.078Z"
   },
   {
    "duration": 164,
    "start_time": "2021-11-25T18:12:49.090Z"
   },
   {
    "duration": 28,
    "start_time": "2021-11-25T18:12:49.256Z"
   },
   {
    "duration": 9,
    "start_time": "2021-11-25T18:12:49.287Z"
   },
   {
    "duration": 21,
    "start_time": "2021-11-25T18:12:49.298Z"
   },
   {
    "duration": 501,
    "start_time": "2021-11-25T18:12:49.321Z"
   },
   {
    "duration": 62,
    "start_time": "2021-11-25T18:16:34.767Z"
   },
   {
    "duration": 23,
    "start_time": "2021-11-25T18:16:34.831Z"
   },
   {
    "duration": 29,
    "start_time": "2021-11-25T18:16:34.856Z"
   },
   {
    "duration": 79,
    "start_time": "2021-11-25T18:16:34.887Z"
   },
   {
    "duration": 5,
    "start_time": "2021-11-25T18:16:34.968Z"
   },
   {
    "duration": 8,
    "start_time": "2021-11-25T18:16:34.974Z"
   },
   {
    "duration": 154,
    "start_time": "2021-11-25T18:16:34.984Z"
   },
   {
    "duration": 28,
    "start_time": "2021-11-25T18:16:35.140Z"
   },
   {
    "duration": 9,
    "start_time": "2021-11-25T18:16:35.171Z"
   },
   {
    "duration": 12,
    "start_time": "2021-11-25T18:16:35.183Z"
   },
   {
    "duration": 514,
    "start_time": "2021-11-25T18:16:35.196Z"
   },
   {
    "duration": 565,
    "start_time": "2021-11-25T18:16:35.712Z"
   },
   {
    "duration": 36,
    "start_time": "2021-11-25T18:16:36.279Z"
   },
   {
    "duration": 90,
    "start_time": "2021-11-25T18:17:00.280Z"
   },
   {
    "duration": 86,
    "start_time": "2021-11-25T18:17:14.709Z"
   },
   {
    "duration": 783,
    "start_time": "2021-11-25T18:17:25.689Z"
   },
   {
    "duration": 572,
    "start_time": "2021-11-25T18:17:34.481Z"
   },
   {
    "duration": 664,
    "start_time": "2021-11-25T18:17:55.762Z"
   },
   {
    "duration": 24879,
    "start_time": "2021-11-25T18:18:18.322Z"
   },
   {
    "duration": 662,
    "start_time": "2021-11-25T18:19:28.982Z"
   },
   {
    "duration": 81,
    "start_time": "2021-11-25T18:19:57.529Z"
   },
   {
    "duration": 45623,
    "start_time": "2021-11-25T18:20:10.362Z"
   },
   {
    "duration": 20145,
    "start_time": "2021-11-25T18:21:01.382Z"
   },
   {
    "duration": 62,
    "start_time": "2021-11-25T18:21:23.282Z"
   },
   {
    "duration": 24,
    "start_time": "2021-11-25T18:21:23.346Z"
   },
   {
    "duration": 37,
    "start_time": "2021-11-25T18:21:23.373Z"
   },
   {
    "duration": 100,
    "start_time": "2021-11-25T18:21:23.413Z"
   },
   {
    "duration": 6,
    "start_time": "2021-11-25T18:21:23.515Z"
   },
   {
    "duration": 22,
    "start_time": "2021-11-25T18:21:23.523Z"
   },
   {
    "duration": 161,
    "start_time": "2021-11-25T18:21:23.547Z"
   },
   {
    "duration": 19,
    "start_time": "2021-11-25T18:21:23.710Z"
   },
   {
    "duration": 25,
    "start_time": "2021-11-25T18:21:23.732Z"
   },
   {
    "duration": 33,
    "start_time": "2021-11-25T18:21:23.759Z"
   },
   {
    "duration": 506,
    "start_time": "2021-11-25T18:21:23.793Z"
   },
   {
    "duration": 82317,
    "start_time": "2021-11-25T18:21:24.301Z"
   },
   {
    "duration": -1188,
    "start_time": "2021-11-25T18:22:47.808Z"
   },
   {
    "duration": 1782,
    "start_time": "2021-11-25T18:26:00.387Z"
   },
   {
    "duration": 259,
    "start_time": "2021-11-25T18:27:49.683Z"
   },
   {
    "duration": 71,
    "start_time": "2021-11-25T18:27:55.102Z"
   },
   {
    "duration": 25,
    "start_time": "2021-11-25T18:27:55.175Z"
   },
   {
    "duration": 12,
    "start_time": "2021-11-25T18:27:55.202Z"
   },
   {
    "duration": 109,
    "start_time": "2021-11-25T18:27:55.216Z"
   },
   {
    "duration": 6,
    "start_time": "2021-11-25T18:27:55.326Z"
   },
   {
    "duration": 21,
    "start_time": "2021-11-25T18:27:55.334Z"
   },
   {
    "duration": 148,
    "start_time": "2021-11-25T18:27:55.357Z"
   },
   {
    "duration": 21,
    "start_time": "2021-11-25T18:27:55.508Z"
   },
   {
    "duration": 32,
    "start_time": "2021-11-25T18:27:55.531Z"
   },
   {
    "duration": 11,
    "start_time": "2021-11-25T18:27:55.565Z"
   },
   {
    "duration": 543,
    "start_time": "2021-11-25T18:27:55.578Z"
   },
   {
    "duration": 262,
    "start_time": "2021-11-25T18:27:56.124Z"
   },
   {
    "duration": -1240,
    "start_time": "2021-11-25T18:27:57.628Z"
   },
   {
    "duration": 262,
    "start_time": "2021-11-25T18:28:35.729Z"
   },
   {
    "duration": 280,
    "start_time": "2021-11-25T18:30:05.096Z"
   },
   {
    "duration": 65,
    "start_time": "2021-11-25T18:30:10.681Z"
   },
   {
    "duration": 23,
    "start_time": "2021-11-25T18:30:10.749Z"
   },
   {
    "duration": 32,
    "start_time": "2021-11-25T18:30:10.774Z"
   },
   {
    "duration": 120,
    "start_time": "2021-11-25T18:30:10.809Z"
   },
   {
    "duration": 9,
    "start_time": "2021-11-25T18:30:10.931Z"
   },
   {
    "duration": 25,
    "start_time": "2021-11-25T18:30:10.942Z"
   },
   {
    "duration": 233,
    "start_time": "2021-11-25T18:30:10.970Z"
   },
   {
    "duration": 32,
    "start_time": "2021-11-25T18:30:11.206Z"
   },
   {
    "duration": 29,
    "start_time": "2021-11-25T18:30:11.240Z"
   },
   {
    "duration": 11,
    "start_time": "2021-11-25T18:30:11.271Z"
   },
   {
    "duration": 546,
    "start_time": "2021-11-25T18:30:11.284Z"
   },
   {
    "duration": 282,
    "start_time": "2021-11-25T18:30:11.832Z"
   },
   {
    "duration": -1346,
    "start_time": "2021-11-25T18:30:13.463Z"
   },
   {
    "duration": 92,
    "start_time": "2021-11-25T18:32:18.783Z"
   },
   {
    "duration": 256,
    "start_time": "2021-11-25T18:33:21.245Z"
   },
   {
    "duration": 535,
    "start_time": "2021-11-25T18:33:51.062Z"
   },
   {
    "duration": 67,
    "start_time": "2021-11-25T18:34:09.401Z"
   },
   {
    "duration": 22,
    "start_time": "2021-11-25T18:34:09.470Z"
   },
   {
    "duration": 13,
    "start_time": "2021-11-25T18:34:09.494Z"
   },
   {
    "duration": 83,
    "start_time": "2021-11-25T18:34:09.509Z"
   },
   {
    "duration": 5,
    "start_time": "2021-11-25T18:34:09.594Z"
   },
   {
    "duration": 9,
    "start_time": "2021-11-25T18:34:09.600Z"
   },
   {
    "duration": 146,
    "start_time": "2021-11-25T18:34:09.610Z"
   },
   {
    "duration": 20,
    "start_time": "2021-11-25T18:34:09.758Z"
   },
   {
    "duration": 7,
    "start_time": "2021-11-25T18:34:09.781Z"
   },
   {
    "duration": 11,
    "start_time": "2021-11-25T18:34:09.790Z"
   },
   {
    "duration": 525,
    "start_time": "2021-11-25T18:34:09.803Z"
   },
   {
    "duration": 535,
    "start_time": "2021-11-25T18:34:10.330Z"
   },
   {
    "duration": 33,
    "start_time": "2021-11-25T18:34:10.867Z"
   },
   {
    "duration": 35,
    "start_time": "2021-11-25T18:36:05.769Z"
   },
   {
    "duration": 67,
    "start_time": "2021-11-25T18:36:57.841Z"
   },
   {
    "duration": 20,
    "start_time": "2021-11-25T18:36:57.910Z"
   },
   {
    "duration": 12,
    "start_time": "2021-11-25T18:36:57.933Z"
   },
   {
    "duration": 74,
    "start_time": "2021-11-25T18:36:57.947Z"
   },
   {
    "duration": 5,
    "start_time": "2021-11-25T18:36:58.023Z"
   },
   {
    "duration": 21,
    "start_time": "2021-11-25T18:36:58.030Z"
   },
   {
    "duration": 159,
    "start_time": "2021-11-25T18:36:58.053Z"
   },
   {
    "duration": 32,
    "start_time": "2021-11-25T18:36:58.214Z"
   },
   {
    "duration": 21,
    "start_time": "2021-11-25T18:36:58.248Z"
   },
   {
    "duration": 29,
    "start_time": "2021-11-25T18:36:58.271Z"
   },
   {
    "duration": 518,
    "start_time": "2021-11-25T18:36:58.302Z"
   },
   {
    "duration": 746,
    "start_time": "2021-11-25T18:36:58.821Z"
   },
   {
    "duration": 37,
    "start_time": "2021-11-25T18:36:59.569Z"
   },
   {
    "duration": 8,
    "start_time": "2021-11-25T18:37:44.142Z"
   },
   {
    "duration": 35,
    "start_time": "2021-11-25T18:39:00.621Z"
   },
   {
    "duration": 2,
    "start_time": "2021-11-25T18:43:26.001Z"
   },
   {
    "duration": 3,
    "start_time": "2021-11-25T18:44:02.679Z"
   },
   {
    "duration": 5,
    "start_time": "2021-11-25T18:53:58.041Z"
   },
   {
    "duration": 9,
    "start_time": "2021-11-25T18:55:17.141Z"
   },
   {
    "duration": 265,
    "start_time": "2021-11-25T19:03:24.761Z"
   },
   {
    "duration": 244,
    "start_time": "2021-11-25T19:04:08.361Z"
   },
   {
    "duration": 254,
    "start_time": "2021-11-25T19:05:42.960Z"
   },
   {
    "duration": 64,
    "start_time": "2021-11-25T19:05:59.841Z"
   },
   {
    "duration": 36,
    "start_time": "2021-11-25T19:05:59.908Z"
   },
   {
    "duration": 26,
    "start_time": "2021-11-25T19:05:59.947Z"
   },
   {
    "duration": 68,
    "start_time": "2021-11-25T19:05:59.975Z"
   },
   {
    "duration": 19,
    "start_time": "2021-11-25T19:06:00.045Z"
   },
   {
    "duration": 7,
    "start_time": "2021-11-25T19:06:00.066Z"
   },
   {
    "duration": 154,
    "start_time": "2021-11-25T19:06:00.074Z"
   },
   {
    "duration": 33,
    "start_time": "2021-11-25T19:06:00.231Z"
   },
   {
    "duration": 9,
    "start_time": "2021-11-25T19:06:00.266Z"
   },
   {
    "duration": 17,
    "start_time": "2021-11-25T19:06:00.276Z"
   },
   {
    "duration": 517,
    "start_time": "2021-11-25T19:06:00.295Z"
   },
   {
    "duration": 9,
    "start_time": "2021-11-25T19:06:00.814Z"
   },
   {
    "duration": 41,
    "start_time": "2021-11-25T19:06:00.825Z"
   },
   {
    "duration": 482,
    "start_time": "2021-11-25T19:06:00.867Z"
   },
   {
    "duration": -1313,
    "start_time": "2021-11-25T19:06:02.664Z"
   },
   {
    "duration": 236,
    "start_time": "2021-11-25T19:07:08.068Z"
   },
   {
    "duration": 13,
    "start_time": "2021-11-25T19:12:29.612Z"
   },
   {
    "duration": 14,
    "start_time": "2021-11-25T19:12:45.272Z"
   },
   {
    "duration": 6,
    "start_time": "2021-11-25T19:18:18.149Z"
   },
   {
    "duration": 5,
    "start_time": "2021-11-25T19:18:28.200Z"
   },
   {
    "duration": 7,
    "start_time": "2021-11-25T19:18:39.401Z"
   },
   {
    "duration": 37,
    "start_time": "2021-11-25T19:18:49.424Z"
   },
   {
    "duration": 4,
    "start_time": "2021-11-25T19:19:27.260Z"
   },
   {
    "duration": -1316,
    "start_time": "2021-11-25T19:22:37.307Z"
   },
   {
    "duration": 16,
    "start_time": "2021-11-25T19:22:40.940Z"
   },
   {
    "duration": 509,
    "start_time": "2021-11-25T19:23:29.492Z"
   },
   {
    "duration": 253,
    "start_time": "2021-11-25T19:24:07.392Z"
   },
   {
    "duration": 472,
    "start_time": "2021-11-25T19:24:18.160Z"
   },
   {
    "duration": 477,
    "start_time": "2021-11-25T19:24:33.860Z"
   },
   {
    "duration": 249,
    "start_time": "2021-11-25T19:26:13.000Z"
   },
   {
    "duration": 364,
    "start_time": "2021-11-25T19:26:21.233Z"
   },
   {
    "duration": 184,
    "start_time": "2021-11-25T19:26:29.920Z"
   },
   {
    "duration": 1898,
    "start_time": "2021-11-25T19:26:38.680Z"
   },
   {
    "duration": 1906,
    "start_time": "2021-11-25T19:32:19.261Z"
   },
   {
    "duration": 303,
    "start_time": "2021-11-25T19:32:26.312Z"
   },
   {
    "duration": 31,
    "start_time": "2021-11-25T19:33:38.809Z"
   },
   {
    "duration": 17,
    "start_time": "2021-11-25T19:34:12.341Z"
   },
   {
    "duration": 325,
    "start_time": "2021-11-25T19:34:43.741Z"
   },
   {
    "duration": 329,
    "start_time": "2021-11-25T19:36:33.802Z"
   },
   {
    "duration": 351,
    "start_time": "2021-11-25T19:42:36.361Z"
   },
   {
    "duration": 70,
    "start_time": "2021-11-25T19:43:11.073Z"
   },
   {
    "duration": 23,
    "start_time": "2021-11-25T19:43:11.145Z"
   },
   {
    "duration": 37,
    "start_time": "2021-11-25T19:43:11.170Z"
   },
   {
    "duration": 63,
    "start_time": "2021-11-25T19:43:11.209Z"
   },
   {
    "duration": 6,
    "start_time": "2021-11-25T19:43:11.273Z"
   },
   {
    "duration": 10,
    "start_time": "2021-11-25T19:43:11.280Z"
   },
   {
    "duration": 329,
    "start_time": "2021-11-25T19:43:11.291Z"
   },
   {
    "duration": 605,
    "start_time": "2021-11-25T19:43:11.623Z"
   },
   {
    "duration": 9,
    "start_time": "2021-11-25T19:43:12.230Z"
   },
   {
    "duration": 29,
    "start_time": "2021-11-25T19:43:12.241Z"
   },
   {
    "duration": 491,
    "start_time": "2021-11-25T19:43:12.272Z"
   },
   {
    "duration": 9,
    "start_time": "2021-11-25T19:43:12.765Z"
   },
   {
    "duration": 12,
    "start_time": "2021-11-25T19:43:12.775Z"
   },
   {
    "duration": 5,
    "start_time": "2021-11-25T19:43:12.789Z"
   },
   {
    "duration": 1710,
    "start_time": "2021-11-25T19:43:12.796Z"
   },
   {
    "duration": 39,
    "start_time": "2021-11-25T19:43:14.507Z"
   },
   {
    "duration": 468,
    "start_time": "2021-11-25T19:44:05.173Z"
   },
   {
    "duration": 739,
    "start_time": "2021-11-25T19:44:32.082Z"
   },
   {
    "duration": 255,
    "start_time": "2021-11-25T19:44:52.523Z"
   },
   {
    "duration": 308,
    "start_time": "2021-11-25T19:45:04.021Z"
   },
   {
    "duration": 70,
    "start_time": "2021-11-25T19:45:13.298Z"
   },
   {
    "duration": 26,
    "start_time": "2021-11-25T19:45:13.370Z"
   },
   {
    "duration": 20,
    "start_time": "2021-11-25T19:45:13.399Z"
   },
   {
    "duration": 95,
    "start_time": "2021-11-25T19:45:13.421Z"
   },
   {
    "duration": 6,
    "start_time": "2021-11-25T19:45:13.518Z"
   },
   {
    "duration": 11,
    "start_time": "2021-11-25T19:45:13.526Z"
   },
   {
    "duration": 264,
    "start_time": "2021-11-25T19:45:13.539Z"
   },
   {
    "duration": 262,
    "start_time": "2021-11-25T19:45:13.805Z"
   },
   {
    "duration": 10,
    "start_time": "2021-11-25T19:45:14.069Z"
   },
   {
    "duration": 34,
    "start_time": "2021-11-25T19:45:14.080Z"
   },
   {
    "duration": 522,
    "start_time": "2021-11-25T19:45:14.116Z"
   },
   {
    "duration": 11,
    "start_time": "2021-11-25T19:45:14.640Z"
   },
   {
    "duration": 22,
    "start_time": "2021-11-25T19:45:14.653Z"
   },
   {
    "duration": 5,
    "start_time": "2021-11-25T19:45:14.677Z"
   },
   {
    "duration": 1836,
    "start_time": "2021-11-25T19:45:14.683Z"
   },
   {
    "duration": 45,
    "start_time": "2021-11-25T19:45:16.521Z"
   },
   {
    "duration": 2122,
    "start_time": "2021-11-25T19:48:48.385Z"
   },
   {
    "duration": 1743,
    "start_time": "2021-11-25T19:52:44.741Z"
   },
   {
    "duration": 2176,
    "start_time": "2021-11-25T19:53:07.742Z"
   },
   {
    "duration": 246,
    "start_time": "2021-11-25T19:53:46.501Z"
   },
   {
    "duration": 2607,
    "start_time": "2021-11-25T19:53:58.529Z"
   },
   {
    "duration": 2302,
    "start_time": "2021-11-25T20:03:24.081Z"
   },
   {
    "duration": 1710,
    "start_time": "2021-11-25T20:03:39.722Z"
   },
   {
    "duration": 3512,
    "start_time": "2021-11-25T20:05:12.470Z"
   },
   {
    "duration": 1947,
    "start_time": "2021-11-25T20:05:56.931Z"
   },
   {
    "duration": 78,
    "start_time": "2021-11-25T20:06:22.741Z"
   },
   {
    "duration": 22,
    "start_time": "2021-11-25T20:06:22.822Z"
   },
   {
    "duration": 33,
    "start_time": "2021-11-25T20:06:22.846Z"
   },
   {
    "duration": 65,
    "start_time": "2021-11-25T20:06:22.881Z"
   },
   {
    "duration": 6,
    "start_time": "2021-11-25T20:06:22.948Z"
   },
   {
    "duration": 13,
    "start_time": "2021-11-25T20:06:22.963Z"
   },
   {
    "duration": 379,
    "start_time": "2021-11-25T20:06:22.978Z"
   },
   {
    "duration": 391,
    "start_time": "2021-11-25T20:06:23.363Z"
   },
   {
    "duration": 12,
    "start_time": "2021-11-25T20:06:23.765Z"
   },
   {
    "duration": 17,
    "start_time": "2021-11-25T20:06:23.780Z"
   },
   {
    "duration": 681,
    "start_time": "2021-11-25T20:06:23.800Z"
   },
   {
    "duration": 10,
    "start_time": "2021-11-25T20:06:24.483Z"
   },
   {
    "duration": 17,
    "start_time": "2021-11-25T20:06:24.495Z"
   },
   {
    "duration": 11,
    "start_time": "2021-11-25T20:06:24.514Z"
   },
   {
    "duration": 257,
    "start_time": "2021-11-25T20:06:24.527Z"
   },
   {
    "duration": -929,
    "start_time": "2021-11-25T20:06:25.715Z"
   },
   {
    "duration": -930,
    "start_time": "2021-11-25T20:06:25.718Z"
   },
   {
    "duration": 270,
    "start_time": "2021-11-25T20:06:37.120Z"
   },
   {
    "duration": 80,
    "start_time": "2021-11-25T20:07:26.080Z"
   },
   {
    "duration": 12,
    "start_time": "2021-11-25T20:07:33.201Z"
   },
   {
    "duration": 253,
    "start_time": "2021-11-25T20:07:50.011Z"
   },
   {
    "duration": 11,
    "start_time": "2021-11-25T20:08:25.461Z"
   },
   {
    "duration": 2685,
    "start_time": "2021-11-25T20:09:07.620Z"
   },
   {
    "duration": 3501,
    "start_time": "2021-11-25T20:12:17.472Z"
   },
   {
    "duration": 1769,
    "start_time": "2021-11-25T20:17:55.240Z"
   },
   {
    "duration": 262,
    "start_time": "2021-11-25T20:19:02.321Z"
   },
   {
    "duration": 2522,
    "start_time": "2021-11-25T20:19:47.060Z"
   },
   {
    "duration": 1689,
    "start_time": "2021-11-25T20:20:12.721Z"
   },
   {
    "duration": 1713,
    "start_time": "2021-11-25T20:21:39.260Z"
   },
   {
    "duration": 2435,
    "start_time": "2021-11-25T20:21:47.620Z"
   },
   {
    "duration": 1739,
    "start_time": "2021-11-25T20:21:56.380Z"
   },
   {
    "duration": 1735,
    "start_time": "2021-11-25T20:22:02.288Z"
   },
   {
    "duration": 2505,
    "start_time": "2021-11-25T20:22:39.452Z"
   },
   {
    "duration": 83,
    "start_time": "2021-11-25T20:23:21.582Z"
   },
   {
    "duration": 93,
    "start_time": "2021-11-25T20:23:29.380Z"
   },
   {
    "duration": 82,
    "start_time": "2021-11-25T20:23:37.361Z"
   },
   {
    "duration": 1694,
    "start_time": "2021-11-25T20:23:51.700Z"
   },
   {
    "duration": 1690,
    "start_time": "2021-11-25T20:26:10.960Z"
   },
   {
    "duration": 73,
    "start_time": "2021-11-25T20:27:53.261Z"
   },
   {
    "duration": 27,
    "start_time": "2021-11-25T20:27:53.336Z"
   },
   {
    "duration": 11,
    "start_time": "2021-11-25T20:27:53.365Z"
   },
   {
    "duration": 67,
    "start_time": "2021-11-25T20:27:53.378Z"
   },
   {
    "duration": 7,
    "start_time": "2021-11-25T20:27:53.463Z"
   },
   {
    "duration": 15,
    "start_time": "2021-11-25T20:27:53.472Z"
   },
   {
    "duration": 259,
    "start_time": "2021-11-25T20:27:53.489Z"
   },
   {
    "duration": 267,
    "start_time": "2021-11-25T20:27:53.750Z"
   },
   {
    "duration": 9,
    "start_time": "2021-11-25T20:27:54.019Z"
   },
   {
    "duration": 23,
    "start_time": "2021-11-25T20:27:54.030Z"
   },
   {
    "duration": 476,
    "start_time": "2021-11-25T20:27:54.063Z"
   },
   {
    "duration": 9,
    "start_time": "2021-11-25T20:27:54.541Z"
   },
   {
    "duration": 22,
    "start_time": "2021-11-25T20:27:54.552Z"
   },
   {
    "duration": 6,
    "start_time": "2021-11-25T20:27:54.575Z"
   },
   {
    "duration": 3176,
    "start_time": "2021-11-25T20:27:54.582Z"
   },
   {
    "duration": 1770,
    "start_time": "2021-11-25T20:27:57.763Z"
   },
   {
    "duration": 46,
    "start_time": "2021-11-25T20:27:59.535Z"
   },
   {
    "duration": 1900,
    "start_time": "2021-11-25T20:31:00.872Z"
   },
   {
    "duration": 180,
    "start_time": "2021-11-25T20:31:11.812Z"
   },
   {
    "duration": 179,
    "start_time": "2021-11-25T20:31:19.072Z"
   },
   {
    "duration": 176,
    "start_time": "2021-11-25T20:31:25.834Z"
   },
   {
    "duration": 599,
    "start_time": "2021-11-25T20:34:20.221Z"
   },
   {
    "duration": 612,
    "start_time": "2021-11-25T20:36:40.413Z"
   },
   {
    "duration": 82,
    "start_time": "2021-11-25T20:38:43.361Z"
   },
   {
    "duration": 81,
    "start_time": "2021-11-25T20:38:54.181Z"
   },
   {
    "duration": 128,
    "start_time": "2021-11-25T20:39:06.552Z"
   },
   {
    "duration": 77,
    "start_time": "2021-11-25T20:39:35.422Z"
   },
   {
    "duration": 23,
    "start_time": "2021-11-25T20:39:35.501Z"
   },
   {
    "duration": 11,
    "start_time": "2021-11-25T20:39:35.526Z"
   },
   {
    "duration": 87,
    "start_time": "2021-11-25T20:39:35.539Z"
   },
   {
    "duration": 6,
    "start_time": "2021-11-25T20:39:35.628Z"
   },
   {
    "duration": 28,
    "start_time": "2021-11-25T20:39:35.636Z"
   },
   {
    "duration": 255,
    "start_time": "2021-11-25T20:39:35.666Z"
   },
   {
    "duration": 269,
    "start_time": "2021-11-25T20:39:35.923Z"
   },
   {
    "duration": 9,
    "start_time": "2021-11-25T20:39:36.195Z"
   },
   {
    "duration": 12,
    "start_time": "2021-11-25T20:39:36.206Z"
   },
   {
    "duration": 502,
    "start_time": "2021-11-25T20:39:36.220Z"
   },
   {
    "duration": 10,
    "start_time": "2021-11-25T20:39:36.724Z"
   },
   {
    "duration": 28,
    "start_time": "2021-11-25T20:39:36.736Z"
   },
   {
    "duration": 6,
    "start_time": "2021-11-25T20:39:36.766Z"
   },
   {
    "duration": 2222,
    "start_time": "2021-11-25T20:39:36.773Z"
   },
   {
    "duration": 3513,
    "start_time": "2021-11-25T20:39:38.997Z"
   },
   {
    "duration": 82,
    "start_time": "2021-11-25T20:39:42.513Z"
   },
   {
    "duration": -905,
    "start_time": "2021-11-25T20:39:43.502Z"
   },
   {
    "duration": -914,
    "start_time": "2021-11-25T20:39:43.512Z"
   },
   {
    "duration": 617,
    "start_time": "2021-11-25T20:39:51.761Z"
   },
   {
    "duration": 91,
    "start_time": "2021-11-25T20:40:18.601Z"
   },
   {
    "duration": 644,
    "start_time": "2021-11-25T20:40:31.201Z"
   },
   {
    "duration": 81,
    "start_time": "2021-11-25T20:40:36.321Z"
   },
   {
    "duration": 86,
    "start_time": "2021-11-25T20:40:42.201Z"
   },
   {
    "duration": 610,
    "start_time": "2021-11-25T20:40:48.160Z"
   },
   {
    "duration": 640,
    "start_time": "2021-11-25T20:41:13.241Z"
   },
   {
    "duration": 96,
    "start_time": "2021-11-25T20:42:51.492Z"
   },
   {
    "duration": 171,
    "start_time": "2021-11-25T20:44:09.941Z"
   },
   {
    "duration": 15,
    "start_time": "2021-11-25T20:44:37.781Z"
   },
   {
    "duration": 12,
    "start_time": "2021-11-25T20:44:47.266Z"
   },
   {
    "duration": 227,
    "start_time": "2021-11-25T20:45:24.440Z"
   },
   {
    "duration": 4,
    "start_time": "2021-11-25T20:45:36.061Z"
   },
   {
    "duration": 11,
    "start_time": "2021-11-25T20:46:00.822Z"
   },
   {
    "duration": 12,
    "start_time": "2021-11-25T20:46:32.981Z"
   },
   {
    "duration": 11,
    "start_time": "2021-11-25T20:49:16.442Z"
   },
   {
    "duration": 2,
    "start_time": "2021-11-25T20:50:53.854Z"
   },
   {
    "duration": 13,
    "start_time": "2021-11-25T20:50:58.341Z"
   },
   {
    "duration": 5,
    "start_time": "2021-11-25T20:51:45.182Z"
   },
   {
    "duration": 72,
    "start_time": "2021-11-25T20:56:26.353Z"
   },
   {
    "duration": 24,
    "start_time": "2021-11-25T20:56:26.427Z"
   },
   {
    "duration": 21,
    "start_time": "2021-11-25T20:56:26.453Z"
   },
   {
    "duration": 87,
    "start_time": "2021-11-25T20:56:26.476Z"
   },
   {
    "duration": 6,
    "start_time": "2021-11-25T20:56:26.565Z"
   },
   {
    "duration": 28,
    "start_time": "2021-11-25T20:56:26.572Z"
   },
   {
    "duration": 285,
    "start_time": "2021-11-25T20:56:26.601Z"
   },
   {
    "duration": 256,
    "start_time": "2021-11-25T20:56:26.889Z"
   },
   {
    "duration": 17,
    "start_time": "2021-11-25T20:56:27.147Z"
   },
   {
    "duration": 14,
    "start_time": "2021-11-25T20:56:27.165Z"
   },
   {
    "duration": 515,
    "start_time": "2021-11-25T20:56:27.181Z"
   },
   {
    "duration": 9,
    "start_time": "2021-11-25T20:56:27.697Z"
   },
   {
    "duration": 35,
    "start_time": "2021-11-25T20:56:27.707Z"
   },
   {
    "duration": 6,
    "start_time": "2021-11-25T20:56:27.744Z"
   },
   {
    "duration": 2178,
    "start_time": "2021-11-25T20:56:27.751Z"
   },
   {
    "duration": 1745,
    "start_time": "2021-11-25T20:56:29.930Z"
   },
   {
    "duration": 649,
    "start_time": "2021-11-25T20:56:31.677Z"
   },
   {
    "duration": 4,
    "start_time": "2021-11-25T20:56:32.327Z"
   },
   {
    "duration": 26,
    "start_time": "2021-11-25T20:56:32.332Z"
   },
   {
    "duration": 18,
    "start_time": "2021-11-25T20:56:32.359Z"
   },
   {
    "duration": 49,
    "start_time": "2021-11-25T20:56:32.379Z"
   },
   {
    "duration": 35,
    "start_time": "2021-11-25T20:56:38.121Z"
   },
   {
    "duration": 853,
    "start_time": "2021-11-25T20:59:07.742Z"
   },
   {
    "duration": 384,
    "start_time": "2021-11-25T21:00:35.942Z"
   },
   {
    "duration": 88,
    "start_time": "2021-11-25T21:00:43.421Z"
   },
   {
    "duration": 91,
    "start_time": "2021-11-25T21:05:06.245Z"
   },
   {
    "duration": 328,
    "start_time": "2021-11-25T21:08:20.346Z"
   },
   {
    "duration": 317,
    "start_time": "2021-11-25T21:11:32.085Z"
   },
   {
    "duration": 96,
    "start_time": "2021-11-25T21:11:38.508Z"
   },
   {
    "duration": 22,
    "start_time": "2021-11-25T21:11:38.606Z"
   },
   {
    "duration": 29,
    "start_time": "2021-11-25T21:11:38.631Z"
   },
   {
    "duration": 91,
    "start_time": "2021-11-25T21:11:38.664Z"
   },
   {
    "duration": 11,
    "start_time": "2021-11-25T21:11:38.757Z"
   },
   {
    "duration": 7,
    "start_time": "2021-11-25T21:11:38.770Z"
   },
   {
    "duration": 265,
    "start_time": "2021-11-25T21:11:38.779Z"
   },
   {
    "duration": 254,
    "start_time": "2021-11-25T21:11:39.047Z"
   },
   {
    "duration": 10,
    "start_time": "2021-11-25T21:11:39.304Z"
   },
   {
    "duration": 12,
    "start_time": "2021-11-25T21:11:39.317Z"
   },
   {
    "duration": 590,
    "start_time": "2021-11-25T21:11:39.331Z"
   },
   {
    "duration": 9,
    "start_time": "2021-11-25T21:11:39.922Z"
   },
   {
    "duration": 13,
    "start_time": "2021-11-25T21:11:39.933Z"
   },
   {
    "duration": 6,
    "start_time": "2021-11-25T21:11:39.963Z"
   },
   {
    "duration": 2129,
    "start_time": "2021-11-25T21:11:39.971Z"
   },
   {
    "duration": 3211,
    "start_time": "2021-11-25T21:11:42.102Z"
   },
   {
    "duration": 899,
    "start_time": "2021-11-25T21:11:45.316Z"
   },
   {
    "duration": 4,
    "start_time": "2021-11-25T21:11:46.216Z"
   },
   {
    "duration": 12,
    "start_time": "2021-11-25T21:11:46.222Z"
   },
   {
    "duration": 1035,
    "start_time": "2021-11-25T21:11:46.236Z"
   },
   {
    "duration": -1161,
    "start_time": "2021-11-25T21:11:48.434Z"
   },
   {
    "duration": 333,
    "start_time": "2021-11-25T21:12:01.878Z"
   },
   {
    "duration": 336,
    "start_time": "2021-11-25T21:12:21.626Z"
   },
   {
    "duration": 312,
    "start_time": "2021-11-25T21:13:05.248Z"
   },
   {
    "duration": 312,
    "start_time": "2021-11-25T21:13:23.386Z"
   },
   {
    "duration": 729,
    "start_time": "2021-11-25T21:15:16.966Z"
   },
   {
    "duration": 23,
    "start_time": "2021-11-25T21:15:17.697Z"
   },
   {
    "duration": 14,
    "start_time": "2021-11-25T21:15:17.722Z"
   },
   {
    "duration": 93,
    "start_time": "2021-11-25T21:15:17.738Z"
   },
   {
    "duration": 6,
    "start_time": "2021-11-25T21:15:17.832Z"
   },
   {
    "duration": 26,
    "start_time": "2021-11-25T21:15:17.840Z"
   },
   {
    "duration": 248,
    "start_time": "2021-11-25T21:15:17.868Z"
   },
   {
    "duration": 319,
    "start_time": "2021-11-25T21:15:18.119Z"
   },
   {
    "duration": 9,
    "start_time": "2021-11-25T21:15:18.440Z"
   },
   {
    "duration": 12,
    "start_time": "2021-11-25T21:15:18.464Z"
   },
   {
    "duration": 567,
    "start_time": "2021-11-25T21:15:18.477Z"
   },
   {
    "duration": 21,
    "start_time": "2021-11-25T21:15:19.046Z"
   },
   {
    "duration": 12,
    "start_time": "2021-11-25T21:15:19.069Z"
   },
   {
    "duration": 5,
    "start_time": "2021-11-25T21:15:19.083Z"
   },
   {
    "duration": 2224,
    "start_time": "2021-11-25T21:15:19.090Z"
   },
   {
    "duration": 1741,
    "start_time": "2021-11-25T21:15:21.316Z"
   },
   {
    "duration": 631,
    "start_time": "2021-11-25T21:15:23.059Z"
   },
   {
    "duration": 5,
    "start_time": "2021-11-25T21:15:23.692Z"
   },
   {
    "duration": 8,
    "start_time": "2021-11-25T21:15:23.699Z"
   },
   {
    "duration": 803,
    "start_time": "2021-11-25T21:15:23.709Z"
   },
   {
    "duration": 67,
    "start_time": "2021-11-25T21:15:24.515Z"
   },
   {
    "duration": 301,
    "start_time": "2021-11-25T21:16:15.468Z"
   },
   {
    "duration": 308,
    "start_time": "2021-11-25T21:16:59.689Z"
   },
   {
    "duration": 63,
    "start_time": "2021-11-25T21:21:38.502Z"
   },
   {
    "duration": 72,
    "start_time": "2021-11-25T21:21:43.878Z"
   },
   {
    "duration": 314,
    "start_time": "2021-11-25T21:23:15.206Z"
   },
   {
    "duration": 319,
    "start_time": "2021-11-25T21:23:34.586Z"
   },
   {
    "duration": 439,
    "start_time": "2021-11-25T21:23:46.767Z"
   },
   {
    "duration": 352,
    "start_time": "2021-11-25T21:26:18.050Z"
   },
   {
    "duration": 299,
    "start_time": "2021-11-25T21:26:42.405Z"
   },
   {
    "duration": 73,
    "start_time": "2021-11-25T21:27:19.826Z"
   },
   {
    "duration": 70,
    "start_time": "2021-11-25T21:27:26.662Z"
   },
   {
    "duration": 321,
    "start_time": "2021-11-25T21:28:37.214Z"
   },
   {
    "duration": 72,
    "start_time": "2021-11-25T21:28:52.347Z"
   },
   {
    "duration": 7,
    "start_time": "2021-11-25T21:29:23.188Z"
   },
   {
    "duration": 9,
    "start_time": "2021-11-25T21:30:43.338Z"
   },
   {
    "duration": 9,
    "start_time": "2021-11-25T21:36:03.216Z"
   },
   {
    "duration": 347,
    "start_time": "2021-11-25T21:36:31.835Z"
   },
   {
    "duration": 76,
    "start_time": "2021-11-25T21:36:37.806Z"
   },
   {
    "duration": 73,
    "start_time": "2021-11-25T21:36:41.158Z"
   },
   {
    "duration": 323,
    "start_time": "2021-11-25T21:38:01.845Z"
   },
   {
    "duration": 363,
    "start_time": "2021-11-25T21:38:35.808Z"
   },
   {
    "duration": 321,
    "start_time": "2021-11-25T21:39:05.550Z"
   },
   {
    "duration": 92,
    "start_time": "2021-11-25T21:40:01.555Z"
   },
   {
    "duration": 24,
    "start_time": "2021-11-25T21:40:01.649Z"
   },
   {
    "duration": 15,
    "start_time": "2021-11-25T21:40:01.675Z"
   },
   {
    "duration": 104,
    "start_time": "2021-11-25T21:40:01.692Z"
   },
   {
    "duration": 6,
    "start_time": "2021-11-25T21:40:01.798Z"
   },
   {
    "duration": 42,
    "start_time": "2021-11-25T21:40:01.805Z"
   },
   {
    "duration": 262,
    "start_time": "2021-11-25T21:40:01.848Z"
   },
   {
    "duration": 256,
    "start_time": "2021-11-25T21:40:02.111Z"
   },
   {
    "duration": 8,
    "start_time": "2021-11-25T21:40:02.370Z"
   },
   {
    "duration": 18,
    "start_time": "2021-11-25T21:40:02.380Z"
   },
   {
    "duration": 558,
    "start_time": "2021-11-25T21:40:02.399Z"
   },
   {
    "duration": 11,
    "start_time": "2021-11-25T21:40:02.958Z"
   },
   {
    "duration": 29,
    "start_time": "2021-11-25T21:40:02.970Z"
   },
   {
    "duration": 47,
    "start_time": "2021-11-25T21:40:03.000Z"
   },
   {
    "duration": 44,
    "start_time": "2021-11-25T21:40:03.049Z"
   },
   {
    "duration": 2410,
    "start_time": "2021-11-25T21:40:03.094Z"
   },
   {
    "duration": 3153,
    "start_time": "2021-11-25T21:40:05.506Z"
   },
   {
    "duration": 609,
    "start_time": "2021-11-25T21:40:08.663Z"
   },
   {
    "duration": 4,
    "start_time": "2021-11-25T21:40:09.274Z"
   },
   {
    "duration": 43,
    "start_time": "2021-11-25T21:40:09.280Z"
   },
   {
    "duration": 1053,
    "start_time": "2021-11-25T21:40:09.325Z"
   },
   {
    "duration": -1138,
    "start_time": "2021-11-25T21:40:11.518Z"
   },
   {
    "duration": 349,
    "start_time": "2021-11-25T21:40:21.846Z"
   },
   {
    "duration": 69,
    "start_time": "2021-11-25T21:40:29.826Z"
   },
   {
    "duration": 86,
    "start_time": "2021-11-25T22:21:27.926Z"
   },
   {
    "duration": 437,
    "start_time": "2021-11-26T14:03:03.097Z"
   },
   {
    "duration": 1217,
    "start_time": "2021-11-26T14:03:12.098Z"
   },
   {
    "duration": 60,
    "start_time": "2021-11-26T14:03:13.318Z"
   },
   {
    "duration": 22,
    "start_time": "2021-11-26T14:03:13.382Z"
   },
   {
    "duration": 128,
    "start_time": "2021-11-26T14:03:13.407Z"
   },
   {
    "duration": 8,
    "start_time": "2021-11-26T14:03:13.538Z"
   },
   {
    "duration": 10,
    "start_time": "2021-11-26T14:03:13.559Z"
   },
   {
    "duration": 432,
    "start_time": "2021-11-26T14:03:13.572Z"
   },
   {
    "duration": 434,
    "start_time": "2021-11-26T14:03:14.007Z"
   },
   {
    "duration": 20,
    "start_time": "2021-11-26T14:03:14.445Z"
   },
   {
    "duration": 15,
    "start_time": "2021-11-26T14:03:14.467Z"
   },
   {
    "duration": 711,
    "start_time": "2021-11-26T14:03:14.485Z"
   },
   {
    "duration": 18,
    "start_time": "2021-11-26T14:03:15.198Z"
   },
   {
    "duration": 10,
    "start_time": "2021-11-26T14:03:15.218Z"
   },
   {
    "duration": 39,
    "start_time": "2021-11-26T14:03:15.230Z"
   },
   {
    "duration": 8,
    "start_time": "2021-11-26T14:03:15.271Z"
   },
   {
    "duration": 3901,
    "start_time": "2021-11-26T14:03:15.281Z"
   },
   {
    "duration": 4574,
    "start_time": "2021-11-26T14:03:19.185Z"
   },
   {
    "duration": 975,
    "start_time": "2021-11-26T14:03:23.761Z"
   },
   {
    "duration": 6,
    "start_time": "2021-11-26T14:03:24.739Z"
   },
   {
    "duration": 16,
    "start_time": "2021-11-26T14:03:24.760Z"
   },
   {
    "duration": 1150,
    "start_time": "2021-11-26T14:03:24.779Z"
   },
   {
    "duration": 3550,
    "start_time": "2021-11-26T14:03:25.932Z"
   },
   {
    "duration": 59,
    "start_time": "2021-11-26T14:03:29.484Z"
   },
   {
    "duration": 3,
    "start_time": "2021-11-26T14:03:55.057Z"
   },
   {
    "duration": 12,
    "start_time": "2021-11-26T14:04:00.976Z"
   },
   {
    "duration": 5576,
    "start_time": "2021-11-26T14:04:12.416Z"
   },
   {
    "duration": 1829,
    "start_time": "2021-11-26T14:04:56.904Z"
   },
   {
    "duration": 2099,
    "start_time": "2021-11-26T14:05:07.496Z"
   },
   {
    "duration": 1808,
    "start_time": "2021-11-26T14:05:19.976Z"
   },
   {
    "duration": 89,
    "start_time": "2021-11-26T14:05:27.059Z"
   },
   {
    "duration": 41,
    "start_time": "2021-11-26T14:05:27.151Z"
   },
   {
    "duration": 21,
    "start_time": "2021-11-26T14:05:27.195Z"
   },
   {
    "duration": 124,
    "start_time": "2021-11-26T14:05:27.219Z"
   },
   {
    "duration": 20,
    "start_time": "2021-11-26T14:05:27.346Z"
   },
   {
    "duration": 9,
    "start_time": "2021-11-26T14:05:27.368Z"
   },
   {
    "duration": 445,
    "start_time": "2021-11-26T14:05:27.379Z"
   },
   {
    "duration": 418,
    "start_time": "2021-11-26T14:05:27.827Z"
   },
   {
    "duration": 20,
    "start_time": "2021-11-26T14:05:28.249Z"
   },
   {
    "duration": 15,
    "start_time": "2021-11-26T14:05:28.272Z"
   },
   {
    "duration": 834,
    "start_time": "2021-11-26T14:05:28.290Z"
   },
   {
    "duration": 13,
    "start_time": "2021-11-26T14:05:29.127Z"
   },
   {
    "duration": 20,
    "start_time": "2021-11-26T14:05:29.142Z"
   },
   {
    "duration": 23,
    "start_time": "2021-11-26T14:05:29.164Z"
   },
   {
    "duration": 7,
    "start_time": "2021-11-26T14:05:29.192Z"
   },
   {
    "duration": 4005,
    "start_time": "2021-11-26T14:05:29.203Z"
   },
   {
    "duration": 4528,
    "start_time": "2021-11-26T14:05:33.211Z"
   },
   {
    "duration": 1377,
    "start_time": "2021-11-26T14:05:37.742Z"
   },
   {
    "duration": 5,
    "start_time": "2021-11-26T14:05:39.122Z"
   },
   {
    "duration": 14,
    "start_time": "2021-11-26T14:05:39.130Z"
   },
   {
    "duration": 1045,
    "start_time": "2021-11-26T14:05:39.147Z"
   },
   {
    "duration": 3604,
    "start_time": "2021-11-26T14:05:40.195Z"
   },
   {
    "duration": 70,
    "start_time": "2021-11-26T14:05:43.802Z"
   },
   {
    "duration": 2514,
    "start_time": "2021-11-26T14:06:45.096Z"
   },
   {
    "duration": 2053,
    "start_time": "2021-11-26T14:06:53.936Z"
   },
   {
    "duration": 1729,
    "start_time": "2021-11-26T14:09:11.456Z"
   },
   {
    "duration": 12,
    "start_time": "2021-11-26T14:09:33.616Z"
   },
   {
    "duration": 113,
    "start_time": "2021-11-26T14:10:00.256Z"
   },
   {
    "duration": 38,
    "start_time": "2021-11-26T14:10:00.372Z"
   },
   {
    "duration": 45,
    "start_time": "2021-11-26T14:10:00.415Z"
   },
   {
    "duration": 120,
    "start_time": "2021-11-26T14:10:00.464Z"
   },
   {
    "duration": 11,
    "start_time": "2021-11-26T14:10:00.587Z"
   },
   {
    "duration": 45,
    "start_time": "2021-11-26T14:10:00.601Z"
   },
   {
    "duration": 500,
    "start_time": "2021-11-26T14:10:00.649Z"
   },
   {
    "duration": 447,
    "start_time": "2021-11-26T14:10:01.152Z"
   },
   {
    "duration": 13,
    "start_time": "2021-11-26T14:10:01.603Z"
   },
   {
    "duration": 42,
    "start_time": "2021-11-26T14:10:01.619Z"
   },
   {
    "duration": 771,
    "start_time": "2021-11-26T14:10:01.664Z"
   },
   {
    "duration": 23,
    "start_time": "2021-11-26T14:10:02.438Z"
   },
   {
    "duration": 13,
    "start_time": "2021-11-26T14:10:02.464Z"
   },
   {
    "duration": 23,
    "start_time": "2021-11-26T14:10:02.480Z"
   },
   {
    "duration": 14,
    "start_time": "2021-11-26T14:10:02.507Z"
   },
   {
    "duration": 3908,
    "start_time": "2021-11-26T14:10:02.524Z"
   },
   {
    "duration": 3269,
    "start_time": "2021-11-26T14:10:06.435Z"
   },
   {
    "duration": 946,
    "start_time": "2021-11-26T14:10:09.707Z"
   },
   {
    "duration": 6,
    "start_time": "2021-11-26T14:10:10.656Z"
   },
   {
    "duration": 5,
    "start_time": "2021-11-26T14:10:10.665Z"
   },
   {
    "duration": 1053,
    "start_time": "2021-11-26T14:10:10.673Z"
   },
   {
    "duration": 3149,
    "start_time": "2021-11-26T14:10:11.729Z"
   },
   {
    "duration": 57,
    "start_time": "2021-11-26T14:10:14.880Z"
   },
   {
    "duration": 11,
    "start_time": "2021-11-26T14:10:39.104Z"
   },
   {
    "duration": 10,
    "start_time": "2021-11-26T14:10:45.056Z"
   },
   {
    "duration": 8,
    "start_time": "2021-11-26T14:11:15.808Z"
   },
   {
    "duration": 8,
    "start_time": "2021-11-26T14:11:25.656Z"
   },
   {
    "duration": 114,
    "start_time": "2021-11-26T14:11:30.897Z"
   },
   {
    "duration": 51,
    "start_time": "2021-11-26T14:11:31.014Z"
   },
   {
    "duration": 24,
    "start_time": "2021-11-26T14:11:31.069Z"
   },
   {
    "duration": 127,
    "start_time": "2021-11-26T14:11:31.097Z"
   },
   {
    "duration": 10,
    "start_time": "2021-11-26T14:11:31.227Z"
   },
   {
    "duration": 28,
    "start_time": "2021-11-26T14:11:31.240Z"
   },
   {
    "duration": 614,
    "start_time": "2021-11-26T14:11:31.271Z"
   },
   {
    "duration": 434,
    "start_time": "2021-11-26T14:11:31.887Z"
   },
   {
    "duration": 13,
    "start_time": "2021-11-26T14:11:32.325Z"
   },
   {
    "duration": 30,
    "start_time": "2021-11-26T14:11:32.341Z"
   },
   {
    "duration": 763,
    "start_time": "2021-11-26T14:11:32.374Z"
   },
   {
    "duration": 24,
    "start_time": "2021-11-26T14:11:33.139Z"
   },
   {
    "duration": 11,
    "start_time": "2021-11-26T14:11:33.166Z"
   },
   {
    "duration": 24,
    "start_time": "2021-11-26T14:11:33.180Z"
   },
   {
    "duration": 8,
    "start_time": "2021-11-26T14:11:33.206Z"
   },
   {
    "duration": 3927,
    "start_time": "2021-11-26T14:11:33.216Z"
   },
   {
    "duration": 3102,
    "start_time": "2021-11-26T14:11:37.145Z"
   },
   {
    "duration": 1239,
    "start_time": "2021-11-26T14:11:40.250Z"
   },
   {
    "duration": 6,
    "start_time": "2021-11-26T14:11:41.492Z"
   },
   {
    "duration": 13,
    "start_time": "2021-11-26T14:11:41.501Z"
   },
   {
    "duration": 1370,
    "start_time": "2021-11-26T14:11:41.516Z"
   },
   {
    "duration": 1432,
    "start_time": "2021-11-26T14:11:41.458Z"
   },
   {
    "duration": 1431,
    "start_time": "2021-11-26T14:11:41.461Z"
   },
   {
    "duration": 423,
    "start_time": "2021-11-26T14:12:01.554Z"
   },
   {
    "duration": 89,
    "start_time": "2021-11-26T14:12:21.218Z"
   },
   {
    "duration": 40,
    "start_time": "2021-11-26T14:12:21.310Z"
   },
   {
    "duration": 22,
    "start_time": "2021-11-26T14:12:21.360Z"
   },
   {
    "duration": 116,
    "start_time": "2021-11-26T14:12:21.385Z"
   },
   {
    "duration": 8,
    "start_time": "2021-11-26T14:12:21.503Z"
   },
   {
    "duration": 22,
    "start_time": "2021-11-26T14:12:21.513Z"
   },
   {
    "duration": 426,
    "start_time": "2021-11-26T14:12:21.537Z"
   },
   {
    "duration": 433,
    "start_time": "2021-11-26T14:12:21.966Z"
   },
   {
    "duration": 12,
    "start_time": "2021-11-26T14:12:22.403Z"
   },
   {
    "duration": 41,
    "start_time": "2021-11-26T14:12:22.418Z"
   },
   {
    "duration": 765,
    "start_time": "2021-11-26T14:12:22.462Z"
   },
   {
    "duration": 12,
    "start_time": "2021-11-26T14:12:23.229Z"
   },
   {
    "duration": 23,
    "start_time": "2021-11-26T14:12:23.244Z"
   },
   {
    "duration": 28,
    "start_time": "2021-11-26T14:12:23.269Z"
   },
   {
    "duration": 8,
    "start_time": "2021-11-26T14:12:23.299Z"
   },
   {
    "duration": 4019,
    "start_time": "2021-11-26T14:12:23.309Z"
   },
   {
    "duration": 3107,
    "start_time": "2021-11-26T14:12:27.330Z"
   },
   {
    "duration": 946,
    "start_time": "2021-11-26T14:12:30.441Z"
   },
   {
    "duration": 5,
    "start_time": "2021-11-26T14:12:31.390Z"
   },
   {
    "duration": 58,
    "start_time": "2021-11-26T14:12:31.398Z"
   },
   {
    "duration": 1329,
    "start_time": "2021-11-26T14:12:31.459Z"
   },
   {
    "duration": 1456,
    "start_time": "2021-11-26T14:12:31.335Z"
   },
   {
    "duration": 1454,
    "start_time": "2021-11-26T14:12:31.338Z"
   },
   {
    "duration": 396,
    "start_time": "2021-11-26T14:16:06.184Z"
   },
   {
    "duration": 89,
    "start_time": "2021-11-26T14:16:31.466Z"
   },
   {
    "duration": 38,
    "start_time": "2021-11-26T14:16:31.560Z"
   },
   {
    "duration": 22,
    "start_time": "2021-11-26T14:16:31.602Z"
   },
   {
    "duration": 119,
    "start_time": "2021-11-26T14:16:31.627Z"
   },
   {
    "duration": 8,
    "start_time": "2021-11-26T14:16:31.759Z"
   },
   {
    "duration": 12,
    "start_time": "2021-11-26T14:16:31.769Z"
   },
   {
    "duration": 419,
    "start_time": "2021-11-26T14:16:31.784Z"
   },
   {
    "duration": 420,
    "start_time": "2021-11-26T14:16:32.205Z"
   },
   {
    "duration": 32,
    "start_time": "2021-11-26T14:16:32.629Z"
   },
   {
    "duration": 19,
    "start_time": "2021-11-26T14:16:32.664Z"
   },
   {
    "duration": 1245,
    "start_time": "2021-11-26T14:16:32.686Z"
   },
   {
    "duration": 25,
    "start_time": "2021-11-26T14:16:33.934Z"
   },
   {
    "duration": 13,
    "start_time": "2021-11-26T14:16:33.962Z"
   },
   {
    "duration": 21,
    "start_time": "2021-11-26T14:16:33.978Z"
   },
   {
    "duration": 8,
    "start_time": "2021-11-26T14:16:34.002Z"
   },
   {
    "duration": 3761,
    "start_time": "2021-11-26T14:16:34.014Z"
   },
   {
    "duration": 3306,
    "start_time": "2021-11-26T14:16:37.778Z"
   },
   {
    "duration": 932,
    "start_time": "2021-11-26T14:16:41.087Z"
   },
   {
    "duration": 5,
    "start_time": "2021-11-26T14:16:42.021Z"
   },
   {
    "duration": 19,
    "start_time": "2021-11-26T14:16:42.028Z"
   },
   {
    "duration": 1485,
    "start_time": "2021-11-26T14:16:42.049Z"
   },
   {
    "duration": 1430,
    "start_time": "2021-11-26T14:16:42.106Z"
   },
   {
    "duration": 1421,
    "start_time": "2021-11-26T14:16:42.117Z"
   },
   {
    "duration": 15,
    "start_time": "2021-11-26T14:18:02.264Z"
   },
   {
    "duration": 3418,
    "start_time": "2021-11-26T14:18:17.976Z"
   },
   {
    "duration": 1713,
    "start_time": "2021-11-26T14:19:22.464Z"
   },
   {
    "duration": 1746,
    "start_time": "2021-11-26T14:19:31.176Z"
   },
   {
    "duration": 90,
    "start_time": "2021-11-26T14:21:29.176Z"
   },
   {
    "duration": 35,
    "start_time": "2021-11-26T14:21:29.268Z"
   },
   {
    "duration": 19,
    "start_time": "2021-11-26T14:21:29.306Z"
   },
   {
    "duration": 122,
    "start_time": "2021-11-26T14:21:29.328Z"
   },
   {
    "duration": 13,
    "start_time": "2021-11-26T14:21:29.452Z"
   },
   {
    "duration": 14,
    "start_time": "2021-11-26T14:21:29.467Z"
   },
   {
    "duration": 432,
    "start_time": "2021-11-26T14:21:29.484Z"
   },
   {
    "duration": 433,
    "start_time": "2021-11-26T14:21:29.918Z"
   },
   {
    "duration": 13,
    "start_time": "2021-11-26T14:21:30.360Z"
   },
   {
    "duration": 24,
    "start_time": "2021-11-26T14:21:30.376Z"
   },
   {
    "duration": 803,
    "start_time": "2021-11-26T14:21:30.402Z"
   },
   {
    "duration": 12,
    "start_time": "2021-11-26T14:21:31.207Z"
   },
   {
    "duration": 14,
    "start_time": "2021-11-26T14:21:31.221Z"
   },
   {
    "duration": 35,
    "start_time": "2021-11-26T14:21:31.237Z"
   },
   {
    "duration": 22,
    "start_time": "2021-11-26T14:21:31.274Z"
   },
   {
    "duration": 4191,
    "start_time": "2021-11-26T14:21:31.298Z"
   },
   {
    "duration": 2955,
    "start_time": "2021-11-26T14:21:35.491Z"
   },
   {
    "duration": 947,
    "start_time": "2021-11-26T14:21:38.448Z"
   },
   {
    "duration": 6,
    "start_time": "2021-11-26T14:21:39.398Z"
   },
   {
    "duration": 22,
    "start_time": "2021-11-26T14:21:39.407Z"
   },
   {
    "duration": 36,
    "start_time": "2021-11-26T14:21:39.432Z"
   },
   {
    "duration": 4211,
    "start_time": "2021-11-26T14:21:39.471Z"
   },
   {
    "duration": 76,
    "start_time": "2021-11-26T14:21:43.685Z"
   },
   {
    "duration": 12,
    "start_time": "2021-11-26T14:26:46.504Z"
   },
   {
    "duration": 14,
    "start_time": "2021-11-26T14:28:25.736Z"
   },
   {
    "duration": 110,
    "start_time": "2021-11-26T14:28:38.185Z"
   },
   {
    "duration": 38,
    "start_time": "2021-11-26T14:28:38.298Z"
   },
   {
    "duration": 38,
    "start_time": "2021-11-26T14:28:38.339Z"
   },
   {
    "duration": 119,
    "start_time": "2021-11-26T14:28:38.380Z"
   },
   {
    "duration": 7,
    "start_time": "2021-11-26T14:28:38.502Z"
   },
   {
    "duration": 10,
    "start_time": "2021-11-26T14:28:38.511Z"
   },
   {
    "duration": 426,
    "start_time": "2021-11-26T14:28:38.524Z"
   },
   {
    "duration": 430,
    "start_time": "2021-11-26T14:28:38.960Z"
   },
   {
    "duration": 12,
    "start_time": "2021-11-26T14:28:39.393Z"
   },
   {
    "duration": 15,
    "start_time": "2021-11-26T14:28:39.407Z"
   },
   {
    "duration": 1201,
    "start_time": "2021-11-26T14:28:39.425Z"
   },
   {
    "duration": 12,
    "start_time": "2021-11-26T14:28:40.628Z"
   },
   {
    "duration": 23,
    "start_time": "2021-11-26T14:28:40.643Z"
   },
   {
    "duration": 18,
    "start_time": "2021-11-26T14:28:40.668Z"
   },
   {
    "duration": 7,
    "start_time": "2021-11-26T14:28:40.689Z"
   },
   {
    "duration": 3705,
    "start_time": "2021-11-26T14:28:40.698Z"
   },
   {
    "duration": 3392,
    "start_time": "2021-11-26T14:28:44.405Z"
   },
   {
    "duration": 967,
    "start_time": "2021-11-26T14:28:47.800Z"
   },
   {
    "duration": 4,
    "start_time": "2021-11-26T14:28:48.770Z"
   },
   {
    "duration": 18,
    "start_time": "2021-11-26T14:28:48.777Z"
   },
   {
    "duration": 19,
    "start_time": "2021-11-26T14:28:48.798Z"
   },
   {
    "duration": 4240,
    "start_time": "2021-11-26T14:28:48.819Z"
   },
   {
    "duration": 61,
    "start_time": "2021-11-26T14:28:53.065Z"
   },
   {
    "duration": 1813,
    "start_time": "2021-11-26T14:29:42.824Z"
   },
   {
    "duration": 89,
    "start_time": "2021-11-26T14:35:05.706Z"
   },
   {
    "duration": 35,
    "start_time": "2021-11-26T14:35:05.798Z"
   },
   {
    "duration": 33,
    "start_time": "2021-11-26T14:35:05.836Z"
   },
   {
    "duration": 111,
    "start_time": "2021-11-26T14:35:05.872Z"
   },
   {
    "duration": 8,
    "start_time": "2021-11-26T14:35:05.986Z"
   },
   {
    "duration": 25,
    "start_time": "2021-11-26T14:35:05.996Z"
   },
   {
    "duration": 438,
    "start_time": "2021-11-26T14:35:06.024Z"
   },
   {
    "duration": 448,
    "start_time": "2021-11-26T14:35:06.464Z"
   },
   {
    "duration": 12,
    "start_time": "2021-11-26T14:35:06.916Z"
   },
   {
    "duration": 36,
    "start_time": "2021-11-26T14:35:06.932Z"
   },
   {
    "duration": 768,
    "start_time": "2021-11-26T14:35:06.971Z"
   },
   {
    "duration": 22,
    "start_time": "2021-11-26T14:35:07.742Z"
   },
   {
    "duration": 12,
    "start_time": "2021-11-26T14:35:07.766Z"
   },
   {
    "duration": 30,
    "start_time": "2021-11-26T14:35:07.780Z"
   },
   {
    "duration": 8,
    "start_time": "2021-11-26T14:35:07.813Z"
   },
   {
    "duration": 4002,
    "start_time": "2021-11-26T14:35:07.823Z"
   },
   {
    "duration": 3718,
    "start_time": "2021-11-26T14:35:11.827Z"
   },
   {
    "duration": 965,
    "start_time": "2021-11-26T14:35:15.547Z"
   },
   {
    "duration": 5,
    "start_time": "2021-11-26T14:35:16.514Z"
   },
   {
    "duration": 31,
    "start_time": "2021-11-26T14:35:16.522Z"
   },
   {
    "duration": 24,
    "start_time": "2021-11-26T14:35:16.556Z"
   },
   {
    "duration": 4107,
    "start_time": "2021-11-26T14:35:16.582Z"
   },
   {
    "duration": 79,
    "start_time": "2021-11-26T14:35:20.692Z"
   },
   {
    "duration": 1802,
    "start_time": "2021-11-26T14:36:10.987Z"
   },
   {
    "duration": 92,
    "start_time": "2021-11-26T14:36:57.416Z"
   },
   {
    "duration": 36,
    "start_time": "2021-11-26T14:36:57.511Z"
   },
   {
    "duration": 16,
    "start_time": "2021-11-26T14:36:57.561Z"
   },
   {
    "duration": 124,
    "start_time": "2021-11-26T14:36:57.580Z"
   },
   {
    "duration": 8,
    "start_time": "2021-11-26T14:36:57.706Z"
   },
   {
    "duration": 13,
    "start_time": "2021-11-26T14:36:57.717Z"
   },
   {
    "duration": 435,
    "start_time": "2021-11-26T14:36:57.732Z"
   },
   {
    "duration": 420,
    "start_time": "2021-11-26T14:36:58.171Z"
   },
   {
    "duration": 14,
    "start_time": "2021-11-26T14:36:58.596Z"
   },
   {
    "duration": 46,
    "start_time": "2021-11-26T14:36:58.613Z"
   },
   {
    "duration": 845,
    "start_time": "2021-11-26T14:36:58.662Z"
   },
   {
    "duration": 14,
    "start_time": "2021-11-26T14:36:59.510Z"
   },
   {
    "duration": 33,
    "start_time": "2021-11-26T14:36:59.526Z"
   },
   {
    "duration": 22,
    "start_time": "2021-11-26T14:36:59.562Z"
   },
   {
    "duration": 10,
    "start_time": "2021-11-26T14:36:59.587Z"
   },
   {
    "duration": 4013,
    "start_time": "2021-11-26T14:36:59.600Z"
   },
   {
    "duration": 3835,
    "start_time": "2021-11-26T14:37:03.616Z"
   },
   {
    "duration": 948,
    "start_time": "2021-11-26T14:37:07.458Z"
   },
   {
    "duration": 6,
    "start_time": "2021-11-26T14:37:08.408Z"
   },
   {
    "duration": 20,
    "start_time": "2021-11-26T14:37:08.416Z"
   },
   {
    "duration": 1240,
    "start_time": "2021-11-26T14:37:08.439Z"
   },
   {
    "duration": 37,
    "start_time": "2021-11-26T14:37:09.682Z"
   },
   {
    "duration": 85,
    "start_time": "2021-11-26T14:37:09.725Z"
   },
   {
    "duration": 90,
    "start_time": "2021-11-26T14:38:04.257Z"
   },
   {
    "duration": 428,
    "start_time": "2021-11-26T14:49:05.825Z"
   },
   {
    "duration": 409,
    "start_time": "2021-11-26T14:49:32.657Z"
   },
   {
    "duration": 3,
    "start_time": "2021-11-26T14:50:09.578Z"
   },
   {
    "duration": 3518,
    "start_time": "2021-11-26T14:54:37.750Z"
   },
   {
    "duration": 1814,
    "start_time": "2021-11-26T14:59:48.866Z"
   },
   {
    "duration": 3938,
    "start_time": "2021-11-26T15:01:10.298Z"
   },
   {
    "duration": 160,
    "start_time": "2021-11-26T15:01:17.899Z"
   },
   {
    "duration": 50,
    "start_time": "2021-11-26T15:01:18.063Z"
   },
   {
    "duration": 17,
    "start_time": "2021-11-26T15:01:18.116Z"
   },
   {
    "duration": 116,
    "start_time": "2021-11-26T15:01:18.161Z"
   },
   {
    "duration": 10,
    "start_time": "2021-11-26T15:01:18.281Z"
   },
   {
    "duration": 29,
    "start_time": "2021-11-26T15:01:18.294Z"
   },
   {
    "duration": 436,
    "start_time": "2021-11-26T15:01:18.326Z"
   },
   {
    "duration": 539,
    "start_time": "2021-11-26T15:01:18.764Z"
   },
   {
    "duration": 13,
    "start_time": "2021-11-26T15:01:19.307Z"
   },
   {
    "duration": 52,
    "start_time": "2021-11-26T15:01:19.323Z"
   },
   {
    "duration": 1078,
    "start_time": "2021-11-26T15:01:19.377Z"
   },
   {
    "duration": 12,
    "start_time": "2021-11-26T15:01:20.458Z"
   },
   {
    "duration": 20,
    "start_time": "2021-11-26T15:01:20.472Z"
   },
   {
    "duration": 21,
    "start_time": "2021-11-26T15:01:20.494Z"
   },
   {
    "duration": 9,
    "start_time": "2021-11-26T15:01:20.518Z"
   },
   {
    "duration": 5424,
    "start_time": "2021-11-26T15:01:20.558Z"
   },
   {
    "duration": 4119,
    "start_time": "2021-11-26T15:01:25.986Z"
   },
   {
    "duration": 1080,
    "start_time": "2021-11-26T15:01:30.109Z"
   },
   {
    "duration": 6,
    "start_time": "2021-11-26T15:01:31.192Z"
   },
   {
    "duration": 30,
    "start_time": "2021-11-26T15:01:31.201Z"
   },
   {
    "duration": 31,
    "start_time": "2021-11-26T15:01:31.234Z"
   },
   {
    "duration": 5151,
    "start_time": "2021-11-26T15:01:31.268Z"
   },
   {
    "duration": 1435,
    "start_time": "2021-11-26T15:01:34.988Z"
   },
   {
    "duration": 3989,
    "start_time": "2021-11-26T15:03:48.304Z"
   },
   {
    "duration": 3491,
    "start_time": "2021-11-26T15:03:58.745Z"
   },
   {
    "duration": 12783,
    "start_time": "2021-11-26T15:05:40.186Z"
   },
   {
    "duration": 3253,
    "start_time": "2021-11-26T15:08:07.067Z"
   },
   {
    "duration": 9293,
    "start_time": "2021-11-26T15:22:09.529Z"
   },
   {
    "duration": 129,
    "start_time": "2021-11-26T15:22:24.381Z"
   },
   {
    "duration": 47,
    "start_time": "2021-11-26T15:22:24.512Z"
   },
   {
    "duration": 18,
    "start_time": "2021-11-26T15:22:24.562Z"
   },
   {
    "duration": 133,
    "start_time": "2021-11-26T15:22:24.583Z"
   },
   {
    "duration": 11,
    "start_time": "2021-11-26T15:22:24.719Z"
   },
   {
    "duration": 35,
    "start_time": "2021-11-26T15:22:24.733Z"
   },
   {
    "duration": 436,
    "start_time": "2021-11-26T15:22:24.772Z"
   },
   {
    "duration": 425,
    "start_time": "2021-11-26T15:22:25.211Z"
   },
   {
    "duration": 24,
    "start_time": "2021-11-26T15:22:25.640Z"
   },
   {
    "duration": 16,
    "start_time": "2021-11-26T15:22:25.667Z"
   },
   {
    "duration": 1008,
    "start_time": "2021-11-26T15:22:25.685Z"
   },
   {
    "duration": 17,
    "start_time": "2021-11-26T15:22:26.696Z"
   },
   {
    "duration": 15,
    "start_time": "2021-11-26T15:22:26.716Z"
   },
   {
    "duration": 47,
    "start_time": "2021-11-26T15:22:26.734Z"
   },
   {
    "duration": 10,
    "start_time": "2021-11-26T15:22:26.784Z"
   },
   {
    "duration": 3712,
    "start_time": "2021-11-26T15:22:26.797Z"
   },
   {
    "duration": 3581,
    "start_time": "2021-11-26T15:22:30.512Z"
   },
   {
    "duration": 936,
    "start_time": "2021-11-26T15:22:34.096Z"
   },
   {
    "duration": 5,
    "start_time": "2021-11-26T15:22:35.035Z"
   },
   {
    "duration": 26,
    "start_time": "2021-11-26T15:22:35.043Z"
   },
   {
    "duration": 4459,
    "start_time": "2021-11-26T15:22:35.073Z"
   },
   {
    "duration": 9446,
    "start_time": "2021-11-26T15:22:39.535Z"
   },
   {
    "duration": -110,
    "start_time": "2021-11-26T15:22:49.095Z"
   },
   {
    "duration": 118,
    "start_time": "2021-11-26T15:24:29.697Z"
   },
   {
    "duration": 47,
    "start_time": "2021-11-26T15:24:29.818Z"
   },
   {
    "duration": 19,
    "start_time": "2021-11-26T15:24:29.869Z"
   },
   {
    "duration": 132,
    "start_time": "2021-11-26T15:24:29.891Z"
   },
   {
    "duration": 11,
    "start_time": "2021-11-26T15:24:30.026Z"
   },
   {
    "duration": 12,
    "start_time": "2021-11-26T15:24:33.980Z"
   },
   {
    "duration": 413,
    "start_time": "2021-11-26T15:24:33.996Z"
   },
   {
    "duration": 434,
    "start_time": "2021-11-26T15:24:34.413Z"
   },
   {
    "duration": 16,
    "start_time": "2021-11-26T15:24:34.850Z"
   },
   {
    "duration": 18,
    "start_time": "2021-11-26T15:24:34.868Z"
   },
   {
    "duration": 839,
    "start_time": "2021-11-26T15:24:34.888Z"
   },
   {
    "duration": 13,
    "start_time": "2021-11-26T15:24:35.729Z"
   },
   {
    "duration": 24,
    "start_time": "2021-11-26T15:24:35.745Z"
   },
   {
    "duration": 20,
    "start_time": "2021-11-26T15:24:36.337Z"
   },
   {
    "duration": 9,
    "start_time": "2021-11-26T15:24:36.359Z"
   },
   {
    "duration": 3756,
    "start_time": "2021-11-26T15:24:37.946Z"
   },
   {
    "duration": 3148,
    "start_time": "2021-11-26T15:24:41.705Z"
   },
   {
    "duration": 1709,
    "start_time": "2021-11-26T15:24:44.861Z"
   },
   {
    "duration": 4,
    "start_time": "2021-11-26T15:24:46.573Z"
   },
   {
    "duration": 23,
    "start_time": "2021-11-26T15:24:46.580Z"
   },
   {
    "duration": 17375,
    "start_time": "2021-11-26T15:24:46.606Z"
   },
   {
    "duration": -167,
    "start_time": "2021-11-26T15:25:04.151Z"
   },
   {
    "duration": -169,
    "start_time": "2021-11-26T15:25:04.155Z"
   },
   {
    "duration": 3256,
    "start_time": "2021-11-26T15:25:28.370Z"
   },
   {
    "duration": 3176,
    "start_time": "2021-11-26T15:25:35.016Z"
   },
   {
    "duration": 3246,
    "start_time": "2021-11-26T15:26:00.699Z"
   },
   {
    "duration": 10076,
    "start_time": "2021-11-26T15:26:30.350Z"
   },
   {
    "duration": 22,
    "start_time": "2021-11-26T15:27:02.372Z"
   },
   {
    "duration": 28,
    "start_time": "2021-11-26T15:27:15.880Z"
   },
   {
    "duration": 21,
    "start_time": "2021-11-26T15:27:38.022Z"
   },
   {
    "duration": 127,
    "start_time": "2021-11-26T15:30:45.702Z"
   },
   {
    "duration": 41,
    "start_time": "2021-11-26T15:30:45.832Z"
   },
   {
    "duration": 22,
    "start_time": "2021-11-26T15:30:45.876Z"
   },
   {
    "duration": 141,
    "start_time": "2021-11-26T15:30:45.900Z"
   },
   {
    "duration": 19,
    "start_time": "2021-11-26T15:30:46.045Z"
   },
   {
    "duration": 14,
    "start_time": "2021-11-26T15:30:46.067Z"
   },
   {
    "duration": 452,
    "start_time": "2021-11-26T15:30:46.084Z"
   },
   {
    "duration": 637,
    "start_time": "2021-11-26T15:30:46.539Z"
   },
   {
    "duration": 12,
    "start_time": "2021-11-26T15:30:47.179Z"
   },
   {
    "duration": 18,
    "start_time": "2021-11-26T15:30:47.195Z"
   },
   {
    "duration": 1115,
    "start_time": "2021-11-26T15:30:47.216Z"
   },
   {
    "duration": 25,
    "start_time": "2021-11-26T15:30:48.334Z"
   },
   {
    "duration": 15,
    "start_time": "2021-11-26T15:30:48.362Z"
   },
   {
    "duration": 25,
    "start_time": "2021-11-26T15:30:48.379Z"
   },
   {
    "duration": 16,
    "start_time": "2021-11-26T15:30:48.407Z"
   },
   {
    "duration": 5568,
    "start_time": "2021-11-26T15:30:48.426Z"
   },
   {
    "duration": 3053,
    "start_time": "2021-11-26T15:30:53.996Z"
   },
   {
    "duration": 944,
    "start_time": "2021-11-26T15:30:57.051Z"
   },
   {
    "duration": 5,
    "start_time": "2021-11-26T15:30:57.997Z"
   },
   {
    "duration": 18,
    "start_time": "2021-11-26T15:30:58.004Z"
   },
   {
    "duration": 4305,
    "start_time": "2021-11-26T15:30:58.025Z"
   },
   {
    "duration": 143,
    "start_time": "2021-11-26T15:31:02.333Z"
   },
   {
    "duration": -72,
    "start_time": "2021-11-26T15:31:02.551Z"
   },
   {
    "duration": 442,
    "start_time": "2021-11-26T15:36:01.491Z"
   },
   {
    "duration": 625,
    "start_time": "2021-11-26T15:41:27.521Z"
   },
   {
    "duration": 137,
    "start_time": "2021-11-26T15:41:45.360Z"
   },
   {
    "duration": 478,
    "start_time": "2021-11-26T15:45:16.067Z"
   },
   {
    "duration": 29,
    "start_time": "2021-11-26T15:45:27.251Z"
   },
   {
    "duration": 102,
    "start_time": "2021-11-26T15:47:05.374Z"
   },
   {
    "duration": 151,
    "start_time": "2021-11-26T15:47:52.894Z"
   },
   {
    "duration": 164,
    "start_time": "2021-11-26T15:48:08.548Z"
   },
   {
    "duration": 215,
    "start_time": "2021-11-26T15:51:38.423Z"
   },
   {
    "duration": 141,
    "start_time": "2021-11-26T15:51:51.833Z"
   },
   {
    "duration": 196,
    "start_time": "2021-11-26T15:52:01.989Z"
   },
   {
    "duration": 122,
    "start_time": "2021-11-26T15:52:22.561Z"
   },
   {
    "duration": 40,
    "start_time": "2021-11-26T15:52:22.686Z"
   },
   {
    "duration": 40,
    "start_time": "2021-11-26T15:52:22.729Z"
   },
   {
    "duration": 119,
    "start_time": "2021-11-26T15:52:22.772Z"
   },
   {
    "duration": 7,
    "start_time": "2021-11-26T15:52:22.894Z"
   },
   {
    "duration": 11,
    "start_time": "2021-11-26T15:52:22.904Z"
   },
   {
    "duration": 446,
    "start_time": "2021-11-26T15:52:22.917Z"
   },
   {
    "duration": 425,
    "start_time": "2021-11-26T15:52:23.366Z"
   },
   {
    "duration": 13,
    "start_time": "2021-11-26T15:52:23.795Z"
   },
   {
    "duration": 17,
    "start_time": "2021-11-26T15:52:23.811Z"
   },
   {
    "duration": 798,
    "start_time": "2021-11-26T15:52:23.830Z"
   },
   {
    "duration": 12,
    "start_time": "2021-11-26T15:52:24.631Z"
   },
   {
    "duration": 25,
    "start_time": "2021-11-26T15:52:24.645Z"
   },
   {
    "duration": 25,
    "start_time": "2021-11-26T15:52:24.673Z"
   },
   {
    "duration": 11,
    "start_time": "2021-11-26T15:52:24.701Z"
   },
   {
    "duration": 4733,
    "start_time": "2021-11-26T15:52:24.715Z"
   },
   {
    "duration": 3076,
    "start_time": "2021-11-26T15:52:29.451Z"
   },
   {
    "duration": 959,
    "start_time": "2021-11-26T15:52:32.530Z"
   },
   {
    "duration": 5,
    "start_time": "2021-11-26T15:52:33.491Z"
   },
   {
    "duration": 14,
    "start_time": "2021-11-26T15:52:33.499Z"
   },
   {
    "duration": 1115,
    "start_time": "2021-11-26T15:52:33.516Z"
   },
   {
    "duration": 362,
    "start_time": "2021-11-26T15:52:34.634Z"
   },
   {
    "duration": 82,
    "start_time": "2021-11-26T15:52:34.999Z"
   },
   {
    "duration": 239,
    "start_time": "2021-11-26T15:54:30.441Z"
   },
   {
    "duration": 239,
    "start_time": "2021-11-26T15:56:14.246Z"
   },
   {
    "duration": 21,
    "start_time": "2021-11-26T16:02:01.583Z"
   },
   {
    "duration": 257,
    "start_time": "2021-11-26T16:02:46.580Z"
   },
   {
    "duration": 11974,
    "start_time": "2021-11-26T16:21:24.650Z"
   },
   {
    "duration": 116,
    "start_time": "2021-11-26T16:24:10.806Z"
   },
   {
    "duration": 48,
    "start_time": "2021-11-26T16:24:10.925Z"
   },
   {
    "duration": 22,
    "start_time": "2021-11-26T16:24:10.976Z"
   },
   {
    "duration": 129,
    "start_time": "2021-11-26T16:24:11.001Z"
   },
   {
    "duration": 26,
    "start_time": "2021-11-26T16:24:11.133Z"
   },
   {
    "duration": 14,
    "start_time": "2021-11-26T16:24:11.162Z"
   },
   {
    "duration": 424,
    "start_time": "2021-11-26T16:24:11.178Z"
   },
   {
    "duration": 430,
    "start_time": "2021-11-26T16:24:11.604Z"
   },
   {
    "duration": 23,
    "start_time": "2021-11-26T16:24:12.037Z"
   },
   {
    "duration": 16,
    "start_time": "2021-11-26T16:24:12.063Z"
   },
   {
    "duration": 724,
    "start_time": "2021-11-26T16:24:12.081Z"
   },
   {
    "duration": 12,
    "start_time": "2021-11-26T16:24:12.808Z"
   },
   {
    "duration": 12,
    "start_time": "2021-11-26T16:24:12.823Z"
   },
   {
    "duration": 21,
    "start_time": "2021-11-26T16:24:12.861Z"
   },
   {
    "duration": 8,
    "start_time": "2021-11-26T16:24:12.885Z"
   },
   {
    "duration": 4984,
    "start_time": "2021-11-26T16:24:12.897Z"
   },
   {
    "duration": 3993,
    "start_time": "2021-11-26T16:24:17.883Z"
   },
   {
    "duration": 931,
    "start_time": "2021-11-26T16:24:21.879Z"
   },
   {
    "duration": 5,
    "start_time": "2021-11-26T16:24:22.812Z"
   },
   {
    "duration": 44,
    "start_time": "2021-11-26T16:24:22.819Z"
   },
   {
    "duration": 1152,
    "start_time": "2021-11-26T16:24:22.866Z"
   },
   {
    "duration": 268,
    "start_time": "2021-11-26T16:24:24.021Z"
   },
   {
    "duration": 10301,
    "start_time": "2021-11-26T16:24:24.292Z"
   },
   {
    "duration": -122,
    "start_time": "2021-11-26T16:24:34.719Z"
   },
   {
    "duration": 1099,
    "start_time": "2021-11-26T16:29:14.063Z"
   },
   {
    "duration": 824,
    "start_time": "2021-11-26T16:32:41.951Z"
   },
   {
    "duration": 1023,
    "start_time": "2021-11-26T16:33:24.776Z"
   },
   {
    "duration": 922,
    "start_time": "2021-11-26T16:33:31.133Z"
   },
   {
    "duration": 1889,
    "start_time": "2021-11-26T16:35:20.871Z"
   },
   {
    "duration": 885,
    "start_time": "2021-11-26T16:35:28.655Z"
   },
   {
    "duration": 769,
    "start_time": "2021-11-26T16:36:06.941Z"
   },
   {
    "duration": 808,
    "start_time": "2021-11-26T16:37:09.354Z"
   },
   {
    "duration": 868,
    "start_time": "2021-11-26T16:37:36.191Z"
   },
   {
    "duration": 787,
    "start_time": "2021-11-26T16:39:32.593Z"
   },
   {
    "duration": 760,
    "start_time": "2021-11-26T16:39:52.024Z"
   },
   {
    "duration": 741,
    "start_time": "2021-11-26T16:40:55.397Z"
   },
   {
    "duration": 7,
    "start_time": "2021-11-26T16:41:47.608Z"
   },
   {
    "duration": 380,
    "start_time": "2021-11-26T16:42:17.504Z"
   },
   {
    "duration": 367,
    "start_time": "2021-11-26T16:42:23.085Z"
   },
   {
    "duration": 354,
    "start_time": "2021-11-26T16:42:28.145Z"
   },
   {
    "duration": 10,
    "start_time": "2021-11-26T16:43:04.799Z"
   },
   {
    "duration": 9,
    "start_time": "2021-11-26T16:43:08.690Z"
   },
   {
    "duration": 124,
    "start_time": "2021-11-26T16:46:31.366Z"
   },
   {
    "duration": 118,
    "start_time": "2021-11-26T16:47:15.148Z"
   },
   {
    "duration": 195,
    "start_time": "2021-11-26T16:47:44.823Z"
   },
   {
    "duration": 132,
    "start_time": "2021-11-26T16:48:00.889Z"
   },
   {
    "duration": 129,
    "start_time": "2021-11-26T16:48:16.083Z"
   },
   {
    "duration": 126,
    "start_time": "2021-11-26T16:48:56.740Z"
   },
   {
    "duration": 127,
    "start_time": "2021-11-26T16:49:03.154Z"
   },
   {
    "duration": 107,
    "start_time": "2021-11-26T16:50:58.910Z"
   },
   {
    "duration": 44,
    "start_time": "2021-11-26T16:50:59.022Z"
   },
   {
    "duration": 18,
    "start_time": "2021-11-26T16:50:59.070Z"
   },
   {
    "duration": 128,
    "start_time": "2021-11-26T16:50:59.091Z"
   },
   {
    "duration": 7,
    "start_time": "2021-11-26T16:50:59.221Z"
   },
   {
    "duration": 30,
    "start_time": "2021-11-26T16:50:59.231Z"
   },
   {
    "duration": 445,
    "start_time": "2021-11-26T16:50:59.264Z"
   },
   {
    "duration": 467,
    "start_time": "2021-11-26T16:50:59.712Z"
   },
   {
    "duration": 13,
    "start_time": "2021-11-26T16:51:00.183Z"
   },
   {
    "duration": 17,
    "start_time": "2021-11-26T16:51:00.199Z"
   },
   {
    "duration": 914,
    "start_time": "2021-11-26T16:51:00.219Z"
   },
   {
    "duration": 24,
    "start_time": "2021-11-26T16:51:01.136Z"
   },
   {
    "duration": 22,
    "start_time": "2021-11-26T16:51:01.164Z"
   },
   {
    "duration": 54,
    "start_time": "2021-11-26T16:51:01.190Z"
   },
   {
    "duration": 12,
    "start_time": "2021-11-26T16:51:01.247Z"
   },
   {
    "duration": 3849,
    "start_time": "2021-11-26T16:51:01.262Z"
   },
   {
    "duration": 3160,
    "start_time": "2021-11-26T16:51:05.114Z"
   },
   {
    "duration": 935,
    "start_time": "2021-11-26T16:51:08.277Z"
   },
   {
    "duration": 5,
    "start_time": "2021-11-26T16:51:09.215Z"
   },
   {
    "duration": 39,
    "start_time": "2021-11-26T16:51:09.223Z"
   },
   {
    "duration": 1072,
    "start_time": "2021-11-26T16:51:09.264Z"
   },
   {
    "duration": 255,
    "start_time": "2021-11-26T16:51:10.339Z"
   },
   {
    "duration": 761,
    "start_time": "2021-11-26T16:51:10.596Z"
   },
   {
    "duration": 58,
    "start_time": "2021-11-26T16:51:11.362Z"
   },
   {
    "duration": 119,
    "start_time": "2021-11-26T16:56:39.881Z"
   },
   {
    "duration": 2144,
    "start_time": "2021-11-26T16:57:09.231Z"
   },
   {
    "duration": 973,
    "start_time": "2021-11-26T16:57:25.798Z"
   },
   {
    "duration": 697,
    "start_time": "2021-11-26T16:57:42.445Z"
   },
   {
    "duration": 426,
    "start_time": "2021-11-26T16:57:58.167Z"
   },
   {
    "duration": 647,
    "start_time": "2021-11-26T16:58:37.953Z"
   },
   {
    "duration": 430,
    "start_time": "2021-11-26T16:59:00.492Z"
   },
   {
    "duration": 472,
    "start_time": "2021-11-26T16:59:28.746Z"
   },
   {
    "duration": 455,
    "start_time": "2021-11-26T17:00:41.725Z"
   },
   {
    "duration": 144,
    "start_time": "2021-11-26T17:02:59.809Z"
   },
   {
    "duration": 124,
    "start_time": "2021-11-26T17:03:21.704Z"
   },
   {
    "duration": 1025,
    "start_time": "2021-11-26T17:03:45.910Z"
   },
   {
    "duration": 1461,
    "start_time": "2021-11-26T17:05:01.102Z"
   },
   {
    "duration": 1601,
    "start_time": "2021-11-26T17:05:42.039Z"
   },
   {
    "duration": 386,
    "start_time": "2021-11-26T17:06:12.698Z"
   },
   {
    "duration": 390,
    "start_time": "2021-11-26T17:06:36.872Z"
   },
   {
    "duration": 402,
    "start_time": "2021-11-26T17:06:56.952Z"
   },
   {
    "duration": 117,
    "start_time": "2021-11-26T17:07:25.436Z"
   },
   {
    "duration": 36,
    "start_time": "2021-11-26T17:07:25.556Z"
   },
   {
    "duration": 29,
    "start_time": "2021-11-26T17:07:25.595Z"
   },
   {
    "duration": 115,
    "start_time": "2021-11-26T17:07:25.627Z"
   },
   {
    "duration": 20,
    "start_time": "2021-11-26T17:07:25.744Z"
   },
   {
    "duration": 22,
    "start_time": "2021-11-26T17:07:25.767Z"
   },
   {
    "duration": 434,
    "start_time": "2021-11-26T17:07:25.793Z"
   },
   {
    "duration": 427,
    "start_time": "2021-11-26T17:07:26.233Z"
   },
   {
    "duration": 14,
    "start_time": "2021-11-26T17:07:26.664Z"
   },
   {
    "duration": 18,
    "start_time": "2021-11-26T17:07:26.681Z"
   },
   {
    "duration": 716,
    "start_time": "2021-11-26T17:07:26.702Z"
   },
   {
    "duration": 12,
    "start_time": "2021-11-26T17:07:27.420Z"
   },
   {
    "duration": 29,
    "start_time": "2021-11-26T17:07:27.435Z"
   },
   {
    "duration": 27,
    "start_time": "2021-11-26T17:07:27.467Z"
   },
   {
    "duration": 16,
    "start_time": "2021-11-26T17:07:27.497Z"
   },
   {
    "duration": 3633,
    "start_time": "2021-11-26T17:07:27.515Z"
   },
   {
    "duration": 2936,
    "start_time": "2021-11-26T17:07:31.150Z"
   },
   {
    "duration": 926,
    "start_time": "2021-11-26T17:07:34.089Z"
   },
   {
    "duration": 5,
    "start_time": "2021-11-26T17:07:35.018Z"
   },
   {
    "duration": 40,
    "start_time": "2021-11-26T17:07:35.026Z"
   },
   {
    "duration": 1080,
    "start_time": "2021-11-26T17:07:35.068Z"
   },
   {
    "duration": 258,
    "start_time": "2021-11-26T17:07:36.159Z"
   },
   {
    "duration": 925,
    "start_time": "2021-11-26T17:07:36.422Z"
   },
   {
    "duration": 64,
    "start_time": "2021-11-26T17:07:37.350Z"
   },
   {
    "duration": 986,
    "start_time": "2021-11-26T17:08:32.652Z"
   },
   {
    "duration": 989,
    "start_time": "2021-11-26T17:11:07.344Z"
   },
   {
    "duration": 991,
    "start_time": "2021-11-26T17:11:11.586Z"
   },
   {
    "duration": 718,
    "start_time": "2021-11-26T17:11:57.587Z"
   },
   {
    "duration": 688,
    "start_time": "2021-11-26T17:12:26.642Z"
   },
   {
    "duration": 770,
    "start_time": "2021-11-26T17:13:07.281Z"
   },
   {
    "duration": 775,
    "start_time": "2021-11-26T17:13:30.030Z"
   },
   {
    "duration": 755,
    "start_time": "2021-11-26T17:13:47.457Z"
   },
   {
    "duration": 1010,
    "start_time": "2021-11-26T17:14:06.728Z"
   },
   {
    "duration": 710,
    "start_time": "2021-11-26T17:14:12.131Z"
   },
   {
    "duration": 738,
    "start_time": "2021-11-26T17:15:07.211Z"
   },
   {
    "duration": 739,
    "start_time": "2021-11-26T17:17:45.143Z"
   },
   {
    "duration": 984,
    "start_time": "2021-11-26T17:19:25.340Z"
   },
   {
    "duration": 734,
    "start_time": "2021-11-26T17:19:32.491Z"
   },
   {
    "duration": 63,
    "start_time": "2021-11-26T17:20:30.470Z"
   },
   {
    "duration": 32,
    "start_time": "2021-11-26T17:25:13.050Z"
   },
   {
    "duration": 12,
    "start_time": "2021-11-26T17:27:40.591Z"
   },
   {
    "duration": 8,
    "start_time": "2021-11-26T17:28:54.852Z"
   },
   {
    "duration": 148,
    "start_time": "2021-11-26T17:33:13.751Z"
   },
   {
    "duration": 60,
    "start_time": "2021-11-26T17:33:13.903Z"
   },
   {
    "duration": 18,
    "start_time": "2021-11-26T17:33:13.966Z"
   },
   {
    "duration": 186,
    "start_time": "2021-11-26T17:33:13.988Z"
   },
   {
    "duration": 10,
    "start_time": "2021-11-26T17:33:14.178Z"
   },
   {
    "duration": 12,
    "start_time": "2021-11-26T17:33:14.191Z"
   },
   {
    "duration": 453,
    "start_time": "2021-11-26T17:33:14.206Z"
   },
   {
    "duration": 462,
    "start_time": "2021-11-26T17:33:14.661Z"
   },
   {
    "duration": 12,
    "start_time": "2021-11-26T17:33:15.127Z"
   },
   {
    "duration": 32,
    "start_time": "2021-11-26T17:33:15.142Z"
   },
   {
    "duration": 741,
    "start_time": "2021-11-26T17:33:15.176Z"
   },
   {
    "duration": 12,
    "start_time": "2021-11-26T17:33:15.920Z"
   },
   {
    "duration": 26,
    "start_time": "2021-11-26T17:33:15.934Z"
   },
   {
    "duration": 19,
    "start_time": "2021-11-26T17:33:15.962Z"
   },
   {
    "duration": 15,
    "start_time": "2021-11-26T17:33:15.984Z"
   },
   {
    "duration": 4946,
    "start_time": "2021-11-26T17:33:16.002Z"
   },
   {
    "duration": 3294,
    "start_time": "2021-11-26T17:33:20.950Z"
   },
   {
    "duration": 1039,
    "start_time": "2021-11-26T17:33:24.247Z"
   },
   {
    "duration": 5,
    "start_time": "2021-11-26T17:33:25.288Z"
   },
   {
    "duration": 27,
    "start_time": "2021-11-26T17:33:25.296Z"
   },
   {
    "duration": 1146,
    "start_time": "2021-11-26T17:33:25.325Z"
   },
   {
    "duration": 360,
    "start_time": "2021-11-26T17:33:26.474Z"
   },
   {
    "duration": 35,
    "start_time": "2021-11-26T17:33:26.837Z"
   },
   {
    "duration": 8,
    "start_time": "2021-11-26T17:33:26.875Z"
   },
   {
    "duration": 120,
    "start_time": "2021-11-26T17:33:26.885Z"
   },
   {
    "duration": 414,
    "start_time": "2021-11-26T17:34:19.524Z"
   },
   {
    "duration": 60,
    "start_time": "2021-11-26T17:36:25.769Z"
   },
   {
    "duration": 127,
    "start_time": "2021-11-26T17:38:49.804Z"
   },
   {
    "duration": 57,
    "start_time": "2021-11-26T17:38:49.934Z"
   },
   {
    "duration": 20,
    "start_time": "2021-11-26T17:38:49.995Z"
   },
   {
    "duration": 160,
    "start_time": "2021-11-26T17:38:50.018Z"
   },
   {
    "duration": 11,
    "start_time": "2021-11-26T17:38:50.181Z"
   },
   {
    "duration": 12,
    "start_time": "2021-11-26T17:38:50.194Z"
   },
   {
    "duration": 457,
    "start_time": "2021-11-26T17:38:50.208Z"
   },
   {
    "duration": 432,
    "start_time": "2021-11-26T17:38:50.669Z"
   },
   {
    "duration": 14,
    "start_time": "2021-11-26T17:38:51.104Z"
   },
   {
    "duration": 47,
    "start_time": "2021-11-26T17:38:51.121Z"
   },
   {
    "duration": 752,
    "start_time": "2021-11-26T17:38:51.171Z"
   },
   {
    "duration": 12,
    "start_time": "2021-11-26T17:38:51.925Z"
   },
   {
    "duration": 26,
    "start_time": "2021-11-26T17:38:51.939Z"
   },
   {
    "duration": 19,
    "start_time": "2021-11-26T17:38:51.968Z"
   },
   {
    "duration": 11,
    "start_time": "2021-11-26T17:38:51.989Z"
   },
   {
    "duration": 3604,
    "start_time": "2021-11-26T17:38:52.002Z"
   },
   {
    "duration": 2952,
    "start_time": "2021-11-26T17:38:55.608Z"
   },
   {
    "duration": 1015,
    "start_time": "2021-11-26T17:38:58.563Z"
   },
   {
    "duration": 6,
    "start_time": "2021-11-26T17:38:59.581Z"
   },
   {
    "duration": 31,
    "start_time": "2021-11-26T17:38:59.590Z"
   },
   {
    "duration": 1142,
    "start_time": "2021-11-26T17:38:59.624Z"
   },
   {
    "duration": 296,
    "start_time": "2021-11-26T17:39:00.770Z"
   },
   {
    "duration": 106,
    "start_time": "2021-11-26T17:39:01.073Z"
   },
   {
    "duration": 6,
    "start_time": "2021-11-26T17:39:01.183Z"
   },
   {
    "duration": 21,
    "start_time": "2021-11-26T17:39:01.191Z"
   },
   {
    "duration": 15,
    "start_time": "2021-11-26T17:39:01.215Z"
   },
   {
    "duration": 11,
    "start_time": "2021-11-26T17:39:01.232Z"
   },
   {
    "duration": 16,
    "start_time": "2021-11-26T17:39:01.245Z"
   },
   {
    "duration": 39,
    "start_time": "2021-11-26T17:39:01.264Z"
   },
   {
    "duration": 17,
    "start_time": "2021-11-26T17:39:01.306Z"
   },
   {
    "duration": 9743,
    "start_time": "2021-11-26T17:39:01.326Z"
   },
   {
    "duration": 61,
    "start_time": "2021-11-26T17:39:44.704Z"
   },
   {
    "duration": 408,
    "start_time": "2021-11-26T17:39:50.190Z"
   },
   {
    "duration": 60,
    "start_time": "2021-11-26T17:39:54.877Z"
   },
   {
    "duration": 133,
    "start_time": "2021-11-26T17:41:26.949Z"
   },
   {
    "duration": 38,
    "start_time": "2021-11-26T17:41:27.084Z"
   },
   {
    "duration": 41,
    "start_time": "2021-11-26T17:41:27.125Z"
   },
   {
    "duration": 120,
    "start_time": "2021-11-26T17:41:27.169Z"
   },
   {
    "duration": 8,
    "start_time": "2021-11-26T17:41:27.291Z"
   },
   {
    "duration": 16,
    "start_time": "2021-11-26T17:41:27.301Z"
   },
   {
    "duration": 449,
    "start_time": "2021-11-26T17:41:27.319Z"
   },
   {
    "duration": 437,
    "start_time": "2021-11-26T17:41:27.772Z"
   },
   {
    "duration": 11,
    "start_time": "2021-11-26T17:41:28.212Z"
   },
   {
    "duration": 40,
    "start_time": "2021-11-26T17:41:28.225Z"
   },
   {
    "duration": 884,
    "start_time": "2021-11-26T17:41:28.268Z"
   },
   {
    "duration": 11,
    "start_time": "2021-11-26T17:41:29.159Z"
   },
   {
    "duration": 11,
    "start_time": "2021-11-26T17:41:29.172Z"
   },
   {
    "duration": 18,
    "start_time": "2021-11-26T17:41:29.185Z"
   },
   {
    "duration": 10,
    "start_time": "2021-11-26T17:41:29.206Z"
   },
   {
    "duration": 4862,
    "start_time": "2021-11-26T17:41:29.218Z"
   },
   {
    "duration": 2954,
    "start_time": "2021-11-26T17:41:34.082Z"
   },
   {
    "duration": 957,
    "start_time": "2021-11-26T17:41:37.039Z"
   },
   {
    "duration": 5,
    "start_time": "2021-11-26T17:41:37.999Z"
   },
   {
    "duration": 35,
    "start_time": "2021-11-26T17:41:38.006Z"
   },
   {
    "duration": 1123,
    "start_time": "2021-11-26T17:41:38.043Z"
   },
   {
    "duration": 249,
    "start_time": "2021-11-26T17:41:39.168Z"
   },
   {
    "duration": 5,
    "start_time": "2021-11-26T17:41:39.423Z"
   },
   {
    "duration": 17,
    "start_time": "2021-11-26T17:41:39.431Z"
   },
   {
    "duration": 20,
    "start_time": "2021-11-26T17:41:39.450Z"
   },
   {
    "duration": 21,
    "start_time": "2021-11-26T17:41:39.472Z"
   },
   {
    "duration": 22,
    "start_time": "2021-11-26T17:41:39.495Z"
   },
   {
    "duration": 20,
    "start_time": "2021-11-26T17:41:39.519Z"
   },
   {
    "duration": 22,
    "start_time": "2021-11-26T17:41:39.542Z"
   },
   {
    "duration": 51,
    "start_time": "2021-11-26T17:41:39.567Z"
   },
   {
    "duration": 9,
    "start_time": "2021-11-26T17:41:39.620Z"
   },
   {
    "duration": 73,
    "start_time": "2021-11-26T17:41:39.631Z"
   },
   {
    "duration": 18,
    "start_time": "2021-11-26T17:45:52.842Z"
   },
   {
    "duration": 379,
    "start_time": "2021-11-26T18:14:39.083Z"
   },
   {
    "duration": 21,
    "start_time": "2021-11-26T18:15:07.855Z"
   },
   {
    "duration": 27,
    "start_time": "2021-11-26T18:15:18.503Z"
   },
   {
    "duration": 121,
    "start_time": "2021-11-26T18:18:05.673Z"
   },
   {
    "duration": 21,
    "start_time": "2021-11-26T18:18:23.451Z"
   },
   {
    "duration": 125,
    "start_time": "2021-11-26T18:18:34.248Z"
   },
   {
    "duration": 24,
    "start_time": "2021-11-26T18:18:39.103Z"
   },
   {
    "duration": 22,
    "start_time": "2021-11-26T18:24:06.937Z"
   },
   {
    "duration": 165,
    "start_time": "2021-11-26T18:25:33.872Z"
   },
   {
    "duration": 12747,
    "start_time": "2021-11-26T18:25:45.172Z"
   },
   {
    "duration": 19,
    "start_time": "2021-11-26T18:55:43.500Z"
   },
   {
    "duration": 716,
    "start_time": "2021-11-27T15:33:47.176Z"
   },
   {
    "duration": 23,
    "start_time": "2021-11-27T15:33:47.893Z"
   },
   {
    "duration": 9,
    "start_time": "2021-11-27T15:33:47.918Z"
   },
   {
    "duration": 73,
    "start_time": "2021-11-27T15:33:47.929Z"
   },
   {
    "duration": 4,
    "start_time": "2021-11-27T15:33:48.004Z"
   },
   {
    "duration": 8,
    "start_time": "2021-11-27T15:33:48.010Z"
   },
   {
    "duration": 239,
    "start_time": "2021-11-27T15:33:48.019Z"
   },
   {
    "duration": 234,
    "start_time": "2021-11-27T15:33:48.260Z"
   },
   {
    "duration": 8,
    "start_time": "2021-11-27T15:33:48.496Z"
   },
   {
    "duration": 10,
    "start_time": "2021-11-27T15:33:48.507Z"
   },
   {
    "duration": 505,
    "start_time": "2021-11-27T15:33:48.518Z"
   },
   {
    "duration": 12,
    "start_time": "2021-11-27T15:33:49.025Z"
   },
   {
    "duration": 7,
    "start_time": "2021-11-27T15:33:49.038Z"
   },
   {
    "duration": 18,
    "start_time": "2021-11-27T15:33:49.047Z"
   },
   {
    "duration": 5,
    "start_time": "2021-11-27T15:33:49.067Z"
   },
   {
    "duration": 2402,
    "start_time": "2021-11-27T15:33:49.074Z"
   },
   {
    "duration": 2497,
    "start_time": "2021-11-27T15:33:51.478Z"
   },
   {
    "duration": 582,
    "start_time": "2021-11-27T15:33:53.976Z"
   },
   {
    "duration": 4,
    "start_time": "2021-11-27T15:33:54.560Z"
   },
   {
    "duration": 27,
    "start_time": "2021-11-27T15:33:54.565Z"
   },
   {
    "duration": 900,
    "start_time": "2021-11-27T15:33:54.594Z"
   },
   {
    "duration": 153,
    "start_time": "2021-11-27T15:33:55.496Z"
   },
   {
    "duration": 292,
    "start_time": "2021-11-27T15:33:55.650Z"
   },
   {
    "duration": -516,
    "start_time": "2021-11-27T15:33:56.461Z"
   },
   {
    "duration": -518,
    "start_time": "2021-11-27T15:33:56.464Z"
   },
   {
    "duration": -520,
    "start_time": "2021-11-27T15:33:56.467Z"
   },
   {
    "duration": -523,
    "start_time": "2021-11-27T15:33:56.470Z"
   },
   {
    "duration": -524,
    "start_time": "2021-11-27T15:33:56.472Z"
   },
   {
    "duration": -546,
    "start_time": "2021-11-27T15:33:56.495Z"
   },
   {
    "duration": -551,
    "start_time": "2021-11-27T15:33:56.501Z"
   },
   {
    "duration": -553,
    "start_time": "2021-11-27T15:33:56.504Z"
   },
   {
    "duration": -563,
    "start_time": "2021-11-27T15:33:56.515Z"
   },
   {
    "duration": 51,
    "start_time": "2021-11-27T15:34:36.495Z"
   },
   {
    "duration": 48,
    "start_time": "2021-11-27T15:35:32.015Z"
   },
   {
    "duration": 49,
    "start_time": "2021-11-27T15:36:03.975Z"
   },
   {
    "duration": 54,
    "start_time": "2021-11-27T15:41:30.375Z"
   },
   {
    "duration": 234,
    "start_time": "2021-11-27T15:42:46.417Z"
   },
   {
    "duration": 93,
    "start_time": "2021-11-27T15:43:01.735Z"
   },
   {
    "duration": 21,
    "start_time": "2021-11-27T15:43:01.830Z"
   },
   {
    "duration": 15,
    "start_time": "2021-11-27T15:43:01.853Z"
   },
   {
    "duration": 73,
    "start_time": "2021-11-27T15:43:01.870Z"
   },
   {
    "duration": 6,
    "start_time": "2021-11-27T15:43:01.944Z"
   },
   {
    "duration": 40,
    "start_time": "2021-11-27T15:43:01.951Z"
   },
   {
    "duration": 252,
    "start_time": "2021-11-27T15:43:01.992Z"
   },
   {
    "duration": 243,
    "start_time": "2021-11-27T15:43:02.246Z"
   },
   {
    "duration": 8,
    "start_time": "2021-11-27T15:43:02.491Z"
   },
   {
    "duration": 21,
    "start_time": "2021-11-27T15:43:02.502Z"
   },
   {
    "duration": 613,
    "start_time": "2021-11-27T15:43:02.525Z"
   },
   {
    "duration": 9,
    "start_time": "2021-11-27T15:43:03.140Z"
   },
   {
    "duration": 16,
    "start_time": "2021-11-27T15:43:03.150Z"
   },
   {
    "duration": 24,
    "start_time": "2021-11-27T15:43:03.168Z"
   },
   {
    "duration": 27,
    "start_time": "2021-11-27T15:43:03.193Z"
   },
   {
    "duration": 2912,
    "start_time": "2021-11-27T15:43:03.222Z"
   },
   {
    "duration": 1760,
    "start_time": "2021-11-27T15:43:06.136Z"
   },
   {
    "duration": 599,
    "start_time": "2021-11-27T15:43:07.897Z"
   },
   {
    "duration": 4,
    "start_time": "2021-11-27T15:43:08.498Z"
   },
   {
    "duration": 16,
    "start_time": "2021-11-27T15:43:08.503Z"
   },
   {
    "duration": 701,
    "start_time": "2021-11-27T15:43:08.521Z"
   },
   {
    "duration": 148,
    "start_time": "2021-11-27T15:43:09.223Z"
   },
   {
    "duration": 54,
    "start_time": "2021-11-27T15:43:09.372Z"
   },
   {
    "duration": 4,
    "start_time": "2021-11-27T15:43:09.428Z"
   },
   {
    "duration": 5,
    "start_time": "2021-11-27T15:43:09.434Z"
   },
   {
    "duration": 4,
    "start_time": "2021-11-27T15:43:09.441Z"
   },
   {
    "duration": 3,
    "start_time": "2021-11-27T15:43:09.450Z"
   },
   {
    "duration": 6,
    "start_time": "2021-11-27T15:43:09.454Z"
   },
   {
    "duration": 28,
    "start_time": "2021-11-27T15:43:09.461Z"
   },
   {
    "duration": 23,
    "start_time": "2021-11-27T15:43:09.492Z"
   },
   {
    "duration": 5,
    "start_time": "2021-11-27T15:43:09.517Z"
   },
   {
    "duration": 5545,
    "start_time": "2021-11-27T15:43:09.524Z"
   },
   {
    "duration": 256,
    "start_time": "2021-11-27T15:44:14.063Z"
   },
   {
    "duration": 90,
    "start_time": "2021-11-27T15:44:29.894Z"
   },
   {
    "duration": 22,
    "start_time": "2021-11-27T15:44:29.986Z"
   },
   {
    "duration": 28,
    "start_time": "2021-11-27T15:44:30.010Z"
   },
   {
    "duration": 81,
    "start_time": "2021-11-27T15:44:30.040Z"
   },
   {
    "duration": 7,
    "start_time": "2021-11-27T15:44:30.123Z"
   },
   {
    "duration": 55,
    "start_time": "2021-11-27T15:44:30.131Z"
   },
   {
    "duration": 233,
    "start_time": "2021-11-27T15:44:30.188Z"
   },
   {
    "duration": 254,
    "start_time": "2021-11-27T15:44:30.423Z"
   },
   {
    "duration": 13,
    "start_time": "2021-11-27T15:44:30.680Z"
   },
   {
    "duration": 12,
    "start_time": "2021-11-27T15:44:30.696Z"
   },
   {
    "duration": 550,
    "start_time": "2021-11-27T15:44:30.710Z"
   },
   {
    "duration": 10,
    "start_time": "2021-11-27T15:44:31.262Z"
   },
   {
    "duration": 25,
    "start_time": "2021-11-27T15:44:31.273Z"
   },
   {
    "duration": 29,
    "start_time": "2021-11-27T15:44:31.300Z"
   },
   {
    "duration": 10,
    "start_time": "2021-11-27T15:44:31.331Z"
   },
   {
    "duration": 2183,
    "start_time": "2021-11-27T15:44:31.342Z"
   },
   {
    "duration": 1763,
    "start_time": "2021-11-27T15:44:33.527Z"
   },
   {
    "duration": 600,
    "start_time": "2021-11-27T15:44:35.291Z"
   },
   {
    "duration": 3,
    "start_time": "2021-11-27T15:44:35.893Z"
   },
   {
    "duration": 26,
    "start_time": "2021-11-27T15:44:35.898Z"
   },
   {
    "duration": 843,
    "start_time": "2021-11-27T15:44:35.926Z"
   },
   {
    "duration": 154,
    "start_time": "2021-11-27T15:44:36.771Z"
   },
   {
    "duration": 50,
    "start_time": "2021-11-27T15:44:36.927Z"
   },
   {
    "duration": 4,
    "start_time": "2021-11-27T15:44:36.988Z"
   },
   {
    "duration": 19,
    "start_time": "2021-11-27T15:44:36.993Z"
   },
   {
    "duration": 28,
    "start_time": "2021-11-27T15:44:37.013Z"
   },
   {
    "duration": 16,
    "start_time": "2021-11-27T15:44:37.044Z"
   },
   {
    "duration": 28,
    "start_time": "2021-11-27T15:44:37.061Z"
   },
   {
    "duration": 20,
    "start_time": "2021-11-27T15:44:37.091Z"
   },
   {
    "duration": 38,
    "start_time": "2021-11-27T15:44:37.113Z"
   },
   {
    "duration": 7,
    "start_time": "2021-11-27T15:44:37.154Z"
   },
   {
    "duration": 5893,
    "start_time": "2021-11-27T15:44:37.162Z"
   },
   {
    "duration": 233,
    "start_time": "2021-11-27T15:45:54.814Z"
   },
   {
    "duration": 91,
    "start_time": "2021-11-27T15:46:04.222Z"
   },
   {
    "duration": 21,
    "start_time": "2021-11-27T15:46:04.315Z"
   },
   {
    "duration": 11,
    "start_time": "2021-11-27T15:46:04.338Z"
   },
   {
    "duration": 88,
    "start_time": "2021-11-27T15:46:04.350Z"
   },
   {
    "duration": 6,
    "start_time": "2021-11-27T15:46:04.440Z"
   },
   {
    "duration": 7,
    "start_time": "2021-11-27T15:46:04.448Z"
   },
   {
    "duration": 445,
    "start_time": "2021-11-27T15:46:04.456Z"
   },
   {
    "duration": 265,
    "start_time": "2021-11-27T15:46:04.905Z"
   },
   {
    "duration": 21,
    "start_time": "2021-11-27T15:46:05.172Z"
   },
   {
    "duration": 10,
    "start_time": "2021-11-27T15:46:05.194Z"
   },
   {
    "duration": 550,
    "start_time": "2021-11-27T15:46:05.206Z"
   },
   {
    "duration": 10,
    "start_time": "2021-11-27T15:46:05.758Z"
   },
   {
    "duration": 39,
    "start_time": "2021-11-27T15:46:05.769Z"
   },
   {
    "duration": 24,
    "start_time": "2021-11-27T15:46:05.810Z"
   },
   {
    "duration": 6,
    "start_time": "2021-11-27T15:46:05.836Z"
   },
   {
    "duration": 2232,
    "start_time": "2021-11-27T15:46:05.844Z"
   },
   {
    "duration": 1589,
    "start_time": "2021-11-27T15:46:08.079Z"
   },
   {
    "duration": 880,
    "start_time": "2021-11-27T15:46:09.669Z"
   },
   {
    "duration": 4,
    "start_time": "2021-11-27T15:46:10.552Z"
   },
   {
    "duration": 17,
    "start_time": "2021-11-27T15:46:10.557Z"
   },
   {
    "duration": 712,
    "start_time": "2021-11-27T15:46:10.576Z"
   },
   {
    "duration": 143,
    "start_time": "2021-11-27T15:46:11.289Z"
   },
   {
    "duration": 34,
    "start_time": "2021-11-27T15:46:11.436Z"
   },
   {
    "duration": 18,
    "start_time": "2021-11-27T15:46:11.472Z"
   },
   {
    "duration": 4,
    "start_time": "2021-11-27T15:46:11.492Z"
   },
   {
    "duration": 4,
    "start_time": "2021-11-27T15:46:11.498Z"
   },
   {
    "duration": 5,
    "start_time": "2021-11-27T15:46:11.504Z"
   },
   {
    "duration": 5,
    "start_time": "2021-11-27T15:46:11.510Z"
   },
   {
    "duration": 5,
    "start_time": "2021-11-27T15:46:11.516Z"
   },
   {
    "duration": 24,
    "start_time": "2021-11-27T15:46:11.522Z"
   },
   {
    "duration": 5,
    "start_time": "2021-11-27T15:46:11.547Z"
   },
   {
    "duration": 5735,
    "start_time": "2021-11-27T15:46:11.554Z"
   },
   {
    "duration": 379,
    "start_time": "2021-11-27T15:47:10.951Z"
   },
   {
    "duration": 93,
    "start_time": "2021-11-27T15:47:19.537Z"
   },
   {
    "duration": 22,
    "start_time": "2021-11-27T15:47:19.631Z"
   },
   {
    "duration": 15,
    "start_time": "2021-11-27T15:47:19.655Z"
   },
   {
    "duration": 77,
    "start_time": "2021-11-27T15:47:19.672Z"
   },
   {
    "duration": 7,
    "start_time": "2021-11-27T15:47:19.751Z"
   },
   {
    "duration": 28,
    "start_time": "2021-11-27T15:47:19.760Z"
   },
   {
    "duration": 233,
    "start_time": "2021-11-27T15:47:19.789Z"
   },
   {
    "duration": 237,
    "start_time": "2021-11-27T15:47:20.025Z"
   },
   {
    "duration": 8,
    "start_time": "2021-11-27T15:47:20.264Z"
   },
   {
    "duration": 21,
    "start_time": "2021-11-27T15:47:20.274Z"
   },
   {
    "duration": 504,
    "start_time": "2021-11-27T15:47:20.297Z"
   },
   {
    "duration": 8,
    "start_time": "2021-11-27T15:47:20.803Z"
   },
   {
    "duration": 9,
    "start_time": "2021-11-27T15:47:20.812Z"
   },
   {
    "duration": 13,
    "start_time": "2021-11-27T15:47:20.822Z"
   },
   {
    "duration": 5,
    "start_time": "2021-11-27T15:47:20.837Z"
   },
   {
    "duration": 2281,
    "start_time": "2021-11-27T15:47:20.843Z"
   },
   {
    "duration": 1672,
    "start_time": "2021-11-27T15:47:23.126Z"
   },
   {
    "duration": 640,
    "start_time": "2021-11-27T15:47:24.800Z"
   },
   {
    "duration": 4,
    "start_time": "2021-11-27T15:47:25.442Z"
   },
   {
    "duration": 27,
    "start_time": "2021-11-27T15:47:25.447Z"
   },
   {
    "duration": 711,
    "start_time": "2021-11-27T15:47:25.477Z"
   },
   {
    "duration": 147,
    "start_time": "2021-11-27T15:47:26.189Z"
   },
   {
    "duration": 36,
    "start_time": "2021-11-27T15:47:26.339Z"
   },
   {
    "duration": 12,
    "start_time": "2021-11-27T15:47:26.377Z"
   },
   {
    "duration": 9,
    "start_time": "2021-11-27T15:47:26.390Z"
   },
   {
    "duration": 9,
    "start_time": "2021-11-27T15:47:26.400Z"
   },
   {
    "duration": 12,
    "start_time": "2021-11-27T15:47:26.410Z"
   },
   {
    "duration": 6,
    "start_time": "2021-11-27T15:47:26.423Z"
   },
   {
    "duration": 4,
    "start_time": "2021-11-27T15:47:26.431Z"
   },
   {
    "duration": 23,
    "start_time": "2021-11-27T15:47:26.436Z"
   },
   {
    "duration": 5,
    "start_time": "2021-11-27T15:47:26.461Z"
   },
   {
    "duration": 5952,
    "start_time": "2021-11-27T15:47:26.468Z"
   },
   {
    "duration": 245,
    "start_time": "2021-11-27T15:47:38.655Z"
   },
   {
    "duration": 85,
    "start_time": "2021-11-27T15:47:46.030Z"
   },
   {
    "duration": 21,
    "start_time": "2021-11-27T15:47:46.117Z"
   },
   {
    "duration": 26,
    "start_time": "2021-11-27T15:47:46.141Z"
   },
   {
    "duration": 62,
    "start_time": "2021-11-27T15:47:46.169Z"
   },
   {
    "duration": 6,
    "start_time": "2021-11-27T15:47:46.233Z"
   },
   {
    "duration": 8,
    "start_time": "2021-11-27T15:47:46.240Z"
   },
   {
    "duration": 248,
    "start_time": "2021-11-27T15:47:46.250Z"
   },
   {
    "duration": 241,
    "start_time": "2021-11-27T15:47:46.500Z"
   },
   {
    "duration": 8,
    "start_time": "2021-11-27T15:47:46.744Z"
   },
   {
    "duration": 37,
    "start_time": "2021-11-27T15:47:46.754Z"
   },
   {
    "duration": 869,
    "start_time": "2021-11-27T15:47:46.792Z"
   },
   {
    "duration": 9,
    "start_time": "2021-11-27T15:47:47.662Z"
   },
   {
    "duration": 17,
    "start_time": "2021-11-27T15:47:47.672Z"
   },
   {
    "duration": 34,
    "start_time": "2021-11-27T15:47:47.690Z"
   },
   {
    "duration": 26,
    "start_time": "2021-11-27T15:47:47.726Z"
   },
   {
    "duration": 1979,
    "start_time": "2021-11-27T15:47:47.753Z"
   },
   {
    "duration": 1912,
    "start_time": "2021-11-27T15:47:49.734Z"
   },
   {
    "duration": 577,
    "start_time": "2021-11-27T15:47:51.648Z"
   },
   {
    "duration": 4,
    "start_time": "2021-11-27T15:47:52.227Z"
   },
   {
    "duration": 21,
    "start_time": "2021-11-27T15:47:52.232Z"
   },
   {
    "duration": 718,
    "start_time": "2021-11-27T15:47:52.254Z"
   },
   {
    "duration": 160,
    "start_time": "2021-11-27T15:47:52.974Z"
   },
   {
    "duration": 64,
    "start_time": "2021-11-27T15:47:53.136Z"
   },
   {
    "duration": 4,
    "start_time": "2021-11-27T15:47:53.202Z"
   },
   {
    "duration": 9,
    "start_time": "2021-11-27T15:47:53.208Z"
   },
   {
    "duration": 7,
    "start_time": "2021-11-27T15:47:53.219Z"
   },
   {
    "duration": 11,
    "start_time": "2021-11-27T15:47:53.230Z"
   },
   {
    "duration": 6,
    "start_time": "2021-11-27T15:47:53.243Z"
   },
   {
    "duration": 10,
    "start_time": "2021-11-27T15:47:53.251Z"
   },
   {
    "duration": 33,
    "start_time": "2021-11-27T15:47:53.262Z"
   },
   {
    "duration": 5,
    "start_time": "2021-11-27T15:47:53.297Z"
   },
   {
    "duration": 5731,
    "start_time": "2021-11-27T15:47:53.303Z"
   },
   {
    "duration": 250,
    "start_time": "2021-11-27T15:50:01.302Z"
   },
   {
    "duration": 88,
    "start_time": "2021-11-27T15:50:14.984Z"
   },
   {
    "duration": 26,
    "start_time": "2021-11-27T15:50:15.074Z"
   },
   {
    "duration": 18,
    "start_time": "2021-11-27T15:50:15.101Z"
   },
   {
    "duration": 70,
    "start_time": "2021-11-27T15:50:15.121Z"
   },
   {
    "duration": 6,
    "start_time": "2021-11-27T15:50:15.193Z"
   },
   {
    "duration": 13,
    "start_time": "2021-11-27T15:50:15.201Z"
   },
   {
    "duration": 235,
    "start_time": "2021-11-27T15:50:15.215Z"
   },
   {
    "duration": 310,
    "start_time": "2021-11-27T15:50:15.453Z"
   },
   {
    "duration": 11,
    "start_time": "2021-11-27T15:50:15.766Z"
   },
   {
    "duration": 17,
    "start_time": "2021-11-27T15:50:15.779Z"
   },
   {
    "duration": 540,
    "start_time": "2021-11-27T15:50:15.798Z"
   },
   {
    "duration": 8,
    "start_time": "2021-11-27T15:50:16.339Z"
   },
   {
    "duration": 12,
    "start_time": "2021-11-27T15:50:16.349Z"
   },
   {
    "duration": 17,
    "start_time": "2021-11-27T15:50:16.362Z"
   },
   {
    "duration": 8,
    "start_time": "2021-11-27T15:50:16.381Z"
   },
   {
    "duration": 2342,
    "start_time": "2021-11-27T15:50:16.391Z"
   },
   {
    "duration": 1572,
    "start_time": "2021-11-27T15:50:18.735Z"
   },
   {
    "duration": 606,
    "start_time": "2021-11-27T15:50:20.309Z"
   },
   {
    "duration": 4,
    "start_time": "2021-11-27T15:50:20.917Z"
   },
   {
    "duration": 15,
    "start_time": "2021-11-27T15:50:20.922Z"
   },
   {
    "duration": 718,
    "start_time": "2021-11-27T15:50:20.938Z"
   },
   {
    "duration": 146,
    "start_time": "2021-11-27T15:50:21.658Z"
   },
   {
    "duration": 59,
    "start_time": "2021-11-27T15:50:21.807Z"
   },
   {
    "duration": 3,
    "start_time": "2021-11-27T15:50:21.868Z"
   },
   {
    "duration": 3,
    "start_time": "2021-11-27T15:50:21.888Z"
   },
   {
    "duration": 21,
    "start_time": "2021-11-27T15:50:21.892Z"
   },
   {
    "duration": 15,
    "start_time": "2021-11-27T15:50:21.914Z"
   },
   {
    "duration": 10,
    "start_time": "2021-11-27T15:50:21.931Z"
   },
   {
    "duration": 19,
    "start_time": "2021-11-27T15:50:21.943Z"
   },
   {
    "duration": 25,
    "start_time": "2021-11-27T15:50:21.963Z"
   },
   {
    "duration": 6,
    "start_time": "2021-11-27T15:50:21.989Z"
   },
   {
    "duration": 252,
    "start_time": "2021-11-27T15:50:21.997Z"
   },
   {
    "duration": 299,
    "start_time": "2021-11-27T16:25:14.135Z"
   },
   {
    "duration": 85,
    "start_time": "2021-11-27T16:25:28.414Z"
   },
   {
    "duration": 21,
    "start_time": "2021-11-27T16:25:28.500Z"
   },
   {
    "duration": 10,
    "start_time": "2021-11-27T16:25:28.523Z"
   },
   {
    "duration": 77,
    "start_time": "2021-11-27T16:25:28.535Z"
   },
   {
    "duration": 5,
    "start_time": "2021-11-27T16:25:28.613Z"
   },
   {
    "duration": 7,
    "start_time": "2021-11-27T16:25:28.619Z"
   },
   {
    "duration": 231,
    "start_time": "2021-11-27T16:25:28.627Z"
   },
   {
    "duration": 234,
    "start_time": "2021-11-27T16:25:28.860Z"
   },
   {
    "duration": 8,
    "start_time": "2021-11-27T16:25:29.096Z"
   },
   {
    "duration": 10,
    "start_time": "2021-11-27T16:25:29.106Z"
   },
   {
    "duration": 934,
    "start_time": "2021-11-27T16:25:29.117Z"
   },
   {
    "duration": 9,
    "start_time": "2021-11-27T16:25:30.052Z"
   },
   {
    "duration": 7,
    "start_time": "2021-11-27T16:25:30.062Z"
   },
   {
    "duration": 26,
    "start_time": "2021-11-27T16:25:30.070Z"
   },
   {
    "duration": 9,
    "start_time": "2021-11-27T16:25:30.097Z"
   },
   {
    "duration": 2114,
    "start_time": "2021-11-27T16:25:30.108Z"
   },
   {
    "duration": 2006,
    "start_time": "2021-11-27T16:25:32.223Z"
   },
   {
    "duration": 591,
    "start_time": "2021-11-27T16:25:34.231Z"
   },
   {
    "duration": 3,
    "start_time": "2021-11-27T16:25:34.824Z"
   },
   {
    "duration": 18,
    "start_time": "2021-11-27T16:25:34.829Z"
   },
   {
    "duration": 731,
    "start_time": "2021-11-27T16:25:34.849Z"
   },
   {
    "duration": 145,
    "start_time": "2021-11-27T16:25:35.582Z"
   },
   {
    "duration": 12028,
    "start_time": "2021-11-27T16:25:35.730Z"
   },
   {
    "duration": 4,
    "start_time": "2021-11-27T16:25:47.761Z"
   },
   {
    "duration": 12,
    "start_time": "2021-11-27T16:25:47.766Z"
   },
   {
    "duration": 24,
    "start_time": "2021-11-27T16:25:47.780Z"
   },
   {
    "duration": 23,
    "start_time": "2021-11-27T16:25:47.806Z"
   },
   {
    "duration": 14,
    "start_time": "2021-11-27T16:25:47.830Z"
   },
   {
    "duration": 6,
    "start_time": "2021-11-27T16:25:47.846Z"
   },
   {
    "duration": 27,
    "start_time": "2021-11-27T16:25:47.854Z"
   },
   {
    "duration": 5,
    "start_time": "2021-11-27T16:25:47.882Z"
   },
   {
    "duration": 255,
    "start_time": "2021-11-27T16:25:47.889Z"
   },
   {
    "duration": 268,
    "start_time": "2021-11-27T16:26:37.297Z"
   },
   {
    "duration": 87,
    "start_time": "2021-11-27T16:26:56.215Z"
   },
   {
    "duration": 20,
    "start_time": "2021-11-27T16:26:56.304Z"
   },
   {
    "duration": 16,
    "start_time": "2021-11-27T16:26:56.325Z"
   },
   {
    "duration": 66,
    "start_time": "2021-11-27T16:26:56.342Z"
   },
   {
    "duration": 5,
    "start_time": "2021-11-27T16:26:56.410Z"
   },
   {
    "duration": 9,
    "start_time": "2021-11-27T16:26:56.417Z"
   },
   {
    "duration": 240,
    "start_time": "2021-11-27T16:26:56.427Z"
   },
   {
    "duration": 235,
    "start_time": "2021-11-27T16:26:56.670Z"
   },
   {
    "duration": 8,
    "start_time": "2021-11-27T16:26:56.907Z"
   },
   {
    "duration": 9,
    "start_time": "2021-11-27T16:26:56.917Z"
   },
   {
    "duration": 531,
    "start_time": "2021-11-27T16:26:56.928Z"
   },
   {
    "duration": 7,
    "start_time": "2021-11-27T16:26:57.461Z"
   },
   {
    "duration": 6,
    "start_time": "2021-11-27T16:26:57.470Z"
   },
   {
    "duration": 20,
    "start_time": "2021-11-27T16:26:57.477Z"
   },
   {
    "duration": 6,
    "start_time": "2021-11-27T16:26:57.498Z"
   },
   {
    "duration": 2213,
    "start_time": "2021-11-27T16:26:57.506Z"
   },
   {
    "duration": 2422,
    "start_time": "2021-11-27T16:26:59.720Z"
   },
   {
    "duration": 585,
    "start_time": "2021-11-27T16:27:02.144Z"
   },
   {
    "duration": 3,
    "start_time": "2021-11-27T16:27:02.731Z"
   },
   {
    "duration": 15,
    "start_time": "2021-11-27T16:27:02.735Z"
   },
   {
    "duration": 711,
    "start_time": "2021-11-27T16:27:02.751Z"
   },
   {
    "duration": 151,
    "start_time": "2021-11-27T16:27:03.464Z"
   },
   {
    "duration": 12280,
    "start_time": "2021-11-27T16:27:03.618Z"
   },
   {
    "duration": -634,
    "start_time": "2021-11-27T16:27:16.534Z"
   },
   {
    "duration": -639,
    "start_time": "2021-11-27T16:27:16.540Z"
   },
   {
    "duration": -640,
    "start_time": "2021-11-27T16:27:16.542Z"
   },
   {
    "duration": -693,
    "start_time": "2021-11-27T16:27:16.596Z"
   },
   {
    "duration": -696,
    "start_time": "2021-11-27T16:27:16.599Z"
   },
   {
    "duration": -697,
    "start_time": "2021-11-27T16:27:16.601Z"
   },
   {
    "duration": -699,
    "start_time": "2021-11-27T16:27:16.604Z"
   },
   {
    "duration": -701,
    "start_time": "2021-11-27T16:27:16.607Z"
   },
   {
    "duration": -706,
    "start_time": "2021-11-27T16:27:16.613Z"
   },
   {
    "duration": 281,
    "start_time": "2021-11-27T16:27:26.255Z"
   },
   {
    "duration": 88,
    "start_time": "2021-11-27T16:27:44.022Z"
   },
   {
    "duration": 23,
    "start_time": "2021-11-27T16:27:44.111Z"
   },
   {
    "duration": 23,
    "start_time": "2021-11-27T16:27:44.137Z"
   },
   {
    "duration": 63,
    "start_time": "2021-11-27T16:27:44.162Z"
   },
   {
    "duration": 6,
    "start_time": "2021-11-27T16:27:44.227Z"
   },
   {
    "duration": 8,
    "start_time": "2021-11-27T16:27:44.235Z"
   },
   {
    "duration": 243,
    "start_time": "2021-11-27T16:27:44.244Z"
   },
   {
    "duration": 242,
    "start_time": "2021-11-27T16:27:44.491Z"
   },
   {
    "duration": 8,
    "start_time": "2021-11-27T16:27:44.736Z"
   },
   {
    "duration": 11,
    "start_time": "2021-11-27T16:27:44.746Z"
   },
   {
    "duration": 504,
    "start_time": "2021-11-27T16:27:44.759Z"
   },
   {
    "duration": 8,
    "start_time": "2021-11-27T16:27:45.264Z"
   },
   {
    "duration": 15,
    "start_time": "2021-11-27T16:27:45.273Z"
   },
   {
    "duration": 10,
    "start_time": "2021-11-27T16:27:45.290Z"
   },
   {
    "duration": 9,
    "start_time": "2021-11-27T16:27:45.302Z"
   },
   {
    "duration": 2003,
    "start_time": "2021-11-27T16:27:45.312Z"
   },
   {
    "duration": 2028,
    "start_time": "2021-11-27T16:27:47.317Z"
   },
   {
    "duration": 594,
    "start_time": "2021-11-27T16:27:49.347Z"
   },
   {
    "duration": 3,
    "start_time": "2021-11-27T16:27:49.943Z"
   },
   {
    "duration": 16,
    "start_time": "2021-11-27T16:27:49.947Z"
   },
   {
    "duration": 727,
    "start_time": "2021-11-27T16:27:49.964Z"
   },
   {
    "duration": 142,
    "start_time": "2021-11-27T16:27:50.693Z"
   },
   {
    "duration": 12185,
    "start_time": "2021-11-27T16:27:50.838Z"
   },
   {
    "duration": 3,
    "start_time": "2021-11-27T16:28:03.025Z"
   },
   {
    "duration": 14,
    "start_time": "2021-11-27T16:28:03.030Z"
   },
   {
    "duration": 12,
    "start_time": "2021-11-27T16:28:03.045Z"
   },
   {
    "duration": 8,
    "start_time": "2021-11-27T16:28:03.058Z"
   },
   {
    "duration": 12,
    "start_time": "2021-11-27T16:28:03.067Z"
   },
   {
    "duration": 5,
    "start_time": "2021-11-27T16:28:03.080Z"
   },
   {
    "duration": 21,
    "start_time": "2021-11-27T16:28:03.087Z"
   },
   {
    "duration": 6,
    "start_time": "2021-11-27T16:28:03.109Z"
   },
   {
    "duration": 247,
    "start_time": "2021-11-27T16:28:03.116Z"
   },
   {
    "duration": 35,
    "start_time": "2021-11-27T16:28:49.857Z"
   },
   {
    "duration": 50,
    "start_time": "2021-11-27T16:29:02.134Z"
   },
   {
    "duration": 86,
    "start_time": "2021-11-27T16:30:33.135Z"
   },
   {
    "duration": 20,
    "start_time": "2021-11-27T16:30:33.223Z"
   },
   {
    "duration": 13,
    "start_time": "2021-11-27T16:30:33.245Z"
   },
   {
    "duration": 82,
    "start_time": "2021-11-27T16:30:33.260Z"
   },
   {
    "duration": 6,
    "start_time": "2021-11-27T16:30:33.343Z"
   },
   {
    "duration": 17,
    "start_time": "2021-11-27T16:30:33.350Z"
   },
   {
    "duration": 229,
    "start_time": "2021-11-27T16:30:33.368Z"
   },
   {
    "duration": 230,
    "start_time": "2021-11-27T16:30:33.598Z"
   },
   {
    "duration": 8,
    "start_time": "2021-11-27T16:30:33.830Z"
   },
   {
    "duration": 12,
    "start_time": "2021-11-27T16:30:33.840Z"
   },
   {
    "duration": 515,
    "start_time": "2021-11-27T16:30:33.853Z"
   },
   {
    "duration": 8,
    "start_time": "2021-11-27T16:30:34.369Z"
   },
   {
    "duration": 16,
    "start_time": "2021-11-27T16:30:34.378Z"
   },
   {
    "duration": 12,
    "start_time": "2021-11-27T16:30:34.395Z"
   },
   {
    "duration": 26,
    "start_time": "2021-11-27T16:30:34.408Z"
   },
   {
    "duration": 1995,
    "start_time": "2021-11-27T16:30:34.435Z"
   },
   {
    "duration": 2224,
    "start_time": "2021-11-27T16:30:36.432Z"
   },
   {
    "duration": 566,
    "start_time": "2021-11-27T16:30:38.658Z"
   },
   {
    "duration": 3,
    "start_time": "2021-11-27T16:30:39.226Z"
   },
   {
    "duration": 15,
    "start_time": "2021-11-27T16:30:39.230Z"
   },
   {
    "duration": 723,
    "start_time": "2021-11-27T16:30:39.246Z"
   },
   {
    "duration": 154,
    "start_time": "2021-11-27T16:30:39.970Z"
   },
   {
    "duration": 66,
    "start_time": "2021-11-27T16:30:40.126Z"
   },
   {
    "duration": 3,
    "start_time": "2021-11-27T16:30:40.194Z"
   },
   {
    "duration": 6,
    "start_time": "2021-11-27T16:30:40.199Z"
   },
   {
    "duration": 5,
    "start_time": "2021-11-27T16:30:40.206Z"
   },
   {
    "duration": 3,
    "start_time": "2021-11-27T16:30:40.214Z"
   },
   {
    "duration": 4,
    "start_time": "2021-11-27T16:30:40.219Z"
   },
   {
    "duration": 5,
    "start_time": "2021-11-27T16:30:40.224Z"
   },
   {
    "duration": 21,
    "start_time": "2021-11-27T16:30:40.231Z"
   },
   {
    "duration": 5,
    "start_time": "2021-11-27T16:30:40.254Z"
   },
   {
    "duration": 319,
    "start_time": "2021-11-27T16:30:40.260Z"
   },
   {
    "duration": 109,
    "start_time": "2021-11-27T16:32:04.816Z"
   },
   {
    "duration": 80,
    "start_time": "2021-11-27T16:32:20.784Z"
   },
   {
    "duration": 78,
    "start_time": "2021-11-27T16:32:37.182Z"
   },
   {
    "duration": 77,
    "start_time": "2021-11-27T16:32:44.906Z"
   },
   {
    "duration": 86,
    "start_time": "2021-11-27T16:32:50.617Z"
   },
   {
    "duration": 6161,
    "start_time": "2021-11-27T16:38:03.736Z"
   },
   {
    "duration": 5557,
    "start_time": "2021-11-27T16:38:13.618Z"
   },
   {
    "duration": 322,
    "start_time": "2021-11-27T16:38:30.695Z"
   },
   {
    "duration": 85,
    "start_time": "2021-11-27T16:38:40.145Z"
   },
   {
    "duration": 20,
    "start_time": "2021-11-27T16:38:40.232Z"
   },
   {
    "duration": 12,
    "start_time": "2021-11-27T16:38:40.254Z"
   },
   {
    "duration": 78,
    "start_time": "2021-11-27T16:38:40.268Z"
   },
   {
    "duration": 5,
    "start_time": "2021-11-27T16:38:40.348Z"
   },
   {
    "duration": 7,
    "start_time": "2021-11-27T16:38:40.355Z"
   },
   {
    "duration": 240,
    "start_time": "2021-11-27T16:38:40.364Z"
   },
   {
    "duration": 237,
    "start_time": "2021-11-27T16:38:40.607Z"
   },
   {
    "duration": 8,
    "start_time": "2021-11-27T16:38:40.846Z"
   },
   {
    "duration": 14,
    "start_time": "2021-11-27T16:38:40.855Z"
   },
   {
    "duration": 497,
    "start_time": "2021-11-27T16:38:40.870Z"
   },
   {
    "duration": 9,
    "start_time": "2021-11-27T16:38:41.368Z"
   },
   {
    "duration": 16,
    "start_time": "2021-11-27T16:38:41.378Z"
   },
   {
    "duration": 12,
    "start_time": "2021-11-27T16:38:41.395Z"
   },
   {
    "duration": 9,
    "start_time": "2021-11-27T16:38:41.408Z"
   },
   {
    "duration": 2006,
    "start_time": "2021-11-27T16:38:41.418Z"
   },
   {
    "duration": 2119,
    "start_time": "2021-11-27T16:38:43.426Z"
   },
   {
    "duration": 580,
    "start_time": "2021-11-27T16:38:45.546Z"
   },
   {
    "duration": 3,
    "start_time": "2021-11-27T16:38:46.128Z"
   },
   {
    "duration": 17,
    "start_time": "2021-11-27T16:38:46.133Z"
   },
   {
    "duration": 726,
    "start_time": "2021-11-27T16:38:46.152Z"
   },
   {
    "duration": 143,
    "start_time": "2021-11-27T16:38:46.887Z"
   },
   {
    "duration": 41,
    "start_time": "2021-11-27T16:38:47.034Z"
   },
   {
    "duration": 12,
    "start_time": "2021-11-27T16:38:47.077Z"
   },
   {
    "duration": 20,
    "start_time": "2021-11-27T16:38:47.091Z"
   },
   {
    "duration": 24,
    "start_time": "2021-11-27T16:38:47.112Z"
   },
   {
    "duration": 4,
    "start_time": "2021-11-27T16:38:47.138Z"
   },
   {
    "duration": 10,
    "start_time": "2021-11-27T16:38:47.144Z"
   },
   {
    "duration": 22,
    "start_time": "2021-11-27T16:38:47.155Z"
   },
   {
    "duration": 40,
    "start_time": "2021-11-27T16:38:47.179Z"
   },
   {
    "duration": 5,
    "start_time": "2021-11-27T16:38:47.221Z"
   },
   {
    "duration": 327,
    "start_time": "2021-11-27T16:38:47.227Z"
   },
   {
    "duration": 282,
    "start_time": "2021-11-27T16:39:56.623Z"
   },
   {
    "duration": 257,
    "start_time": "2021-11-27T16:43:46.895Z"
   },
   {
    "duration": 91,
    "start_time": "2021-11-27T16:43:54.735Z"
   },
   {
    "duration": 21,
    "start_time": "2021-11-27T16:43:54.828Z"
   },
   {
    "duration": 13,
    "start_time": "2021-11-27T16:43:54.851Z"
   },
   {
    "duration": 86,
    "start_time": "2021-11-27T16:43:54.866Z"
   },
   {
    "duration": 6,
    "start_time": "2021-11-27T16:43:54.954Z"
   },
   {
    "duration": 13,
    "start_time": "2021-11-27T16:43:54.962Z"
   },
   {
    "duration": 241,
    "start_time": "2021-11-27T16:43:54.988Z"
   },
   {
    "duration": 248,
    "start_time": "2021-11-27T16:43:55.232Z"
   },
   {
    "duration": 12,
    "start_time": "2021-11-27T16:43:55.482Z"
   },
   {
    "duration": 15,
    "start_time": "2021-11-27T16:43:55.496Z"
   },
   {
    "duration": 555,
    "start_time": "2021-11-27T16:43:55.512Z"
   },
   {
    "duration": 8,
    "start_time": "2021-11-27T16:43:56.069Z"
   },
   {
    "duration": 11,
    "start_time": "2021-11-27T16:43:56.078Z"
   },
   {
    "duration": 21,
    "start_time": "2021-11-27T16:43:56.090Z"
   },
   {
    "duration": 13,
    "start_time": "2021-11-27T16:43:56.113Z"
   },
   {
    "duration": 2097,
    "start_time": "2021-11-27T16:43:56.127Z"
   },
   {
    "duration": 1546,
    "start_time": "2021-11-27T16:43:58.226Z"
   },
   {
    "duration": 1271,
    "start_time": "2021-11-27T16:43:59.774Z"
   },
   {
    "duration": 3,
    "start_time": "2021-11-27T16:44:01.047Z"
   },
   {
    "duration": 17,
    "start_time": "2021-11-27T16:44:01.052Z"
   },
   {
    "duration": 759,
    "start_time": "2021-11-27T16:44:01.071Z"
   },
   {
    "duration": 147,
    "start_time": "2021-11-27T16:44:01.832Z"
   },
   {
    "duration": 50,
    "start_time": "2021-11-27T16:44:01.982Z"
   },
   {
    "duration": 5,
    "start_time": "2021-11-27T16:44:02.034Z"
   },
   {
    "duration": 10,
    "start_time": "2021-11-27T16:44:02.041Z"
   },
   {
    "duration": 8,
    "start_time": "2021-11-27T16:44:02.052Z"
   },
   {
    "duration": 8,
    "start_time": "2021-11-27T16:44:02.062Z"
   },
   {
    "duration": 6,
    "start_time": "2021-11-27T16:44:02.071Z"
   },
   {
    "duration": 9,
    "start_time": "2021-11-27T16:44:02.078Z"
   },
   {
    "duration": 23,
    "start_time": "2021-11-27T16:44:02.089Z"
   },
   {
    "duration": 5,
    "start_time": "2021-11-27T16:44:02.113Z"
   },
   {
    "duration": 246,
    "start_time": "2021-11-27T16:44:02.120Z"
   },
   {
    "duration": 335,
    "start_time": "2021-11-27T16:44:59.535Z"
   },
   {
    "duration": 85,
    "start_time": "2021-11-27T16:45:18.055Z"
   },
   {
    "duration": 20,
    "start_time": "2021-11-27T16:45:18.142Z"
   },
   {
    "duration": 24,
    "start_time": "2021-11-27T16:45:18.164Z"
   },
   {
    "duration": 82,
    "start_time": "2021-11-27T16:45:18.190Z"
   },
   {
    "duration": 5,
    "start_time": "2021-11-27T16:45:18.274Z"
   },
   {
    "duration": 17,
    "start_time": "2021-11-27T16:45:18.281Z"
   },
   {
    "duration": 226,
    "start_time": "2021-11-27T16:45:18.299Z"
   },
   {
    "duration": 237,
    "start_time": "2021-11-27T16:45:18.528Z"
   },
   {
    "duration": 8,
    "start_time": "2021-11-27T16:45:18.766Z"
   },
   {
    "duration": 10,
    "start_time": "2021-11-27T16:45:18.788Z"
   },
   {
    "duration": 553,
    "start_time": "2021-11-27T16:45:18.799Z"
   },
   {
    "duration": 8,
    "start_time": "2021-11-27T16:45:19.353Z"
   },
   {
    "duration": 20,
    "start_time": "2021-11-27T16:45:19.363Z"
   },
   {
    "duration": 18,
    "start_time": "2021-11-27T16:45:19.385Z"
   },
   {
    "duration": 10,
    "start_time": "2021-11-27T16:45:19.405Z"
   },
   {
    "duration": 2014,
    "start_time": "2021-11-27T16:45:19.417Z"
   },
   {
    "duration": 1569,
    "start_time": "2021-11-27T16:45:21.433Z"
   },
   {
    "duration": 621,
    "start_time": "2021-11-27T16:45:23.004Z"
   },
   {
    "duration": 3,
    "start_time": "2021-11-27T16:45:23.627Z"
   },
   {
    "duration": 24,
    "start_time": "2021-11-27T16:45:23.631Z"
   },
   {
    "duration": 714,
    "start_time": "2021-11-27T16:45:23.657Z"
   },
   {
    "duration": 156,
    "start_time": "2021-11-27T16:45:24.374Z"
   },
   {
    "duration": 10,
    "start_time": "2021-11-27T16:45:24.534Z"
   },
   {
    "duration": 4,
    "start_time": "2021-11-27T16:45:24.546Z"
   },
   {
    "duration": 5,
    "start_time": "2021-11-27T16:45:24.552Z"
   },
   {
    "duration": 17,
    "start_time": "2021-11-27T16:45:24.559Z"
   },
   {
    "duration": 15,
    "start_time": "2021-11-27T16:45:24.588Z"
   },
   {
    "duration": 6,
    "start_time": "2021-11-27T16:45:24.605Z"
   },
   {
    "duration": 9,
    "start_time": "2021-11-27T16:45:24.613Z"
   },
   {
    "duration": 34,
    "start_time": "2021-11-27T16:45:24.624Z"
   },
   {
    "duration": 6,
    "start_time": "2021-11-27T16:45:24.660Z"
   },
   {
    "duration": 249,
    "start_time": "2021-11-27T16:45:24.667Z"
   },
   {
    "duration": 9,
    "start_time": "2021-11-27T16:47:32.856Z"
   },
   {
    "duration": 235,
    "start_time": "2021-11-27T17:05:39.414Z"
   },
   {
    "duration": 8,
    "start_time": "2021-11-27T17:05:44.615Z"
   },
   {
    "duration": 10,
    "start_time": "2021-11-27T17:06:26.654Z"
   },
   {
    "duration": 6,
    "start_time": "2021-11-27T17:07:08.191Z"
   },
   {
    "duration": 8,
    "start_time": "2021-11-27T17:07:20.541Z"
   },
   {
    "duration": 88,
    "start_time": "2021-11-27T17:07:37.249Z"
   },
   {
    "duration": 19,
    "start_time": "2021-11-27T17:07:37.339Z"
   },
   {
    "duration": 12,
    "start_time": "2021-11-27T17:07:37.360Z"
   },
   {
    "duration": 73,
    "start_time": "2021-11-27T17:07:37.373Z"
   },
   {
    "duration": 6,
    "start_time": "2021-11-27T17:07:37.448Z"
   },
   {
    "duration": 7,
    "start_time": "2021-11-27T17:07:37.455Z"
   },
   {
    "duration": 264,
    "start_time": "2021-11-27T17:07:37.464Z"
   },
   {
    "duration": 244,
    "start_time": "2021-11-27T17:07:37.729Z"
   },
   {
    "duration": 12,
    "start_time": "2021-11-27T17:07:37.976Z"
   },
   {
    "duration": 9,
    "start_time": "2021-11-27T17:07:37.990Z"
   },
   {
    "duration": 612,
    "start_time": "2021-11-27T17:07:38.001Z"
   },
   {
    "duration": 8,
    "start_time": "2021-11-27T17:07:38.614Z"
   },
   {
    "duration": 16,
    "start_time": "2021-11-27T17:07:38.623Z"
   },
   {
    "duration": 11,
    "start_time": "2021-11-27T17:07:38.641Z"
   },
   {
    "duration": 4,
    "start_time": "2021-11-27T17:07:38.654Z"
   },
   {
    "duration": 2751,
    "start_time": "2021-11-27T17:07:38.659Z"
   },
   {
    "duration": 1795,
    "start_time": "2021-11-27T17:07:41.412Z"
   },
   {
    "duration": 595,
    "start_time": "2021-11-27T17:07:43.209Z"
   },
   {
    "duration": 3,
    "start_time": "2021-11-27T17:07:43.806Z"
   },
   {
    "duration": 22,
    "start_time": "2021-11-27T17:07:43.811Z"
   },
   {
    "duration": 761,
    "start_time": "2021-11-27T17:07:43.835Z"
   },
   {
    "duration": 141,
    "start_time": "2021-11-27T17:07:44.598Z"
   },
   {
    "duration": 9,
    "start_time": "2021-11-27T17:07:44.741Z"
   },
   {
    "duration": 4,
    "start_time": "2021-11-27T17:07:44.751Z"
   },
   {
    "duration": 7,
    "start_time": "2021-11-27T17:07:44.756Z"
   },
   {
    "duration": 8,
    "start_time": "2021-11-27T17:07:44.764Z"
   },
   {
    "duration": 4,
    "start_time": "2021-11-27T17:07:44.788Z"
   },
   {
    "duration": 6,
    "start_time": "2021-11-27T17:07:44.794Z"
   },
   {
    "duration": 6,
    "start_time": "2021-11-27T17:07:44.801Z"
   },
   {
    "duration": 22,
    "start_time": "2021-11-27T17:07:44.808Z"
   },
   {
    "duration": 7,
    "start_time": "2021-11-27T17:07:44.831Z"
   },
   {
    "duration": 19,
    "start_time": "2021-11-27T17:07:44.839Z"
   },
   {
    "duration": 10,
    "start_time": "2021-11-27T17:09:36.442Z"
   },
   {
    "duration": 9,
    "start_time": "2021-11-27T17:12:29.795Z"
   },
   {
    "duration": 81,
    "start_time": "2021-11-27T17:12:55.654Z"
   },
   {
    "duration": 8,
    "start_time": "2021-11-27T17:13:02.573Z"
   },
   {
    "duration": 8,
    "start_time": "2021-11-27T17:13:15.813Z"
   },
   {
    "duration": 91,
    "start_time": "2021-11-27T17:13:30.415Z"
   },
   {
    "duration": 21,
    "start_time": "2021-11-27T17:13:30.508Z"
   },
   {
    "duration": 25,
    "start_time": "2021-11-27T17:13:30.531Z"
   },
   {
    "duration": 72,
    "start_time": "2021-11-27T17:13:30.558Z"
   },
   {
    "duration": 6,
    "start_time": "2021-11-27T17:13:30.632Z"
   },
   {
    "duration": 26,
    "start_time": "2021-11-27T17:13:30.640Z"
   },
   {
    "duration": 238,
    "start_time": "2021-11-27T17:13:30.668Z"
   },
   {
    "duration": 247,
    "start_time": "2021-11-27T17:13:30.908Z"
   },
   {
    "duration": 7,
    "start_time": "2021-11-27T17:13:31.158Z"
   },
   {
    "duration": 28,
    "start_time": "2021-11-27T17:13:31.168Z"
   },
   {
    "duration": 504,
    "start_time": "2021-11-27T17:13:31.197Z"
   },
   {
    "duration": 8,
    "start_time": "2021-11-27T17:13:31.703Z"
   },
   {
    "duration": 7,
    "start_time": "2021-11-27T17:13:31.712Z"
   },
   {
    "duration": 13,
    "start_time": "2021-11-27T17:13:31.720Z"
   },
   {
    "duration": 5,
    "start_time": "2021-11-27T17:13:31.734Z"
   },
   {
    "duration": 1987,
    "start_time": "2021-11-27T17:13:31.740Z"
   },
   {
    "duration": 2587,
    "start_time": "2021-11-27T17:13:33.729Z"
   },
   {
    "duration": 624,
    "start_time": "2021-11-27T17:13:36.317Z"
   },
   {
    "duration": 3,
    "start_time": "2021-11-27T17:13:36.943Z"
   },
   {
    "duration": 16,
    "start_time": "2021-11-27T17:13:36.947Z"
   },
   {
    "duration": 729,
    "start_time": "2021-11-27T17:13:36.964Z"
   },
   {
    "duration": 153,
    "start_time": "2021-11-27T17:13:37.695Z"
   },
   {
    "duration": 9,
    "start_time": "2021-11-27T17:13:37.849Z"
   },
   {
    "duration": 3,
    "start_time": "2021-11-27T17:13:37.859Z"
   },
   {
    "duration": 24,
    "start_time": "2021-11-27T17:13:37.864Z"
   },
   {
    "duration": 3,
    "start_time": "2021-11-27T17:13:37.890Z"
   },
   {
    "duration": 6,
    "start_time": "2021-11-27T17:13:37.896Z"
   },
   {
    "duration": 11,
    "start_time": "2021-11-27T17:13:37.903Z"
   },
   {
    "duration": 5,
    "start_time": "2021-11-27T17:13:37.916Z"
   },
   {
    "duration": 4,
    "start_time": "2021-11-27T17:13:37.922Z"
   },
   {
    "duration": 26,
    "start_time": "2021-11-27T17:13:37.928Z"
   },
   {
    "duration": 5,
    "start_time": "2021-11-27T17:13:37.956Z"
   },
   {
    "duration": 275,
    "start_time": "2021-11-27T17:13:37.962Z"
   },
   {
    "duration": 10,
    "start_time": "2021-11-27T17:16:18.094Z"
   },
   {
    "duration": 3,
    "start_time": "2021-11-27T17:16:30.613Z"
   },
   {
    "duration": 6,
    "start_time": "2021-11-27T17:17:03.014Z"
   },
   {
    "duration": 12,
    "start_time": "2021-11-27T17:18:40.501Z"
   },
   {
    "duration": 15,
    "start_time": "2021-11-27T17:18:45.546Z"
   },
   {
    "duration": 90,
    "start_time": "2021-11-27T17:19:02.934Z"
   },
   {
    "duration": 22,
    "start_time": "2021-11-27T17:19:03.026Z"
   },
   {
    "duration": 17,
    "start_time": "2021-11-27T17:19:03.049Z"
   },
   {
    "duration": 77,
    "start_time": "2021-11-27T17:19:03.068Z"
   },
   {
    "duration": 5,
    "start_time": "2021-11-27T17:19:03.147Z"
   },
   {
    "duration": 17,
    "start_time": "2021-11-27T17:19:03.153Z"
   },
   {
    "duration": 231,
    "start_time": "2021-11-27T17:19:03.171Z"
   },
   {
    "duration": 232,
    "start_time": "2021-11-27T17:19:03.404Z"
   },
   {
    "duration": 7,
    "start_time": "2021-11-27T17:19:03.638Z"
   },
   {
    "duration": 10,
    "start_time": "2021-11-27T17:19:03.647Z"
   },
   {
    "duration": 602,
    "start_time": "2021-11-27T17:19:03.659Z"
   },
   {
    "duration": 8,
    "start_time": "2021-11-27T17:19:04.263Z"
   },
   {
    "duration": 16,
    "start_time": "2021-11-27T17:19:04.272Z"
   },
   {
    "duration": 12,
    "start_time": "2021-11-27T17:19:04.289Z"
   },
   {
    "duration": 5,
    "start_time": "2021-11-27T17:19:04.302Z"
   },
   {
    "duration": 2045,
    "start_time": "2021-11-27T17:19:04.308Z"
   },
   {
    "duration": 1591,
    "start_time": "2021-11-27T17:19:06.355Z"
   },
   {
    "duration": 574,
    "start_time": "2021-11-27T17:19:07.948Z"
   },
   {
    "duration": 3,
    "start_time": "2021-11-27T17:19:08.523Z"
   },
   {
    "duration": 16,
    "start_time": "2021-11-27T17:19:08.528Z"
   },
   {
    "duration": 823,
    "start_time": "2021-11-27T17:19:08.545Z"
   },
   {
    "duration": 188,
    "start_time": "2021-11-27T17:19:09.369Z"
   },
   {
    "duration": 11,
    "start_time": "2021-11-27T17:19:09.561Z"
   },
   {
    "duration": 14,
    "start_time": "2021-11-27T17:19:09.574Z"
   },
   {
    "duration": 9,
    "start_time": "2021-11-27T17:19:09.589Z"
   },
   {
    "duration": 3,
    "start_time": "2021-11-27T17:19:09.600Z"
   },
   {
    "duration": 21,
    "start_time": "2021-11-27T17:19:09.605Z"
   },
   {
    "duration": 4,
    "start_time": "2021-11-27T17:19:09.627Z"
   },
   {
    "duration": 7,
    "start_time": "2021-11-27T17:19:09.632Z"
   },
   {
    "duration": 4,
    "start_time": "2021-11-27T17:19:09.640Z"
   },
   {
    "duration": 6,
    "start_time": "2021-11-27T17:19:09.646Z"
   },
   {
    "duration": 49,
    "start_time": "2021-11-27T17:19:09.653Z"
   },
   {
    "duration": 5,
    "start_time": "2021-11-27T17:19:09.703Z"
   },
   {
    "duration": 257,
    "start_time": "2021-11-27T17:19:09.709Z"
   },
   {
    "duration": 18,
    "start_time": "2021-11-27T17:20:32.733Z"
   },
   {
    "duration": 17,
    "start_time": "2021-11-27T17:21:12.614Z"
   },
   {
    "duration": 13,
    "start_time": "2021-11-27T17:21:53.501Z"
   },
   {
    "duration": 243,
    "start_time": "2021-11-27T17:23:03.133Z"
   },
   {
    "duration": 11,
    "start_time": "2021-11-27T17:23:21.374Z"
   },
   {
    "duration": 84,
    "start_time": "2021-11-27T17:23:57.493Z"
   },
   {
    "duration": 20,
    "start_time": "2021-11-27T17:23:57.579Z"
   },
   {
    "duration": 11,
    "start_time": "2021-11-27T17:23:57.600Z"
   },
   {
    "duration": 77,
    "start_time": "2021-11-27T17:23:57.613Z"
   },
   {
    "duration": 5,
    "start_time": "2021-11-27T17:23:57.691Z"
   },
   {
    "duration": 8,
    "start_time": "2021-11-27T17:23:57.697Z"
   },
   {
    "duration": 233,
    "start_time": "2021-11-27T17:23:57.706Z"
   },
   {
    "duration": 235,
    "start_time": "2021-11-27T17:23:57.940Z"
   },
   {
    "duration": 12,
    "start_time": "2021-11-27T17:23:58.177Z"
   },
   {
    "duration": 9,
    "start_time": "2021-11-27T17:23:58.191Z"
   },
   {
    "duration": 509,
    "start_time": "2021-11-27T17:23:58.202Z"
   },
   {
    "duration": 8,
    "start_time": "2021-11-27T17:23:58.712Z"
   },
   {
    "duration": 7,
    "start_time": "2021-11-27T17:23:58.721Z"
   },
   {
    "duration": 12,
    "start_time": "2021-11-27T17:23:58.729Z"
   },
   {
    "duration": 4,
    "start_time": "2021-11-27T17:23:58.743Z"
   },
   {
    "duration": 2910,
    "start_time": "2021-11-27T17:23:58.749Z"
   },
   {
    "duration": 1705,
    "start_time": "2021-11-27T17:24:01.661Z"
   },
   {
    "duration": 574,
    "start_time": "2021-11-27T17:24:03.368Z"
   },
   {
    "duration": 4,
    "start_time": "2021-11-27T17:24:03.944Z"
   },
   {
    "duration": 25,
    "start_time": "2021-11-27T17:24:03.949Z"
   },
   {
    "duration": 766,
    "start_time": "2021-11-27T17:24:03.976Z"
   },
   {
    "duration": 165,
    "start_time": "2021-11-27T17:24:04.744Z"
   },
   {
    "duration": 9,
    "start_time": "2021-11-27T17:24:04.911Z"
   },
   {
    "duration": 8,
    "start_time": "2021-11-27T17:24:04.921Z"
   },
   {
    "duration": 10,
    "start_time": "2021-11-27T17:24:04.930Z"
   },
   {
    "duration": 6,
    "start_time": "2021-11-27T17:24:04.942Z"
   },
   {
    "duration": 25,
    "start_time": "2021-11-27T17:24:04.952Z"
   },
   {
    "duration": 2,
    "start_time": "2021-11-27T17:24:04.978Z"
   },
   {
    "duration": 6,
    "start_time": "2021-11-27T17:24:04.982Z"
   },
   {
    "duration": 13,
    "start_time": "2021-11-27T17:24:04.989Z"
   },
   {
    "duration": 10,
    "start_time": "2021-11-27T17:24:05.003Z"
   },
   {
    "duration": 24,
    "start_time": "2021-11-27T17:24:05.014Z"
   },
   {
    "duration": 5,
    "start_time": "2021-11-27T17:24:05.040Z"
   },
   {
    "duration": 304,
    "start_time": "2021-11-27T17:24:05.046Z"
   },
   {
    "duration": 5,
    "start_time": "2021-11-27T17:25:20.574Z"
   },
   {
    "duration": 11,
    "start_time": "2021-11-27T17:27:49.578Z"
   },
   {
    "duration": 226,
    "start_time": "2021-11-27T17:28:57.255Z"
   },
   {
    "duration": 8,
    "start_time": "2021-11-27T17:29:03.815Z"
   },
   {
    "duration": 5,
    "start_time": "2021-11-27T17:31:34.335Z"
   },
   {
    "duration": 88,
    "start_time": "2021-11-27T17:37:19.976Z"
   },
   {
    "duration": 20,
    "start_time": "2021-11-27T17:37:20.065Z"
   },
   {
    "duration": 22,
    "start_time": "2021-11-27T17:37:20.088Z"
   },
   {
    "duration": 78,
    "start_time": "2021-11-27T17:37:20.112Z"
   },
   {
    "duration": 5,
    "start_time": "2021-11-27T17:37:20.192Z"
   },
   {
    "duration": 15,
    "start_time": "2021-11-27T17:37:20.198Z"
   },
   {
    "duration": 238,
    "start_time": "2021-11-27T17:37:20.214Z"
   },
   {
    "duration": 242,
    "start_time": "2021-11-27T17:37:20.454Z"
   },
   {
    "duration": 7,
    "start_time": "2021-11-27T17:37:20.699Z"
   },
   {
    "duration": 10,
    "start_time": "2021-11-27T17:37:20.708Z"
   },
   {
    "duration": 531,
    "start_time": "2021-11-27T17:37:20.720Z"
   },
   {
    "duration": 8,
    "start_time": "2021-11-27T17:37:21.252Z"
   },
   {
    "duration": 35,
    "start_time": "2021-11-27T17:37:21.261Z"
   },
   {
    "duration": 25,
    "start_time": "2021-11-27T17:37:21.297Z"
   },
   {
    "duration": 15,
    "start_time": "2021-11-27T17:37:21.323Z"
   },
   {
    "duration": 2108,
    "start_time": "2021-11-27T17:37:21.340Z"
   },
   {
    "duration": 1565,
    "start_time": "2021-11-27T17:37:23.450Z"
   },
   {
    "duration": 648,
    "start_time": "2021-11-27T17:37:25.016Z"
   },
   {
    "duration": 4,
    "start_time": "2021-11-27T17:37:25.666Z"
   },
   {
    "duration": 26,
    "start_time": "2021-11-27T17:37:25.672Z"
   },
   {
    "duration": 721,
    "start_time": "2021-11-27T17:37:25.699Z"
   },
   {
    "duration": 143,
    "start_time": "2021-11-27T17:37:26.422Z"
   },
   {
    "duration": 9,
    "start_time": "2021-11-27T17:37:26.566Z"
   },
   {
    "duration": 12,
    "start_time": "2021-11-27T17:37:26.577Z"
   },
   {
    "duration": 7,
    "start_time": "2021-11-27T17:37:26.590Z"
   },
   {
    "duration": 5,
    "start_time": "2021-11-27T17:37:26.599Z"
   },
   {
    "duration": 21,
    "start_time": "2021-11-27T17:37:26.607Z"
   },
   {
    "duration": 5,
    "start_time": "2021-11-27T17:37:26.629Z"
   },
   {
    "duration": 255,
    "start_time": "2021-11-27T17:37:26.635Z"
   },
   {
    "duration": 232,
    "start_time": "2021-11-27T17:41:45.653Z"
   },
   {
    "duration": 3098,
    "start_time": "2021-11-27T17:45:00.703Z"
   },
   {
    "duration": 1992,
    "start_time": "2021-11-27T17:47:29.865Z"
   },
   {
    "duration": 2008,
    "start_time": "2021-11-27T17:49:19.615Z"
   },
   {
    "duration": 2117,
    "start_time": "2021-11-27T17:49:28.295Z"
   },
   {
    "duration": 3078,
    "start_time": "2021-11-27T17:50:26.574Z"
   },
   {
    "duration": 84,
    "start_time": "2021-11-27T17:52:43.702Z"
   },
   {
    "duration": 6,
    "start_time": "2021-11-27T17:54:03.126Z"
   },
   {
    "duration": 1682,
    "start_time": "2021-11-27T17:55:06.334Z"
   },
   {
    "duration": 594,
    "start_time": "2021-11-27T17:55:49.933Z"
   },
   {
    "duration": 281,
    "start_time": "2021-11-27T17:56:03.173Z"
   },
   {
    "duration": 152,
    "start_time": "2021-11-27T17:56:23.375Z"
   },
   {
    "duration": 163,
    "start_time": "2021-11-27T17:57:21.055Z"
   },
   {
    "duration": 180,
    "start_time": "2021-11-27T17:57:54.302Z"
   },
   {
    "duration": 5,
    "start_time": "2021-11-27T18:06:35.496Z"
   },
   {
    "duration": 69,
    "start_time": "2021-11-27T18:10:04.457Z"
   },
   {
    "duration": 21,
    "start_time": "2021-11-27T18:10:04.528Z"
   },
   {
    "duration": 11,
    "start_time": "2021-11-27T18:10:04.551Z"
   },
   {
    "duration": 62,
    "start_time": "2021-11-27T18:10:04.588Z"
   },
   {
    "duration": 5,
    "start_time": "2021-11-27T18:10:04.651Z"
   },
   {
    "duration": 7,
    "start_time": "2021-11-27T18:10:04.658Z"
   },
   {
    "duration": 229,
    "start_time": "2021-11-27T18:10:04.688Z"
   },
   {
    "duration": 227,
    "start_time": "2021-11-27T18:10:04.919Z"
   },
   {
    "duration": 8,
    "start_time": "2021-11-27T18:10:05.148Z"
   },
   {
    "duration": 34,
    "start_time": "2021-11-27T18:10:05.157Z"
   },
   {
    "duration": 450,
    "start_time": "2021-11-27T18:10:05.193Z"
   },
   {
    "duration": 8,
    "start_time": "2021-11-27T18:10:05.645Z"
   },
   {
    "duration": 35,
    "start_time": "2021-11-27T18:10:05.655Z"
   },
   {
    "duration": 36,
    "start_time": "2021-11-27T18:10:05.691Z"
   },
   {
    "duration": 9,
    "start_time": "2021-11-27T18:10:05.728Z"
   },
   {
    "duration": 1981,
    "start_time": "2021-11-27T18:10:05.738Z"
   },
   {
    "duration": 1546,
    "start_time": "2021-11-27T18:10:07.720Z"
   },
   {
    "duration": 611,
    "start_time": "2021-11-27T18:10:09.267Z"
   },
   {
    "duration": 7,
    "start_time": "2021-11-27T18:10:09.880Z"
   },
   {
    "duration": 29,
    "start_time": "2021-11-27T18:10:09.889Z"
   },
   {
    "duration": 734,
    "start_time": "2021-11-27T18:10:09.919Z"
   },
   {
    "duration": 146,
    "start_time": "2021-11-27T18:10:10.655Z"
   },
   {
    "duration": 8,
    "start_time": "2021-11-27T18:10:10.804Z"
   },
   {
    "duration": 4,
    "start_time": "2021-11-27T18:10:10.813Z"
   },
   {
    "duration": 7,
    "start_time": "2021-11-27T18:10:10.819Z"
   },
   {
    "duration": 194,
    "start_time": "2021-11-27T18:10:10.827Z"
   },
   {
    "duration": 5,
    "start_time": "2021-11-27T18:10:11.024Z"
   },
   {
    "duration": 20,
    "start_time": "2021-11-27T18:10:11.031Z"
   },
   {
    "duration": 6,
    "start_time": "2021-11-27T18:10:11.053Z"
   },
   {
    "duration": 43,
    "start_time": "2021-11-27T18:10:11.060Z"
   },
   {
    "duration": 27,
    "start_time": "2021-11-27T18:11:18.577Z"
   },
   {
    "duration": 283,
    "start_time": "2021-11-27T18:15:46.174Z"
   },
   {
    "duration": 297,
    "start_time": "2021-11-27T18:16:05.214Z"
   },
   {
    "duration": 280,
    "start_time": "2021-11-27T18:16:17.213Z"
   },
   {
    "duration": 1460,
    "start_time": "2021-11-27T18:17:29.894Z"
   },
   {
    "duration": 284,
    "start_time": "2021-11-27T18:17:53.734Z"
   },
   {
    "duration": 288,
    "start_time": "2021-11-27T18:18:07.262Z"
   },
   {
    "duration": 6154,
    "start_time": "2021-11-27T18:18:36.418Z"
   },
   {
    "duration": 298,
    "start_time": "2021-11-27T18:21:36.656Z"
   },
   {
    "duration": 5254,
    "start_time": "2021-11-27T18:21:59.935Z"
   },
   {
    "duration": 4704,
    "start_time": "2021-11-27T18:22:47.095Z"
   },
   {
    "duration": 4545,
    "start_time": "2021-11-27T18:23:04.144Z"
   },
   {
    "duration": 282,
    "start_time": "2021-11-27T18:28:26.014Z"
   },
   {
    "duration": 514,
    "start_time": "2021-11-27T18:29:28.855Z"
   },
   {
    "duration": 508,
    "start_time": "2021-11-27T18:29:43.694Z"
   },
   {
    "duration": 283,
    "start_time": "2021-11-27T18:30:02.735Z"
   },
   {
    "duration": 277,
    "start_time": "2021-11-27T18:30:19.736Z"
   },
   {
    "duration": 293,
    "start_time": "2021-11-27T18:30:54.894Z"
   },
   {
    "duration": 278,
    "start_time": "2021-11-27T18:33:59.616Z"
   },
   {
    "duration": 753,
    "start_time": "2021-11-27T18:38:05.734Z"
   },
   {
    "duration": 729,
    "start_time": "2021-11-27T18:39:46.975Z"
   },
   {
    "duration": 285,
    "start_time": "2021-11-27T18:40:58.174Z"
   },
   {
    "duration": 283,
    "start_time": "2021-11-27T18:41:40.610Z"
   },
   {
    "duration": 713,
    "start_time": "2021-11-27T18:42:44.815Z"
   },
   {
    "duration": 748,
    "start_time": "2021-11-27T18:43:36.851Z"
   },
   {
    "duration": 718,
    "start_time": "2021-11-27T18:44:49.741Z"
   },
   {
    "duration": 974,
    "start_time": "2021-11-27T18:46:59.454Z"
   },
   {
    "duration": 876,
    "start_time": "2021-11-27T18:47:18.614Z"
   },
   {
    "duration": 1029,
    "start_time": "2021-11-27T18:48:22.062Z"
   },
   {
    "duration": 738,
    "start_time": "2021-11-27T18:48:40.535Z"
   },
   {
    "duration": 788,
    "start_time": "2021-11-27T18:49:30.174Z"
   },
   {
    "duration": 727,
    "start_time": "2021-11-27T18:49:44.654Z"
   },
   {
    "duration": -772,
    "start_time": "2021-11-27T18:51:32.601Z"
   },
   {
    "duration": 723,
    "start_time": "2021-11-27T18:51:47.414Z"
   },
   {
    "duration": 72,
    "start_time": "2021-11-27T18:56:50.775Z"
   },
   {
    "duration": 78,
    "start_time": "2021-11-27T18:56:56.343Z"
   },
   {
    "duration": 735,
    "start_time": "2021-11-27T18:57:00.255Z"
   },
   {
    "duration": 754,
    "start_time": "2021-11-27T18:57:07.742Z"
   },
   {
    "duration": 293,
    "start_time": "2021-11-27T19:00:22.382Z"
   },
   {
    "duration": 507,
    "start_time": "2021-11-27T19:01:39.415Z"
   },
   {
    "duration": 6,
    "start_time": "2021-11-27T19:05:13.654Z"
   },
   {
    "duration": 5,
    "start_time": "2021-11-27T19:05:17.894Z"
   },
   {
    "duration": 11,
    "start_time": "2021-11-27T19:05:30.294Z"
   },
   {
    "duration": 11,
    "start_time": "2021-11-27T19:05:48.573Z"
   },
   {
    "duration": 311,
    "start_time": "2021-11-27T19:06:49.494Z"
   },
   {
    "duration": 65,
    "start_time": "2021-11-27T19:07:52.496Z"
   },
   {
    "duration": 22,
    "start_time": "2021-11-27T19:07:52.563Z"
   },
   {
    "duration": 13,
    "start_time": "2021-11-27T19:07:52.588Z"
   },
   {
    "duration": 84,
    "start_time": "2021-11-27T19:07:52.604Z"
   },
   {
    "duration": 7,
    "start_time": "2021-11-27T19:07:52.690Z"
   },
   {
    "duration": 8,
    "start_time": "2021-11-27T19:07:52.698Z"
   },
   {
    "duration": 253,
    "start_time": "2021-11-27T19:07:52.708Z"
   },
   {
    "duration": 239,
    "start_time": "2021-11-27T19:07:52.963Z"
   },
   {
    "duration": 8,
    "start_time": "2021-11-27T19:07:53.206Z"
   },
   {
    "duration": 11,
    "start_time": "2021-11-27T19:07:53.217Z"
   },
   {
    "duration": 485,
    "start_time": "2021-11-27T19:07:53.229Z"
   },
   {
    "duration": 8,
    "start_time": "2021-11-27T19:07:53.715Z"
   },
   {
    "duration": 7,
    "start_time": "2021-11-27T19:07:53.724Z"
   },
   {
    "duration": 11,
    "start_time": "2021-11-27T19:07:53.732Z"
   },
   {
    "duration": 4,
    "start_time": "2021-11-27T19:07:53.745Z"
   },
   {
    "duration": 2177,
    "start_time": "2021-11-27T19:07:53.750Z"
   },
   {
    "duration": 1549,
    "start_time": "2021-11-27T19:07:55.929Z"
   },
   {
    "duration": 563,
    "start_time": "2021-11-27T19:07:57.479Z"
   },
   {
    "duration": 3,
    "start_time": "2021-11-27T19:07:58.044Z"
   },
   {
    "duration": 16,
    "start_time": "2021-11-27T19:07:58.049Z"
   },
   {
    "duration": 726,
    "start_time": "2021-11-27T19:07:58.067Z"
   },
   {
    "duration": 142,
    "start_time": "2021-11-27T19:07:58.796Z"
   },
   {
    "duration": 10,
    "start_time": "2021-11-27T19:07:58.940Z"
   },
   {
    "duration": 3,
    "start_time": "2021-11-27T19:07:58.952Z"
   },
   {
    "duration": 9,
    "start_time": "2021-11-27T19:07:58.957Z"
   },
   {
    "duration": 176,
    "start_time": "2021-11-27T19:07:58.987Z"
   },
   {
    "duration": 4,
    "start_time": "2021-11-27T19:07:59.168Z"
   },
   {
    "duration": 30,
    "start_time": "2021-11-27T19:07:59.174Z"
   },
   {
    "duration": 6,
    "start_time": "2021-11-27T19:07:59.206Z"
   },
   {
    "duration": 336,
    "start_time": "2021-11-27T19:07:59.214Z"
   },
   {
    "duration": 10,
    "start_time": "2021-11-27T19:07:59.552Z"
   },
   {
    "duration": 51,
    "start_time": "2021-11-27T19:07:59.564Z"
   },
   {
    "duration": 7,
    "start_time": "2021-11-27T19:10:20.054Z"
   },
   {
    "duration": 76,
    "start_time": "2021-11-27T19:10:33.936Z"
   },
   {
    "duration": 20,
    "start_time": "2021-11-27T19:10:34.014Z"
   },
   {
    "duration": 18,
    "start_time": "2021-11-27T19:10:34.036Z"
   },
   {
    "duration": 73,
    "start_time": "2021-11-27T19:10:34.056Z"
   },
   {
    "duration": 5,
    "start_time": "2021-11-27T19:10:34.131Z"
   },
   {
    "duration": 8,
    "start_time": "2021-11-27T19:10:34.137Z"
   },
   {
    "duration": 236,
    "start_time": "2021-11-27T19:10:34.146Z"
   },
   {
    "duration": 242,
    "start_time": "2021-11-27T19:10:34.388Z"
   },
   {
    "duration": 8,
    "start_time": "2021-11-27T19:10:34.632Z"
   },
   {
    "duration": 10,
    "start_time": "2021-11-27T19:10:34.642Z"
   },
   {
    "duration": 498,
    "start_time": "2021-11-27T19:10:34.653Z"
   },
   {
    "duration": 8,
    "start_time": "2021-11-27T19:10:35.153Z"
   },
   {
    "duration": 19,
    "start_time": "2021-11-27T19:10:35.162Z"
   },
   {
    "duration": 18,
    "start_time": "2021-11-27T19:10:35.182Z"
   },
   {
    "duration": 6,
    "start_time": "2021-11-27T19:10:35.201Z"
   },
   {
    "duration": 2191,
    "start_time": "2021-11-27T19:10:35.208Z"
   },
   {
    "duration": 2761,
    "start_time": "2021-11-27T19:10:37.400Z"
   },
   {
    "duration": 587,
    "start_time": "2021-11-27T19:10:40.163Z"
   },
   {
    "duration": 3,
    "start_time": "2021-11-27T19:10:40.752Z"
   },
   {
    "duration": 15,
    "start_time": "2021-11-27T19:10:40.757Z"
   },
   {
    "duration": 831,
    "start_time": "2021-11-27T19:10:40.774Z"
   },
   {
    "duration": 144,
    "start_time": "2021-11-27T19:10:41.607Z"
   },
   {
    "duration": 10,
    "start_time": "2021-11-27T19:10:41.753Z"
   },
   {
    "duration": 23,
    "start_time": "2021-11-27T19:10:41.764Z"
   },
   {
    "duration": 7,
    "start_time": "2021-11-27T19:10:41.789Z"
   },
   {
    "duration": 192,
    "start_time": "2021-11-27T19:10:41.798Z"
   },
   {
    "duration": 5,
    "start_time": "2021-11-27T19:10:41.994Z"
   },
   {
    "duration": 21,
    "start_time": "2021-11-27T19:10:42.000Z"
   },
   {
    "duration": 6,
    "start_time": "2021-11-27T19:10:42.022Z"
   },
   {
    "duration": 328,
    "start_time": "2021-11-27T19:10:42.029Z"
   },
   {
    "duration": 10,
    "start_time": "2021-11-27T19:10:42.359Z"
   },
   {
    "duration": 46,
    "start_time": "2021-11-27T19:10:42.371Z"
   },
   {
    "duration": 309,
    "start_time": "2021-11-27T19:11:31.255Z"
   },
   {
    "duration": 342,
    "start_time": "2021-11-27T19:12:51.175Z"
   },
   {
    "duration": 306,
    "start_time": "2021-11-27T19:13:06.976Z"
   },
   {
    "duration": 315,
    "start_time": "2021-11-27T19:13:52.415Z"
   },
   {
    "duration": 306,
    "start_time": "2021-11-27T19:14:31.695Z"
   },
   {
    "duration": 311,
    "start_time": "2021-11-27T19:15:31.257Z"
   },
   {
    "duration": 78,
    "start_time": "2021-11-27T19:17:31.796Z"
   },
   {
    "duration": 20,
    "start_time": "2021-11-27T19:17:31.875Z"
   },
   {
    "duration": 12,
    "start_time": "2021-11-27T19:17:31.897Z"
   },
   {
    "duration": 60,
    "start_time": "2021-11-27T19:17:31.911Z"
   },
   {
    "duration": 19,
    "start_time": "2021-11-27T19:17:31.973Z"
   },
   {
    "duration": 14,
    "start_time": "2021-11-27T19:17:31.993Z"
   },
   {
    "duration": 219,
    "start_time": "2021-11-27T19:17:32.009Z"
   },
   {
    "duration": 273,
    "start_time": "2021-11-27T19:17:32.230Z"
   },
   {
    "duration": 8,
    "start_time": "2021-11-27T19:17:32.506Z"
   },
   {
    "duration": 11,
    "start_time": "2021-11-27T19:17:32.517Z"
   },
   {
    "duration": 523,
    "start_time": "2021-11-27T19:17:32.529Z"
   },
   {
    "duration": 8,
    "start_time": "2021-11-27T19:17:33.054Z"
   },
   {
    "duration": 14,
    "start_time": "2021-11-27T19:17:33.064Z"
   },
   {
    "duration": 17,
    "start_time": "2021-11-27T19:17:33.079Z"
   },
   {
    "duration": 4,
    "start_time": "2021-11-27T19:17:33.098Z"
   },
   {
    "duration": 2014,
    "start_time": "2021-11-27T19:17:33.104Z"
   },
   {
    "duration": 1692,
    "start_time": "2021-11-27T19:17:35.120Z"
   },
   {
    "duration": 616,
    "start_time": "2021-11-27T19:17:36.814Z"
   },
   {
    "duration": 4,
    "start_time": "2021-11-27T19:17:37.431Z"
   },
   {
    "duration": 15,
    "start_time": "2021-11-27T19:17:37.436Z"
   },
   {
    "duration": 740,
    "start_time": "2021-11-27T19:17:37.453Z"
   },
   {
    "duration": 144,
    "start_time": "2021-11-27T19:17:38.195Z"
   },
   {
    "duration": 10,
    "start_time": "2021-11-27T19:17:38.341Z"
   },
   {
    "duration": 5,
    "start_time": "2021-11-27T19:17:38.352Z"
   },
   {
    "duration": 6,
    "start_time": "2021-11-27T19:17:38.359Z"
   },
   {
    "duration": 185,
    "start_time": "2021-11-27T19:17:38.366Z"
   },
   {
    "duration": 5,
    "start_time": "2021-11-27T19:17:38.555Z"
   },
   {
    "duration": 33,
    "start_time": "2021-11-27T19:17:38.561Z"
   },
   {
    "duration": 5,
    "start_time": "2021-11-27T19:17:38.595Z"
   },
   {
    "duration": 310,
    "start_time": "2021-11-27T19:17:38.601Z"
   },
   {
    "duration": 10,
    "start_time": "2021-11-27T19:17:38.912Z"
   },
   {
    "duration": 32,
    "start_time": "2021-11-27T19:17:38.924Z"
   },
   {
    "duration": 14,
    "start_time": "2021-11-27T19:18:11.818Z"
   },
   {
    "duration": 17,
    "start_time": "2021-11-27T19:19:14.983Z"
   },
   {
    "duration": 8,
    "start_time": "2021-11-27T19:19:35.556Z"
   },
   {
    "duration": 11,
    "start_time": "2021-11-27T19:19:49.655Z"
   },
   {
    "duration": 18,
    "start_time": "2021-11-27T19:20:08.215Z"
   },
   {
    "duration": 76,
    "start_time": "2021-11-27T19:20:15.494Z"
   },
   {
    "duration": 24,
    "start_time": "2021-11-27T19:20:15.572Z"
   },
   {
    "duration": 12,
    "start_time": "2021-11-27T19:20:15.598Z"
   },
   {
    "duration": 78,
    "start_time": "2021-11-27T19:20:15.612Z"
   },
   {
    "duration": 6,
    "start_time": "2021-11-27T19:20:15.691Z"
   },
   {
    "duration": 22,
    "start_time": "2021-11-27T19:20:15.699Z"
   },
   {
    "duration": 225,
    "start_time": "2021-11-27T19:20:15.723Z"
   },
   {
    "duration": 237,
    "start_time": "2021-11-27T19:20:15.951Z"
   },
   {
    "duration": 8,
    "start_time": "2021-11-27T19:20:16.190Z"
   },
   {
    "duration": 11,
    "start_time": "2021-11-27T19:20:16.200Z"
   },
   {
    "duration": 535,
    "start_time": "2021-11-27T19:20:16.213Z"
   },
   {
    "duration": 8,
    "start_time": "2021-11-27T19:20:16.749Z"
   },
   {
    "duration": 7,
    "start_time": "2021-11-27T19:20:16.758Z"
   },
   {
    "duration": 24,
    "start_time": "2021-11-27T19:20:16.767Z"
   },
   {
    "duration": 4,
    "start_time": "2021-11-27T19:20:16.792Z"
   },
   {
    "duration": 3250,
    "start_time": "2021-11-27T19:20:16.798Z"
   },
   {
    "duration": 1689,
    "start_time": "2021-11-27T19:20:20.050Z"
   },
   {
    "duration": 597,
    "start_time": "2021-11-27T19:20:21.741Z"
   },
   {
    "duration": 3,
    "start_time": "2021-11-27T19:20:22.339Z"
   },
   {
    "duration": 15,
    "start_time": "2021-11-27T19:20:22.344Z"
   },
   {
    "duration": 731,
    "start_time": "2021-11-27T19:20:22.360Z"
   },
   {
    "duration": 150,
    "start_time": "2021-11-27T19:20:23.093Z"
   },
   {
    "duration": 9,
    "start_time": "2021-11-27T19:20:23.247Z"
   },
   {
    "duration": 7,
    "start_time": "2021-11-27T19:20:23.258Z"
   },
   {
    "duration": 23,
    "start_time": "2021-11-27T19:20:23.266Z"
   },
   {
    "duration": 181,
    "start_time": "2021-11-27T19:20:23.291Z"
   },
   {
    "duration": 5,
    "start_time": "2021-11-27T19:20:23.473Z"
   },
   {
    "duration": 25,
    "start_time": "2021-11-27T19:20:23.479Z"
   },
   {
    "duration": 5,
    "start_time": "2021-11-27T19:20:23.506Z"
   },
   {
    "duration": 330,
    "start_time": "2021-11-27T19:20:23.512Z"
   },
   {
    "duration": 9,
    "start_time": "2021-11-27T19:20:23.844Z"
   },
   {
    "duration": 37,
    "start_time": "2021-11-27T19:20:23.854Z"
   },
   {
    "duration": 10,
    "start_time": "2021-11-27T19:21:24.855Z"
   },
   {
    "duration": 17,
    "start_time": "2021-11-27T19:22:00.778Z"
   },
   {
    "duration": 78,
    "start_time": "2021-11-27T19:22:06.855Z"
   },
   {
    "duration": 20,
    "start_time": "2021-11-27T19:22:06.935Z"
   },
   {
    "duration": 12,
    "start_time": "2021-11-27T19:22:06.957Z"
   },
   {
    "duration": 70,
    "start_time": "2021-11-27T19:22:06.971Z"
   },
   {
    "duration": 4,
    "start_time": "2021-11-27T19:22:07.043Z"
   },
   {
    "duration": 7,
    "start_time": "2021-11-27T19:22:07.049Z"
   },
   {
    "duration": 239,
    "start_time": "2021-11-27T19:22:07.058Z"
   },
   {
    "duration": 238,
    "start_time": "2021-11-27T19:22:07.299Z"
   },
   {
    "duration": 8,
    "start_time": "2021-11-27T19:22:07.539Z"
   },
   {
    "duration": 20,
    "start_time": "2021-11-27T19:22:07.549Z"
   },
   {
    "duration": 495,
    "start_time": "2021-11-27T19:22:07.571Z"
   },
   {
    "duration": 9,
    "start_time": "2021-11-27T19:22:08.067Z"
   },
   {
    "duration": 11,
    "start_time": "2021-11-27T19:22:08.077Z"
   },
   {
    "duration": 18,
    "start_time": "2021-11-27T19:22:08.090Z"
   },
   {
    "duration": 5,
    "start_time": "2021-11-27T19:22:08.109Z"
   },
   {
    "duration": 2109,
    "start_time": "2021-11-27T19:22:08.116Z"
   },
   {
    "duration": 1567,
    "start_time": "2021-11-27T19:22:10.227Z"
   },
   {
    "duration": 598,
    "start_time": "2021-11-27T19:22:11.796Z"
   },
   {
    "duration": 4,
    "start_time": "2021-11-27T19:22:12.395Z"
   },
   {
    "duration": 16,
    "start_time": "2021-11-27T19:22:12.400Z"
   },
   {
    "duration": 718,
    "start_time": "2021-11-27T19:22:12.417Z"
   },
   {
    "duration": 143,
    "start_time": "2021-11-27T19:22:13.136Z"
   },
   {
    "duration": 13,
    "start_time": "2021-11-27T19:22:13.280Z"
   },
   {
    "duration": 6,
    "start_time": "2021-11-27T19:22:13.294Z"
   },
   {
    "duration": 6,
    "start_time": "2021-11-27T19:22:13.301Z"
   },
   {
    "duration": 184,
    "start_time": "2021-11-27T19:22:13.308Z"
   },
   {
    "duration": 4,
    "start_time": "2021-11-27T19:22:13.496Z"
   },
   {
    "duration": 34,
    "start_time": "2021-11-27T19:22:13.501Z"
   },
   {
    "duration": 7,
    "start_time": "2021-11-27T19:22:13.537Z"
   },
   {
    "duration": 329,
    "start_time": "2021-11-27T19:22:13.545Z"
   },
   {
    "duration": 17,
    "start_time": "2021-11-27T19:22:13.876Z"
   },
   {
    "duration": 23,
    "start_time": "2021-11-27T19:22:13.894Z"
   },
   {
    "duration": 17,
    "start_time": "2021-11-27T19:22:25.337Z"
   },
   {
    "duration": 19,
    "start_time": "2021-11-27T19:22:35.017Z"
   },
   {
    "duration": 18,
    "start_time": "2021-11-27T19:22:43.745Z"
   },
   {
    "duration": 17,
    "start_time": "2021-11-27T19:22:49.137Z"
   },
   {
    "duration": 18,
    "start_time": "2021-11-27T19:23:11.153Z"
   },
   {
    "duration": 18,
    "start_time": "2021-11-27T19:23:16.469Z"
   },
   {
    "duration": 75,
    "start_time": "2021-11-27T19:23:22.535Z"
   },
   {
    "duration": 20,
    "start_time": "2021-11-27T19:23:22.612Z"
   },
   {
    "duration": 11,
    "start_time": "2021-11-27T19:23:22.633Z"
   },
   {
    "duration": 81,
    "start_time": "2021-11-27T19:23:22.646Z"
   },
   {
    "duration": 5,
    "start_time": "2021-11-27T19:23:22.729Z"
   },
   {
    "duration": 9,
    "start_time": "2021-11-27T19:23:22.735Z"
   },
   {
    "duration": 275,
    "start_time": "2021-11-27T19:23:22.746Z"
   },
   {
    "duration": 241,
    "start_time": "2021-11-27T19:23:23.022Z"
   },
   {
    "duration": 7,
    "start_time": "2021-11-27T19:23:23.265Z"
   },
   {
    "duration": 19,
    "start_time": "2021-11-27T19:23:23.274Z"
   },
   {
    "duration": 550,
    "start_time": "2021-11-27T19:23:23.295Z"
   },
   {
    "duration": 9,
    "start_time": "2021-11-27T19:23:23.847Z"
   },
   {
    "duration": 13,
    "start_time": "2021-11-27T19:23:23.858Z"
   },
   {
    "duration": 21,
    "start_time": "2021-11-27T19:23:23.873Z"
   },
   {
    "duration": 20,
    "start_time": "2021-11-27T19:23:23.896Z"
   },
   {
    "duration": 2077,
    "start_time": "2021-11-27T19:23:23.918Z"
   },
   {
    "duration": 3001,
    "start_time": "2021-11-27T19:23:25.997Z"
   },
   {
    "duration": 582,
    "start_time": "2021-11-27T19:23:28.999Z"
   },
   {
    "duration": 7,
    "start_time": "2021-11-27T19:23:29.582Z"
   },
   {
    "duration": 15,
    "start_time": "2021-11-27T19:23:29.591Z"
   },
   {
    "duration": 723,
    "start_time": "2021-11-27T19:23:29.608Z"
   },
   {
    "duration": 146,
    "start_time": "2021-11-27T19:23:30.332Z"
   },
   {
    "duration": 14,
    "start_time": "2021-11-27T19:23:30.479Z"
   },
   {
    "duration": 18,
    "start_time": "2021-11-27T19:23:30.494Z"
   },
   {
    "duration": 8,
    "start_time": "2021-11-27T19:23:30.514Z"
   },
   {
    "duration": 178,
    "start_time": "2021-11-27T19:23:30.524Z"
   },
   {
    "duration": 4,
    "start_time": "2021-11-27T19:23:30.706Z"
   },
   {
    "duration": 25,
    "start_time": "2021-11-27T19:23:30.711Z"
   },
   {
    "duration": 5,
    "start_time": "2021-11-27T19:23:30.738Z"
   },
   {
    "duration": 332,
    "start_time": "2021-11-27T19:23:30.744Z"
   },
   {
    "duration": 14,
    "start_time": "2021-11-27T19:23:31.078Z"
   },
   {
    "duration": 24,
    "start_time": "2021-11-27T19:23:31.093Z"
   },
   {
    "duration": 18,
    "start_time": "2021-11-27T19:23:44.584Z"
   },
   {
    "duration": 76,
    "start_time": "2021-11-27T19:24:53.744Z"
   },
   {
    "duration": 21,
    "start_time": "2021-11-27T19:24:53.822Z"
   },
   {
    "duration": 14,
    "start_time": "2021-11-27T19:24:53.844Z"
   },
   {
    "duration": 74,
    "start_time": "2021-11-27T19:24:53.860Z"
   },
   {
    "duration": 5,
    "start_time": "2021-11-27T19:24:53.936Z"
   },
   {
    "duration": 7,
    "start_time": "2021-11-27T19:24:53.942Z"
   },
   {
    "duration": 250,
    "start_time": "2021-11-27T19:24:53.951Z"
   },
   {
    "duration": 241,
    "start_time": "2021-11-27T19:24:54.202Z"
   },
   {
    "duration": 8,
    "start_time": "2021-11-27T19:24:54.445Z"
   },
   {
    "duration": 10,
    "start_time": "2021-11-27T19:24:54.455Z"
   },
   {
    "duration": 558,
    "start_time": "2021-11-27T19:24:54.467Z"
   },
   {
    "duration": 10,
    "start_time": "2021-11-27T19:24:55.028Z"
   },
   {
    "duration": 9,
    "start_time": "2021-11-27T19:24:55.039Z"
   },
   {
    "duration": 14,
    "start_time": "2021-11-27T19:24:55.049Z"
   },
   {
    "duration": 5,
    "start_time": "2021-11-27T19:24:55.088Z"
   },
   {
    "duration": 2195,
    "start_time": "2021-11-27T19:24:55.095Z"
   },
   {
    "duration": 1559,
    "start_time": "2021-11-27T19:24:57.293Z"
   },
   {
    "duration": 564,
    "start_time": "2021-11-27T19:24:58.853Z"
   },
   {
    "duration": 4,
    "start_time": "2021-11-27T19:24:59.419Z"
   },
   {
    "duration": 15,
    "start_time": "2021-11-27T19:24:59.424Z"
   },
   {
    "duration": 722,
    "start_time": "2021-11-27T19:24:59.441Z"
   },
   {
    "duration": 164,
    "start_time": "2021-11-27T19:25:00.164Z"
   },
   {
    "duration": 12,
    "start_time": "2021-11-27T19:25:00.330Z"
   },
   {
    "duration": 20,
    "start_time": "2021-11-27T19:25:00.344Z"
   },
   {
    "duration": 26,
    "start_time": "2021-11-27T19:25:00.366Z"
   },
   {
    "duration": 239,
    "start_time": "2021-11-27T19:25:00.394Z"
   },
   {
    "duration": 4,
    "start_time": "2021-11-27T19:25:00.636Z"
   },
   {
    "duration": 29,
    "start_time": "2021-11-27T19:25:00.642Z"
   },
   {
    "duration": 4,
    "start_time": "2021-11-27T19:25:00.673Z"
   },
   {
    "duration": 322,
    "start_time": "2021-11-27T19:25:00.679Z"
   },
   {
    "duration": 10,
    "start_time": "2021-11-27T19:25:01.003Z"
   },
   {
    "duration": 25,
    "start_time": "2021-11-27T19:25:01.015Z"
   },
   {
    "duration": 17,
    "start_time": "2021-11-27T19:25:41.977Z"
   },
   {
    "duration": 28,
    "start_time": "2021-11-27T19:25:48.098Z"
   },
   {
    "duration": 18,
    "start_time": "2021-11-27T19:26:28.617Z"
   },
   {
    "duration": 26,
    "start_time": "2021-11-27T19:26:48.455Z"
   },
   {
    "duration": 7,
    "start_time": "2021-11-27T19:27:36.662Z"
   },
   {
    "duration": 78,
    "start_time": "2021-11-27T19:36:41.174Z"
   },
   {
    "duration": 34,
    "start_time": "2021-11-27T19:36:41.254Z"
   },
   {
    "duration": 9,
    "start_time": "2021-11-27T19:36:41.290Z"
   },
   {
    "duration": 60,
    "start_time": "2021-11-27T19:36:41.301Z"
   },
   {
    "duration": 25,
    "start_time": "2021-11-27T19:36:41.363Z"
   },
   {
    "duration": 6,
    "start_time": "2021-11-27T19:36:41.390Z"
   },
   {
    "duration": 224,
    "start_time": "2021-11-27T19:36:41.397Z"
   },
   {
    "duration": 240,
    "start_time": "2021-11-27T19:36:41.624Z"
   },
   {
    "duration": 8,
    "start_time": "2021-11-27T19:36:41.866Z"
   },
   {
    "duration": 19,
    "start_time": "2021-11-27T19:36:41.876Z"
   },
   {
    "duration": 492,
    "start_time": "2021-11-27T19:36:41.897Z"
   },
   {
    "duration": 8,
    "start_time": "2021-11-27T19:36:42.391Z"
   },
   {
    "duration": 6,
    "start_time": "2021-11-27T19:36:42.401Z"
   },
   {
    "duration": 10,
    "start_time": "2021-11-27T19:36:42.409Z"
   },
   {
    "duration": 5,
    "start_time": "2021-11-27T19:36:42.421Z"
   },
   {
    "duration": 2005,
    "start_time": "2021-11-27T19:36:42.427Z"
   },
   {
    "duration": 1564,
    "start_time": "2021-11-27T19:36:44.434Z"
   },
   {
    "duration": 613,
    "start_time": "2021-11-27T19:36:45.999Z"
   },
   {
    "duration": 4,
    "start_time": "2021-11-27T19:36:46.613Z"
   },
   {
    "duration": 16,
    "start_time": "2021-11-27T19:36:46.619Z"
   },
   {
    "duration": 752,
    "start_time": "2021-11-27T19:36:46.636Z"
   },
   {
    "duration": 143,
    "start_time": "2021-11-27T19:36:47.389Z"
   },
   {
    "duration": 9,
    "start_time": "2021-11-27T19:36:47.535Z"
   },
   {
    "duration": 3,
    "start_time": "2021-11-27T19:36:47.546Z"
   },
   {
    "duration": 7,
    "start_time": "2021-11-27T19:36:47.551Z"
   },
   {
    "duration": 184,
    "start_time": "2021-11-27T19:36:47.560Z"
   },
   {
    "duration": 4,
    "start_time": "2021-11-27T19:36:47.745Z"
   },
   {
    "duration": 19,
    "start_time": "2021-11-27T19:36:47.751Z"
   },
   {
    "duration": 17,
    "start_time": "2021-11-27T19:36:47.772Z"
   },
   {
    "duration": 315,
    "start_time": "2021-11-27T19:36:47.791Z"
   },
   {
    "duration": 5,
    "start_time": "2021-11-27T19:36:48.108Z"
   },
   {
    "duration": 34,
    "start_time": "2021-11-27T19:36:48.115Z"
   },
   {
    "duration": 228,
    "start_time": "2021-11-27T19:40:19.654Z"
   },
   {
    "duration": 214,
    "start_time": "2021-11-27T19:40:46.037Z"
   },
   {
    "duration": 212,
    "start_time": "2021-11-27T19:41:48.814Z"
   },
   {
    "duration": 182,
    "start_time": "2021-11-27T19:41:57.214Z"
   },
   {
    "duration": 167,
    "start_time": "2021-11-27T19:42:03.351Z"
   },
   {
    "duration": 166,
    "start_time": "2021-11-27T19:42:29.615Z"
   },
   {
    "duration": 169,
    "start_time": "2021-11-27T19:42:36.256Z"
   },
   {
    "duration": 180,
    "start_time": "2021-11-27T19:44:58.383Z"
   },
   {
    "duration": 175,
    "start_time": "2021-11-27T19:45:19.017Z"
   },
   {
    "duration": 11,
    "start_time": "2021-11-27T19:45:38.901Z"
   },
   {
    "duration": 3465,
    "start_time": "2021-11-27T19:53:09.615Z"
   },
   {
    "duration": 2005,
    "start_time": "2021-11-27T19:54:21.255Z"
   },
   {
    "duration": 2012,
    "start_time": "2021-11-27T19:54:47.335Z"
   },
   {
    "duration": 683,
    "start_time": "2021-11-27T19:54:55.062Z"
   },
   {
    "duration": 126,
    "start_time": "2021-11-27T19:55:31.857Z"
   },
   {
    "duration": 21,
    "start_time": "2021-11-27T19:55:31.984Z"
   },
   {
    "duration": 12,
    "start_time": "2021-11-27T19:55:32.008Z"
   },
   {
    "duration": 74,
    "start_time": "2021-11-27T19:55:32.022Z"
   },
   {
    "duration": 5,
    "start_time": "2021-11-27T19:55:32.098Z"
   },
   {
    "duration": 12,
    "start_time": "2021-11-27T19:55:32.104Z"
   },
   {
    "duration": 184,
    "start_time": "2021-11-27T19:55:32.118Z"
   },
   {
    "duration": 18,
    "start_time": "2021-11-27T19:55:32.304Z"
   },
   {
    "duration": 7,
    "start_time": "2021-11-27T19:55:32.324Z"
   },
   {
    "duration": 10,
    "start_time": "2021-11-27T19:55:32.333Z"
   },
   {
    "duration": 467,
    "start_time": "2021-11-27T19:55:32.344Z"
   },
   {
    "duration": 8,
    "start_time": "2021-11-27T19:55:32.813Z"
   },
   {
    "duration": 12,
    "start_time": "2021-11-27T19:55:32.822Z"
   },
   {
    "duration": 5,
    "start_time": "2021-11-27T19:55:32.835Z"
   },
   {
    "duration": 605,
    "start_time": "2021-11-27T19:55:32.842Z"
   },
   {
    "duration": 1568,
    "start_time": "2021-11-27T19:55:33.449Z"
   },
   {
    "duration": 673,
    "start_time": "2021-11-27T19:55:35.019Z"
   },
   {
    "duration": 4,
    "start_time": "2021-11-27T19:55:35.693Z"
   },
   {
    "duration": 18,
    "start_time": "2021-11-27T19:55:35.698Z"
   },
   {
    "duration": 774,
    "start_time": "2021-11-27T19:55:35.718Z"
   },
   {
    "duration": 196,
    "start_time": "2021-11-27T19:55:36.494Z"
   },
   {
    "duration": 8,
    "start_time": "2021-11-27T19:55:36.692Z"
   },
   {
    "duration": 15,
    "start_time": "2021-11-27T19:55:36.701Z"
   },
   {
    "duration": 10,
    "start_time": "2021-11-27T19:55:36.718Z"
   },
   {
    "duration": 187,
    "start_time": "2021-11-27T19:55:36.729Z"
   },
   {
    "duration": 4,
    "start_time": "2021-11-27T19:55:36.918Z"
   },
   {
    "duration": 19,
    "start_time": "2021-11-27T19:55:36.925Z"
   },
   {
    "duration": 5,
    "start_time": "2021-11-27T19:55:36.945Z"
   },
   {
    "duration": 328,
    "start_time": "2021-11-27T19:55:36.951Z"
   },
   {
    "duration": 8,
    "start_time": "2021-11-27T19:55:37.280Z"
   },
   {
    "duration": 32,
    "start_time": "2021-11-27T19:55:37.290Z"
   },
   {
    "duration": 160,
    "start_time": "2021-11-27T19:56:57.983Z"
   },
   {
    "duration": 157,
    "start_time": "2021-11-27T20:00:50.343Z"
   },
   {
    "duration": 12,
    "start_time": "2021-11-27T20:01:19.818Z"
   },
   {
    "duration": 85,
    "start_time": "2021-11-27T20:02:01.031Z"
   },
   {
    "duration": 21,
    "start_time": "2021-11-27T20:02:01.118Z"
   },
   {
    "duration": 18,
    "start_time": "2021-11-27T20:02:01.141Z"
   },
   {
    "duration": 106,
    "start_time": "2021-11-27T20:02:01.161Z"
   },
   {
    "duration": 6,
    "start_time": "2021-11-27T20:02:01.268Z"
   },
   {
    "duration": 16,
    "start_time": "2021-11-27T20:02:01.275Z"
   },
   {
    "duration": 187,
    "start_time": "2021-11-27T20:02:01.293Z"
   },
   {
    "duration": 20,
    "start_time": "2021-11-27T20:02:01.482Z"
   },
   {
    "duration": 7,
    "start_time": "2021-11-27T20:02:01.505Z"
   },
   {
    "duration": 17,
    "start_time": "2021-11-27T20:02:01.514Z"
   },
   {
    "duration": 529,
    "start_time": "2021-11-27T20:02:01.532Z"
   },
   {
    "duration": 8,
    "start_time": "2021-11-27T20:02:02.062Z"
   },
   {
    "duration": 28,
    "start_time": "2021-11-27T20:02:02.072Z"
   },
   {
    "duration": 5,
    "start_time": "2021-11-27T20:02:02.102Z"
   },
   {
    "duration": 628,
    "start_time": "2021-11-27T20:02:02.108Z"
   },
   {
    "duration": 10,
    "start_time": "2021-11-27T20:02:02.738Z"
   },
   {
    "duration": 21,
    "start_time": "2021-11-27T20:02:02.749Z"
   },
   {
    "duration": 575,
    "start_time": "2021-11-27T20:02:02.772Z"
   },
   {
    "duration": 3,
    "start_time": "2021-11-27T20:02:03.349Z"
   },
   {
    "duration": 15,
    "start_time": "2021-11-27T20:02:03.354Z"
   },
   {
    "duration": 792,
    "start_time": "2021-11-27T20:02:03.371Z"
   },
   {
    "duration": 148,
    "start_time": "2021-11-27T20:02:04.166Z"
   },
   {
    "duration": 10,
    "start_time": "2021-11-27T20:02:04.316Z"
   },
   {
    "duration": 22,
    "start_time": "2021-11-27T20:02:04.328Z"
   },
   {
    "duration": 18,
    "start_time": "2021-11-27T20:02:04.352Z"
   },
   {
    "duration": 196,
    "start_time": "2021-11-27T20:02:04.372Z"
   },
   {
    "duration": 4,
    "start_time": "2021-11-27T20:02:04.572Z"
   },
   {
    "duration": 24,
    "start_time": "2021-11-27T20:02:04.578Z"
   },
   {
    "duration": 5,
    "start_time": "2021-11-27T20:02:04.604Z"
   },
   {
    "duration": 333,
    "start_time": "2021-11-27T20:02:04.611Z"
   },
   {
    "duration": 5,
    "start_time": "2021-11-27T20:02:04.946Z"
   },
   {
    "duration": 46,
    "start_time": "2021-11-27T20:02:04.952Z"
   },
   {
    "duration": 136,
    "start_time": "2021-11-27T20:05:35.505Z"
   },
   {
    "duration": 79,
    "start_time": "2021-11-27T20:16:05.695Z"
   },
   {
    "duration": 32,
    "start_time": "2021-11-27T20:16:12.503Z"
   },
   {
    "duration": 86,
    "start_time": "2021-11-27T20:16:30.535Z"
   },
   {
    "duration": 20,
    "start_time": "2021-11-27T20:16:30.622Z"
   },
   {
    "duration": 13,
    "start_time": "2021-11-27T20:16:30.644Z"
   },
   {
    "duration": 81,
    "start_time": "2021-11-27T20:16:30.658Z"
   },
   {
    "duration": 5,
    "start_time": "2021-11-27T20:16:30.741Z"
   },
   {
    "duration": 9,
    "start_time": "2021-11-27T20:16:30.747Z"
   },
   {
    "duration": 186,
    "start_time": "2021-11-27T20:16:30.757Z"
   },
   {
    "duration": 19,
    "start_time": "2021-11-27T20:16:30.945Z"
   },
   {
    "duration": 7,
    "start_time": "2021-11-27T20:16:30.966Z"
   },
   {
    "duration": 10,
    "start_time": "2021-11-27T20:16:30.988Z"
   },
   {
    "duration": 546,
    "start_time": "2021-11-27T20:16:30.999Z"
   },
   {
    "duration": 8,
    "start_time": "2021-11-27T20:16:31.547Z"
   },
   {
    "duration": 12,
    "start_time": "2021-11-27T20:16:31.556Z"
   },
   {
    "duration": 23,
    "start_time": "2021-11-27T20:16:31.569Z"
   },
   {
    "duration": 618,
    "start_time": "2021-11-27T20:16:31.593Z"
   },
   {
    "duration": 10,
    "start_time": "2021-11-27T20:16:32.212Z"
   },
   {
    "duration": 4,
    "start_time": "2021-11-27T20:16:32.224Z"
   },
   {
    "duration": 586,
    "start_time": "2021-11-27T20:16:32.230Z"
   },
   {
    "duration": 3,
    "start_time": "2021-11-27T20:16:32.818Z"
   },
   {
    "duration": 15,
    "start_time": "2021-11-27T20:16:32.822Z"
   },
   {
    "duration": 777,
    "start_time": "2021-11-27T20:16:32.838Z"
   },
   {
    "duration": 136,
    "start_time": "2021-11-27T20:16:33.617Z"
   },
   {
    "duration": 8,
    "start_time": "2021-11-27T20:16:33.756Z"
   },
   {
    "duration": 3,
    "start_time": "2021-11-27T20:16:33.765Z"
   },
   {
    "duration": 20,
    "start_time": "2021-11-27T20:16:33.770Z"
   },
   {
    "duration": 179,
    "start_time": "2021-11-27T20:16:33.792Z"
   },
   {
    "duration": 4,
    "start_time": "2021-11-27T20:16:33.973Z"
   },
   {
    "duration": 23,
    "start_time": "2021-11-27T20:16:33.978Z"
   },
   {
    "duration": 5,
    "start_time": "2021-11-27T20:16:34.002Z"
   },
   {
    "duration": 322,
    "start_time": "2021-11-27T20:16:34.008Z"
   },
   {
    "duration": 4,
    "start_time": "2021-11-27T20:16:34.332Z"
   },
   {
    "duration": 50,
    "start_time": "2021-11-27T20:16:34.338Z"
   },
   {
    "duration": 18,
    "start_time": "2021-11-27T20:16:45.535Z"
   },
   {
    "duration": 30,
    "start_time": "2021-11-27T20:16:59.495Z"
   },
   {
    "duration": 86,
    "start_time": "2021-11-27T20:20:59.135Z"
   },
   {
    "duration": 20,
    "start_time": "2021-11-27T20:20:59.223Z"
   },
   {
    "duration": 16,
    "start_time": "2021-11-27T20:20:59.244Z"
   },
   {
    "duration": 70,
    "start_time": "2021-11-27T20:20:59.262Z"
   },
   {
    "duration": 5,
    "start_time": "2021-11-27T20:20:59.334Z"
   },
   {
    "duration": 8,
    "start_time": "2021-11-27T20:20:59.341Z"
   },
   {
    "duration": 192,
    "start_time": "2021-11-27T20:20:59.350Z"
   },
   {
    "duration": 19,
    "start_time": "2021-11-27T20:20:59.544Z"
   },
   {
    "duration": 22,
    "start_time": "2021-11-27T20:20:59.565Z"
   },
   {
    "duration": 10,
    "start_time": "2021-11-27T20:20:59.589Z"
   },
   {
    "duration": 548,
    "start_time": "2021-11-27T20:20:59.601Z"
   },
   {
    "duration": 9,
    "start_time": "2021-11-27T20:21:00.150Z"
   },
   {
    "duration": 11,
    "start_time": "2021-11-27T20:21:00.160Z"
   },
   {
    "duration": 16,
    "start_time": "2021-11-27T20:21:00.173Z"
   },
   {
    "duration": 633,
    "start_time": "2021-11-27T20:21:00.191Z"
   },
   {
    "duration": 10,
    "start_time": "2021-11-27T20:21:00.825Z"
   },
   {
    "duration": 5,
    "start_time": "2021-11-27T20:21:00.836Z"
   },
   {
    "duration": 595,
    "start_time": "2021-11-27T20:21:00.842Z"
   },
   {
    "duration": 3,
    "start_time": "2021-11-27T20:21:01.439Z"
   },
   {
    "duration": 24,
    "start_time": "2021-11-27T20:21:01.443Z"
   },
   {
    "duration": 766,
    "start_time": "2021-11-27T20:21:01.469Z"
   },
   {
    "duration": 138,
    "start_time": "2021-11-27T20:21:02.237Z"
   },
   {
    "duration": 17,
    "start_time": "2021-11-27T20:21:02.377Z"
   },
   {
    "duration": 5,
    "start_time": "2021-11-27T20:21:02.396Z"
   },
   {
    "duration": 13,
    "start_time": "2021-11-27T20:21:02.402Z"
   },
   {
    "duration": 176,
    "start_time": "2021-11-27T20:21:02.416Z"
   },
   {
    "duration": 5,
    "start_time": "2021-11-27T20:21:02.595Z"
   },
   {
    "duration": 46,
    "start_time": "2021-11-27T20:21:02.602Z"
   },
   {
    "duration": 35,
    "start_time": "2021-11-27T20:21:02.650Z"
   },
   {
    "duration": 336,
    "start_time": "2021-11-27T20:21:02.687Z"
   },
   {
    "duration": 5,
    "start_time": "2021-11-27T20:21:03.025Z"
   },
   {
    "duration": 52,
    "start_time": "2021-11-27T20:21:03.032Z"
   },
   {
    "duration": 86,
    "start_time": "2021-11-27T20:26:11.014Z"
   },
   {
    "duration": 21,
    "start_time": "2021-11-27T20:26:11.102Z"
   },
   {
    "duration": 11,
    "start_time": "2021-11-27T20:26:11.125Z"
   },
   {
    "duration": 81,
    "start_time": "2021-11-27T20:26:11.138Z"
   },
   {
    "duration": 6,
    "start_time": "2021-11-27T20:26:11.221Z"
   },
   {
    "duration": 7,
    "start_time": "2021-11-27T20:26:11.229Z"
   },
   {
    "duration": 191,
    "start_time": "2021-11-27T20:26:11.238Z"
   },
   {
    "duration": 18,
    "start_time": "2021-11-27T20:26:11.431Z"
   },
   {
    "duration": 8,
    "start_time": "2021-11-27T20:26:11.451Z"
   },
   {
    "duration": 26,
    "start_time": "2021-11-27T20:26:11.461Z"
   },
   {
    "duration": 469,
    "start_time": "2021-11-27T20:26:11.489Z"
   },
   {
    "duration": 8,
    "start_time": "2021-11-27T20:26:11.960Z"
   },
   {
    "duration": 21,
    "start_time": "2021-11-27T20:26:11.969Z"
   },
   {
    "duration": 5,
    "start_time": "2021-11-27T20:26:11.991Z"
   },
   {
    "duration": 644,
    "start_time": "2021-11-27T20:26:11.997Z"
   },
   {
    "duration": 9,
    "start_time": "2021-11-27T20:26:12.643Z"
   },
   {
    "duration": 5,
    "start_time": "2021-11-27T20:26:12.654Z"
   },
   {
    "duration": 579,
    "start_time": "2021-11-27T20:26:12.661Z"
   },
   {
    "duration": 3,
    "start_time": "2021-11-27T20:26:13.242Z"
   },
   {
    "duration": 15,
    "start_time": "2021-11-27T20:26:13.247Z"
   },
   {
    "duration": 777,
    "start_time": "2021-11-27T20:26:13.263Z"
   },
   {
    "duration": 143,
    "start_time": "2021-11-27T20:26:14.042Z"
   },
   {
    "duration": 9,
    "start_time": "2021-11-27T20:26:14.186Z"
   },
   {
    "duration": 4,
    "start_time": "2021-11-27T20:26:14.196Z"
   },
   {
    "duration": 8,
    "start_time": "2021-11-27T20:26:14.201Z"
   },
   {
    "duration": 185,
    "start_time": "2021-11-27T20:26:14.211Z"
   },
   {
    "duration": 4,
    "start_time": "2021-11-27T20:26:14.399Z"
   },
   {
    "duration": 30,
    "start_time": "2021-11-27T20:26:14.405Z"
   },
   {
    "duration": 12,
    "start_time": "2021-11-27T20:26:14.436Z"
   },
   {
    "duration": 316,
    "start_time": "2021-11-27T20:26:14.450Z"
   },
   {
    "duration": 5,
    "start_time": "2021-11-27T20:26:14.767Z"
   },
   {
    "duration": 49,
    "start_time": "2021-11-27T20:26:14.773Z"
   },
   {
    "duration": 3,
    "start_time": "2021-11-27T20:33:24.294Z"
   },
   {
    "duration": 3,
    "start_time": "2021-11-27T20:33:52.853Z"
   },
   {
    "duration": 250,
    "start_time": "2021-11-27T20:38:42.853Z"
   },
   {
    "duration": 230,
    "start_time": "2021-11-27T20:38:47.254Z"
   },
   {
    "duration": 20,
    "start_time": "2021-11-27T20:39:53.815Z"
   },
   {
    "duration": 5783,
    "start_time": "2021-11-27T20:40:40.373Z"
   },
   {
    "duration": 20,
    "start_time": "2021-11-27T20:40:48.094Z"
   },
   {
    "duration": 21,
    "start_time": "2021-11-27T20:41:13.095Z"
   },
   {
    "duration": 15,
    "start_time": "2021-11-27T20:42:41.814Z"
   },
   {
    "duration": 14,
    "start_time": "2021-11-27T20:43:31.417Z"
   },
   {
    "duration": 6,
    "start_time": "2021-11-27T20:44:07.774Z"
   },
   {
    "duration": 8,
    "start_time": "2021-11-27T20:45:10.015Z"
   },
   {
    "duration": 73,
    "start_time": "2021-11-27T20:45:44.857Z"
   },
   {
    "duration": 8,
    "start_time": "2021-11-27T20:45:59.695Z"
   },
   {
    "duration": 7,
    "start_time": "2021-11-27T20:46:07.618Z"
   },
   {
    "duration": 9,
    "start_time": "2021-11-27T20:46:16.013Z"
   },
   {
    "duration": 249,
    "start_time": "2021-11-27T20:50:09.295Z"
   },
   {
    "duration": 94,
    "start_time": "2021-11-27T21:01:48.813Z"
   },
   {
    "duration": 248,
    "start_time": "2021-11-27T21:03:07.293Z"
   },
   {
    "duration": 247,
    "start_time": "2021-11-27T21:03:52.373Z"
   },
   {
    "duration": 69,
    "start_time": "2021-11-27T21:05:08.457Z"
   },
   {
    "duration": 22,
    "start_time": "2021-11-27T21:05:08.528Z"
   },
   {
    "duration": 10,
    "start_time": "2021-11-27T21:05:08.552Z"
   },
   {
    "duration": 79,
    "start_time": "2021-11-27T21:05:08.564Z"
   },
   {
    "duration": 4,
    "start_time": "2021-11-27T21:05:08.645Z"
   },
   {
    "duration": 7,
    "start_time": "2021-11-27T21:05:08.651Z"
   },
   {
    "duration": 188,
    "start_time": "2021-11-27T21:05:08.659Z"
   },
   {
    "duration": 18,
    "start_time": "2021-11-27T21:05:08.849Z"
   },
   {
    "duration": 19,
    "start_time": "2021-11-27T21:05:08.869Z"
   },
   {
    "duration": 9,
    "start_time": "2021-11-27T21:05:08.889Z"
   },
   {
    "duration": 488,
    "start_time": "2021-11-27T21:05:08.899Z"
   },
   {
    "duration": 7,
    "start_time": "2021-11-27T21:05:09.389Z"
   },
   {
    "duration": 14,
    "start_time": "2021-11-27T21:05:09.398Z"
   },
   {
    "duration": 4,
    "start_time": "2021-11-27T21:05:09.414Z"
   },
   {
    "duration": 645,
    "start_time": "2021-11-27T21:05:09.419Z"
   },
   {
    "duration": 10,
    "start_time": "2021-11-27T21:05:10.065Z"
   },
   {
    "duration": 14,
    "start_time": "2021-11-27T21:05:10.076Z"
   },
   {
    "duration": 596,
    "start_time": "2021-11-27T21:05:10.091Z"
   },
   {
    "duration": 3,
    "start_time": "2021-11-27T21:05:10.689Z"
   },
   {
    "duration": 14,
    "start_time": "2021-11-27T21:05:10.694Z"
   },
   {
    "duration": 758,
    "start_time": "2021-11-27T21:05:10.710Z"
   },
   {
    "duration": 148,
    "start_time": "2021-11-27T21:05:11.470Z"
   },
   {
    "duration": 8,
    "start_time": "2021-11-27T21:05:11.622Z"
   },
   {
    "duration": 12,
    "start_time": "2021-11-27T21:05:11.632Z"
   },
   {
    "duration": 19,
    "start_time": "2021-11-27T21:05:11.645Z"
   },
   {
    "duration": 181,
    "start_time": "2021-11-27T21:05:11.666Z"
   },
   {
    "duration": 4,
    "start_time": "2021-11-27T21:05:11.848Z"
   },
   {
    "duration": 28,
    "start_time": "2021-11-27T21:05:11.854Z"
   },
   {
    "duration": 12,
    "start_time": "2021-11-27T21:05:11.883Z"
   },
   {
    "duration": 315,
    "start_time": "2021-11-27T21:05:11.896Z"
   },
   {
    "duration": 5,
    "start_time": "2021-11-27T21:05:12.212Z"
   },
   {
    "duration": 47,
    "start_time": "2021-11-27T21:05:12.219Z"
   },
   {
    "duration": 8,
    "start_time": "2021-11-27T21:05:12.267Z"
   },
   {
    "duration": 251,
    "start_time": "2021-11-27T21:05:12.276Z"
   },
   {
    "duration": 1625,
    "start_time": "2021-11-27T21:07:36.536Z"
   },
   {
    "duration": 23,
    "start_time": "2021-11-27T21:10:48.613Z"
   },
   {
    "duration": 23,
    "start_time": "2021-11-27T21:12:59.615Z"
   },
   {
    "duration": 23,
    "start_time": "2021-11-27T21:13:06.138Z"
   },
   {
    "duration": 231,
    "start_time": "2021-11-27T21:16:54.337Z"
   },
   {
    "duration": 229,
    "start_time": "2021-11-27T21:17:15.615Z"
   },
   {
    "duration": 247,
    "start_time": "2021-11-27T21:24:19.303Z"
   },
   {
    "duration": 226,
    "start_time": "2021-11-27T21:25:02.414Z"
   },
   {
    "duration": 1135,
    "start_time": "2021-11-27T21:34:30.296Z"
   },
   {
    "duration": 247,
    "start_time": "2021-11-27T21:38:32.775Z"
   },
   {
    "duration": 247,
    "start_time": "2021-11-27T21:39:10.097Z"
   },
   {
    "duration": 29,
    "start_time": "2021-11-27T21:40:25.184Z"
   },
   {
    "duration": 92,
    "start_time": "2021-11-27T21:40:31.296Z"
   },
   {
    "duration": 21,
    "start_time": "2021-11-27T21:40:31.390Z"
   },
   {
    "duration": 13,
    "start_time": "2021-11-27T21:40:31.414Z"
   },
   {
    "duration": 79,
    "start_time": "2021-11-27T21:40:31.428Z"
   },
   {
    "duration": 6,
    "start_time": "2021-11-27T21:40:31.508Z"
   },
   {
    "duration": 21,
    "start_time": "2021-11-27T21:40:31.515Z"
   },
   {
    "duration": 179,
    "start_time": "2021-11-27T21:40:31.537Z"
   },
   {
    "duration": 18,
    "start_time": "2021-11-27T21:40:31.718Z"
   },
   {
    "duration": 8,
    "start_time": "2021-11-27T21:40:31.738Z"
   },
   {
    "duration": 10,
    "start_time": "2021-11-27T21:40:31.748Z"
   },
   {
    "duration": 504,
    "start_time": "2021-11-27T21:40:31.759Z"
   },
   {
    "duration": 8,
    "start_time": "2021-11-27T21:40:32.265Z"
   },
   {
    "duration": 22,
    "start_time": "2021-11-27T21:40:32.274Z"
   },
   {
    "duration": 6,
    "start_time": "2021-11-27T21:40:32.297Z"
   },
   {
    "duration": 642,
    "start_time": "2021-11-27T21:40:32.305Z"
   },
   {
    "duration": 9,
    "start_time": "2021-11-27T21:40:32.949Z"
   },
   {
    "duration": 4,
    "start_time": "2021-11-27T21:40:32.960Z"
   },
   {
    "duration": 567,
    "start_time": "2021-11-27T21:40:32.965Z"
   },
   {
    "duration": 3,
    "start_time": "2021-11-27T21:40:33.534Z"
   },
   {
    "duration": 19,
    "start_time": "2021-11-27T21:40:33.539Z"
   },
   {
    "duration": 774,
    "start_time": "2021-11-27T21:40:33.560Z"
   },
   {
    "duration": 139,
    "start_time": "2021-11-27T21:40:34.336Z"
   },
   {
    "duration": 17,
    "start_time": "2021-11-27T21:40:34.477Z"
   },
   {
    "duration": 4,
    "start_time": "2021-11-27T21:40:34.496Z"
   },
   {
    "duration": 8,
    "start_time": "2021-11-27T21:40:34.501Z"
   },
   {
    "duration": 186,
    "start_time": "2021-11-27T21:40:34.510Z"
   },
   {
    "duration": 4,
    "start_time": "2021-11-27T21:40:34.700Z"
   },
   {
    "duration": 28,
    "start_time": "2021-11-27T21:40:34.706Z"
   },
   {
    "duration": 5,
    "start_time": "2021-11-27T21:40:34.736Z"
   },
   {
    "duration": 333,
    "start_time": "2021-11-27T21:40:34.743Z"
   },
   {
    "duration": 7,
    "start_time": "2021-11-27T21:40:35.083Z"
   },
   {
    "duration": 41,
    "start_time": "2021-11-27T21:40:35.091Z"
   },
   {
    "duration": 9,
    "start_time": "2021-11-27T21:40:35.134Z"
   },
   {
    "duration": 6194,
    "start_time": "2021-11-27T21:40:35.145Z"
   },
   {
    "duration": 5964,
    "start_time": "2021-11-27T21:42:29.825Z"
   },
   {
    "duration": 1726,
    "start_time": "2021-11-27T21:43:09.256Z"
   },
   {
    "duration": 226,
    "start_time": "2021-11-27T21:45:09.056Z"
   },
   {
    "duration": 227,
    "start_time": "2021-11-27T21:45:17.863Z"
   },
   {
    "duration": 200,
    "start_time": "2021-11-27T21:45:29.384Z"
   },
   {
    "duration": 91,
    "start_time": "2021-11-27T21:46:10.151Z"
   },
   {
    "duration": 20,
    "start_time": "2021-11-27T21:46:10.243Z"
   },
   {
    "duration": 17,
    "start_time": "2021-11-27T21:46:10.265Z"
   },
   {
    "duration": 63,
    "start_time": "2021-11-27T21:46:10.284Z"
   },
   {
    "duration": 5,
    "start_time": "2021-11-27T21:46:10.349Z"
   },
   {
    "duration": 11,
    "start_time": "2021-11-27T21:46:10.355Z"
   },
   {
    "duration": 239,
    "start_time": "2021-11-27T21:46:10.367Z"
   },
   {
    "duration": 17,
    "start_time": "2021-11-27T21:46:10.609Z"
   },
   {
    "duration": 8,
    "start_time": "2021-11-27T21:46:10.628Z"
   },
   {
    "duration": 23,
    "start_time": "2021-11-27T21:46:10.637Z"
   },
   {
    "duration": 511,
    "start_time": "2021-11-27T21:46:10.661Z"
   },
   {
    "duration": 17,
    "start_time": "2021-11-27T21:46:11.174Z"
   },
   {
    "duration": 13,
    "start_time": "2021-11-27T21:46:11.193Z"
   },
   {
    "duration": 5,
    "start_time": "2021-11-27T21:46:11.208Z"
   },
   {
    "duration": 658,
    "start_time": "2021-11-27T21:46:11.215Z"
   },
   {
    "duration": 18,
    "start_time": "2021-11-27T21:46:11.874Z"
   },
   {
    "duration": 5,
    "start_time": "2021-11-27T21:46:11.894Z"
   },
   {
    "duration": 700,
    "start_time": "2021-11-27T21:46:11.900Z"
   },
   {
    "duration": 3,
    "start_time": "2021-11-27T21:46:12.602Z"
   },
   {
    "duration": 18,
    "start_time": "2021-11-27T21:46:12.607Z"
   },
   {
    "duration": 796,
    "start_time": "2021-11-27T21:46:12.626Z"
   },
   {
    "duration": 153,
    "start_time": "2021-11-27T21:46:13.425Z"
   },
   {
    "duration": 13,
    "start_time": "2021-11-27T21:46:13.582Z"
   },
   {
    "duration": 17,
    "start_time": "2021-11-27T21:46:13.597Z"
   },
   {
    "duration": 15,
    "start_time": "2021-11-27T21:46:13.616Z"
   },
   {
    "duration": 192,
    "start_time": "2021-11-27T21:46:13.632Z"
   },
   {
    "duration": 6,
    "start_time": "2021-11-27T21:46:13.826Z"
   },
   {
    "duration": 29,
    "start_time": "2021-11-27T21:46:13.833Z"
   },
   {
    "duration": 5,
    "start_time": "2021-11-27T21:46:13.864Z"
   },
   {
    "duration": 330,
    "start_time": "2021-11-27T21:46:13.870Z"
   },
   {
    "duration": 5,
    "start_time": "2021-11-27T21:46:14.201Z"
   },
   {
    "duration": 41,
    "start_time": "2021-11-27T21:46:14.208Z"
   },
   {
    "duration": 7,
    "start_time": "2021-11-27T21:46:14.251Z"
   },
   {
    "duration": 2026,
    "start_time": "2021-11-27T21:46:14.260Z"
   },
   {
    "duration": 286,
    "start_time": "2021-11-27T21:54:53.618Z"
   },
   {
    "duration": 418,
    "start_time": "2021-11-27T21:55:19.615Z"
   },
   {
    "duration": 509,
    "start_time": "2021-11-27T21:55:31.703Z"
   },
   {
    "duration": 192,
    "start_time": "2021-11-27T21:56:44.975Z"
   },
   {
    "duration": 195,
    "start_time": "2021-11-27T21:57:04.895Z"
   },
   {
    "duration": 199,
    "start_time": "2021-11-27T21:57:25.615Z"
   },
   {
    "duration": 36,
    "start_time": "2021-11-27T22:03:09.496Z"
   },
   {
    "duration": 287,
    "start_time": "2021-11-27T22:04:44.947Z"
   },
   {
    "duration": 942,
    "start_time": "2021-11-27T22:05:00.308Z"
   },
   {
    "duration": 871,
    "start_time": "2021-11-27T22:08:53.663Z"
   },
   {
    "duration": 8,
    "start_time": "2021-11-27T22:09:03.947Z"
   },
   {
    "duration": 39,
    "start_time": "2021-11-27T22:09:11.255Z"
   },
   {
    "duration": 963,
    "start_time": "2021-11-27T22:09:30.756Z"
   },
   {
    "duration": 896,
    "start_time": "2021-11-27T22:09:47.259Z"
   },
   {
    "duration": 900,
    "start_time": "2021-11-27T22:09:56.305Z"
   },
   {
    "duration": 932,
    "start_time": "2021-11-27T22:10:01.399Z"
   },
   {
    "duration": 920,
    "start_time": "2021-11-27T22:10:05.591Z"
   },
   {
    "duration": 39,
    "start_time": "2021-11-27T22:13:44.915Z"
   },
   {
    "duration": 11,
    "start_time": "2021-11-27T22:14:44.652Z"
   },
   {
    "duration": 39,
    "start_time": "2021-11-27T22:14:50.362Z"
   },
   {
    "duration": 89,
    "start_time": "2021-11-27T22:15:14.327Z"
   },
   {
    "duration": 21,
    "start_time": "2021-11-27T22:15:14.418Z"
   },
   {
    "duration": 12,
    "start_time": "2021-11-27T22:15:14.441Z"
   },
   {
    "duration": 83,
    "start_time": "2021-11-27T22:15:14.455Z"
   },
   {
    "duration": 5,
    "start_time": "2021-11-27T22:15:14.539Z"
   },
   {
    "duration": 9,
    "start_time": "2021-11-27T22:15:14.546Z"
   },
   {
    "duration": 188,
    "start_time": "2021-11-27T22:15:14.557Z"
   },
   {
    "duration": 18,
    "start_time": "2021-11-27T22:15:14.748Z"
   },
   {
    "duration": 20,
    "start_time": "2021-11-27T22:15:14.768Z"
   },
   {
    "duration": 10,
    "start_time": "2021-11-27T22:15:14.789Z"
   },
   {
    "duration": 532,
    "start_time": "2021-11-27T22:15:14.800Z"
   },
   {
    "duration": 8,
    "start_time": "2021-11-27T22:15:15.334Z"
   },
   {
    "duration": 16,
    "start_time": "2021-11-27T22:15:15.343Z"
   },
   {
    "duration": 18,
    "start_time": "2021-11-27T22:15:15.360Z"
   },
   {
    "duration": 616,
    "start_time": "2021-11-27T22:15:15.380Z"
   },
   {
    "duration": 10,
    "start_time": "2021-11-27T22:15:15.997Z"
   },
   {
    "duration": 16,
    "start_time": "2021-11-27T22:15:16.009Z"
   },
   {
    "duration": 610,
    "start_time": "2021-11-27T22:15:16.027Z"
   },
   {
    "duration": 4,
    "start_time": "2021-11-27T22:15:16.639Z"
   },
   {
    "duration": 40,
    "start_time": "2021-11-27T22:15:16.645Z"
   },
   {
    "duration": 806,
    "start_time": "2021-11-27T22:15:16.687Z"
   },
   {
    "duration": 148,
    "start_time": "2021-11-27T22:15:17.496Z"
   },
   {
    "duration": 9,
    "start_time": "2021-11-27T22:15:17.647Z"
   },
   {
    "duration": 3,
    "start_time": "2021-11-27T22:15:17.658Z"
   },
   {
    "duration": 26,
    "start_time": "2021-11-27T22:15:17.662Z"
   },
   {
    "duration": 187,
    "start_time": "2021-11-27T22:15:17.689Z"
   },
   {
    "duration": 10,
    "start_time": "2021-11-27T22:15:17.877Z"
   },
   {
    "duration": 27,
    "start_time": "2021-11-27T22:15:17.889Z"
   },
   {
    "duration": 13,
    "start_time": "2021-11-27T22:15:17.917Z"
   },
   {
    "duration": 328,
    "start_time": "2021-11-27T22:15:17.932Z"
   },
   {
    "duration": 4,
    "start_time": "2021-11-27T22:15:18.262Z"
   },
   {
    "duration": 52,
    "start_time": "2021-11-27T22:15:18.268Z"
   },
   {
    "duration": 8,
    "start_time": "2021-11-27T22:15:18.322Z"
   },
   {
    "duration": 210,
    "start_time": "2021-11-27T22:15:18.332Z"
   },
   {
    "duration": 45,
    "start_time": "2021-11-27T22:15:18.543Z"
   },
   {
    "duration": 41,
    "start_time": "2021-11-27T22:17:13.419Z"
   },
   {
    "duration": 14,
    "start_time": "2021-11-27T22:17:22.949Z"
   },
   {
    "duration": 16,
    "start_time": "2021-11-27T22:18:58.637Z"
   },
   {
    "duration": 17,
    "start_time": "2021-11-27T22:19:27.847Z"
   },
   {
    "duration": 16,
    "start_time": "2021-11-27T22:20:37.248Z"
   },
   {
    "duration": 19,
    "start_time": "2021-11-27T22:21:33.643Z"
   },
   {
    "duration": 17,
    "start_time": "2021-11-27T22:22:44.519Z"
   },
   {
    "duration": 18,
    "start_time": "2021-11-27T22:24:11.353Z"
   },
   {
    "duration": 249,
    "start_time": "2021-11-27T22:29:12.722Z"
   },
   {
    "duration": 18,
    "start_time": "2021-11-27T22:29:42.108Z"
   },
   {
    "duration": 17,
    "start_time": "2021-11-27T22:31:57.886Z"
   },
   {
    "duration": 18,
    "start_time": "2021-11-27T22:32:12.422Z"
   },
   {
    "duration": 18,
    "start_time": "2021-11-27T22:32:45.368Z"
   },
   {
    "duration": 19,
    "start_time": "2021-11-27T22:33:31.989Z"
   },
   {
    "duration": 19,
    "start_time": "2021-11-27T22:34:02.308Z"
   },
   {
    "duration": 478,
    "start_time": "2021-11-28T10:33:58.265Z"
   },
   {
    "duration": 740,
    "start_time": "2021-11-28T10:34:03.778Z"
   },
   {
    "duration": 34,
    "start_time": "2021-11-28T10:34:04.521Z"
   },
   {
    "duration": 12,
    "start_time": "2021-11-28T10:34:04.557Z"
   },
   {
    "duration": 84,
    "start_time": "2021-11-28T10:34:04.571Z"
   },
   {
    "duration": 6,
    "start_time": "2021-11-28T10:34:04.657Z"
   },
   {
    "duration": 10,
    "start_time": "2021-11-28T10:34:04.664Z"
   },
   {
    "duration": 201,
    "start_time": "2021-11-28T10:34:04.675Z"
   },
   {
    "duration": 19,
    "start_time": "2021-11-28T10:34:04.878Z"
   },
   {
    "duration": 8,
    "start_time": "2021-11-28T10:34:04.898Z"
   },
   {
    "duration": 10,
    "start_time": "2021-11-28T10:34:04.908Z"
   },
   {
    "duration": 480,
    "start_time": "2021-11-28T10:34:04.920Z"
   },
   {
    "duration": 15,
    "start_time": "2021-11-28T10:34:05.402Z"
   },
   {
    "duration": 13,
    "start_time": "2021-11-28T10:34:05.418Z"
   },
   {
    "duration": 6,
    "start_time": "2021-11-28T10:34:05.444Z"
   },
   {
    "duration": 681,
    "start_time": "2021-11-28T10:34:05.451Z"
   },
   {
    "duration": 11,
    "start_time": "2021-11-28T10:34:06.134Z"
   },
   {
    "duration": 9,
    "start_time": "2021-11-28T10:34:06.146Z"
   },
   {
    "duration": 721,
    "start_time": "2021-11-28T10:34:06.157Z"
   },
   {
    "duration": 4,
    "start_time": "2021-11-28T10:34:06.880Z"
   },
   {
    "duration": 37,
    "start_time": "2021-11-28T10:34:06.886Z"
   },
   {
    "duration": 783,
    "start_time": "2021-11-28T10:34:06.926Z"
   },
   {
    "duration": 184,
    "start_time": "2021-11-28T10:34:07.711Z"
   },
   {
    "duration": 9,
    "start_time": "2021-11-28T10:34:07.899Z"
   },
   {
    "duration": 4,
    "start_time": "2021-11-28T10:34:07.911Z"
   },
   {
    "duration": 30,
    "start_time": "2021-11-28T10:34:07.918Z"
   },
   {
    "duration": 205,
    "start_time": "2021-11-28T10:34:07.950Z"
   },
   {
    "duration": 4,
    "start_time": "2021-11-28T10:34:08.157Z"
   },
   {
    "duration": 28,
    "start_time": "2021-11-28T10:34:08.163Z"
   },
   {
    "duration": 6,
    "start_time": "2021-11-28T10:34:08.193Z"
   },
   {
    "duration": 395,
    "start_time": "2021-11-28T10:34:08.201Z"
   },
   {
    "duration": 6,
    "start_time": "2021-11-28T10:34:08.598Z"
   },
   {
    "duration": 66,
    "start_time": "2021-11-28T10:34:08.605Z"
   },
   {
    "duration": 8,
    "start_time": "2021-11-28T10:34:08.673Z"
   },
   {
    "duration": 254,
    "start_time": "2021-11-28T10:34:08.684Z"
   },
   {
    "duration": 22,
    "start_time": "2021-11-28T10:34:08.940Z"
   },
   {
    "duration": 35,
    "start_time": "2021-11-28T10:34:08.964Z"
   },
   {
    "duration": 343,
    "start_time": "2021-11-28T10:36:49.298Z"
   },
   {
    "duration": 272,
    "start_time": "2021-11-28T10:37:28.459Z"
   },
   {
    "duration": 98,
    "start_time": "2021-11-28T10:37:44.938Z"
   },
   {
    "duration": 301,
    "start_time": "2021-11-28T10:40:18.298Z"
   },
   {
    "duration": 282,
    "start_time": "2021-11-28T10:44:58.501Z"
   },
   {
    "duration": 537,
    "start_time": "2021-11-28T10:45:19.739Z"
   },
   {
    "duration": 538,
    "start_time": "2021-11-28T10:47:29.860Z"
   },
   {
    "duration": 505,
    "start_time": "2021-11-28T10:48:21.461Z"
   },
   {
    "duration": 505,
    "start_time": "2021-11-28T10:49:23.347Z"
   },
   {
    "duration": 3784,
    "start_time": "2021-11-28T10:49:34.554Z"
   },
   {
    "duration": 513,
    "start_time": "2021-11-28T10:51:50.819Z"
   },
   {
    "duration": 38,
    "start_time": "2021-11-28T10:52:38.260Z"
   },
   {
    "duration": 37,
    "start_time": "2021-11-28T10:53:33.499Z"
   },
   {
    "duration": 36,
    "start_time": "2021-11-28T10:54:41.388Z"
   },
   {
    "duration": 8,
    "start_time": "2021-11-28T10:57:46.503Z"
   },
   {
    "duration": 8,
    "start_time": "2021-11-28T10:59:08.461Z"
   },
   {
    "duration": 40,
    "start_time": "2021-11-28T10:59:32.308Z"
   },
   {
    "duration": 8,
    "start_time": "2021-11-28T11:02:11.461Z"
   },
   {
    "duration": 99,
    "start_time": "2021-11-28T11:02:27.740Z"
   },
   {
    "duration": 24,
    "start_time": "2021-11-28T11:02:27.841Z"
   },
   {
    "duration": 30,
    "start_time": "2021-11-28T11:02:27.867Z"
   },
   {
    "duration": 81,
    "start_time": "2021-11-28T11:02:27.899Z"
   },
   {
    "duration": 5,
    "start_time": "2021-11-28T11:02:27.981Z"
   },
   {
    "duration": 36,
    "start_time": "2021-11-28T11:02:27.987Z"
   },
   {
    "duration": 200,
    "start_time": "2021-11-28T11:02:28.025Z"
   },
   {
    "duration": 26,
    "start_time": "2021-11-28T11:02:28.227Z"
   },
   {
    "duration": 8,
    "start_time": "2021-11-28T11:02:28.256Z"
   },
   {
    "duration": 10,
    "start_time": "2021-11-28T11:02:28.266Z"
   },
   {
    "duration": 552,
    "start_time": "2021-11-28T11:02:28.277Z"
   },
   {
    "duration": 17,
    "start_time": "2021-11-28T11:02:28.831Z"
   },
   {
    "duration": 12,
    "start_time": "2021-11-28T11:02:28.850Z"
   },
   {
    "duration": 5,
    "start_time": "2021-11-28T11:02:28.864Z"
   },
   {
    "duration": 674,
    "start_time": "2021-11-28T11:02:28.870Z"
   },
   {
    "duration": 11,
    "start_time": "2021-11-28T11:02:29.546Z"
   },
   {
    "duration": 4,
    "start_time": "2021-11-28T11:02:29.559Z"
   },
   {
    "duration": 722,
    "start_time": "2021-11-28T11:02:29.565Z"
   },
   {
    "duration": 4,
    "start_time": "2021-11-28T11:02:30.289Z"
   },
   {
    "duration": 38,
    "start_time": "2021-11-28T11:02:30.294Z"
   },
   {
    "duration": 733,
    "start_time": "2021-11-28T11:02:30.334Z"
   },
   {
    "duration": 163,
    "start_time": "2021-11-28T11:02:31.069Z"
   },
   {
    "duration": 14,
    "start_time": "2021-11-28T11:02:31.234Z"
   },
   {
    "duration": 3,
    "start_time": "2021-11-28T11:02:31.250Z"
   },
   {
    "duration": 39,
    "start_time": "2021-11-28T11:02:31.255Z"
   },
   {
    "duration": 207,
    "start_time": "2021-11-28T11:02:31.296Z"
   },
   {
    "duration": 5,
    "start_time": "2021-11-28T11:02:31.506Z"
   },
   {
    "duration": 35,
    "start_time": "2021-11-28T11:02:31.513Z"
   },
   {
    "duration": 6,
    "start_time": "2021-11-28T11:02:31.550Z"
   },
   {
    "duration": 333,
    "start_time": "2021-11-28T11:02:31.557Z"
   },
   {
    "duration": 5,
    "start_time": "2021-11-28T11:02:31.891Z"
   },
   {
    "duration": 54,
    "start_time": "2021-11-28T11:02:31.898Z"
   },
   {
    "duration": 8,
    "start_time": "2021-11-28T11:02:31.953Z"
   },
   {
    "duration": 223,
    "start_time": "2021-11-28T11:02:31.963Z"
   },
   {
    "duration": 21,
    "start_time": "2021-11-28T11:02:32.188Z"
   },
   {
    "duration": 517,
    "start_time": "2021-11-28T11:02:32.211Z"
   },
   {
    "duration": 17,
    "start_time": "2021-11-28T11:02:32.730Z"
   },
   {
    "duration": 29,
    "start_time": "2021-11-28T11:02:32.748Z"
   },
   {
    "duration": 18,
    "start_time": "2021-11-28T11:11:51.186Z"
   },
   {
    "duration": 20,
    "start_time": "2021-11-28T11:12:04.742Z"
   },
   {
    "duration": 91,
    "start_time": "2021-11-28T11:17:51.792Z"
   },
   {
    "duration": 285,
    "start_time": "2021-11-28T11:20:00.863Z"
   },
   {
    "duration": 86,
    "start_time": "2021-11-28T11:20:07.226Z"
   },
   {
    "duration": 280,
    "start_time": "2021-11-28T11:34:20.767Z"
   },
   {
    "duration": 75,
    "start_time": "2021-11-28T11:34:59.178Z"
   },
   {
    "duration": 73,
    "start_time": "2021-11-28T11:35:05.258Z"
   },
   {
    "duration": 7173,
    "start_time": "2021-11-28T11:36:38.459Z"
   },
   {
    "duration": 315,
    "start_time": "2021-11-28T11:36:54.062Z"
   },
   {
    "duration": 381,
    "start_time": "2021-11-28T11:36:59.426Z"
   },
   {
    "duration": 7,
    "start_time": "2021-11-28T11:38:34.458Z"
   },
   {
    "duration": 12,
    "start_time": "2021-11-28T11:42:53.220Z"
   },
   {
    "duration": 12,
    "start_time": "2021-11-28T11:43:04.672Z"
   },
   {
    "duration": 5652,
    "start_time": "2021-11-28T11:43:57.421Z"
   },
   {
    "duration": 5868,
    "start_time": "2021-11-28T11:44:20.496Z"
   },
   {
    "duration": 6261,
    "start_time": "2021-11-28T11:45:24.219Z"
   },
   {
    "duration": 5828,
    "start_time": "2021-11-28T11:49:20.499Z"
   },
   {
    "duration": 180,
    "start_time": "2021-11-28T11:50:25.618Z"
   },
   {
    "duration": 179,
    "start_time": "2021-11-28T11:50:39.538Z"
   },
   {
    "duration": 297,
    "start_time": "2021-11-28T11:50:54.161Z"
   },
   {
    "duration": 318,
    "start_time": "2021-11-28T11:51:31.060Z"
   },
   {
    "duration": 305,
    "start_time": "2021-11-28T11:51:48.378Z"
   },
   {
    "duration": 317,
    "start_time": "2021-11-28T11:52:10.387Z"
   },
   {
    "duration": 322,
    "start_time": "2021-11-28T11:52:48.338Z"
   },
   {
    "duration": 405,
    "start_time": "2021-11-28T11:52:54.905Z"
   },
   {
    "duration": 380,
    "start_time": "2021-11-28T11:53:46.229Z"
   },
   {
    "duration": 376,
    "start_time": "2021-11-28T11:53:59.578Z"
   },
   {
    "duration": 203,
    "start_time": "2021-11-28T11:54:31.019Z"
   },
   {
    "duration": 179,
    "start_time": "2021-11-28T11:54:46.619Z"
   },
   {
    "duration": 529,
    "start_time": "2021-11-28T11:55:17.745Z"
   },
   {
    "duration": 664,
    "start_time": "2021-11-28T11:55:25.980Z"
   },
   {
    "duration": 397,
    "start_time": "2021-11-28T11:55:51.218Z"
   },
   {
    "duration": 597,
    "start_time": "2021-11-28T11:56:04.859Z"
   },
   {
    "duration": -162,
    "start_time": "2021-11-28T11:57:01.472Z"
   },
   {
    "duration": 378,
    "start_time": "2021-11-28T11:57:04.417Z"
   },
   {
    "duration": 1321,
    "start_time": "2021-11-28T11:57:11.905Z"
   },
   {
    "duration": 189,
    "start_time": "2021-11-28T11:57:28.625Z"
   },
   {
    "duration": 210,
    "start_time": "2021-11-28T11:59:48.899Z"
   },
   {
    "duration": 204,
    "start_time": "2021-11-28T12:00:09.858Z"
   },
   {
    "duration": 199,
    "start_time": "2021-11-28T12:00:31.458Z"
   },
   {
    "duration": 198,
    "start_time": "2021-11-28T12:01:40.538Z"
   },
   {
    "duration": 171,
    "start_time": "2021-11-28T12:01:46.577Z"
   },
   {
    "duration": 182,
    "start_time": "2021-11-28T12:01:57.817Z"
   },
   {
    "duration": 180,
    "start_time": "2021-11-28T12:02:09.466Z"
   },
   {
    "duration": 189,
    "start_time": "2021-11-28T12:02:22.266Z"
   },
   {
    "duration": 188,
    "start_time": "2021-11-28T12:02:31.257Z"
   },
   {
    "duration": 161,
    "start_time": "2021-11-28T12:17:47.678Z"
   },
   {
    "duration": 176,
    "start_time": "2021-11-28T12:23:41.706Z"
   },
   {
    "duration": 188,
    "start_time": "2021-11-28T12:23:47.259Z"
   },
   {
    "duration": 67,
    "start_time": "2021-11-28T12:38:07.219Z"
   },
   {
    "duration": 20,
    "start_time": "2021-11-28T12:38:07.288Z"
   },
   {
    "duration": 35,
    "start_time": "2021-11-28T12:38:07.310Z"
   },
   {
    "duration": 64,
    "start_time": "2021-11-28T12:38:07.347Z"
   },
   {
    "duration": 5,
    "start_time": "2021-11-28T12:38:07.413Z"
   },
   {
    "duration": 28,
    "start_time": "2021-11-28T12:38:07.420Z"
   },
   {
    "duration": 191,
    "start_time": "2021-11-28T12:38:07.450Z"
   },
   {
    "duration": 22,
    "start_time": "2021-11-28T12:38:07.642Z"
   },
   {
    "duration": 9,
    "start_time": "2021-11-28T12:38:07.666Z"
   },
   {
    "duration": 42,
    "start_time": "2021-11-28T12:38:07.677Z"
   },
   {
    "duration": 488,
    "start_time": "2021-11-28T12:38:07.720Z"
   },
   {
    "duration": 9,
    "start_time": "2021-11-28T12:38:08.210Z"
   },
   {
    "duration": 26,
    "start_time": "2021-11-28T12:38:08.220Z"
   },
   {
    "duration": 6,
    "start_time": "2021-11-28T12:38:08.247Z"
   },
   {
    "duration": 679,
    "start_time": "2021-11-28T12:38:08.255Z"
   },
   {
    "duration": 16,
    "start_time": "2021-11-28T12:38:08.935Z"
   },
   {
    "duration": 16,
    "start_time": "2021-11-28T12:38:08.953Z"
   },
   {
    "duration": 620,
    "start_time": "2021-11-28T12:38:08.971Z"
   },
   {
    "duration": 3,
    "start_time": "2021-11-28T12:38:09.593Z"
   },
   {
    "duration": 28,
    "start_time": "2021-11-28T12:38:09.598Z"
   },
   {
    "duration": 763,
    "start_time": "2021-11-28T12:38:09.627Z"
   },
   {
    "duration": 154,
    "start_time": "2021-11-28T12:38:10.392Z"
   },
   {
    "duration": 9,
    "start_time": "2021-11-28T12:38:10.547Z"
   },
   {
    "duration": 3,
    "start_time": "2021-11-28T12:38:10.558Z"
   },
   {
    "duration": 26,
    "start_time": "2021-11-28T12:38:10.562Z"
   },
   {
    "duration": 195,
    "start_time": "2021-11-28T12:38:10.589Z"
   },
   {
    "duration": 4,
    "start_time": "2021-11-28T12:38:10.788Z"
   },
   {
    "duration": 37,
    "start_time": "2021-11-28T12:38:10.794Z"
   },
   {
    "duration": 11,
    "start_time": "2021-11-28T12:38:10.833Z"
   },
   {
    "duration": 352,
    "start_time": "2021-11-28T12:38:10.846Z"
   },
   {
    "duration": 6,
    "start_time": "2021-11-28T12:38:11.200Z"
   },
   {
    "duration": 60,
    "start_time": "2021-11-28T12:38:11.208Z"
   },
   {
    "duration": 8,
    "start_time": "2021-11-28T12:38:11.270Z"
   },
   {
    "duration": 255,
    "start_time": "2021-11-28T12:38:11.279Z"
   },
   {
    "duration": 21,
    "start_time": "2021-11-28T12:38:11.535Z"
   },
   {
    "duration": 500,
    "start_time": "2021-11-28T12:38:11.558Z"
   },
   {
    "duration": 9,
    "start_time": "2021-11-28T12:38:12.061Z"
   },
   {
    "duration": 35,
    "start_time": "2021-11-28T12:38:12.072Z"
   },
   {
    "duration": 215,
    "start_time": "2021-11-28T12:38:12.109Z"
   },
   {
    "duration": 182,
    "start_time": "2021-11-28T12:38:12.326Z"
   },
   {
    "duration": 212,
    "start_time": "2021-11-28T12:38:12.510Z"
   },
   {
    "duration": 195,
    "start_time": "2021-11-28T12:38:12.723Z"
   },
   {
    "duration": 36,
    "start_time": "2021-11-28T12:38:43.157Z"
   },
   {
    "duration": 185,
    "start_time": "2021-11-28T12:40:22.684Z"
   },
   {
    "duration": 181,
    "start_time": "2021-11-28T12:40:50.496Z"
   },
   {
    "duration": 230,
    "start_time": "2021-11-28T12:41:31.186Z"
   },
   {
    "duration": 90,
    "start_time": "2021-11-28T12:48:22.777Z"
   },
   {
    "duration": 292,
    "start_time": "2021-11-28T12:52:20.337Z"
   },
   {
    "duration": 217,
    "start_time": "2021-11-28T12:52:55.977Z"
   },
   {
    "duration": 185,
    "start_time": "2021-11-28T13:00:07.162Z"
   },
   {
    "duration": 207,
    "start_time": "2021-11-28T13:02:00.337Z"
   },
   {
    "duration": 173,
    "start_time": "2021-11-28T13:02:25.856Z"
   },
   {
    "duration": 199,
    "start_time": "2021-11-28T13:03:03.978Z"
   },
   {
    "duration": 187,
    "start_time": "2021-11-28T13:04:09.738Z"
   },
   {
    "duration": 204,
    "start_time": "2021-11-28T13:04:48.273Z"
   },
   {
    "duration": 526,
    "start_time": "2021-11-29T09:05:15.744Z"
   },
   {
    "duration": 1066,
    "start_time": "2021-11-29T09:05:22.745Z"
   },
   {
    "duration": 53,
    "start_time": "2021-11-29T09:05:23.814Z"
   },
   {
    "duration": 22,
    "start_time": "2021-11-29T09:05:23.871Z"
   },
   {
    "duration": 120,
    "start_time": "2021-11-29T09:05:23.895Z"
   },
   {
    "duration": 9,
    "start_time": "2021-11-29T09:05:24.018Z"
   },
   {
    "duration": 16,
    "start_time": "2021-11-29T09:05:24.058Z"
   },
   {
    "duration": 358,
    "start_time": "2021-11-29T09:05:24.077Z"
   },
   {
    "duration": 50,
    "start_time": "2021-11-29T09:05:24.437Z"
   },
   {
    "duration": 15,
    "start_time": "2021-11-29T09:05:24.493Z"
   },
   {
    "duration": 55,
    "start_time": "2021-11-29T09:05:24.512Z"
   },
   {
    "duration": 868,
    "start_time": "2021-11-29T09:05:24.572Z"
   },
   {
    "duration": 20,
    "start_time": "2021-11-29T09:05:25.442Z"
   },
   {
    "duration": 24,
    "start_time": "2021-11-29T09:05:25.464Z"
   },
   {
    "duration": 9,
    "start_time": "2021-11-29T09:05:25.491Z"
   },
   {
    "duration": 1433,
    "start_time": "2021-11-29T09:05:25.502Z"
   },
   {
    "duration": 15,
    "start_time": "2021-11-29T09:05:26.938Z"
   },
   {
    "duration": 29,
    "start_time": "2021-11-29T09:05:26.966Z"
   },
   {
    "duration": 1285,
    "start_time": "2021-11-29T09:05:26.998Z"
   },
   {
    "duration": 4,
    "start_time": "2021-11-29T09:05:28.286Z"
   },
   {
    "duration": 55,
    "start_time": "2021-11-29T09:05:28.293Z"
   },
   {
    "duration": 1296,
    "start_time": "2021-11-29T09:05:28.350Z"
   },
   {
    "duration": 296,
    "start_time": "2021-11-29T09:05:29.649Z"
   },
   {
    "duration": 26,
    "start_time": "2021-11-29T09:05:29.947Z"
   },
   {
    "duration": 19,
    "start_time": "2021-11-29T09:05:29.976Z"
   },
   {
    "duration": 31,
    "start_time": "2021-11-29T09:05:29.998Z"
   },
   {
    "duration": 369,
    "start_time": "2021-11-29T09:05:30.032Z"
   },
   {
    "duration": 7,
    "start_time": "2021-11-29T09:05:30.406Z"
   },
   {
    "duration": 47,
    "start_time": "2021-11-29T09:05:30.433Z"
   },
   {
    "duration": 49,
    "start_time": "2021-11-29T09:05:30.484Z"
   },
   {
    "duration": 689,
    "start_time": "2021-11-29T09:05:30.535Z"
   },
   {
    "duration": 8,
    "start_time": "2021-11-29T09:05:31.228Z"
   },
   {
    "duration": 99,
    "start_time": "2021-11-29T09:05:31.240Z"
   },
   {
    "duration": 28,
    "start_time": "2021-11-29T09:05:31.342Z"
   },
   {
    "duration": 363,
    "start_time": "2021-11-29T09:05:31.377Z"
   },
   {
    "duration": 48,
    "start_time": "2021-11-29T09:05:31.742Z"
   },
   {
    "duration": 990,
    "start_time": "2021-11-29T09:05:31.792Z"
   },
   {
    "duration": 13,
    "start_time": "2021-11-29T09:05:32.784Z"
   },
   {
    "duration": 41,
    "start_time": "2021-11-29T09:05:32.800Z"
   },
   {
    "duration": 371,
    "start_time": "2021-11-29T09:05:32.844Z"
   },
   {
    "duration": 345,
    "start_time": "2021-11-29T09:05:33.218Z"
   },
   {
    "duration": 401,
    "start_time": "2021-11-29T09:05:33.565Z"
   },
   {
    "duration": 445,
    "start_time": "2021-11-29T09:05:33.969Z"
   },
   {
    "duration": 436,
    "start_time": "2021-11-29T09:05:34.417Z"
   },
   {
    "duration": 513,
    "start_time": "2021-11-29T09:05:34.859Z"
   },
   {
    "duration": 349,
    "start_time": "2021-11-29T09:05:35.376Z"
   },
   {
    "duration": 404,
    "start_time": "2021-11-29T09:05:35.727Z"
   },
   {
    "duration": 526,
    "start_time": "2021-11-29T09:05:36.134Z"
   },
   {
    "duration": 360,
    "start_time": "2021-11-29T09:05:36.663Z"
   },
   {
    "duration": 229,
    "start_time": "2021-11-29T09:05:47.897Z"
   },
   {
    "duration": 234,
    "start_time": "2021-11-29T09:07:57.664Z"
   },
   {
    "duration": 269,
    "start_time": "2021-11-29T09:08:17.823Z"
   },
   {
    "duration": 210,
    "start_time": "2021-11-29T09:08:23.131Z"
   },
   {
    "duration": 300,
    "start_time": "2021-11-29T09:13:28.516Z"
   },
   {
    "duration": 220,
    "start_time": "2021-11-29T09:14:10.876Z"
   },
   {
    "duration": 211,
    "start_time": "2021-11-29T09:14:24.484Z"
   },
   {
    "duration": 210,
    "start_time": "2021-11-29T09:14:37.244Z"
   },
   {
    "duration": 126,
    "start_time": "2021-11-29T09:14:45.865Z"
   },
   {
    "duration": 67,
    "start_time": "2021-11-29T09:14:45.994Z"
   },
   {
    "duration": 21,
    "start_time": "2021-11-29T09:14:46.065Z"
   },
   {
    "duration": 132,
    "start_time": "2021-11-29T09:14:46.088Z"
   },
   {
    "duration": 8,
    "start_time": "2021-11-29T09:14:46.223Z"
   },
   {
    "duration": 31,
    "start_time": "2021-11-29T09:14:46.233Z"
   },
   {
    "duration": 325,
    "start_time": "2021-11-29T09:14:46.266Z"
   },
   {
    "duration": 31,
    "start_time": "2021-11-29T09:14:46.593Z"
   },
   {
    "duration": 33,
    "start_time": "2021-11-29T09:14:46.628Z"
   },
   {
    "duration": 16,
    "start_time": "2021-11-29T09:14:46.664Z"
   },
   {
    "duration": 739,
    "start_time": "2021-11-29T09:14:46.682Z"
   },
   {
    "duration": 11,
    "start_time": "2021-11-29T09:14:47.424Z"
   },
   {
    "duration": 35,
    "start_time": "2021-11-29T09:14:47.437Z"
   },
   {
    "duration": 10,
    "start_time": "2021-11-29T09:14:47.475Z"
   },
   {
    "duration": 975,
    "start_time": "2021-11-29T09:14:47.488Z"
   },
   {
    "duration": 14,
    "start_time": "2021-11-29T09:14:48.465Z"
   },
   {
    "duration": 9,
    "start_time": "2021-11-29T09:14:48.482Z"
   },
   {
    "duration": 947,
    "start_time": "2021-11-29T09:14:48.493Z"
   },
   {
    "duration": 5,
    "start_time": "2021-11-29T09:14:49.442Z"
   },
   {
    "duration": 22,
    "start_time": "2021-11-29T09:14:49.459Z"
   },
   {
    "duration": 1093,
    "start_time": "2021-11-29T09:14:49.483Z"
   },
   {
    "duration": 259,
    "start_time": "2021-11-29T09:14:50.579Z"
   },
   {
    "duration": 26,
    "start_time": "2021-11-29T09:14:50.840Z"
   },
   {
    "duration": 5,
    "start_time": "2021-11-29T09:14:50.868Z"
   },
   {
    "duration": 30,
    "start_time": "2021-11-29T09:14:50.876Z"
   },
   {
    "duration": 327,
    "start_time": "2021-11-29T09:14:50.909Z"
   },
   {
    "duration": 6,
    "start_time": "2021-11-29T09:14:51.243Z"
   },
   {
    "duration": 33,
    "start_time": "2021-11-29T09:14:51.260Z"
   },
   {
    "duration": 8,
    "start_time": "2021-11-29T09:14:51.295Z"
   },
   {
    "duration": 702,
    "start_time": "2021-11-29T09:14:51.305Z"
   },
   {
    "duration": 7,
    "start_time": "2021-11-29T09:14:52.010Z"
   },
   {
    "duration": 87,
    "start_time": "2021-11-29T09:14:52.019Z"
   },
   {
    "duration": 12,
    "start_time": "2021-11-29T09:14:52.108Z"
   },
   {
    "duration": 301,
    "start_time": "2021-11-29T09:14:52.122Z"
   },
   {
    "duration": 42,
    "start_time": "2021-11-29T09:14:52.426Z"
   },
   {
    "duration": 838,
    "start_time": "2021-11-29T09:14:52.470Z"
   },
   {
    "duration": 11,
    "start_time": "2021-11-29T09:14:53.311Z"
   },
   {
    "duration": 43,
    "start_time": "2021-11-29T09:14:53.324Z"
   },
   {
    "duration": 351,
    "start_time": "2021-11-29T09:14:53.369Z"
   },
   {
    "duration": 307,
    "start_time": "2021-11-29T09:14:53.722Z"
   },
   {
    "duration": 373,
    "start_time": "2021-11-29T09:14:54.032Z"
   },
   {
    "duration": 336,
    "start_time": "2021-11-29T09:14:54.408Z"
   },
   {
    "duration": 372,
    "start_time": "2021-11-29T09:14:54.747Z"
   },
   {
    "duration": 232,
    "start_time": "2021-11-29T09:14:55.121Z"
   },
   {
    "duration": 333,
    "start_time": "2021-11-29T09:14:55.359Z"
   },
   {
    "duration": 454,
    "start_time": "2021-11-29T09:14:55.694Z"
   },
   {
    "duration": 368,
    "start_time": "2021-11-29T09:14:56.150Z"
   },
   {
    "duration": 333,
    "start_time": "2021-11-29T09:14:56.521Z"
   },
   {
    "duration": 226,
    "start_time": "2021-11-29T09:14:56.860Z"
   },
   {
    "duration": 218,
    "start_time": "2021-11-29T09:15:04.952Z"
   },
   {
    "duration": 207,
    "start_time": "2021-11-29T09:15:15.484Z"
   },
   {
    "duration": 193,
    "start_time": "2021-11-29T09:18:02.297Z"
   },
   {
    "duration": 220,
    "start_time": "2021-11-29T09:18:57.484Z"
   },
   {
    "duration": 218,
    "start_time": "2021-11-29T09:19:38.284Z"
   },
   {
    "duration": 215,
    "start_time": "2021-11-29T09:22:48.765Z"
   },
   {
    "duration": 200,
    "start_time": "2021-11-29T09:22:56.805Z"
   },
   {
    "duration": 196,
    "start_time": "2021-11-29T09:23:26.604Z"
   },
   {
    "duration": 205,
    "start_time": "2021-11-29T09:23:41.705Z"
   },
   {
    "duration": 199,
    "start_time": "2021-11-29T09:24:04.685Z"
   },
   {
    "duration": 214,
    "start_time": "2021-11-29T09:28:46.147Z"
   },
   {
    "duration": 214,
    "start_time": "2021-11-29T09:28:58.805Z"
   },
   {
    "duration": 320,
    "start_time": "2021-11-29T09:29:20.085Z"
   },
   {
    "duration": 665,
    "start_time": "2021-11-29T09:31:00.765Z"
   },
   {
    "duration": 128,
    "start_time": "2021-11-29T09:31:44.094Z"
   },
   {
    "duration": 197,
    "start_time": "2021-11-29T09:31:53.296Z"
   },
   {
    "duration": 219,
    "start_time": "2021-11-29T09:32:01.684Z"
   },
   {
    "duration": 629,
    "start_time": "2021-11-29T09:32:21.406Z"
   },
   {
    "duration": 214,
    "start_time": "2021-11-29T09:32:38.065Z"
   },
   {
    "duration": 214,
    "start_time": "2021-11-29T09:33:02.636Z"
   },
   {
    "duration": 205,
    "start_time": "2021-11-29T09:34:12.305Z"
   },
   {
    "duration": 232,
    "start_time": "2021-11-29T10:07:13.825Z"
   },
   {
    "duration": 219,
    "start_time": "2021-11-29T10:07:58.686Z"
   },
   {
    "duration": 216,
    "start_time": "2021-11-29T10:09:02.217Z"
   },
   {
    "duration": 589,
    "start_time": "2021-11-29T11:45:51.585Z"
   },
   {
    "duration": 215,
    "start_time": "2021-11-29T11:48:42.386Z"
   },
   {
    "duration": 233,
    "start_time": "2021-11-29T11:49:06.942Z"
   },
   {
    "duration": 229,
    "start_time": "2021-11-29T11:50:29.138Z"
   },
   {
    "duration": 256,
    "start_time": "2021-11-29T11:51:07.193Z"
   },
   {
    "duration": 251,
    "start_time": "2021-11-29T11:54:09.844Z"
   },
   {
    "duration": 233,
    "start_time": "2021-11-29T11:56:00.026Z"
   },
   {
    "duration": 263,
    "start_time": "2021-11-29T11:56:05.464Z"
   },
   {
    "duration": 269,
    "start_time": "2021-11-29T11:59:49.964Z"
   },
   {
    "duration": 421,
    "start_time": "2021-11-29T12:00:02.605Z"
   },
   {
    "duration": 376,
    "start_time": "2021-11-29T12:00:36.937Z"
   },
   {
    "duration": 231,
    "start_time": "2021-11-29T12:06:02.785Z"
   },
   {
    "duration": 256,
    "start_time": "2021-11-29T12:09:05.264Z"
   },
   {
    "duration": 255,
    "start_time": "2021-11-29T12:09:15.245Z"
   },
   {
    "duration": 245,
    "start_time": "2021-11-29T12:12:08.864Z"
   },
   {
    "duration": 264,
    "start_time": "2021-11-29T12:13:03.845Z"
   },
   {
    "duration": 339,
    "start_time": "2021-11-29T12:13:18.824Z"
   },
   {
    "duration": 239,
    "start_time": "2021-11-29T12:15:44.404Z"
   },
   {
    "duration": 241,
    "start_time": "2021-11-29T12:25:38.028Z"
   },
   {
    "duration": 312,
    "start_time": "2021-11-29T12:26:04.075Z"
   },
   {
    "duration": 322,
    "start_time": "2021-11-29T12:34:12.775Z"
   },
   {
    "duration": 309,
    "start_time": "2021-11-29T12:34:47.212Z"
   },
   {
    "duration": 366,
    "start_time": "2021-11-29T12:35:19.376Z"
   },
   {
    "duration": 210,
    "start_time": "2021-11-29T12:43:25.801Z"
   },
   {
    "duration": 206,
    "start_time": "2021-11-29T12:43:39.686Z"
   },
   {
    "duration": 230,
    "start_time": "2021-11-29T12:44:08.244Z"
   },
   {
    "duration": 252,
    "start_time": "2021-11-29T12:44:19.205Z"
   },
   {
    "duration": 42,
    "start_time": "2021-11-29T12:44:27.704Z"
   },
   {
    "duration": 237,
    "start_time": "2021-11-29T12:45:06.024Z"
   },
   {
    "duration": 42,
    "start_time": "2021-11-29T12:45:43.004Z"
   },
   {
    "duration": 262,
    "start_time": "2021-11-29T12:47:24.017Z"
   },
   {
    "duration": 383,
    "start_time": "2021-11-29T12:47:43.644Z"
   },
   {
    "duration": 226,
    "start_time": "2021-11-29T12:48:32.426Z"
   },
   {
    "duration": 39,
    "start_time": "2021-11-29T12:48:43.765Z"
   },
   {
    "duration": 47,
    "start_time": "2021-11-29T12:56:18.404Z"
   },
   {
    "duration": 232,
    "start_time": "2021-11-29T12:58:37.504Z"
   },
   {
    "duration": 38,
    "start_time": "2021-11-29T12:59:28.744Z"
   },
   {
    "duration": 38,
    "start_time": "2021-11-29T13:01:39.385Z"
   },
   {
    "duration": 260,
    "start_time": "2021-11-29T13:04:28.840Z"
   },
   {
    "duration": 654,
    "start_time": "2021-11-29T13:06:32.125Z"
   },
   {
    "duration": 618,
    "start_time": "2021-11-29T13:06:53.526Z"
   },
   {
    "duration": 715,
    "start_time": "2021-11-29T13:07:59.451Z"
   },
   {
    "duration": 238,
    "start_time": "2021-11-29T13:08:58.160Z"
   },
   {
    "duration": 492,
    "start_time": "2021-11-29T13:09:01.103Z"
   },
   {
    "duration": 161,
    "start_time": "2021-11-29T13:12:37.296Z"
   },
   {
    "duration": 122,
    "start_time": "2021-11-29T13:12:45.356Z"
   },
   {
    "duration": 130,
    "start_time": "2021-11-29T13:12:56.624Z"
   },
   {
    "duration": 780,
    "start_time": "2021-11-30T07:52:30.421Z"
   },
   {
    "duration": 25,
    "start_time": "2021-11-30T07:52:31.203Z"
   },
   {
    "duration": 11,
    "start_time": "2021-11-30T07:52:31.230Z"
   },
   {
    "duration": 84,
    "start_time": "2021-11-30T07:52:31.243Z"
   },
   {
    "duration": 5,
    "start_time": "2021-11-30T07:52:31.329Z"
   },
   {
    "duration": 36,
    "start_time": "2021-11-30T07:52:31.335Z"
   },
   {
    "duration": 199,
    "start_time": "2021-11-30T07:52:31.373Z"
   },
   {
    "duration": 21,
    "start_time": "2021-11-30T07:52:31.574Z"
   },
   {
    "duration": 8,
    "start_time": "2021-11-30T07:52:31.598Z"
   },
   {
    "duration": 18,
    "start_time": "2021-11-30T07:52:31.608Z"
   },
   {
    "duration": 505,
    "start_time": "2021-11-30T07:52:31.628Z"
   },
   {
    "duration": 12,
    "start_time": "2021-11-30T07:52:32.135Z"
   },
   {
    "duration": 21,
    "start_time": "2021-11-30T07:52:32.149Z"
   },
   {
    "duration": 33,
    "start_time": "2021-11-30T07:52:32.172Z"
   },
   {
    "duration": 678,
    "start_time": "2021-11-30T07:52:32.207Z"
   },
   {
    "duration": 12,
    "start_time": "2021-11-30T07:52:32.886Z"
   },
   {
    "duration": 6,
    "start_time": "2021-11-30T07:52:32.900Z"
   },
   {
    "duration": 720,
    "start_time": "2021-11-30T07:52:32.907Z"
   },
   {
    "duration": 4,
    "start_time": "2021-11-30T07:52:33.629Z"
   },
   {
    "duration": 33,
    "start_time": "2021-11-30T07:52:33.635Z"
   },
   {
    "duration": 740,
    "start_time": "2021-11-30T07:52:33.671Z"
   },
   {
    "duration": 157,
    "start_time": "2021-11-30T07:52:34.413Z"
   },
   {
    "duration": 10,
    "start_time": "2021-11-30T07:52:34.572Z"
   },
   {
    "duration": 18,
    "start_time": "2021-11-30T07:52:34.584Z"
   },
   {
    "duration": 220,
    "start_time": "2021-11-30T07:52:34.603Z"
   },
   {
    "duration": 418,
    "start_time": "2021-11-30T07:52:34.825Z"
   },
   {
    "duration": 5,
    "start_time": "2021-11-30T07:52:35.248Z"
   },
   {
    "duration": 43,
    "start_time": "2021-11-30T07:52:35.264Z"
   },
   {
    "duration": 31,
    "start_time": "2021-11-30T07:52:35.309Z"
   },
   {
    "duration": 349,
    "start_time": "2021-11-30T07:52:35.342Z"
   },
   {
    "duration": 5,
    "start_time": "2021-11-30T07:52:35.693Z"
   },
   {
    "duration": 65,
    "start_time": "2021-11-30T07:52:35.699Z"
   },
   {
    "duration": 9,
    "start_time": "2021-11-30T07:52:35.765Z"
   },
   {
    "duration": 206,
    "start_time": "2021-11-30T07:52:35.776Z"
   },
   {
    "duration": 22,
    "start_time": "2021-11-30T07:52:35.984Z"
   },
   {
    "duration": 514,
    "start_time": "2021-11-30T07:52:36.008Z"
   },
   {
    "duration": 11,
    "start_time": "2021-11-30T07:52:36.524Z"
   },
   {
    "duration": 30,
    "start_time": "2021-11-30T07:52:36.536Z"
   },
   {
    "duration": 230,
    "start_time": "2021-11-30T07:52:36.568Z"
   },
   {
    "duration": 187,
    "start_time": "2021-11-30T07:52:36.800Z"
   },
   {
    "duration": 229,
    "start_time": "2021-11-30T07:52:36.989Z"
   },
   {
    "duration": 304,
    "start_time": "2021-11-30T07:52:37.220Z"
   },
   {
    "duration": 237,
    "start_time": "2021-11-30T07:52:37.526Z"
   },
   {
    "duration": 142,
    "start_time": "2021-11-30T07:52:37.765Z"
   },
   {
    "duration": 136,
    "start_time": "2021-11-30T07:52:37.909Z"
   },
   {
    "duration": 133,
    "start_time": "2021-11-30T07:52:38.047Z"
   },
   {
    "duration": 152,
    "start_time": "2021-11-30T07:52:38.182Z"
   },
   {
    "duration": 156,
    "start_time": "2021-11-30T07:52:38.337Z"
   },
   {
    "duration": 85,
    "start_time": "2021-11-30T07:52:38.495Z"
   },
   {
    "duration": 287,
    "start_time": "2021-11-30T07:53:22.121Z"
   },
   {
    "duration": 84,
    "start_time": "2021-11-30T07:53:31.463Z"
   },
   {
    "duration": 76,
    "start_time": "2021-11-30T07:53:39.820Z"
   },
   {
    "duration": 80,
    "start_time": "2021-11-30T07:53:52.492Z"
   },
   {
    "duration": 84,
    "start_time": "2021-11-30T07:54:04.544Z"
   },
   {
    "duration": 280,
    "start_time": "2021-11-30T07:54:19.421Z"
   },
   {
    "duration": 685,
    "start_time": "2021-11-30T07:54:43.241Z"
   },
   {
    "duration": 294,
    "start_time": "2021-11-30T07:55:06.001Z"
   },
   {
    "duration": 353,
    "start_time": "2021-11-30T08:03:57.337Z"
   },
   {
    "duration": 594,
    "start_time": "2021-11-30T08:04:06.692Z"
   },
   {
    "duration": 941,
    "start_time": "2021-11-30T08:04:33.522Z"
   },
   {
    "duration": 752,
    "start_time": "2021-11-30T08:06:13.459Z"
   },
   {
    "duration": 644,
    "start_time": "2021-11-30T08:07:39.556Z"
   },
   {
    "duration": 109,
    "start_time": "2021-11-30T08:07:46.824Z"
   },
   {
    "duration": 39,
    "start_time": "2021-11-30T08:07:46.935Z"
   },
   {
    "duration": 41,
    "start_time": "2021-11-30T08:07:46.977Z"
   },
   {
    "duration": 89,
    "start_time": "2021-11-30T08:07:47.020Z"
   },
   {
    "duration": 6,
    "start_time": "2021-11-30T08:07:47.110Z"
   },
   {
    "duration": 28,
    "start_time": "2021-11-30T08:07:47.118Z"
   },
   {
    "duration": 218,
    "start_time": "2021-11-30T08:07:47.148Z"
   },
   {
    "duration": 22,
    "start_time": "2021-11-30T08:07:47.369Z"
   },
   {
    "duration": 10,
    "start_time": "2021-11-30T08:07:47.395Z"
   },
   {
    "duration": 19,
    "start_time": "2021-11-30T08:07:47.407Z"
   },
   {
    "duration": 560,
    "start_time": "2021-11-30T08:07:47.428Z"
   },
   {
    "duration": 8,
    "start_time": "2021-11-30T08:07:47.990Z"
   },
   {
    "duration": 26,
    "start_time": "2021-11-30T08:07:48.000Z"
   },
   {
    "duration": 14,
    "start_time": "2021-11-30T08:07:48.028Z"
   },
   {
    "duration": 746,
    "start_time": "2021-11-30T08:07:48.044Z"
   },
   {
    "duration": 13,
    "start_time": "2021-11-30T08:07:48.792Z"
   },
   {
    "duration": 16,
    "start_time": "2021-11-30T08:07:48.807Z"
   },
   {
    "duration": 658,
    "start_time": "2021-11-30T08:07:48.825Z"
   },
   {
    "duration": 4,
    "start_time": "2021-11-30T08:07:49.484Z"
   },
   {
    "duration": 31,
    "start_time": "2021-11-30T08:07:49.490Z"
   },
   {
    "duration": 927,
    "start_time": "2021-11-30T08:07:49.523Z"
   },
   {
    "duration": 174,
    "start_time": "2021-11-30T08:07:50.452Z"
   },
   {
    "duration": 9,
    "start_time": "2021-11-30T08:07:50.628Z"
   },
   {
    "duration": 17,
    "start_time": "2021-11-30T08:07:50.638Z"
   },
   {
    "duration": 17,
    "start_time": "2021-11-30T08:07:50.657Z"
   },
   {
    "duration": 203,
    "start_time": "2021-11-30T08:07:50.676Z"
   },
   {
    "duration": 5,
    "start_time": "2021-11-30T08:07:50.883Z"
   },
   {
    "duration": 30,
    "start_time": "2021-11-30T08:07:50.890Z"
   },
   {
    "duration": 17,
    "start_time": "2021-11-30T08:07:50.921Z"
   },
   {
    "duration": 392,
    "start_time": "2021-11-30T08:07:50.939Z"
   },
   {
    "duration": 6,
    "start_time": "2021-11-30T08:07:51.333Z"
   },
   {
    "duration": 71,
    "start_time": "2021-11-30T08:07:51.340Z"
   },
   {
    "duration": 9,
    "start_time": "2021-11-30T08:07:51.413Z"
   },
   {
    "duration": 252,
    "start_time": "2021-11-30T08:07:51.424Z"
   },
   {
    "duration": 22,
    "start_time": "2021-11-30T08:07:51.679Z"
   },
   {
    "duration": 547,
    "start_time": "2021-11-30T08:07:51.703Z"
   },
   {
    "duration": 21,
    "start_time": "2021-11-30T08:07:52.251Z"
   },
   {
    "duration": 18,
    "start_time": "2021-11-30T08:07:52.275Z"
   },
   {
    "duration": 245,
    "start_time": "2021-11-30T08:07:52.295Z"
   },
   {
    "duration": 206,
    "start_time": "2021-11-30T08:07:52.542Z"
   },
   {
    "duration": 246,
    "start_time": "2021-11-30T08:07:52.750Z"
   },
   {
    "duration": 220,
    "start_time": "2021-11-30T08:07:52.998Z"
   },
   {
    "duration": 283,
    "start_time": "2021-11-30T08:07:53.219Z"
   },
   {
    "duration": 256,
    "start_time": "2021-11-30T08:07:53.504Z"
   },
   {
    "duration": 159,
    "start_time": "2021-11-30T08:07:53.765Z"
   },
   {
    "duration": 146,
    "start_time": "2021-11-30T08:07:53.926Z"
   },
   {
    "duration": 161,
    "start_time": "2021-11-30T08:07:54.074Z"
   },
   {
    "duration": 173,
    "start_time": "2021-11-30T08:07:54.237Z"
   },
   {
    "duration": 623,
    "start_time": "2021-11-30T08:07:54.412Z"
   },
   {
    "duration": 603,
    "start_time": "2021-11-30T08:08:04.042Z"
   },
   {
    "duration": 770,
    "start_time": "2021-11-30T08:08:22.261Z"
   },
   {
    "duration": 606,
    "start_time": "2021-11-30T08:08:40.280Z"
   },
   {
    "duration": 87,
    "start_time": "2021-11-30T08:12:51.500Z"
   },
   {
    "duration": 632,
    "start_time": "2021-11-30T08:12:58.321Z"
   },
   {
    "duration": 6980,
    "start_time": "2021-11-30T08:13:18.474Z"
   },
   {
    "duration": 897,
    "start_time": "2021-11-30T08:13:27.833Z"
   },
   {
    "duration": 612,
    "start_time": "2021-11-30T08:13:55.456Z"
   },
   {
    "duration": 633,
    "start_time": "2021-11-30T08:14:09.568Z"
   },
   {
    "duration": 1332,
    "start_time": "2021-11-30T08:14:48.428Z"
   },
   {
    "duration": 1253,
    "start_time": "2021-11-30T08:16:17.222Z"
   },
   {
    "duration": 1482,
    "start_time": "2021-11-30T08:16:49.352Z"
   },
   {
    "duration": 1214,
    "start_time": "2021-11-30T08:17:21.840Z"
   },
   {
    "duration": 1369,
    "start_time": "2021-11-30T08:17:58.212Z"
   },
   {
    "duration": 1227,
    "start_time": "2021-11-30T08:18:07.674Z"
   },
   {
    "duration": 1494,
    "start_time": "2021-11-30T08:18:13.528Z"
   },
   {
    "duration": 1257,
    "start_time": "2021-11-30T08:18:23.028Z"
   },
   {
    "duration": 1385,
    "start_time": "2021-11-30T08:18:31.454Z"
   },
   {
    "duration": 1365,
    "start_time": "2021-11-30T08:18:46.832Z"
   },
   {
    "duration": 1350,
    "start_time": "2021-11-30T08:19:02.880Z"
   },
   {
    "duration": 975,
    "start_time": "2021-11-30T08:19:13.369Z"
   },
   {
    "duration": 1027,
    "start_time": "2021-11-30T08:19:35.213Z"
   },
   {
    "duration": 850,
    "start_time": "2021-11-30T08:19:55.281Z"
   },
   {
    "duration": 1015,
    "start_time": "2021-11-30T08:20:15.721Z"
   },
   {
    "duration": 886,
    "start_time": "2021-11-30T08:20:28.690Z"
   },
   {
    "duration": 1191,
    "start_time": "2021-11-30T08:20:48.662Z"
   },
   {
    "duration": 97,
    "start_time": "2021-11-30T08:20:55.160Z"
   },
   {
    "duration": 33,
    "start_time": "2021-11-30T08:20:55.259Z"
   },
   {
    "duration": 11,
    "start_time": "2021-11-30T08:20:55.294Z"
   },
   {
    "duration": 309,
    "start_time": "2021-11-30T08:20:55.307Z"
   },
   {
    "duration": 6,
    "start_time": "2021-11-30T08:20:55.617Z"
   },
   {
    "duration": 14,
    "start_time": "2021-11-30T08:20:55.625Z"
   },
   {
    "duration": 229,
    "start_time": "2021-11-30T08:20:55.641Z"
   },
   {
    "duration": 24,
    "start_time": "2021-11-30T08:20:55.872Z"
   },
   {
    "duration": 10,
    "start_time": "2021-11-30T08:20:55.900Z"
   },
   {
    "duration": 13,
    "start_time": "2021-11-30T08:20:55.912Z"
   },
   {
    "duration": 566,
    "start_time": "2021-11-30T08:20:55.927Z"
   },
   {
    "duration": 11,
    "start_time": "2021-11-30T08:20:56.495Z"
   },
   {
    "duration": 23,
    "start_time": "2021-11-30T08:20:56.508Z"
   },
   {
    "duration": 16,
    "start_time": "2021-11-30T08:20:56.533Z"
   },
   {
    "duration": 731,
    "start_time": "2021-11-30T08:20:56.551Z"
   },
   {
    "duration": 10,
    "start_time": "2021-11-30T08:20:57.284Z"
   },
   {
    "duration": 10,
    "start_time": "2021-11-30T08:20:57.296Z"
   },
   {
    "duration": 651,
    "start_time": "2021-11-30T08:20:57.308Z"
   },
   {
    "duration": 5,
    "start_time": "2021-11-30T08:20:57.964Z"
   },
   {
    "duration": 29,
    "start_time": "2021-11-30T08:20:57.971Z"
   },
   {
    "duration": 826,
    "start_time": "2021-11-30T08:20:58.002Z"
   },
   {
    "duration": 173,
    "start_time": "2021-11-30T08:20:58.830Z"
   },
   {
    "duration": 10,
    "start_time": "2021-11-30T08:20:59.005Z"
   },
   {
    "duration": 20,
    "start_time": "2021-11-30T08:20:59.017Z"
   },
   {
    "duration": 22,
    "start_time": "2021-11-30T08:20:59.039Z"
   },
   {
    "duration": 209,
    "start_time": "2021-11-30T08:20:59.063Z"
   },
   {
    "duration": 6,
    "start_time": "2021-11-30T08:20:59.278Z"
   },
   {
    "duration": 30,
    "start_time": "2021-11-30T08:20:59.286Z"
   },
   {
    "duration": 17,
    "start_time": "2021-11-30T08:20:59.318Z"
   },
   {
    "duration": 380,
    "start_time": "2021-11-30T08:20:59.337Z"
   },
   {
    "duration": 6,
    "start_time": "2021-11-30T08:20:59.718Z"
   },
   {
    "duration": 68,
    "start_time": "2021-11-30T08:20:59.725Z"
   },
   {
    "duration": 9,
    "start_time": "2021-11-30T08:20:59.795Z"
   },
   {
    "duration": 390,
    "start_time": "2021-11-30T08:20:59.806Z"
   },
   {
    "duration": 22,
    "start_time": "2021-11-30T08:21:00.197Z"
   },
   {
    "duration": 653,
    "start_time": "2021-11-30T08:21:00.221Z"
   },
   {
    "duration": 10,
    "start_time": "2021-11-30T08:21:00.876Z"
   },
   {
    "duration": 72,
    "start_time": "2021-11-30T08:21:00.888Z"
   },
   {
    "duration": 264,
    "start_time": "2021-11-30T08:21:00.962Z"
   },
   {
    "duration": 209,
    "start_time": "2021-11-30T08:21:01.228Z"
   },
   {
    "duration": 267,
    "start_time": "2021-11-30T08:21:01.439Z"
   },
   {
    "duration": 237,
    "start_time": "2021-11-30T08:21:01.708Z"
   },
   {
    "duration": 250,
    "start_time": "2021-11-30T08:21:01.947Z"
   },
   {
    "duration": 154,
    "start_time": "2021-11-30T08:21:02.199Z"
   },
   {
    "duration": 164,
    "start_time": "2021-11-30T08:21:02.355Z"
   },
   {
    "duration": 142,
    "start_time": "2021-11-30T08:21:02.521Z"
   },
   {
    "duration": 171,
    "start_time": "2021-11-30T08:21:02.665Z"
   },
   {
    "duration": 172,
    "start_time": "2021-11-30T08:21:02.838Z"
   },
   {
    "duration": 1397,
    "start_time": "2021-11-30T08:21:03.013Z"
   },
   {
    "duration": 828,
    "start_time": "2021-11-30T08:21:47.916Z"
   },
   {
    "duration": 809,
    "start_time": "2021-11-30T08:22:26.004Z"
   },
   {
    "duration": 1067,
    "start_time": "2021-11-30T08:22:36.177Z"
   },
   {
    "duration": 1230,
    "start_time": "2021-11-30T08:23:14.013Z"
   },
   {
    "duration": 1038,
    "start_time": "2021-11-30T08:24:05.942Z"
   },
   {
    "duration": 853,
    "start_time": "2021-11-30T08:24:51.181Z"
   },
   {
    "duration": 1396,
    "start_time": "2021-11-30T08:25:10.310Z"
   },
   {
    "duration": 103,
    "start_time": "2021-11-30T08:25:31.405Z"
   },
   {
    "duration": 25,
    "start_time": "2021-11-30T08:25:31.511Z"
   },
   {
    "duration": 42,
    "start_time": "2021-11-30T08:25:31.539Z"
   },
   {
    "duration": 93,
    "start_time": "2021-11-30T08:25:31.584Z"
   },
   {
    "duration": 8,
    "start_time": "2021-11-30T08:25:31.680Z"
   },
   {
    "duration": 70,
    "start_time": "2021-11-30T08:25:31.690Z"
   },
   {
    "duration": 233,
    "start_time": "2021-11-30T08:25:31.763Z"
   },
   {
    "duration": 20,
    "start_time": "2021-11-30T08:25:31.998Z"
   },
   {
    "duration": 52,
    "start_time": "2021-11-30T08:25:32.021Z"
   },
   {
    "duration": 28,
    "start_time": "2021-11-30T08:25:32.077Z"
   },
   {
    "duration": 582,
    "start_time": "2021-11-30T08:25:32.107Z"
   },
   {
    "duration": 11,
    "start_time": "2021-11-30T08:25:32.692Z"
   },
   {
    "duration": 15,
    "start_time": "2021-11-30T08:25:32.705Z"
   },
   {
    "duration": 11,
    "start_time": "2021-11-30T08:25:32.722Z"
   },
   {
    "duration": 856,
    "start_time": "2021-11-30T08:25:32.734Z"
   },
   {
    "duration": 12,
    "start_time": "2021-11-30T08:25:33.591Z"
   },
   {
    "duration": 5,
    "start_time": "2021-11-30T08:25:33.605Z"
   },
   {
    "duration": 700,
    "start_time": "2021-11-30T08:25:33.612Z"
   },
   {
    "duration": 5,
    "start_time": "2021-11-30T08:25:34.314Z"
   },
   {
    "duration": 20,
    "start_time": "2021-11-30T08:25:34.321Z"
   },
   {
    "duration": 890,
    "start_time": "2021-11-30T08:25:34.344Z"
   },
   {
    "duration": 192,
    "start_time": "2021-11-30T08:25:35.237Z"
   },
   {
    "duration": 11,
    "start_time": "2021-11-30T08:25:35.431Z"
   },
   {
    "duration": 20,
    "start_time": "2021-11-30T08:25:35.444Z"
   },
   {
    "duration": 11,
    "start_time": "2021-11-30T08:25:35.468Z"
   },
   {
    "duration": 235,
    "start_time": "2021-11-30T08:25:35.482Z"
   },
   {
    "duration": 5,
    "start_time": "2021-11-30T08:25:35.722Z"
   },
   {
    "duration": 43,
    "start_time": "2021-11-30T08:25:35.730Z"
   },
   {
    "duration": 8,
    "start_time": "2021-11-30T08:25:35.776Z"
   },
   {
    "duration": 385,
    "start_time": "2021-11-30T08:25:35.786Z"
   },
   {
    "duration": 8,
    "start_time": "2021-11-30T08:25:36.174Z"
   },
   {
    "duration": 49,
    "start_time": "2021-11-30T08:25:36.184Z"
   },
   {
    "duration": 31,
    "start_time": "2021-11-30T08:25:36.235Z"
   },
   {
    "duration": 444,
    "start_time": "2021-11-30T08:25:36.269Z"
   },
   {
    "duration": 22,
    "start_time": "2021-11-30T08:25:36.715Z"
   },
   {
    "duration": 562,
    "start_time": "2021-11-30T08:25:36.738Z"
   },
   {
    "duration": 9,
    "start_time": "2021-11-30T08:25:37.302Z"
   },
   {
    "duration": 11,
    "start_time": "2021-11-30T08:25:37.313Z"
   },
   {
    "duration": 257,
    "start_time": "2021-11-30T08:25:37.325Z"
   },
   {
    "duration": 222,
    "start_time": "2021-11-30T08:25:37.584Z"
   },
   {
    "duration": 247,
    "start_time": "2021-11-30T08:25:37.808Z"
   },
   {
    "duration": 240,
    "start_time": "2021-11-30T08:25:38.057Z"
   },
   {
    "duration": 284,
    "start_time": "2021-11-30T08:25:38.299Z"
   },
   {
    "duration": 159,
    "start_time": "2021-11-30T08:25:38.585Z"
   },
   {
    "duration": 176,
    "start_time": "2021-11-30T08:25:38.746Z"
   },
   {
    "duration": 163,
    "start_time": "2021-11-30T08:25:38.924Z"
   },
   {
    "duration": 171,
    "start_time": "2021-11-30T08:25:39.088Z"
   },
   {
    "duration": 176,
    "start_time": "2021-11-30T08:25:39.260Z"
   },
   {
    "duration": 1407,
    "start_time": "2021-11-30T08:25:39.437Z"
   },
   {
    "duration": 1233,
    "start_time": "2021-11-30T08:26:51.201Z"
   },
   {
    "duration": 1651,
    "start_time": "2021-11-30T08:27:18.652Z"
   },
   {
    "duration": 1476,
    "start_time": "2021-11-30T08:28:05.548Z"
   },
   {
    "duration": 1759,
    "start_time": "2021-11-30T08:28:14.400Z"
   },
   {
    "duration": 1476,
    "start_time": "2021-11-30T08:28:54.645Z"
   },
   {
    "duration": 1685,
    "start_time": "2021-11-30T08:28:58.635Z"
   },
   {
    "duration": 1539,
    "start_time": "2021-11-30T08:29:04.412Z"
   },
   {
    "duration": 1453,
    "start_time": "2021-11-30T08:29:19.206Z"
   },
   {
    "duration": 1443,
    "start_time": "2021-11-30T08:30:34.936Z"
   },
   {
    "duration": 1235,
    "start_time": "2021-11-30T08:31:06.562Z"
   },
   {
    "duration": 96,
    "start_time": "2021-11-30T08:33:44.100Z"
   },
   {
    "duration": 88,
    "start_time": "2021-11-30T08:34:18.597Z"
   },
   {
    "duration": 108,
    "start_time": "2021-11-30T08:34:48.759Z"
   },
   {
    "duration": 30,
    "start_time": "2021-11-30T08:34:48.870Z"
   },
   {
    "duration": 11,
    "start_time": "2021-11-30T08:34:48.903Z"
   },
   {
    "duration": 109,
    "start_time": "2021-11-30T08:34:48.916Z"
   },
   {
    "duration": 6,
    "start_time": "2021-11-30T08:34:49.027Z"
   },
   {
    "duration": 36,
    "start_time": "2021-11-30T08:34:49.034Z"
   },
   {
    "duration": 242,
    "start_time": "2021-11-30T08:34:49.072Z"
   },
   {
    "duration": 22,
    "start_time": "2021-11-30T08:34:49.317Z"
   },
   {
    "duration": 25,
    "start_time": "2021-11-30T08:34:49.342Z"
   },
   {
    "duration": 19,
    "start_time": "2021-11-30T08:34:49.371Z"
   },
   {
    "duration": 627,
    "start_time": "2021-11-30T08:34:49.393Z"
   },
   {
    "duration": 10,
    "start_time": "2021-11-30T08:34:50.023Z"
   },
   {
    "duration": 31,
    "start_time": "2021-11-30T08:34:50.035Z"
   },
   {
    "duration": 12,
    "start_time": "2021-11-30T08:34:50.069Z"
   },
   {
    "duration": 728,
    "start_time": "2021-11-30T08:34:50.084Z"
   },
   {
    "duration": 12,
    "start_time": "2021-11-30T08:34:50.814Z"
   },
   {
    "duration": 5,
    "start_time": "2021-11-30T08:34:50.828Z"
   },
   {
    "duration": 715,
    "start_time": "2021-11-30T08:34:50.835Z"
   },
   {
    "duration": 4,
    "start_time": "2021-11-30T08:34:51.553Z"
   },
   {
    "duration": 34,
    "start_time": "2021-11-30T08:34:51.558Z"
   },
   {
    "duration": 831,
    "start_time": "2021-11-30T08:34:51.595Z"
   },
   {
    "duration": 174,
    "start_time": "2021-11-30T08:34:52.428Z"
   },
   {
    "duration": 10,
    "start_time": "2021-11-30T08:34:52.606Z"
   },
   {
    "duration": 91,
    "start_time": "2021-11-30T08:34:52.618Z"
   },
   {
    "duration": 11,
    "start_time": "2021-11-30T08:34:52.711Z"
   },
   {
    "duration": 203,
    "start_time": "2021-11-30T08:34:52.724Z"
   },
   {
    "duration": 5,
    "start_time": "2021-11-30T08:34:52.928Z"
   },
   {
    "duration": 43,
    "start_time": "2021-11-30T08:34:52.935Z"
   },
   {
    "duration": 7,
    "start_time": "2021-11-30T08:34:52.980Z"
   },
   {
    "duration": 649,
    "start_time": "2021-11-30T08:34:52.989Z"
   },
   {
    "duration": 6,
    "start_time": "2021-11-30T08:34:53.640Z"
   },
   {
    "duration": 66,
    "start_time": "2021-11-30T08:34:53.648Z"
   },
   {
    "duration": 9,
    "start_time": "2021-11-30T08:34:53.716Z"
   },
   {
    "duration": 237,
    "start_time": "2021-11-30T08:34:53.727Z"
   },
   {
    "duration": 28,
    "start_time": "2021-11-30T08:34:53.966Z"
   },
   {
    "duration": 555,
    "start_time": "2021-11-30T08:34:53.996Z"
   },
   {
    "duration": 22,
    "start_time": "2021-11-30T08:34:54.553Z"
   },
   {
    "duration": 13,
    "start_time": "2021-11-30T08:34:54.578Z"
   },
   {
    "duration": 245,
    "start_time": "2021-11-30T08:34:54.592Z"
   },
   {
    "duration": 198,
    "start_time": "2021-11-30T08:34:54.839Z"
   },
   {
    "duration": 245,
    "start_time": "2021-11-30T08:34:55.039Z"
   },
   {
    "duration": 229,
    "start_time": "2021-11-30T08:34:55.286Z"
   },
   {
    "duration": 261,
    "start_time": "2021-11-30T08:34:55.517Z"
   },
   {
    "duration": 166,
    "start_time": "2021-11-30T08:34:55.780Z"
   },
   {
    "duration": 159,
    "start_time": "2021-11-30T08:34:55.949Z"
   },
   {
    "duration": 157,
    "start_time": "2021-11-30T08:34:56.110Z"
   },
   {
    "duration": 167,
    "start_time": "2021-11-30T08:34:56.271Z"
   },
   {
    "duration": 169,
    "start_time": "2021-11-30T08:34:56.440Z"
   },
   {
    "duration": 81,
    "start_time": "2021-11-30T08:34:56.611Z"
   },
   {
    "duration": 88,
    "start_time": "2021-11-30T08:35:32.141Z"
   },
   {
    "duration": 110,
    "start_time": "2021-11-30T08:36:53.879Z"
   },
   {
    "duration": 86,
    "start_time": "2021-11-30T08:38:51.561Z"
   },
   {
    "duration": 105,
    "start_time": "2021-11-30T08:39:42.311Z"
   },
   {
    "duration": 93,
    "start_time": "2021-11-30T08:39:58.502Z"
   },
   {
    "duration": 107,
    "start_time": "2021-11-30T08:40:11.415Z"
   },
   {
    "duration": 23,
    "start_time": "2021-11-30T08:40:11.524Z"
   },
   {
    "duration": 30,
    "start_time": "2021-11-30T08:40:11.549Z"
   },
   {
    "duration": 70,
    "start_time": "2021-11-30T08:40:11.581Z"
   },
   {
    "duration": 18,
    "start_time": "2021-11-30T08:40:11.653Z"
   },
   {
    "duration": 15,
    "start_time": "2021-11-30T08:40:11.673Z"
   },
   {
    "duration": 231,
    "start_time": "2021-11-30T08:40:11.690Z"
   },
   {
    "duration": 21,
    "start_time": "2021-11-30T08:40:11.923Z"
   },
   {
    "duration": 19,
    "start_time": "2021-11-30T08:40:11.946Z"
   },
   {
    "duration": 19,
    "start_time": "2021-11-30T08:40:11.967Z"
   },
   {
    "duration": 792,
    "start_time": "2021-11-30T08:40:11.988Z"
   },
   {
    "duration": 10,
    "start_time": "2021-11-30T08:40:12.783Z"
   },
   {
    "duration": 14,
    "start_time": "2021-11-30T08:40:12.795Z"
   },
   {
    "duration": 6,
    "start_time": "2021-11-30T08:40:12.811Z"
   },
   {
    "duration": 749,
    "start_time": "2021-11-30T08:40:13.137Z"
   },
   {
    "duration": 11,
    "start_time": "2021-11-30T08:40:13.888Z"
   },
   {
    "duration": 22,
    "start_time": "2021-11-30T08:40:13.901Z"
   },
   {
    "duration": 697,
    "start_time": "2021-11-30T08:40:13.926Z"
   },
   {
    "duration": 6,
    "start_time": "2021-11-30T08:40:14.625Z"
   },
   {
    "duration": 38,
    "start_time": "2021-11-30T08:40:14.632Z"
   },
   {
    "duration": 809,
    "start_time": "2021-11-30T08:40:14.674Z"
   },
   {
    "duration": 173,
    "start_time": "2021-11-30T08:40:15.486Z"
   },
   {
    "duration": 14,
    "start_time": "2021-11-30T08:40:15.665Z"
   },
   {
    "duration": 8,
    "start_time": "2021-11-30T08:40:15.681Z"
   },
   {
    "duration": 22,
    "start_time": "2021-11-30T08:40:15.691Z"
   },
   {
    "duration": 213,
    "start_time": "2021-11-30T08:40:15.715Z"
   },
   {
    "duration": 5,
    "start_time": "2021-11-30T08:40:15.930Z"
   },
   {
    "duration": 57,
    "start_time": "2021-11-30T08:40:15.937Z"
   },
   {
    "duration": 23,
    "start_time": "2021-11-30T08:40:15.996Z"
   },
   {
    "duration": 387,
    "start_time": "2021-11-30T08:40:16.021Z"
   },
   {
    "duration": 6,
    "start_time": "2021-11-30T08:40:16.410Z"
   },
   {
    "duration": 61,
    "start_time": "2021-11-30T08:40:16.417Z"
   },
   {
    "duration": 10,
    "start_time": "2021-11-30T08:40:16.481Z"
   },
   {
    "duration": 234,
    "start_time": "2021-11-30T08:40:16.494Z"
   },
   {
    "duration": 21,
    "start_time": "2021-11-30T08:40:16.730Z"
   },
   {
    "duration": 560,
    "start_time": "2021-11-30T08:40:16.753Z"
   },
   {
    "duration": 10,
    "start_time": "2021-11-30T08:40:17.316Z"
   },
   {
    "duration": 30,
    "start_time": "2021-11-30T08:40:17.329Z"
   },
   {
    "duration": 254,
    "start_time": "2021-11-30T08:40:17.364Z"
   },
   {
    "duration": 213,
    "start_time": "2021-11-30T08:40:17.620Z"
   },
   {
    "duration": 256,
    "start_time": "2021-11-30T08:40:17.835Z"
   },
   {
    "duration": 242,
    "start_time": "2021-11-30T08:40:18.093Z"
   },
   {
    "duration": 265,
    "start_time": "2021-11-30T08:40:18.337Z"
   },
   {
    "duration": 166,
    "start_time": "2021-11-30T08:40:18.604Z"
   },
   {
    "duration": 165,
    "start_time": "2021-11-30T08:40:18.772Z"
   },
   {
    "duration": 392,
    "start_time": "2021-11-30T08:40:18.939Z"
   },
   {
    "duration": 183,
    "start_time": "2021-11-30T08:40:19.333Z"
   },
   {
    "duration": 179,
    "start_time": "2021-11-30T08:40:19.518Z"
   },
   {
    "duration": 89,
    "start_time": "2021-11-30T08:40:19.699Z"
   },
   {
    "duration": 84,
    "start_time": "2021-11-30T08:41:05.041Z"
   },
   {
    "duration": 147,
    "start_time": "2021-11-30T08:41:12.710Z"
   },
   {
    "duration": 89,
    "start_time": "2021-11-30T08:41:18.596Z"
   },
   {
    "duration": 92,
    "start_time": "2021-11-30T08:41:41.283Z"
   },
   {
    "duration": 107,
    "start_time": "2021-11-30T08:41:50.644Z"
   },
   {
    "duration": 103,
    "start_time": "2021-11-30T08:42:17.451Z"
   },
   {
    "duration": 90,
    "start_time": "2021-11-30T08:42:53.334Z"
   },
   {
    "duration": 83,
    "start_time": "2021-11-30T08:43:11.076Z"
   },
   {
    "duration": 671,
    "start_time": "2021-11-30T08:43:35.921Z"
   },
   {
    "duration": 1264,
    "start_time": "2021-11-30T08:43:46.502Z"
   },
   {
    "duration": 1643,
    "start_time": "2021-11-30T08:44:27.467Z"
   },
   {
    "duration": 923,
    "start_time": "2021-11-30T08:45:10.933Z"
   },
   {
    "duration": 934,
    "start_time": "2021-11-30T08:45:42.034Z"
   },
   {
    "duration": 1499,
    "start_time": "2021-11-30T08:45:50.241Z"
   },
   {
    "duration": 124,
    "start_time": "2021-11-30T08:56:11.341Z"
   },
   {
    "duration": 104,
    "start_time": "2021-11-30T08:56:33.038Z"
   },
   {
    "duration": 84,
    "start_time": "2021-11-30T08:56:55.641Z"
   },
   {
    "duration": 84,
    "start_time": "2021-11-30T08:57:01.844Z"
   },
   {
    "duration": 853,
    "start_time": "2021-11-30T08:57:08.422Z"
   },
   {
    "duration": 1497,
    "start_time": "2021-11-30T08:57:31.482Z"
   },
   {
    "duration": 1585,
    "start_time": "2021-11-30T08:58:16.379Z"
   },
   {
    "duration": 1600,
    "start_time": "2021-11-30T08:58:38.209Z"
   },
   {
    "duration": 1317,
    "start_time": "2021-11-30T08:59:29.923Z"
   },
   {
    "duration": 82,
    "start_time": "2021-11-30T09:00:12.829Z"
   },
   {
    "duration": 86,
    "start_time": "2021-11-30T09:00:18.950Z"
   },
   {
    "duration": 89,
    "start_time": "2021-11-30T09:00:31.323Z"
   },
   {
    "duration": 164,
    "start_time": "2021-11-30T09:00:51.755Z"
   },
   {
    "duration": 1639,
    "start_time": "2021-11-30T09:01:09.741Z"
   },
   {
    "duration": 1270,
    "start_time": "2021-11-30T09:01:27.454Z"
   },
   {
    "duration": 1530,
    "start_time": "2021-11-30T09:04:02.572Z"
   },
   {
    "duration": 1296,
    "start_time": "2021-11-30T09:04:31.349Z"
   },
   {
    "duration": 1580,
    "start_time": "2021-11-30T09:04:44.744Z"
   },
   {
    "duration": 95,
    "start_time": "2021-11-30T09:06:43.524Z"
   },
   {
    "duration": 884,
    "start_time": "2021-11-30T09:06:47.722Z"
   },
   {
    "duration": 1261,
    "start_time": "2021-11-30T09:07:04.261Z"
   },
   {
    "duration": 94,
    "start_time": "2021-11-30T09:07:47.052Z"
   },
   {
    "duration": 40,
    "start_time": "2021-11-30T09:07:47.148Z"
   },
   {
    "duration": 11,
    "start_time": "2021-11-30T09:07:47.191Z"
   },
   {
    "duration": 104,
    "start_time": "2021-11-30T09:07:47.204Z"
   },
   {
    "duration": 6,
    "start_time": "2021-11-30T09:07:47.310Z"
   },
   {
    "duration": 11,
    "start_time": "2021-11-30T09:07:47.317Z"
   },
   {
    "duration": 234,
    "start_time": "2021-11-30T09:07:47.329Z"
   },
   {
    "duration": 25,
    "start_time": "2021-11-30T09:07:47.567Z"
   },
   {
    "duration": 9,
    "start_time": "2021-11-30T09:07:47.594Z"
   },
   {
    "duration": 11,
    "start_time": "2021-11-30T09:07:47.604Z"
   },
   {
    "duration": 571,
    "start_time": "2021-11-30T09:07:47.617Z"
   },
   {
    "duration": 10,
    "start_time": "2021-11-30T09:07:48.189Z"
   },
   {
    "duration": 14,
    "start_time": "2021-11-30T09:07:48.200Z"
   },
   {
    "duration": 6,
    "start_time": "2021-11-30T09:07:48.215Z"
   },
   {
    "duration": 1020,
    "start_time": "2021-11-30T09:07:48.222Z"
   },
   {
    "duration": 21,
    "start_time": "2021-11-30T09:07:49.244Z"
   },
   {
    "duration": 8,
    "start_time": "2021-11-30T09:07:49.268Z"
   },
   {
    "duration": 724,
    "start_time": "2021-11-30T09:07:49.278Z"
   },
   {
    "duration": 4,
    "start_time": "2021-11-30T09:07:50.003Z"
   },
   {
    "duration": 42,
    "start_time": "2021-11-30T09:07:50.009Z"
   },
   {
    "duration": 851,
    "start_time": "2021-11-30T09:07:50.053Z"
   },
   {
    "duration": 178,
    "start_time": "2021-11-30T09:07:50.906Z"
   },
   {
    "duration": 11,
    "start_time": "2021-11-30T09:07:51.087Z"
   },
   {
    "duration": 4,
    "start_time": "2021-11-30T09:07:51.100Z"
   },
   {
    "duration": 15,
    "start_time": "2021-11-30T09:07:51.105Z"
   },
   {
    "duration": 234,
    "start_time": "2021-11-30T09:07:51.121Z"
   },
   {
    "duration": 7,
    "start_time": "2021-11-30T09:07:51.357Z"
   },
   {
    "duration": 30,
    "start_time": "2021-11-30T09:07:51.367Z"
   },
   {
    "duration": 6,
    "start_time": "2021-11-30T09:07:51.399Z"
   },
   {
    "duration": 413,
    "start_time": "2021-11-30T09:07:51.406Z"
   },
   {
    "duration": 6,
    "start_time": "2021-11-30T09:07:51.821Z"
   },
   {
    "duration": 67,
    "start_time": "2021-11-30T09:07:51.828Z"
   },
   {
    "duration": 10,
    "start_time": "2021-11-30T09:07:51.897Z"
   },
   {
    "duration": 230,
    "start_time": "2021-11-30T09:07:51.909Z"
   },
   {
    "duration": 39,
    "start_time": "2021-11-30T09:07:52.141Z"
   },
   {
    "duration": 563,
    "start_time": "2021-11-30T09:07:52.182Z"
   },
   {
    "duration": 21,
    "start_time": "2021-11-30T09:07:52.747Z"
   },
   {
    "duration": 12,
    "start_time": "2021-11-30T09:07:52.771Z"
   },
   {
    "duration": 247,
    "start_time": "2021-11-30T09:07:52.785Z"
   },
   {
    "duration": 207,
    "start_time": "2021-11-30T09:07:53.033Z"
   },
   {
    "duration": 259,
    "start_time": "2021-11-30T09:07:53.242Z"
   },
   {
    "duration": 226,
    "start_time": "2021-11-30T09:07:53.503Z"
   },
   {
    "duration": 254,
    "start_time": "2021-11-30T09:07:53.730Z"
   },
   {
    "duration": 161,
    "start_time": "2021-11-30T09:07:53.986Z"
   },
   {
    "duration": 155,
    "start_time": "2021-11-30T09:07:54.149Z"
   },
   {
    "duration": 143,
    "start_time": "2021-11-30T09:07:54.305Z"
   },
   {
    "duration": 167,
    "start_time": "2021-11-30T09:07:54.450Z"
   },
   {
    "duration": 171,
    "start_time": "2021-11-30T09:07:54.619Z"
   },
   {
    "duration": 1508,
    "start_time": "2021-11-30T09:07:54.792Z"
   },
   {
    "duration": 983,
    "start_time": "2021-11-30T09:10:39.088Z"
   },
   {
    "duration": 878,
    "start_time": "2021-11-30T09:10:45.374Z"
   },
   {
    "duration": 1239,
    "start_time": "2021-11-30T09:11:05.252Z"
   },
   {
    "duration": 1409,
    "start_time": "2021-11-30T09:11:35.213Z"
   },
   {
    "duration": 740,
    "start_time": "2021-11-30T09:12:06.123Z"
   },
   {
    "duration": 691,
    "start_time": "2021-11-30T09:12:18.549Z"
   },
   {
    "duration": 1588,
    "start_time": "2021-11-30T09:12:28.497Z"
   },
   {
    "duration": 1242,
    "start_time": "2021-11-30T09:14:03.507Z"
   },
   {
    "duration": 1571,
    "start_time": "2021-11-30T09:14:26.348Z"
   },
   {
    "duration": 1259,
    "start_time": "2021-11-30T09:14:51.489Z"
   },
   {
    "duration": 1623,
    "start_time": "2021-11-30T09:16:00.355Z"
   },
   {
    "duration": 996,
    "start_time": "2021-11-30T09:17:20.680Z"
   },
   {
    "duration": 647,
    "start_time": "2021-11-30T09:17:33.065Z"
   },
   {
    "duration": 639,
    "start_time": "2021-11-30T09:17:55.310Z"
   },
   {
    "duration": 942,
    "start_time": "2021-11-30T09:22:26.021Z"
   },
   {
    "duration": 81,
    "start_time": "2021-11-30T09:23:33.462Z"
   },
   {
    "duration": 843,
    "start_time": "2021-11-30T09:23:37.664Z"
   },
   {
    "duration": 909,
    "start_time": "2021-11-30T09:24:35.974Z"
   },
   {
    "duration": 686,
    "start_time": "2021-11-30T09:25:27.922Z"
   },
   {
    "duration": 668,
    "start_time": "2021-11-30T09:33:35.971Z"
   },
   {
    "duration": 993,
    "start_time": "2021-11-30T09:44:25.232Z"
   },
   {
    "duration": 675,
    "start_time": "2021-11-30T09:45:06.498Z"
   },
   {
    "duration": 638,
    "start_time": "2021-11-30T09:46:04.178Z"
   },
   {
    "duration": 842,
    "start_time": "2021-11-30T09:46:18.421Z"
   },
   {
    "duration": 37,
    "start_time": "2021-11-30T10:54:23.543Z"
   },
   {
    "duration": 3,
    "start_time": "2021-11-30T10:56:17.703Z"
   },
   {
    "duration": 624,
    "start_time": "2021-11-30T11:01:56.384Z"
   },
   {
    "duration": 681,
    "start_time": "2021-11-30T11:02:46.879Z"
   },
   {
    "duration": 614,
    "start_time": "2021-11-30T11:02:50.943Z"
   },
   {
    "duration": 542,
    "start_time": "2021-11-30T11:04:52.384Z"
   },
   {
    "duration": 509,
    "start_time": "2021-11-30T11:05:02.823Z"
   },
   {
    "duration": 484,
    "start_time": "2021-11-30T11:06:34.536Z"
   },
   {
    "duration": 728,
    "start_time": "2021-11-30T11:07:08.836Z"
   },
   {
    "duration": 778,
    "start_time": "2021-11-30T11:08:14.512Z"
   },
   {
    "duration": 947,
    "start_time": "2021-11-30T11:08:24.269Z"
   },
   {
    "duration": 961,
    "start_time": "2021-11-30T11:08:48.185Z"
   },
   {
    "duration": 840,
    "start_time": "2021-11-30T11:10:06.423Z"
   },
   {
    "duration": 1337,
    "start_time": "2021-11-30T11:10:19.343Z"
   },
   {
    "duration": 1014,
    "start_time": "2021-11-30T11:10:41.230Z"
   },
   {
    "duration": 1026,
    "start_time": "2021-11-30T11:11:11.352Z"
   },
   {
    "duration": 1061,
    "start_time": "2021-11-30T11:11:18.624Z"
   },
   {
    "duration": 528,
    "start_time": "2021-11-30T11:11:55.585Z"
   },
   {
    "duration": 883,
    "start_time": "2021-11-30T11:12:01.785Z"
   },
   {
    "duration": 999,
    "start_time": "2021-11-30T11:12:41.944Z"
   },
   {
    "duration": 1094,
    "start_time": "2021-11-30T11:13:28.943Z"
   },
   {
    "duration": 1021,
    "start_time": "2021-11-30T11:13:47.744Z"
   },
   {
    "duration": 1029,
    "start_time": "2021-11-30T11:14:45.024Z"
   },
   {
    "duration": 1270,
    "start_time": "2021-11-30T11:14:54.024Z"
   },
   {
    "duration": 1299,
    "start_time": "2021-11-30T11:15:28.385Z"
   },
   {
    "duration": 1027,
    "start_time": "2021-11-30T11:15:50.783Z"
   },
   {
    "duration": 1008,
    "start_time": "2021-11-30T11:17:19.551Z"
   },
   {
    "duration": 1492,
    "start_time": "2021-11-30T11:21:06.231Z"
   },
   {
    "duration": 1985,
    "start_time": "2021-11-30T11:21:11.304Z"
   },
   {
    "duration": 1357,
    "start_time": "2021-11-30T11:21:33.792Z"
   },
   {
    "duration": 1513,
    "start_time": "2021-11-30T11:22:18.462Z"
   },
   {
    "duration": 1639,
    "start_time": "2021-11-30T11:22:48.224Z"
   },
   {
    "duration": 1193,
    "start_time": "2021-11-30T11:27:04.585Z"
   },
   {
    "duration": 1123,
    "start_time": "2021-11-30T11:27:42.104Z"
   },
   {
    "duration": 1334,
    "start_time": "2021-11-30T11:29:48.259Z"
   },
   {
    "duration": 1148,
    "start_time": "2021-11-30T11:29:51.426Z"
   },
   {
    "duration": 1927,
    "start_time": "2021-11-30T11:31:24.545Z"
   },
   {
    "duration": 1866,
    "start_time": "2021-11-30T11:33:56.234Z"
   },
   {
    "duration": 1585,
    "start_time": "2021-11-30T11:35:50.669Z"
   },
   {
    "duration": 1392,
    "start_time": "2021-11-30T11:38:29.316Z"
   },
   {
    "duration": 1392,
    "start_time": "2021-11-30T11:39:17.076Z"
   },
   {
    "duration": 1073,
    "start_time": "2021-11-30T11:39:34.984Z"
   },
   {
    "duration": 1078,
    "start_time": "2021-11-30T11:39:59.872Z"
   },
   {
    "duration": 1589,
    "start_time": "2021-11-30T11:44:29.279Z"
   },
   {
    "duration": 1129,
    "start_time": "2021-11-30T11:46:00.104Z"
   },
   {
    "duration": 1100,
    "start_time": "2021-11-30T11:46:10.585Z"
   },
   {
    "duration": 1063,
    "start_time": "2021-11-30T11:47:43.993Z"
   },
   {
    "duration": 1017,
    "start_time": "2021-11-30T11:47:48.064Z"
   },
   {
    "duration": 1165,
    "start_time": "2021-11-30T11:48:53.990Z"
   },
   {
    "duration": 87,
    "start_time": "2021-11-30T11:49:54.229Z"
   },
   {
    "duration": 1447,
    "start_time": "2021-11-30T11:50:08.185Z"
   },
   {
    "duration": 2594,
    "start_time": "2021-11-30T11:50:44.144Z"
   },
   {
    "duration": 1745,
    "start_time": "2021-11-30T11:50:58.507Z"
   },
   {
    "duration": 1847,
    "start_time": "2021-11-30T11:53:27.467Z"
   },
   {
    "duration": 1494,
    "start_time": "2021-11-30T11:55:45.704Z"
   },
   {
    "duration": 1312,
    "start_time": "2021-11-30T11:55:54.066Z"
   },
   {
    "duration": 1059,
    "start_time": "2021-11-30T11:56:33.953Z"
   },
   {
    "duration": 1411,
    "start_time": "2021-11-30T11:59:00.065Z"
   },
   {
    "duration": 1806,
    "start_time": "2021-11-30T11:59:03.746Z"
   },
   {
    "duration": 3088,
    "start_time": "2021-11-30T12:02:55.625Z"
   },
   {
    "duration": 9753,
    "start_time": "2021-11-30T12:06:52.464Z"
   },
   {
    "duration": 1801,
    "start_time": "2021-11-30T12:07:25.672Z"
   },
   {
    "duration": 625,
    "start_time": "2021-11-30T12:07:58.664Z"
   },
   {
    "duration": 1108,
    "start_time": "2021-11-30T12:11:30.714Z"
   },
   {
    "duration": 1051,
    "start_time": "2021-11-30T12:12:08.267Z"
   },
   {
    "duration": 1615,
    "start_time": "2021-11-30T12:13:27.584Z"
   },
   {
    "duration": 1827,
    "start_time": "2021-11-30T12:13:48.108Z"
   },
   {
    "duration": 1656,
    "start_time": "2021-11-30T12:14:27.309Z"
   },
   {
    "duration": 1569,
    "start_time": "2021-11-30T12:16:10.745Z"
   },
   {
    "duration": 2094,
    "start_time": "2021-11-30T12:18:53.155Z"
   },
   {
    "duration": 2118,
    "start_time": "2021-11-30T12:20:08.599Z"
   },
   {
    "duration": 1391,
    "start_time": "2021-11-30T12:24:40.003Z"
   },
   {
    "duration": 1967,
    "start_time": "2021-11-30T12:25:06.523Z"
   },
   {
    "duration": 1935,
    "start_time": "2021-11-30T12:25:15.267Z"
   },
   {
    "duration": 1366,
    "start_time": "2021-11-30T12:26:14.828Z"
   },
   {
    "duration": 2555,
    "start_time": "2021-11-30T12:29:01.784Z"
   },
   {
    "duration": 1208,
    "start_time": "2021-11-30T12:29:53.185Z"
   },
   {
    "duration": 1239,
    "start_time": "2021-11-30T12:30:10.303Z"
   },
   {
    "duration": 1217,
    "start_time": "2021-11-30T12:32:12.169Z"
   },
   {
    "duration": 1262,
    "start_time": "2021-11-30T12:32:33.423Z"
   },
   {
    "duration": 2505,
    "start_time": "2021-11-30T12:32:53.504Z"
   },
   {
    "duration": 1150,
    "start_time": "2021-11-30T12:33:07.551Z"
   },
   {
    "duration": 1209,
    "start_time": "2021-11-30T12:33:46.104Z"
   },
   {
    "duration": 1375,
    "start_time": "2021-11-30T12:34:35.947Z"
   },
   {
    "duration": 1199,
    "start_time": "2021-11-30T12:35:32.670Z"
   },
   {
    "duration": 1592,
    "start_time": "2021-11-30T12:36:03.539Z"
   },
   {
    "duration": 723,
    "start_time": "2021-11-30T12:36:57.141Z"
   },
   {
    "duration": 2482,
    "start_time": "2021-11-30T12:41:21.182Z"
   },
   {
    "duration": 2215,
    "start_time": "2021-11-30T12:41:26.023Z"
   },
   {
    "duration": 2133,
    "start_time": "2021-11-30T12:41:41.549Z"
   },
   {
    "duration": 2503,
    "start_time": "2021-11-30T12:42:18.263Z"
   },
   {
    "duration": 2782,
    "start_time": "2021-11-30T12:42:30.551Z"
   },
   {
    "duration": 2249,
    "start_time": "2021-11-30T12:42:38.973Z"
   },
   {
    "duration": 1094,
    "start_time": "2021-11-30T12:44:45.426Z"
   },
   {
    "duration": 1110,
    "start_time": "2021-11-30T12:44:54.174Z"
   },
   {
    "duration": 1119,
    "start_time": "2021-11-30T12:46:30.024Z"
   },
   {
    "duration": 97,
    "start_time": "2021-11-30T12:46:37.512Z"
   },
   {
    "duration": 24,
    "start_time": "2021-11-30T12:46:37.611Z"
   },
   {
    "duration": 28,
    "start_time": "2021-11-30T12:46:37.638Z"
   },
   {
    "duration": 76,
    "start_time": "2021-11-30T12:46:37.668Z"
   },
   {
    "duration": 22,
    "start_time": "2021-11-30T12:46:37.746Z"
   },
   {
    "duration": 27,
    "start_time": "2021-11-30T12:46:37.770Z"
   },
   {
    "duration": 218,
    "start_time": "2021-11-30T12:46:37.800Z"
   },
   {
    "duration": 21,
    "start_time": "2021-11-30T12:46:38.020Z"
   },
   {
    "duration": 25,
    "start_time": "2021-11-30T12:46:38.044Z"
   },
   {
    "duration": 12,
    "start_time": "2021-11-30T12:46:38.072Z"
   },
   {
    "duration": 556,
    "start_time": "2021-11-30T12:46:38.086Z"
   },
   {
    "duration": 10,
    "start_time": "2021-11-30T12:46:38.644Z"
   },
   {
    "duration": 54,
    "start_time": "2021-11-30T12:46:38.664Z"
   },
   {
    "duration": 26,
    "start_time": "2021-11-30T12:46:38.720Z"
   },
   {
    "duration": 759,
    "start_time": "2021-11-30T12:46:38.748Z"
   },
   {
    "duration": 12,
    "start_time": "2021-11-30T12:46:39.509Z"
   },
   {
    "duration": 6,
    "start_time": "2021-11-30T12:46:39.523Z"
   },
   {
    "duration": 674,
    "start_time": "2021-11-30T12:46:39.530Z"
   },
   {
    "duration": 4,
    "start_time": "2021-11-30T12:46:40.207Z"
   },
   {
    "duration": 39,
    "start_time": "2021-11-30T12:46:40.213Z"
   },
   {
    "duration": 832,
    "start_time": "2021-11-30T12:46:40.254Z"
   },
   {
    "duration": 170,
    "start_time": "2021-11-30T12:46:41.089Z"
   },
   {
    "duration": 10,
    "start_time": "2021-11-30T12:46:41.263Z"
   },
   {
    "duration": 4,
    "start_time": "2021-11-30T12:46:41.275Z"
   },
   {
    "duration": 9,
    "start_time": "2021-11-30T12:46:41.280Z"
   },
   {
    "duration": 231,
    "start_time": "2021-11-30T12:46:41.291Z"
   },
   {
    "duration": 6,
    "start_time": "2021-11-30T12:46:41.526Z"
   },
   {
    "duration": 46,
    "start_time": "2021-11-30T12:46:41.535Z"
   },
   {
    "duration": 8,
    "start_time": "2021-11-30T12:46:41.583Z"
   },
   {
    "duration": 378,
    "start_time": "2021-11-30T12:46:41.593Z"
   },
   {
    "duration": 7,
    "start_time": "2021-11-30T12:46:41.973Z"
   },
   {
    "duration": 50,
    "start_time": "2021-11-30T12:46:41.982Z"
   },
   {
    "duration": 35,
    "start_time": "2021-11-30T12:46:42.034Z"
   },
   {
    "duration": 213,
    "start_time": "2021-11-30T12:46:42.071Z"
   },
   {
    "duration": 24,
    "start_time": "2021-11-30T12:46:42.286Z"
   },
   {
    "duration": 1024,
    "start_time": "2021-11-30T12:46:42.312Z"
   },
   {
    "duration": 10,
    "start_time": "2021-11-30T12:46:43.338Z"
   },
   {
    "duration": 10,
    "start_time": "2021-11-30T12:46:43.364Z"
   },
   {
    "duration": 232,
    "start_time": "2021-11-30T12:46:43.376Z"
   },
   {
    "duration": 211,
    "start_time": "2021-11-30T12:46:43.610Z"
   },
   {
    "duration": 252,
    "start_time": "2021-11-30T12:46:43.823Z"
   },
   {
    "duration": 234,
    "start_time": "2021-11-30T12:46:44.077Z"
   },
   {
    "duration": 254,
    "start_time": "2021-11-30T12:46:44.313Z"
   },
   {
    "duration": 167,
    "start_time": "2021-11-30T12:46:44.570Z"
   },
   {
    "duration": 161,
    "start_time": "2021-11-30T12:46:44.739Z"
   },
   {
    "duration": 155,
    "start_time": "2021-11-30T12:46:44.902Z"
   },
   {
    "duration": 173,
    "start_time": "2021-11-30T12:46:45.059Z"
   },
   {
    "duration": 174,
    "start_time": "2021-11-30T12:46:45.234Z"
   },
   {
    "duration": 673,
    "start_time": "2021-11-30T12:46:45.410Z"
   },
   {
    "duration": 1115,
    "start_time": "2021-11-30T12:46:46.086Z"
   },
   {
    "duration": 718,
    "start_time": "2021-11-30T12:46:47.203Z"
   },
   {
    "duration": 1095,
    "start_time": "2021-11-30T12:46:47.923Z"
   },
   {
    "duration": 2134,
    "start_time": "2021-11-30T12:49:24.469Z"
   },
   {
    "duration": 2045,
    "start_time": "2021-11-30T12:49:46.118Z"
   },
   {
    "duration": 1958,
    "start_time": "2021-11-30T12:50:52.028Z"
   },
   {
    "duration": 1895,
    "start_time": "2021-11-30T12:50:58.111Z"
   },
   {
    "duration": 2112,
    "start_time": "2021-11-30T12:51:34.502Z"
   },
   {
    "duration": 1117,
    "start_time": "2021-11-30T12:52:07.113Z"
   },
   {
    "duration": 1233,
    "start_time": "2021-11-30T12:53:51.182Z"
   },
   {
    "duration": 1119,
    "start_time": "2021-11-30T12:53:56.230Z"
   },
   {
    "duration": 1891,
    "start_time": "2021-11-30T12:54:26.141Z"
   },
   {
    "duration": 1063,
    "start_time": "2021-11-30T12:55:11.710Z"
   },
   {
    "duration": 1091,
    "start_time": "2021-11-30T12:55:22.311Z"
   },
   {
    "duration": 2780,
    "start_time": "2021-11-30T12:55:59.622Z"
   },
   {
    "duration": 1060,
    "start_time": "2021-11-30T12:56:42.113Z"
   },
   {
    "duration": 1057,
    "start_time": "2021-11-30T12:57:01.902Z"
   },
   {
    "duration": 1041,
    "start_time": "2021-11-30T12:57:17.342Z"
   },
   {
    "duration": 1563,
    "start_time": "2021-11-30T12:57:55.429Z"
   },
   {
    "duration": 1193,
    "start_time": "2021-11-30T12:58:22.581Z"
   },
   {
    "duration": 1101,
    "start_time": "2021-11-30T13:01:44.583Z"
   },
   {
    "duration": 1094,
    "start_time": "2021-11-30T13:02:22.661Z"
   },
   {
    "duration": 1082,
    "start_time": "2021-11-30T13:02:36.181Z"
   },
   {
    "duration": 305,
    "start_time": "2021-11-30T13:09:04.789Z"
   },
   {
    "duration": 38,
    "start_time": "2021-11-30T13:09:08.542Z"
   },
   {
    "duration": 1032,
    "start_time": "2021-11-30T13:10:34.220Z"
   },
   {
    "duration": 980,
    "start_time": "2021-11-30T13:11:04.620Z"
   },
   {
    "duration": 1014,
    "start_time": "2021-11-30T13:12:11.598Z"
   },
   {
    "duration": 949,
    "start_time": "2021-11-30T13:12:19.500Z"
   },
   {
    "duration": 976,
    "start_time": "2021-11-30T13:12:50.224Z"
   },
   {
    "duration": 979,
    "start_time": "2021-11-30T13:21:33.229Z"
   },
   {
    "duration": 943,
    "start_time": "2021-11-30T13:22:33.062Z"
   },
   {
    "duration": 94,
    "start_time": "2021-11-30T13:22:52.300Z"
   },
   {
    "duration": 24,
    "start_time": "2021-11-30T13:22:52.396Z"
   },
   {
    "duration": 17,
    "start_time": "2021-11-30T13:22:52.422Z"
   },
   {
    "duration": 92,
    "start_time": "2021-11-30T13:22:52.441Z"
   },
   {
    "duration": 6,
    "start_time": "2021-11-30T13:22:52.535Z"
   },
   {
    "duration": 26,
    "start_time": "2021-11-30T13:22:52.543Z"
   },
   {
    "duration": 212,
    "start_time": "2021-11-30T13:22:52.570Z"
   },
   {
    "duration": 20,
    "start_time": "2021-11-30T13:22:52.785Z"
   },
   {
    "duration": 12,
    "start_time": "2021-11-30T13:22:52.807Z"
   },
   {
    "duration": 19,
    "start_time": "2021-11-30T13:22:52.821Z"
   },
   {
    "duration": 484,
    "start_time": "2021-11-30T13:22:52.842Z"
   },
   {
    "duration": 11,
    "start_time": "2021-11-30T13:22:53.328Z"
   },
   {
    "duration": 32,
    "start_time": "2021-11-30T13:22:53.340Z"
   },
   {
    "duration": 6,
    "start_time": "2021-11-30T13:22:53.374Z"
   },
   {
    "duration": 695,
    "start_time": "2021-11-30T13:22:53.381Z"
   },
   {
    "duration": 10,
    "start_time": "2021-11-30T13:22:54.078Z"
   },
   {
    "duration": 12,
    "start_time": "2021-11-30T13:22:54.090Z"
   },
   {
    "duration": 638,
    "start_time": "2021-11-30T13:22:54.104Z"
   },
   {
    "duration": 4,
    "start_time": "2021-11-30T13:22:54.744Z"
   },
   {
    "duration": 21,
    "start_time": "2021-11-30T13:22:54.749Z"
   },
   {
    "duration": 782,
    "start_time": "2021-11-30T13:22:54.772Z"
   },
   {
    "duration": 166,
    "start_time": "2021-11-30T13:22:55.563Z"
   },
   {
    "duration": 10,
    "start_time": "2021-11-30T13:22:55.733Z"
   },
   {
    "duration": 17,
    "start_time": "2021-11-30T13:22:55.746Z"
   },
   {
    "duration": 32,
    "start_time": "2021-11-30T13:22:55.765Z"
   },
   {
    "duration": 197,
    "start_time": "2021-11-30T13:22:55.799Z"
   },
   {
    "duration": 5,
    "start_time": "2021-11-30T13:22:55.998Z"
   },
   {
    "duration": 56,
    "start_time": "2021-11-30T13:22:56.005Z"
   },
   {
    "duration": 36,
    "start_time": "2021-11-30T13:22:56.063Z"
   },
   {
    "duration": 360,
    "start_time": "2021-11-30T13:22:56.101Z"
   },
   {
    "duration": 6,
    "start_time": "2021-11-30T13:22:56.463Z"
   },
   {
    "duration": 68,
    "start_time": "2021-11-30T13:22:56.471Z"
   },
   {
    "duration": 11,
    "start_time": "2021-11-30T13:22:56.541Z"
   },
   {
    "duration": 619,
    "start_time": "2021-11-30T13:22:56.554Z"
   },
   {
    "duration": 23,
    "start_time": "2021-11-30T13:22:57.176Z"
   },
   {
    "duration": 665,
    "start_time": "2021-11-30T13:22:57.202Z"
   },
   {
    "duration": 11,
    "start_time": "2021-11-30T13:22:57.870Z"
   },
   {
    "duration": 30,
    "start_time": "2021-11-30T13:22:57.883Z"
   },
   {
    "duration": 241,
    "start_time": "2021-11-30T13:22:57.915Z"
   },
   {
    "duration": 195,
    "start_time": "2021-11-30T13:22:58.163Z"
   },
   {
    "duration": 233,
    "start_time": "2021-11-30T13:22:58.363Z"
   },
   {
    "duration": 215,
    "start_time": "2021-11-30T13:22:58.598Z"
   },
   {
    "duration": 239,
    "start_time": "2021-11-30T13:22:58.815Z"
   },
   {
    "duration": 149,
    "start_time": "2021-11-30T13:22:59.063Z"
   },
   {
    "duration": 153,
    "start_time": "2021-11-30T13:22:59.215Z"
   },
   {
    "duration": 144,
    "start_time": "2021-11-30T13:22:59.370Z"
   },
   {
    "duration": 158,
    "start_time": "2021-11-30T13:22:59.516Z"
   },
   {
    "duration": 154,
    "start_time": "2021-11-30T13:22:59.675Z"
   },
   {
    "duration": 622,
    "start_time": "2021-11-30T13:22:59.830Z"
   },
   {
    "duration": 1039,
    "start_time": "2021-11-30T13:23:00.454Z"
   },
   {
    "duration": 716,
    "start_time": "2021-11-30T13:23:01.495Z"
   },
   {
    "duration": 1356,
    "start_time": "2021-11-30T13:23:02.214Z"
   },
   {
    "duration": 956,
    "start_time": "2021-11-30T13:23:03.572Z"
   },
   {
    "duration": 1027,
    "start_time": "2021-11-30T13:23:49.220Z"
   },
   {
    "duration": 931,
    "start_time": "2021-11-30T13:25:11.420Z"
   },
   {
    "duration": 802,
    "start_time": "2021-11-30T13:26:42.627Z"
   },
   {
    "duration": 40,
    "start_time": "2021-11-30T13:31:46.140Z"
   },
   {
    "duration": 291,
    "start_time": "2021-11-30T13:33:23.580Z"
   },
   {
    "duration": 204,
    "start_time": "2021-11-30T13:33:47.390Z"
   },
   {
    "duration": 203,
    "start_time": "2021-11-30T13:34:30.672Z"
   },
   {
    "duration": 203,
    "start_time": "2021-11-30T13:35:55.070Z"
   },
   {
    "duration": 198,
    "start_time": "2021-11-30T13:36:07.820Z"
   },
   {
    "duration": 240,
    "start_time": "2021-11-30T13:36:47.262Z"
   },
   {
    "duration": 198,
    "start_time": "2021-11-30T13:37:06.311Z"
   },
   {
    "duration": 251,
    "start_time": "2021-11-30T13:37:23.300Z"
   },
   {
    "duration": 203,
    "start_time": "2021-11-30T13:38:01.421Z"
   },
   {
    "duration": 487,
    "start_time": "2021-11-30T13:38:12.380Z"
   },
   {
    "duration": 455,
    "start_time": "2021-11-30T13:38:23.621Z"
   },
   {
    "duration": 300,
    "start_time": "2021-11-30T13:38:30.820Z"
   },
   {
    "duration": 213,
    "start_time": "2021-11-30T13:39:53.460Z"
   },
   {
    "duration": 221,
    "start_time": "2021-11-30T13:40:31.710Z"
   },
   {
    "duration": 203,
    "start_time": "2021-11-30T13:41:05.189Z"
   },
   {
    "duration": 201,
    "start_time": "2021-11-30T13:41:26.901Z"
   },
   {
    "duration": 217,
    "start_time": "2021-11-30T13:42:04.429Z"
   },
   {
    "duration": 195,
    "start_time": "2021-11-30T13:42:16.394Z"
   },
   {
    "duration": 212,
    "start_time": "2021-11-30T13:42:28.546Z"
   },
   {
    "duration": 390,
    "start_time": "2021-11-30T13:43:24.117Z"
   },
   {
    "duration": 388,
    "start_time": "2021-11-30T13:45:18.301Z"
   },
   {
    "duration": 397,
    "start_time": "2021-11-30T13:45:43.461Z"
   },
   {
    "duration": 762,
    "start_time": "2021-11-30T13:46:41.422Z"
   },
   {
    "duration": 386,
    "start_time": "2021-11-30T13:47:44.581Z"
   },
   {
    "duration": 462,
    "start_time": "2021-11-30T14:07:27.940Z"
   },
   {
    "duration": 386,
    "start_time": "2021-11-30T14:08:42.940Z"
   },
   {
    "duration": 394,
    "start_time": "2021-11-30T14:19:18.780Z"
   },
   {
    "duration": 463,
    "start_time": "2021-11-30T14:19:23.819Z"
   },
   {
    "duration": 365,
    "start_time": "2021-11-30T14:21:37.708Z"
   },
   {
    "duration": 264,
    "start_time": "2021-11-30T14:38:58.619Z"
   },
   {
    "duration": 391,
    "start_time": "2021-11-30T14:39:08.060Z"
   },
   {
    "duration": 308,
    "start_time": "2021-11-30T15:47:44.187Z"
   },
   {
    "duration": 25,
    "start_time": "2021-11-30T15:48:08.107Z"
   },
   {
    "duration": 27,
    "start_time": "2021-11-30T15:49:07.539Z"
   },
   {
    "duration": 24,
    "start_time": "2021-11-30T15:50:07.219Z"
   },
   {
    "duration": 55,
    "start_time": "2021-11-30T15:51:03.747Z"
   },
   {
    "duration": 25,
    "start_time": "2021-11-30T15:51:32.740Z"
   },
   {
    "duration": 26,
    "start_time": "2021-11-30T15:52:25.940Z"
   },
   {
    "duration": 27,
    "start_time": "2021-11-30T15:53:24.259Z"
   },
   {
    "duration": 313,
    "start_time": "2021-11-30T15:55:29.819Z"
   },
   {
    "duration": 22,
    "start_time": "2021-11-30T15:55:35.651Z"
   },
   {
    "duration": 26,
    "start_time": "2021-11-30T15:56:33.379Z"
   },
   {
    "duration": 85,
    "start_time": "2021-11-30T15:57:00.869Z"
   },
   {
    "duration": 89,
    "start_time": "2021-11-30T15:57:07.743Z"
   },
   {
    "duration": 27,
    "start_time": "2021-11-30T15:57:17.659Z"
   },
   {
    "duration": 30,
    "start_time": "2021-11-30T15:57:32.419Z"
   },
   {
    "duration": 30,
    "start_time": "2021-11-30T15:58:48.340Z"
   },
   {
    "duration": 39,
    "start_time": "2021-11-30T15:59:47.220Z"
   },
   {
    "duration": 27,
    "start_time": "2021-11-30T15:59:57.980Z"
   },
   {
    "duration": 28,
    "start_time": "2021-11-30T16:01:29.580Z"
   },
   {
    "duration": 31,
    "start_time": "2021-11-30T16:01:50.590Z"
   },
   {
    "duration": 36,
    "start_time": "2021-11-30T16:03:04.099Z"
   },
   {
    "duration": 37,
    "start_time": "2021-11-30T16:09:49.988Z"
   },
   {
    "duration": 42,
    "start_time": "2021-11-30T16:09:58.939Z"
   },
   {
    "duration": 5987,
    "start_time": "2021-11-30T16:11:47.180Z"
   },
   {
    "duration": 7300,
    "start_time": "2021-11-30T16:11:56.341Z"
   },
   {
    "duration": 6293,
    "start_time": "2021-11-30T16:12:24.867Z"
   },
   {
    "duration": 47,
    "start_time": "2021-11-30T16:13:01.100Z"
   },
   {
    "duration": 43,
    "start_time": "2021-11-30T16:13:28.700Z"
   },
   {
    "duration": 99,
    "start_time": "2021-11-30T16:14:19.419Z"
   },
   {
    "duration": 24,
    "start_time": "2021-11-30T16:14:19.520Z"
   },
   {
    "duration": 27,
    "start_time": "2021-11-30T16:14:19.546Z"
   },
   {
    "duration": 88,
    "start_time": "2021-11-30T16:14:19.576Z"
   },
   {
    "duration": 6,
    "start_time": "2021-11-30T16:14:19.666Z"
   },
   {
    "duration": 10,
    "start_time": "2021-11-30T16:14:19.674Z"
   },
   {
    "duration": 654,
    "start_time": "2021-11-30T16:14:19.686Z"
   },
   {
    "duration": 26,
    "start_time": "2021-11-30T16:14:20.342Z"
   },
   {
    "duration": 10,
    "start_time": "2021-11-30T16:14:20.371Z"
   },
   {
    "duration": 18,
    "start_time": "2021-11-30T16:14:20.384Z"
   },
   {
    "duration": 759,
    "start_time": "2021-11-30T16:14:20.404Z"
   },
   {
    "duration": 14,
    "start_time": "2021-11-30T16:14:21.165Z"
   },
   {
    "duration": 12,
    "start_time": "2021-11-30T16:14:21.181Z"
   },
   {
    "duration": 6,
    "start_time": "2021-11-30T16:14:21.195Z"
   },
   {
    "duration": 1232,
    "start_time": "2021-11-30T16:14:21.203Z"
   },
   {
    "duration": 11,
    "start_time": "2021-11-30T16:14:22.437Z"
   },
   {
    "duration": 5,
    "start_time": "2021-11-30T16:14:22.463Z"
   },
   {
    "duration": 667,
    "start_time": "2021-11-30T16:14:22.470Z"
   },
   {
    "duration": 6,
    "start_time": "2021-11-30T16:14:23.139Z"
   },
   {
    "duration": 31,
    "start_time": "2021-11-30T16:14:23.146Z"
   },
   {
    "duration": 791,
    "start_time": "2021-11-30T16:14:23.180Z"
   },
   {
    "duration": 190,
    "start_time": "2021-11-30T16:14:23.973Z"
   },
   {
    "duration": 10,
    "start_time": "2021-11-30T16:14:24.165Z"
   },
   {
    "duration": 4,
    "start_time": "2021-11-30T16:14:24.177Z"
   },
   {
    "duration": 13,
    "start_time": "2021-11-30T16:14:24.182Z"
   },
   {
    "duration": 224,
    "start_time": "2021-11-30T16:14:24.197Z"
   },
   {
    "duration": 5,
    "start_time": "2021-11-30T16:14:24.425Z"
   },
   {
    "duration": 42,
    "start_time": "2021-11-30T16:14:24.433Z"
   },
   {
    "duration": 9,
    "start_time": "2021-11-30T16:14:24.478Z"
   },
   {
    "duration": 391,
    "start_time": "2021-11-30T16:14:24.490Z"
   },
   {
    "duration": 7,
    "start_time": "2021-11-30T16:14:24.883Z"
   },
   {
    "duration": 73,
    "start_time": "2021-11-30T16:14:24.892Z"
   },
   {
    "duration": 12,
    "start_time": "2021-11-30T16:14:24.967Z"
   },
   {
    "duration": 236,
    "start_time": "2021-11-30T16:14:24.981Z"
   },
   {
    "duration": 23,
    "start_time": "2021-11-30T16:14:25.219Z"
   },
   {
    "duration": 657,
    "start_time": "2021-11-30T16:14:25.244Z"
   },
   {
    "duration": 9,
    "start_time": "2021-11-30T16:14:25.903Z"
   },
   {
    "duration": 33,
    "start_time": "2021-11-30T16:14:25.914Z"
   },
   {
    "duration": 216,
    "start_time": "2021-11-30T16:14:25.949Z"
   },
   {
    "duration": 204,
    "start_time": "2021-11-30T16:14:26.166Z"
   },
   {
    "duration": 248,
    "start_time": "2021-11-30T16:14:26.373Z"
   },
   {
    "duration": 240,
    "start_time": "2021-11-30T16:14:26.623Z"
   },
   {
    "duration": 239,
    "start_time": "2021-11-30T16:14:26.865Z"
   },
   {
    "duration": 159,
    "start_time": "2021-11-30T16:14:27.106Z"
   },
   {
    "duration": 152,
    "start_time": "2021-11-30T16:14:27.267Z"
   },
   {
    "duration": 170,
    "start_time": "2021-11-30T16:14:27.421Z"
   },
   {
    "duration": 160,
    "start_time": "2021-11-30T16:14:27.592Z"
   },
   {
    "duration": 526,
    "start_time": "2021-11-30T16:14:27.754Z"
   },
   {
    "duration": 637,
    "start_time": "2021-11-30T16:14:28.282Z"
   },
   {
    "duration": 1145,
    "start_time": "2021-11-30T16:14:28.920Z"
   },
   {
    "duration": 752,
    "start_time": "2021-11-30T16:14:30.067Z"
   },
   {
    "duration": 1075,
    "start_time": "2021-11-30T16:14:30.821Z"
   },
   {
    "duration": 828,
    "start_time": "2021-11-30T16:14:31.898Z"
   },
   {
    "duration": 395,
    "start_time": "2021-11-30T16:14:32.728Z"
   },
   {
    "duration": 390,
    "start_time": "2021-11-30T16:14:33.125Z"
   },
   {
    "duration": 379,
    "start_time": "2021-11-30T16:14:33.517Z"
   },
   {
    "duration": 45,
    "start_time": "2021-11-30T16:14:33.898Z"
   },
   {
    "duration": 43,
    "start_time": "2021-11-30T16:15:04.382Z"
   },
   {
    "duration": 64,
    "start_time": "2021-11-30T16:15:38.741Z"
   },
   {
    "duration": 46,
    "start_time": "2021-11-30T16:16:17.268Z"
   },
   {
    "duration": 52,
    "start_time": "2021-11-30T16:16:41.740Z"
   },
   {
    "duration": 46,
    "start_time": "2021-11-30T16:17:00.829Z"
   },
   {
    "duration": 103,
    "start_time": "2021-11-30T16:17:06.784Z"
   },
   {
    "duration": 106,
    "start_time": "2021-11-30T16:26:36.060Z"
   },
   {
    "duration": 103,
    "start_time": "2021-11-30T16:27:53.261Z"
   },
   {
    "duration": 93,
    "start_time": "2021-11-30T16:28:34.030Z"
   },
   {
    "duration": 22,
    "start_time": "2021-11-30T16:28:34.126Z"
   },
   {
    "duration": 13,
    "start_time": "2021-11-30T16:28:34.163Z"
   },
   {
    "duration": 69,
    "start_time": "2021-11-30T16:28:34.179Z"
   },
   {
    "duration": 18,
    "start_time": "2021-11-30T16:28:34.250Z"
   },
   {
    "duration": 22,
    "start_time": "2021-11-30T16:28:34.270Z"
   },
   {
    "duration": 215,
    "start_time": "2021-11-30T16:28:34.294Z"
   },
   {
    "duration": 21,
    "start_time": "2021-11-30T16:28:34.511Z"
   },
   {
    "duration": 266,
    "start_time": "2021-11-30T16:28:34.536Z"
   },
   {
    "duration": 27,
    "start_time": "2021-11-30T16:28:34.805Z"
   },
   {
    "duration": 511,
    "start_time": "2021-11-30T16:28:34.834Z"
   },
   {
    "duration": 19,
    "start_time": "2021-11-30T16:28:35.347Z"
   },
   {
    "duration": 15,
    "start_time": "2021-11-30T16:28:35.368Z"
   },
   {
    "duration": 40,
    "start_time": "2021-11-30T16:28:35.384Z"
   },
   {
    "duration": 674,
    "start_time": "2021-11-30T16:28:35.427Z"
   },
   {
    "duration": 11,
    "start_time": "2021-11-30T16:28:36.103Z"
   },
   {
    "duration": 8,
    "start_time": "2021-11-30T16:28:36.116Z"
   },
   {
    "duration": 645,
    "start_time": "2021-11-30T16:28:36.126Z"
   },
   {
    "duration": 5,
    "start_time": "2021-11-30T16:28:36.773Z"
   },
   {
    "duration": 32,
    "start_time": "2021-11-30T16:28:36.780Z"
   },
   {
    "duration": 840,
    "start_time": "2021-11-30T16:28:36.814Z"
   },
   {
    "duration": 168,
    "start_time": "2021-11-30T16:28:37.656Z"
   },
   {
    "duration": 10,
    "start_time": "2021-11-30T16:28:37.826Z"
   },
   {
    "duration": 16,
    "start_time": "2021-11-30T16:28:37.838Z"
   },
   {
    "duration": 31,
    "start_time": "2021-11-30T16:28:37.855Z"
   },
   {
    "duration": 203,
    "start_time": "2021-11-30T16:28:37.887Z"
   },
   {
    "duration": 5,
    "start_time": "2021-11-30T16:28:38.095Z"
   },
   {
    "duration": 42,
    "start_time": "2021-11-30T16:28:38.102Z"
   },
   {
    "duration": 29,
    "start_time": "2021-11-30T16:28:38.145Z"
   },
   {
    "duration": 373,
    "start_time": "2021-11-30T16:28:38.176Z"
   },
   {
    "duration": 14,
    "start_time": "2021-11-30T16:28:38.551Z"
   },
   {
    "duration": 52,
    "start_time": "2021-11-30T16:28:38.567Z"
   },
   {
    "duration": 9,
    "start_time": "2021-11-30T16:28:38.621Z"
   },
   {
    "duration": 228,
    "start_time": "2021-11-30T16:28:38.632Z"
   },
   {
    "duration": 23,
    "start_time": "2021-11-30T16:28:38.863Z"
   },
   {
    "duration": 1078,
    "start_time": "2021-11-30T16:28:38.888Z"
   },
   {
    "duration": 8,
    "start_time": "2021-11-30T16:28:39.968Z"
   },
   {
    "duration": 11,
    "start_time": "2021-11-30T16:28:39.978Z"
   },
   {
    "duration": 252,
    "start_time": "2021-11-30T16:28:39.991Z"
   },
   {
    "duration": 198,
    "start_time": "2021-11-30T16:28:40.245Z"
   },
   {
    "duration": 233,
    "start_time": "2021-11-30T16:28:40.445Z"
   },
   {
    "duration": 221,
    "start_time": "2021-11-30T16:28:40.679Z"
   },
   {
    "duration": 238,
    "start_time": "2021-11-30T16:28:40.902Z"
   },
   {
    "duration": 153,
    "start_time": "2021-11-30T16:28:41.142Z"
   },
   {
    "duration": 150,
    "start_time": "2021-11-30T16:28:41.296Z"
   },
   {
    "duration": 148,
    "start_time": "2021-11-30T16:28:41.447Z"
   },
   {
    "duration": 161,
    "start_time": "2021-11-30T16:28:41.596Z"
   },
   {
    "duration": 159,
    "start_time": "2021-11-30T16:28:41.763Z"
   },
   {
    "duration": 627,
    "start_time": "2021-11-30T16:28:41.924Z"
   },
   {
    "duration": 1057,
    "start_time": "2021-11-30T16:28:42.553Z"
   },
   {
    "duration": 706,
    "start_time": "2021-11-30T16:28:43.613Z"
   },
   {
    "duration": 1048,
    "start_time": "2021-11-30T16:28:44.321Z"
   },
   {
    "duration": 822,
    "start_time": "2021-11-30T16:28:45.371Z"
   },
   {
    "duration": 372,
    "start_time": "2021-11-30T16:28:46.194Z"
   },
   {
    "duration": 375,
    "start_time": "2021-11-30T16:28:46.568Z"
   },
   {
    "duration": 369,
    "start_time": "2021-11-30T16:28:46.944Z"
   },
   {
    "duration": 122,
    "start_time": "2021-11-30T16:28:47.315Z"
   },
   {
    "duration": 53,
    "start_time": "2021-11-30T16:32:49.008Z"
   },
   {
    "duration": 29,
    "start_time": "2021-11-30T16:33:42.509Z"
   },
   {
    "duration": 42,
    "start_time": "2021-11-30T16:47:53.699Z"
   },
   {
    "duration": 41,
    "start_time": "2021-11-30T16:48:42.876Z"
   },
   {
    "duration": 23,
    "start_time": "2021-11-30T16:52:03.101Z"
   },
   {
    "duration": 25,
    "start_time": "2021-11-30T16:53:15.236Z"
   },
   {
    "duration": 26,
    "start_time": "2021-11-30T16:53:30.061Z"
   },
   {
    "duration": 23,
    "start_time": "2021-11-30T16:53:39.781Z"
   },
   {
    "duration": 24,
    "start_time": "2021-11-30T16:53:45.020Z"
   },
   {
    "duration": 36,
    "start_time": "2021-11-30T16:59:38.261Z"
   },
   {
    "duration": 56,
    "start_time": "2021-11-30T17:00:00.940Z"
   },
   {
    "duration": 60,
    "start_time": "2021-11-30T17:01:19.077Z"
   },
   {
    "duration": 107,
    "start_time": "2021-11-30T17:01:39.661Z"
   },
   {
    "duration": 23,
    "start_time": "2021-11-30T17:01:39.770Z"
   },
   {
    "duration": 16,
    "start_time": "2021-11-30T17:01:39.795Z"
   },
   {
    "duration": 90,
    "start_time": "2021-11-30T17:01:39.813Z"
   },
   {
    "duration": 8,
    "start_time": "2021-11-30T17:01:39.906Z"
   },
   {
    "duration": 9,
    "start_time": "2021-11-30T17:01:39.916Z"
   },
   {
    "duration": 244,
    "start_time": "2021-11-30T17:01:39.927Z"
   },
   {
    "duration": 23,
    "start_time": "2021-11-30T17:01:40.174Z"
   },
   {
    "duration": 10,
    "start_time": "2021-11-30T17:01:40.201Z"
   },
   {
    "duration": 13,
    "start_time": "2021-11-30T17:01:40.215Z"
   },
   {
    "duration": 555,
    "start_time": "2021-11-30T17:01:40.230Z"
   },
   {
    "duration": 10,
    "start_time": "2021-11-30T17:01:40.787Z"
   },
   {
    "duration": 15,
    "start_time": "2021-11-30T17:01:40.798Z"
   },
   {
    "duration": 7,
    "start_time": "2021-11-30T17:01:40.814Z"
   },
   {
    "duration": 710,
    "start_time": "2021-11-30T17:01:40.823Z"
   },
   {
    "duration": 13,
    "start_time": "2021-11-30T17:01:41.535Z"
   },
   {
    "duration": 5,
    "start_time": "2021-11-30T17:01:41.564Z"
   },
   {
    "duration": 719,
    "start_time": "2021-11-30T17:01:41.570Z"
   },
   {
    "duration": 5,
    "start_time": "2021-11-30T17:01:42.292Z"
   },
   {
    "duration": 22,
    "start_time": "2021-11-30T17:01:42.299Z"
   },
   {
    "duration": 857,
    "start_time": "2021-11-30T17:01:42.323Z"
   },
   {
    "duration": 174,
    "start_time": "2021-11-30T17:01:43.182Z"
   },
   {
    "duration": 13,
    "start_time": "2021-11-30T17:01:43.358Z"
   },
   {
    "duration": 5,
    "start_time": "2021-11-30T17:01:43.373Z"
   },
   {
    "duration": 7,
    "start_time": "2021-11-30T17:01:43.380Z"
   },
   {
    "duration": 297,
    "start_time": "2021-11-30T17:01:43.389Z"
   },
   {
    "duration": 5,
    "start_time": "2021-11-30T17:01:43.691Z"
   },
   {
    "duration": 25,
    "start_time": "2021-11-30T17:01:43.699Z"
   },
   {
    "duration": 6,
    "start_time": "2021-11-30T17:01:43.726Z"
   },
   {
    "duration": 382,
    "start_time": "2021-11-30T17:01:43.733Z"
   },
   {
    "duration": 6,
    "start_time": "2021-11-30T17:01:44.116Z"
   },
   {
    "duration": 60,
    "start_time": "2021-11-30T17:01:44.124Z"
   },
   {
    "duration": 10,
    "start_time": "2021-11-30T17:01:44.187Z"
   },
   {
    "duration": 647,
    "start_time": "2021-11-30T17:01:44.199Z"
   },
   {
    "duration": 30,
    "start_time": "2021-11-30T17:01:44.848Z"
   },
   {
    "duration": 748,
    "start_time": "2021-11-30T17:01:44.880Z"
   },
   {
    "duration": 10,
    "start_time": "2021-11-30T17:01:45.630Z"
   },
   {
    "duration": 26,
    "start_time": "2021-11-30T17:01:45.642Z"
   },
   {
    "duration": 263,
    "start_time": "2021-11-30T17:01:45.671Z"
   },
   {
    "duration": 203,
    "start_time": "2021-11-30T17:01:45.937Z"
   },
   {
    "duration": 240,
    "start_time": "2021-11-30T17:01:46.142Z"
   },
   {
    "duration": 225,
    "start_time": "2021-11-30T17:01:46.384Z"
   },
   {
    "duration": 340,
    "start_time": "2021-11-30T17:01:46.610Z"
   },
   {
    "duration": 152,
    "start_time": "2021-11-30T17:01:46.952Z"
   },
   {
    "duration": 157,
    "start_time": "2021-11-30T17:01:47.106Z"
   },
   {
    "duration": 142,
    "start_time": "2021-11-30T17:01:47.265Z"
   },
   {
    "duration": 167,
    "start_time": "2021-11-30T17:01:47.409Z"
   },
   {
    "duration": 166,
    "start_time": "2021-11-30T17:01:47.578Z"
   },
   {
    "duration": 959,
    "start_time": "2021-11-30T17:01:47.746Z"
   },
   {
    "duration": 1097,
    "start_time": "2021-11-30T17:01:48.708Z"
   },
   {
    "duration": 777,
    "start_time": "2021-11-30T17:01:49.807Z"
   },
   {
    "duration": 1196,
    "start_time": "2021-11-30T17:01:50.585Z"
   },
   {
    "duration": 1154,
    "start_time": "2021-11-30T17:01:51.783Z"
   },
   {
    "duration": 395,
    "start_time": "2021-11-30T17:01:52.939Z"
   },
   {
    "duration": 438,
    "start_time": "2021-11-30T17:01:53.336Z"
   },
   {
    "duration": 426,
    "start_time": "2021-11-30T17:01:53.776Z"
   },
   {
    "duration": 26,
    "start_time": "2021-11-30T17:01:54.205Z"
   },
   {
    "duration": 78,
    "start_time": "2021-11-30T17:01:54.233Z"
   },
   {
    "duration": 308,
    "start_time": "2021-11-30T17:02:15.861Z"
   },
   {
    "duration": 42,
    "start_time": "2021-11-30T17:02:34.789Z"
   },
   {
    "duration": 43,
    "start_time": "2021-11-30T17:03:32.754Z"
   },
   {
    "duration": 44,
    "start_time": "2021-11-30T17:03:53.020Z"
   },
   {
    "duration": 39,
    "start_time": "2021-11-30T17:04:21.152Z"
   },
   {
    "duration": 43,
    "start_time": "2021-11-30T17:04:47.700Z"
   },
   {
    "duration": 45,
    "start_time": "2021-11-30T17:05:05.051Z"
   },
   {
    "duration": 45,
    "start_time": "2021-11-30T17:08:04.319Z"
   },
   {
    "duration": 43,
    "start_time": "2021-11-30T17:08:43.308Z"
   },
   {
    "duration": 53,
    "start_time": "2021-11-30T17:12:38.830Z"
   },
   {
    "duration": 224,
    "start_time": "2021-11-30T17:13:28.421Z"
   },
   {
    "duration": 196,
    "start_time": "2021-11-30T17:13:36.596Z"
   },
   {
    "duration": 607,
    "start_time": "2021-11-30T17:13:49.624Z"
   },
   {
    "duration": 197,
    "start_time": "2021-11-30T17:14:19.588Z"
   },
   {
    "duration": 96,
    "start_time": "2021-11-30T17:14:41.500Z"
   },
   {
    "duration": 23,
    "start_time": "2021-11-30T17:14:41.598Z"
   },
   {
    "duration": 29,
    "start_time": "2021-11-30T17:14:41.624Z"
   },
   {
    "duration": 79,
    "start_time": "2021-11-30T17:14:41.655Z"
   },
   {
    "duration": 6,
    "start_time": "2021-11-30T17:14:41.736Z"
   },
   {
    "duration": 22,
    "start_time": "2021-11-30T17:14:41.744Z"
   },
   {
    "duration": 212,
    "start_time": "2021-11-30T17:14:41.768Z"
   },
   {
    "duration": 23,
    "start_time": "2021-11-30T17:14:41.982Z"
   },
   {
    "duration": 10,
    "start_time": "2021-11-30T17:14:42.009Z"
   },
   {
    "duration": 41,
    "start_time": "2021-11-30T17:14:42.022Z"
   },
   {
    "duration": 476,
    "start_time": "2021-11-30T17:14:42.066Z"
   },
   {
    "duration": 19,
    "start_time": "2021-11-30T17:14:42.544Z"
   },
   {
    "duration": 14,
    "start_time": "2021-11-30T17:14:42.565Z"
   },
   {
    "duration": 6,
    "start_time": "2021-11-30T17:14:42.581Z"
   },
   {
    "duration": 713,
    "start_time": "2021-11-30T17:14:42.589Z"
   },
   {
    "duration": 11,
    "start_time": "2021-11-30T17:14:43.304Z"
   },
   {
    "duration": 6,
    "start_time": "2021-11-30T17:14:43.317Z"
   },
   {
    "duration": 629,
    "start_time": "2021-11-30T17:14:43.324Z"
   },
   {
    "duration": 9,
    "start_time": "2021-11-30T17:14:43.955Z"
   },
   {
    "duration": 15,
    "start_time": "2021-11-30T17:14:43.966Z"
   },
   {
    "duration": 796,
    "start_time": "2021-11-30T17:14:43.983Z"
   },
   {
    "duration": 169,
    "start_time": "2021-11-30T17:14:44.781Z"
   },
   {
    "duration": 315,
    "start_time": "2021-11-30T17:14:44.952Z"
   },
   {
    "duration": 403,
    "start_time": "2021-11-30T17:14:45.269Z"
   },
   {
    "duration": 695,
    "start_time": "2021-11-30T17:14:45.674Z"
   },
   {
    "duration": 205,
    "start_time": "2021-11-30T17:14:46.371Z"
   },
   {
    "duration": 5,
    "start_time": "2021-11-30T17:14:46.581Z"
   },
   {
    "duration": 25,
    "start_time": "2021-11-30T17:14:46.588Z"
   },
   {
    "duration": 6,
    "start_time": "2021-11-30T17:14:46.614Z"
   },
   {
    "duration": 389,
    "start_time": "2021-11-30T17:14:46.622Z"
   },
   {
    "duration": 5,
    "start_time": "2021-11-30T17:14:47.013Z"
   },
   {
    "duration": 61,
    "start_time": "2021-11-30T17:14:47.020Z"
   },
   {
    "duration": 10,
    "start_time": "2021-11-30T17:14:47.083Z"
   },
   {
    "duration": 219,
    "start_time": "2021-11-30T17:14:47.094Z"
   },
   {
    "duration": 24,
    "start_time": "2021-11-30T17:14:47.315Z"
   },
   {
    "duration": 665,
    "start_time": "2021-11-30T17:14:47.341Z"
   },
   {
    "duration": 10,
    "start_time": "2021-11-30T17:14:48.007Z"
   },
   {
    "duration": 18,
    "start_time": "2021-11-30T17:14:48.019Z"
   },
   {
    "duration": 242,
    "start_time": "2021-11-30T17:14:48.040Z"
   },
   {
    "duration": 199,
    "start_time": "2021-11-30T17:14:48.284Z"
   },
   {
    "duration": 230,
    "start_time": "2021-11-30T17:14:48.485Z"
   },
   {
    "duration": 215,
    "start_time": "2021-11-30T17:14:48.718Z"
   },
   {
    "duration": 237,
    "start_time": "2021-11-30T17:14:48.936Z"
   },
   {
    "duration": 153,
    "start_time": "2021-11-30T17:14:49.175Z"
   },
   {
    "duration": 150,
    "start_time": "2021-11-30T17:14:49.330Z"
   },
   {
    "duration": 142,
    "start_time": "2021-11-30T17:14:49.483Z"
   },
   {
    "duration": 155,
    "start_time": "2021-11-30T17:14:49.626Z"
   },
   {
    "duration": 159,
    "start_time": "2021-11-30T17:14:49.783Z"
   },
   {
    "duration": 631,
    "start_time": "2021-11-30T17:14:49.944Z"
   },
   {
    "duration": 1532,
    "start_time": "2021-11-30T17:14:50.577Z"
   },
   {
    "duration": 700,
    "start_time": "2021-11-30T17:14:52.111Z"
   },
   {
    "duration": 1043,
    "start_time": "2021-11-30T17:14:52.813Z"
   },
   {
    "duration": 759,
    "start_time": "2021-11-30T17:14:53.858Z"
   },
   {
    "duration": 381,
    "start_time": "2021-11-30T17:14:54.618Z"
   },
   {
    "duration": 386,
    "start_time": "2021-11-30T17:14:55.001Z"
   },
   {
    "duration": 366,
    "start_time": "2021-11-30T17:14:55.388Z"
   },
   {
    "duration": 31,
    "start_time": "2021-11-30T17:14:55.756Z"
   },
   {
    "duration": 216,
    "start_time": "2021-11-30T17:14:55.789Z"
   },
   {
    "duration": 199,
    "start_time": "2021-11-30T17:15:17.143Z"
   },
   {
    "duration": 132,
    "start_time": "2021-11-30T17:15:25.342Z"
   },
   {
    "duration": 35,
    "start_time": "2021-11-30T17:15:25.477Z"
   },
   {
    "duration": 16,
    "start_time": "2021-11-30T17:15:25.514Z"
   },
   {
    "duration": 96,
    "start_time": "2021-11-30T17:15:25.532Z"
   },
   {
    "duration": 6,
    "start_time": "2021-11-30T17:15:25.630Z"
   },
   {
    "duration": 33,
    "start_time": "2021-11-30T17:15:25.638Z"
   },
   {
    "duration": 213,
    "start_time": "2021-11-30T17:15:25.673Z"
   },
   {
    "duration": 20,
    "start_time": "2021-11-30T17:15:25.889Z"
   },
   {
    "duration": 10,
    "start_time": "2021-11-30T17:15:25.913Z"
   },
   {
    "duration": 38,
    "start_time": "2021-11-30T17:15:25.925Z"
   },
   {
    "duration": 503,
    "start_time": "2021-11-30T17:15:25.965Z"
   },
   {
    "duration": 10,
    "start_time": "2021-11-30T17:15:26.470Z"
   },
   {
    "duration": 15,
    "start_time": "2021-11-30T17:15:26.482Z"
   },
   {
    "duration": 8,
    "start_time": "2021-11-30T17:15:26.499Z"
   },
   {
    "duration": 680,
    "start_time": "2021-11-30T17:15:26.509Z"
   },
   {
    "duration": 11,
    "start_time": "2021-11-30T17:15:27.191Z"
   },
   {
    "duration": 13,
    "start_time": "2021-11-30T17:15:27.203Z"
   },
   {
    "duration": 650,
    "start_time": "2021-11-30T17:15:27.218Z"
   },
   {
    "duration": 4,
    "start_time": "2021-11-30T17:15:27.870Z"
   },
   {
    "duration": 20,
    "start_time": "2021-11-30T17:15:27.876Z"
   },
   {
    "duration": 809,
    "start_time": "2021-11-30T17:15:27.897Z"
   },
   {
    "duration": 168,
    "start_time": "2021-11-30T17:15:28.709Z"
   },
   {
    "duration": 12,
    "start_time": "2021-11-30T17:15:28.879Z"
   },
   {
    "duration": 4,
    "start_time": "2021-11-30T17:15:28.893Z"
   },
   {
    "duration": 13,
    "start_time": "2021-11-30T17:15:28.899Z"
   },
   {
    "duration": 218,
    "start_time": "2021-11-30T17:15:28.914Z"
   },
   {
    "duration": 5,
    "start_time": "2021-11-30T17:15:29.137Z"
   },
   {
    "duration": 35,
    "start_time": "2021-11-30T17:15:29.144Z"
   },
   {
    "duration": 13,
    "start_time": "2021-11-30T17:15:29.181Z"
   },
   {
    "duration": 374,
    "start_time": "2021-11-30T17:15:29.196Z"
   },
   {
    "duration": 6,
    "start_time": "2021-11-30T17:15:29.572Z"
   },
   {
    "duration": 64,
    "start_time": "2021-11-30T17:15:29.579Z"
   },
   {
    "duration": 10,
    "start_time": "2021-11-30T17:15:29.645Z"
   },
   {
    "duration": 213,
    "start_time": "2021-11-30T17:15:29.657Z"
   },
   {
    "duration": 22,
    "start_time": "2021-11-30T17:15:29.871Z"
   },
   {
    "duration": 643,
    "start_time": "2021-11-30T17:15:29.895Z"
   },
   {
    "duration": 10,
    "start_time": "2021-11-30T17:15:30.540Z"
   },
   {
    "duration": 85,
    "start_time": "2021-11-30T17:15:30.563Z"
   },
   {
    "duration": 219,
    "start_time": "2021-11-30T17:15:30.650Z"
   },
   {
    "duration": 192,
    "start_time": "2021-11-30T17:15:30.871Z"
   },
   {
    "duration": 233,
    "start_time": "2021-11-30T17:15:31.065Z"
   },
   {
    "duration": 212,
    "start_time": "2021-11-30T17:15:31.300Z"
   },
   {
    "duration": 723,
    "start_time": "2021-11-30T17:15:31.514Z"
   },
   {
    "duration": 161,
    "start_time": "2021-11-30T17:15:32.240Z"
   },
   {
    "duration": 145,
    "start_time": "2021-11-30T17:15:32.403Z"
   },
   {
    "duration": 148,
    "start_time": "2021-11-30T17:15:32.550Z"
   },
   {
    "duration": 151,
    "start_time": "2021-11-30T17:15:32.700Z"
   },
   {
    "duration": 159,
    "start_time": "2021-11-30T17:15:32.852Z"
   },
   {
    "duration": 613,
    "start_time": "2021-11-30T17:15:33.013Z"
   },
   {
    "duration": 1090,
    "start_time": "2021-11-30T17:15:33.629Z"
   },
   {
    "duration": 720,
    "start_time": "2021-11-30T17:15:34.722Z"
   },
   {
    "duration": 1035,
    "start_time": "2021-11-30T17:15:35.444Z"
   },
   {
    "duration": 813,
    "start_time": "2021-11-30T17:15:36.481Z"
   },
   {
    "duration": 378,
    "start_time": "2021-11-30T17:15:37.296Z"
   },
   {
    "duration": 378,
    "start_time": "2021-11-30T17:15:37.676Z"
   },
   {
    "duration": 389,
    "start_time": "2021-11-30T17:15:38.063Z"
   },
   {
    "duration": 38,
    "start_time": "2021-11-30T17:15:38.455Z"
   },
   {
    "duration": 211,
    "start_time": "2021-11-30T17:15:38.495Z"
   },
   {
    "duration": 187,
    "start_time": "2021-11-30T17:20:20.496Z"
   },
   {
    "duration": 195,
    "start_time": "2021-11-30T17:20:26.941Z"
   },
   {
    "duration": 196,
    "start_time": "2021-11-30T17:20:32.981Z"
   },
   {
    "duration": 198,
    "start_time": "2021-11-30T17:21:00.188Z"
   },
   {
    "duration": 96,
    "start_time": "2021-11-30T17:24:04.020Z"
   },
   {
    "duration": 24,
    "start_time": "2021-11-30T17:24:04.119Z"
   },
   {
    "duration": 17,
    "start_time": "2021-11-30T17:24:04.164Z"
   },
   {
    "duration": 90,
    "start_time": "2021-11-30T17:24:04.184Z"
   },
   {
    "duration": 7,
    "start_time": "2021-11-30T17:24:04.276Z"
   },
   {
    "duration": 12,
    "start_time": "2021-11-30T17:24:04.285Z"
   },
   {
    "duration": 222,
    "start_time": "2021-11-30T17:24:04.300Z"
   },
   {
    "duration": 21,
    "start_time": "2021-11-30T17:24:04.525Z"
   },
   {
    "duration": 20,
    "start_time": "2021-11-30T17:24:04.549Z"
   },
   {
    "duration": 12,
    "start_time": "2021-11-30T17:24:04.572Z"
   },
   {
    "duration": 535,
    "start_time": "2021-11-30T17:24:04.586Z"
   },
   {
    "duration": 10,
    "start_time": "2021-11-30T17:24:05.123Z"
   },
   {
    "duration": 29,
    "start_time": "2021-11-30T17:24:05.135Z"
   },
   {
    "duration": 6,
    "start_time": "2021-11-30T17:24:05.166Z"
   },
   {
    "duration": 717,
    "start_time": "2021-11-30T17:24:05.174Z"
   },
   {
    "duration": 11,
    "start_time": "2021-11-30T17:24:05.892Z"
   },
   {
    "duration": 26,
    "start_time": "2021-11-30T17:24:05.905Z"
   },
   {
    "duration": 611,
    "start_time": "2021-11-30T17:24:05.933Z"
   },
   {
    "duration": 4,
    "start_time": "2021-11-30T17:24:06.547Z"
   },
   {
    "duration": 14,
    "start_time": "2021-11-30T17:24:06.564Z"
   },
   {
    "duration": 793,
    "start_time": "2021-11-30T17:24:06.580Z"
   },
   {
    "duration": 161,
    "start_time": "2021-11-30T17:24:07.375Z"
   },
   {
    "duration": 26,
    "start_time": "2021-11-30T17:24:07.541Z"
   },
   {
    "duration": 3,
    "start_time": "2021-11-30T17:24:07.570Z"
   },
   {
    "duration": 8,
    "start_time": "2021-11-30T17:24:07.575Z"
   },
   {
    "duration": 202,
    "start_time": "2021-11-30T17:24:07.584Z"
   },
   {
    "duration": 6,
    "start_time": "2021-11-30T17:24:07.787Z"
   },
   {
    "duration": 23,
    "start_time": "2021-11-30T17:24:07.794Z"
   },
   {
    "duration": 6,
    "start_time": "2021-11-30T17:24:07.819Z"
   },
   {
    "duration": 368,
    "start_time": "2021-11-30T17:24:07.827Z"
   },
   {
    "duration": 5,
    "start_time": "2021-11-30T17:24:08.197Z"
   },
   {
    "duration": 60,
    "start_time": "2021-11-30T17:24:08.204Z"
   },
   {
    "duration": 10,
    "start_time": "2021-11-30T17:24:08.266Z"
   },
   {
    "duration": 215,
    "start_time": "2021-11-30T17:24:08.278Z"
   },
   {
    "duration": 22,
    "start_time": "2021-11-30T17:24:08.495Z"
   },
   {
    "duration": 1196,
    "start_time": "2021-11-30T17:24:08.519Z"
   },
   {
    "duration": 10,
    "start_time": "2021-11-30T17:24:09.717Z"
   },
   {
    "duration": 31,
    "start_time": "2021-11-30T17:24:09.729Z"
   },
   {
    "duration": 233,
    "start_time": "2021-11-30T17:24:09.763Z"
   },
   {
    "duration": 202,
    "start_time": "2021-11-30T17:24:09.999Z"
   },
   {
    "duration": 232,
    "start_time": "2021-11-30T17:24:10.203Z"
   },
   {
    "duration": 226,
    "start_time": "2021-11-30T17:24:10.437Z"
   },
   {
    "duration": 240,
    "start_time": "2021-11-30T17:24:10.665Z"
   },
   {
    "duration": 162,
    "start_time": "2021-11-30T17:24:10.907Z"
   },
   {
    "duration": 146,
    "start_time": "2021-11-30T17:24:11.071Z"
   },
   {
    "duration": 146,
    "start_time": "2021-11-30T17:24:11.219Z"
   },
   {
    "duration": 159,
    "start_time": "2021-11-30T17:24:11.368Z"
   },
   {
    "duration": 161,
    "start_time": "2021-11-30T17:24:11.529Z"
   },
   {
    "duration": 627,
    "start_time": "2021-11-30T17:24:11.692Z"
   },
   {
    "duration": 1115,
    "start_time": "2021-11-30T17:24:12.321Z"
   },
   {
    "duration": 769,
    "start_time": "2021-11-30T17:24:13.438Z"
   },
   {
    "duration": 1074,
    "start_time": "2021-11-30T17:24:14.209Z"
   },
   {
    "duration": 817,
    "start_time": "2021-11-30T17:24:15.285Z"
   },
   {
    "duration": 384,
    "start_time": "2021-11-30T17:24:16.104Z"
   },
   {
    "duration": 377,
    "start_time": "2021-11-30T17:24:16.490Z"
   },
   {
    "duration": 373,
    "start_time": "2021-11-30T17:24:16.869Z"
   },
   {
    "duration": 36,
    "start_time": "2021-11-30T17:24:17.244Z"
   },
   {
    "duration": 207,
    "start_time": "2021-11-30T17:24:17.282Z"
   },
   {
    "duration": 205,
    "start_time": "2021-11-30T17:25:18.981Z"
   },
   {
    "duration": 206,
    "start_time": "2021-11-30T17:29:37.508Z"
   },
   {
    "duration": 189,
    "start_time": "2021-11-30T17:29:46.740Z"
   },
   {
    "duration": 96,
    "start_time": "2021-11-30T17:30:11.740Z"
   },
   {
    "duration": 31,
    "start_time": "2021-11-30T17:30:11.838Z"
   },
   {
    "duration": 57,
    "start_time": "2021-11-30T17:30:11.871Z"
   },
   {
    "duration": 92,
    "start_time": "2021-11-30T17:30:11.930Z"
   },
   {
    "duration": 6,
    "start_time": "2021-11-30T17:30:12.024Z"
   },
   {
    "duration": 32,
    "start_time": "2021-11-30T17:30:12.032Z"
   },
   {
    "duration": 243,
    "start_time": "2021-11-30T17:30:12.066Z"
   },
   {
    "duration": 20,
    "start_time": "2021-11-30T17:30:12.311Z"
   },
   {
    "duration": 41,
    "start_time": "2021-11-30T17:30:12.334Z"
   },
   {
    "duration": 28,
    "start_time": "2021-11-30T17:30:12.378Z"
   },
   {
    "duration": 512,
    "start_time": "2021-11-30T17:30:12.407Z"
   },
   {
    "duration": 9,
    "start_time": "2021-11-30T17:30:12.921Z"
   },
   {
    "duration": 33,
    "start_time": "2021-11-30T17:30:12.932Z"
   },
   {
    "duration": 17,
    "start_time": "2021-11-30T17:30:12.966Z"
   },
   {
    "duration": 690,
    "start_time": "2021-11-30T17:30:12.984Z"
   },
   {
    "duration": 11,
    "start_time": "2021-11-30T17:30:13.676Z"
   },
   {
    "duration": 25,
    "start_time": "2021-11-30T17:30:13.688Z"
   },
   {
    "duration": 654,
    "start_time": "2021-11-30T17:30:13.715Z"
   },
   {
    "duration": 4,
    "start_time": "2021-11-30T17:30:14.371Z"
   },
   {
    "duration": 25,
    "start_time": "2021-11-30T17:30:14.376Z"
   },
   {
    "duration": 821,
    "start_time": "2021-11-30T17:30:14.403Z"
   },
   {
    "duration": 168,
    "start_time": "2021-11-30T17:30:15.226Z"
   },
   {
    "duration": 12,
    "start_time": "2021-11-30T17:30:15.396Z"
   },
   {
    "duration": 11,
    "start_time": "2021-11-30T17:30:15.410Z"
   },
   {
    "duration": 25,
    "start_time": "2021-11-30T17:30:15.423Z"
   },
   {
    "duration": 199,
    "start_time": "2021-11-30T17:30:15.451Z"
   },
   {
    "duration": 12,
    "start_time": "2021-11-30T17:30:15.655Z"
   },
   {
    "duration": 24,
    "start_time": "2021-11-30T17:30:15.669Z"
   },
   {
    "duration": 18,
    "start_time": "2021-11-30T17:30:15.694Z"
   },
   {
    "duration": 352,
    "start_time": "2021-11-30T17:30:15.714Z"
   },
   {
    "duration": 5,
    "start_time": "2021-11-30T17:30:16.068Z"
   },
   {
    "duration": 53,
    "start_time": "2021-11-30T17:30:16.075Z"
   },
   {
    "duration": 8,
    "start_time": "2021-11-30T17:30:16.130Z"
   },
   {
    "duration": 227,
    "start_time": "2021-11-30T17:30:16.140Z"
   },
   {
    "duration": 21,
    "start_time": "2021-11-30T17:30:16.369Z"
   },
   {
    "duration": 1208,
    "start_time": "2021-11-30T17:30:16.392Z"
   },
   {
    "duration": 9,
    "start_time": "2021-11-30T17:30:17.602Z"
   },
   {
    "duration": 47,
    "start_time": "2021-11-30T17:30:17.612Z"
   },
   {
    "duration": 231,
    "start_time": "2021-11-30T17:30:17.660Z"
   },
   {
    "duration": 197,
    "start_time": "2021-11-30T17:30:17.893Z"
   },
   {
    "duration": 227,
    "start_time": "2021-11-30T17:30:18.092Z"
   },
   {
    "duration": 217,
    "start_time": "2021-11-30T17:30:18.321Z"
   },
   {
    "duration": 238,
    "start_time": "2021-11-30T17:30:18.540Z"
   },
   {
    "duration": 149,
    "start_time": "2021-11-30T17:30:18.780Z"
   },
   {
    "duration": 150,
    "start_time": "2021-11-30T17:30:18.931Z"
   },
   {
    "duration": 147,
    "start_time": "2021-11-30T17:30:19.083Z"
   },
   {
    "duration": 161,
    "start_time": "2021-11-30T17:30:19.232Z"
   },
   {
    "duration": 174,
    "start_time": "2021-11-30T17:30:19.394Z"
   },
   {
    "duration": 627,
    "start_time": "2021-11-30T17:30:19.570Z"
   },
   {
    "duration": 1146,
    "start_time": "2021-11-30T17:30:20.199Z"
   },
   {
    "duration": 676,
    "start_time": "2021-11-30T17:30:21.347Z"
   },
   {
    "duration": 1452,
    "start_time": "2021-11-30T17:30:22.025Z"
   },
   {
    "duration": 826,
    "start_time": "2021-11-30T17:30:23.479Z"
   },
   {
    "duration": 380,
    "start_time": "2021-11-30T17:30:24.307Z"
   },
   {
    "duration": 386,
    "start_time": "2021-11-30T17:30:24.689Z"
   },
   {
    "duration": 391,
    "start_time": "2021-11-30T17:30:25.077Z"
   },
   {
    "duration": 28,
    "start_time": "2021-11-30T17:30:25.470Z"
   },
   {
    "duration": 219,
    "start_time": "2021-11-30T17:30:25.500Z"
   },
   {
    "duration": 6,
    "start_time": "2021-11-30T17:32:00.341Z"
   },
   {
    "duration": 41,
    "start_time": "2021-11-30T17:32:13.500Z"
   },
   {
    "duration": 42,
    "start_time": "2021-11-30T17:32:54.500Z"
   },
   {
    "duration": 47,
    "start_time": "2021-11-30T17:35:35.860Z"
   },
   {
    "duration": 43,
    "start_time": "2021-11-30T17:35:41.228Z"
   },
   {
    "duration": 42,
    "start_time": "2021-11-30T17:36:18.140Z"
   },
   {
    "duration": 97,
    "start_time": "2021-11-30T17:36:50.142Z"
   },
   {
    "duration": 30,
    "start_time": "2021-11-30T17:36:50.241Z"
   },
   {
    "duration": 12,
    "start_time": "2021-11-30T17:36:50.274Z"
   },
   {
    "duration": 85,
    "start_time": "2021-11-30T17:36:50.289Z"
   },
   {
    "duration": 6,
    "start_time": "2021-11-30T17:36:50.375Z"
   },
   {
    "duration": 16,
    "start_time": "2021-11-30T17:36:50.383Z"
   },
   {
    "duration": 213,
    "start_time": "2021-11-30T17:36:50.401Z"
   },
   {
    "duration": 20,
    "start_time": "2021-11-30T17:36:50.617Z"
   },
   {
    "duration": 26,
    "start_time": "2021-11-30T17:36:50.640Z"
   },
   {
    "duration": 13,
    "start_time": "2021-11-30T17:36:50.668Z"
   },
   {
    "duration": 531,
    "start_time": "2021-11-30T17:36:50.683Z"
   },
   {
    "duration": 11,
    "start_time": "2021-11-30T17:36:51.217Z"
   },
   {
    "duration": 34,
    "start_time": "2021-11-30T17:36:51.229Z"
   },
   {
    "duration": 6,
    "start_time": "2021-11-30T17:36:51.265Z"
   },
   {
    "duration": 678,
    "start_time": "2021-11-30T17:36:51.272Z"
   },
   {
    "duration": 21,
    "start_time": "2021-11-30T17:36:51.952Z"
   },
   {
    "duration": 11,
    "start_time": "2021-11-30T17:36:51.975Z"
   },
   {
    "duration": 655,
    "start_time": "2021-11-30T17:36:51.988Z"
   },
   {
    "duration": 3,
    "start_time": "2021-11-30T17:36:52.645Z"
   },
   {
    "duration": 21,
    "start_time": "2021-11-30T17:36:52.650Z"
   },
   {
    "duration": 797,
    "start_time": "2021-11-30T17:36:52.673Z"
   },
   {
    "duration": 154,
    "start_time": "2021-11-30T17:36:53.472Z"
   },
   {
    "duration": 9,
    "start_time": "2021-11-30T17:36:53.630Z"
   },
   {
    "duration": 7,
    "start_time": "2021-11-30T17:36:53.642Z"
   },
   {
    "duration": 7,
    "start_time": "2021-11-30T17:36:53.663Z"
   },
   {
    "duration": 224,
    "start_time": "2021-11-30T17:36:53.672Z"
   },
   {
    "duration": 6,
    "start_time": "2021-11-30T17:36:53.898Z"
   },
   {
    "duration": 22,
    "start_time": "2021-11-30T17:36:53.906Z"
   },
   {
    "duration": 7,
    "start_time": "2021-11-30T17:36:53.930Z"
   },
   {
    "duration": 372,
    "start_time": "2021-11-30T17:36:53.939Z"
   },
   {
    "duration": 7,
    "start_time": "2021-11-30T17:36:54.313Z"
   },
   {
    "duration": 58,
    "start_time": "2021-11-30T17:36:54.322Z"
   },
   {
    "duration": 10,
    "start_time": "2021-11-30T17:36:54.382Z"
   },
   {
    "duration": 219,
    "start_time": "2021-11-30T17:36:54.394Z"
   },
   {
    "duration": 22,
    "start_time": "2021-11-30T17:36:54.615Z"
   },
   {
    "duration": 1176,
    "start_time": "2021-11-30T17:36:54.638Z"
   },
   {
    "duration": 9,
    "start_time": "2021-11-30T17:36:55.816Z"
   },
   {
    "duration": 9,
    "start_time": "2021-11-30T17:36:55.827Z"
   },
   {
    "duration": 233,
    "start_time": "2021-11-30T17:36:55.838Z"
   },
   {
    "duration": 195,
    "start_time": "2021-11-30T17:36:56.073Z"
   },
   {
    "duration": 234,
    "start_time": "2021-11-30T17:36:56.270Z"
   },
   {
    "duration": 214,
    "start_time": "2021-11-30T17:36:56.505Z"
   },
   {
    "duration": 242,
    "start_time": "2021-11-30T17:36:56.721Z"
   },
   {
    "duration": 155,
    "start_time": "2021-11-30T17:36:56.964Z"
   },
   {
    "duration": 152,
    "start_time": "2021-11-30T17:36:57.121Z"
   },
   {
    "duration": 145,
    "start_time": "2021-11-30T17:36:57.275Z"
   },
   {
    "duration": 159,
    "start_time": "2021-11-30T17:36:57.423Z"
   },
   {
    "duration": 162,
    "start_time": "2021-11-30T17:36:57.584Z"
   },
   {
    "duration": 654,
    "start_time": "2021-11-30T17:36:57.748Z"
   },
   {
    "duration": 1125,
    "start_time": "2021-11-30T17:36:58.404Z"
   },
   {
    "duration": 716,
    "start_time": "2021-11-30T17:36:59.531Z"
   },
   {
    "duration": 1080,
    "start_time": "2021-11-30T17:37:00.250Z"
   },
   {
    "duration": 946,
    "start_time": "2021-11-30T17:37:01.332Z"
   },
   {
    "duration": 383,
    "start_time": "2021-11-30T17:37:02.280Z"
   },
   {
    "duration": 377,
    "start_time": "2021-11-30T17:37:02.665Z"
   },
   {
    "duration": 378,
    "start_time": "2021-11-30T17:37:03.044Z"
   },
   {
    "duration": 38,
    "start_time": "2021-11-30T17:37:03.425Z"
   },
   {
    "duration": 275,
    "start_time": "2021-11-30T17:37:03.465Z"
   },
   {
    "duration": 45,
    "start_time": "2021-11-30T17:38:03.109Z"
   },
   {
    "duration": 41,
    "start_time": "2021-11-30T17:38:25.101Z"
   },
   {
    "duration": 45,
    "start_time": "2021-11-30T17:38:35.740Z"
   },
   {
    "duration": 44,
    "start_time": "2021-11-30T17:38:42.461Z"
   },
   {
    "duration": 56,
    "start_time": "2021-11-30T17:39:03.340Z"
   },
   {
    "duration": 60,
    "start_time": "2021-11-30T17:39:09.822Z"
   },
   {
    "duration": 31,
    "start_time": "2021-11-30T17:39:14.781Z"
   },
   {
    "duration": 29,
    "start_time": "2021-11-30T17:40:18.813Z"
   },
   {
    "duration": 28,
    "start_time": "2021-11-30T17:40:25.341Z"
   },
   {
    "duration": 29,
    "start_time": "2021-11-30T17:40:37.340Z"
   },
   {
    "duration": 29,
    "start_time": "2021-11-30T17:40:45.661Z"
   },
   {
    "duration": 29,
    "start_time": "2021-11-30T17:41:58.420Z"
   },
   {
    "duration": 29,
    "start_time": "2021-11-30T17:42:31.428Z"
   },
   {
    "duration": 29,
    "start_time": "2021-11-30T17:42:55.348Z"
   },
   {
    "duration": 27,
    "start_time": "2021-11-30T17:43:14.542Z"
   },
   {
    "duration": 28,
    "start_time": "2021-11-30T17:43:30.221Z"
   },
   {
    "duration": 3261,
    "start_time": "2021-11-30T17:44:13.741Z"
   },
   {
    "duration": 30,
    "start_time": "2021-11-30T17:44:23.940Z"
   },
   {
    "duration": 30,
    "start_time": "2021-11-30T17:44:29.901Z"
   },
   {
    "duration": 27,
    "start_time": "2021-11-30T17:44:38.061Z"
   },
   {
    "duration": 29,
    "start_time": "2021-11-30T17:44:44.628Z"
   },
   {
    "duration": 27,
    "start_time": "2021-11-30T17:44:52.740Z"
   },
   {
    "duration": 212,
    "start_time": "2021-11-30T17:45:37.511Z"
   },
   {
    "duration": 208,
    "start_time": "2021-11-30T17:47:22.823Z"
   },
   {
    "duration": 261,
    "start_time": "2021-11-30T17:47:43.082Z"
   },
   {
    "duration": 3,
    "start_time": "2021-11-30T18:08:00.664Z"
   },
   {
    "duration": 261,
    "start_time": "2021-11-30T18:10:24.404Z"
   },
   {
    "duration": 9,
    "start_time": "2021-11-30T18:10:52.055Z"
   },
   {
    "duration": 42,
    "start_time": "2021-11-30T18:12:47.795Z"
   },
   {
    "duration": 67,
    "start_time": "2021-11-30T18:15:18.126Z"
   },
   {
    "duration": 210,
    "start_time": "2021-11-30T18:17:58.363Z"
   },
   {
    "duration": 183,
    "start_time": "2021-11-30T18:18:25.723Z"
   },
   {
    "duration": 231,
    "start_time": "2021-11-30T18:18:34.445Z"
   },
   {
    "duration": 555,
    "start_time": "2021-11-30T18:20:39.814Z"
   },
   {
    "duration": 749,
    "start_time": "2021-11-30T18:25:19.984Z"
   },
   {
    "duration": 630,
    "start_time": "2021-11-30T18:25:23.243Z"
   },
   {
    "duration": 305,
    "start_time": "2021-11-30T18:25:35.782Z"
   },
   {
    "duration": 258,
    "start_time": "2021-11-30T18:25:43.148Z"
   },
   {
    "duration": 508,
    "start_time": "2021-11-30T18:26:16.342Z"
   },
   {
    "duration": 1705,
    "start_time": "2021-11-30T18:26:54.384Z"
   },
   {
    "duration": 1069,
    "start_time": "2021-11-30T18:28:02.475Z"
   },
   {
    "duration": 1084,
    "start_time": "2021-11-30T18:28:21.641Z"
   },
   {
    "duration": 1089,
    "start_time": "2021-11-30T18:28:49.924Z"
   },
   {
    "duration": 611,
    "start_time": "2021-11-30T18:29:00.511Z"
   },
   {
    "duration": 1324,
    "start_time": "2021-11-30T18:29:48.764Z"
   },
   {
    "duration": 1313,
    "start_time": "2021-11-30T18:30:25.084Z"
   },
   {
    "duration": 1274,
    "start_time": "2021-11-30T18:30:34.691Z"
   },
   {
    "duration": 1293,
    "start_time": "2021-11-30T18:30:40.755Z"
   },
   {
    "duration": 1261,
    "start_time": "2021-11-30T18:30:52.404Z"
   },
   {
    "duration": 35,
    "start_time": "2021-11-30T18:34:31.505Z"
   },
   {
    "duration": 263,
    "start_time": "2021-11-30T18:35:34.363Z"
   },
   {
    "duration": 261,
    "start_time": "2021-11-30T18:36:27.744Z"
   },
   {
    "duration": 652,
    "start_time": "2021-11-30T18:37:38.963Z"
   },
   {
    "duration": 279,
    "start_time": "2021-11-30T18:37:48.643Z"
   },
   {
    "duration": 269,
    "start_time": "2021-11-30T18:38:42.763Z"
   },
   {
    "duration": 363,
    "start_time": "2021-11-30T18:39:10.143Z"
   },
   {
    "duration": 370,
    "start_time": "2021-11-30T18:39:44.345Z"
   },
   {
    "duration": 301,
    "start_time": "2021-11-30T18:40:12.524Z"
   },
   {
    "duration": 249,
    "start_time": "2021-11-30T18:40:22.771Z"
   },
   {
    "duration": 283,
    "start_time": "2021-11-30T18:40:42.483Z"
   },
   {
    "duration": 253,
    "start_time": "2021-11-30T18:41:01.184Z"
   },
   {
    "duration": 347,
    "start_time": "2021-11-30T18:41:16.051Z"
   },
   {
    "duration": 80,
    "start_time": "2021-11-30T18:43:57.552Z"
   },
   {
    "duration": 293,
    "start_time": "2021-11-30T18:44:47.543Z"
   },
   {
    "duration": 1114,
    "start_time": "2021-11-30T18:45:17.511Z"
   },
   {
    "duration": 320,
    "start_time": "2021-11-30T18:45:32.659Z"
   },
   {
    "duration": 329,
    "start_time": "2021-11-30T18:46:11.663Z"
   },
   {
    "duration": 246,
    "start_time": "2021-11-30T18:46:35.943Z"
   },
   {
    "duration": 200,
    "start_time": "2021-11-30T18:46:48.574Z"
   },
   {
    "duration": 232,
    "start_time": "2021-11-30T18:47:03.663Z"
   },
   {
    "duration": 214,
    "start_time": "2021-11-30T18:47:10.268Z"
   },
   {
    "duration": 207,
    "start_time": "2021-11-30T18:49:00.343Z"
   },
   {
    "duration": 221,
    "start_time": "2021-11-30T18:49:23.844Z"
   },
   {
    "duration": 201,
    "start_time": "2021-11-30T18:50:31.203Z"
   },
   {
    "duration": 204,
    "start_time": "2021-11-30T18:51:06.843Z"
   },
   {
    "duration": 209,
    "start_time": "2021-11-30T18:51:21.863Z"
   },
   {
    "duration": 180,
    "start_time": "2021-11-30T18:51:33.174Z"
   },
   {
    "duration": 171,
    "start_time": "2021-11-30T18:51:43.822Z"
   },
   {
    "duration": 186,
    "start_time": "2021-11-30T18:51:54.582Z"
   },
   {
    "duration": 175,
    "start_time": "2021-11-30T18:52:13.903Z"
   },
   {
    "duration": 212,
    "start_time": "2021-11-30T18:52:21.654Z"
   },
   {
    "duration": 187,
    "start_time": "2021-11-30T18:52:41.004Z"
   },
   {
    "duration": 34,
    "start_time": "2021-11-30T18:57:35.643Z"
   },
   {
    "duration": 235,
    "start_time": "2021-11-30T19:02:17.634Z"
   },
   {
    "duration": 257,
    "start_time": "2021-11-30T19:04:13.034Z"
   },
   {
    "duration": 37,
    "start_time": "2021-11-30T19:08:19.423Z"
   },
   {
    "duration": 7,
    "start_time": "2021-11-30T19:08:26.342Z"
   },
   {
    "duration": 5835,
    "start_time": "2021-11-30T19:09:02.882Z"
   },
   {
    "duration": 14,
    "start_time": "2021-11-30T19:10:56.454Z"
   },
   {
    "duration": 3173,
    "start_time": "2021-11-30T19:14:23.794Z"
   },
   {
    "duration": 3650,
    "start_time": "2021-11-30T19:14:40.782Z"
   },
   {
    "duration": 295,
    "start_time": "2021-11-30T19:16:48.523Z"
   },
   {
    "duration": 239,
    "start_time": "2021-11-30T19:18:22.924Z"
   },
   {
    "duration": 203,
    "start_time": "2021-11-30T19:19:55.163Z"
   },
   {
    "duration": 643,
    "start_time": "2021-11-30T19:21:00.984Z"
   },
   {
    "duration": 421,
    "start_time": "2021-11-30T19:21:09.511Z"
   },
   {
    "duration": 180,
    "start_time": "2021-11-30T19:21:27.743Z"
   },
   {
    "duration": 192,
    "start_time": "2021-11-30T19:21:47.674Z"
   },
   {
    "duration": 199,
    "start_time": "2021-11-30T19:24:18.410Z"
   },
   {
    "duration": 196,
    "start_time": "2021-11-30T19:24:45.283Z"
   },
   {
    "duration": 190,
    "start_time": "2021-11-30T19:25:27.663Z"
   },
   {
    "duration": 204,
    "start_time": "2021-11-30T19:25:44.664Z"
   },
   {
    "duration": 5978,
    "start_time": "2021-11-30T19:29:59.826Z"
   },
   {
    "duration": 7061,
    "start_time": "2021-11-30T19:30:19.405Z"
   },
   {
    "duration": 240,
    "start_time": "2021-11-30T19:30:57.643Z"
   },
   {
    "duration": 196,
    "start_time": "2021-11-30T19:31:12.262Z"
   },
   {
    "duration": 446,
    "start_time": "2021-11-30T19:31:15.652Z"
   },
   {
    "duration": 322,
    "start_time": "2021-11-30T19:31:29.123Z"
   },
   {
    "duration": 245,
    "start_time": "2021-11-30T19:33:07.044Z"
   },
   {
    "duration": 193,
    "start_time": "2021-11-30T19:33:11.706Z"
   },
   {
    "duration": 12,
    "start_time": "2021-11-30T19:33:16.663Z"
   },
   {
    "duration": 310,
    "start_time": "2021-11-30T19:37:20.843Z"
   },
   {
    "duration": 395,
    "start_time": "2021-11-30T19:41:24.947Z"
   },
   {
    "duration": 79,
    "start_time": "2021-11-30T19:44:39.702Z"
   },
   {
    "duration": 372,
    "start_time": "2021-11-30T19:46:15.142Z"
   },
   {
    "duration": 133,
    "start_time": "2021-11-30T19:51:07.043Z"
   },
   {
    "duration": 352,
    "start_time": "2021-11-30T19:52:50.282Z"
   },
   {
    "duration": 81,
    "start_time": "2021-11-30T19:56:29.287Z"
   },
   {
    "duration": 91,
    "start_time": "2021-11-30T20:01:43.262Z"
   },
   {
    "duration": 28,
    "start_time": "2021-11-30T20:01:43.355Z"
   },
   {
    "duration": 14,
    "start_time": "2021-11-30T20:01:43.385Z"
   },
   {
    "duration": 95,
    "start_time": "2021-11-30T20:01:43.401Z"
   },
   {
    "duration": 7,
    "start_time": "2021-11-30T20:01:43.498Z"
   },
   {
    "duration": 11,
    "start_time": "2021-11-30T20:01:43.507Z"
   },
   {
    "duration": 246,
    "start_time": "2021-11-30T20:01:43.520Z"
   },
   {
    "duration": 24,
    "start_time": "2021-11-30T20:01:43.768Z"
   },
   {
    "duration": 9,
    "start_time": "2021-11-30T20:01:43.795Z"
   },
   {
    "duration": 11,
    "start_time": "2021-11-30T20:01:43.806Z"
   },
   {
    "duration": 517,
    "start_time": "2021-11-30T20:01:43.819Z"
   },
   {
    "duration": 10,
    "start_time": "2021-11-30T20:01:44.339Z"
   },
   {
    "duration": 23,
    "start_time": "2021-11-30T20:01:44.350Z"
   },
   {
    "duration": 6,
    "start_time": "2021-11-30T20:01:44.375Z"
   },
   {
    "duration": 698,
    "start_time": "2021-11-30T20:01:44.383Z"
   },
   {
    "duration": 15,
    "start_time": "2021-11-30T20:01:45.083Z"
   },
   {
    "duration": 6,
    "start_time": "2021-11-30T20:01:45.099Z"
   },
   {
    "duration": 631,
    "start_time": "2021-11-30T20:01:45.106Z"
   },
   {
    "duration": 3,
    "start_time": "2021-11-30T20:01:45.739Z"
   },
   {
    "duration": 22,
    "start_time": "2021-11-30T20:01:45.744Z"
   },
   {
    "duration": 797,
    "start_time": "2021-11-30T20:01:45.768Z"
   },
   {
    "duration": 155,
    "start_time": "2021-11-30T20:01:46.567Z"
   },
   {
    "duration": 9,
    "start_time": "2021-11-30T20:01:46.724Z"
   },
   {
    "duration": 3,
    "start_time": "2021-11-30T20:01:46.735Z"
   },
   {
    "duration": 23,
    "start_time": "2021-11-30T20:01:46.740Z"
   },
   {
    "duration": 185,
    "start_time": "2021-11-30T20:01:46.765Z"
   },
   {
    "duration": 11,
    "start_time": "2021-11-30T20:01:46.954Z"
   },
   {
    "duration": 23,
    "start_time": "2021-11-30T20:01:46.967Z"
   },
   {
    "duration": 5,
    "start_time": "2021-11-30T20:01:46.992Z"
   },
   {
    "duration": 354,
    "start_time": "2021-11-30T20:01:46.998Z"
   },
   {
    "duration": 12,
    "start_time": "2021-11-30T20:01:47.354Z"
   },
   {
    "duration": 46,
    "start_time": "2021-11-30T20:01:47.368Z"
   },
   {
    "duration": 8,
    "start_time": "2021-11-30T20:01:47.416Z"
   },
   {
    "duration": 215,
    "start_time": "2021-11-30T20:01:47.425Z"
   },
   {
    "duration": 30,
    "start_time": "2021-11-30T20:01:47.642Z"
   },
   {
    "duration": 617,
    "start_time": "2021-11-30T20:01:47.673Z"
   },
   {
    "duration": 8,
    "start_time": "2021-11-30T20:01:48.292Z"
   },
   {
    "duration": 10,
    "start_time": "2021-11-30T20:01:48.301Z"
   },
   {
    "duration": 223,
    "start_time": "2021-11-30T20:01:48.312Z"
   },
   {
    "duration": 188,
    "start_time": "2021-11-30T20:01:48.537Z"
   },
   {
    "duration": 217,
    "start_time": "2021-11-30T20:01:48.727Z"
   },
   {
    "duration": 205,
    "start_time": "2021-11-30T20:01:48.946Z"
   },
   {
    "duration": 238,
    "start_time": "2021-11-30T20:01:49.153Z"
   },
   {
    "duration": 142,
    "start_time": "2021-11-30T20:01:49.393Z"
   },
   {
    "duration": 138,
    "start_time": "2021-11-30T20:01:49.537Z"
   },
   {
    "duration": 139,
    "start_time": "2021-11-30T20:01:49.676Z"
   },
   {
    "duration": 150,
    "start_time": "2021-11-30T20:01:49.816Z"
   },
   {
    "duration": 157,
    "start_time": "2021-11-30T20:01:49.968Z"
   },
   {
    "duration": 594,
    "start_time": "2021-11-30T20:01:50.127Z"
   },
   {
    "duration": 1213,
    "start_time": "2021-11-30T20:01:50.723Z"
   },
   {
    "duration": 661,
    "start_time": "2021-11-30T20:01:51.938Z"
   },
   {
    "duration": 1023,
    "start_time": "2021-11-30T20:01:52.601Z"
   },
   {
    "duration": 771,
    "start_time": "2021-11-30T20:01:53.626Z"
   },
   {
    "duration": 1079,
    "start_time": "2021-11-30T20:01:54.399Z"
   },
   {
    "duration": 373,
    "start_time": "2021-11-30T20:01:55.480Z"
   },
   {
    "duration": 369,
    "start_time": "2021-11-30T20:01:55.854Z"
   },
   {
    "duration": 28,
    "start_time": "2021-11-30T20:01:56.225Z"
   },
   {
    "duration": 215,
    "start_time": "2021-11-30T20:01:56.264Z"
   },
   {
    "duration": 65,
    "start_time": "2021-11-30T20:01:56.481Z"
   },
   {
    "duration": 532,
    "start_time": "2021-11-30T20:01:56.547Z"
   },
   {
    "duration": 306,
    "start_time": "2021-11-30T20:01:57.081Z"
   },
   {
    "duration": 205,
    "start_time": "2021-11-30T20:01:57.389Z"
   },
   {
    "duration": 202,
    "start_time": "2021-11-30T20:01:57.595Z"
   },
   {
    "duration": 198,
    "start_time": "2021-11-30T20:01:57.799Z"
   },
   {
    "duration": 12,
    "start_time": "2021-11-30T20:01:57.999Z"
   },
   {
    "duration": 304,
    "start_time": "2021-11-30T20:01:58.012Z"
   },
   {
    "duration": 390,
    "start_time": "2021-11-30T20:01:58.318Z"
   },
   {
    "duration": 361,
    "start_time": "2021-11-30T20:01:58.709Z"
   },
   {
    "duration": 376,
    "start_time": "2021-11-30T20:01:59.072Z"
   },
   {
    "duration": 94,
    "start_time": "2021-11-30T20:38:02.684Z"
   },
   {
    "duration": 22,
    "start_time": "2021-11-30T20:38:02.780Z"
   },
   {
    "duration": 26,
    "start_time": "2021-11-30T20:38:02.804Z"
   },
   {
    "duration": 79,
    "start_time": "2021-11-30T20:38:02.832Z"
   },
   {
    "duration": 5,
    "start_time": "2021-11-30T20:38:02.913Z"
   },
   {
    "duration": 27,
    "start_time": "2021-11-30T20:38:02.919Z"
   },
   {
    "duration": 200,
    "start_time": "2021-11-30T20:38:02.948Z"
   },
   {
    "duration": 24,
    "start_time": "2021-11-30T20:38:03.152Z"
   },
   {
    "duration": 91,
    "start_time": "2021-11-30T20:38:03.179Z"
   },
   {
    "duration": 45,
    "start_time": "2021-11-30T20:38:03.271Z"
   },
   {
    "duration": 492,
    "start_time": "2021-11-30T20:38:03.318Z"
   },
   {
    "duration": 8,
    "start_time": "2021-11-30T20:38:03.812Z"
   },
   {
    "duration": 39,
    "start_time": "2021-11-30T20:38:03.822Z"
   },
   {
    "duration": 41,
    "start_time": "2021-11-30T20:38:03.863Z"
   },
   {
    "duration": 658,
    "start_time": "2021-11-30T20:38:03.906Z"
   },
   {
    "duration": 10,
    "start_time": "2021-11-30T20:38:04.566Z"
   },
   {
    "duration": 21,
    "start_time": "2021-11-30T20:38:04.578Z"
   },
   {
    "duration": 641,
    "start_time": "2021-11-30T20:38:04.601Z"
   },
   {
    "duration": 4,
    "start_time": "2021-11-30T20:38:05.244Z"
   },
   {
    "duration": 35,
    "start_time": "2021-11-30T20:38:05.250Z"
   },
   {
    "duration": 809,
    "start_time": "2021-11-30T20:38:05.287Z"
   },
   {
    "duration": 159,
    "start_time": "2021-11-30T20:38:06.098Z"
   },
   {
    "duration": 9,
    "start_time": "2021-11-30T20:38:06.262Z"
   },
   {
    "duration": 3,
    "start_time": "2021-11-30T20:38:06.274Z"
   },
   {
    "duration": 16,
    "start_time": "2021-11-30T20:38:06.279Z"
   },
   {
    "duration": 206,
    "start_time": "2021-11-30T20:38:06.296Z"
   },
   {
    "duration": 6,
    "start_time": "2021-11-30T20:38:06.504Z"
   },
   {
    "duration": 25,
    "start_time": "2021-11-30T20:38:06.511Z"
   },
   {
    "duration": 6,
    "start_time": "2021-11-30T20:38:06.538Z"
   },
   {
    "duration": 373,
    "start_time": "2021-11-30T20:38:06.545Z"
   },
   {
    "duration": 6,
    "start_time": "2021-11-30T20:38:06.920Z"
   },
   {
    "duration": 159,
    "start_time": "2021-11-30T20:38:06.928Z"
   },
   {
    "duration": 10,
    "start_time": "2021-11-30T20:38:07.089Z"
   },
   {
    "duration": 215,
    "start_time": "2021-11-30T20:38:07.101Z"
   },
   {
    "duration": 21,
    "start_time": "2021-11-30T20:38:07.319Z"
   },
   {
    "duration": 635,
    "start_time": "2021-11-30T20:38:07.342Z"
   },
   {
    "duration": 8,
    "start_time": "2021-11-30T20:38:07.979Z"
   },
   {
    "duration": 21,
    "start_time": "2021-11-30T20:38:07.988Z"
   },
   {
    "duration": 216,
    "start_time": "2021-11-30T20:38:08.011Z"
   },
   {
    "duration": 195,
    "start_time": "2021-11-30T20:38:08.228Z"
   },
   {
    "duration": 227,
    "start_time": "2021-11-30T20:38:08.425Z"
   },
   {
    "duration": 222,
    "start_time": "2021-11-30T20:38:08.654Z"
   },
   {
    "duration": 239,
    "start_time": "2021-11-30T20:38:08.879Z"
   },
   {
    "duration": 152,
    "start_time": "2021-11-30T20:38:09.121Z"
   },
   {
    "duration": 149,
    "start_time": "2021-11-30T20:38:09.275Z"
   },
   {
    "duration": 142,
    "start_time": "2021-11-30T20:38:09.426Z"
   },
   {
    "duration": 162,
    "start_time": "2021-11-30T20:38:09.570Z"
   },
   {
    "duration": 162,
    "start_time": "2021-11-30T20:38:09.734Z"
   },
   {
    "duration": 596,
    "start_time": "2021-11-30T20:38:09.898Z"
   },
   {
    "duration": 1245,
    "start_time": "2021-11-30T20:38:10.495Z"
   },
   {
    "duration": 658,
    "start_time": "2021-11-30T20:38:11.741Z"
   },
   {
    "duration": 1126,
    "start_time": "2021-11-30T20:38:12.401Z"
   },
   {
    "duration": 791,
    "start_time": "2021-11-30T20:38:13.529Z"
   },
   {
    "duration": 389,
    "start_time": "2021-11-30T20:38:14.322Z"
   },
   {
    "duration": 1182,
    "start_time": "2021-11-30T20:38:14.713Z"
   },
   {
    "duration": 379,
    "start_time": "2021-11-30T20:38:15.897Z"
   },
   {
    "duration": 29,
    "start_time": "2021-11-30T20:38:16.278Z"
   },
   {
    "duration": 240,
    "start_time": "2021-11-30T20:38:16.309Z"
   },
   {
    "duration": 77,
    "start_time": "2021-11-30T20:38:16.552Z"
   },
   {
    "duration": 544,
    "start_time": "2021-11-30T20:38:16.631Z"
   },
   {
    "duration": 323,
    "start_time": "2021-11-30T20:38:17.177Z"
   },
   {
    "duration": 214,
    "start_time": "2021-11-30T20:38:17.501Z"
   },
   {
    "duration": 223,
    "start_time": "2021-11-30T20:38:17.717Z"
   },
   {
    "duration": 207,
    "start_time": "2021-11-30T20:38:17.942Z"
   },
   {
    "duration": 20,
    "start_time": "2021-11-30T20:38:18.151Z"
   },
   {
    "duration": 346,
    "start_time": "2021-11-30T20:38:18.173Z"
   },
   {
    "duration": 394,
    "start_time": "2021-11-30T20:38:18.521Z"
   },
   {
    "duration": 108,
    "start_time": "2021-12-01T09:14:20.612Z"
   },
   {
    "duration": 130,
    "start_time": "2021-12-01T09:19:36.066Z"
   },
   {
    "duration": 459,
    "start_time": "2021-12-01T09:20:20.219Z"
   },
   {
    "duration": 113,
    "start_time": "2021-12-01T09:41:28.003Z"
   },
   {
    "duration": 357,
    "start_time": "2021-12-01T10:29:40.891Z"
   },
   {
    "duration": 327,
    "start_time": "2021-12-01T10:29:48.301Z"
   },
   {
    "duration": 1701,
    "start_time": "2021-12-01T10:29:54.781Z"
   },
   {
    "duration": 65,
    "start_time": "2021-12-01T10:29:56.486Z"
   },
   {
    "duration": 25,
    "start_time": "2021-12-01T10:29:56.570Z"
   },
   {
    "duration": 189,
    "start_time": "2021-12-01T10:29:56.599Z"
   },
   {
    "duration": 11,
    "start_time": "2021-12-01T10:29:56.792Z"
   },
   {
    "duration": 13,
    "start_time": "2021-12-01T10:29:56.807Z"
   },
   {
    "duration": 535,
    "start_time": "2021-12-01T10:29:56.823Z"
   },
   {
    "duration": 54,
    "start_time": "2021-12-01T10:29:57.368Z"
   },
   {
    "duration": 41,
    "start_time": "2021-12-01T10:29:57.426Z"
   },
   {
    "duration": 17,
    "start_time": "2021-12-01T10:29:57.470Z"
   },
   {
    "duration": 752,
    "start_time": "2021-12-01T10:29:57.489Z"
   },
   {
    "duration": 26,
    "start_time": "2021-12-01T10:29:58.243Z"
   },
   {
    "duration": 23,
    "start_time": "2021-12-01T10:29:58.272Z"
   },
   {
    "duration": 11,
    "start_time": "2021-12-01T10:29:58.298Z"
   },
   {
    "duration": 1057,
    "start_time": "2021-12-01T10:29:58.312Z"
   },
   {
    "duration": 16,
    "start_time": "2021-12-01T10:29:59.372Z"
   },
   {
    "duration": 9,
    "start_time": "2021-12-01T10:29:59.393Z"
   },
   {
    "duration": 1033,
    "start_time": "2021-12-01T10:29:59.404Z"
   },
   {
    "duration": 6,
    "start_time": "2021-12-01T10:30:00.439Z"
   },
   {
    "duration": 40,
    "start_time": "2021-12-01T10:30:00.448Z"
   },
   {
    "duration": 1648,
    "start_time": "2021-12-01T10:30:00.491Z"
   },
   {
    "duration": 433,
    "start_time": "2021-12-01T10:30:02.143Z"
   },
   {
    "duration": 18,
    "start_time": "2021-12-01T10:30:02.584Z"
   },
   {
    "duration": 5,
    "start_time": "2021-12-01T10:30:02.607Z"
   },
   {
    "duration": 17,
    "start_time": "2021-12-01T10:30:02.615Z"
   },
   {
    "duration": 457,
    "start_time": "2021-12-01T10:30:02.669Z"
   },
   {
    "duration": 7,
    "start_time": "2021-12-01T10:30:03.129Z"
   },
   {
    "duration": 62,
    "start_time": "2021-12-01T10:30:03.139Z"
   },
   {
    "duration": 9,
    "start_time": "2021-12-01T10:30:03.204Z"
   },
   {
    "duration": 704,
    "start_time": "2021-12-01T10:30:03.215Z"
   },
   {
    "duration": 7,
    "start_time": "2021-12-01T10:30:03.922Z"
   },
   {
    "duration": 87,
    "start_time": "2021-12-01T10:30:03.932Z"
   },
   {
    "duration": 16,
    "start_time": "2021-12-01T10:30:04.022Z"
   },
   {
    "duration": 349,
    "start_time": "2021-12-01T10:30:04.041Z"
   },
   {
    "duration": 33,
    "start_time": "2021-12-01T10:30:04.393Z"
   },
   {
    "duration": 1341,
    "start_time": "2021-12-01T10:30:04.428Z"
   },
   {
    "duration": 14,
    "start_time": "2021-12-01T10:30:05.771Z"
   },
   {
    "duration": 29,
    "start_time": "2021-12-01T10:30:05.788Z"
   },
   {
    "duration": 373,
    "start_time": "2021-12-01T10:30:05.820Z"
   },
   {
    "duration": 319,
    "start_time": "2021-12-01T10:30:06.196Z"
   },
   {
    "duration": 505,
    "start_time": "2021-12-01T10:30:06.518Z"
   },
   {
    "duration": 369,
    "start_time": "2021-12-01T10:30:07.026Z"
   },
   {
    "duration": 417,
    "start_time": "2021-12-01T10:30:07.397Z"
   },
   {
    "duration": 257,
    "start_time": "2021-12-01T10:30:07.817Z"
   },
   {
    "duration": 238,
    "start_time": "2021-12-01T10:30:08.076Z"
   },
   {
    "duration": 277,
    "start_time": "2021-12-01T10:30:08.317Z"
   },
   {
    "duration": 310,
    "start_time": "2021-12-01T10:30:08.597Z"
   },
   {
    "duration": 260,
    "start_time": "2021-12-01T10:30:08.909Z"
   },
   {
    "duration": 1071,
    "start_time": "2021-12-01T10:30:09.172Z"
   },
   {
    "duration": 8423,
    "start_time": "2021-12-01T10:30:10.246Z"
   },
   {
    "duration": -113,
    "start_time": "2021-12-01T10:30:18.787Z"
   },
   {
    "duration": -115,
    "start_time": "2021-12-01T10:30:18.794Z"
   },
   {
    "duration": -118,
    "start_time": "2021-12-01T10:30:18.800Z"
   },
   {
    "duration": -121,
    "start_time": "2021-12-01T10:30:18.806Z"
   },
   {
    "duration": -127,
    "start_time": "2021-12-01T10:30:18.814Z"
   },
   {
    "duration": -131,
    "start_time": "2021-12-01T10:30:18.820Z"
   },
   {
    "duration": -138,
    "start_time": "2021-12-01T10:30:18.828Z"
   },
   {
    "duration": -142,
    "start_time": "2021-12-01T10:30:18.834Z"
   },
   {
    "duration": -154,
    "start_time": "2021-12-01T10:30:18.848Z"
   },
   {
    "duration": -158,
    "start_time": "2021-12-01T10:30:18.854Z"
   },
   {
    "duration": -164,
    "start_time": "2021-12-01T10:30:18.861Z"
   },
   {
    "duration": -167,
    "start_time": "2021-12-01T10:30:18.866Z"
   },
   {
    "duration": -171,
    "start_time": "2021-12-01T10:30:18.872Z"
   },
   {
    "duration": -176,
    "start_time": "2021-12-01T10:30:18.878Z"
   },
   {
    "duration": -180,
    "start_time": "2021-12-01T10:30:18.884Z"
   },
   {
    "duration": -184,
    "start_time": "2021-12-01T10:30:18.890Z"
   },
   {
    "duration": -188,
    "start_time": "2021-12-01T10:30:18.896Z"
   },
   {
    "duration": -192,
    "start_time": "2021-12-01T10:30:18.901Z"
   },
   {
    "duration": -197,
    "start_time": "2021-12-01T10:30:18.907Z"
   },
   {
    "duration": -201,
    "start_time": "2021-12-01T10:30:18.913Z"
   },
   {
    "duration": 6,
    "start_time": "2021-12-01T10:31:45.100Z"
   },
   {
    "duration": 6,
    "start_time": "2021-12-01T10:32:08.149Z"
   },
   {
    "duration": 7,
    "start_time": "2021-12-01T10:32:40.659Z"
   },
   {
    "duration": 6,
    "start_time": "2021-12-01T10:37:59.291Z"
   },
   {
    "duration": 5,
    "start_time": "2021-12-01T10:40:07.972Z"
   },
   {
    "duration": 5,
    "start_time": "2021-12-01T10:40:22.059Z"
   },
   {
    "duration": 7,
    "start_time": "2021-12-01T10:41:01.104Z"
   },
   {
    "duration": 8,
    "start_time": "2021-12-01T10:44:51.412Z"
   },
   {
    "duration": 10,
    "start_time": "2021-12-01T10:49:30.070Z"
   },
   {
    "duration": 15,
    "start_time": "2021-12-01T10:49:37.628Z"
   },
   {
    "duration": 291,
    "start_time": "2021-12-01T10:55:41.460Z"
   },
   {
    "duration": 290,
    "start_time": "2021-12-01T10:55:48.141Z"
   },
   {
    "duration": 13,
    "start_time": "2021-12-01T10:56:50.388Z"
   },
   {
    "duration": 16,
    "start_time": "2021-12-01T10:57:04.861Z"
   },
   {
    "duration": 15,
    "start_time": "2021-12-01T10:57:23.221Z"
   },
   {
    "duration": 4294,
    "start_time": "2021-12-01T10:59:01.821Z"
   },
   {
    "duration": 483,
    "start_time": "2021-12-01T10:59:43.421Z"
   },
   {
    "duration": 471,
    "start_time": "2021-12-01T11:02:17.388Z"
   },
   {
    "duration": 567,
    "start_time": "2021-12-01T11:02:35.181Z"
   },
   {
    "duration": 522,
    "start_time": "2021-12-01T11:07:32.395Z"
   },
   {
    "duration": 152,
    "start_time": "2021-12-01T11:09:23.772Z"
   }
  ],
  "kernelspec": {
   "display_name": "Python 3",
   "language": "python",
   "name": "python3"
  },
  "language_info": {
   "codemirror_mode": {
    "name": "ipython",
    "version": 3
   },
   "file_extension": ".py",
   "mimetype": "text/x-python",
   "name": "python",
   "nbconvert_exporter": "python",
   "pygments_lexer": "ipython3",
   "version": "3.8.8"
  },
  "toc": {
   "base_numbering": 1,
   "nav_menu": {},
   "number_sections": true,
   "sideBar": true,
   "skip_h1_title": true,
   "title_cell": "Содержание",
   "title_sidebar": "Contents",
   "toc_cell": true,
   "toc_position": {
    "height": "calc(100% - 180px)",
    "left": "10px",
    "top": "150px",
    "width": "355.764px"
   },
   "toc_section_display": true,
   "toc_window_display": true
  }
 },
 "nbformat": 4,
 "nbformat_minor": 2
}
