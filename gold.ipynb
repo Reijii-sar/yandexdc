{
 "cells": [
  {
   "cell_type": "markdown",
   "metadata": {},
   "source": [
    "# Восстановление золота из руды"
   ]
  },
  {
   "cell_type": "markdown",
   "metadata": {},
   "source": [
    "Подготовьте прототип модели машинного обучения для «Цифры». Компания разрабатывает решения для эффективной работы промышленных предприятий.\n",
    "\n",
    "Модель должна предсказать коэффициент восстановления золота из золотосодержащей руды. Используйте данные с параметрами добычи и очистки. \n",
    "\n",
    "Модель поможет оптимизировать производство, чтобы не запускать предприятие с убыточными характеристиками.\n",
    "\n",
    "Вам нужно:\n",
    "\n",
    "1. Подготовить данные;\n",
    "2. Провести исследовательский анализ данных;\n",
    "3. Построить и обучить модель.\n",
    "\n",
    "Чтобы выполнить проект, обращайтесь к библиотекам *pandas*, *matplotlib* и *sklearn.* Вам поможет их документация.\n",
    "\n",
    "**Задача:**  \n",
    "- Проверить, что эффективность обогащения рассчитана правильно. Вычислить её на обучающей выборке для признака rougher.output.recovery. Найти MAE между расчётами и значением признака.\n",
    "- Проанализировать признаки, недоступные в тестовой выборке. Провести предобработку данных.\n",
    "- Посмотреть, как меняется концентрация металлов (Au, Ag, Pb) на различных этапах очистки.\n",
    "- Сравнить распределения размеров гранул сырья на обучающей и тестовой выборках.\n",
    "- Исследовать суммарную концентрацию всех веществ на разных стадиях: в сырье, в черновом и финальном концентратах.\n",
    "- Вычислить итоговую sMAPE.\n",
    "- Обучить разные модели и оценить их качество кросс-валидацией. Выбрать лучшую модель и проверить её на тестовой выборке.\n",
    "\n",
    "**Описание данных**  \n",
    "\n",
    "**Технологический процесс**  \n",
    "Rougher feed — исходное сырье  \n",
    "Rougher additions (или reagent additions) — флотационные реагенты: Xanthate, Sulphate, Depressant  \n",
    "Xanthate **— ксантогенат (промотер, или активатор флотации);  \n",
    "Sulphate — сульфат (на данном производстве сульфид натрия);  \n",
    "Depressant — депрессант (силикат натрия).  \n",
    "Rougher process (англ. «грубый процесс») — флотация  \n",
    "Rougher tails — отвальные хвосты  \n",
    "Float banks — флотационная установка  \n",
    "Cleaner process — очистка  \n",
    "Rougher Au — черновой концентрат золота  \n",
    "Final Au — финальный концентрат золота  \n",
    "\n",
    "**Параметры этапов**  \n",
    "air amount — объём воздуха  \n",
    "fluid levels — уровень жидкости  \n",
    "feed size — размер гранул сырья  \n",
    "feed rate — скорость подачи  \n",
    "\n",
    "**Наименование признаков**  \n",
    "[этап].[тип_параметра].[название_параметра]  \n",
    "Пример: rougher.input.feed_ag  \n",
    "Возможные значения для блока [этап]:  \n",
    "rougher — флотация  \n",
    "primary_cleaner — первичная очистка  \n",
    "secondary_cleaner — вторичная очистка  \n",
    "final — финальные характеристики  \n",
    "Возможные значения для блока [тип_параметра]:  \n",
    "input — параметры сырья  \n",
    "output — параметры продукта  \n",
    "state — параметры, характеризующие текущее состояние этапа  \n",
    "calculation — расчётные характеристики  \n",
    "\n"
   ]
  },
  {
   "cell_type": "markdown",
   "metadata": {},
   "source": [
    "## Подготовка данных"
   ]
  },
  {
   "cell_type": "markdown",
   "metadata": {},
   "source": [
    "### Исходные данные"
   ]
  },
  {
   "cell_type": "code",
   "execution_count": 2,
   "metadata": {},
   "outputs": [],
   "source": [
    "import pandas as pd\n",
    "import warnings\n",
    "from sklearn.metrics import mean_absolute_error as mae\n",
    "import seaborn as sns\n",
    "import matplotlib.pyplot as plt\n",
    "import numpy as np \n",
    "from sklearn.preprocessing import StandardScaler\n",
    "from sklearn.model_selection import cross_val_score\n",
    "from sklearn.metrics import make_scorer\n",
    "from sklearn.tree import DecisionTreeRegressor\n",
    "from sklearn.ensemble import RandomForestRegressor \n",
    "from sklearn.linear_model import LinearRegression\n"
   ]
  },
  {
   "cell_type": "code",
   "execution_count": 3,
   "metadata": {},
   "outputs": [],
   "source": [
    "train = pd.read_csv ('/datasets/gold_recovery_train_new.csv')\n",
    "test = pd.read_csv ('/datasets/gold_recovery_test_new.csv')\n",
    "full = pd.read_csv ('/datasets/gold_recovery_full_new.csv')"
   ]
  },
  {
   "cell_type": "code",
   "execution_count": 4,
   "metadata": {},
   "outputs": [],
   "source": [
    "warnings.filterwarnings('ignore')\n",
    "RS = 12345"
   ]
  },
  {
   "cell_type": "code",
   "execution_count": 5,
   "metadata": {},
   "outputs": [
    {
     "data": {
      "text/html": [
       "<div>\n",
       "<style scoped>\n",
       "    .dataframe tbody tr th:only-of-type {\n",
       "        vertical-align: middle;\n",
       "    }\n",
       "\n",
       "    .dataframe tbody tr th {\n",
       "        vertical-align: top;\n",
       "    }\n",
       "\n",
       "    .dataframe thead th {\n",
       "        text-align: right;\n",
       "    }\n",
       "</style>\n",
       "<table border=\"1\" class=\"dataframe\">\n",
       "  <thead>\n",
       "    <tr style=\"text-align: right;\">\n",
       "      <th></th>\n",
       "      <th>final.output.concentrate_ag</th>\n",
       "      <th>final.output.concentrate_pb</th>\n",
       "      <th>final.output.concentrate_sol</th>\n",
       "      <th>final.output.concentrate_au</th>\n",
       "      <th>final.output.recovery</th>\n",
       "      <th>final.output.tail_ag</th>\n",
       "      <th>final.output.tail_pb</th>\n",
       "      <th>final.output.tail_sol</th>\n",
       "      <th>final.output.tail_au</th>\n",
       "      <th>primary_cleaner.input.sulfate</th>\n",
       "      <th>...</th>\n",
       "      <th>secondary_cleaner.state.floatbank4_a_air</th>\n",
       "      <th>secondary_cleaner.state.floatbank4_a_level</th>\n",
       "      <th>secondary_cleaner.state.floatbank4_b_air</th>\n",
       "      <th>secondary_cleaner.state.floatbank4_b_level</th>\n",
       "      <th>secondary_cleaner.state.floatbank5_a_air</th>\n",
       "      <th>secondary_cleaner.state.floatbank5_a_level</th>\n",
       "      <th>secondary_cleaner.state.floatbank5_b_air</th>\n",
       "      <th>secondary_cleaner.state.floatbank5_b_level</th>\n",
       "      <th>secondary_cleaner.state.floatbank6_a_air</th>\n",
       "      <th>secondary_cleaner.state.floatbank6_a_level</th>\n",
       "    </tr>\n",
       "  </thead>\n",
       "  <tbody>\n",
       "    <tr>\n",
       "      <td>count</td>\n",
       "      <td>14148.000000</td>\n",
       "      <td>14148.000000</td>\n",
       "      <td>13938.000000</td>\n",
       "      <td>14149.000000</td>\n",
       "      <td>14149.000000</td>\n",
       "      <td>14149.000000</td>\n",
       "      <td>14049.000000</td>\n",
       "      <td>14144.000000</td>\n",
       "      <td>14149.000000</td>\n",
       "      <td>14129.000000</td>\n",
       "      <td>...</td>\n",
       "      <td>14143.000000</td>\n",
       "      <td>14148.000000</td>\n",
       "      <td>14148.000000</td>\n",
       "      <td>14148.000000</td>\n",
       "      <td>14148.000000</td>\n",
       "      <td>14148.000000</td>\n",
       "      <td>14148.000000</td>\n",
       "      <td>14148.000000</td>\n",
       "      <td>14147.000000</td>\n",
       "      <td>14148.000000</td>\n",
       "    </tr>\n",
       "    <tr>\n",
       "      <td>mean</td>\n",
       "      <td>5.142034</td>\n",
       "      <td>10.132960</td>\n",
       "      <td>9.202849</td>\n",
       "      <td>44.003792</td>\n",
       "      <td>66.518832</td>\n",
       "      <td>9.607035</td>\n",
       "      <td>2.597298</td>\n",
       "      <td>10.512122</td>\n",
       "      <td>2.918421</td>\n",
       "      <td>133.320659</td>\n",
       "      <td>...</td>\n",
       "      <td>19.985454</td>\n",
       "      <td>-478.696836</td>\n",
       "      <td>15.487065</td>\n",
       "      <td>-460.229416</td>\n",
       "      <td>16.775136</td>\n",
       "      <td>-483.956022</td>\n",
       "      <td>13.064590</td>\n",
       "      <td>-483.966564</td>\n",
       "      <td>19.577539</td>\n",
       "      <td>-506.798480</td>\n",
       "    </tr>\n",
       "    <tr>\n",
       "      <td>std</td>\n",
       "      <td>1.369586</td>\n",
       "      <td>1.654930</td>\n",
       "      <td>2.790516</td>\n",
       "      <td>4.905261</td>\n",
       "      <td>10.295402</td>\n",
       "      <td>2.319069</td>\n",
       "      <td>0.971843</td>\n",
       "      <td>3.003617</td>\n",
       "      <td>0.903712</td>\n",
       "      <td>39.431659</td>\n",
       "      <td>...</td>\n",
       "      <td>5.657723</td>\n",
       "      <td>50.736021</td>\n",
       "      <td>5.255655</td>\n",
       "      <td>58.843586</td>\n",
       "      <td>5.831906</td>\n",
       "      <td>37.892788</td>\n",
       "      <td>5.765617</td>\n",
       "      <td>39.207913</td>\n",
       "      <td>5.764417</td>\n",
       "      <td>37.079249</td>\n",
       "    </tr>\n",
       "    <tr>\n",
       "      <td>min</td>\n",
       "      <td>0.000000</td>\n",
       "      <td>0.000000</td>\n",
       "      <td>0.000000</td>\n",
       "      <td>0.000000</td>\n",
       "      <td>0.000000</td>\n",
       "      <td>0.000000</td>\n",
       "      <td>0.000000</td>\n",
       "      <td>0.000000</td>\n",
       "      <td>0.000000</td>\n",
       "      <td>0.003112</td>\n",
       "      <td>...</td>\n",
       "      <td>0.000000</td>\n",
       "      <td>-799.709069</td>\n",
       "      <td>0.000000</td>\n",
       "      <td>-799.889113</td>\n",
       "      <td>-0.372054</td>\n",
       "      <td>-797.142475</td>\n",
       "      <td>0.646208</td>\n",
       "      <td>-800.006180</td>\n",
       "      <td>0.195324</td>\n",
       "      <td>-809.398668</td>\n",
       "    </tr>\n",
       "    <tr>\n",
       "      <td>25%</td>\n",
       "      <td>4.211620</td>\n",
       "      <td>9.297355</td>\n",
       "      <td>7.484645</td>\n",
       "      <td>43.276111</td>\n",
       "      <td>62.545817</td>\n",
       "      <td>7.997429</td>\n",
       "      <td>1.905973</td>\n",
       "      <td>8.811324</td>\n",
       "      <td>2.368607</td>\n",
       "      <td>107.006651</td>\n",
       "      <td>...</td>\n",
       "      <td>14.990775</td>\n",
       "      <td>-500.628656</td>\n",
       "      <td>11.894558</td>\n",
       "      <td>-500.149000</td>\n",
       "      <td>11.083980</td>\n",
       "      <td>-500.363177</td>\n",
       "      <td>8.994405</td>\n",
       "      <td>-500.105994</td>\n",
       "      <td>14.989304</td>\n",
       "      <td>-500.745104</td>\n",
       "    </tr>\n",
       "    <tr>\n",
       "      <td>50%</td>\n",
       "      <td>4.994652</td>\n",
       "      <td>10.297144</td>\n",
       "      <td>8.845462</td>\n",
       "      <td>44.872436</td>\n",
       "      <td>67.432775</td>\n",
       "      <td>9.480270</td>\n",
       "      <td>2.592022</td>\n",
       "      <td>10.514621</td>\n",
       "      <td>2.851025</td>\n",
       "      <td>133.018328</td>\n",
       "      <td>...</td>\n",
       "      <td>20.001789</td>\n",
       "      <td>-499.681450</td>\n",
       "      <td>14.975536</td>\n",
       "      <td>-499.388738</td>\n",
       "      <td>17.932223</td>\n",
       "      <td>-499.702452</td>\n",
       "      <td>11.997547</td>\n",
       "      <td>-499.914556</td>\n",
       "      <td>19.984175</td>\n",
       "      <td>-500.061431</td>\n",
       "    </tr>\n",
       "    <tr>\n",
       "      <td>75%</td>\n",
       "      <td>5.859540</td>\n",
       "      <td>11.170603</td>\n",
       "      <td>10.487508</td>\n",
       "      <td>46.166425</td>\n",
       "      <td>72.346428</td>\n",
       "      <td>11.003707</td>\n",
       "      <td>3.241723</td>\n",
       "      <td>11.933009</td>\n",
       "      <td>3.434764</td>\n",
       "      <td>159.825396</td>\n",
       "      <td>...</td>\n",
       "      <td>24.990826</td>\n",
       "      <td>-477.472413</td>\n",
       "      <td>20.059375</td>\n",
       "      <td>-400.039008</td>\n",
       "      <td>21.346550</td>\n",
       "      <td>-487.712108</td>\n",
       "      <td>17.982903</td>\n",
       "      <td>-453.186936</td>\n",
       "      <td>24.991623</td>\n",
       "      <td>-499.536466</td>\n",
       "    </tr>\n",
       "    <tr>\n",
       "      <td>max</td>\n",
       "      <td>16.001945</td>\n",
       "      <td>17.031899</td>\n",
       "      <td>18.124851</td>\n",
       "      <td>52.756638</td>\n",
       "      <td>100.000000</td>\n",
       "      <td>19.552149</td>\n",
       "      <td>5.639565</td>\n",
       "      <td>22.317730</td>\n",
       "      <td>8.197408</td>\n",
       "      <td>250.127834</td>\n",
       "      <td>...</td>\n",
       "      <td>30.115735</td>\n",
       "      <td>-245.239184</td>\n",
       "      <td>24.007913</td>\n",
       "      <td>-145.071088</td>\n",
       "      <td>43.709931</td>\n",
       "      <td>-275.073125</td>\n",
       "      <td>27.926001</td>\n",
       "      <td>-157.396071</td>\n",
       "      <td>32.188906</td>\n",
       "      <td>-104.427459</td>\n",
       "    </tr>\n",
       "  </tbody>\n",
       "</table>\n",
       "<p>8 rows × 86 columns</p>\n",
       "</div>"
      ],
      "text/plain": [
       "       final.output.concentrate_ag  final.output.concentrate_pb  \\\n",
       "count                 14148.000000                 14148.000000   \n",
       "mean                      5.142034                    10.132960   \n",
       "std                       1.369586                     1.654930   \n",
       "min                       0.000000                     0.000000   \n",
       "25%                       4.211620                     9.297355   \n",
       "50%                       4.994652                    10.297144   \n",
       "75%                       5.859540                    11.170603   \n",
       "max                      16.001945                    17.031899   \n",
       "\n",
       "       final.output.concentrate_sol  final.output.concentrate_au  \\\n",
       "count                  13938.000000                 14149.000000   \n",
       "mean                       9.202849                    44.003792   \n",
       "std                        2.790516                     4.905261   \n",
       "min                        0.000000                     0.000000   \n",
       "25%                        7.484645                    43.276111   \n",
       "50%                        8.845462                    44.872436   \n",
       "75%                       10.487508                    46.166425   \n",
       "max                       18.124851                    52.756638   \n",
       "\n",
       "       final.output.recovery  final.output.tail_ag  final.output.tail_pb  \\\n",
       "count           14149.000000          14149.000000          14049.000000   \n",
       "mean               66.518832              9.607035              2.597298   \n",
       "std                10.295402              2.319069              0.971843   \n",
       "min                 0.000000              0.000000              0.000000   \n",
       "25%                62.545817              7.997429              1.905973   \n",
       "50%                67.432775              9.480270              2.592022   \n",
       "75%                72.346428             11.003707              3.241723   \n",
       "max               100.000000             19.552149              5.639565   \n",
       "\n",
       "       final.output.tail_sol  final.output.tail_au  \\\n",
       "count           14144.000000          14149.000000   \n",
       "mean               10.512122              2.918421   \n",
       "std                 3.003617              0.903712   \n",
       "min                 0.000000              0.000000   \n",
       "25%                 8.811324              2.368607   \n",
       "50%                10.514621              2.851025   \n",
       "75%                11.933009              3.434764   \n",
       "max                22.317730              8.197408   \n",
       "\n",
       "       primary_cleaner.input.sulfate  ...  \\\n",
       "count                   14129.000000  ...   \n",
       "mean                      133.320659  ...   \n",
       "std                        39.431659  ...   \n",
       "min                         0.003112  ...   \n",
       "25%                       107.006651  ...   \n",
       "50%                       133.018328  ...   \n",
       "75%                       159.825396  ...   \n",
       "max                       250.127834  ...   \n",
       "\n",
       "       secondary_cleaner.state.floatbank4_a_air  \\\n",
       "count                              14143.000000   \n",
       "mean                                  19.985454   \n",
       "std                                    5.657723   \n",
       "min                                    0.000000   \n",
       "25%                                   14.990775   \n",
       "50%                                   20.001789   \n",
       "75%                                   24.990826   \n",
       "max                                   30.115735   \n",
       "\n",
       "       secondary_cleaner.state.floatbank4_a_level  \\\n",
       "count                                14148.000000   \n",
       "mean                                  -478.696836   \n",
       "std                                     50.736021   \n",
       "min                                   -799.709069   \n",
       "25%                                   -500.628656   \n",
       "50%                                   -499.681450   \n",
       "75%                                   -477.472413   \n",
       "max                                   -245.239184   \n",
       "\n",
       "       secondary_cleaner.state.floatbank4_b_air  \\\n",
       "count                              14148.000000   \n",
       "mean                                  15.487065   \n",
       "std                                    5.255655   \n",
       "min                                    0.000000   \n",
       "25%                                   11.894558   \n",
       "50%                                   14.975536   \n",
       "75%                                   20.059375   \n",
       "max                                   24.007913   \n",
       "\n",
       "       secondary_cleaner.state.floatbank4_b_level  \\\n",
       "count                                14148.000000   \n",
       "mean                                  -460.229416   \n",
       "std                                     58.843586   \n",
       "min                                   -799.889113   \n",
       "25%                                   -500.149000   \n",
       "50%                                   -499.388738   \n",
       "75%                                   -400.039008   \n",
       "max                                   -145.071088   \n",
       "\n",
       "       secondary_cleaner.state.floatbank5_a_air  \\\n",
       "count                              14148.000000   \n",
       "mean                                  16.775136   \n",
       "std                                    5.831906   \n",
       "min                                   -0.372054   \n",
       "25%                                   11.083980   \n",
       "50%                                   17.932223   \n",
       "75%                                   21.346550   \n",
       "max                                   43.709931   \n",
       "\n",
       "       secondary_cleaner.state.floatbank5_a_level  \\\n",
       "count                                14148.000000   \n",
       "mean                                  -483.956022   \n",
       "std                                     37.892788   \n",
       "min                                   -797.142475   \n",
       "25%                                   -500.363177   \n",
       "50%                                   -499.702452   \n",
       "75%                                   -487.712108   \n",
       "max                                   -275.073125   \n",
       "\n",
       "       secondary_cleaner.state.floatbank5_b_air  \\\n",
       "count                              14148.000000   \n",
       "mean                                  13.064590   \n",
       "std                                    5.765617   \n",
       "min                                    0.646208   \n",
       "25%                                    8.994405   \n",
       "50%                                   11.997547   \n",
       "75%                                   17.982903   \n",
       "max                                   27.926001   \n",
       "\n",
       "       secondary_cleaner.state.floatbank5_b_level  \\\n",
       "count                                14148.000000   \n",
       "mean                                  -483.966564   \n",
       "std                                     39.207913   \n",
       "min                                   -800.006180   \n",
       "25%                                   -500.105994   \n",
       "50%                                   -499.914556   \n",
       "75%                                   -453.186936   \n",
       "max                                   -157.396071   \n",
       "\n",
       "       secondary_cleaner.state.floatbank6_a_air  \\\n",
       "count                              14147.000000   \n",
       "mean                                  19.577539   \n",
       "std                                    5.764417   \n",
       "min                                    0.195324   \n",
       "25%                                   14.989304   \n",
       "50%                                   19.984175   \n",
       "75%                                   24.991623   \n",
       "max                                   32.188906   \n",
       "\n",
       "       secondary_cleaner.state.floatbank6_a_level  \n",
       "count                                14148.000000  \n",
       "mean                                  -506.798480  \n",
       "std                                     37.079249  \n",
       "min                                   -809.398668  \n",
       "25%                                   -500.745104  \n",
       "50%                                   -500.061431  \n",
       "75%                                   -499.536466  \n",
       "max                                   -104.427459  \n",
       "\n",
       "[8 rows x 86 columns]"
      ]
     },
     "execution_count": 5,
     "metadata": {},
     "output_type": "execute_result"
    }
   ],
   "source": [
    "train.describe()"
   ]
  },
  {
   "cell_type": "code",
   "execution_count": 6,
   "metadata": {},
   "outputs": [
    {
     "data": {
      "text/html": [
       "<div>\n",
       "<style scoped>\n",
       "    .dataframe tbody tr th:only-of-type {\n",
       "        vertical-align: middle;\n",
       "    }\n",
       "\n",
       "    .dataframe tbody tr th {\n",
       "        vertical-align: top;\n",
       "    }\n",
       "\n",
       "    .dataframe thead th {\n",
       "        text-align: right;\n",
       "    }\n",
       "</style>\n",
       "<table border=\"1\" class=\"dataframe\">\n",
       "  <thead>\n",
       "    <tr style=\"text-align: right;\">\n",
       "      <th></th>\n",
       "      <th>primary_cleaner.input.sulfate</th>\n",
       "      <th>primary_cleaner.input.depressant</th>\n",
       "      <th>primary_cleaner.input.feed_size</th>\n",
       "      <th>primary_cleaner.input.xanthate</th>\n",
       "      <th>primary_cleaner.state.floatbank8_a_air</th>\n",
       "      <th>primary_cleaner.state.floatbank8_a_level</th>\n",
       "      <th>primary_cleaner.state.floatbank8_b_air</th>\n",
       "      <th>primary_cleaner.state.floatbank8_b_level</th>\n",
       "      <th>primary_cleaner.state.floatbank8_c_air</th>\n",
       "      <th>primary_cleaner.state.floatbank8_c_level</th>\n",
       "      <th>...</th>\n",
       "      <th>secondary_cleaner.state.floatbank4_a_air</th>\n",
       "      <th>secondary_cleaner.state.floatbank4_a_level</th>\n",
       "      <th>secondary_cleaner.state.floatbank4_b_air</th>\n",
       "      <th>secondary_cleaner.state.floatbank4_b_level</th>\n",
       "      <th>secondary_cleaner.state.floatbank5_a_air</th>\n",
       "      <th>secondary_cleaner.state.floatbank5_a_level</th>\n",
       "      <th>secondary_cleaner.state.floatbank5_b_air</th>\n",
       "      <th>secondary_cleaner.state.floatbank5_b_level</th>\n",
       "      <th>secondary_cleaner.state.floatbank6_a_air</th>\n",
       "      <th>secondary_cleaner.state.floatbank6_a_level</th>\n",
       "    </tr>\n",
       "  </thead>\n",
       "  <tbody>\n",
       "    <tr>\n",
       "      <td>count</td>\n",
       "      <td>5286.000000</td>\n",
       "      <td>5285.000000</td>\n",
       "      <td>5290.000000</td>\n",
       "      <td>5286.000000</td>\n",
       "      <td>5.290000e+03</td>\n",
       "      <td>5290.000000</td>\n",
       "      <td>5.290000e+03</td>\n",
       "      <td>5290.000000</td>\n",
       "      <td>5.290000e+03</td>\n",
       "      <td>5290.000000</td>\n",
       "      <td>...</td>\n",
       "      <td>5.290000e+03</td>\n",
       "      <td>5290.000000</td>\n",
       "      <td>5.290000e+03</td>\n",
       "      <td>5290.000000</td>\n",
       "      <td>5290.000000</td>\n",
       "      <td>5290.000000</td>\n",
       "      <td>5290.000000</td>\n",
       "      <td>5290.000000</td>\n",
       "      <td>5290.000000</td>\n",
       "      <td>5290.000000</td>\n",
       "    </tr>\n",
       "    <tr>\n",
       "      <td>mean</td>\n",
       "      <td>174.839652</td>\n",
       "      <td>8.683596</td>\n",
       "      <td>7.266339</td>\n",
       "      <td>1.383803</td>\n",
       "      <td>1.539494e+03</td>\n",
       "      <td>-497.665883</td>\n",
       "      <td>1.545174e+03</td>\n",
       "      <td>-500.273098</td>\n",
       "      <td>1.527272e+03</td>\n",
       "      <td>-498.330680</td>\n",
       "      <td>...</td>\n",
       "      <td>1.632007e+01</td>\n",
       "      <td>-505.144570</td>\n",
       "      <td>1.373544e+01</td>\n",
       "      <td>-463.349858</td>\n",
       "      <td>12.804186</td>\n",
       "      <td>-501.329122</td>\n",
       "      <td>9.881145</td>\n",
       "      <td>-495.663398</td>\n",
       "      <td>17.304935</td>\n",
       "      <td>-501.793193</td>\n",
       "    </tr>\n",
       "    <tr>\n",
       "      <td>std</td>\n",
       "      <td>43.027080</td>\n",
       "      <td>3.072050</td>\n",
       "      <td>0.610219</td>\n",
       "      <td>0.643474</td>\n",
       "      <td>1.167979e+02</td>\n",
       "      <td>19.952431</td>\n",
       "      <td>1.222246e+02</td>\n",
       "      <td>32.968307</td>\n",
       "      <td>1.225380e+02</td>\n",
       "      <td>21.964876</td>\n",
       "      <td>...</td>\n",
       "      <td>3.493583e+00</td>\n",
       "      <td>31.427337</td>\n",
       "      <td>3.430484e+00</td>\n",
       "      <td>86.189107</td>\n",
       "      <td>3.026591</td>\n",
       "      <td>17.951495</td>\n",
       "      <td>2.868205</td>\n",
       "      <td>34.535007</td>\n",
       "      <td>4.536544</td>\n",
       "      <td>39.044215</td>\n",
       "    </tr>\n",
       "    <tr>\n",
       "      <td>min</td>\n",
       "      <td>2.566156</td>\n",
       "      <td>0.003839</td>\n",
       "      <td>5.650000</td>\n",
       "      <td>0.004984</td>\n",
       "      <td>5.445860e-32</td>\n",
       "      <td>-795.316337</td>\n",
       "      <td>6.647490e-32</td>\n",
       "      <td>-799.997015</td>\n",
       "      <td>4.033736e-32</td>\n",
       "      <td>-799.960571</td>\n",
       "      <td>...</td>\n",
       "      <td>1.079872e-16</td>\n",
       "      <td>-799.798523</td>\n",
       "      <td>2.489718e-17</td>\n",
       "      <td>-800.836914</td>\n",
       "      <td>0.069227</td>\n",
       "      <td>-797.323986</td>\n",
       "      <td>0.528083</td>\n",
       "      <td>-800.220337</td>\n",
       "      <td>-0.079426</td>\n",
       "      <td>-809.741464</td>\n",
       "    </tr>\n",
       "    <tr>\n",
       "      <td>25%</td>\n",
       "      <td>147.121401</td>\n",
       "      <td>6.489555</td>\n",
       "      <td>6.890000</td>\n",
       "      <td>0.907623</td>\n",
       "      <td>1.498936e+03</td>\n",
       "      <td>-500.357298</td>\n",
       "      <td>1.498971e+03</td>\n",
       "      <td>-500.703002</td>\n",
       "      <td>1.473230e+03</td>\n",
       "      <td>-501.018117</td>\n",
       "      <td>...</td>\n",
       "      <td>1.403618e+01</td>\n",
       "      <td>-500.868258</td>\n",
       "      <td>1.202862e+01</td>\n",
       "      <td>-500.323028</td>\n",
       "      <td>10.914838</td>\n",
       "      <td>-500.726841</td>\n",
       "      <td>8.036719</td>\n",
       "      <td>-500.194668</td>\n",
       "      <td>13.997317</td>\n",
       "      <td>-500.690984</td>\n",
       "    </tr>\n",
       "    <tr>\n",
       "      <td>50%</td>\n",
       "      <td>177.828489</td>\n",
       "      <td>8.052207</td>\n",
       "      <td>7.250000</td>\n",
       "      <td>1.197610</td>\n",
       "      <td>1.585129e+03</td>\n",
       "      <td>-499.969164</td>\n",
       "      <td>1.595622e+03</td>\n",
       "      <td>-500.028514</td>\n",
       "      <td>1.549595e+03</td>\n",
       "      <td>-500.017711</td>\n",
       "      <td>...</td>\n",
       "      <td>1.700847e+01</td>\n",
       "      <td>-500.115727</td>\n",
       "      <td>1.496486e+01</td>\n",
       "      <td>-499.576513</td>\n",
       "      <td>12.954182</td>\n",
       "      <td>-499.990332</td>\n",
       "      <td>10.004301</td>\n",
       "      <td>-499.990535</td>\n",
       "      <td>16.014935</td>\n",
       "      <td>-500.007126</td>\n",
       "    </tr>\n",
       "    <tr>\n",
       "      <td>75%</td>\n",
       "      <td>208.125438</td>\n",
       "      <td>10.027764</td>\n",
       "      <td>7.600000</td>\n",
       "      <td>1.797819</td>\n",
       "      <td>1.602077e+03</td>\n",
       "      <td>-499.568951</td>\n",
       "      <td>1.602324e+03</td>\n",
       "      <td>-499.293257</td>\n",
       "      <td>1.601144e+03</td>\n",
       "      <td>-498.994130</td>\n",
       "      <td>...</td>\n",
       "      <td>1.803862e+01</td>\n",
       "      <td>-499.404224</td>\n",
       "      <td>1.596213e+01</td>\n",
       "      <td>-400.933805</td>\n",
       "      <td>15.097528</td>\n",
       "      <td>-499.283191</td>\n",
       "      <td>11.997467</td>\n",
       "      <td>-499.719913</td>\n",
       "      <td>21.020013</td>\n",
       "      <td>-499.373018</td>\n",
       "    </tr>\n",
       "    <tr>\n",
       "      <td>max</td>\n",
       "      <td>265.983123</td>\n",
       "      <td>40.000000</td>\n",
       "      <td>15.500000</td>\n",
       "      <td>4.102454</td>\n",
       "      <td>2.103104e+03</td>\n",
       "      <td>-57.195404</td>\n",
       "      <td>1.813084e+03</td>\n",
       "      <td>-142.527229</td>\n",
       "      <td>1.715054e+03</td>\n",
       "      <td>-150.937035</td>\n",
       "      <td>...</td>\n",
       "      <td>3.005180e+01</td>\n",
       "      <td>-401.565212</td>\n",
       "      <td>3.126971e+01</td>\n",
       "      <td>-6.506986</td>\n",
       "      <td>25.258848</td>\n",
       "      <td>-244.483566</td>\n",
       "      <td>14.086866</td>\n",
       "      <td>-137.740004</td>\n",
       "      <td>26.705889</td>\n",
       "      <td>-123.307487</td>\n",
       "    </tr>\n",
       "  </tbody>\n",
       "</table>\n",
       "<p>8 rows × 52 columns</p>\n",
       "</div>"
      ],
      "text/plain": [
       "       primary_cleaner.input.sulfate  primary_cleaner.input.depressant  \\\n",
       "count                    5286.000000                       5285.000000   \n",
       "mean                      174.839652                          8.683596   \n",
       "std                        43.027080                          3.072050   \n",
       "min                         2.566156                          0.003839   \n",
       "25%                       147.121401                          6.489555   \n",
       "50%                       177.828489                          8.052207   \n",
       "75%                       208.125438                         10.027764   \n",
       "max                       265.983123                         40.000000   \n",
       "\n",
       "       primary_cleaner.input.feed_size  primary_cleaner.input.xanthate  \\\n",
       "count                      5290.000000                     5286.000000   \n",
       "mean                          7.266339                        1.383803   \n",
       "std                           0.610219                        0.643474   \n",
       "min                           5.650000                        0.004984   \n",
       "25%                           6.890000                        0.907623   \n",
       "50%                           7.250000                        1.197610   \n",
       "75%                           7.600000                        1.797819   \n",
       "max                          15.500000                        4.102454   \n",
       "\n",
       "       primary_cleaner.state.floatbank8_a_air  \\\n",
       "count                            5.290000e+03   \n",
       "mean                             1.539494e+03   \n",
       "std                              1.167979e+02   \n",
       "min                              5.445860e-32   \n",
       "25%                              1.498936e+03   \n",
       "50%                              1.585129e+03   \n",
       "75%                              1.602077e+03   \n",
       "max                              2.103104e+03   \n",
       "\n",
       "       primary_cleaner.state.floatbank8_a_level  \\\n",
       "count                               5290.000000   \n",
       "mean                                -497.665883   \n",
       "std                                   19.952431   \n",
       "min                                 -795.316337   \n",
       "25%                                 -500.357298   \n",
       "50%                                 -499.969164   \n",
       "75%                                 -499.568951   \n",
       "max                                  -57.195404   \n",
       "\n",
       "       primary_cleaner.state.floatbank8_b_air  \\\n",
       "count                            5.290000e+03   \n",
       "mean                             1.545174e+03   \n",
       "std                              1.222246e+02   \n",
       "min                              6.647490e-32   \n",
       "25%                              1.498971e+03   \n",
       "50%                              1.595622e+03   \n",
       "75%                              1.602324e+03   \n",
       "max                              1.813084e+03   \n",
       "\n",
       "       primary_cleaner.state.floatbank8_b_level  \\\n",
       "count                               5290.000000   \n",
       "mean                                -500.273098   \n",
       "std                                   32.968307   \n",
       "min                                 -799.997015   \n",
       "25%                                 -500.703002   \n",
       "50%                                 -500.028514   \n",
       "75%                                 -499.293257   \n",
       "max                                 -142.527229   \n",
       "\n",
       "       primary_cleaner.state.floatbank8_c_air  \\\n",
       "count                            5.290000e+03   \n",
       "mean                             1.527272e+03   \n",
       "std                              1.225380e+02   \n",
       "min                              4.033736e-32   \n",
       "25%                              1.473230e+03   \n",
       "50%                              1.549595e+03   \n",
       "75%                              1.601144e+03   \n",
       "max                              1.715054e+03   \n",
       "\n",
       "       primary_cleaner.state.floatbank8_c_level  ...  \\\n",
       "count                               5290.000000  ...   \n",
       "mean                                -498.330680  ...   \n",
       "std                                   21.964876  ...   \n",
       "min                                 -799.960571  ...   \n",
       "25%                                 -501.018117  ...   \n",
       "50%                                 -500.017711  ...   \n",
       "75%                                 -498.994130  ...   \n",
       "max                                 -150.937035  ...   \n",
       "\n",
       "       secondary_cleaner.state.floatbank4_a_air  \\\n",
       "count                              5.290000e+03   \n",
       "mean                               1.632007e+01   \n",
       "std                                3.493583e+00   \n",
       "min                                1.079872e-16   \n",
       "25%                                1.403618e+01   \n",
       "50%                                1.700847e+01   \n",
       "75%                                1.803862e+01   \n",
       "max                                3.005180e+01   \n",
       "\n",
       "       secondary_cleaner.state.floatbank4_a_level  \\\n",
       "count                                 5290.000000   \n",
       "mean                                  -505.144570   \n",
       "std                                     31.427337   \n",
       "min                                   -799.798523   \n",
       "25%                                   -500.868258   \n",
       "50%                                   -500.115727   \n",
       "75%                                   -499.404224   \n",
       "max                                   -401.565212   \n",
       "\n",
       "       secondary_cleaner.state.floatbank4_b_air  \\\n",
       "count                              5.290000e+03   \n",
       "mean                               1.373544e+01   \n",
       "std                                3.430484e+00   \n",
       "min                                2.489718e-17   \n",
       "25%                                1.202862e+01   \n",
       "50%                                1.496486e+01   \n",
       "75%                                1.596213e+01   \n",
       "max                                3.126971e+01   \n",
       "\n",
       "       secondary_cleaner.state.floatbank4_b_level  \\\n",
       "count                                 5290.000000   \n",
       "mean                                  -463.349858   \n",
       "std                                     86.189107   \n",
       "min                                   -800.836914   \n",
       "25%                                   -500.323028   \n",
       "50%                                   -499.576513   \n",
       "75%                                   -400.933805   \n",
       "max                                     -6.506986   \n",
       "\n",
       "       secondary_cleaner.state.floatbank5_a_air  \\\n",
       "count                               5290.000000   \n",
       "mean                                  12.804186   \n",
       "std                                    3.026591   \n",
       "min                                    0.069227   \n",
       "25%                                   10.914838   \n",
       "50%                                   12.954182   \n",
       "75%                                   15.097528   \n",
       "max                                   25.258848   \n",
       "\n",
       "       secondary_cleaner.state.floatbank5_a_level  \\\n",
       "count                                 5290.000000   \n",
       "mean                                  -501.329122   \n",
       "std                                     17.951495   \n",
       "min                                   -797.323986   \n",
       "25%                                   -500.726841   \n",
       "50%                                   -499.990332   \n",
       "75%                                   -499.283191   \n",
       "max                                   -244.483566   \n",
       "\n",
       "       secondary_cleaner.state.floatbank5_b_air  \\\n",
       "count                               5290.000000   \n",
       "mean                                   9.881145   \n",
       "std                                    2.868205   \n",
       "min                                    0.528083   \n",
       "25%                                    8.036719   \n",
       "50%                                   10.004301   \n",
       "75%                                   11.997467   \n",
       "max                                   14.086866   \n",
       "\n",
       "       secondary_cleaner.state.floatbank5_b_level  \\\n",
       "count                                 5290.000000   \n",
       "mean                                  -495.663398   \n",
       "std                                     34.535007   \n",
       "min                                   -800.220337   \n",
       "25%                                   -500.194668   \n",
       "50%                                   -499.990535   \n",
       "75%                                   -499.719913   \n",
       "max                                   -137.740004   \n",
       "\n",
       "       secondary_cleaner.state.floatbank6_a_air  \\\n",
       "count                               5290.000000   \n",
       "mean                                  17.304935   \n",
       "std                                    4.536544   \n",
       "min                                   -0.079426   \n",
       "25%                                   13.997317   \n",
       "50%                                   16.014935   \n",
       "75%                                   21.020013   \n",
       "max                                   26.705889   \n",
       "\n",
       "       secondary_cleaner.state.floatbank6_a_level  \n",
       "count                                 5290.000000  \n",
       "mean                                  -501.793193  \n",
       "std                                     39.044215  \n",
       "min                                   -809.741464  \n",
       "25%                                   -500.690984  \n",
       "50%                                   -500.007126  \n",
       "75%                                   -499.373018  \n",
       "max                                   -123.307487  \n",
       "\n",
       "[8 rows x 52 columns]"
      ]
     },
     "execution_count": 6,
     "metadata": {},
     "output_type": "execute_result"
    }
   ],
   "source": [
    "test.describe()"
   ]
  },
  {
   "cell_type": "code",
   "execution_count": 7,
   "metadata": {},
   "outputs": [
    {
     "data": {
      "text/html": [
       "<div>\n",
       "<style scoped>\n",
       "    .dataframe tbody tr th:only-of-type {\n",
       "        vertical-align: middle;\n",
       "    }\n",
       "\n",
       "    .dataframe tbody tr th {\n",
       "        vertical-align: top;\n",
       "    }\n",
       "\n",
       "    .dataframe thead th {\n",
       "        text-align: right;\n",
       "    }\n",
       "</style>\n",
       "<table border=\"1\" class=\"dataframe\">\n",
       "  <thead>\n",
       "    <tr style=\"text-align: right;\">\n",
       "      <th></th>\n",
       "      <th>final.output.concentrate_ag</th>\n",
       "      <th>final.output.concentrate_pb</th>\n",
       "      <th>final.output.concentrate_sol</th>\n",
       "      <th>final.output.concentrate_au</th>\n",
       "      <th>final.output.recovery</th>\n",
       "      <th>final.output.tail_ag</th>\n",
       "      <th>final.output.tail_pb</th>\n",
       "      <th>final.output.tail_sol</th>\n",
       "      <th>final.output.tail_au</th>\n",
       "      <th>primary_cleaner.input.sulfate</th>\n",
       "      <th>...</th>\n",
       "      <th>secondary_cleaner.state.floatbank4_a_air</th>\n",
       "      <th>secondary_cleaner.state.floatbank4_a_level</th>\n",
       "      <th>secondary_cleaner.state.floatbank4_b_air</th>\n",
       "      <th>secondary_cleaner.state.floatbank4_b_level</th>\n",
       "      <th>secondary_cleaner.state.floatbank5_a_air</th>\n",
       "      <th>secondary_cleaner.state.floatbank5_a_level</th>\n",
       "      <th>secondary_cleaner.state.floatbank5_b_air</th>\n",
       "      <th>secondary_cleaner.state.floatbank5_b_level</th>\n",
       "      <th>secondary_cleaner.state.floatbank6_a_air</th>\n",
       "      <th>secondary_cleaner.state.floatbank6_a_level</th>\n",
       "    </tr>\n",
       "  </thead>\n",
       "  <tbody>\n",
       "    <tr>\n",
       "      <td>count</td>\n",
       "      <td>19438.000000</td>\n",
       "      <td>19438.000000</td>\n",
       "      <td>19228.000000</td>\n",
       "      <td>19439.000000</td>\n",
       "      <td>19439.000000</td>\n",
       "      <td>19438.000000</td>\n",
       "      <td>19338.000000</td>\n",
       "      <td>19433.000000</td>\n",
       "      <td>19439.000000</td>\n",
       "      <td>19415.000000</td>\n",
       "      <td>...</td>\n",
       "      <td>19433.000000</td>\n",
       "      <td>19438.000000</td>\n",
       "      <td>19438.000000</td>\n",
       "      <td>19438.000000</td>\n",
       "      <td>19438.000000</td>\n",
       "      <td>19438.000000</td>\n",
       "      <td>19438.000000</td>\n",
       "      <td>19438.000000</td>\n",
       "      <td>19437.000000</td>\n",
       "      <td>19438.000000</td>\n",
       "    </tr>\n",
       "    <tr>\n",
       "      <td>mean</td>\n",
       "      <td>5.168470</td>\n",
       "      <td>9.978895</td>\n",
       "      <td>9.501224</td>\n",
       "      <td>44.076513</td>\n",
       "      <td>67.050208</td>\n",
       "      <td>9.688589</td>\n",
       "      <td>2.705795</td>\n",
       "      <td>10.583728</td>\n",
       "      <td>3.042467</td>\n",
       "      <td>144.624774</td>\n",
       "      <td>...</td>\n",
       "      <td>18.987674</td>\n",
       "      <td>-485.894516</td>\n",
       "      <td>15.010366</td>\n",
       "      <td>-461.078636</td>\n",
       "      <td>15.694452</td>\n",
       "      <td>-488.684065</td>\n",
       "      <td>12.198224</td>\n",
       "      <td>-487.149827</td>\n",
       "      <td>18.959024</td>\n",
       "      <td>-505.436305</td>\n",
       "    </tr>\n",
       "    <tr>\n",
       "      <td>std</td>\n",
       "      <td>1.372348</td>\n",
       "      <td>1.669240</td>\n",
       "      <td>2.787537</td>\n",
       "      <td>5.129784</td>\n",
       "      <td>10.125840</td>\n",
       "      <td>2.328642</td>\n",
       "      <td>0.949077</td>\n",
       "      <td>2.868782</td>\n",
       "      <td>0.922808</td>\n",
       "      <td>44.464071</td>\n",
       "      <td>...</td>\n",
       "      <td>5.411058</td>\n",
       "      <td>47.758570</td>\n",
       "      <td>4.890228</td>\n",
       "      <td>67.405524</td>\n",
       "      <td>5.510974</td>\n",
       "      <td>34.533396</td>\n",
       "      <td>5.333024</td>\n",
       "      <td>38.347312</td>\n",
       "      <td>5.550498</td>\n",
       "      <td>37.689057</td>\n",
       "    </tr>\n",
       "    <tr>\n",
       "      <td>min</td>\n",
       "      <td>0.000000</td>\n",
       "      <td>0.000000</td>\n",
       "      <td>0.000000</td>\n",
       "      <td>0.000000</td>\n",
       "      <td>0.000000</td>\n",
       "      <td>0.000000</td>\n",
       "      <td>0.000000</td>\n",
       "      <td>0.000000</td>\n",
       "      <td>0.000000</td>\n",
       "      <td>0.003112</td>\n",
       "      <td>...</td>\n",
       "      <td>0.000000</td>\n",
       "      <td>-799.798523</td>\n",
       "      <td>0.000000</td>\n",
       "      <td>-800.836914</td>\n",
       "      <td>-0.372054</td>\n",
       "      <td>-797.323986</td>\n",
       "      <td>0.528083</td>\n",
       "      <td>-800.220337</td>\n",
       "      <td>-0.079426</td>\n",
       "      <td>-809.741464</td>\n",
       "    </tr>\n",
       "    <tr>\n",
       "      <td>25%</td>\n",
       "      <td>4.251240</td>\n",
       "      <td>9.137262</td>\n",
       "      <td>7.722820</td>\n",
       "      <td>43.402215</td>\n",
       "      <td>63.299712</td>\n",
       "      <td>8.062878</td>\n",
       "      <td>2.040119</td>\n",
       "      <td>8.938947</td>\n",
       "      <td>2.461138</td>\n",
       "      <td>114.107029</td>\n",
       "      <td>...</td>\n",
       "      <td>14.975734</td>\n",
       "      <td>-500.704892</td>\n",
       "      <td>11.940294</td>\n",
       "      <td>-500.187742</td>\n",
       "      <td>10.988606</td>\n",
       "      <td>-500.458467</td>\n",
       "      <td>8.971105</td>\n",
       "      <td>-500.129462</td>\n",
       "      <td>14.983037</td>\n",
       "      <td>-500.728067</td>\n",
       "    </tr>\n",
       "    <tr>\n",
       "      <td>50%</td>\n",
       "      <td>5.066094</td>\n",
       "      <td>10.102433</td>\n",
       "      <td>9.218961</td>\n",
       "      <td>45.011244</td>\n",
       "      <td>68.172738</td>\n",
       "      <td>9.743623</td>\n",
       "      <td>2.748730</td>\n",
       "      <td>10.622456</td>\n",
       "      <td>2.984909</td>\n",
       "      <td>143.232103</td>\n",
       "      <td>...</td>\n",
       "      <td>18.017481</td>\n",
       "      <td>-499.837793</td>\n",
       "      <td>14.971014</td>\n",
       "      <td>-499.459786</td>\n",
       "      <td>15.000036</td>\n",
       "      <td>-499.802605</td>\n",
       "      <td>11.019433</td>\n",
       "      <td>-499.935317</td>\n",
       "      <td>19.960541</td>\n",
       "      <td>-500.048400</td>\n",
       "    </tr>\n",
       "    <tr>\n",
       "      <td>75%</td>\n",
       "      <td>5.895527</td>\n",
       "      <td>11.035769</td>\n",
       "      <td>10.947813</td>\n",
       "      <td>46.275313</td>\n",
       "      <td>72.686642</td>\n",
       "      <td>11.134294</td>\n",
       "      <td>3.333216</td>\n",
       "      <td>12.104271</td>\n",
       "      <td>3.571351</td>\n",
       "      <td>175.075656</td>\n",
       "      <td>...</td>\n",
       "      <td>23.012470</td>\n",
       "      <td>-498.249730</td>\n",
       "      <td>19.034162</td>\n",
       "      <td>-400.118106</td>\n",
       "      <td>18.026190</td>\n",
       "      <td>-498.384187</td>\n",
       "      <td>14.019088</td>\n",
       "      <td>-499.436708</td>\n",
       "      <td>24.003170</td>\n",
       "      <td>-499.495378</td>\n",
       "    </tr>\n",
       "    <tr>\n",
       "      <td>max</td>\n",
       "      <td>16.001945</td>\n",
       "      <td>17.031899</td>\n",
       "      <td>19.615720</td>\n",
       "      <td>52.756638</td>\n",
       "      <td>100.000000</td>\n",
       "      <td>19.552149</td>\n",
       "      <td>5.804178</td>\n",
       "      <td>22.317730</td>\n",
       "      <td>8.245022</td>\n",
       "      <td>265.983123</td>\n",
       "      <td>...</td>\n",
       "      <td>30.115735</td>\n",
       "      <td>-245.239184</td>\n",
       "      <td>31.269706</td>\n",
       "      <td>-6.506986</td>\n",
       "      <td>43.709931</td>\n",
       "      <td>-244.483566</td>\n",
       "      <td>27.926001</td>\n",
       "      <td>-137.740004</td>\n",
       "      <td>32.188906</td>\n",
       "      <td>-104.427459</td>\n",
       "    </tr>\n",
       "  </tbody>\n",
       "</table>\n",
       "<p>8 rows × 86 columns</p>\n",
       "</div>"
      ],
      "text/plain": [
       "       final.output.concentrate_ag  final.output.concentrate_pb  \\\n",
       "count                 19438.000000                 19438.000000   \n",
       "mean                      5.168470                     9.978895   \n",
       "std                       1.372348                     1.669240   \n",
       "min                       0.000000                     0.000000   \n",
       "25%                       4.251240                     9.137262   \n",
       "50%                       5.066094                    10.102433   \n",
       "75%                       5.895527                    11.035769   \n",
       "max                      16.001945                    17.031899   \n",
       "\n",
       "       final.output.concentrate_sol  final.output.concentrate_au  \\\n",
       "count                  19228.000000                 19439.000000   \n",
       "mean                       9.501224                    44.076513   \n",
       "std                        2.787537                     5.129784   \n",
       "min                        0.000000                     0.000000   \n",
       "25%                        7.722820                    43.402215   \n",
       "50%                        9.218961                    45.011244   \n",
       "75%                       10.947813                    46.275313   \n",
       "max                       19.615720                    52.756638   \n",
       "\n",
       "       final.output.recovery  final.output.tail_ag  final.output.tail_pb  \\\n",
       "count           19439.000000          19438.000000          19338.000000   \n",
       "mean               67.050208              9.688589              2.705795   \n",
       "std                10.125840              2.328642              0.949077   \n",
       "min                 0.000000              0.000000              0.000000   \n",
       "25%                63.299712              8.062878              2.040119   \n",
       "50%                68.172738              9.743623              2.748730   \n",
       "75%                72.686642             11.134294              3.333216   \n",
       "max               100.000000             19.552149              5.804178   \n",
       "\n",
       "       final.output.tail_sol  final.output.tail_au  \\\n",
       "count           19433.000000          19439.000000   \n",
       "mean               10.583728              3.042467   \n",
       "std                 2.868782              0.922808   \n",
       "min                 0.000000              0.000000   \n",
       "25%                 8.938947              2.461138   \n",
       "50%                10.622456              2.984909   \n",
       "75%                12.104271              3.571351   \n",
       "max                22.317730              8.245022   \n",
       "\n",
       "       primary_cleaner.input.sulfate  ...  \\\n",
       "count                   19415.000000  ...   \n",
       "mean                      144.624774  ...   \n",
       "std                        44.464071  ...   \n",
       "min                         0.003112  ...   \n",
       "25%                       114.107029  ...   \n",
       "50%                       143.232103  ...   \n",
       "75%                       175.075656  ...   \n",
       "max                       265.983123  ...   \n",
       "\n",
       "       secondary_cleaner.state.floatbank4_a_air  \\\n",
       "count                              19433.000000   \n",
       "mean                                  18.987674   \n",
       "std                                    5.411058   \n",
       "min                                    0.000000   \n",
       "25%                                   14.975734   \n",
       "50%                                   18.017481   \n",
       "75%                                   23.012470   \n",
       "max                                   30.115735   \n",
       "\n",
       "       secondary_cleaner.state.floatbank4_a_level  \\\n",
       "count                                19438.000000   \n",
       "mean                                  -485.894516   \n",
       "std                                     47.758570   \n",
       "min                                   -799.798523   \n",
       "25%                                   -500.704892   \n",
       "50%                                   -499.837793   \n",
       "75%                                   -498.249730   \n",
       "max                                   -245.239184   \n",
       "\n",
       "       secondary_cleaner.state.floatbank4_b_air  \\\n",
       "count                              19438.000000   \n",
       "mean                                  15.010366   \n",
       "std                                    4.890228   \n",
       "min                                    0.000000   \n",
       "25%                                   11.940294   \n",
       "50%                                   14.971014   \n",
       "75%                                   19.034162   \n",
       "max                                   31.269706   \n",
       "\n",
       "       secondary_cleaner.state.floatbank4_b_level  \\\n",
       "count                                19438.000000   \n",
       "mean                                  -461.078636   \n",
       "std                                     67.405524   \n",
       "min                                   -800.836914   \n",
       "25%                                   -500.187742   \n",
       "50%                                   -499.459786   \n",
       "75%                                   -400.118106   \n",
       "max                                     -6.506986   \n",
       "\n",
       "       secondary_cleaner.state.floatbank5_a_air  \\\n",
       "count                              19438.000000   \n",
       "mean                                  15.694452   \n",
       "std                                    5.510974   \n",
       "min                                   -0.372054   \n",
       "25%                                   10.988606   \n",
       "50%                                   15.000036   \n",
       "75%                                   18.026190   \n",
       "max                                   43.709931   \n",
       "\n",
       "       secondary_cleaner.state.floatbank5_a_level  \\\n",
       "count                                19438.000000   \n",
       "mean                                  -488.684065   \n",
       "std                                     34.533396   \n",
       "min                                   -797.323986   \n",
       "25%                                   -500.458467   \n",
       "50%                                   -499.802605   \n",
       "75%                                   -498.384187   \n",
       "max                                   -244.483566   \n",
       "\n",
       "       secondary_cleaner.state.floatbank5_b_air  \\\n",
       "count                              19438.000000   \n",
       "mean                                  12.198224   \n",
       "std                                    5.333024   \n",
       "min                                    0.528083   \n",
       "25%                                    8.971105   \n",
       "50%                                   11.019433   \n",
       "75%                                   14.019088   \n",
       "max                                   27.926001   \n",
       "\n",
       "       secondary_cleaner.state.floatbank5_b_level  \\\n",
       "count                                19438.000000   \n",
       "mean                                  -487.149827   \n",
       "std                                     38.347312   \n",
       "min                                   -800.220337   \n",
       "25%                                   -500.129462   \n",
       "50%                                   -499.935317   \n",
       "75%                                   -499.436708   \n",
       "max                                   -137.740004   \n",
       "\n",
       "       secondary_cleaner.state.floatbank6_a_air  \\\n",
       "count                              19437.000000   \n",
       "mean                                  18.959024   \n",
       "std                                    5.550498   \n",
       "min                                   -0.079426   \n",
       "25%                                   14.983037   \n",
       "50%                                   19.960541   \n",
       "75%                                   24.003170   \n",
       "max                                   32.188906   \n",
       "\n",
       "       secondary_cleaner.state.floatbank6_a_level  \n",
       "count                                19438.000000  \n",
       "mean                                  -505.436305  \n",
       "std                                     37.689057  \n",
       "min                                   -809.741464  \n",
       "25%                                   -500.728067  \n",
       "50%                                   -500.048400  \n",
       "75%                                   -499.495378  \n",
       "max                                   -104.427459  \n",
       "\n",
       "[8 rows x 86 columns]"
      ]
     },
     "execution_count": 7,
     "metadata": {},
     "output_type": "execute_result"
    }
   ],
   "source": [
    "full.describe()"
   ]
  },
  {
   "cell_type": "code",
   "execution_count": 8,
   "metadata": {},
   "outputs": [
    {
     "name": "stdout",
     "output_type": "stream",
     "text": [
      "<class 'pandas.core.frame.DataFrame'>\n",
      "RangeIndex: 14149 entries, 0 to 14148\n",
      "Data columns (total 87 columns):\n",
      "date                                                  14149 non-null object\n",
      "final.output.concentrate_ag                           14148 non-null float64\n",
      "final.output.concentrate_pb                           14148 non-null float64\n",
      "final.output.concentrate_sol                          13938 non-null float64\n",
      "final.output.concentrate_au                           14149 non-null float64\n",
      "final.output.recovery                                 14149 non-null float64\n",
      "final.output.tail_ag                                  14149 non-null float64\n",
      "final.output.tail_pb                                  14049 non-null float64\n",
      "final.output.tail_sol                                 14144 non-null float64\n",
      "final.output.tail_au                                  14149 non-null float64\n",
      "primary_cleaner.input.sulfate                         14129 non-null float64\n",
      "primary_cleaner.input.depressant                      14117 non-null float64\n",
      "primary_cleaner.input.feed_size                       14149 non-null float64\n",
      "primary_cleaner.input.xanthate                        14049 non-null float64\n",
      "primary_cleaner.output.concentrate_ag                 14149 non-null float64\n",
      "primary_cleaner.output.concentrate_pb                 14063 non-null float64\n",
      "primary_cleaner.output.concentrate_sol                13863 non-null float64\n",
      "primary_cleaner.output.concentrate_au                 14149 non-null float64\n",
      "primary_cleaner.output.tail_ag                        14148 non-null float64\n",
      "primary_cleaner.output.tail_pb                        14134 non-null float64\n",
      "primary_cleaner.output.tail_sol                       14103 non-null float64\n",
      "primary_cleaner.output.tail_au                        14149 non-null float64\n",
      "primary_cleaner.state.floatbank8_a_air                14145 non-null float64\n",
      "primary_cleaner.state.floatbank8_a_level              14148 non-null float64\n",
      "primary_cleaner.state.floatbank8_b_air                14145 non-null float64\n",
      "primary_cleaner.state.floatbank8_b_level              14148 non-null float64\n",
      "primary_cleaner.state.floatbank8_c_air                14147 non-null float64\n",
      "primary_cleaner.state.floatbank8_c_level              14148 non-null float64\n",
      "primary_cleaner.state.floatbank8_d_air                14146 non-null float64\n",
      "primary_cleaner.state.floatbank8_d_level              14148 non-null float64\n",
      "rougher.calculation.sulfate_to_au_concentrate         14148 non-null float64\n",
      "rougher.calculation.floatbank10_sulfate_to_au_feed    14148 non-null float64\n",
      "rougher.calculation.floatbank11_sulfate_to_au_feed    14148 non-null float64\n",
      "rougher.calculation.au_pb_ratio                       14149 non-null float64\n",
      "rougher.input.feed_ag                                 14149 non-null float64\n",
      "rougher.input.feed_pb                                 14049 non-null float64\n",
      "rougher.input.feed_rate                               14141 non-null float64\n",
      "rougher.input.feed_size                               14005 non-null float64\n",
      "rougher.input.feed_sol                                14071 non-null float64\n",
      "rougher.input.feed_au                                 14149 non-null float64\n",
      "rougher.input.floatbank10_sulfate                     14120 non-null float64\n",
      "rougher.input.floatbank10_xanthate                    14141 non-null float64\n",
      "rougher.input.floatbank11_sulfate                     14113 non-null float64\n",
      "rougher.input.floatbank11_xanthate                    13721 non-null float64\n",
      "rougher.output.concentrate_ag                         14149 non-null float64\n",
      "rougher.output.concentrate_pb                         14149 non-null float64\n",
      "rougher.output.concentrate_sol                        14127 non-null float64\n",
      "rougher.output.concentrate_au                         14149 non-null float64\n",
      "rougher.output.recovery                               14149 non-null float64\n",
      "rougher.output.tail_ag                                14148 non-null float64\n",
      "rougher.output.tail_pb                                14149 non-null float64\n",
      "rougher.output.tail_sol                               14149 non-null float64\n",
      "rougher.output.tail_au                                14149 non-null float64\n",
      "rougher.state.floatbank10_a_air                       14148 non-null float64\n",
      "rougher.state.floatbank10_a_level                     14148 non-null float64\n",
      "rougher.state.floatbank10_b_air                       14148 non-null float64\n",
      "rougher.state.floatbank10_b_level                     14148 non-null float64\n",
      "rougher.state.floatbank10_c_air                       14148 non-null float64\n",
      "rougher.state.floatbank10_c_level                     14148 non-null float64\n",
      "rougher.state.floatbank10_d_air                       14149 non-null float64\n",
      "rougher.state.floatbank10_d_level                     14149 non-null float64\n",
      "rougher.state.floatbank10_e_air                       13713 non-null float64\n",
      "rougher.state.floatbank10_e_level                     14149 non-null float64\n",
      "rougher.state.floatbank10_f_air                       14149 non-null float64\n",
      "rougher.state.floatbank10_f_level                     14149 non-null float64\n",
      "secondary_cleaner.output.tail_ag                      14147 non-null float64\n",
      "secondary_cleaner.output.tail_pb                      14139 non-null float64\n",
      "secondary_cleaner.output.tail_sol                     12544 non-null float64\n",
      "secondary_cleaner.output.tail_au                      14149 non-null float64\n",
      "secondary_cleaner.state.floatbank2_a_air              13932 non-null float64\n",
      "secondary_cleaner.state.floatbank2_a_level            14148 non-null float64\n",
      "secondary_cleaner.state.floatbank2_b_air              14128 non-null float64\n",
      "secondary_cleaner.state.floatbank2_b_level            14148 non-null float64\n",
      "secondary_cleaner.state.floatbank3_a_air              14145 non-null float64\n",
      "secondary_cleaner.state.floatbank3_a_level            14148 non-null float64\n",
      "secondary_cleaner.state.floatbank3_b_air              14148 non-null float64\n",
      "secondary_cleaner.state.floatbank3_b_level            14148 non-null float64\n",
      "secondary_cleaner.state.floatbank4_a_air              14143 non-null float64\n",
      "secondary_cleaner.state.floatbank4_a_level            14148 non-null float64\n",
      "secondary_cleaner.state.floatbank4_b_air              14148 non-null float64\n",
      "secondary_cleaner.state.floatbank4_b_level            14148 non-null float64\n",
      "secondary_cleaner.state.floatbank5_a_air              14148 non-null float64\n",
      "secondary_cleaner.state.floatbank5_a_level            14148 non-null float64\n",
      "secondary_cleaner.state.floatbank5_b_air              14148 non-null float64\n",
      "secondary_cleaner.state.floatbank5_b_level            14148 non-null float64\n",
      "secondary_cleaner.state.floatbank6_a_air              14147 non-null float64\n",
      "secondary_cleaner.state.floatbank6_a_level            14148 non-null float64\n",
      "dtypes: float64(86), object(1)\n",
      "memory usage: 9.4+ MB\n"
     ]
    }
   ],
   "source": [
    "train.info()"
   ]
  },
  {
   "cell_type": "code",
   "execution_count": 9,
   "metadata": {},
   "outputs": [
    {
     "name": "stdout",
     "output_type": "stream",
     "text": [
      "<class 'pandas.core.frame.DataFrame'>\n",
      "RangeIndex: 5290 entries, 0 to 5289\n",
      "Data columns (total 53 columns):\n",
      "date                                          5290 non-null object\n",
      "primary_cleaner.input.sulfate                 5286 non-null float64\n",
      "primary_cleaner.input.depressant              5285 non-null float64\n",
      "primary_cleaner.input.feed_size               5290 non-null float64\n",
      "primary_cleaner.input.xanthate                5286 non-null float64\n",
      "primary_cleaner.state.floatbank8_a_air        5290 non-null float64\n",
      "primary_cleaner.state.floatbank8_a_level      5290 non-null float64\n",
      "primary_cleaner.state.floatbank8_b_air        5290 non-null float64\n",
      "primary_cleaner.state.floatbank8_b_level      5290 non-null float64\n",
      "primary_cleaner.state.floatbank8_c_air        5290 non-null float64\n",
      "primary_cleaner.state.floatbank8_c_level      5290 non-null float64\n",
      "primary_cleaner.state.floatbank8_d_air        5290 non-null float64\n",
      "primary_cleaner.state.floatbank8_d_level      5290 non-null float64\n",
      "rougher.input.feed_ag                         5290 non-null float64\n",
      "rougher.input.feed_pb                         5290 non-null float64\n",
      "rougher.input.feed_rate                       5287 non-null float64\n",
      "rougher.input.feed_size                       5289 non-null float64\n",
      "rougher.input.feed_sol                        5269 non-null float64\n",
      "rougher.input.feed_au                         5290 non-null float64\n",
      "rougher.input.floatbank10_sulfate             5285 non-null float64\n",
      "rougher.input.floatbank10_xanthate            5290 non-null float64\n",
      "rougher.input.floatbank11_sulfate             5282 non-null float64\n",
      "rougher.input.floatbank11_xanthate            5265 non-null float64\n",
      "rougher.state.floatbank10_a_air               5290 non-null float64\n",
      "rougher.state.floatbank10_a_level             5290 non-null float64\n",
      "rougher.state.floatbank10_b_air               5290 non-null float64\n",
      "rougher.state.floatbank10_b_level             5290 non-null float64\n",
      "rougher.state.floatbank10_c_air               5290 non-null float64\n",
      "rougher.state.floatbank10_c_level             5290 non-null float64\n",
      "rougher.state.floatbank10_d_air               5290 non-null float64\n",
      "rougher.state.floatbank10_d_level             5290 non-null float64\n",
      "rougher.state.floatbank10_e_air               5290 non-null float64\n",
      "rougher.state.floatbank10_e_level             5290 non-null float64\n",
      "rougher.state.floatbank10_f_air               5290 non-null float64\n",
      "rougher.state.floatbank10_f_level             5290 non-null float64\n",
      "secondary_cleaner.state.floatbank2_a_air      5287 non-null float64\n",
      "secondary_cleaner.state.floatbank2_a_level    5290 non-null float64\n",
      "secondary_cleaner.state.floatbank2_b_air      5288 non-null float64\n",
      "secondary_cleaner.state.floatbank2_b_level    5290 non-null float64\n",
      "secondary_cleaner.state.floatbank3_a_air      5281 non-null float64\n",
      "secondary_cleaner.state.floatbank3_a_level    5290 non-null float64\n",
      "secondary_cleaner.state.floatbank3_b_air      5290 non-null float64\n",
      "secondary_cleaner.state.floatbank3_b_level    5290 non-null float64\n",
      "secondary_cleaner.state.floatbank4_a_air      5290 non-null float64\n",
      "secondary_cleaner.state.floatbank4_a_level    5290 non-null float64\n",
      "secondary_cleaner.state.floatbank4_b_air      5290 non-null float64\n",
      "secondary_cleaner.state.floatbank4_b_level    5290 non-null float64\n",
      "secondary_cleaner.state.floatbank5_a_air      5290 non-null float64\n",
      "secondary_cleaner.state.floatbank5_a_level    5290 non-null float64\n",
      "secondary_cleaner.state.floatbank5_b_air      5290 non-null float64\n",
      "secondary_cleaner.state.floatbank5_b_level    5290 non-null float64\n",
      "secondary_cleaner.state.floatbank6_a_air      5290 non-null float64\n",
      "secondary_cleaner.state.floatbank6_a_level    5290 non-null float64\n",
      "dtypes: float64(52), object(1)\n",
      "memory usage: 2.1+ MB\n"
     ]
    }
   ],
   "source": [
    "test.info()"
   ]
  },
  {
   "cell_type": "code",
   "execution_count": 10,
   "metadata": {},
   "outputs": [
    {
     "name": "stdout",
     "output_type": "stream",
     "text": [
      "<class 'pandas.core.frame.DataFrame'>\n",
      "RangeIndex: 19439 entries, 0 to 19438\n",
      "Data columns (total 87 columns):\n",
      "date                                                  19439 non-null object\n",
      "final.output.concentrate_ag                           19438 non-null float64\n",
      "final.output.concentrate_pb                           19438 non-null float64\n",
      "final.output.concentrate_sol                          19228 non-null float64\n",
      "final.output.concentrate_au                           19439 non-null float64\n",
      "final.output.recovery                                 19439 non-null float64\n",
      "final.output.tail_ag                                  19438 non-null float64\n",
      "final.output.tail_pb                                  19338 non-null float64\n",
      "final.output.tail_sol                                 19433 non-null float64\n",
      "final.output.tail_au                                  19439 non-null float64\n",
      "primary_cleaner.input.sulfate                         19415 non-null float64\n",
      "primary_cleaner.input.depressant                      19402 non-null float64\n",
      "primary_cleaner.input.feed_size                       19439 non-null float64\n",
      "primary_cleaner.input.xanthate                        19335 non-null float64\n",
      "primary_cleaner.output.concentrate_ag                 19439 non-null float64\n",
      "primary_cleaner.output.concentrate_pb                 19323 non-null float64\n",
      "primary_cleaner.output.concentrate_sol                19069 non-null float64\n",
      "primary_cleaner.output.concentrate_au                 19439 non-null float64\n",
      "primary_cleaner.output.tail_ag                        19435 non-null float64\n",
      "primary_cleaner.output.tail_pb                        19418 non-null float64\n",
      "primary_cleaner.output.tail_sol                       19377 non-null float64\n",
      "primary_cleaner.output.tail_au                        19439 non-null float64\n",
      "primary_cleaner.state.floatbank8_a_air                19435 non-null float64\n",
      "primary_cleaner.state.floatbank8_a_level              19438 non-null float64\n",
      "primary_cleaner.state.floatbank8_b_air                19435 non-null float64\n",
      "primary_cleaner.state.floatbank8_b_level              19438 non-null float64\n",
      "primary_cleaner.state.floatbank8_c_air                19437 non-null float64\n",
      "primary_cleaner.state.floatbank8_c_level              19438 non-null float64\n",
      "primary_cleaner.state.floatbank8_d_air                19436 non-null float64\n",
      "primary_cleaner.state.floatbank8_d_level              19438 non-null float64\n",
      "rougher.calculation.sulfate_to_au_concentrate         19437 non-null float64\n",
      "rougher.calculation.floatbank10_sulfate_to_au_feed    19437 non-null float64\n",
      "rougher.calculation.floatbank11_sulfate_to_au_feed    19437 non-null float64\n",
      "rougher.calculation.au_pb_ratio                       19439 non-null float64\n",
      "rougher.input.feed_ag                                 19439 non-null float64\n",
      "rougher.input.feed_pb                                 19339 non-null float64\n",
      "rougher.input.feed_rate                               19428 non-null float64\n",
      "rougher.input.feed_size                               19294 non-null float64\n",
      "rougher.input.feed_sol                                19340 non-null float64\n",
      "rougher.input.feed_au                                 19439 non-null float64\n",
      "rougher.input.floatbank10_sulfate                     19405 non-null float64\n",
      "rougher.input.floatbank10_xanthate                    19431 non-null float64\n",
      "rougher.input.floatbank11_sulfate                     19395 non-null float64\n",
      "rougher.input.floatbank11_xanthate                    18986 non-null float64\n",
      "rougher.output.concentrate_ag                         19439 non-null float64\n",
      "rougher.output.concentrate_pb                         19439 non-null float64\n",
      "rougher.output.concentrate_sol                        19416 non-null float64\n",
      "rougher.output.concentrate_au                         19439 non-null float64\n",
      "rougher.output.recovery                               19439 non-null float64\n",
      "rougher.output.tail_ag                                19438 non-null float64\n",
      "rougher.output.tail_pb                                19439 non-null float64\n",
      "rougher.output.tail_sol                               19439 non-null float64\n",
      "rougher.output.tail_au                                19439 non-null float64\n",
      "rougher.state.floatbank10_a_air                       19438 non-null float64\n",
      "rougher.state.floatbank10_a_level                     19438 non-null float64\n",
      "rougher.state.floatbank10_b_air                       19438 non-null float64\n",
      "rougher.state.floatbank10_b_level                     19438 non-null float64\n",
      "rougher.state.floatbank10_c_air                       19438 non-null float64\n",
      "rougher.state.floatbank10_c_level                     19438 non-null float64\n",
      "rougher.state.floatbank10_d_air                       19439 non-null float64\n",
      "rougher.state.floatbank10_d_level                     19439 non-null float64\n",
      "rougher.state.floatbank10_e_air                       19003 non-null float64\n",
      "rougher.state.floatbank10_e_level                     19439 non-null float64\n",
      "rougher.state.floatbank10_f_air                       19439 non-null float64\n",
      "rougher.state.floatbank10_f_level                     19439 non-null float64\n",
      "secondary_cleaner.output.tail_ag                      19437 non-null float64\n",
      "secondary_cleaner.output.tail_pb                      19427 non-null float64\n",
      "secondary_cleaner.output.tail_sol                     17691 non-null float64\n",
      "secondary_cleaner.output.tail_au                      19439 non-null float64\n",
      "secondary_cleaner.state.floatbank2_a_air              19219 non-null float64\n",
      "secondary_cleaner.state.floatbank2_a_level            19438 non-null float64\n",
      "secondary_cleaner.state.floatbank2_b_air              19416 non-null float64\n",
      "secondary_cleaner.state.floatbank2_b_level            19438 non-null float64\n",
      "secondary_cleaner.state.floatbank3_a_air              19426 non-null float64\n",
      "secondary_cleaner.state.floatbank3_a_level            19438 non-null float64\n",
      "secondary_cleaner.state.floatbank3_b_air              19438 non-null float64\n",
      "secondary_cleaner.state.floatbank3_b_level            19438 non-null float64\n",
      "secondary_cleaner.state.floatbank4_a_air              19433 non-null float64\n",
      "secondary_cleaner.state.floatbank4_a_level            19438 non-null float64\n",
      "secondary_cleaner.state.floatbank4_b_air              19438 non-null float64\n",
      "secondary_cleaner.state.floatbank4_b_level            19438 non-null float64\n",
      "secondary_cleaner.state.floatbank5_a_air              19438 non-null float64\n",
      "secondary_cleaner.state.floatbank5_a_level            19438 non-null float64\n",
      "secondary_cleaner.state.floatbank5_b_air              19438 non-null float64\n",
      "secondary_cleaner.state.floatbank5_b_level            19438 non-null float64\n",
      "secondary_cleaner.state.floatbank6_a_air              19437 non-null float64\n",
      "secondary_cleaner.state.floatbank6_a_level            19438 non-null float64\n",
      "dtypes: float64(86), object(1)\n",
      "memory usage: 12.9+ MB\n"
     ]
    }
   ],
   "source": [
    "full.info()"
   ]
  },
  {
   "cell_type": "code",
   "execution_count": 11,
   "metadata": {},
   "outputs": [
    {
     "name": "stdout",
     "output_type": "stream",
     "text": [
      "0 0 0\n"
     ]
    }
   ],
   "source": [
    "print(train.duplicated().sum(), test.duplicated().sum(), full.duplicated().sum())"
   ]
  },
  {
   "cell_type": "markdown",
   "metadata": {},
   "source": [
    "**- тестовая выборка составляет 27% от полной**  \n",
    "**- тип данных указан корректно**  \n",
    "**- видно много пропусков в данных**  \n",
    "**- явных дубликатов не обнаружено**  "
   ]
  },
  {
   "cell_type": "markdown",
   "metadata": {},
   "source": [
    "### Эффективность обогащения"
   ]
  },
  {
   "cell_type": "code",
   "execution_count": 12,
   "metadata": {},
   "outputs": [],
   "source": [
    "df_mae = train.dropna().reset_index() #уберем пропуски из данных для подсчета эффективности\n",
    "c = df_mae['rougher.output.concentrate_au'] #доля золота после очистки\n",
    "f = df_mae['rougher.input.feed_au'] # доля золота до очистки\n",
    "t = df_mae['rougher.output.tail_au']# доля золота в хыостах после очистки"
   ]
  },
  {
   "cell_type": "code",
   "execution_count": 13,
   "metadata": {},
   "outputs": [
    {
     "name": "stdout",
     "output_type": "stream",
     "text": [
      "0 0\n"
     ]
    }
   ],
   "source": [
    "recovery = ((c*(f-t))/(f*(c-t))) * 100 #эффективность обогащения\n",
    "print ((recovery<0).sum(), (recovery>100).sum()) #проверяем получившиеся данные на наличие ошибок"
   ]
  },
  {
   "cell_type": "code",
   "execution_count": 14,
   "metadata": {},
   "outputs": [
    {
     "data": {
      "text/plain": [
       "9.739730529255835e-15"
      ]
     },
     "execution_count": 14,
     "metadata": {},
     "output_type": "execute_result"
    }
   ],
   "source": [
    "mae(df_mae['rougher.output.recovery'], recovery)"
   ]
  },
  {
   "cell_type": "markdown",
   "metadata": {},
   "source": [
    "**Значение MAE очень мало, поэтому можем сделать вывод о корректности расчета recovery**"
   ]
  },
  {
   "cell_type": "markdown",
   "metadata": {},
   "source": [
    "### Признаки недоступные в тестовой выборке"
   ]
  },
  {
   "cell_type": "code",
   "execution_count": 15,
   "metadata": {},
   "outputs": [
    {
     "data": {
      "text/plain": [
       "{'final.output.concentrate_ag',\n",
       " 'final.output.concentrate_au',\n",
       " 'final.output.concentrate_pb',\n",
       " 'final.output.concentrate_sol',\n",
       " 'final.output.recovery',\n",
       " 'final.output.tail_ag',\n",
       " 'final.output.tail_au',\n",
       " 'final.output.tail_pb',\n",
       " 'final.output.tail_sol',\n",
       " 'primary_cleaner.output.concentrate_ag',\n",
       " 'primary_cleaner.output.concentrate_au',\n",
       " 'primary_cleaner.output.concentrate_pb',\n",
       " 'primary_cleaner.output.concentrate_sol',\n",
       " 'primary_cleaner.output.tail_ag',\n",
       " 'primary_cleaner.output.tail_au',\n",
       " 'primary_cleaner.output.tail_pb',\n",
       " 'primary_cleaner.output.tail_sol',\n",
       " 'rougher.calculation.au_pb_ratio',\n",
       " 'rougher.calculation.floatbank10_sulfate_to_au_feed',\n",
       " 'rougher.calculation.floatbank11_sulfate_to_au_feed',\n",
       " 'rougher.calculation.sulfate_to_au_concentrate',\n",
       " 'rougher.output.concentrate_ag',\n",
       " 'rougher.output.concentrate_au',\n",
       " 'rougher.output.concentrate_pb',\n",
       " 'rougher.output.concentrate_sol',\n",
       " 'rougher.output.recovery',\n",
       " 'rougher.output.tail_ag',\n",
       " 'rougher.output.tail_au',\n",
       " 'rougher.output.tail_pb',\n",
       " 'rougher.output.tail_sol',\n",
       " 'secondary_cleaner.output.tail_ag',\n",
       " 'secondary_cleaner.output.tail_au',\n",
       " 'secondary_cleaner.output.tail_pb',\n",
       " 'secondary_cleaner.output.tail_sol'}"
      ]
     },
     "execution_count": 15,
     "metadata": {},
     "output_type": "execute_result"
    }
   ],
   "source": [
    "set(train.columns) - set(test.columns)"
   ]
  },
  {
   "cell_type": "markdown",
   "metadata": {},
   "source": [
    "**В тестовой выборке отсутствуют данные output. Это фактически выходные данные после каждого этапа очистки и являются целевыми признаками.**"
   ]
  },
  {
   "cell_type": "markdown",
   "metadata": {},
   "source": [
    "### Предобработка данных"
   ]
  },
  {
   "cell_type": "code",
   "execution_count": 16,
   "metadata": {},
   "outputs": [],
   "source": [
    "# если удалять строки с пропусками, то мы потеряем ппримерно 17% данных\n",
    "# это непиемлемый для нас % потерь данных\n",
    "# данные индексируются по временем получения информации, соседние по времени параметры часто похожи.\n",
    "# наши данные не перемешены и идут по порядку\n",
    "# поэтому заполняем пропуски предыдущим значением\n",
    "full=full.fillna(method='pad')\n",
    "train=train.fillna(method='pad')\n",
    "test=test.fillna(method='pad')"
   ]
  },
  {
   "cell_type": "code",
   "execution_count": 17,
   "metadata": {},
   "outputs": [],
   "source": [
    "#выборка с целевыми признаками для тестовой выборки\n",
    "test_test=test.merge(full,on=['date'],how='left')\n",
    "target_test=test_test[['rougher.output.recovery','final.output.recovery']]"
   ]
  },
  {
   "cell_type": "code",
   "execution_count": 18,
   "metadata": {},
   "outputs": [],
   "source": [
    "#графа дата не важна для построения наших моделей, удалим их\n",
    "full=full.drop('date', axis=1)\n",
    "test=test.drop('date', axis=1)\n",
    "train=train.drop('date', axis=1)"
   ]
  },
  {
   "cell_type": "markdown",
   "metadata": {},
   "source": [
    "## Анализ данных"
   ]
  },
  {
   "cell_type": "markdown",
   "metadata": {},
   "source": [
    "### Концентрация металлов на разных стадиях очистки"
   ]
  },
  {
   "cell_type": "code",
   "execution_count": 19,
   "metadata": {},
   "outputs": [],
   "source": [
    "def concentrate (au, ag, pb, title):\n",
    "    concent = []\n",
    "    concent=pd.DataFrame(concent)\n",
    "    concent['золото'] = au\n",
    "    concent['серебро'] = ag\n",
    "    concent['свинец'] = pb\n",
    "    plt.figure(figsize=(10,7))\n",
    "    sns.boxplot(data = concent).set_title(title)\n",
    "    plt.xlabel('Металл')\n",
    "    plt.ylabel('Концентрация')"
   ]
  },
  {
   "cell_type": "code",
   "execution_count": 20,
   "metadata": {},
   "outputs": [
    {
     "data": {
      "image/png": "[encoded data removed]",
      "text/plain": [
       "<Figure size 720x504 with 1 Axes>"
      ]
     },
     "metadata": {
      "needs_background": "light"
     },
     "output_type": "display_data"
    }
   ],
   "source": [
    "concentrate (full['rougher.output.concentrate_au'],\n",
    "             full['rougher.output.concentrate_ag'],\n",
    "             full['rougher.output.concentrate_pb'],\n",
    "            'Концентрация после флотации')"
   ]
  },
  {
   "cell_type": "code",
   "execution_count": 21,
   "metadata": {},
   "outputs": [
    {
     "data": {
      "image/png": "[encoded data removed]",
      "text/plain": [
       "<Figure size 720x504 with 1 Axes>"
      ]
     },
     "metadata": {
      "needs_background": "light"
     },
     "output_type": "display_data"
    }
   ],
   "source": [
    "concentrate (full['primary_cleaner.output.concentrate_au'],\n",
    "             full['primary_cleaner.output.concentrate_ag'],\n",
    "             full['primary_cleaner.output.concentrate_pb'],\n",
    "            'Концентрация после первичной очистки')"
   ]
  },
  {
   "cell_type": "code",
   "execution_count": 22,
   "metadata": {},
   "outputs": [
    {
     "data": {
      "image/png": "[encoded data removed]",
      "text/plain": [
       "<Figure size 720x504 with 1 Axes>"
      ]
     },
     "metadata": {
      "needs_background": "light"
     },
     "output_type": "display_data"
    }
   ],
   "source": [
    "concentrate (full['final.output.concentrate_au'],\n",
    "             full['final.output.concentrate_ag'],\n",
    "             full['final.output.concentrate_pb'],\n",
    "            'Концентрация после вторичной очистки')"
   ]
  },
  {
   "cell_type": "code",
   "execution_count": 23,
   "metadata": {},
   "outputs": [],
   "source": [
    "def concentrate_hist(metal, title):\n",
    "    roughter = full[f'rougher.output.concentrate_{metal}']\n",
    "    primary = full[f'primary_cleaner.output.concentrate_{metal}']\n",
    "    final = full[f'final.output.concentrate_{metal}']\n",
    "    plt.figure(figsize=(10, 7))\n",
    "    sns.distplot(roughter, kde_kws= {\"label\": \"флотация\"})\n",
    "    sns.distplot(primary, kde_kws= {\"label\": \"первичная очистка\"})\n",
    "    sns.distplot(final, kde_kws= {\"label\": \"вторичная очистка\"})\n",
    "    plt.title(label=f'Концентрация {title} на различных этапах очистки')\n",
    "    plt.xlabel('Концентрация')\n",
    "    plt.ylabel('Количество наблюдений')"
   ]
  },
  {
   "cell_type": "code",
   "execution_count": 24,
   "metadata": {},
   "outputs": [
    {
     "data": {
      "image/png": "[encoded data removed]",
      "text/plain": [
       "<Figure size 720x504 with 1 Axes>"
      ]
     },
     "metadata": {
      "needs_background": "light"
     },
     "output_type": "display_data"
    }
   ],
   "source": [
    "concentrate_hist('au', 'золота')"
   ]
  },
  {
   "cell_type": "code",
   "execution_count": 25,
   "metadata": {},
   "outputs": [
    {
     "data": {
      "image/png": "[encoded data removed]",
      "text/plain": [
       "<Figure size 720x504 with 1 Axes>"
      ]
     },
     "metadata": {
      "needs_background": "light"
     },
     "output_type": "display_data"
    }
   ],
   "source": [
    "concentrate_hist('ag', 'серебра')"
   ]
  },
  {
   "cell_type": "code",
   "execution_count": 26,
   "metadata": {},
   "outputs": [
    {
     "data": {
      "image/png": "[encoded data removed]",
      "text/plain": [
       "<Figure size 720x504 with 1 Axes>"
      ]
     },
     "metadata": {
      "needs_background": "light"
     },
     "output_type": "display_data"
    }
   ],
   "source": [
    "concentrate_hist('pb', 'свинца')"
   ]
  },
  {
   "cell_type": "markdown",
   "metadata": {},
   "source": [
    "**- имеется большое количество выбросов всех 3 металлов на всех стадиях очистки**  \n",
    "**- концентрация золота с каждой новой стадией увеличивается, серебра - снижается**  \n",
    "**- концентрация свинца после 1-ой очистки немного увеличивается и до конца остается практически неизменной**"
   ]
  },
  {
   "cell_type": "markdown",
   "metadata": {},
   "source": [
    "### Распределения размеров гранул сырья"
   ]
  },
  {
   "cell_type": "code",
   "execution_count": 27,
   "metadata": {},
   "outputs": [],
   "source": [
    "def size (stage, title):\n",
    "    size_train = train[f'{stage}.input.feed_size']\n",
    "    size_test = test[f'{stage}.input.feed_size']\n",
    "    plt.figure(figsize=(10, 7))\n",
    "    sns.distplot(size_train, kde_kws= {\"label\": \"Обучающая выборка\"})\n",
    "    sns.distplot(size_test, kde_kws= {\"label\": \"Тестовая выборка\"})\n",
    "    plt.xlabel('Размер гранул')\n",
    "    plt.ylabel('Количество наблюдений')\n",
    "    plt.title(label=f'Распределение размеров гранул сырья для {title}')\n",
    "    print(f'Средний размер гранул в обучающей выборке для {title} {round(size_train.mean(), 2)}')\n",
    "    print(f'Средний размер гранул в тестовой выборке для {title} {round(size_test.mean(), 2)}')"
   ]
  },
  {
   "cell_type": "code",
   "execution_count": 28,
   "metadata": {},
   "outputs": [
    {
     "name": "stdout",
     "output_type": "stream",
     "text": [
      "Средний размер гранул в обучающей выборке для флотации 60.24\n",
      "Средний размер гранул в тестовой выборке для флотации 55.95\n"
     ]
    },
    {
     "data": {
      "image/png": "[encoded data removed]",
      "text/plain": [
       "<Figure size 720x504 with 1 Axes>"
      ]
     },
     "metadata": {
      "needs_background": "light"
     },
     "output_type": "display_data"
    }
   ],
   "source": [
    "size ('rougher', 'флотации')"
   ]
  },
  {
   "cell_type": "code",
   "execution_count": 29,
   "metadata": {},
   "outputs": [
    {
     "name": "stdout",
     "output_type": "stream",
     "text": [
      "Средний размер гранул в обучающей выборке для первичной очистки 7.32\n",
      "Средний размер гранул в тестовой выборке для первичной очистки 7.27\n"
     ]
    },
    {
     "data": {
      "image/png": "[encoded data removed]",
      "text/plain": [
       "<Figure size 720x504 with 1 Axes>"
      ]
     },
     "metadata": {
      "needs_background": "light"
     },
     "output_type": "display_data"
    }
   ],
   "source": [
    "size ('primary_cleaner', 'первичной очистки')"
   ]
  },
  {
   "cell_type": "markdown",
   "metadata": {},
   "source": [
    "**- распределения размеров гранул сырья на обучающей и тестовой выборках на этапе флотации отличаются**  \n",
    "**- это может быть связано с разницей в размерах выборок**  \n",
    "**- средние при этом различаются незначительно (погрешность порядка 7%)**  \n",
    "**- при первичной очистки, распределения очень даже похожи, средние практически не отличаются**  \n",
    "**- следовательно можно говорить ,что распределения тестовой и обучающей выборок не отличаются**"
   ]
  },
  {
   "cell_type": "markdown",
   "metadata": {},
   "source": [
    "### Суммарная концентрация всех веществ на разных стадиях"
   ]
  },
  {
   "cell_type": "code",
   "execution_count": 30,
   "metadata": {},
   "outputs": [],
   "source": [
    "#Исследуйем суммарную концентрацию всех веществ на разных стадиях: в сырье, в черновом и финальном концентратах.\n",
    "stage = ['rougher.input.feed_',\n",
    "         'rougher.output.concentrate_', \n",
    "         'final.output.concentrate_']\n",
    "for i in stage:\n",
    "    train[i] = train[i + 'au'] + train[i + 'ag'] + train[i + 'pb'] + train[i + 'sol']"
   ]
  },
  {
   "cell_type": "code",
   "execution_count": 31,
   "metadata": {},
   "outputs": [
    {
     "data": {
      "text/plain": [
       "Text(0.5, 1.0, 'Суммарная концентрация всех веществ на разных стадиях')"
      ]
     },
     "execution_count": 31,
     "metadata": {},
     "output_type": "execute_result"
    },
    {
     "data": {
      "image/png": "[encoded data removed]",
      "text/plain": [
       "<Figure size 720x504 with 1 Axes>"
      ]
     },
     "metadata": {
      "needs_background": "light"
     },
     "output_type": "display_data"
    }
   ],
   "source": [
    "plt.figure(figsize=(10, 7))\n",
    "sns.distplot(train['rougher.input.feed_'], kde_kws= {\"label\": \"Сырье\"})\n",
    "sns.distplot(train['rougher.output.concentrate_'], kde_kws= {\"label\": \"Черновой концентрат\"})\n",
    "sns.distplot(train['final.output.concentrate_'], kde_kws= {\"label\": \"Финальный концентрат\"})\n",
    "plt.xlabel('Концентрация')\n",
    "plt.ylabel('Количество наблюдений')\n",
    "plt.title(label='Суммарная концентрация всех веществ на разных стадиях')"
   ]
  },
  {
   "cell_type": "code",
   "execution_count": 32,
   "metadata": {},
   "outputs": [],
   "source": [
    "train_new = train[(train['rougher.input.feed_'] > 40)\n",
    "                  & (train['rougher.output.concentrate_'] > 50)\n",
    "                  & (train['final.output.concentrate_'] > 60)]"
   ]
  },
  {
   "cell_type": "markdown",
   "metadata": {},
   "source": [
    "**- концентрация веществ растет вместе со сменой стадий**  \n",
    "**- по распределению видно, что присутствуют выбросы**  \n",
    "**- есть много значений с концентрацией веществ менее 40-60**  \n",
    "**- их достаточно много (около 8,5%), при этом частота их повторения стремиться к нулю**  \n",
    "**- удалим их из обучающей выборки, чтобы не мешали обучению модели**  \n",
    "**- из тестовой модели данные значения удалять не будем, для более репрезентативного теста**"
   ]
  },
  {
   "cell_type": "markdown",
   "metadata": {},
   "source": [
    "## Модель"
   ]
  },
  {
   "cell_type": "markdown",
   "metadata": {},
   "source": [
    "### sMAPE"
   ]
  },
  {
   "cell_type": "code",
   "execution_count": 33,
   "metadata": {},
   "outputs": [],
   "source": [
    "#целевые признаки - эффективность обогащения чернового концентрата и эффективность обогащения финального концентрата"
   ]
  },
  {
   "cell_type": "code",
   "execution_count": 34,
   "metadata": {},
   "outputs": [],
   "source": [
    "features = train_new[test.columns] #колонки из тестовой выборки\n",
    "targets=train_new[['rougher.output.recovery','final.output.recovery']] # Формируем выборку целевых признаков"
   ]
  },
  {
   "cell_type": "code",
   "execution_count": 35,
   "metadata": {},
   "outputs": [],
   "source": [
    "#проведем стандартизацию данных\n",
    "scaler = StandardScaler()\n",
    "scaler.fit(features)\n",
    "features = scaler.transform(features)\n",
    "features = pd.DataFrame (features) #первеодим в DF для расчета 2-го варианта кросс-валидации через iloc\n",
    "test = scaler.transform(test)"
   ]
  },
  {
   "cell_type": "code",
   "execution_count": 36,
   "metadata": {},
   "outputs": [],
   "source": [
    "# Функция sMAPE\n",
    "def smape(target, predict):\n",
    "    predict_rougher=predict[:,0]\n",
    "    target_rougher=target[:,0]\n",
    "    predict_final=predict[:,1]\n",
    "    target_final=target[:,1]\n",
    "    smape_rougher = (1/len(predict_rougher))*np.sum(np.abs(target_rougher - predict_rougher)\n",
    "                                                    /((np.abs(target_rougher)+np.abs(predict_rougher))/2)) * 100\n",
    "    smape_final = (1/len(predict_final))*np.sum(np.abs(target_final - predict_final)\n",
    "                                                /((np.abs(target_final)+np.abs(predict_final))/2)) * 100\n",
    "    return 0.25*smape_rougher+0.75*smape_final"
   ]
  },
  {
   "cell_type": "markdown",
   "metadata": {},
   "source": [
    "### Модели"
   ]
  },
  {
   "cell_type": "markdown",
   "metadata": {},
   "source": [
    "#### Линейная регрессия"
   ]
  },
  {
   "cell_type": "code",
   "execution_count": 37,
   "metadata": {},
   "outputs": [
    {
     "data": {
      "text/plain": [
       "LinearRegression(copy_X=True, fit_intercept=True, n_jobs=None, normalize=False)"
      ]
     },
     "execution_count": 37,
     "metadata": {},
     "output_type": "execute_result"
    }
   ],
   "source": [
    "model_line = LinearRegression()\n",
    "model_line.fit (features, targets)"
   ]
  },
  {
   "cell_type": "code",
   "execution_count": 40,
   "metadata": {},
   "outputs": [
    {
     "name": "stdout",
     "output_type": "stream",
     "text": [
      "sMAPE при кросс-валидации 9.38\n",
      "CPU times: user 588 ms, sys: 709 ms, total: 1.3 s\n",
      "Wall time: 1.15 s\n"
     ]
    }
   ],
   "source": [
    "%%time\n",
    "score = make_scorer(smape)\n",
    "                    #, greater_is_better=False)\n",
    "scores_line = cross_val_score(model_line, features, targets.values, cv=5, scoring=score)\n",
    "print('sMAPE при кросс-валидации', round(scores_line.mean(), 3))"
   ]
  },
  {
   "cell_type": "markdown",
   "metadata": {},
   "source": [
    "#### Дерево решений"
   ]
  },
  {
   "cell_type": "code",
   "execution_count": 546,
   "metadata": {},
   "outputs": [
    {
     "name": "stdout",
     "output_type": "stream",
     "text": [
      "Глубина дерева 2 sMAPE 8.386\n",
      "CPU times: user 3.56 s, sys: 71.4 ms, total: 3.63 s\n",
      "Wall time: 3.65 s\n"
     ]
    }
   ],
   "source": [
    "%%time\n",
    "n = 1000\n",
    "max_depth = 0\n",
    "for depth in range(1,5,1):\n",
    "    model_tree = DecisionTreeRegressor(max_depth = depth, random_state = RS)\n",
    "    score_tree = cross_val_score(model_tree, features, targets.values, cv=5, scoring=score).mean()\n",
    "    if score_tree < n:\n",
    "        n = score_tree\n",
    "        max_depth = depth\n",
    "print ('Глубина дерева', max_depth, 'sMAPE', round(n, 3))"
   ]
  },
  {
   "cell_type": "markdown",
   "metadata": {},
   "source": [
    "#### Случайный лес"
   ]
  },
  {
   "cell_type": "code",
   "execution_count": 547,
   "metadata": {},
   "outputs": [
    {
     "name": "stdout",
     "output_type": "stream",
     "text": [
      "Количество деревьев 6 Глубина дерева 2 sMAPE 8.215\n",
      "CPU times: user 15.9 s, sys: 199 ms, total: 16.1 s\n",
      "Wall time: 16.1 s\n"
     ]
    }
   ],
   "source": [
    "%%time\n",
    "n = 1000\n",
    "max_depth = 0\n",
    "forest = 0\n",
    "for estim in range(5,10,1):\n",
    "    for depth in range(2,3,1):\n",
    "        model_forest = RandomForestRegressor(max_depth = depth, n_estimators = estim, random_state = RS)\n",
    "        score_forest = cross_val_score(model_forest, features, targets.values, cv=5, scoring = score).mean()\n",
    "        if score_forest < n:\n",
    "            n = score_forest\n",
    "            max_depth = depth\n",
    "            forest = estim\n",
    "print ('Количество деревьев', forest ,'Глубина дерева', max_depth, 'sMAPE', round(n, 3))"
   ]
  },
  {
   "cell_type": "markdown",
   "metadata": {},
   "source": [
    "**Наилучший результат sMAPE у модели \"Случайные лес\" с количеством деревьев 6 и глубиной дерева 2. sMAPE = 8.215**"
   ]
  },
  {
   "cell_type": "markdown",
   "metadata": {},
   "source": [
    "#### Проверка лучшей модели на тестовой выборке"
   ]
  },
  {
   "cell_type": "code",
   "execution_count": 548,
   "metadata": {},
   "outputs": [
    {
     "name": "stdout",
     "output_type": "stream",
     "text": [
      "sMAPE тестовой модели 9.26\n"
     ]
    }
   ],
   "source": [
    "model_test = RandomForestRegressor(max_depth = 2, n_estimators = 6, random_state = RS)\n",
    "model_test.fit(features, targets)\n",
    "prediction_test = model_test.predict(test)\n",
    "smape_test = smape(target_test.values, prediction_test)\n",
    "print ('sMAPE тестовой модели', round(smape_test, 3))"
   ]
  },
  {
   "cell_type": "markdown",
   "metadata": {},
   "source": [
    "**- Наилучший результат sMAPE у модели \"Случайный лес - 8.215**  \n",
    "**- На тестовой выборке данная модель показала результат хуже - 9.26**  \n",
    "**- Остальные модели показывали разницу с тестовой выборкой еще в большем размере**    \n",
    "**- Это может быть связано с размером выборки, аномальными значениями в тесте и изменением гиперпараметров модели**  \n",
    "**- При наличии вычислительных мощностей можно сделать балансировку данных и перебрать различные гиперпараметры**  \n",
    "**- Аномальные значения из теста я бы не убирал, так как это будет фактически подгонка под результат**  \n",
    "**- Если не убирать аномальные значения из обучающей выборки - значения sMAPE у моделей вырастит, но будет ближе к результатам тестовой модели**  \n",
    "**- Но в данном случае неизвестно как модель будет себя вести на большей выборке с большим количеством выбросов**"
   ]
  }
 ],
 "metadata": {
  "ExecuteTimeLog": [
   {
    "duration": 3,
    "start_time": "2022-02-21T07:21:27.464Z"
   },
   {
    "duration": 685,
    "start_time": "2022-02-21T07:22:41.657Z"
   },
   {
    "duration": 311,
    "start_time": "2022-02-21T07:24:50.825Z"
   },
   {
    "duration": 785,
    "start_time": "2022-02-21T07:26:03.866Z"
   },
   {
    "duration": 778,
    "start_time": "2022-02-21T07:32:45.633Z"
   },
   {
    "duration": 17,
    "start_time": "2022-02-21T07:34:25.433Z"
   },
   {
    "duration": 1352,
    "start_time": "2022-02-21T07:35:06.345Z"
   },
   {
    "duration": 1346,
    "start_time": "2022-02-21T07:38:00.345Z"
   },
   {
    "duration": 10,
    "start_time": "2022-02-21T07:57:36.864Z"
   },
   {
    "duration": 5,
    "start_time": "2022-02-21T07:57:57.153Z"
   },
   {
    "duration": 5,
    "start_time": "2022-02-21T07:58:09.704Z"
   },
   {
    "duration": 4,
    "start_time": "2022-02-21T07:58:22.144Z"
   },
   {
    "duration": 4,
    "start_time": "2022-02-21T07:58:28.065Z"
   },
   {
    "duration": 24,
    "start_time": "2022-02-21T08:05:29.112Z"
   },
   {
    "duration": 22,
    "start_time": "2022-02-21T08:05:54.503Z"
   },
   {
    "duration": 22,
    "start_time": "2022-02-21T08:06:16.624Z"
   },
   {
    "duration": 23,
    "start_time": "2022-02-21T08:06:39.303Z"
   },
   {
    "duration": 14,
    "start_time": "2022-02-21T08:07:23.145Z"
   },
   {
    "duration": 265,
    "start_time": "2022-02-21T08:07:54.857Z"
   },
   {
    "duration": 251,
    "start_time": "2022-02-21T08:08:03.104Z"
   },
   {
    "duration": 250,
    "start_time": "2022-02-21T08:08:17.383Z"
   },
   {
    "duration": 278,
    "start_time": "2022-02-21T08:10:56.144Z"
   },
   {
    "duration": 151,
    "start_time": "2022-02-21T08:10:58.824Z"
   },
   {
    "duration": 305,
    "start_time": "2022-02-21T08:11:01.385Z"
   },
   {
    "duration": 13,
    "start_time": "2022-02-21T08:11:29.904Z"
   },
   {
    "duration": 12,
    "start_time": "2022-02-21T08:17:58.744Z"
   },
   {
    "duration": 18,
    "start_time": "2022-02-21T08:18:08.225Z"
   },
   {
    "duration": 5,
    "start_time": "2022-02-21T08:25:41.425Z"
   },
   {
    "duration": 212,
    "start_time": "2022-02-21T08:35:30.624Z"
   },
   {
    "duration": 285,
    "start_time": "2022-02-21T09:00:02.304Z"
   },
   {
    "duration": 273,
    "start_time": "2022-02-21T09:01:26.255Z"
   },
   {
    "duration": 575,
    "start_time": "2022-02-21T09:13:37.318Z"
   },
   {
    "duration": 10144,
    "start_time": "2022-02-21T09:13:49.703Z"
   },
   {
    "duration": 3,
    "start_time": "2022-02-21T09:14:28.825Z"
   },
   {
    "duration": 767,
    "start_time": "2022-02-21T09:14:28.835Z"
   },
   {
    "duration": 3,
    "start_time": "2022-02-21T09:14:29.604Z"
   },
   {
    "duration": 286,
    "start_time": "2022-02-21T09:14:29.609Z"
   },
   {
    "duration": 161,
    "start_time": "2022-02-21T09:14:29.897Z"
   },
   {
    "duration": 296,
    "start_time": "2022-02-21T09:14:30.059Z"
   },
   {
    "duration": 21,
    "start_time": "2022-02-21T09:14:30.357Z"
   },
   {
    "duration": 18,
    "start_time": "2022-02-21T09:14:30.380Z"
   },
   {
    "duration": 18,
    "start_time": "2022-02-21T09:14:30.400Z"
   },
   {
    "duration": 236,
    "start_time": "2022-02-21T09:14:30.421Z"
   },
   {
    "duration": 7987,
    "start_time": "2022-02-21T09:14:30.659Z"
   },
   {
    "duration": 519,
    "start_time": "2022-02-21T09:14:38.129Z"
   },
   {
    "duration": 37,
    "start_time": "2022-02-21T09:19:23.576Z"
   },
   {
    "duration": 15,
    "start_time": "2022-02-21T09:24:39.944Z"
   },
   {
    "duration": 9,
    "start_time": "2022-02-21T09:25:34.143Z"
   },
   {
    "duration": 7,
    "start_time": "2022-02-21T09:26:09.751Z"
   },
   {
    "duration": 7,
    "start_time": "2022-02-21T09:26:23.855Z"
   },
   {
    "duration": 7,
    "start_time": "2022-02-21T09:26:29.783Z"
   },
   {
    "duration": 6,
    "start_time": "2022-02-21T09:26:35.511Z"
   },
   {
    "duration": 7,
    "start_time": "2022-02-21T09:27:06.831Z"
   },
   {
    "duration": 8,
    "start_time": "2022-02-21T09:28:04.024Z"
   },
   {
    "duration": 468,
    "start_time": "2022-02-21T09:29:51.824Z"
   },
   {
    "duration": 501,
    "start_time": "2022-02-21T09:30:00.904Z"
   },
   {
    "duration": 6,
    "start_time": "2022-02-21T09:30:05.544Z"
   },
   {
    "duration": 6,
    "start_time": "2022-02-21T09:33:49.505Z"
   },
   {
    "duration": 7,
    "start_time": "2022-02-21T09:37:46.625Z"
   },
   {
    "duration": 6,
    "start_time": "2022-02-21T09:38:00.913Z"
   },
   {
    "duration": 21,
    "start_time": "2022-02-21T09:50:58.112Z"
   },
   {
    "duration": 27,
    "start_time": "2022-02-21T09:55:11.152Z"
   },
   {
    "duration": 26,
    "start_time": "2022-02-21T10:08:35.671Z"
   },
   {
    "duration": 12,
    "start_time": "2022-02-21T10:08:45.151Z"
   },
   {
    "duration": 11,
    "start_time": "2022-02-21T10:08:50.632Z"
   },
   {
    "duration": 11,
    "start_time": "2022-02-21T10:09:00.920Z"
   },
   {
    "duration": 12,
    "start_time": "2022-02-21T10:09:07.471Z"
   },
   {
    "duration": 20,
    "start_time": "2022-02-21T10:10:26.613Z"
   },
   {
    "duration": 19,
    "start_time": "2022-02-21T10:10:47.232Z"
   },
   {
    "duration": 10,
    "start_time": "2022-02-21T10:10:57.232Z"
   },
   {
    "duration": 23,
    "start_time": "2022-02-21T10:11:10.311Z"
   },
   {
    "duration": 14,
    "start_time": "2022-02-21T10:11:45.032Z"
   },
   {
    "duration": 16,
    "start_time": "2022-02-21T10:11:57.719Z"
   },
   {
    "duration": 26,
    "start_time": "2022-02-21T10:12:10.431Z"
   },
   {
    "duration": 26,
    "start_time": "2022-02-21T10:12:54.319Z"
   },
   {
    "duration": 25,
    "start_time": "2022-02-21T10:13:09.992Z"
   },
   {
    "duration": 3,
    "start_time": "2022-02-21T10:13:33.914Z"
   },
   {
    "duration": 776,
    "start_time": "2022-02-21T10:13:33.918Z"
   },
   {
    "duration": 2,
    "start_time": "2022-02-21T10:13:34.697Z"
   },
   {
    "duration": 286,
    "start_time": "2022-02-21T10:13:34.702Z"
   },
   {
    "duration": 169,
    "start_time": "2022-02-21T10:13:34.991Z"
   },
   {
    "duration": 304,
    "start_time": "2022-02-21T10:13:35.168Z"
   },
   {
    "duration": 19,
    "start_time": "2022-02-21T10:13:35.474Z"
   },
   {
    "duration": 12,
    "start_time": "2022-02-21T10:13:35.497Z"
   },
   {
    "duration": 19,
    "start_time": "2022-02-21T10:13:35.512Z"
   },
   {
    "duration": 269,
    "start_time": "2022-02-21T10:13:35.533Z"
   },
   {
    "duration": 15,
    "start_time": "2022-02-21T10:13:35.804Z"
   },
   {
    "duration": 8,
    "start_time": "2022-02-21T10:13:35.821Z"
   },
   {
    "duration": 12,
    "start_time": "2022-02-21T10:13:35.831Z"
   },
   {
    "duration": 6,
    "start_time": "2022-02-21T10:13:35.870Z"
   },
   {
    "duration": 26,
    "start_time": "2022-02-21T10:13:35.878Z"
   },
   {
    "duration": 3,
    "start_time": "2022-02-21T10:13:52.234Z"
   },
   {
    "duration": 730,
    "start_time": "2022-02-21T10:13:52.239Z"
   },
   {
    "duration": 3,
    "start_time": "2022-02-21T10:13:52.971Z"
   },
   {
    "duration": 262,
    "start_time": "2022-02-21T10:13:52.976Z"
   },
   {
    "duration": 163,
    "start_time": "2022-02-21T10:13:53.240Z"
   },
   {
    "duration": 289,
    "start_time": "2022-02-21T10:13:53.405Z"
   },
   {
    "duration": 17,
    "start_time": "2022-02-21T10:13:53.696Z"
   },
   {
    "duration": 13,
    "start_time": "2022-02-21T10:13:53.714Z"
   },
   {
    "duration": 43,
    "start_time": "2022-02-21T10:13:53.729Z"
   },
   {
    "duration": 222,
    "start_time": "2022-02-21T10:13:53.774Z"
   },
   {
    "duration": 15,
    "start_time": "2022-02-21T10:13:53.999Z"
   },
   {
    "duration": 6,
    "start_time": "2022-02-21T10:13:54.016Z"
   },
   {
    "duration": 12,
    "start_time": "2022-02-21T10:13:54.025Z"
   },
   {
    "duration": 6,
    "start_time": "2022-02-21T10:13:54.039Z"
   },
   {
    "duration": 23,
    "start_time": "2022-02-21T10:13:54.070Z"
   },
   {
    "duration": 3,
    "start_time": "2022-02-21T10:15:04.033Z"
   },
   {
    "duration": 712,
    "start_time": "2022-02-21T10:15:04.038Z"
   },
   {
    "duration": 2,
    "start_time": "2022-02-21T10:15:04.753Z"
   },
   {
    "duration": 295,
    "start_time": "2022-02-21T10:15:04.757Z"
   },
   {
    "duration": 160,
    "start_time": "2022-02-21T10:15:05.054Z"
   },
   {
    "duration": 298,
    "start_time": "2022-02-21T10:15:05.215Z"
   },
   {
    "duration": 16,
    "start_time": "2022-02-21T10:15:05.515Z"
   },
   {
    "duration": 17,
    "start_time": "2022-02-21T10:15:05.533Z"
   },
   {
    "duration": 61,
    "start_time": "2022-02-21T10:15:05.553Z"
   },
   {
    "duration": 222,
    "start_time": "2022-02-21T10:15:05.616Z"
   },
   {
    "duration": 17,
    "start_time": "2022-02-21T10:15:05.840Z"
   },
   {
    "duration": 14,
    "start_time": "2022-02-21T10:15:05.859Z"
   },
   {
    "duration": 30,
    "start_time": "2022-02-21T10:15:05.875Z"
   },
   {
    "duration": 33,
    "start_time": "2022-02-21T10:15:05.907Z"
   },
   {
    "duration": 21,
    "start_time": "2022-02-21T10:15:05.942Z"
   },
   {
    "duration": 456,
    "start_time": "2022-02-21T10:15:48.151Z"
   },
   {
    "duration": 167,
    "start_time": "2022-02-21T10:16:07.512Z"
   },
   {
    "duration": 446,
    "start_time": "2022-02-21T10:16:15.552Z"
   },
   {
    "duration": 3,
    "start_time": "2022-02-21T10:16:54.032Z"
   },
   {
    "duration": 769,
    "start_time": "2022-02-21T10:16:54.037Z"
   },
   {
    "duration": 2,
    "start_time": "2022-02-21T10:16:54.809Z"
   },
   {
    "duration": 282,
    "start_time": "2022-02-21T10:16:54.813Z"
   },
   {
    "duration": 160,
    "start_time": "2022-02-21T10:16:55.097Z"
   },
   {
    "duration": 284,
    "start_time": "2022-02-21T10:16:55.259Z"
   },
   {
    "duration": 24,
    "start_time": "2022-02-21T10:16:55.545Z"
   },
   {
    "duration": 11,
    "start_time": "2022-02-21T10:16:55.571Z"
   },
   {
    "duration": 29,
    "start_time": "2022-02-21T10:16:55.585Z"
   },
   {
    "duration": 223,
    "start_time": "2022-02-21T10:16:55.616Z"
   },
   {
    "duration": 14,
    "start_time": "2022-02-21T10:16:55.841Z"
   },
   {
    "duration": 27,
    "start_time": "2022-02-21T10:16:55.857Z"
   },
   {
    "duration": 27,
    "start_time": "2022-02-21T10:16:55.886Z"
   },
   {
    "duration": 14,
    "start_time": "2022-02-21T10:16:55.914Z"
   },
   {
    "duration": 35,
    "start_time": "2022-02-21T10:16:55.930Z"
   },
   {
    "duration": 11,
    "start_time": "2022-02-21T10:17:48.792Z"
   },
   {
    "duration": 3,
    "start_time": "2022-02-21T10:18:00.793Z"
   },
   {
    "duration": 751,
    "start_time": "2022-02-21T10:18:00.798Z"
   },
   {
    "duration": 3,
    "start_time": "2022-02-21T10:18:01.551Z"
   },
   {
    "duration": 256,
    "start_time": "2022-02-21T10:18:01.555Z"
   },
   {
    "duration": 160,
    "start_time": "2022-02-21T10:18:01.813Z"
   },
   {
    "duration": 287,
    "start_time": "2022-02-21T10:18:01.974Z"
   },
   {
    "duration": 18,
    "start_time": "2022-02-21T10:18:02.262Z"
   },
   {
    "duration": 11,
    "start_time": "2022-02-21T10:18:02.282Z"
   },
   {
    "duration": 20,
    "start_time": "2022-02-21T10:18:02.296Z"
   },
   {
    "duration": 260,
    "start_time": "2022-02-21T10:18:02.318Z"
   },
   {
    "duration": 14,
    "start_time": "2022-02-21T10:18:02.580Z"
   },
   {
    "duration": 10,
    "start_time": "2022-02-21T10:18:02.596Z"
   },
   {
    "duration": 6,
    "start_time": "2022-02-21T10:18:02.608Z"
   },
   {
    "duration": 9,
    "start_time": "2022-02-21T10:18:02.616Z"
   },
   {
    "duration": 14,
    "start_time": "2022-02-21T10:18:02.627Z"
   },
   {
    "duration": 1561,
    "start_time": "2022-02-21T10:20:09.031Z"
   },
   {
    "duration": 14,
    "start_time": "2022-02-21T10:20:22.791Z"
   },
   {
    "duration": 3,
    "start_time": "2022-02-21T10:20:50.151Z"
   },
   {
    "duration": 731,
    "start_time": "2022-02-21T10:20:50.156Z"
   },
   {
    "duration": 2,
    "start_time": "2022-02-21T10:20:50.890Z"
   },
   {
    "duration": 272,
    "start_time": "2022-02-21T10:20:50.894Z"
   },
   {
    "duration": 157,
    "start_time": "2022-02-21T10:20:51.169Z"
   },
   {
    "duration": 274,
    "start_time": "2022-02-21T10:20:51.328Z"
   },
   {
    "duration": 15,
    "start_time": "2022-02-21T10:20:51.604Z"
   },
   {
    "duration": 11,
    "start_time": "2022-02-21T10:20:51.622Z"
   },
   {
    "duration": 39,
    "start_time": "2022-02-21T10:20:51.635Z"
   },
   {
    "duration": 209,
    "start_time": "2022-02-21T10:20:51.676Z"
   },
   {
    "duration": 13,
    "start_time": "2022-02-21T10:20:51.887Z"
   },
   {
    "duration": 6,
    "start_time": "2022-02-21T10:20:51.902Z"
   },
   {
    "duration": 8,
    "start_time": "2022-02-21T10:20:51.909Z"
   },
   {
    "duration": 6,
    "start_time": "2022-02-21T10:20:51.918Z"
   },
   {
    "duration": 49,
    "start_time": "2022-02-21T10:20:51.925Z"
   },
   {
    "duration": 20,
    "start_time": "2022-02-21T10:22:28.151Z"
   },
   {
    "duration": 3,
    "start_time": "2022-02-21T10:22:35.192Z"
   },
   {
    "duration": 2200,
    "start_time": "2022-02-21T10:22:35.197Z"
   },
   {
    "duration": 3,
    "start_time": "2022-02-21T10:22:37.399Z"
   },
   {
    "duration": 270,
    "start_time": "2022-02-21T10:22:37.404Z"
   },
   {
    "duration": 154,
    "start_time": "2022-02-21T10:22:37.676Z"
   },
   {
    "duration": 282,
    "start_time": "2022-02-21T10:22:37.832Z"
   },
   {
    "duration": 17,
    "start_time": "2022-02-21T10:22:38.115Z"
   },
   {
    "duration": 11,
    "start_time": "2022-02-21T10:22:38.134Z"
   },
   {
    "duration": 38,
    "start_time": "2022-02-21T10:22:38.147Z"
   },
   {
    "duration": 224,
    "start_time": "2022-02-21T10:22:38.187Z"
   },
   {
    "duration": 14,
    "start_time": "2022-02-21T10:22:38.414Z"
   },
   {
    "duration": 6,
    "start_time": "2022-02-21T10:22:38.429Z"
   },
   {
    "duration": 8,
    "start_time": "2022-02-21T10:22:38.436Z"
   },
   {
    "duration": 26,
    "start_time": "2022-02-21T10:22:38.445Z"
   },
   {
    "duration": 25,
    "start_time": "2022-02-21T10:22:38.473Z"
   },
   {
    "duration": 38,
    "start_time": "2022-02-21T10:24:03.999Z"
   },
   {
    "duration": 3,
    "start_time": "2022-02-21T10:26:28.552Z"
   },
   {
    "duration": 704,
    "start_time": "2022-02-21T10:26:28.557Z"
   },
   {
    "duration": 6,
    "start_time": "2022-02-21T10:26:29.263Z"
   },
   {
    "duration": 266,
    "start_time": "2022-02-21T10:26:29.271Z"
   },
   {
    "duration": 160,
    "start_time": "2022-02-21T10:26:29.539Z"
   },
   {
    "duration": 289,
    "start_time": "2022-02-21T10:26:29.700Z"
   },
   {
    "duration": 16,
    "start_time": "2022-02-21T10:26:29.991Z"
   },
   {
    "duration": 18,
    "start_time": "2022-02-21T10:26:30.009Z"
   },
   {
    "duration": 38,
    "start_time": "2022-02-21T10:26:30.032Z"
   },
   {
    "duration": 223,
    "start_time": "2022-02-21T10:26:30.072Z"
   },
   {
    "duration": 14,
    "start_time": "2022-02-21T10:26:30.297Z"
   },
   {
    "duration": 12,
    "start_time": "2022-02-21T10:26:30.313Z"
   },
   {
    "duration": 64,
    "start_time": "2022-02-21T10:26:30.327Z"
   },
   {
    "duration": 31,
    "start_time": "2022-02-21T10:26:30.393Z"
   },
   {
    "duration": 51,
    "start_time": "2022-02-21T10:26:30.427Z"
   },
   {
    "duration": 14,
    "start_time": "2022-02-21T10:27:43.200Z"
   },
   {
    "duration": 20,
    "start_time": "2022-02-21T10:28:17.759Z"
   },
   {
    "duration": 2,
    "start_time": "2022-02-21T10:28:21.511Z"
   },
   {
    "duration": 724,
    "start_time": "2022-02-21T10:28:21.516Z"
   },
   {
    "duration": 2,
    "start_time": "2022-02-21T10:28:22.242Z"
   },
   {
    "duration": 272,
    "start_time": "2022-02-21T10:28:22.246Z"
   },
   {
    "duration": 159,
    "start_time": "2022-02-21T10:28:22.520Z"
   },
   {
    "duration": 336,
    "start_time": "2022-02-21T10:28:22.681Z"
   },
   {
    "duration": 16,
    "start_time": "2022-02-21T10:28:23.019Z"
   },
   {
    "duration": 12,
    "start_time": "2022-02-21T10:28:23.037Z"
   },
   {
    "duration": 18,
    "start_time": "2022-02-21T10:28:23.069Z"
   },
   {
    "duration": 226,
    "start_time": "2022-02-21T10:28:23.089Z"
   },
   {
    "duration": 14,
    "start_time": "2022-02-21T10:28:23.317Z"
   },
   {
    "duration": 6,
    "start_time": "2022-02-21T10:28:23.333Z"
   },
   {
    "duration": 5,
    "start_time": "2022-02-21T10:28:23.341Z"
   },
   {
    "duration": 24,
    "start_time": "2022-02-21T10:28:23.348Z"
   },
   {
    "duration": 22,
    "start_time": "2022-02-21T10:28:23.374Z"
   },
   {
    "duration": 13,
    "start_time": "2022-02-21T10:32:21.111Z"
   },
   {
    "duration": 516,
    "start_time": "2022-02-21T10:32:42.353Z"
   },
   {
    "duration": 3,
    "start_time": "2022-02-21T10:32:49.338Z"
   },
   {
    "duration": 689,
    "start_time": "2022-02-21T10:32:49.343Z"
   },
   {
    "duration": 3,
    "start_time": "2022-02-21T10:32:50.035Z"
   },
   {
    "duration": 270,
    "start_time": "2022-02-21T10:32:50.040Z"
   },
   {
    "duration": 154,
    "start_time": "2022-02-21T10:32:50.312Z"
   },
   {
    "duration": 289,
    "start_time": "2022-02-21T10:32:50.470Z"
   },
   {
    "duration": 20,
    "start_time": "2022-02-21T10:32:50.761Z"
   },
   {
    "duration": 12,
    "start_time": "2022-02-21T10:32:50.783Z"
   },
   {
    "duration": 19,
    "start_time": "2022-02-21T10:32:50.798Z"
   },
   {
    "duration": 259,
    "start_time": "2022-02-21T10:32:50.820Z"
   },
   {
    "duration": 18,
    "start_time": "2022-02-21T10:32:51.080Z"
   },
   {
    "duration": 9,
    "start_time": "2022-02-21T10:32:51.100Z"
   },
   {
    "duration": 8,
    "start_time": "2022-02-21T10:32:51.112Z"
   },
   {
    "duration": 7,
    "start_time": "2022-02-21T10:32:51.122Z"
   },
   {
    "duration": 54,
    "start_time": "2022-02-21T10:32:51.131Z"
   },
   {
    "duration": 14,
    "start_time": "2022-02-21T10:32:51.188Z"
   },
   {
    "duration": 142,
    "start_time": "2022-02-21T10:38:28.888Z"
   },
   {
    "duration": 2394,
    "start_time": "2022-02-21T10:40:27.511Z"
   },
   {
    "duration": 1449,
    "start_time": "2022-02-21T10:41:16.231Z"
   },
   {
    "duration": 334,
    "start_time": "2022-02-21T10:41:26.151Z"
   },
   {
    "duration": 336,
    "start_time": "2022-02-21T10:42:22.039Z"
   },
   {
    "duration": 423,
    "start_time": "2022-02-21T10:42:35.719Z"
   },
   {
    "duration": 4,
    "start_time": "2022-02-21T10:42:49.072Z"
   },
   {
    "duration": 664,
    "start_time": "2022-02-21T10:42:54.911Z"
   },
   {
    "duration": 4,
    "start_time": "2022-02-21T10:43:16.910Z"
   },
   {
    "duration": 678,
    "start_time": "2022-02-21T10:43:16.916Z"
   },
   {
    "duration": 3,
    "start_time": "2022-02-21T10:43:17.596Z"
   },
   {
    "duration": 305,
    "start_time": "2022-02-21T10:43:17.601Z"
   },
   {
    "duration": 160,
    "start_time": "2022-02-21T10:43:17.908Z"
   },
   {
    "duration": 285,
    "start_time": "2022-02-21T10:43:18.070Z"
   },
   {
    "duration": 22,
    "start_time": "2022-02-21T10:43:18.357Z"
   },
   {
    "duration": 31,
    "start_time": "2022-02-21T10:43:18.382Z"
   },
   {
    "duration": 32,
    "start_time": "2022-02-21T10:43:18.416Z"
   },
   {
    "duration": 223,
    "start_time": "2022-02-21T10:43:18.450Z"
   },
   {
    "duration": 21,
    "start_time": "2022-02-21T10:43:18.676Z"
   },
   {
    "duration": 10,
    "start_time": "2022-02-21T10:43:18.699Z"
   },
   {
    "duration": 29,
    "start_time": "2022-02-21T10:43:18.712Z"
   },
   {
    "duration": 26,
    "start_time": "2022-02-21T10:43:18.743Z"
   },
   {
    "duration": 25,
    "start_time": "2022-02-21T10:43:18.771Z"
   },
   {
    "duration": 39,
    "start_time": "2022-02-21T10:43:18.798Z"
   },
   {
    "duration": 401,
    "start_time": "2022-02-21T10:43:18.839Z"
   },
   {
    "duration": 294,
    "start_time": "2022-02-21T10:44:42.647Z"
   },
   {
    "duration": 287,
    "start_time": "2022-02-21T10:46:05.472Z"
   },
   {
    "duration": 398,
    "start_time": "2022-02-21T10:46:18.159Z"
   },
   {
    "duration": 287,
    "start_time": "2022-02-21T10:46:27.792Z"
   },
   {
    "duration": 639,
    "start_time": "2022-02-21T10:47:10.033Z"
   },
   {
    "duration": 707,
    "start_time": "2022-02-21T10:47:31.672Z"
   },
   {
    "duration": 275,
    "start_time": "2022-02-21T10:47:45.911Z"
   },
   {
    "duration": 4,
    "start_time": "2022-02-21T10:49:03.191Z"
   },
   {
    "duration": 399,
    "start_time": "2022-02-21T10:49:40.079Z"
   },
   {
    "duration": 784,
    "start_time": "2022-02-21T10:50:00.678Z"
   },
   {
    "duration": 3,
    "start_time": "2022-02-21T10:50:07.112Z"
   },
   {
    "duration": 739,
    "start_time": "2022-02-21T10:50:07.118Z"
   },
   {
    "duration": 2,
    "start_time": "2022-02-21T10:50:07.860Z"
   },
   {
    "duration": 280,
    "start_time": "2022-02-21T10:50:07.869Z"
   },
   {
    "duration": 159,
    "start_time": "2022-02-21T10:50:08.151Z"
   },
   {
    "duration": 294,
    "start_time": "2022-02-21T10:50:08.311Z"
   },
   {
    "duration": 17,
    "start_time": "2022-02-21T10:50:08.607Z"
   },
   {
    "duration": 11,
    "start_time": "2022-02-21T10:50:08.626Z"
   },
   {
    "duration": 40,
    "start_time": "2022-02-21T10:50:08.641Z"
   },
   {
    "duration": 235,
    "start_time": "2022-02-21T10:50:08.684Z"
   },
   {
    "duration": 16,
    "start_time": "2022-02-21T10:50:08.921Z"
   },
   {
    "duration": 7,
    "start_time": "2022-02-21T10:50:08.939Z"
   },
   {
    "duration": 27,
    "start_time": "2022-02-21T10:50:08.948Z"
   },
   {
    "duration": 6,
    "start_time": "2022-02-21T10:50:08.977Z"
   },
   {
    "duration": 24,
    "start_time": "2022-02-21T10:50:08.986Z"
   },
   {
    "duration": 58,
    "start_time": "2022-02-21T10:50:09.012Z"
   },
   {
    "duration": 105,
    "start_time": "2022-02-21T10:50:09.072Z"
   },
   {
    "duration": 3,
    "start_time": "2022-02-21T10:51:00.231Z"
   },
   {
    "duration": 769,
    "start_time": "2022-02-21T10:51:00.237Z"
   },
   {
    "duration": 3,
    "start_time": "2022-02-21T10:51:01.008Z"
   },
   {
    "duration": 269,
    "start_time": "2022-02-21T10:51:01.013Z"
   },
   {
    "duration": 158,
    "start_time": "2022-02-21T10:51:01.284Z"
   },
   {
    "duration": 286,
    "start_time": "2022-02-21T10:51:01.445Z"
   },
   {
    "duration": 18,
    "start_time": "2022-02-21T10:51:01.734Z"
   },
   {
    "duration": 27,
    "start_time": "2022-02-21T10:51:01.754Z"
   },
   {
    "duration": 24,
    "start_time": "2022-02-21T10:51:01.785Z"
   },
   {
    "duration": 245,
    "start_time": "2022-02-21T10:51:01.811Z"
   },
   {
    "duration": 22,
    "start_time": "2022-02-21T10:51:02.058Z"
   },
   {
    "duration": 9,
    "start_time": "2022-02-21T10:51:02.082Z"
   },
   {
    "duration": 8,
    "start_time": "2022-02-21T10:51:02.093Z"
   },
   {
    "duration": 12,
    "start_time": "2022-02-21T10:51:02.103Z"
   },
   {
    "duration": 52,
    "start_time": "2022-02-21T10:51:02.117Z"
   },
   {
    "duration": 36,
    "start_time": "2022-02-21T10:51:02.172Z"
   },
   {
    "duration": 429,
    "start_time": "2022-02-21T10:51:02.210Z"
   },
   {
    "duration": 1329,
    "start_time": "2022-02-21T10:51:13.223Z"
   },
   {
    "duration": 3,
    "start_time": "2022-02-21T10:51:29.911Z"
   },
   {
    "duration": 779,
    "start_time": "2022-02-21T10:51:29.916Z"
   },
   {
    "duration": 3,
    "start_time": "2022-02-21T10:51:30.697Z"
   },
   {
    "duration": 282,
    "start_time": "2022-02-21T10:51:30.702Z"
   },
   {
    "duration": 155,
    "start_time": "2022-02-21T10:51:30.986Z"
   },
   {
    "duration": 306,
    "start_time": "2022-02-21T10:51:31.143Z"
   },
   {
    "duration": 23,
    "start_time": "2022-02-21T10:51:31.451Z"
   },
   {
    "duration": 13,
    "start_time": "2022-02-21T10:51:31.475Z"
   },
   {
    "duration": 19,
    "start_time": "2022-02-21T10:51:31.490Z"
   },
   {
    "duration": 239,
    "start_time": "2022-02-21T10:51:31.511Z"
   },
   {
    "duration": 24,
    "start_time": "2022-02-21T10:51:31.752Z"
   },
   {
    "duration": 17,
    "start_time": "2022-02-21T10:51:31.778Z"
   },
   {
    "duration": 15,
    "start_time": "2022-02-21T10:51:31.797Z"
   },
   {
    "duration": 17,
    "start_time": "2022-02-21T10:51:31.815Z"
   },
   {
    "duration": 30,
    "start_time": "2022-02-21T10:51:31.834Z"
   },
   {
    "duration": 16,
    "start_time": "2022-02-21T10:51:31.866Z"
   },
   {
    "duration": 221,
    "start_time": "2022-02-21T10:51:31.883Z"
   },
   {
    "duration": 5,
    "start_time": "2022-02-21T10:51:47.039Z"
   },
   {
    "duration": 825,
    "start_time": "2022-02-21T10:51:55.111Z"
   },
   {
    "duration": 272,
    "start_time": "2022-02-21T10:52:05.592Z"
   },
   {
    "duration": 293,
    "start_time": "2022-02-21T10:52:25.672Z"
   },
   {
    "duration": 281,
    "start_time": "2022-02-21T10:52:39.391Z"
   },
   {
    "duration": 345,
    "start_time": "2022-02-21T10:52:45.471Z"
   },
   {
    "duration": 312,
    "start_time": "2022-02-21T10:52:49.920Z"
   },
   {
    "duration": 290,
    "start_time": "2022-02-21T10:53:20.696Z"
   },
   {
    "duration": 777,
    "start_time": "2022-02-21T10:53:31.479Z"
   },
   {
    "duration": 188,
    "start_time": "2022-02-21T10:53:39.513Z"
   },
   {
    "duration": 308,
    "start_time": "2022-02-21T10:53:46.670Z"
   },
   {
    "duration": 260,
    "start_time": "2022-02-21T10:56:51.111Z"
   },
   {
    "duration": 130,
    "start_time": "2022-02-21T10:57:09.432Z"
   },
   {
    "duration": 931,
    "start_time": "2022-02-21T10:57:21.079Z"
   },
   {
    "duration": 470,
    "start_time": "2022-02-21T10:58:59.809Z"
   },
   {
    "duration": 322,
    "start_time": "2022-02-21T10:59:28.591Z"
   },
   {
    "duration": 307,
    "start_time": "2022-02-21T11:02:28.871Z"
   },
   {
    "duration": 289,
    "start_time": "2022-02-21T11:06:16.808Z"
   },
   {
    "duration": 275,
    "start_time": "2022-02-21T11:06:31.232Z"
   },
   {
    "duration": 282,
    "start_time": "2022-02-21T11:08:04.472Z"
   },
   {
    "duration": 3,
    "start_time": "2022-02-21T11:13:19.472Z"
   },
   {
    "duration": 532,
    "start_time": "2022-02-21T11:14:28.456Z"
   },
   {
    "duration": 4,
    "start_time": "2022-02-21T11:14:49.112Z"
   },
   {
    "duration": 575,
    "start_time": "2022-02-21T11:14:54.126Z"
   },
   {
    "duration": 6,
    "start_time": "2022-02-21T11:15:40.672Z"
   },
   {
    "duration": 304,
    "start_time": "2022-02-21T11:15:43.231Z"
   },
   {
    "duration": 344,
    "start_time": "2022-02-21T11:16:23.791Z"
   },
   {
    "duration": 266,
    "start_time": "2022-02-21T11:17:06.519Z"
   },
   {
    "duration": 274,
    "start_time": "2022-02-21T11:18:14.198Z"
   },
   {
    "duration": 247,
    "start_time": "2022-02-21T11:18:27.310Z"
   },
   {
    "duration": 7391,
    "start_time": "2022-02-21T11:19:16.392Z"
   },
   {
    "duration": 241,
    "start_time": "2022-02-21T11:20:13.152Z"
   },
   {
    "duration": 674,
    "start_time": "2022-02-21T11:39:30.190Z"
   },
   {
    "duration": 4,
    "start_time": "2022-02-21T11:39:35.070Z"
   },
   {
    "duration": 823,
    "start_time": "2022-02-21T11:39:37.440Z"
   },
   {
    "duration": 1804,
    "start_time": "2022-02-21T11:40:11.670Z"
   },
   {
    "duration": 2918,
    "start_time": "2022-02-21T11:40:14.190Z"
   },
   {
    "duration": 381,
    "start_time": "2022-02-21T11:40:39.793Z"
   },
   {
    "duration": 5,
    "start_time": "2022-02-21T11:40:44.709Z"
   },
   {
    "duration": 255,
    "start_time": "2022-02-21T11:40:46.830Z"
   },
   {
    "duration": 248,
    "start_time": "2022-02-21T11:41:08.830Z"
   },
   {
    "duration": 87,
    "start_time": "2022-02-21T11:41:25.670Z"
   },
   {
    "duration": 260,
    "start_time": "2022-02-21T11:41:31.262Z"
   },
   {
    "duration": 270,
    "start_time": "2022-02-21T11:45:52.176Z"
   },
   {
    "duration": 5,
    "start_time": "2022-02-21T11:49:00.619Z"
   },
   {
    "duration": 191,
    "start_time": "2022-02-21T11:49:48.976Z"
   },
   {
    "duration": 299,
    "start_time": "2022-02-21T11:49:53.216Z"
   },
   {
    "duration": 586,
    "start_time": "2022-02-21T11:50:07.736Z"
   },
   {
    "duration": 5,
    "start_time": "2022-02-21T11:50:23.737Z"
   },
   {
    "duration": 554,
    "start_time": "2022-02-21T11:50:25.496Z"
   },
   {
    "duration": 6,
    "start_time": "2022-02-21T11:51:02.778Z"
   },
   {
    "duration": 914,
    "start_time": "2022-02-21T11:51:03.898Z"
   },
   {
    "duration": 769,
    "start_time": "2022-02-21T11:51:33.253Z"
   },
   {
    "duration": 711,
    "start_time": "2022-02-21T11:52:26.936Z"
   },
   {
    "duration": 4,
    "start_time": "2022-02-21T11:57:02.656Z"
   },
   {
    "duration": 290,
    "start_time": "2022-02-21T11:57:03.775Z"
   },
   {
    "duration": 274,
    "start_time": "2022-02-21T11:57:09.496Z"
   },
   {
    "duration": 281,
    "start_time": "2022-02-21T11:57:14.936Z"
   },
   {
    "duration": 5,
    "start_time": "2022-02-21T12:05:26.646Z"
   },
   {
    "duration": 550,
    "start_time": "2022-02-21T12:06:27.936Z"
   },
   {
    "duration": 4,
    "start_time": "2022-02-21T12:06:48.656Z"
   },
   {
    "duration": 1180,
    "start_time": "2022-02-21T12:06:50.219Z"
   },
   {
    "duration": 317,
    "start_time": "2022-02-21T12:07:07.977Z"
   },
   {
    "duration": 3,
    "start_time": "2022-02-21T12:07:13.447Z"
   },
   {
    "duration": 760,
    "start_time": "2022-02-21T12:07:13.455Z"
   },
   {
    "duration": 3,
    "start_time": "2022-02-21T12:07:14.218Z"
   },
   {
    "duration": 297,
    "start_time": "2022-02-21T12:07:14.224Z"
   },
   {
    "duration": 176,
    "start_time": "2022-02-21T12:07:14.523Z"
   },
   {
    "duration": 311,
    "start_time": "2022-02-21T12:07:14.701Z"
   },
   {
    "duration": 18,
    "start_time": "2022-02-21T12:07:15.014Z"
   },
   {
    "duration": 34,
    "start_time": "2022-02-21T12:07:15.034Z"
   },
   {
    "duration": 29,
    "start_time": "2022-02-21T12:07:15.070Z"
   },
   {
    "duration": 232,
    "start_time": "2022-02-21T12:07:15.101Z"
   },
   {
    "duration": 15,
    "start_time": "2022-02-21T12:07:15.335Z"
   },
   {
    "duration": 20,
    "start_time": "2022-02-21T12:07:15.352Z"
   },
   {
    "duration": 21,
    "start_time": "2022-02-21T12:07:15.374Z"
   },
   {
    "duration": 11,
    "start_time": "2022-02-21T12:07:15.397Z"
   },
   {
    "duration": 47,
    "start_time": "2022-02-21T12:07:15.410Z"
   },
   {
    "duration": 20,
    "start_time": "2022-02-21T12:07:15.459Z"
   },
   {
    "duration": 17,
    "start_time": "2022-02-21T12:07:15.481Z"
   },
   {
    "duration": 308,
    "start_time": "2022-02-21T12:07:15.500Z"
   },
   {
    "duration": 291,
    "start_time": "2022-02-21T12:07:15.810Z"
   },
   {
    "duration": 290,
    "start_time": "2022-02-21T12:07:16.103Z"
   },
   {
    "duration": 4,
    "start_time": "2022-02-21T12:07:16.395Z"
   },
   {
    "duration": 775,
    "start_time": "2022-02-21T12:07:16.401Z"
   },
   {
    "duration": 776,
    "start_time": "2022-02-21T12:07:17.179Z"
   },
   {
    "duration": 896,
    "start_time": "2022-02-21T12:07:17.957Z"
   },
   {
    "duration": 4,
    "start_time": "2022-02-21T12:07:18.855Z"
   },
   {
    "duration": 1024,
    "start_time": "2022-02-21T12:07:18.861Z"
   },
   {
    "duration": 21,
    "start_time": "2022-02-21T12:08:22.384Z"
   },
   {
    "duration": 609,
    "start_time": "2022-02-21T12:08:28.575Z"
   },
   {
    "duration": 7,
    "start_time": "2022-02-21T12:11:49.735Z"
   },
   {
    "duration": 607,
    "start_time": "2022-02-21T12:11:50.575Z"
   },
   {
    "duration": 5,
    "start_time": "2022-02-21T12:12:43.296Z"
   },
   {
    "duration": 572,
    "start_time": "2022-02-21T12:12:44.974Z"
   },
   {
    "duration": 5,
    "start_time": "2022-02-21T12:13:00.056Z"
   },
   {
    "duration": 710,
    "start_time": "2022-02-21T12:13:03.575Z"
   },
   {
    "duration": 5,
    "start_time": "2022-02-21T12:14:43.423Z"
   },
   {
    "duration": 580,
    "start_time": "2022-02-21T12:14:44.615Z"
   },
   {
    "duration": 588,
    "start_time": "2022-02-21T12:14:48.495Z"
   },
   {
    "duration": 7636,
    "start_time": "2022-02-21T12:15:32.015Z"
   },
   {
    "duration": 341,
    "start_time": "2022-02-21T12:31:57.382Z"
   },
   {
    "duration": 8,
    "start_time": "2022-02-21T12:32:26.974Z"
   },
   {
    "duration": 258,
    "start_time": "2022-02-21T12:32:36.702Z"
   },
   {
    "duration": 274,
    "start_time": "2022-02-21T12:32:40.225Z"
   },
   {
    "duration": 10,
    "start_time": "2022-02-21T12:32:48.542Z"
   },
   {
    "duration": 9,
    "start_time": "2022-02-21T12:33:23.662Z"
   },
   {
    "duration": 5,
    "start_time": "2022-02-21T12:34:22.584Z"
   },
   {
    "duration": 708,
    "start_time": "2022-02-21T12:34:22.591Z"
   },
   {
    "duration": 3,
    "start_time": "2022-02-21T12:34:23.301Z"
   },
   {
    "duration": 260,
    "start_time": "2022-02-21T12:34:23.305Z"
   },
   {
    "duration": 150,
    "start_time": "2022-02-21T12:34:23.566Z"
   },
   {
    "duration": 291,
    "start_time": "2022-02-21T12:34:23.718Z"
   },
   {
    "duration": 16,
    "start_time": "2022-02-21T12:34:24.011Z"
   },
   {
    "duration": 11,
    "start_time": "2022-02-21T12:34:24.029Z"
   },
   {
    "duration": 38,
    "start_time": "2022-02-21T12:34:24.043Z"
   },
   {
    "duration": 232,
    "start_time": "2022-02-21T12:34:24.084Z"
   },
   {
    "duration": 14,
    "start_time": "2022-02-21T12:34:24.318Z"
   },
   {
    "duration": 8,
    "start_time": "2022-02-21T12:34:24.334Z"
   },
   {
    "duration": 27,
    "start_time": "2022-02-21T12:34:24.344Z"
   },
   {
    "duration": 8,
    "start_time": "2022-02-21T12:34:24.373Z"
   },
   {
    "duration": 22,
    "start_time": "2022-02-21T12:34:24.383Z"
   },
   {
    "duration": 13,
    "start_time": "2022-02-21T12:34:24.407Z"
   },
   {
    "duration": 10,
    "start_time": "2022-02-21T12:34:24.422Z"
   },
   {
    "duration": 289,
    "start_time": "2022-02-21T12:34:24.433Z"
   },
   {
    "duration": 279,
    "start_time": "2022-02-21T12:34:24.724Z"
   },
   {
    "duration": 285,
    "start_time": "2022-02-21T12:34:25.005Z"
   },
   {
    "duration": 5,
    "start_time": "2022-02-21T12:34:25.292Z"
   },
   {
    "duration": 844,
    "start_time": "2022-02-21T12:34:25.298Z"
   },
   {
    "duration": 748,
    "start_time": "2022-02-21T12:34:26.144Z"
   },
   {
    "duration": 726,
    "start_time": "2022-02-21T12:34:26.894Z"
   },
   {
    "duration": 5,
    "start_time": "2022-02-21T12:34:27.622Z"
   },
   {
    "duration": 573,
    "start_time": "2022-02-21T12:34:27.629Z"
   },
   {
    "duration": 797,
    "start_time": "2022-02-21T12:34:28.206Z"
   },
   {
    "duration": 11,
    "start_time": "2022-02-21T12:34:29.005Z"
   },
   {
    "duration": 9,
    "start_time": "2022-02-21T12:37:30.104Z"
   },
   {
    "duration": 8,
    "start_time": "2022-02-21T12:39:59.145Z"
   },
   {
    "duration": 868,
    "start_time": "2022-02-21T12:40:45.824Z"
   },
   {
    "duration": 409,
    "start_time": "2022-02-21T12:40:51.984Z"
   },
   {
    "duration": 260,
    "start_time": "2022-02-21T12:41:05.384Z"
   },
   {
    "duration": 37,
    "start_time": "2022-02-21T12:41:33.712Z"
   },
   {
    "duration": 4,
    "start_time": "2022-02-21T12:41:56.024Z"
   },
   {
    "duration": 717,
    "start_time": "2022-02-21T12:41:56.030Z"
   },
   {
    "duration": 3,
    "start_time": "2022-02-21T12:41:56.749Z"
   },
   {
    "duration": 275,
    "start_time": "2022-02-21T12:41:56.755Z"
   },
   {
    "duration": 159,
    "start_time": "2022-02-21T12:41:57.031Z"
   },
   {
    "duration": 288,
    "start_time": "2022-02-21T12:41:57.191Z"
   },
   {
    "duration": 17,
    "start_time": "2022-02-21T12:41:57.480Z"
   },
   {
    "duration": 11,
    "start_time": "2022-02-21T12:41:57.499Z"
   },
   {
    "duration": 18,
    "start_time": "2022-02-21T12:41:57.513Z"
   },
   {
    "duration": 246,
    "start_time": "2022-02-21T12:41:57.533Z"
   },
   {
    "duration": 16,
    "start_time": "2022-02-21T12:41:57.781Z"
   },
   {
    "duration": 6,
    "start_time": "2022-02-21T12:41:57.799Z"
   },
   {
    "duration": 6,
    "start_time": "2022-02-21T12:41:57.807Z"
   },
   {
    "duration": 7,
    "start_time": "2022-02-21T12:41:57.815Z"
   },
   {
    "duration": 51,
    "start_time": "2022-02-21T12:41:57.824Z"
   },
   {
    "duration": 12,
    "start_time": "2022-02-21T12:41:57.877Z"
   },
   {
    "duration": 5,
    "start_time": "2022-02-21T12:41:57.891Z"
   },
   {
    "duration": 289,
    "start_time": "2022-02-21T12:41:57.898Z"
   },
   {
    "duration": 278,
    "start_time": "2022-02-21T12:41:58.189Z"
   },
   {
    "duration": 280,
    "start_time": "2022-02-21T12:41:58.469Z"
   },
   {
    "duration": 4,
    "start_time": "2022-02-21T12:41:58.752Z"
   },
   {
    "duration": 739,
    "start_time": "2022-02-21T12:41:58.758Z"
   },
   {
    "duration": 713,
    "start_time": "2022-02-21T12:41:59.499Z"
   },
   {
    "duration": 914,
    "start_time": "2022-02-21T12:42:00.215Z"
   },
   {
    "duration": 6,
    "start_time": "2022-02-21T12:42:01.132Z"
   },
   {
    "duration": 588,
    "start_time": "2022-02-21T12:42:01.140Z"
   },
   {
    "duration": 598,
    "start_time": "2022-02-21T12:42:01.733Z"
   },
   {
    "duration": 48,
    "start_time": "2022-02-21T12:42:02.333Z"
   },
   {
    "duration": 36,
    "start_time": "2022-02-21T12:42:43.305Z"
   },
   {
    "duration": 40,
    "start_time": "2022-02-21T12:44:32.144Z"
   },
   {
    "duration": 36,
    "start_time": "2022-02-21T12:45:32.993Z"
   },
   {
    "duration": 9,
    "start_time": "2022-02-21T12:45:41.790Z"
   },
   {
    "duration": 269,
    "start_time": "2022-02-21T12:48:22.514Z"
   },
   {
    "duration": 728,
    "start_time": "2022-02-21T12:48:56.033Z"
   },
   {
    "duration": 810,
    "start_time": "2022-02-21T12:51:21.427Z"
   },
   {
    "duration": 8084,
    "start_time": "2022-02-21T12:54:47.514Z"
   },
   {
    "duration": 9,
    "start_time": "2022-02-21T12:55:27.826Z"
   },
   {
    "duration": 722,
    "start_time": "2022-02-21T12:55:29.114Z"
   },
   {
    "duration": 703,
    "start_time": "2022-02-21T12:57:00.797Z"
   },
   {
    "duration": 15,
    "start_time": "2022-02-21T12:58:39.787Z"
   },
   {
    "duration": 8,
    "start_time": "2022-02-21T12:58:50.707Z"
   },
   {
    "duration": 20,
    "start_time": "2022-02-21T12:59:18.355Z"
   },
   {
    "duration": 10,
    "start_time": "2022-02-21T13:00:10.875Z"
   },
   {
    "duration": 1102,
    "start_time": "2022-02-21T13:00:19.236Z"
   },
   {
    "duration": 1728,
    "start_time": "2022-02-21T13:00:30.956Z"
   },
   {
    "duration": 864,
    "start_time": "2022-02-21T13:00:39.315Z"
   },
   {
    "duration": 724,
    "start_time": "2022-02-21T13:01:33.747Z"
   },
   {
    "duration": 880,
    "start_time": "2022-02-21T13:01:42.068Z"
   },
   {
    "duration": 729,
    "start_time": "2022-02-21T13:04:07.827Z"
   },
   {
    "duration": 12,
    "start_time": "2022-02-21T13:05:07.747Z"
   },
   {
    "duration": 691,
    "start_time": "2022-02-21T13:05:08.948Z"
   },
   {
    "duration": 88,
    "start_time": "2022-02-21T13:05:31.868Z"
   },
   {
    "duration": 120,
    "start_time": "2022-02-21T13:05:40.989Z"
   },
   {
    "duration": 98,
    "start_time": "2022-02-21T13:05:48.908Z"
   },
   {
    "duration": 90,
    "start_time": "2022-02-21T13:05:59.820Z"
   },
   {
    "duration": 9,
    "start_time": "2022-02-21T13:06:12.067Z"
   },
   {
    "duration": 748,
    "start_time": "2022-02-21T13:06:15.316Z"
   },
   {
    "duration": 16,
    "start_time": "2022-02-21T13:14:16.101Z"
   },
   {
    "duration": 4,
    "start_time": "2022-02-21T13:21:36.861Z"
   },
   {
    "duration": 3,
    "start_time": "2022-02-21T13:26:11.583Z"
   },
   {
    "duration": 3,
    "start_time": "2022-02-21T13:28:21.061Z"
   },
   {
    "duration": 3,
    "start_time": "2022-02-21T13:31:30.308Z"
   },
   {
    "duration": 5,
    "start_time": "2022-02-21T13:38:30.222Z"
   },
   {
    "duration": 279,
    "start_time": "2022-02-21T13:56:01.106Z"
   },
   {
    "duration": 312,
    "start_time": "2022-02-21T13:56:13.058Z"
   },
   {
    "duration": 18,
    "start_time": "2022-02-21T13:58:24.505Z"
   },
   {
    "duration": 17,
    "start_time": "2022-02-21T13:59:55.658Z"
   },
   {
    "duration": 15,
    "start_time": "2022-02-21T14:00:43.378Z"
   },
   {
    "duration": 16,
    "start_time": "2022-02-21T14:00:49.418Z"
   },
   {
    "duration": 15,
    "start_time": "2022-02-21T14:00:56.864Z"
   },
   {
    "duration": 17,
    "start_time": "2022-02-21T14:04:11.139Z"
   },
   {
    "duration": 18,
    "start_time": "2022-02-21T14:21:45.737Z"
   },
   {
    "duration": 14,
    "start_time": "2022-02-21T14:22:02.538Z"
   },
   {
    "duration": 16,
    "start_time": "2022-02-21T14:22:24.257Z"
   },
   {
    "duration": 17,
    "start_time": "2022-02-21T14:22:32.755Z"
   },
   {
    "duration": 16,
    "start_time": "2022-02-21T14:22:38.097Z"
   },
   {
    "duration": 2,
    "start_time": "2022-02-21T14:27:27.256Z"
   },
   {
    "duration": 16,
    "start_time": "2022-02-21T14:28:19.577Z"
   },
   {
    "duration": 15,
    "start_time": "2022-02-21T14:31:28.176Z"
   },
   {
    "duration": 7054,
    "start_time": "2022-02-21T14:33:31.064Z"
   },
   {
    "duration": 17,
    "start_time": "2022-02-21T14:34:56.016Z"
   },
   {
    "duration": 14,
    "start_time": "2022-02-21T14:35:16.152Z"
   },
   {
    "duration": 15,
    "start_time": "2022-02-21T14:35:45.784Z"
   },
   {
    "duration": 1613,
    "start_time": "2022-02-22T07:02:32.674Z"
   },
   {
    "duration": 3012,
    "start_time": "2022-02-22T07:02:34.289Z"
   },
   {
    "duration": 4,
    "start_time": "2022-02-22T07:02:37.304Z"
   },
   {
    "duration": 362,
    "start_time": "2022-02-22T07:02:37.311Z"
   },
   {
    "duration": 221,
    "start_time": "2022-02-22T07:02:37.675Z"
   },
   {
    "duration": 378,
    "start_time": "2022-02-22T07:02:37.898Z"
   },
   {
    "duration": 32,
    "start_time": "2022-02-22T07:02:38.278Z"
   },
   {
    "duration": 15,
    "start_time": "2022-02-22T07:02:38.312Z"
   },
   {
    "duration": 64,
    "start_time": "2022-02-22T07:02:38.331Z"
   },
   {
    "duration": 369,
    "start_time": "2022-02-22T07:02:38.399Z"
   },
   {
    "duration": 30,
    "start_time": "2022-02-22T07:02:38.770Z"
   },
   {
    "duration": 12,
    "start_time": "2022-02-22T07:02:38.803Z"
   },
   {
    "duration": 7,
    "start_time": "2022-02-22T07:02:38.817Z"
   },
   {
    "duration": 7,
    "start_time": "2022-02-22T07:02:38.826Z"
   },
   {
    "duration": 75,
    "start_time": "2022-02-22T07:02:38.836Z"
   },
   {
    "duration": 19,
    "start_time": "2022-02-22T07:02:38.913Z"
   },
   {
    "duration": 7,
    "start_time": "2022-02-22T07:02:38.934Z"
   },
   {
    "duration": 423,
    "start_time": "2022-02-22T07:02:38.943Z"
   },
   {
    "duration": 362,
    "start_time": "2022-02-22T07:02:39.368Z"
   },
   {
    "duration": 384,
    "start_time": "2022-02-22T07:02:39.733Z"
   },
   {
    "duration": 6,
    "start_time": "2022-02-22T07:02:40.120Z"
   },
   {
    "duration": 1085,
    "start_time": "2022-02-22T07:02:40.129Z"
   },
   {
    "duration": 1036,
    "start_time": "2022-02-22T07:02:41.217Z"
   },
   {
    "duration": 1016,
    "start_time": "2022-02-22T07:02:42.256Z"
   },
   {
    "duration": 6,
    "start_time": "2022-02-22T07:02:43.275Z"
   },
   {
    "duration": 774,
    "start_time": "2022-02-22T07:02:43.293Z"
   },
   {
    "duration": 906,
    "start_time": "2022-02-22T07:02:44.072Z"
   },
   {
    "duration": 19,
    "start_time": "2022-02-22T07:02:44.981Z"
   },
   {
    "duration": 999,
    "start_time": "2022-02-22T07:02:45.002Z"
   },
   {
    "duration": 19,
    "start_time": "2022-02-22T07:02:46.004Z"
   },
   {
    "duration": 1029,
    "start_time": "2022-02-22T07:02:46.025Z"
   },
   {
    "duration": 3,
    "start_time": "2022-02-22T07:02:47.056Z"
   },
   {
    "duration": 32,
    "start_time": "2022-02-22T07:02:47.061Z"
   },
   {
    "duration": 121,
    "start_time": "2022-02-22T07:02:47.096Z"
   },
   {
    "duration": 2365,
    "start_time": "2022-02-22T07:02:44.856Z"
   },
   {
    "duration": 2362,
    "start_time": "2022-02-22T07:02:44.861Z"
   },
   {
    "duration": 113,
    "start_time": "2022-02-22T07:03:05.953Z"
   },
   {
    "duration": 77,
    "start_time": "2022-02-22T07:08:32.240Z"
   },
   {
    "duration": 8,
    "start_time": "2022-02-22T07:20:23.874Z"
   },
   {
    "duration": 9,
    "start_time": "2022-02-22T07:31:37.153Z"
   },
   {
    "duration": 7,
    "start_time": "2022-02-22T07:31:38.921Z"
   },
   {
    "duration": 7,
    "start_time": "2022-02-22T07:32:28.360Z"
   },
   {
    "duration": 418,
    "start_time": "2022-02-22T07:33:35.953Z"
   },
   {
    "duration": 7,
    "start_time": "2022-02-22T07:33:40.320Z"
   },
   {
    "duration": 2019,
    "start_time": "2022-02-22T07:33:41.264Z"
   },
   {
    "duration": 77,
    "start_time": "2022-02-22T07:41:17.515Z"
   },
   {
    "duration": 545,
    "start_time": "2022-02-22T07:41:24.872Z"
   },
   {
    "duration": 48,
    "start_time": "2022-02-22T07:41:55.974Z"
   },
   {
    "duration": 33,
    "start_time": "2022-02-22T07:45:27.004Z"
   },
   {
    "duration": 37,
    "start_time": "2022-02-22T07:47:07.755Z"
   },
   {
    "duration": 287,
    "start_time": "2022-02-22T07:48:11.754Z"
   },
   {
    "duration": 1995,
    "start_time": "2022-02-22T07:48:16.513Z"
   },
   {
    "duration": 34,
    "start_time": "2022-02-22T07:49:27.562Z"
   },
   {
    "duration": 23,
    "start_time": "2022-02-22T07:50:05.873Z"
   },
   {
    "duration": 1955,
    "start_time": "2022-02-22T07:50:11.553Z"
   },
   {
    "duration": 245,
    "start_time": "2022-02-22T07:53:42.005Z"
   },
   {
    "duration": 275,
    "start_time": "2022-02-22T07:53:52.126Z"
   },
   {
    "duration": 13,
    "start_time": "2022-02-22T07:54:33.517Z"
   },
   {
    "duration": 20,
    "start_time": "2022-02-22T07:55:06.478Z"
   },
   {
    "duration": 332,
    "start_time": "2022-02-22T07:55:31.605Z"
   },
   {
    "duration": 10,
    "start_time": "2022-02-22T07:56:05.435Z"
   },
   {
    "duration": 4,
    "start_time": "2022-02-22T07:59:35.153Z"
   },
   {
    "duration": 5,
    "start_time": "2022-02-22T08:02:46.714Z"
   },
   {
    "duration": 4,
    "start_time": "2022-02-22T08:02:57.354Z"
   },
   {
    "duration": 243,
    "start_time": "2022-02-22T08:14:29.553Z"
   },
   {
    "duration": 5,
    "start_time": "2022-02-22T08:14:39.033Z"
   },
   {
    "duration": 254,
    "start_time": "2022-02-22T08:14:44.809Z"
   },
   {
    "duration": 241,
    "start_time": "2022-02-22T08:15:12.913Z"
   },
   {
    "duration": 9,
    "start_time": "2022-02-22T08:15:14.321Z"
   },
   {
    "duration": 271,
    "start_time": "2022-02-22T08:15:15.362Z"
   },
   {
    "duration": 25,
    "start_time": "2022-02-22T08:15:27.009Z"
   },
   {
    "duration": 21,
    "start_time": "2022-02-22T08:15:51.154Z"
   },
   {
    "duration": 30,
    "start_time": "2022-02-22T08:16:03.272Z"
   },
   {
    "duration": 27,
    "start_time": "2022-02-22T08:16:08.553Z"
   },
   {
    "duration": 25,
    "start_time": "2022-02-22T08:16:26.281Z"
   },
   {
    "duration": 94,
    "start_time": "2022-02-22T08:16:50.353Z"
   },
   {
    "duration": 31,
    "start_time": "2022-02-22T08:16:55.433Z"
   },
   {
    "duration": 6,
    "start_time": "2022-02-22T08:17:00.713Z"
   },
   {
    "duration": 2960,
    "start_time": "2022-02-22T08:17:00.722Z"
   },
   {
    "duration": 3,
    "start_time": "2022-02-22T08:17:03.685Z"
   },
   {
    "duration": 389,
    "start_time": "2022-02-22T08:17:03.691Z"
   },
   {
    "duration": 345,
    "start_time": "2022-02-22T08:17:04.083Z"
   },
   {
    "duration": 464,
    "start_time": "2022-02-22T08:17:04.431Z"
   },
   {
    "duration": 29,
    "start_time": "2022-02-22T08:17:04.898Z"
   },
   {
    "duration": 18,
    "start_time": "2022-02-22T08:17:04.932Z"
   },
   {
    "duration": 75,
    "start_time": "2022-02-22T08:17:04.955Z"
   },
   {
    "duration": 395,
    "start_time": "2022-02-22T08:17:05.034Z"
   },
   {
    "duration": 19,
    "start_time": "2022-02-22T08:17:05.432Z"
   },
   {
    "duration": 12,
    "start_time": "2022-02-22T08:17:05.454Z"
   },
   {
    "duration": 10,
    "start_time": "2022-02-22T08:17:05.495Z"
   },
   {
    "duration": 10,
    "start_time": "2022-02-22T08:17:05.507Z"
   },
   {
    "duration": 39,
    "start_time": "2022-02-22T08:17:05.521Z"
   },
   {
    "duration": 24,
    "start_time": "2022-02-22T08:17:05.596Z"
   },
   {
    "duration": 7,
    "start_time": "2022-02-22T08:17:05.624Z"
   },
   {
    "duration": 418,
    "start_time": "2022-02-22T08:17:05.634Z"
   },
   {
    "duration": 398,
    "start_time": "2022-02-22T08:17:06.055Z"
   },
   {
    "duration": 499,
    "start_time": "2022-02-22T08:17:06.457Z"
   },
   {
    "duration": 8,
    "start_time": "2022-02-22T08:17:06.959Z"
   },
   {
    "duration": 1635,
    "start_time": "2022-02-22T08:17:06.970Z"
   },
   {
    "duration": 1593,
    "start_time": "2022-02-22T08:17:08.611Z"
   },
   {
    "duration": 1608,
    "start_time": "2022-02-22T08:17:10.209Z"
   },
   {
    "duration": 9,
    "start_time": "2022-02-22T08:17:11.820Z"
   },
   {
    "duration": 987,
    "start_time": "2022-02-22T08:17:11.831Z"
   },
   {
    "duration": 827,
    "start_time": "2022-02-22T08:17:12.820Z"
   },
   {
    "duration": 11,
    "start_time": "2022-02-22T08:17:13.649Z"
   },
   {
    "duration": 1114,
    "start_time": "2022-02-22T08:17:13.663Z"
   },
   {
    "duration": 31,
    "start_time": "2022-02-22T08:17:14.779Z"
   },
   {
    "duration": 1054,
    "start_time": "2022-02-22T08:17:14.813Z"
   },
   {
    "duration": 4,
    "start_time": "2022-02-22T08:17:15.870Z"
   },
   {
    "duration": 24,
    "start_time": "2022-02-22T08:17:15.877Z"
   },
   {
    "duration": 89,
    "start_time": "2022-02-22T08:17:15.904Z"
   },
   {
    "duration": 9,
    "start_time": "2022-02-22T08:17:15.997Z"
   },
   {
    "duration": 102,
    "start_time": "2022-02-22T08:17:16.009Z"
   },
   {
    "duration": -53,
    "start_time": "2022-02-22T08:17:16.167Z"
   },
   {
    "duration": -55,
    "start_time": "2022-02-22T08:17:16.170Z"
   },
   {
    "duration": 20,
    "start_time": "2022-02-22T08:18:15.952Z"
   },
   {
    "duration": 6,
    "start_time": "2022-02-22T08:18:22.993Z"
   },
   {
    "duration": 879,
    "start_time": "2022-02-22T08:18:23.001Z"
   },
   {
    "duration": 3,
    "start_time": "2022-02-22T08:18:23.883Z"
   },
   {
    "duration": 383,
    "start_time": "2022-02-22T08:18:23.894Z"
   },
   {
    "duration": 383,
    "start_time": "2022-02-22T08:18:24.280Z"
   },
   {
    "duration": 628,
    "start_time": "2022-02-22T08:18:24.665Z"
   },
   {
    "duration": 42,
    "start_time": "2022-02-22T08:18:25.297Z"
   },
   {
    "duration": 18,
    "start_time": "2022-02-22T08:18:25.346Z"
   },
   {
    "duration": 49,
    "start_time": "2022-02-22T08:18:25.367Z"
   },
   {
    "duration": 384,
    "start_time": "2022-02-22T08:18:25.419Z"
   },
   {
    "duration": 18,
    "start_time": "2022-02-22T08:18:25.806Z"
   },
   {
    "duration": 9,
    "start_time": "2022-02-22T08:18:25.827Z"
   },
   {
    "duration": 13,
    "start_time": "2022-02-22T08:18:25.839Z"
   },
   {
    "duration": 42,
    "start_time": "2022-02-22T08:18:25.854Z"
   },
   {
    "duration": 41,
    "start_time": "2022-02-22T08:18:25.899Z"
   },
   {
    "duration": 23,
    "start_time": "2022-02-22T08:18:25.944Z"
   },
   {
    "duration": 28,
    "start_time": "2022-02-22T08:18:25.971Z"
   },
   {
    "duration": 398,
    "start_time": "2022-02-22T08:18:26.002Z"
   },
   {
    "duration": 509,
    "start_time": "2022-02-22T08:18:26.403Z"
   },
   {
    "duration": 535,
    "start_time": "2022-02-22T08:18:26.915Z"
   },
   {
    "duration": 7,
    "start_time": "2022-02-22T08:18:27.453Z"
   },
   {
    "duration": 1056,
    "start_time": "2022-02-22T08:18:27.463Z"
   },
   {
    "duration": 1019,
    "start_time": "2022-02-22T08:18:28.527Z"
   },
   {
    "duration": 1061,
    "start_time": "2022-02-22T08:18:29.549Z"
   },
   {
    "duration": 6,
    "start_time": "2022-02-22T08:18:30.613Z"
   },
   {
    "duration": 940,
    "start_time": "2022-02-22T08:18:30.622Z"
   },
   {
    "duration": 802,
    "start_time": "2022-02-22T08:18:31.564Z"
   },
   {
    "duration": 11,
    "start_time": "2022-02-22T08:18:32.369Z"
   },
   {
    "duration": 1024,
    "start_time": "2022-02-22T08:18:32.382Z"
   },
   {
    "duration": 17,
    "start_time": "2022-02-22T08:18:33.409Z"
   },
   {
    "duration": 1043,
    "start_time": "2022-02-22T08:18:33.428Z"
   },
   {
    "duration": 3,
    "start_time": "2022-02-22T08:18:34.474Z"
   },
   {
    "duration": 32,
    "start_time": "2022-02-22T08:18:34.479Z"
   },
   {
    "duration": 35,
    "start_time": "2022-02-22T08:18:34.513Z"
   },
   {
    "duration": 7,
    "start_time": "2022-02-22T08:18:34.551Z"
   },
   {
    "duration": 100,
    "start_time": "2022-02-22T08:18:34.562Z"
   },
   {
    "duration": -119,
    "start_time": "2022-02-22T08:18:34.785Z"
   },
   {
    "duration": -120,
    "start_time": "2022-02-22T08:18:34.788Z"
   },
   {
    "duration": 261,
    "start_time": "2022-02-22T08:31:12.872Z"
   },
   {
    "duration": 238,
    "start_time": "2022-02-22T08:31:58.872Z"
   },
   {
    "duration": 263,
    "start_time": "2022-02-22T08:32:06.552Z"
   },
   {
    "duration": 231,
    "start_time": "2022-02-22T08:32:11.673Z"
   },
   {
    "duration": 256,
    "start_time": "2022-02-22T08:32:22.800Z"
   },
   {
    "duration": 268,
    "start_time": "2022-02-22T08:34:45.553Z"
   },
   {
    "duration": 324,
    "start_time": "2022-02-22T08:34:57.366Z"
   },
   {
    "duration": -75,
    "start_time": "2022-02-22T08:34:57.771Z"
   },
   {
    "duration": -77,
    "start_time": "2022-02-22T08:34:57.774Z"
   },
   {
    "duration": -129,
    "start_time": "2022-02-22T08:34:57.828Z"
   },
   {
    "duration": -130,
    "start_time": "2022-02-22T08:34:57.831Z"
   },
   {
    "duration": -129,
    "start_time": "2022-02-22T08:34:57.833Z"
   },
   {
    "duration": -129,
    "start_time": "2022-02-22T08:34:57.836Z"
   },
   {
    "duration": -129,
    "start_time": "2022-02-22T08:34:57.839Z"
   },
   {
    "duration": -130,
    "start_time": "2022-02-22T08:34:57.842Z"
   },
   {
    "duration": -129,
    "start_time": "2022-02-22T08:34:57.844Z"
   },
   {
    "duration": -129,
    "start_time": "2022-02-22T08:34:57.847Z"
   },
   {
    "duration": -129,
    "start_time": "2022-02-22T08:34:57.849Z"
   },
   {
    "duration": -134,
    "start_time": "2022-02-22T08:34:57.857Z"
   },
   {
    "duration": -137,
    "start_time": "2022-02-22T08:34:57.863Z"
   },
   {
    "duration": -137,
    "start_time": "2022-02-22T08:34:57.865Z"
   },
   {
    "duration": -149,
    "start_time": "2022-02-22T08:34:57.879Z"
   },
   {
    "duration": -150,
    "start_time": "2022-02-22T08:34:57.881Z"
   },
   {
    "duration": -175,
    "start_time": "2022-02-22T08:34:57.908Z"
   },
   {
    "duration": -177,
    "start_time": "2022-02-22T08:34:57.911Z"
   },
   {
    "duration": -186,
    "start_time": "2022-02-22T08:34:57.922Z"
   },
   {
    "duration": -187,
    "start_time": "2022-02-22T08:34:57.925Z"
   },
   {
    "duration": -191,
    "start_time": "2022-02-22T08:34:57.931Z"
   },
   {
    "duration": -193,
    "start_time": "2022-02-22T08:34:57.934Z"
   },
   {
    "duration": -195,
    "start_time": "2022-02-22T08:34:57.937Z"
   },
   {
    "duration": -197,
    "start_time": "2022-02-22T08:34:57.940Z"
   },
   {
    "duration": -149,
    "start_time": "2022-02-22T08:34:57.942Z"
   },
   {
    "duration": -149,
    "start_time": "2022-02-22T08:34:57.944Z"
   },
   {
    "duration": -150,
    "start_time": "2022-02-22T08:34:57.947Z"
   },
   {
    "duration": -150,
    "start_time": "2022-02-22T08:34:57.949Z"
   },
   {
    "duration": -193,
    "start_time": "2022-02-22T08:34:57.993Z"
   },
   {
    "duration": -216,
    "start_time": "2022-02-22T08:34:58.018Z"
   },
   {
    "duration": -217,
    "start_time": "2022-02-22T08:34:58.021Z"
   },
   {
    "duration": -216,
    "start_time": "2022-02-22T08:34:58.023Z"
   },
   {
    "duration": -217,
    "start_time": "2022-02-22T08:34:58.026Z"
   },
   {
    "duration": -218,
    "start_time": "2022-02-22T08:34:58.028Z"
   },
   {
    "duration": -218,
    "start_time": "2022-02-22T08:34:58.030Z"
   },
   {
    "duration": -219,
    "start_time": "2022-02-22T08:34:58.033Z"
   },
   {
    "duration": -219,
    "start_time": "2022-02-22T08:34:58.035Z"
   },
   {
    "duration": 253,
    "start_time": "2022-02-22T08:35:37.957Z"
   },
   {
    "duration": -65,
    "start_time": "2022-02-22T08:35:38.279Z"
   },
   {
    "duration": -66,
    "start_time": "2022-02-22T08:35:38.282Z"
   },
   {
    "duration": -78,
    "start_time": "2022-02-22T08:35:38.295Z"
   },
   {
    "duration": -132,
    "start_time": "2022-02-22T08:35:38.350Z"
   },
   {
    "duration": -133,
    "start_time": "2022-02-22T08:35:38.353Z"
   },
   {
    "duration": -134,
    "start_time": "2022-02-22T08:35:38.355Z"
   },
   {
    "duration": -135,
    "start_time": "2022-02-22T08:35:38.357Z"
   },
   {
    "duration": -136,
    "start_time": "2022-02-22T08:35:38.360Z"
   },
   {
    "duration": -138,
    "start_time": "2022-02-22T08:35:38.363Z"
   },
   {
    "duration": -139,
    "start_time": "2022-02-22T08:35:38.366Z"
   },
   {
    "duration": -137,
    "start_time": "2022-02-22T08:35:38.368Z"
   },
   {
    "duration": -137,
    "start_time": "2022-02-22T08:35:38.370Z"
   },
   {
    "duration": -138,
    "start_time": "2022-02-22T08:35:38.372Z"
   },
   {
    "duration": -139,
    "start_time": "2022-02-22T08:35:38.375Z"
   },
   {
    "duration": -146,
    "start_time": "2022-02-22T08:35:38.383Z"
   },
   {
    "duration": -146,
    "start_time": "2022-02-22T08:35:38.385Z"
   },
   {
    "duration": -178,
    "start_time": "2022-02-22T08:35:38.418Z"
   },
   {
    "duration": -179,
    "start_time": "2022-02-22T08:35:38.421Z"
   },
   {
    "duration": -193,
    "start_time": "2022-02-22T08:35:38.436Z"
   },
   {
    "duration": -194,
    "start_time": "2022-02-22T08:35:38.439Z"
   },
   {
    "duration": -195,
    "start_time": "2022-02-22T08:35:38.441Z"
   },
   {
    "duration": -195,
    "start_time": "2022-02-22T08:35:38.443Z"
   },
   {
    "duration": -197,
    "start_time": "2022-02-22T08:35:38.446Z"
   },
   {
    "duration": -155,
    "start_time": "2022-02-22T08:35:38.448Z"
   },
   {
    "duration": -156,
    "start_time": "2022-02-22T08:35:38.451Z"
   },
   {
    "duration": -156,
    "start_time": "2022-02-22T08:35:38.453Z"
   },
   {
    "duration": -156,
    "start_time": "2022-02-22T08:35:38.455Z"
   },
   {
    "duration": -157,
    "start_time": "2022-02-22T08:35:38.458Z"
   },
   {
    "duration": -158,
    "start_time": "2022-02-22T08:35:38.460Z"
   },
   {
    "duration": -171,
    "start_time": "2022-02-22T08:35:38.475Z"
   },
   {
    "duration": -172,
    "start_time": "2022-02-22T08:35:38.478Z"
   },
   {
    "duration": -198,
    "start_time": "2022-02-22T08:35:38.505Z"
   },
   {
    "duration": -198,
    "start_time": "2022-02-22T08:35:38.507Z"
   },
   {
    "duration": -199,
    "start_time": "2022-02-22T08:35:38.509Z"
   },
   {
    "duration": -199,
    "start_time": "2022-02-22T08:35:38.511Z"
   },
   {
    "duration": -201,
    "start_time": "2022-02-22T08:35:38.515Z"
   },
   {
    "duration": -202,
    "start_time": "2022-02-22T08:35:38.517Z"
   },
   {
    "duration": 238,
    "start_time": "2022-02-22T08:35:44.201Z"
   },
   {
    "duration": -67,
    "start_time": "2022-02-22T08:35:44.510Z"
   },
   {
    "duration": -67,
    "start_time": "2022-02-22T08:35:44.512Z"
   },
   {
    "duration": -79,
    "start_time": "2022-02-22T08:35:44.525Z"
   },
   {
    "duration": -80,
    "start_time": "2022-02-22T08:35:44.528Z"
   },
   {
    "duration": -99,
    "start_time": "2022-02-22T08:35:44.549Z"
   },
   {
    "duration": -100,
    "start_time": "2022-02-22T08:35:44.551Z"
   },
   {
    "duration": -100,
    "start_time": "2022-02-22T08:35:44.553Z"
   },
   {
    "duration": -101,
    "start_time": "2022-02-22T08:35:44.555Z"
   },
   {
    "duration": -139,
    "start_time": "2022-02-22T08:35:44.595Z"
   },
   {
    "duration": -140,
    "start_time": "2022-02-22T08:35:44.597Z"
   },
   {
    "duration": -140,
    "start_time": "2022-02-22T08:35:44.599Z"
   },
   {
    "duration": -141,
    "start_time": "2022-02-22T08:35:44.601Z"
   },
   {
    "duration": -142,
    "start_time": "2022-02-22T08:35:44.603Z"
   },
   {
    "duration": -142,
    "start_time": "2022-02-22T08:35:44.605Z"
   },
   {
    "duration": -144,
    "start_time": "2022-02-22T08:35:44.608Z"
   },
   {
    "duration": -144,
    "start_time": "2022-02-22T08:35:44.610Z"
   },
   {
    "duration": -145,
    "start_time": "2022-02-22T08:35:44.612Z"
   },
   {
    "duration": -146,
    "start_time": "2022-02-22T08:35:44.614Z"
   },
   {
    "duration": -146,
    "start_time": "2022-02-22T08:35:44.616Z"
   },
   {
    "duration": -148,
    "start_time": "2022-02-22T08:35:44.619Z"
   },
   {
    "duration": -149,
    "start_time": "2022-02-22T08:35:44.621Z"
   },
   {
    "duration": -149,
    "start_time": "2022-02-22T08:35:44.623Z"
   },
   {
    "duration": -150,
    "start_time": "2022-02-22T08:35:44.625Z"
   },
   {
    "duration": -208,
    "start_time": "2022-02-22T08:35:44.685Z"
   },
   {
    "duration": -209,
    "start_time": "2022-02-22T08:35:44.688Z"
   },
   {
    "duration": -210,
    "start_time": "2022-02-22T08:35:44.690Z"
   },
   {
    "duration": -199,
    "start_time": "2022-02-22T08:35:44.692Z"
   },
   {
    "duration": -199,
    "start_time": "2022-02-22T08:35:44.694Z"
   },
   {
    "duration": -199,
    "start_time": "2022-02-22T08:35:44.696Z"
   },
   {
    "duration": -200,
    "start_time": "2022-02-22T08:35:44.698Z"
   },
   {
    "duration": -206,
    "start_time": "2022-02-22T08:35:44.705Z"
   },
   {
    "duration": -207,
    "start_time": "2022-02-22T08:35:44.707Z"
   },
   {
    "duration": -207,
    "start_time": "2022-02-22T08:35:44.709Z"
   },
   {
    "duration": -207,
    "start_time": "2022-02-22T08:35:44.711Z"
   },
   {
    "duration": -207,
    "start_time": "2022-02-22T08:35:44.713Z"
   },
   {
    "duration": -207,
    "start_time": "2022-02-22T08:35:44.715Z"
   },
   {
    "duration": -208,
    "start_time": "2022-02-22T08:35:44.717Z"
   },
   {
    "duration": 248,
    "start_time": "2022-02-22T08:35:51.916Z"
   },
   {
    "duration": -69,
    "start_time": "2022-02-22T08:35:52.238Z"
   },
   {
    "duration": -69,
    "start_time": "2022-02-22T08:35:52.240Z"
   },
   {
    "duration": -142,
    "start_time": "2022-02-22T08:35:52.314Z"
   },
   {
    "duration": -146,
    "start_time": "2022-02-22T08:35:52.320Z"
   },
   {
    "duration": -147,
    "start_time": "2022-02-22T08:35:52.323Z"
   },
   {
    "duration": -147,
    "start_time": "2022-02-22T08:35:52.325Z"
   },
   {
    "duration": -149,
    "start_time": "2022-02-22T08:35:52.328Z"
   },
   {
    "duration": -150,
    "start_time": "2022-02-22T08:35:52.331Z"
   },
   {
    "duration": -150,
    "start_time": "2022-02-22T08:35:52.333Z"
   },
   {
    "duration": -150,
    "start_time": "2022-02-22T08:35:52.335Z"
   },
   {
    "duration": -151,
    "start_time": "2022-02-22T08:35:52.337Z"
   },
   {
    "duration": -151,
    "start_time": "2022-02-22T08:35:52.339Z"
   },
   {
    "duration": -151,
    "start_time": "2022-02-22T08:35:52.341Z"
   },
   {
    "duration": -152,
    "start_time": "2022-02-22T08:35:52.344Z"
   },
   {
    "duration": -153,
    "start_time": "2022-02-22T08:35:52.346Z"
   },
   {
    "duration": -154,
    "start_time": "2022-02-22T08:35:52.349Z"
   },
   {
    "duration": -154,
    "start_time": "2022-02-22T08:35:52.351Z"
   },
   {
    "duration": -154,
    "start_time": "2022-02-22T08:35:52.353Z"
   },
   {
    "duration": -155,
    "start_time": "2022-02-22T08:35:52.355Z"
   },
   {
    "duration": -157,
    "start_time": "2022-02-22T08:35:52.358Z"
   },
   {
    "duration": -158,
    "start_time": "2022-02-22T08:35:52.360Z"
   },
   {
    "duration": -159,
    "start_time": "2022-02-22T08:35:52.362Z"
   },
   {
    "duration": -185,
    "start_time": "2022-02-22T08:35:52.389Z"
   },
   {
    "duration": -187,
    "start_time": "2022-02-22T08:35:52.392Z"
   },
   {
    "duration": -188,
    "start_time": "2022-02-22T08:35:52.394Z"
   },
   {
    "duration": -189,
    "start_time": "2022-02-22T08:35:52.396Z"
   },
   {
    "duration": -189,
    "start_time": "2022-02-22T08:35:52.398Z"
   },
   {
    "duration": -190,
    "start_time": "2022-02-22T08:35:52.400Z"
   },
   {
    "duration": -192,
    "start_time": "2022-02-22T08:35:52.403Z"
   },
   {
    "duration": -191,
    "start_time": "2022-02-22T08:35:52.405Z"
   },
   {
    "duration": -196,
    "start_time": "2022-02-22T08:35:52.412Z"
   },
   {
    "duration": -196,
    "start_time": "2022-02-22T08:35:52.414Z"
   },
   {
    "duration": -197,
    "start_time": "2022-02-22T08:35:52.416Z"
   },
   {
    "duration": -198,
    "start_time": "2022-02-22T08:35:52.419Z"
   },
   {
    "duration": -196,
    "start_time": "2022-02-22T08:35:52.421Z"
   },
   {
    "duration": -196,
    "start_time": "2022-02-22T08:35:52.423Z"
   },
   {
    "duration": -196,
    "start_time": "2022-02-22T08:35:52.425Z"
   },
   {
    "duration": 270,
    "start_time": "2022-02-22T08:36:07.626Z"
   },
   {
    "duration": -91,
    "start_time": "2022-02-22T08:36:07.991Z"
   },
   {
    "duration": -92,
    "start_time": "2022-02-22T08:36:07.994Z"
   },
   {
    "duration": -116,
    "start_time": "2022-02-22T08:36:08.020Z"
   },
   {
    "duration": -122,
    "start_time": "2022-02-22T08:36:08.029Z"
   },
   {
    "duration": -123,
    "start_time": "2022-02-22T08:36:08.032Z"
   },
   {
    "duration": -124,
    "start_time": "2022-02-22T08:36:08.035Z"
   },
   {
    "duration": -126,
    "start_time": "2022-02-22T08:36:08.039Z"
   },
   {
    "duration": -127,
    "start_time": "2022-02-22T08:36:08.042Z"
   },
   {
    "duration": -129,
    "start_time": "2022-02-22T08:36:08.046Z"
   },
   {
    "duration": -129,
    "start_time": "2022-02-22T08:36:08.048Z"
   },
   {
    "duration": -131,
    "start_time": "2022-02-22T08:36:08.051Z"
   },
   {
    "duration": -131,
    "start_time": "2022-02-22T08:36:08.053Z"
   },
   {
    "duration": -132,
    "start_time": "2022-02-22T08:36:08.056Z"
   },
   {
    "duration": -145,
    "start_time": "2022-02-22T08:36:08.071Z"
   },
   {
    "duration": -152,
    "start_time": "2022-02-22T08:36:08.079Z"
   },
   {
    "duration": -195,
    "start_time": "2022-02-22T08:36:08.124Z"
   },
   {
    "duration": -210,
    "start_time": "2022-02-22T08:36:08.140Z"
   },
   {
    "duration": -210,
    "start_time": "2022-02-22T08:36:08.142Z"
   },
   {
    "duration": -211,
    "start_time": "2022-02-22T08:36:08.145Z"
   },
   {
    "duration": -212,
    "start_time": "2022-02-22T08:36:08.147Z"
   },
   {
    "duration": -214,
    "start_time": "2022-02-22T08:36:08.150Z"
   },
   {
    "duration": -214,
    "start_time": "2022-02-22T08:36:08.152Z"
   },
   {
    "duration": -217,
    "start_time": "2022-02-22T08:36:08.156Z"
   },
   {
    "duration": -252,
    "start_time": "2022-02-22T08:36:08.192Z"
   },
   {
    "duration": -201,
    "start_time": "2022-02-22T08:36:08.195Z"
   },
   {
    "duration": -208,
    "start_time": "2022-02-22T08:36:08.203Z"
   },
   {
    "duration": -209,
    "start_time": "2022-02-22T08:36:08.206Z"
   },
   {
    "duration": -209,
    "start_time": "2022-02-22T08:36:08.208Z"
   },
   {
    "duration": -227,
    "start_time": "2022-02-22T08:36:08.228Z"
   },
   {
    "duration": -245,
    "start_time": "2022-02-22T08:36:08.248Z"
   },
   {
    "duration": -244,
    "start_time": "2022-02-22T08:36:08.250Z"
   },
   {
    "duration": -243,
    "start_time": "2022-02-22T08:36:08.252Z"
   },
   {
    "duration": -245,
    "start_time": "2022-02-22T08:36:08.255Z"
   },
   {
    "duration": -246,
    "start_time": "2022-02-22T08:36:08.258Z"
   },
   {
    "duration": -246,
    "start_time": "2022-02-22T08:36:08.260Z"
   },
   {
    "duration": -248,
    "start_time": "2022-02-22T08:36:08.263Z"
   },
   {
    "duration": -248,
    "start_time": "2022-02-22T08:36:08.265Z"
   },
   {
    "duration": 2498,
    "start_time": "2022-02-22T08:36:25.404Z"
   },
   {
    "duration": -80,
    "start_time": "2022-02-22T08:36:27.987Z"
   },
   {
    "duration": -115,
    "start_time": "2022-02-22T08:36:28.024Z"
   },
   {
    "duration": -116,
    "start_time": "2022-02-22T08:36:28.026Z"
   },
   {
    "duration": -116,
    "start_time": "2022-02-22T08:36:28.029Z"
   },
   {
    "duration": -123,
    "start_time": "2022-02-22T08:36:28.038Z"
   },
   {
    "duration": -125,
    "start_time": "2022-02-22T08:36:28.041Z"
   },
   {
    "duration": -127,
    "start_time": "2022-02-22T08:36:28.045Z"
   },
   {
    "duration": -135,
    "start_time": "2022-02-22T08:36:28.055Z"
   },
   {
    "duration": -141,
    "start_time": "2022-02-22T08:36:28.062Z"
   },
   {
    "duration": -147,
    "start_time": "2022-02-22T08:36:28.070Z"
   },
   {
    "duration": -148,
    "start_time": "2022-02-22T08:36:28.072Z"
   },
   {
    "duration": -148,
    "start_time": "2022-02-22T08:36:28.074Z"
   },
   {
    "duration": -185,
    "start_time": "2022-02-22T08:36:28.112Z"
   },
   {
    "duration": -190,
    "start_time": "2022-02-22T08:36:28.119Z"
   },
   {
    "duration": -191,
    "start_time": "2022-02-22T08:36:28.121Z"
   },
   {
    "duration": -192,
    "start_time": "2022-02-22T08:36:28.124Z"
   },
   {
    "duration": -193,
    "start_time": "2022-02-22T08:36:28.126Z"
   },
   {
    "duration": -194,
    "start_time": "2022-02-22T08:36:28.129Z"
   },
   {
    "duration": -203,
    "start_time": "2022-02-22T08:36:28.139Z"
   },
   {
    "duration": -204,
    "start_time": "2022-02-22T08:36:28.142Z"
   },
   {
    "duration": -207,
    "start_time": "2022-02-22T08:36:28.146Z"
   },
   {
    "duration": -208,
    "start_time": "2022-02-22T08:36:28.149Z"
   },
   {
    "duration": -209,
    "start_time": "2022-02-22T08:36:28.152Z"
   },
   {
    "duration": -210,
    "start_time": "2022-02-22T08:36:28.154Z"
   },
   {
    "duration": -303,
    "start_time": "2022-02-22T08:36:28.249Z"
   },
   {
    "duration": -314,
    "start_time": "2022-02-22T08:36:28.261Z"
   },
   {
    "duration": -321,
    "start_time": "2022-02-22T08:36:28.269Z"
   },
   {
    "duration": -278,
    "start_time": "2022-02-22T08:36:28.271Z"
   },
   {
    "duration": -279,
    "start_time": "2022-02-22T08:36:28.274Z"
   },
   {
    "duration": -280,
    "start_time": "2022-02-22T08:36:28.276Z"
   },
   {
    "duration": -280,
    "start_time": "2022-02-22T08:36:28.278Z"
   },
   {
    "duration": -287,
    "start_time": "2022-02-22T08:36:28.286Z"
   },
   {
    "duration": -289,
    "start_time": "2022-02-22T08:36:28.290Z"
   },
   {
    "duration": -290,
    "start_time": "2022-02-22T08:36:28.292Z"
   },
   {
    "duration": -291,
    "start_time": "2022-02-22T08:36:28.295Z"
   },
   {
    "duration": -302,
    "start_time": "2022-02-22T08:36:28.307Z"
   },
   {
    "duration": -311,
    "start_time": "2022-02-22T08:36:28.318Z"
   },
   {
    "duration": 2057,
    "start_time": "2022-02-22T08:37:16.334Z"
   },
   {
    "duration": -82,
    "start_time": "2022-02-22T08:37:18.479Z"
   },
   {
    "duration": -84,
    "start_time": "2022-02-22T08:37:18.482Z"
   },
   {
    "duration": -86,
    "start_time": "2022-02-22T08:37:18.485Z"
   },
   {
    "duration": -114,
    "start_time": "2022-02-22T08:37:18.514Z"
   },
   {
    "duration": -115,
    "start_time": "2022-02-22T08:37:18.517Z"
   },
   {
    "duration": -117,
    "start_time": "2022-02-22T08:37:18.520Z"
   },
   {
    "duration": -117,
    "start_time": "2022-02-22T08:37:18.522Z"
   },
   {
    "duration": -119,
    "start_time": "2022-02-22T08:37:18.525Z"
   },
   {
    "duration": -122,
    "start_time": "2022-02-22T08:37:18.529Z"
   },
   {
    "duration": -123,
    "start_time": "2022-02-22T08:37:18.532Z"
   },
   {
    "duration": -124,
    "start_time": "2022-02-22T08:37:18.534Z"
   },
   {
    "duration": -125,
    "start_time": "2022-02-22T08:37:18.537Z"
   },
   {
    "duration": -127,
    "start_time": "2022-02-22T08:37:18.540Z"
   },
   {
    "duration": -130,
    "start_time": "2022-02-22T08:37:18.544Z"
   },
   {
    "duration": -138,
    "start_time": "2022-02-22T08:37:18.554Z"
   },
   {
    "duration": -141,
    "start_time": "2022-02-22T08:37:18.558Z"
   },
   {
    "duration": -142,
    "start_time": "2022-02-22T08:37:18.560Z"
   },
   {
    "duration": -143,
    "start_time": "2022-02-22T08:37:18.563Z"
   },
   {
    "duration": -145,
    "start_time": "2022-02-22T08:37:18.566Z"
   },
   {
    "duration": -157,
    "start_time": "2022-02-22T08:37:18.580Z"
   },
   {
    "duration": -164,
    "start_time": "2022-02-22T08:37:18.588Z"
   },
   {
    "duration": -278,
    "start_time": "2022-02-22T08:37:18.703Z"
   },
   {
    "duration": -280,
    "start_time": "2022-02-22T08:37:18.707Z"
   },
   {
    "duration": -282,
    "start_time": "2022-02-22T08:37:18.710Z"
   },
   {
    "duration": -289,
    "start_time": "2022-02-22T08:37:18.719Z"
   },
   {
    "duration": -292,
    "start_time": "2022-02-22T08:37:18.723Z"
   },
   {
    "duration": -295,
    "start_time": "2022-02-22T08:37:18.727Z"
   },
   {
    "duration": -305,
    "start_time": "2022-02-22T08:37:18.739Z"
   },
   {
    "duration": -248,
    "start_time": "2022-02-22T08:37:18.742Z"
   },
   {
    "duration": -256,
    "start_time": "2022-02-22T08:37:18.751Z"
   },
   {
    "duration": -257,
    "start_time": "2022-02-22T08:37:18.754Z"
   },
   {
    "duration": -258,
    "start_time": "2022-02-22T08:37:18.757Z"
   },
   {
    "duration": -260,
    "start_time": "2022-02-22T08:37:18.760Z"
   },
   {
    "duration": -267,
    "start_time": "2022-02-22T08:37:18.769Z"
   },
   {
    "duration": -268,
    "start_time": "2022-02-22T08:37:18.771Z"
   },
   {
    "duration": -269,
    "start_time": "2022-02-22T08:37:18.774Z"
   },
   {
    "duration": -278,
    "start_time": "2022-02-22T08:37:18.784Z"
   },
   {
    "duration": 2636,
    "start_time": "2022-02-22T08:37:36.875Z"
   },
   {
    "duration": -81,
    "start_time": "2022-02-22T08:37:39.597Z"
   },
   {
    "duration": -108,
    "start_time": "2022-02-22T08:37:39.626Z"
   },
   {
    "duration": -108,
    "start_time": "2022-02-22T08:37:39.628Z"
   },
   {
    "duration": -109,
    "start_time": "2022-02-22T08:37:39.631Z"
   },
   {
    "duration": -108,
    "start_time": "2022-02-22T08:37:39.633Z"
   },
   {
    "duration": -109,
    "start_time": "2022-02-22T08:37:39.636Z"
   },
   {
    "duration": -110,
    "start_time": "2022-02-22T08:37:39.639Z"
   },
   {
    "duration": -115,
    "start_time": "2022-02-22T08:37:39.647Z"
   },
   {
    "duration": -117,
    "start_time": "2022-02-22T08:37:39.651Z"
   },
   {
    "duration": -118,
    "start_time": "2022-02-22T08:37:39.654Z"
   },
   {
    "duration": -129,
    "start_time": "2022-02-22T08:37:39.667Z"
   },
   {
    "duration": -135,
    "start_time": "2022-02-22T08:37:39.675Z"
   },
   {
    "duration": -136,
    "start_time": "2022-02-22T08:37:39.678Z"
   },
   {
    "duration": -136,
    "start_time": "2022-02-22T08:37:39.680Z"
   },
   {
    "duration": -137,
    "start_time": "2022-02-22T08:37:39.683Z"
   },
   {
    "duration": -165,
    "start_time": "2022-02-22T08:37:39.713Z"
   },
   {
    "duration": -165,
    "start_time": "2022-02-22T08:37:39.715Z"
   },
   {
    "duration": -166,
    "start_time": "2022-02-22T08:37:39.718Z"
   },
   {
    "duration": -173,
    "start_time": "2022-02-22T08:37:39.727Z"
   },
   {
    "duration": -175,
    "start_time": "2022-02-22T08:37:39.730Z"
   },
   {
    "duration": -176,
    "start_time": "2022-02-22T08:37:39.732Z"
   },
   {
    "duration": -178,
    "start_time": "2022-02-22T08:37:39.735Z"
   },
   {
    "duration": -184,
    "start_time": "2022-02-22T08:37:39.742Z"
   },
   {
    "duration": -186,
    "start_time": "2022-02-22T08:37:39.745Z"
   },
   {
    "duration": -188,
    "start_time": "2022-02-22T08:37:39.748Z"
   },
   {
    "duration": -156,
    "start_time": "2022-02-22T08:37:39.750Z"
   },
   {
    "duration": -156,
    "start_time": "2022-02-22T08:37:39.752Z"
   },
   {
    "duration": -163,
    "start_time": "2022-02-22T08:37:39.761Z"
   },
   {
    "duration": -163,
    "start_time": "2022-02-22T08:37:39.763Z"
   },
   {
    "duration": -164,
    "start_time": "2022-02-22T08:37:39.765Z"
   },
   {
    "duration": -211,
    "start_time": "2022-02-22T08:37:39.814Z"
   },
   {
    "duration": -212,
    "start_time": "2022-02-22T08:37:39.817Z"
   },
   {
    "duration": -212,
    "start_time": "2022-02-22T08:37:39.819Z"
   },
   {
    "duration": -218,
    "start_time": "2022-02-22T08:37:39.827Z"
   },
   {
    "duration": -218,
    "start_time": "2022-02-22T08:37:39.829Z"
   },
   {
    "duration": -222,
    "start_time": "2022-02-22T08:37:39.835Z"
   },
   {
    "duration": -230,
    "start_time": "2022-02-22T08:37:39.845Z"
   },
   {
    "duration": 55,
    "start_time": "2022-02-22T08:37:51.470Z"
   },
   {
    "duration": 4,
    "start_time": "2022-02-22T08:37:54.113Z"
   },
   {
    "duration": 882,
    "start_time": "2022-02-22T08:37:54.120Z"
   },
   {
    "duration": 4,
    "start_time": "2022-02-22T08:37:55.005Z"
   },
   {
    "duration": 387,
    "start_time": "2022-02-22T08:37:55.011Z"
   },
   {
    "duration": 270,
    "start_time": "2022-02-22T08:37:55.400Z"
   },
   {
    "duration": 393,
    "start_time": "2022-02-22T08:37:55.673Z"
   },
   {
    "duration": 37,
    "start_time": "2022-02-22T08:37:56.070Z"
   },
   {
    "duration": 18,
    "start_time": "2022-02-22T08:37:56.110Z"
   },
   {
    "duration": 29,
    "start_time": "2022-02-22T08:37:56.133Z"
   },
   {
    "duration": 375,
    "start_time": "2022-02-22T08:37:56.194Z"
   },
   {
    "duration": 29,
    "start_time": "2022-02-22T08:37:56.571Z"
   },
   {
    "duration": 14,
    "start_time": "2022-02-22T08:37:56.603Z"
   },
   {
    "duration": 13,
    "start_time": "2022-02-22T08:37:56.619Z"
   },
   {
    "duration": 23,
    "start_time": "2022-02-22T08:37:56.635Z"
   },
   {
    "duration": 57,
    "start_time": "2022-02-22T08:37:56.661Z"
   },
   {
    "duration": 20,
    "start_time": "2022-02-22T08:37:56.721Z"
   },
   {
    "duration": 9,
    "start_time": "2022-02-22T08:37:56.744Z"
   },
   {
    "duration": 452,
    "start_time": "2022-02-22T08:37:56.756Z"
   },
   {
    "duration": 371,
    "start_time": "2022-02-22T08:37:57.211Z"
   },
   {
    "duration": 395,
    "start_time": "2022-02-22T08:37:57.585Z"
   },
   {
    "duration": 15,
    "start_time": "2022-02-22T08:37:57.982Z"
   },
   {
    "duration": 1150,
    "start_time": "2022-02-22T08:37:58.000Z"
   },
   {
    "duration": 1006,
    "start_time": "2022-02-22T08:37:59.152Z"
   },
   {
    "duration": 1086,
    "start_time": "2022-02-22T08:38:00.160Z"
   },
   {
    "duration": 7,
    "start_time": "2022-02-22T08:38:01.248Z"
   },
   {
    "duration": 800,
    "start_time": "2022-02-22T08:38:01.257Z"
   },
   {
    "duration": 900,
    "start_time": "2022-02-22T08:38:02.062Z"
   },
   {
    "duration": 10,
    "start_time": "2022-02-22T08:38:02.965Z"
   },
   {
    "duration": 1003,
    "start_time": "2022-02-22T08:38:02.994Z"
   },
   {
    "duration": 19,
    "start_time": "2022-02-22T08:38:04.000Z"
   },
   {
    "duration": 1025,
    "start_time": "2022-02-22T08:38:04.022Z"
   },
   {
    "duration": 4,
    "start_time": "2022-02-22T08:38:05.049Z"
   },
   {
    "duration": 16,
    "start_time": "2022-02-22T08:38:05.055Z"
   },
   {
    "duration": 40,
    "start_time": "2022-02-22T08:38:05.074Z"
   },
   {
    "duration": 7,
    "start_time": "2022-02-22T08:38:05.116Z"
   },
   {
    "duration": 17,
    "start_time": "2022-02-22T08:38:05.126Z"
   },
   {
    "duration": 257,
    "start_time": "2022-02-22T08:38:05.145Z"
   },
   {
    "duration": 355,
    "start_time": "2022-02-22T08:38:05.405Z"
   },
   {
    "duration": 546,
    "start_time": "2022-02-22T08:38:13.951Z"
   },
   {
    "duration": 565,
    "start_time": "2022-02-22T08:38:27.111Z"
   },
   {
    "duration": 2124,
    "start_time": "2022-02-22T08:38:33.071Z"
   },
   {
    "duration": 259,
    "start_time": "2022-02-22T08:44:47.671Z"
   },
   {
    "duration": 5,
    "start_time": "2022-02-22T08:44:55.633Z"
   },
   {
    "duration": 853,
    "start_time": "2022-02-22T08:44:55.641Z"
   },
   {
    "duration": 4,
    "start_time": "2022-02-22T08:44:56.497Z"
   },
   {
    "duration": 381,
    "start_time": "2022-02-22T08:44:56.503Z"
   },
   {
    "duration": 234,
    "start_time": "2022-02-22T08:44:56.894Z"
   },
   {
    "duration": 386,
    "start_time": "2022-02-22T08:44:57.131Z"
   },
   {
    "duration": 25,
    "start_time": "2022-02-22T08:44:57.520Z"
   },
   {
    "duration": 47,
    "start_time": "2022-02-22T08:44:57.548Z"
   },
   {
    "duration": 27,
    "start_time": "2022-02-22T08:44:57.601Z"
   },
   {
    "duration": 389,
    "start_time": "2022-02-22T08:44:57.632Z"
   },
   {
    "duration": 19,
    "start_time": "2022-02-22T08:44:58.024Z"
   },
   {
    "duration": 10,
    "start_time": "2022-02-22T08:44:58.046Z"
   },
   {
    "duration": 38,
    "start_time": "2022-02-22T08:44:58.058Z"
   },
   {
    "duration": 11,
    "start_time": "2022-02-22T08:44:58.098Z"
   },
   {
    "duration": 26,
    "start_time": "2022-02-22T08:44:58.111Z"
   },
   {
    "duration": 17,
    "start_time": "2022-02-22T08:44:58.139Z"
   },
   {
    "duration": 8,
    "start_time": "2022-02-22T08:44:58.158Z"
   },
   {
    "duration": 415,
    "start_time": "2022-02-22T08:44:58.168Z"
   },
   {
    "duration": 569,
    "start_time": "2022-02-22T08:44:58.585Z"
   },
   {
    "duration": 491,
    "start_time": "2022-02-22T08:44:59.157Z"
   },
   {
    "duration": 6,
    "start_time": "2022-02-22T08:44:59.651Z"
   },
   {
    "duration": 1024,
    "start_time": "2022-02-22T08:44:59.659Z"
   },
   {
    "duration": 978,
    "start_time": "2022-02-22T08:45:00.685Z"
   },
   {
    "duration": 998,
    "start_time": "2022-02-22T08:45:01.666Z"
   },
   {
    "duration": 7,
    "start_time": "2022-02-22T08:45:02.666Z"
   },
   {
    "duration": 1481,
    "start_time": "2022-02-22T08:45:02.676Z"
   },
   {
    "duration": 1296,
    "start_time": "2022-02-22T08:45:04.162Z"
   },
   {
    "duration": 31,
    "start_time": "2022-02-22T08:45:05.463Z"
   },
   {
    "duration": 1037,
    "start_time": "2022-02-22T08:45:05.497Z"
   },
   {
    "duration": 16,
    "start_time": "2022-02-22T08:45:06.537Z"
   },
   {
    "duration": 1025,
    "start_time": "2022-02-22T08:45:06.556Z"
   },
   {
    "duration": 3,
    "start_time": "2022-02-22T08:45:07.583Z"
   },
   {
    "duration": 248,
    "start_time": "2022-02-22T08:45:07.588Z"
   },
   {
    "duration": -84,
    "start_time": "2022-02-22T08:45:07.922Z"
   },
   {
    "duration": -89,
    "start_time": "2022-02-22T08:45:07.929Z"
   },
   {
    "duration": -94,
    "start_time": "2022-02-22T08:45:07.936Z"
   },
   {
    "duration": -96,
    "start_time": "2022-02-22T08:45:07.940Z"
   },
   {
    "duration": -95,
    "start_time": "2022-02-22T08:45:07.942Z"
   },
   {
    "duration": 242,
    "start_time": "2022-02-22T08:45:22.711Z"
   },
   {
    "duration": 269,
    "start_time": "2022-02-22T08:46:46.792Z"
   },
   {
    "duration": 5,
    "start_time": "2022-02-22T08:46:58.193Z"
   },
   {
    "duration": 929,
    "start_time": "2022-02-22T08:46:58.201Z"
   },
   {
    "duration": 3,
    "start_time": "2022-02-22T08:46:59.133Z"
   },
   {
    "duration": 408,
    "start_time": "2022-02-22T08:46:59.140Z"
   },
   {
    "duration": 245,
    "start_time": "2022-02-22T08:46:59.552Z"
   },
   {
    "duration": 424,
    "start_time": "2022-02-22T08:46:59.800Z"
   },
   {
    "duration": 27,
    "start_time": "2022-02-22T08:47:00.227Z"
   },
   {
    "duration": 46,
    "start_time": "2022-02-22T08:47:00.258Z"
   },
   {
    "duration": 26,
    "start_time": "2022-02-22T08:47:00.308Z"
   },
   {
    "duration": 444,
    "start_time": "2022-02-22T08:47:00.337Z"
   },
   {
    "duration": 23,
    "start_time": "2022-02-22T08:47:00.784Z"
   },
   {
    "duration": 9,
    "start_time": "2022-02-22T08:47:00.810Z"
   },
   {
    "duration": 18,
    "start_time": "2022-02-22T08:47:00.822Z"
   },
   {
    "duration": 17,
    "start_time": "2022-02-22T08:47:00.843Z"
   },
   {
    "duration": 75,
    "start_time": "2022-02-22T08:47:00.863Z"
   },
   {
    "duration": 21,
    "start_time": "2022-02-22T08:47:00.941Z"
   },
   {
    "duration": 29,
    "start_time": "2022-02-22T08:47:00.965Z"
   },
   {
    "duration": 647,
    "start_time": "2022-02-22T08:47:00.997Z"
   },
   {
    "duration": 534,
    "start_time": "2022-02-22T08:47:01.647Z"
   },
   {
    "duration": 411,
    "start_time": "2022-02-22T08:47:02.185Z"
   },
   {
    "duration": 6,
    "start_time": "2022-02-22T08:47:02.600Z"
   },
   {
    "duration": 1084,
    "start_time": "2022-02-22T08:47:02.609Z"
   },
   {
    "duration": 1074,
    "start_time": "2022-02-22T08:47:03.696Z"
   },
   {
    "duration": 1219,
    "start_time": "2022-02-22T08:47:04.778Z"
   },
   {
    "duration": 8,
    "start_time": "2022-02-22T08:47:06.000Z"
   },
   {
    "duration": 936,
    "start_time": "2022-02-22T08:47:06.011Z"
   },
   {
    "duration": 820,
    "start_time": "2022-02-22T08:47:06.952Z"
   },
   {
    "duration": 25,
    "start_time": "2022-02-22T08:47:07.776Z"
   },
   {
    "duration": 1026,
    "start_time": "2022-02-22T08:47:07.805Z"
   },
   {
    "duration": 17,
    "start_time": "2022-02-22T08:47:08.833Z"
   },
   {
    "duration": 1015,
    "start_time": "2022-02-22T08:47:08.853Z"
   },
   {
    "duration": 4,
    "start_time": "2022-02-22T08:47:09.872Z"
   },
   {
    "duration": 273,
    "start_time": "2022-02-22T08:47:09.879Z"
   },
   {
    "duration": -94,
    "start_time": "2022-02-22T08:47:10.248Z"
   },
   {
    "duration": -94,
    "start_time": "2022-02-22T08:47:10.250Z"
   },
   {
    "duration": -99,
    "start_time": "2022-02-22T08:47:10.257Z"
   },
   {
    "duration": -101,
    "start_time": "2022-02-22T08:47:10.260Z"
   },
   {
    "duration": -101,
    "start_time": "2022-02-22T08:47:10.262Z"
   },
   {
    "duration": 9,
    "start_time": "2022-02-22T08:47:23.271Z"
   },
   {
    "duration": 48,
    "start_time": "2022-02-22T08:47:32.990Z"
   },
   {
    "duration": 30,
    "start_time": "2022-02-22T08:47:49.391Z"
   },
   {
    "duration": 9,
    "start_time": "2022-02-22T08:53:53.591Z"
   },
   {
    "duration": 183,
    "start_time": "2022-02-22T08:55:11.311Z"
   },
   {
    "duration": 2623,
    "start_time": "2022-02-22T08:55:45.271Z"
   },
   {
    "duration": 2115,
    "start_time": "2022-02-22T08:56:16.983Z"
   },
   {
    "duration": 2205,
    "start_time": "2022-02-22T08:56:39.191Z"
   },
   {
    "duration": 2464,
    "start_time": "2022-02-22T08:59:44.430Z"
   },
   {
    "duration": 8,
    "start_time": "2022-02-22T09:00:08.966Z"
   },
   {
    "duration": 862,
    "start_time": "2022-02-22T09:00:08.977Z"
   },
   {
    "duration": 3,
    "start_time": "2022-02-22T09:00:09.843Z"
   },
   {
    "duration": 423,
    "start_time": "2022-02-22T09:00:09.851Z"
   },
   {
    "duration": 238,
    "start_time": "2022-02-22T09:00:10.278Z"
   },
   {
    "duration": 414,
    "start_time": "2022-02-22T09:00:10.519Z"
   },
   {
    "duration": 29,
    "start_time": "2022-02-22T09:00:10.935Z"
   },
   {
    "duration": 164,
    "start_time": "2022-02-22T09:00:10.966Z"
   },
   {
    "duration": 45,
    "start_time": "2022-02-22T09:00:11.135Z"
   },
   {
    "duration": 504,
    "start_time": "2022-02-22T09:00:11.193Z"
   },
   {
    "duration": 17,
    "start_time": "2022-02-22T09:00:11.700Z"
   },
   {
    "duration": 9,
    "start_time": "2022-02-22T09:00:11.720Z"
   },
   {
    "duration": 6,
    "start_time": "2022-02-22T09:00:11.732Z"
   },
   {
    "duration": 54,
    "start_time": "2022-02-22T09:00:11.741Z"
   },
   {
    "duration": 23,
    "start_time": "2022-02-22T09:00:11.797Z"
   },
   {
    "duration": 20,
    "start_time": "2022-02-22T09:00:11.823Z"
   },
   {
    "duration": 8,
    "start_time": "2022-02-22T09:00:11.847Z"
   },
   {
    "duration": 598,
    "start_time": "2022-02-22T09:00:11.895Z"
   },
   {
    "duration": 391,
    "start_time": "2022-02-22T09:00:12.497Z"
   },
   {
    "duration": 384,
    "start_time": "2022-02-22T09:00:12.893Z"
   },
   {
    "duration": 5,
    "start_time": "2022-02-22T09:00:13.280Z"
   },
   {
    "duration": 1089,
    "start_time": "2022-02-22T09:00:13.295Z"
   },
   {
    "duration": 1042,
    "start_time": "2022-02-22T09:00:14.386Z"
   },
   {
    "duration": 1190,
    "start_time": "2022-02-22T09:00:15.431Z"
   },
   {
    "duration": 7,
    "start_time": "2022-02-22T09:00:16.624Z"
   },
   {
    "duration": 807,
    "start_time": "2022-02-22T09:00:16.634Z"
   },
   {
    "duration": 820,
    "start_time": "2022-02-22T09:00:17.446Z"
   },
   {
    "duration": 29,
    "start_time": "2022-02-22T09:00:18.270Z"
   },
   {
    "duration": 1605,
    "start_time": "2022-02-22T09:00:18.302Z"
   },
   {
    "duration": 24,
    "start_time": "2022-02-22T09:00:19.910Z"
   },
   {
    "duration": 1849,
    "start_time": "2022-02-22T09:00:19.937Z"
   },
   {
    "duration": 4,
    "start_time": "2022-02-22T09:00:21.794Z"
   },
   {
    "duration": 17,
    "start_time": "2022-02-22T09:00:21.801Z"
   },
   {
    "duration": 11,
    "start_time": "2022-02-22T09:00:21.821Z"
   },
   {
    "duration": 21,
    "start_time": "2022-02-22T09:00:21.835Z"
   },
   {
    "duration": 2443,
    "start_time": "2022-02-22T09:00:21.858Z"
   },
   {
    "duration": 23,
    "start_time": "2022-02-22T09:00:37.351Z"
   },
   {
    "duration": 1803,
    "start_time": "2022-02-22T09:00:41.790Z"
   },
   {
    "duration": 3062,
    "start_time": "2022-02-22T09:02:27.032Z"
   },
   {
    "duration": 37743,
    "start_time": "2022-02-22T09:02:38.955Z"
   },
   {
    "duration": 2525,
    "start_time": "2022-02-22T09:03:42.871Z"
   },
   {
    "duration": 337,
    "start_time": "2022-02-22T09:07:17.119Z"
   },
   {
    "duration": 340,
    "start_time": "2022-02-22T09:07:24.310Z"
   },
   {
    "duration": 541,
    "start_time": "2022-02-22T09:07:28.711Z"
   },
   {
    "duration": 83,
    "start_time": "2022-02-22T09:07:51.311Z"
   },
   {
    "duration": 2893,
    "start_time": "2022-02-22T09:07:56.503Z"
   },
   {
    "duration": 2156,
    "start_time": "2022-02-22T09:08:55.838Z"
   },
   {
    "duration": 6,
    "start_time": "2022-02-22T09:09:15.513Z"
   },
   {
    "duration": 831,
    "start_time": "2022-02-22T09:09:15.523Z"
   },
   {
    "duration": 4,
    "start_time": "2022-02-22T09:09:16.357Z"
   },
   {
    "duration": 382,
    "start_time": "2022-02-22T09:09:16.363Z"
   },
   {
    "duration": 228,
    "start_time": "2022-02-22T09:09:16.748Z"
   },
   {
    "duration": 383,
    "start_time": "2022-02-22T09:09:16.978Z"
   },
   {
    "duration": 41,
    "start_time": "2022-02-22T09:09:17.364Z"
   },
   {
    "duration": 16,
    "start_time": "2022-02-22T09:09:17.409Z"
   },
   {
    "duration": 25,
    "start_time": "2022-02-22T09:09:17.429Z"
   },
   {
    "duration": 382,
    "start_time": "2022-02-22T09:09:17.456Z"
   },
   {
    "duration": 17,
    "start_time": "2022-02-22T09:09:17.841Z"
   },
   {
    "duration": 8,
    "start_time": "2022-02-22T09:09:17.861Z"
   },
   {
    "duration": 6,
    "start_time": "2022-02-22T09:09:17.895Z"
   },
   {
    "duration": 9,
    "start_time": "2022-02-22T09:09:17.903Z"
   },
   {
    "duration": 25,
    "start_time": "2022-02-22T09:09:17.914Z"
   },
   {
    "duration": 16,
    "start_time": "2022-02-22T09:09:17.941Z"
   },
   {
    "duration": 38,
    "start_time": "2022-02-22T09:09:17.959Z"
   },
   {
    "duration": 384,
    "start_time": "2022-02-22T09:09:18.000Z"
   },
   {
    "duration": 544,
    "start_time": "2022-02-22T09:09:18.394Z"
   },
   {
    "duration": 569,
    "start_time": "2022-02-22T09:09:18.941Z"
   },
   {
    "duration": 9,
    "start_time": "2022-02-22T09:09:19.513Z"
   },
   {
    "duration": 1028,
    "start_time": "2022-02-22T09:09:19.524Z"
   },
   {
    "duration": 1031,
    "start_time": "2022-02-22T09:09:20.557Z"
   },
   {
    "duration": 1986,
    "start_time": "2022-02-22T09:09:21.592Z"
   },
   {
    "duration": 17,
    "start_time": "2022-02-22T09:09:23.582Z"
   },
   {
    "duration": 922,
    "start_time": "2022-02-22T09:09:23.602Z"
   },
   {
    "duration": 837,
    "start_time": "2022-02-22T09:09:24.527Z"
   },
   {
    "duration": 29,
    "start_time": "2022-02-22T09:09:25.367Z"
   },
   {
    "duration": 1098,
    "start_time": "2022-02-22T09:09:25.399Z"
   },
   {
    "duration": 28,
    "start_time": "2022-02-22T09:09:26.501Z"
   },
   {
    "duration": 1365,
    "start_time": "2022-02-22T09:09:26.532Z"
   },
   {
    "duration": 4,
    "start_time": "2022-02-22T09:09:27.900Z"
   },
   {
    "duration": 21,
    "start_time": "2022-02-22T09:09:27.907Z"
   },
   {
    "duration": 28,
    "start_time": "2022-02-22T09:09:27.930Z"
   },
   {
    "duration": 7,
    "start_time": "2022-02-22T09:09:27.960Z"
   },
   {
    "duration": 1732,
    "start_time": "2022-02-22T09:09:27.969Z"
   },
   {
    "duration": 1921,
    "start_time": "2022-02-22T09:09:47.679Z"
   },
   {
    "duration": 2608,
    "start_time": "2022-02-22T09:09:54.599Z"
   },
   {
    "duration": 258,
    "start_time": "2022-02-22T09:11:48.839Z"
   },
   {
    "duration": 1612,
    "start_time": "2022-02-22T09:11:50.592Z"
   },
   {
    "duration": 306,
    "start_time": "2022-02-22T09:12:01.887Z"
   },
   {
    "duration": 2587,
    "start_time": "2022-02-22T09:12:06.407Z"
   },
   {
    "duration": 364,
    "start_time": "2022-02-22T09:12:25.430Z"
   },
   {
    "duration": 481,
    "start_time": "2022-02-22T09:14:31.319Z"
   },
   {
    "duration": 239,
    "start_time": "2022-02-22T09:15:02.071Z"
   },
   {
    "duration": 171,
    "start_time": "2022-02-22T09:15:16.751Z"
   },
   {
    "duration": 219,
    "start_time": "2022-02-22T09:15:23.992Z"
   },
   {
    "duration": 173,
    "start_time": "2022-02-22T09:16:04.023Z"
   },
   {
    "duration": 2561,
    "start_time": "2022-02-22T09:16:06.536Z"
   },
   {
    "duration": 254,
    "start_time": "2022-02-22T09:20:24.910Z"
   },
   {
    "duration": 255,
    "start_time": "2022-02-22T09:20:48.711Z"
   },
   {
    "duration": 302,
    "start_time": "2022-02-22T09:27:09.970Z"
   },
   {
    "duration": 6,
    "start_time": "2022-02-22T09:27:15.880Z"
   },
   {
    "duration": 2399,
    "start_time": "2022-02-22T09:27:21.873Z"
   },
   {
    "duration": 2050,
    "start_time": "2022-02-22T09:28:27.047Z"
   },
   {
    "duration": 7,
    "start_time": "2022-02-22T10:02:32.677Z"
   },
   {
    "duration": 2207,
    "start_time": "2022-02-22T10:02:37.793Z"
   },
   {
    "duration": 8,
    "start_time": "2022-02-22T10:03:54.919Z"
   },
   {
    "duration": 2570,
    "start_time": "2022-02-22T10:03:57.111Z"
   },
   {
    "duration": 8,
    "start_time": "2022-02-22T10:04:03.809Z"
   },
   {
    "duration": 844,
    "start_time": "2022-02-22T10:04:03.819Z"
   },
   {
    "duration": 4,
    "start_time": "2022-02-22T10:04:04.666Z"
   },
   {
    "duration": 381,
    "start_time": "2022-02-22T10:04:04.672Z"
   },
   {
    "duration": 240,
    "start_time": "2022-02-22T10:04:05.055Z"
   },
   {
    "duration": 428,
    "start_time": "2022-02-22T10:04:05.298Z"
   },
   {
    "duration": 26,
    "start_time": "2022-02-22T10:04:05.729Z"
   },
   {
    "duration": 53,
    "start_time": "2022-02-22T10:04:05.762Z"
   },
   {
    "duration": 44,
    "start_time": "2022-02-22T10:04:05.819Z"
   },
   {
    "duration": 519,
    "start_time": "2022-02-22T10:04:05.866Z"
   },
   {
    "duration": 28,
    "start_time": "2022-02-22T10:04:06.392Z"
   },
   {
    "duration": 9,
    "start_time": "2022-02-22T10:04:06.423Z"
   },
   {
    "duration": 11,
    "start_time": "2022-02-22T10:04:06.435Z"
   },
   {
    "duration": 11,
    "start_time": "2022-02-22T10:04:06.449Z"
   },
   {
    "duration": 54,
    "start_time": "2022-02-22T10:04:06.463Z"
   },
   {
    "duration": 17,
    "start_time": "2022-02-22T10:04:06.520Z"
   },
   {
    "duration": 7,
    "start_time": "2022-02-22T10:04:06.540Z"
   },
   {
    "duration": 547,
    "start_time": "2022-02-22T10:04:06.550Z"
   },
   {
    "duration": 397,
    "start_time": "2022-02-22T10:04:07.100Z"
   },
   {
    "duration": 530,
    "start_time": "2022-02-22T10:04:07.500Z"
   },
   {
    "duration": 9,
    "start_time": "2022-02-22T10:04:08.033Z"
   },
   {
    "duration": 1453,
    "start_time": "2022-02-22T10:04:08.044Z"
   },
   {
    "duration": 1014,
    "start_time": "2022-02-22T10:04:09.503Z"
   },
   {
    "duration": 1841,
    "start_time": "2022-02-22T10:04:10.520Z"
   },
   {
    "duration": 9,
    "start_time": "2022-02-22T10:04:12.364Z"
   },
   {
    "duration": 1071,
    "start_time": "2022-02-22T10:04:12.376Z"
   },
   {
    "duration": 1435,
    "start_time": "2022-02-22T10:04:13.449Z"
   },
   {
    "duration": 12,
    "start_time": "2022-02-22T10:04:14.894Z"
   },
   {
    "duration": 1036,
    "start_time": "2022-02-22T10:04:14.909Z"
   },
   {
    "duration": 18,
    "start_time": "2022-02-22T10:04:15.948Z"
   },
   {
    "duration": 1436,
    "start_time": "2022-02-22T10:04:15.969Z"
   },
   {
    "duration": 4,
    "start_time": "2022-02-22T10:04:17.408Z"
   },
   {
    "duration": 13,
    "start_time": "2022-02-22T10:04:17.415Z"
   },
   {
    "duration": 25,
    "start_time": "2022-02-22T10:04:17.431Z"
   },
   {
    "duration": 39,
    "start_time": "2022-02-22T10:04:17.459Z"
   },
   {
    "duration": 394,
    "start_time": "2022-02-22T10:04:17.500Z"
   },
   {
    "duration": 2360,
    "start_time": "2022-02-22T10:04:17.897Z"
   },
   {
    "duration": 7,
    "start_time": "2022-02-22T10:04:39.673Z"
   },
   {
    "duration": 1266,
    "start_time": "2022-02-22T10:04:39.683Z"
   },
   {
    "duration": 4,
    "start_time": "2022-02-22T10:04:40.952Z"
   },
   {
    "duration": 407,
    "start_time": "2022-02-22T10:04:40.959Z"
   },
   {
    "duration": 234,
    "start_time": "2022-02-22T10:04:41.369Z"
   },
   {
    "duration": 649,
    "start_time": "2022-02-22T10:04:41.606Z"
   },
   {
    "duration": 40,
    "start_time": "2022-02-22T10:04:42.258Z"
   },
   {
    "duration": 201,
    "start_time": "2022-02-22T10:04:42.301Z"
   },
   {
    "duration": 24,
    "start_time": "2022-02-22T10:04:42.507Z"
   },
   {
    "duration": 458,
    "start_time": "2022-02-22T10:04:42.535Z"
   },
   {
    "duration": 23,
    "start_time": "2022-02-22T10:04:42.996Z"
   },
   {
    "duration": 11,
    "start_time": "2022-02-22T10:04:43.022Z"
   },
   {
    "duration": 11,
    "start_time": "2022-02-22T10:04:43.035Z"
   },
   {
    "duration": 48,
    "start_time": "2022-02-22T10:04:43.048Z"
   },
   {
    "duration": 36,
    "start_time": "2022-02-22T10:04:43.098Z"
   },
   {
    "duration": 18,
    "start_time": "2022-02-22T10:04:43.137Z"
   },
   {
    "duration": 37,
    "start_time": "2022-02-22T10:04:43.157Z"
   },
   {
    "duration": 422,
    "start_time": "2022-02-22T10:04:43.197Z"
   },
   {
    "duration": 392,
    "start_time": "2022-02-22T10:04:43.621Z"
   },
   {
    "duration": 398,
    "start_time": "2022-02-22T10:04:44.015Z"
   },
   {
    "duration": 8,
    "start_time": "2022-02-22T10:04:44.417Z"
   },
   {
    "duration": 1145,
    "start_time": "2022-02-22T10:04:44.427Z"
   },
   {
    "duration": 1028,
    "start_time": "2022-02-22T10:04:45.574Z"
   },
   {
    "duration": 1254,
    "start_time": "2022-02-22T10:04:46.604Z"
   },
   {
    "duration": 9,
    "start_time": "2022-02-22T10:04:47.862Z"
   },
   {
    "duration": 1105,
    "start_time": "2022-02-22T10:04:47.894Z"
   },
   {
    "duration": 1325,
    "start_time": "2022-02-22T10:04:49.005Z"
   },
   {
    "duration": 11,
    "start_time": "2022-02-22T10:04:50.333Z"
   },
   {
    "duration": 1034,
    "start_time": "2022-02-22T10:04:50.346Z"
   },
   {
    "duration": 29,
    "start_time": "2022-02-22T10:04:51.383Z"
   },
   {
    "duration": 1115,
    "start_time": "2022-02-22T10:04:51.414Z"
   },
   {
    "duration": 3,
    "start_time": "2022-02-22T10:04:52.531Z"
   },
   {
    "duration": 13,
    "start_time": "2022-02-22T10:04:52.537Z"
   },
   {
    "duration": 8,
    "start_time": "2022-02-22T10:04:52.553Z"
   },
   {
    "duration": 35,
    "start_time": "2022-02-22T10:04:52.564Z"
   },
   {
    "duration": 393,
    "start_time": "2022-02-22T10:04:52.602Z"
   },
   {
    "duration": 2305,
    "start_time": "2022-02-22T10:04:52.997Z"
   },
   {
    "duration": 7,
    "start_time": "2022-02-22T10:05:11.359Z"
   },
   {
    "duration": 7,
    "start_time": "2022-02-22T10:05:18.479Z"
   },
   {
    "duration": 10,
    "start_time": "2022-02-22T10:05:27.191Z"
   },
   {
    "duration": 2315,
    "start_time": "2022-02-22T10:05:30.871Z"
   },
   {
    "duration": 84,
    "start_time": "2022-02-22T10:05:50.359Z"
   },
   {
    "duration": 11,
    "start_time": "2022-02-22T10:06:00.583Z"
   },
   {
    "duration": 6766,
    "start_time": "2022-02-22T10:06:04.049Z"
   },
   {
    "duration": 7,
    "start_time": "2022-02-22T10:06:41.663Z"
   },
   {
    "duration": 247,
    "start_time": "2022-02-22T10:12:56.551Z"
   },
   {
    "duration": 271,
    "start_time": "2022-02-22T10:12:58.710Z"
   },
   {
    "duration": 342,
    "start_time": "2022-02-22T10:13:13.081Z"
   },
   {
    "duration": 294,
    "start_time": "2022-02-22T10:13:32.472Z"
   },
   {
    "duration": 16,
    "start_time": "2022-02-22T10:23:10.220Z"
   },
   {
    "duration": 272,
    "start_time": "2022-02-22T10:23:17.993Z"
   },
   {
    "duration": 3137,
    "start_time": "2022-02-22T10:23:31.852Z"
   },
   {
    "duration": 10,
    "start_time": "2022-02-22T10:24:47.434Z"
   },
   {
    "duration": 641,
    "start_time": "2022-02-22T10:24:53.331Z"
   },
   {
    "duration": 11,
    "start_time": "2022-02-22T10:25:12.292Z"
   },
   {
    "duration": 720,
    "start_time": "2022-02-22T10:25:16.107Z"
   },
   {
    "duration": 9,
    "start_time": "2022-02-22T10:27:20.289Z"
   },
   {
    "duration": 2289,
    "start_time": "2022-02-22T10:27:24.671Z"
   },
   {
    "duration": 8,
    "start_time": "2022-02-22T10:27:43.956Z"
   },
   {
    "duration": 10,
    "start_time": "2022-02-22T10:30:26.434Z"
   },
   {
    "duration": 1125,
    "start_time": "2022-02-22T10:30:31.321Z"
   },
   {
    "duration": 8,
    "start_time": "2022-02-22T10:31:54.141Z"
   },
   {
    "duration": 4,
    "start_time": "2022-02-22T10:32:00.812Z"
   },
   {
    "duration": 2916,
    "start_time": "2022-02-22T10:32:03.292Z"
   },
   {
    "duration": 11,
    "start_time": "2022-02-22T10:36:09.293Z"
   },
   {
    "duration": 1131,
    "start_time": "2022-02-22T10:36:14.532Z"
   },
   {
    "duration": 9,
    "start_time": "2022-02-22T10:36:28.334Z"
   },
   {
    "duration": 830,
    "start_time": "2022-02-22T10:36:32.411Z"
   },
   {
    "duration": 8,
    "start_time": "2022-02-22T10:36:50.493Z"
   },
   {
    "duration": 7,
    "start_time": "2022-02-22T10:37:12.384Z"
   },
   {
    "duration": 2343,
    "start_time": "2022-02-22T10:37:16.711Z"
   },
   {
    "duration": 2290,
    "start_time": "2022-02-22T10:41:26.931Z"
   },
   {
    "duration": 483,
    "start_time": "2022-02-22T10:41:56.232Z"
   },
   {
    "duration": 210,
    "start_time": "2022-02-22T10:42:13.090Z"
   },
   {
    "duration": 22,
    "start_time": "2022-02-22T10:42:21.191Z"
   },
   {
    "duration": 328,
    "start_time": "2022-02-22T10:42:24.073Z"
   },
   {
    "duration": 18,
    "start_time": "2022-02-22T10:43:42.771Z"
   },
   {
    "duration": 172,
    "start_time": "2022-02-22T10:43:45.331Z"
   },
   {
    "duration": 2820,
    "start_time": "2022-02-22T10:43:49.593Z"
   },
   {
    "duration": 516,
    "start_time": "2022-02-22T10:44:56.654Z"
   },
   {
    "duration": 2322,
    "start_time": "2022-02-22T10:45:17.791Z"
   },
   {
    "duration": 976,
    "start_time": "2022-02-22T10:46:42.711Z"
   },
   {
    "duration": 513,
    "start_time": "2022-02-22T10:47:00.792Z"
   },
   {
    "duration": 111,
    "start_time": "2022-02-22T10:47:05.889Z"
   },
   {
    "duration": 25,
    "start_time": "2022-02-22T10:47:30.991Z"
   },
   {
    "duration": 205,
    "start_time": "2022-02-22T10:47:33.991Z"
   },
   {
    "duration": 2354,
    "start_time": "2022-02-22T10:48:41.051Z"
   },
   {
    "duration": 134,
    "start_time": "2022-02-22T10:50:28.964Z"
   },
   {
    "duration": 64,
    "start_time": "2022-02-22T10:50:40.132Z"
   },
   {
    "duration": 90,
    "start_time": "2022-02-22T10:51:10.312Z"
   },
   {
    "duration": 7,
    "start_time": "2022-02-22T10:51:54.182Z"
   },
   {
    "duration": 1246,
    "start_time": "2022-02-22T10:51:54.193Z"
   },
   {
    "duration": 5,
    "start_time": "2022-02-22T10:51:55.443Z"
   },
   {
    "duration": 410,
    "start_time": "2022-02-22T10:51:55.452Z"
   },
   {
    "duration": 240,
    "start_time": "2022-02-22T10:51:55.865Z"
   },
   {
    "duration": 417,
    "start_time": "2022-02-22T10:51:56.108Z"
   },
   {
    "duration": 26,
    "start_time": "2022-02-22T10:51:56.528Z"
   },
   {
    "duration": 56,
    "start_time": "2022-02-22T10:51:56.557Z"
   },
   {
    "duration": 28,
    "start_time": "2022-02-22T10:51:56.619Z"
   },
   {
    "duration": 411,
    "start_time": "2022-02-22T10:51:56.651Z"
   },
   {
    "duration": 43,
    "start_time": "2022-02-22T10:51:57.066Z"
   },
   {
    "duration": 12,
    "start_time": "2022-02-22T10:51:57.112Z"
   },
   {
    "duration": 9,
    "start_time": "2022-02-22T10:51:57.128Z"
   },
   {
    "duration": 18,
    "start_time": "2022-02-22T10:51:57.140Z"
   },
   {
    "duration": 62,
    "start_time": "2022-02-22T10:51:57.161Z"
   },
   {
    "duration": 19,
    "start_time": "2022-02-22T10:51:57.226Z"
   },
   {
    "duration": 7,
    "start_time": "2022-02-22T10:51:57.249Z"
   },
   {
    "duration": 422,
    "start_time": "2022-02-22T10:51:57.260Z"
   },
   {
    "duration": 387,
    "start_time": "2022-02-22T10:51:57.685Z"
   },
   {
    "duration": 383,
    "start_time": "2022-02-22T10:51:58.075Z"
   },
   {
    "duration": 5,
    "start_time": "2022-02-22T10:51:58.461Z"
   },
   {
    "duration": 1228,
    "start_time": "2022-02-22T10:51:58.469Z"
   },
   {
    "duration": 1023,
    "start_time": "2022-02-22T10:51:59.699Z"
   },
   {
    "duration": 1071,
    "start_time": "2022-02-22T10:52:00.725Z"
   },
   {
    "duration": 8,
    "start_time": "2022-02-22T10:52:01.800Z"
   },
   {
    "duration": 1317,
    "start_time": "2022-02-22T10:52:01.811Z"
   },
   {
    "duration": 996,
    "start_time": "2022-02-22T10:52:03.136Z"
   },
   {
    "duration": 13,
    "start_time": "2022-02-22T10:52:04.136Z"
   },
   {
    "duration": 1718,
    "start_time": "2022-02-22T10:52:04.151Z"
   },
   {
    "duration": 29,
    "start_time": "2022-02-22T10:52:05.872Z"
   },
   {
    "duration": 1054,
    "start_time": "2022-02-22T10:52:05.904Z"
   },
   {
    "duration": 4,
    "start_time": "2022-02-22T10:52:06.961Z"
   },
   {
    "duration": 29,
    "start_time": "2022-02-22T10:52:06.968Z"
   },
   {
    "duration": 12,
    "start_time": "2022-02-22T10:52:07.000Z"
   },
   {
    "duration": 11,
    "start_time": "2022-02-22T10:52:07.015Z"
   },
   {
    "duration": 28,
    "start_time": "2022-02-22T10:52:07.029Z"
   },
   {
    "duration": 43,
    "start_time": "2022-02-22T10:52:07.060Z"
   },
   {
    "duration": 416,
    "start_time": "2022-02-22T10:52:07.108Z"
   },
   {
    "duration": 710,
    "start_time": "2022-02-22T10:52:07.527Z"
   },
   {
    "duration": 179,
    "start_time": "2022-02-22T10:53:22.725Z"
   },
   {
    "duration": 191,
    "start_time": "2022-02-22T10:53:49.711Z"
   },
   {
    "duration": 9,
    "start_time": "2022-02-22T10:54:26.091Z"
   },
   {
    "duration": 10,
    "start_time": "2022-02-22T10:54:57.100Z"
   },
   {
    "duration": 3626,
    "start_time": "2022-02-22T10:55:07.234Z"
   },
   {
    "duration": 3,
    "start_time": "2022-02-22T10:55:58.762Z"
   },
   {
    "duration": 271,
    "start_time": "2022-02-22T10:59:18.357Z"
   },
   {
    "duration": 8,
    "start_time": "2022-02-22T10:59:49.966Z"
   },
   {
    "duration": 316,
    "start_time": "2022-02-22T10:59:55.100Z"
   },
   {
    "duration": 6,
    "start_time": "2022-02-22T11:00:16.471Z"
   },
   {
    "duration": 1167,
    "start_time": "2022-02-22T11:00:16.480Z"
   },
   {
    "duration": 5,
    "start_time": "2022-02-22T11:00:17.651Z"
   },
   {
    "duration": 414,
    "start_time": "2022-02-22T11:00:17.659Z"
   },
   {
    "duration": 222,
    "start_time": "2022-02-22T11:00:18.076Z"
   },
   {
    "duration": 394,
    "start_time": "2022-02-22T11:00:18.301Z"
   },
   {
    "duration": 24,
    "start_time": "2022-02-22T11:00:18.698Z"
   },
   {
    "duration": 17,
    "start_time": "2022-02-22T11:00:18.725Z"
   },
   {
    "duration": 59,
    "start_time": "2022-02-22T11:00:18.745Z"
   },
   {
    "duration": 371,
    "start_time": "2022-02-22T11:00:18.807Z"
   },
   {
    "duration": 27,
    "start_time": "2022-02-22T11:00:19.181Z"
   },
   {
    "duration": 9,
    "start_time": "2022-02-22T11:00:19.210Z"
   },
   {
    "duration": 12,
    "start_time": "2022-02-22T11:00:19.221Z"
   },
   {
    "duration": 10,
    "start_time": "2022-02-22T11:00:19.236Z"
   },
   {
    "duration": 54,
    "start_time": "2022-02-22T11:00:19.248Z"
   },
   {
    "duration": 18,
    "start_time": "2022-02-22T11:00:19.304Z"
   },
   {
    "duration": 10,
    "start_time": "2022-02-22T11:00:19.324Z"
   },
   {
    "duration": 391,
    "start_time": "2022-02-22T11:00:19.337Z"
   },
   {
    "duration": 383,
    "start_time": "2022-02-22T11:00:19.731Z"
   },
   {
    "duration": 377,
    "start_time": "2022-02-22T11:00:20.116Z"
   },
   {
    "duration": 6,
    "start_time": "2022-02-22T11:00:20.497Z"
   },
   {
    "duration": 1036,
    "start_time": "2022-02-22T11:00:20.507Z"
   },
   {
    "duration": 1243,
    "start_time": "2022-02-22T11:00:21.550Z"
   },
   {
    "duration": 1646,
    "start_time": "2022-02-22T11:00:22.798Z"
   },
   {
    "duration": 6,
    "start_time": "2022-02-22T11:00:24.447Z"
   },
   {
    "duration": 867,
    "start_time": "2022-02-22T11:00:24.456Z"
   },
   {
    "duration": 826,
    "start_time": "2022-02-22T11:00:25.326Z"
   },
   {
    "duration": 15,
    "start_time": "2022-02-22T11:00:26.155Z"
   },
   {
    "duration": 1184,
    "start_time": "2022-02-22T11:00:26.173Z"
   },
   {
    "duration": 35,
    "start_time": "2022-02-22T11:00:27.360Z"
   },
   {
    "duration": 1299,
    "start_time": "2022-02-22T11:00:27.398Z"
   },
   {
    "duration": 2,
    "start_time": "2022-02-22T11:00:28.700Z"
   },
   {
    "duration": 15,
    "start_time": "2022-02-22T11:00:28.705Z"
   },
   {
    "duration": 6,
    "start_time": "2022-02-22T11:00:28.722Z"
   },
   {
    "duration": 9,
    "start_time": "2022-02-22T11:00:28.731Z"
   },
   {
    "duration": 153,
    "start_time": "2022-02-22T11:00:28.743Z"
   },
   {
    "duration": 298,
    "start_time": "2022-02-22T11:00:28.900Z"
   },
   {
    "duration": 3,
    "start_time": "2022-02-22T11:00:29.201Z"
   },
   {
    "duration": 294,
    "start_time": "2022-02-22T11:00:29.207Z"
   },
   {
    "duration": 7,
    "start_time": "2022-02-22T11:03:16.095Z"
   },
   {
    "duration": 2156,
    "start_time": "2022-02-22T11:03:22.016Z"
   },
   {
    "duration": 2470,
    "start_time": "2022-02-22T11:05:51.911Z"
   },
   {
    "duration": 6,
    "start_time": "2022-02-22T11:06:03.751Z"
   },
   {
    "duration": 849,
    "start_time": "2022-02-22T11:06:03.760Z"
   },
   {
    "duration": 4,
    "start_time": "2022-02-22T11:06:04.613Z"
   },
   {
    "duration": 399,
    "start_time": "2022-02-22T11:06:04.620Z"
   },
   {
    "duration": 238,
    "start_time": "2022-02-22T11:06:05.021Z"
   },
   {
    "duration": 424,
    "start_time": "2022-02-22T11:06:05.262Z"
   },
   {
    "duration": 24,
    "start_time": "2022-02-22T11:06:05.692Z"
   },
   {
    "duration": 18,
    "start_time": "2022-02-22T11:06:05.721Z"
   },
   {
    "duration": 61,
    "start_time": "2022-02-22T11:06:05.742Z"
   },
   {
    "duration": 366,
    "start_time": "2022-02-22T11:06:05.806Z"
   },
   {
    "duration": 27,
    "start_time": "2022-02-22T11:06:06.174Z"
   },
   {
    "duration": 23,
    "start_time": "2022-02-22T11:06:06.203Z"
   },
   {
    "duration": 10,
    "start_time": "2022-02-22T11:06:06.229Z"
   },
   {
    "duration": 21,
    "start_time": "2022-02-22T11:06:06.241Z"
   },
   {
    "duration": 43,
    "start_time": "2022-02-22T11:06:06.265Z"
   },
   {
    "duration": 16,
    "start_time": "2022-02-22T11:06:06.310Z"
   },
   {
    "duration": 11,
    "start_time": "2022-02-22T11:06:06.328Z"
   },
   {
    "duration": 404,
    "start_time": "2022-02-22T11:06:06.341Z"
   },
   {
    "duration": 629,
    "start_time": "2022-02-22T11:06:06.748Z"
   },
   {
    "duration": 388,
    "start_time": "2022-02-22T11:06:07.379Z"
   },
   {
    "duration": 6,
    "start_time": "2022-02-22T11:06:07.770Z"
   },
   {
    "duration": 1620,
    "start_time": "2022-02-22T11:06:07.778Z"
   },
   {
    "duration": 1001,
    "start_time": "2022-02-22T11:06:09.405Z"
   },
   {
    "duration": 1036,
    "start_time": "2022-02-22T11:06:10.409Z"
   },
   {
    "duration": 6,
    "start_time": "2022-02-22T11:06:11.448Z"
   },
   {
    "duration": 802,
    "start_time": "2022-02-22T11:06:11.457Z"
   },
   {
    "duration": 835,
    "start_time": "2022-02-22T11:06:12.261Z"
   },
   {
    "duration": 10,
    "start_time": "2022-02-22T11:06:13.099Z"
   },
   {
    "duration": 1306,
    "start_time": "2022-02-22T11:06:13.113Z"
   },
   {
    "duration": 18,
    "start_time": "2022-02-22T11:06:14.422Z"
   },
   {
    "duration": 1085,
    "start_time": "2022-02-22T11:06:14.442Z"
   },
   {
    "duration": 3,
    "start_time": "2022-02-22T11:06:15.530Z"
   },
   {
    "duration": 19,
    "start_time": "2022-02-22T11:06:15.535Z"
   },
   {
    "duration": 13,
    "start_time": "2022-02-22T11:06:15.557Z"
   },
   {
    "duration": 26,
    "start_time": "2022-02-22T11:06:15.573Z"
   },
   {
    "duration": 98,
    "start_time": "2022-02-22T11:06:15.601Z"
   },
   {
    "duration": 202,
    "start_time": "2022-02-22T11:06:15.702Z"
   },
   {
    "duration": 2711,
    "start_time": "2022-02-22T11:06:15.908Z"
   },
   {
    "duration": -393,
    "start_time": "2022-02-22T11:06:19.015Z"
   },
   {
    "duration": 2285,
    "start_time": "2022-02-22T11:06:28.248Z"
   },
   {
    "duration": 2900,
    "start_time": "2022-02-22T11:07:22.593Z"
   },
   {
    "duration": 2684,
    "start_time": "2022-02-22T11:07:46.952Z"
   },
   {
    "duration": 6,
    "start_time": "2022-02-22T11:08:10.152Z"
   },
   {
    "duration": 827,
    "start_time": "2022-02-22T11:08:10.160Z"
   },
   {
    "duration": 4,
    "start_time": "2022-02-22T11:08:10.990Z"
   },
   {
    "duration": 368,
    "start_time": "2022-02-22T11:08:10.997Z"
   },
   {
    "duration": 218,
    "start_time": "2022-02-22T11:08:11.367Z"
   },
   {
    "duration": 424,
    "start_time": "2022-02-22T11:08:11.593Z"
   },
   {
    "duration": 31,
    "start_time": "2022-02-22T11:08:12.020Z"
   },
   {
    "duration": 51,
    "start_time": "2022-02-22T11:08:12.055Z"
   },
   {
    "duration": 41,
    "start_time": "2022-02-22T11:08:12.111Z"
   },
   {
    "duration": 510,
    "start_time": "2022-02-22T11:08:12.155Z"
   },
   {
    "duration": 41,
    "start_time": "2022-02-22T11:08:12.669Z"
   },
   {
    "duration": 11,
    "start_time": "2022-02-22T11:08:12.713Z"
   },
   {
    "duration": 9,
    "start_time": "2022-02-22T11:08:12.727Z"
   },
   {
    "duration": 10,
    "start_time": "2022-02-22T11:08:12.738Z"
   },
   {
    "duration": 62,
    "start_time": "2022-02-22T11:08:12.751Z"
   },
   {
    "duration": 21,
    "start_time": "2022-02-22T11:08:12.816Z"
   },
   {
    "duration": 7,
    "start_time": "2022-02-22T11:08:12.840Z"
   },
   {
    "duration": 410,
    "start_time": "2022-02-22T11:08:12.850Z"
   },
   {
    "duration": 402,
    "start_time": "2022-02-22T11:08:13.263Z"
   },
   {
    "duration": 398,
    "start_time": "2022-02-22T11:08:13.667Z"
   },
   {
    "duration": 7,
    "start_time": "2022-02-22T11:08:14.067Z"
   },
   {
    "duration": 1071,
    "start_time": "2022-02-22T11:08:14.077Z"
   },
   {
    "duration": 1197,
    "start_time": "2022-02-22T11:08:15.154Z"
   },
   {
    "duration": 1341,
    "start_time": "2022-02-22T11:08:16.355Z"
   },
   {
    "duration": 6,
    "start_time": "2022-02-22T11:08:17.699Z"
   },
   {
    "duration": 845,
    "start_time": "2022-02-22T11:08:17.708Z"
   },
   {
    "duration": 863,
    "start_time": "2022-02-22T11:08:18.557Z"
   },
   {
    "duration": 15,
    "start_time": "2022-02-22T11:08:19.423Z"
   },
   {
    "duration": 1756,
    "start_time": "2022-02-22T11:08:19.442Z"
   },
   {
    "duration": 23,
    "start_time": "2022-02-22T11:08:21.201Z"
   },
   {
    "duration": 1133,
    "start_time": "2022-02-22T11:08:21.228Z"
   },
   {
    "duration": 5,
    "start_time": "2022-02-22T11:08:22.363Z"
   },
   {
    "duration": 24,
    "start_time": "2022-02-22T11:08:22.370Z"
   },
   {
    "duration": 10,
    "start_time": "2022-02-22T11:08:22.397Z"
   },
   {
    "duration": 9,
    "start_time": "2022-02-22T11:08:22.410Z"
   },
   {
    "duration": 77,
    "start_time": "2022-02-22T11:08:22.422Z"
   },
   {
    "duration": 207,
    "start_time": "2022-02-22T11:08:22.502Z"
   },
   {
    "duration": 2841,
    "start_time": "2022-02-22T11:08:22.795Z"
   },
   {
    "duration": -364,
    "start_time": "2022-02-22T11:08:26.003Z"
   },
   {
    "duration": 673,
    "start_time": "2022-02-22T11:08:48.371Z"
   },
   {
    "duration": 2484,
    "start_time": "2022-02-22T11:08:54.251Z"
   },
   {
    "duration": 3730,
    "start_time": "2022-02-22T11:09:13.786Z"
   },
   {
    "duration": 2332,
    "start_time": "2022-02-22T11:09:30.991Z"
   },
   {
    "duration": 22,
    "start_time": "2022-02-22T11:09:57.411Z"
   },
   {
    "duration": 18,
    "start_time": "2022-02-22T11:10:34.228Z"
   },
   {
    "duration": 303,
    "start_time": "2022-02-22T11:12:38.040Z"
   },
   {
    "duration": 7,
    "start_time": "2022-02-22T11:12:53.829Z"
   },
   {
    "duration": 5,
    "start_time": "2022-02-22T11:14:20.532Z"
   },
   {
    "duration": 2463,
    "start_time": "2022-02-22T11:14:26.905Z"
   },
   {
    "duration": 8,
    "start_time": "2022-02-22T11:28:40.972Z"
   },
   {
    "duration": 257,
    "start_time": "2022-02-22T11:28:42.151Z"
   },
   {
    "duration": 6,
    "start_time": "2022-02-22T11:29:01.013Z"
   },
   {
    "duration": 874,
    "start_time": "2022-02-22T11:29:01.022Z"
   },
   {
    "duration": 4,
    "start_time": "2022-02-22T11:29:01.899Z"
   },
   {
    "duration": 448,
    "start_time": "2022-02-22T11:29:01.905Z"
   },
   {
    "duration": 265,
    "start_time": "2022-02-22T11:29:02.356Z"
   },
   {
    "duration": 425,
    "start_time": "2022-02-22T11:29:02.623Z"
   },
   {
    "duration": 51,
    "start_time": "2022-02-22T11:29:03.051Z"
   },
   {
    "duration": 26,
    "start_time": "2022-02-22T11:29:03.106Z"
   },
   {
    "duration": 63,
    "start_time": "2022-02-22T11:29:03.138Z"
   },
   {
    "duration": 512,
    "start_time": "2022-02-22T11:29:03.206Z"
   },
   {
    "duration": 20,
    "start_time": "2022-02-22T11:29:03.721Z"
   },
   {
    "duration": 9,
    "start_time": "2022-02-22T11:29:03.743Z"
   },
   {
    "duration": 38,
    "start_time": "2022-02-22T11:29:03.755Z"
   },
   {
    "duration": 8,
    "start_time": "2022-02-22T11:29:03.796Z"
   },
   {
    "duration": 28,
    "start_time": "2022-02-22T11:29:03.807Z"
   },
   {
    "duration": 17,
    "start_time": "2022-02-22T11:29:03.837Z"
   },
   {
    "duration": 39,
    "start_time": "2022-02-22T11:29:03.857Z"
   },
   {
    "duration": 410,
    "start_time": "2022-02-22T11:29:03.898Z"
   },
   {
    "duration": 386,
    "start_time": "2022-02-22T11:29:04.310Z"
   },
   {
    "duration": 394,
    "start_time": "2022-02-22T11:29:04.699Z"
   },
   {
    "duration": 6,
    "start_time": "2022-02-22T11:29:05.096Z"
   },
   {
    "duration": 1063,
    "start_time": "2022-02-22T11:29:05.104Z"
   },
   {
    "duration": 1448,
    "start_time": "2022-02-22T11:29:06.169Z"
   },
   {
    "duration": 1633,
    "start_time": "2022-02-22T11:29:07.620Z"
   },
   {
    "duration": 9,
    "start_time": "2022-02-22T11:29:09.257Z"
   },
   {
    "duration": 824,
    "start_time": "2022-02-22T11:29:09.269Z"
   },
   {
    "duration": 821,
    "start_time": "2022-02-22T11:29:10.100Z"
   },
   {
    "duration": 11,
    "start_time": "2022-02-22T11:29:10.924Z"
   },
   {
    "duration": 1016,
    "start_time": "2022-02-22T11:29:10.938Z"
   },
   {
    "duration": 37,
    "start_time": "2022-02-22T11:29:11.957Z"
   },
   {
    "duration": 1073,
    "start_time": "2022-02-22T11:29:11.997Z"
   },
   {
    "duration": 24,
    "start_time": "2022-02-22T11:29:13.072Z"
   },
   {
    "duration": 10,
    "start_time": "2022-02-22T11:29:13.099Z"
   },
   {
    "duration": 381,
    "start_time": "2022-02-22T11:29:13.112Z"
   },
   {
    "duration": -1432,
    "start_time": "2022-02-22T11:29:14.928Z"
   },
   {
    "duration": -1476,
    "start_time": "2022-02-22T11:29:14.974Z"
   },
   {
    "duration": -1478,
    "start_time": "2022-02-22T11:29:14.977Z"
   },
   {
    "duration": -1479,
    "start_time": "2022-02-22T11:29:14.980Z"
   },
   {
    "duration": -1480,
    "start_time": "2022-02-22T11:29:14.983Z"
   },
   {
    "duration": -1481,
    "start_time": "2022-02-22T11:29:14.986Z"
   },
   {
    "duration": -1487,
    "start_time": "2022-02-22T11:29:14.994Z"
   },
   {
    "duration": -1488,
    "start_time": "2022-02-22T11:29:14.997Z"
   },
   {
    "duration": -1492,
    "start_time": "2022-02-22T11:29:15.002Z"
   },
   {
    "duration": -1493,
    "start_time": "2022-02-22T11:29:15.007Z"
   },
   {
    "duration": -1496,
    "start_time": "2022-02-22T11:29:15.011Z"
   },
   {
    "duration": -1500,
    "start_time": "2022-02-22T11:29:15.016Z"
   },
   {
    "duration": 8,
    "start_time": "2022-02-22T11:29:22.689Z"
   },
   {
    "duration": 254,
    "start_time": "2022-02-22T11:29:24.332Z"
   },
   {
    "duration": 8,
    "start_time": "2022-02-22T11:29:35.653Z"
   },
   {
    "duration": 826,
    "start_time": "2022-02-22T11:29:35.663Z"
   },
   {
    "duration": 4,
    "start_time": "2022-02-22T11:29:36.495Z"
   },
   {
    "duration": 388,
    "start_time": "2022-02-22T11:29:36.501Z"
   },
   {
    "duration": 231,
    "start_time": "2022-02-22T11:29:36.894Z"
   },
   {
    "duration": 641,
    "start_time": "2022-02-22T11:29:37.128Z"
   },
   {
    "duration": 50,
    "start_time": "2022-02-22T11:29:37.772Z"
   },
   {
    "duration": 17,
    "start_time": "2022-02-22T11:29:37.825Z"
   },
   {
    "duration": 52,
    "start_time": "2022-02-22T11:29:37.847Z"
   },
   {
    "duration": 379,
    "start_time": "2022-02-22T11:29:37.902Z"
   },
   {
    "duration": 27,
    "start_time": "2022-02-22T11:29:38.285Z"
   },
   {
    "duration": 10,
    "start_time": "2022-02-22T11:29:38.314Z"
   },
   {
    "duration": 10,
    "start_time": "2022-02-22T11:29:38.327Z"
   },
   {
    "duration": 9,
    "start_time": "2022-02-22T11:29:38.340Z"
   },
   {
    "duration": 76,
    "start_time": "2022-02-22T11:29:38.352Z"
   },
   {
    "duration": 20,
    "start_time": "2022-02-22T11:29:38.431Z"
   },
   {
    "duration": 9,
    "start_time": "2022-02-22T11:29:38.455Z"
   },
   {
    "duration": 417,
    "start_time": "2022-02-22T11:29:38.467Z"
   },
   {
    "duration": 404,
    "start_time": "2022-02-22T11:29:38.886Z"
   },
   {
    "duration": 398,
    "start_time": "2022-02-22T11:29:39.295Z"
   },
   {
    "duration": 6,
    "start_time": "2022-02-22T11:29:39.697Z"
   },
   {
    "duration": 1321,
    "start_time": "2022-02-22T11:29:39.706Z"
   },
   {
    "duration": 1000,
    "start_time": "2022-02-22T11:29:41.030Z"
   },
   {
    "duration": 1025,
    "start_time": "2022-02-22T11:29:42.033Z"
   },
   {
    "duration": 6,
    "start_time": "2022-02-22T11:29:43.061Z"
   },
   {
    "duration": 814,
    "start_time": "2022-02-22T11:29:43.070Z"
   },
   {
    "duration": 812,
    "start_time": "2022-02-22T11:29:43.896Z"
   },
   {
    "duration": 12,
    "start_time": "2022-02-22T11:29:44.711Z"
   },
   {
    "duration": 1061,
    "start_time": "2022-02-22T11:29:44.725Z"
   },
   {
    "duration": 18,
    "start_time": "2022-02-22T11:29:45.789Z"
   },
   {
    "duration": 1365,
    "start_time": "2022-02-22T11:29:45.810Z"
   },
   {
    "duration": 17,
    "start_time": "2022-02-22T11:29:47.178Z"
   },
   {
    "duration": 10,
    "start_time": "2022-02-22T11:29:47.197Z"
   },
   {
    "duration": 10,
    "start_time": "2022-02-22T11:29:47.210Z"
   },
   {
    "duration": 241,
    "start_time": "2022-02-22T11:29:47.223Z"
   },
   {
    "duration": -471,
    "start_time": "2022-02-22T11:29:47.937Z"
   },
   {
    "duration": -472,
    "start_time": "2022-02-22T11:29:47.940Z"
   },
   {
    "duration": -473,
    "start_time": "2022-02-22T11:29:47.943Z"
   },
   {
    "duration": -474,
    "start_time": "2022-02-22T11:29:47.946Z"
   },
   {
    "duration": -475,
    "start_time": "2022-02-22T11:29:47.949Z"
   },
   {
    "duration": -477,
    "start_time": "2022-02-22T11:29:47.952Z"
   },
   {
    "duration": -477,
    "start_time": "2022-02-22T11:29:47.954Z"
   },
   {
    "duration": -477,
    "start_time": "2022-02-22T11:29:47.956Z"
   },
   {
    "duration": -481,
    "start_time": "2022-02-22T11:29:47.962Z"
   },
   {
    "duration": -488,
    "start_time": "2022-02-22T11:29:47.970Z"
   },
   {
    "duration": -489,
    "start_time": "2022-02-22T11:29:47.973Z"
   },
   {
    "duration": 7,
    "start_time": "2022-02-22T11:31:03.762Z"
   },
   {
    "duration": 1307,
    "start_time": "2022-02-22T11:31:03.773Z"
   },
   {
    "duration": 5,
    "start_time": "2022-02-22T11:31:05.093Z"
   },
   {
    "duration": 392,
    "start_time": "2022-02-22T11:31:05.101Z"
   },
   {
    "duration": 240,
    "start_time": "2022-02-22T11:31:05.496Z"
   },
   {
    "duration": 418,
    "start_time": "2022-02-22T11:31:05.739Z"
   },
   {
    "duration": 41,
    "start_time": "2022-02-22T11:31:06.160Z"
   },
   {
    "duration": 26,
    "start_time": "2022-02-22T11:31:06.205Z"
   },
   {
    "duration": 65,
    "start_time": "2022-02-22T11:31:06.237Z"
   },
   {
    "duration": 474,
    "start_time": "2022-02-22T11:31:06.307Z"
   },
   {
    "duration": 19,
    "start_time": "2022-02-22T11:31:06.784Z"
   },
   {
    "duration": 12,
    "start_time": "2022-02-22T11:31:06.806Z"
   },
   {
    "duration": 12,
    "start_time": "2022-02-22T11:31:06.821Z"
   },
   {
    "duration": 9,
    "start_time": "2022-02-22T11:31:06.836Z"
   },
   {
    "duration": 63,
    "start_time": "2022-02-22T11:31:06.847Z"
   },
   {
    "duration": 16,
    "start_time": "2022-02-22T11:31:06.913Z"
   },
   {
    "duration": 10,
    "start_time": "2022-02-22T11:31:06.932Z"
   },
   {
    "duration": 417,
    "start_time": "2022-02-22T11:31:06.944Z"
   },
   {
    "duration": 590,
    "start_time": "2022-02-22T11:31:07.365Z"
   },
   {
    "duration": 580,
    "start_time": "2022-02-22T11:31:07.958Z"
   },
   {
    "duration": 6,
    "start_time": "2022-02-22T11:31:08.540Z"
   },
   {
    "duration": 1121,
    "start_time": "2022-02-22T11:31:08.549Z"
   },
   {
    "duration": 965,
    "start_time": "2022-02-22T11:31:09.673Z"
   },
   {
    "duration": 979,
    "start_time": "2022-02-22T11:31:10.641Z"
   },
   {
    "duration": 6,
    "start_time": "2022-02-22T11:31:11.622Z"
   },
   {
    "duration": 815,
    "start_time": "2022-02-22T11:31:11.631Z"
   },
   {
    "duration": 1408,
    "start_time": "2022-02-22T11:31:12.452Z"
   },
   {
    "duration": 12,
    "start_time": "2022-02-22T11:31:13.863Z"
   },
   {
    "duration": 1220,
    "start_time": "2022-02-22T11:31:13.877Z"
   },
   {
    "duration": 19,
    "start_time": "2022-02-22T11:31:15.100Z"
   },
   {
    "duration": 1403,
    "start_time": "2022-02-22T11:31:15.122Z"
   },
   {
    "duration": 7,
    "start_time": "2022-02-22T11:31:16.528Z"
   },
   {
    "duration": 24,
    "start_time": "2022-02-22T11:31:16.537Z"
   },
   {
    "duration": 17,
    "start_time": "2022-02-22T11:31:16.564Z"
   },
   {
    "duration": 263,
    "start_time": "2022-02-22T11:31:16.584Z"
   },
   {
    "duration": -266,
    "start_time": "2022-02-22T11:31:17.116Z"
   },
   {
    "duration": -268,
    "start_time": "2022-02-22T11:31:17.119Z"
   },
   {
    "duration": -270,
    "start_time": "2022-02-22T11:31:17.122Z"
   },
   {
    "duration": -272,
    "start_time": "2022-02-22T11:31:17.125Z"
   },
   {
    "duration": -272,
    "start_time": "2022-02-22T11:31:17.127Z"
   },
   {
    "duration": -280,
    "start_time": "2022-02-22T11:31:17.136Z"
   },
   {
    "duration": -290,
    "start_time": "2022-02-22T11:31:17.147Z"
   },
   {
    "duration": -294,
    "start_time": "2022-02-22T11:31:17.153Z"
   },
   {
    "duration": -295,
    "start_time": "2022-02-22T11:31:17.155Z"
   },
   {
    "duration": -297,
    "start_time": "2022-02-22T11:31:17.158Z"
   },
   {
    "duration": -303,
    "start_time": "2022-02-22T11:31:17.166Z"
   },
   {
    "duration": 5,
    "start_time": "2022-02-22T11:32:44.332Z"
   },
   {
    "duration": 817,
    "start_time": "2022-02-22T11:32:44.345Z"
   },
   {
    "duration": 4,
    "start_time": "2022-02-22T11:32:45.165Z"
   },
   {
    "duration": 412,
    "start_time": "2022-02-22T11:32:45.172Z"
   },
   {
    "duration": 322,
    "start_time": "2022-02-22T11:32:45.594Z"
   },
   {
    "duration": 624,
    "start_time": "2022-02-22T11:32:45.919Z"
   },
   {
    "duration": 49,
    "start_time": "2022-02-22T11:32:46.546Z"
   },
   {
    "duration": 27,
    "start_time": "2022-02-22T11:32:46.599Z"
   },
   {
    "duration": 67,
    "start_time": "2022-02-22T11:32:46.629Z"
   },
   {
    "duration": 492,
    "start_time": "2022-02-22T11:32:46.703Z"
   },
   {
    "duration": 28,
    "start_time": "2022-02-22T11:32:47.200Z"
   },
   {
    "duration": 11,
    "start_time": "2022-02-22T11:32:47.232Z"
   },
   {
    "duration": 17,
    "start_time": "2022-02-22T11:32:47.246Z"
   },
   {
    "duration": 17,
    "start_time": "2022-02-22T11:32:47.293Z"
   },
   {
    "duration": 42,
    "start_time": "2022-02-22T11:32:47.313Z"
   },
   {
    "duration": 16,
    "start_time": "2022-02-22T11:32:47.358Z"
   },
   {
    "duration": 8,
    "start_time": "2022-02-22T11:32:47.394Z"
   },
   {
    "duration": 597,
    "start_time": "2022-02-22T11:32:47.405Z"
   },
   {
    "duration": 392,
    "start_time": "2022-02-22T11:32:48.006Z"
   },
   {
    "duration": 398,
    "start_time": "2022-02-22T11:32:48.400Z"
   },
   {
    "duration": 6,
    "start_time": "2022-02-22T11:32:48.801Z"
   },
   {
    "duration": 1098,
    "start_time": "2022-02-22T11:32:48.810Z"
   },
   {
    "duration": 1133,
    "start_time": "2022-02-22T11:32:49.911Z"
   },
   {
    "duration": 1034,
    "start_time": "2022-02-22T11:32:51.047Z"
   },
   {
    "duration": 10,
    "start_time": "2022-02-22T11:32:52.084Z"
   },
   {
    "duration": 815,
    "start_time": "2022-02-22T11:32:52.097Z"
   },
   {
    "duration": 822,
    "start_time": "2022-02-22T11:32:52.915Z"
   },
   {
    "duration": 12,
    "start_time": "2022-02-22T11:32:53.742Z"
   },
   {
    "duration": 1531,
    "start_time": "2022-02-22T11:32:53.757Z"
   },
   {
    "duration": 26,
    "start_time": "2022-02-22T11:32:55.295Z"
   },
   {
    "duration": 1051,
    "start_time": "2022-02-22T11:32:55.324Z"
   },
   {
    "duration": 17,
    "start_time": "2022-02-22T11:32:56.378Z"
   },
   {
    "duration": 11,
    "start_time": "2022-02-22T11:32:56.398Z"
   },
   {
    "duration": 270,
    "start_time": "2022-02-22T11:32:56.411Z"
   },
   {
    "duration": -265,
    "start_time": "2022-02-22T11:32:56.950Z"
   },
   {
    "duration": -272,
    "start_time": "2022-02-22T11:32:56.959Z"
   },
   {
    "duration": -273,
    "start_time": "2022-02-22T11:32:56.962Z"
   },
   {
    "duration": -273,
    "start_time": "2022-02-22T11:32:56.965Z"
   },
   {
    "duration": -274,
    "start_time": "2022-02-22T11:32:56.968Z"
   },
   {
    "duration": -275,
    "start_time": "2022-02-22T11:32:56.971Z"
   },
   {
    "duration": -275,
    "start_time": "2022-02-22T11:32:56.973Z"
   },
   {
    "duration": -294,
    "start_time": "2022-02-22T11:32:56.995Z"
   },
   {
    "duration": -303,
    "start_time": "2022-02-22T11:32:57.006Z"
   },
   {
    "duration": -303,
    "start_time": "2022-02-22T11:32:57.009Z"
   },
   {
    "duration": -303,
    "start_time": "2022-02-22T11:32:57.011Z"
   },
   {
    "duration": 9,
    "start_time": "2022-02-22T11:33:14.955Z"
   },
   {
    "duration": 4,
    "start_time": "2022-02-22T11:33:15.939Z"
   },
   {
    "duration": 4,
    "start_time": "2022-02-22T11:33:17.182Z"
   },
   {
    "duration": 545,
    "start_time": "2022-02-22T11:33:18.212Z"
   },
   {
    "duration": 1771,
    "start_time": "2022-02-22T11:33:50.933Z"
   },
   {
    "duration": 10,
    "start_time": "2022-02-22T11:35:25.332Z"
   },
   {
    "duration": 25,
    "start_time": "2022-02-22T11:35:27.112Z"
   },
   {
    "duration": 12,
    "start_time": "2022-02-22T11:35:28.849Z"
   },
   {
    "duration": 93,
    "start_time": "2022-02-22T11:35:31.111Z"
   },
   {
    "duration": 430,
    "start_time": "2022-02-22T11:35:34.313Z"
   },
   {
    "duration": 2255,
    "start_time": "2022-02-22T11:35:41.351Z"
   },
   {
    "duration": 161,
    "start_time": "2022-02-22T11:42:05.831Z"
   },
   {
    "duration": 279,
    "start_time": "2022-02-22T11:42:10.631Z"
   },
   {
    "duration": 272,
    "start_time": "2022-02-22T11:59:30.333Z"
   },
   {
    "duration": 829,
    "start_time": "2022-02-22T11:59:37.716Z"
   },
   {
    "duration": 478,
    "start_time": "2022-02-22T12:00:55.039Z"
   },
   {
    "duration": 697,
    "start_time": "2022-02-22T12:01:12.809Z"
   },
   {
    "duration": 7,
    "start_time": "2022-02-22T12:03:04.093Z"
   },
   {
    "duration": 634,
    "start_time": "2022-02-22T12:03:20.933Z"
   },
   {
    "duration": 8,
    "start_time": "2022-02-22T12:03:36.499Z"
   },
   {
    "duration": 645,
    "start_time": "2022-02-22T12:03:39.937Z"
   },
   {
    "duration": 8,
    "start_time": "2022-02-22T12:03:51.665Z"
   },
   {
    "duration": 813,
    "start_time": "2022-02-22T12:03:53.428Z"
   },
   {
    "duration": 604,
    "start_time": "2022-02-22T12:04:42.872Z"
   },
   {
    "duration": 662,
    "start_time": "2022-02-22T12:06:14.137Z"
   },
   {
    "duration": 841,
    "start_time": "2022-02-22T12:06:34.479Z"
   },
   {
    "duration": 11,
    "start_time": "2022-02-22T12:06:44.675Z"
   },
   {
    "duration": 1116,
    "start_time": "2022-02-22T12:06:44.690Z"
   },
   {
    "duration": 7,
    "start_time": "2022-02-22T12:06:45.811Z"
   },
   {
    "duration": 406,
    "start_time": "2022-02-22T12:06:45.821Z"
   },
   {
    "duration": 249,
    "start_time": "2022-02-22T12:06:46.230Z"
   },
   {
    "duration": 448,
    "start_time": "2022-02-22T12:06:46.482Z"
   },
   {
    "duration": 26,
    "start_time": "2022-02-22T12:06:46.933Z"
   },
   {
    "duration": 46,
    "start_time": "2022-02-22T12:06:46.962Z"
   },
   {
    "duration": 27,
    "start_time": "2022-02-22T12:06:47.014Z"
   },
   {
    "duration": 405,
    "start_time": "2022-02-22T12:06:47.045Z"
   },
   {
    "duration": 41,
    "start_time": "2022-02-22T12:06:47.453Z"
   },
   {
    "duration": 11,
    "start_time": "2022-02-22T12:06:47.497Z"
   },
   {
    "duration": 9,
    "start_time": "2022-02-22T12:06:47.511Z"
   },
   {
    "duration": 11,
    "start_time": "2022-02-22T12:06:47.525Z"
   },
   {
    "duration": 71,
    "start_time": "2022-02-22T12:06:47.539Z"
   },
   {
    "duration": 17,
    "start_time": "2022-02-22T12:06:47.613Z"
   },
   {
    "duration": 11,
    "start_time": "2022-02-22T12:06:47.633Z"
   },
   {
    "duration": 649,
    "start_time": "2022-02-22T12:06:47.647Z"
   },
   {
    "duration": 456,
    "start_time": "2022-02-22T12:06:48.299Z"
   },
   {
    "duration": 423,
    "start_time": "2022-02-22T12:06:48.758Z"
   },
   {
    "duration": 12,
    "start_time": "2022-02-22T12:06:49.184Z"
   },
   {
    "duration": 1162,
    "start_time": "2022-02-22T12:06:49.199Z"
   },
   {
    "duration": 1398,
    "start_time": "2022-02-22T12:06:50.365Z"
   },
   {
    "duration": 1046,
    "start_time": "2022-02-22T12:06:51.767Z"
   },
   {
    "duration": 7,
    "start_time": "2022-02-22T12:06:52.815Z"
   },
   {
    "duration": 801,
    "start_time": "2022-02-22T12:06:52.825Z"
   },
   {
    "duration": 858,
    "start_time": "2022-02-22T12:06:53.631Z"
   },
   {
    "duration": 11,
    "start_time": "2022-02-22T12:06:54.494Z"
   },
   {
    "duration": 1585,
    "start_time": "2022-02-22T12:06:54.508Z"
   },
   {
    "duration": 18,
    "start_time": "2022-02-22T12:06:56.097Z"
   },
   {
    "duration": 1388,
    "start_time": "2022-02-22T12:06:56.118Z"
   },
   {
    "duration": 9,
    "start_time": "2022-02-22T12:06:57.510Z"
   },
   {
    "duration": 10,
    "start_time": "2022-02-22T12:06:57.522Z"
   },
   {
    "duration": 18,
    "start_time": "2022-02-22T12:06:57.535Z"
   },
   {
    "duration": 7,
    "start_time": "2022-02-22T12:06:57.557Z"
   },
   {
    "duration": 28,
    "start_time": "2022-02-22T12:06:57.567Z"
   },
   {
    "duration": 2404,
    "start_time": "2022-02-22T12:06:57.598Z"
   },
   {
    "duration": 89,
    "start_time": "2022-02-22T12:07:00.007Z"
   },
   {
    "duration": 14,
    "start_time": "2022-02-22T12:07:00.099Z"
   },
   {
    "duration": 32,
    "start_time": "2022-02-22T12:07:00.116Z"
   },
   {
    "duration": 7,
    "start_time": "2022-02-22T12:07:00.151Z"
   },
   {
    "duration": 245,
    "start_time": "2022-02-22T12:07:00.161Z"
   },
   {
    "duration": 102,
    "start_time": "2022-02-22T12:07:00.410Z"
   },
   {
    "duration": 464,
    "start_time": "2022-02-22T12:07:00.515Z"
   },
   {
    "duration": -337,
    "start_time": "2022-02-22T12:07:01.318Z"
   },
   {
    "duration": 6,
    "start_time": "2022-02-22T12:12:06.755Z"
   },
   {
    "duration": 923,
    "start_time": "2022-02-22T12:12:06.765Z"
   },
   {
    "duration": 11,
    "start_time": "2022-02-22T12:12:07.692Z"
   },
   {
    "duration": 621,
    "start_time": "2022-02-22T12:12:07.706Z"
   },
   {
    "duration": 249,
    "start_time": "2022-02-22T12:12:08.330Z"
   },
   {
    "duration": 443,
    "start_time": "2022-02-22T12:12:08.581Z"
   },
   {
    "duration": 27,
    "start_time": "2022-02-22T12:12:09.027Z"
   },
   {
    "duration": 46,
    "start_time": "2022-02-22T12:12:09.058Z"
   },
   {
    "duration": 48,
    "start_time": "2022-02-22T12:12:09.109Z"
   },
   {
    "duration": 519,
    "start_time": "2022-02-22T12:12:09.160Z"
   },
   {
    "duration": 27,
    "start_time": "2022-02-22T12:12:09.682Z"
   },
   {
    "duration": 9,
    "start_time": "2022-02-22T12:12:09.713Z"
   },
   {
    "duration": 9,
    "start_time": "2022-02-22T12:12:09.727Z"
   },
   {
    "duration": 10,
    "start_time": "2022-02-22T12:12:09.739Z"
   },
   {
    "duration": 64,
    "start_time": "2022-02-22T12:12:09.751Z"
   },
   {
    "duration": 16,
    "start_time": "2022-02-22T12:12:09.818Z"
   },
   {
    "duration": 8,
    "start_time": "2022-02-22T12:12:09.838Z"
   },
   {
    "duration": 626,
    "start_time": "2022-02-22T12:12:09.849Z"
   },
   {
    "duration": 433,
    "start_time": "2022-02-22T12:12:10.478Z"
   },
   {
    "duration": 413,
    "start_time": "2022-02-22T12:12:10.914Z"
   },
   {
    "duration": 8,
    "start_time": "2022-02-22T12:12:11.331Z"
   },
   {
    "duration": 1140,
    "start_time": "2022-02-22T12:12:11.342Z"
   },
   {
    "duration": 1057,
    "start_time": "2022-02-22T12:12:12.495Z"
   },
   {
    "duration": 1359,
    "start_time": "2022-02-22T12:12:13.555Z"
   },
   {
    "duration": 8,
    "start_time": "2022-02-22T12:12:14.918Z"
   },
   {
    "duration": 915,
    "start_time": "2022-02-22T12:12:14.930Z"
   },
   {
    "duration": 1238,
    "start_time": "2022-02-22T12:12:15.848Z"
   },
   {
    "duration": 11,
    "start_time": "2022-02-22T12:12:17.093Z"
   },
   {
    "duration": 1086,
    "start_time": "2022-02-22T12:12:17.107Z"
   },
   {
    "duration": 17,
    "start_time": "2022-02-22T12:12:18.196Z"
   },
   {
    "duration": 1083,
    "start_time": "2022-02-22T12:12:18.216Z"
   },
   {
    "duration": 4,
    "start_time": "2022-02-22T12:12:19.302Z"
   },
   {
    "duration": 11,
    "start_time": "2022-02-22T12:12:19.309Z"
   },
   {
    "duration": 10,
    "start_time": "2022-02-22T12:12:19.323Z"
   },
   {
    "duration": 11,
    "start_time": "2022-02-22T12:12:19.335Z"
   },
   {
    "duration": 9,
    "start_time": "2022-02-22T12:12:19.349Z"
   },
   {
    "duration": 33,
    "start_time": "2022-02-22T12:12:19.361Z"
   },
   {
    "duration": 9,
    "start_time": "2022-02-22T12:12:19.398Z"
   },
   {
    "duration": 11,
    "start_time": "2022-02-22T12:12:19.410Z"
   },
   {
    "duration": 24,
    "start_time": "2022-02-22T12:12:19.424Z"
   },
   {
    "duration": 10,
    "start_time": "2022-02-22T12:12:19.450Z"
   },
   {
    "duration": 436,
    "start_time": "2022-02-22T12:12:19.463Z"
   },
   {
    "duration": 108,
    "start_time": "2022-02-22T12:12:19.902Z"
   },
   {
    "duration": 321,
    "start_time": "2022-02-22T12:12:20.096Z"
   },
   {
    "duration": -465,
    "start_time": "2022-02-22T12:12:20.885Z"
   },
   {
    "duration": 8,
    "start_time": "2022-02-22T12:18:27.697Z"
   },
   {
    "duration": 3228,
    "start_time": "2022-02-22T12:18:32.871Z"
   },
   {
    "duration": 6,
    "start_time": "2022-02-22T12:18:49.313Z"
   },
   {
    "duration": 946,
    "start_time": "2022-02-22T12:18:49.322Z"
   },
   {
    "duration": 3,
    "start_time": "2022-02-22T12:18:50.271Z"
   },
   {
    "duration": 389,
    "start_time": "2022-02-22T12:18:50.276Z"
   },
   {
    "duration": 248,
    "start_time": "2022-02-22T12:18:50.668Z"
   },
   {
    "duration": 428,
    "start_time": "2022-02-22T12:18:50.919Z"
   },
   {
    "duration": 44,
    "start_time": "2022-02-22T12:18:51.351Z"
   },
   {
    "duration": 18,
    "start_time": "2022-02-22T12:18:51.398Z"
   },
   {
    "duration": 28,
    "start_time": "2022-02-22T12:18:51.420Z"
   },
   {
    "duration": 409,
    "start_time": "2022-02-22T12:18:51.451Z"
   },
   {
    "duration": 31,
    "start_time": "2022-02-22T12:18:51.863Z"
   },
   {
    "duration": 9,
    "start_time": "2022-02-22T12:18:51.897Z"
   },
   {
    "duration": 27,
    "start_time": "2022-02-22T12:18:51.909Z"
   },
   {
    "duration": 10,
    "start_time": "2022-02-22T12:18:51.939Z"
   },
   {
    "duration": 42,
    "start_time": "2022-02-22T12:18:51.952Z"
   },
   {
    "duration": 19,
    "start_time": "2022-02-22T12:18:51.996Z"
   },
   {
    "duration": 18,
    "start_time": "2022-02-22T12:18:52.018Z"
   },
   {
    "duration": 403,
    "start_time": "2022-02-22T12:18:52.038Z"
   },
   {
    "duration": 394,
    "start_time": "2022-02-22T12:18:52.443Z"
   },
   {
    "duration": 397,
    "start_time": "2022-02-22T12:18:52.839Z"
   },
   {
    "duration": 7,
    "start_time": "2022-02-22T12:18:53.239Z"
   },
   {
    "duration": 1039,
    "start_time": "2022-02-22T12:18:53.248Z"
   },
   {
    "duration": 1063,
    "start_time": "2022-02-22T12:18:54.290Z"
   },
   {
    "duration": 1040,
    "start_time": "2022-02-22T12:18:55.356Z"
   },
   {
    "duration": 7,
    "start_time": "2022-02-22T12:18:56.399Z"
   },
   {
    "duration": 920,
    "start_time": "2022-02-22T12:18:56.409Z"
   },
   {
    "duration": 846,
    "start_time": "2022-02-22T12:18:57.335Z"
   },
   {
    "duration": 15,
    "start_time": "2022-02-22T12:18:58.185Z"
   },
   {
    "duration": 1514,
    "start_time": "2022-02-22T12:18:58.203Z"
   },
   {
    "duration": 22,
    "start_time": "2022-02-22T12:18:59.719Z"
   },
   {
    "duration": 1017,
    "start_time": "2022-02-22T12:18:59.744Z"
   },
   {
    "duration": 4,
    "start_time": "2022-02-22T12:19:00.764Z"
   },
   {
    "duration": 36,
    "start_time": "2022-02-22T12:19:00.771Z"
   },
   {
    "duration": 19,
    "start_time": "2022-02-22T12:19:00.810Z"
   },
   {
    "duration": 15,
    "start_time": "2022-02-22T12:19:00.832Z"
   },
   {
    "duration": 34,
    "start_time": "2022-02-22T12:19:00.849Z"
   },
   {
    "duration": 36,
    "start_time": "2022-02-22T12:19:00.886Z"
   },
   {
    "duration": 35,
    "start_time": "2022-02-22T12:19:00.924Z"
   },
   {
    "duration": 24,
    "start_time": "2022-02-22T12:19:00.962Z"
   },
   {
    "duration": 59,
    "start_time": "2022-02-22T12:19:00.988Z"
   },
   {
    "duration": 16,
    "start_time": "2022-02-22T12:19:01.049Z"
   },
   {
    "duration": 430,
    "start_time": "2022-02-22T12:19:01.067Z"
   },
   {
    "duration": 101,
    "start_time": "2022-02-22T12:19:01.503Z"
   },
   {
    "duration": 2604,
    "start_time": "2022-02-22T12:19:01.607Z"
   },
   {
    "duration": -461,
    "start_time": "2022-02-22T12:19:04.674Z"
   },
   {
    "duration": 2173,
    "start_time": "2022-02-22T12:19:55.631Z"
   },
   {
    "duration": 2158,
    "start_time": "2022-02-22T12:20:32.487Z"
   },
   {
    "duration": 559,
    "start_time": "2022-02-22T12:20:49.339Z"
   },
   {
    "duration": 5,
    "start_time": "2022-02-22T12:22:02.755Z"
   },
   {
    "duration": 1169,
    "start_time": "2022-02-22T12:22:02.763Z"
   },
   {
    "duration": 3,
    "start_time": "2022-02-22T12:22:03.936Z"
   },
   {
    "duration": 397,
    "start_time": "2022-02-22T12:22:03.942Z"
   },
   {
    "duration": 244,
    "start_time": "2022-02-22T12:22:04.342Z"
   },
   {
    "duration": 421,
    "start_time": "2022-02-22T12:22:04.588Z"
   },
   {
    "duration": 27,
    "start_time": "2022-02-22T12:22:05.012Z"
   },
   {
    "duration": 18,
    "start_time": "2022-02-22T12:22:05.041Z"
   },
   {
    "duration": 48,
    "start_time": "2022-02-22T12:22:05.097Z"
   },
   {
    "duration": 529,
    "start_time": "2022-02-22T12:22:05.150Z"
   },
   {
    "duration": 36,
    "start_time": "2022-02-22T12:22:05.682Z"
   },
   {
    "duration": 12,
    "start_time": "2022-02-22T12:22:05.721Z"
   },
   {
    "duration": 8,
    "start_time": "2022-02-22T12:22:05.736Z"
   },
   {
    "duration": 16,
    "start_time": "2022-02-22T12:22:05.748Z"
   },
   {
    "duration": 29,
    "start_time": "2022-02-22T12:22:05.796Z"
   },
   {
    "duration": 20,
    "start_time": "2022-02-22T12:22:05.829Z"
   },
   {
    "duration": 25,
    "start_time": "2022-02-22T12:22:05.853Z"
   },
   {
    "duration": 389,
    "start_time": "2022-02-22T12:22:05.895Z"
   },
   {
    "duration": 588,
    "start_time": "2022-02-22T12:22:06.294Z"
   },
   {
    "duration": 393,
    "start_time": "2022-02-22T12:22:06.885Z"
   },
   {
    "duration": 18,
    "start_time": "2022-02-22T12:22:07.281Z"
   },
   {
    "duration": 1019,
    "start_time": "2022-02-22T12:22:07.302Z"
   },
   {
    "duration": 994,
    "start_time": "2022-02-22T12:22:08.324Z"
   },
   {
    "duration": 1446,
    "start_time": "2022-02-22T12:22:09.321Z"
   },
   {
    "duration": 6,
    "start_time": "2022-02-22T12:22:10.770Z"
   },
   {
    "duration": 786,
    "start_time": "2022-02-22T12:22:10.795Z"
   },
   {
    "duration": 872,
    "start_time": "2022-02-22T12:22:11.599Z"
   },
   {
    "duration": 25,
    "start_time": "2022-02-22T12:22:12.474Z"
   },
   {
    "duration": 1633,
    "start_time": "2022-02-22T12:22:12.501Z"
   },
   {
    "duration": 18,
    "start_time": "2022-02-22T12:22:14.137Z"
   },
   {
    "duration": 1063,
    "start_time": "2022-02-22T12:22:14.158Z"
   },
   {
    "duration": 3,
    "start_time": "2022-02-22T12:22:15.224Z"
   },
   {
    "duration": 29,
    "start_time": "2022-02-22T12:22:15.230Z"
   },
   {
    "duration": 6,
    "start_time": "2022-02-22T12:22:15.262Z"
   },
   {
    "duration": 14,
    "start_time": "2022-02-22T12:22:15.270Z"
   },
   {
    "duration": 28,
    "start_time": "2022-02-22T12:22:15.287Z"
   },
   {
    "duration": 22,
    "start_time": "2022-02-22T12:22:15.318Z"
   },
   {
    "duration": 36,
    "start_time": "2022-02-22T12:22:15.343Z"
   },
   {
    "duration": 282,
    "start_time": "2022-02-22T12:22:15.382Z"
   },
   {
    "duration": -323,
    "start_time": "2022-02-22T12:22:15.990Z"
   },
   {
    "duration": -324,
    "start_time": "2022-02-22T12:22:15.993Z"
   },
   {
    "duration": -325,
    "start_time": "2022-02-22T12:22:15.996Z"
   },
   {
    "duration": -326,
    "start_time": "2022-02-22T12:22:15.999Z"
   },
   {
    "duration": -327,
    "start_time": "2022-02-22T12:22:16.001Z"
   },
   {
    "duration": -327,
    "start_time": "2022-02-22T12:22:16.004Z"
   },
   {
    "duration": 8,
    "start_time": "2022-02-22T12:22:38.192Z"
   },
   {
    "duration": 1326,
    "start_time": "2022-02-22T12:22:38.204Z"
   },
   {
    "duration": 4,
    "start_time": "2022-02-22T12:22:39.535Z"
   },
   {
    "duration": 407,
    "start_time": "2022-02-22T12:22:39.543Z"
   },
   {
    "duration": 251,
    "start_time": "2022-02-22T12:22:39.953Z"
   },
   {
    "duration": 415,
    "start_time": "2022-02-22T12:22:40.207Z"
   },
   {
    "duration": 41,
    "start_time": "2022-02-22T12:22:40.626Z"
   },
   {
    "duration": 38,
    "start_time": "2022-02-22T12:22:40.669Z"
   },
   {
    "duration": 41,
    "start_time": "2022-02-22T12:22:40.713Z"
   },
   {
    "duration": 528,
    "start_time": "2022-02-22T12:22:40.759Z"
   },
   {
    "duration": 31,
    "start_time": "2022-02-22T12:22:41.295Z"
   },
   {
    "duration": 11,
    "start_time": "2022-02-22T12:22:41.330Z"
   },
   {
    "duration": 10,
    "start_time": "2022-02-22T12:22:41.345Z"
   },
   {
    "duration": 40,
    "start_time": "2022-02-22T12:22:41.358Z"
   },
   {
    "duration": 31,
    "start_time": "2022-02-22T12:22:41.401Z"
   },
   {
    "duration": 21,
    "start_time": "2022-02-22T12:22:41.435Z"
   },
   {
    "duration": 55,
    "start_time": "2022-02-22T12:22:41.459Z"
   },
   {
    "duration": 449,
    "start_time": "2022-02-22T12:22:41.516Z"
   },
   {
    "duration": 609,
    "start_time": "2022-02-22T12:22:41.968Z"
   },
   {
    "duration": 399,
    "start_time": "2022-02-22T12:22:42.580Z"
   },
   {
    "duration": 12,
    "start_time": "2022-02-22T12:22:42.982Z"
   },
   {
    "duration": 1055,
    "start_time": "2022-02-22T12:22:42.997Z"
   },
   {
    "duration": 1783,
    "start_time": "2022-02-22T12:22:44.055Z"
   },
   {
    "duration": 1620,
    "start_time": "2022-02-22T12:22:45.841Z"
   },
   {
    "duration": 9,
    "start_time": "2022-02-22T12:22:47.464Z"
   },
   {
    "duration": 1310,
    "start_time": "2022-02-22T12:22:47.476Z"
   },
   {
    "duration": 968,
    "start_time": "2022-02-22T12:22:48.793Z"
   },
   {
    "duration": 13,
    "start_time": "2022-02-22T12:22:49.765Z"
   },
   {
    "duration": 1055,
    "start_time": "2022-02-22T12:22:49.794Z"
   },
   {
    "duration": 23,
    "start_time": "2022-02-22T12:22:50.852Z"
   },
   {
    "duration": 1950,
    "start_time": "2022-02-22T12:22:50.878Z"
   },
   {
    "duration": 4,
    "start_time": "2022-02-22T12:22:52.831Z"
   },
   {
    "duration": 8,
    "start_time": "2022-02-22T12:22:52.839Z"
   },
   {
    "duration": 9,
    "start_time": "2022-02-22T12:22:52.850Z"
   },
   {
    "duration": 32,
    "start_time": "2022-02-22T12:22:52.862Z"
   },
   {
    "duration": 13,
    "start_time": "2022-02-22T12:22:52.898Z"
   },
   {
    "duration": 11,
    "start_time": "2022-02-22T12:22:52.915Z"
   },
   {
    "duration": 14,
    "start_time": "2022-02-22T12:22:52.929Z"
   },
   {
    "duration": 13,
    "start_time": "2022-02-22T12:22:52.946Z"
   },
   {
    "duration": 37,
    "start_time": "2022-02-22T12:22:52.962Z"
   },
   {
    "duration": 10,
    "start_time": "2022-02-22T12:22:53.002Z"
   },
   {
    "duration": 383,
    "start_time": "2022-02-22T12:22:53.015Z"
   },
   {
    "duration": 99,
    "start_time": "2022-02-22T12:22:53.400Z"
   },
   {
    "duration": 268,
    "start_time": "2022-02-22T12:22:53.502Z"
   },
   {
    "duration": -325,
    "start_time": "2022-02-22T12:22:54.099Z"
   },
   {
    "duration": 734,
    "start_time": "2022-02-22T12:23:04.746Z"
   },
   {
    "duration": 8,
    "start_time": "2022-02-22T12:23:17.913Z"
   },
   {
    "duration": 860,
    "start_time": "2022-02-22T12:23:17.926Z"
   },
   {
    "duration": 4,
    "start_time": "2022-02-22T12:23:18.789Z"
   },
   {
    "duration": 499,
    "start_time": "2022-02-22T12:23:18.797Z"
   },
   {
    "duration": 320,
    "start_time": "2022-02-22T12:23:19.300Z"
   },
   {
    "duration": 433,
    "start_time": "2022-02-22T12:23:19.623Z"
   },
   {
    "duration": 44,
    "start_time": "2022-02-22T12:23:20.059Z"
   },
   {
    "duration": 21,
    "start_time": "2022-02-22T12:23:20.106Z"
   },
   {
    "duration": 30,
    "start_time": "2022-02-22T12:23:20.132Z"
   },
   {
    "duration": 400,
    "start_time": "2022-02-22T12:23:20.195Z"
   },
   {
    "duration": 19,
    "start_time": "2022-02-22T12:23:20.597Z"
   },
   {
    "duration": 8,
    "start_time": "2022-02-22T12:23:20.619Z"
   },
   {
    "duration": 15,
    "start_time": "2022-02-22T12:23:20.630Z"
   },
   {
    "duration": 13,
    "start_time": "2022-02-22T12:23:20.647Z"
   },
   {
    "duration": 24,
    "start_time": "2022-02-22T12:23:20.693Z"
   },
   {
    "duration": 17,
    "start_time": "2022-02-22T12:23:20.719Z"
   },
   {
    "duration": 20,
    "start_time": "2022-02-22T12:23:20.738Z"
   },
   {
    "duration": 402,
    "start_time": "2022-02-22T12:23:20.761Z"
   },
   {
    "duration": 387,
    "start_time": "2022-02-22T12:23:21.165Z"
   },
   {
    "duration": 385,
    "start_time": "2022-02-22T12:23:21.555Z"
   },
   {
    "duration": 7,
    "start_time": "2022-02-22T12:23:21.944Z"
   },
   {
    "duration": 1007,
    "start_time": "2022-02-22T12:23:21.954Z"
   },
   {
    "duration": 994,
    "start_time": "2022-02-22T12:23:22.964Z"
   },
   {
    "duration": 1017,
    "start_time": "2022-02-22T12:23:23.963Z"
   },
   {
    "duration": 6,
    "start_time": "2022-02-22T12:23:24.993Z"
   },
   {
    "duration": 855,
    "start_time": "2022-02-22T12:23:25.002Z"
   },
   {
    "duration": 826,
    "start_time": "2022-02-22T12:23:25.859Z"
   },
   {
    "duration": 15,
    "start_time": "2022-02-22T12:23:26.688Z"
   },
   {
    "duration": 1070,
    "start_time": "2022-02-22T12:23:26.706Z"
   },
   {
    "duration": 26,
    "start_time": "2022-02-22T12:23:27.779Z"
   },
   {
    "duration": 1077,
    "start_time": "2022-02-22T12:23:27.808Z"
   },
   {
    "duration": 8,
    "start_time": "2022-02-22T12:23:28.888Z"
   },
   {
    "duration": 9,
    "start_time": "2022-02-22T12:23:28.898Z"
   },
   {
    "duration": 7,
    "start_time": "2022-02-22T12:23:28.909Z"
   },
   {
    "duration": 10,
    "start_time": "2022-02-22T12:23:28.919Z"
   },
   {
    "duration": 7,
    "start_time": "2022-02-22T12:23:28.932Z"
   },
   {
    "duration": 15,
    "start_time": "2022-02-22T12:23:28.941Z"
   },
   {
    "duration": 21,
    "start_time": "2022-02-22T12:23:28.959Z"
   },
   {
    "duration": 20,
    "start_time": "2022-02-22T12:23:28.983Z"
   },
   {
    "duration": 38,
    "start_time": "2022-02-22T12:23:29.006Z"
   },
   {
    "duration": 11,
    "start_time": "2022-02-22T12:23:29.046Z"
   },
   {
    "duration": 134,
    "start_time": "2022-02-22T12:23:29.059Z"
   },
   {
    "duration": 98,
    "start_time": "2022-02-22T12:23:29.197Z"
   },
   {
    "duration": 670,
    "start_time": "2022-02-22T12:23:29.297Z"
   },
   {
    "duration": -401,
    "start_time": "2022-02-22T12:23:30.371Z"
   },
   {
    "duration": 6,
    "start_time": "2022-02-22T12:25:20.676Z"
   },
   {
    "duration": 2536,
    "start_time": "2022-02-22T12:25:23.026Z"
   },
   {
    "duration": 8,
    "start_time": "2022-02-22T12:25:37.149Z"
   },
   {
    "duration": 2012,
    "start_time": "2022-02-22T12:25:43.458Z"
   },
   {
    "duration": 5,
    "start_time": "2022-02-22T12:29:07.579Z"
   },
   {
    "duration": 470,
    "start_time": "2022-02-22T12:29:10.418Z"
   },
   {
    "duration": 4,
    "start_time": "2022-02-22T12:30:19.019Z"
   },
   {
    "duration": 899,
    "start_time": "2022-02-22T12:30:21.297Z"
   },
   {
    "duration": 4,
    "start_time": "2022-02-22T12:30:31.258Z"
   },
   {
    "duration": 793,
    "start_time": "2022-02-22T12:30:34.439Z"
   },
   {
    "duration": 4,
    "start_time": "2022-02-22T12:30:45.393Z"
   },
   {
    "duration": 393,
    "start_time": "2022-02-22T12:30:47.378Z"
   },
   {
    "duration": 788,
    "start_time": "2022-02-22T12:31:45.401Z"
   },
   {
    "duration": 5,
    "start_time": "2022-02-22T12:32:01.952Z"
   },
   {
    "duration": 620,
    "start_time": "2022-02-22T12:32:05.458Z"
   },
   {
    "duration": 75,
    "start_time": "2022-02-22T12:32:58.258Z"
   },
   {
    "duration": 375,
    "start_time": "2022-02-22T12:33:04.026Z"
   },
   {
    "duration": 7,
    "start_time": "2022-02-22T12:33:37.512Z"
   },
   {
    "duration": 2238,
    "start_time": "2022-02-22T12:33:41.271Z"
   },
   {
    "duration": 8,
    "start_time": "2022-02-22T12:43:57.513Z"
   },
   {
    "duration": 8,
    "start_time": "2022-02-22T12:44:06.594Z"
   },
   {
    "duration": 2891,
    "start_time": "2022-02-22T12:44:12.792Z"
   },
   {
    "duration": 620,
    "start_time": "2022-02-22T12:45:51.999Z"
   },
   {
    "duration": 543,
    "start_time": "2022-02-22T12:46:17.191Z"
   },
   {
    "duration": 262,
    "start_time": "2022-02-22T12:50:59.599Z"
   },
   {
    "duration": 637,
    "start_time": "2022-02-22T12:51:09.591Z"
   },
   {
    "duration": 623,
    "start_time": "2022-02-22T12:51:37.513Z"
   },
   {
    "duration": 7,
    "start_time": "2022-02-22T12:51:43.152Z"
   },
   {
    "duration": 926,
    "start_time": "2022-02-22T12:51:43.163Z"
   },
   {
    "duration": 3,
    "start_time": "2022-02-22T12:51:44.095Z"
   },
   {
    "duration": 394,
    "start_time": "2022-02-22T12:51:44.101Z"
   },
   {
    "duration": 397,
    "start_time": "2022-02-22T12:51:44.499Z"
   },
   {
    "duration": 676,
    "start_time": "2022-02-22T12:51:44.899Z"
   },
   {
    "duration": 31,
    "start_time": "2022-02-22T12:51:45.579Z"
   },
   {
    "duration": 22,
    "start_time": "2022-02-22T12:51:45.613Z"
   },
   {
    "duration": 61,
    "start_time": "2022-02-22T12:51:45.639Z"
   },
   {
    "duration": 379,
    "start_time": "2022-02-22T12:51:45.704Z"
   },
   {
    "duration": 19,
    "start_time": "2022-02-22T12:51:46.093Z"
   },
   {
    "duration": 9,
    "start_time": "2022-02-22T12:51:46.115Z"
   },
   {
    "duration": 14,
    "start_time": "2022-02-22T12:51:46.126Z"
   },
   {
    "duration": 21,
    "start_time": "2022-02-22T12:51:46.142Z"
   },
   {
    "duration": 53,
    "start_time": "2022-02-22T12:51:46.165Z"
   },
   {
    "duration": 16,
    "start_time": "2022-02-22T12:51:46.221Z"
   },
   {
    "duration": 12,
    "start_time": "2022-02-22T12:51:46.239Z"
   },
   {
    "duration": 601,
    "start_time": "2022-02-22T12:51:46.255Z"
   },
   {
    "duration": 393,
    "start_time": "2022-02-22T12:51:46.858Z"
   },
   {
    "duration": 395,
    "start_time": "2022-02-22T12:51:47.254Z"
   },
   {
    "duration": 6,
    "start_time": "2022-02-22T12:51:47.652Z"
   },
   {
    "duration": 1021,
    "start_time": "2022-02-22T12:51:47.661Z"
   },
   {
    "duration": 1613,
    "start_time": "2022-02-22T12:51:48.684Z"
   },
   {
    "duration": 1047,
    "start_time": "2022-02-22T12:51:50.300Z"
   },
   {
    "duration": 8,
    "start_time": "2022-02-22T12:51:51.350Z"
   },
   {
    "duration": 809,
    "start_time": "2022-02-22T12:51:51.361Z"
   },
   {
    "duration": 841,
    "start_time": "2022-02-22T12:51:52.176Z"
   },
   {
    "duration": 11,
    "start_time": "2022-02-22T12:51:53.020Z"
   },
   {
    "duration": 1612,
    "start_time": "2022-02-22T12:51:53.034Z"
   },
   {
    "duration": 19,
    "start_time": "2022-02-22T12:51:54.649Z"
   },
   {
    "duration": 1053,
    "start_time": "2022-02-22T12:51:54.671Z"
   },
   {
    "duration": 4,
    "start_time": "2022-02-22T12:51:55.728Z"
   },
   {
    "duration": 16,
    "start_time": "2022-02-22T12:51:55.735Z"
   },
   {
    "duration": 9,
    "start_time": "2022-02-22T12:51:55.754Z"
   },
   {
    "duration": 9,
    "start_time": "2022-02-22T12:51:55.765Z"
   },
   {
    "duration": 4,
    "start_time": "2022-02-22T12:51:55.795Z"
   },
   {
    "duration": 15,
    "start_time": "2022-02-22T12:51:55.802Z"
   },
   {
    "duration": 19,
    "start_time": "2022-02-22T12:51:55.820Z"
   },
   {
    "duration": 13,
    "start_time": "2022-02-22T12:51:55.842Z"
   },
   {
    "duration": 41,
    "start_time": "2022-02-22T12:51:55.858Z"
   },
   {
    "duration": 8,
    "start_time": "2022-02-22T12:51:55.901Z"
   },
   {
    "duration": 385,
    "start_time": "2022-02-22T12:51:55.912Z"
   },
   {
    "duration": 105,
    "start_time": "2022-02-22T12:51:56.302Z"
   },
   {
    "duration": 116,
    "start_time": "2022-02-22T12:51:56.495Z"
   },
   {
    "duration": -352,
    "start_time": "2022-02-22T12:51:56.966Z"
   },
   {
    "duration": 827,
    "start_time": "2022-02-22T12:52:13.311Z"
   },
   {
    "duration": 81,
    "start_time": "2022-02-22T12:52:36.431Z"
   },
   {
    "duration": 269,
    "start_time": "2022-02-22T12:52:41.231Z"
   },
   {
    "duration": 382,
    "start_time": "2022-02-22T12:53:05.512Z"
   },
   {
    "duration": 656,
    "start_time": "2022-02-22T12:53:11.591Z"
   },
   {
    "duration": 241,
    "start_time": "2022-02-22T12:53:38.111Z"
   },
   {
    "duration": 255,
    "start_time": "2022-02-22T12:54:30.200Z"
   },
   {
    "duration": 269,
    "start_time": "2022-02-22T12:54:51.791Z"
   },
   {
    "duration": 6,
    "start_time": "2022-02-22T12:54:54.523Z"
   },
   {
    "duration": 1227,
    "start_time": "2022-02-22T12:54:54.531Z"
   },
   {
    "duration": 4,
    "start_time": "2022-02-22T12:54:55.762Z"
   },
   {
    "duration": 451,
    "start_time": "2022-02-22T12:54:55.769Z"
   },
   {
    "duration": 242,
    "start_time": "2022-02-22T12:54:56.223Z"
   },
   {
    "duration": 406,
    "start_time": "2022-02-22T12:54:56.468Z"
   },
   {
    "duration": 40,
    "start_time": "2022-02-22T12:54:56.876Z"
   },
   {
    "duration": 26,
    "start_time": "2022-02-22T12:54:56.919Z"
   },
   {
    "duration": 70,
    "start_time": "2022-02-22T12:54:56.951Z"
   },
   {
    "duration": 385,
    "start_time": "2022-02-22T12:54:57.025Z"
   },
   {
    "duration": 19,
    "start_time": "2022-02-22T12:54:57.412Z"
   },
   {
    "duration": 8,
    "start_time": "2022-02-22T12:54:57.434Z"
   },
   {
    "duration": 11,
    "start_time": "2022-02-22T12:54:57.445Z"
   },
   {
    "duration": 37,
    "start_time": "2022-02-22T12:54:57.459Z"
   },
   {
    "duration": 26,
    "start_time": "2022-02-22T12:54:57.498Z"
   },
   {
    "duration": 17,
    "start_time": "2022-02-22T12:54:57.527Z"
   },
   {
    "duration": 9,
    "start_time": "2022-02-22T12:54:57.547Z"
   },
   {
    "duration": 396,
    "start_time": "2022-02-22T12:54:57.594Z"
   },
   {
    "duration": 601,
    "start_time": "2022-02-22T12:54:57.995Z"
   },
   {
    "duration": 398,
    "start_time": "2022-02-22T12:54:58.599Z"
   },
   {
    "duration": 6,
    "start_time": "2022-02-22T12:54:59.000Z"
   },
   {
    "duration": 1035,
    "start_time": "2022-02-22T12:54:59.008Z"
   },
   {
    "duration": 1137,
    "start_time": "2022-02-22T12:55:00.045Z"
   },
   {
    "duration": 1563,
    "start_time": "2022-02-22T12:55:01.185Z"
   },
   {
    "duration": 9,
    "start_time": "2022-02-22T12:55:02.751Z"
   },
   {
    "duration": 872,
    "start_time": "2022-02-22T12:55:02.763Z"
   },
   {
    "duration": 921,
    "start_time": "2022-02-22T12:55:03.642Z"
   },
   {
    "duration": 29,
    "start_time": "2022-02-22T12:55:04.567Z"
   },
   {
    "duration": 1095,
    "start_time": "2022-02-22T12:55:04.599Z"
   },
   {
    "duration": 17,
    "start_time": "2022-02-22T12:55:05.697Z"
   },
   {
    "duration": 1039,
    "start_time": "2022-02-22T12:55:05.717Z"
   },
   {
    "duration": 3,
    "start_time": "2022-02-22T12:55:06.759Z"
   },
   {
    "duration": 12,
    "start_time": "2022-02-22T12:55:06.765Z"
   },
   {
    "duration": 20,
    "start_time": "2022-02-22T12:55:06.780Z"
   },
   {
    "duration": 10,
    "start_time": "2022-02-22T12:55:06.803Z"
   },
   {
    "duration": 8,
    "start_time": "2022-02-22T12:55:06.817Z"
   },
   {
    "duration": 9,
    "start_time": "2022-02-22T12:55:06.827Z"
   },
   {
    "duration": 12,
    "start_time": "2022-02-22T12:55:06.838Z"
   },
   {
    "duration": 13,
    "start_time": "2022-02-22T12:55:06.853Z"
   },
   {
    "duration": 38,
    "start_time": "2022-02-22T12:55:06.868Z"
   },
   {
    "duration": 7,
    "start_time": "2022-02-22T12:55:06.908Z"
   },
   {
    "duration": 177,
    "start_time": "2022-02-22T12:55:06.918Z"
   },
   {
    "duration": 100,
    "start_time": "2022-02-22T12:55:07.098Z"
   },
   {
    "duration": 8,
    "start_time": "2022-02-22T12:55:07.202Z"
   },
   {
    "duration": 275,
    "start_time": "2022-02-22T12:55:07.295Z"
   },
   {
    "duration": 7,
    "start_time": "2022-02-22T12:56:40.833Z"
   },
   {
    "duration": 256,
    "start_time": "2022-02-22T12:56:47.111Z"
   },
   {
    "duration": 254,
    "start_time": "2022-02-22T12:58:22.511Z"
   },
   {
    "duration": 5,
    "start_time": "2022-02-22T12:58:25.952Z"
   },
   {
    "duration": 824,
    "start_time": "2022-02-22T12:58:25.960Z"
   },
   {
    "duration": 6,
    "start_time": "2022-02-22T12:58:26.788Z"
   },
   {
    "duration": 420,
    "start_time": "2022-02-22T12:58:26.797Z"
   },
   {
    "duration": 233,
    "start_time": "2022-02-22T12:58:27.220Z"
   },
   {
    "duration": 424,
    "start_time": "2022-02-22T12:58:27.456Z"
   },
   {
    "duration": 29,
    "start_time": "2022-02-22T12:58:27.883Z"
   },
   {
    "duration": 16,
    "start_time": "2022-02-22T12:58:27.915Z"
   },
   {
    "duration": 63,
    "start_time": "2022-02-22T12:58:27.937Z"
   },
   {
    "duration": 382,
    "start_time": "2022-02-22T12:58:28.005Z"
   },
   {
    "duration": 23,
    "start_time": "2022-02-22T12:58:28.389Z"
   },
   {
    "duration": 10,
    "start_time": "2022-02-22T12:58:28.415Z"
   },
   {
    "duration": 16,
    "start_time": "2022-02-22T12:58:28.427Z"
   },
   {
    "duration": 9,
    "start_time": "2022-02-22T12:58:28.446Z"
   },
   {
    "duration": 32,
    "start_time": "2022-02-22T12:58:28.495Z"
   },
   {
    "duration": 23,
    "start_time": "2022-02-22T12:58:28.531Z"
   },
   {
    "duration": 37,
    "start_time": "2022-02-22T12:58:28.557Z"
   },
   {
    "duration": 616,
    "start_time": "2022-02-22T12:58:28.598Z"
   },
   {
    "duration": 604,
    "start_time": "2022-02-22T12:58:29.217Z"
   },
   {
    "duration": 615,
    "start_time": "2022-02-22T12:58:29.825Z"
   },
   {
    "duration": 7,
    "start_time": "2022-02-22T12:58:30.442Z"
   },
   {
    "duration": 1767,
    "start_time": "2022-02-22T12:58:30.452Z"
   },
   {
    "duration": 1636,
    "start_time": "2022-02-22T12:58:32.223Z"
   },
   {
    "duration": 1635,
    "start_time": "2022-02-22T12:58:33.862Z"
   },
   {
    "duration": 8,
    "start_time": "2022-02-22T12:58:35.500Z"
   },
   {
    "duration": 836,
    "start_time": "2022-02-22T12:58:35.511Z"
   },
   {
    "duration": 826,
    "start_time": "2022-02-22T12:58:36.354Z"
   },
   {
    "duration": 20,
    "start_time": "2022-02-22T12:58:37.183Z"
   },
   {
    "duration": 1548,
    "start_time": "2022-02-22T12:58:37.205Z"
   },
   {
    "duration": 16,
    "start_time": "2022-02-22T12:58:38.755Z"
   },
   {
    "duration": 1067,
    "start_time": "2022-02-22T12:58:38.773Z"
   },
   {
    "duration": 4,
    "start_time": "2022-02-22T12:58:39.844Z"
   },
   {
    "duration": 12,
    "start_time": "2022-02-22T12:58:39.851Z"
   },
   {
    "duration": 45,
    "start_time": "2022-02-22T12:58:39.866Z"
   },
   {
    "duration": 7,
    "start_time": "2022-02-22T12:58:39.914Z"
   },
   {
    "duration": 178,
    "start_time": "2022-02-22T12:58:39.924Z"
   },
   {
    "duration": 200,
    "start_time": "2022-02-22T12:58:40.194Z"
   },
   {
    "duration": 340,
    "start_time": "2022-02-22T12:58:40.400Z"
   },
   {
    "duration": 230,
    "start_time": "2022-02-22T13:03:47.795Z"
   },
   {
    "duration": 76,
    "start_time": "2022-02-22T13:04:10.807Z"
   },
   {
    "duration": 86,
    "start_time": "2022-02-22T13:04:17.432Z"
   },
   {
    "duration": 2175,
    "start_time": "2022-02-22T13:04:52.319Z"
   },
   {
    "duration": 1035,
    "start_time": "2022-02-22T13:05:35.191Z"
   },
   {
    "duration": 5,
    "start_time": "2022-02-22T13:05:46.792Z"
   },
   {
    "duration": 1040,
    "start_time": "2022-02-22T13:05:46.800Z"
   },
   {
    "duration": 3,
    "start_time": "2022-02-22T13:05:47.843Z"
   },
   {
    "duration": 382,
    "start_time": "2022-02-22T13:05:47.849Z"
   },
   {
    "duration": 237,
    "start_time": "2022-02-22T13:05:48.233Z"
   },
   {
    "duration": 407,
    "start_time": "2022-02-22T13:05:48.472Z"
   },
   {
    "duration": 50,
    "start_time": "2022-02-22T13:05:48.883Z"
   },
   {
    "duration": 19,
    "start_time": "2022-02-22T13:05:48.940Z"
   },
   {
    "duration": 52,
    "start_time": "2022-02-22T13:05:48.964Z"
   },
   {
    "duration": 382,
    "start_time": "2022-02-22T13:05:49.018Z"
   },
   {
    "duration": 19,
    "start_time": "2022-02-22T13:05:49.403Z"
   },
   {
    "duration": 9,
    "start_time": "2022-02-22T13:05:49.425Z"
   },
   {
    "duration": 12,
    "start_time": "2022-02-22T13:05:49.437Z"
   },
   {
    "duration": 45,
    "start_time": "2022-02-22T13:05:49.453Z"
   },
   {
    "duration": 31,
    "start_time": "2022-02-22T13:05:49.501Z"
   },
   {
    "duration": 20,
    "start_time": "2022-02-22T13:05:49.535Z"
   },
   {
    "duration": 13,
    "start_time": "2022-02-22T13:05:49.557Z"
   },
   {
    "duration": 411,
    "start_time": "2022-02-22T13:05:49.572Z"
   },
   {
    "duration": 403,
    "start_time": "2022-02-22T13:05:49.985Z"
   },
   {
    "duration": 403,
    "start_time": "2022-02-22T13:05:50.394Z"
   },
   {
    "duration": 6,
    "start_time": "2022-02-22T13:05:50.800Z"
   },
   {
    "duration": 1134,
    "start_time": "2022-02-22T13:05:50.809Z"
   },
   {
    "duration": 1033,
    "start_time": "2022-02-22T13:05:51.948Z"
   },
   {
    "duration": 1011,
    "start_time": "2022-02-22T13:05:52.993Z"
   },
   {
    "duration": 6,
    "start_time": "2022-02-22T13:05:54.006Z"
   },
   {
    "duration": 787,
    "start_time": "2022-02-22T13:05:54.015Z"
   },
   {
    "duration": 811,
    "start_time": "2022-02-22T13:05:54.805Z"
   },
   {
    "duration": 12,
    "start_time": "2022-02-22T13:05:55.618Z"
   },
   {
    "duration": 1034,
    "start_time": "2022-02-22T13:05:55.633Z"
   },
   {
    "duration": 33,
    "start_time": "2022-02-22T13:05:56.670Z"
   },
   {
    "duration": 1110,
    "start_time": "2022-02-22T13:05:56.705Z"
   },
   {
    "duration": 3,
    "start_time": "2022-02-22T13:05:57.818Z"
   },
   {
    "duration": 17,
    "start_time": "2022-02-22T13:05:57.825Z"
   },
   {
    "duration": 26,
    "start_time": "2022-02-22T13:05:57.844Z"
   },
   {
    "duration": 24,
    "start_time": "2022-02-22T13:05:57.873Z"
   },
   {
    "duration": 196,
    "start_time": "2022-02-22T13:05:57.900Z"
   },
   {
    "duration": 106,
    "start_time": "2022-02-22T13:05:58.099Z"
   },
   {
    "duration": 351,
    "start_time": "2022-02-22T13:05:58.296Z"
   },
   {
    "duration": -437,
    "start_time": "2022-02-22T13:05:59.087Z"
   },
   {
    "duration": 290,
    "start_time": "2022-02-22T13:06:07.271Z"
   },
   {
    "duration": 1693,
    "start_time": "2022-02-22T13:06:38.114Z"
   },
   {
    "duration": 245,
    "start_time": "2022-02-22T13:07:21.273Z"
   },
   {
    "duration": 4,
    "start_time": "2022-02-22T13:07:46.863Z"
   },
   {
    "duration": 7,
    "start_time": "2022-02-22T13:07:51.367Z"
   },
   {
    "duration": 1019,
    "start_time": "2022-02-22T13:07:51.377Z"
   },
   {
    "duration": 4,
    "start_time": "2022-02-22T13:07:52.399Z"
   },
   {
    "duration": 396,
    "start_time": "2022-02-22T13:07:52.406Z"
   },
   {
    "duration": 239,
    "start_time": "2022-02-22T13:07:52.806Z"
   },
   {
    "duration": 398,
    "start_time": "2022-02-22T13:07:53.047Z"
   },
   {
    "duration": 26,
    "start_time": "2022-02-22T13:07:53.448Z"
   },
   {
    "duration": 27,
    "start_time": "2022-02-22T13:07:53.498Z"
   },
   {
    "duration": 28,
    "start_time": "2022-02-22T13:07:53.531Z"
   },
   {
    "duration": 394,
    "start_time": "2022-02-22T13:07:53.562Z"
   },
   {
    "duration": 37,
    "start_time": "2022-02-22T13:07:53.959Z"
   },
   {
    "duration": 11,
    "start_time": "2022-02-22T13:07:53.999Z"
   },
   {
    "duration": 19,
    "start_time": "2022-02-22T13:07:54.013Z"
   },
   {
    "duration": 15,
    "start_time": "2022-02-22T13:07:54.035Z"
   },
   {
    "duration": 54,
    "start_time": "2022-02-22T13:07:54.053Z"
   },
   {
    "duration": 15,
    "start_time": "2022-02-22T13:07:54.110Z"
   },
   {
    "duration": 12,
    "start_time": "2022-02-22T13:07:54.128Z"
   },
   {
    "duration": 394,
    "start_time": "2022-02-22T13:07:54.143Z"
   },
   {
    "duration": 383,
    "start_time": "2022-02-22T13:07:54.541Z"
   },
   {
    "duration": 422,
    "start_time": "2022-02-22T13:07:54.927Z"
   },
   {
    "duration": 7,
    "start_time": "2022-02-22T13:07:55.352Z"
   },
   {
    "duration": 1103,
    "start_time": "2022-02-22T13:07:55.362Z"
   },
   {
    "duration": 1746,
    "start_time": "2022-02-22T13:07:56.468Z"
   },
   {
    "duration": 1032,
    "start_time": "2022-02-22T13:07:58.217Z"
   },
   {
    "duration": 6,
    "start_time": "2022-02-22T13:07:59.252Z"
   },
   {
    "duration": 819,
    "start_time": "2022-02-22T13:07:59.261Z"
   },
   {
    "duration": 846,
    "start_time": "2022-02-22T13:08:00.086Z"
   },
   {
    "duration": 16,
    "start_time": "2022-02-22T13:08:00.935Z"
   },
   {
    "duration": 1053,
    "start_time": "2022-02-22T13:08:00.954Z"
   },
   {
    "duration": 17,
    "start_time": "2022-02-22T13:08:02.010Z"
   },
   {
    "duration": 1145,
    "start_time": "2022-02-22T13:08:02.030Z"
   },
   {
    "duration": 3,
    "start_time": "2022-02-22T13:08:03.179Z"
   },
   {
    "duration": 13,
    "start_time": "2022-02-22T13:08:03.193Z"
   },
   {
    "duration": 7,
    "start_time": "2022-02-22T13:08:03.209Z"
   },
   {
    "duration": 16,
    "start_time": "2022-02-22T13:08:03.219Z"
   },
   {
    "duration": 177,
    "start_time": "2022-02-22T13:08:03.238Z"
   },
   {
    "duration": 92,
    "start_time": "2022-02-22T13:08:03.418Z"
   },
   {
    "duration": 294,
    "start_time": "2022-02-22T13:08:03.595Z"
   },
   {
    "duration": -380,
    "start_time": "2022-02-22T13:08:04.273Z"
   },
   {
    "duration": 1806,
    "start_time": "2022-02-22T13:08:07.392Z"
   },
   {
    "duration": 564,
    "start_time": "2022-02-22T13:08:24.389Z"
   },
   {
    "duration": 268,
    "start_time": "2022-02-22T13:08:36.119Z"
   },
   {
    "duration": 276,
    "start_time": "2022-02-22T13:08:41.793Z"
   },
   {
    "duration": 3,
    "start_time": "2022-02-22T13:08:49.192Z"
   },
   {
    "duration": 5,
    "start_time": "2022-02-22T13:08:58.558Z"
   },
   {
    "duration": 7,
    "start_time": "2022-02-22T13:15:35.991Z"
   },
   {
    "duration": 1768,
    "start_time": "2022-02-22T13:15:58.232Z"
   },
   {
    "duration": 2642,
    "start_time": "2022-02-22T13:16:23.953Z"
   },
   {
    "duration": 100,
    "start_time": "2022-02-22T13:20:34.193Z"
   },
   {
    "duration": 2578,
    "start_time": "2022-02-22T13:20:44.753Z"
   },
   {
    "duration": 1589,
    "start_time": "2022-02-22T13:22:34.313Z"
   },
   {
    "duration": 1845,
    "start_time": "2022-02-22T13:23:59.105Z"
   },
   {
    "duration": 1960,
    "start_time": "2022-02-22T13:24:16.184Z"
   },
   {
    "duration": 2371,
    "start_time": "2022-02-22T13:25:13.223Z"
   },
   {
    "duration": 1837,
    "start_time": "2022-02-22T13:26:10.861Z"
   },
   {
    "duration": 1848,
    "start_time": "2022-02-22T13:26:22.906Z"
   },
   {
    "duration": 2956,
    "start_time": "2022-02-22T13:26:50.706Z"
   },
   {
    "duration": 3023,
    "start_time": "2022-02-22T13:27:25.353Z"
   },
   {
    "duration": 2586,
    "start_time": "2022-02-22T13:27:43.684Z"
   },
   {
    "duration": 2117,
    "start_time": "2022-02-22T13:27:57.683Z"
   },
   {
    "duration": 260,
    "start_time": "2022-02-22T13:28:41.971Z"
   },
   {
    "duration": 152,
    "start_time": "2022-02-22T13:28:51.412Z"
   },
   {
    "duration": 5,
    "start_time": "2022-02-22T13:28:54.331Z"
   },
   {
    "duration": 1270,
    "start_time": "2022-02-22T13:28:54.340Z"
   },
   {
    "duration": 4,
    "start_time": "2022-02-22T13:28:55.614Z"
   },
   {
    "duration": 526,
    "start_time": "2022-02-22T13:28:55.622Z"
   },
   {
    "duration": 310,
    "start_time": "2022-02-22T13:28:56.151Z"
   },
   {
    "duration": 431,
    "start_time": "2022-02-22T13:28:56.464Z"
   },
   {
    "duration": 33,
    "start_time": "2022-02-22T13:28:56.899Z"
   },
   {
    "duration": 27,
    "start_time": "2022-02-22T13:28:56.939Z"
   },
   {
    "duration": 36,
    "start_time": "2022-02-22T13:28:56.995Z"
   },
   {
    "duration": 415,
    "start_time": "2022-02-22T13:28:57.034Z"
   },
   {
    "duration": 21,
    "start_time": "2022-02-22T13:28:57.453Z"
   },
   {
    "duration": 12,
    "start_time": "2022-02-22T13:28:57.493Z"
   },
   {
    "duration": 10,
    "start_time": "2022-02-22T13:28:57.507Z"
   },
   {
    "duration": 31,
    "start_time": "2022-02-22T13:28:57.520Z"
   },
   {
    "duration": 46,
    "start_time": "2022-02-22T13:28:57.554Z"
   },
   {
    "duration": 18,
    "start_time": "2022-02-22T13:28:57.602Z"
   },
   {
    "duration": 22,
    "start_time": "2022-02-22T13:28:57.622Z"
   },
   {
    "duration": 411,
    "start_time": "2022-02-22T13:28:57.648Z"
   },
   {
    "duration": 402,
    "start_time": "2022-02-22T13:28:58.062Z"
   },
   {
    "duration": 440,
    "start_time": "2022-02-22T13:28:58.466Z"
   },
   {
    "duration": 9,
    "start_time": "2022-02-22T13:28:58.909Z"
   },
   {
    "duration": 1058,
    "start_time": "2022-02-22T13:28:58.921Z"
   },
   {
    "duration": 1559,
    "start_time": "2022-02-22T13:28:59.993Z"
   },
   {
    "duration": 1523,
    "start_time": "2022-02-22T13:29:01.556Z"
   },
   {
    "duration": 19,
    "start_time": "2022-02-22T13:29:03.083Z"
   },
   {
    "duration": 1006,
    "start_time": "2022-02-22T13:29:03.104Z"
   },
   {
    "duration": 1047,
    "start_time": "2022-02-22T13:29:04.113Z"
   },
   {
    "duration": 13,
    "start_time": "2022-02-22T13:29:05.163Z"
   },
   {
    "duration": 2090,
    "start_time": "2022-02-22T13:29:05.195Z"
   },
   {
    "duration": 24,
    "start_time": "2022-02-22T13:29:07.288Z"
   },
   {
    "duration": 1459,
    "start_time": "2022-02-22T13:29:07.316Z"
   },
   {
    "duration": 16,
    "start_time": "2022-02-22T13:29:08.778Z"
   },
   {
    "duration": 16,
    "start_time": "2022-02-22T13:29:08.797Z"
   },
   {
    "duration": 10,
    "start_time": "2022-02-22T13:29:08.815Z"
   },
   {
    "duration": 12,
    "start_time": "2022-02-22T13:29:08.828Z"
   },
   {
    "duration": 166,
    "start_time": "2022-02-22T13:29:08.843Z"
   },
   {
    "duration": 119,
    "start_time": "2022-02-22T13:29:09.095Z"
   },
   {
    "duration": 2709,
    "start_time": "2022-02-22T13:29:09.296Z"
   },
   {
    "duration": 198,
    "start_time": "2022-02-22T13:29:12.012Z"
   },
   {
    "duration": 1497,
    "start_time": "2022-02-22T13:29:17.905Z"
   },
   {
    "duration": 6,
    "start_time": "2022-02-22T13:35:16.234Z"
   },
   {
    "duration": 1267,
    "start_time": "2022-02-22T13:35:16.244Z"
   },
   {
    "duration": 4,
    "start_time": "2022-02-22T13:35:17.514Z"
   },
   {
    "duration": 402,
    "start_time": "2022-02-22T13:35:17.521Z"
   },
   {
    "duration": 249,
    "start_time": "2022-02-22T13:35:17.926Z"
   },
   {
    "duration": 436,
    "start_time": "2022-02-22T13:35:18.179Z"
   },
   {
    "duration": 27,
    "start_time": "2022-02-22T13:35:18.617Z"
   },
   {
    "duration": 46,
    "start_time": "2022-02-22T13:35:18.649Z"
   },
   {
    "duration": 27,
    "start_time": "2022-02-22T13:35:18.698Z"
   },
   {
    "duration": 419,
    "start_time": "2022-02-22T13:35:18.727Z"
   },
   {
    "duration": 22,
    "start_time": "2022-02-22T13:35:19.149Z"
   },
   {
    "duration": 26,
    "start_time": "2022-02-22T13:35:19.174Z"
   },
   {
    "duration": 8,
    "start_time": "2022-02-22T13:35:19.202Z"
   },
   {
    "duration": 16,
    "start_time": "2022-02-22T13:35:19.213Z"
   },
   {
    "duration": 76,
    "start_time": "2022-02-22T13:35:19.232Z"
   },
   {
    "duration": 23,
    "start_time": "2022-02-22T13:35:19.311Z"
   },
   {
    "duration": 10,
    "start_time": "2022-02-22T13:35:19.337Z"
   },
   {
    "duration": 552,
    "start_time": "2022-02-22T13:35:19.351Z"
   },
   {
    "duration": 530,
    "start_time": "2022-02-22T13:35:19.906Z"
   },
   {
    "duration": 506,
    "start_time": "2022-02-22T13:35:20.439Z"
   },
   {
    "duration": 8,
    "start_time": "2022-02-22T13:35:20.948Z"
   },
   {
    "duration": 1054,
    "start_time": "2022-02-22T13:35:20.960Z"
   },
   {
    "duration": 1030,
    "start_time": "2022-02-22T13:35:22.022Z"
   },
   {
    "duration": 1095,
    "start_time": "2022-02-22T13:35:23.056Z"
   },
   {
    "duration": 11,
    "start_time": "2022-02-22T13:35:24.154Z"
   },
   {
    "duration": 926,
    "start_time": "2022-02-22T13:35:24.168Z"
   },
   {
    "duration": 888,
    "start_time": "2022-02-22T13:35:25.098Z"
   },
   {
    "duration": 17,
    "start_time": "2022-02-22T13:35:25.993Z"
   },
   {
    "duration": 1150,
    "start_time": "2022-02-22T13:35:26.013Z"
   },
   {
    "duration": 37,
    "start_time": "2022-02-22T13:35:27.166Z"
   },
   {
    "duration": 1141,
    "start_time": "2022-02-22T13:35:27.206Z"
   },
   {
    "duration": 3,
    "start_time": "2022-02-22T13:35:28.350Z"
   },
   {
    "duration": 20,
    "start_time": "2022-02-22T13:35:28.356Z"
   },
   {
    "duration": 28,
    "start_time": "2022-02-22T13:35:28.393Z"
   },
   {
    "duration": 9,
    "start_time": "2022-02-22T13:35:28.425Z"
   },
   {
    "duration": 859,
    "start_time": "2022-02-22T13:35:28.437Z"
   },
   {
    "duration": 100,
    "start_time": "2022-02-22T13:35:29.299Z"
   },
   {
    "duration": 1600,
    "start_time": "2022-02-22T13:35:29.403Z"
   },
   {
    "duration": 290,
    "start_time": "2022-02-22T13:35:31.007Z"
   },
   {
    "duration": -412,
    "start_time": "2022-02-22T13:35:31.713Z"
   },
   {
    "duration": 19,
    "start_time": "2022-02-22T13:36:57.675Z"
   },
   {
    "duration": 54,
    "start_time": "2022-02-22T13:37:05.157Z"
   },
   {
    "duration": 7,
    "start_time": "2022-02-22T13:37:22.086Z"
   },
   {
    "duration": 1291,
    "start_time": "2022-02-22T13:37:22.097Z"
   },
   {
    "duration": 5,
    "start_time": "2022-02-22T13:37:23.395Z"
   },
   {
    "duration": 402,
    "start_time": "2022-02-22T13:37:23.403Z"
   },
   {
    "duration": 238,
    "start_time": "2022-02-22T13:37:23.808Z"
   },
   {
    "duration": 443,
    "start_time": "2022-02-22T13:37:24.048Z"
   },
   {
    "duration": 40,
    "start_time": "2022-02-22T13:37:24.495Z"
   },
   {
    "duration": 18,
    "start_time": "2022-02-22T13:37:24.538Z"
   },
   {
    "duration": 70,
    "start_time": "2022-02-22T13:37:24.560Z"
   },
   {
    "duration": 443,
    "start_time": "2022-02-22T13:37:24.634Z"
   },
   {
    "duration": 25,
    "start_time": "2022-02-22T13:37:25.080Z"
   },
   {
    "duration": 13,
    "start_time": "2022-02-22T13:37:25.108Z"
   },
   {
    "duration": 25,
    "start_time": "2022-02-22T13:37:25.124Z"
   },
   {
    "duration": 23,
    "start_time": "2022-02-22T13:37:25.153Z"
   },
   {
    "duration": 47,
    "start_time": "2022-02-22T13:37:25.179Z"
   },
   {
    "duration": 16,
    "start_time": "2022-02-22T13:37:25.229Z"
   },
   {
    "duration": 15,
    "start_time": "2022-02-22T13:37:25.249Z"
   },
   {
    "duration": 418,
    "start_time": "2022-02-22T13:37:25.267Z"
   },
   {
    "duration": 386,
    "start_time": "2022-02-22T13:37:25.693Z"
   },
   {
    "duration": 415,
    "start_time": "2022-02-22T13:37:26.082Z"
   },
   {
    "duration": 10,
    "start_time": "2022-02-22T13:37:26.500Z"
   },
   {
    "duration": 1800,
    "start_time": "2022-02-22T13:37:26.513Z"
   },
   {
    "duration": 2167,
    "start_time": "2022-02-22T13:37:28.317Z"
   },
   {
    "duration": 1498,
    "start_time": "2022-02-22T13:37:30.495Z"
   },
   {
    "duration": 9,
    "start_time": "2022-02-22T13:37:31.996Z"
   },
   {
    "duration": 830,
    "start_time": "2022-02-22T13:37:32.008Z"
   },
   {
    "duration": 833,
    "start_time": "2022-02-22T13:37:32.843Z"
   },
   {
    "duration": 21,
    "start_time": "2022-02-22T13:37:33.680Z"
   },
   {
    "duration": 1060,
    "start_time": "2022-02-22T13:37:33.704Z"
   },
   {
    "duration": 36,
    "start_time": "2022-02-22T13:37:34.767Z"
   },
   {
    "duration": 1112,
    "start_time": "2022-02-22T13:37:34.807Z"
   },
   {
    "duration": 4,
    "start_time": "2022-02-22T13:37:35.922Z"
   },
   {
    "duration": 19,
    "start_time": "2022-02-22T13:37:35.929Z"
   },
   {
    "duration": 93,
    "start_time": "2022-02-22T13:37:35.950Z"
   },
   {
    "duration": 9,
    "start_time": "2022-02-22T13:37:36.047Z"
   },
   {
    "duration": 147,
    "start_time": "2022-02-22T13:37:36.059Z"
   },
   {
    "duration": 96,
    "start_time": "2022-02-22T13:37:36.209Z"
   },
   {
    "duration": 1890,
    "start_time": "2022-02-22T13:37:36.308Z"
   },
   {
    "duration": 2302,
    "start_time": "2022-02-22T13:37:38.203Z"
   },
   {
    "duration": 193,
    "start_time": "2022-02-22T13:37:40.594Z"
   },
   {
    "duration": 28,
    "start_time": "2022-02-22T13:38:56.465Z"
   },
   {
    "duration": 6,
    "start_time": "2022-02-22T13:42:44.113Z"
   },
   {
    "duration": 377,
    "start_time": "2022-02-22T13:56:09.394Z"
   },
   {
    "duration": 305,
    "start_time": "2022-02-22T13:56:21.073Z"
   },
   {
    "duration": 20,
    "start_time": "2022-02-22T13:57:41.956Z"
   },
   {
    "duration": 18,
    "start_time": "2022-02-22T13:58:12.594Z"
   },
   {
    "duration": 219,
    "start_time": "2022-02-22T13:58:49.780Z"
   },
   {
    "duration": 2550,
    "start_time": "2022-02-22T13:58:56.908Z"
   },
   {
    "duration": 5,
    "start_time": "2022-02-22T14:00:27.408Z"
   },
   {
    "duration": 916,
    "start_time": "2022-02-22T14:00:27.416Z"
   },
   {
    "duration": 6,
    "start_time": "2022-02-22T14:00:28.335Z"
   },
   {
    "duration": 417,
    "start_time": "2022-02-22T14:00:28.344Z"
   },
   {
    "duration": 243,
    "start_time": "2022-02-22T14:00:28.763Z"
   },
   {
    "duration": 442,
    "start_time": "2022-02-22T14:00:29.009Z"
   },
   {
    "duration": 26,
    "start_time": "2022-02-22T14:00:29.455Z"
   },
   {
    "duration": 24,
    "start_time": "2022-02-22T14:00:29.495Z"
   },
   {
    "duration": 29,
    "start_time": "2022-02-22T14:00:29.526Z"
   },
   {
    "duration": 421,
    "start_time": "2022-02-22T14:00:29.559Z"
   },
   {
    "duration": 31,
    "start_time": "2022-02-22T14:00:29.982Z"
   },
   {
    "duration": 9,
    "start_time": "2022-02-22T14:00:30.015Z"
   },
   {
    "duration": 22,
    "start_time": "2022-02-22T14:00:30.027Z"
   },
   {
    "duration": 7,
    "start_time": "2022-02-22T14:00:30.051Z"
   },
   {
    "duration": 59,
    "start_time": "2022-02-22T14:00:30.061Z"
   },
   {
    "duration": 18,
    "start_time": "2022-02-22T14:00:30.122Z"
   },
   {
    "duration": 16,
    "start_time": "2022-02-22T14:00:30.143Z"
   },
   {
    "duration": 426,
    "start_time": "2022-02-22T14:00:30.161Z"
   },
   {
    "duration": 409,
    "start_time": "2022-02-22T14:00:30.593Z"
   },
   {
    "duration": 401,
    "start_time": "2022-02-22T14:00:31.006Z"
   },
   {
    "duration": 6,
    "start_time": "2022-02-22T14:00:31.410Z"
   },
   {
    "duration": 1075,
    "start_time": "2022-02-22T14:00:31.419Z"
   },
   {
    "duration": 1022,
    "start_time": "2022-02-22T14:00:32.497Z"
   },
   {
    "duration": 1077,
    "start_time": "2022-02-22T14:00:33.522Z"
   },
   {
    "duration": 9,
    "start_time": "2022-02-22T14:00:34.603Z"
   },
   {
    "duration": 838,
    "start_time": "2022-02-22T14:00:34.615Z"
   },
   {
    "duration": 878,
    "start_time": "2022-02-22T14:00:35.459Z"
   },
   {
    "duration": 13,
    "start_time": "2022-02-22T14:00:36.341Z"
   },
   {
    "duration": 1104,
    "start_time": "2022-02-22T14:00:36.356Z"
   },
   {
    "duration": 35,
    "start_time": "2022-02-22T14:00:37.463Z"
   },
   {
    "duration": 1773,
    "start_time": "2022-02-22T14:00:37.502Z"
   },
   {
    "duration": 3,
    "start_time": "2022-02-22T14:00:39.277Z"
   },
   {
    "duration": 13,
    "start_time": "2022-02-22T14:00:39.294Z"
   },
   {
    "duration": 20,
    "start_time": "2022-02-22T14:00:39.311Z"
   },
   {
    "duration": 6,
    "start_time": "2022-02-22T14:00:39.334Z"
   },
   {
    "duration": 255,
    "start_time": "2022-02-22T14:00:39.343Z"
   },
   {
    "duration": 193,
    "start_time": "2022-02-22T14:00:39.603Z"
   },
   {
    "duration": 2494,
    "start_time": "2022-02-22T14:00:39.801Z"
   },
   {
    "duration": 2198,
    "start_time": "2022-02-22T14:00:42.298Z"
   },
   {
    "duration": 179,
    "start_time": "2022-02-22T14:00:44.505Z"
   },
   {
    "duration": 194,
    "start_time": "2022-02-22T14:00:55.733Z"
   },
   {
    "duration": 179,
    "start_time": "2022-02-22T14:02:17.767Z"
   },
   {
    "duration": 353,
    "start_time": "2022-02-22T14:02:35.802Z"
   },
   {
    "duration": 280,
    "start_time": "2022-02-22T14:02:43.884Z"
   },
   {
    "duration": 2407,
    "start_time": "2022-02-22T14:04:02.794Z"
   },
   {
    "duration": 320,
    "start_time": "2022-02-22T14:04:38.607Z"
   },
   {
    "duration": 269,
    "start_time": "2022-02-22T14:04:47.837Z"
   },
   {
    "duration": 307,
    "start_time": "2022-02-22T14:07:18.972Z"
   },
   {
    "duration": 287,
    "start_time": "2022-02-22T14:07:56.286Z"
   },
   {
    "duration": 266,
    "start_time": "2022-02-22T14:08:33.414Z"
   },
   {
    "duration": 263,
    "start_time": "2022-02-22T14:08:41.280Z"
   },
   {
    "duration": 6,
    "start_time": "2022-02-22T14:08:57.514Z"
   },
   {
    "duration": 890,
    "start_time": "2022-02-22T14:08:57.523Z"
   },
   {
    "duration": 3,
    "start_time": "2022-02-22T14:08:58.416Z"
   },
   {
    "duration": 418,
    "start_time": "2022-02-22T14:08:58.422Z"
   },
   {
    "duration": 237,
    "start_time": "2022-02-22T14:08:58.842Z"
   },
   {
    "duration": 429,
    "start_time": "2022-02-22T14:08:59.082Z"
   },
   {
    "duration": 25,
    "start_time": "2022-02-22T14:08:59.515Z"
   },
   {
    "duration": 18,
    "start_time": "2022-02-22T14:08:59.543Z"
   },
   {
    "duration": 60,
    "start_time": "2022-02-22T14:08:59.563Z"
   },
   {
    "duration": 391,
    "start_time": "2022-02-22T14:08:59.625Z"
   },
   {
    "duration": 20,
    "start_time": "2022-02-22T14:09:00.019Z"
   },
   {
    "duration": 10,
    "start_time": "2022-02-22T14:09:00.042Z"
   },
   {
    "duration": 8,
    "start_time": "2022-02-22T14:09:00.054Z"
   },
   {
    "duration": 8,
    "start_time": "2022-02-22T14:09:00.094Z"
   },
   {
    "duration": 30,
    "start_time": "2022-02-22T14:09:00.105Z"
   },
   {
    "duration": 18,
    "start_time": "2022-02-22T14:09:00.138Z"
   },
   {
    "duration": 7,
    "start_time": "2022-02-22T14:09:00.159Z"
   },
   {
    "duration": 406,
    "start_time": "2022-02-22T14:09:00.197Z"
   },
   {
    "duration": 388,
    "start_time": "2022-02-22T14:09:00.611Z"
   },
   {
    "duration": 409,
    "start_time": "2022-02-22T14:09:01.003Z"
   },
   {
    "duration": 7,
    "start_time": "2022-02-22T14:09:01.415Z"
   },
   {
    "duration": 1107,
    "start_time": "2022-02-22T14:09:01.425Z"
   },
   {
    "duration": 1059,
    "start_time": "2022-02-22T14:09:02.535Z"
   },
   {
    "duration": 1061,
    "start_time": "2022-02-22T14:09:03.597Z"
   },
   {
    "duration": 5,
    "start_time": "2022-02-22T14:09:04.661Z"
   },
   {
    "duration": 821,
    "start_time": "2022-02-22T14:09:04.669Z"
   },
   {
    "duration": 876,
    "start_time": "2022-02-22T14:09:05.494Z"
   },
   {
    "duration": 22,
    "start_time": "2022-02-22T14:09:06.372Z"
   },
   {
    "duration": 1092,
    "start_time": "2022-02-22T14:09:06.397Z"
   },
   {
    "duration": 25,
    "start_time": "2022-02-22T14:09:07.495Z"
   },
   {
    "duration": 1102,
    "start_time": "2022-02-22T14:09:07.524Z"
   },
   {
    "duration": 3,
    "start_time": "2022-02-22T14:09:08.628Z"
   },
   {
    "duration": 14,
    "start_time": "2022-02-22T14:09:08.634Z"
   },
   {
    "duration": 45,
    "start_time": "2022-02-22T14:09:08.651Z"
   },
   {
    "duration": 12,
    "start_time": "2022-02-22T14:09:08.701Z"
   },
   {
    "duration": 291,
    "start_time": "2022-02-22T14:09:08.716Z"
   },
   {
    "duration": 284,
    "start_time": "2022-02-22T14:09:09.012Z"
   },
   {
    "duration": 2115,
    "start_time": "2022-02-22T14:09:09.299Z"
   },
   {
    "duration": 2104,
    "start_time": "2022-02-22T14:09:11.416Z"
   },
   {
    "duration": 378,
    "start_time": "2022-02-22T14:09:13.599Z"
   },
   {
    "duration": 263,
    "start_time": "2022-02-22T14:09:17.316Z"
   },
   {
    "duration": 791,
    "start_time": "2022-02-22T14:09:25.519Z"
   },
   {
    "duration": 2627,
    "start_time": "2022-02-22T14:10:30.840Z"
   },
   {
    "duration": 192,
    "start_time": "2022-02-22T14:10:42.651Z"
   },
   {
    "duration": 73013,
    "start_time": "2022-02-22T14:11:58.968Z"
   },
   {
    "duration": 26573,
    "start_time": "2022-02-22T14:14:02.917Z"
   },
   {
    "duration": 62726,
    "start_time": "2022-02-22T14:14:58.356Z"
   },
   {
    "duration": 97,
    "start_time": "2022-02-22T14:17:27.120Z"
   },
   {
    "duration": 78,
    "start_time": "2022-02-22T14:17:31.559Z"
   },
   {
    "duration": 61407,
    "start_time": "2022-02-22T14:17:43.242Z"
   },
   {
    "duration": 60889,
    "start_time": "2022-02-22T14:19:14.407Z"
   },
   {
    "duration": 60729,
    "start_time": "2022-02-22T14:21:01.967Z"
   },
   {
    "duration": 194,
    "start_time": "2022-02-22T14:22:11.393Z"
   },
   {
    "duration": 269,
    "start_time": "2022-02-22T14:22:25.474Z"
   },
   {
    "duration": 7,
    "start_time": "2022-02-22T14:22:34.476Z"
   },
   {
    "duration": 990,
    "start_time": "2022-02-22T14:22:34.487Z"
   },
   {
    "duration": 4,
    "start_time": "2022-02-22T14:22:35.481Z"
   },
   {
    "duration": 401,
    "start_time": "2022-02-22T14:22:35.495Z"
   },
   {
    "duration": 244,
    "start_time": "2022-02-22T14:22:35.899Z"
   },
   {
    "duration": 419,
    "start_time": "2022-02-22T14:22:36.145Z"
   },
   {
    "duration": 43,
    "start_time": "2022-02-22T14:22:36.566Z"
   },
   {
    "duration": 18,
    "start_time": "2022-02-22T14:22:36.613Z"
   },
   {
    "duration": 27,
    "start_time": "2022-02-22T14:22:36.634Z"
   },
   {
    "duration": 405,
    "start_time": "2022-02-22T14:22:36.664Z"
   },
   {
    "duration": 33,
    "start_time": "2022-02-22T14:22:37.071Z"
   },
   {
    "duration": 10,
    "start_time": "2022-02-22T14:22:37.107Z"
   },
   {
    "duration": 12,
    "start_time": "2022-02-22T14:22:37.120Z"
   },
   {
    "duration": 10,
    "start_time": "2022-02-22T14:22:37.134Z"
   },
   {
    "duration": 61,
    "start_time": "2022-02-22T14:22:37.146Z"
   },
   {
    "duration": 19,
    "start_time": "2022-02-22T14:22:37.211Z"
   },
   {
    "duration": 16,
    "start_time": "2022-02-22T14:22:37.232Z"
   },
   {
    "duration": 415,
    "start_time": "2022-02-22T14:22:37.251Z"
   },
   {
    "duration": 400,
    "start_time": "2022-02-22T14:22:37.668Z"
   },
   {
    "duration": 407,
    "start_time": "2022-02-22T14:22:38.070Z"
   },
   {
    "duration": 14,
    "start_time": "2022-02-22T14:22:38.479Z"
   },
   {
    "duration": 1130,
    "start_time": "2022-02-22T14:22:38.496Z"
   },
   {
    "duration": 1400,
    "start_time": "2022-02-22T14:22:39.633Z"
   },
   {
    "duration": 1926,
    "start_time": "2022-02-22T14:22:41.036Z"
   },
   {
    "duration": 7,
    "start_time": "2022-02-22T14:22:42.965Z"
   },
   {
    "duration": 866,
    "start_time": "2022-02-22T14:22:42.974Z"
   },
   {
    "duration": 856,
    "start_time": "2022-02-22T14:22:43.843Z"
   },
   {
    "duration": 19,
    "start_time": "2022-02-22T14:22:44.702Z"
   },
   {
    "duration": 1081,
    "start_time": "2022-02-22T14:22:44.723Z"
   },
   {
    "duration": 23,
    "start_time": "2022-02-22T14:22:45.806Z"
   },
   {
    "duration": 1098,
    "start_time": "2022-02-22T14:22:45.832Z"
   },
   {
    "duration": 3,
    "start_time": "2022-02-22T14:22:46.933Z"
   },
   {
    "duration": 16,
    "start_time": "2022-02-22T14:22:46.938Z"
   },
   {
    "duration": 48,
    "start_time": "2022-02-22T14:22:46.956Z"
   },
   {
    "duration": 7,
    "start_time": "2022-02-22T14:22:47.006Z"
   },
   {
    "duration": 484,
    "start_time": "2022-02-22T14:22:47.016Z"
   },
   {
    "duration": 200,
    "start_time": "2022-02-22T14:22:47.502Z"
   },
   {
    "duration": 2001,
    "start_time": "2022-02-22T14:22:47.712Z"
   },
   {
    "duration": 2671,
    "start_time": "2022-02-22T14:22:49.727Z"
   },
   {
    "duration": 19470,
    "start_time": "2022-02-22T14:22:52.402Z"
   },
   {
    "duration": 200,
    "start_time": "2022-02-22T14:23:11.876Z"
   },
   {
    "duration": 321,
    "start_time": "2022-02-22T14:23:17.282Z"
   },
   {
    "duration": 6,
    "start_time": "2022-02-22T14:23:24.480Z"
   },
   {
    "duration": 944,
    "start_time": "2022-02-22T14:23:24.489Z"
   },
   {
    "duration": 4,
    "start_time": "2022-02-22T14:23:25.436Z"
   },
   {
    "duration": 400,
    "start_time": "2022-02-22T14:23:25.443Z"
   },
   {
    "duration": 252,
    "start_time": "2022-02-22T14:23:25.845Z"
   },
   {
    "duration": 406,
    "start_time": "2022-02-22T14:23:26.100Z"
   },
   {
    "duration": 26,
    "start_time": "2022-02-22T14:23:26.509Z"
   },
   {
    "duration": 16,
    "start_time": "2022-02-22T14:23:26.540Z"
   },
   {
    "duration": 34,
    "start_time": "2022-02-22T14:23:26.593Z"
   },
   {
    "duration": 404,
    "start_time": "2022-02-22T14:23:26.630Z"
   },
   {
    "duration": 21,
    "start_time": "2022-02-22T14:23:27.037Z"
   },
   {
    "duration": 10,
    "start_time": "2022-02-22T14:23:27.061Z"
   },
   {
    "duration": 33,
    "start_time": "2022-02-22T14:23:27.094Z"
   },
   {
    "duration": 10,
    "start_time": "2022-02-22T14:23:27.129Z"
   },
   {
    "duration": 37,
    "start_time": "2022-02-22T14:23:27.141Z"
   },
   {
    "duration": 31,
    "start_time": "2022-02-22T14:23:27.181Z"
   },
   {
    "duration": 15,
    "start_time": "2022-02-22T14:23:27.215Z"
   },
   {
    "duration": 416,
    "start_time": "2022-02-22T14:23:27.232Z"
   },
   {
    "duration": 394,
    "start_time": "2022-02-22T14:23:27.651Z"
   },
   {
    "duration": 403,
    "start_time": "2022-02-22T14:23:28.048Z"
   },
   {
    "duration": 6,
    "start_time": "2022-02-22T14:23:28.453Z"
   },
   {
    "duration": 1089,
    "start_time": "2022-02-22T14:23:28.461Z"
   },
   {
    "duration": 1135,
    "start_time": "2022-02-22T14:23:29.554Z"
   },
   {
    "duration": 1037,
    "start_time": "2022-02-22T14:23:30.695Z"
   },
   {
    "duration": 7,
    "start_time": "2022-02-22T14:23:31.735Z"
   },
   {
    "duration": 1099,
    "start_time": "2022-02-22T14:23:31.746Z"
   },
   {
    "duration": 875,
    "start_time": "2022-02-22T14:23:32.849Z"
   },
   {
    "duration": 12,
    "start_time": "2022-02-22T14:23:33.727Z"
   },
   {
    "duration": 1011,
    "start_time": "2022-02-22T14:23:33.741Z"
   },
   {
    "duration": 18,
    "start_time": "2022-02-22T14:23:34.755Z"
   },
   {
    "duration": 1049,
    "start_time": "2022-02-22T14:23:34.776Z"
   },
   {
    "duration": 4,
    "start_time": "2022-02-22T14:23:35.828Z"
   },
   {
    "duration": 13,
    "start_time": "2022-02-22T14:23:35.835Z"
   },
   {
    "duration": 47,
    "start_time": "2022-02-22T14:23:35.850Z"
   },
   {
    "duration": 8,
    "start_time": "2022-02-22T14:23:35.900Z"
   },
   {
    "duration": 196,
    "start_time": "2022-02-22T14:23:35.911Z"
   },
   {
    "duration": 186,
    "start_time": "2022-02-22T14:23:36.110Z"
   },
   {
    "duration": 2709,
    "start_time": "2022-02-22T14:23:36.300Z"
   },
   {
    "duration": 2408,
    "start_time": "2022-02-22T14:23:39.095Z"
   },
   {
    "duration": 24281,
    "start_time": "2022-02-22T14:23:41.509Z"
   },
   {
    "duration": 44134,
    "start_time": "2022-02-22T14:28:40.760Z"
   },
   {
    "duration": 26897,
    "start_time": "2022-02-22T14:29:30.036Z"
   },
   {
    "duration": 59552,
    "start_time": "2022-02-22T14:30:12.011Z"
   },
   {
    "duration": 3398,
    "start_time": "2022-02-22T14:35:41.158Z"
   },
   {
    "duration": 61608,
    "start_time": "2022-02-22T14:36:00.759Z"
   },
   {
    "duration": 715,
    "start_time": "2022-02-22T14:39:07.682Z"
   },
   {
    "duration": 691,
    "start_time": "2022-02-22T14:39:18.646Z"
   },
   {
    "duration": 50482,
    "start_time": "2022-02-22T14:39:47.967Z"
   },
   {
    "duration": 60200,
    "start_time": "2022-02-22T14:42:37.952Z"
   },
   {
    "duration": 170,
    "start_time": "2022-02-22T14:59:38.436Z"
   },
   {
    "duration": 6,
    "start_time": "2022-02-22T14:59:44.954Z"
   },
   {
    "duration": 911,
    "start_time": "2022-02-22T14:59:44.964Z"
   },
   {
    "duration": 3,
    "start_time": "2022-02-22T14:59:45.878Z"
   },
   {
    "duration": 380,
    "start_time": "2022-02-22T14:59:45.883Z"
   },
   {
    "duration": 233,
    "start_time": "2022-02-22T14:59:46.266Z"
   },
   {
    "duration": 411,
    "start_time": "2022-02-22T14:59:46.502Z"
   },
   {
    "duration": 23,
    "start_time": "2022-02-22T14:59:46.916Z"
   },
   {
    "duration": 17,
    "start_time": "2022-02-22T14:59:46.943Z"
   },
   {
    "duration": 55,
    "start_time": "2022-02-22T14:59:46.963Z"
   },
   {
    "duration": 373,
    "start_time": "2022-02-22T14:59:47.020Z"
   },
   {
    "duration": 18,
    "start_time": "2022-02-22T14:59:47.395Z"
   },
   {
    "duration": 15,
    "start_time": "2022-02-22T14:59:47.415Z"
   },
   {
    "duration": 11,
    "start_time": "2022-02-22T14:59:47.432Z"
   },
   {
    "duration": 17,
    "start_time": "2022-02-22T14:59:47.445Z"
   },
   {
    "duration": 43,
    "start_time": "2022-02-22T14:59:47.465Z"
   },
   {
    "duration": 17,
    "start_time": "2022-02-22T14:59:47.510Z"
   },
   {
    "duration": 10,
    "start_time": "2022-02-22T14:59:47.530Z"
   },
   {
    "duration": 405,
    "start_time": "2022-02-22T14:59:47.543Z"
   },
   {
    "duration": 378,
    "start_time": "2022-02-22T14:59:47.951Z"
   },
   {
    "duration": 378,
    "start_time": "2022-02-22T14:59:48.332Z"
   },
   {
    "duration": 6,
    "start_time": "2022-02-22T14:59:48.713Z"
   },
   {
    "duration": 1047,
    "start_time": "2022-02-22T14:59:48.722Z"
   },
   {
    "duration": 1711,
    "start_time": "2022-02-22T14:59:49.774Z"
   },
   {
    "duration": 1031,
    "start_time": "2022-02-22T14:59:51.495Z"
   },
   {
    "duration": 7,
    "start_time": "2022-02-22T14:59:52.529Z"
   },
   {
    "duration": 825,
    "start_time": "2022-02-22T14:59:52.539Z"
   },
   {
    "duration": 811,
    "start_time": "2022-02-22T14:59:53.366Z"
   },
   {
    "duration": 21,
    "start_time": "2022-02-22T14:59:54.180Z"
   },
   {
    "duration": 1041,
    "start_time": "2022-02-22T14:59:54.203Z"
   },
   {
    "duration": 17,
    "start_time": "2022-02-22T14:59:55.247Z"
   },
   {
    "duration": 1048,
    "start_time": "2022-02-22T14:59:55.267Z"
   },
   {
    "duration": 4,
    "start_time": "2022-02-22T14:59:56.317Z"
   },
   {
    "duration": 14,
    "start_time": "2022-02-22T14:59:56.323Z"
   },
   {
    "duration": 21,
    "start_time": "2022-02-22T14:59:56.339Z"
   },
   {
    "duration": 31,
    "start_time": "2022-02-22T14:59:56.363Z"
   },
   {
    "duration": 105,
    "start_time": "2022-02-22T14:59:56.396Z"
   },
   {
    "duration": 192,
    "start_time": "2022-02-22T14:59:56.504Z"
   },
   {
    "duration": 1496,
    "start_time": "2022-02-22T14:59:56.699Z"
   },
   {
    "duration": 1604,
    "start_time": "2022-02-22T14:59:58.199Z"
   },
   {
    "duration": 14957,
    "start_time": "2022-02-22T14:59:59.895Z"
   },
   {
    "duration": 186,
    "start_time": "2022-02-22T15:00:14.855Z"
   },
   {
    "duration": 179,
    "start_time": "2022-02-22T15:00:40.029Z"
   },
   {
    "duration": 6,
    "start_time": "2022-02-22T15:00:49.054Z"
   },
   {
    "duration": 901,
    "start_time": "2022-02-22T15:00:49.070Z"
   },
   {
    "duration": 4,
    "start_time": "2022-02-22T15:00:49.973Z"
   },
   {
    "duration": 397,
    "start_time": "2022-02-22T15:00:49.980Z"
   },
   {
    "duration": 238,
    "start_time": "2022-02-22T15:00:50.380Z"
   },
   {
    "duration": 404,
    "start_time": "2022-02-22T15:00:50.621Z"
   },
   {
    "duration": 24,
    "start_time": "2022-02-22T15:00:51.028Z"
   },
   {
    "duration": 41,
    "start_time": "2022-02-22T15:00:51.055Z"
   },
   {
    "duration": 29,
    "start_time": "2022-02-22T15:00:51.101Z"
   },
   {
    "duration": 403,
    "start_time": "2022-02-22T15:00:51.136Z"
   },
   {
    "duration": 25,
    "start_time": "2022-02-22T15:00:51.543Z"
   },
   {
    "duration": 27,
    "start_time": "2022-02-22T15:00:51.572Z"
   },
   {
    "duration": 32,
    "start_time": "2022-02-22T15:00:51.602Z"
   },
   {
    "duration": 31,
    "start_time": "2022-02-22T15:00:51.637Z"
   },
   {
    "duration": 45,
    "start_time": "2022-02-22T15:00:51.670Z"
   },
   {
    "duration": 25,
    "start_time": "2022-02-22T15:00:51.718Z"
   },
   {
    "duration": 33,
    "start_time": "2022-02-22T15:00:51.746Z"
   },
   {
    "duration": 519,
    "start_time": "2022-02-22T15:00:51.782Z"
   },
   {
    "duration": 515,
    "start_time": "2022-02-22T15:00:52.303Z"
   },
   {
    "duration": 396,
    "start_time": "2022-02-22T15:00:52.820Z"
   },
   {
    "duration": 7,
    "start_time": "2022-02-22T15:00:53.218Z"
   },
   {
    "duration": 1599,
    "start_time": "2022-02-22T15:00:53.227Z"
   },
   {
    "duration": 1399,
    "start_time": "2022-02-22T15:00:54.829Z"
   },
   {
    "duration": 1132,
    "start_time": "2022-02-22T15:00:56.231Z"
   },
   {
    "duration": 7,
    "start_time": "2022-02-22T15:00:57.367Z"
   },
   {
    "duration": 1045,
    "start_time": "2022-02-22T15:00:57.377Z"
   },
   {
    "duration": 949,
    "start_time": "2022-02-22T15:00:58.424Z"
   },
   {
    "duration": 19,
    "start_time": "2022-02-22T15:00:59.380Z"
   },
   {
    "duration": 1058,
    "start_time": "2022-02-22T15:00:59.402Z"
   },
   {
    "duration": 32,
    "start_time": "2022-02-22T15:01:00.463Z"
   },
   {
    "duration": 1022,
    "start_time": "2022-02-22T15:01:00.497Z"
   },
   {
    "duration": 5,
    "start_time": "2022-02-22T15:01:01.521Z"
   },
   {
    "duration": 23,
    "start_time": "2022-02-22T15:01:01.529Z"
   },
   {
    "duration": 38,
    "start_time": "2022-02-22T15:01:01.555Z"
   },
   {
    "duration": 6,
    "start_time": "2022-02-22T15:01:01.596Z"
   },
   {
    "duration": 389,
    "start_time": "2022-02-22T15:01:01.605Z"
   },
   {
    "duration": 103,
    "start_time": "2022-02-22T15:01:02.000Z"
   },
   {
    "duration": 1796,
    "start_time": "2022-02-22T15:01:02.106Z"
   },
   {
    "duration": 2705,
    "start_time": "2022-02-22T15:01:03.906Z"
   },
   {
    "duration": 35971,
    "start_time": "2022-02-22T15:01:06.613Z"
   },
   {
    "duration": 166,
    "start_time": "2022-02-22T15:01:42.587Z"
   },
   {
    "duration": 5,
    "start_time": "2022-02-22T15:03:18.453Z"
   },
   {
    "duration": 836,
    "start_time": "2022-02-22T15:03:18.461Z"
   },
   {
    "duration": 4,
    "start_time": "2022-02-22T15:03:19.300Z"
   },
   {
    "duration": 388,
    "start_time": "2022-02-22T15:03:19.307Z"
   },
   {
    "duration": 219,
    "start_time": "2022-02-22T15:03:19.698Z"
   },
   {
    "duration": 379,
    "start_time": "2022-02-22T15:03:19.919Z"
   },
   {
    "duration": 22,
    "start_time": "2022-02-22T15:03:20.301Z"
   },
   {
    "duration": 16,
    "start_time": "2022-02-22T15:03:20.326Z"
   },
   {
    "duration": 62,
    "start_time": "2022-02-22T15:03:20.346Z"
   },
   {
    "duration": 372,
    "start_time": "2022-02-22T15:03:20.411Z"
   },
   {
    "duration": 22,
    "start_time": "2022-02-22T15:03:20.786Z"
   },
   {
    "duration": 8,
    "start_time": "2022-02-22T15:03:20.811Z"
   },
   {
    "duration": 9,
    "start_time": "2022-02-22T15:03:20.822Z"
   },
   {
    "duration": 7,
    "start_time": "2022-02-22T15:03:20.834Z"
   },
   {
    "duration": 69,
    "start_time": "2022-02-22T15:03:20.843Z"
   },
   {
    "duration": 15,
    "start_time": "2022-02-22T15:03:20.915Z"
   },
   {
    "duration": 6,
    "start_time": "2022-02-22T15:03:20.933Z"
   },
   {
    "duration": 388,
    "start_time": "2022-02-22T15:03:20.941Z"
   },
   {
    "duration": 379,
    "start_time": "2022-02-22T15:03:21.332Z"
   },
   {
    "duration": 366,
    "start_time": "2022-02-22T15:03:21.714Z"
   },
   {
    "duration": 12,
    "start_time": "2022-02-22T15:03:22.082Z"
   },
   {
    "duration": 1675,
    "start_time": "2022-02-22T15:03:22.097Z"
   },
   {
    "duration": 954,
    "start_time": "2022-02-22T15:03:23.775Z"
   },
   {
    "duration": 1128,
    "start_time": "2022-02-22T15:03:24.732Z"
   },
   {
    "duration": 6,
    "start_time": "2022-02-22T15:03:25.863Z"
   },
   {
    "duration": 815,
    "start_time": "2022-02-22T15:03:25.872Z"
   },
   {
    "duration": 835,
    "start_time": "2022-02-22T15:03:26.696Z"
   },
   {
    "duration": 13,
    "start_time": "2022-02-22T15:03:27.534Z"
   },
   {
    "duration": 1022,
    "start_time": "2022-02-22T15:03:27.549Z"
   },
   {
    "duration": 30,
    "start_time": "2022-02-22T15:03:28.573Z"
   },
   {
    "duration": 1028,
    "start_time": "2022-02-22T15:03:28.606Z"
   },
   {
    "duration": 3,
    "start_time": "2022-02-22T15:03:29.637Z"
   },
   {
    "duration": 10,
    "start_time": "2022-02-22T15:03:29.642Z"
   },
   {
    "duration": 39,
    "start_time": "2022-02-22T15:03:29.654Z"
   },
   {
    "duration": 7,
    "start_time": "2022-02-22T15:03:29.695Z"
   },
   {
    "duration": 191,
    "start_time": "2022-02-22T15:03:29.705Z"
   },
   {
    "duration": 105,
    "start_time": "2022-02-22T15:03:29.899Z"
   },
   {
    "duration": 2092,
    "start_time": "2022-02-22T15:03:30.010Z"
   },
   {
    "duration": 1803,
    "start_time": "2022-02-22T15:03:32.195Z"
   },
   {
    "duration": 13842,
    "start_time": "2022-02-22T15:03:34.094Z"
   },
   {
    "duration": 171,
    "start_time": "2022-02-22T15:03:47.939Z"
   },
   {
    "duration": 7,
    "start_time": "2022-02-22T15:03:57.643Z"
   },
   {
    "duration": 937,
    "start_time": "2022-02-22T15:03:57.654Z"
   },
   {
    "duration": 5,
    "start_time": "2022-02-22T15:03:58.595Z"
   },
   {
    "duration": 385,
    "start_time": "2022-02-22T15:03:58.604Z"
   },
   {
    "duration": 323,
    "start_time": "2022-02-22T15:03:58.994Z"
   },
   {
    "duration": 407,
    "start_time": "2022-02-22T15:03:59.320Z"
   },
   {
    "duration": 24,
    "start_time": "2022-02-22T15:03:59.730Z"
   },
   {
    "duration": 39,
    "start_time": "2022-02-22T15:03:59.757Z"
   },
   {
    "duration": 28,
    "start_time": "2022-02-22T15:03:59.801Z"
   },
   {
    "duration": 393,
    "start_time": "2022-02-22T15:03:59.832Z"
   },
   {
    "duration": 19,
    "start_time": "2022-02-22T15:04:00.227Z"
   },
   {
    "duration": 9,
    "start_time": "2022-02-22T15:04:00.249Z"
   },
   {
    "duration": 40,
    "start_time": "2022-02-22T15:04:00.261Z"
   },
   {
    "duration": 16,
    "start_time": "2022-02-22T15:04:00.304Z"
   },
   {
    "duration": 30,
    "start_time": "2022-02-22T15:04:00.323Z"
   },
   {
    "duration": 16,
    "start_time": "2022-02-22T15:04:00.356Z"
   },
   {
    "duration": 7,
    "start_time": "2022-02-22T15:04:00.396Z"
   },
   {
    "duration": 398,
    "start_time": "2022-02-22T15:04:00.406Z"
   },
   {
    "duration": 386,
    "start_time": "2022-02-22T15:04:00.807Z"
   },
   {
    "duration": 385,
    "start_time": "2022-02-22T15:04:01.196Z"
   },
   {
    "duration": 11,
    "start_time": "2022-02-22T15:04:01.583Z"
   },
   {
    "duration": 1175,
    "start_time": "2022-02-22T15:04:01.597Z"
   },
   {
    "duration": 981,
    "start_time": "2022-02-22T15:04:02.774Z"
   },
   {
    "duration": 1090,
    "start_time": "2022-02-22T15:04:03.757Z"
   },
   {
    "duration": 6,
    "start_time": "2022-02-22T15:04:04.849Z"
   },
   {
    "duration": 814,
    "start_time": "2022-02-22T15:04:04.858Z"
   },
   {
    "duration": 803,
    "start_time": "2022-02-22T15:04:05.677Z"
   },
   {
    "duration": 18,
    "start_time": "2022-02-22T15:04:06.483Z"
   },
   {
    "duration": 1025,
    "start_time": "2022-02-22T15:04:06.503Z"
   },
   {
    "duration": 19,
    "start_time": "2022-02-22T15:04:07.530Z"
   },
   {
    "duration": 1053,
    "start_time": "2022-02-22T15:04:07.551Z"
   },
   {
    "duration": 3,
    "start_time": "2022-02-22T15:04:08.606Z"
   },
   {
    "duration": 11,
    "start_time": "2022-02-22T15:04:08.611Z"
   },
   {
    "duration": 24,
    "start_time": "2022-02-22T15:04:08.625Z"
   },
   {
    "duration": 6,
    "start_time": "2022-02-22T15:04:08.652Z"
   },
   {
    "duration": 143,
    "start_time": "2022-02-22T15:04:08.661Z"
   },
   {
    "duration": 388,
    "start_time": "2022-02-22T15:04:08.807Z"
   },
   {
    "duration": 1397,
    "start_time": "2022-02-22T15:04:09.198Z"
   },
   {
    "duration": 1707,
    "start_time": "2022-02-22T15:04:10.597Z"
   },
   {
    "duration": 63459,
    "start_time": "2022-02-22T15:04:12.393Z"
   },
   {
    "duration": 224,
    "start_time": "2022-02-22T15:05:15.855Z"
   },
   {
    "duration": 221549,
    "start_time": "2022-02-22T15:05:39.527Z"
   },
   {
    "duration": 191747,
    "start_time": "2022-02-22T15:09:42.795Z"
   },
   {
    "duration": 1701,
    "start_time": "2022-02-22T15:12:59.393Z"
   },
   {
    "duration": 60790,
    "start_time": "2022-02-22T15:13:07.960Z"
   },
   {
    "duration": 22593,
    "start_time": "2022-02-22T15:14:22.992Z"
   },
   {
    "duration": 101530,
    "start_time": "2022-02-22T15:16:48.396Z"
   },
   {
    "duration": 468,
    "start_time": "2022-02-22T15:20:13.317Z"
   },
   {
    "duration": 22815,
    "start_time": "2022-02-22T15:20:22.323Z"
   },
   {
    "duration": 58036,
    "start_time": "2022-02-22T15:21:10.041Z"
   },
   {
    "duration": 190,
    "start_time": "2022-02-22T15:26:55.680Z"
   },
   {
    "duration": 6,
    "start_time": "2022-02-22T15:27:08.434Z"
   },
   {
    "duration": 807,
    "start_time": "2022-02-22T15:27:08.442Z"
   },
   {
    "duration": 4,
    "start_time": "2022-02-22T15:27:09.253Z"
   },
   {
    "duration": 381,
    "start_time": "2022-02-22T15:27:09.260Z"
   },
   {
    "duration": 241,
    "start_time": "2022-02-22T15:27:09.644Z"
   },
   {
    "duration": 408,
    "start_time": "2022-02-22T15:27:09.887Z"
   },
   {
    "duration": 25,
    "start_time": "2022-02-22T15:27:10.298Z"
   },
   {
    "duration": 18,
    "start_time": "2022-02-22T15:27:10.327Z"
   },
   {
    "duration": 60,
    "start_time": "2022-02-22T15:27:10.349Z"
   },
   {
    "duration": 395,
    "start_time": "2022-02-22T15:27:10.412Z"
   },
   {
    "duration": 19,
    "start_time": "2022-02-22T15:27:10.810Z"
   },
   {
    "duration": 10,
    "start_time": "2022-02-22T15:27:10.832Z"
   },
   {
    "duration": 15,
    "start_time": "2022-02-22T15:27:10.845Z"
   },
   {
    "duration": 8,
    "start_time": "2022-02-22T15:27:10.895Z"
   },
   {
    "duration": 33,
    "start_time": "2022-02-22T15:27:10.906Z"
   },
   {
    "duration": 19,
    "start_time": "2022-02-22T15:27:10.942Z"
   },
   {
    "duration": 30,
    "start_time": "2022-02-22T15:27:10.964Z"
   },
   {
    "duration": 389,
    "start_time": "2022-02-22T15:27:10.996Z"
   },
   {
    "duration": 378,
    "start_time": "2022-02-22T15:27:11.393Z"
   },
   {
    "duration": 400,
    "start_time": "2022-02-22T15:27:11.773Z"
   },
   {
    "duration": 18,
    "start_time": "2022-02-22T15:27:12.176Z"
   },
   {
    "duration": 2399,
    "start_time": "2022-02-22T15:27:12.197Z"
   },
   {
    "duration": 1639,
    "start_time": "2022-02-22T15:27:14.604Z"
   },
   {
    "duration": 1632,
    "start_time": "2022-02-22T15:27:16.247Z"
   },
   {
    "duration": 19,
    "start_time": "2022-02-22T15:27:17.882Z"
   },
   {
    "duration": 810,
    "start_time": "2022-02-22T15:27:17.904Z"
   },
   {
    "duration": 822,
    "start_time": "2022-02-22T15:27:18.716Z"
   },
   {
    "duration": 11,
    "start_time": "2022-02-22T15:27:19.541Z"
   },
   {
    "duration": 1581,
    "start_time": "2022-02-22T15:27:19.555Z"
   },
   {
    "duration": 26,
    "start_time": "2022-02-22T15:27:21.139Z"
   },
   {
    "duration": 1605,
    "start_time": "2022-02-22T15:27:21.168Z"
   },
   {
    "duration": 17,
    "start_time": "2022-02-22T15:27:22.777Z"
   },
   {
    "duration": 68,
    "start_time": "2022-02-22T15:27:22.797Z"
   },
   {
    "duration": 76,
    "start_time": "2022-02-22T15:27:22.868Z"
   },
   {
    "duration": 8,
    "start_time": "2022-02-22T15:27:22.947Z"
   },
   {
    "duration": 444,
    "start_time": "2022-02-22T15:27:22.958Z"
   },
   {
    "duration": 101,
    "start_time": "2022-02-22T15:27:23.495Z"
   },
   {
    "duration": 2119,
    "start_time": "2022-02-22T15:27:26.274Z"
   },
   {
    "duration": 1712,
    "start_time": "2022-02-22T15:27:50.884Z"
   },
   {
    "duration": 58253,
    "start_time": "2022-02-22T15:28:17.075Z"
   },
   {
    "duration": 22852,
    "start_time": "2022-02-22T15:29:41.605Z"
   },
   {
    "duration": 3561,
    "start_time": "2022-02-22T15:30:12.435Z"
   },
   {
    "duration": 271,
    "start_time": "2022-02-22T15:39:59.478Z"
   },
   {
    "duration": 721,
    "start_time": "2022-02-22T15:40:05.007Z"
   },
   {
    "duration": 278,
    "start_time": "2022-02-22T15:40:11.638Z"
   },
   {
    "duration": 9,
    "start_time": "2022-02-22T15:41:19.154Z"
   },
   {
    "duration": 323,
    "start_time": "2022-02-22T15:46:41.459Z"
   },
   {
    "duration": 5,
    "start_time": "2022-02-22T15:49:55.804Z"
   },
   {
    "duration": 267,
    "start_time": "2022-02-22T15:54:15.625Z"
   },
   {
    "duration": 332,
    "start_time": "2022-02-22T15:54:46.338Z"
   },
   {
    "duration": 6,
    "start_time": "2022-02-22T15:54:56.100Z"
   },
   {
    "duration": 837,
    "start_time": "2022-02-22T15:54:56.108Z"
   },
   {
    "duration": 4,
    "start_time": "2022-02-22T15:54:56.949Z"
   },
   {
    "duration": 421,
    "start_time": "2022-02-22T15:54:56.957Z"
   },
   {
    "duration": 238,
    "start_time": "2022-02-22T15:54:57.380Z"
   },
   {
    "duration": 605,
    "start_time": "2022-02-22T15:54:57.621Z"
   },
   {
    "duration": 43,
    "start_time": "2022-02-22T15:54:58.229Z"
   },
   {
    "duration": 32,
    "start_time": "2022-02-22T15:54:58.275Z"
   },
   {
    "duration": 25,
    "start_time": "2022-02-22T15:54:58.311Z"
   },
   {
    "duration": 405,
    "start_time": "2022-02-22T15:54:58.339Z"
   },
   {
    "duration": 21,
    "start_time": "2022-02-22T15:54:58.747Z"
   },
   {
    "duration": 26,
    "start_time": "2022-02-22T15:54:58.770Z"
   },
   {
    "duration": 7,
    "start_time": "2022-02-22T15:54:58.798Z"
   },
   {
    "duration": 10,
    "start_time": "2022-02-22T15:54:58.808Z"
   },
   {
    "duration": 29,
    "start_time": "2022-02-22T15:54:58.821Z"
   },
   {
    "duration": 17,
    "start_time": "2022-02-22T15:55:00.792Z"
   },
   {
    "duration": 304,
    "start_time": "2022-02-22T15:55:05.539Z"
   },
   {
    "duration": 5,
    "start_time": "2022-02-22T15:55:23.553Z"
   },
   {
    "duration": 916,
    "start_time": "2022-02-22T15:55:23.560Z"
   },
   {
    "duration": 13,
    "start_time": "2022-02-22T15:55:24.481Z"
   },
   {
    "duration": 404,
    "start_time": "2022-02-22T15:55:24.498Z"
   },
   {
    "duration": 264,
    "start_time": "2022-02-22T15:55:24.904Z"
   },
   {
    "duration": 683,
    "start_time": "2022-02-22T15:55:25.172Z"
   },
   {
    "duration": 74,
    "start_time": "2022-02-22T15:55:25.858Z"
   },
   {
    "duration": 28,
    "start_time": "2022-02-22T15:55:25.946Z"
   },
   {
    "duration": 42,
    "start_time": "2022-02-22T15:55:25.980Z"
   },
   {
    "duration": 524,
    "start_time": "2022-02-22T15:55:26.027Z"
   },
   {
    "duration": 42,
    "start_time": "2022-02-22T15:55:26.555Z"
   },
   {
    "duration": 12,
    "start_time": "2022-02-22T15:55:26.600Z"
   },
   {
    "duration": 14,
    "start_time": "2022-02-22T15:55:26.616Z"
   },
   {
    "duration": 9,
    "start_time": "2022-02-22T15:55:26.634Z"
   },
   {
    "duration": 59,
    "start_time": "2022-02-22T15:55:26.645Z"
   },
   {
    "duration": 8,
    "start_time": "2022-02-22T15:55:32.068Z"
   },
   {
    "duration": 318,
    "start_time": "2022-02-22T15:55:42.168Z"
   },
   {
    "duration": 251,
    "start_time": "2022-02-22T15:56:33.489Z"
   },
   {
    "duration": 720,
    "start_time": "2022-02-22T15:57:03.022Z"
   },
   {
    "duration": 311,
    "start_time": "2022-02-22T15:57:16.161Z"
   },
   {
    "duration": 7,
    "start_time": "2022-02-22T15:57:34.267Z"
   },
   {
    "duration": 987,
    "start_time": "2022-02-22T15:57:34.277Z"
   },
   {
    "duration": 3,
    "start_time": "2022-02-22T15:57:35.268Z"
   },
   {
    "duration": 705,
    "start_time": "2022-02-22T15:57:35.275Z"
   },
   {
    "duration": 299,
    "start_time": "2022-02-22T15:57:35.983Z"
   },
   {
    "duration": 418,
    "start_time": "2022-02-22T15:57:36.285Z"
   },
   {
    "duration": 24,
    "start_time": "2022-02-22T15:57:36.706Z"
   },
   {
    "duration": 19,
    "start_time": "2022-02-22T15:57:36.734Z"
   },
   {
    "duration": 42,
    "start_time": "2022-02-22T15:57:36.756Z"
   },
   {
    "duration": 422,
    "start_time": "2022-02-22T15:57:36.801Z"
   },
   {
    "duration": 18,
    "start_time": "2022-02-22T15:57:37.225Z"
   },
   {
    "duration": 10,
    "start_time": "2022-02-22T15:57:37.247Z"
   },
   {
    "duration": 38,
    "start_time": "2022-02-22T15:57:37.260Z"
   },
   {
    "duration": 7,
    "start_time": "2022-02-22T15:57:37.300Z"
   },
   {
    "duration": 30,
    "start_time": "2022-02-22T15:57:37.309Z"
   },
   {
    "duration": 9,
    "start_time": "2022-02-22T15:57:37.341Z"
   },
   {
    "duration": 42,
    "start_time": "2022-02-22T15:57:37.352Z"
   },
   {
    "duration": 396,
    "start_time": "2022-02-22T15:57:37.397Z"
   },
   {
    "duration": 398,
    "start_time": "2022-02-22T15:57:37.796Z"
   },
   {
    "duration": 388,
    "start_time": "2022-02-22T15:57:38.197Z"
   },
   {
    "duration": 7,
    "start_time": "2022-02-22T15:57:38.593Z"
   },
   {
    "duration": 1049,
    "start_time": "2022-02-22T15:57:38.602Z"
   },
   {
    "duration": 1044,
    "start_time": "2022-02-22T15:57:39.659Z"
   },
   {
    "duration": 1052,
    "start_time": "2022-02-22T15:57:40.708Z"
   },
   {
    "duration": 7,
    "start_time": "2022-02-22T15:57:41.762Z"
   },
   {
    "duration": 936,
    "start_time": "2022-02-22T15:57:41.772Z"
   },
   {
    "duration": 856,
    "start_time": "2022-02-22T15:57:42.711Z"
   },
   {
    "duration": 23,
    "start_time": "2022-02-22T15:57:43.570Z"
   },
   {
    "duration": 1493,
    "start_time": "2022-02-22T15:57:43.596Z"
   },
   {
    "duration": 21,
    "start_time": "2022-02-22T15:57:45.094Z"
   },
   {
    "duration": 1094,
    "start_time": "2022-02-22T15:57:45.117Z"
   },
   {
    "duration": 3,
    "start_time": "2022-02-22T15:57:46.213Z"
   },
   {
    "duration": 261,
    "start_time": "2022-02-22T15:57:46.218Z"
   },
   {
    "duration": -564,
    "start_time": "2022-02-22T15:57:47.046Z"
   },
   {
    "duration": -566,
    "start_time": "2022-02-22T15:57:47.049Z"
   },
   {
    "duration": -566,
    "start_time": "2022-02-22T15:57:47.051Z"
   },
   {
    "duration": -568,
    "start_time": "2022-02-22T15:57:47.054Z"
   },
   {
    "duration": -569,
    "start_time": "2022-02-22T15:57:47.057Z"
   },
   {
    "duration": -569,
    "start_time": "2022-02-22T15:57:47.059Z"
   },
   {
    "duration": -571,
    "start_time": "2022-02-22T15:57:47.062Z"
   },
   {
    "duration": -572,
    "start_time": "2022-02-22T15:57:47.065Z"
   },
   {
    "duration": 285,
    "start_time": "2022-02-22T16:00:01.488Z"
   },
   {
    "duration": 270,
    "start_time": "2022-02-22T16:02:45.825Z"
   },
   {
    "duration": 5,
    "start_time": "2022-02-22T16:02:57.083Z"
   },
   {
    "duration": 924,
    "start_time": "2022-02-22T16:02:57.091Z"
   },
   {
    "duration": 4,
    "start_time": "2022-02-22T16:02:58.018Z"
   },
   {
    "duration": 389,
    "start_time": "2022-02-22T16:02:58.026Z"
   },
   {
    "duration": 230,
    "start_time": "2022-02-22T16:02:58.418Z"
   },
   {
    "duration": 409,
    "start_time": "2022-02-22T16:02:58.651Z"
   },
   {
    "duration": 38,
    "start_time": "2022-02-22T16:02:59.063Z"
   },
   {
    "duration": 18,
    "start_time": "2022-02-22T16:02:59.105Z"
   },
   {
    "duration": 26,
    "start_time": "2022-02-22T16:02:59.127Z"
   },
   {
    "duration": 397,
    "start_time": "2022-02-22T16:02:59.156Z"
   },
   {
    "duration": 41,
    "start_time": "2022-02-22T16:02:59.556Z"
   },
   {
    "duration": 12,
    "start_time": "2022-02-22T16:02:59.600Z"
   },
   {
    "duration": 13,
    "start_time": "2022-02-22T16:02:59.616Z"
   },
   {
    "duration": 8,
    "start_time": "2022-02-22T16:02:59.632Z"
   },
   {
    "duration": 58,
    "start_time": "2022-02-22T16:02:59.643Z"
   },
   {
    "duration": 8,
    "start_time": "2022-02-22T16:02:59.703Z"
   },
   {
    "duration": 9,
    "start_time": "2022-02-22T16:02:59.713Z"
   },
   {
    "duration": 404,
    "start_time": "2022-02-22T16:02:59.724Z"
   },
   {
    "duration": 385,
    "start_time": "2022-02-22T16:03:00.130Z"
   },
   {
    "duration": 400,
    "start_time": "2022-02-22T16:03:00.518Z"
   },
   {
    "duration": 7,
    "start_time": "2022-02-22T16:03:00.921Z"
   },
   {
    "duration": 2207,
    "start_time": "2022-02-22T16:03:00.931Z"
   },
   {
    "duration": 998,
    "start_time": "2022-02-22T16:03:03.146Z"
   },
   {
    "duration": 1038,
    "start_time": "2022-02-22T16:03:04.147Z"
   },
   {
    "duration": 11,
    "start_time": "2022-02-22T16:03:05.188Z"
   },
   {
    "duration": 810,
    "start_time": "2022-02-22T16:03:05.201Z"
   },
   {
    "duration": 832,
    "start_time": "2022-02-22T16:03:06.014Z"
   },
   {
    "duration": 11,
    "start_time": "2022-02-22T16:03:06.848Z"
   },
   {
    "duration": 1039,
    "start_time": "2022-02-22T16:03:06.862Z"
   },
   {
    "duration": 17,
    "start_time": "2022-02-22T16:03:07.904Z"
   },
   {
    "duration": 1048,
    "start_time": "2022-02-22T16:03:07.924Z"
   },
   {
    "duration": 3,
    "start_time": "2022-02-22T16:03:08.975Z"
   },
   {
    "duration": 274,
    "start_time": "2022-02-22T16:03:08.980Z"
   },
   {
    "duration": -560,
    "start_time": "2022-02-22T16:03:09.817Z"
   },
   {
    "duration": -562,
    "start_time": "2022-02-22T16:03:09.820Z"
   },
   {
    "duration": -569,
    "start_time": "2022-02-22T16:03:09.829Z"
   },
   {
    "duration": -571,
    "start_time": "2022-02-22T16:03:09.832Z"
   },
   {
    "duration": -571,
    "start_time": "2022-02-22T16:03:09.834Z"
   },
   {
    "duration": -573,
    "start_time": "2022-02-22T16:03:09.837Z"
   },
   {
    "duration": -574,
    "start_time": "2022-02-22T16:03:09.840Z"
   },
   {
    "duration": -580,
    "start_time": "2022-02-22T16:03:09.847Z"
   },
   {
    "duration": -582,
    "start_time": "2022-02-22T16:03:09.850Z"
   },
   {
    "duration": 2334,
    "start_time": "2022-02-22T16:03:34.360Z"
   },
   {
    "duration": 1033,
    "start_time": "2022-02-22T16:03:36.697Z"
   },
   {
    "duration": 3,
    "start_time": "2022-02-22T16:03:37.733Z"
   },
   {
    "duration": 384,
    "start_time": "2022-02-22T16:03:37.739Z"
   },
   {
    "duration": 226,
    "start_time": "2022-02-22T16:03:38.126Z"
   },
   {
    "duration": 406,
    "start_time": "2022-02-22T16:03:38.354Z"
   },
   {
    "duration": 37,
    "start_time": "2022-02-22T16:03:38.763Z"
   },
   {
    "duration": 16,
    "start_time": "2022-02-22T16:03:38.804Z"
   },
   {
    "duration": 74,
    "start_time": "2022-02-22T16:03:38.824Z"
   },
   {
    "duration": 383,
    "start_time": "2022-02-22T16:03:38.900Z"
   },
   {
    "duration": 25,
    "start_time": "2022-02-22T16:03:39.285Z"
   },
   {
    "duration": 16,
    "start_time": "2022-02-22T16:03:39.312Z"
   },
   {
    "duration": 9,
    "start_time": "2022-02-22T16:03:39.331Z"
   },
   {
    "duration": 8,
    "start_time": "2022-02-22T16:03:39.344Z"
   },
   {
    "duration": 47,
    "start_time": "2022-02-22T16:03:39.396Z"
   },
   {
    "duration": 15,
    "start_time": "2022-02-22T16:03:39.447Z"
   },
   {
    "duration": 29,
    "start_time": "2022-02-22T16:03:39.465Z"
   },
   {
    "duration": 389,
    "start_time": "2022-02-22T16:03:39.497Z"
   },
   {
    "duration": 409,
    "start_time": "2022-02-22T16:03:39.888Z"
   },
   {
    "duration": 394,
    "start_time": "2022-02-22T16:03:40.300Z"
   },
   {
    "duration": 7,
    "start_time": "2022-02-22T16:03:40.697Z"
   },
   {
    "duration": 1119,
    "start_time": "2022-02-22T16:03:40.706Z"
   },
   {
    "duration": 1174,
    "start_time": "2022-02-22T16:03:41.831Z"
   },
   {
    "duration": 1042,
    "start_time": "2022-02-22T16:03:43.009Z"
   },
   {
    "duration": 6,
    "start_time": "2022-02-22T16:03:44.055Z"
   },
   {
    "duration": 822,
    "start_time": "2022-02-22T16:03:44.065Z"
   },
   {
    "duration": 1574,
    "start_time": "2022-02-22T16:03:44.894Z"
   },
   {
    "duration": 29,
    "start_time": "2022-02-22T16:03:46.471Z"
   },
   {
    "duration": 1747,
    "start_time": "2022-02-22T16:03:46.504Z"
   },
   {
    "duration": 42,
    "start_time": "2022-02-22T16:03:48.254Z"
   },
   {
    "duration": 1004,
    "start_time": "2022-02-22T16:03:48.299Z"
   },
   {
    "duration": 3,
    "start_time": "2022-02-22T16:03:49.305Z"
   },
   {
    "duration": 409,
    "start_time": "2022-02-22T16:03:49.310Z"
   },
   {
    "duration": -600,
    "start_time": "2022-02-22T16:03:50.321Z"
   },
   {
    "duration": -600,
    "start_time": "2022-02-22T16:03:50.323Z"
   },
   {
    "duration": -601,
    "start_time": "2022-02-22T16:03:50.326Z"
   },
   {
    "duration": -603,
    "start_time": "2022-02-22T16:03:50.329Z"
   },
   {
    "duration": -604,
    "start_time": "2022-02-22T16:03:50.332Z"
   },
   {
    "duration": -605,
    "start_time": "2022-02-22T16:03:50.334Z"
   },
   {
    "duration": -606,
    "start_time": "2022-02-22T16:03:50.337Z"
   },
   {
    "duration": -608,
    "start_time": "2022-02-22T16:03:50.340Z"
   },
   {
    "duration": -614,
    "start_time": "2022-02-22T16:03:50.347Z"
   },
   {
    "duration": 6,
    "start_time": "2022-02-22T16:04:30.273Z"
   },
   {
    "duration": 1011,
    "start_time": "2022-02-22T16:04:30.282Z"
   },
   {
    "duration": 3,
    "start_time": "2022-02-22T16:04:31.297Z"
   },
   {
    "duration": 390,
    "start_time": "2022-02-22T16:04:31.303Z"
   },
   {
    "duration": 400,
    "start_time": "2022-02-22T16:04:31.696Z"
   },
   {
    "duration": 401,
    "start_time": "2022-02-22T16:04:32.098Z"
   },
   {
    "duration": 25,
    "start_time": "2022-02-22T16:04:32.502Z"
   },
   {
    "duration": 16,
    "start_time": "2022-02-22T16:04:32.529Z"
   },
   {
    "duration": 58,
    "start_time": "2022-02-22T16:04:32.549Z"
   },
   {
    "duration": 383,
    "start_time": "2022-02-22T16:04:32.611Z"
   },
   {
    "duration": 18,
    "start_time": "2022-02-22T16:04:32.997Z"
   },
   {
    "duration": 9,
    "start_time": "2022-02-22T16:04:33.018Z"
   },
   {
    "duration": 10,
    "start_time": "2022-02-22T16:04:33.029Z"
   },
   {
    "duration": 9,
    "start_time": "2022-02-22T16:04:33.042Z"
   },
   {
    "duration": 64,
    "start_time": "2022-02-22T16:04:33.053Z"
   },
   {
    "duration": 20,
    "start_time": "2022-02-22T16:04:33.120Z"
   },
   {
    "duration": 8,
    "start_time": "2022-02-22T16:04:33.143Z"
   },
   {
    "duration": 426,
    "start_time": "2022-02-22T16:04:33.153Z"
   },
   {
    "duration": 381,
    "start_time": "2022-02-22T16:04:33.582Z"
   },
   {
    "duration": 494,
    "start_time": "2022-02-22T16:04:33.966Z"
   },
   {
    "duration": 7,
    "start_time": "2022-02-22T16:04:34.463Z"
   },
   {
    "duration": 1048,
    "start_time": "2022-02-22T16:04:34.472Z"
   },
   {
    "duration": 978,
    "start_time": "2022-02-22T16:04:35.523Z"
   },
   {
    "duration": 1012,
    "start_time": "2022-02-22T16:04:36.504Z"
   },
   {
    "duration": 6,
    "start_time": "2022-02-22T16:04:37.518Z"
   },
   {
    "duration": 923,
    "start_time": "2022-02-22T16:04:37.527Z"
   },
   {
    "duration": 916,
    "start_time": "2022-02-22T16:04:38.455Z"
   },
   {
    "duration": 20,
    "start_time": "2022-02-22T16:04:39.374Z"
   },
   {
    "duration": 1046,
    "start_time": "2022-02-22T16:04:39.397Z"
   },
   {
    "duration": 19,
    "start_time": "2022-02-22T16:04:40.445Z"
   },
   {
    "duration": 1126,
    "start_time": "2022-02-22T16:04:40.467Z"
   },
   {
    "duration": 4,
    "start_time": "2022-02-22T16:04:41.597Z"
   },
   {
    "duration": 20,
    "start_time": "2022-02-22T16:04:41.604Z"
   },
   {
    "duration": 29,
    "start_time": "2022-02-22T16:04:41.627Z"
   },
   {
    "duration": 34,
    "start_time": "2022-02-22T16:04:41.659Z"
   },
   {
    "duration": 200,
    "start_time": "2022-02-22T16:04:41.696Z"
   },
   {
    "duration": 207,
    "start_time": "2022-02-22T16:04:41.900Z"
   },
   {
    "duration": 2193,
    "start_time": "2022-02-22T16:04:42.110Z"
   },
   {
    "duration": 694,
    "start_time": "2022-02-22T16:04:44.308Z"
   },
   {
    "duration": 3733,
    "start_time": "2022-02-22T16:04:45.004Z"
   },
   {
    "duration": 22408,
    "start_time": "2022-02-22T16:04:48.740Z"
   },
   {
    "duration": 261,
    "start_time": "2022-02-22T16:05:11.151Z"
   },
   {
    "duration": 364,
    "start_time": "2022-02-22T16:05:21.625Z"
   },
   {
    "duration": 757,
    "start_time": "2022-02-22T16:05:38.321Z"
   },
   {
    "duration": 494,
    "start_time": "2022-02-22T16:05:58.204Z"
   },
   {
    "duration": 5,
    "start_time": "2022-02-22T16:06:47.303Z"
   },
   {
    "duration": 1147,
    "start_time": "2022-02-22T16:06:47.311Z"
   },
   {
    "duration": 4,
    "start_time": "2022-02-22T16:06:48.461Z"
   },
   {
    "duration": 397,
    "start_time": "2022-02-22T16:06:48.468Z"
   },
   {
    "duration": 242,
    "start_time": "2022-02-22T16:06:48.868Z"
   },
   {
    "duration": 614,
    "start_time": "2022-02-22T16:06:49.113Z"
   },
   {
    "duration": 37,
    "start_time": "2022-02-22T16:06:49.730Z"
   },
   {
    "duration": 36,
    "start_time": "2022-02-22T16:06:49.774Z"
   },
   {
    "duration": 27,
    "start_time": "2022-02-22T16:06:49.814Z"
   },
   {
    "duration": 505,
    "start_time": "2022-02-22T16:06:49.844Z"
   },
   {
    "duration": 19,
    "start_time": "2022-02-22T16:06:50.351Z"
   },
   {
    "duration": 26,
    "start_time": "2022-02-22T16:06:50.373Z"
   },
   {
    "duration": 9,
    "start_time": "2022-02-22T16:06:50.403Z"
   },
   {
    "duration": 12,
    "start_time": "2022-02-22T16:06:50.415Z"
   },
   {
    "duration": 69,
    "start_time": "2022-02-22T16:06:50.430Z"
   },
   {
    "duration": 26,
    "start_time": "2022-02-22T16:06:50.503Z"
   },
   {
    "duration": 8,
    "start_time": "2022-02-22T16:06:50.532Z"
   },
   {
    "duration": 642,
    "start_time": "2022-02-22T16:06:50.544Z"
   },
   {
    "duration": 387,
    "start_time": "2022-02-22T16:06:51.193Z"
   },
   {
    "duration": 400,
    "start_time": "2022-02-22T16:06:51.583Z"
   },
   {
    "duration": 10,
    "start_time": "2022-02-22T16:06:51.986Z"
   },
   {
    "duration": 1074,
    "start_time": "2022-02-22T16:06:52.000Z"
   },
   {
    "duration": 1224,
    "start_time": "2022-02-22T16:06:53.083Z"
   },
   {
    "duration": 1874,
    "start_time": "2022-02-22T16:06:54.311Z"
   },
   {
    "duration": 12,
    "start_time": "2022-02-22T16:06:56.189Z"
   },
   {
    "duration": 1033,
    "start_time": "2022-02-22T16:06:56.204Z"
   },
   {
    "duration": 869,
    "start_time": "2022-02-22T16:06:57.240Z"
   },
   {
    "duration": 11,
    "start_time": "2022-02-22T16:06:58.111Z"
   },
   {
    "duration": 1029,
    "start_time": "2022-02-22T16:06:58.125Z"
   },
   {
    "duration": 38,
    "start_time": "2022-02-22T16:06:59.157Z"
   },
   {
    "duration": 1047,
    "start_time": "2022-02-22T16:06:59.198Z"
   },
   {
    "duration": 4,
    "start_time": "2022-02-22T16:07:00.249Z"
   },
   {
    "duration": 24,
    "start_time": "2022-02-22T16:07:00.257Z"
   },
   {
    "duration": 33,
    "start_time": "2022-02-22T16:07:00.284Z"
   },
   {
    "duration": 8,
    "start_time": "2022-02-22T16:07:00.320Z"
   },
   {
    "duration": 671,
    "start_time": "2022-02-22T16:07:00.330Z"
   },
   {
    "duration": 189,
    "start_time": "2022-02-22T16:07:01.004Z"
   },
   {
    "duration": 2007,
    "start_time": "2022-02-22T16:07:01.197Z"
   },
   {
    "duration": 1085,
    "start_time": "2022-02-22T16:07:03.209Z"
   },
   {
    "duration": 3631,
    "start_time": "2022-02-22T16:07:04.298Z"
   },
   {
    "duration": 22832,
    "start_time": "2022-02-22T16:07:07.932Z"
   },
   {
    "duration": 287,
    "start_time": "2022-02-22T16:07:30.766Z"
   },
   {
    "duration": 536,
    "start_time": "2022-02-22T16:08:48.951Z"
   },
   {
    "duration": 252,
    "start_time": "2022-02-22T16:09:01.748Z"
   },
   {
    "duration": 493,
    "start_time": "2022-02-22T16:09:17.104Z"
   },
   {
    "duration": 294,
    "start_time": "2022-02-22T16:09:48.606Z"
   },
   {
    "duration": 575,
    "start_time": "2022-02-22T16:10:09.811Z"
   },
   {
    "duration": 3695,
    "start_time": "2022-02-22T16:10:42.079Z"
   },
   {
    "duration": 542,
    "start_time": "2022-02-22T16:15:09.455Z"
   },
   {
    "duration": 769,
    "start_time": "2022-02-22T16:15:41.405Z"
   },
   {
    "duration": 556,
    "start_time": "2022-02-22T16:15:54.679Z"
   },
   {
    "duration": 4,
    "start_time": "2022-02-22T16:16:09.854Z"
   },
   {
    "duration": 6,
    "start_time": "2022-02-22T16:16:13.729Z"
   },
   {
    "duration": 984,
    "start_time": "2022-02-22T16:16:13.745Z"
   },
   {
    "duration": 4,
    "start_time": "2022-02-22T16:16:14.731Z"
   },
   {
    "duration": 397,
    "start_time": "2022-02-22T16:16:14.738Z"
   },
   {
    "duration": 237,
    "start_time": "2022-02-22T16:16:15.138Z"
   },
   {
    "duration": 563,
    "start_time": "2022-02-22T16:16:15.377Z"
   },
   {
    "duration": 55,
    "start_time": "2022-02-22T16:16:15.943Z"
   },
   {
    "duration": 31,
    "start_time": "2022-02-22T16:16:16.001Z"
   },
   {
    "duration": 71,
    "start_time": "2022-02-22T16:16:16.038Z"
   },
   {
    "duration": 526,
    "start_time": "2022-02-22T16:16:16.113Z"
   },
   {
    "duration": 34,
    "start_time": "2022-02-22T16:16:16.643Z"
   },
   {
    "duration": 21,
    "start_time": "2022-02-22T16:16:16.680Z"
   },
   {
    "duration": 14,
    "start_time": "2022-02-22T16:16:16.704Z"
   },
   {
    "duration": 10,
    "start_time": "2022-02-22T16:16:16.720Z"
   },
   {
    "duration": 25,
    "start_time": "2022-02-22T16:16:16.733Z"
   },
   {
    "duration": 51,
    "start_time": "2022-02-22T16:16:16.760Z"
   },
   {
    "duration": 13,
    "start_time": "2022-02-22T16:16:16.814Z"
   },
   {
    "duration": 406,
    "start_time": "2022-02-22T16:16:16.829Z"
   },
   {
    "duration": 388,
    "start_time": "2022-02-22T16:16:17.238Z"
   },
   {
    "duration": 384,
    "start_time": "2022-02-22T16:16:17.628Z"
   },
   {
    "duration": 7,
    "start_time": "2022-02-22T16:16:18.016Z"
   },
   {
    "duration": 1144,
    "start_time": "2022-02-22T16:16:18.025Z"
   },
   {
    "duration": 1109,
    "start_time": "2022-02-22T16:16:19.172Z"
   },
   {
    "duration": 1198,
    "start_time": "2022-02-22T16:16:20.286Z"
   },
   {
    "duration": 10,
    "start_time": "2022-02-22T16:16:21.496Z"
   },
   {
    "duration": 1285,
    "start_time": "2022-02-22T16:16:21.509Z"
   },
   {
    "duration": 1339,
    "start_time": "2022-02-22T16:16:22.797Z"
   },
   {
    "duration": 16,
    "start_time": "2022-02-22T16:16:24.140Z"
   },
   {
    "duration": 1634,
    "start_time": "2022-02-22T16:16:24.161Z"
   },
   {
    "duration": 26,
    "start_time": "2022-02-22T16:16:25.798Z"
   },
   {
    "duration": 1975,
    "start_time": "2022-02-22T16:16:25.828Z"
   },
   {
    "duration": 4,
    "start_time": "2022-02-22T16:16:27.807Z"
   },
   {
    "duration": 18,
    "start_time": "2022-02-22T16:16:27.814Z"
   },
   {
    "duration": 32,
    "start_time": "2022-02-22T16:16:27.836Z"
   },
   {
    "duration": 33,
    "start_time": "2022-02-22T16:16:27.871Z"
   },
   {
    "duration": 100,
    "start_time": "2022-02-22T16:16:27.908Z"
   },
   {
    "duration": 208,
    "start_time": "2022-02-22T16:16:28.095Z"
   },
   {
    "duration": 2190,
    "start_time": "2022-02-22T16:16:28.306Z"
   },
   {
    "duration": 1173,
    "start_time": "2022-02-22T16:16:30.501Z"
   },
   {
    "duration": 3590,
    "start_time": "2022-02-22T16:16:31.677Z"
   },
   {
    "duration": 23159,
    "start_time": "2022-02-22T16:16:35.270Z"
   },
   {
    "duration": 3,
    "start_time": "2022-02-22T16:16:58.431Z"
   },
   {
    "duration": 454,
    "start_time": "2022-02-22T16:17:21.041Z"
   },
   {
    "duration": 5,
    "start_time": "2022-02-22T16:17:42.601Z"
   },
   {
    "duration": 966,
    "start_time": "2022-02-22T16:17:42.609Z"
   },
   {
    "duration": 8,
    "start_time": "2022-02-22T16:17:43.578Z"
   },
   {
    "duration": 462,
    "start_time": "2022-02-22T16:17:43.588Z"
   },
   {
    "duration": 237,
    "start_time": "2022-02-22T16:17:44.053Z"
   },
   {
    "duration": 400,
    "start_time": "2022-02-22T16:17:44.293Z"
   },
   {
    "duration": 24,
    "start_time": "2022-02-22T16:17:44.696Z"
   },
   {
    "duration": 16,
    "start_time": "2022-02-22T16:17:44.723Z"
   },
   {
    "duration": 78,
    "start_time": "2022-02-22T16:17:44.745Z"
   },
   {
    "duration": 503,
    "start_time": "2022-02-22T16:17:44.827Z"
   },
   {
    "duration": 19,
    "start_time": "2022-02-22T16:17:45.333Z"
   },
   {
    "duration": 8,
    "start_time": "2022-02-22T16:17:45.354Z"
   },
   {
    "duration": 32,
    "start_time": "2022-02-22T16:17:45.365Z"
   },
   {
    "duration": 9,
    "start_time": "2022-02-22T16:17:45.400Z"
   },
   {
    "duration": 40,
    "start_time": "2022-02-22T16:17:45.412Z"
   },
   {
    "duration": 19,
    "start_time": "2022-02-22T16:17:45.455Z"
   },
   {
    "duration": 17,
    "start_time": "2022-02-22T16:17:45.495Z"
   },
   {
    "duration": 390,
    "start_time": "2022-02-22T16:17:45.514Z"
   },
   {
    "duration": 390,
    "start_time": "2022-02-22T16:17:45.906Z"
   },
   {
    "duration": 408,
    "start_time": "2022-02-22T16:17:46.300Z"
   },
   {
    "duration": 6,
    "start_time": "2022-02-22T16:17:46.712Z"
   },
   {
    "duration": 1032,
    "start_time": "2022-02-22T16:17:46.721Z"
   },
   {
    "duration": 1154,
    "start_time": "2022-02-22T16:17:47.755Z"
   },
   {
    "duration": 1024,
    "start_time": "2022-02-22T16:17:48.912Z"
   },
   {
    "duration": 7,
    "start_time": "2022-02-22T16:17:49.939Z"
   },
   {
    "duration": 819,
    "start_time": "2022-02-22T16:17:49.949Z"
   },
   {
    "duration": 842,
    "start_time": "2022-02-22T16:17:50.774Z"
   },
   {
    "duration": 11,
    "start_time": "2022-02-22T16:17:51.618Z"
   },
   {
    "duration": 1037,
    "start_time": "2022-02-22T16:17:51.632Z"
   },
   {
    "duration": 32,
    "start_time": "2022-02-22T16:17:52.672Z"
   },
   {
    "duration": 1219,
    "start_time": "2022-02-22T16:17:52.706Z"
   },
   {
    "duration": 3,
    "start_time": "2022-02-22T16:17:53.928Z"
   },
   {
    "duration": 14,
    "start_time": "2022-02-22T16:17:53.933Z"
   },
   {
    "duration": 52,
    "start_time": "2022-02-22T16:17:53.950Z"
   },
   {
    "duration": 6,
    "start_time": "2022-02-22T16:17:54.004Z"
   },
   {
    "duration": 183,
    "start_time": "2022-02-22T16:17:54.013Z"
   },
   {
    "duration": 105,
    "start_time": "2022-02-22T16:17:54.199Z"
   },
   {
    "duration": 2103,
    "start_time": "2022-02-22T16:17:54.396Z"
   },
   {
    "duration": 3766,
    "start_time": "2022-02-22T16:17:56.501Z"
   },
   {
    "duration": 22595,
    "start_time": "2022-02-22T16:18:00.269Z"
   },
   {
    "duration": 3,
    "start_time": "2022-02-22T16:18:22.867Z"
   },
   {
    "duration": 310,
    "start_time": "2022-02-22T16:23:34.740Z"
   },
   {
    "duration": 8,
    "start_time": "2022-02-22T16:23:47.804Z"
   },
   {
    "duration": 875,
    "start_time": "2022-02-22T16:23:47.815Z"
   },
   {
    "duration": 5,
    "start_time": "2022-02-22T16:23:48.696Z"
   },
   {
    "duration": 439,
    "start_time": "2022-02-22T16:23:48.704Z"
   },
   {
    "duration": 240,
    "start_time": "2022-02-22T16:23:49.146Z"
   },
   {
    "duration": 683,
    "start_time": "2022-02-22T16:23:49.390Z"
   },
   {
    "duration": 38,
    "start_time": "2022-02-22T16:23:50.076Z"
   },
   {
    "duration": 18,
    "start_time": "2022-02-22T16:23:50.116Z"
   },
   {
    "duration": 27,
    "start_time": "2022-02-22T16:23:50.138Z"
   },
   {
    "duration": 382,
    "start_time": "2022-02-22T16:23:50.194Z"
   },
   {
    "duration": 23,
    "start_time": "2022-02-22T16:23:50.579Z"
   },
   {
    "duration": 8,
    "start_time": "2022-02-22T16:23:50.605Z"
   },
   {
    "duration": 16,
    "start_time": "2022-02-22T16:23:50.615Z"
   },
   {
    "duration": 11,
    "start_time": "2022-02-22T16:23:50.634Z"
   },
   {
    "duration": 62,
    "start_time": "2022-02-22T16:23:50.648Z"
   },
   {
    "duration": 26,
    "start_time": "2022-02-22T16:23:53.299Z"
   },
   {
    "duration": 65,
    "start_time": "2022-02-22T16:23:55.483Z"
   },
   {
    "duration": 39,
    "start_time": "2022-02-22T16:24:53.462Z"
   },
   {
    "duration": 758,
    "start_time": "2022-02-22T16:28:22.216Z"
   },
   {
    "duration": 5,
    "start_time": "2022-02-22T16:28:31.679Z"
   },
   {
    "duration": 977,
    "start_time": "2022-02-22T16:28:31.686Z"
   },
   {
    "duration": 4,
    "start_time": "2022-02-22T16:28:32.667Z"
   },
   {
    "duration": 421,
    "start_time": "2022-02-22T16:28:32.674Z"
   },
   {
    "duration": 237,
    "start_time": "2022-02-22T16:28:33.099Z"
   },
   {
    "duration": 432,
    "start_time": "2022-02-22T16:28:33.339Z"
   },
   {
    "duration": 37,
    "start_time": "2022-02-22T16:28:33.774Z"
   },
   {
    "duration": 16,
    "start_time": "2022-02-22T16:28:33.816Z"
   },
   {
    "duration": 58,
    "start_time": "2022-02-22T16:28:33.836Z"
   },
   {
    "duration": 393,
    "start_time": "2022-02-22T16:28:33.896Z"
   },
   {
    "duration": 19,
    "start_time": "2022-02-22T16:28:34.294Z"
   },
   {
    "duration": 9,
    "start_time": "2022-02-22T16:28:34.316Z"
   },
   {
    "duration": 9,
    "start_time": "2022-02-22T16:28:34.327Z"
   },
   {
    "duration": 7,
    "start_time": "2022-02-22T16:28:34.338Z"
   },
   {
    "duration": 64,
    "start_time": "2022-02-22T16:28:34.348Z"
   },
   {
    "duration": 42,
    "start_time": "2022-02-22T16:28:34.414Z"
   },
   {
    "duration": 35,
    "start_time": "2022-02-22T16:28:34.459Z"
   },
   {
    "duration": 6,
    "start_time": "2022-02-22T16:28:34.497Z"
   },
   {
    "duration": 510,
    "start_time": "2022-02-22T16:28:34.507Z"
   },
   {
    "duration": 414,
    "start_time": "2022-02-22T16:28:35.021Z"
   },
   {
    "duration": 403,
    "start_time": "2022-02-22T16:28:35.439Z"
   },
   {
    "duration": 10,
    "start_time": "2022-02-22T16:28:35.845Z"
   },
   {
    "duration": 1870,
    "start_time": "2022-02-22T16:28:35.862Z"
   },
   {
    "duration": 1535,
    "start_time": "2022-02-22T16:28:37.735Z"
   },
   {
    "duration": 1527,
    "start_time": "2022-02-22T16:28:39.273Z"
   },
   {
    "duration": 6,
    "start_time": "2022-02-22T16:28:40.803Z"
   },
   {
    "duration": 815,
    "start_time": "2022-02-22T16:28:40.811Z"
   },
   {
    "duration": 838,
    "start_time": "2022-02-22T16:28:41.628Z"
   },
   {
    "duration": 26,
    "start_time": "2022-02-22T16:28:42.468Z"
   },
   {
    "duration": 1242,
    "start_time": "2022-02-22T16:28:42.497Z"
   },
   {
    "duration": 18,
    "start_time": "2022-02-22T16:28:43.741Z"
   },
   {
    "duration": 1068,
    "start_time": "2022-02-22T16:28:43.762Z"
   },
   {
    "duration": 4,
    "start_time": "2022-02-22T16:28:44.832Z"
   },
   {
    "duration": 10,
    "start_time": "2022-02-22T16:28:44.839Z"
   },
   {
    "duration": 44,
    "start_time": "2022-02-22T16:28:44.852Z"
   },
   {
    "duration": 7,
    "start_time": "2022-02-22T16:28:44.898Z"
   },
   {
    "duration": 289,
    "start_time": "2022-02-22T16:28:44.907Z"
   },
   {
    "duration": 2000,
    "start_time": "2022-02-22T16:28:45.200Z"
   },
   {
    "duration": 5042,
    "start_time": "2022-02-22T16:28:47.203Z"
   },
   {
    "duration": 26954,
    "start_time": "2022-02-22T16:28:52.248Z"
   },
   {
    "duration": 3,
    "start_time": "2022-02-22T16:29:19.208Z"
   },
   {
    "duration": 3049,
    "start_time": "2022-02-22T16:29:19.214Z"
   },
   {
    "duration": 467,
    "start_time": "2022-02-22T16:29:42.829Z"
   },
   {
    "duration": 29,
    "start_time": "2022-02-22T16:30:23.764Z"
   },
   {
    "duration": 472,
    "start_time": "2022-02-22T16:31:37.037Z"
   },
   {
    "duration": 6,
    "start_time": "2022-02-22T16:31:51.878Z"
   },
   {
    "duration": 886,
    "start_time": "2022-02-22T16:31:51.886Z"
   },
   {
    "duration": 4,
    "start_time": "2022-02-22T16:31:52.776Z"
   },
   {
    "duration": 668,
    "start_time": "2022-02-22T16:31:52.782Z"
   },
   {
    "duration": 382,
    "start_time": "2022-02-22T16:31:53.454Z"
   },
   {
    "duration": 632,
    "start_time": "2022-02-22T16:31:53.839Z"
   },
   {
    "duration": 46,
    "start_time": "2022-02-22T16:31:54.475Z"
   },
   {
    "duration": 19,
    "start_time": "2022-02-22T16:31:54.527Z"
   },
   {
    "duration": 58,
    "start_time": "2022-02-22T16:31:54.549Z"
   },
   {
    "duration": 385,
    "start_time": "2022-02-22T16:31:54.610Z"
   },
   {
    "duration": 20,
    "start_time": "2022-02-22T16:31:54.997Z"
   },
   {
    "duration": 9,
    "start_time": "2022-02-22T16:31:55.020Z"
   },
   {
    "duration": 12,
    "start_time": "2022-02-22T16:31:55.032Z"
   },
   {
    "duration": 47,
    "start_time": "2022-02-22T16:31:55.047Z"
   },
   {
    "duration": 23,
    "start_time": "2022-02-22T16:31:55.097Z"
   },
   {
    "duration": 42,
    "start_time": "2022-02-22T16:31:55.123Z"
   },
   {
    "duration": 38,
    "start_time": "2022-02-22T16:31:55.168Z"
   },
   {
    "duration": 9,
    "start_time": "2022-02-22T16:31:55.209Z"
   },
   {
    "duration": 407,
    "start_time": "2022-02-22T16:31:55.220Z"
   },
   {
    "duration": 395,
    "start_time": "2022-02-22T16:31:55.629Z"
   },
   {
    "duration": 396,
    "start_time": "2022-02-22T16:31:56.027Z"
   },
   {
    "duration": 8,
    "start_time": "2022-02-22T16:31:56.426Z"
   },
   {
    "duration": 1257,
    "start_time": "2022-02-22T16:31:56.440Z"
   },
   {
    "duration": 1853,
    "start_time": "2022-02-22T16:31:57.700Z"
   },
   {
    "duration": 1742,
    "start_time": "2022-02-22T16:31:59.557Z"
   },
   {
    "duration": 7,
    "start_time": "2022-02-22T16:32:01.302Z"
   },
   {
    "duration": 821,
    "start_time": "2022-02-22T16:32:01.312Z"
   },
   {
    "duration": 796,
    "start_time": "2022-02-22T16:32:02.137Z"
   },
   {
    "duration": 12,
    "start_time": "2022-02-22T16:32:02.936Z"
   },
   {
    "duration": 1008,
    "start_time": "2022-02-22T16:32:02.951Z"
   },
   {
    "duration": 33,
    "start_time": "2022-02-22T16:32:03.961Z"
   },
   {
    "duration": 1916,
    "start_time": "2022-02-22T16:32:03.996Z"
   },
   {
    "duration": 3,
    "start_time": "2022-02-22T16:32:05.915Z"
   },
   {
    "duration": 15,
    "start_time": "2022-02-22T16:32:05.921Z"
   },
   {
    "duration": 56,
    "start_time": "2022-02-22T16:32:05.939Z"
   },
   {
    "duration": 10,
    "start_time": "2022-02-22T16:32:05.998Z"
   },
   {
    "duration": 385,
    "start_time": "2022-02-22T16:32:06.011Z"
   },
   {
    "duration": 1897,
    "start_time": "2022-02-22T16:32:06.399Z"
   },
   {
    "duration": 3784,
    "start_time": "2022-02-22T16:32:08.300Z"
   },
   {
    "duration": 22825,
    "start_time": "2022-02-22T16:32:12.087Z"
   },
   {
    "duration": 492,
    "start_time": "2022-02-22T16:32:34.914Z"
   },
   {
    "duration": 102084,
    "start_time": "2022-02-22T16:33:33.317Z"
   },
   {
    "duration": 714,
    "start_time": "2022-02-22T16:35:29.228Z"
   },
   {
    "duration": 23326,
    "start_time": "2022-02-22T16:35:50.870Z"
   },
   {
    "duration": 480,
    "start_time": "2022-02-22T16:36:14.199Z"
   },
   {
    "duration": 8,
    "start_time": "2022-02-22T16:36:40.950Z"
   },
   {
    "duration": 863,
    "start_time": "2022-02-22T16:36:40.970Z"
   },
   {
    "duration": 4,
    "start_time": "2022-02-22T16:36:41.836Z"
   },
   {
    "duration": 395,
    "start_time": "2022-02-22T16:36:41.843Z"
   },
   {
    "duration": 241,
    "start_time": "2022-02-22T16:36:42.241Z"
   },
   {
    "duration": 401,
    "start_time": "2022-02-22T16:36:42.484Z"
   },
   {
    "duration": 29,
    "start_time": "2022-02-22T16:36:42.888Z"
   },
   {
    "duration": 16,
    "start_time": "2022-02-22T16:36:42.920Z"
   },
   {
    "duration": 65,
    "start_time": "2022-02-22T16:36:42.939Z"
   },
   {
    "duration": 394,
    "start_time": "2022-02-22T16:36:43.010Z"
   },
   {
    "duration": 20,
    "start_time": "2022-02-22T16:36:43.407Z"
   },
   {
    "duration": 8,
    "start_time": "2022-02-22T16:36:43.430Z"
   },
   {
    "duration": 15,
    "start_time": "2022-02-22T16:36:43.440Z"
   },
   {
    "duration": 39,
    "start_time": "2022-02-22T16:36:43.458Z"
   },
   {
    "duration": 29,
    "start_time": "2022-02-22T16:36:43.500Z"
   },
   {
    "duration": 67,
    "start_time": "2022-02-22T16:36:43.531Z"
   },
   {
    "duration": 17,
    "start_time": "2022-02-22T16:36:43.601Z"
   },
   {
    "duration": 10,
    "start_time": "2022-02-22T16:36:43.621Z"
   },
   {
    "duration": 427,
    "start_time": "2022-02-22T16:36:43.633Z"
   },
   {
    "duration": 589,
    "start_time": "2022-02-22T16:36:44.063Z"
   },
   {
    "duration": 646,
    "start_time": "2022-02-22T16:36:44.656Z"
   },
   {
    "duration": 9,
    "start_time": "2022-02-22T16:36:45.306Z"
   },
   {
    "duration": 1091,
    "start_time": "2022-02-22T16:36:45.317Z"
   },
   {
    "duration": 1029,
    "start_time": "2022-02-22T16:36:46.411Z"
   },
   {
    "duration": 1069,
    "start_time": "2022-02-22T16:36:47.443Z"
   },
   {
    "duration": 10,
    "start_time": "2022-02-22T16:36:48.515Z"
   },
   {
    "duration": 1140,
    "start_time": "2022-02-22T16:36:48.528Z"
   },
   {
    "duration": 830,
    "start_time": "2022-02-22T16:36:49.674Z"
   },
   {
    "duration": 11,
    "start_time": "2022-02-22T16:36:50.508Z"
   },
   {
    "duration": 1060,
    "start_time": "2022-02-22T16:36:50.521Z"
   },
   {
    "duration": 25,
    "start_time": "2022-02-22T16:36:51.584Z"
   },
   {
    "duration": 1070,
    "start_time": "2022-02-22T16:36:51.612Z"
   },
   {
    "duration": 9,
    "start_time": "2022-02-22T16:36:52.685Z"
   },
   {
    "duration": 24,
    "start_time": "2022-02-22T16:36:52.698Z"
   },
   {
    "duration": 6,
    "start_time": "2022-02-22T16:36:52.725Z"
   },
   {
    "duration": 6,
    "start_time": "2022-02-22T16:36:52.734Z"
   },
   {
    "duration": 158,
    "start_time": "2022-02-22T16:36:52.743Z"
   },
   {
    "duration": 2000,
    "start_time": "2022-02-22T16:36:52.904Z"
   },
   {
    "duration": 3819,
    "start_time": "2022-02-22T16:36:54.907Z"
   },
   {
    "duration": 23535,
    "start_time": "2022-02-22T16:36:58.729Z"
   },
   {
    "duration": 498,
    "start_time": "2022-02-22T16:37:22.267Z"
   },
   {
    "duration": 46093,
    "start_time": "2022-02-22T16:40:40.949Z"
   },
   {
    "duration": 135750,
    "start_time": "2022-02-22T16:41:51.077Z"
   },
   {
    "duration": 705,
    "start_time": "2022-02-22T16:45:28.998Z"
   },
   {
    "duration": 60087,
    "start_time": "2022-02-22T16:46:19.959Z"
   },
   {
    "duration": 86150,
    "start_time": "2022-02-22T16:47:53.796Z"
   },
   {
    "duration": 21432,
    "start_time": "2022-02-22T16:49:38.437Z"
   },
   {
    "duration": 16806,
    "start_time": "2022-02-22T16:50:15.591Z"
   },
   {
    "duration": 198,
    "start_time": "2022-02-22T16:52:02.836Z"
   },
   {
    "duration": 1158,
    "start_time": "2022-02-22T16:53:27.549Z"
   },
   {
    "duration": 7,
    "start_time": "2022-02-22T16:54:18.748Z"
   },
   {
    "duration": 1276,
    "start_time": "2022-02-22T16:54:18.758Z"
   },
   {
    "duration": 4,
    "start_time": "2022-02-22T16:54:20.039Z"
   },
   {
    "duration": 400,
    "start_time": "2022-02-22T16:54:20.046Z"
   },
   {
    "duration": 278,
    "start_time": "2022-02-22T16:54:20.449Z"
   },
   {
    "duration": 578,
    "start_time": "2022-02-22T16:54:20.730Z"
   },
   {
    "duration": 26,
    "start_time": "2022-02-22T16:54:21.310Z"
   },
   {
    "duration": 17,
    "start_time": "2022-02-22T16:54:21.341Z"
   },
   {
    "duration": 26,
    "start_time": "2022-02-22T16:54:21.395Z"
   },
   {
    "duration": 393,
    "start_time": "2022-02-22T16:54:21.425Z"
   },
   {
    "duration": 19,
    "start_time": "2022-02-22T16:54:21.821Z"
   },
   {
    "duration": 8,
    "start_time": "2022-02-22T16:54:21.843Z"
   },
   {
    "duration": 44,
    "start_time": "2022-02-22T16:54:21.854Z"
   },
   {
    "duration": 8,
    "start_time": "2022-02-22T16:54:21.901Z"
   },
   {
    "duration": 34,
    "start_time": "2022-02-22T16:54:21.911Z"
   },
   {
    "duration": 64,
    "start_time": "2022-02-22T16:54:21.949Z"
   },
   {
    "duration": 18,
    "start_time": "2022-02-22T16:54:22.016Z"
   },
   {
    "duration": 8,
    "start_time": "2022-02-22T16:54:22.037Z"
   },
   {
    "duration": 450,
    "start_time": "2022-02-22T16:54:22.049Z"
   },
   {
    "duration": 421,
    "start_time": "2022-02-22T16:54:22.502Z"
   },
   {
    "duration": 412,
    "start_time": "2022-02-22T16:54:22.926Z"
   },
   {
    "duration": 8,
    "start_time": "2022-02-22T16:54:23.340Z"
   },
   {
    "duration": 1145,
    "start_time": "2022-02-22T16:54:23.355Z"
   },
   {
    "duration": 1388,
    "start_time": "2022-02-22T16:54:24.504Z"
   },
   {
    "duration": 1093,
    "start_time": "2022-02-22T16:54:25.894Z"
   },
   {
    "duration": 8,
    "start_time": "2022-02-22T16:54:26.994Z"
   },
   {
    "duration": 915,
    "start_time": "2022-02-22T16:54:27.005Z"
   },
   {
    "duration": 1338,
    "start_time": "2022-02-22T16:54:27.923Z"
   },
   {
    "duration": 31,
    "start_time": "2022-02-22T16:54:29.263Z"
   },
   {
    "duration": 1059,
    "start_time": "2022-02-22T16:54:29.297Z"
   },
   {
    "duration": 19,
    "start_time": "2022-02-22T16:54:30.358Z"
   },
   {
    "duration": 1615,
    "start_time": "2022-02-22T16:54:30.395Z"
   },
   {
    "duration": 4,
    "start_time": "2022-02-22T16:54:32.013Z"
   },
   {
    "duration": 18,
    "start_time": "2022-02-22T16:54:32.020Z"
   },
   {
    "duration": 20,
    "start_time": "2022-02-22T16:54:32.041Z"
   },
   {
    "duration": 14,
    "start_time": "2022-02-22T16:54:32.064Z"
   },
   {
    "duration": 198,
    "start_time": "2022-02-22T16:54:32.096Z"
   },
   {
    "duration": 2410,
    "start_time": "2022-02-22T16:54:32.297Z"
   },
   {
    "duration": 5503,
    "start_time": "2022-02-22T16:54:34.717Z"
   },
   {
    "duration": 23805,
    "start_time": "2022-02-22T16:54:40.223Z"
   },
   {
    "duration": 832,
    "start_time": "2022-02-22T16:55:04.031Z"
   },
   {
    "duration": 15,
    "start_time": "2022-02-22T16:55:56.407Z"
   },
   {
    "duration": 9,
    "start_time": "2022-02-22T16:56:02.191Z"
   },
   {
    "duration": 912,
    "start_time": "2022-02-22T16:56:02.204Z"
   },
   {
    "duration": 3,
    "start_time": "2022-02-22T16:56:03.119Z"
   },
   {
    "duration": 410,
    "start_time": "2022-02-22T16:56:03.125Z"
   },
   {
    "duration": 247,
    "start_time": "2022-02-22T16:56:03.537Z"
   },
   {
    "duration": 426,
    "start_time": "2022-02-22T16:56:03.794Z"
   },
   {
    "duration": 36,
    "start_time": "2022-02-22T16:56:04.223Z"
   },
   {
    "duration": 39,
    "start_time": "2022-02-22T16:56:04.264Z"
   },
   {
    "duration": 29,
    "start_time": "2022-02-22T16:56:04.306Z"
   },
   {
    "duration": 413,
    "start_time": "2022-02-22T16:56:04.338Z"
   },
   {
    "duration": 21,
    "start_time": "2022-02-22T16:56:04.754Z"
   },
   {
    "duration": 10,
    "start_time": "2022-02-22T16:56:04.795Z"
   },
   {
    "duration": 13,
    "start_time": "2022-02-22T16:56:04.807Z"
   },
   {
    "duration": 6,
    "start_time": "2022-02-22T16:56:04.823Z"
   },
   {
    "duration": 64,
    "start_time": "2022-02-22T16:56:04.831Z"
   },
   {
    "duration": 46,
    "start_time": "2022-02-22T16:56:04.897Z"
   },
   {
    "duration": 17,
    "start_time": "2022-02-22T16:56:04.946Z"
   },
   {
    "duration": 31,
    "start_time": "2022-02-22T16:56:04.966Z"
   },
   {
    "duration": 413,
    "start_time": "2022-02-22T16:56:05.001Z"
   },
   {
    "duration": 545,
    "start_time": "2022-02-22T16:56:05.417Z"
   },
   {
    "duration": 406,
    "start_time": "2022-02-22T16:56:05.966Z"
   },
   {
    "duration": 20,
    "start_time": "2022-02-22T16:56:06.375Z"
   },
   {
    "duration": 1682,
    "start_time": "2022-02-22T16:56:06.403Z"
   },
   {
    "duration": 1072,
    "start_time": "2022-02-22T16:56:08.093Z"
   },
   {
    "duration": 1046,
    "start_time": "2022-02-22T16:56:09.167Z"
   },
   {
    "duration": 8,
    "start_time": "2022-02-22T16:56:10.216Z"
   },
   {
    "duration": 1088,
    "start_time": "2022-02-22T16:56:10.227Z"
   },
   {
    "duration": 870,
    "start_time": "2022-02-22T16:56:11.318Z"
   },
   {
    "duration": 13,
    "start_time": "2022-02-22T16:56:12.190Z"
   },
   {
    "duration": 1100,
    "start_time": "2022-02-22T16:56:12.206Z"
   },
   {
    "duration": 18,
    "start_time": "2022-02-22T16:56:13.309Z"
   },
   {
    "duration": 1132,
    "start_time": "2022-02-22T16:56:13.330Z"
   },
   {
    "duration": 4,
    "start_time": "2022-02-22T16:56:14.465Z"
   },
   {
    "duration": 40,
    "start_time": "2022-02-22T16:56:14.471Z"
   },
   {
    "duration": 11,
    "start_time": "2022-02-22T16:56:14.514Z"
   },
   {
    "duration": 10,
    "start_time": "2022-02-22T16:56:14.528Z"
   },
   {
    "duration": 157,
    "start_time": "2022-02-22T16:56:14.540Z"
   },
   {
    "duration": 1496,
    "start_time": "2022-02-22T16:56:14.700Z"
   },
   {
    "duration": 3782,
    "start_time": "2022-02-22T16:56:16.199Z"
   },
   {
    "duration": 16619,
    "start_time": "2022-02-22T16:56:19.984Z"
   },
   {
    "duration": 707,
    "start_time": "2022-02-22T16:56:36.606Z"
   },
   {
    "duration": 5031,
    "start_time": "2022-02-22T16:59:00.550Z"
   },
   {
    "duration": 14,
    "start_time": "2022-02-22T16:59:52.190Z"
   },
   {
    "duration": 1006,
    "start_time": "2022-02-22T17:00:46.279Z"
   },
   {
    "duration": 2052,
    "start_time": "2022-02-22T17:01:04.148Z"
   },
   {
    "duration": 3762,
    "start_time": "2022-02-22T17:01:17.990Z"
   },
   {
    "duration": 16508,
    "start_time": "2022-02-22T17:01:27.789Z"
   },
   {
    "duration": 928,
    "start_time": "2022-02-22T17:02:05.910Z"
   },
   {
    "duration": 13,
    "start_time": "2022-02-22T17:03:02.190Z"
   },
   {
    "duration": 594,
    "start_time": "2022-02-22T17:03:55.637Z"
   },
   {
    "duration": 7,
    "start_time": "2022-02-22T17:13:42.515Z"
   },
   {
    "duration": 2850,
    "start_time": "2022-02-22T17:13:42.527Z"
   },
   {
    "duration": 9,
    "start_time": "2022-02-22T17:13:45.381Z"
   },
   {
    "duration": 383,
    "start_time": "2022-02-22T17:13:45.393Z"
   },
   {
    "duration": 248,
    "start_time": "2022-02-22T17:13:45.779Z"
   },
   {
    "duration": 400,
    "start_time": "2022-02-22T17:13:46.030Z"
   },
   {
    "duration": 26,
    "start_time": "2022-02-22T17:13:46.433Z"
   },
   {
    "duration": 44,
    "start_time": "2022-02-22T17:13:46.463Z"
   },
   {
    "duration": 31,
    "start_time": "2022-02-22T17:13:46.511Z"
   },
   {
    "duration": 408,
    "start_time": "2022-02-22T17:13:46.545Z"
   },
   {
    "duration": 20,
    "start_time": "2022-02-22T17:13:46.955Z"
   },
   {
    "duration": 8,
    "start_time": "2022-02-22T17:13:46.993Z"
   },
   {
    "duration": 12,
    "start_time": "2022-02-22T17:13:47.004Z"
   },
   {
    "duration": 7,
    "start_time": "2022-02-22T17:13:47.019Z"
   },
   {
    "duration": 65,
    "start_time": "2022-02-22T17:13:47.029Z"
   },
   {
    "duration": 47,
    "start_time": "2022-02-22T17:13:47.097Z"
   },
   {
    "duration": 47,
    "start_time": "2022-02-22T17:13:47.147Z"
   },
   {
    "duration": 8,
    "start_time": "2022-02-22T17:13:47.197Z"
   },
   {
    "duration": 469,
    "start_time": "2022-02-22T17:13:47.208Z"
   },
   {
    "duration": 390,
    "start_time": "2022-02-22T17:13:47.680Z"
   },
   {
    "duration": 497,
    "start_time": "2022-02-22T17:13:48.073Z"
   },
   {
    "duration": 7,
    "start_time": "2022-02-22T17:13:48.572Z"
   },
   {
    "duration": 1107,
    "start_time": "2022-02-22T17:13:48.595Z"
   },
   {
    "duration": 1392,
    "start_time": "2022-02-22T17:13:49.705Z"
   },
   {
    "duration": 1133,
    "start_time": "2022-02-22T17:13:51.100Z"
   },
   {
    "duration": 6,
    "start_time": "2022-02-22T17:13:52.236Z"
   },
   {
    "duration": 799,
    "start_time": "2022-02-22T17:13:52.245Z"
   },
   {
    "duration": 807,
    "start_time": "2022-02-22T17:13:53.047Z"
   },
   {
    "duration": 10,
    "start_time": "2022-02-22T17:13:53.857Z"
   },
   {
    "duration": 1042,
    "start_time": "2022-02-22T17:13:53.870Z"
   },
   {
    "duration": 17,
    "start_time": "2022-02-22T17:13:54.915Z"
   },
   {
    "duration": 1116,
    "start_time": "2022-02-22T17:13:54.935Z"
   },
   {
    "duration": 3,
    "start_time": "2022-02-22T17:13:56.054Z"
   },
   {
    "duration": 12,
    "start_time": "2022-02-22T17:13:56.060Z"
   },
   {
    "duration": 37,
    "start_time": "2022-02-22T17:13:56.075Z"
   },
   {
    "duration": 13,
    "start_time": "2022-02-22T17:13:56.114Z"
   },
   {
    "duration": 369,
    "start_time": "2022-02-22T17:13:56.130Z"
   },
   {
    "duration": 2100,
    "start_time": "2022-02-22T17:13:56.502Z"
   },
   {
    "duration": 5744,
    "start_time": "2022-02-22T17:13:58.607Z"
   },
   {
    "duration": 17954,
    "start_time": "2022-02-22T17:14:04.356Z"
   },
   {
    "duration": 788,
    "start_time": "2022-02-22T17:14:22.313Z"
   },
   {
    "duration": 12,
    "start_time": "2022-02-22T17:14:44.551Z"
   },
   {
    "duration": 7,
    "start_time": "2022-02-22T17:21:58.368Z"
   },
   {
    "duration": 1012,
    "start_time": "2022-02-22T17:21:58.379Z"
   },
   {
    "duration": 4,
    "start_time": "2022-02-22T17:21:59.394Z"
   },
   {
    "duration": 526,
    "start_time": "2022-02-22T17:21:59.401Z"
   },
   {
    "duration": 369,
    "start_time": "2022-02-22T17:21:59.929Z"
   },
   {
    "duration": 440,
    "start_time": "2022-02-22T17:22:00.300Z"
   },
   {
    "duration": 25,
    "start_time": "2022-02-22T17:22:00.742Z"
   },
   {
    "duration": 28,
    "start_time": "2022-02-22T17:22:00.770Z"
   },
   {
    "duration": 34,
    "start_time": "2022-02-22T17:22:00.802Z"
   },
   {
    "duration": 463,
    "start_time": "2022-02-22T17:22:00.840Z"
   },
   {
    "duration": 19,
    "start_time": "2022-02-22T17:22:01.305Z"
   },
   {
    "duration": 10,
    "start_time": "2022-02-22T17:22:01.327Z"
   },
   {
    "duration": 19,
    "start_time": "2022-02-22T17:22:01.340Z"
   },
   {
    "duration": 34,
    "start_time": "2022-02-22T17:22:01.361Z"
   },
   {
    "duration": 25,
    "start_time": "2022-02-22T17:22:01.398Z"
   },
   {
    "duration": 30,
    "start_time": "2022-02-22T17:22:01.425Z"
   },
   {
    "duration": 40,
    "start_time": "2022-02-22T17:22:01.457Z"
   },
   {
    "duration": 10,
    "start_time": "2022-02-22T17:22:01.500Z"
   },
   {
    "duration": 405,
    "start_time": "2022-02-22T17:22:01.513Z"
   },
   {
    "duration": 372,
    "start_time": "2022-02-22T17:22:01.921Z"
   },
   {
    "duration": 679,
    "start_time": "2022-02-22T17:22:02.296Z"
   },
   {
    "duration": 6,
    "start_time": "2022-02-22T17:22:02.978Z"
   },
   {
    "duration": 1055,
    "start_time": "2022-02-22T17:22:02.994Z"
   },
   {
    "duration": 1030,
    "start_time": "2022-02-22T17:22:04.053Z"
   },
   {
    "duration": 1118,
    "start_time": "2022-02-22T17:22:05.094Z"
   },
   {
    "duration": 6,
    "start_time": "2022-02-22T17:22:06.215Z"
   },
   {
    "duration": 923,
    "start_time": "2022-02-22T17:22:06.227Z"
   },
   {
    "duration": 1218,
    "start_time": "2022-02-22T17:22:07.153Z"
   },
   {
    "duration": 26,
    "start_time": "2022-02-22T17:22:08.375Z"
   },
   {
    "duration": 1040,
    "start_time": "2022-02-22T17:22:08.405Z"
   },
   {
    "duration": 20,
    "start_time": "2022-02-22T17:22:09.449Z"
   },
   {
    "duration": 4,
    "start_time": "2022-02-22T17:22:09.494Z"
   },
   {
    "duration": 14,
    "start_time": "2022-02-22T17:22:09.501Z"
   },
   {
    "duration": 43,
    "start_time": "2022-02-22T17:22:09.518Z"
   },
   {
    "duration": 9,
    "start_time": "2022-02-22T17:22:09.565Z"
   },
   {
    "duration": 109,
    "start_time": "2022-02-22T17:22:09.593Z"
   },
   {
    "duration": 2099,
    "start_time": "2022-02-22T17:22:09.705Z"
   },
   {
    "duration": 3736,
    "start_time": "2022-02-22T17:22:11.809Z"
   },
   {
    "duration": 16119,
    "start_time": "2022-02-22T17:22:15.548Z"
   },
   {
    "duration": 731,
    "start_time": "2022-02-22T17:22:31.670Z"
   },
   {
    "duration": 235,
    "start_time": "2022-02-25T11:05:13.735Z"
   },
   {
    "duration": 1189,
    "start_time": "2022-02-25T11:05:21.055Z"
   },
   {
    "duration": 903,
    "start_time": "2022-02-25T11:05:22.246Z"
   },
   {
    "duration": 3,
    "start_time": "2022-02-25T11:05:23.152Z"
   },
   {
    "duration": 251,
    "start_time": "2022-02-25T11:05:23.157Z"
   },
   {
    "duration": 137,
    "start_time": "2022-02-25T11:05:23.411Z"
   },
   {
    "duration": 262,
    "start_time": "2022-02-25T11:05:23.550Z"
   },
   {
    "duration": 19,
    "start_time": "2022-02-25T11:05:23.813Z"
   },
   {
    "duration": 12,
    "start_time": "2022-02-25T11:05:23.835Z"
   },
   {
    "duration": 18,
    "start_time": "2022-02-25T11:05:23.849Z"
   },
   {
    "duration": 254,
    "start_time": "2022-02-25T11:05:23.869Z"
   },
   {
    "duration": 14,
    "start_time": "2022-02-25T11:05:24.125Z"
   },
   {
    "duration": 7,
    "start_time": "2022-02-25T11:05:24.141Z"
   },
   {
    "duration": 15,
    "start_time": "2022-02-25T11:05:24.150Z"
   },
   {
    "duration": 15,
    "start_time": "2022-02-25T11:05:24.167Z"
   },
   {
    "duration": 55,
    "start_time": "2022-02-25T11:05:24.184Z"
   },
   {
    "duration": 36,
    "start_time": "2022-02-25T11:05:24.241Z"
   },
   {
    "duration": 16,
    "start_time": "2022-02-25T11:05:24.279Z"
   },
   {
    "duration": 15,
    "start_time": "2022-02-25T11:05:24.296Z"
   },
   {
    "duration": 259,
    "start_time": "2022-02-25T11:05:24.313Z"
   },
   {
    "duration": 244,
    "start_time": "2022-02-25T11:05:24.574Z"
   },
   {
    "duration": 255,
    "start_time": "2022-02-25T11:05:24.819Z"
   },
   {
    "duration": 4,
    "start_time": "2022-02-25T11:05:25.076Z"
   },
   {
    "duration": 762,
    "start_time": "2022-02-25T11:05:25.083Z"
   },
   {
    "duration": 655,
    "start_time": "2022-02-25T11:05:25.847Z"
   },
   {
    "duration": 650,
    "start_time": "2022-02-25T11:05:26.511Z"
   },
   {
    "duration": 4,
    "start_time": "2022-02-25T11:05:27.163Z"
   },
   {
    "duration": 498,
    "start_time": "2022-02-25T11:05:27.169Z"
   },
   {
    "duration": 645,
    "start_time": "2022-02-25T11:05:27.670Z"
   },
   {
    "duration": 7,
    "start_time": "2022-02-25T11:05:28.317Z"
   },
   {
    "duration": 655,
    "start_time": "2022-02-25T11:05:28.326Z"
   },
   {
    "duration": 28,
    "start_time": "2022-02-25T11:05:28.983Z"
   },
   {
    "duration": 2,
    "start_time": "2022-02-25T11:05:29.014Z"
   },
   {
    "duration": 10,
    "start_time": "2022-02-25T11:05:29.018Z"
   },
   {
    "duration": 29,
    "start_time": "2022-02-25T11:05:29.031Z"
   },
   {
    "duration": 4,
    "start_time": "2022-02-25T11:05:29.062Z"
   },
   {
    "duration": 244,
    "start_time": "2022-02-25T11:05:29.068Z"
   },
   {
    "duration": 232,
    "start_time": "2022-02-25T11:05:32.543Z"
   },
   {
    "duration": 1099,
    "start_time": "2022-02-25T11:10:05.215Z"
   },
   {
    "duration": 1239,
    "start_time": "2022-02-25T11:10:26.374Z"
   }
  ],
  "kernelspec": {
   "display_name": "Python 3",
   "language": "python",
   "name": "python3"
  },
  "language_info": {
   "codemirror_mode": {
    "name": "ipython",
    "version": 3
   },
   "file_extension": ".py",
   "mimetype": "text/x-python",
   "name": "python",
   "nbconvert_exporter": "python",
   "pygments_lexer": "ipython3",
   "version": "3.8.8"
  },
  "toc": {
   "base_numbering": 1,
   "nav_menu": {},
   "number_sections": true,
   "sideBar": true,
   "skip_h1_title": true,
   "title_cell": "Содержание",
   "title_sidebar": "Contents",
   "toc_cell": true,
   "toc_position": {
    "height": "calc(100% - 180px)",
    "left": "10px",
    "top": "150px",
    "width": "430.396px"
   },
   "toc_section_display": true,
   "toc_window_display": false
  }
 },
 "nbformat": 4,
 "nbformat_minor": 2
}
