{
 "cells": [
  {
   "cell_type": "markdown",
   "metadata": {},
   "source": [
    "# Определение стоимости автомобилей"
   ]
  },
  {
   "cell_type": "markdown",
   "metadata": {},
   "source": [
    "Сервис по продаже автомобилей с пробегом «Не бит, не крашен» разрабатывает приложение для привлечения новых клиентов. В нём можно быстро узнать рыночную стоимость своего автомобиля. В вашем распоряжении исторические данные: технические характеристики, комплектации и цены автомобилей. Вам нужно построить модель для определения стоимости. \n",
    "\n",
    "Заказчику важны:\n",
    "\n",
    "- качество предсказания;\n",
    "- скорость предсказания;\n",
    "- время обучения.\n",
    "\n",
    "**Признаки**  \n",
    "DateCrawled — дата скачивания анкеты из базы  \n",
    "VehicleType — тип автомобильного кузова  \n",
    "RegistrationYear — год регистрации автомобиля  \n",
    "Gearbox — тип коробки передач  \n",
    "Power — мощность (л. с.)  \n",
    "Model — модель автомобиля  \n",
    "Kilometer — пробег (км)  \n",
    "RegistrationMonth — месяц регистрации автомобиля  \n",
    "FuelType — тип топлива  \n",
    "Brand — марка автомобиля  \n",
    "NotRepaired — была машина в ремонте или нет  \n",
    "DateCreated — дата создания анкеты  \n",
    "NumberOfPictures — количество фотографий автомобиля  \n",
    "PostalCode — почтовый индекс владельца анкеты (пользователя)  \n",
    "LastSeen — дата последней активности пользователя  \n",
    "\n",
    "**Целевой признак**  \n",
    "Price — цена (евро)"
   ]
  },
  {
   "cell_type": "markdown",
   "metadata": {},
   "source": [
    "## Подготовка данных"
   ]
  },
  {
   "cell_type": "markdown",
   "metadata": {},
   "source": [
    "### Анализ входных данных"
   ]
  },
  {
   "cell_type": "code",
   "execution_count": 1,
   "metadata": {},
   "outputs": [],
   "source": [
    "import pandas as pd \n",
    "import numpy as np \n",
    "import seaborn as sns\n",
    "import matplotlib.pyplot as plt\n",
    "import warnings\n",
    "warnings.filterwarnings(\"ignore\")\n",
    "from sklearn.preprocessing import StandardScaler, LabelEncoder, OneHotEncoder\n",
    "import time \n",
    "from sklearn.metrics import mean_squared_error as mse \n",
    "from sklearn.model_selection import train_test_split, KFold, GridSearchCV, ShuffleSplit\n",
    "from catboost import CatBoostRegressor \n",
    "from lightgbm import LGBMRegressor\n",
    "from xgboost import XGBRegressor\n",
    "from sklearn.linear_model import Lasso, Ridge\n",
    "from sklearn.pipeline import Pipeline"
   ]
  },
  {
   "cell_type": "code",
   "execution_count": 2,
   "metadata": {},
   "outputs": [],
   "source": [
    "df = pd.read_csv('/datasets/autos.csv')"
   ]
  },
  {
   "cell_type": "code",
   "execution_count": 3,
   "metadata": {},
   "outputs": [
    {
     "data": {
      "text/html": [
       "<div>\n",
       "<style scoped>\n",
       "    .dataframe tbody tr th:only-of-type {\n",
       "        vertical-align: middle;\n",
       "    }\n",
       "\n",
       "    .dataframe tbody tr th {\n",
       "        vertical-align: top;\n",
       "    }\n",
       "\n",
       "    .dataframe thead th {\n",
       "        text-align: right;\n",
       "    }\n",
       "</style>\n",
       "<table border=\"1\" class=\"dataframe\">\n",
       "  <thead>\n",
       "    <tr style=\"text-align: right;\">\n",
       "      <th></th>\n",
       "      <th>DateCrawled</th>\n",
       "      <th>Price</th>\n",
       "      <th>VehicleType</th>\n",
       "      <th>RegistrationYear</th>\n",
       "      <th>Gearbox</th>\n",
       "      <th>Power</th>\n",
       "      <th>Model</th>\n",
       "      <th>Kilometer</th>\n",
       "      <th>RegistrationMonth</th>\n",
       "      <th>FuelType</th>\n",
       "      <th>Brand</th>\n",
       "      <th>NotRepaired</th>\n",
       "      <th>DateCreated</th>\n",
       "      <th>NumberOfPictures</th>\n",
       "      <th>PostalCode</th>\n",
       "      <th>LastSeen</th>\n",
       "    </tr>\n",
       "  </thead>\n",
       "  <tbody>\n",
       "    <tr>\n",
       "      <th>0</th>\n",
       "      <td>2016-03-24 11:52:17</td>\n",
       "      <td>480</td>\n",
       "      <td>NaN</td>\n",
       "      <td>1993</td>\n",
       "      <td>manual</td>\n",
       "      <td>0</td>\n",
       "      <td>golf</td>\n",
       "      <td>150000</td>\n",
       "      <td>0</td>\n",
       "      <td>petrol</td>\n",
       "      <td>volkswagen</td>\n",
       "      <td>NaN</td>\n",
       "      <td>2016-03-24 00:00:00</td>\n",
       "      <td>0</td>\n",
       "      <td>70435</td>\n",
       "      <td>2016-04-07 03:16:57</td>\n",
       "    </tr>\n",
       "    <tr>\n",
       "      <th>1</th>\n",
       "      <td>2016-03-24 10:58:45</td>\n",
       "      <td>18300</td>\n",
       "      <td>coupe</td>\n",
       "      <td>2011</td>\n",
       "      <td>manual</td>\n",
       "      <td>190</td>\n",
       "      <td>NaN</td>\n",
       "      <td>125000</td>\n",
       "      <td>5</td>\n",
       "      <td>gasoline</td>\n",
       "      <td>audi</td>\n",
       "      <td>yes</td>\n",
       "      <td>2016-03-24 00:00:00</td>\n",
       "      <td>0</td>\n",
       "      <td>66954</td>\n",
       "      <td>2016-04-07 01:46:50</td>\n",
       "    </tr>\n",
       "    <tr>\n",
       "      <th>2</th>\n",
       "      <td>2016-03-14 12:52:21</td>\n",
       "      <td>9800</td>\n",
       "      <td>suv</td>\n",
       "      <td>2004</td>\n",
       "      <td>auto</td>\n",
       "      <td>163</td>\n",
       "      <td>grand</td>\n",
       "      <td>125000</td>\n",
       "      <td>8</td>\n",
       "      <td>gasoline</td>\n",
       "      <td>jeep</td>\n",
       "      <td>NaN</td>\n",
       "      <td>2016-03-14 00:00:00</td>\n",
       "      <td>0</td>\n",
       "      <td>90480</td>\n",
       "      <td>2016-04-05 12:47:46</td>\n",
       "    </tr>\n",
       "    <tr>\n",
       "      <th>3</th>\n",
       "      <td>2016-03-17 16:54:04</td>\n",
       "      <td>1500</td>\n",
       "      <td>small</td>\n",
       "      <td>2001</td>\n",
       "      <td>manual</td>\n",
       "      <td>75</td>\n",
       "      <td>golf</td>\n",
       "      <td>150000</td>\n",
       "      <td>6</td>\n",
       "      <td>petrol</td>\n",
       "      <td>volkswagen</td>\n",
       "      <td>no</td>\n",
       "      <td>2016-03-17 00:00:00</td>\n",
       "      <td>0</td>\n",
       "      <td>91074</td>\n",
       "      <td>2016-03-17 17:40:17</td>\n",
       "    </tr>\n",
       "    <tr>\n",
       "      <th>4</th>\n",
       "      <td>2016-03-31 17:25:20</td>\n",
       "      <td>3600</td>\n",
       "      <td>small</td>\n",
       "      <td>2008</td>\n",
       "      <td>manual</td>\n",
       "      <td>69</td>\n",
       "      <td>fabia</td>\n",
       "      <td>90000</td>\n",
       "      <td>7</td>\n",
       "      <td>gasoline</td>\n",
       "      <td>skoda</td>\n",
       "      <td>no</td>\n",
       "      <td>2016-03-31 00:00:00</td>\n",
       "      <td>0</td>\n",
       "      <td>60437</td>\n",
       "      <td>2016-04-06 10:17:21</td>\n",
       "    </tr>\n",
       "  </tbody>\n",
       "</table>\n",
       "</div>"
      ],
      "text/plain": [
       "           DateCrawled  Price VehicleType  RegistrationYear Gearbox  Power  \\\n",
       "0  2016-03-24 11:52:17    480         NaN              1993  manual      0   \n",
       "1  2016-03-24 10:58:45  18300       coupe              2011  manual    190   \n",
       "2  2016-03-14 12:52:21   9800         suv              2004    auto    163   \n",
       "3  2016-03-17 16:54:04   1500       small              2001  manual     75   \n",
       "4  2016-03-31 17:25:20   3600       small              2008  manual     69   \n",
       "\n",
       "   Model  Kilometer  RegistrationMonth  FuelType       Brand NotRepaired  \\\n",
       "0   golf     150000                  0    petrol  volkswagen         NaN   \n",
       "1    NaN     125000                  5  gasoline        audi         yes   \n",
       "2  grand     125000                  8  gasoline        jeep         NaN   \n",
       "3   golf     150000                  6    petrol  volkswagen          no   \n",
       "4  fabia      90000                  7  gasoline       skoda          no   \n",
       "\n",
       "           DateCreated  NumberOfPictures  PostalCode             LastSeen  \n",
       "0  2016-03-24 00:00:00                 0       70435  2016-04-07 03:16:57  \n",
       "1  2016-03-24 00:00:00                 0       66954  2016-04-07 01:46:50  \n",
       "2  2016-03-14 00:00:00                 0       90480  2016-04-05 12:47:46  \n",
       "3  2016-03-17 00:00:00                 0       91074  2016-03-17 17:40:17  \n",
       "4  2016-03-31 00:00:00                 0       60437  2016-04-06 10:17:21  "
      ]
     },
     "execution_count": 3,
     "metadata": {},
     "output_type": "execute_result"
    }
   ],
   "source": [
    "df.head(5)"
   ]
  },
  {
   "cell_type": "code",
   "execution_count": 4,
   "metadata": {},
   "outputs": [],
   "source": [
    "#переведем названия столбцов в нижний регистр\n",
    "df.columns = df.columns.str.lower()"
   ]
  },
  {
   "cell_type": "code",
   "execution_count": 5,
   "metadata": {},
   "outputs": [
    {
     "name": "stdout",
     "output_type": "stream",
     "text": [
      "<class 'pandas.core.frame.DataFrame'>\n",
      "RangeIndex: 354369 entries, 0 to 354368\n",
      "Data columns (total 16 columns):\n",
      " #   Column             Non-Null Count   Dtype \n",
      "---  ------             --------------   ----- \n",
      " 0   datecrawled        354369 non-null  object\n",
      " 1   price              354369 non-null  int64 \n",
      " 2   vehicletype        316879 non-null  object\n",
      " 3   registrationyear   354369 non-null  int64 \n",
      " 4   gearbox            334536 non-null  object\n",
      " 5   power              354369 non-null  int64 \n",
      " 6   model              334664 non-null  object\n",
      " 7   kilometer          354369 non-null  int64 \n",
      " 8   registrationmonth  354369 non-null  int64 \n",
      " 9   fueltype           321474 non-null  object\n",
      " 10  brand              354369 non-null  object\n",
      " 11  notrepaired        283215 non-null  object\n",
      " 12  datecreated        354369 non-null  object\n",
      " 13  numberofpictures   354369 non-null  int64 \n",
      " 14  postalcode         354369 non-null  int64 \n",
      " 15  lastseen           354369 non-null  object\n",
      "dtypes: int64(7), object(9)\n",
      "memory usage: 43.3+ MB\n"
     ]
    }
   ],
   "source": [
    "df.info()"
   ]
  },
  {
   "cell_type": "code",
   "execution_count": 6,
   "metadata": {},
   "outputs": [
    {
     "data": {
      "text/html": [
       "<div>\n",
       "<style scoped>\n",
       "    .dataframe tbody tr th:only-of-type {\n",
       "        vertical-align: middle;\n",
       "    }\n",
       "\n",
       "    .dataframe tbody tr th {\n",
       "        vertical-align: top;\n",
       "    }\n",
       "\n",
       "    .dataframe thead th {\n",
       "        text-align: right;\n",
       "    }\n",
       "</style>\n",
       "<table border=\"1\" class=\"dataframe\">\n",
       "  <thead>\n",
       "    <tr style=\"text-align: right;\">\n",
       "      <th></th>\n",
       "      <th>price</th>\n",
       "      <th>registrationyear</th>\n",
       "      <th>power</th>\n",
       "      <th>kilometer</th>\n",
       "      <th>registrationmonth</th>\n",
       "      <th>numberofpictures</th>\n",
       "      <th>postalcode</th>\n",
       "    </tr>\n",
       "  </thead>\n",
       "  <tbody>\n",
       "    <tr>\n",
       "      <th>count</th>\n",
       "      <td>354369.000000</td>\n",
       "      <td>354369.000000</td>\n",
       "      <td>354369.000000</td>\n",
       "      <td>354369.000000</td>\n",
       "      <td>354369.000000</td>\n",
       "      <td>354369.0</td>\n",
       "      <td>354369.000000</td>\n",
       "    </tr>\n",
       "    <tr>\n",
       "      <th>mean</th>\n",
       "      <td>4416.656776</td>\n",
       "      <td>2004.234448</td>\n",
       "      <td>110.094337</td>\n",
       "      <td>128211.172535</td>\n",
       "      <td>5.714645</td>\n",
       "      <td>0.0</td>\n",
       "      <td>50508.689087</td>\n",
       "    </tr>\n",
       "    <tr>\n",
       "      <th>std</th>\n",
       "      <td>4514.158514</td>\n",
       "      <td>90.227958</td>\n",
       "      <td>189.850405</td>\n",
       "      <td>37905.341530</td>\n",
       "      <td>3.726421</td>\n",
       "      <td>0.0</td>\n",
       "      <td>25783.096248</td>\n",
       "    </tr>\n",
       "    <tr>\n",
       "      <th>min</th>\n",
       "      <td>0.000000</td>\n",
       "      <td>1000.000000</td>\n",
       "      <td>0.000000</td>\n",
       "      <td>5000.000000</td>\n",
       "      <td>0.000000</td>\n",
       "      <td>0.0</td>\n",
       "      <td>1067.000000</td>\n",
       "    </tr>\n",
       "    <tr>\n",
       "      <th>25%</th>\n",
       "      <td>1050.000000</td>\n",
       "      <td>1999.000000</td>\n",
       "      <td>69.000000</td>\n",
       "      <td>125000.000000</td>\n",
       "      <td>3.000000</td>\n",
       "      <td>0.0</td>\n",
       "      <td>30165.000000</td>\n",
       "    </tr>\n",
       "    <tr>\n",
       "      <th>50%</th>\n",
       "      <td>2700.000000</td>\n",
       "      <td>2003.000000</td>\n",
       "      <td>105.000000</td>\n",
       "      <td>150000.000000</td>\n",
       "      <td>6.000000</td>\n",
       "      <td>0.0</td>\n",
       "      <td>49413.000000</td>\n",
       "    </tr>\n",
       "    <tr>\n",
       "      <th>75%</th>\n",
       "      <td>6400.000000</td>\n",
       "      <td>2008.000000</td>\n",
       "      <td>143.000000</td>\n",
       "      <td>150000.000000</td>\n",
       "      <td>9.000000</td>\n",
       "      <td>0.0</td>\n",
       "      <td>71083.000000</td>\n",
       "    </tr>\n",
       "    <tr>\n",
       "      <th>max</th>\n",
       "      <td>20000.000000</td>\n",
       "      <td>9999.000000</td>\n",
       "      <td>20000.000000</td>\n",
       "      <td>150000.000000</td>\n",
       "      <td>12.000000</td>\n",
       "      <td>0.0</td>\n",
       "      <td>99998.000000</td>\n",
       "    </tr>\n",
       "  </tbody>\n",
       "</table>\n",
       "</div>"
      ],
      "text/plain": [
       "               price  registrationyear          power      kilometer  \\\n",
       "count  354369.000000     354369.000000  354369.000000  354369.000000   \n",
       "mean     4416.656776       2004.234448     110.094337  128211.172535   \n",
       "std      4514.158514         90.227958     189.850405   37905.341530   \n",
       "min         0.000000       1000.000000       0.000000    5000.000000   \n",
       "25%      1050.000000       1999.000000      69.000000  125000.000000   \n",
       "50%      2700.000000       2003.000000     105.000000  150000.000000   \n",
       "75%      6400.000000       2008.000000     143.000000  150000.000000   \n",
       "max     20000.000000       9999.000000   20000.000000  150000.000000   \n",
       "\n",
       "       registrationmonth  numberofpictures     postalcode  \n",
       "count      354369.000000          354369.0  354369.000000  \n",
       "mean            5.714645               0.0   50508.689087  \n",
       "std             3.726421               0.0   25783.096248  \n",
       "min             0.000000               0.0    1067.000000  \n",
       "25%             3.000000               0.0   30165.000000  \n",
       "50%             6.000000               0.0   49413.000000  \n",
       "75%             9.000000               0.0   71083.000000  \n",
       "max            12.000000               0.0   99998.000000  "
      ]
     },
     "execution_count": 6,
     "metadata": {},
     "output_type": "execute_result"
    }
   ],
   "source": [
    "df.describe()"
   ]
  },
  {
   "cell_type": "code",
   "execution_count": 7,
   "metadata": {},
   "outputs": [
    {
     "data": {
      "text/plain": [
       "4"
      ]
     },
     "execution_count": 7,
     "metadata": {},
     "output_type": "execute_result"
    }
   ],
   "source": [
    "df.duplicated().sum()"
   ]
  },
  {
   "cell_type": "code",
   "execution_count": 8,
   "metadata": {
    "scrolled": true
   },
   "outputs": [
    {
     "data": {
      "text/html": [
       "<div>\n",
       "<style scoped>\n",
       "    .dataframe tbody tr th:only-of-type {\n",
       "        vertical-align: middle;\n",
       "    }\n",
       "\n",
       "    .dataframe tbody tr th {\n",
       "        vertical-align: top;\n",
       "    }\n",
       "\n",
       "    .dataframe thead th {\n",
       "        text-align: right;\n",
       "    }\n",
       "</style>\n",
       "<table border=\"1\" class=\"dataframe\">\n",
       "  <thead>\n",
       "    <tr style=\"text-align: right;\">\n",
       "      <th></th>\n",
       "      <th>datecrawled</th>\n",
       "      <th>price</th>\n",
       "      <th>vehicletype</th>\n",
       "      <th>registrationyear</th>\n",
       "      <th>gearbox</th>\n",
       "      <th>power</th>\n",
       "      <th>model</th>\n",
       "      <th>kilometer</th>\n",
       "      <th>registrationmonth</th>\n",
       "      <th>fueltype</th>\n",
       "      <th>brand</th>\n",
       "      <th>notrepaired</th>\n",
       "      <th>datecreated</th>\n",
       "      <th>numberofpictures</th>\n",
       "      <th>postalcode</th>\n",
       "      <th>lastseen</th>\n",
       "    </tr>\n",
       "  </thead>\n",
       "  <tbody>\n",
       "    <tr>\n",
       "      <th>41529</th>\n",
       "      <td>2016-03-18 18:46:15</td>\n",
       "      <td>1999</td>\n",
       "      <td>wagon</td>\n",
       "      <td>2001</td>\n",
       "      <td>manual</td>\n",
       "      <td>131</td>\n",
       "      <td>passat</td>\n",
       "      <td>150000</td>\n",
       "      <td>7</td>\n",
       "      <td>gasoline</td>\n",
       "      <td>volkswagen</td>\n",
       "      <td>no</td>\n",
       "      <td>2016-03-18 00:00:00</td>\n",
       "      <td>0</td>\n",
       "      <td>36391</td>\n",
       "      <td>2016-03-18 18:46:15</td>\n",
       "    </tr>\n",
       "    <tr>\n",
       "      <th>88087</th>\n",
       "      <td>2016-03-08 18:42:48</td>\n",
       "      <td>1799</td>\n",
       "      <td>coupe</td>\n",
       "      <td>1999</td>\n",
       "      <td>auto</td>\n",
       "      <td>193</td>\n",
       "      <td>clk</td>\n",
       "      <td>20000</td>\n",
       "      <td>7</td>\n",
       "      <td>petrol</td>\n",
       "      <td>mercedes_benz</td>\n",
       "      <td>no</td>\n",
       "      <td>2016-03-08 00:00:00</td>\n",
       "      <td>0</td>\n",
       "      <td>89518</td>\n",
       "      <td>2016-03-09 09:46:57</td>\n",
       "    </tr>\n",
       "    <tr>\n",
       "      <th>90964</th>\n",
       "      <td>2016-03-28 00:56:10</td>\n",
       "      <td>1000</td>\n",
       "      <td>small</td>\n",
       "      <td>2002</td>\n",
       "      <td>manual</td>\n",
       "      <td>83</td>\n",
       "      <td>other</td>\n",
       "      <td>150000</td>\n",
       "      <td>1</td>\n",
       "      <td>petrol</td>\n",
       "      <td>suzuki</td>\n",
       "      <td>no</td>\n",
       "      <td>2016-03-28 00:00:00</td>\n",
       "      <td>0</td>\n",
       "      <td>66589</td>\n",
       "      <td>2016-03-28 08:46:21</td>\n",
       "    </tr>\n",
       "    <tr>\n",
       "      <th>171088</th>\n",
       "      <td>2016-03-08 18:42:48</td>\n",
       "      <td>1799</td>\n",
       "      <td>coupe</td>\n",
       "      <td>1999</td>\n",
       "      <td>auto</td>\n",
       "      <td>193</td>\n",
       "      <td>clk</td>\n",
       "      <td>20000</td>\n",
       "      <td>7</td>\n",
       "      <td>petrol</td>\n",
       "      <td>mercedes_benz</td>\n",
       "      <td>no</td>\n",
       "      <td>2016-03-08 00:00:00</td>\n",
       "      <td>0</td>\n",
       "      <td>89518</td>\n",
       "      <td>2016-03-09 09:46:57</td>\n",
       "    </tr>\n",
       "    <tr>\n",
       "      <th>187735</th>\n",
       "      <td>2016-04-03 09:01:15</td>\n",
       "      <td>4699</td>\n",
       "      <td>coupe</td>\n",
       "      <td>2003</td>\n",
       "      <td>auto</td>\n",
       "      <td>218</td>\n",
       "      <td>clk</td>\n",
       "      <td>125000</td>\n",
       "      <td>6</td>\n",
       "      <td>petrol</td>\n",
       "      <td>mercedes_benz</td>\n",
       "      <td>yes</td>\n",
       "      <td>2016-04-03 00:00:00</td>\n",
       "      <td>0</td>\n",
       "      <td>75196</td>\n",
       "      <td>2016-04-07 09:44:54</td>\n",
       "    </tr>\n",
       "    <tr>\n",
       "      <th>231258</th>\n",
       "      <td>2016-03-28 00:56:10</td>\n",
       "      <td>1000</td>\n",
       "      <td>small</td>\n",
       "      <td>2002</td>\n",
       "      <td>manual</td>\n",
       "      <td>83</td>\n",
       "      <td>other</td>\n",
       "      <td>150000</td>\n",
       "      <td>1</td>\n",
       "      <td>petrol</td>\n",
       "      <td>suzuki</td>\n",
       "      <td>no</td>\n",
       "      <td>2016-03-28 00:00:00</td>\n",
       "      <td>0</td>\n",
       "      <td>66589</td>\n",
       "      <td>2016-03-28 08:46:21</td>\n",
       "    </tr>\n",
       "    <tr>\n",
       "      <th>258109</th>\n",
       "      <td>2016-04-03 09:01:15</td>\n",
       "      <td>4699</td>\n",
       "      <td>coupe</td>\n",
       "      <td>2003</td>\n",
       "      <td>auto</td>\n",
       "      <td>218</td>\n",
       "      <td>clk</td>\n",
       "      <td>125000</td>\n",
       "      <td>6</td>\n",
       "      <td>petrol</td>\n",
       "      <td>mercedes_benz</td>\n",
       "      <td>yes</td>\n",
       "      <td>2016-04-03 00:00:00</td>\n",
       "      <td>0</td>\n",
       "      <td>75196</td>\n",
       "      <td>2016-04-07 09:44:54</td>\n",
       "    </tr>\n",
       "    <tr>\n",
       "      <th>325651</th>\n",
       "      <td>2016-03-18 18:46:15</td>\n",
       "      <td>1999</td>\n",
       "      <td>wagon</td>\n",
       "      <td>2001</td>\n",
       "      <td>manual</td>\n",
       "      <td>131</td>\n",
       "      <td>passat</td>\n",
       "      <td>150000</td>\n",
       "      <td>7</td>\n",
       "      <td>gasoline</td>\n",
       "      <td>volkswagen</td>\n",
       "      <td>no</td>\n",
       "      <td>2016-03-18 00:00:00</td>\n",
       "      <td>0</td>\n",
       "      <td>36391</td>\n",
       "      <td>2016-03-18 18:46:15</td>\n",
       "    </tr>\n",
       "  </tbody>\n",
       "</table>\n",
       "</div>"
      ],
      "text/plain": [
       "                datecrawled  price vehicletype  registrationyear gearbox  \\\n",
       "41529   2016-03-18 18:46:15   1999       wagon              2001  manual   \n",
       "88087   2016-03-08 18:42:48   1799       coupe              1999    auto   \n",
       "90964   2016-03-28 00:56:10   1000       small              2002  manual   \n",
       "171088  2016-03-08 18:42:48   1799       coupe              1999    auto   \n",
       "187735  2016-04-03 09:01:15   4699       coupe              2003    auto   \n",
       "231258  2016-03-28 00:56:10   1000       small              2002  manual   \n",
       "258109  2016-04-03 09:01:15   4699       coupe              2003    auto   \n",
       "325651  2016-03-18 18:46:15   1999       wagon              2001  manual   \n",
       "\n",
       "        power   model  kilometer  registrationmonth  fueltype          brand  \\\n",
       "41529     131  passat     150000                  7  gasoline     volkswagen   \n",
       "88087     193     clk      20000                  7    petrol  mercedes_benz   \n",
       "90964      83   other     150000                  1    petrol         suzuki   \n",
       "171088    193     clk      20000                  7    petrol  mercedes_benz   \n",
       "187735    218     clk     125000                  6    petrol  mercedes_benz   \n",
       "231258     83   other     150000                  1    petrol         suzuki   \n",
       "258109    218     clk     125000                  6    petrol  mercedes_benz   \n",
       "325651    131  passat     150000                  7  gasoline     volkswagen   \n",
       "\n",
       "       notrepaired          datecreated  numberofpictures  postalcode  \\\n",
       "41529           no  2016-03-18 00:00:00                 0       36391   \n",
       "88087           no  2016-03-08 00:00:00                 0       89518   \n",
       "90964           no  2016-03-28 00:00:00                 0       66589   \n",
       "171088          no  2016-03-08 00:00:00                 0       89518   \n",
       "187735         yes  2016-04-03 00:00:00                 0       75196   \n",
       "231258          no  2016-03-28 00:00:00                 0       66589   \n",
       "258109         yes  2016-04-03 00:00:00                 0       75196   \n",
       "325651          no  2016-03-18 00:00:00                 0       36391   \n",
       "\n",
       "                   lastseen  \n",
       "41529   2016-03-18 18:46:15  \n",
       "88087   2016-03-09 09:46:57  \n",
       "90964   2016-03-28 08:46:21  \n",
       "171088  2016-03-09 09:46:57  \n",
       "187735  2016-04-07 09:44:54  \n",
       "231258  2016-03-28 08:46:21  \n",
       "258109  2016-04-07 09:44:54  \n",
       "325651  2016-03-18 18:46:15  "
      ]
     },
     "execution_count": 8,
     "metadata": {},
     "output_type": "execute_result"
    }
   ],
   "source": [
    "df[df.duplicated(keep=False)]"
   ]
  },
  {
   "cell_type": "code",
   "execution_count": 9,
   "metadata": {},
   "outputs": [
    {
     "data": {
      "text/plain": [
       "<AxesSubplot:>"
      ]
     },
     "execution_count": 9,
     "metadata": {},
     "output_type": "execute_result"
    },
    {
     "data": {
      "image/png": "[encoded data removed]",
      "text/plain": [
       "<Figure size 432x288 with 2 Axes>"
      ]
     },
     "metadata": {
      "needs_background": "light"
     },
     "output_type": "display_data"
    }
   ],
   "source": [
    "sns.heatmap(df.corr())"
   ]
  },
  {
   "cell_type": "code",
   "execution_count": 10,
   "metadata": {},
   "outputs": [
    {
     "data": {
      "text/html": [
       "<div>\n",
       "<style scoped>\n",
       "    .dataframe tbody tr th:only-of-type {\n",
       "        vertical-align: middle;\n",
       "    }\n",
       "\n",
       "    .dataframe tbody tr th {\n",
       "        vertical-align: top;\n",
       "    }\n",
       "\n",
       "    .dataframe thead th {\n",
       "        text-align: right;\n",
       "    }\n",
       "</style>\n",
       "<table border=\"1\" class=\"dataframe\">\n",
       "  <thead>\n",
       "    <tr style=\"text-align: right;\">\n",
       "      <th></th>\n",
       "      <th>datecrawled</th>\n",
       "      <th>vehicletype</th>\n",
       "      <th>gearbox</th>\n",
       "      <th>model</th>\n",
       "      <th>fueltype</th>\n",
       "      <th>brand</th>\n",
       "      <th>notrepaired</th>\n",
       "      <th>datecreated</th>\n",
       "      <th>lastseen</th>\n",
       "    </tr>\n",
       "  </thead>\n",
       "  <tbody>\n",
       "    <tr>\n",
       "      <th>count</th>\n",
       "      <td>354369</td>\n",
       "      <td>316879</td>\n",
       "      <td>334536</td>\n",
       "      <td>334664</td>\n",
       "      <td>321474</td>\n",
       "      <td>354369</td>\n",
       "      <td>283215</td>\n",
       "      <td>354369</td>\n",
       "      <td>354369</td>\n",
       "    </tr>\n",
       "    <tr>\n",
       "      <th>unique</th>\n",
       "      <td>271174</td>\n",
       "      <td>8</td>\n",
       "      <td>2</td>\n",
       "      <td>250</td>\n",
       "      <td>7</td>\n",
       "      <td>40</td>\n",
       "      <td>2</td>\n",
       "      <td>109</td>\n",
       "      <td>179150</td>\n",
       "    </tr>\n",
       "    <tr>\n",
       "      <th>top</th>\n",
       "      <td>2016-03-24 14:49:47</td>\n",
       "      <td>sedan</td>\n",
       "      <td>manual</td>\n",
       "      <td>golf</td>\n",
       "      <td>petrol</td>\n",
       "      <td>volkswagen</td>\n",
       "      <td>no</td>\n",
       "      <td>2016-04-03 00:00:00</td>\n",
       "      <td>2016-04-06 13:45:54</td>\n",
       "    </tr>\n",
       "    <tr>\n",
       "      <th>freq</th>\n",
       "      <td>7</td>\n",
       "      <td>91457</td>\n",
       "      <td>268251</td>\n",
       "      <td>29232</td>\n",
       "      <td>216352</td>\n",
       "      <td>77013</td>\n",
       "      <td>247161</td>\n",
       "      <td>13719</td>\n",
       "      <td>17</td>\n",
       "    </tr>\n",
       "  </tbody>\n",
       "</table>\n",
       "</div>"
      ],
      "text/plain": [
       "                datecrawled vehicletype gearbox   model fueltype       brand  \\\n",
       "count                354369      316879  334536  334664   321474      354369   \n",
       "unique               271174           8       2     250        7          40   \n",
       "top     2016-03-24 14:49:47       sedan  manual    golf   petrol  volkswagen   \n",
       "freq                      7       91457  268251   29232   216352       77013   \n",
       "\n",
       "       notrepaired          datecreated             lastseen  \n",
       "count       283215               354369               354369  \n",
       "unique           2                  109               179150  \n",
       "top             no  2016-04-03 00:00:00  2016-04-06 13:45:54  \n",
       "freq        247161                13719                   17  "
      ]
     },
     "execution_count": 10,
     "metadata": {},
     "output_type": "execute_result"
    }
   ],
   "source": [
    "df.describe(include=['object', 'bool'])"
   ]
  },
  {
   "cell_type": "code",
   "execution_count": 11,
   "metadata": {},
   "outputs": [
    {
     "name": "stdout",
     "output_type": "stream",
     "text": [
      "Дата создания первой анкеты: 2014-03-10 00:00:00\n",
      "Дата создания последнией анкеты: 2016-04-07 00:00:00\n"
     ]
    }
   ],
   "source": [
    "print('Дата создания первой анкеты:', df['datecreated'].min())\n",
    "print('Дата создания последнией анкеты:', df['datecreated'].max())"
   ]
  },
  {
   "cell_type": "code",
   "execution_count": 12,
   "metadata": {},
   "outputs": [
    {
     "name": "stdout",
     "output_type": "stream",
     "text": [
      "Период последней активности пользователей:\n",
      "с: 2016-03-05 14:15:08\n",
      "по: 2016-04-07 14:58:51\n"
     ]
    }
   ],
   "source": [
    "print('Период последней активности пользователей:')\n",
    "print('с:', df['lastseen'].min())\n",
    "print('по:', df['lastseen'].max())"
   ]
  },
  {
   "cell_type": "markdown",
   "metadata": {},
   "source": [
    "**- данные загружены корректно**  \n",
    "**- в 5 столбцах имеются пропуски (VehicleType, Gearbox, Model, FuelType, NotRepaired)**  \n",
    "**- есть 4 полных дупликата**  \n",
    "**- высокой корреляции в данных между столбцами не выявлено**  \n",
    "**- в базе содержаться анкеты за 2 года, однако сроки последней активности пользователей укладываются в 1 месяц**  \n",
    "**- имеются некоректные 0-ые значения в 3-х столбцах (Price, Power, RegistrationMonth)**  \n",
    "**- имеются неккоректные данные в столбце registrationyear**  \n",
    "**- все значения numberofpictures равны 0**"
   ]
  },
  {
   "cell_type": "code",
   "execution_count": 13,
   "metadata": {},
   "outputs": [
    {
     "data": {
      "text/plain": [
       "(354365, 16)"
      ]
     },
     "execution_count": 13,
     "metadata": {},
     "output_type": "execute_result"
    }
   ],
   "source": [
    "# уберем дупликаты из данных\n",
    "df = df.drop_duplicates().reset_index(drop=True)\n",
    "df.shape"
   ]
  },
  {
   "cell_type": "code",
   "execution_count": 14,
   "metadata": {},
   "outputs": [],
   "source": [
    "def nan_df (column):\n",
    "    print('Количчество пропущеных значений в столбце', column, ':',\n",
    "          round(df[column].isnull().sum()/len(df[column])*100, 2), '%')\n",
    "    print ('Доля значений столбца', column, 'в %:')\n",
    "    print(round(df[column].value_counts()/len(df[column])*100,2))\n",
    "\n",
    "def nan_df_hist (column, title):    \n",
    "    fig, ax = plt.subplots(figsize=(10, 5))\n",
    "    ax.set_title(title)\n",
    "    plt.ylabel('Частота')\n",
    "    sns.countplot(x=column, data=df)"
   ]
  },
  {
   "cell_type": "code",
   "execution_count": 15,
   "metadata": {},
   "outputs": [],
   "source": [
    "#функция по заполнения Nan аналогичными значениями из строк похожих по другим параметрам\n",
    "def analog(column1, column2, column3):\n",
    "    df[column1] = df.groupby([column2, column3])[column1].transform(lambda x: x.fillna((x.mode()[0]\n",
    "                                                                                      if not x.mode().empty else 'other')))"
   ]
  },
  {
   "cell_type": "code",
   "execution_count": 16,
   "metadata": {},
   "outputs": [],
   "source": [
    "#внесение и контроль изменений\n",
    "\n",
    "def tab (column, time):\n",
    "    summa = df[column].value_counts()\n",
    "    percent = round(df[column].value_counts()/len(df[column])*100,2)\n",
    "    percent=pd.DataFrame({column:percent.index, time+'_percent':percent.values})\n",
    "    summa=pd.DataFrame({column:summa.index, time+'_sum':summa.values})\n",
    "    result=summa.merge(percent)\n",
    "    return result\n",
    "\n",
    "def control(column1, column2, column3):\n",
    "    before = tab (column1, 'befor') \n",
    "    analog(column1, column2, column3)\n",
    "    after = tab (column1, 'after')  \n",
    "    print(f' Изменения в графе {column1} (до и после):')\n",
    "    return print(before.merge(after))"
   ]
  },
  {
   "cell_type": "markdown",
   "metadata": {},
   "source": [
    "### Признак Model"
   ]
  },
  {
   "cell_type": "code",
   "execution_count": 17,
   "metadata": {},
   "outputs": [
    {
     "name": "stdout",
     "output_type": "stream",
     "text": [
      "Количчество пропущеных значений в столбце model : 5.56 %\n",
      "Доля значений столбца model в %:\n",
      "golf                  8.25\n",
      "other                 6.89\n",
      "3er                   5.58\n",
      "polo                  3.69\n",
      "corsa                 3.55\n",
      "                      ... \n",
      "serie_2               0.00\n",
      "rangerover            0.00\n",
      "serie_3               0.00\n",
      "range_rover_evoque    0.00\n",
      "serie_1               0.00\n",
      "Name: model, Length: 250, dtype: float64\n"
     ]
    }
   ],
   "source": [
    "nan_df('model')"
   ]
  },
  {
   "cell_type": "markdown",
   "metadata": {},
   "source": [
    "**- мы не можем определить пропущенные модели исходя из предоставленных данных**  \n",
    "**- если мы заменим пропуски в данном столбце на значение other, то мы получим выброс в 12,45% по данному значению, что не приемлемо**  \n",
    "**- так как объем данных составляет более 350000 строк и количество пропусков по признаку \"model\" составляет 5.56% - пожертвуем этими данными и удалим эти строки**"
   ]
  },
  {
   "cell_type": "code",
   "execution_count": 18,
   "metadata": {},
   "outputs": [],
   "source": [
    "df = df[df['model'].notna()]"
   ]
  },
  {
   "cell_type": "markdown",
   "metadata": {},
   "source": [
    "### Признак Vehicletype"
   ]
  },
  {
   "cell_type": "code",
   "execution_count": 19,
   "metadata": {
    "scrolled": true
   },
   "outputs": [
    {
     "name": "stdout",
     "output_type": "stream",
     "text": [
      "Количчество пропущеных значений в столбце vehicletype : 9.16 %\n",
      "Доля значений столбца vehicletype в %:\n",
      "sedan          26.33\n",
      "small          22.86\n",
      "wagon          18.82\n",
      "bus             8.31\n",
      "convertible     5.77\n",
      "coupe           4.55\n",
      "suv             3.36\n",
      "other           0.84\n",
      "Name: vehicletype, dtype: float64\n"
     ]
    }
   ],
   "source": [
    "nan_df('vehicletype')"
   ]
  },
  {
   "cell_type": "code",
   "execution_count": 20,
   "metadata": {},
   "outputs": [
    {
     "data": {
      "image/png": "[encoded data removed]",
      "text/plain": [
       "<Figure size 720x360 with 1 Axes>"
      ]
     },
     "metadata": {
      "needs_background": "light"
     },
     "output_type": "display_data"
    }
   ],
   "source": [
    "nan_df_hist('vehicletype', 'Тип кузова')"
   ]
  },
  {
   "cell_type": "code",
   "execution_count": 21,
   "metadata": {
    "scrolled": true
   },
   "outputs": [
    {
     "name": "stdout",
     "output_type": "stream",
     "text": [
      " Изменения в графе vehicletype (до и после):\n",
      "   vehicletype  befor_sum  befor_percent  after_sum  after_percent\n",
      "0        sedan      88119          26.33     100773          30.11\n",
      "1        small      76493          22.86      85608          25.58\n",
      "2        wagon      62995          18.82      66536          19.88\n",
      "3          bus      27794           8.31      31553           9.43\n",
      "4  convertible      19319           5.77      19591           5.85\n",
      "5        coupe      15237           4.55      15863           4.74\n",
      "6          suv      11237           3.36      11907           3.56\n",
      "7        other       2804           0.84       2829           0.85\n"
     ]
    }
   ],
   "source": [
    "# заменим отсутствующие значения кузова значениями у аналогичной марки автомобиля\n",
    "# если модель отстутствует - то меняем на other\n",
    "control('vehicletype', 'brand', 'model')"
   ]
  },
  {
   "cell_type": "markdown",
   "metadata": {},
   "source": [
    "### Признак Gearbox"
   ]
  },
  {
   "cell_type": "code",
   "execution_count": 22,
   "metadata": {},
   "outputs": [
    {
     "name": "stdout",
     "output_type": "stream",
     "text": [
      "Количчество пропущеных значений в столбце gearbox : 4.69 %\n",
      "Доля значений столбца gearbox в %:\n",
      "manual    76.47\n",
      "auto      18.84\n",
      "Name: gearbox, dtype: float64\n"
     ]
    }
   ],
   "source": [
    "nan_df('gearbox')"
   ]
  },
  {
   "cell_type": "code",
   "execution_count": 23,
   "metadata": {},
   "outputs": [
    {
     "data": {
      "image/png": "[encoded data removed]",
      "text/plain": [
       "<Figure size 720x360 with 1 Axes>"
      ]
     },
     "metadata": {
      "needs_background": "light"
     },
     "output_type": "display_data"
    }
   ],
   "source": [
    "nan_df_hist('gearbox', 'Тип коробки передач')"
   ]
  },
  {
   "cell_type": "code",
   "execution_count": 24,
   "metadata": {},
   "outputs": [
    {
     "name": "stdout",
     "output_type": "stream",
     "text": [
      " Изменения в графе gearbox (до и после):\n",
      "  gearbox  befor_sum  befor_percent  after_sum  after_percent\n",
      "0  manual     255922          76.47     269674          80.58\n",
      "1    auto      63036          18.84      64986          19.42\n"
     ]
    }
   ],
   "source": [
    "# заменим отсутствующие значения трансмиссии значениями у аналогичной марки автомобиля\n",
    "# если модель отстутствует - то меняем на other\n",
    "control('gearbox', 'brand', 'model')"
   ]
  },
  {
   "cell_type": "markdown",
   "metadata": {},
   "source": [
    "### Признак Fueltype"
   ]
  },
  {
   "cell_type": "code",
   "execution_count": 25,
   "metadata": {
    "scrolled": true
   },
   "outputs": [
    {
     "name": "stdout",
     "output_type": "stream",
     "text": [
      "Количчество пропущеных значений в столбце fueltype : 7.69 %\n",
      "Доля значений столбца fueltype в %:\n",
      "petrol      61.90\n",
      "gasoline    28.64\n",
      "lpg          1.48\n",
      "cng          0.16\n",
      "hybrid       0.06\n",
      "other        0.04\n",
      "electric     0.02\n",
      "Name: fueltype, dtype: float64\n"
     ]
    }
   ],
   "source": [
    "nan_df('fueltype')"
   ]
  },
  {
   "cell_type": "code",
   "execution_count": 26,
   "metadata": {},
   "outputs": [
    {
     "data": {
      "image/png": "[encoded data removed]",
      "text/plain": [
       "<Figure size 720x360 with 1 Axes>"
      ]
     },
     "metadata": {
      "needs_background": "light"
     },
     "output_type": "display_data"
    }
   ],
   "source": [
    "nan_df_hist('fueltype', 'Тип топлива')"
   ]
  },
  {
   "cell_type": "code",
   "execution_count": 27,
   "metadata": {},
   "outputs": [
    {
     "name": "stdout",
     "output_type": "stream",
     "text": [
      " Изменения в графе fueltype (до и после):\n",
      "   fueltype  befor_sum  befor_percent  after_sum  after_percent\n",
      "0    petrol     207159          61.90     227992          68.13\n",
      "1  gasoline      95856          28.64     100755          30.11\n",
      "2       lpg       4962           1.48       4962           1.48\n",
      "3       cng        544           0.16        544           0.16\n",
      "4    hybrid        208           0.06        208           0.06\n",
      "5     other        133           0.04        133           0.04\n",
      "6  electric         66           0.02         66           0.02\n"
     ]
    }
   ],
   "source": [
    "control('fueltype', 'brand', 'model')"
   ]
  },
  {
   "cell_type": "markdown",
   "metadata": {},
   "source": [
    "**- petrol и gasoline - это принятое в разных странах обозначение бензина**  \n",
    "**- lpg и cng - это обозначения газа (бутани и метан соответсвенно)**  \n",
    "**- после заполнеия пропусков доля бензиновых двигателей составила более 98%**  \n",
    "**- в связи с таким большим перевесом в данных, уберем в дальнейшем данный признак из нашей модели**"
   ]
  },
  {
   "cell_type": "code",
   "execution_count": 28,
   "metadata": {},
   "outputs": [],
   "source": [
    "df=df.drop(['fueltype'], axis=1)"
   ]
  },
  {
   "cell_type": "markdown",
   "metadata": {},
   "source": [
    "### Признак Notrepaired"
   ]
  },
  {
   "cell_type": "code",
   "execution_count": 29,
   "metadata": {
    "scrolled": true
   },
   "outputs": [
    {
     "name": "stdout",
     "output_type": "stream",
     "text": [
      "Количчество пропущеных значений в столбце notrepaired : 18.56 %\n",
      "Доля значений столбца notrepaired в %:\n",
      "no     71.37\n",
      "yes    10.07\n",
      "Name: notrepaired, dtype: float64\n"
     ]
    }
   ],
   "source": [
    "nan_df('notrepaired')"
   ]
  },
  {
   "cell_type": "code",
   "execution_count": 30,
   "metadata": {},
   "outputs": [
    {
     "name": "stdout",
     "output_type": "stream",
     "text": [
      "Количчество пропущеных значений в столбце notrepaired : 0.0 %\n",
      "Доля значений столбца notrepaired в %:\n",
      "no     89.83\n",
      "yes    10.17\n",
      "Name: notrepaired, dtype: float64\n"
     ]
    }
   ],
   "source": [
    "#так как пропусков в графе ремонт достаточно много (18,56%)\n",
    "#и мы не можем с точностью сказать был ли ремонт или нет\n",
    "#запоним пропуски данными по ремонту аналогичных моделей аналогичного года выпуска\n",
    "#заменим неопределенные значения на no\n",
    "\n",
    "analog('notrepaired', 'registrationyear', 'model')\n",
    "df['notrepaired'] = df['notrepaired'].replace('other', 'no')\n",
    "nan_df('notrepaired')"
   ]
  },
  {
   "cell_type": "code",
   "execution_count": 31,
   "metadata": {},
   "outputs": [],
   "source": [
    "# у нас всего 2 признака - заменим no на 0, yes а 1\n",
    "df['notrepaired'] = df['notrepaired'].replace('no', 0)\n",
    "df['notrepaired'] = df['notrepaired'].replace('yes', 1)"
   ]
  },
  {
   "cell_type": "markdown",
   "metadata": {},
   "source": [
    "### Признак Price"
   ]
  },
  {
   "cell_type": "code",
   "execution_count": 32,
   "metadata": {
    "scrolled": true
   },
   "outputs": [
    {
     "data": {
      "text/plain": [
       "Text(0, 0.5, 'Частота')"
      ]
     },
     "execution_count": 32,
     "metadata": {},
     "output_type": "execute_result"
    },
    {
     "data": {
      "image/png": "[encoded data removed]",
      "text/plain": [
       "<Figure size 1440x360 with 1 Axes>"
      ]
     },
     "metadata": {},
     "output_type": "display_data"
    }
   ],
   "source": [
    "sns.set()\n",
    "fig, ax = plt.subplots(figsize=(20, 5))\n",
    "sns.distplot(df['price'], bins=100)\n",
    "ax.set_title('Распределение стоимости автомобилей')\n",
    "plt.ylabel('Частота')"
   ]
  },
  {
   "cell_type": "code",
   "execution_count": 33,
   "metadata": {},
   "outputs": [],
   "source": [
    "def minimax (column, min1, max1):\n",
    "    min_count = 0\n",
    "    max_count = 0 \n",
    "    var = df[column].reset_index(drop=True)\n",
    "    for i in range(len(var)):\n",
    "        if  var[i] <= min1:\n",
    "            min_count += 1\n",
    "        elif var[i] >= max1:\n",
    "            max_count += 1\n",
    "    print ('\\n'.join((f'Количество объявлений ниже или равно параметру {min1}: {min_count} шт.',\n",
    "                      f'Количество объявлений выше или равно параметру {max1}: {max_count} шт.',\n",
    "                      f'Общее количество таких объявлений: {min_count+max_count} шт.',\n",
    "                      f'% таких объявлений от всей выборки: {round((min_count+max_count)/len(var)*100, 2)} %')))"
   ]
  },
  {
   "cell_type": "code",
   "execution_count": 34,
   "metadata": {},
   "outputs": [],
   "source": [
    "# меняем 0 на Nan\n",
    "def zero_nan (column):\n",
    "    df.loc[(df[column] == 0), (column)] = np.NaN"
   ]
  },
  {
   "cell_type": "code",
   "execution_count": 35,
   "metadata": {},
   "outputs": [],
   "source": [
    "MIN_PRICE = 200\n",
    "MAX_PRICE = 15000\n",
    "zero_nan ('price')\n",
    "analog('price', 'brand', 'model')"
   ]
  },
  {
   "cell_type": "code",
   "execution_count": 36,
   "metadata": {},
   "outputs": [
    {
     "name": "stdout",
     "output_type": "stream",
     "text": [
      "*Выбросы* целевого признака:\n",
      "Количество объявлений ниже или равно параметру 200: 7555 шт.\n",
      "Количество объявлений выше или равно параметру 15000: 15059 шт.\n",
      "Общее количество таких объявлений: 22614 шт.\n",
      "% таких объявлений от всей выборки: 6.76 %\n"
     ]
    }
   ],
   "source": [
    "print ('*Выбросы* целевого признака:')\n",
    "minimax ('price', MIN_PRICE, MAX_PRICE)"
   ]
  },
  {
   "cell_type": "code",
   "execution_count": 37,
   "metadata": {},
   "outputs": [],
   "source": [
    "#В целевом признаке много выбросов. Удалим строки соответствующие критерию - менее 200 и более 15000 евро.\n",
    "df = df[(df['price']>MIN_PRICE) & (df['price']<MAX_PRICE)]"
   ]
  },
  {
   "cell_type": "markdown",
   "metadata": {},
   "source": [
    "### Признак Power"
   ]
  },
  {
   "cell_type": "code",
   "execution_count": 38,
   "metadata": {},
   "outputs": [
    {
     "data": {
      "text/plain": [
       "<AxesSubplot:xlabel='power'>"
      ]
     },
     "execution_count": 38,
     "metadata": {},
     "output_type": "execute_result"
    },
    {
     "data": {
      "image/png": "[encoded data removed]",
      "text/plain": [
       "<Figure size 432x288 with 1 Axes>"
      ]
     },
     "metadata": {},
     "output_type": "display_data"
    }
   ],
   "source": [
    "sns.boxplot(df['power'])"
   ]
  },
  {
   "cell_type": "code",
   "execution_count": 39,
   "metadata": {},
   "outputs": [
    {
     "data": {
      "text/plain": [
       "<AxesSubplot:xlabel='power'>"
      ]
     },
     "execution_count": 39,
     "metadata": {},
     "output_type": "execute_result"
    },
    {
     "data": {
      "image/png": "[encoded data removed]",
      "text/plain": [
       "<Figure size 432x288 with 1 Axes>"
      ]
     },
     "metadata": {},
     "output_type": "display_data"
    }
   ],
   "source": [
    "power_min = df[df['power']<=250]\n",
    "sns.boxplot(power_min['power'])"
   ]
  },
  {
   "cell_type": "code",
   "execution_count": 40,
   "metadata": {},
   "outputs": [],
   "source": [
    "MIN_POWER = 5\n",
    "MAX_POWER = 250\n",
    "#заменим \"нулевые\" мощности, на мощности похожих моделей\n",
    "zero_nan ('power')\n",
    "df.loc[(df['power'] > MAX_POWER), ('power')] = np.NaN\n",
    "analog('power', 'brand', 'model')\n",
    "df.loc[(df['power'] == 'other'), ('power')] = 0\n",
    "df['power'] = pd.to_numeric(df['power'])"
   ]
  },
  {
   "cell_type": "code",
   "execution_count": 41,
   "metadata": {},
   "outputs": [
    {
     "name": "stdout",
     "output_type": "stream",
     "text": [
      "*Выбросы* по признаку *Power*:\n",
      "Количество объявлений ниже или равно параметру 5: 72 шт.\n",
      "Количество объявлений выше или равно параметру 250: 711 шт.\n",
      "Общее количество таких объявлений: 783 шт.\n",
      "% таких объявлений от всей выборки: 0.25 %\n"
     ]
    }
   ],
   "source": [
    "print ('*Выбросы* по признаку *Power*:')\n",
    "minimax ('power', MIN_POWER, MAX_POWER)"
   ]
  },
  {
   "cell_type": "code",
   "execution_count": 42,
   "metadata": {},
   "outputs": [],
   "source": [
    "#В признаке очень много выбросов, причем явно являющимися \"ошибочными\" данными.\n",
    "# Удалим строки соответствующие критерию - равно 0 и более 250.\n",
    "df = df[(df['power']>MIN_POWER) & (df['power']<MAX_POWER)]"
   ]
  },
  {
   "cell_type": "markdown",
   "metadata": {},
   "source": [
    "### Признак Registrationmonth"
   ]
  },
  {
   "cell_type": "code",
   "execution_count": 43,
   "metadata": {},
   "outputs": [
    {
     "name": "stdout",
     "output_type": "stream",
     "text": [
      "3     30844\n",
      "6     28070\n",
      "0     27672\n",
      "5     26045\n",
      "4     26015\n",
      "7     24268\n",
      "10    23510\n",
      "12    21884\n",
      "11    21711\n",
      "9     21406\n",
      "1     20410\n",
      "8     20336\n",
      "2     19092\n",
      "Name: registrationmonth, dtype: int64\n"
     ]
    }
   ],
   "source": [
    "print (df['registrationmonth'].value_counts())"
   ]
  },
  {
   "cell_type": "markdown",
   "metadata": {},
   "source": [
    "**- порядка 15% данных в солбце registrationmonth содержад 0**  \n",
    "**- однако данный столбец не является важным для построения модели, поэтому для облегчения расчетов - удалим его**"
   ]
  },
  {
   "cell_type": "code",
   "execution_count": 44,
   "metadata": {},
   "outputs": [],
   "source": [
    "df=df.drop(['registrationmonth'], axis=1)"
   ]
  },
  {
   "cell_type": "markdown",
   "metadata": {},
   "source": [
    "### Признак Registrationyear"
   ]
  },
  {
   "cell_type": "code",
   "execution_count": 45,
   "metadata": {},
   "outputs": [
    {
     "data": {
      "text/plain": [
       "array([1993, 2004, 2001, 2008, 1995, 1980, 2014, 1998, 2005, 1910, 2016,\n",
       "       2007, 2009, 2002, 2018, 1997, 1990, 2017, 1981, 2003, 1994, 1991,\n",
       "       1984, 2006, 1999, 2012, 2010, 2000, 1992, 2013, 1996, 1989, 2011,\n",
       "       1985, 1982, 1976, 1973, 2015, 1969, 1971, 1987, 1983, 1988, 1986,\n",
       "       1965, 1970, 1945, 1974, 1955, 1978, 1979, 1972, 1968, 1977, 1961,\n",
       "       1960, 1966, 1963, 1954, 1967, 9999, 1500, 2200, 1975, 1964, 2066,\n",
       "       1949, 1962, 2019, 1937, 1951, 1959, 9000, 2900, 1953, 1000, 5911,\n",
       "       1400, 5000, 4000, 1952, 1200, 8500, 1958, 1950, 3700, 1942, 1935,\n",
       "       1956, 3000, 1936, 1957, 1923, 2290, 1930, 1001, 1234, 7000, 1929,\n",
       "       1938, 1934, 1943, 1928, 1941, 1919, 5555, 1800, 1932, 6000, 1931,\n",
       "       4500, 1602, 1111, 7800, 7100, 1300, 8200, 2500, 7500, 1600])"
      ]
     },
     "execution_count": 45,
     "metadata": {},
     "output_type": "execute_result"
    }
   ],
   "source": [
    "df['registrationyear'].unique()"
   ]
  },
  {
   "cell_type": "code",
   "execution_count": 46,
   "metadata": {},
   "outputs": [
    {
     "data": {
      "text/plain": [
       "Text(0, 0.5, 'Частота')"
      ]
     },
     "execution_count": 46,
     "metadata": {},
     "output_type": "execute_result"
    },
    {
     "data": {
      "image/png": "[encoded data removed]",
      "text/plain": [
       "<Figure size 1440x360 with 1 Axes>"
      ]
     },
     "metadata": {},
     "output_type": "display_data"
    }
   ],
   "source": [
    "registration = df[(df['registrationyear']<2015) & (df['registrationyear']>1980)]\n",
    "sns.set()\n",
    "fig, ax = plt.subplots(figsize=(20, 5))\n",
    "sns.distplot(registration['registrationyear'], bins=40)\n",
    "ax.set_title('Год регистрации автомобилей')\n",
    "plt.ylabel('Частота')"
   ]
  },
  {
   "cell_type": "code",
   "execution_count": 47,
   "metadata": {},
   "outputs": [
    {
     "name": "stdout",
     "output_type": "stream",
     "text": [
      "(311263, 14)\n",
      "(284236, 14)\n"
     ]
    }
   ],
   "source": [
    "print (df.shape)\n",
    "\n",
    "# уберем из данных все \"выбросы\" - автоиобили младже 1990 годы и старше 2015 \n",
    "# (дата последних изменений в базе - начало апреля 2016)\n",
    "# порядка 9,6% выборки\n",
    "\n",
    "MIN_YEAR = 1990\n",
    "MAX_YEAR = 2015\n",
    "df = df[(df['registrationyear']>=MIN_YEAR) & (df['registrationyear']<=MAX_YEAR)]\n",
    "\n",
    "print (df.shape)"
   ]
  },
  {
   "cell_type": "markdown",
   "metadata": {},
   "source": [
    "### Прочие признаки"
   ]
  },
  {
   "cell_type": "code",
   "execution_count": 48,
   "metadata": {},
   "outputs": [],
   "source": [
    "#графы datecrawled, datecreated, lastseen неважны для наше1 модели, поэтому удаляем их\n",
    "#все значения в столбце numberofpictures равны 0 - удаляем их\n",
    "#в графе postalcode нет выбивающихся значений, какой-то приоритетный район определить из имеющихся данных не вохможно\n",
    "#так же удалим ее\n",
    "df=df.drop(['datecrawled', 'datecreated', 'lastseen', 'postalcode','numberofpictures'], axis=1)"
   ]
  },
  {
   "cell_type": "code",
   "execution_count": 49,
   "metadata": {},
   "outputs": [
    {
     "name": "stdout",
     "output_type": "stream",
     "text": [
      "<class 'pandas.core.frame.DataFrame'>\n",
      "Int64Index: 284236 entries, 0 to 354364\n",
      "Data columns (total 9 columns):\n",
      " #   Column            Non-Null Count   Dtype  \n",
      "---  ------            --------------   -----  \n",
      " 0   price             284236 non-null  float64\n",
      " 1   vehicletype       284236 non-null  object \n",
      " 2   registrationyear  284236 non-null  int64  \n",
      " 3   gearbox           284236 non-null  object \n",
      " 4   power             284236 non-null  float64\n",
      " 5   model             284236 non-null  object \n",
      " 6   kilometer         284236 non-null  int64  \n",
      " 7   brand             284236 non-null  object \n",
      " 8   notrepaired       284236 non-null  int64  \n",
      "dtypes: float64(2), int64(3), object(4)\n",
      "memory usage: 21.7+ MB\n"
     ]
    },
    {
     "data": {
      "text/html": [
       "<div>\n",
       "<style scoped>\n",
       "    .dataframe tbody tr th:only-of-type {\n",
       "        vertical-align: middle;\n",
       "    }\n",
       "\n",
       "    .dataframe tbody tr th {\n",
       "        vertical-align: top;\n",
       "    }\n",
       "\n",
       "    .dataframe thead th {\n",
       "        text-align: right;\n",
       "    }\n",
       "</style>\n",
       "<table border=\"1\" class=\"dataframe\">\n",
       "  <thead>\n",
       "    <tr style=\"text-align: right;\">\n",
       "      <th></th>\n",
       "      <th>price</th>\n",
       "      <th>registrationyear</th>\n",
       "      <th>power</th>\n",
       "      <th>kilometer</th>\n",
       "      <th>notrepaired</th>\n",
       "    </tr>\n",
       "  </thead>\n",
       "  <tbody>\n",
       "    <tr>\n",
       "      <th>count</th>\n",
       "      <td>284236.000000</td>\n",
       "      <td>284236.000000</td>\n",
       "      <td>284236.000000</td>\n",
       "      <td>284236.000000</td>\n",
       "      <td>284236.000000</td>\n",
       "    </tr>\n",
       "    <tr>\n",
       "      <th>mean</th>\n",
       "      <td>4113.818271</td>\n",
       "      <td>2002.634554</td>\n",
       "      <td>114.838328</td>\n",
       "      <td>130568.260178</td>\n",
       "      <td>0.099738</td>\n",
       "    </tr>\n",
       "    <tr>\n",
       "      <th>std</th>\n",
       "      <td>3637.738273</td>\n",
       "      <td>5.045843</td>\n",
       "      <td>44.025551</td>\n",
       "      <td>35015.549050</td>\n",
       "      <td>0.299650</td>\n",
       "    </tr>\n",
       "    <tr>\n",
       "      <th>min</th>\n",
       "      <td>202.000000</td>\n",
       "      <td>1990.000000</td>\n",
       "      <td>6.000000</td>\n",
       "      <td>5000.000000</td>\n",
       "      <td>0.000000</td>\n",
       "    </tr>\n",
       "    <tr>\n",
       "      <th>25%</th>\n",
       "      <td>1250.000000</td>\n",
       "      <td>1999.000000</td>\n",
       "      <td>75.000000</td>\n",
       "      <td>125000.000000</td>\n",
       "      <td>0.000000</td>\n",
       "    </tr>\n",
       "    <tr>\n",
       "      <th>50%</th>\n",
       "      <td>2800.000000</td>\n",
       "      <td>2003.000000</td>\n",
       "      <td>109.000000</td>\n",
       "      <td>150000.000000</td>\n",
       "      <td>0.000000</td>\n",
       "    </tr>\n",
       "    <tr>\n",
       "      <th>75%</th>\n",
       "      <td>6000.000000</td>\n",
       "      <td>2006.000000</td>\n",
       "      <td>143.000000</td>\n",
       "      <td>150000.000000</td>\n",
       "      <td>0.000000</td>\n",
       "    </tr>\n",
       "    <tr>\n",
       "      <th>max</th>\n",
       "      <td>14999.000000</td>\n",
       "      <td>2015.000000</td>\n",
       "      <td>249.000000</td>\n",
       "      <td>150000.000000</td>\n",
       "      <td>1.000000</td>\n",
       "    </tr>\n",
       "  </tbody>\n",
       "</table>\n",
       "</div>"
      ],
      "text/plain": [
       "               price  registrationyear          power      kilometer  \\\n",
       "count  284236.000000     284236.000000  284236.000000  284236.000000   \n",
       "mean     4113.818271       2002.634554     114.838328  130568.260178   \n",
       "std      3637.738273          5.045843      44.025551   35015.549050   \n",
       "min       202.000000       1990.000000       6.000000    5000.000000   \n",
       "25%      1250.000000       1999.000000      75.000000  125000.000000   \n",
       "50%      2800.000000       2003.000000     109.000000  150000.000000   \n",
       "75%      6000.000000       2006.000000     143.000000  150000.000000   \n",
       "max     14999.000000       2015.000000     249.000000  150000.000000   \n",
       "\n",
       "         notrepaired  \n",
       "count  284236.000000  \n",
       "mean        0.099738  \n",
       "std         0.299650  \n",
       "min         0.000000  \n",
       "25%         0.000000  \n",
       "50%         0.000000  \n",
       "75%         0.000000  \n",
       "max         1.000000  "
      ]
     },
     "execution_count": 49,
     "metadata": {},
     "output_type": "execute_result"
    }
   ],
   "source": [
    "df.info()\n",
    "df.describe()"
   ]
  },
  {
   "cell_type": "code",
   "execution_count": 50,
   "metadata": {},
   "outputs": [],
   "source": [
    "def price_plot (column, title):\n",
    "    price = df[[column, 'price']].groupby(column, as_index=False).mean().astype('int')\n",
    "    plt.figure(figsize=(20,5))\n",
    "    plt.grid(axis = 'both')\n",
    "    sns.lineplot(x=column, y='price', data=price)\n",
    "    plt.xlabel(column, size=12)\n",
    "    plt.ylabel('Цена, евро')\n",
    "    plt.title(title)\n",
    "    plt.show()"
   ]
  },
  {
   "cell_type": "code",
   "execution_count": 51,
   "metadata": {},
   "outputs": [
    {
     "data": {
      "image/png": "[encoded data removed]",
      "text/plain": [
       "<Figure size 1440x360 with 1 Axes>"
      ]
     },
     "metadata": {},
     "output_type": "display_data"
    }
   ],
   "source": [
    "price_plot('registrationyear', 'Изменение цены в зависимости от года регистрации')"
   ]
  },
  {
   "cell_type": "code",
   "execution_count": 52,
   "metadata": {
    "scrolled": false
   },
   "outputs": [
    {
     "data": {
      "image/png": "[encoded data removed]",
      "text/plain": [
       "<Figure size 1440x360 with 1 Axes>"
      ]
     },
     "metadata": {},
     "output_type": "display_data"
    }
   ],
   "source": [
    "price_plot('kilometer', 'Изменение цены в зависимости от пробега')"
   ]
  },
  {
   "cell_type": "markdown",
   "metadata": {},
   "source": [
    "**ВЫВОД:**  \n",
    "**- в данных имелось множество пропусков и некорректных данных**  \n",
    "**- так же было много выбросов, в основном связанных с некорректными данными**  \n",
    "**- пропуски и поддающиеся анализу данные были заменены данными из похожих строчек**  \n",
    "**- данные где значения не возможно было подставить без сильного искажения общей картины, были удалены**  \n",
    "**- так же были удалены данные напрямую не влияющие на модель, а так же данные, которые могли привести к сильному переобучению модели**    \n",
    "**- имеется некоторая аномалия в цене при пробеге менее 10000 км, возможно это нормальное поведение в данных. Так как количество значений мало (чуть более 1%), оставили их без изменений\n",
    "**- после преобразования и очистки данных, \"потери\" в данных составили 19,79%**\n"
   ]
  },
  {
   "cell_type": "markdown",
   "metadata": {},
   "source": [
    "## Обучение моделей"
   ]
  },
  {
   "cell_type": "code",
   "execution_count": 53,
   "metadata": {},
   "outputs": [
    {
     "data": {
      "text/html": [
       "<div>\n",
       "<style scoped>\n",
       "    .dataframe tbody tr th:only-of-type {\n",
       "        vertical-align: middle;\n",
       "    }\n",
       "\n",
       "    .dataframe tbody tr th {\n",
       "        vertical-align: top;\n",
       "    }\n",
       "\n",
       "    .dataframe thead th {\n",
       "        text-align: right;\n",
       "    }\n",
       "</style>\n",
       "<table border=\"1\" class=\"dataframe\">\n",
       "  <thead>\n",
       "    <tr style=\"text-align: right;\">\n",
       "      <th></th>\n",
       "      <th>price</th>\n",
       "      <th>vehicletype</th>\n",
       "      <th>registrationyear</th>\n",
       "      <th>gearbox</th>\n",
       "      <th>power</th>\n",
       "      <th>model</th>\n",
       "      <th>kilometer</th>\n",
       "      <th>brand</th>\n",
       "      <th>notrepaired</th>\n",
       "    </tr>\n",
       "  </thead>\n",
       "  <tbody>\n",
       "    <tr>\n",
       "      <th>0</th>\n",
       "      <td>480.0</td>\n",
       "      <td>4</td>\n",
       "      <td>1993</td>\n",
       "      <td>1</td>\n",
       "      <td>75.0</td>\n",
       "      <td>116</td>\n",
       "      <td>150000</td>\n",
       "      <td>37</td>\n",
       "      <td>0</td>\n",
       "    </tr>\n",
       "    <tr>\n",
       "      <th>2</th>\n",
       "      <td>9800.0</td>\n",
       "      <td>6</td>\n",
       "      <td>2004</td>\n",
       "      <td>0</td>\n",
       "      <td>163.0</td>\n",
       "      <td>117</td>\n",
       "      <td>125000</td>\n",
       "      <td>14</td>\n",
       "      <td>0</td>\n",
       "    </tr>\n",
       "    <tr>\n",
       "      <th>3</th>\n",
       "      <td>1500.0</td>\n",
       "      <td>5</td>\n",
       "      <td>2001</td>\n",
       "      <td>1</td>\n",
       "      <td>75.0</td>\n",
       "      <td>116</td>\n",
       "      <td>150000</td>\n",
       "      <td>37</td>\n",
       "      <td>0</td>\n",
       "    </tr>\n",
       "    <tr>\n",
       "      <th>4</th>\n",
       "      <td>3600.0</td>\n",
       "      <td>5</td>\n",
       "      <td>2008</td>\n",
       "      <td>1</td>\n",
       "      <td>69.0</td>\n",
       "      <td>101</td>\n",
       "      <td>90000</td>\n",
       "      <td>31</td>\n",
       "      <td>0</td>\n",
       "    </tr>\n",
       "    <tr>\n",
       "      <th>5</th>\n",
       "      <td>650.0</td>\n",
       "      <td>4</td>\n",
       "      <td>1995</td>\n",
       "      <td>1</td>\n",
       "      <td>102.0</td>\n",
       "      <td>11</td>\n",
       "      <td>150000</td>\n",
       "      <td>2</td>\n",
       "      <td>1</td>\n",
       "    </tr>\n",
       "  </tbody>\n",
       "</table>\n",
       "</div>"
      ],
      "text/plain": [
       "    price  vehicletype  registrationyear  gearbox  power  model  kilometer  \\\n",
       "0   480.0            4              1993        1   75.0    116     150000   \n",
       "2  9800.0            6              2004        0  163.0    117     125000   \n",
       "3  1500.0            5              2001        1   75.0    116     150000   \n",
       "4  3600.0            5              2008        1   69.0    101      90000   \n",
       "5   650.0            4              1995        1  102.0     11     150000   \n",
       "\n",
       "   brand  notrepaired  \n",
       "0     37            0  \n",
       "2     14            0  \n",
       "3     37            0  \n",
       "4     31            0  \n",
       "5      2            1  "
      ]
     },
     "execution_count": 53,
     "metadata": {},
     "output_type": "execute_result"
    }
   ],
   "source": [
    "# кодирование категориальных данных\n",
    "category_columns = list(df.select_dtypes(include='object').columns)\n",
    "label_encode = LabelEncoder()\n",
    "for column in category_columns:\n",
    "    label_encode.fit(df[column].astype('str'))\n",
    "    df[column] = label_encode.transform(df[column].astype('str'))\n",
    "df.head()"
   ]
  },
  {
   "cell_type": "code",
   "execution_count": 54,
   "metadata": {},
   "outputs": [],
   "source": [
    "target=df['price']\n",
    "features=df.drop(['price'],axis=1)"
   ]
  },
  {
   "cell_type": "code",
   "execution_count": 55,
   "metadata": {},
   "outputs": [],
   "source": [
    "#стандартизируем признаки\n",
    "scaler = StandardScaler()\n",
    "scaler.fit(features)\n",
    "features = scaler.transform(features)"
   ]
  },
  {
   "cell_type": "code",
   "execution_count": 56,
   "metadata": {},
   "outputs": [],
   "source": [
    "train_features, test_features, train_target, test_target = train_test_split(features, target,\n",
    "                                                                         test_size=0.2, random_state=12345)\n",
    "train_valid_features, test_valid_features, train_valid_target, test_valid_target = train_test_split(test_features,\n",
    "                                                                         test_target, test_size=0.5, random_state=12345)"
   ]
  },
  {
   "cell_type": "code",
   "execution_count": 57,
   "metadata": {},
   "outputs": [],
   "source": [
    "# функция для расчета времени и RMSE\n",
    "def time_rmse (model, train_features, train_target, test_features, test_target):\n",
    "    start_train= time.time()    \n",
    "    model.fit(train_features, train_target)\n",
    "    training_time = time.time() - start_train\n",
    "    start_predict = time.time()  \n",
    "    predict = model.predict(test_features)\n",
    "    predict_time = time.time() - start_predict\n",
    "    rmse = mse(test_target, predict)**0.5\n",
    "    print ('\\n'.join((f'Время на обучение: {training_time} секунд.',\n",
    "                            f'Время на предсказания: {predict_time} секунд.',\n",
    "                            f'RMSE: {rmse}')))\n",
    "    return training_time, predict_time, rmse"
   ]
  },
  {
   "cell_type": "code",
   "execution_count": 58,
   "metadata": {},
   "outputs": [],
   "source": [
    "value = []\n",
    "#kros_val = KFold(n_splits=3, shuffle=True, random_state=12345)\n",
    "#kros_val = 3"
   ]
  },
  {
   "cell_type": "code",
   "execution_count": 59,
   "metadata": {},
   "outputs": [],
   "source": [
    "# С кросс-валтдацией cv=kros_val\n",
    "def grid (model, params):\n",
    "    grid_search = GridSearchCV(model,\n",
    "                          param_grid=params,\n",
    "                          cv=ShuffleSplit(n_splits=1, random_state=12345),\n",
    "                          scoring='neg_mean_squared_error',\n",
    "                          n_jobs=-1)\n",
    "    grid_search.fit(train_features, train_target)\n",
    "    print ('Лучшие параметры модели с кросс-валидацией:', grid_search.best_params_)\n",
    "    return value.append(time_rmse(grid_search.best_estimator_,\n",
    "                                  train_features,\n",
    "                                  train_target,\n",
    "                                  test_valid_features,\n",
    "                                  test_valid_target))\n",
    "#без кросс-валидации  cv = ShuffleSplit(n_splits=1, random_state=12345),\n"
   ]
  },
  {
   "cell_type": "markdown",
   "metadata": {},
   "source": [
    "### Ridge"
   ]
  },
  {
   "cell_type": "code",
   "execution_count": 60,
   "metadata": {},
   "outputs": [],
   "source": [
    "#ridge = Ridge()\n",
    "#params_ridge = {\n",
    "#    'alpha': np.logspace(-5, 5, 20),\n",
    "#    'random_state' : [12345]\n",
    "#}"
   ]
  },
  {
   "cell_type": "code",
   "execution_count": 61,
   "metadata": {},
   "outputs": [],
   "source": [
    "ridge = Pipeline([('ohe', OneHotEncoder(handle_unknown='ignore')),\n",
    "                  ('scaler', StandardScaler(with_mean=False)),\n",
    "                  ('model', Ridge(random_state=12345))])\n",
    "\n",
    "params_ridge = [{'model__alpha': np.logspace(-5, 5, 20)}]"
   ]
  },
  {
   "cell_type": "code",
   "execution_count": 62,
   "metadata": {},
   "outputs": [
    {
     "name": "stdout",
     "output_type": "stream",
     "text": [
      "Без гиперпараметров:\n",
      "Время на обучение: 0.4810750484466553 секунд.\n",
      "Время на предсказания: 0.023039817810058594 секунд.\n",
      "RMSE: 1686.3889572985363\n",
      "CPU times: user 474 ms, sys: 23.7 ms, total: 498 ms\n",
      "Wall time: 505 ms\n"
     ]
    }
   ],
   "source": [
    "%%time\n",
    "print ('Без гиперпараметров:')\n",
    "value.append(time_rmse(ridge, train_features, train_target, test_valid_features, test_valid_target))"
   ]
  },
  {
   "cell_type": "code",
   "execution_count": 63,
   "metadata": {},
   "outputs": [
    {
     "name": "stdout",
     "output_type": "stream",
     "text": [
      "C гиперпараметрами:\n",
      "Лучшие параметры модели с кросс-валидацией: {'model__alpha': 69.51927961775606}\n",
      "Время на обучение: 0.49286532402038574 секунд.\n",
      "Время на предсказания: 0.025146484375 секунд.\n",
      "RMSE: 1686.3993031571947\n",
      "CPU times: user 9.57 s, sys: 466 ms, total: 10 s\n",
      "Wall time: 10 s\n"
     ]
    }
   ],
   "source": [
    "%%time\n",
    "print ('C гиперпараметрами:')\n",
    "grid (ridge, params_ridge)"
   ]
  },
  {
   "cell_type": "markdown",
   "metadata": {},
   "source": [
    "### LGBMRegressor"
   ]
  },
  {
   "cell_type": "code",
   "execution_count": 67,
   "metadata": {},
   "outputs": [],
   "source": [
    "lgb = LGBMRegressor (random_state = 12345)\n",
    "params_lgb = {\n",
    "    'boosting_type' : ['gbdt'],\n",
    "    'n_estimators': [50, 100],\n",
    "    'verbose' : [0], \n",
    "    'force_col_wise': [True], \n",
    "    'num_leaves' : [10, 25, 50]\n",
    "}\n",
    "\n",
    "#params = {'boosting_type' : ['gbdt'], 'random_state' : [12345]}"
   ]
  },
  {
   "cell_type": "code",
   "execution_count": 68,
   "metadata": {},
   "outputs": [
    {
     "name": "stdout",
     "output_type": "stream",
     "text": [
      "Без гиперпараметров:\n",
      "Время на обучение: 5.924284219741821 секунд.\n",
      "Время на предсказания: 0.20331954956054688 секунд.\n",
      "RMSE: 1480.147773973536\n",
      "CPU times: user 6.04 s, sys: 57.8 ms, total: 6.1 s\n",
      "Wall time: 6.13 s\n"
     ]
    }
   ],
   "source": [
    "%%time\n",
    "print ('Без гиперпараметров:')\n",
    "value.append(time_rmse(lgb, train_features, train_target, test_valid_features, test_valid_target))"
   ]
  },
  {
   "cell_type": "code",
   "execution_count": 69,
   "metadata": {},
   "outputs": [
    {
     "name": "stdout",
     "output_type": "stream",
     "text": [
      "C гиперпараметрами:\n",
      "Лучшие параметры модели с кросс-валидацией: {'boosting_type': 'gbdt', 'force_col_wise': True, 'n_estimators': 100, 'num_leaves': 50, 'verbose': 0}\n",
      "Время на обучение: 5.703192472457886 секунд.\n",
      "Время на предсказания: 0.2958512306213379 секунд.\n",
      "RMSE: 1447.6023100110397\n",
      "CPU times: user 37.1 s, sys: 147 ms, total: 37.2 s\n",
      "Wall time: 38.2 s\n"
     ]
    }
   ],
   "source": [
    "%%time\n",
    "print ('C гиперпараметрами:')\n",
    "grid (lgb, params_lgb)"
   ]
  },
  {
   "cell_type": "markdown",
   "metadata": {},
   "source": [
    "### CatBoostingRegressor"
   ]
  },
  {
   "cell_type": "code",
   "execution_count": 70,
   "metadata": {},
   "outputs": [],
   "source": [
    "cat = CatBoostRegressor (random_state = 12345)\n",
    "params_cat = {\n",
    "    'n_estimators': [50, 100],\n",
    "    'verbose' : [0], \n",
    "    'depth': [2, 5, 10],   \n",
    "}"
   ]
  },
  {
   "cell_type": "code",
   "execution_count": 71,
   "metadata": {},
   "outputs": [
    {
     "name": "stdout",
     "output_type": "stream",
     "text": [
      "Без гиперпараметров:\n",
      "Learning rate set to 0.096505\n",
      "0:\tlearn: 3406.8600692\ttotal: 81.8ms\tremaining: 1m 21s\n",
      "1:\tlearn: 3206.8586163\ttotal: 111ms\tremaining: 55.5s\n",
      "2:\tlearn: 3029.6350543\ttotal: 140ms\tremaining: 46.7s\n",
      "3:\tlearn: 2874.3110022\ttotal: 169ms\tremaining: 42s\n",
      "4:\tlearn: 2736.5059685\ttotal: 197ms\tremaining: 39.2s\n",
      "5:\tlearn: 2612.8479840\ttotal: 226ms\tremaining: 37.4s\n",
      "6:\tlearn: 2507.9458452\ttotal: 254ms\tremaining: 36s\n",
      "7:\tlearn: 2415.6059503\ttotal: 284ms\tremaining: 35.3s\n",
      "8:\tlearn: 2336.5124065\ttotal: 313ms\tremaining: 34.4s\n",
      "9:\tlearn: 2266.2881745\ttotal: 343ms\tremaining: 34s\n",
      "10:\tlearn: 2202.4870464\ttotal: 371ms\tremaining: 33.4s\n",
      "11:\tlearn: 2146.6371561\ttotal: 399ms\tremaining: 32.9s\n",
      "12:\tlearn: 2097.2663325\ttotal: 427ms\tremaining: 32.4s\n",
      "13:\tlearn: 2054.9418416\ttotal: 455ms\tremaining: 32s\n",
      "14:\tlearn: 2018.5500424\ttotal: 482ms\tremaining: 31.6s\n",
      "15:\tlearn: 1987.0779069\ttotal: 509ms\tremaining: 31.3s\n",
      "16:\tlearn: 1956.2358883\ttotal: 538ms\tremaining: 31.1s\n",
      "17:\tlearn: 1931.0852548\ttotal: 564ms\tremaining: 30.8s\n",
      "18:\tlearn: 1905.4907147\ttotal: 591ms\tremaining: 30.5s\n",
      "19:\tlearn: 1883.2246680\ttotal: 620ms\tremaining: 30.4s\n",
      "20:\tlearn: 1866.1998320\ttotal: 646ms\tremaining: 30.1s\n",
      "21:\tlearn: 1849.0212711\ttotal: 674ms\tremaining: 30s\n",
      "22:\tlearn: 1831.3808958\ttotal: 702ms\tremaining: 29.8s\n",
      "23:\tlearn: 1819.0440235\ttotal: 727ms\tremaining: 29.6s\n",
      "24:\tlearn: 1804.4960442\ttotal: 754ms\tremaining: 29.4s\n",
      "25:\tlearn: 1792.1556083\ttotal: 781ms\tremaining: 29.2s\n",
      "26:\tlearn: 1779.4568551\ttotal: 809ms\tremaining: 29.2s\n",
      "27:\tlearn: 1768.8653322\ttotal: 836ms\tremaining: 29s\n",
      "28:\tlearn: 1759.9644375\ttotal: 861ms\tremaining: 28.8s\n",
      "29:\tlearn: 1752.1905732\ttotal: 887ms\tremaining: 28.7s\n",
      "30:\tlearn: 1743.3893413\ttotal: 915ms\tremaining: 28.6s\n",
      "31:\tlearn: 1736.1570599\ttotal: 941ms\tremaining: 28.5s\n",
      "32:\tlearn: 1726.2438509\ttotal: 970ms\tremaining: 28.4s\n",
      "33:\tlearn: 1718.6712524\ttotal: 998ms\tremaining: 28.4s\n",
      "34:\tlearn: 1711.7079856\ttotal: 1.02s\tremaining: 28.3s\n",
      "35:\tlearn: 1706.8974842\ttotal: 1.05s\tremaining: 28.2s\n",
      "36:\tlearn: 1700.7696392\ttotal: 1.08s\tremaining: 28.1s\n",
      "37:\tlearn: 1693.5173093\ttotal: 1.1s\tremaining: 28s\n",
      "38:\tlearn: 1688.2281421\ttotal: 1.13s\tremaining: 27.9s\n",
      "39:\tlearn: 1683.1356541\ttotal: 1.16s\tremaining: 27.9s\n",
      "40:\tlearn: 1678.8392622\ttotal: 1.19s\tremaining: 27.8s\n",
      "41:\tlearn: 1675.4613410\ttotal: 1.21s\tremaining: 27.7s\n",
      "42:\tlearn: 1667.9768966\ttotal: 1.24s\tremaining: 27.7s\n",
      "43:\tlearn: 1662.1988009\ttotal: 1.27s\tremaining: 27.6s\n",
      "44:\tlearn: 1657.9999457\ttotal: 1.3s\tremaining: 27.5s\n",
      "45:\tlearn: 1651.4930329\ttotal: 1.32s\tremaining: 27.5s\n",
      "46:\tlearn: 1646.7033061\ttotal: 1.35s\tremaining: 27.4s\n",
      "47:\tlearn: 1643.3082768\ttotal: 1.38s\tremaining: 27.3s\n",
      "48:\tlearn: 1639.7053153\ttotal: 1.41s\tremaining: 27.3s\n",
      "49:\tlearn: 1636.1334608\ttotal: 1.44s\tremaining: 27.3s\n",
      "50:\tlearn: 1633.5390156\ttotal: 1.46s\tremaining: 27.2s\n",
      "51:\tlearn: 1631.2186558\ttotal: 1.49s\tremaining: 27.2s\n",
      "52:\tlearn: 1628.3920832\ttotal: 1.51s\tremaining: 27.1s\n",
      "53:\tlearn: 1624.4622172\ttotal: 1.54s\tremaining: 27.1s\n",
      "54:\tlearn: 1620.6531970\ttotal: 1.57s\tremaining: 27s\n",
      "55:\tlearn: 1617.3737309\ttotal: 1.6s\tremaining: 27s\n",
      "56:\tlearn: 1614.2182165\ttotal: 1.63s\tremaining: 26.9s\n",
      "57:\tlearn: 1611.9114149\ttotal: 1.65s\tremaining: 26.9s\n",
      "58:\tlearn: 1609.6831476\ttotal: 1.68s\tremaining: 26.8s\n",
      "59:\tlearn: 1608.1276800\ttotal: 1.71s\tremaining: 26.8s\n",
      "60:\tlearn: 1605.5486721\ttotal: 1.74s\tremaining: 26.8s\n",
      "61:\tlearn: 1603.2068945\ttotal: 1.76s\tremaining: 26.7s\n",
      "62:\tlearn: 1601.3556140\ttotal: 1.79s\tremaining: 26.7s\n",
      "63:\tlearn: 1599.2142053\ttotal: 1.82s\tremaining: 26.6s\n",
      "64:\tlearn: 1596.6628493\ttotal: 1.85s\tremaining: 26.6s\n",
      "65:\tlearn: 1595.3501183\ttotal: 1.87s\tremaining: 26.5s\n",
      "66:\tlearn: 1593.9785442\ttotal: 1.9s\tremaining: 26.5s\n",
      "67:\tlearn: 1592.8878580\ttotal: 1.93s\tremaining: 26.5s\n",
      "68:\tlearn: 1590.9583136\ttotal: 1.96s\tremaining: 26.4s\n",
      "69:\tlearn: 1589.8197494\ttotal: 1.99s\tremaining: 26.4s\n",
      "70:\tlearn: 1587.9336912\ttotal: 2.02s\tremaining: 26.4s\n",
      "71:\tlearn: 1585.1549633\ttotal: 2.05s\tremaining: 26.4s\n",
      "72:\tlearn: 1583.0373624\ttotal: 2.08s\tremaining: 26.4s\n",
      "73:\tlearn: 1581.8502656\ttotal: 2.1s\tremaining: 26.3s\n",
      "74:\tlearn: 1580.6799602\ttotal: 2.13s\tremaining: 26.3s\n",
      "75:\tlearn: 1578.3201534\ttotal: 2.16s\tremaining: 26.2s\n",
      "76:\tlearn: 1576.9963208\ttotal: 2.18s\tremaining: 26.2s\n",
      "77:\tlearn: 1575.5443326\ttotal: 2.22s\tremaining: 26.2s\n",
      "78:\tlearn: 1574.4067979\ttotal: 2.24s\tremaining: 26.2s\n",
      "79:\tlearn: 1572.5610431\ttotal: 2.27s\tremaining: 26.1s\n",
      "80:\tlearn: 1571.1618126\ttotal: 2.3s\tremaining: 26.1s\n",
      "81:\tlearn: 1570.3064814\ttotal: 2.33s\tremaining: 26.1s\n",
      "82:\tlearn: 1568.4341848\ttotal: 2.36s\tremaining: 26s\n",
      "83:\tlearn: 1567.4916898\ttotal: 2.38s\tremaining: 26s\n",
      "84:\tlearn: 1566.0517040\ttotal: 2.41s\tremaining: 25.9s\n",
      "85:\tlearn: 1564.2214623\ttotal: 2.44s\tremaining: 25.9s\n",
      "86:\tlearn: 1562.1447954\ttotal: 2.47s\tremaining: 25.9s\n",
      "87:\tlearn: 1560.5924536\ttotal: 2.5s\tremaining: 25.9s\n",
      "88:\tlearn: 1558.8443336\ttotal: 2.52s\tremaining: 25.8s\n",
      "89:\tlearn: 1557.9244928\ttotal: 2.55s\tremaining: 25.8s\n",
      "90:\tlearn: 1556.8474002\ttotal: 2.58s\tremaining: 25.7s\n",
      "91:\tlearn: 1555.6347767\ttotal: 2.6s\tremaining: 25.7s\n",
      "92:\tlearn: 1554.9185993\ttotal: 2.63s\tremaining: 25.6s\n",
      "93:\tlearn: 1553.6943949\ttotal: 2.65s\tremaining: 25.6s\n",
      "94:\tlearn: 1552.2346476\ttotal: 2.68s\tremaining: 25.6s\n",
      "95:\tlearn: 1550.5965551\ttotal: 2.71s\tremaining: 25.5s\n",
      "96:\tlearn: 1549.7507464\ttotal: 2.74s\tremaining: 25.5s\n",
      "97:\tlearn: 1548.9087958\ttotal: 2.76s\tremaining: 25.4s\n",
      "98:\tlearn: 1548.3971601\ttotal: 2.79s\tremaining: 25.4s\n",
      "99:\tlearn: 1547.4954414\ttotal: 2.81s\tremaining: 25.3s\n",
      "100:\tlearn: 1546.3473939\ttotal: 2.84s\tremaining: 25.3s\n",
      "101:\tlearn: 1544.4617596\ttotal: 2.87s\tremaining: 25.3s\n",
      "102:\tlearn: 1543.9210676\ttotal: 2.9s\tremaining: 25.3s\n",
      "103:\tlearn: 1543.2108672\ttotal: 2.93s\tremaining: 25.3s\n",
      "104:\tlearn: 1541.6306145\ttotal: 2.96s\tremaining: 25.2s\n",
      "105:\tlearn: 1540.7327819\ttotal: 2.99s\tremaining: 25.2s\n",
      "106:\tlearn: 1539.6598034\ttotal: 3.02s\tremaining: 25.2s\n",
      "107:\tlearn: 1538.3147623\ttotal: 3.04s\tremaining: 25.1s\n",
      "108:\tlearn: 1537.5354247\ttotal: 3.07s\tremaining: 25.1s\n",
      "109:\tlearn: 1536.6251503\ttotal: 3.1s\tremaining: 25.1s\n",
      "110:\tlearn: 1535.8601136\ttotal: 3.13s\tremaining: 25.1s\n",
      "111:\tlearn: 1534.8709173\ttotal: 3.16s\tremaining: 25s\n",
      "112:\tlearn: 1534.1691215\ttotal: 3.18s\tremaining: 25s\n",
      "113:\tlearn: 1533.3992842\ttotal: 3.21s\tremaining: 25s\n",
      "114:\tlearn: 1533.0013948\ttotal: 3.24s\tremaining: 24.9s\n",
      "115:\tlearn: 1532.1212736\ttotal: 3.27s\tremaining: 24.9s\n",
      "116:\tlearn: 1531.0293598\ttotal: 3.3s\tremaining: 24.9s\n",
      "117:\tlearn: 1530.2539855\ttotal: 3.32s\tremaining: 24.8s\n",
      "118:\tlearn: 1529.6230963\ttotal: 3.35s\tremaining: 24.8s\n",
      "119:\tlearn: 1528.8858145\ttotal: 3.38s\tremaining: 24.8s\n",
      "120:\tlearn: 1528.1741316\ttotal: 3.4s\tremaining: 24.7s\n",
      "121:\tlearn: 1526.8503548\ttotal: 3.43s\tremaining: 24.7s\n",
      "122:\tlearn: 1525.9111389\ttotal: 3.46s\tremaining: 24.7s\n",
      "123:\tlearn: 1525.3356342\ttotal: 3.49s\tremaining: 24.7s\n",
      "124:\tlearn: 1524.7550457\ttotal: 3.52s\tremaining: 24.6s\n",
      "125:\tlearn: 1523.8878034\ttotal: 3.55s\tremaining: 24.6s\n",
      "126:\tlearn: 1523.0565726\ttotal: 3.57s\tremaining: 24.6s\n",
      "127:\tlearn: 1522.3848336\ttotal: 3.6s\tremaining: 24.5s\n",
      "128:\tlearn: 1521.6413353\ttotal: 3.63s\tremaining: 24.5s\n",
      "129:\tlearn: 1520.8747204\ttotal: 3.66s\tremaining: 24.5s\n",
      "130:\tlearn: 1520.2478004\ttotal: 3.68s\tremaining: 24.4s\n",
      "131:\tlearn: 1519.7204489\ttotal: 3.71s\tremaining: 24.4s\n",
      "132:\tlearn: 1519.0613369\ttotal: 3.74s\tremaining: 24.4s\n",
      "133:\tlearn: 1517.8512319\ttotal: 3.77s\tremaining: 24.4s\n",
      "134:\tlearn: 1517.1294997\ttotal: 3.8s\tremaining: 24.4s\n",
      "135:\tlearn: 1516.4380131\ttotal: 3.83s\tremaining: 24.3s\n",
      "136:\tlearn: 1515.9983241\ttotal: 3.86s\tremaining: 24.3s\n",
      "137:\tlearn: 1514.9946769\ttotal: 3.89s\tremaining: 24.3s\n",
      "138:\tlearn: 1514.3227158\ttotal: 3.92s\tremaining: 24.3s\n",
      "139:\tlearn: 1513.5885944\ttotal: 3.94s\tremaining: 24.2s\n",
      "140:\tlearn: 1513.1031365\ttotal: 3.97s\tremaining: 24.2s\n",
      "141:\tlearn: 1512.3634888\ttotal: 4s\tremaining: 24.2s\n",
      "142:\tlearn: 1511.5069841\ttotal: 4.03s\tremaining: 24.2s\n",
      "143:\tlearn: 1510.8720813\ttotal: 4.06s\tremaining: 24.1s\n",
      "144:\tlearn: 1510.0036601\ttotal: 4.09s\tremaining: 24.1s\n",
      "145:\tlearn: 1509.3594031\ttotal: 4.11s\tremaining: 24.1s\n",
      "146:\tlearn: 1508.6363315\ttotal: 4.14s\tremaining: 24s\n",
      "147:\tlearn: 1508.0950079\ttotal: 4.16s\tremaining: 24s\n",
      "148:\tlearn: 1507.6081690\ttotal: 4.19s\tremaining: 23.9s\n",
      "149:\tlearn: 1507.1376146\ttotal: 4.22s\tremaining: 23.9s\n",
      "150:\tlearn: 1506.5829609\ttotal: 4.24s\tremaining: 23.9s\n",
      "151:\tlearn: 1505.9723860\ttotal: 4.27s\tremaining: 23.8s\n",
      "152:\tlearn: 1505.4514019\ttotal: 4.3s\tremaining: 23.8s\n",
      "153:\tlearn: 1504.7910763\ttotal: 4.33s\tremaining: 23.8s\n",
      "154:\tlearn: 1504.3573535\ttotal: 4.35s\tremaining: 23.7s\n",
      "155:\tlearn: 1503.7817423\ttotal: 4.38s\tremaining: 23.7s\n",
      "156:\tlearn: 1502.9533445\ttotal: 4.41s\tremaining: 23.7s\n",
      "157:\tlearn: 1502.3795446\ttotal: 4.44s\tremaining: 23.6s\n",
      "158:\tlearn: 1501.8261115\ttotal: 4.47s\tremaining: 23.6s\n",
      "159:\tlearn: 1501.4331217\ttotal: 4.49s\tremaining: 23.6s\n",
      "160:\tlearn: 1500.6271916\ttotal: 4.52s\tremaining: 23.6s\n",
      "161:\tlearn: 1500.1205285\ttotal: 4.55s\tremaining: 23.5s\n",
      "162:\tlearn: 1499.7120510\ttotal: 4.58s\tremaining: 23.5s\n",
      "163:\tlearn: 1499.1650409\ttotal: 4.6s\tremaining: 23.5s\n",
      "164:\tlearn: 1498.7582857\ttotal: 4.63s\tremaining: 23.4s\n",
      "165:\tlearn: 1498.1503643\ttotal: 4.66s\tremaining: 23.4s\n",
      "166:\tlearn: 1497.7473287\ttotal: 4.68s\tremaining: 23.4s\n",
      "167:\tlearn: 1497.3190786\ttotal: 4.71s\tremaining: 23.3s\n",
      "168:\tlearn: 1496.8971070\ttotal: 4.74s\tremaining: 23.3s\n",
      "169:\tlearn: 1496.3006127\ttotal: 4.77s\tremaining: 23.3s\n",
      "170:\tlearn: 1495.8287372\ttotal: 4.8s\tremaining: 23.3s\n",
      "171:\tlearn: 1495.1640109\ttotal: 4.83s\tremaining: 23.2s\n",
      "172:\tlearn: 1494.8479192\ttotal: 4.85s\tremaining: 23.2s\n",
      "173:\tlearn: 1494.4360850\ttotal: 4.88s\tremaining: 23.2s\n",
      "174:\tlearn: 1494.0166921\ttotal: 4.9s\tremaining: 23.1s\n",
      "175:\tlearn: 1493.5432751\ttotal: 4.93s\tremaining: 23.1s\n",
      "176:\tlearn: 1493.2101655\ttotal: 4.96s\tremaining: 23.1s\n",
      "177:\tlearn: 1492.8346911\ttotal: 4.99s\tremaining: 23s\n",
      "178:\tlearn: 1492.5471865\ttotal: 5.02s\tremaining: 23s\n",
      "179:\tlearn: 1491.9195538\ttotal: 5.04s\tremaining: 23s\n",
      "180:\tlearn: 1491.3891950\ttotal: 5.07s\tremaining: 22.9s\n",
      "181:\tlearn: 1491.0276005\ttotal: 5.1s\tremaining: 22.9s\n",
      "182:\tlearn: 1490.5200706\ttotal: 5.13s\tremaining: 22.9s\n",
      "183:\tlearn: 1489.9954593\ttotal: 5.15s\tremaining: 22.8s\n",
      "184:\tlearn: 1489.5839535\ttotal: 5.18s\tremaining: 22.8s\n",
      "185:\tlearn: 1489.0703962\ttotal: 5.2s\tremaining: 22.8s\n",
      "186:\tlearn: 1488.7535900\ttotal: 5.23s\tremaining: 22.7s\n",
      "187:\tlearn: 1488.3182045\ttotal: 5.26s\tremaining: 22.7s\n",
      "188:\tlearn: 1487.9534089\ttotal: 5.28s\tremaining: 22.7s\n",
      "189:\tlearn: 1487.7087324\ttotal: 5.31s\tremaining: 22.6s\n",
      "190:\tlearn: 1487.2979308\ttotal: 5.34s\tremaining: 22.6s\n",
      "191:\tlearn: 1487.0331325\ttotal: 5.37s\tremaining: 22.6s\n",
      "192:\tlearn: 1486.3693693\ttotal: 5.4s\tremaining: 22.6s\n",
      "193:\tlearn: 1485.8644265\ttotal: 5.44s\tremaining: 22.6s\n",
      "194:\tlearn: 1485.3824735\ttotal: 5.48s\tremaining: 22.6s\n",
      "195:\tlearn: 1484.8448371\ttotal: 5.51s\tremaining: 22.6s\n",
      "196:\tlearn: 1484.4245785\ttotal: 5.54s\tremaining: 22.6s\n",
      "197:\tlearn: 1483.7887302\ttotal: 5.57s\tremaining: 22.6s\n",
      "198:\tlearn: 1483.3998055\ttotal: 5.59s\tremaining: 22.5s\n",
      "199:\tlearn: 1482.8704200\ttotal: 5.62s\tremaining: 22.5s\n",
      "200:\tlearn: 1482.6237900\ttotal: 5.65s\tremaining: 22.5s\n",
      "201:\tlearn: 1482.0816318\ttotal: 5.68s\tremaining: 22.4s\n",
      "202:\tlearn: 1481.7660646\ttotal: 5.71s\tremaining: 22.4s\n",
      "203:\tlearn: 1481.4513389\ttotal: 5.73s\tremaining: 22.4s\n",
      "204:\tlearn: 1481.0403814\ttotal: 5.76s\tremaining: 22.3s\n",
      "205:\tlearn: 1480.4841939\ttotal: 5.79s\tremaining: 22.3s\n",
      "206:\tlearn: 1480.1780932\ttotal: 5.81s\tremaining: 22.3s\n",
      "207:\tlearn: 1479.6417623\ttotal: 5.84s\tremaining: 22.2s\n",
      "208:\tlearn: 1479.2822806\ttotal: 5.87s\tremaining: 22.2s\n",
      "209:\tlearn: 1479.0037185\ttotal: 5.89s\tremaining: 22.2s\n",
      "210:\tlearn: 1478.3579455\ttotal: 5.92s\tremaining: 22.1s\n",
      "211:\tlearn: 1477.9743920\ttotal: 5.95s\tremaining: 22.1s\n",
      "212:\tlearn: 1477.3188566\ttotal: 5.98s\tremaining: 22.1s\n",
      "213:\tlearn: 1476.8862360\ttotal: 6.01s\tremaining: 22.1s\n",
      "214:\tlearn: 1476.5876265\ttotal: 6.03s\tremaining: 22s\n",
      "215:\tlearn: 1476.1150885\ttotal: 6.06s\tremaining: 22s\n",
      "216:\tlearn: 1475.7086066\ttotal: 6.09s\tremaining: 22s\n",
      "217:\tlearn: 1475.3416863\ttotal: 6.12s\tremaining: 21.9s\n",
      "218:\tlearn: 1474.8682442\ttotal: 6.15s\tremaining: 21.9s\n",
      "219:\tlearn: 1474.6132621\ttotal: 6.17s\tremaining: 21.9s\n",
      "220:\tlearn: 1474.0915540\ttotal: 6.2s\tremaining: 21.9s\n",
      "221:\tlearn: 1473.8216444\ttotal: 6.23s\tremaining: 21.8s\n",
      "222:\tlearn: 1473.3109418\ttotal: 6.25s\tremaining: 21.8s\n",
      "223:\tlearn: 1472.8735844\ttotal: 6.28s\tremaining: 21.8s\n",
      "224:\tlearn: 1472.4776848\ttotal: 6.3s\tremaining: 21.7s\n",
      "225:\tlearn: 1472.1864590\ttotal: 6.33s\tremaining: 21.7s\n",
      "226:\tlearn: 1471.6598031\ttotal: 6.36s\tremaining: 21.7s\n",
      "227:\tlearn: 1471.2497147\ttotal: 6.39s\tremaining: 21.6s\n",
      "228:\tlearn: 1470.7401070\ttotal: 6.42s\tremaining: 21.6s\n",
      "229:\tlearn: 1470.1627982\ttotal: 6.45s\tremaining: 21.6s\n",
      "230:\tlearn: 1469.7940841\ttotal: 6.48s\tremaining: 21.6s\n",
      "231:\tlearn: 1469.4203028\ttotal: 6.51s\tremaining: 21.5s\n",
      "232:\tlearn: 1469.1713698\ttotal: 6.53s\tremaining: 21.5s\n",
      "233:\tlearn: 1468.8873726\ttotal: 6.56s\tremaining: 21.5s\n",
      "234:\tlearn: 1468.4445197\ttotal: 6.59s\tremaining: 21.4s\n",
      "235:\tlearn: 1468.0438317\ttotal: 6.61s\tremaining: 21.4s\n",
      "236:\tlearn: 1467.8490197\ttotal: 6.64s\tremaining: 21.4s\n",
      "237:\tlearn: 1467.5723447\ttotal: 6.66s\tremaining: 21.3s\n",
      "238:\tlearn: 1467.2137402\ttotal: 6.69s\tremaining: 21.3s\n",
      "239:\tlearn: 1467.0144989\ttotal: 6.72s\tremaining: 21.3s\n",
      "240:\tlearn: 1466.6497698\ttotal: 6.74s\tremaining: 21.2s\n",
      "241:\tlearn: 1466.2755608\ttotal: 6.77s\tremaining: 21.2s\n",
      "242:\tlearn: 1465.9013995\ttotal: 6.8s\tremaining: 21.2s\n",
      "243:\tlearn: 1465.6418044\ttotal: 6.83s\tremaining: 21.1s\n",
      "244:\tlearn: 1465.4418328\ttotal: 6.85s\tremaining: 21.1s\n",
      "245:\tlearn: 1464.7454419\ttotal: 6.88s\tremaining: 21.1s\n",
      "246:\tlearn: 1464.1972853\ttotal: 6.91s\tremaining: 21.1s\n",
      "247:\tlearn: 1463.6562164\ttotal: 6.94s\tremaining: 21s\n",
      "248:\tlearn: 1463.2891444\ttotal: 6.97s\tremaining: 21s\n",
      "249:\tlearn: 1462.9209149\ttotal: 7s\tremaining: 21s\n",
      "250:\tlearn: 1462.6679449\ttotal: 7.03s\tremaining: 21s\n",
      "251:\tlearn: 1462.4510652\ttotal: 7.06s\tremaining: 21s\n",
      "252:\tlearn: 1461.8566502\ttotal: 7.09s\tremaining: 20.9s\n",
      "253:\tlearn: 1461.4612065\ttotal: 7.12s\tremaining: 20.9s\n",
      "254:\tlearn: 1461.1388658\ttotal: 7.15s\tremaining: 20.9s\n",
      "255:\tlearn: 1460.9447418\ttotal: 7.18s\tremaining: 20.9s\n",
      "256:\tlearn: 1460.6700205\ttotal: 7.21s\tremaining: 20.8s\n",
      "257:\tlearn: 1460.3637131\ttotal: 7.24s\tremaining: 20.8s\n",
      "258:\tlearn: 1460.0250806\ttotal: 7.26s\tremaining: 20.8s\n",
      "259:\tlearn: 1459.7247778\ttotal: 7.29s\tremaining: 20.8s\n",
      "260:\tlearn: 1459.4022030\ttotal: 7.32s\tremaining: 20.7s\n",
      "261:\tlearn: 1458.9769249\ttotal: 7.35s\tremaining: 20.7s\n",
      "262:\tlearn: 1458.7355021\ttotal: 7.38s\tremaining: 20.7s\n",
      "263:\tlearn: 1458.3986628\ttotal: 7.41s\tremaining: 20.7s\n",
      "264:\tlearn: 1458.1729550\ttotal: 7.44s\tremaining: 20.6s\n",
      "265:\tlearn: 1457.8884839\ttotal: 7.47s\tremaining: 20.6s\n",
      "266:\tlearn: 1457.5433861\ttotal: 7.49s\tremaining: 20.6s\n",
      "267:\tlearn: 1457.2512087\ttotal: 7.52s\tremaining: 20.5s\n",
      "268:\tlearn: 1456.9776901\ttotal: 7.55s\tremaining: 20.5s\n",
      "269:\tlearn: 1456.5921045\ttotal: 7.58s\tremaining: 20.5s\n",
      "270:\tlearn: 1456.2929344\ttotal: 7.61s\tremaining: 20.5s\n",
      "271:\tlearn: 1455.9700774\ttotal: 7.64s\tremaining: 20.4s\n",
      "272:\tlearn: 1455.7080960\ttotal: 7.67s\tremaining: 20.4s\n",
      "273:\tlearn: 1455.3624971\ttotal: 7.69s\tremaining: 20.4s\n",
      "274:\tlearn: 1454.9100078\ttotal: 7.72s\tremaining: 20.4s\n",
      "275:\tlearn: 1454.5164673\ttotal: 7.75s\tremaining: 20.3s\n",
      "276:\tlearn: 1454.2240130\ttotal: 7.78s\tremaining: 20.3s\n",
      "277:\tlearn: 1454.0045454\ttotal: 7.81s\tremaining: 20.3s\n",
      "278:\tlearn: 1453.7299167\ttotal: 7.84s\tremaining: 20.3s\n",
      "279:\tlearn: 1453.4287789\ttotal: 7.87s\tremaining: 20.2s\n",
      "280:\tlearn: 1453.0887982\ttotal: 7.89s\tremaining: 20.2s\n",
      "281:\tlearn: 1452.8888238\ttotal: 7.92s\tremaining: 20.2s\n",
      "282:\tlearn: 1452.5665627\ttotal: 7.95s\tremaining: 20.1s\n",
      "283:\tlearn: 1452.2839076\ttotal: 7.98s\tremaining: 20.1s\n",
      "284:\tlearn: 1452.0299700\ttotal: 8.01s\tremaining: 20.1s\n",
      "285:\tlearn: 1451.7251945\ttotal: 8.03s\tremaining: 20.1s\n",
      "286:\tlearn: 1451.4127759\ttotal: 8.06s\tremaining: 20s\n",
      "287:\tlearn: 1450.9356433\ttotal: 8.09s\tremaining: 20s\n",
      "288:\tlearn: 1450.5180950\ttotal: 8.12s\tremaining: 20s\n",
      "289:\tlearn: 1450.2486785\ttotal: 8.14s\tremaining: 19.9s\n",
      "290:\tlearn: 1449.9931635\ttotal: 8.17s\tremaining: 19.9s\n",
      "291:\tlearn: 1449.8318044\ttotal: 8.2s\tremaining: 19.9s\n",
      "292:\tlearn: 1449.6177418\ttotal: 8.22s\tremaining: 19.8s\n",
      "293:\tlearn: 1449.3661820\ttotal: 8.25s\tremaining: 19.8s\n",
      "294:\tlearn: 1449.0544654\ttotal: 8.28s\tremaining: 19.8s\n",
      "295:\tlearn: 1448.6982002\ttotal: 8.31s\tremaining: 19.8s\n",
      "296:\tlearn: 1448.4421616\ttotal: 8.33s\tremaining: 19.7s\n",
      "297:\tlearn: 1448.1572386\ttotal: 8.36s\tremaining: 19.7s\n",
      "298:\tlearn: 1447.8645816\ttotal: 8.39s\tremaining: 19.7s\n",
      "299:\tlearn: 1447.5539074\ttotal: 8.42s\tremaining: 19.6s\n",
      "300:\tlearn: 1447.3559731\ttotal: 8.44s\tremaining: 19.6s\n",
      "301:\tlearn: 1447.0004486\ttotal: 8.47s\tremaining: 19.6s\n",
      "302:\tlearn: 1446.7184073\ttotal: 8.5s\tremaining: 19.6s\n",
      "303:\tlearn: 1446.4731156\ttotal: 8.53s\tremaining: 19.5s\n",
      "304:\tlearn: 1446.3632731\ttotal: 8.55s\tremaining: 19.5s\n",
      "305:\tlearn: 1446.0818457\ttotal: 8.58s\tremaining: 19.5s\n",
      "306:\tlearn: 1445.8731747\ttotal: 8.61s\tremaining: 19.4s\n",
      "307:\tlearn: 1445.5829568\ttotal: 8.63s\tremaining: 19.4s\n",
      "308:\tlearn: 1445.2006877\ttotal: 8.66s\tremaining: 19.4s\n",
      "309:\tlearn: 1444.7121517\ttotal: 8.69s\tremaining: 19.3s\n",
      "310:\tlearn: 1444.2695058\ttotal: 8.72s\tremaining: 19.3s\n",
      "311:\tlearn: 1444.0092169\ttotal: 8.75s\tremaining: 19.3s\n",
      "312:\tlearn: 1443.7468078\ttotal: 8.77s\tremaining: 19.3s\n",
      "313:\tlearn: 1443.5227995\ttotal: 8.8s\tremaining: 19.2s\n",
      "314:\tlearn: 1443.2398124\ttotal: 8.83s\tremaining: 19.2s\n",
      "315:\tlearn: 1442.9972754\ttotal: 8.86s\tremaining: 19.2s\n",
      "316:\tlearn: 1442.7772550\ttotal: 8.88s\tremaining: 19.1s\n",
      "317:\tlearn: 1442.6032645\ttotal: 8.91s\tremaining: 19.1s\n",
      "318:\tlearn: 1442.3794931\ttotal: 8.94s\tremaining: 19.1s\n",
      "319:\tlearn: 1442.1143629\ttotal: 8.97s\tremaining: 19.1s\n",
      "320:\tlearn: 1441.8410330\ttotal: 9s\tremaining: 19s\n",
      "321:\tlearn: 1441.6615848\ttotal: 9.03s\tremaining: 19s\n",
      "322:\tlearn: 1441.4876617\ttotal: 9.05s\tremaining: 19s\n",
      "323:\tlearn: 1441.3012289\ttotal: 9.08s\tremaining: 18.9s\n",
      "324:\tlearn: 1441.0786260\ttotal: 9.1s\tremaining: 18.9s\n",
      "325:\tlearn: 1440.8864125\ttotal: 9.13s\tremaining: 18.9s\n",
      "326:\tlearn: 1440.7466162\ttotal: 9.15s\tremaining: 18.8s\n",
      "327:\tlearn: 1440.4743361\ttotal: 9.18s\tremaining: 18.8s\n",
      "328:\tlearn: 1440.2208510\ttotal: 9.21s\tremaining: 18.8s\n",
      "329:\tlearn: 1439.9393155\ttotal: 9.24s\tremaining: 18.8s\n",
      "330:\tlearn: 1439.6180406\ttotal: 9.27s\tremaining: 18.7s\n",
      "331:\tlearn: 1439.3877437\ttotal: 9.29s\tremaining: 18.7s\n",
      "332:\tlearn: 1438.9491456\ttotal: 9.32s\tremaining: 18.7s\n",
      "333:\tlearn: 1438.7935338\ttotal: 9.35s\tremaining: 18.6s\n",
      "334:\tlearn: 1438.5778492\ttotal: 9.37s\tremaining: 18.6s\n",
      "335:\tlearn: 1438.3483072\ttotal: 9.4s\tremaining: 18.6s\n",
      "336:\tlearn: 1438.1966774\ttotal: 9.43s\tremaining: 18.6s\n",
      "337:\tlearn: 1437.9941116\ttotal: 9.46s\tremaining: 18.5s\n",
      "338:\tlearn: 1437.7078141\ttotal: 9.48s\tremaining: 18.5s\n",
      "339:\tlearn: 1437.4726439\ttotal: 9.51s\tremaining: 18.5s\n",
      "340:\tlearn: 1437.1259445\ttotal: 9.54s\tremaining: 18.4s\n",
      "341:\tlearn: 1436.8715146\ttotal: 9.57s\tremaining: 18.4s\n",
      "342:\tlearn: 1436.5715766\ttotal: 9.6s\tremaining: 18.4s\n",
      "343:\tlearn: 1436.2770619\ttotal: 9.63s\tremaining: 18.4s\n",
      "344:\tlearn: 1436.0666777\ttotal: 9.65s\tremaining: 18.3s\n",
      "345:\tlearn: 1435.8492708\ttotal: 9.68s\tremaining: 18.3s\n",
      "346:\tlearn: 1435.5934106\ttotal: 9.7s\tremaining: 18.3s\n",
      "347:\tlearn: 1435.4484810\ttotal: 9.73s\tremaining: 18.2s\n",
      "348:\tlearn: 1435.0101077\ttotal: 9.76s\tremaining: 18.2s\n",
      "349:\tlearn: 1434.8511220\ttotal: 9.79s\tremaining: 18.2s\n",
      "350:\tlearn: 1434.6745327\ttotal: 9.81s\tremaining: 18.1s\n",
      "351:\tlearn: 1434.4398150\ttotal: 9.84s\tremaining: 18.1s\n",
      "352:\tlearn: 1434.2656258\ttotal: 9.87s\tremaining: 18.1s\n",
      "353:\tlearn: 1434.1480373\ttotal: 9.9s\tremaining: 18.1s\n",
      "354:\tlearn: 1433.8585773\ttotal: 9.93s\tremaining: 18s\n",
      "355:\tlearn: 1433.5749828\ttotal: 9.96s\tremaining: 18s\n",
      "356:\tlearn: 1433.4648632\ttotal: 9.98s\tremaining: 18s\n",
      "357:\tlearn: 1433.3657875\ttotal: 10s\tremaining: 18s\n",
      "358:\tlearn: 1433.0495169\ttotal: 10s\tremaining: 17.9s\n",
      "359:\tlearn: 1432.8663107\ttotal: 10.1s\tremaining: 17.9s\n",
      "360:\tlearn: 1432.5773346\ttotal: 10.1s\tremaining: 17.9s\n",
      "361:\tlearn: 1432.4363901\ttotal: 10.1s\tremaining: 17.9s\n",
      "362:\tlearn: 1432.2400483\ttotal: 10.2s\tremaining: 17.8s\n",
      "363:\tlearn: 1432.0199111\ttotal: 10.2s\tremaining: 17.8s\n",
      "364:\tlearn: 1431.8054806\ttotal: 10.2s\tremaining: 17.8s\n",
      "365:\tlearn: 1431.6214760\ttotal: 10.2s\tremaining: 17.7s\n",
      "366:\tlearn: 1431.3091301\ttotal: 10.3s\tremaining: 17.7s\n",
      "367:\tlearn: 1431.1446629\ttotal: 10.3s\tremaining: 17.7s\n",
      "368:\tlearn: 1430.8808779\ttotal: 10.3s\tremaining: 17.7s\n",
      "369:\tlearn: 1430.6575244\ttotal: 10.4s\tremaining: 17.6s\n",
      "370:\tlearn: 1430.4746494\ttotal: 10.4s\tremaining: 17.6s\n",
      "371:\tlearn: 1430.2756447\ttotal: 10.4s\tremaining: 17.6s\n",
      "372:\tlearn: 1429.9144045\ttotal: 10.4s\tremaining: 17.5s\n",
      "373:\tlearn: 1429.7722859\ttotal: 10.5s\tremaining: 17.5s\n",
      "374:\tlearn: 1429.5241476\ttotal: 10.5s\tremaining: 17.5s\n",
      "375:\tlearn: 1429.3932522\ttotal: 10.5s\tremaining: 17.5s\n",
      "376:\tlearn: 1429.0589534\ttotal: 10.5s\tremaining: 17.4s\n",
      "377:\tlearn: 1428.7906762\ttotal: 10.6s\tremaining: 17.4s\n",
      "378:\tlearn: 1428.6794508\ttotal: 10.6s\tremaining: 17.4s\n",
      "379:\tlearn: 1428.4657131\ttotal: 10.6s\tremaining: 17.3s\n",
      "380:\tlearn: 1428.2921755\ttotal: 10.7s\tremaining: 17.3s\n",
      "381:\tlearn: 1428.0930424\ttotal: 10.7s\tremaining: 17.3s\n",
      "382:\tlearn: 1427.8608522\ttotal: 10.7s\tremaining: 17.3s\n",
      "383:\tlearn: 1427.6292951\ttotal: 10.7s\tremaining: 17.2s\n",
      "384:\tlearn: 1427.4302596\ttotal: 10.8s\tremaining: 17.2s\n",
      "385:\tlearn: 1427.2362912\ttotal: 10.8s\tremaining: 17.2s\n",
      "386:\tlearn: 1427.1289214\ttotal: 10.8s\tremaining: 17.2s\n",
      "387:\tlearn: 1426.9236081\ttotal: 10.9s\tremaining: 17.1s\n",
      "388:\tlearn: 1426.6811780\ttotal: 10.9s\tremaining: 17.1s\n",
      "389:\tlearn: 1426.4435139\ttotal: 10.9s\tremaining: 17.1s\n",
      "390:\tlearn: 1426.2284218\ttotal: 10.9s\tremaining: 17s\n",
      "391:\tlearn: 1425.9769506\ttotal: 11s\tremaining: 17s\n",
      "392:\tlearn: 1425.7648890\ttotal: 11s\tremaining: 17s\n",
      "393:\tlearn: 1425.5540226\ttotal: 11s\tremaining: 17s\n",
      "394:\tlearn: 1425.3653463\ttotal: 11.1s\tremaining: 16.9s\n",
      "395:\tlearn: 1425.1502580\ttotal: 11.1s\tremaining: 16.9s\n",
      "396:\tlearn: 1424.8839038\ttotal: 11.1s\tremaining: 16.9s\n",
      "397:\tlearn: 1424.7606593\ttotal: 11.1s\tremaining: 16.9s\n",
      "398:\tlearn: 1424.5756744\ttotal: 11.2s\tremaining: 16.8s\n",
      "399:\tlearn: 1424.3610808\ttotal: 11.2s\tremaining: 16.8s\n",
      "400:\tlearn: 1424.1581830\ttotal: 11.2s\tremaining: 16.8s\n",
      "401:\tlearn: 1423.9635240\ttotal: 11.3s\tremaining: 16.7s\n",
      "402:\tlearn: 1423.7634566\ttotal: 11.3s\tremaining: 16.7s\n",
      "403:\tlearn: 1423.5869256\ttotal: 11.3s\tremaining: 16.7s\n",
      "404:\tlearn: 1423.4334030\ttotal: 11.3s\tremaining: 16.6s\n",
      "405:\tlearn: 1423.2184356\ttotal: 11.4s\tremaining: 16.6s\n",
      "406:\tlearn: 1423.0401212\ttotal: 11.4s\tremaining: 16.6s\n",
      "407:\tlearn: 1422.9394474\ttotal: 11.4s\tremaining: 16.6s\n",
      "408:\tlearn: 1422.8040254\ttotal: 11.4s\tremaining: 16.5s\n",
      "409:\tlearn: 1422.6230076\ttotal: 11.5s\tremaining: 16.5s\n",
      "410:\tlearn: 1422.4549078\ttotal: 11.5s\tremaining: 16.5s\n",
      "411:\tlearn: 1422.2284865\ttotal: 11.5s\tremaining: 16.4s\n",
      "412:\tlearn: 1421.9197967\ttotal: 11.5s\tremaining: 16.4s\n",
      "413:\tlearn: 1421.6739830\ttotal: 11.6s\tremaining: 16.4s\n",
      "414:\tlearn: 1421.4785540\ttotal: 11.6s\tremaining: 16.4s\n",
      "415:\tlearn: 1421.3124045\ttotal: 11.6s\tremaining: 16.3s\n",
      "416:\tlearn: 1421.1000438\ttotal: 11.7s\tremaining: 16.3s\n",
      "417:\tlearn: 1420.9756643\ttotal: 11.7s\tremaining: 16.3s\n",
      "418:\tlearn: 1420.8067063\ttotal: 11.7s\tremaining: 16.2s\n",
      "419:\tlearn: 1420.5726241\ttotal: 11.7s\tremaining: 16.2s\n",
      "420:\tlearn: 1420.3454985\ttotal: 11.8s\tremaining: 16.2s\n",
      "421:\tlearn: 1420.1378762\ttotal: 11.8s\tremaining: 16.1s\n",
      "422:\tlearn: 1420.0086381\ttotal: 11.8s\tremaining: 16.1s\n",
      "423:\tlearn: 1419.8254152\ttotal: 11.8s\tremaining: 16.1s\n",
      "424:\tlearn: 1419.6543629\ttotal: 11.9s\tremaining: 16.1s\n",
      "425:\tlearn: 1419.4805779\ttotal: 11.9s\tremaining: 16s\n",
      "426:\tlearn: 1419.2522353\ttotal: 11.9s\tremaining: 16s\n",
      "427:\tlearn: 1419.1416644\ttotal: 12s\tremaining: 16s\n",
      "428:\tlearn: 1418.9520291\ttotal: 12s\tremaining: 15.9s\n",
      "429:\tlearn: 1418.7966410\ttotal: 12s\tremaining: 15.9s\n",
      "430:\tlearn: 1418.5793467\ttotal: 12s\tremaining: 15.9s\n",
      "431:\tlearn: 1418.4054318\ttotal: 12.1s\tremaining: 15.9s\n",
      "432:\tlearn: 1418.2295763\ttotal: 12.1s\tremaining: 15.8s\n",
      "433:\tlearn: 1417.9724074\ttotal: 12.1s\tremaining: 15.8s\n",
      "434:\tlearn: 1417.8183602\ttotal: 12.1s\tremaining: 15.8s\n",
      "435:\tlearn: 1417.7277155\ttotal: 12.2s\tremaining: 15.7s\n",
      "436:\tlearn: 1417.5695402\ttotal: 12.2s\tremaining: 15.7s\n",
      "437:\tlearn: 1417.3205129\ttotal: 12.2s\tremaining: 15.7s\n",
      "438:\tlearn: 1417.1516536\ttotal: 12.3s\tremaining: 15.7s\n",
      "439:\tlearn: 1417.0472364\ttotal: 12.3s\tremaining: 15.6s\n",
      "440:\tlearn: 1416.8758080\ttotal: 12.3s\tremaining: 15.6s\n",
      "441:\tlearn: 1416.7607118\ttotal: 12.3s\tremaining: 15.6s\n",
      "442:\tlearn: 1416.5954617\ttotal: 12.4s\tremaining: 15.5s\n",
      "443:\tlearn: 1416.4123677\ttotal: 12.4s\tremaining: 15.5s\n",
      "444:\tlearn: 1416.1358648\ttotal: 12.4s\tremaining: 15.5s\n",
      "445:\tlearn: 1415.9804545\ttotal: 12.4s\tremaining: 15.4s\n",
      "446:\tlearn: 1415.7780673\ttotal: 12.5s\tremaining: 15.4s\n",
      "447:\tlearn: 1415.6089075\ttotal: 12.5s\tremaining: 15.4s\n",
      "448:\tlearn: 1415.3661459\ttotal: 12.5s\tremaining: 15.4s\n",
      "449:\tlearn: 1415.2533537\ttotal: 12.5s\tremaining: 15.3s\n",
      "450:\tlearn: 1415.1145024\ttotal: 12.6s\tremaining: 15.3s\n",
      "451:\tlearn: 1414.8251160\ttotal: 12.6s\tremaining: 15.3s\n",
      "452:\tlearn: 1414.6566187\ttotal: 12.6s\tremaining: 15.2s\n",
      "453:\tlearn: 1414.4903606\ttotal: 12.7s\tremaining: 15.2s\n",
      "454:\tlearn: 1414.2073639\ttotal: 12.7s\tremaining: 15.2s\n",
      "455:\tlearn: 1414.0925525\ttotal: 12.7s\tremaining: 15.2s\n",
      "456:\tlearn: 1413.9453575\ttotal: 12.7s\tremaining: 15.1s\n",
      "457:\tlearn: 1413.7685821\ttotal: 12.8s\tremaining: 15.1s\n",
      "458:\tlearn: 1413.6384891\ttotal: 12.8s\tremaining: 15.1s\n",
      "459:\tlearn: 1413.5092195\ttotal: 12.8s\tremaining: 15s\n",
      "460:\tlearn: 1413.3366817\ttotal: 12.8s\tremaining: 15s\n",
      "461:\tlearn: 1413.2024273\ttotal: 12.9s\tremaining: 15s\n",
      "462:\tlearn: 1412.9796186\ttotal: 12.9s\tremaining: 15s\n",
      "463:\tlearn: 1412.7247591\ttotal: 12.9s\tremaining: 14.9s\n",
      "464:\tlearn: 1412.6009239\ttotal: 13s\tremaining: 14.9s\n",
      "465:\tlearn: 1412.4853872\ttotal: 13s\tremaining: 14.9s\n",
      "466:\tlearn: 1412.3648255\ttotal: 13s\tremaining: 14.8s\n",
      "467:\tlearn: 1412.1991709\ttotal: 13s\tremaining: 14.8s\n",
      "468:\tlearn: 1412.0212328\ttotal: 13.1s\tremaining: 14.8s\n",
      "469:\tlearn: 1411.8373393\ttotal: 13.1s\tremaining: 14.8s\n",
      "470:\tlearn: 1411.5744597\ttotal: 13.1s\tremaining: 14.7s\n",
      "471:\tlearn: 1411.4392028\ttotal: 13.1s\tremaining: 14.7s\n",
      "472:\tlearn: 1411.2622867\ttotal: 13.2s\tremaining: 14.7s\n",
      "473:\tlearn: 1411.1498793\ttotal: 13.2s\tremaining: 14.6s\n",
      "474:\tlearn: 1411.0944178\ttotal: 13.2s\tremaining: 14.6s\n",
      "475:\tlearn: 1411.0071109\ttotal: 13.3s\tremaining: 14.6s\n",
      "476:\tlearn: 1410.8610704\ttotal: 13.3s\tremaining: 14.6s\n",
      "477:\tlearn: 1410.6110556\ttotal: 13.3s\tremaining: 14.5s\n",
      "478:\tlearn: 1410.5512339\ttotal: 13.3s\tremaining: 14.5s\n",
      "479:\tlearn: 1410.4189520\ttotal: 13.4s\tremaining: 14.5s\n",
      "480:\tlearn: 1410.1727291\ttotal: 13.4s\tremaining: 14.4s\n",
      "481:\tlearn: 1410.0490289\ttotal: 13.4s\tremaining: 14.4s\n",
      "482:\tlearn: 1409.9093782\ttotal: 13.4s\tremaining: 14.4s\n",
      "483:\tlearn: 1409.7766302\ttotal: 13.5s\tremaining: 14.4s\n",
      "484:\tlearn: 1409.6539723\ttotal: 13.5s\tremaining: 14.3s\n",
      "485:\tlearn: 1409.4311569\ttotal: 13.5s\tremaining: 14.3s\n",
      "486:\tlearn: 1409.2520438\ttotal: 13.6s\tremaining: 14.3s\n",
      "487:\tlearn: 1409.0781228\ttotal: 13.6s\tremaining: 14.2s\n",
      "488:\tlearn: 1408.8275257\ttotal: 13.6s\tremaining: 14.2s\n",
      "489:\tlearn: 1408.6252480\ttotal: 13.6s\tremaining: 14.2s\n",
      "490:\tlearn: 1408.4816580\ttotal: 13.7s\tremaining: 14.2s\n",
      "491:\tlearn: 1408.3588201\ttotal: 13.7s\tremaining: 14.1s\n",
      "492:\tlearn: 1408.2169845\ttotal: 13.7s\tremaining: 14.1s\n",
      "493:\tlearn: 1408.0889848\ttotal: 13.7s\tremaining: 14.1s\n",
      "494:\tlearn: 1407.9340728\ttotal: 13.8s\tremaining: 14.1s\n",
      "495:\tlearn: 1407.8305862\ttotal: 13.8s\tremaining: 14s\n",
      "496:\tlearn: 1407.6642383\ttotal: 13.8s\tremaining: 14s\n",
      "497:\tlearn: 1407.5963823\ttotal: 13.9s\tremaining: 14s\n",
      "498:\tlearn: 1407.4974548\ttotal: 13.9s\tremaining: 13.9s\n",
      "499:\tlearn: 1407.3789920\ttotal: 13.9s\tremaining: 13.9s\n",
      "500:\tlearn: 1407.2140785\ttotal: 13.9s\tremaining: 13.9s\n",
      "501:\tlearn: 1407.0216067\ttotal: 14s\tremaining: 13.9s\n",
      "502:\tlearn: 1406.8737325\ttotal: 14s\tremaining: 13.8s\n",
      "503:\tlearn: 1406.7337337\ttotal: 14s\tremaining: 13.8s\n",
      "504:\tlearn: 1406.6197972\ttotal: 14s\tremaining: 13.8s\n",
      "505:\tlearn: 1406.4748818\ttotal: 14.1s\tremaining: 13.7s\n",
      "506:\tlearn: 1406.2975143\ttotal: 14.1s\tremaining: 13.7s\n",
      "507:\tlearn: 1406.1618732\ttotal: 14.1s\tremaining: 13.7s\n",
      "508:\tlearn: 1406.0551949\ttotal: 14.2s\tremaining: 13.7s\n",
      "509:\tlearn: 1405.8147613\ttotal: 14.2s\tremaining: 13.6s\n",
      "510:\tlearn: 1405.7702360\ttotal: 14.2s\tremaining: 13.6s\n",
      "511:\tlearn: 1405.6092626\ttotal: 14.2s\tremaining: 13.6s\n",
      "512:\tlearn: 1405.4502093\ttotal: 14.3s\tremaining: 13.5s\n",
      "513:\tlearn: 1405.3710489\ttotal: 14.3s\tremaining: 13.5s\n",
      "514:\tlearn: 1405.1975657\ttotal: 14.3s\tremaining: 13.5s\n",
      "515:\tlearn: 1405.0710466\ttotal: 14.3s\tremaining: 13.5s\n",
      "516:\tlearn: 1404.9249007\ttotal: 14.4s\tremaining: 13.4s\n",
      "517:\tlearn: 1404.8801758\ttotal: 14.4s\tremaining: 13.4s\n",
      "518:\tlearn: 1404.7371715\ttotal: 14.4s\tremaining: 13.4s\n",
      "519:\tlearn: 1404.6226190\ttotal: 14.4s\tremaining: 13.3s\n",
      "520:\tlearn: 1404.5017352\ttotal: 14.5s\tremaining: 13.3s\n",
      "521:\tlearn: 1404.3498621\ttotal: 14.5s\tremaining: 13.3s\n",
      "522:\tlearn: 1404.2330705\ttotal: 14.5s\tremaining: 13.3s\n",
      "523:\tlearn: 1404.1617526\ttotal: 14.6s\tremaining: 13.2s\n",
      "524:\tlearn: 1404.0373762\ttotal: 14.6s\tremaining: 13.2s\n",
      "525:\tlearn: 1403.8171634\ttotal: 14.6s\tremaining: 13.2s\n",
      "526:\tlearn: 1403.6350375\ttotal: 14.6s\tremaining: 13.1s\n",
      "527:\tlearn: 1403.5760015\ttotal: 14.7s\tremaining: 13.1s\n",
      "528:\tlearn: 1403.4702498\ttotal: 14.7s\tremaining: 13.1s\n",
      "529:\tlearn: 1403.4212977\ttotal: 14.7s\tremaining: 13.1s\n",
      "530:\tlearn: 1403.2579426\ttotal: 14.8s\tremaining: 13s\n",
      "531:\tlearn: 1403.1025547\ttotal: 14.8s\tremaining: 13s\n",
      "532:\tlearn: 1402.8927920\ttotal: 14.8s\tremaining: 13s\n",
      "533:\tlearn: 1402.7770550\ttotal: 14.8s\tremaining: 12.9s\n",
      "534:\tlearn: 1402.6533488\ttotal: 14.9s\tremaining: 12.9s\n",
      "535:\tlearn: 1402.5107607\ttotal: 14.9s\tremaining: 12.9s\n",
      "536:\tlearn: 1402.3580477\ttotal: 14.9s\tremaining: 12.9s\n",
      "537:\tlearn: 1402.2370337\ttotal: 14.9s\tremaining: 12.8s\n",
      "538:\tlearn: 1402.1033979\ttotal: 15s\tremaining: 12.8s\n",
      "539:\tlearn: 1401.9518231\ttotal: 15s\tremaining: 12.8s\n",
      "540:\tlearn: 1401.7684931\ttotal: 15s\tremaining: 12.8s\n",
      "541:\tlearn: 1401.5160981\ttotal: 15.1s\tremaining: 12.7s\n",
      "542:\tlearn: 1401.3614942\ttotal: 15.1s\tremaining: 12.7s\n",
      "543:\tlearn: 1401.2134220\ttotal: 15.1s\tremaining: 12.7s\n",
      "544:\tlearn: 1401.0353454\ttotal: 15.1s\tremaining: 12.6s\n",
      "545:\tlearn: 1400.9643866\ttotal: 15.2s\tremaining: 12.6s\n",
      "546:\tlearn: 1400.8972803\ttotal: 15.2s\tremaining: 12.6s\n",
      "547:\tlearn: 1400.7797251\ttotal: 15.2s\tremaining: 12.6s\n",
      "548:\tlearn: 1400.4889440\ttotal: 15.3s\tremaining: 12.5s\n",
      "549:\tlearn: 1400.3473661\ttotal: 15.3s\tremaining: 12.5s\n",
      "550:\tlearn: 1400.2100984\ttotal: 15.3s\tremaining: 12.5s\n",
      "551:\tlearn: 1400.1495889\ttotal: 15.3s\tremaining: 12.4s\n",
      "552:\tlearn: 1400.0094827\ttotal: 15.4s\tremaining: 12.4s\n",
      "553:\tlearn: 1399.8624542\ttotal: 15.4s\tremaining: 12.4s\n",
      "554:\tlearn: 1399.6827274\ttotal: 15.4s\tremaining: 12.4s\n",
      "555:\tlearn: 1399.6168111\ttotal: 15.4s\tremaining: 12.3s\n",
      "556:\tlearn: 1399.4559508\ttotal: 15.5s\tremaining: 12.3s\n",
      "557:\tlearn: 1399.3391652\ttotal: 15.5s\tremaining: 12.3s\n",
      "558:\tlearn: 1399.2775820\ttotal: 15.5s\tremaining: 12.2s\n",
      "559:\tlearn: 1398.8096486\ttotal: 15.5s\tremaining: 12.2s\n",
      "560:\tlearn: 1398.6796699\ttotal: 15.6s\tremaining: 12.2s\n",
      "561:\tlearn: 1398.5575371\ttotal: 15.6s\tremaining: 12.2s\n",
      "562:\tlearn: 1398.4801826\ttotal: 15.6s\tremaining: 12.1s\n",
      "563:\tlearn: 1398.2797520\ttotal: 15.7s\tremaining: 12.1s\n",
      "564:\tlearn: 1398.1512668\ttotal: 15.7s\tremaining: 12.1s\n",
      "565:\tlearn: 1397.9328430\ttotal: 15.7s\tremaining: 12.1s\n",
      "566:\tlearn: 1397.7783370\ttotal: 15.7s\tremaining: 12s\n",
      "567:\tlearn: 1397.6366487\ttotal: 15.8s\tremaining: 12s\n",
      "568:\tlearn: 1397.5395282\ttotal: 15.8s\tremaining: 12s\n",
      "569:\tlearn: 1397.4122416\ttotal: 15.8s\tremaining: 11.9s\n",
      "570:\tlearn: 1397.2341647\ttotal: 15.9s\tremaining: 11.9s\n",
      "571:\tlearn: 1397.1885968\ttotal: 15.9s\tremaining: 11.9s\n",
      "572:\tlearn: 1397.0721475\ttotal: 15.9s\tremaining: 11.9s\n",
      "573:\tlearn: 1396.9886590\ttotal: 15.9s\tremaining: 11.8s\n",
      "574:\tlearn: 1396.8655159\ttotal: 16s\tremaining: 11.8s\n",
      "575:\tlearn: 1396.7233432\ttotal: 16s\tremaining: 11.8s\n",
      "576:\tlearn: 1396.6432574\ttotal: 16s\tremaining: 11.7s\n",
      "577:\tlearn: 1396.5404030\ttotal: 16s\tremaining: 11.7s\n",
      "578:\tlearn: 1396.4462317\ttotal: 16.1s\tremaining: 11.7s\n",
      "579:\tlearn: 1396.3226754\ttotal: 16.1s\tremaining: 11.7s\n",
      "580:\tlearn: 1396.2555400\ttotal: 16.1s\tremaining: 11.6s\n",
      "581:\tlearn: 1396.1392081\ttotal: 16.1s\tremaining: 11.6s\n",
      "582:\tlearn: 1396.0420901\ttotal: 16.2s\tremaining: 11.6s\n",
      "583:\tlearn: 1395.9207923\ttotal: 16.2s\tremaining: 11.5s\n",
      "584:\tlearn: 1395.8531320\ttotal: 16.2s\tremaining: 11.5s\n",
      "585:\tlearn: 1395.5872860\ttotal: 16.2s\tremaining: 11.5s\n",
      "586:\tlearn: 1395.4905052\ttotal: 16.3s\tremaining: 11.4s\n",
      "587:\tlearn: 1395.3389125\ttotal: 16.3s\tremaining: 11.4s\n",
      "588:\tlearn: 1395.2851840\ttotal: 16.3s\tremaining: 11.4s\n",
      "589:\tlearn: 1395.1414575\ttotal: 16.3s\tremaining: 11.4s\n",
      "590:\tlearn: 1394.9583633\ttotal: 16.4s\tremaining: 11.3s\n",
      "591:\tlearn: 1394.7967861\ttotal: 16.4s\tremaining: 11.3s\n",
      "592:\tlearn: 1394.6878253\ttotal: 16.4s\tremaining: 11.3s\n",
      "593:\tlearn: 1394.5354979\ttotal: 16.5s\tremaining: 11.2s\n",
      "594:\tlearn: 1394.3152241\ttotal: 16.5s\tremaining: 11.2s\n",
      "595:\tlearn: 1394.2622984\ttotal: 16.5s\tremaining: 11.2s\n",
      "596:\tlearn: 1394.1299955\ttotal: 16.5s\tremaining: 11.2s\n",
      "597:\tlearn: 1394.0038344\ttotal: 16.6s\tremaining: 11.1s\n",
      "598:\tlearn: 1393.8530325\ttotal: 16.6s\tremaining: 11.1s\n",
      "599:\tlearn: 1393.7479192\ttotal: 16.6s\tremaining: 11.1s\n",
      "600:\tlearn: 1393.6622562\ttotal: 16.6s\tremaining: 11s\n",
      "601:\tlearn: 1393.5330606\ttotal: 16.7s\tremaining: 11s\n",
      "602:\tlearn: 1393.4174158\ttotal: 16.7s\tremaining: 11s\n",
      "603:\tlearn: 1393.3069523\ttotal: 16.7s\tremaining: 11s\n",
      "604:\tlearn: 1393.2214103\ttotal: 16.8s\tremaining: 10.9s\n",
      "605:\tlearn: 1393.0970126\ttotal: 16.8s\tremaining: 10.9s\n",
      "606:\tlearn: 1392.9205044\ttotal: 16.8s\tremaining: 10.9s\n",
      "607:\tlearn: 1392.5576374\ttotal: 16.8s\tremaining: 10.9s\n",
      "608:\tlearn: 1392.4846032\ttotal: 16.9s\tremaining: 10.8s\n",
      "609:\tlearn: 1392.3735311\ttotal: 16.9s\tremaining: 10.8s\n",
      "610:\tlearn: 1392.2734254\ttotal: 16.9s\tremaining: 10.8s\n",
      "611:\tlearn: 1392.1622013\ttotal: 16.9s\tremaining: 10.7s\n",
      "612:\tlearn: 1392.0681334\ttotal: 17s\tremaining: 10.7s\n",
      "613:\tlearn: 1391.9431886\ttotal: 17s\tremaining: 10.7s\n",
      "614:\tlearn: 1391.8295895\ttotal: 17s\tremaining: 10.7s\n",
      "615:\tlearn: 1391.8056949\ttotal: 17s\tremaining: 10.6s\n",
      "616:\tlearn: 1391.7080680\ttotal: 17.1s\tremaining: 10.6s\n",
      "617:\tlearn: 1391.5568472\ttotal: 17.1s\tremaining: 10.6s\n",
      "618:\tlearn: 1391.5114867\ttotal: 17.1s\tremaining: 10.5s\n",
      "619:\tlearn: 1391.3492435\ttotal: 17.2s\tremaining: 10.5s\n",
      "620:\tlearn: 1391.0853593\ttotal: 17.2s\tremaining: 10.5s\n",
      "621:\tlearn: 1390.9942248\ttotal: 17.2s\tremaining: 10.5s\n",
      "622:\tlearn: 1390.8928134\ttotal: 17.2s\tremaining: 10.4s\n",
      "623:\tlearn: 1390.7020460\ttotal: 17.3s\tremaining: 10.4s\n",
      "624:\tlearn: 1390.4715201\ttotal: 17.3s\tremaining: 10.4s\n",
      "625:\tlearn: 1390.3870207\ttotal: 17.3s\tremaining: 10.3s\n",
      "626:\tlearn: 1390.2934839\ttotal: 17.3s\tremaining: 10.3s\n",
      "627:\tlearn: 1390.1207071\ttotal: 17.4s\tremaining: 10.3s\n",
      "628:\tlearn: 1390.0448756\ttotal: 17.4s\tremaining: 10.3s\n",
      "629:\tlearn: 1389.8956746\ttotal: 17.4s\tremaining: 10.2s\n",
      "630:\tlearn: 1389.6900147\ttotal: 17.4s\tremaining: 10.2s\n",
      "631:\tlearn: 1389.6356958\ttotal: 17.5s\tremaining: 10.2s\n",
      "632:\tlearn: 1389.4029176\ttotal: 17.5s\tremaining: 10.1s\n",
      "633:\tlearn: 1389.2989419\ttotal: 17.5s\tremaining: 10.1s\n",
      "634:\tlearn: 1389.2671873\ttotal: 17.6s\tremaining: 10.1s\n",
      "635:\tlearn: 1389.1212310\ttotal: 17.6s\tremaining: 10.1s\n",
      "636:\tlearn: 1389.0197209\ttotal: 17.6s\tremaining: 10s\n",
      "637:\tlearn: 1388.9419717\ttotal: 17.6s\tremaining: 10s\n",
      "638:\tlearn: 1388.7655931\ttotal: 17.7s\tremaining: 9.98s\n",
      "639:\tlearn: 1388.6302716\ttotal: 17.7s\tremaining: 9.95s\n",
      "640:\tlearn: 1388.4716884\ttotal: 17.7s\tremaining: 9.92s\n",
      "641:\tlearn: 1388.4031044\ttotal: 17.7s\tremaining: 9.89s\n",
      "642:\tlearn: 1388.2702805\ttotal: 17.8s\tremaining: 9.87s\n",
      "643:\tlearn: 1388.1233547\ttotal: 17.8s\tremaining: 9.84s\n",
      "644:\tlearn: 1388.0432547\ttotal: 17.8s\tremaining: 9.81s\n",
      "645:\tlearn: 1387.9586962\ttotal: 17.9s\tremaining: 9.78s\n",
      "646:\tlearn: 1387.8183945\ttotal: 17.9s\tremaining: 9.76s\n",
      "647:\tlearn: 1387.7442537\ttotal: 17.9s\tremaining: 9.73s\n",
      "648:\tlearn: 1387.6899811\ttotal: 17.9s\tremaining: 9.7s\n",
      "649:\tlearn: 1387.5366304\ttotal: 18s\tremaining: 9.67s\n",
      "650:\tlearn: 1387.4301690\ttotal: 18s\tremaining: 9.64s\n",
      "651:\tlearn: 1387.3188368\ttotal: 18s\tremaining: 9.62s\n",
      "652:\tlearn: 1387.2427468\ttotal: 18s\tremaining: 9.59s\n",
      "653:\tlearn: 1387.1014695\ttotal: 18.1s\tremaining: 9.56s\n",
      "654:\tlearn: 1387.0435759\ttotal: 18.1s\tremaining: 9.53s\n",
      "655:\tlearn: 1386.9084958\ttotal: 18.1s\tremaining: 9.5s\n",
      "656:\tlearn: 1386.8214641\ttotal: 18.1s\tremaining: 9.47s\n",
      "657:\tlearn: 1386.6944244\ttotal: 18.2s\tremaining: 9.45s\n",
      "658:\tlearn: 1386.5849986\ttotal: 18.2s\tremaining: 9.42s\n",
      "659:\tlearn: 1386.5380211\ttotal: 18.2s\tremaining: 9.39s\n",
      "660:\tlearn: 1386.3725163\ttotal: 18.3s\tremaining: 9.36s\n",
      "661:\tlearn: 1386.2493950\ttotal: 18.3s\tremaining: 9.34s\n",
      "662:\tlearn: 1386.1725708\ttotal: 18.3s\tremaining: 9.31s\n",
      "663:\tlearn: 1386.1156448\ttotal: 18.3s\tremaining: 9.28s\n",
      "664:\tlearn: 1386.0527490\ttotal: 18.4s\tremaining: 9.25s\n",
      "665:\tlearn: 1385.9742160\ttotal: 18.4s\tremaining: 9.22s\n",
      "666:\tlearn: 1385.8916092\ttotal: 18.4s\tremaining: 9.2s\n",
      "667:\tlearn: 1385.8146925\ttotal: 18.4s\tremaining: 9.17s\n",
      "668:\tlearn: 1385.7225287\ttotal: 18.5s\tremaining: 9.14s\n",
      "669:\tlearn: 1385.5246552\ttotal: 18.5s\tremaining: 9.11s\n",
      "670:\tlearn: 1385.4334125\ttotal: 18.5s\tremaining: 9.08s\n",
      "671:\tlearn: 1385.3411802\ttotal: 18.6s\tremaining: 9.05s\n",
      "672:\tlearn: 1385.2166182\ttotal: 18.6s\tremaining: 9.03s\n",
      "673:\tlearn: 1385.1358439\ttotal: 18.6s\tremaining: 9s\n",
      "674:\tlearn: 1384.8559372\ttotal: 18.6s\tremaining: 8.97s\n",
      "675:\tlearn: 1384.7594876\ttotal: 18.7s\tremaining: 8.94s\n",
      "676:\tlearn: 1384.6653045\ttotal: 18.7s\tremaining: 8.91s\n",
      "677:\tlearn: 1384.5626446\ttotal: 18.7s\tremaining: 8.88s\n",
      "678:\tlearn: 1384.4681122\ttotal: 18.7s\tremaining: 8.86s\n",
      "679:\tlearn: 1384.3834141\ttotal: 18.8s\tremaining: 8.83s\n",
      "680:\tlearn: 1384.3056836\ttotal: 18.8s\tremaining: 8.8s\n",
      "681:\tlearn: 1384.0988581\ttotal: 18.8s\tremaining: 8.77s\n",
      "682:\tlearn: 1384.0555938\ttotal: 18.8s\tremaining: 8.74s\n",
      "683:\tlearn: 1383.9272500\ttotal: 18.9s\tremaining: 8.72s\n",
      "684:\tlearn: 1383.7733511\ttotal: 18.9s\tremaining: 8.69s\n",
      "685:\tlearn: 1383.7159702\ttotal: 18.9s\tremaining: 8.66s\n",
      "686:\tlearn: 1383.6393640\ttotal: 19s\tremaining: 8.63s\n",
      "687:\tlearn: 1383.5815063\ttotal: 19s\tremaining: 8.61s\n",
      "688:\tlearn: 1383.5224236\ttotal: 19s\tremaining: 8.58s\n",
      "689:\tlearn: 1383.4228562\ttotal: 19s\tremaining: 8.55s\n",
      "690:\tlearn: 1383.2940780\ttotal: 19.1s\tremaining: 8.53s\n",
      "691:\tlearn: 1383.1976226\ttotal: 19.1s\tremaining: 8.5s\n",
      "692:\tlearn: 1383.0221649\ttotal: 19.1s\tremaining: 8.47s\n",
      "693:\tlearn: 1382.9758621\ttotal: 19.1s\tremaining: 8.44s\n",
      "694:\tlearn: 1382.8206354\ttotal: 19.2s\tremaining: 8.41s\n",
      "695:\tlearn: 1382.7202848\ttotal: 19.2s\tremaining: 8.38s\n",
      "696:\tlearn: 1382.6318209\ttotal: 19.2s\tremaining: 8.36s\n",
      "697:\tlearn: 1382.5690341\ttotal: 19.3s\tremaining: 8.33s\n",
      "698:\tlearn: 1382.4974709\ttotal: 19.3s\tremaining: 8.3s\n",
      "699:\tlearn: 1382.4501003\ttotal: 19.3s\tremaining: 8.27s\n",
      "700:\tlearn: 1382.3706526\ttotal: 19.3s\tremaining: 8.24s\n",
      "701:\tlearn: 1382.2604689\ttotal: 19.4s\tremaining: 8.22s\n",
      "702:\tlearn: 1382.2010161\ttotal: 19.4s\tremaining: 8.19s\n",
      "703:\tlearn: 1382.1173962\ttotal: 19.4s\tremaining: 8.16s\n",
      "704:\tlearn: 1382.0324681\ttotal: 19.4s\tremaining: 8.13s\n",
      "705:\tlearn: 1381.9804181\ttotal: 19.5s\tremaining: 8.1s\n",
      "706:\tlearn: 1381.8434953\ttotal: 19.5s\tremaining: 8.07s\n",
      "707:\tlearn: 1381.7437924\ttotal: 19.5s\tremaining: 8.05s\n",
      "708:\tlearn: 1381.6614289\ttotal: 19.5s\tremaining: 8.02s\n",
      "709:\tlearn: 1381.5626191\ttotal: 19.6s\tremaining: 7.99s\n",
      "710:\tlearn: 1381.4829121\ttotal: 19.6s\tremaining: 7.96s\n",
      "711:\tlearn: 1381.4357736\ttotal: 19.6s\tremaining: 7.93s\n",
      "712:\tlearn: 1381.3316081\ttotal: 19.6s\tremaining: 7.91s\n",
      "713:\tlearn: 1381.2689790\ttotal: 19.7s\tremaining: 7.88s\n",
      "714:\tlearn: 1381.1607126\ttotal: 19.7s\tremaining: 7.85s\n",
      "715:\tlearn: 1381.0059326\ttotal: 19.7s\tremaining: 7.82s\n",
      "716:\tlearn: 1380.9373392\ttotal: 19.7s\tremaining: 7.79s\n",
      "717:\tlearn: 1380.8720940\ttotal: 19.8s\tremaining: 7.76s\n",
      "718:\tlearn: 1380.7784394\ttotal: 19.8s\tremaining: 7.74s\n",
      "719:\tlearn: 1380.5746207\ttotal: 19.8s\tremaining: 7.71s\n",
      "720:\tlearn: 1380.4086257\ttotal: 19.9s\tremaining: 7.68s\n",
      "721:\tlearn: 1380.3020267\ttotal: 19.9s\tremaining: 7.65s\n",
      "722:\tlearn: 1380.2199533\ttotal: 19.9s\tremaining: 7.63s\n",
      "723:\tlearn: 1380.1062798\ttotal: 19.9s\tremaining: 7.6s\n",
      "724:\tlearn: 1380.0085466\ttotal: 20s\tremaining: 7.57s\n",
      "725:\tlearn: 1379.9147166\ttotal: 20s\tremaining: 7.54s\n",
      "726:\tlearn: 1379.7943674\ttotal: 20s\tremaining: 7.52s\n",
      "727:\tlearn: 1379.6773157\ttotal: 20s\tremaining: 7.49s\n",
      "728:\tlearn: 1379.5449940\ttotal: 20.1s\tremaining: 7.46s\n",
      "729:\tlearn: 1379.3924785\ttotal: 20.1s\tremaining: 7.43s\n",
      "730:\tlearn: 1379.3030753\ttotal: 20.1s\tremaining: 7.4s\n",
      "731:\tlearn: 1379.2426784\ttotal: 20.1s\tremaining: 7.38s\n",
      "732:\tlearn: 1379.0969744\ttotal: 20.2s\tremaining: 7.35s\n",
      "733:\tlearn: 1378.9920676\ttotal: 20.2s\tremaining: 7.32s\n",
      "734:\tlearn: 1378.9196168\ttotal: 20.2s\tremaining: 7.29s\n",
      "735:\tlearn: 1378.7638162\ttotal: 20.3s\tremaining: 7.26s\n",
      "736:\tlearn: 1378.6089547\ttotal: 20.3s\tremaining: 7.24s\n",
      "737:\tlearn: 1378.5203973\ttotal: 20.3s\tremaining: 7.21s\n",
      "738:\tlearn: 1378.4542223\ttotal: 20.3s\tremaining: 7.18s\n",
      "739:\tlearn: 1378.3221831\ttotal: 20.4s\tremaining: 7.15s\n",
      "740:\tlearn: 1378.2168858\ttotal: 20.4s\tremaining: 7.12s\n",
      "741:\tlearn: 1378.1605353\ttotal: 20.4s\tremaining: 7.09s\n",
      "742:\tlearn: 1378.1069370\ttotal: 20.4s\tremaining: 7.07s\n",
      "743:\tlearn: 1378.0151015\ttotal: 20.5s\tremaining: 7.04s\n",
      "744:\tlearn: 1377.9115034\ttotal: 20.5s\tremaining: 7.01s\n",
      "745:\tlearn: 1377.8646920\ttotal: 20.5s\tremaining: 6.98s\n",
      "746:\tlearn: 1377.8027801\ttotal: 20.5s\tremaining: 6.96s\n",
      "747:\tlearn: 1377.7617394\ttotal: 20.6s\tremaining: 6.93s\n",
      "748:\tlearn: 1377.7162886\ttotal: 20.6s\tremaining: 6.9s\n",
      "749:\tlearn: 1377.5389548\ttotal: 20.6s\tremaining: 6.87s\n",
      "750:\tlearn: 1377.4656232\ttotal: 20.6s\tremaining: 6.84s\n",
      "751:\tlearn: 1377.3387778\ttotal: 20.7s\tremaining: 6.82s\n",
      "752:\tlearn: 1377.2105369\ttotal: 20.7s\tremaining: 6.79s\n",
      "753:\tlearn: 1377.1412790\ttotal: 20.7s\tremaining: 6.76s\n",
      "754:\tlearn: 1377.0077534\ttotal: 20.8s\tremaining: 6.73s\n",
      "755:\tlearn: 1376.9664109\ttotal: 20.8s\tremaining: 6.71s\n",
      "756:\tlearn: 1376.8675165\ttotal: 20.8s\tremaining: 6.68s\n",
      "757:\tlearn: 1376.8206997\ttotal: 20.8s\tremaining: 6.65s\n",
      "758:\tlearn: 1376.7679702\ttotal: 20.9s\tremaining: 6.62s\n",
      "759:\tlearn: 1376.6057396\ttotal: 20.9s\tremaining: 6.59s\n",
      "760:\tlearn: 1376.5061127\ttotal: 20.9s\tremaining: 6.57s\n",
      "761:\tlearn: 1376.4439228\ttotal: 20.9s\tremaining: 6.54s\n",
      "762:\tlearn: 1376.3755649\ttotal: 21s\tremaining: 6.51s\n",
      "763:\tlearn: 1376.3103700\ttotal: 21s\tremaining: 6.48s\n",
      "764:\tlearn: 1376.2411740\ttotal: 21s\tremaining: 6.46s\n",
      "765:\tlearn: 1376.1357040\ttotal: 21s\tremaining: 6.43s\n",
      "766:\tlearn: 1376.0411551\ttotal: 21.1s\tremaining: 6.4s\n",
      "767:\tlearn: 1375.9793332\ttotal: 21.1s\tremaining: 6.37s\n",
      "768:\tlearn: 1375.9170384\ttotal: 21.1s\tremaining: 6.34s\n",
      "769:\tlearn: 1375.8468045\ttotal: 21.1s\tremaining: 6.32s\n",
      "770:\tlearn: 1375.7621864\ttotal: 21.2s\tremaining: 6.29s\n",
      "771:\tlearn: 1375.6574661\ttotal: 21.2s\tremaining: 6.26s\n",
      "772:\tlearn: 1375.5480872\ttotal: 21.2s\tremaining: 6.23s\n",
      "773:\tlearn: 1375.4353604\ttotal: 21.3s\tremaining: 6.21s\n",
      "774:\tlearn: 1375.3427392\ttotal: 21.3s\tremaining: 6.18s\n",
      "775:\tlearn: 1375.2097820\ttotal: 21.3s\tremaining: 6.15s\n",
      "776:\tlearn: 1375.1260718\ttotal: 21.3s\tremaining: 6.12s\n",
      "777:\tlearn: 1375.0498822\ttotal: 21.4s\tremaining: 6.09s\n",
      "778:\tlearn: 1374.9621693\ttotal: 21.4s\tremaining: 6.07s\n",
      "779:\tlearn: 1374.9016535\ttotal: 21.4s\tremaining: 6.04s\n",
      "780:\tlearn: 1374.7812549\ttotal: 21.4s\tremaining: 6.01s\n",
      "781:\tlearn: 1374.6804709\ttotal: 21.5s\tremaining: 5.98s\n",
      "782:\tlearn: 1374.6061314\ttotal: 21.5s\tremaining: 5.96s\n",
      "783:\tlearn: 1374.3017708\ttotal: 21.5s\tremaining: 5.93s\n",
      "784:\tlearn: 1374.2376197\ttotal: 21.6s\tremaining: 5.9s\n",
      "785:\tlearn: 1374.2080651\ttotal: 21.6s\tremaining: 5.87s\n",
      "786:\tlearn: 1374.1325606\ttotal: 21.6s\tremaining: 5.84s\n",
      "787:\tlearn: 1374.0408392\ttotal: 21.6s\tremaining: 5.82s\n",
      "788:\tlearn: 1373.9662561\ttotal: 21.7s\tremaining: 5.79s\n",
      "789:\tlearn: 1373.8910639\ttotal: 21.7s\tremaining: 5.77s\n",
      "790:\tlearn: 1373.8290037\ttotal: 21.7s\tremaining: 5.74s\n",
      "791:\tlearn: 1373.7166353\ttotal: 21.7s\tremaining: 5.71s\n",
      "792:\tlearn: 1373.5592113\ttotal: 21.8s\tremaining: 5.68s\n",
      "793:\tlearn: 1373.4562232\ttotal: 21.8s\tremaining: 5.66s\n",
      "794:\tlearn: 1373.3670217\ttotal: 21.8s\tremaining: 5.63s\n",
      "795:\tlearn: 1373.2892555\ttotal: 21.9s\tremaining: 5.6s\n",
      "796:\tlearn: 1373.1561882\ttotal: 21.9s\tremaining: 5.57s\n",
      "797:\tlearn: 1373.0427047\ttotal: 21.9s\tremaining: 5.55s\n",
      "798:\tlearn: 1372.9625914\ttotal: 21.9s\tremaining: 5.52s\n",
      "799:\tlearn: 1372.9172809\ttotal: 22s\tremaining: 5.49s\n",
      "800:\tlearn: 1372.8538719\ttotal: 22s\tremaining: 5.46s\n",
      "801:\tlearn: 1372.7213194\ttotal: 22s\tremaining: 5.43s\n",
      "802:\tlearn: 1372.6967545\ttotal: 22s\tremaining: 5.41s\n",
      "803:\tlearn: 1372.6341622\ttotal: 22.1s\tremaining: 5.38s\n",
      "804:\tlearn: 1372.5356494\ttotal: 22.1s\tremaining: 5.35s\n",
      "805:\tlearn: 1372.4369964\ttotal: 22.1s\tremaining: 5.32s\n",
      "806:\tlearn: 1372.3110755\ttotal: 22.1s\tremaining: 5.3s\n",
      "807:\tlearn: 1372.2456360\ttotal: 22.2s\tremaining: 5.27s\n",
      "808:\tlearn: 1372.1466382\ttotal: 22.2s\tremaining: 5.24s\n",
      "809:\tlearn: 1372.0619770\ttotal: 22.2s\tremaining: 5.21s\n",
      "810:\tlearn: 1371.9966052\ttotal: 22.2s\tremaining: 5.18s\n",
      "811:\tlearn: 1371.9281714\ttotal: 22.3s\tremaining: 5.16s\n",
      "812:\tlearn: 1371.8919188\ttotal: 22.3s\tremaining: 5.13s\n",
      "813:\tlearn: 1371.8356059\ttotal: 22.3s\tremaining: 5.1s\n",
      "814:\tlearn: 1371.7904686\ttotal: 22.4s\tremaining: 5.07s\n",
      "815:\tlearn: 1371.7234149\ttotal: 22.4s\tremaining: 5.04s\n",
      "816:\tlearn: 1371.6242696\ttotal: 22.4s\tremaining: 5.02s\n",
      "817:\tlearn: 1371.5417155\ttotal: 22.4s\tremaining: 4.99s\n",
      "818:\tlearn: 1371.4368597\ttotal: 22.5s\tremaining: 4.96s\n",
      "819:\tlearn: 1371.3787211\ttotal: 22.5s\tremaining: 4.93s\n",
      "820:\tlearn: 1371.3422624\ttotal: 22.5s\tremaining: 4.91s\n",
      "821:\tlearn: 1371.2332356\ttotal: 22.5s\tremaining: 4.88s\n",
      "822:\tlearn: 1371.1449713\ttotal: 22.6s\tremaining: 4.85s\n",
      "823:\tlearn: 1371.0796120\ttotal: 22.6s\tremaining: 4.83s\n",
      "824:\tlearn: 1370.9993977\ttotal: 22.6s\tremaining: 4.8s\n",
      "825:\tlearn: 1370.8982043\ttotal: 22.7s\tremaining: 4.77s\n",
      "826:\tlearn: 1370.7886784\ttotal: 22.7s\tremaining: 4.75s\n",
      "827:\tlearn: 1370.7481459\ttotal: 22.7s\tremaining: 4.72s\n",
      "828:\tlearn: 1370.6509024\ttotal: 22.7s\tremaining: 4.69s\n",
      "829:\tlearn: 1370.5727779\ttotal: 22.8s\tremaining: 4.66s\n",
      "830:\tlearn: 1370.4338687\ttotal: 22.8s\tremaining: 4.63s\n",
      "831:\tlearn: 1370.3857712\ttotal: 22.8s\tremaining: 4.61s\n",
      "832:\tlearn: 1370.3082671\ttotal: 22.9s\tremaining: 4.58s\n",
      "833:\tlearn: 1370.2608502\ttotal: 22.9s\tremaining: 4.55s\n",
      "834:\tlearn: 1370.1717867\ttotal: 22.9s\tremaining: 4.53s\n",
      "835:\tlearn: 1370.0864287\ttotal: 22.9s\tremaining: 4.5s\n",
      "836:\tlearn: 1369.9558108\ttotal: 23s\tremaining: 4.47s\n",
      "837:\tlearn: 1369.7295442\ttotal: 23s\tremaining: 4.44s\n",
      "838:\tlearn: 1369.6836455\ttotal: 23s\tremaining: 4.42s\n",
      "839:\tlearn: 1369.6101220\ttotal: 23s\tremaining: 4.39s\n",
      "840:\tlearn: 1369.5503603\ttotal: 23.1s\tremaining: 4.36s\n",
      "841:\tlearn: 1369.4785543\ttotal: 23.1s\tremaining: 4.33s\n",
      "842:\tlearn: 1369.4087786\ttotal: 23.1s\tremaining: 4.31s\n",
      "843:\tlearn: 1369.3203350\ttotal: 23.2s\tremaining: 4.28s\n",
      "844:\tlearn: 1369.2325306\ttotal: 23.2s\tremaining: 4.25s\n",
      "845:\tlearn: 1369.1401512\ttotal: 23.2s\tremaining: 4.23s\n",
      "846:\tlearn: 1369.0800363\ttotal: 23.2s\tremaining: 4.2s\n",
      "847:\tlearn: 1369.0016708\ttotal: 23.3s\tremaining: 4.17s\n",
      "848:\tlearn: 1368.8409069\ttotal: 23.3s\tremaining: 4.14s\n",
      "849:\tlearn: 1368.7846601\ttotal: 23.3s\tremaining: 4.12s\n",
      "850:\tlearn: 1368.7474247\ttotal: 23.4s\tremaining: 4.09s\n",
      "851:\tlearn: 1368.6363317\ttotal: 23.4s\tremaining: 4.06s\n",
      "852:\tlearn: 1368.5798514\ttotal: 23.4s\tremaining: 4.04s\n",
      "853:\tlearn: 1368.4547851\ttotal: 23.5s\tremaining: 4.01s\n",
      "854:\tlearn: 1368.3589929\ttotal: 23.5s\tremaining: 3.98s\n",
      "855:\tlearn: 1368.2972527\ttotal: 23.5s\tremaining: 3.96s\n",
      "856:\tlearn: 1368.2405047\ttotal: 23.5s\tremaining: 3.93s\n",
      "857:\tlearn: 1368.1706560\ttotal: 23.6s\tremaining: 3.9s\n",
      "858:\tlearn: 1368.0693984\ttotal: 23.6s\tremaining: 3.87s\n",
      "859:\tlearn: 1367.9824095\ttotal: 23.6s\tremaining: 3.85s\n",
      "860:\tlearn: 1367.7891401\ttotal: 23.7s\tremaining: 3.82s\n",
      "861:\tlearn: 1367.7116847\ttotal: 23.7s\tremaining: 3.79s\n",
      "862:\tlearn: 1367.6544804\ttotal: 23.7s\tremaining: 3.77s\n",
      "863:\tlearn: 1367.6234854\ttotal: 23.8s\tremaining: 3.74s\n",
      "864:\tlearn: 1367.5011174\ttotal: 23.8s\tremaining: 3.71s\n",
      "865:\tlearn: 1367.3861904\ttotal: 23.8s\tremaining: 3.69s\n",
      "866:\tlearn: 1367.2395370\ttotal: 23.8s\tremaining: 3.66s\n",
      "867:\tlearn: 1367.0834105\ttotal: 23.9s\tremaining: 3.63s\n",
      "868:\tlearn: 1366.9691373\ttotal: 23.9s\tremaining: 3.6s\n",
      "869:\tlearn: 1366.8445659\ttotal: 23.9s\tremaining: 3.58s\n",
      "870:\tlearn: 1366.7287309\ttotal: 24s\tremaining: 3.55s\n",
      "871:\tlearn: 1366.6641098\ttotal: 24s\tremaining: 3.52s\n",
      "872:\tlearn: 1366.4955744\ttotal: 24s\tremaining: 3.5s\n",
      "873:\tlearn: 1366.4323843\ttotal: 24.1s\tremaining: 3.47s\n",
      "874:\tlearn: 1366.3793659\ttotal: 24.1s\tremaining: 3.44s\n",
      "875:\tlearn: 1366.2903468\ttotal: 24.1s\tremaining: 3.41s\n",
      "876:\tlearn: 1366.2158585\ttotal: 24.1s\tremaining: 3.39s\n",
      "877:\tlearn: 1366.1232027\ttotal: 24.2s\tremaining: 3.36s\n",
      "878:\tlearn: 1366.0260919\ttotal: 24.2s\tremaining: 3.33s\n",
      "879:\tlearn: 1365.9555155\ttotal: 24.2s\tremaining: 3.3s\n",
      "880:\tlearn: 1365.8891279\ttotal: 24.3s\tremaining: 3.28s\n",
      "881:\tlearn: 1365.8367631\ttotal: 24.3s\tremaining: 3.25s\n",
      "882:\tlearn: 1365.7511798\ttotal: 24.3s\tremaining: 3.22s\n",
      "883:\tlearn: 1365.6372252\ttotal: 24.4s\tremaining: 3.19s\n",
      "884:\tlearn: 1365.5633730\ttotal: 24.4s\tremaining: 3.17s\n",
      "885:\tlearn: 1365.4557733\ttotal: 24.4s\tremaining: 3.14s\n",
      "886:\tlearn: 1365.4115629\ttotal: 24.4s\tremaining: 3.11s\n",
      "887:\tlearn: 1365.3084757\ttotal: 24.5s\tremaining: 3.09s\n",
      "888:\tlearn: 1365.1998644\ttotal: 24.5s\tremaining: 3.06s\n",
      "889:\tlearn: 1365.1708866\ttotal: 24.5s\tremaining: 3.03s\n",
      "890:\tlearn: 1365.0571838\ttotal: 24.6s\tremaining: 3s\n",
      "891:\tlearn: 1364.8442168\ttotal: 24.6s\tremaining: 2.98s\n",
      "892:\tlearn: 1364.7734624\ttotal: 24.6s\tremaining: 2.95s\n",
      "893:\tlearn: 1364.6615508\ttotal: 24.6s\tremaining: 2.92s\n",
      "894:\tlearn: 1364.6149678\ttotal: 24.7s\tremaining: 2.89s\n",
      "895:\tlearn: 1364.5329587\ttotal: 24.7s\tremaining: 2.87s\n",
      "896:\tlearn: 1364.4301459\ttotal: 24.7s\tremaining: 2.84s\n",
      "897:\tlearn: 1364.3645860\ttotal: 24.8s\tremaining: 2.81s\n",
      "898:\tlearn: 1364.3204510\ttotal: 24.8s\tremaining: 2.78s\n",
      "899:\tlearn: 1364.2546209\ttotal: 24.8s\tremaining: 2.76s\n",
      "900:\tlearn: 1364.1602576\ttotal: 24.8s\tremaining: 2.73s\n",
      "901:\tlearn: 1364.0950490\ttotal: 24.9s\tremaining: 2.7s\n",
      "902:\tlearn: 1363.9791669\ttotal: 24.9s\tremaining: 2.67s\n",
      "903:\tlearn: 1363.9066850\ttotal: 24.9s\tremaining: 2.65s\n",
      "904:\tlearn: 1363.7817509\ttotal: 25s\tremaining: 2.62s\n",
      "905:\tlearn: 1363.6742577\ttotal: 25s\tremaining: 2.59s\n",
      "906:\tlearn: 1363.6359020\ttotal: 25s\tremaining: 2.56s\n",
      "907:\tlearn: 1363.5454793\ttotal: 25.1s\tremaining: 2.54s\n",
      "908:\tlearn: 1363.4500701\ttotal: 25.1s\tremaining: 2.51s\n",
      "909:\tlearn: 1363.3933612\ttotal: 25.1s\tremaining: 2.48s\n",
      "910:\tlearn: 1363.3552323\ttotal: 25.1s\tremaining: 2.46s\n",
      "911:\tlearn: 1363.2100835\ttotal: 25.2s\tremaining: 2.43s\n",
      "912:\tlearn: 1363.1384251\ttotal: 25.2s\tremaining: 2.4s\n",
      "913:\tlearn: 1363.0344913\ttotal: 25.2s\tremaining: 2.37s\n",
      "914:\tlearn: 1362.8959453\ttotal: 25.2s\tremaining: 2.35s\n",
      "915:\tlearn: 1362.7792223\ttotal: 25.3s\tremaining: 2.32s\n",
      "916:\tlearn: 1362.7184997\ttotal: 25.3s\tremaining: 2.29s\n",
      "917:\tlearn: 1362.6565643\ttotal: 25.3s\tremaining: 2.26s\n",
      "918:\tlearn: 1362.6144938\ttotal: 25.4s\tremaining: 2.23s\n",
      "919:\tlearn: 1362.5480827\ttotal: 25.4s\tremaining: 2.21s\n",
      "920:\tlearn: 1362.4992256\ttotal: 25.4s\tremaining: 2.18s\n",
      "921:\tlearn: 1362.4384421\ttotal: 25.5s\tremaining: 2.15s\n",
      "922:\tlearn: 1362.3520304\ttotal: 25.5s\tremaining: 2.13s\n",
      "923:\tlearn: 1362.2978180\ttotal: 25.5s\tremaining: 2.1s\n",
      "924:\tlearn: 1362.2319503\ttotal: 25.5s\tremaining: 2.07s\n",
      "925:\tlearn: 1362.1578617\ttotal: 25.6s\tremaining: 2.04s\n",
      "926:\tlearn: 1362.1309146\ttotal: 25.6s\tremaining: 2.02s\n",
      "927:\tlearn: 1362.0544941\ttotal: 25.6s\tremaining: 1.99s\n",
      "928:\tlearn: 1361.9522079\ttotal: 25.6s\tremaining: 1.96s\n",
      "929:\tlearn: 1361.8995477\ttotal: 25.7s\tremaining: 1.93s\n",
      "930:\tlearn: 1361.7900071\ttotal: 25.7s\tremaining: 1.9s\n",
      "931:\tlearn: 1361.7123757\ttotal: 25.7s\tremaining: 1.88s\n",
      "932:\tlearn: 1361.6728303\ttotal: 25.8s\tremaining: 1.85s\n",
      "933:\tlearn: 1361.5974835\ttotal: 25.8s\tremaining: 1.82s\n",
      "934:\tlearn: 1361.5468776\ttotal: 25.8s\tremaining: 1.79s\n",
      "935:\tlearn: 1361.4558595\ttotal: 25.8s\tremaining: 1.77s\n",
      "936:\tlearn: 1361.3224878\ttotal: 25.9s\tremaining: 1.74s\n",
      "937:\tlearn: 1361.2678913\ttotal: 25.9s\tremaining: 1.71s\n",
      "938:\tlearn: 1361.1926323\ttotal: 25.9s\tremaining: 1.68s\n",
      "939:\tlearn: 1361.1461193\ttotal: 26s\tremaining: 1.66s\n",
      "940:\tlearn: 1360.9750544\ttotal: 26s\tremaining: 1.63s\n",
      "941:\tlearn: 1360.8887882\ttotal: 26s\tremaining: 1.6s\n",
      "942:\tlearn: 1360.8238357\ttotal: 26s\tremaining: 1.57s\n",
      "943:\tlearn: 1360.7711149\ttotal: 26.1s\tremaining: 1.55s\n",
      "944:\tlearn: 1360.7230983\ttotal: 26.1s\tremaining: 1.52s\n",
      "945:\tlearn: 1360.6002695\ttotal: 26.1s\tremaining: 1.49s\n",
      "946:\tlearn: 1360.5049782\ttotal: 26.2s\tremaining: 1.46s\n",
      "947:\tlearn: 1360.4699542\ttotal: 26.2s\tremaining: 1.44s\n",
      "948:\tlearn: 1360.4208992\ttotal: 26.2s\tremaining: 1.41s\n",
      "949:\tlearn: 1360.3952141\ttotal: 26.2s\tremaining: 1.38s\n",
      "950:\tlearn: 1360.3129175\ttotal: 26.3s\tremaining: 1.35s\n",
      "951:\tlearn: 1360.2636904\ttotal: 26.3s\tremaining: 1.32s\n",
      "952:\tlearn: 1360.1465536\ttotal: 26.3s\tremaining: 1.3s\n",
      "953:\tlearn: 1360.0933941\ttotal: 26.4s\tremaining: 1.27s\n",
      "954:\tlearn: 1360.0127990\ttotal: 26.4s\tremaining: 1.24s\n",
      "955:\tlearn: 1359.9369874\ttotal: 26.4s\tremaining: 1.22s\n",
      "956:\tlearn: 1359.8681979\ttotal: 26.4s\tremaining: 1.19s\n",
      "957:\tlearn: 1359.7763238\ttotal: 26.5s\tremaining: 1.16s\n",
      "958:\tlearn: 1359.7261371\ttotal: 26.5s\tremaining: 1.13s\n",
      "959:\tlearn: 1359.6910953\ttotal: 26.5s\tremaining: 1.1s\n",
      "960:\tlearn: 1359.6467615\ttotal: 26.6s\tremaining: 1.08s\n",
      "961:\tlearn: 1359.5908317\ttotal: 26.6s\tremaining: 1.05s\n",
      "962:\tlearn: 1359.5553808\ttotal: 26.6s\tremaining: 1.02s\n",
      "963:\tlearn: 1359.4742521\ttotal: 26.6s\tremaining: 995ms\n",
      "964:\tlearn: 1359.4444134\ttotal: 26.7s\tremaining: 967ms\n",
      "965:\tlearn: 1359.3974193\ttotal: 26.7s\tremaining: 940ms\n",
      "966:\tlearn: 1359.3378726\ttotal: 26.7s\tremaining: 912ms\n",
      "967:\tlearn: 1359.2855582\ttotal: 26.7s\tremaining: 884ms\n",
      "968:\tlearn: 1359.2039395\ttotal: 26.8s\tremaining: 857ms\n",
      "969:\tlearn: 1359.1079847\ttotal: 26.8s\tremaining: 829ms\n",
      "970:\tlearn: 1359.0522655\ttotal: 26.8s\tremaining: 801ms\n",
      "971:\tlearn: 1359.0084984\ttotal: 26.9s\tremaining: 774ms\n",
      "972:\tlearn: 1358.8925351\ttotal: 26.9s\tremaining: 746ms\n",
      "973:\tlearn: 1358.8435556\ttotal: 26.9s\tremaining: 719ms\n",
      "974:\tlearn: 1358.7252589\ttotal: 26.9s\tremaining: 691ms\n",
      "975:\tlearn: 1358.6749364\ttotal: 27s\tremaining: 663ms\n",
      "976:\tlearn: 1358.6004347\ttotal: 27s\tremaining: 636ms\n",
      "977:\tlearn: 1358.5016006\ttotal: 27s\tremaining: 608ms\n",
      "978:\tlearn: 1358.4595598\ttotal: 27.1s\tremaining: 581ms\n",
      "979:\tlearn: 1358.3803815\ttotal: 27.1s\tremaining: 553ms\n",
      "980:\tlearn: 1358.3255878\ttotal: 27.1s\tremaining: 525ms\n",
      "981:\tlearn: 1358.2480649\ttotal: 27.1s\tremaining: 498ms\n",
      "982:\tlearn: 1358.1551138\ttotal: 27.2s\tremaining: 470ms\n",
      "983:\tlearn: 1358.0642806\ttotal: 27.2s\tremaining: 442ms\n",
      "984:\tlearn: 1357.9849642\ttotal: 27.2s\tremaining: 415ms\n",
      "985:\tlearn: 1357.9420340\ttotal: 27.3s\tremaining: 387ms\n",
      "986:\tlearn: 1357.8823390\ttotal: 27.3s\tremaining: 359ms\n",
      "987:\tlearn: 1357.8295109\ttotal: 27.3s\tremaining: 332ms\n",
      "988:\tlearn: 1357.7858242\ttotal: 27.3s\tremaining: 304ms\n",
      "989:\tlearn: 1357.7122341\ttotal: 27.4s\tremaining: 276ms\n",
      "990:\tlearn: 1357.6468621\ttotal: 27.4s\tremaining: 249ms\n",
      "991:\tlearn: 1357.5893148\ttotal: 27.4s\tremaining: 221ms\n",
      "992:\tlearn: 1357.5280137\ttotal: 27.4s\tremaining: 194ms\n",
      "993:\tlearn: 1357.3820241\ttotal: 27.5s\tremaining: 166ms\n",
      "994:\tlearn: 1357.2688875\ttotal: 27.5s\tremaining: 138ms\n",
      "995:\tlearn: 1357.1821294\ttotal: 27.5s\tremaining: 111ms\n",
      "996:\tlearn: 1357.1241473\ttotal: 27.6s\tremaining: 82.9ms\n",
      "997:\tlearn: 1357.0490546\ttotal: 27.6s\tremaining: 55.3ms\n",
      "998:\tlearn: 1356.9986030\ttotal: 27.6s\tremaining: 27.6ms\n",
      "999:\tlearn: 1356.9261724\ttotal: 27.7s\tremaining: 0us\n",
      "Время на обучение: 29.794214487075806 секунд.\n",
      "Время на предсказания: 0.07401466369628906 секунд.\n",
      "RMSE: 1406.9686494330208\n",
      "CPU times: user 28.5 s, sys: 251 ms, total: 28.7 s\n",
      "Wall time: 29.9 s\n"
     ]
    }
   ],
   "source": [
    "%%time\n",
    "print ('Без гиперпараметров:')\n",
    "value.append(time_rmse(cat, train_features, train_target, test_valid_features, test_valid_target))"
   ]
  },
  {
   "cell_type": "code",
   "execution_count": 72,
   "metadata": {},
   "outputs": [
    {
     "name": "stdout",
     "output_type": "stream",
     "text": [
      "C гиперпараметрами:\n",
      "Лучшие параметры модели с кросс-валидацией: {'depth': 10, 'n_estimators': 100, 'verbose': 0}\n",
      "Время на обучение: 5.944325923919678 секунд.\n",
      "Время на предсказания: 0.05589580535888672 секунд.\n",
      "RMSE: 1400.024238900562\n",
      "CPU times: user 26.7 s, sys: 126 ms, total: 26.8 s\n",
      "Wall time: 32.8 s\n"
     ]
    }
   ],
   "source": [
    "%%time\n",
    "print ('C гиперпараметрами:')\n",
    "grid (cat, params_cat)"
   ]
  },
  {
   "cell_type": "markdown",
   "metadata": {},
   "source": [
    "### XGBRegressor"
   ]
  },
  {
   "cell_type": "code",
   "execution_count": 73,
   "metadata": {},
   "outputs": [],
   "source": [
    "xgb = XGBRegressor (random_state = 12345)\n",
    "params_xgb = {\n",
    "    'max_depth': [2, 5, 10], \n",
    "    'eta': [0.5], \n",
    "    'min_child_weight':[4],\n",
    "    'sampling_method':['gradient_based'], \n",
    "    'verbosity':[0],  \n",
    "}\n"
   ]
  },
  {
   "cell_type": "code",
   "execution_count": 74,
   "metadata": {},
   "outputs": [
    {
     "name": "stdout",
     "output_type": "stream",
     "text": [
      "Без гиперпараметров:\n",
      "Время на обучение: 39.652671337127686 секунд.\n",
      "Время на предсказания: 0.09081435203552246 секунд.\n",
      "RMSE: 1409.8742265982162\n",
      "CPU times: user 39.2 s, sys: 67.3 ms, total: 39.2 s\n",
      "Wall time: 39.7 s\n"
     ]
    }
   ],
   "source": [
    "%%time\n",
    "print ('Без гиперпараметров:')\n",
    "value.append(time_rmse(xgb, train_features, train_target, test_valid_features, test_valid_target))"
   ]
  },
  {
   "cell_type": "code",
   "execution_count": 75,
   "metadata": {},
   "outputs": [
    {
     "name": "stdout",
     "output_type": "stream",
     "text": [
      "C гиперпараметрами:\n",
      "Лучшие параметры модели с кросс-валидацией: {'eta': 0.5, 'max_depth': 10, 'min_child_weight': 4, 'sampling_method': 'gradient_based', 'verbosity': 0}\n",
      "Время на обучение: 77.11841607093811 секунд.\n",
      "Время на предсказания: 0.12207674980163574 секунд.\n",
      "RMSE: 1357.8506765406164\n",
      "CPU times: user 4min 3s, sys: 476 ms, total: 4min 4s\n",
      "Wall time: 4min 8s\n"
     ]
    }
   ],
   "source": [
    "%%time\n",
    "print ('C гиперпараметрами:')\n",
    "grid (xgb, params_xgb)"
   ]
  },
  {
   "cell_type": "markdown",
   "metadata": {},
   "source": [
    "## Анализ моделей"
   ]
  },
  {
   "cell_type": "code",
   "execution_count": 76,
   "metadata": {},
   "outputs": [
    {
     "data": {
      "text/html": [
       "<div>\n",
       "<style scoped>\n",
       "    .dataframe tbody tr th:only-of-type {\n",
       "        vertical-align: middle;\n",
       "    }\n",
       "\n",
       "    .dataframe tbody tr th {\n",
       "        vertical-align: top;\n",
       "    }\n",
       "\n",
       "    .dataframe thead th {\n",
       "        text-align: right;\n",
       "    }\n",
       "</style>\n",
       "<table border=\"1\" class=\"dataframe\">\n",
       "  <thead>\n",
       "    <tr style=\"text-align: right;\">\n",
       "      <th></th>\n",
       "      <th>trainig_time</th>\n",
       "      <th>predic_time</th>\n",
       "      <th>RMSE</th>\n",
       "    </tr>\n",
       "  </thead>\n",
       "  <tbody>\n",
       "    <tr>\n",
       "      <th>Ridge Без гиперпараметров</th>\n",
       "      <td>0.481075</td>\n",
       "      <td>0.023040</td>\n",
       "      <td>1686.388957</td>\n",
       "    </tr>\n",
       "    <tr>\n",
       "      <th>Ridge C гиперпараметрами:</th>\n",
       "      <td>0.492865</td>\n",
       "      <td>0.025146</td>\n",
       "      <td>1686.399303</td>\n",
       "    </tr>\n",
       "    <tr>\n",
       "      <th>LGBMRegressor Без гиперпараметров</th>\n",
       "      <td>5.924284</td>\n",
       "      <td>0.203320</td>\n",
       "      <td>1480.147774</td>\n",
       "    </tr>\n",
       "    <tr>\n",
       "      <th>LGBMRegressor C гиперпараметрами:</th>\n",
       "      <td>5.703192</td>\n",
       "      <td>0.295851</td>\n",
       "      <td>1447.602310</td>\n",
       "    </tr>\n",
       "    <tr>\n",
       "      <th>CatBoost Без гиперпараметров</th>\n",
       "      <td>29.794214</td>\n",
       "      <td>0.074015</td>\n",
       "      <td>1406.968649</td>\n",
       "    </tr>\n",
       "    <tr>\n",
       "      <th>CatBoost C гиперпараметрами:</th>\n",
       "      <td>5.944326</td>\n",
       "      <td>0.055896</td>\n",
       "      <td>1400.024239</td>\n",
       "    </tr>\n",
       "    <tr>\n",
       "      <th>XGBRegressor Без гиперпараметров</th>\n",
       "      <td>39.652671</td>\n",
       "      <td>0.090814</td>\n",
       "      <td>1409.874227</td>\n",
       "    </tr>\n",
       "    <tr>\n",
       "      <th>XGBRegressor C гиперпараметрами:</th>\n",
       "      <td>77.118416</td>\n",
       "      <td>0.122077</td>\n",
       "      <td>1357.850677</td>\n",
       "    </tr>\n",
       "  </tbody>\n",
       "</table>\n",
       "</div>"
      ],
      "text/plain": [
       "                                   trainig_time  predic_time         RMSE\n",
       "Ridge Без гиперпараметров              0.481075     0.023040  1686.388957\n",
       "Ridge C гиперпараметрами:              0.492865     0.025146  1686.399303\n",
       "LGBMRegressor Без гиперпараметров      5.924284     0.203320  1480.147774\n",
       "LGBMRegressor C гиперпараметрами:      5.703192     0.295851  1447.602310\n",
       "CatBoost Без гиперпараметров          29.794214     0.074015  1406.968649\n",
       "CatBoost C гиперпараметрами:           5.944326     0.055896  1400.024239\n",
       "XGBRegressor Без гиперпараметров      39.652671     0.090814  1409.874227\n",
       "XGBRegressor C гиперпараметрами:      77.118416     0.122077  1357.850677"
      ]
     },
     "execution_count": 76,
     "metadata": {},
     "output_type": "execute_result"
    }
   ],
   "source": [
    "time.sleep(10)\n",
    "pd.DataFrame(data=value,\n",
    "             index=['Ridge Без гиперпараметров', 'Ridge C гиперпараметрами:', \n",
    "                    'LGBMRegressor Без гиперпараметров', 'LGBMRegressor C гиперпараметрами:',\n",
    "                    'CatBoost Без гиперпараметров', 'CatBoost C гиперпараметрами:',\n",
    "                    'XGBRegressor Без гиперпараметров', 'XGBRegressor C гиперпараметрами:'], \n",
    "             columns=['trainig_time', 'predic_time', 'RMSE'])"
   ]
  },
  {
   "cell_type": "markdown",
   "metadata": {},
   "source": [
    "**Протестируем 2 наши лучшие модели на тестовой выборке с применением лучших параметров**"
   ]
  },
  {
   "cell_type": "code",
   "execution_count": 77,
   "metadata": {},
   "outputs": [
    {
     "name": "stdout",
     "output_type": "stream",
     "text": [
      "RMSE на тестовой выборке 1435.5154057743302\n",
      "CPU times: user 5.8 s, sys: 28 ms, total: 5.83 s\n",
      "Wall time: 5.88 s\n"
     ]
    }
   ],
   "source": [
    "%%time\n",
    "model = LGBMRegressor(boosting_type='gbdt',\n",
    "                      force_col_wise=True,\n",
    "                      n_estimators=100,\n",
    "                      num_leaves=50,\n",
    "                      random_state=12345,\n",
    "                      verbose=0)\n",
    "model.fit(train_features, train_target)\n",
    "rmse = mse(test_target, model.predict(test_features))**0.5\n",
    "print ('RMSE на тестовой выборке', rmse)"
   ]
  },
  {
   "cell_type": "code",
   "execution_count": 78,
   "metadata": {},
   "outputs": [
    {
     "name": "stdout",
     "output_type": "stream",
     "text": [
      "RMSE на тестовой выборке 1381.1860384134898\n",
      "CPU times: user 5.77 s, sys: 8.34 ms, total: 5.78 s\n",
      "Wall time: 6.83 s\n"
     ]
    }
   ],
   "source": [
    "%%time\n",
    "model = CatBoostRegressor(depth=10,\n",
    "                          n_estimators=100,\n",
    "                          random_state=12345,\n",
    "                          verbose=0)\n",
    "model.fit(train_features, train_target)\n",
    "rmse = mse(test_target, model.predict(test_features))**0.5\n",
    "print ('RMSE на тестовой выборке', rmse)"
   ]
  },
  {
   "cell_type": "markdown",
   "metadata": {},
   "source": [
    "**- хуже всего по качеству оказались модели Ridge и Lasso**  \n",
    "**- самая медленная модель - XGBRegressor, однако у нее один из лучших результатов**  \n",
    "**- LGBMRegressor и CatBoost при тренировки модели показали примерно одинаковое качество и время обучения**  \n",
    "**- однако на тестовой выборке однозначно преимущество у CatBoost как по качеству, так и по затратам времени.**"
   ]
  },
  {
   "cell_type": "markdown",
   "metadata": {},
   "source": [
    "## Чек-лист проверки"
   ]
  },
  {
   "cell_type": "markdown",
   "metadata": {},
   "source": [
    "Поставьте 'x' в выполненных пунктах. Далее нажмите Shift+Enter."
   ]
  },
  {
   "cell_type": "markdown",
   "metadata": {},
   "source": [
    "- [x]  Jupyter Notebook открыт\n",
    "- [x]  Весь код выполняется без ошибок\n",
    "- [x]  Ячейки с кодом расположены в порядке исполнения\n",
    "- [x]  Выполнена загрузка и подготовка данных\n",
    "- [x]  Выполнено обучение моделей\n",
    "- [x]  Есть анализ скорости работы и качества моделей"
   ]
  }
 ],
 "metadata": {
  "ExecuteTimeLog": [
   {
    "duration": 50,
    "start_time": "2022-03-22T12:19:43.847Z"
   },
   {
    "duration": 404,
    "start_time": "2022-03-22T12:19:46.557Z"
   },
   {
    "duration": 832,
    "start_time": "2022-03-22T12:19:47.605Z"
   },
   {
    "duration": 902,
    "start_time": "2022-03-22T12:19:57.317Z"
   },
   {
    "duration": 6,
    "start_time": "2022-03-22T12:21:43.031Z"
   },
   {
    "duration": 31,
    "start_time": "2022-03-22T12:22:05.629Z"
   },
   {
    "duration": 24,
    "start_time": "2022-03-22T12:23:54.878Z"
   },
   {
    "duration": 141,
    "start_time": "2022-03-22T12:25:52.077Z"
   },
   {
    "duration": 823,
    "start_time": "2022-03-22T12:25:54.880Z"
   },
   {
    "duration": 15,
    "start_time": "2022-03-22T12:26:00.709Z"
   },
   {
    "duration": 2316,
    "start_time": "2022-03-22T12:26:03.309Z"
   },
   {
    "duration": 93,
    "start_time": "2022-03-22T12:26:22.277Z"
   },
   {
    "duration": 415,
    "start_time": "2022-03-22T12:27:30.117Z"
   },
   {
    "duration": 393,
    "start_time": "2022-03-22T12:30:39.085Z"
   },
   {
    "duration": 394,
    "start_time": "2022-03-22T12:30:48.117Z"
   },
   {
    "duration": 72,
    "start_time": "2022-03-25T08:22:08.025Z"
   },
   {
    "duration": 471,
    "start_time": "2022-03-25T08:22:11.976Z"
   },
   {
    "duration": 9728,
    "start_time": "2022-03-25T08:22:12.449Z"
   },
   {
    "duration": 29,
    "start_time": "2022-03-25T08:22:22.179Z"
   },
   {
    "duration": 185,
    "start_time": "2022-03-25T08:22:22.211Z"
   },
   {
    "duration": 129,
    "start_time": "2022-03-25T08:22:22.398Z"
   },
   {
    "duration": 53,
    "start_time": "2022-03-25T08:22:22.529Z"
   },
   {
    "duration": 667,
    "start_time": "2022-03-25T08:22:34.816Z"
   },
   {
    "duration": 632,
    "start_time": "2022-03-25T08:22:38.584Z"
   },
   {
    "duration": 9,
    "start_time": "2022-03-25T08:26:50.661Z"
   },
   {
    "duration": 676,
    "start_time": "2022-03-25T08:28:40.660Z"
   },
   {
    "duration": 1264,
    "start_time": "2022-03-25T08:30:37.260Z"
   },
   {
    "duration": 62,
    "start_time": "2022-03-25T08:31:22.260Z"
   },
   {
    "duration": 589,
    "start_time": "2022-03-25T08:31:28.341Z"
   },
   {
    "duration": 779,
    "start_time": "2022-03-25T08:32:42.060Z"
   },
   {
    "duration": 778,
    "start_time": "2022-03-25T08:35:25.097Z"
   },
   {
    "duration": 577,
    "start_time": "2022-03-25T08:36:05.612Z"
   },
   {
    "duration": 4,
    "start_time": "2022-03-25T08:36:11.452Z"
   },
   {
    "duration": 1232,
    "start_time": "2022-03-25T08:36:11.464Z"
   },
   {
    "duration": 21,
    "start_time": "2022-03-25T08:36:12.699Z"
   },
   {
    "duration": 245,
    "start_time": "2022-03-25T08:36:12.723Z"
   },
   {
    "duration": 123,
    "start_time": "2022-03-25T08:36:12.970Z"
   },
   {
    "duration": 618,
    "start_time": "2022-03-25T08:36:13.097Z"
   },
   {
    "duration": 628,
    "start_time": "2022-03-25T08:36:13.718Z"
   },
   {
    "duration": 529,
    "start_time": "2022-03-25T08:36:14.349Z"
   },
   {
    "duration": 1257,
    "start_time": "2022-03-25T08:36:14.881Z"
   },
   {
    "duration": 738,
    "start_time": "2022-03-25T08:40:02.860Z"
   },
   {
    "duration": 995,
    "start_time": "2022-03-25T08:41:48.132Z"
   },
   {
    "duration": 29,
    "start_time": "2022-03-25T08:45:04.180Z"
   },
   {
    "duration": 5,
    "start_time": "2022-03-25T08:45:11.379Z"
   },
   {
    "duration": 29,
    "start_time": "2022-03-25T08:45:15.580Z"
   },
   {
    "duration": 6,
    "start_time": "2022-03-25T08:48:23.331Z"
   },
   {
    "duration": 39,
    "start_time": "2022-03-25T08:48:28.611Z"
   },
   {
    "duration": 6,
    "start_time": "2022-03-25T08:49:25.659Z"
   },
   {
    "duration": 4,
    "start_time": "2022-03-25T08:49:41.300Z"
   },
   {
    "duration": 999,
    "start_time": "2022-03-25T08:49:41.306Z"
   },
   {
    "duration": 19,
    "start_time": "2022-03-25T08:49:42.308Z"
   },
   {
    "duration": 194,
    "start_time": "2022-03-25T08:49:42.329Z"
   },
   {
    "duration": 124,
    "start_time": "2022-03-25T08:49:42.526Z"
   },
   {
    "duration": 575,
    "start_time": "2022-03-25T08:49:42.652Z"
   },
   {
    "duration": 621,
    "start_time": "2022-03-25T08:49:43.229Z"
   },
   {
    "duration": 528,
    "start_time": "2022-03-25T08:49:43.853Z"
   },
   {
    "duration": 1045,
    "start_time": "2022-03-25T08:49:44.383Z"
   },
   {
    "duration": 770,
    "start_time": "2022-03-25T08:49:45.430Z"
   },
   {
    "duration": 36,
    "start_time": "2022-03-25T08:50:37.579Z"
   },
   {
    "duration": 5,
    "start_time": "2022-03-25T08:51:19.219Z"
   },
   {
    "duration": 3,
    "start_time": "2022-03-25T08:51:54.422Z"
   },
   {
    "duration": 997,
    "start_time": "2022-03-25T08:51:54.428Z"
   },
   {
    "duration": 25,
    "start_time": "2022-03-25T08:51:55.427Z"
   },
   {
    "duration": 5,
    "start_time": "2022-03-25T08:51:55.454Z"
   },
   {
    "duration": 192,
    "start_time": "2022-03-25T08:51:55.463Z"
   },
   {
    "duration": 124,
    "start_time": "2022-03-25T08:51:55.658Z"
   },
   {
    "duration": 587,
    "start_time": "2022-03-25T08:51:55.785Z"
   },
   {
    "duration": 656,
    "start_time": "2022-03-25T08:51:56.374Z"
   },
   {
    "duration": 557,
    "start_time": "2022-03-25T08:51:57.032Z"
   },
   {
    "duration": 999,
    "start_time": "2022-03-25T08:51:57.591Z"
   },
   {
    "duration": 751,
    "start_time": "2022-03-25T08:51:58.593Z"
   },
   {
    "duration": 44,
    "start_time": "2022-03-25T08:53:42.578Z"
   },
   {
    "duration": 11,
    "start_time": "2022-03-25T08:53:57.139Z"
   },
   {
    "duration": 226,
    "start_time": "2022-03-25T08:54:00.939Z"
   },
   {
    "duration": 28,
    "start_time": "2022-03-25T08:54:04.740Z"
   },
   {
    "duration": 37,
    "start_time": "2022-03-25T08:54:11.660Z"
   },
   {
    "duration": 29,
    "start_time": "2022-03-25T08:54:15.659Z"
   },
   {
    "duration": 319,
    "start_time": "2022-03-25T08:55:48.139Z"
   },
   {
    "duration": 17,
    "start_time": "2022-03-25T08:56:09.499Z"
   },
   {
    "duration": 13,
    "start_time": "2022-03-25T08:56:12.579Z"
   },
   {
    "duration": 51,
    "start_time": "2022-03-25T08:57:43.741Z"
   },
   {
    "duration": 46,
    "start_time": "2022-03-25T08:59:05.340Z"
   },
   {
    "duration": 45,
    "start_time": "2022-03-25T09:00:36.940Z"
   },
   {
    "duration": 48,
    "start_time": "2022-03-25T09:01:24.302Z"
   },
   {
    "duration": 47,
    "start_time": "2022-03-25T09:01:46.741Z"
   },
   {
    "duration": 63,
    "start_time": "2022-03-25T09:03:18.341Z"
   },
   {
    "duration": 28,
    "start_time": "2022-03-25T09:03:59.748Z"
   },
   {
    "duration": 66,
    "start_time": "2022-03-25T09:04:13.623Z"
   },
   {
    "duration": 61,
    "start_time": "2022-03-25T09:04:31.253Z"
   },
   {
    "duration": 63,
    "start_time": "2022-03-25T09:04:40.940Z"
   },
   {
    "duration": 207,
    "start_time": "2022-03-25T09:06:35.861Z"
   },
   {
    "duration": 214,
    "start_time": "2022-03-25T09:06:49.620Z"
   },
   {
    "duration": 202,
    "start_time": "2022-03-25T09:07:44.221Z"
   },
   {
    "duration": 218,
    "start_time": "2022-03-25T09:08:05.183Z"
   },
   {
    "duration": 60,
    "start_time": "2022-03-25T09:08:46.541Z"
   },
   {
    "duration": 239,
    "start_time": "2022-03-25T09:11:35.853Z"
   },
   {
    "duration": 5,
    "start_time": "2022-03-25T09:11:54.901Z"
   },
   {
    "duration": 312,
    "start_time": "2022-03-25T09:12:23.532Z"
   },
   {
    "duration": 59,
    "start_time": "2022-03-25T09:12:41.181Z"
   },
   {
    "duration": 5,
    "start_time": "2022-03-25T09:12:52.180Z"
   },
   {
    "duration": 57,
    "start_time": "2022-03-25T09:12:53.142Z"
   },
   {
    "duration": 5,
    "start_time": "2022-03-25T09:18:33.259Z"
   },
   {
    "duration": 71,
    "start_time": "2022-03-25T09:18:36.659Z"
   },
   {
    "duration": 4,
    "start_time": "2022-03-25T09:19:02.979Z"
   },
   {
    "duration": 268,
    "start_time": "2022-03-25T09:19:09.859Z"
   },
   {
    "duration": 7,
    "start_time": "2022-03-25T09:19:18.539Z"
   },
   {
    "duration": 281,
    "start_time": "2022-03-25T09:19:20.932Z"
   },
   {
    "duration": 5,
    "start_time": "2022-03-25T09:19:51.539Z"
   },
   {
    "duration": 58,
    "start_time": "2022-03-25T09:19:53.018Z"
   },
   {
    "duration": 611,
    "start_time": "2022-03-25T09:22:40.019Z"
   },
   {
    "duration": 198,
    "start_time": "2022-03-25T09:23:10.979Z"
   },
   {
    "duration": 5,
    "start_time": "2022-03-25T09:23:17.731Z"
   },
   {
    "duration": 350,
    "start_time": "2022-03-25T09:23:21.580Z"
   },
   {
    "duration": 337,
    "start_time": "2022-03-25T09:23:26.299Z"
   },
   {
    "duration": 407,
    "start_time": "2022-03-25T09:23:36.900Z"
   },
   {
    "duration": 16,
    "start_time": "2022-03-25T09:24:09.211Z"
   },
   {
    "duration": 16,
    "start_time": "2022-03-25T09:24:13.139Z"
   },
   {
    "duration": 375,
    "start_time": "2022-03-25T09:24:43.059Z"
   },
   {
    "duration": 374,
    "start_time": "2022-03-25T09:26:19.780Z"
   },
   {
    "duration": 395,
    "start_time": "2022-03-25T09:26:26.331Z"
   },
   {
    "duration": 422,
    "start_time": "2022-03-25T09:27:08.339Z"
   },
   {
    "duration": 589,
    "start_time": "2022-03-25T09:27:51.627Z"
   },
   {
    "duration": 219,
    "start_time": "2022-03-25T09:30:03.659Z"
   },
   {
    "duration": 219,
    "start_time": "2022-03-25T09:30:51.780Z"
   },
   {
    "duration": 238,
    "start_time": "2022-03-25T09:31:06.139Z"
   },
   {
    "duration": 438,
    "start_time": "2022-03-25T09:31:11.020Z"
   },
   {
    "duration": 446,
    "start_time": "2022-03-25T09:31:23.619Z"
   },
   {
    "duration": 6,
    "start_time": "2022-03-25T09:33:00.260Z"
   },
   {
    "duration": 630,
    "start_time": "2022-03-25T09:33:27.460Z"
   },
   {
    "duration": 5,
    "start_time": "2022-03-25T09:34:13.421Z"
   },
   {
    "duration": 523,
    "start_time": "2022-03-25T09:34:17.020Z"
   },
   {
    "duration": 7,
    "start_time": "2022-03-25T09:34:45.540Z"
   },
   {
    "duration": 536,
    "start_time": "2022-03-25T09:34:48.140Z"
   },
   {
    "duration": 6,
    "start_time": "2022-03-25T09:35:00.344Z"
   },
   {
    "duration": 746,
    "start_time": "2022-03-25T09:35:01.060Z"
   },
   {
    "duration": 6,
    "start_time": "2022-03-25T09:35:25.300Z"
   },
   {
    "duration": 880,
    "start_time": "2022-03-25T09:35:26.052Z"
   },
   {
    "duration": 6,
    "start_time": "2022-03-25T09:36:40.980Z"
   },
   {
    "duration": 707,
    "start_time": "2022-03-25T09:36:42.940Z"
   },
   {
    "duration": 6,
    "start_time": "2022-03-25T09:37:14.020Z"
   },
   {
    "duration": 524,
    "start_time": "2022-03-25T09:37:15.019Z"
   },
   {
    "duration": 7,
    "start_time": "2022-03-25T09:37:42.869Z"
   },
   {
    "duration": 554,
    "start_time": "2022-03-25T09:37:44.028Z"
   },
   {
    "duration": 7,
    "start_time": "2022-03-25T09:39:06.620Z"
   },
   {
    "duration": 563,
    "start_time": "2022-03-25T09:39:07.580Z"
   },
   {
    "duration": 24,
    "start_time": "2022-03-25T09:41:04.652Z"
   },
   {
    "duration": 270,
    "start_time": "2022-03-25T09:42:40.340Z"
   },
   {
    "duration": 205,
    "start_time": "2022-03-25T09:42:54.340Z"
   },
   {
    "duration": 12,
    "start_time": "2022-03-25T09:43:18.499Z"
   },
   {
    "duration": 11,
    "start_time": "2022-03-25T09:43:33.628Z"
   },
   {
    "duration": 33,
    "start_time": "2022-03-25T09:45:32.540Z"
   },
   {
    "duration": 230,
    "start_time": "2022-03-25T09:46:31.019Z"
   },
   {
    "duration": 11,
    "start_time": "2022-03-25T09:46:39.099Z"
   },
   {
    "duration": 11,
    "start_time": "2022-03-25T09:46:56.860Z"
   },
   {
    "duration": 168,
    "start_time": "2022-03-25T09:48:26.412Z"
   },
   {
    "duration": 39,
    "start_time": "2022-03-25T09:50:21.460Z"
   },
   {
    "duration": 65,
    "start_time": "2022-03-25T09:50:34.220Z"
   },
   {
    "duration": 59,
    "start_time": "2022-03-25T09:51:11.421Z"
   },
   {
    "duration": 42,
    "start_time": "2022-03-25T09:51:30.620Z"
   },
   {
    "duration": 45,
    "start_time": "2022-03-25T09:51:34.651Z"
   },
   {
    "duration": 39,
    "start_time": "2022-03-25T09:52:18.540Z"
   },
   {
    "duration": 44,
    "start_time": "2022-03-25T09:52:37.740Z"
   },
   {
    "duration": 41,
    "start_time": "2022-03-25T09:53:28.300Z"
   },
   {
    "duration": 67,
    "start_time": "2022-03-25T09:53:37.100Z"
   },
   {
    "duration": 41,
    "start_time": "2022-03-25T10:00:13.020Z"
   },
   {
    "duration": 41,
    "start_time": "2022-03-25T10:00:22.739Z"
   },
   {
    "duration": 47,
    "start_time": "2022-03-25T10:01:13.731Z"
   },
   {
    "duration": 43,
    "start_time": "2022-03-25T10:01:18.580Z"
   },
   {
    "duration": 217,
    "start_time": "2022-03-25T10:06:46.139Z"
   },
   {
    "duration": 49,
    "start_time": "2022-03-25T10:06:54.500Z"
   },
   {
    "duration": 214,
    "start_time": "2022-03-25T10:07:16.339Z"
   },
   {
    "duration": 49,
    "start_time": "2022-03-25T10:07:22.978Z"
   },
   {
    "duration": 41,
    "start_time": "2022-03-25T10:07:46.220Z"
   },
   {
    "duration": 49,
    "start_time": "2022-03-25T10:12:11.420Z"
   },
   {
    "duration": 68,
    "start_time": "2022-03-25T10:12:49.341Z"
   },
   {
    "duration": 1784,
    "start_time": "2022-03-25T10:13:32.780Z"
   },
   {
    "duration": 4,
    "start_time": "2022-03-25T10:14:02.380Z"
   },
   {
    "duration": 1079,
    "start_time": "2022-03-25T10:14:02.387Z"
   },
   {
    "duration": 23,
    "start_time": "2022-03-25T10:14:03.468Z"
   },
   {
    "duration": 7,
    "start_time": "2022-03-25T10:14:03.493Z"
   },
   {
    "duration": 197,
    "start_time": "2022-03-25T10:14:03.503Z"
   },
   {
    "duration": 158,
    "start_time": "2022-03-25T10:14:03.702Z"
   },
   {
    "duration": 833,
    "start_time": "2022-03-25T10:14:03.864Z"
   },
   {
    "duration": 854,
    "start_time": "2022-03-25T10:14:04.699Z"
   },
   {
    "duration": 756,
    "start_time": "2022-03-25T10:14:05.556Z"
   },
   {
    "duration": 1647,
    "start_time": "2022-03-25T10:14:06.314Z"
   },
   {
    "duration": 773,
    "start_time": "2022-03-25T10:14:07.963Z"
   },
   {
    "duration": 8,
    "start_time": "2022-03-25T10:14:08.739Z"
   },
   {
    "duration": 584,
    "start_time": "2022-03-25T10:14:08.750Z"
   },
   {
    "duration": 1585,
    "start_time": "2022-03-25T10:14:09.346Z"
   },
   {
    "duration": 2195,
    "start_time": "2022-03-25T10:16:48.820Z"
   },
   {
    "duration": 2214,
    "start_time": "2022-03-25T10:17:17.500Z"
   },
   {
    "duration": 5,
    "start_time": "2022-03-25T10:20:20.780Z"
   },
   {
    "duration": 4,
    "start_time": "2022-03-25T10:20:44.988Z"
   },
   {
    "duration": 528,
    "start_time": "2022-03-25T10:22:10.301Z"
   },
   {
    "duration": 1081,
    "start_time": "2022-03-25T10:22:30.699Z"
   },
   {
    "duration": 555,
    "start_time": "2022-03-25T10:25:42.789Z"
   },
   {
    "duration": 680,
    "start_time": "2022-03-25T10:25:50.299Z"
   },
   {
    "duration": 4,
    "start_time": "2022-03-25T10:26:42.428Z"
   },
   {
    "duration": 1052,
    "start_time": "2022-03-25T10:26:42.435Z"
   },
   {
    "duration": 21,
    "start_time": "2022-03-25T10:26:43.489Z"
   },
   {
    "duration": 11,
    "start_time": "2022-03-25T10:26:43.512Z"
   },
   {
    "duration": 190,
    "start_time": "2022-03-25T10:26:43.527Z"
   },
   {
    "duration": 118,
    "start_time": "2022-03-25T10:26:43.720Z"
   },
   {
    "duration": 588,
    "start_time": "2022-03-25T10:26:43.844Z"
   },
   {
    "duration": 614,
    "start_time": "2022-03-25T10:26:44.434Z"
   },
   {
    "duration": 554,
    "start_time": "2022-03-25T10:26:45.050Z"
   },
   {
    "duration": 1011,
    "start_time": "2022-03-25T10:26:45.606Z"
   },
   {
    "duration": 748,
    "start_time": "2022-03-25T10:26:46.619Z"
   },
   {
    "duration": 6,
    "start_time": "2022-03-25T10:26:47.369Z"
   },
   {
    "duration": 15,
    "start_time": "2022-03-25T10:26:47.380Z"
   },
   {
    "duration": 65,
    "start_time": "2022-03-25T10:26:47.398Z"
   },
   {
    "duration": 546,
    "start_time": "2022-03-25T10:26:47.466Z"
   },
   {
    "duration": 1463,
    "start_time": "2022-03-25T10:26:48.015Z"
   },
   {
    "duration": 12077,
    "start_time": "2022-03-25T10:28:12.460Z"
   },
   {
    "duration": 12,
    "start_time": "2022-03-25T10:29:58.492Z"
   },
   {
    "duration": 13,
    "start_time": "2022-03-25T10:30:02.819Z"
   },
   {
    "duration": 27,
    "start_time": "2022-03-25T10:30:14.339Z"
   },
   {
    "duration": 76,
    "start_time": "2022-03-25T10:30:48.739Z"
   },
   {
    "duration": 520,
    "start_time": "2022-03-25T10:35:15.024Z"
   },
   {
    "duration": 643,
    "start_time": "2022-03-25T10:35:35.265Z"
   },
   {
    "duration": 4,
    "start_time": "2022-03-25T10:35:45.147Z"
   },
   {
    "duration": 1042,
    "start_time": "2022-03-25T10:35:45.154Z"
   },
   {
    "duration": 21,
    "start_time": "2022-03-25T10:35:46.198Z"
   },
   {
    "duration": 21,
    "start_time": "2022-03-25T10:35:46.222Z"
   },
   {
    "duration": 176,
    "start_time": "2022-03-25T10:35:46.246Z"
   },
   {
    "duration": 120,
    "start_time": "2022-03-25T10:35:46.424Z"
   },
   {
    "duration": 598,
    "start_time": "2022-03-25T10:35:46.547Z"
   },
   {
    "duration": 631,
    "start_time": "2022-03-25T10:35:47.147Z"
   },
   {
    "duration": 550,
    "start_time": "2022-03-25T10:35:47.780Z"
   },
   {
    "duration": 1142,
    "start_time": "2022-03-25T10:35:48.333Z"
   },
   {
    "duration": 6162,
    "start_time": "2022-03-25T10:35:49.477Z"
   },
   {
    "duration": 0,
    "start_time": "2022-03-25T10:35:55.642Z"
   },
   {
    "duration": 0,
    "start_time": "2022-03-25T10:35:55.643Z"
   },
   {
    "duration": 0,
    "start_time": "2022-03-25T10:35:55.645Z"
   },
   {
    "duration": 0,
    "start_time": "2022-03-25T10:35:55.647Z"
   },
   {
    "duration": 0,
    "start_time": "2022-03-25T10:35:55.648Z"
   },
   {
    "duration": 0,
    "start_time": "2022-03-25T10:35:55.650Z"
   },
   {
    "duration": 0,
    "start_time": "2022-03-25T10:35:55.652Z"
   },
   {
    "duration": 720,
    "start_time": "2022-03-25T10:36:17.424Z"
   },
   {
    "duration": 6,
    "start_time": "2022-03-25T10:36:18.545Z"
   },
   {
    "duration": 5,
    "start_time": "2022-03-25T10:36:19.465Z"
   },
   {
    "duration": 236,
    "start_time": "2022-03-25T10:36:20.816Z"
   },
   {
    "duration": 242,
    "start_time": "2022-03-25T10:36:38.744Z"
   },
   {
    "duration": 25,
    "start_time": "2022-03-25T10:36:51.161Z"
   },
   {
    "duration": 189,
    "start_time": "2022-03-25T10:37:06.313Z"
   },
   {
    "duration": 20,
    "start_time": "2022-03-25T10:37:13.664Z"
   },
   {
    "duration": 90,
    "start_time": "2022-03-25T10:37:20.186Z"
   },
   {
    "duration": 210,
    "start_time": "2022-03-25T10:38:34.464Z"
   },
   {
    "duration": 87,
    "start_time": "2022-03-25T10:38:45.785Z"
   },
   {
    "duration": 268,
    "start_time": "2022-03-25T10:40:22.066Z"
   },
   {
    "duration": 6,
    "start_time": "2022-03-25T10:40:32.385Z"
   },
   {
    "duration": 4,
    "start_time": "2022-03-25T10:40:38.384Z"
   },
   {
    "duration": 10,
    "start_time": "2022-03-25T10:41:13.864Z"
   },
   {
    "duration": 6,
    "start_time": "2022-03-25T10:41:28.428Z"
   },
   {
    "duration": 522,
    "start_time": "2022-03-25T10:41:33.664Z"
   },
   {
    "duration": 65,
    "start_time": "2022-03-25T10:41:57.545Z"
   },
   {
    "duration": 4,
    "start_time": "2022-03-25T10:42:08.305Z"
   },
   {
    "duration": 1075,
    "start_time": "2022-03-25T10:42:08.312Z"
   },
   {
    "duration": 21,
    "start_time": "2022-03-25T10:42:09.389Z"
   },
   {
    "duration": 6,
    "start_time": "2022-03-25T10:42:09.412Z"
   },
   {
    "duration": 195,
    "start_time": "2022-03-25T10:42:09.421Z"
   },
   {
    "duration": 126,
    "start_time": "2022-03-25T10:42:09.618Z"
   },
   {
    "duration": 577,
    "start_time": "2022-03-25T10:42:09.746Z"
   },
   {
    "duration": 719,
    "start_time": "2022-03-25T10:42:10.325Z"
   },
   {
    "duration": 559,
    "start_time": "2022-03-25T10:42:11.047Z"
   },
   {
    "duration": 998,
    "start_time": "2022-03-25T10:42:11.609Z"
   },
   {
    "duration": 682,
    "start_time": "2022-03-25T10:42:12.609Z"
   },
   {
    "duration": 7,
    "start_time": "2022-03-25T10:42:13.293Z"
   },
   {
    "duration": 8,
    "start_time": "2022-03-25T10:42:13.303Z"
   },
   {
    "duration": 9,
    "start_time": "2022-03-25T10:42:13.313Z"
   },
   {
    "duration": 62,
    "start_time": "2022-03-25T10:42:13.342Z"
   },
   {
    "duration": 670,
    "start_time": "2022-03-25T10:42:13.406Z"
   },
   {
    "duration": 1348,
    "start_time": "2022-03-25T10:42:14.079Z"
   },
   {
    "duration": 3,
    "start_time": "2022-03-25T10:45:12.064Z"
   },
   {
    "duration": 69,
    "start_time": "2022-03-25T10:45:29.224Z"
   },
   {
    "duration": 92,
    "start_time": "2022-03-25T10:45:44.984Z"
   },
   {
    "duration": 101,
    "start_time": "2022-03-25T10:45:50.104Z"
   },
   {
    "duration": 4,
    "start_time": "2022-03-25T10:46:01.544Z"
   },
   {
    "duration": 1024,
    "start_time": "2022-03-25T10:46:01.550Z"
   },
   {
    "duration": 21,
    "start_time": "2022-03-25T10:46:02.577Z"
   },
   {
    "duration": 5,
    "start_time": "2022-03-25T10:46:02.602Z"
   },
   {
    "duration": 204,
    "start_time": "2022-03-25T10:46:02.609Z"
   },
   {
    "duration": 129,
    "start_time": "2022-03-25T10:46:02.815Z"
   },
   {
    "duration": 647,
    "start_time": "2022-03-25T10:46:02.946Z"
   },
   {
    "duration": 619,
    "start_time": "2022-03-25T10:46:03.595Z"
   },
   {
    "duration": 597,
    "start_time": "2022-03-25T10:46:04.216Z"
   },
   {
    "duration": 1013,
    "start_time": "2022-03-25T10:46:04.817Z"
   },
   {
    "duration": 724,
    "start_time": "2022-03-25T10:46:05.832Z"
   },
   {
    "duration": 7,
    "start_time": "2022-03-25T10:46:06.558Z"
   },
   {
    "duration": 7,
    "start_time": "2022-03-25T10:46:06.567Z"
   },
   {
    "duration": 5,
    "start_time": "2022-03-25T10:46:06.577Z"
   },
   {
    "duration": 88,
    "start_time": "2022-03-25T10:46:06.584Z"
   },
   {
    "duration": 93,
    "start_time": "2022-03-25T10:46:06.674Z"
   },
   {
    "duration": 540,
    "start_time": "2022-03-25T10:46:06.769Z"
   },
   {
    "duration": 3,
    "start_time": "2022-03-25T10:46:07.312Z"
   },
   {
    "duration": 87,
    "start_time": "2022-03-25T10:46:24.304Z"
   },
   {
    "duration": 25,
    "start_time": "2022-03-25T10:53:31.744Z"
   },
   {
    "duration": 84,
    "start_time": "2022-03-25T10:53:47.705Z"
   },
   {
    "duration": 4,
    "start_time": "2022-03-25T10:53:53.989Z"
   },
   {
    "duration": 1054,
    "start_time": "2022-03-25T10:53:53.997Z"
   },
   {
    "duration": 22,
    "start_time": "2022-03-25T10:53:55.053Z"
   },
   {
    "duration": 7,
    "start_time": "2022-03-25T10:53:55.077Z"
   },
   {
    "duration": 193,
    "start_time": "2022-03-25T10:53:55.088Z"
   },
   {
    "duration": 123,
    "start_time": "2022-03-25T10:53:55.285Z"
   },
   {
    "duration": 643,
    "start_time": "2022-03-25T10:53:55.410Z"
   },
   {
    "duration": 625,
    "start_time": "2022-03-25T10:53:56.056Z"
   },
   {
    "duration": 541,
    "start_time": "2022-03-25T10:53:56.683Z"
   },
   {
    "duration": 1030,
    "start_time": "2022-03-25T10:53:57.227Z"
   },
   {
    "duration": 717,
    "start_time": "2022-03-25T10:53:58.260Z"
   },
   {
    "duration": 7,
    "start_time": "2022-03-25T10:53:58.979Z"
   },
   {
    "duration": 11,
    "start_time": "2022-03-25T10:53:58.988Z"
   },
   {
    "duration": 4,
    "start_time": "2022-03-25T10:53:59.003Z"
   },
   {
    "duration": 90,
    "start_time": "2022-03-25T10:53:59.009Z"
   },
   {
    "duration": 93,
    "start_time": "2022-03-25T10:53:59.101Z"
   },
   {
    "duration": 552,
    "start_time": "2022-03-25T10:53:59.196Z"
   },
   {
    "duration": 3,
    "start_time": "2022-03-25T10:53:59.750Z"
   },
   {
    "duration": 57,
    "start_time": "2022-03-25T10:54:25.496Z"
   },
   {
    "duration": 63,
    "start_time": "2022-03-25T10:54:41.624Z"
   },
   {
    "duration": 1169,
    "start_time": "2022-03-25T10:55:06.944Z"
   },
   {
    "duration": 3473,
    "start_time": "2022-03-25T10:55:17.823Z"
   },
   {
    "duration": 4,
    "start_time": "2022-03-25T10:55:34.517Z"
   },
   {
    "duration": 1019,
    "start_time": "2022-03-25T10:55:34.524Z"
   },
   {
    "duration": 20,
    "start_time": "2022-03-25T10:55:35.545Z"
   },
   {
    "duration": 9,
    "start_time": "2022-03-25T10:55:35.568Z"
   },
   {
    "duration": 186,
    "start_time": "2022-03-25T10:55:35.580Z"
   },
   {
    "duration": 131,
    "start_time": "2022-03-25T10:55:35.769Z"
   },
   {
    "duration": 595,
    "start_time": "2022-03-25T10:55:35.903Z"
   },
   {
    "duration": 613,
    "start_time": "2022-03-25T10:55:36.500Z"
   },
   {
    "duration": 575,
    "start_time": "2022-03-25T10:55:37.115Z"
   },
   {
    "duration": 1032,
    "start_time": "2022-03-25T10:55:37.692Z"
   },
   {
    "duration": 761,
    "start_time": "2022-03-25T10:55:38.726Z"
   },
   {
    "duration": 7,
    "start_time": "2022-03-25T10:55:39.489Z"
   },
   {
    "duration": 6,
    "start_time": "2022-03-25T10:55:39.498Z"
   },
   {
    "duration": 5,
    "start_time": "2022-03-25T10:55:39.508Z"
   },
   {
    "duration": 91,
    "start_time": "2022-03-25T10:55:39.515Z"
   },
   {
    "duration": 158,
    "start_time": "2022-03-25T10:55:39.608Z"
   },
   {
    "duration": 563,
    "start_time": "2022-03-25T10:55:39.770Z"
   },
   {
    "duration": 4,
    "start_time": "2022-03-25T10:55:40.342Z"
   },
   {
    "duration": 56,
    "start_time": "2022-03-25T10:56:41.384Z"
   },
   {
    "duration": 48,
    "start_time": "2022-03-25T10:56:54.423Z"
   },
   {
    "duration": 4,
    "start_time": "2022-03-25T10:57:27.745Z"
   },
   {
    "duration": 1080,
    "start_time": "2022-03-25T10:57:27.752Z"
   },
   {
    "duration": 21,
    "start_time": "2022-03-25T10:57:28.835Z"
   },
   {
    "duration": 12,
    "start_time": "2022-03-25T10:57:28.859Z"
   },
   {
    "duration": 198,
    "start_time": "2022-03-25T10:57:28.875Z"
   },
   {
    "duration": 120,
    "start_time": "2022-03-25T10:57:29.075Z"
   },
   {
    "duration": 676,
    "start_time": "2022-03-25T10:57:29.197Z"
   },
   {
    "duration": 672,
    "start_time": "2022-03-25T10:57:29.876Z"
   },
   {
    "duration": 567,
    "start_time": "2022-03-25T10:57:30.551Z"
   },
   {
    "duration": 1112,
    "start_time": "2022-03-25T10:57:31.120Z"
   },
   {
    "duration": 754,
    "start_time": "2022-03-25T10:57:32.234Z"
   },
   {
    "duration": 7,
    "start_time": "2022-03-25T10:57:32.990Z"
   },
   {
    "duration": 6,
    "start_time": "2022-03-25T10:57:32.999Z"
   },
   {
    "duration": 4,
    "start_time": "2022-03-25T10:57:33.008Z"
   },
   {
    "duration": 100,
    "start_time": "2022-03-25T10:57:33.013Z"
   },
   {
    "duration": 68,
    "start_time": "2022-03-25T10:57:33.115Z"
   },
   {
    "duration": 551,
    "start_time": "2022-03-25T10:57:33.185Z"
   },
   {
    "duration": 3,
    "start_time": "2022-03-25T10:57:33.742Z"
   },
   {
    "duration": 4,
    "start_time": "2022-03-25T10:57:43.825Z"
   },
   {
    "duration": 1031,
    "start_time": "2022-03-25T10:57:43.833Z"
   },
   {
    "duration": 22,
    "start_time": "2022-03-25T10:57:44.867Z"
   },
   {
    "duration": 7,
    "start_time": "2022-03-25T10:57:44.892Z"
   },
   {
    "duration": 213,
    "start_time": "2022-03-25T10:57:44.904Z"
   },
   {
    "duration": 132,
    "start_time": "2022-03-25T10:57:45.120Z"
   },
   {
    "duration": 598,
    "start_time": "2022-03-25T10:57:45.255Z"
   },
   {
    "duration": 654,
    "start_time": "2022-03-25T10:57:45.855Z"
   },
   {
    "duration": 579,
    "start_time": "2022-03-25T10:57:46.511Z"
   },
   {
    "duration": 1039,
    "start_time": "2022-03-25T10:57:47.093Z"
   },
   {
    "duration": 731,
    "start_time": "2022-03-25T10:57:48.134Z"
   },
   {
    "duration": 6,
    "start_time": "2022-03-25T10:57:48.867Z"
   },
   {
    "duration": 7,
    "start_time": "2022-03-25T10:57:48.875Z"
   },
   {
    "duration": 4,
    "start_time": "2022-03-25T10:57:48.886Z"
   },
   {
    "duration": 92,
    "start_time": "2022-03-25T10:57:48.892Z"
   },
   {
    "duration": 14,
    "start_time": "2022-03-25T10:57:48.987Z"
   },
   {
    "duration": 0,
    "start_time": "2022-03-25T10:57:49.003Z"
   },
   {
    "duration": 0,
    "start_time": "2022-03-25T10:57:49.005Z"
   },
   {
    "duration": 4,
    "start_time": "2022-03-25T10:58:59.745Z"
   },
   {
    "duration": 997,
    "start_time": "2022-03-25T10:58:59.752Z"
   },
   {
    "duration": 21,
    "start_time": "2022-03-25T10:59:00.752Z"
   },
   {
    "duration": 8,
    "start_time": "2022-03-25T10:59:00.775Z"
   },
   {
    "duration": 197,
    "start_time": "2022-03-25T10:59:00.786Z"
   },
   {
    "duration": 132,
    "start_time": "2022-03-25T10:59:00.986Z"
   },
   {
    "duration": 634,
    "start_time": "2022-03-25T10:59:01.120Z"
   },
   {
    "duration": 617,
    "start_time": "2022-03-25T10:59:01.756Z"
   },
   {
    "duration": 529,
    "start_time": "2022-03-25T10:59:02.376Z"
   },
   {
    "duration": 1038,
    "start_time": "2022-03-25T10:59:02.908Z"
   },
   {
    "duration": 753,
    "start_time": "2022-03-25T10:59:03.948Z"
   },
   {
    "duration": 7,
    "start_time": "2022-03-25T10:59:04.703Z"
   },
   {
    "duration": 7,
    "start_time": "2022-03-25T10:59:04.711Z"
   },
   {
    "duration": 23,
    "start_time": "2022-03-25T10:59:04.722Z"
   },
   {
    "duration": 69,
    "start_time": "2022-03-25T10:59:04.748Z"
   },
   {
    "duration": 140,
    "start_time": "2022-03-25T10:59:04.820Z"
   },
   {
    "duration": 710,
    "start_time": "2022-03-25T10:59:04.962Z"
   },
   {
    "duration": 3,
    "start_time": "2022-03-25T10:59:05.675Z"
   },
   {
    "duration": 261,
    "start_time": "2022-03-25T10:59:19.784Z"
   },
   {
    "duration": 89,
    "start_time": "2022-03-25T11:00:25.824Z"
   },
   {
    "duration": 44,
    "start_time": "2022-03-25T11:02:01.664Z"
   },
   {
    "duration": 46,
    "start_time": "2022-03-25T11:02:09.184Z"
   },
   {
    "duration": 519,
    "start_time": "2022-03-25T11:02:35.624Z"
   },
   {
    "duration": 568,
    "start_time": "2022-03-25T11:02:58.725Z"
   },
   {
    "duration": 559,
    "start_time": "2022-03-25T11:07:07.898Z"
   },
   {
    "duration": 42,
    "start_time": "2022-03-25T11:07:13.816Z"
   },
   {
    "duration": 745,
    "start_time": "2022-03-25T11:07:15.552Z"
   },
   {
    "duration": 615,
    "start_time": "2022-03-25T11:08:55.144Z"
   },
   {
    "duration": 572,
    "start_time": "2022-03-25T11:09:11.634Z"
   },
   {
    "duration": 578,
    "start_time": "2022-03-25T11:09:53.656Z"
   },
   {
    "duration": 858,
    "start_time": "2022-03-25T11:10:17.985Z"
   },
   {
    "duration": 833,
    "start_time": "2022-03-25T11:10:22.144Z"
   },
   {
    "duration": 593,
    "start_time": "2022-03-25T11:11:08.905Z"
   },
   {
    "duration": 4,
    "start_time": "2022-03-25T11:11:45.586Z"
   },
   {
    "duration": 1150,
    "start_time": "2022-03-25T11:11:45.593Z"
   },
   {
    "duration": 21,
    "start_time": "2022-03-25T11:11:46.745Z"
   },
   {
    "duration": 5,
    "start_time": "2022-03-25T11:11:46.769Z"
   },
   {
    "duration": 192,
    "start_time": "2022-03-25T11:11:46.779Z"
   },
   {
    "duration": 124,
    "start_time": "2022-03-25T11:11:46.974Z"
   },
   {
    "duration": 903,
    "start_time": "2022-03-25T11:11:47.101Z"
   },
   {
    "duration": 910,
    "start_time": "2022-03-25T11:11:48.007Z"
   },
   {
    "duration": 809,
    "start_time": "2022-03-25T11:11:48.919Z"
   },
   {
    "duration": 1753,
    "start_time": "2022-03-25T11:11:49.731Z"
   },
   {
    "duration": 976,
    "start_time": "2022-03-25T11:11:51.487Z"
   },
   {
    "duration": 9,
    "start_time": "2022-03-25T11:11:52.466Z"
   },
   {
    "duration": 8,
    "start_time": "2022-03-25T11:11:52.478Z"
   },
   {
    "duration": 134,
    "start_time": "2022-03-25T11:11:52.491Z"
   },
   {
    "duration": 132,
    "start_time": "2022-03-25T11:11:52.627Z"
   },
   {
    "duration": 955,
    "start_time": "2022-03-25T11:11:52.762Z"
   },
   {
    "duration": 77,
    "start_time": "2022-03-25T11:11:53.720Z"
   },
   {
    "duration": 821,
    "start_time": "2022-03-25T11:11:53.800Z"
   },
   {
    "duration": 579,
    "start_time": "2022-03-25T11:13:20.745Z"
   },
   {
    "duration": 575,
    "start_time": "2022-03-25T11:13:38.264Z"
   },
   {
    "duration": 546,
    "start_time": "2022-03-25T11:14:47.146Z"
   },
   {
    "duration": 565,
    "start_time": "2022-03-25T11:15:04.905Z"
   },
   {
    "duration": 547,
    "start_time": "2022-03-25T11:15:17.585Z"
   },
   {
    "duration": 557,
    "start_time": "2022-03-25T11:15:22.545Z"
   },
   {
    "duration": 555,
    "start_time": "2022-03-25T11:15:51.945Z"
   },
   {
    "duration": 48,
    "start_time": "2022-03-25T11:16:30.985Z"
   },
   {
    "duration": 655,
    "start_time": "2022-03-25T11:16:36.104Z"
   },
   {
    "duration": 560,
    "start_time": "2022-03-25T11:17:31.904Z"
   },
   {
    "duration": 835,
    "start_time": "2022-03-25T11:18:03.824Z"
   },
   {
    "duration": 827,
    "start_time": "2022-03-25T11:18:49.225Z"
   },
   {
    "duration": 72,
    "start_time": "2022-03-25T11:19:06.193Z"
   },
   {
    "duration": 849,
    "start_time": "2022-03-25T11:19:08.185Z"
   },
   {
    "duration": 4,
    "start_time": "2022-03-25T11:19:33.507Z"
   },
   {
    "duration": 1006,
    "start_time": "2022-03-25T11:19:33.514Z"
   },
   {
    "duration": 26,
    "start_time": "2022-03-25T11:19:34.522Z"
   },
   {
    "duration": 8,
    "start_time": "2022-03-25T11:19:34.551Z"
   },
   {
    "duration": 194,
    "start_time": "2022-03-25T11:19:34.562Z"
   },
   {
    "duration": 120,
    "start_time": "2022-03-25T11:19:34.758Z"
   },
   {
    "duration": 735,
    "start_time": "2022-03-25T11:19:34.880Z"
   },
   {
    "duration": 671,
    "start_time": "2022-03-25T11:19:35.617Z"
   },
   {
    "duration": 576,
    "start_time": "2022-03-25T11:19:36.291Z"
   },
   {
    "duration": 1102,
    "start_time": "2022-03-25T11:19:36.870Z"
   },
   {
    "duration": 756,
    "start_time": "2022-03-25T11:19:37.974Z"
   },
   {
    "duration": 15,
    "start_time": "2022-03-25T11:19:38.732Z"
   },
   {
    "duration": 9,
    "start_time": "2022-03-25T11:19:38.749Z"
   },
   {
    "duration": 85,
    "start_time": "2022-03-25T11:19:38.762Z"
   },
   {
    "duration": 96,
    "start_time": "2022-03-25T11:19:38.850Z"
   },
   {
    "duration": 897,
    "start_time": "2022-03-25T11:19:38.949Z"
   },
   {
    "duration": 74,
    "start_time": "2022-03-25T11:19:39.849Z"
   },
   {
    "duration": 594,
    "start_time": "2022-03-25T11:19:39.926Z"
   },
   {
    "duration": 859,
    "start_time": "2022-03-25T11:22:10.384Z"
   },
   {
    "duration": 856,
    "start_time": "2022-03-25T11:22:22.466Z"
   },
   {
    "duration": 4,
    "start_time": "2022-03-25T11:25:25.953Z"
   },
   {
    "duration": 1036,
    "start_time": "2022-03-25T11:25:25.960Z"
   },
   {
    "duration": 30,
    "start_time": "2022-03-25T11:25:26.998Z"
   },
   {
    "duration": 5,
    "start_time": "2022-03-25T11:25:27.042Z"
   },
   {
    "duration": 201,
    "start_time": "2022-03-25T11:25:27.050Z"
   },
   {
    "duration": 156,
    "start_time": "2022-03-25T11:25:27.254Z"
   },
   {
    "duration": 825,
    "start_time": "2022-03-25T11:25:27.413Z"
   },
   {
    "duration": 852,
    "start_time": "2022-03-25T11:25:28.243Z"
   },
   {
    "duration": 878,
    "start_time": "2022-03-25T11:25:29.098Z"
   },
   {
    "duration": 1685,
    "start_time": "2022-03-25T11:25:29.978Z"
   },
   {
    "duration": 956,
    "start_time": "2022-03-25T11:25:31.666Z"
   },
   {
    "duration": 19,
    "start_time": "2022-03-25T11:25:32.624Z"
   },
   {
    "duration": 17,
    "start_time": "2022-03-25T11:25:32.646Z"
   },
   {
    "duration": 66,
    "start_time": "2022-03-25T11:25:32.668Z"
   },
   {
    "duration": 88,
    "start_time": "2022-03-25T11:25:32.742Z"
   },
   {
    "duration": 571,
    "start_time": "2022-03-25T11:25:32.843Z"
   },
   {
    "duration": 53,
    "start_time": "2022-03-25T11:25:33.417Z"
   },
   {
    "duration": 609,
    "start_time": "2022-03-25T11:25:33.473Z"
   },
   {
    "duration": 95,
    "start_time": "2022-03-25T11:31:54.984Z"
   },
   {
    "duration": 4,
    "start_time": "2022-03-25T11:32:03.937Z"
   },
   {
    "duration": 1044,
    "start_time": "2022-03-25T11:32:03.947Z"
   },
   {
    "duration": 21,
    "start_time": "2022-03-25T11:32:04.993Z"
   },
   {
    "duration": 8,
    "start_time": "2022-03-25T11:32:05.016Z"
   },
   {
    "duration": 199,
    "start_time": "2022-03-25T11:32:05.027Z"
   },
   {
    "duration": 122,
    "start_time": "2022-03-25T11:32:05.229Z"
   },
   {
    "duration": 630,
    "start_time": "2022-03-25T11:32:05.354Z"
   },
   {
    "duration": 742,
    "start_time": "2022-03-25T11:32:05.987Z"
   },
   {
    "duration": 714,
    "start_time": "2022-03-25T11:32:06.732Z"
   },
   {
    "duration": 1299,
    "start_time": "2022-03-25T11:32:07.448Z"
   },
   {
    "duration": 876,
    "start_time": "2022-03-25T11:32:08.749Z"
   },
   {
    "duration": 17,
    "start_time": "2022-03-25T11:32:09.627Z"
   },
   {
    "duration": 9,
    "start_time": "2022-03-25T11:32:09.646Z"
   },
   {
    "duration": 75,
    "start_time": "2022-03-25T11:32:09.657Z"
   },
   {
    "duration": 108,
    "start_time": "2022-03-25T11:32:09.743Z"
   },
   {
    "duration": 966,
    "start_time": "2022-03-25T11:32:09.853Z"
   },
   {
    "duration": 122,
    "start_time": "2022-03-25T11:32:10.823Z"
   },
   {
    "duration": 582,
    "start_time": "2022-03-25T11:32:10.948Z"
   },
   {
    "duration": 89,
    "start_time": "2022-03-25T11:32:44.068Z"
   },
   {
    "duration": 564,
    "start_time": "2022-03-25T11:32:46.345Z"
   },
   {
    "duration": 17,
    "start_time": "2022-03-25T11:43:00.995Z"
   },
   {
    "duration": 4,
    "start_time": "2022-03-25T11:43:04.266Z"
   },
   {
    "duration": 1026,
    "start_time": "2022-03-25T11:43:04.272Z"
   },
   {
    "duration": 22,
    "start_time": "2022-03-25T11:43:05.301Z"
   },
   {
    "duration": 18,
    "start_time": "2022-03-25T11:43:05.325Z"
   },
   {
    "duration": 190,
    "start_time": "2022-03-25T11:43:05.346Z"
   },
   {
    "duration": 123,
    "start_time": "2022-03-25T11:43:05.538Z"
   },
   {
    "duration": 885,
    "start_time": "2022-03-25T11:43:05.663Z"
   },
   {
    "duration": 933,
    "start_time": "2022-03-25T11:43:06.551Z"
   },
   {
    "duration": 822,
    "start_time": "2022-03-25T11:43:07.487Z"
   },
   {
    "duration": 1738,
    "start_time": "2022-03-25T11:43:08.312Z"
   },
   {
    "duration": 750,
    "start_time": "2022-03-25T11:43:10.053Z"
   },
   {
    "duration": 7,
    "start_time": "2022-03-25T11:43:10.805Z"
   },
   {
    "duration": 11,
    "start_time": "2022-03-25T11:43:10.814Z"
   },
   {
    "duration": 8,
    "start_time": "2022-03-25T11:43:10.842Z"
   },
   {
    "duration": 68,
    "start_time": "2022-03-25T11:43:10.852Z"
   },
   {
    "duration": 120,
    "start_time": "2022-03-25T11:43:10.923Z"
   },
   {
    "duration": 547,
    "start_time": "2022-03-25T11:43:11.045Z"
   },
   {
    "duration": 4,
    "start_time": "2022-03-25T11:43:11.594Z"
   },
   {
    "duration": 691,
    "start_time": "2022-03-25T11:43:11.600Z"
   },
   {
    "duration": 10,
    "start_time": "2022-03-25T11:43:41.611Z"
   },
   {
    "duration": 1001,
    "start_time": "2022-03-25T11:43:47.185Z"
   },
   {
    "duration": 11,
    "start_time": "2022-03-25T11:43:55.793Z"
   },
   {
    "duration": 675,
    "start_time": "2022-03-25T11:43:58.553Z"
   },
   {
    "duration": 11,
    "start_time": "2022-03-25T11:44:18.266Z"
   },
   {
    "duration": 4,
    "start_time": "2022-03-25T11:44:22.388Z"
   },
   {
    "duration": 996,
    "start_time": "2022-03-25T11:44:22.395Z"
   },
   {
    "duration": 22,
    "start_time": "2022-03-25T11:44:23.394Z"
   },
   {
    "duration": 24,
    "start_time": "2022-03-25T11:44:23.419Z"
   },
   {
    "duration": 178,
    "start_time": "2022-03-25T11:44:23.448Z"
   },
   {
    "duration": 152,
    "start_time": "2022-03-25T11:44:23.628Z"
   },
   {
    "duration": 868,
    "start_time": "2022-03-25T11:44:23.783Z"
   },
   {
    "duration": 910,
    "start_time": "2022-03-25T11:44:24.654Z"
   },
   {
    "duration": 812,
    "start_time": "2022-03-25T11:44:25.567Z"
   },
   {
    "duration": 1711,
    "start_time": "2022-03-25T11:44:26.382Z"
   },
   {
    "duration": 1048,
    "start_time": "2022-03-25T11:44:28.096Z"
   },
   {
    "duration": 9,
    "start_time": "2022-03-25T11:44:29.147Z"
   },
   {
    "duration": 5,
    "start_time": "2022-03-25T11:44:29.159Z"
   },
   {
    "duration": 8,
    "start_time": "2022-03-25T11:44:29.168Z"
   },
   {
    "duration": 99,
    "start_time": "2022-03-25T11:44:29.177Z"
   },
   {
    "duration": 95,
    "start_time": "2022-03-25T11:44:29.279Z"
   },
   {
    "duration": 561,
    "start_time": "2022-03-25T11:44:29.376Z"
   },
   {
    "duration": 4,
    "start_time": "2022-03-25T11:44:29.943Z"
   },
   {
    "duration": 1036,
    "start_time": "2022-03-25T11:44:29.950Z"
   },
   {
    "duration": 8,
    "start_time": "2022-03-25T11:51:38.788Z"
   },
   {
    "duration": 677,
    "start_time": "2022-03-25T11:51:44.176Z"
   },
   {
    "duration": 10,
    "start_time": "2022-03-25T11:52:39.108Z"
   },
   {
    "duration": 1004,
    "start_time": "2022-03-25T11:52:44.024Z"
   },
   {
    "duration": 10,
    "start_time": "2022-03-25T11:53:10.275Z"
   },
   {
    "duration": 1011,
    "start_time": "2022-03-25T11:53:15.945Z"
   },
   {
    "duration": 5,
    "start_time": "2022-03-25T11:53:26.029Z"
   },
   {
    "duration": 1372,
    "start_time": "2022-03-25T11:53:26.038Z"
   },
   {
    "duration": 21,
    "start_time": "2022-03-25T11:53:27.412Z"
   },
   {
    "duration": 4,
    "start_time": "2022-03-25T11:53:27.443Z"
   },
   {
    "duration": 200,
    "start_time": "2022-03-25T11:53:27.451Z"
   },
   {
    "duration": 119,
    "start_time": "2022-03-25T11:53:27.654Z"
   },
   {
    "duration": 619,
    "start_time": "2022-03-25T11:53:27.776Z"
   },
   {
    "duration": 621,
    "start_time": "2022-03-25T11:53:28.397Z"
   },
   {
    "duration": 602,
    "start_time": "2022-03-25T11:53:29.020Z"
   },
   {
    "duration": 1119,
    "start_time": "2022-03-25T11:53:29.624Z"
   },
   {
    "duration": 792,
    "start_time": "2022-03-25T11:53:30.745Z"
   },
   {
    "duration": 6,
    "start_time": "2022-03-25T11:53:31.539Z"
   },
   {
    "duration": 21,
    "start_time": "2022-03-25T11:53:31.547Z"
   },
   {
    "duration": 15,
    "start_time": "2022-03-25T11:53:31.571Z"
   },
   {
    "duration": 117,
    "start_time": "2022-03-25T11:53:31.588Z"
   },
   {
    "duration": 110,
    "start_time": "2022-03-25T11:53:31.707Z"
   },
   {
    "duration": 570,
    "start_time": "2022-03-25T11:53:31.820Z"
   },
   {
    "duration": 700,
    "start_time": "2022-03-25T11:53:32.393Z"
   },
   {
    "duration": 8,
    "start_time": "2022-03-25T11:57:04.112Z"
   },
   {
    "duration": 696,
    "start_time": "2022-03-25T11:57:08.984Z"
   },
   {
    "duration": 7,
    "start_time": "2022-03-25T11:57:58.106Z"
   },
   {
    "duration": 678,
    "start_time": "2022-03-25T11:58:02.336Z"
   },
   {
    "duration": 4,
    "start_time": "2022-03-25T11:58:13.148Z"
   },
   {
    "duration": 1407,
    "start_time": "2022-03-25T11:58:13.155Z"
   },
   {
    "duration": 27,
    "start_time": "2022-03-25T11:58:14.565Z"
   },
   {
    "duration": 6,
    "start_time": "2022-03-25T11:58:14.595Z"
   },
   {
    "duration": 206,
    "start_time": "2022-03-25T11:58:14.605Z"
   },
   {
    "duration": 113,
    "start_time": "2022-03-25T11:58:14.813Z"
   },
   {
    "duration": 596,
    "start_time": "2022-03-25T11:58:14.929Z"
   },
   {
    "duration": 633,
    "start_time": "2022-03-25T11:58:15.528Z"
   },
   {
    "duration": 694,
    "start_time": "2022-03-25T11:58:16.163Z"
   },
   {
    "duration": 1087,
    "start_time": "2022-03-25T11:58:16.860Z"
   },
   {
    "duration": 734,
    "start_time": "2022-03-25T11:58:17.950Z"
   },
   {
    "duration": 6,
    "start_time": "2022-03-25T11:58:18.687Z"
   },
   {
    "duration": 15,
    "start_time": "2022-03-25T11:58:18.696Z"
   },
   {
    "duration": 7,
    "start_time": "2022-03-25T11:58:18.716Z"
   },
   {
    "duration": 77,
    "start_time": "2022-03-25T11:58:18.724Z"
   },
   {
    "duration": 106,
    "start_time": "2022-03-25T11:58:18.803Z"
   },
   {
    "duration": 551,
    "start_time": "2022-03-25T11:58:18.912Z"
   },
   {
    "duration": 725,
    "start_time": "2022-03-25T11:58:19.465Z"
   },
   {
    "duration": 58,
    "start_time": "2022-03-25T11:58:34.865Z"
   },
   {
    "duration": 572,
    "start_time": "2022-03-25T11:58:36.224Z"
   },
   {
    "duration": 5,
    "start_time": "2022-03-25T11:58:56.623Z"
   },
   {
    "duration": 1410,
    "start_time": "2022-03-25T11:58:56.632Z"
   },
   {
    "duration": 30,
    "start_time": "2022-03-25T11:58:58.045Z"
   },
   {
    "duration": 7,
    "start_time": "2022-03-25T11:58:58.077Z"
   },
   {
    "duration": 195,
    "start_time": "2022-03-25T11:58:58.088Z"
   },
   {
    "duration": 118,
    "start_time": "2022-03-25T11:58:58.285Z"
   },
   {
    "duration": 692,
    "start_time": "2022-03-25T11:58:58.405Z"
   },
   {
    "duration": 624,
    "start_time": "2022-03-25T11:58:59.100Z"
   },
   {
    "duration": 572,
    "start_time": "2022-03-25T11:58:59.727Z"
   },
   {
    "duration": 1154,
    "start_time": "2022-03-25T11:59:00.302Z"
   },
   {
    "duration": 777,
    "start_time": "2022-03-25T11:59:01.459Z"
   },
   {
    "duration": 6,
    "start_time": "2022-03-25T11:59:02.243Z"
   },
   {
    "duration": 9,
    "start_time": "2022-03-25T11:59:02.252Z"
   },
   {
    "duration": 7,
    "start_time": "2022-03-25T11:59:02.265Z"
   },
   {
    "duration": 90,
    "start_time": "2022-03-25T11:59:02.275Z"
   },
   {
    "duration": 111,
    "start_time": "2022-03-25T11:59:02.368Z"
   },
   {
    "duration": 79,
    "start_time": "2022-03-25T11:59:02.481Z"
   },
   {
    "duration": 540,
    "start_time": "2022-03-25T11:59:02.562Z"
   },
   {
    "duration": 703,
    "start_time": "2022-03-25T11:59:03.104Z"
   },
   {
    "duration": 481,
    "start_time": "2022-03-25T11:59:03.809Z"
   },
   {
    "duration": 678,
    "start_time": "2022-03-25T12:01:43.984Z"
   },
   {
    "duration": 5,
    "start_time": "2022-03-25T12:01:49.304Z"
   },
   {
    "duration": 1458,
    "start_time": "2022-03-25T12:01:49.312Z"
   },
   {
    "duration": 29,
    "start_time": "2022-03-25T12:01:50.773Z"
   },
   {
    "duration": 8,
    "start_time": "2022-03-25T12:01:50.805Z"
   },
   {
    "duration": 195,
    "start_time": "2022-03-25T12:01:50.815Z"
   },
   {
    "duration": 120,
    "start_time": "2022-03-25T12:01:51.012Z"
   },
   {
    "duration": 608,
    "start_time": "2022-03-25T12:01:51.134Z"
   },
   {
    "duration": 609,
    "start_time": "2022-03-25T12:01:51.745Z"
   },
   {
    "duration": 564,
    "start_time": "2022-03-25T12:01:52.358Z"
   },
   {
    "duration": 1031,
    "start_time": "2022-03-25T12:01:52.924Z"
   },
   {
    "duration": 760,
    "start_time": "2022-03-25T12:01:53.957Z"
   },
   {
    "duration": 7,
    "start_time": "2022-03-25T12:01:54.719Z"
   },
   {
    "duration": 16,
    "start_time": "2022-03-25T12:01:54.728Z"
   },
   {
    "duration": 9,
    "start_time": "2022-03-25T12:01:54.747Z"
   },
   {
    "duration": 125,
    "start_time": "2022-03-25T12:01:54.759Z"
   },
   {
    "duration": 114,
    "start_time": "2022-03-25T12:01:54.886Z"
   },
   {
    "duration": 72,
    "start_time": "2022-03-25T12:01:55.002Z"
   },
   {
    "duration": 507,
    "start_time": "2022-03-25T12:01:55.076Z"
   },
   {
    "duration": 691,
    "start_time": "2022-03-25T12:01:55.586Z"
   },
   {
    "duration": 483,
    "start_time": "2022-03-25T12:01:56.279Z"
   },
   {
    "duration": 85,
    "start_time": "2022-03-25T12:05:09.016Z"
   },
   {
    "duration": 631,
    "start_time": "2022-03-25T12:05:11.584Z"
   },
   {
    "duration": 704,
    "start_time": "2022-03-25T12:05:15.145Z"
   },
   {
    "duration": 59,
    "start_time": "2022-03-25T12:08:02.544Z"
   },
   {
    "duration": 478,
    "start_time": "2022-03-25T12:08:03.792Z"
   },
   {
    "duration": 692,
    "start_time": "2022-03-25T12:08:08.425Z"
   },
   {
    "duration": 686,
    "start_time": "2022-03-25T12:20:33.593Z"
   },
   {
    "duration": 848,
    "start_time": "2022-03-25T12:20:57.104Z"
   },
   {
    "duration": 4,
    "start_time": "2022-03-25T12:21:19.795Z"
   },
   {
    "duration": 1016,
    "start_time": "2022-03-25T12:21:19.801Z"
   },
   {
    "duration": 26,
    "start_time": "2022-03-25T12:21:20.819Z"
   },
   {
    "duration": 12,
    "start_time": "2022-03-25T12:21:20.848Z"
   },
   {
    "duration": 192,
    "start_time": "2022-03-25T12:21:20.865Z"
   },
   {
    "duration": 121,
    "start_time": "2022-03-25T12:21:21.059Z"
   },
   {
    "duration": 621,
    "start_time": "2022-03-25T12:21:21.182Z"
   },
   {
    "duration": 627,
    "start_time": "2022-03-25T12:21:21.806Z"
   },
   {
    "duration": 586,
    "start_time": "2022-03-25T12:21:22.436Z"
   },
   {
    "duration": 1148,
    "start_time": "2022-03-25T12:21:23.024Z"
   },
   {
    "duration": 753,
    "start_time": "2022-03-25T12:21:24.174Z"
   },
   {
    "duration": 15,
    "start_time": "2022-03-25T12:21:24.929Z"
   },
   {
    "duration": 10,
    "start_time": "2022-03-25T12:21:24.946Z"
   },
   {
    "duration": 8,
    "start_time": "2022-03-25T12:21:24.960Z"
   },
   {
    "duration": 95,
    "start_time": "2022-03-25T12:21:24.970Z"
   },
   {
    "duration": 102,
    "start_time": "2022-03-25T12:21:25.067Z"
   },
   {
    "duration": 71,
    "start_time": "2022-03-25T12:21:25.171Z"
   },
   {
    "duration": 506,
    "start_time": "2022-03-25T12:21:25.245Z"
   },
   {
    "duration": 694,
    "start_time": "2022-03-25T12:21:25.754Z"
   },
   {
    "duration": 486,
    "start_time": "2022-03-25T12:21:26.451Z"
   },
   {
    "duration": 57,
    "start_time": "2022-03-25T12:21:26.942Z"
   },
   {
    "duration": 426,
    "start_time": "2022-03-25T12:21:27.001Z"
   },
   {
    "duration": 698,
    "start_time": "2022-03-25T12:21:27.429Z"
   },
   {
    "duration": 69,
    "start_time": "2022-03-25T12:21:28.130Z"
   },
   {
    "duration": 485,
    "start_time": "2022-03-25T12:21:28.201Z"
   },
   {
    "duration": 986,
    "start_time": "2022-03-25T12:21:28.688Z"
   },
   {
    "duration": 7,
    "start_time": "2022-03-25T12:25:32.665Z"
   },
   {
    "duration": 34,
    "start_time": "2022-03-25T12:25:37.386Z"
   },
   {
    "duration": 61,
    "start_time": "2022-03-25T12:25:52.624Z"
   },
   {
    "duration": 213,
    "start_time": "2022-03-25T12:28:15.906Z"
   },
   {
    "duration": 211,
    "start_time": "2022-03-25T12:28:51.184Z"
   },
   {
    "duration": 11,
    "start_time": "2022-03-25T12:28:58.944Z"
   },
   {
    "duration": 53,
    "start_time": "2022-03-25T12:29:36.224Z"
   },
   {
    "duration": 88,
    "start_time": "2022-03-25T12:33:11.425Z"
   },
   {
    "duration": 901,
    "start_time": "2022-03-25T12:33:11.517Z"
   },
   {
    "duration": 9,
    "start_time": "2022-03-25T12:33:12.421Z"
   },
   {
    "duration": 5,
    "start_time": "2022-03-25T12:33:12.444Z"
   },
   {
    "duration": 9,
    "start_time": "2022-03-25T12:33:12.453Z"
   },
   {
    "duration": 147,
    "start_time": "2022-03-25T12:33:12.465Z"
   },
   {
    "duration": 101,
    "start_time": "2022-03-25T12:33:12.615Z"
   },
   {
    "duration": 67,
    "start_time": "2022-03-25T12:33:12.718Z"
   },
   {
    "duration": 518,
    "start_time": "2022-03-25T12:33:12.787Z"
   },
   {
    "duration": 685,
    "start_time": "2022-03-25T12:33:13.308Z"
   },
   {
    "duration": 481,
    "start_time": "2022-03-25T12:33:13.995Z"
   },
   {
    "duration": 68,
    "start_time": "2022-03-25T12:33:14.479Z"
   },
   {
    "duration": 404,
    "start_time": "2022-03-25T12:33:14.550Z"
   },
   {
    "duration": 691,
    "start_time": "2022-03-25T12:33:14.958Z"
   },
   {
    "duration": 60,
    "start_time": "2022-03-25T12:33:15.651Z"
   },
   {
    "duration": 732,
    "start_time": "2022-03-25T12:33:15.714Z"
   },
   {
    "duration": 1061,
    "start_time": "2022-03-25T12:33:16.449Z"
   },
   {
    "duration": 14,
    "start_time": "2022-03-25T12:33:55.625Z"
   },
   {
    "duration": 64,
    "start_time": "2022-03-25T12:34:20.353Z"
   },
   {
    "duration": 114,
    "start_time": "2022-03-25T12:34:38.616Z"
   },
   {
    "duration": 92,
    "start_time": "2022-03-25T12:34:51.672Z"
   },
   {
    "duration": 69,
    "start_time": "2022-03-25T12:38:16.145Z"
   },
   {
    "duration": 56,
    "start_time": "2022-03-25T12:41:35.504Z"
   },
   {
    "duration": 5448,
    "start_time": "2022-03-25T12:42:55.064Z"
   },
   {
    "duration": 5188,
    "start_time": "2022-03-25T12:47:39.505Z"
   },
   {
    "duration": 162,
    "start_time": "2022-03-25T12:48:04.145Z"
   },
   {
    "duration": 12783,
    "start_time": "2022-03-25T12:52:25.183Z"
   },
   {
    "duration": 5440,
    "start_time": "2022-03-25T12:52:59.033Z"
   },
   {
    "duration": 7809,
    "start_time": "2022-03-25T12:54:08.945Z"
   },
   {
    "duration": 7762,
    "start_time": "2022-03-25T12:54:27.466Z"
   },
   {
    "duration": 162,
    "start_time": "2022-03-25T12:55:38.619Z"
   },
   {
    "duration": 10155,
    "start_time": "2022-03-25T13:00:40.925Z"
   },
   {
    "duration": 55,
    "start_time": "2022-03-25T13:11:12.198Z"
   },
   {
    "duration": 25,
    "start_time": "2022-03-25T13:11:18.216Z"
   },
   {
    "duration": 5,
    "start_time": "2022-03-25T13:11:26.335Z"
   },
   {
    "duration": 1216,
    "start_time": "2022-03-25T13:11:26.346Z"
   },
   {
    "duration": 22,
    "start_time": "2022-03-25T13:11:27.566Z"
   },
   {
    "duration": 6,
    "start_time": "2022-03-25T13:11:27.591Z"
   },
   {
    "duration": 210,
    "start_time": "2022-03-25T13:11:27.599Z"
   },
   {
    "duration": 1053,
    "start_time": "2022-03-25T13:11:27.813Z"
   },
   {
    "duration": 603,
    "start_time": "2022-03-25T13:11:28.868Z"
   },
   {
    "duration": 680,
    "start_time": "2022-03-25T13:11:29.474Z"
   },
   {
    "duration": 551,
    "start_time": "2022-03-25T13:11:30.157Z"
   },
   {
    "duration": 1152,
    "start_time": "2022-03-25T13:11:30.710Z"
   },
   {
    "duration": 95,
    "start_time": "2022-03-25T13:11:31.865Z"
   },
   {
    "duration": 99,
    "start_time": "2022-03-25T13:11:31.963Z"
   },
   {
    "duration": 755,
    "start_time": "2022-03-25T13:11:32.065Z"
   },
   {
    "duration": 7,
    "start_time": "2022-03-25T13:11:32.823Z"
   },
   {
    "duration": 9,
    "start_time": "2022-03-25T13:11:32.843Z"
   },
   {
    "duration": 10,
    "start_time": "2022-03-25T13:11:32.854Z"
   },
   {
    "duration": 85,
    "start_time": "2022-03-25T13:11:32.866Z"
   },
   {
    "duration": 116,
    "start_time": "2022-03-25T13:11:32.953Z"
   },
   {
    "duration": 72,
    "start_time": "2022-03-25T13:11:33.071Z"
   },
   {
    "duration": 498,
    "start_time": "2022-03-25T13:11:33.145Z"
   },
   {
    "duration": 709,
    "start_time": "2022-03-25T13:11:33.645Z"
   },
   {
    "duration": 64,
    "start_time": "2022-03-25T13:11:34.356Z"
   },
   {
    "duration": 427,
    "start_time": "2022-03-25T13:11:34.422Z"
   },
   {
    "duration": 681,
    "start_time": "2022-03-25T13:11:34.851Z"
   },
   {
    "duration": 64,
    "start_time": "2022-03-25T13:11:35.534Z"
   },
   {
    "duration": 514,
    "start_time": "2022-03-25T13:11:35.600Z"
   },
   {
    "duration": 778,
    "start_time": "2022-03-25T13:11:36.116Z"
   },
   {
    "duration": 112,
    "start_time": "2022-03-25T13:11:36.897Z"
   },
   {
    "duration": 73,
    "start_time": "2022-03-25T13:11:37.011Z"
   },
   {
    "duration": 5157,
    "start_time": "2022-03-25T13:11:37.087Z"
   },
   {
    "duration": 10031,
    "start_time": "2022-03-25T13:11:42.247Z"
   },
   {
    "duration": 17,
    "start_time": "2022-03-25T13:11:52.284Z"
   },
   {
    "duration": 3,
    "start_time": "2022-03-25T13:12:10.264Z"
   },
   {
    "duration": 3,
    "start_time": "2022-03-25T13:12:41.267Z"
   },
   {
    "duration": 1015,
    "start_time": "2022-03-25T13:12:41.273Z"
   },
   {
    "duration": 20,
    "start_time": "2022-03-25T13:12:42.291Z"
   },
   {
    "duration": 38,
    "start_time": "2022-03-25T13:12:42.313Z"
   },
   {
    "duration": 318,
    "start_time": "2022-03-25T13:12:42.356Z"
   },
   {
    "duration": 767,
    "start_time": "2022-03-25T13:12:42.677Z"
   },
   {
    "duration": 853,
    "start_time": "2022-03-25T13:12:43.447Z"
   },
   {
    "duration": 621,
    "start_time": "2022-03-25T13:12:44.302Z"
   },
   {
    "duration": 574,
    "start_time": "2022-03-25T13:12:44.925Z"
   },
   {
    "duration": 997,
    "start_time": "2022-03-25T13:12:45.501Z"
   },
   {
    "duration": 73,
    "start_time": "2022-03-25T13:12:46.500Z"
   },
   {
    "duration": 94,
    "start_time": "2022-03-25T13:12:46.575Z"
   },
   {
    "duration": 709,
    "start_time": "2022-03-25T13:12:46.672Z"
   },
   {
    "duration": 8,
    "start_time": "2022-03-25T13:12:47.388Z"
   },
   {
    "duration": 6,
    "start_time": "2022-03-25T13:12:47.399Z"
   },
   {
    "duration": 7,
    "start_time": "2022-03-25T13:12:47.408Z"
   },
   {
    "duration": 65,
    "start_time": "2022-03-25T13:12:47.442Z"
   },
   {
    "duration": 104,
    "start_time": "2022-03-25T13:12:47.509Z"
   },
   {
    "duration": 66,
    "start_time": "2022-03-25T13:12:47.615Z"
   },
   {
    "duration": 494,
    "start_time": "2022-03-25T13:12:47.683Z"
   },
   {
    "duration": 672,
    "start_time": "2022-03-25T13:12:48.179Z"
   },
   {
    "duration": 53,
    "start_time": "2022-03-25T13:12:48.853Z"
   },
   {
    "duration": 405,
    "start_time": "2022-03-25T13:12:48.908Z"
   },
   {
    "duration": 695,
    "start_time": "2022-03-25T13:12:49.316Z"
   },
   {
    "duration": 69,
    "start_time": "2022-03-25T13:12:50.013Z"
   },
   {
    "duration": 503,
    "start_time": "2022-03-25T13:12:50.085Z"
   },
   {
    "duration": 681,
    "start_time": "2022-03-25T13:12:50.591Z"
   },
   {
    "duration": 70,
    "start_time": "2022-03-25T13:12:51.275Z"
   },
   {
    "duration": 59,
    "start_time": "2022-03-25T13:12:51.347Z"
   },
   {
    "duration": 5067,
    "start_time": "2022-03-25T13:12:51.409Z"
   },
   {
    "duration": 3,
    "start_time": "2022-03-25T13:12:56.478Z"
   },
   {
    "duration": 17,
    "start_time": "2022-03-25T13:15:52.545Z"
   },
   {
    "duration": 18,
    "start_time": "2022-03-25T13:16:27.337Z"
   },
   {
    "duration": 13,
    "start_time": "2022-03-25T13:16:34.624Z"
   },
   {
    "duration": 223,
    "start_time": "2022-03-25T13:19:44.837Z"
   },
   {
    "duration": 16,
    "start_time": "2022-03-25T13:19:50.665Z"
   },
   {
    "duration": 13,
    "start_time": "2022-03-25T13:23:16.256Z"
   },
   {
    "duration": 14,
    "start_time": "2022-03-25T13:23:59.296Z"
   },
   {
    "duration": 13,
    "start_time": "2022-03-25T13:24:45.336Z"
   },
   {
    "duration": 12,
    "start_time": "2022-03-25T13:24:53.905Z"
   },
   {
    "duration": 3252,
    "start_time": "2022-03-25T13:26:09.018Z"
   },
   {
    "duration": 8,
    "start_time": "2022-03-25T13:27:06.625Z"
   },
   {
    "duration": 3281,
    "start_time": "2022-03-25T13:28:00.353Z"
   },
   {
    "duration": 2893,
    "start_time": "2022-03-25T13:28:23.784Z"
   },
   {
    "duration": 2878,
    "start_time": "2022-03-25T13:28:35.225Z"
   },
   {
    "duration": 3019,
    "start_time": "2022-03-25T13:28:45.464Z"
   },
   {
    "duration": 3084,
    "start_time": "2022-03-25T13:28:56.792Z"
   },
   {
    "duration": 2963,
    "start_time": "2022-03-25T13:29:17.144Z"
   },
   {
    "duration": 2068,
    "start_time": "2022-03-25T13:29:59.424Z"
   },
   {
    "duration": 2296,
    "start_time": "2022-03-25T13:30:19.864Z"
   },
   {
    "duration": 2803,
    "start_time": "2022-03-25T13:33:01.365Z"
   },
   {
    "duration": 14,
    "start_time": "2022-03-25T13:34:04.512Z"
   },
   {
    "duration": 6,
    "start_time": "2022-03-25T13:34:08.264Z"
   },
   {
    "duration": 3285,
    "start_time": "2022-03-25T13:34:18.232Z"
   },
   {
    "duration": 6,
    "start_time": "2022-03-25T13:35:03.456Z"
   },
   {
    "duration": 2397,
    "start_time": "2022-03-25T13:35:11.584Z"
   },
   {
    "duration": 260,
    "start_time": "2022-03-25T13:36:34.264Z"
   },
   {
    "duration": 3000,
    "start_time": "2022-03-25T13:38:32.944Z"
   },
   {
    "duration": 2815,
    "start_time": "2022-03-25T13:38:45.944Z"
   },
   {
    "duration": 4719,
    "start_time": "2022-03-25T13:38:59.665Z"
   },
   {
    "duration": 5019,
    "start_time": "2022-03-25T13:40:56.544Z"
   },
   {
    "duration": 3593,
    "start_time": "2022-03-25T13:43:47.426Z"
   },
   {
    "duration": 3290,
    "start_time": "2022-03-25T13:44:09.544Z"
   },
   {
    "duration": 2913,
    "start_time": "2022-03-25T13:44:32.465Z"
   },
   {
    "duration": 2776,
    "start_time": "2022-03-25T13:45:38.736Z"
   },
   {
    "duration": 2756,
    "start_time": "2022-03-25T13:45:53.145Z"
   },
   {
    "duration": 2786,
    "start_time": "2022-03-25T13:49:55.147Z"
   },
   {
    "duration": 2869,
    "start_time": "2022-03-25T13:54:16.226Z"
   },
   {
    "duration": 4775,
    "start_time": "2022-03-25T13:55:11.225Z"
   },
   {
    "duration": 2853,
    "start_time": "2022-03-25T14:00:24.512Z"
   },
   {
    "duration": 2987,
    "start_time": "2022-03-25T14:01:12.665Z"
   },
   {
    "duration": 2867,
    "start_time": "2022-03-25T14:01:27.794Z"
   },
   {
    "duration": 2877,
    "start_time": "2022-03-25T14:02:01.105Z"
   },
   {
    "duration": 4831,
    "start_time": "2022-03-25T14:03:01.785Z"
   },
   {
    "duration": 2818,
    "start_time": "2022-03-25T14:03:28.938Z"
   },
   {
    "duration": 2806,
    "start_time": "2022-03-25T14:05:53.825Z"
   },
   {
    "duration": 2829,
    "start_time": "2022-03-25T14:08:25.264Z"
   },
   {
    "duration": 2789,
    "start_time": "2022-03-25T14:13:27.704Z"
   },
   {
    "duration": 14,
    "start_time": "2022-03-25T14:14:08.336Z"
   },
   {
    "duration": 123,
    "start_time": "2022-03-25T14:15:18.952Z"
   },
   {
    "duration": 210,
    "start_time": "2022-03-25T14:15:27.474Z"
   },
   {
    "duration": 1648,
    "start_time": "2022-03-25T14:15:40.465Z"
   },
   {
    "duration": 16,
    "start_time": "2022-03-25T14:15:51.112Z"
   },
   {
    "duration": 14,
    "start_time": "2022-03-25T14:15:57.401Z"
   },
   {
    "duration": 17,
    "start_time": "2022-03-25T14:16:17.984Z"
   },
   {
    "duration": 12,
    "start_time": "2022-03-25T14:21:02.544Z"
   },
   {
    "duration": 13,
    "start_time": "2022-03-25T14:21:58.377Z"
   },
   {
    "duration": 235,
    "start_time": "2022-03-25T14:22:09.456Z"
   },
   {
    "duration": 5,
    "start_time": "2022-03-25T14:22:26.136Z"
   },
   {
    "duration": 14,
    "start_time": "2022-03-25T14:22:38.146Z"
   },
   {
    "duration": 13,
    "start_time": "2022-03-25T14:22:53.536Z"
   },
   {
    "duration": 25,
    "start_time": "2022-03-25T14:22:59.776Z"
   },
   {
    "duration": 13,
    "start_time": "2022-03-25T14:25:30.585Z"
   },
   {
    "duration": 256,
    "start_time": "2022-03-25T14:26:35.544Z"
   },
   {
    "duration": 246,
    "start_time": "2022-03-25T14:26:43.546Z"
   },
   {
    "duration": 205,
    "start_time": "2022-03-25T14:26:54.584Z"
   },
   {
    "duration": 4,
    "start_time": "2022-03-25T14:27:02.231Z"
   },
   {
    "duration": 8099,
    "start_time": "2022-03-25T14:27:02.237Z"
   },
   {
    "duration": 21,
    "start_time": "2022-03-25T14:27:10.338Z"
   },
   {
    "duration": 5,
    "start_time": "2022-03-25T14:27:10.362Z"
   },
   {
    "duration": 217,
    "start_time": "2022-03-25T14:27:10.372Z"
   },
   {
    "duration": 137,
    "start_time": "2022-03-25T14:27:10.591Z"
   },
   {
    "duration": 576,
    "start_time": "2022-03-25T14:27:10.731Z"
   },
   {
    "duration": 606,
    "start_time": "2022-03-25T14:27:11.309Z"
   },
   {
    "duration": 597,
    "start_time": "2022-03-25T14:27:11.917Z"
   },
   {
    "duration": 1070,
    "start_time": "2022-03-25T14:27:12.516Z"
   },
   {
    "duration": 72,
    "start_time": "2022-03-25T14:27:13.588Z"
   },
   {
    "duration": 100,
    "start_time": "2022-03-25T14:27:13.662Z"
   },
   {
    "duration": 674,
    "start_time": "2022-03-25T14:27:13.764Z"
   },
   {
    "duration": 6,
    "start_time": "2022-03-25T14:27:14.445Z"
   },
   {
    "duration": 9,
    "start_time": "2022-03-25T14:27:14.453Z"
   },
   {
    "duration": 7,
    "start_time": "2022-03-25T14:27:14.464Z"
   },
   {
    "duration": 134,
    "start_time": "2022-03-25T14:27:14.474Z"
   },
   {
    "duration": 101,
    "start_time": "2022-03-25T14:27:14.611Z"
   },
   {
    "duration": 65,
    "start_time": "2022-03-25T14:27:14.714Z"
   },
   {
    "duration": 498,
    "start_time": "2022-03-25T14:27:14.781Z"
   },
   {
    "duration": 663,
    "start_time": "2022-03-25T14:27:15.281Z"
   },
   {
    "duration": 62,
    "start_time": "2022-03-25T14:27:15.946Z"
   },
   {
    "duration": 639,
    "start_time": "2022-03-25T14:27:16.011Z"
   },
   {
    "duration": 677,
    "start_time": "2022-03-25T14:27:16.652Z"
   },
   {
    "duration": 65,
    "start_time": "2022-03-25T14:27:17.332Z"
   },
   {
    "duration": 485,
    "start_time": "2022-03-25T14:27:17.400Z"
   },
   {
    "duration": 691,
    "start_time": "2022-03-25T14:27:17.887Z"
   },
   {
    "duration": 71,
    "start_time": "2022-03-25T14:27:18.581Z"
   },
   {
    "duration": 57,
    "start_time": "2022-03-25T14:27:18.654Z"
   },
   {
    "duration": 5602,
    "start_time": "2022-03-25T14:27:18.713Z"
   },
   {
    "duration": 2292,
    "start_time": "2022-03-25T14:27:24.317Z"
   },
   {
    "duration": 2837,
    "start_time": "2022-03-25T14:27:26.612Z"
   },
   {
    "duration": 301,
    "start_time": "2022-03-25T14:27:29.452Z"
   },
   {
    "duration": 85,
    "start_time": "2022-03-25T14:28:09.016Z"
   },
   {
    "duration": 82,
    "start_time": "2022-03-25T14:28:12.784Z"
   },
   {
    "duration": 5,
    "start_time": "2022-03-25T14:28:28.745Z"
   },
   {
    "duration": 1061,
    "start_time": "2022-03-25T14:28:28.753Z"
   },
   {
    "duration": 26,
    "start_time": "2022-03-25T14:28:29.816Z"
   },
   {
    "duration": 4,
    "start_time": "2022-03-25T14:28:29.845Z"
   },
   {
    "duration": 191,
    "start_time": "2022-03-25T14:28:29.852Z"
   },
   {
    "duration": 160,
    "start_time": "2022-03-25T14:28:30.046Z"
   },
   {
    "duration": 953,
    "start_time": "2022-03-25T14:28:30.209Z"
   },
   {
    "duration": 946,
    "start_time": "2022-03-25T14:28:31.165Z"
   },
   {
    "duration": 829,
    "start_time": "2022-03-25T14:28:32.114Z"
   },
   {
    "duration": 1661,
    "start_time": "2022-03-25T14:28:32.946Z"
   },
   {
    "duration": 97,
    "start_time": "2022-03-25T14:28:34.610Z"
   },
   {
    "duration": 161,
    "start_time": "2022-03-25T14:28:34.709Z"
   },
   {
    "duration": 1071,
    "start_time": "2022-03-25T14:28:34.873Z"
   },
   {
    "duration": 6,
    "start_time": "2022-03-25T14:28:35.949Z"
   },
   {
    "duration": 21,
    "start_time": "2022-03-25T14:28:35.957Z"
   },
   {
    "duration": 16,
    "start_time": "2022-03-25T14:28:35.980Z"
   },
   {
    "duration": 84,
    "start_time": "2022-03-25T14:28:35.998Z"
   },
   {
    "duration": 97,
    "start_time": "2022-03-25T14:28:36.084Z"
   },
   {
    "duration": 72,
    "start_time": "2022-03-25T14:28:36.183Z"
   },
   {
    "duration": 499,
    "start_time": "2022-03-25T14:28:36.257Z"
   },
   {
    "duration": 675,
    "start_time": "2022-03-25T14:28:36.759Z"
   },
   {
    "duration": 58,
    "start_time": "2022-03-25T14:28:37.442Z"
   },
   {
    "duration": 602,
    "start_time": "2022-03-25T14:28:37.502Z"
   },
   {
    "duration": 984,
    "start_time": "2022-03-25T14:28:38.107Z"
   },
   {
    "duration": 110,
    "start_time": "2022-03-25T14:28:39.094Z"
   },
   {
    "duration": 496,
    "start_time": "2022-03-25T14:28:39.207Z"
   },
   {
    "duration": 677,
    "start_time": "2022-03-25T14:28:39.705Z"
   },
   {
    "duration": 65,
    "start_time": "2022-03-25T14:28:40.385Z"
   },
   {
    "duration": 58,
    "start_time": "2022-03-25T14:28:40.453Z"
   },
   {
    "duration": 5009,
    "start_time": "2022-03-25T14:28:40.513Z"
   },
   {
    "duration": 2458,
    "start_time": "2022-03-25T14:28:45.525Z"
   },
   {
    "duration": 2819,
    "start_time": "2022-03-25T14:28:47.985Z"
   },
   {
    "duration": 163,
    "start_time": "2022-03-25T14:28:50.806Z"
   },
   {
    "duration": 2984,
    "start_time": "2022-03-25T14:29:08.065Z"
   },
   {
    "duration": 82,
    "start_time": "2022-03-25T14:31:12.760Z"
   },
   {
    "duration": 96,
    "start_time": "2022-03-25T14:31:26.417Z"
   },
   {
    "duration": 68,
    "start_time": "2022-03-25T14:33:58.816Z"
   },
   {
    "duration": 16,
    "start_time": "2022-03-25T14:34:20.336Z"
   },
   {
    "duration": 15,
    "start_time": "2022-03-25T14:34:48.423Z"
   },
   {
    "duration": 32,
    "start_time": "2022-03-25T14:35:05.624Z"
   },
   {
    "duration": 4,
    "start_time": "2022-03-25T14:35:19.229Z"
   },
   {
    "duration": 965,
    "start_time": "2022-03-25T14:35:19.236Z"
   },
   {
    "duration": 20,
    "start_time": "2022-03-25T14:35:20.204Z"
   },
   {
    "duration": 4,
    "start_time": "2022-03-25T14:35:20.243Z"
   },
   {
    "duration": 182,
    "start_time": "2022-03-25T14:35:20.252Z"
   },
   {
    "duration": 121,
    "start_time": "2022-03-25T14:35:20.436Z"
   },
   {
    "duration": 608,
    "start_time": "2022-03-25T14:35:20.560Z"
   },
   {
    "duration": 640,
    "start_time": "2022-03-25T14:35:21.170Z"
   },
   {
    "duration": 601,
    "start_time": "2022-03-25T14:35:21.813Z"
   },
   {
    "duration": 1181,
    "start_time": "2022-03-25T14:35:22.416Z"
   },
   {
    "duration": 67,
    "start_time": "2022-03-25T14:35:23.600Z"
   },
   {
    "duration": 88,
    "start_time": "2022-03-25T14:35:23.669Z"
   },
   {
    "duration": 785,
    "start_time": "2022-03-25T14:35:23.759Z"
   },
   {
    "duration": 7,
    "start_time": "2022-03-25T14:35:24.550Z"
   },
   {
    "duration": 6,
    "start_time": "2022-03-25T14:35:24.559Z"
   },
   {
    "duration": 9,
    "start_time": "2022-03-25T14:35:24.568Z"
   },
   {
    "duration": 100,
    "start_time": "2022-03-25T14:35:24.579Z"
   },
   {
    "duration": 126,
    "start_time": "2022-03-25T14:35:24.681Z"
   },
   {
    "duration": 92,
    "start_time": "2022-03-25T14:35:24.810Z"
   },
   {
    "duration": 508,
    "start_time": "2022-03-25T14:35:24.904Z"
   },
   {
    "duration": 670,
    "start_time": "2022-03-25T14:35:25.414Z"
   },
   {
    "duration": 74,
    "start_time": "2022-03-25T14:35:26.086Z"
   },
   {
    "duration": 396,
    "start_time": "2022-03-25T14:35:26.162Z"
   },
   {
    "duration": 677,
    "start_time": "2022-03-25T14:35:26.560Z"
   },
   {
    "duration": 59,
    "start_time": "2022-03-25T14:35:27.243Z"
   },
   {
    "duration": 494,
    "start_time": "2022-03-25T14:35:27.304Z"
   },
   {
    "duration": 691,
    "start_time": "2022-03-25T14:35:27.800Z"
   },
   {
    "duration": 76,
    "start_time": "2022-03-25T14:35:28.493Z"
   },
   {
    "duration": 58,
    "start_time": "2022-03-25T14:35:28.571Z"
   },
   {
    "duration": 5079,
    "start_time": "2022-03-25T14:35:28.643Z"
   },
   {
    "duration": 2362,
    "start_time": "2022-03-25T14:35:33.724Z"
   },
   {
    "duration": 2820,
    "start_time": "2022-03-25T14:35:36.089Z"
   },
   {
    "duration": 158,
    "start_time": "2022-03-25T14:35:38.912Z"
   },
   {
    "duration": 66,
    "start_time": "2022-03-25T14:36:06.985Z"
   },
   {
    "duration": 2012,
    "start_time": "2022-03-25T14:37:35.736Z"
   },
   {
    "duration": 1806,
    "start_time": "2022-03-25T14:37:44.432Z"
   },
   {
    "duration": 1703,
    "start_time": "2022-03-25T14:37:57.978Z"
   },
   {
    "duration": 871,
    "start_time": "2022-03-25T14:38:41.403Z"
   },
   {
    "duration": 0,
    "start_time": "2022-03-25T14:41:47.364Z"
   },
   {
    "duration": 3240,
    "start_time": "2022-03-25T14:42:11.128Z"
   },
   {
    "duration": 3379,
    "start_time": "2022-03-25T14:42:28.368Z"
   },
   {
    "duration": 242,
    "start_time": "2022-03-25T14:42:38.208Z"
   },
   {
    "duration": 462,
    "start_time": "2022-03-25T14:43:11.688Z"
   },
   {
    "duration": 245,
    "start_time": "2022-03-25T14:43:24.617Z"
   },
   {
    "duration": 223,
    "start_time": "2022-03-25T14:43:58.975Z"
   },
   {
    "duration": 517,
    "start_time": "2022-03-25T14:44:08.128Z"
   },
   {
    "duration": 232,
    "start_time": "2022-03-25T14:44:36.456Z"
   },
   {
    "duration": 302,
    "start_time": "2022-03-25T14:44:48.177Z"
   },
   {
    "duration": 409,
    "start_time": "2022-03-25T14:44:53.128Z"
   },
   {
    "duration": 328,
    "start_time": "2022-03-25T14:45:09.104Z"
   },
   {
    "duration": 301,
    "start_time": "2022-03-25T14:45:19.936Z"
   },
   {
    "duration": 165,
    "start_time": "2022-03-25T14:46:13.297Z"
   },
   {
    "duration": 225,
    "start_time": "2022-03-25T14:46:30.776Z"
   },
   {
    "duration": 231,
    "start_time": "2022-03-25T14:46:34.887Z"
   },
   {
    "duration": 2827,
    "start_time": "2022-03-25T14:47:29.296Z"
   },
   {
    "duration": 2002,
    "start_time": "2022-03-25T14:47:43.714Z"
   },
   {
    "duration": 247,
    "start_time": "2022-03-25T14:48:03.899Z"
   },
   {
    "duration": 205,
    "start_time": "2022-03-25T14:48:15.059Z"
   },
   {
    "duration": 208,
    "start_time": "2022-03-25T14:48:23.256Z"
   },
   {
    "duration": 243,
    "start_time": "2022-03-25T14:48:33.416Z"
   },
   {
    "duration": 111,
    "start_time": "2022-03-25T16:50:42.191Z"
   },
   {
    "duration": 1836,
    "start_time": "2022-03-25T16:52:20.293Z"
   },
   {
    "duration": 2887,
    "start_time": "2022-03-25T16:52:22.133Z"
   },
   {
    "duration": 29,
    "start_time": "2022-03-25T16:52:25.022Z"
   },
   {
    "duration": 21,
    "start_time": "2022-03-25T16:52:25.054Z"
   },
   {
    "duration": 215,
    "start_time": "2022-03-25T16:52:25.078Z"
   },
   {
    "duration": 130,
    "start_time": "2022-03-25T16:52:25.296Z"
   },
   {
    "duration": 748,
    "start_time": "2022-03-25T16:52:25.428Z"
   },
   {
    "duration": 716,
    "start_time": "2022-03-25T16:52:26.178Z"
   },
   {
    "duration": 610,
    "start_time": "2022-03-25T16:52:26.897Z"
   },
   {
    "duration": 1076,
    "start_time": "2022-03-25T16:52:27.511Z"
   },
   {
    "duration": 59,
    "start_time": "2022-03-25T16:52:28.589Z"
   },
   {
    "duration": 107,
    "start_time": "2022-03-25T16:52:28.650Z"
   },
   {
    "duration": 856,
    "start_time": "2022-03-25T16:52:28.759Z"
   },
   {
    "duration": 7,
    "start_time": "2022-03-25T16:52:29.617Z"
   },
   {
    "duration": 14,
    "start_time": "2022-03-25T16:52:29.627Z"
   },
   {
    "duration": 12,
    "start_time": "2022-03-25T16:52:29.643Z"
   },
   {
    "duration": 132,
    "start_time": "2022-03-25T16:52:29.658Z"
   },
   {
    "duration": 121,
    "start_time": "2022-03-25T16:52:29.792Z"
   },
   {
    "duration": 110,
    "start_time": "2022-03-25T16:52:29.916Z"
   },
   {
    "duration": 730,
    "start_time": "2022-03-25T16:52:30.028Z"
   },
   {
    "duration": 1042,
    "start_time": "2022-03-25T16:52:30.760Z"
   },
   {
    "duration": 94,
    "start_time": "2022-03-25T16:52:31.804Z"
   },
   {
    "duration": 414,
    "start_time": "2022-03-25T16:52:31.901Z"
   },
   {
    "duration": 746,
    "start_time": "2022-03-25T16:52:32.317Z"
   },
   {
    "duration": 64,
    "start_time": "2022-03-25T16:52:33.074Z"
   },
   {
    "duration": 504,
    "start_time": "2022-03-25T16:52:33.141Z"
   },
   {
    "duration": 704,
    "start_time": "2022-03-25T16:52:33.647Z"
   },
   {
    "duration": 63,
    "start_time": "2022-03-25T16:52:34.356Z"
   },
   {
    "duration": 73,
    "start_time": "2022-03-25T16:52:34.421Z"
   },
   {
    "duration": 5344,
    "start_time": "2022-03-25T16:52:34.496Z"
   },
   {
    "duration": 2436,
    "start_time": "2022-03-25T16:52:39.842Z"
   },
   {
    "duration": 84,
    "start_time": "2022-03-25T16:52:42.280Z"
   },
   {
    "duration": 0,
    "start_time": "2022-03-25T16:52:42.366Z"
   },
   {
    "duration": 0,
    "start_time": "2022-03-25T16:52:42.369Z"
   },
   {
    "duration": 0,
    "start_time": "2022-03-25T16:52:42.371Z"
   },
   {
    "duration": 0,
    "start_time": "2022-03-25T16:52:42.373Z"
   },
   {
    "duration": 0,
    "start_time": "2022-03-25T16:52:42.375Z"
   },
   {
    "duration": 1,
    "start_time": "2022-03-25T16:52:42.376Z"
   },
   {
    "duration": 6,
    "start_time": "2022-03-25T16:53:07.063Z"
   },
   {
    "duration": 157,
    "start_time": "2022-03-25T16:53:20.614Z"
   },
   {
    "duration": 6,
    "start_time": "2022-03-25T16:53:29.583Z"
   },
   {
    "duration": 1576,
    "start_time": "2022-03-25T16:53:31.857Z"
   },
   {
    "duration": 6,
    "start_time": "2022-03-25T16:54:34.742Z"
   },
   {
    "duration": 2870,
    "start_time": "2022-03-25T16:54:39.704Z"
   },
   {
    "duration": 114,
    "start_time": "2022-03-25T16:56:09.461Z"
   },
   {
    "duration": 101,
    "start_time": "2022-03-25T16:56:16.621Z"
   },
   {
    "duration": 2809,
    "start_time": "2022-03-25T16:56:23.213Z"
   },
   {
    "duration": 2859,
    "start_time": "2022-03-25T16:56:43.173Z"
   },
   {
    "duration": 2737,
    "start_time": "2022-03-25T16:56:56.127Z"
   },
   {
    "duration": 14,
    "start_time": "2022-03-25T16:57:17.535Z"
   },
   {
    "duration": 4104,
    "start_time": "2022-03-25T16:58:12.702Z"
   },
   {
    "duration": 153,
    "start_time": "2022-03-25T16:58:19.143Z"
   },
   {
    "duration": 76,
    "start_time": "2022-03-25T16:58:29.020Z"
   },
   {
    "duration": 4,
    "start_time": "2022-03-25T16:58:39.021Z"
   },
   {
    "duration": 1090,
    "start_time": "2022-03-25T16:58:39.027Z"
   },
   {
    "duration": 22,
    "start_time": "2022-03-25T16:58:40.120Z"
   },
   {
    "duration": 6,
    "start_time": "2022-03-25T16:58:40.144Z"
   },
   {
    "duration": 173,
    "start_time": "2022-03-25T16:58:40.173Z"
   },
   {
    "duration": 127,
    "start_time": "2022-03-25T16:58:40.348Z"
   },
   {
    "duration": 620,
    "start_time": "2022-03-25T16:58:40.477Z"
   },
   {
    "duration": 763,
    "start_time": "2022-03-25T16:58:41.099Z"
   },
   {
    "duration": 589,
    "start_time": "2022-03-25T16:58:41.864Z"
   },
   {
    "duration": 1051,
    "start_time": "2022-03-25T16:58:42.455Z"
   },
   {
    "duration": 76,
    "start_time": "2022-03-25T16:58:43.509Z"
   },
   {
    "duration": 86,
    "start_time": "2022-03-25T16:58:43.587Z"
   },
   {
    "duration": 698,
    "start_time": "2022-03-25T16:58:43.676Z"
   },
   {
    "duration": 7,
    "start_time": "2022-03-25T16:58:44.376Z"
   },
   {
    "duration": 6,
    "start_time": "2022-03-25T16:58:44.385Z"
   },
   {
    "duration": 11,
    "start_time": "2022-03-25T16:58:44.393Z"
   },
   {
    "duration": 84,
    "start_time": "2022-03-25T16:58:44.406Z"
   },
   {
    "duration": 109,
    "start_time": "2022-03-25T16:58:44.492Z"
   },
   {
    "duration": 108,
    "start_time": "2022-03-25T16:58:44.603Z"
   },
   {
    "duration": 599,
    "start_time": "2022-03-25T16:58:44.714Z"
   },
   {
    "duration": 788,
    "start_time": "2022-03-25T16:58:45.315Z"
   },
   {
    "duration": 72,
    "start_time": "2022-03-25T16:58:46.105Z"
   },
   {
    "duration": 435,
    "start_time": "2022-03-25T16:58:46.179Z"
   },
   {
    "duration": 775,
    "start_time": "2022-03-25T16:58:46.616Z"
   },
   {
    "duration": 107,
    "start_time": "2022-03-25T16:58:47.393Z"
   },
   {
    "duration": 677,
    "start_time": "2022-03-25T16:58:47.503Z"
   },
   {
    "duration": 1004,
    "start_time": "2022-03-25T16:58:48.183Z"
   },
   {
    "duration": 57,
    "start_time": "2022-03-25T16:58:49.190Z"
   },
   {
    "duration": 120,
    "start_time": "2022-03-25T16:58:49.253Z"
   },
   {
    "duration": 7390,
    "start_time": "2022-03-25T16:58:49.376Z"
   },
   {
    "duration": 2440,
    "start_time": "2022-03-25T16:58:56.768Z"
   },
   {
    "duration": 7,
    "start_time": "2022-03-25T16:58:59.210Z"
   },
   {
    "duration": 2898,
    "start_time": "2022-03-25T16:58:59.221Z"
   },
   {
    "duration": 149,
    "start_time": "2022-03-25T16:59:02.122Z"
   },
   {
    "duration": 243,
    "start_time": "2022-03-25T16:59:02.274Z"
   },
   {
    "duration": 321,
    "start_time": "2022-03-25T16:59:02.519Z"
   },
   {
    "duration": 11,
    "start_time": "2022-03-25T16:59:02.842Z"
   },
   {
    "duration": 11,
    "start_time": "2022-03-25T17:00:00.652Z"
   },
   {
    "duration": 2612,
    "start_time": "2022-03-25T17:00:15.061Z"
   },
   {
    "duration": 8,
    "start_time": "2022-03-25T17:00:33.182Z"
   },
   {
    "duration": 10,
    "start_time": "2022-03-25T17:00:37.821Z"
   },
   {
    "duration": 2604,
    "start_time": "2022-03-25T17:00:45.300Z"
   },
   {
    "duration": 6,
    "start_time": "2022-03-25T17:02:30.509Z"
   },
   {
    "duration": 2796,
    "start_time": "2022-03-25T17:02:31.941Z"
   },
   {
    "duration": 2552,
    "start_time": "2022-03-25T17:02:39.372Z"
   },
   {
    "duration": 69,
    "start_time": "2022-03-25T17:18:06.821Z"
   },
   {
    "duration": 3364,
    "start_time": "2022-03-25T17:22:26.462Z"
   },
   {
    "duration": 61,
    "start_time": "2022-03-25T17:23:35.141Z"
   },
   {
    "duration": 45,
    "start_time": "2022-03-25T17:23:56.726Z"
   },
   {
    "duration": 11,
    "start_time": "2022-03-25T17:33:13.382Z"
   },
   {
    "duration": 13,
    "start_time": "2022-03-25T17:33:18.503Z"
   },
   {
    "duration": 25,
    "start_time": "2022-03-25T17:35:02.028Z"
   },
   {
    "duration": 79,
    "start_time": "2022-03-25T17:35:46.255Z"
   },
   {
    "duration": 174,
    "start_time": "2022-03-25T17:37:05.862Z"
   },
   {
    "duration": 1577,
    "start_time": "2022-03-25T17:38:09.799Z"
   },
   {
    "duration": 1507,
    "start_time": "2022-03-25T17:38:25.639Z"
   },
   {
    "duration": 79,
    "start_time": "2022-03-25T17:39:11.543Z"
   },
   {
    "duration": 95,
    "start_time": "2022-03-25T17:39:25.742Z"
   },
   {
    "duration": 5,
    "start_time": "2022-03-25T17:39:42.583Z"
   },
   {
    "duration": 1478,
    "start_time": "2022-03-25T17:39:42.591Z"
   },
   {
    "duration": 26,
    "start_time": "2022-03-25T17:39:44.075Z"
   },
   {
    "duration": 8,
    "start_time": "2022-03-25T17:39:44.104Z"
   },
   {
    "duration": 318,
    "start_time": "2022-03-25T17:39:44.117Z"
   },
   {
    "duration": 118,
    "start_time": "2022-03-25T17:39:44.437Z"
   },
   {
    "duration": 853,
    "start_time": "2022-03-25T17:39:44.558Z"
   },
   {
    "duration": 680,
    "start_time": "2022-03-25T17:39:45.415Z"
   },
   {
    "duration": 643,
    "start_time": "2022-03-25T17:39:46.098Z"
   },
   {
    "duration": 1021,
    "start_time": "2022-03-25T17:39:46.744Z"
   },
   {
    "duration": 88,
    "start_time": "2022-03-25T17:39:47.773Z"
   },
   {
    "duration": 81,
    "start_time": "2022-03-25T17:39:47.863Z"
   },
   {
    "duration": 856,
    "start_time": "2022-03-25T17:39:47.946Z"
   },
   {
    "duration": 6,
    "start_time": "2022-03-25T17:39:48.807Z"
   },
   {
    "duration": 5,
    "start_time": "2022-03-25T17:39:48.815Z"
   },
   {
    "duration": 6,
    "start_time": "2022-03-25T17:39:48.823Z"
   },
   {
    "duration": 103,
    "start_time": "2022-03-25T17:39:48.832Z"
   },
   {
    "duration": 103,
    "start_time": "2022-03-25T17:39:48.937Z"
   },
   {
    "duration": 74,
    "start_time": "2022-03-25T17:39:49.042Z"
   },
   {
    "duration": 607,
    "start_time": "2022-03-25T17:39:49.118Z"
   },
   {
    "duration": 701,
    "start_time": "2022-03-25T17:39:49.728Z"
   },
   {
    "duration": 74,
    "start_time": "2022-03-25T17:39:50.432Z"
   },
   {
    "duration": 420,
    "start_time": "2022-03-25T17:39:50.508Z"
   },
   {
    "duration": 913,
    "start_time": "2022-03-25T17:39:50.931Z"
   },
   {
    "duration": 80,
    "start_time": "2022-03-25T17:39:51.847Z"
   },
   {
    "duration": 837,
    "start_time": "2022-03-25T17:39:51.930Z"
   },
   {
    "duration": 1037,
    "start_time": "2022-03-25T17:39:52.773Z"
   },
   {
    "duration": 71,
    "start_time": "2022-03-25T17:39:53.813Z"
   },
   {
    "duration": 111,
    "start_time": "2022-03-25T17:39:53.887Z"
   },
   {
    "duration": 5490,
    "start_time": "2022-03-25T17:39:54.001Z"
   },
   {
    "duration": 2442,
    "start_time": "2022-03-25T17:39:59.494Z"
   },
   {
    "duration": 8,
    "start_time": "2022-03-25T17:40:01.939Z"
   },
   {
    "duration": 147,
    "start_time": "2022-03-25T17:40:01.950Z"
   },
   {
    "duration": 0,
    "start_time": "2022-03-25T17:40:02.099Z"
   },
   {
    "duration": 0,
    "start_time": "2022-03-25T17:40:02.101Z"
   },
   {
    "duration": 0,
    "start_time": "2022-03-25T17:40:02.102Z"
   },
   {
    "duration": 0,
    "start_time": "2022-03-25T17:40:02.104Z"
   },
   {
    "duration": 0,
    "start_time": "2022-03-25T17:40:02.105Z"
   },
   {
    "duration": 0,
    "start_time": "2022-03-25T17:40:02.106Z"
   },
   {
    "duration": 0,
    "start_time": "2022-03-25T17:40:02.107Z"
   },
   {
    "duration": 155,
    "start_time": "2022-03-25T17:40:39.862Z"
   },
   {
    "duration": 151,
    "start_time": "2022-03-25T17:40:47.190Z"
   },
   {
    "duration": 130,
    "start_time": "2022-03-25T17:41:10.782Z"
   },
   {
    "duration": 94,
    "start_time": "2022-03-25T17:41:26.494Z"
   },
   {
    "duration": 261,
    "start_time": "2022-03-25T17:41:58.862Z"
   },
   {
    "duration": 188,
    "start_time": "2022-03-25T17:42:17.742Z"
   },
   {
    "duration": 507,
    "start_time": "2022-03-25T17:43:32.263Z"
   },
   {
    "duration": 20,
    "start_time": "2022-03-25T17:43:59.174Z"
   },
   {
    "duration": 13,
    "start_time": "2022-03-25T17:44:05.102Z"
   },
   {
    "duration": 4746,
    "start_time": "2022-03-25T17:47:52.552Z"
   },
   {
    "duration": 3106,
    "start_time": "2022-03-25T17:47:57.423Z"
   },
   {
    "duration": 497,
    "start_time": "2022-03-25T17:48:44.782Z"
   },
   {
    "duration": 13,
    "start_time": "2022-03-25T17:50:56.343Z"
   },
   {
    "duration": 35,
    "start_time": "2022-03-25T17:51:22.462Z"
   },
   {
    "duration": 103,
    "start_time": "2022-03-25T17:51:29.111Z"
   },
   {
    "duration": 8,
    "start_time": "2022-03-25T17:51:40.703Z"
   },
   {
    "duration": 992,
    "start_time": "2022-03-25T17:51:40.722Z"
   },
   {
    "duration": 23,
    "start_time": "2022-03-25T17:51:41.717Z"
   },
   {
    "duration": 10,
    "start_time": "2022-03-25T17:51:41.742Z"
   },
   {
    "duration": 186,
    "start_time": "2022-03-25T17:51:41.755Z"
   },
   {
    "duration": 121,
    "start_time": "2022-03-25T17:51:41.945Z"
   },
   {
    "duration": 624,
    "start_time": "2022-03-25T17:51:42.069Z"
   },
   {
    "duration": 956,
    "start_time": "2022-03-25T17:51:42.696Z"
   },
   {
    "duration": 601,
    "start_time": "2022-03-25T17:51:43.656Z"
   },
   {
    "duration": 1852,
    "start_time": "2022-03-25T17:51:44.260Z"
   },
   {
    "duration": 83,
    "start_time": "2022-03-25T17:51:46.114Z"
   },
   {
    "duration": 127,
    "start_time": "2022-03-25T17:51:46.200Z"
   },
   {
    "duration": 1144,
    "start_time": "2022-03-25T17:51:46.330Z"
   },
   {
    "duration": 9,
    "start_time": "2022-03-25T17:51:47.480Z"
   },
   {
    "duration": 9,
    "start_time": "2022-03-25T17:51:47.491Z"
   },
   {
    "duration": 9,
    "start_time": "2022-03-25T17:51:47.503Z"
   },
   {
    "duration": 137,
    "start_time": "2022-03-25T17:51:47.514Z"
   },
   {
    "duration": 108,
    "start_time": "2022-03-25T17:51:47.653Z"
   },
   {
    "duration": 69,
    "start_time": "2022-03-25T17:51:47.763Z"
   },
   {
    "duration": 592,
    "start_time": "2022-03-25T17:51:47.835Z"
   },
   {
    "duration": 670,
    "start_time": "2022-03-25T17:51:48.430Z"
   },
   {
    "duration": 84,
    "start_time": "2022-03-25T17:51:49.103Z"
   },
   {
    "duration": 684,
    "start_time": "2022-03-25T17:51:49.190Z"
   },
   {
    "duration": 1114,
    "start_time": "2022-03-25T17:51:49.876Z"
   },
   {
    "duration": 87,
    "start_time": "2022-03-25T17:51:50.993Z"
   },
   {
    "duration": 729,
    "start_time": "2022-03-25T17:51:51.082Z"
   },
   {
    "duration": 696,
    "start_time": "2022-03-25T17:51:51.813Z"
   },
   {
    "duration": 76,
    "start_time": "2022-03-25T17:51:52.512Z"
   },
   {
    "duration": 121,
    "start_time": "2022-03-25T17:51:52.590Z"
   },
   {
    "duration": 7060,
    "start_time": "2022-03-25T17:51:52.714Z"
   },
   {
    "duration": 2352,
    "start_time": "2022-03-25T17:51:59.776Z"
   },
   {
    "duration": 7,
    "start_time": "2022-03-25T17:52:02.131Z"
   },
   {
    "duration": 60,
    "start_time": "2022-03-25T17:52:02.142Z"
   },
   {
    "duration": 4319,
    "start_time": "2022-03-25T17:52:02.205Z"
   },
   {
    "duration": 162,
    "start_time": "2022-03-25T17:52:06.526Z"
   },
   {
    "duration": 245,
    "start_time": "2022-03-25T17:52:06.690Z"
   },
   {
    "duration": 372,
    "start_time": "2022-03-25T17:52:06.938Z"
   },
   {
    "duration": 3718,
    "start_time": "2022-03-25T17:52:07.313Z"
   },
   {
    "duration": 79,
    "start_time": "2022-03-25T17:52:11.034Z"
   },
   {
    "duration": 60,
    "start_time": "2022-03-25T17:52:11.116Z"
   },
   {
    "duration": 353,
    "start_time": "2022-03-25T17:55:10.221Z"
   },
   {
    "duration": 367,
    "start_time": "2022-03-25T17:56:38.061Z"
   },
   {
    "duration": 2526,
    "start_time": "2022-03-25T17:56:53.862Z"
   },
   {
    "duration": 5,
    "start_time": "2022-03-25T17:57:19.304Z"
   },
   {
    "duration": 1009,
    "start_time": "2022-03-25T17:57:19.312Z"
   },
   {
    "duration": 26,
    "start_time": "2022-03-25T17:57:20.324Z"
   },
   {
    "duration": 23,
    "start_time": "2022-03-25T17:57:20.353Z"
   },
   {
    "duration": 282,
    "start_time": "2022-03-25T17:57:20.380Z"
   },
   {
    "duration": 160,
    "start_time": "2022-03-25T17:57:20.665Z"
   },
   {
    "duration": 613,
    "start_time": "2022-03-25T17:57:20.828Z"
   },
   {
    "duration": 676,
    "start_time": "2022-03-25T17:57:21.444Z"
   },
   {
    "duration": 601,
    "start_time": "2022-03-25T17:57:22.122Z"
   },
   {
    "duration": 1333,
    "start_time": "2022-03-25T17:57:22.727Z"
   },
   {
    "duration": 97,
    "start_time": "2022-03-25T17:57:24.063Z"
   },
   {
    "duration": 124,
    "start_time": "2022-03-25T17:57:24.174Z"
   },
   {
    "duration": 796,
    "start_time": "2022-03-25T17:57:24.301Z"
   },
   {
    "duration": 6,
    "start_time": "2022-03-25T17:57:25.101Z"
   },
   {
    "duration": 7,
    "start_time": "2022-03-25T17:57:25.109Z"
   },
   {
    "duration": 13,
    "start_time": "2022-03-25T17:57:25.119Z"
   },
   {
    "duration": 88,
    "start_time": "2022-03-25T17:57:25.134Z"
   },
   {
    "duration": 110,
    "start_time": "2022-03-25T17:57:25.225Z"
   },
   {
    "duration": 70,
    "start_time": "2022-03-25T17:57:25.338Z"
   },
   {
    "duration": 872,
    "start_time": "2022-03-25T17:57:25.411Z"
   },
   {
    "duration": 1007,
    "start_time": "2022-03-25T17:57:26.286Z"
   },
   {
    "duration": 111,
    "start_time": "2022-03-25T17:57:27.295Z"
   },
   {
    "duration": 427,
    "start_time": "2022-03-25T17:57:27.409Z"
   },
   {
    "duration": 739,
    "start_time": "2022-03-25T17:57:27.838Z"
   },
   {
    "duration": 105,
    "start_time": "2022-03-25T17:57:28.580Z"
   },
   {
    "duration": 741,
    "start_time": "2022-03-25T17:57:28.688Z"
   },
   {
    "duration": 751,
    "start_time": "2022-03-25T17:57:29.432Z"
   },
   {
    "duration": 67,
    "start_time": "2022-03-25T17:57:30.185Z"
   },
   {
    "duration": 76,
    "start_time": "2022-03-25T17:57:30.255Z"
   },
   {
    "duration": 7297,
    "start_time": "2022-03-25T17:57:30.334Z"
   },
   {
    "duration": 3339,
    "start_time": "2022-03-25T17:57:37.634Z"
   },
   {
    "duration": 9,
    "start_time": "2022-03-25T17:57:40.976Z"
   },
   {
    "duration": 530,
    "start_time": "2022-03-25T17:57:40.987Z"
   },
   {
    "duration": 4187,
    "start_time": "2022-03-25T17:57:41.520Z"
   },
   {
    "duration": 146,
    "start_time": "2022-03-25T17:57:45.709Z"
   },
   {
    "duration": 247,
    "start_time": "2022-03-25T17:57:45.857Z"
   },
   {
    "duration": 268,
    "start_time": "2022-03-25T17:57:46.107Z"
   },
   {
    "duration": 2507,
    "start_time": "2022-03-25T17:57:46.378Z"
   },
   {
    "duration": 69,
    "start_time": "2022-03-25T17:57:48.887Z"
   },
   {
    "duration": 46,
    "start_time": "2022-03-25T17:57:48.959Z"
   },
   {
    "duration": 3636,
    "start_time": "2022-03-25T17:58:14.350Z"
   },
   {
    "duration": 3710,
    "start_time": "2022-03-25T17:58:24.022Z"
   },
   {
    "duration": 5,
    "start_time": "2022-03-25T17:59:37.223Z"
   },
   {
    "duration": 1580,
    "start_time": "2022-03-25T17:59:37.232Z"
   },
   {
    "duration": 30,
    "start_time": "2022-03-25T17:59:38.815Z"
   },
   {
    "duration": 24,
    "start_time": "2022-03-25T17:59:38.850Z"
   },
   {
    "duration": 325,
    "start_time": "2022-03-25T17:59:38.877Z"
   },
   {
    "duration": 158,
    "start_time": "2022-03-25T17:59:39.204Z"
   },
   {
    "duration": 794,
    "start_time": "2022-03-25T17:59:39.364Z"
   },
   {
    "duration": 1090,
    "start_time": "2022-03-25T17:59:40.161Z"
   },
   {
    "duration": 591,
    "start_time": "2022-03-25T17:59:41.255Z"
   },
   {
    "duration": 1128,
    "start_time": "2022-03-25T17:59:41.849Z"
   },
   {
    "duration": 109,
    "start_time": "2022-03-25T17:59:42.980Z"
   },
   {
    "duration": 129,
    "start_time": "2022-03-25T17:59:43.091Z"
   },
   {
    "duration": 754,
    "start_time": "2022-03-25T17:59:43.223Z"
   },
   {
    "duration": 10,
    "start_time": "2022-03-25T17:59:43.980Z"
   },
   {
    "duration": 6,
    "start_time": "2022-03-25T17:59:43.993Z"
   },
   {
    "duration": 14,
    "start_time": "2022-03-25T17:59:44.002Z"
   },
   {
    "duration": 94,
    "start_time": "2022-03-25T17:59:44.018Z"
   },
   {
    "duration": 98,
    "start_time": "2022-03-25T17:59:44.115Z"
   },
   {
    "duration": 71,
    "start_time": "2022-03-25T17:59:44.216Z"
   },
   {
    "duration": 748,
    "start_time": "2022-03-25T17:59:44.290Z"
   },
   {
    "duration": 964,
    "start_time": "2022-03-25T17:59:45.040Z"
   },
   {
    "duration": 117,
    "start_time": "2022-03-25T17:59:46.006Z"
   },
   {
    "duration": 409,
    "start_time": "2022-03-25T17:59:46.125Z"
   },
   {
    "duration": 688,
    "start_time": "2022-03-25T17:59:46.539Z"
   },
   {
    "duration": 69,
    "start_time": "2022-03-25T17:59:47.230Z"
   },
   {
    "duration": 589,
    "start_time": "2022-03-25T17:59:47.302Z"
   },
   {
    "duration": 1148,
    "start_time": "2022-03-25T17:59:47.894Z"
   },
   {
    "duration": 77,
    "start_time": "2022-03-25T17:59:49.046Z"
   },
   {
    "duration": 114,
    "start_time": "2022-03-25T17:59:49.127Z"
   },
   {
    "duration": 7781,
    "start_time": "2022-03-25T17:59:49.244Z"
   },
   {
    "duration": 2262,
    "start_time": "2022-03-25T17:59:57.028Z"
   },
   {
    "duration": 9,
    "start_time": "2022-03-25T17:59:59.293Z"
   },
   {
    "duration": 2098,
    "start_time": "2022-03-25T17:59:59.305Z"
   },
   {
    "duration": 174,
    "start_time": "2022-03-25T18:00:01.405Z"
   },
   {
    "duration": 0,
    "start_time": "2022-03-25T18:00:01.581Z"
   },
   {
    "duration": 0,
    "start_time": "2022-03-25T18:00:01.583Z"
   },
   {
    "duration": 0,
    "start_time": "2022-03-25T18:00:01.585Z"
   },
   {
    "duration": 0,
    "start_time": "2022-03-25T18:00:01.586Z"
   },
   {
    "duration": 0,
    "start_time": "2022-03-25T18:00:01.588Z"
   },
   {
    "duration": 0,
    "start_time": "2022-03-25T18:00:01.589Z"
   },
   {
    "duration": 1156,
    "start_time": "2022-03-25T18:00:30.424Z"
   },
   {
    "duration": 210,
    "start_time": "2022-03-25T18:00:34.747Z"
   },
   {
    "duration": 5,
    "start_time": "2022-03-25T18:00:39.134Z"
   },
   {
    "duration": 1430,
    "start_time": "2022-03-25T18:00:39.144Z"
   },
   {
    "duration": 27,
    "start_time": "2022-03-25T18:00:40.577Z"
   },
   {
    "duration": 6,
    "start_time": "2022-03-25T18:00:40.607Z"
   },
   {
    "duration": 195,
    "start_time": "2022-03-25T18:00:40.616Z"
   },
   {
    "duration": 124,
    "start_time": "2022-03-25T18:00:40.814Z"
   },
   {
    "duration": 591,
    "start_time": "2022-03-25T18:00:40.941Z"
   },
   {
    "duration": 633,
    "start_time": "2022-03-25T18:00:41.535Z"
   },
   {
    "duration": 577,
    "start_time": "2022-03-25T18:00:42.171Z"
   },
   {
    "duration": 1153,
    "start_time": "2022-03-25T18:00:42.750Z"
   },
   {
    "duration": 70,
    "start_time": "2022-03-25T18:00:43.907Z"
   },
   {
    "duration": 114,
    "start_time": "2022-03-25T18:00:43.980Z"
   },
   {
    "duration": 720,
    "start_time": "2022-03-25T18:00:44.096Z"
   },
   {
    "duration": 7,
    "start_time": "2022-03-25T18:00:44.818Z"
   },
   {
    "duration": 12,
    "start_time": "2022-03-25T18:00:44.828Z"
   },
   {
    "duration": 9,
    "start_time": "2022-03-25T18:00:44.843Z"
   },
   {
    "duration": 71,
    "start_time": "2022-03-25T18:00:44.874Z"
   },
   {
    "duration": 101,
    "start_time": "2022-03-25T18:00:44.947Z"
   },
   {
    "duration": 75,
    "start_time": "2022-03-25T18:00:45.051Z"
   },
   {
    "duration": 517,
    "start_time": "2022-03-25T18:00:45.128Z"
   },
   {
    "duration": 728,
    "start_time": "2022-03-25T18:00:45.648Z"
   },
   {
    "duration": 65,
    "start_time": "2022-03-25T18:00:46.379Z"
   },
   {
    "duration": 731,
    "start_time": "2022-03-25T18:00:46.446Z"
   },
   {
    "duration": 694,
    "start_time": "2022-03-25T18:00:47.179Z"
   },
   {
    "duration": 61,
    "start_time": "2022-03-25T18:00:47.876Z"
   },
   {
    "duration": 499,
    "start_time": "2022-03-25T18:00:47.939Z"
   },
   {
    "duration": 699,
    "start_time": "2022-03-25T18:00:48.440Z"
   },
   {
    "duration": 59,
    "start_time": "2022-03-25T18:00:49.143Z"
   },
   {
    "duration": 104,
    "start_time": "2022-03-25T18:00:49.208Z"
   },
   {
    "duration": 5337,
    "start_time": "2022-03-25T18:00:49.315Z"
   },
   {
    "duration": 2360,
    "start_time": "2022-03-25T18:00:54.656Z"
   },
   {
    "duration": 7,
    "start_time": "2022-03-25T18:00:57.018Z"
   },
   {
    "duration": 530,
    "start_time": "2022-03-25T18:00:57.028Z"
   },
   {
    "duration": 4856,
    "start_time": "2022-03-25T18:00:57.560Z"
   },
   {
    "duration": 151,
    "start_time": "2022-03-25T18:01:02.418Z"
   },
   {
    "duration": 310,
    "start_time": "2022-03-25T18:01:02.574Z"
   },
   {
    "duration": 273,
    "start_time": "2022-03-25T18:01:02.887Z"
   },
   {
    "duration": 4106,
    "start_time": "2022-03-25T18:01:03.162Z"
   },
   {
    "duration": 61,
    "start_time": "2022-03-25T18:01:07.275Z"
   },
   {
    "duration": 56,
    "start_time": "2022-03-25T18:01:07.338Z"
   },
   {
    "duration": 559,
    "start_time": "2022-03-25T18:04:48.663Z"
   },
   {
    "duration": 7,
    "start_time": "2022-03-25T18:05:26.674Z"
   },
   {
    "duration": 54,
    "start_time": "2022-03-25T18:05:32.823Z"
   },
   {
    "duration": 5,
    "start_time": "2022-03-25T18:05:58.504Z"
   },
   {
    "duration": 1384,
    "start_time": "2022-03-25T18:05:58.512Z"
   },
   {
    "duration": 26,
    "start_time": "2022-03-25T18:05:59.899Z"
   },
   {
    "duration": 11,
    "start_time": "2022-03-25T18:05:59.928Z"
   },
   {
    "duration": 342,
    "start_time": "2022-03-25T18:05:59.943Z"
   },
   {
    "duration": 155,
    "start_time": "2022-03-25T18:06:00.288Z"
   },
   {
    "duration": 858,
    "start_time": "2022-03-25T18:06:00.446Z"
   },
   {
    "duration": 669,
    "start_time": "2022-03-25T18:06:01.306Z"
   },
   {
    "duration": 684,
    "start_time": "2022-03-25T18:06:01.977Z"
   },
   {
    "duration": 1600,
    "start_time": "2022-03-25T18:06:02.664Z"
   },
   {
    "duration": 108,
    "start_time": "2022-03-25T18:06:04.277Z"
   },
   {
    "duration": 135,
    "start_time": "2022-03-25T18:06:04.387Z"
   },
   {
    "duration": 1050,
    "start_time": "2022-03-25T18:06:04.524Z"
   },
   {
    "duration": 8,
    "start_time": "2022-03-25T18:06:05.577Z"
   },
   {
    "duration": 27,
    "start_time": "2022-03-25T18:06:05.588Z"
   },
   {
    "duration": 19,
    "start_time": "2022-03-25T18:06:05.617Z"
   },
   {
    "duration": 125,
    "start_time": "2022-03-25T18:06:05.640Z"
   },
   {
    "duration": 89,
    "start_time": "2022-03-25T18:06:05.767Z"
   },
   {
    "duration": 97,
    "start_time": "2022-03-25T18:06:05.858Z"
   },
   {
    "duration": 494,
    "start_time": "2022-03-25T18:06:05.975Z"
   },
   {
    "duration": 826,
    "start_time": "2022-03-25T18:06:06.471Z"
   },
   {
    "duration": 102,
    "start_time": "2022-03-25T18:06:07.299Z"
   },
   {
    "duration": 634,
    "start_time": "2022-03-25T18:06:07.404Z"
   },
   {
    "duration": 1010,
    "start_time": "2022-03-25T18:06:08.041Z"
   },
   {
    "duration": 81,
    "start_time": "2022-03-25T18:06:09.053Z"
   },
   {
    "duration": 496,
    "start_time": "2022-03-25T18:06:09.136Z"
   },
   {
    "duration": 939,
    "start_time": "2022-03-25T18:06:09.635Z"
   },
   {
    "duration": 59,
    "start_time": "2022-03-25T18:06:10.576Z"
   },
   {
    "duration": 104,
    "start_time": "2022-03-25T18:06:10.642Z"
   },
   {
    "duration": 6748,
    "start_time": "2022-03-25T18:06:10.749Z"
   },
   {
    "duration": 0,
    "start_time": "2022-03-25T18:06:17.499Z"
   },
   {
    "duration": 0,
    "start_time": "2022-03-25T18:06:17.501Z"
   },
   {
    "duration": 0,
    "start_time": "2022-03-25T18:06:17.502Z"
   },
   {
    "duration": 0,
    "start_time": "2022-03-25T18:06:17.503Z"
   },
   {
    "duration": 0,
    "start_time": "2022-03-25T18:06:17.505Z"
   },
   {
    "duration": 0,
    "start_time": "2022-03-25T18:06:17.508Z"
   },
   {
    "duration": 0,
    "start_time": "2022-03-25T18:06:17.509Z"
   },
   {
    "duration": 0,
    "start_time": "2022-03-25T18:06:17.510Z"
   },
   {
    "duration": 0,
    "start_time": "2022-03-25T18:06:17.512Z"
   },
   {
    "duration": 0,
    "start_time": "2022-03-25T18:06:17.513Z"
   },
   {
    "duration": 0,
    "start_time": "2022-03-25T18:06:17.515Z"
   },
   {
    "duration": 49,
    "start_time": "2022-03-25T18:07:17.183Z"
   },
   {
    "duration": 5330,
    "start_time": "2022-03-25T18:08:06.705Z"
   },
   {
    "duration": 5271,
    "start_time": "2022-03-25T18:08:30.344Z"
   },
   {
    "duration": 5703,
    "start_time": "2022-03-25T18:09:13.258Z"
   },
   {
    "duration": 5640,
    "start_time": "2022-03-25T18:10:21.647Z"
   },
   {
    "duration": 5420,
    "start_time": "2022-03-25T18:10:54.103Z"
   },
   {
    "duration": 5378,
    "start_time": "2022-03-25T18:11:26.511Z"
   },
   {
    "duration": 411,
    "start_time": "2022-03-25T18:11:56.983Z"
   },
   {
    "duration": 6,
    "start_time": "2022-03-25T18:12:00.587Z"
   },
   {
    "duration": 1398,
    "start_time": "2022-03-25T18:12:00.596Z"
   },
   {
    "duration": 22,
    "start_time": "2022-03-25T18:12:01.996Z"
   },
   {
    "duration": 21,
    "start_time": "2022-03-25T18:12:02.020Z"
   },
   {
    "duration": 181,
    "start_time": "2022-03-25T18:12:02.044Z"
   },
   {
    "duration": 124,
    "start_time": "2022-03-25T18:12:02.228Z"
   },
   {
    "duration": 834,
    "start_time": "2022-03-25T18:12:02.355Z"
   },
   {
    "duration": 955,
    "start_time": "2022-03-25T18:12:03.191Z"
   },
   {
    "duration": 765,
    "start_time": "2022-03-25T18:12:04.148Z"
   },
   {
    "duration": 1622,
    "start_time": "2022-03-25T18:12:04.916Z"
   },
   {
    "duration": 105,
    "start_time": "2022-03-25T18:12:06.541Z"
   },
   {
    "duration": 115,
    "start_time": "2022-03-25T18:12:06.649Z"
   },
   {
    "duration": 848,
    "start_time": "2022-03-25T18:12:06.775Z"
   },
   {
    "duration": 8,
    "start_time": "2022-03-25T18:12:07.627Z"
   },
   {
    "duration": 7,
    "start_time": "2022-03-25T18:12:07.638Z"
   },
   {
    "duration": 27,
    "start_time": "2022-03-25T18:12:07.647Z"
   },
   {
    "duration": 118,
    "start_time": "2022-03-25T18:12:07.676Z"
   },
   {
    "duration": 121,
    "start_time": "2022-03-25T18:12:07.797Z"
   },
   {
    "duration": 112,
    "start_time": "2022-03-25T18:12:07.921Z"
   },
   {
    "duration": 540,
    "start_time": "2022-03-25T18:12:08.036Z"
   },
   {
    "duration": 672,
    "start_time": "2022-03-25T18:12:08.578Z"
   },
   {
    "duration": 64,
    "start_time": "2022-03-25T18:12:09.252Z"
   },
   {
    "duration": 433,
    "start_time": "2022-03-25T18:12:09.318Z"
   },
   {
    "duration": 689,
    "start_time": "2022-03-25T18:12:09.754Z"
   },
   {
    "duration": 66,
    "start_time": "2022-03-25T18:12:10.446Z"
   },
   {
    "duration": 495,
    "start_time": "2022-03-25T18:12:10.514Z"
   },
   {
    "duration": 1018,
    "start_time": "2022-03-25T18:12:11.012Z"
   },
   {
    "duration": 70,
    "start_time": "2022-03-25T18:12:12.032Z"
   },
   {
    "duration": 76,
    "start_time": "2022-03-25T18:12:12.105Z"
   },
   {
    "duration": 45,
    "start_time": "2022-03-25T18:12:12.184Z"
   },
   {
    "duration": 5617,
    "start_time": "2022-03-25T18:12:12.232Z"
   },
   {
    "duration": 2403,
    "start_time": "2022-03-25T18:12:17.851Z"
   },
   {
    "duration": 17,
    "start_time": "2022-03-25T18:12:20.257Z"
   },
   {
    "duration": 717,
    "start_time": "2022-03-25T18:12:20.276Z"
   },
   {
    "duration": 4272,
    "start_time": "2022-03-25T18:12:20.996Z"
   },
   {
    "duration": 62,
    "start_time": "2022-03-25T18:12:25.273Z"
   },
   {
    "duration": 268,
    "start_time": "2022-03-25T18:12:25.337Z"
   },
   {
    "duration": 369,
    "start_time": "2022-03-25T18:12:25.607Z"
   },
   {
    "duration": 513,
    "start_time": "2022-03-25T18:12:25.978Z"
   },
   {
    "duration": 3825,
    "start_time": "2022-03-25T18:12:26.494Z"
   },
   {
    "duration": 82,
    "start_time": "2022-03-25T18:12:30.325Z"
   },
   {
    "duration": 64,
    "start_time": "2022-03-25T18:12:30.410Z"
   },
   {
    "duration": 367,
    "start_time": "2022-03-25T18:14:23.263Z"
   },
   {
    "duration": 4,
    "start_time": "2022-03-25T18:15:56.982Z"
   },
   {
    "duration": 1036,
    "start_time": "2022-03-25T18:15:56.999Z"
   },
   {
    "duration": 21,
    "start_time": "2022-03-25T18:15:58.037Z"
   },
   {
    "duration": 23,
    "start_time": "2022-03-25T18:15:58.061Z"
   },
   {
    "duration": 168,
    "start_time": "2022-03-25T18:15:58.087Z"
   },
   {
    "duration": 126,
    "start_time": "2022-03-25T18:15:58.258Z"
   },
   {
    "duration": 592,
    "start_time": "2022-03-25T18:15:58.387Z"
   },
   {
    "duration": 895,
    "start_time": "2022-03-25T18:15:58.981Z"
   },
   {
    "duration": 757,
    "start_time": "2022-03-25T18:15:59.879Z"
   },
   {
    "duration": 1703,
    "start_time": "2022-03-25T18:16:00.639Z"
   },
   {
    "duration": 77,
    "start_time": "2022-03-25T18:16:02.344Z"
   },
   {
    "duration": 90,
    "start_time": "2022-03-25T18:16:02.423Z"
   },
   {
    "duration": 759,
    "start_time": "2022-03-25T18:16:02.515Z"
   },
   {
    "duration": 7,
    "start_time": "2022-03-25T18:16:03.276Z"
   },
   {
    "duration": 5,
    "start_time": "2022-03-25T18:16:03.287Z"
   },
   {
    "duration": 8,
    "start_time": "2022-03-25T18:16:03.294Z"
   },
   {
    "duration": 92,
    "start_time": "2022-03-25T18:16:03.304Z"
   },
   {
    "duration": 110,
    "start_time": "2022-03-25T18:16:03.398Z"
   },
   {
    "duration": 76,
    "start_time": "2022-03-25T18:16:03.510Z"
   },
   {
    "duration": 508,
    "start_time": "2022-03-25T18:16:03.588Z"
   },
   {
    "duration": 699,
    "start_time": "2022-03-25T18:16:04.098Z"
   },
   {
    "duration": 58,
    "start_time": "2022-03-25T18:16:04.799Z"
   },
   {
    "duration": 417,
    "start_time": "2022-03-25T18:16:04.874Z"
   },
   {
    "duration": 697,
    "start_time": "2022-03-25T18:16:05.294Z"
   },
   {
    "duration": 61,
    "start_time": "2022-03-25T18:16:05.993Z"
   },
   {
    "duration": 501,
    "start_time": "2022-03-25T18:16:06.074Z"
   },
   {
    "duration": 701,
    "start_time": "2022-03-25T18:16:06.579Z"
   },
   {
    "duration": 54,
    "start_time": "2022-03-25T18:16:07.282Z"
   },
   {
    "duration": 74,
    "start_time": "2022-03-25T18:16:07.338Z"
   },
   {
    "duration": 34,
    "start_time": "2022-03-25T18:16:07.414Z"
   },
   {
    "duration": 5492,
    "start_time": "2022-03-25T18:16:07.450Z"
   },
   {
    "duration": 2349,
    "start_time": "2022-03-25T18:16:12.945Z"
   },
   {
    "duration": 7,
    "start_time": "2022-03-25T18:16:15.296Z"
   },
   {
    "duration": 90,
    "start_time": "2022-03-25T18:16:15.305Z"
   },
   {
    "duration": 0,
    "start_time": "2022-03-25T18:16:15.397Z"
   },
   {
    "duration": 0,
    "start_time": "2022-03-25T18:16:15.399Z"
   },
   {
    "duration": 0,
    "start_time": "2022-03-25T18:16:15.401Z"
   },
   {
    "duration": 0,
    "start_time": "2022-03-25T18:16:15.402Z"
   },
   {
    "duration": 0,
    "start_time": "2022-03-25T18:16:15.404Z"
   },
   {
    "duration": 0,
    "start_time": "2022-03-25T18:16:15.406Z"
   },
   {
    "duration": 0,
    "start_time": "2022-03-25T18:16:15.408Z"
   },
   {
    "duration": 0,
    "start_time": "2022-03-25T18:16:15.410Z"
   },
   {
    "duration": 0,
    "start_time": "2022-03-25T18:16:15.412Z"
   },
   {
    "duration": 12,
    "start_time": "2022-03-25T18:17:22.614Z"
   },
   {
    "duration": 4,
    "start_time": "2022-03-25T18:17:49.222Z"
   },
   {
    "duration": 436,
    "start_time": "2022-03-25T18:17:53.353Z"
   },
   {
    "duration": 2867,
    "start_time": "2022-03-25T18:17:55.062Z"
   },
   {
    "duration": 4,
    "start_time": "2022-03-25T18:18:31.143Z"
   },
   {
    "duration": 85,
    "start_time": "2022-03-25T18:18:44.741Z"
   },
   {
    "duration": 4,
    "start_time": "2022-03-25T18:18:52.598Z"
   },
   {
    "duration": 2923,
    "start_time": "2022-03-25T18:18:57.413Z"
   },
   {
    "duration": 392,
    "start_time": "2022-03-25T18:19:15.431Z"
   },
   {
    "duration": 2928,
    "start_time": "2022-03-25T18:19:16.982Z"
   },
   {
    "duration": 524,
    "start_time": "2022-03-25T18:19:24.584Z"
   },
   {
    "duration": 2892,
    "start_time": "2022-03-25T18:19:26.142Z"
   },
   {
    "duration": 4,
    "start_time": "2022-03-25T18:20:59.510Z"
   },
   {
    "duration": 382,
    "start_time": "2022-03-25T18:21:06.223Z"
   },
   {
    "duration": 4,
    "start_time": "2022-03-25T18:21:14.462Z"
   },
   {
    "duration": 397,
    "start_time": "2022-03-25T18:21:15.279Z"
   },
   {
    "duration": 2871,
    "start_time": "2022-03-25T18:21:16.022Z"
   },
   {
    "duration": 15,
    "start_time": "2022-03-25T18:22:15.983Z"
   },
   {
    "duration": 1574,
    "start_time": "2022-03-25T18:23:31.143Z"
   },
   {
    "duration": 1926,
    "start_time": "2022-03-25T18:24:21.542Z"
   },
   {
    "duration": 0,
    "start_time": "2022-03-25T18:25:27.612Z"
   },
   {
    "duration": 2070,
    "start_time": "2022-03-25T18:25:34.701Z"
   },
   {
    "duration": 54,
    "start_time": "2022-03-25T18:26:42.382Z"
   },
   {
    "duration": 312,
    "start_time": "2022-03-25T18:26:43.486Z"
   },
   {
    "duration": 355,
    "start_time": "2022-03-25T18:26:48.337Z"
   },
   {
    "duration": 528,
    "start_time": "2022-03-25T18:26:51.935Z"
   },
   {
    "duration": 823,
    "start_time": "2022-03-25T18:27:33.184Z"
   },
   {
    "duration": 2547,
    "start_time": "2022-03-25T18:27:44.223Z"
   },
   {
    "duration": 4,
    "start_time": "2022-03-25T18:28:15.945Z"
   },
   {
    "duration": 1063,
    "start_time": "2022-03-25T18:28:15.952Z"
   },
   {
    "duration": 22,
    "start_time": "2022-03-25T18:28:17.017Z"
   },
   {
    "duration": 4,
    "start_time": "2022-03-25T18:28:17.042Z"
   },
   {
    "duration": 195,
    "start_time": "2022-03-25T18:28:17.050Z"
   },
   {
    "duration": 117,
    "start_time": "2022-03-25T18:28:17.248Z"
   },
   {
    "duration": 617,
    "start_time": "2022-03-25T18:28:17.367Z"
   },
   {
    "duration": 643,
    "start_time": "2022-03-25T18:28:17.987Z"
   },
   {
    "duration": 565,
    "start_time": "2022-03-25T18:28:18.633Z"
   },
   {
    "duration": 1043,
    "start_time": "2022-03-25T18:28:19.200Z"
   },
   {
    "duration": 63,
    "start_time": "2022-03-25T18:28:20.245Z"
   },
   {
    "duration": 95,
    "start_time": "2022-03-25T18:28:20.311Z"
   },
   {
    "duration": 777,
    "start_time": "2022-03-25T18:28:20.408Z"
   },
   {
    "duration": 6,
    "start_time": "2022-03-25T18:28:21.190Z"
   },
   {
    "duration": 7,
    "start_time": "2022-03-25T18:28:21.198Z"
   },
   {
    "duration": 7,
    "start_time": "2022-03-25T18:28:21.207Z"
   },
   {
    "duration": 99,
    "start_time": "2022-03-25T18:28:21.216Z"
   },
   {
    "duration": 102,
    "start_time": "2022-03-25T18:28:21.317Z"
   },
   {
    "duration": 74,
    "start_time": "2022-03-25T18:28:21.421Z"
   },
   {
    "duration": 534,
    "start_time": "2022-03-25T18:28:21.497Z"
   },
   {
    "duration": 968,
    "start_time": "2022-03-25T18:28:22.034Z"
   },
   {
    "duration": 76,
    "start_time": "2022-03-25T18:28:23.004Z"
   },
   {
    "duration": 419,
    "start_time": "2022-03-25T18:28:23.083Z"
   },
   {
    "duration": 701,
    "start_time": "2022-03-25T18:28:23.505Z"
   },
   {
    "duration": 76,
    "start_time": "2022-03-25T18:28:24.209Z"
   },
   {
    "duration": 760,
    "start_time": "2022-03-25T18:28:24.288Z"
   },
   {
    "duration": 706,
    "start_time": "2022-03-25T18:28:25.050Z"
   },
   {
    "duration": 64,
    "start_time": "2022-03-25T18:28:25.758Z"
   },
   {
    "duration": 113,
    "start_time": "2022-03-25T18:28:25.825Z"
   },
   {
    "duration": 54,
    "start_time": "2022-03-25T18:28:25.940Z"
   },
   {
    "duration": 7169,
    "start_time": "2022-03-25T18:28:25.997Z"
   },
   {
    "duration": 2304,
    "start_time": "2022-03-25T18:28:33.173Z"
   },
   {
    "duration": 6,
    "start_time": "2022-03-25T18:28:35.479Z"
   },
   {
    "duration": 7,
    "start_time": "2022-03-25T18:28:35.487Z"
   },
   {
    "duration": 420,
    "start_time": "2022-03-25T18:28:35.496Z"
   },
   {
    "duration": 2861,
    "start_time": "2022-03-25T18:28:35.919Z"
   },
   {
    "duration": 4,
    "start_time": "2022-03-25T18:28:38.782Z"
   },
   {
    "duration": 64,
    "start_time": "2022-03-25T18:28:38.788Z"
   },
   {
    "duration": 260,
    "start_time": "2022-03-25T18:28:38.854Z"
   },
   {
    "duration": 368,
    "start_time": "2022-03-25T18:28:39.117Z"
   },
   {
    "duration": 535,
    "start_time": "2022-03-25T18:28:39.492Z"
   },
   {
    "duration": 1738,
    "start_time": "2022-03-25T18:28:40.030Z"
   },
   {
    "duration": 0,
    "start_time": "2022-03-25T18:28:41.774Z"
   },
   {
    "duration": 0,
    "start_time": "2022-03-25T18:28:41.775Z"
   },
   {
    "duration": 649,
    "start_time": "2022-03-25T18:29:12.314Z"
   },
   {
    "duration": 742,
    "start_time": "2022-03-25T18:30:55.455Z"
   },
   {
    "duration": 629,
    "start_time": "2022-03-25T18:31:54.175Z"
   },
   {
    "duration": 668,
    "start_time": "2022-03-25T18:31:58.584Z"
   },
   {
    "duration": 624,
    "start_time": "2022-03-25T18:33:44.745Z"
   },
   {
    "duration": 693,
    "start_time": "2022-03-25T18:33:54.626Z"
   },
   {
    "duration": 2497,
    "start_time": "2022-03-25T18:34:03.222Z"
   },
   {
    "duration": 900,
    "start_time": "2022-03-25T18:34:55.631Z"
   },
   {
    "duration": 657,
    "start_time": "2022-03-25T18:36:51.232Z"
   },
   {
    "duration": 685,
    "start_time": "2022-03-25T18:38:15.902Z"
   },
   {
    "duration": 622,
    "start_time": "2022-03-25T18:38:21.031Z"
   },
   {
    "duration": 2644,
    "start_time": "2022-03-25T18:38:29.222Z"
   },
   {
    "duration": 2516,
    "start_time": "2022-03-25T18:40:03.634Z"
   },
   {
    "duration": 5,
    "start_time": "2022-03-25T18:40:27.503Z"
   },
   {
    "duration": 1054,
    "start_time": "2022-03-25T18:40:27.511Z"
   },
   {
    "duration": 22,
    "start_time": "2022-03-25T18:40:28.567Z"
   },
   {
    "duration": 5,
    "start_time": "2022-03-25T18:40:28.592Z"
   },
   {
    "duration": 199,
    "start_time": "2022-03-25T18:40:28.599Z"
   },
   {
    "duration": 125,
    "start_time": "2022-03-25T18:40:28.801Z"
   },
   {
    "duration": 624,
    "start_time": "2022-03-25T18:40:28.929Z"
   },
   {
    "duration": 701,
    "start_time": "2022-03-25T18:40:29.556Z"
   },
   {
    "duration": 600,
    "start_time": "2022-03-25T18:40:30.262Z"
   },
   {
    "duration": 1114,
    "start_time": "2022-03-25T18:40:30.864Z"
   },
   {
    "duration": 59,
    "start_time": "2022-03-25T18:40:31.980Z"
   },
   {
    "duration": 95,
    "start_time": "2022-03-25T18:40:32.041Z"
   },
   {
    "duration": 824,
    "start_time": "2022-03-25T18:40:32.139Z"
   },
   {
    "duration": 11,
    "start_time": "2022-03-25T18:40:32.965Z"
   },
   {
    "duration": 6,
    "start_time": "2022-03-25T18:40:32.979Z"
   },
   {
    "duration": 11,
    "start_time": "2022-03-25T18:40:32.987Z"
   },
   {
    "duration": 98,
    "start_time": "2022-03-25T18:40:33.000Z"
   },
   {
    "duration": 106,
    "start_time": "2022-03-25T18:40:33.101Z"
   },
   {
    "duration": 71,
    "start_time": "2022-03-25T18:40:33.210Z"
   },
   {
    "duration": 518,
    "start_time": "2022-03-25T18:40:33.284Z"
   },
   {
    "duration": 728,
    "start_time": "2022-03-25T18:40:33.804Z"
   },
   {
    "duration": 74,
    "start_time": "2022-03-25T18:40:34.535Z"
   },
   {
    "duration": 431,
    "start_time": "2022-03-25T18:40:34.611Z"
   },
   {
    "duration": 716,
    "start_time": "2022-03-25T18:40:35.046Z"
   },
   {
    "duration": 60,
    "start_time": "2022-03-25T18:40:35.764Z"
   },
   {
    "duration": 757,
    "start_time": "2022-03-25T18:40:35.827Z"
   },
   {
    "duration": 1051,
    "start_time": "2022-03-25T18:40:36.587Z"
   },
   {
    "duration": 81,
    "start_time": "2022-03-25T18:40:37.641Z"
   },
   {
    "duration": 74,
    "start_time": "2022-03-25T18:40:37.725Z"
   },
   {
    "duration": 34,
    "start_time": "2022-03-25T18:40:37.802Z"
   },
   {
    "duration": 5544,
    "start_time": "2022-03-25T18:40:37.839Z"
   },
   {
    "duration": 2299,
    "start_time": "2022-03-25T18:40:43.386Z"
   },
   {
    "duration": 6,
    "start_time": "2022-03-25T18:40:45.687Z"
   },
   {
    "duration": 6,
    "start_time": "2022-03-25T18:40:45.695Z"
   },
   {
    "duration": 550,
    "start_time": "2022-03-25T18:40:45.704Z"
   },
   {
    "duration": 4498,
    "start_time": "2022-03-25T18:40:46.257Z"
   },
   {
    "duration": 4,
    "start_time": "2022-03-25T18:40:50.758Z"
   },
   {
    "duration": 65,
    "start_time": "2022-03-25T18:40:50.773Z"
   },
   {
    "duration": 346,
    "start_time": "2022-03-25T18:40:50.841Z"
   },
   {
    "duration": 281,
    "start_time": "2022-03-25T18:40:51.190Z"
   },
   {
    "duration": 1946,
    "start_time": "2022-03-25T18:40:51.474Z"
   },
   {
    "duration": 0,
    "start_time": "2022-03-25T18:40:53.423Z"
   },
   {
    "duration": 0,
    "start_time": "2022-03-25T18:40:53.424Z"
   },
   {
    "duration": 0,
    "start_time": "2022-03-25T18:40:53.425Z"
   },
   {
    "duration": 1918,
    "start_time": "2022-03-25T18:41:24.102Z"
   },
   {
    "duration": 498,
    "start_time": "2022-03-25T18:41:55.175Z"
   },
   {
    "duration": 497,
    "start_time": "2022-03-25T18:42:03.502Z"
   },
   {
    "duration": 881,
    "start_time": "2022-03-25T18:42:30.902Z"
   },
   {
    "duration": 5,
    "start_time": "2022-03-25T18:42:37.702Z"
   },
   {
    "duration": 1051,
    "start_time": "2022-03-25T18:42:37.711Z"
   },
   {
    "duration": 26,
    "start_time": "2022-03-25T18:42:38.765Z"
   },
   {
    "duration": 9,
    "start_time": "2022-03-25T18:42:38.793Z"
   },
   {
    "duration": 184,
    "start_time": "2022-03-25T18:42:38.806Z"
   },
   {
    "duration": 119,
    "start_time": "2022-03-25T18:42:38.992Z"
   },
   {
    "duration": 688,
    "start_time": "2022-03-25T18:42:39.113Z"
   },
   {
    "duration": 648,
    "start_time": "2022-03-25T18:42:39.805Z"
   },
   {
    "duration": 609,
    "start_time": "2022-03-25T18:42:40.455Z"
   },
   {
    "duration": 1041,
    "start_time": "2022-03-25T18:42:41.074Z"
   },
   {
    "duration": 73,
    "start_time": "2022-03-25T18:42:42.118Z"
   },
   {
    "duration": 90,
    "start_time": "2022-03-25T18:42:42.193Z"
   },
   {
    "duration": 774,
    "start_time": "2022-03-25T18:42:42.287Z"
   },
   {
    "duration": 7,
    "start_time": "2022-03-25T18:42:43.075Z"
   },
   {
    "duration": 7,
    "start_time": "2022-03-25T18:42:43.084Z"
   },
   {
    "duration": 9,
    "start_time": "2022-03-25T18:42:43.093Z"
   },
   {
    "duration": 89,
    "start_time": "2022-03-25T18:42:43.104Z"
   },
   {
    "duration": 107,
    "start_time": "2022-03-25T18:42:43.196Z"
   },
   {
    "duration": 80,
    "start_time": "2022-03-25T18:42:43.305Z"
   },
   {
    "duration": 540,
    "start_time": "2022-03-25T18:42:43.387Z"
   },
   {
    "duration": 724,
    "start_time": "2022-03-25T18:42:43.929Z"
   },
   {
    "duration": 117,
    "start_time": "2022-03-25T18:42:44.656Z"
   },
   {
    "duration": 614,
    "start_time": "2022-03-25T18:42:44.776Z"
   },
   {
    "duration": 1313,
    "start_time": "2022-03-25T18:42:45.393Z"
   },
   {
    "duration": 103,
    "start_time": "2022-03-25T18:42:46.709Z"
   },
   {
    "duration": 635,
    "start_time": "2022-03-25T18:42:46.814Z"
   },
   {
    "duration": 704,
    "start_time": "2022-03-25T18:42:47.451Z"
   },
   {
    "duration": 63,
    "start_time": "2022-03-25T18:42:48.158Z"
   },
   {
    "duration": 87,
    "start_time": "2022-03-25T18:42:48.223Z"
   },
   {
    "duration": 34,
    "start_time": "2022-03-25T18:42:48.313Z"
   },
   {
    "duration": 5549,
    "start_time": "2022-03-25T18:42:48.349Z"
   },
   {
    "duration": 2292,
    "start_time": "2022-03-25T18:42:53.900Z"
   },
   {
    "duration": 7,
    "start_time": "2022-03-25T18:42:56.194Z"
   },
   {
    "duration": 377,
    "start_time": "2022-03-25T18:42:56.203Z"
   },
   {
    "duration": 396,
    "start_time": "2022-03-25T18:42:56.582Z"
   },
   {
    "duration": 2804,
    "start_time": "2022-03-25T18:42:56.981Z"
   },
   {
    "duration": 3,
    "start_time": "2022-03-25T18:42:59.787Z"
   },
   {
    "duration": 54,
    "start_time": "2022-03-25T18:42:59.793Z"
   },
   {
    "duration": 265,
    "start_time": "2022-03-25T18:42:59.850Z"
   },
   {
    "duration": 439,
    "start_time": "2022-03-25T18:43:00.118Z"
   },
   {
    "duration": 881,
    "start_time": "2022-03-25T18:43:00.562Z"
   },
   {
    "duration": 2684,
    "start_time": "2022-03-25T18:43:01.445Z"
   },
   {
    "duration": 86,
    "start_time": "2022-03-25T18:43:04.131Z"
   },
   {
    "duration": 39,
    "start_time": "2022-03-25T18:43:04.219Z"
   },
   {
    "duration": 91,
    "start_time": "2022-03-25T18:43:25.101Z"
   },
   {
    "duration": 1676,
    "start_time": "2022-03-25T18:44:00.142Z"
   },
   {
    "duration": 1689,
    "start_time": "2022-03-25T18:44:15.591Z"
   },
   {
    "duration": 2119,
    "start_time": "2022-03-25T18:44:24.864Z"
   },
   {
    "duration": 1792,
    "start_time": "2022-03-25T18:45:07.621Z"
   },
   {
    "duration": 5,
    "start_time": "2022-03-25T18:45:33.906Z"
   },
   {
    "duration": 1008,
    "start_time": "2022-03-25T18:45:33.914Z"
   },
   {
    "duration": 21,
    "start_time": "2022-03-25T18:45:34.924Z"
   },
   {
    "duration": 27,
    "start_time": "2022-03-25T18:45:34.947Z"
   },
   {
    "duration": 178,
    "start_time": "2022-03-25T18:45:34.977Z"
   },
   {
    "duration": 125,
    "start_time": "2022-03-25T18:45:35.158Z"
   },
   {
    "duration": 640,
    "start_time": "2022-03-25T18:45:35.285Z"
   },
   {
    "duration": 689,
    "start_time": "2022-03-25T18:45:35.927Z"
   },
   {
    "duration": 588,
    "start_time": "2022-03-25T18:45:36.618Z"
   },
   {
    "duration": 1155,
    "start_time": "2022-03-25T18:45:37.208Z"
   },
   {
    "duration": 58,
    "start_time": "2022-03-25T18:45:38.366Z"
   },
   {
    "duration": 95,
    "start_time": "2022-03-25T18:45:38.427Z"
   },
   {
    "duration": 820,
    "start_time": "2022-03-25T18:45:38.524Z"
   },
   {
    "duration": 6,
    "start_time": "2022-03-25T18:45:39.349Z"
   },
   {
    "duration": 25,
    "start_time": "2022-03-25T18:45:39.357Z"
   },
   {
    "duration": 13,
    "start_time": "2022-03-25T18:45:39.384Z"
   },
   {
    "duration": 113,
    "start_time": "2022-03-25T18:45:39.402Z"
   },
   {
    "duration": 110,
    "start_time": "2022-03-25T18:45:39.517Z"
   },
   {
    "duration": 79,
    "start_time": "2022-03-25T18:45:39.630Z"
   },
   {
    "duration": 504,
    "start_time": "2022-03-25T18:45:39.711Z"
   },
   {
    "duration": 718,
    "start_time": "2022-03-25T18:45:40.217Z"
   },
   {
    "duration": 70,
    "start_time": "2022-03-25T18:45:40.937Z"
   },
   {
    "duration": 410,
    "start_time": "2022-03-25T18:45:41.009Z"
   },
   {
    "duration": 1000,
    "start_time": "2022-03-25T18:45:41.421Z"
   },
   {
    "duration": 114,
    "start_time": "2022-03-25T18:45:42.423Z"
   },
   {
    "duration": 656,
    "start_time": "2022-03-25T18:45:42.539Z"
   },
   {
    "duration": 820,
    "start_time": "2022-03-25T18:45:43.197Z"
   },
   {
    "duration": 84,
    "start_time": "2022-03-25T18:45:44.019Z"
   },
   {
    "duration": 69,
    "start_time": "2022-03-25T18:45:44.106Z"
   },
   {
    "duration": 35,
    "start_time": "2022-03-25T18:45:44.177Z"
   },
   {
    "duration": 5272,
    "start_time": "2022-03-25T18:45:44.214Z"
   },
   {
    "duration": 2264,
    "start_time": "2022-03-25T18:45:49.488Z"
   },
   {
    "duration": 6,
    "start_time": "2022-03-25T18:45:51.754Z"
   },
   {
    "duration": 5,
    "start_time": "2022-03-25T18:45:51.774Z"
   },
   {
    "duration": 415,
    "start_time": "2022-03-25T18:45:51.781Z"
   },
   {
    "duration": 3012,
    "start_time": "2022-03-25T18:45:52.198Z"
   },
   {
    "duration": 3,
    "start_time": "2022-03-25T18:45:55.212Z"
   },
   {
    "duration": 73,
    "start_time": "2022-03-25T18:45:55.217Z"
   },
   {
    "duration": 249,
    "start_time": "2022-03-25T18:45:55.292Z"
   },
   {
    "duration": 283,
    "start_time": "2022-03-25T18:45:55.543Z"
   },
   {
    "duration": 2089,
    "start_time": "2022-03-25T18:45:55.832Z"
   },
   {
    "duration": 2619,
    "start_time": "2022-03-25T18:45:57.923Z"
   },
   {
    "duration": 249,
    "start_time": "2022-03-25T18:46:00.544Z"
   },
   {
    "duration": 34,
    "start_time": "2022-03-25T18:46:00.795Z"
   },
   {
    "duration": 3859,
    "start_time": "2022-03-25T18:47:18.469Z"
   },
   {
    "duration": 3868,
    "start_time": "2022-03-25T18:47:53.662Z"
   },
   {
    "duration": 5638,
    "start_time": "2022-03-25T18:48:06.101Z"
   },
   {
    "duration": 2532,
    "start_time": "2022-03-25T18:48:32.141Z"
   },
   {
    "duration": 4,
    "start_time": "2022-03-25T18:48:41.550Z"
   },
   {
    "duration": 1025,
    "start_time": "2022-03-25T18:48:41.557Z"
   },
   {
    "duration": 21,
    "start_time": "2022-03-25T18:48:42.584Z"
   },
   {
    "duration": 27,
    "start_time": "2022-03-25T18:48:42.609Z"
   },
   {
    "duration": 198,
    "start_time": "2022-03-25T18:48:42.639Z"
   },
   {
    "duration": 117,
    "start_time": "2022-03-25T18:48:42.839Z"
   },
   {
    "duration": 645,
    "start_time": "2022-03-25T18:48:42.958Z"
   },
   {
    "duration": 632,
    "start_time": "2022-03-25T18:48:43.605Z"
   },
   {
    "duration": 603,
    "start_time": "2022-03-25T18:48:44.239Z"
   },
   {
    "duration": 1070,
    "start_time": "2022-03-25T18:48:44.846Z"
   },
   {
    "duration": 68,
    "start_time": "2022-03-25T18:48:45.919Z"
   },
   {
    "duration": 96,
    "start_time": "2022-03-25T18:48:45.989Z"
   },
   {
    "duration": 811,
    "start_time": "2022-03-25T18:48:46.087Z"
   },
   {
    "duration": 6,
    "start_time": "2022-03-25T18:48:46.901Z"
   },
   {
    "duration": 12,
    "start_time": "2022-03-25T18:48:46.909Z"
   },
   {
    "duration": 9,
    "start_time": "2022-03-25T18:48:46.923Z"
   },
   {
    "duration": 70,
    "start_time": "2022-03-25T18:48:46.935Z"
   },
   {
    "duration": 102,
    "start_time": "2022-03-25T18:48:47.007Z"
   },
   {
    "duration": 68,
    "start_time": "2022-03-25T18:48:47.111Z"
   },
   {
    "duration": 878,
    "start_time": "2022-03-25T18:48:47.181Z"
   },
   {
    "duration": 1014,
    "start_time": "2022-03-25T18:48:48.061Z"
   },
   {
    "duration": 58,
    "start_time": "2022-03-25T18:48:49.078Z"
   },
   {
    "duration": 422,
    "start_time": "2022-03-25T18:48:49.139Z"
   },
   {
    "duration": 693,
    "start_time": "2022-03-25T18:48:49.564Z"
   },
   {
    "duration": 68,
    "start_time": "2022-03-25T18:48:50.260Z"
   },
   {
    "duration": 494,
    "start_time": "2022-03-25T18:48:50.330Z"
   },
   {
    "duration": 711,
    "start_time": "2022-03-25T18:48:50.826Z"
   },
   {
    "duration": 80,
    "start_time": "2022-03-25T18:48:51.542Z"
   },
   {
    "duration": 66,
    "start_time": "2022-03-25T18:48:51.624Z"
   },
   {
    "duration": 35,
    "start_time": "2022-03-25T18:48:51.692Z"
   },
   {
    "duration": 5311,
    "start_time": "2022-03-25T18:48:51.729Z"
   },
   {
    "duration": 2203,
    "start_time": "2022-03-25T18:48:57.042Z"
   },
   {
    "duration": 8,
    "start_time": "2022-03-25T18:48:59.248Z"
   },
   {
    "duration": 5,
    "start_time": "2022-03-25T18:48:59.273Z"
   },
   {
    "duration": 525,
    "start_time": "2022-03-25T18:48:59.281Z"
   },
   {
    "duration": 2782,
    "start_time": "2022-03-25T18:48:59.808Z"
   },
   {
    "duration": 3,
    "start_time": "2022-03-25T18:49:02.592Z"
   },
   {
    "duration": 61,
    "start_time": "2022-03-25T18:49:02.598Z"
   },
   {
    "duration": 255,
    "start_time": "2022-03-25T18:49:02.672Z"
   },
   {
    "duration": 283,
    "start_time": "2022-03-25T18:49:02.929Z"
   },
   {
    "duration": 608,
    "start_time": "2022-03-25T18:49:03.215Z"
   },
   {
    "duration": 2711,
    "start_time": "2022-03-25T18:49:03.826Z"
   },
   {
    "duration": 80,
    "start_time": "2022-03-25T18:49:06.539Z"
   },
   {
    "duration": 53,
    "start_time": "2022-03-25T18:49:06.621Z"
   },
   {
    "duration": 144,
    "start_time": "2022-03-25T18:49:57.422Z"
   },
   {
    "duration": 499,
    "start_time": "2022-03-25T18:50:21.781Z"
   },
   {
    "duration": 2848,
    "start_time": "2022-03-25T18:50:23.462Z"
   },
   {
    "duration": 54,
    "start_time": "2022-03-25T18:50:30.343Z"
   },
   {
    "duration": 104,
    "start_time": "2022-03-25T18:50:33.381Z"
   },
   {
    "duration": 375,
    "start_time": "2022-03-25T18:51:49.821Z"
   },
   {
    "duration": 2857,
    "start_time": "2022-03-25T18:51:52.702Z"
   },
   {
    "duration": 73,
    "start_time": "2022-03-25T18:51:55.562Z"
   },
   {
    "duration": 104,
    "start_time": "2022-03-25T18:51:57.254Z"
   },
   {
    "duration": 10652,
    "start_time": "2022-03-25T18:53:29.150Z"
   },
   {
    "duration": 2133,
    "start_time": "2022-03-25T18:54:02.381Z"
   },
   {
    "duration": 2251,
    "start_time": "2022-03-25T18:54:28.902Z"
   },
   {
    "duration": 1641,
    "start_time": "2022-03-25T18:54:33.373Z"
   },
   {
    "duration": 1926,
    "start_time": "2022-03-25T18:55:01.703Z"
   },
   {
    "duration": 95,
    "start_time": "2022-03-25T18:55:21.901Z"
   },
   {
    "duration": 1849,
    "start_time": "2022-03-25T18:55:30.183Z"
   },
   {
    "duration": 1707,
    "start_time": "2022-03-25T18:56:33.486Z"
   },
   {
    "duration": 1891,
    "start_time": "2022-03-25T18:56:39.384Z"
   },
   {
    "duration": 148,
    "start_time": "2022-03-25T18:57:05.702Z"
   },
   {
    "duration": 1528,
    "start_time": "2022-03-25T18:57:12.773Z"
   },
   {
    "duration": 1526,
    "start_time": "2022-03-25T18:57:36.391Z"
   },
   {
    "duration": 9,
    "start_time": "2022-03-25T19:00:56.861Z"
   },
   {
    "duration": 36,
    "start_time": "2022-03-25T19:03:28.902Z"
   },
   {
    "duration": 3,
    "start_time": "2022-03-25T19:09:46.149Z"
   },
   {
    "duration": 132,
    "start_time": "2022-03-25T19:10:02.702Z"
   },
   {
    "duration": 137,
    "start_time": "2022-03-25T19:11:54.221Z"
   },
   {
    "duration": 8,
    "start_time": "2022-03-25T19:12:45.861Z"
   },
   {
    "duration": 2134,
    "start_time": "2022-03-25T19:14:51.239Z"
   },
   {
    "duration": 2875,
    "start_time": "2022-03-25T19:15:06.228Z"
   },
   {
    "duration": 1872,
    "start_time": "2022-03-25T19:15:29.702Z"
   },
   {
    "duration": 1988,
    "start_time": "2022-03-25T19:15:48.501Z"
   },
   {
    "duration": 446,
    "start_time": "2022-03-25T19:16:16.374Z"
   },
   {
    "duration": 133,
    "start_time": "2022-03-25T19:16:24.350Z"
   },
   {
    "duration": 1199,
    "start_time": "2022-03-25T19:16:32.582Z"
   },
   {
    "duration": 1068,
    "start_time": "2022-03-25T19:16:54.421Z"
   },
   {
    "duration": 207,
    "start_time": "2022-03-25T19:17:09.821Z"
   },
   {
    "duration": 392,
    "start_time": "2022-03-25T19:17:37.181Z"
   },
   {
    "duration": 1006,
    "start_time": "2022-03-25T19:17:50.917Z"
   },
   {
    "duration": 1195,
    "start_time": "2022-03-25T19:18:12.500Z"
   },
   {
    "duration": 9,
    "start_time": "2022-03-25T19:18:17.981Z"
   },
   {
    "duration": 1210,
    "start_time": "2022-03-25T19:18:20.238Z"
   },
   {
    "duration": 414,
    "start_time": "2022-03-25T19:18:32.263Z"
   },
   {
    "duration": 8,
    "start_time": "2022-03-25T19:19:08.381Z"
   },
   {
    "duration": 2102,
    "start_time": "2022-03-25T19:19:47.891Z"
   },
   {
    "duration": 2526,
    "start_time": "2022-03-25T19:20:38.261Z"
   },
   {
    "duration": 15,
    "start_time": "2022-03-25T19:21:49.589Z"
   },
   {
    "duration": 745,
    "start_time": "2022-03-25T19:22:04.211Z"
   },
   {
    "duration": 588,
    "start_time": "2022-03-25T19:22:17.701Z"
   },
   {
    "duration": 3429,
    "start_time": "2022-03-25T19:22:29.222Z"
   },
   {
    "duration": 2331,
    "start_time": "2022-03-25T19:23:43.381Z"
   },
   {
    "duration": 2219,
    "start_time": "2022-03-25T19:23:59.950Z"
   },
   {
    "duration": 2147,
    "start_time": "2022-03-25T19:24:09.940Z"
   },
   {
    "duration": 2071,
    "start_time": "2022-03-25T19:24:26.502Z"
   },
   {
    "duration": 2072,
    "start_time": "2022-03-25T19:24:51.933Z"
   },
   {
    "duration": 2021,
    "start_time": "2022-03-25T19:25:31.471Z"
   },
   {
    "duration": 164,
    "start_time": "2022-03-25T19:26:59.662Z"
   },
   {
    "duration": 82,
    "start_time": "2022-03-25T19:30:55.950Z"
   },
   {
    "duration": 88,
    "start_time": "2022-03-25T19:31:02.742Z"
   },
   {
    "duration": 82,
    "start_time": "2022-03-25T19:31:07.702Z"
   },
   {
    "duration": 86,
    "start_time": "2022-03-25T19:31:15.781Z"
   },
   {
    "duration": 2683,
    "start_time": "2022-03-25T19:31:34.231Z"
   },
   {
    "duration": 2766,
    "start_time": "2022-03-25T19:32:09.399Z"
   },
   {
    "duration": 5,
    "start_time": "2022-03-25T19:32:23.702Z"
   },
   {
    "duration": 1136,
    "start_time": "2022-03-25T19:32:23.709Z"
   },
   {
    "duration": 33,
    "start_time": "2022-03-25T19:32:24.848Z"
   },
   {
    "duration": 8,
    "start_time": "2022-03-25T19:32:24.884Z"
   },
   {
    "duration": 192,
    "start_time": "2022-03-25T19:32:24.895Z"
   },
   {
    "duration": 120,
    "start_time": "2022-03-25T19:32:25.089Z"
   },
   {
    "duration": 615,
    "start_time": "2022-03-25T19:32:25.211Z"
   },
   {
    "duration": 631,
    "start_time": "2022-03-25T19:32:25.829Z"
   },
   {
    "duration": 601,
    "start_time": "2022-03-25T19:32:26.462Z"
   },
   {
    "duration": 1021,
    "start_time": "2022-03-25T19:32:27.066Z"
   },
   {
    "duration": 60,
    "start_time": "2022-03-25T19:32:28.089Z"
   },
   {
    "duration": 90,
    "start_time": "2022-03-25T19:32:28.152Z"
   },
   {
    "duration": 756,
    "start_time": "2022-03-25T19:32:28.245Z"
   },
   {
    "duration": 6,
    "start_time": "2022-03-25T19:32:29.006Z"
   },
   {
    "duration": 6,
    "start_time": "2022-03-25T19:32:29.014Z"
   },
   {
    "duration": 9,
    "start_time": "2022-03-25T19:32:29.023Z"
   },
   {
    "duration": 96,
    "start_time": "2022-03-25T19:32:29.034Z"
   },
   {
    "duration": 104,
    "start_time": "2022-03-25T19:32:29.132Z"
   },
   {
    "duration": 72,
    "start_time": "2022-03-25T19:32:29.239Z"
   },
   {
    "duration": 522,
    "start_time": "2022-03-25T19:32:29.313Z"
   },
   {
    "duration": 704,
    "start_time": "2022-03-25T19:32:29.837Z"
   },
   {
    "duration": 71,
    "start_time": "2022-03-25T19:32:30.543Z"
   },
   {
    "duration": 424,
    "start_time": "2022-03-25T19:32:30.616Z"
   },
   {
    "duration": 720,
    "start_time": "2022-03-25T19:32:31.042Z"
   },
   {
    "duration": 66,
    "start_time": "2022-03-25T19:32:31.765Z"
   },
   {
    "duration": 501,
    "start_time": "2022-03-25T19:32:31.833Z"
   },
   {
    "duration": 700,
    "start_time": "2022-03-25T19:32:32.336Z"
   },
   {
    "duration": 64,
    "start_time": "2022-03-25T19:32:33.038Z"
   },
   {
    "duration": 72,
    "start_time": "2022-03-25T19:32:33.104Z"
   },
   {
    "duration": 5441,
    "start_time": "2022-03-25T19:32:33.178Z"
   },
   {
    "duration": 2365,
    "start_time": "2022-03-25T19:32:38.622Z"
   },
   {
    "duration": 6,
    "start_time": "2022-03-25T19:32:40.989Z"
   },
   {
    "duration": 15,
    "start_time": "2022-03-25T19:32:40.997Z"
   },
   {
    "duration": 416,
    "start_time": "2022-03-25T19:32:41.014Z"
   },
   {
    "duration": 2893,
    "start_time": "2022-03-25T19:32:41.432Z"
   },
   {
    "duration": 4,
    "start_time": "2022-03-25T19:32:44.327Z"
   },
   {
    "duration": 87,
    "start_time": "2022-03-25T19:32:44.334Z"
   },
   {
    "duration": 263,
    "start_time": "2022-03-25T19:32:44.424Z"
   },
   {
    "duration": 275,
    "start_time": "2022-03-25T19:32:44.690Z"
   },
   {
    "duration": 515,
    "start_time": "2022-03-25T19:32:44.967Z"
   },
   {
    "duration": 2969,
    "start_time": "2022-03-25T19:32:45.488Z"
   },
   {
    "duration": 77,
    "start_time": "2022-03-25T19:32:48.459Z"
   },
   {
    "duration": 11,
    "start_time": "2022-03-25T19:32:48.538Z"
   },
   {
    "duration": 69,
    "start_time": "2022-03-25T19:32:48.551Z"
   },
   {
    "duration": 10,
    "start_time": "2022-03-25T19:32:48.623Z"
   },
   {
    "duration": 2048,
    "start_time": "2022-03-25T19:32:48.636Z"
   },
   {
    "duration": 2805,
    "start_time": "2022-03-25T19:32:50.687Z"
   },
   {
    "duration": 4,
    "start_time": "2022-03-25T19:32:53.495Z"
   },
   {
    "duration": 3046,
    "start_time": "2022-03-25T19:33:50.582Z"
   },
   {
    "duration": 2906,
    "start_time": "2022-03-25T19:34:44.542Z"
   },
   {
    "duration": 2681,
    "start_time": "2022-03-25T19:35:15.822Z"
   },
   {
    "duration": 2689,
    "start_time": "2022-03-25T19:35:27.943Z"
   },
   {
    "duration": 4005,
    "start_time": "2022-03-25T19:35:38.999Z"
   },
   {
    "duration": 3997,
    "start_time": "2022-03-25T19:36:03.303Z"
   },
   {
    "duration": 2788,
    "start_time": "2022-03-25T19:36:14.270Z"
   },
   {
    "duration": 104,
    "start_time": "2022-03-25T19:37:03.902Z"
   },
   {
    "duration": 2798,
    "start_time": "2022-03-25T19:37:15.142Z"
   },
   {
    "duration": 2800,
    "start_time": "2022-03-25T19:37:39.974Z"
   },
   {
    "duration": 4,
    "start_time": "2022-03-25T19:38:30.706Z"
   },
   {
    "duration": 1047,
    "start_time": "2022-03-25T19:38:30.713Z"
   },
   {
    "duration": 29,
    "start_time": "2022-03-25T19:38:31.762Z"
   },
   {
    "duration": 6,
    "start_time": "2022-03-25T19:38:31.794Z"
   },
   {
    "duration": 187,
    "start_time": "2022-03-25T19:38:31.803Z"
   },
   {
    "duration": 119,
    "start_time": "2022-03-25T19:38:31.993Z"
   },
   {
    "duration": 594,
    "start_time": "2022-03-25T19:38:32.114Z"
   },
   {
    "duration": 628,
    "start_time": "2022-03-25T19:38:32.711Z"
   },
   {
    "duration": 601,
    "start_time": "2022-03-25T19:38:33.342Z"
   },
   {
    "duration": 1042,
    "start_time": "2022-03-25T19:38:33.945Z"
   },
   {
    "duration": 57,
    "start_time": "2022-03-25T19:38:34.989Z"
   },
   {
    "duration": 90,
    "start_time": "2022-03-25T19:38:35.048Z"
   },
   {
    "duration": 922,
    "start_time": "2022-03-25T19:38:35.140Z"
   },
   {
    "duration": 13,
    "start_time": "2022-03-25T19:38:36.068Z"
   },
   {
    "duration": 7,
    "start_time": "2022-03-25T19:38:36.084Z"
   },
   {
    "duration": 10,
    "start_time": "2022-03-25T19:38:36.093Z"
   },
   {
    "duration": 91,
    "start_time": "2022-03-25T19:38:36.105Z"
   },
   {
    "duration": 97,
    "start_time": "2022-03-25T19:38:36.198Z"
   },
   {
    "duration": 63,
    "start_time": "2022-03-25T19:38:36.297Z"
   },
   {
    "duration": 487,
    "start_time": "2022-03-25T19:38:36.374Z"
   },
   {
    "duration": 690,
    "start_time": "2022-03-25T19:38:36.864Z"
   },
   {
    "duration": 66,
    "start_time": "2022-03-25T19:38:37.556Z"
   },
   {
    "duration": 422,
    "start_time": "2022-03-25T19:38:37.625Z"
   },
   {
    "duration": 697,
    "start_time": "2022-03-25T19:38:38.050Z"
   },
   {
    "duration": 67,
    "start_time": "2022-03-25T19:38:38.750Z"
   },
   {
    "duration": 494,
    "start_time": "2022-03-25T19:38:38.819Z"
   },
   {
    "duration": 785,
    "start_time": "2022-03-25T19:38:39.316Z"
   },
   {
    "duration": 70,
    "start_time": "2022-03-25T19:38:40.104Z"
   },
   {
    "duration": 61,
    "start_time": "2022-03-25T19:38:40.176Z"
   },
   {
    "duration": 5339,
    "start_time": "2022-03-25T19:38:40.240Z"
   },
   {
    "duration": 2535,
    "start_time": "2022-03-25T19:38:45.581Z"
   },
   {
    "duration": 6,
    "start_time": "2022-03-25T19:38:48.119Z"
   },
   {
    "duration": 8,
    "start_time": "2022-03-25T19:38:48.127Z"
   },
   {
    "duration": 540,
    "start_time": "2022-03-25T19:38:48.138Z"
   },
   {
    "duration": 4339,
    "start_time": "2022-03-25T19:38:48.681Z"
   },
   {
    "duration": 3,
    "start_time": "2022-03-25T19:38:53.024Z"
   },
   {
    "duration": 96,
    "start_time": "2022-03-25T19:38:53.030Z"
   },
   {
    "duration": 269,
    "start_time": "2022-03-25T19:38:53.128Z"
   },
   {
    "duration": 277,
    "start_time": "2022-03-25T19:38:53.400Z"
   },
   {
    "duration": 533,
    "start_time": "2022-03-25T19:38:53.679Z"
   },
   {
    "duration": 4111,
    "start_time": "2022-03-25T19:38:54.219Z"
   },
   {
    "duration": 93,
    "start_time": "2022-03-25T19:38:58.333Z"
   },
   {
    "duration": 12,
    "start_time": "2022-03-25T19:38:58.429Z"
   },
   {
    "duration": 71,
    "start_time": "2022-03-25T19:38:58.444Z"
   },
   {
    "duration": 12,
    "start_time": "2022-03-25T19:38:58.518Z"
   },
   {
    "duration": 2117,
    "start_time": "2022-03-25T19:38:58.531Z"
   },
   {
    "duration": 2987,
    "start_time": "2022-03-25T19:39:00.651Z"
   },
   {
    "duration": 4,
    "start_time": "2022-03-25T19:39:03.640Z"
   },
   {
    "duration": 2827,
    "start_time": "2022-03-25T19:39:12.958Z"
   },
   {
    "duration": 2764,
    "start_time": "2022-03-25T19:39:48.861Z"
   },
   {
    "duration": 11,
    "start_time": "2022-03-25T19:40:27.661Z"
   },
   {
    "duration": 4,
    "start_time": "2022-03-25T19:40:31.630Z"
   },
   {
    "duration": 70,
    "start_time": "2022-03-25T19:43:56.701Z"
   },
   {
    "duration": 68,
    "start_time": "2022-03-25T19:44:42.381Z"
   },
   {
    "duration": 4,
    "start_time": "2022-03-25T19:44:54.183Z"
   },
   {
    "duration": 1157,
    "start_time": "2022-03-25T19:44:54.189Z"
   },
   {
    "duration": 26,
    "start_time": "2022-03-25T19:44:55.349Z"
   },
   {
    "duration": 5,
    "start_time": "2022-03-25T19:44:55.377Z"
   },
   {
    "duration": 193,
    "start_time": "2022-03-25T19:44:55.385Z"
   },
   {
    "duration": 153,
    "start_time": "2022-03-25T19:44:55.581Z"
   },
   {
    "duration": 829,
    "start_time": "2022-03-25T19:44:55.736Z"
   },
   {
    "duration": 914,
    "start_time": "2022-03-25T19:44:56.568Z"
   },
   {
    "duration": 695,
    "start_time": "2022-03-25T19:44:57.485Z"
   },
   {
    "duration": 1571,
    "start_time": "2022-03-25T19:44:58.183Z"
   },
   {
    "duration": 117,
    "start_time": "2022-03-25T19:44:59.757Z"
   },
   {
    "duration": 123,
    "start_time": "2022-03-25T19:44:59.877Z"
   },
   {
    "duration": 991,
    "start_time": "2022-03-25T19:45:00.003Z"
   },
   {
    "duration": 6,
    "start_time": "2022-03-25T19:45:01.001Z"
   },
   {
    "duration": 43,
    "start_time": "2022-03-25T19:45:01.010Z"
   },
   {
    "duration": 309,
    "start_time": "2022-03-25T19:45:01.056Z"
   },
   {
    "duration": 82,
    "start_time": "2022-03-25T19:45:01.367Z"
   },
   {
    "duration": 95,
    "start_time": "2022-03-25T19:45:01.451Z"
   },
   {
    "duration": 77,
    "start_time": "2022-03-25T19:45:01.548Z"
   },
   {
    "duration": 539,
    "start_time": "2022-03-25T19:45:01.627Z"
   },
   {
    "duration": 1007,
    "start_time": "2022-03-25T19:45:02.173Z"
   },
   {
    "duration": 54,
    "start_time": "2022-03-25T19:45:03.183Z"
   },
   {
    "duration": 695,
    "start_time": "2022-03-25T19:45:03.239Z"
   },
   {
    "duration": 1121,
    "start_time": "2022-03-25T19:45:03.937Z"
   },
   {
    "duration": 65,
    "start_time": "2022-03-25T19:45:05.060Z"
   },
   {
    "duration": 488,
    "start_time": "2022-03-25T19:45:05.127Z"
   },
   {
    "duration": 683,
    "start_time": "2022-03-25T19:45:05.617Z"
   },
   {
    "duration": 72,
    "start_time": "2022-03-25T19:45:06.302Z"
   },
   {
    "duration": 61,
    "start_time": "2022-03-25T19:45:06.376Z"
   },
   {
    "duration": 5234,
    "start_time": "2022-03-25T19:45:06.439Z"
   },
   {
    "duration": 2368,
    "start_time": "2022-03-25T19:45:11.676Z"
   },
   {
    "duration": 6,
    "start_time": "2022-03-25T19:45:14.046Z"
   },
   {
    "duration": 4,
    "start_time": "2022-03-25T19:45:14.073Z"
   },
   {
    "duration": 399,
    "start_time": "2022-03-25T19:45:14.079Z"
   },
   {
    "duration": 2877,
    "start_time": "2022-03-25T19:45:14.481Z"
   },
   {
    "duration": 3,
    "start_time": "2022-03-25T19:45:17.361Z"
   },
   {
    "duration": 66,
    "start_time": "2022-03-25T19:45:17.374Z"
   },
   {
    "duration": 264,
    "start_time": "2022-03-25T19:45:17.442Z"
   },
   {
    "duration": 271,
    "start_time": "2022-03-25T19:45:17.709Z"
   },
   {
    "duration": 495,
    "start_time": "2022-03-25T19:45:17.983Z"
   },
   {
    "duration": 2639,
    "start_time": "2022-03-25T19:45:18.483Z"
   },
   {
    "duration": 81,
    "start_time": "2022-03-25T19:45:21.124Z"
   },
   {
    "duration": 9,
    "start_time": "2022-03-25T19:45:21.208Z"
   },
   {
    "duration": 72,
    "start_time": "2022-03-25T19:45:21.219Z"
   },
   {
    "duration": 9,
    "start_time": "2022-03-25T19:45:21.293Z"
   },
   {
    "duration": 2143,
    "start_time": "2022-03-25T19:45:21.304Z"
   },
   {
    "duration": 81,
    "start_time": "2022-03-25T19:45:23.450Z"
   },
   {
    "duration": 4,
    "start_time": "2022-03-25T19:45:23.534Z"
   },
   {
    "duration": 62,
    "start_time": "2022-03-25T19:45:49.142Z"
   },
   {
    "duration": 4,
    "start_time": "2022-03-25T19:45:54.783Z"
   },
   {
    "duration": 1032,
    "start_time": "2022-03-25T19:45:54.789Z"
   },
   {
    "duration": 20,
    "start_time": "2022-03-25T19:45:55.824Z"
   },
   {
    "duration": 5,
    "start_time": "2022-03-25T19:45:55.847Z"
   },
   {
    "duration": 180,
    "start_time": "2022-03-25T19:45:55.875Z"
   },
   {
    "duration": 123,
    "start_time": "2022-03-25T19:45:56.057Z"
   },
   {
    "duration": 624,
    "start_time": "2022-03-25T19:45:56.183Z"
   },
   {
    "duration": 660,
    "start_time": "2022-03-25T19:45:56.810Z"
   },
   {
    "duration": 580,
    "start_time": "2022-03-25T19:45:57.472Z"
   },
   {
    "duration": 1067,
    "start_time": "2022-03-25T19:45:58.055Z"
   },
   {
    "duration": 69,
    "start_time": "2022-03-25T19:45:59.124Z"
   },
   {
    "duration": 95,
    "start_time": "2022-03-25T19:45:59.195Z"
   },
   {
    "duration": 771,
    "start_time": "2022-03-25T19:45:59.292Z"
   },
   {
    "duration": 6,
    "start_time": "2022-03-25T19:46:00.073Z"
   },
   {
    "duration": 10,
    "start_time": "2022-03-25T19:46:00.081Z"
   },
   {
    "duration": 15,
    "start_time": "2022-03-25T19:46:00.094Z"
   },
   {
    "duration": 88,
    "start_time": "2022-03-25T19:46:00.112Z"
   },
   {
    "duration": 95,
    "start_time": "2022-03-25T19:46:00.203Z"
   },
   {
    "duration": 60,
    "start_time": "2022-03-25T19:46:00.300Z"
   },
   {
    "duration": 505,
    "start_time": "2022-03-25T19:46:00.375Z"
   },
   {
    "duration": 702,
    "start_time": "2022-03-25T19:46:00.883Z"
   },
   {
    "duration": 57,
    "start_time": "2022-03-25T19:46:01.588Z"
   },
   {
    "duration": 646,
    "start_time": "2022-03-25T19:46:01.647Z"
   },
   {
    "duration": 1025,
    "start_time": "2022-03-25T19:46:02.295Z"
   },
   {
    "duration": 119,
    "start_time": "2022-03-25T19:46:03.322Z"
   },
   {
    "duration": 758,
    "start_time": "2022-03-25T19:46:03.444Z"
   },
   {
    "duration": 1066,
    "start_time": "2022-03-25T19:46:04.204Z"
   },
   {
    "duration": 59,
    "start_time": "2022-03-25T19:46:05.273Z"
   },
   {
    "duration": 81,
    "start_time": "2022-03-25T19:46:05.335Z"
   },
   {
    "duration": 5539,
    "start_time": "2022-03-25T19:46:05.418Z"
   },
   {
    "duration": 3301,
    "start_time": "2022-03-25T19:46:10.959Z"
   },
   {
    "duration": 16,
    "start_time": "2022-03-25T19:46:14.263Z"
   },
   {
    "duration": 6,
    "start_time": "2022-03-25T19:46:14.282Z"
   },
   {
    "duration": 417,
    "start_time": "2022-03-25T19:46:14.291Z"
   },
   {
    "duration": 3013,
    "start_time": "2022-03-25T19:46:14.711Z"
   },
   {
    "duration": 4,
    "start_time": "2022-03-25T19:46:17.726Z"
   },
   {
    "duration": 95,
    "start_time": "2022-03-25T19:46:17.732Z"
   },
   {
    "duration": 260,
    "start_time": "2022-03-25T19:46:17.830Z"
   },
   {
    "duration": 294,
    "start_time": "2022-03-25T19:46:18.094Z"
   },
   {
    "duration": 515,
    "start_time": "2022-03-25T19:46:18.390Z"
   },
   {
    "duration": 2808,
    "start_time": "2022-03-25T19:46:18.910Z"
   },
   {
    "duration": 91,
    "start_time": "2022-03-25T19:46:21.720Z"
   },
   {
    "duration": 13,
    "start_time": "2022-03-25T19:46:21.813Z"
   },
   {
    "duration": 72,
    "start_time": "2022-03-25T19:46:21.829Z"
   },
   {
    "duration": 11,
    "start_time": "2022-03-25T19:46:21.904Z"
   },
   {
    "duration": 2823,
    "start_time": "2022-03-25T19:46:21.918Z"
   },
   {
    "duration": 85,
    "start_time": "2022-03-25T19:46:24.744Z"
   },
   {
    "duration": 4,
    "start_time": "2022-03-25T19:46:24.832Z"
   },
   {
    "duration": 11,
    "start_time": "2022-03-25T19:47:22.062Z"
   },
   {
    "duration": 6,
    "start_time": "2022-03-25T19:47:28.853Z"
   },
   {
    "duration": 131,
    "start_time": "2022-03-25T19:47:37.094Z"
   },
   {
    "duration": 39,
    "start_time": "2022-03-25T19:47:44.021Z"
   },
   {
    "duration": 146,
    "start_time": "2022-03-25T19:49:44.214Z"
   },
   {
    "duration": 52,
    "start_time": "2022-03-25T19:49:49.942Z"
   },
   {
    "duration": 45,
    "start_time": "2022-03-25T19:52:10.781Z"
   },
   {
    "duration": 45,
    "start_time": "2022-03-25T19:52:24.183Z"
   },
   {
    "duration": 41,
    "start_time": "2022-03-25T19:52:28.694Z"
   },
   {
    "duration": 42,
    "start_time": "2022-03-25T19:52:47.358Z"
   },
   {
    "duration": 47,
    "start_time": "2022-03-25T19:52:56.334Z"
   },
   {
    "duration": 25,
    "start_time": "2022-03-25T19:56:13.103Z"
   },
   {
    "duration": 24,
    "start_time": "2022-03-25T19:56:17.302Z"
   },
   {
    "duration": 5,
    "start_time": "2022-03-25T19:56:21.263Z"
   },
   {
    "duration": 2871,
    "start_time": "2022-03-25T19:56:21.271Z"
   },
   {
    "duration": 27,
    "start_time": "2022-03-25T19:56:24.144Z"
   },
   {
    "duration": 4,
    "start_time": "2022-03-25T19:56:24.175Z"
   },
   {
    "duration": 318,
    "start_time": "2022-03-25T19:56:24.183Z"
   },
   {
    "duration": 146,
    "start_time": "2022-03-25T19:56:24.504Z"
   },
   {
    "duration": 953,
    "start_time": "2022-03-25T19:56:24.653Z"
   },
   {
    "duration": 660,
    "start_time": "2022-03-25T19:56:25.609Z"
   },
   {
    "duration": 586,
    "start_time": "2022-03-25T19:56:26.273Z"
   },
   {
    "duration": 1114,
    "start_time": "2022-03-25T19:56:26.861Z"
   },
   {
    "duration": 58,
    "start_time": "2022-03-25T19:56:27.977Z"
   },
   {
    "duration": 107,
    "start_time": "2022-03-25T19:56:28.037Z"
   },
   {
    "duration": 796,
    "start_time": "2022-03-25T19:56:28.147Z"
   },
   {
    "duration": 6,
    "start_time": "2022-03-25T19:56:28.948Z"
   },
   {
    "duration": 18,
    "start_time": "2022-03-25T19:56:28.956Z"
   },
   {
    "duration": 7,
    "start_time": "2022-03-25T19:56:28.976Z"
   },
   {
    "duration": 67,
    "start_time": "2022-03-25T19:56:28.985Z"
   },
   {
    "duration": 101,
    "start_time": "2022-03-25T19:56:29.073Z"
   },
   {
    "duration": 62,
    "start_time": "2022-03-25T19:56:29.176Z"
   },
   {
    "duration": 528,
    "start_time": "2022-03-25T19:56:29.240Z"
   },
   {
    "duration": 706,
    "start_time": "2022-03-25T19:56:29.774Z"
   },
   {
    "duration": 61,
    "start_time": "2022-03-25T19:56:30.482Z"
   },
   {
    "duration": 438,
    "start_time": "2022-03-25T19:56:30.546Z"
   },
   {
    "duration": 992,
    "start_time": "2022-03-25T19:56:30.987Z"
   },
   {
    "duration": 119,
    "start_time": "2022-03-25T19:56:31.982Z"
   },
   {
    "duration": 650,
    "start_time": "2022-03-25T19:56:32.104Z"
   },
   {
    "duration": 974,
    "start_time": "2022-03-25T19:56:32.756Z"
   },
   {
    "duration": 75,
    "start_time": "2022-03-25T19:56:33.733Z"
   },
   {
    "duration": 104,
    "start_time": "2022-03-25T19:56:33.811Z"
   },
   {
    "duration": 5542,
    "start_time": "2022-03-25T19:56:33.918Z"
   },
   {
    "duration": 168,
    "start_time": "2022-03-25T19:56:39.462Z"
   },
   {
    "duration": 2395,
    "start_time": "2022-03-25T19:56:39.632Z"
   },
   {
    "duration": 6,
    "start_time": "2022-03-25T19:56:42.029Z"
   },
   {
    "duration": 6,
    "start_time": "2022-03-25T19:56:42.037Z"
   },
   {
    "duration": 412,
    "start_time": "2022-03-25T19:56:42.045Z"
   },
   {
    "duration": 2790,
    "start_time": "2022-03-25T19:56:42.459Z"
   },
   {
    "duration": 3,
    "start_time": "2022-03-25T19:56:45.251Z"
   },
   {
    "duration": 97,
    "start_time": "2022-03-25T19:56:45.257Z"
   },
   {
    "duration": 247,
    "start_time": "2022-03-25T19:56:45.356Z"
   },
   {
    "duration": 276,
    "start_time": "2022-03-25T19:56:45.606Z"
   },
   {
    "duration": 585,
    "start_time": "2022-03-25T19:56:45.888Z"
   },
   {
    "duration": 2825,
    "start_time": "2022-03-25T19:56:46.476Z"
   },
   {
    "duration": 79,
    "start_time": "2022-03-25T19:56:49.303Z"
   },
   {
    "duration": 12,
    "start_time": "2022-03-25T19:56:49.385Z"
   },
   {
    "duration": 50,
    "start_time": "2022-03-25T19:56:49.399Z"
   },
   {
    "duration": 31,
    "start_time": "2022-03-25T19:56:49.452Z"
   },
   {
    "duration": 2809,
    "start_time": "2022-03-25T19:56:49.486Z"
   },
   {
    "duration": 79,
    "start_time": "2022-03-25T19:56:52.298Z"
   },
   {
    "duration": 53,
    "start_time": "2022-03-25T19:56:52.380Z"
   },
   {
    "duration": 73,
    "start_time": "2022-03-25T19:57:36.934Z"
   },
   {
    "duration": 457,
    "start_time": "2022-03-25T20:03:16.262Z"
   },
   {
    "duration": 26,
    "start_time": "2022-03-25T20:09:28.902Z"
   },
   {
    "duration": 350,
    "start_time": "2022-03-25T20:09:48.182Z"
   },
   {
    "duration": 4,
    "start_time": "2022-03-25T20:10:02.983Z"
   },
   {
    "duration": 993,
    "start_time": "2022-03-25T20:10:02.990Z"
   },
   {
    "duration": 20,
    "start_time": "2022-03-25T20:10:03.985Z"
   },
   {
    "duration": 6,
    "start_time": "2022-03-25T20:10:04.007Z"
   },
   {
    "duration": 190,
    "start_time": "2022-03-25T20:10:04.016Z"
   },
   {
    "duration": 119,
    "start_time": "2022-03-25T20:10:04.208Z"
   },
   {
    "duration": 599,
    "start_time": "2022-03-25T20:10:04.329Z"
   },
   {
    "duration": 873,
    "start_time": "2022-03-25T20:10:04.930Z"
   },
   {
    "duration": 589,
    "start_time": "2022-03-25T20:10:05.806Z"
   },
   {
    "duration": 1091,
    "start_time": "2022-03-25T20:10:06.398Z"
   },
   {
    "duration": 59,
    "start_time": "2022-03-25T20:10:07.491Z"
   },
   {
    "duration": 93,
    "start_time": "2022-03-25T20:10:07.552Z"
   },
   {
    "duration": 776,
    "start_time": "2022-03-25T20:10:07.648Z"
   },
   {
    "duration": 6,
    "start_time": "2022-03-25T20:10:08.429Z"
   },
   {
    "duration": 6,
    "start_time": "2022-03-25T20:10:08.438Z"
   },
   {
    "duration": 28,
    "start_time": "2022-03-25T20:10:08.446Z"
   },
   {
    "duration": 64,
    "start_time": "2022-03-25T20:10:08.476Z"
   },
   {
    "duration": 114,
    "start_time": "2022-03-25T20:10:08.543Z"
   },
   {
    "duration": 68,
    "start_time": "2022-03-25T20:10:08.659Z"
   },
   {
    "duration": 526,
    "start_time": "2022-03-25T20:10:08.729Z"
   },
   {
    "duration": 708,
    "start_time": "2022-03-25T20:10:09.257Z"
   },
   {
    "duration": 61,
    "start_time": "2022-03-25T20:10:09.967Z"
   },
   {
    "duration": 425,
    "start_time": "2022-03-25T20:10:10.030Z"
   },
   {
    "duration": 697,
    "start_time": "2022-03-25T20:10:10.458Z"
   },
   {
    "duration": 70,
    "start_time": "2022-03-25T20:10:11.157Z"
   },
   {
    "duration": 506,
    "start_time": "2022-03-25T20:10:11.230Z"
   },
   {
    "duration": 706,
    "start_time": "2022-03-25T20:10:11.739Z"
   },
   {
    "duration": 79,
    "start_time": "2022-03-25T20:10:12.448Z"
   },
   {
    "duration": 80,
    "start_time": "2022-03-25T20:10:12.530Z"
   },
   {
    "duration": 5166,
    "start_time": "2022-03-25T20:10:12.612Z"
   },
   {
    "duration": 163,
    "start_time": "2022-03-25T20:10:17.782Z"
   },
   {
    "duration": 2305,
    "start_time": "2022-03-25T20:10:17.947Z"
   },
   {
    "duration": 8,
    "start_time": "2022-03-25T20:10:20.254Z"
   },
   {
    "duration": 11,
    "start_time": "2022-03-25T20:10:20.263Z"
   },
   {
    "duration": 426,
    "start_time": "2022-03-25T20:10:20.276Z"
   },
   {
    "duration": 2908,
    "start_time": "2022-03-25T20:10:20.705Z"
   },
   {
    "duration": 4,
    "start_time": "2022-03-25T20:10:23.615Z"
   },
   {
    "duration": 97,
    "start_time": "2022-03-25T20:10:23.621Z"
   },
   {
    "duration": 255,
    "start_time": "2022-03-25T20:10:23.721Z"
   },
   {
    "duration": 274,
    "start_time": "2022-03-25T20:10:23.979Z"
   },
   {
    "duration": 536,
    "start_time": "2022-03-25T20:10:24.260Z"
   },
   {
    "duration": 3413,
    "start_time": "2022-03-25T20:10:24.798Z"
   },
   {
    "duration": 83,
    "start_time": "2022-03-25T20:10:28.213Z"
   },
   {
    "duration": 12,
    "start_time": "2022-03-25T20:10:28.299Z"
   },
   {
    "duration": 65,
    "start_time": "2022-03-25T20:10:28.314Z"
   },
   {
    "duration": 8,
    "start_time": "2022-03-25T20:10:28.382Z"
   },
   {
    "duration": 2168,
    "start_time": "2022-03-25T20:10:28.392Z"
   },
   {
    "duration": 70,
    "start_time": "2022-03-25T20:10:30.563Z"
   },
   {
    "duration": 47,
    "start_time": "2022-03-25T20:10:30.636Z"
   },
   {
    "duration": 69,
    "start_time": "2022-03-25T20:10:30.685Z"
   },
   {
    "duration": 19,
    "start_time": "2022-03-25T20:10:30.756Z"
   },
   {
    "duration": 149,
    "start_time": "2022-03-25T20:30:05.541Z"
   },
   {
    "duration": 35,
    "start_time": "2022-03-25T20:31:00.823Z"
   },
   {
    "duration": 5,
    "start_time": "2022-03-25T20:31:13.856Z"
   },
   {
    "duration": 1020,
    "start_time": "2022-03-25T20:31:13.869Z"
   },
   {
    "duration": 22,
    "start_time": "2022-03-25T20:31:14.892Z"
   },
   {
    "duration": 8,
    "start_time": "2022-03-25T20:31:14.916Z"
   },
   {
    "duration": 197,
    "start_time": "2022-03-25T20:31:14.927Z"
   },
   {
    "duration": 122,
    "start_time": "2022-03-25T20:31:15.127Z"
   },
   {
    "duration": 625,
    "start_time": "2022-03-25T20:31:15.251Z"
   },
   {
    "duration": 636,
    "start_time": "2022-03-25T20:31:15.878Z"
   },
   {
    "duration": 606,
    "start_time": "2022-03-25T20:31:16.516Z"
   },
   {
    "duration": 1060,
    "start_time": "2022-03-25T20:31:17.125Z"
   },
   {
    "duration": 57,
    "start_time": "2022-03-25T20:31:18.189Z"
   },
   {
    "duration": 92,
    "start_time": "2022-03-25T20:31:18.248Z"
   },
   {
    "duration": 730,
    "start_time": "2022-03-25T20:31:18.342Z"
   },
   {
    "duration": 7,
    "start_time": "2022-03-25T20:31:19.074Z"
   },
   {
    "duration": 7,
    "start_time": "2022-03-25T20:31:19.083Z"
   },
   {
    "duration": 7,
    "start_time": "2022-03-25T20:31:19.092Z"
   },
   {
    "duration": 88,
    "start_time": "2022-03-25T20:31:19.101Z"
   },
   {
    "duration": 108,
    "start_time": "2022-03-25T20:31:19.191Z"
   },
   {
    "duration": 59,
    "start_time": "2022-03-25T20:31:19.301Z"
   },
   {
    "duration": 849,
    "start_time": "2022-03-25T20:31:19.374Z"
   },
   {
    "duration": 703,
    "start_time": "2022-03-25T20:31:20.226Z"
   },
   {
    "duration": 71,
    "start_time": "2022-03-25T20:31:20.931Z"
   },
   {
    "duration": 407,
    "start_time": "2022-03-25T20:31:21.004Z"
   },
   {
    "duration": 690,
    "start_time": "2022-03-25T20:31:21.413Z"
   },
   {
    "duration": 74,
    "start_time": "2022-03-25T20:31:22.105Z"
   },
   {
    "duration": 494,
    "start_time": "2022-03-25T20:31:22.181Z"
   },
   {
    "duration": 699,
    "start_time": "2022-03-25T20:31:22.677Z"
   },
   {
    "duration": 67,
    "start_time": "2022-03-25T20:31:23.378Z"
   },
   {
    "duration": 71,
    "start_time": "2022-03-25T20:31:23.451Z"
   },
   {
    "duration": 5395,
    "start_time": "2022-03-25T20:31:23.524Z"
   },
   {
    "duration": 157,
    "start_time": "2022-03-25T20:31:28.922Z"
   },
   {
    "duration": 2296,
    "start_time": "2022-03-25T20:31:29.081Z"
   },
   {
    "duration": 6,
    "start_time": "2022-03-25T20:31:31.379Z"
   },
   {
    "duration": 9,
    "start_time": "2022-03-25T20:31:31.387Z"
   },
   {
    "duration": 410,
    "start_time": "2022-03-25T20:31:31.398Z"
   },
   {
    "duration": 2796,
    "start_time": "2022-03-25T20:31:31.810Z"
   },
   {
    "duration": 4,
    "start_time": "2022-03-25T20:31:34.608Z"
   },
   {
    "duration": 90,
    "start_time": "2022-03-25T20:31:34.614Z"
   },
   {
    "duration": 252,
    "start_time": "2022-03-25T20:31:34.706Z"
   },
   {
    "duration": 273,
    "start_time": "2022-03-25T20:31:34.961Z"
   },
   {
    "duration": 492,
    "start_time": "2022-03-25T20:31:35.237Z"
   },
   {
    "duration": 2643,
    "start_time": "2022-03-25T20:31:35.731Z"
   },
   {
    "duration": 65,
    "start_time": "2022-03-25T20:31:38.377Z"
   },
   {
    "duration": 31,
    "start_time": "2022-03-25T20:31:38.444Z"
   },
   {
    "duration": 47,
    "start_time": "2022-03-25T20:31:38.478Z"
   },
   {
    "duration": 8,
    "start_time": "2022-03-25T20:31:38.528Z"
   },
   {
    "duration": 2053,
    "start_time": "2022-03-25T20:31:38.538Z"
   },
   {
    "duration": 63,
    "start_time": "2022-03-25T20:31:40.593Z"
   },
   {
    "duration": 30,
    "start_time": "2022-03-25T20:31:40.674Z"
   },
   {
    "duration": 167,
    "start_time": "2022-03-25T20:31:40.706Z"
   },
   {
    "duration": 3,
    "start_time": "2022-03-25T20:31:40.875Z"
   },
   {
    "duration": 5,
    "start_time": "2022-03-25T20:31:57.436Z"
   },
   {
    "duration": 1097,
    "start_time": "2022-03-25T20:31:57.443Z"
   },
   {
    "duration": 21,
    "start_time": "2022-03-25T20:31:58.542Z"
   },
   {
    "duration": 4,
    "start_time": "2022-03-25T20:31:58.574Z"
   },
   {
    "duration": 188,
    "start_time": "2022-03-25T20:31:58.582Z"
   },
   {
    "duration": 118,
    "start_time": "2022-03-25T20:31:58.773Z"
   },
   {
    "duration": 623,
    "start_time": "2022-03-25T20:31:58.893Z"
   },
   {
    "duration": 662,
    "start_time": "2022-03-25T20:31:59.519Z"
   },
   {
    "duration": 573,
    "start_time": "2022-03-25T20:32:00.183Z"
   },
   {
    "duration": 1218,
    "start_time": "2022-03-25T20:32:00.758Z"
   },
   {
    "duration": 56,
    "start_time": "2022-03-25T20:32:01.978Z"
   },
   {
    "duration": 97,
    "start_time": "2022-03-25T20:32:02.036Z"
   },
   {
    "duration": 778,
    "start_time": "2022-03-25T20:32:02.135Z"
   },
   {
    "duration": 7,
    "start_time": "2022-03-25T20:32:02.917Z"
   },
   {
    "duration": 7,
    "start_time": "2022-03-25T20:32:02.926Z"
   },
   {
    "duration": 8,
    "start_time": "2022-03-25T20:32:02.935Z"
   },
   {
    "duration": 87,
    "start_time": "2022-03-25T20:32:02.945Z"
   },
   {
    "duration": 105,
    "start_time": "2022-03-25T20:32:03.034Z"
   },
   {
    "duration": 75,
    "start_time": "2022-03-25T20:32:03.142Z"
   },
   {
    "duration": 535,
    "start_time": "2022-03-25T20:32:03.220Z"
   },
   {
    "duration": 720,
    "start_time": "2022-03-25T20:32:03.758Z"
   },
   {
    "duration": 57,
    "start_time": "2022-03-25T20:32:04.480Z"
   },
   {
    "duration": 435,
    "start_time": "2022-03-25T20:32:04.539Z"
   },
   {
    "duration": 684,
    "start_time": "2022-03-25T20:32:04.976Z"
   },
   {
    "duration": 65,
    "start_time": "2022-03-25T20:32:05.662Z"
   },
   {
    "duration": 487,
    "start_time": "2022-03-25T20:32:05.729Z"
   },
   {
    "duration": 697,
    "start_time": "2022-03-25T20:32:06.218Z"
   },
   {
    "duration": 67,
    "start_time": "2022-03-25T20:32:06.917Z"
   },
   {
    "duration": 58,
    "start_time": "2022-03-25T20:32:06.986Z"
   },
   {
    "duration": 5612,
    "start_time": "2022-03-25T20:32:07.047Z"
   },
   {
    "duration": 165,
    "start_time": "2022-03-25T20:32:12.661Z"
   },
   {
    "duration": 2208,
    "start_time": "2022-03-25T20:32:12.828Z"
   },
   {
    "duration": 6,
    "start_time": "2022-03-25T20:32:15.038Z"
   },
   {
    "duration": 10,
    "start_time": "2022-03-25T20:32:15.047Z"
   },
   {
    "duration": 409,
    "start_time": "2022-03-25T20:32:15.073Z"
   },
   {
    "duration": 2831,
    "start_time": "2022-03-25T20:32:15.484Z"
   },
   {
    "duration": 3,
    "start_time": "2022-03-25T20:32:18.318Z"
   },
   {
    "duration": 98,
    "start_time": "2022-03-25T20:32:18.323Z"
   },
   {
    "duration": 273,
    "start_time": "2022-03-25T20:32:18.423Z"
   },
   {
    "duration": 301,
    "start_time": "2022-03-25T20:32:18.699Z"
   },
   {
    "duration": 543,
    "start_time": "2022-03-25T20:32:19.007Z"
   },
   {
    "duration": 2678,
    "start_time": "2022-03-25T20:32:19.553Z"
   },
   {
    "duration": 77,
    "start_time": "2022-03-25T20:32:22.233Z"
   },
   {
    "duration": 10,
    "start_time": "2022-03-25T20:32:22.313Z"
   },
   {
    "duration": 63,
    "start_time": "2022-03-25T20:32:22.325Z"
   },
   {
    "duration": 8,
    "start_time": "2022-03-25T20:32:22.391Z"
   },
   {
    "duration": 1977,
    "start_time": "2022-03-25T20:32:22.402Z"
   },
   {
    "duration": 58,
    "start_time": "2022-03-25T20:32:24.381Z"
   },
   {
    "duration": 55,
    "start_time": "2022-03-25T20:32:24.441Z"
   },
   {
    "duration": 167,
    "start_time": "2022-03-25T20:32:24.499Z"
   },
   {
    "duration": 4,
    "start_time": "2022-03-25T20:32:24.672Z"
   },
   {
    "duration": 13,
    "start_time": "2022-03-25T20:36:09.687Z"
   },
   {
    "duration": 10,
    "start_time": "2022-03-25T20:36:29.989Z"
   },
   {
    "duration": 5,
    "start_time": "2022-03-25T20:36:55.782Z"
   },
   {
    "duration": 1022,
    "start_time": "2022-03-25T20:36:55.789Z"
   },
   {
    "duration": 21,
    "start_time": "2022-03-25T20:36:56.813Z"
   },
   {
    "duration": 7,
    "start_time": "2022-03-25T20:36:56.836Z"
   },
   {
    "duration": 32,
    "start_time": "2022-03-25T20:36:56.846Z"
   },
   {
    "duration": 177,
    "start_time": "2022-03-25T20:36:56.880Z"
   },
   {
    "duration": 134,
    "start_time": "2022-03-25T20:36:57.059Z"
   },
   {
    "duration": 605,
    "start_time": "2022-03-25T20:36:57.195Z"
   },
   {
    "duration": 649,
    "start_time": "2022-03-25T20:36:57.802Z"
   },
   {
    "duration": 601,
    "start_time": "2022-03-25T20:36:58.453Z"
   },
   {
    "duration": 1050,
    "start_time": "2022-03-25T20:36:59.056Z"
   },
   {
    "duration": 66,
    "start_time": "2022-03-25T20:37:00.108Z"
   },
   {
    "duration": 79,
    "start_time": "2022-03-25T20:37:00.176Z"
   },
   {
    "duration": 757,
    "start_time": "2022-03-25T20:37:00.275Z"
   },
   {
    "duration": 6,
    "start_time": "2022-03-25T20:37:01.034Z"
   },
   {
    "duration": 10,
    "start_time": "2022-03-25T20:37:01.043Z"
   },
   {
    "duration": 24,
    "start_time": "2022-03-25T20:37:01.055Z"
   },
   {
    "duration": 72,
    "start_time": "2022-03-25T20:37:01.081Z"
   },
   {
    "duration": 102,
    "start_time": "2022-03-25T20:37:01.156Z"
   },
   {
    "duration": 62,
    "start_time": "2022-03-25T20:37:01.273Z"
   },
   {
    "duration": 507,
    "start_time": "2022-03-25T20:37:01.338Z"
   },
   {
    "duration": 688,
    "start_time": "2022-03-25T20:37:01.847Z"
   },
   {
    "duration": 68,
    "start_time": "2022-03-25T20:37:02.537Z"
   },
   {
    "duration": 413,
    "start_time": "2022-03-25T20:37:02.607Z"
   },
   {
    "duration": 680,
    "start_time": "2022-03-25T20:37:03.022Z"
   },
   {
    "duration": 71,
    "start_time": "2022-03-25T20:37:03.704Z"
   },
   {
    "duration": 475,
    "start_time": "2022-03-25T20:37:03.777Z"
   },
   {
    "duration": 693,
    "start_time": "2022-03-25T20:37:04.254Z"
   },
   {
    "duration": 67,
    "start_time": "2022-03-25T20:37:04.950Z"
   },
   {
    "duration": 72,
    "start_time": "2022-03-25T20:37:05.019Z"
   },
   {
    "duration": 5219,
    "start_time": "2022-03-25T20:37:05.094Z"
   },
   {
    "duration": 166,
    "start_time": "2022-03-25T20:37:10.316Z"
   },
   {
    "duration": 2298,
    "start_time": "2022-03-25T20:37:10.484Z"
   },
   {
    "duration": 7,
    "start_time": "2022-03-25T20:37:12.785Z"
   },
   {
    "duration": 6,
    "start_time": "2022-03-25T20:37:12.795Z"
   },
   {
    "duration": 420,
    "start_time": "2022-03-25T20:37:12.804Z"
   },
   {
    "duration": 2819,
    "start_time": "2022-03-25T20:37:13.227Z"
   },
   {
    "duration": 4,
    "start_time": "2022-03-25T20:37:16.049Z"
   },
   {
    "duration": 97,
    "start_time": "2022-03-25T20:37:16.056Z"
   },
   {
    "duration": 276,
    "start_time": "2022-03-25T20:37:16.155Z"
   },
   {
    "duration": 273,
    "start_time": "2022-03-25T20:37:16.438Z"
   },
   {
    "duration": 519,
    "start_time": "2022-03-25T20:37:16.714Z"
   },
   {
    "duration": 2675,
    "start_time": "2022-03-25T20:37:17.237Z"
   },
   {
    "duration": 75,
    "start_time": "2022-03-25T20:37:19.914Z"
   },
   {
    "duration": 13,
    "start_time": "2022-03-25T20:37:19.991Z"
   },
   {
    "duration": 68,
    "start_time": "2022-03-25T20:37:20.006Z"
   },
   {
    "duration": 8,
    "start_time": "2022-03-25T20:37:20.076Z"
   },
   {
    "duration": 1990,
    "start_time": "2022-03-25T20:37:20.086Z"
   },
   {
    "duration": 61,
    "start_time": "2022-03-25T20:37:22.079Z"
   },
   {
    "duration": 55,
    "start_time": "2022-03-25T20:37:22.142Z"
   },
   {
    "duration": 11,
    "start_time": "2022-03-25T20:37:22.199Z"
   },
   {
    "duration": 165,
    "start_time": "2022-03-25T20:37:22.212Z"
   },
   {
    "duration": 4,
    "start_time": "2022-03-25T20:37:22.379Z"
   },
   {
    "duration": 20,
    "start_time": "2022-03-25T20:38:36.902Z"
   },
   {
    "duration": 5,
    "start_time": "2022-03-25T20:38:40.183Z"
   },
   {
    "duration": 3030,
    "start_time": "2022-03-25T20:38:40.190Z"
   },
   {
    "duration": 21,
    "start_time": "2022-03-25T20:38:43.222Z"
   },
   {
    "duration": 10,
    "start_time": "2022-03-25T20:38:43.245Z"
   },
   {
    "duration": 187,
    "start_time": "2022-03-25T20:38:43.258Z"
   },
   {
    "duration": 840,
    "start_time": "2022-03-25T20:38:43.448Z"
   },
   {
    "duration": 584,
    "start_time": "2022-03-25T20:38:44.290Z"
   },
   {
    "duration": 673,
    "start_time": "2022-03-25T20:38:44.876Z"
   },
   {
    "duration": 1901,
    "start_time": "2022-03-25T20:39:29.019Z"
   },
   {
    "duration": 2900,
    "start_time": "2022-03-25T20:39:30.923Z"
   },
   {
    "duration": 26,
    "start_time": "2022-03-25T20:39:33.826Z"
   },
   {
    "duration": 19,
    "start_time": "2022-03-25T20:39:33.855Z"
   },
   {
    "duration": 191,
    "start_time": "2022-03-25T20:39:33.876Z"
   },
   {
    "duration": 121,
    "start_time": "2022-03-25T20:39:34.073Z"
   },
   {
    "duration": 685,
    "start_time": "2022-03-25T20:39:34.196Z"
   },
   {
    "duration": 672,
    "start_time": "2022-03-25T20:39:34.883Z"
   },
   {
    "duration": 559,
    "start_time": "2022-03-25T20:39:35.557Z"
   },
   {
    "duration": 1113,
    "start_time": "2022-03-25T20:39:36.119Z"
   },
   {
    "duration": 66,
    "start_time": "2022-03-25T20:39:37.234Z"
   },
   {
    "duration": 91,
    "start_time": "2022-03-25T20:39:37.302Z"
   },
   {
    "duration": 822,
    "start_time": "2022-03-25T20:39:37.395Z"
   },
   {
    "duration": 6,
    "start_time": "2022-03-25T20:39:38.220Z"
   },
   {
    "duration": 14,
    "start_time": "2022-03-25T20:39:38.229Z"
   },
   {
    "duration": 7,
    "start_time": "2022-03-25T20:39:38.246Z"
   },
   {
    "duration": 66,
    "start_time": "2022-03-25T20:39:38.274Z"
   },
   {
    "duration": 111,
    "start_time": "2022-03-25T20:39:38.342Z"
   },
   {
    "duration": 67,
    "start_time": "2022-03-25T20:39:38.455Z"
   },
   {
    "duration": 467,
    "start_time": "2022-03-25T20:39:38.524Z"
   },
   {
    "duration": 707,
    "start_time": "2022-03-25T20:39:38.993Z"
   },
   {
    "duration": 115,
    "start_time": "2022-03-25T20:39:39.703Z"
   },
   {
    "duration": 391,
    "start_time": "2022-03-25T20:39:39.821Z"
   },
   {
    "duration": 687,
    "start_time": "2022-03-25T20:39:40.214Z"
   },
   {
    "duration": 73,
    "start_time": "2022-03-25T20:39:40.903Z"
   },
   {
    "duration": 451,
    "start_time": "2022-03-25T20:39:40.978Z"
   },
   {
    "duration": 764,
    "start_time": "2022-03-25T20:39:41.431Z"
   },
   {
    "duration": 57,
    "start_time": "2022-03-25T20:39:42.201Z"
   },
   {
    "duration": 56,
    "start_time": "2022-03-25T20:39:42.274Z"
   },
   {
    "duration": 5310,
    "start_time": "2022-03-25T20:39:42.333Z"
   },
   {
    "duration": 160,
    "start_time": "2022-03-25T20:39:47.645Z"
   },
   {
    "duration": 2225,
    "start_time": "2022-03-25T20:39:47.808Z"
   },
   {
    "duration": 6,
    "start_time": "2022-03-25T20:39:50.035Z"
   },
   {
    "duration": 21,
    "start_time": "2022-03-25T20:39:50.044Z"
   },
   {
    "duration": 395,
    "start_time": "2022-03-25T20:39:50.068Z"
   },
   {
    "duration": 161,
    "start_time": "2022-03-25T20:39:50.465Z"
   },
   {
    "duration": 0,
    "start_time": "2022-03-25T20:39:50.627Z"
   },
   {
    "duration": 0,
    "start_time": "2022-03-25T20:39:50.629Z"
   },
   {
    "duration": 0,
    "start_time": "2022-03-25T20:39:50.631Z"
   },
   {
    "duration": 0,
    "start_time": "2022-03-25T20:39:50.632Z"
   },
   {
    "duration": 0,
    "start_time": "2022-03-25T20:39:50.634Z"
   },
   {
    "duration": 0,
    "start_time": "2022-03-25T20:39:50.636Z"
   },
   {
    "duration": 0,
    "start_time": "2022-03-25T20:39:50.637Z"
   },
   {
    "duration": 0,
    "start_time": "2022-03-25T20:39:50.639Z"
   },
   {
    "duration": 0,
    "start_time": "2022-03-25T20:39:50.641Z"
   },
   {
    "duration": 0,
    "start_time": "2022-03-25T20:39:50.642Z"
   },
   {
    "duration": 0,
    "start_time": "2022-03-25T20:39:50.644Z"
   },
   {
    "duration": 0,
    "start_time": "2022-03-25T20:39:50.674Z"
   },
   {
    "duration": 0,
    "start_time": "2022-03-25T20:39:50.675Z"
   },
   {
    "duration": 0,
    "start_time": "2022-03-25T20:39:50.676Z"
   },
   {
    "duration": 0,
    "start_time": "2022-03-25T20:39:50.677Z"
   },
   {
    "duration": 0,
    "start_time": "2022-03-25T20:39:50.678Z"
   },
   {
    "duration": 5,
    "start_time": "2022-03-25T20:40:34.539Z"
   },
   {
    "duration": 1458,
    "start_time": "2022-03-25T20:40:34.546Z"
   },
   {
    "duration": 22,
    "start_time": "2022-03-25T20:40:36.006Z"
   },
   {
    "duration": 17,
    "start_time": "2022-03-25T20:40:36.030Z"
   },
   {
    "duration": 188,
    "start_time": "2022-03-25T20:40:36.050Z"
   },
   {
    "duration": 135,
    "start_time": "2022-03-25T20:40:36.240Z"
   },
   {
    "duration": 684,
    "start_time": "2022-03-25T20:40:36.378Z"
   },
   {
    "duration": 710,
    "start_time": "2022-03-25T20:40:37.064Z"
   },
   {
    "duration": 586,
    "start_time": "2022-03-25T20:40:37.776Z"
   },
   {
    "duration": 1121,
    "start_time": "2022-03-25T20:40:38.364Z"
   },
   {
    "duration": 58,
    "start_time": "2022-03-25T20:40:39.488Z"
   },
   {
    "duration": 133,
    "start_time": "2022-03-25T20:40:39.548Z"
   },
   {
    "duration": 839,
    "start_time": "2022-03-25T20:40:39.684Z"
   },
   {
    "duration": 9,
    "start_time": "2022-03-25T20:40:40.531Z"
   },
   {
    "duration": 10,
    "start_time": "2022-03-25T20:40:40.543Z"
   },
   {
    "duration": 11,
    "start_time": "2022-03-25T20:40:40.573Z"
   },
   {
    "duration": 137,
    "start_time": "2022-03-25T20:40:40.586Z"
   },
   {
    "duration": 105,
    "start_time": "2022-03-25T20:40:40.725Z"
   },
   {
    "duration": 77,
    "start_time": "2022-03-25T20:40:40.833Z"
   },
   {
    "duration": 600,
    "start_time": "2022-03-25T20:40:40.912Z"
   },
   {
    "duration": 733,
    "start_time": "2022-03-25T20:40:41.515Z"
   },
   {
    "duration": 69,
    "start_time": "2022-03-25T20:40:42.251Z"
   },
   {
    "duration": 410,
    "start_time": "2022-03-25T20:40:42.323Z"
   },
   {
    "duration": 707,
    "start_time": "2022-03-25T20:40:42.735Z"
   },
   {
    "duration": 81,
    "start_time": "2022-03-25T20:40:43.444Z"
   },
   {
    "duration": 539,
    "start_time": "2022-03-25T20:40:43.528Z"
   },
   {
    "duration": 701,
    "start_time": "2022-03-25T20:40:44.069Z"
   },
   {
    "duration": 55,
    "start_time": "2022-03-25T20:40:44.775Z"
   },
   {
    "duration": 77,
    "start_time": "2022-03-25T20:40:44.832Z"
   },
   {
    "duration": 5268,
    "start_time": "2022-03-25T20:40:44.911Z"
   },
   {
    "duration": 155,
    "start_time": "2022-03-25T20:40:50.182Z"
   },
   {
    "duration": 3142,
    "start_time": "2022-03-25T20:40:50.339Z"
   },
   {
    "duration": 6,
    "start_time": "2022-03-25T20:40:53.483Z"
   },
   {
    "duration": 11,
    "start_time": "2022-03-25T20:40:53.492Z"
   },
   {
    "duration": 520,
    "start_time": "2022-03-25T20:40:53.505Z"
   },
   {
    "duration": 15,
    "start_time": "2022-03-25T20:40:54.027Z"
   },
   {
    "duration": 0,
    "start_time": "2022-03-25T20:40:54.045Z"
   },
   {
    "duration": 0,
    "start_time": "2022-03-25T20:40:54.046Z"
   },
   {
    "duration": 0,
    "start_time": "2022-03-25T20:40:54.048Z"
   },
   {
    "duration": 0,
    "start_time": "2022-03-25T20:40:54.074Z"
   },
   {
    "duration": 0,
    "start_time": "2022-03-25T20:40:54.076Z"
   },
   {
    "duration": 0,
    "start_time": "2022-03-25T20:40:54.078Z"
   },
   {
    "duration": 0,
    "start_time": "2022-03-25T20:40:54.079Z"
   },
   {
    "duration": 0,
    "start_time": "2022-03-25T20:40:54.081Z"
   },
   {
    "duration": 0,
    "start_time": "2022-03-25T20:40:54.083Z"
   },
   {
    "duration": 0,
    "start_time": "2022-03-25T20:40:54.084Z"
   },
   {
    "duration": 0,
    "start_time": "2022-03-25T20:40:54.086Z"
   },
   {
    "duration": 0,
    "start_time": "2022-03-25T20:40:54.087Z"
   },
   {
    "duration": 0,
    "start_time": "2022-03-25T20:40:54.089Z"
   },
   {
    "duration": 0,
    "start_time": "2022-03-25T20:40:54.091Z"
   },
   {
    "duration": 0,
    "start_time": "2022-03-25T20:40:54.093Z"
   },
   {
    "duration": 0,
    "start_time": "2022-03-25T20:40:54.094Z"
   },
   {
    "duration": 4,
    "start_time": "2022-03-25T20:41:31.168Z"
   },
   {
    "duration": 1115,
    "start_time": "2022-03-25T20:41:31.175Z"
   },
   {
    "duration": 21,
    "start_time": "2022-03-25T20:41:32.292Z"
   },
   {
    "duration": 8,
    "start_time": "2022-03-25T20:41:32.317Z"
   },
   {
    "duration": 356,
    "start_time": "2022-03-25T20:41:32.327Z"
   },
   {
    "duration": 169,
    "start_time": "2022-03-25T20:41:32.686Z"
   },
   {
    "duration": 637,
    "start_time": "2022-03-25T20:41:32.858Z"
   },
   {
    "duration": 961,
    "start_time": "2022-03-25T20:41:33.498Z"
   },
   {
    "duration": 566,
    "start_time": "2022-03-25T20:41:34.464Z"
   },
   {
    "duration": 1281,
    "start_time": "2022-03-25T20:41:35.032Z"
   },
   {
    "duration": 125,
    "start_time": "2022-03-25T20:41:36.316Z"
   },
   {
    "duration": 155,
    "start_time": "2022-03-25T20:41:36.444Z"
   },
   {
    "duration": 1173,
    "start_time": "2022-03-25T20:41:36.602Z"
   },
   {
    "duration": 9,
    "start_time": "2022-03-25T20:41:37.778Z"
   },
   {
    "duration": 15,
    "start_time": "2022-03-25T20:41:37.790Z"
   },
   {
    "duration": 26,
    "start_time": "2022-03-25T20:41:37.808Z"
   },
   {
    "duration": 70,
    "start_time": "2022-03-25T20:41:37.837Z"
   },
   {
    "duration": 102,
    "start_time": "2022-03-25T20:41:37.910Z"
   },
   {
    "duration": 70,
    "start_time": "2022-03-25T20:41:38.015Z"
   },
   {
    "duration": 530,
    "start_time": "2022-03-25T20:41:38.088Z"
   },
   {
    "duration": 685,
    "start_time": "2022-03-25T20:41:38.621Z"
   },
   {
    "duration": 106,
    "start_time": "2022-03-25T20:41:39.309Z"
   },
   {
    "duration": 421,
    "start_time": "2022-03-25T20:41:39.418Z"
   },
   {
    "duration": 1181,
    "start_time": "2022-03-25T20:41:39.848Z"
   },
   {
    "duration": 88,
    "start_time": "2022-03-25T20:41:41.033Z"
   },
   {
    "duration": 524,
    "start_time": "2022-03-25T20:41:41.123Z"
   },
   {
    "duration": 738,
    "start_time": "2022-03-25T20:41:41.650Z"
   },
   {
    "duration": 55,
    "start_time": "2022-03-25T20:41:42.391Z"
   },
   {
    "duration": 77,
    "start_time": "2022-03-25T20:41:42.449Z"
   },
   {
    "duration": 5998,
    "start_time": "2022-03-25T20:41:42.529Z"
   },
   {
    "duration": 157,
    "start_time": "2022-03-25T20:41:48.530Z"
   },
   {
    "duration": 2460,
    "start_time": "2022-03-25T20:41:48.689Z"
   },
   {
    "duration": 23,
    "start_time": "2022-03-25T20:41:51.151Z"
   },
   {
    "duration": 13,
    "start_time": "2022-03-25T20:41:51.177Z"
   },
   {
    "duration": 480,
    "start_time": "2022-03-25T20:41:51.193Z"
   },
   {
    "duration": 2981,
    "start_time": "2022-03-25T20:41:51.676Z"
   },
   {
    "duration": 20,
    "start_time": "2022-03-25T20:41:54.660Z"
   },
   {
    "duration": 83,
    "start_time": "2022-03-25T20:41:54.683Z"
   },
   {
    "duration": 258,
    "start_time": "2022-03-25T20:41:54.769Z"
   },
   {
    "duration": 346,
    "start_time": "2022-03-25T20:41:55.030Z"
   },
   {
    "duration": 534,
    "start_time": "2022-03-25T20:41:55.378Z"
   },
   {
    "duration": 2677,
    "start_time": "2022-03-25T20:41:55.914Z"
   },
   {
    "duration": 82,
    "start_time": "2022-03-25T20:41:58.594Z"
   },
   {
    "duration": 11,
    "start_time": "2022-03-25T20:41:58.678Z"
   },
   {
    "duration": 48,
    "start_time": "2022-03-25T20:41:58.691Z"
   },
   {
    "duration": 33,
    "start_time": "2022-03-25T20:41:58.742Z"
   },
   {
    "duration": 1965,
    "start_time": "2022-03-25T20:41:58.778Z"
   },
   {
    "duration": 74,
    "start_time": "2022-03-25T20:42:00.745Z"
   },
   {
    "duration": 30,
    "start_time": "2022-03-25T20:42:00.822Z"
   },
   {
    "duration": 1695,
    "start_time": "2022-03-25T20:42:00.854Z"
   },
   {
    "duration": 0,
    "start_time": "2022-03-25T20:42:02.551Z"
   },
   {
    "duration": 0,
    "start_time": "2022-03-25T20:42:02.553Z"
   },
   {
    "duration": 146,
    "start_time": "2022-03-25T20:42:16.490Z"
   },
   {
    "duration": 1826,
    "start_time": "2022-03-26T06:25:52.419Z"
   },
   {
    "duration": 811,
    "start_time": "2022-03-26T06:25:54.247Z"
   },
   {
    "duration": 25,
    "start_time": "2022-03-26T06:25:55.060Z"
   },
   {
    "duration": 3,
    "start_time": "2022-03-26T06:25:55.086Z"
   },
   {
    "duration": 138,
    "start_time": "2022-03-26T06:25:55.091Z"
   },
   {
    "duration": 91,
    "start_time": "2022-03-26T06:25:55.231Z"
   },
   {
    "duration": 412,
    "start_time": "2022-03-26T06:25:55.324Z"
   },
   {
    "duration": 413,
    "start_time": "2022-03-26T06:25:55.737Z"
   },
   {
    "duration": 406,
    "start_time": "2022-03-26T06:25:56.152Z"
   },
   {
    "duration": 782,
    "start_time": "2022-03-26T06:25:56.559Z"
   },
   {
    "duration": 53,
    "start_time": "2022-03-26T06:25:57.343Z"
   },
   {
    "duration": 53,
    "start_time": "2022-03-26T06:25:57.398Z"
   },
   {
    "duration": 498,
    "start_time": "2022-03-26T06:25:57.453Z"
   },
   {
    "duration": 4,
    "start_time": "2022-03-26T06:25:57.954Z"
   },
   {
    "duration": 5,
    "start_time": "2022-03-26T06:25:57.959Z"
   },
   {
    "duration": 16,
    "start_time": "2022-03-26T06:25:57.966Z"
   },
   {
    "duration": 51,
    "start_time": "2022-03-26T06:25:57.983Z"
   },
   {
    "duration": 57,
    "start_time": "2022-03-26T06:25:58.035Z"
   },
   {
    "duration": 43,
    "start_time": "2022-03-26T06:25:58.093Z"
   },
   {
    "duration": 298,
    "start_time": "2022-03-26T06:25:58.137Z"
   },
   {
    "duration": 414,
    "start_time": "2022-03-26T06:25:58.437Z"
   },
   {
    "duration": 50,
    "start_time": "2022-03-26T06:25:58.852Z"
   },
   {
    "duration": 247,
    "start_time": "2022-03-26T06:25:58.903Z"
   },
   {
    "duration": 404,
    "start_time": "2022-03-26T06:25:59.151Z"
   },
   {
    "duration": 49,
    "start_time": "2022-03-26T06:25:59.557Z"
   },
   {
    "duration": 278,
    "start_time": "2022-03-26T06:25:59.609Z"
   },
   {
    "duration": 471,
    "start_time": "2022-03-26T06:25:59.889Z"
   },
   {
    "duration": 40,
    "start_time": "2022-03-26T06:26:00.362Z"
   },
   {
    "duration": 41,
    "start_time": "2022-03-26T06:26:00.404Z"
   },
   {
    "duration": 2560,
    "start_time": "2022-03-26T06:26:00.446Z"
   },
   {
    "duration": 102,
    "start_time": "2022-03-26T06:26:03.008Z"
   },
   {
    "duration": 1496,
    "start_time": "2022-03-26T06:26:03.112Z"
   },
   {
    "duration": 4,
    "start_time": "2022-03-26T06:26:04.610Z"
   },
   {
    "duration": 6,
    "start_time": "2022-03-26T06:26:04.615Z"
   },
   {
    "duration": 215,
    "start_time": "2022-03-26T06:26:04.623Z"
   },
   {
    "duration": 1487,
    "start_time": "2022-03-26T06:26:04.840Z"
   },
   {
    "duration": 2,
    "start_time": "2022-03-26T06:26:06.328Z"
   },
   {
    "duration": 55,
    "start_time": "2022-03-26T06:26:06.332Z"
   },
   {
    "duration": 141,
    "start_time": "2022-03-26T06:26:06.388Z"
   },
   {
    "duration": 139,
    "start_time": "2022-03-26T06:26:06.531Z"
   },
   {
    "duration": 292,
    "start_time": "2022-03-26T06:26:06.674Z"
   },
   {
    "duration": 1477,
    "start_time": "2022-03-26T06:26:06.967Z"
   },
   {
    "duration": 51,
    "start_time": "2022-03-26T06:26:08.446Z"
   },
   {
    "duration": 7,
    "start_time": "2022-03-26T06:26:08.498Z"
   },
   {
    "duration": 60,
    "start_time": "2022-03-26T06:26:08.506Z"
   },
   {
    "duration": 6,
    "start_time": "2022-03-26T06:26:08.567Z"
   },
   {
    "duration": 1416,
    "start_time": "2022-03-26T06:26:08.574Z"
   },
   {
    "duration": 36,
    "start_time": "2022-03-26T06:26:09.992Z"
   },
   {
    "duration": 17,
    "start_time": "2022-03-26T06:26:10.030Z"
   },
   {
    "duration": 126,
    "start_time": "2022-03-26T06:26:10.049Z"
   },
   {
    "duration": 5,
    "start_time": "2022-03-26T06:26:10.177Z"
   },
   {
    "duration": 9,
    "start_time": "2022-03-26T06:26:10.184Z"
   },
   {
    "duration": 147,
    "start_time": "2022-03-26T06:26:10.195Z"
   },
   {
    "duration": 143,
    "start_time": "2022-03-26T06:27:27.138Z"
   },
   {
    "duration": 946,
    "start_time": "2022-03-26T06:28:03.786Z"
   },
   {
    "duration": 4,
    "start_time": "2022-03-26T06:30:13.078Z"
   },
   {
    "duration": 170,
    "start_time": "2022-03-26T06:30:24.457Z"
   },
   {
    "duration": 165,
    "start_time": "2022-03-26T06:30:41.177Z"
   },
   {
    "duration": 4,
    "start_time": "2022-03-26T06:30:57.367Z"
   },
   {
    "duration": 255,
    "start_time": "2022-03-26T06:30:58.502Z"
   },
   {
    "duration": 179,
    "start_time": "2022-03-26T06:31:02.106Z"
   },
   {
    "duration": 3087,
    "start_time": "2022-03-26T06:34:16.249Z"
   },
   {
    "duration": 3290,
    "start_time": "2022-03-26T06:34:31.497Z"
   },
   {
    "duration": 735,
    "start_time": "2022-03-26T06:35:28.578Z"
   },
   {
    "duration": 671,
    "start_time": "2022-03-26T06:35:42.177Z"
   },
   {
    "duration": 653,
    "start_time": "2022-03-26T06:35:53.538Z"
   },
   {
    "duration": 729,
    "start_time": "2022-03-26T06:36:06.137Z"
   },
   {
    "duration": 734,
    "start_time": "2022-03-26T06:36:18.865Z"
   },
   {
    "duration": 677,
    "start_time": "2022-03-26T06:36:33.377Z"
   },
   {
    "duration": 659,
    "start_time": "2022-03-26T06:36:57.417Z"
   },
   {
    "duration": 664,
    "start_time": "2022-03-26T06:37:10.500Z"
   },
   {
    "duration": 692,
    "start_time": "2022-03-26T06:37:17.417Z"
   },
   {
    "duration": 346,
    "start_time": "2022-03-26T06:38:00.897Z"
   },
   {
    "duration": 789,
    "start_time": "2022-03-26T06:38:04.377Z"
   },
   {
    "duration": 6,
    "start_time": "2022-03-26T06:39:03.101Z"
   },
   {
    "duration": 16,
    "start_time": "2022-03-26T06:51:51.649Z"
   },
   {
    "duration": 379,
    "start_time": "2022-03-26T06:55:23.337Z"
   },
   {
    "duration": 87,
    "start_time": "2022-03-26T06:55:33.649Z"
   },
   {
    "duration": 22,
    "start_time": "2022-03-26T10:30:20.375Z"
   },
   {
    "duration": 17,
    "start_time": "2022-03-26T10:31:17.057Z"
   },
   {
    "duration": 4,
    "start_time": "2022-03-26T10:31:37.816Z"
   },
   {
    "duration": 3,
    "start_time": "2022-03-26T10:31:45.259Z"
   },
   {
    "duration": 8,
    "start_time": "2022-03-26T10:33:43.936Z"
   },
   {
    "duration": 4,
    "start_time": "2022-03-26T10:34:14.064Z"
   },
   {
    "duration": 9,
    "start_time": "2022-03-26T10:34:18.954Z"
   },
   {
    "duration": 3,
    "start_time": "2022-03-26T10:34:33.216Z"
   },
   {
    "duration": 3,
    "start_time": "2022-03-26T10:34:38.856Z"
   },
   {
    "duration": 9228,
    "start_time": "2022-03-26T10:35:25.115Z"
   },
   {
    "duration": 12952,
    "start_time": "2022-03-26T10:35:36.416Z"
   },
   {
    "duration": 10,
    "start_time": "2022-03-26T10:37:31.177Z"
   },
   {
    "duration": 7,
    "start_time": "2022-03-26T10:38:23.135Z"
   },
   {
    "duration": 2,
    "start_time": "2022-03-26T10:38:43.217Z"
   },
   {
    "duration": 13190,
    "start_time": "2022-03-26T10:38:58.696Z"
   },
   {
    "duration": 4,
    "start_time": "2022-03-26T10:39:15.696Z"
   },
   {
    "duration": 9,
    "start_time": "2022-03-26T10:40:22.095Z"
   },
   {
    "duration": 85,
    "start_time": "2022-03-26T10:41:06.303Z"
   },
   {
    "duration": 9,
    "start_time": "2022-03-26T10:41:09.255Z"
   },
   {
    "duration": 3,
    "start_time": "2022-03-26T10:44:08.377Z"
   },
   {
    "duration": 596,
    "start_time": "2022-03-26T10:45:34.576Z"
   },
   {
    "duration": 4,
    "start_time": "2022-03-26T10:45:45.343Z"
   },
   {
    "duration": 9,
    "start_time": "2022-03-26T10:47:18.736Z"
   },
   {
    "duration": 4,
    "start_time": "2022-03-26T10:47:24.263Z"
   },
   {
    "duration": 4,
    "start_time": "2022-03-26T10:47:29.135Z"
   },
   {
    "duration": 13990,
    "start_time": "2022-03-26T10:48:10.367Z"
   },
   {
    "duration": 4,
    "start_time": "2022-03-26T10:48:31.135Z"
   },
   {
    "duration": 370,
    "start_time": "2022-03-26T10:48:32.899Z"
   },
   {
    "duration": 6,
    "start_time": "2022-03-26T10:48:34.535Z"
   },
   {
    "duration": 4,
    "start_time": "2022-03-26T10:48:50.057Z"
   },
   {
    "duration": 700,
    "start_time": "2022-03-26T10:48:50.068Z"
   },
   {
    "duration": 16,
    "start_time": "2022-03-26T10:48:50.769Z"
   },
   {
    "duration": 9,
    "start_time": "2022-03-26T10:48:50.787Z"
   },
   {
    "duration": 125,
    "start_time": "2022-03-26T10:48:50.797Z"
   },
   {
    "duration": 77,
    "start_time": "2022-03-26T10:48:50.925Z"
   },
   {
    "duration": 352,
    "start_time": "2022-03-26T10:48:51.004Z"
   },
   {
    "duration": 360,
    "start_time": "2022-03-26T10:48:51.358Z"
   },
   {
    "duration": 377,
    "start_time": "2022-03-26T10:48:51.720Z"
   },
   {
    "duration": 820,
    "start_time": "2022-03-26T10:48:52.098Z"
   },
   {
    "duration": 41,
    "start_time": "2022-03-26T10:48:52.919Z"
   },
   {
    "duration": 58,
    "start_time": "2022-03-26T10:48:52.961Z"
   },
   {
    "duration": 427,
    "start_time": "2022-03-26T10:48:53.020Z"
   },
   {
    "duration": 4,
    "start_time": "2022-03-26T10:48:53.449Z"
   },
   {
    "duration": 6,
    "start_time": "2022-03-26T10:48:53.456Z"
   },
   {
    "duration": 18,
    "start_time": "2022-03-26T10:48:53.463Z"
   },
   {
    "duration": 48,
    "start_time": "2022-03-26T10:48:53.482Z"
   },
   {
    "duration": 60,
    "start_time": "2022-03-26T10:48:53.531Z"
   },
   {
    "duration": 41,
    "start_time": "2022-03-26T10:48:53.593Z"
   },
   {
    "duration": 398,
    "start_time": "2022-03-26T10:48:53.636Z"
   },
   {
    "duration": 406,
    "start_time": "2022-03-26T10:48:54.036Z"
   },
   {
    "duration": 54,
    "start_time": "2022-03-26T10:48:54.444Z"
   },
   {
    "duration": 283,
    "start_time": "2022-03-26T10:48:54.499Z"
   },
   {
    "duration": 403,
    "start_time": "2022-03-26T10:48:54.784Z"
   },
   {
    "duration": 41,
    "start_time": "2022-03-26T10:48:55.189Z"
   },
   {
    "duration": 299,
    "start_time": "2022-03-26T10:48:55.231Z"
   },
   {
    "duration": 636,
    "start_time": "2022-03-26T10:48:55.532Z"
   },
   {
    "duration": 39,
    "start_time": "2022-03-26T10:48:56.170Z"
   },
   {
    "duration": 43,
    "start_time": "2022-03-26T10:48:56.211Z"
   },
   {
    "duration": 2568,
    "start_time": "2022-03-26T10:48:56.256Z"
   },
   {
    "duration": 99,
    "start_time": "2022-03-26T10:48:58.826Z"
   },
   {
    "duration": 1404,
    "start_time": "2022-03-26T10:48:58.926Z"
   },
   {
    "duration": 4,
    "start_time": "2022-03-26T10:49:00.332Z"
   },
   {
    "duration": 40,
    "start_time": "2022-03-26T10:49:00.337Z"
   },
   {
    "duration": 298,
    "start_time": "2022-03-26T10:49:00.379Z"
   },
   {
    "duration": 1554,
    "start_time": "2022-03-26T10:49:00.679Z"
   },
   {
    "duration": 3,
    "start_time": "2022-03-26T10:49:02.234Z"
   },
   {
    "duration": 56,
    "start_time": "2022-03-26T10:49:02.238Z"
   },
   {
    "duration": 159,
    "start_time": "2022-03-26T10:49:02.295Z"
   },
   {
    "duration": 150,
    "start_time": "2022-03-26T10:49:02.455Z"
   },
   {
    "duration": 283,
    "start_time": "2022-03-26T10:49:02.606Z"
   },
   {
    "duration": 1438,
    "start_time": "2022-03-26T10:49:02.894Z"
   },
   {
    "duration": 34,
    "start_time": "2022-03-26T10:49:04.334Z"
   },
   {
    "duration": 16,
    "start_time": "2022-03-26T10:49:04.370Z"
   },
   {
    "duration": 27,
    "start_time": "2022-03-26T10:49:04.387Z"
   },
   {
    "duration": 6,
    "start_time": "2022-03-26T10:49:04.416Z"
   },
   {
    "duration": 1271,
    "start_time": "2022-03-26T10:49:04.424Z"
   },
   {
    "duration": 33,
    "start_time": "2022-03-26T10:49:05.697Z"
   },
   {
    "duration": 16,
    "start_time": "2022-03-26T10:49:05.732Z"
   },
   {
    "duration": 122,
    "start_time": "2022-03-26T10:49:05.749Z"
   },
   {
    "duration": 9,
    "start_time": "2022-03-26T10:49:05.872Z"
   },
   {
    "duration": 177,
    "start_time": "2022-03-26T10:49:05.882Z"
   },
   {
    "duration": 191,
    "start_time": "2022-03-26T10:49:06.060Z"
   },
   {
    "duration": 6,
    "start_time": "2022-03-26T10:49:06.253Z"
   },
   {
    "duration": 98,
    "start_time": "2022-03-26T10:49:06.261Z"
   },
   {
    "duration": 2,
    "start_time": "2022-03-26T10:49:06.361Z"
   },
   {
    "duration": 18,
    "start_time": "2022-03-26T10:49:06.364Z"
   },
   {
    "duration": 14,
    "start_time": "2022-03-26T10:49:06.383Z"
   },
   {
    "duration": 26,
    "start_time": "2022-03-26T10:49:06.398Z"
   },
   {
    "duration": 12868,
    "start_time": "2022-03-26T10:49:06.425Z"
   },
   {
    "duration": 4,
    "start_time": "2022-03-26T10:49:19.295Z"
   },
   {
    "duration": 609,
    "start_time": "2022-03-26T10:49:19.300Z"
   },
   {
    "duration": 5,
    "start_time": "2022-03-26T10:49:19.911Z"
   },
   {
    "duration": 4,
    "start_time": "2022-03-26T10:50:18.336Z"
   },
   {
    "duration": 3,
    "start_time": "2022-03-26T10:50:19.704Z"
   },
   {
    "duration": 46053,
    "start_time": "2022-03-26T10:50:20.455Z"
   },
   {
    "duration": 3,
    "start_time": "2022-03-26T10:52:30.055Z"
   },
   {
    "duration": 362,
    "start_time": "2022-03-26T10:52:33.975Z"
   },
   {
    "duration": 4,
    "start_time": "2022-03-26T10:52:36.017Z"
   },
   {
    "duration": 4,
    "start_time": "2022-03-26T10:53:07.095Z"
   },
   {
    "duration": 3,
    "start_time": "2022-03-26T10:53:08.456Z"
   },
   {
    "duration": 11256,
    "start_time": "2022-03-26T10:53:09.215Z"
   },
   {
    "duration": 4,
    "start_time": "2022-03-26T10:53:53.416Z"
   },
   {
    "duration": 389,
    "start_time": "2022-03-26T10:53:54.856Z"
   },
   {
    "duration": 4,
    "start_time": "2022-03-26T10:53:56.416Z"
   },
   {
    "duration": 4,
    "start_time": "2022-03-26T10:55:17.339Z"
   },
   {
    "duration": 4,
    "start_time": "2022-03-26T10:55:49.775Z"
   },
   {
    "duration": 3,
    "start_time": "2022-03-26T10:55:50.975Z"
   },
   {
    "duration": 13172,
    "start_time": "2022-03-26T10:55:51.743Z"
   },
   {
    "duration": 5,
    "start_time": "2022-03-26T10:56:07.096Z"
   },
   {
    "duration": 394,
    "start_time": "2022-03-26T10:56:08.138Z"
   },
   {
    "duration": 5,
    "start_time": "2022-03-26T10:56:12.676Z"
   },
   {
    "duration": 3,
    "start_time": "2022-03-26T10:57:29.864Z"
   },
   {
    "duration": 2,
    "start_time": "2022-03-26T10:57:30.616Z"
   },
   {
    "duration": 28382,
    "start_time": "2022-03-26T10:57:31.255Z"
   },
   {
    "duration": 4,
    "start_time": "2022-03-26T10:58:02.895Z"
   },
   {
    "duration": 370,
    "start_time": "2022-03-26T10:58:04.295Z"
   },
   {
    "duration": 5,
    "start_time": "2022-03-26T10:58:06.376Z"
   },
   {
    "duration": 3,
    "start_time": "2022-03-26T11:00:49.345Z"
   },
   {
    "duration": 3,
    "start_time": "2022-03-26T11:00:50.135Z"
   },
   {
    "duration": 2801,
    "start_time": "2022-03-29T05:31:14.430Z"
   },
   {
    "duration": 1381,
    "start_time": "2022-03-29T05:31:17.235Z"
   },
   {
    "duration": 26,
    "start_time": "2022-03-29T05:31:18.618Z"
   },
   {
    "duration": 4,
    "start_time": "2022-03-29T05:31:18.647Z"
   },
   {
    "duration": 224,
    "start_time": "2022-03-29T05:31:18.654Z"
   },
   {
    "duration": 133,
    "start_time": "2022-03-29T05:31:18.881Z"
   },
   {
    "duration": 730,
    "start_time": "2022-03-29T05:31:19.018Z"
   },
   {
    "duration": 727,
    "start_time": "2022-03-29T05:31:19.750Z"
   },
   {
    "duration": 668,
    "start_time": "2022-03-29T05:31:20.480Z"
   },
   {
    "duration": 1285,
    "start_time": "2022-03-29T05:31:21.150Z"
   },
   {
    "duration": 80,
    "start_time": "2022-03-29T05:31:22.438Z"
   },
   {
    "duration": 92,
    "start_time": "2022-03-29T05:31:22.521Z"
   },
   {
    "duration": 840,
    "start_time": "2022-03-29T05:31:22.615Z"
   },
   {
    "duration": 15,
    "start_time": "2022-03-29T05:31:23.460Z"
   },
   {
    "duration": 19,
    "start_time": "2022-03-29T05:31:23.478Z"
   },
   {
    "duration": 10,
    "start_time": "2022-03-29T05:31:23.499Z"
   },
   {
    "duration": 97,
    "start_time": "2022-03-29T05:31:23.511Z"
   },
   {
    "duration": 113,
    "start_time": "2022-03-29T05:31:23.610Z"
   },
   {
    "duration": 67,
    "start_time": "2022-03-29T05:31:23.727Z"
   },
   {
    "duration": 624,
    "start_time": "2022-03-29T05:31:23.797Z"
   },
   {
    "duration": 738,
    "start_time": "2022-03-29T05:31:24.423Z"
   },
   {
    "duration": 64,
    "start_time": "2022-03-29T05:31:25.163Z"
   },
   {
    "duration": 435,
    "start_time": "2022-03-29T05:31:25.230Z"
   },
   {
    "duration": 811,
    "start_time": "2022-03-29T05:31:25.668Z"
   },
   {
    "duration": 67,
    "start_time": "2022-03-29T05:31:26.483Z"
   },
   {
    "duration": 511,
    "start_time": "2022-03-29T05:31:26.552Z"
   },
   {
    "duration": 723,
    "start_time": "2022-03-29T05:31:27.073Z"
   },
   {
    "duration": 78,
    "start_time": "2022-03-29T05:31:27.798Z"
   },
   {
    "duration": 63,
    "start_time": "2022-03-29T05:31:27.879Z"
   },
   {
    "duration": 5364,
    "start_time": "2022-03-29T05:31:27.944Z"
   },
   {
    "duration": 167,
    "start_time": "2022-03-29T05:31:33.310Z"
   },
   {
    "duration": 2342,
    "start_time": "2022-03-29T05:31:33.480Z"
   },
   {
    "duration": 6,
    "start_time": "2022-03-29T05:31:35.824Z"
   },
   {
    "duration": 8,
    "start_time": "2022-03-29T05:31:35.832Z"
   },
   {
    "duration": 451,
    "start_time": "2022-03-29T05:31:35.843Z"
   },
   {
    "duration": 2917,
    "start_time": "2022-03-29T05:31:36.296Z"
   },
   {
    "duration": 3,
    "start_time": "2022-03-29T05:31:39.215Z"
   },
   {
    "duration": 96,
    "start_time": "2022-03-29T05:31:39.221Z"
   },
   {
    "duration": 269,
    "start_time": "2022-03-29T05:31:39.319Z"
   },
   {
    "duration": 261,
    "start_time": "2022-03-29T05:31:39.591Z"
   },
   {
    "duration": 548,
    "start_time": "2022-03-29T05:31:39.859Z"
   },
   {
    "duration": 2806,
    "start_time": "2022-03-29T05:31:40.409Z"
   },
   {
    "duration": 87,
    "start_time": "2022-03-29T05:31:43.218Z"
   },
   {
    "duration": 10,
    "start_time": "2022-03-29T05:31:43.307Z"
   },
   {
    "duration": 63,
    "start_time": "2022-03-29T05:31:43.319Z"
   },
   {
    "duration": 11,
    "start_time": "2022-03-29T05:31:43.384Z"
   },
   {
    "duration": 2136,
    "start_time": "2022-03-29T05:31:43.398Z"
   },
   {
    "duration": 78,
    "start_time": "2022-03-29T05:31:45.536Z"
   },
   {
    "duration": 30,
    "start_time": "2022-03-29T05:31:45.617Z"
   },
   {
    "duration": 176,
    "start_time": "2022-03-29T05:31:45.649Z"
   },
   {
    "duration": 6,
    "start_time": "2022-03-29T05:31:45.827Z"
   },
   {
    "duration": 381,
    "start_time": "2022-03-29T05:31:45.835Z"
   },
   {
    "duration": 388,
    "start_time": "2022-03-29T05:31:46.218Z"
   },
   {
    "duration": 204,
    "start_time": "2022-03-29T05:31:46.608Z"
   },
   {
    "duration": 0,
    "start_time": "2022-03-29T05:31:46.814Z"
   },
   {
    "duration": 0,
    "start_time": "2022-03-29T05:31:46.816Z"
   },
   {
    "duration": 0,
    "start_time": "2022-03-29T05:31:46.817Z"
   },
   {
    "duration": 0,
    "start_time": "2022-03-29T05:31:46.818Z"
   },
   {
    "duration": 0,
    "start_time": "2022-03-29T05:31:46.820Z"
   },
   {
    "duration": 0,
    "start_time": "2022-03-29T05:31:46.821Z"
   },
   {
    "duration": 0,
    "start_time": "2022-03-29T05:31:46.823Z"
   },
   {
    "duration": 0,
    "start_time": "2022-03-29T05:31:46.824Z"
   },
   {
    "duration": 1,
    "start_time": "2022-03-29T05:31:46.825Z"
   },
   {
    "duration": 0,
    "start_time": "2022-03-29T05:31:46.827Z"
   },
   {
    "duration": 0,
    "start_time": "2022-03-29T05:31:46.828Z"
   },
   {
    "duration": 0,
    "start_time": "2022-03-29T05:31:46.830Z"
   },
   {
    "duration": 0,
    "start_time": "2022-03-29T05:31:46.831Z"
   },
   {
    "duration": 0,
    "start_time": "2022-03-29T05:31:46.833Z"
   },
   {
    "duration": 0,
    "start_time": "2022-03-29T05:31:46.834Z"
   },
   {
    "duration": 0,
    "start_time": "2022-03-29T05:31:46.836Z"
   },
   {
    "duration": 0,
    "start_time": "2022-03-29T05:31:46.875Z"
   },
   {
    "duration": 0,
    "start_time": "2022-03-29T05:31:46.877Z"
   },
   {
    "duration": 190,
    "start_time": "2022-03-29T05:40:44.870Z"
   },
   {
    "duration": 5,
    "start_time": "2022-03-29T05:40:46.829Z"
   },
   {
    "duration": 6,
    "start_time": "2022-03-29T05:40:48.788Z"
   },
   {
    "duration": 5,
    "start_time": "2022-03-29T05:40:51.909Z"
   },
   {
    "duration": 89441,
    "start_time": "2022-03-29T05:40:52.901Z"
   },
   {
    "duration": 25,
    "start_time": "2022-03-29T05:42:22.345Z"
   },
   {
    "duration": 0,
    "start_time": "2022-03-29T05:42:22.374Z"
   },
   {
    "duration": 100830,
    "start_time": "2022-03-29T05:42:28.429Z"
   },
   {
    "duration": 6,
    "start_time": "2022-03-29T06:12:34.828Z"
   },
   {
    "duration": 630,
    "start_time": "2022-03-29T06:12:36.859Z"
   },
   {
    "duration": 14,
    "start_time": "2022-03-29T06:12:42.231Z"
   },
   {
    "duration": 7,
    "start_time": "2022-03-29T06:12:49.667Z"
   },
   {
    "duration": 13,
    "start_time": "2022-03-29T06:12:52.099Z"
   },
   {
    "duration": 12,
    "start_time": "2022-03-29T06:13:17.267Z"
   },
   {
    "duration": 13,
    "start_time": "2022-03-29T06:13:18.548Z"
   },
   {
    "duration": 15,
    "start_time": "2022-03-29T06:13:21.027Z"
   },
   {
    "duration": 113,
    "start_time": "2022-03-29T06:13:22.499Z"
   },
   {
    "duration": 11,
    "start_time": "2022-03-29T06:13:25.109Z"
   },
   {
    "duration": 1717,
    "start_time": "2022-04-01T15:39:47.993Z"
   },
   {
    "duration": 909,
    "start_time": "2022-04-01T15:39:49.713Z"
   },
   {
    "duration": 20,
    "start_time": "2022-04-01T15:39:50.624Z"
   },
   {
    "duration": 5,
    "start_time": "2022-04-01T15:39:50.646Z"
   },
   {
    "duration": 238,
    "start_time": "2022-04-01T15:39:50.654Z"
   },
   {
    "duration": 130,
    "start_time": "2022-04-01T15:39:50.894Z"
   },
   {
    "duration": 632,
    "start_time": "2022-04-01T15:39:51.026Z"
   },
   {
    "duration": 652,
    "start_time": "2022-04-01T15:39:51.659Z"
   },
   {
    "duration": 566,
    "start_time": "2022-04-01T15:39:52.313Z"
   },
   {
    "duration": 901,
    "start_time": "2022-04-01T15:39:52.880Z"
   },
   {
    "duration": 50,
    "start_time": "2022-04-01T15:39:53.783Z"
   },
   {
    "duration": 74,
    "start_time": "2022-04-01T15:39:53.835Z"
   },
   {
    "duration": 554,
    "start_time": "2022-04-01T15:39:53.911Z"
   },
   {
    "duration": 5,
    "start_time": "2022-04-01T15:39:54.469Z"
   },
   {
    "duration": 7,
    "start_time": "2022-04-01T15:39:54.476Z"
   },
   {
    "duration": 13,
    "start_time": "2022-04-01T15:39:54.484Z"
   },
   {
    "duration": 71,
    "start_time": "2022-04-01T15:39:54.499Z"
   },
   {
    "duration": 79,
    "start_time": "2022-04-01T15:39:54.572Z"
   },
   {
    "duration": 56,
    "start_time": "2022-04-01T15:39:54.653Z"
   },
   {
    "duration": 339,
    "start_time": "2022-04-01T15:39:54.710Z"
   },
   {
    "duration": 459,
    "start_time": "2022-04-01T15:39:55.052Z"
   },
   {
    "duration": 45,
    "start_time": "2022-04-01T15:39:55.512Z"
   },
   {
    "duration": 288,
    "start_time": "2022-04-01T15:39:55.559Z"
   },
   {
    "duration": 562,
    "start_time": "2022-04-01T15:39:55.849Z"
   },
   {
    "duration": 57,
    "start_time": "2022-04-01T15:39:56.413Z"
   },
   {
    "duration": 367,
    "start_time": "2022-04-01T15:39:56.472Z"
   },
   {
    "duration": 457,
    "start_time": "2022-04-01T15:39:56.840Z"
   },
   {
    "duration": 47,
    "start_time": "2022-04-01T15:39:57.298Z"
   },
   {
    "duration": 44,
    "start_time": "2022-04-01T15:39:57.347Z"
   },
   {
    "duration": 2858,
    "start_time": "2022-04-01T15:39:57.410Z"
   },
   {
    "duration": 117,
    "start_time": "2022-04-01T15:40:00.270Z"
   },
   {
    "duration": 1802,
    "start_time": "2022-04-01T15:40:00.389Z"
   },
   {
    "duration": 5,
    "start_time": "2022-04-01T15:40:02.194Z"
   },
   {
    "duration": 8,
    "start_time": "2022-04-01T15:40:02.209Z"
   },
   {
    "duration": 335,
    "start_time": "2022-04-01T15:40:02.220Z"
   },
   {
    "duration": 1743,
    "start_time": "2022-04-01T15:40:02.556Z"
   },
   {
    "duration": 8,
    "start_time": "2022-04-01T15:40:04.301Z"
   },
   {
    "duration": 62,
    "start_time": "2022-04-01T15:40:04.311Z"
   },
   {
    "duration": 190,
    "start_time": "2022-04-01T15:40:04.376Z"
   },
   {
    "duration": 185,
    "start_time": "2022-04-01T15:40:04.568Z"
   },
   {
    "duration": 366,
    "start_time": "2022-04-01T15:40:04.758Z"
   },
   {
    "duration": 1669,
    "start_time": "2022-04-01T15:40:05.126Z"
   },
   {
    "duration": 66,
    "start_time": "2022-04-01T15:40:06.797Z"
   },
   {
    "duration": 9,
    "start_time": "2022-04-01T15:40:06.865Z"
   },
   {
    "duration": 59,
    "start_time": "2022-04-01T15:40:06.876Z"
   },
   {
    "duration": 10,
    "start_time": "2022-04-01T15:40:06.937Z"
   },
   {
    "duration": 1501,
    "start_time": "2022-04-01T15:40:06.949Z"
   },
   {
    "duration": 57,
    "start_time": "2022-04-01T15:40:08.452Z"
   },
   {
    "duration": 19,
    "start_time": "2022-04-01T15:40:08.511Z"
   },
   {
    "duration": 141,
    "start_time": "2022-04-01T15:40:08.532Z"
   },
   {
    "duration": 5,
    "start_time": "2022-04-01T15:40:08.675Z"
   },
   {
    "duration": 238,
    "start_time": "2022-04-01T15:40:08.682Z"
   },
   {
    "duration": 263,
    "start_time": "2022-04-01T15:40:08.923Z"
   },
   {
    "duration": 2,
    "start_time": "2022-04-01T15:40:09.189Z"
   },
   {
    "duration": 121,
    "start_time": "2022-04-01T15:40:09.193Z"
   },
   {
    "duration": 3,
    "start_time": "2022-04-01T15:40:09.316Z"
   },
   {
    "duration": 7,
    "start_time": "2022-04-01T15:40:09.320Z"
   },
   {
    "duration": 7,
    "start_time": "2022-04-01T15:40:09.329Z"
   },
   {
    "duration": 5,
    "start_time": "2022-04-01T15:40:09.338Z"
   },
   {
    "duration": 69229,
    "start_time": "2022-04-01T15:40:09.345Z"
   },
   {
    "duration": 3,
    "start_time": "2022-04-01T15:41:18.576Z"
   },
   {
    "duration": 499,
    "start_time": "2022-04-01T15:41:18.581Z"
   },
   {
    "duration": 2,
    "start_time": "2022-04-01T15:41:19.082Z"
   },
   {
    "duration": 12,
    "start_time": "2022-04-01T15:41:19.086Z"
   },
   {
    "duration": 148,
    "start_time": "2022-04-01T15:41:19.100Z"
   },
   {
    "duration": 0,
    "start_time": "2022-04-01T15:41:19.250Z"
   },
   {
    "duration": 0,
    "start_time": "2022-04-01T15:41:19.252Z"
   },
   {
    "duration": 0,
    "start_time": "2022-04-01T15:41:19.254Z"
   },
   {
    "duration": 0,
    "start_time": "2022-04-01T15:41:19.255Z"
   },
   {
    "duration": 0,
    "start_time": "2022-04-01T15:41:19.257Z"
   },
   {
    "duration": 0,
    "start_time": "2022-04-01T15:41:19.258Z"
   },
   {
    "duration": 0,
    "start_time": "2022-04-01T15:41:19.259Z"
   },
   {
    "duration": 9,
    "start_time": "2022-04-01T15:45:08.628Z"
   },
   {
    "duration": 10,
    "start_time": "2022-04-01T15:45:24.643Z"
   },
   {
    "duration": 11,
    "start_time": "2022-04-01T15:45:31.625Z"
   },
   {
    "duration": 72,
    "start_time": "2022-04-01T15:45:33.042Z"
   },
   {
    "duration": 11,
    "start_time": "2022-04-01T15:45:38.194Z"
   },
   {
    "duration": 9,
    "start_time": "2022-04-01T15:45:40.381Z"
   },
   {
    "duration": 4,
    "start_time": "2022-04-01T15:45:41.394Z"
   },
   {
    "duration": 10,
    "start_time": "2022-04-01T15:53:48.334Z"
   },
   {
    "duration": 4,
    "start_time": "2022-04-01T15:56:01.349Z"
   },
   {
    "duration": 756,
    "start_time": "2022-04-01T15:56:01.357Z"
   },
   {
    "duration": 14,
    "start_time": "2022-04-01T15:56:02.115Z"
   },
   {
    "duration": 12,
    "start_time": "2022-04-01T15:56:02.132Z"
   },
   {
    "duration": 144,
    "start_time": "2022-04-01T15:56:02.146Z"
   },
   {
    "duration": 96,
    "start_time": "2022-04-01T15:56:02.293Z"
   },
   {
    "duration": 412,
    "start_time": "2022-04-01T15:56:02.390Z"
   },
   {
    "duration": 424,
    "start_time": "2022-04-01T15:56:02.803Z"
   },
   {
    "duration": 433,
    "start_time": "2022-04-01T15:56:03.228Z"
   },
   {
    "duration": 848,
    "start_time": "2022-04-01T15:56:03.663Z"
   },
   {
    "duration": 47,
    "start_time": "2022-04-01T15:56:04.513Z"
   },
   {
    "duration": 72,
    "start_time": "2022-04-01T15:56:04.562Z"
   },
   {
    "duration": 505,
    "start_time": "2022-04-01T15:56:04.636Z"
   },
   {
    "duration": 4,
    "start_time": "2022-04-01T15:56:05.143Z"
   },
   {
    "duration": 4,
    "start_time": "2022-04-01T15:56:05.151Z"
   },
   {
    "duration": 8,
    "start_time": "2022-04-01T15:56:05.156Z"
   },
   {
    "duration": 77,
    "start_time": "2022-04-01T15:56:05.166Z"
   },
   {
    "duration": 64,
    "start_time": "2022-04-01T15:56:05.245Z"
   },
   {
    "duration": 47,
    "start_time": "2022-04-01T15:56:05.311Z"
   },
   {
    "duration": 350,
    "start_time": "2022-04-01T15:56:05.360Z"
   },
   {
    "duration": 527,
    "start_time": "2022-04-01T15:56:05.712Z"
   },
   {
    "duration": 44,
    "start_time": "2022-04-01T15:56:06.241Z"
   },
   {
    "duration": 293,
    "start_time": "2022-04-01T15:56:06.287Z"
   },
   {
    "duration": 449,
    "start_time": "2022-04-01T15:56:06.582Z"
   },
   {
    "duration": 45,
    "start_time": "2022-04-01T15:56:07.033Z"
   },
   {
    "duration": 343,
    "start_time": "2022-04-01T15:56:07.080Z"
   },
   {
    "duration": 442,
    "start_time": "2022-04-01T15:56:07.425Z"
   },
   {
    "duration": 41,
    "start_time": "2022-04-01T15:56:07.868Z"
   },
   {
    "duration": 45,
    "start_time": "2022-04-01T15:56:07.911Z"
   },
   {
    "duration": 2945,
    "start_time": "2022-04-01T15:56:07.958Z"
   },
   {
    "duration": 97,
    "start_time": "2022-04-01T15:56:10.904Z"
   },
   {
    "duration": 1551,
    "start_time": "2022-04-01T15:56:11.008Z"
   },
   {
    "duration": 5,
    "start_time": "2022-04-01T15:56:12.561Z"
   },
   {
    "duration": 4,
    "start_time": "2022-04-01T15:56:12.568Z"
   },
   {
    "duration": 263,
    "start_time": "2022-04-01T15:56:12.574Z"
   },
   {
    "duration": 1679,
    "start_time": "2022-04-01T15:56:12.839Z"
   },
   {
    "duration": 2,
    "start_time": "2022-04-01T15:56:14.520Z"
   },
   {
    "duration": 46,
    "start_time": "2022-04-01T15:56:14.524Z"
   },
   {
    "duration": 189,
    "start_time": "2022-04-01T15:56:14.572Z"
   },
   {
    "duration": 179,
    "start_time": "2022-04-01T15:56:14.763Z"
   },
   {
    "duration": 356,
    "start_time": "2022-04-01T15:56:14.943Z"
   },
   {
    "duration": 1588,
    "start_time": "2022-04-01T15:56:15.309Z"
   },
   {
    "duration": 43,
    "start_time": "2022-04-01T15:56:16.899Z"
   },
   {
    "duration": 6,
    "start_time": "2022-04-01T15:56:16.943Z"
   },
   {
    "duration": 27,
    "start_time": "2022-04-01T15:56:16.951Z"
   },
   {
    "duration": 31,
    "start_time": "2022-04-01T15:56:16.980Z"
   },
   {
    "duration": 1591,
    "start_time": "2022-04-01T15:56:17.014Z"
   },
   {
    "duration": 35,
    "start_time": "2022-04-01T15:56:18.609Z"
   },
   {
    "duration": 18,
    "start_time": "2022-04-01T15:56:18.646Z"
   },
   {
    "duration": 144,
    "start_time": "2022-04-01T15:56:18.665Z"
   },
   {
    "duration": 4,
    "start_time": "2022-04-01T15:56:18.811Z"
   },
   {
    "duration": 218,
    "start_time": "2022-04-01T15:56:18.817Z"
   },
   {
    "duration": 225,
    "start_time": "2022-04-01T15:56:19.037Z"
   },
   {
    "duration": 3,
    "start_time": "2022-04-01T15:56:19.264Z"
   },
   {
    "duration": 123,
    "start_time": "2022-04-01T15:56:19.269Z"
   },
   {
    "duration": 3,
    "start_time": "2022-04-01T15:56:19.394Z"
   },
   {
    "duration": 14,
    "start_time": "2022-04-01T15:56:19.399Z"
   },
   {
    "duration": 8,
    "start_time": "2022-04-01T15:56:19.415Z"
   },
   {
    "duration": 7,
    "start_time": "2022-04-01T15:56:19.425Z"
   },
   {
    "duration": 60794,
    "start_time": "2022-04-01T15:56:19.434Z"
   },
   {
    "duration": 4,
    "start_time": "2022-04-01T15:57:20.230Z"
   },
   {
    "duration": 424,
    "start_time": "2022-04-01T15:57:20.236Z"
   },
   {
    "duration": 3,
    "start_time": "2022-04-01T15:57:20.661Z"
   },
   {
    "duration": 6,
    "start_time": "2022-04-01T15:57:20.665Z"
   },
   {
    "duration": 4,
    "start_time": "2022-04-01T15:57:20.672Z"
   },
   {
    "duration": 4,
    "start_time": "2022-04-01T15:57:20.678Z"
   },
   {
    "duration": 26,
    "start_time": "2022-04-01T15:57:20.683Z"
   },
   {
    "duration": 13,
    "start_time": "2022-04-01T15:57:20.710Z"
   },
   {
    "duration": 0,
    "start_time": "2022-04-01T15:57:20.724Z"
   },
   {
    "duration": 0,
    "start_time": "2022-04-01T15:57:20.726Z"
   },
   {
    "duration": 0,
    "start_time": "2022-04-01T15:57:20.727Z"
   },
   {
    "duration": 0,
    "start_time": "2022-04-01T15:57:20.728Z"
   },
   {
    "duration": 4,
    "start_time": "2022-04-01T16:05:43.024Z"
   },
   {
    "duration": 165000,
    "start_time": "2022-04-01T16:05:53.108Z"
   },
   {
    "duration": 4,
    "start_time": "2022-04-01T16:09:28.596Z"
   },
   {
    "duration": 157945,
    "start_time": "2022-04-01T16:09:32.849Z"
   },
   {
    "duration": 4,
    "start_time": "2022-04-01T16:12:25.498Z"
   },
   {
    "duration": 276929,
    "start_time": "2022-04-01T16:12:27.302Z"
   },
   {
    "duration": 4,
    "start_time": "2022-04-01T16:32:25.062Z"
   },
   {
    "duration": 726,
    "start_time": "2022-04-01T16:32:25.068Z"
   },
   {
    "duration": 13,
    "start_time": "2022-04-01T16:32:25.809Z"
   },
   {
    "duration": 4,
    "start_time": "2022-04-01T16:32:25.823Z"
   },
   {
    "duration": 150,
    "start_time": "2022-04-01T16:32:25.829Z"
   },
   {
    "duration": 89,
    "start_time": "2022-04-01T16:32:25.981Z"
   },
   {
    "duration": 377,
    "start_time": "2022-04-01T16:32:26.071Z"
   },
   {
    "duration": 396,
    "start_time": "2022-04-01T16:32:26.449Z"
   },
   {
    "duration": 407,
    "start_time": "2022-04-01T16:32:26.847Z"
   },
   {
    "duration": 799,
    "start_time": "2022-04-01T16:32:27.255Z"
   },
   {
    "duration": 53,
    "start_time": "2022-04-01T16:32:28.056Z"
   },
   {
    "duration": 54,
    "start_time": "2022-04-01T16:32:28.110Z"
   },
   {
    "duration": 486,
    "start_time": "2022-04-01T16:32:28.166Z"
   },
   {
    "duration": 4,
    "start_time": "2022-04-01T16:32:28.653Z"
   },
   {
    "duration": 6,
    "start_time": "2022-04-01T16:32:28.659Z"
   },
   {
    "duration": 7,
    "start_time": "2022-04-01T16:32:28.667Z"
   },
   {
    "duration": 93,
    "start_time": "2022-04-01T16:32:28.676Z"
   },
   {
    "duration": 72,
    "start_time": "2022-04-01T16:32:28.771Z"
   },
   {
    "duration": 46,
    "start_time": "2022-04-01T16:32:28.845Z"
   },
   {
    "duration": 342,
    "start_time": "2022-04-01T16:32:28.894Z"
   },
   {
    "duration": 451,
    "start_time": "2022-04-01T16:32:29.238Z"
   },
   {
    "duration": 50,
    "start_time": "2022-04-01T16:32:29.691Z"
   },
   {
    "duration": 294,
    "start_time": "2022-04-01T16:32:29.743Z"
   },
   {
    "duration": 452,
    "start_time": "2022-04-01T16:32:30.039Z"
   },
   {
    "duration": 50,
    "start_time": "2022-04-01T16:32:30.493Z"
   },
   {
    "duration": 339,
    "start_time": "2022-04-01T16:32:30.544Z"
   },
   {
    "duration": 481,
    "start_time": "2022-04-01T16:32:30.885Z"
   },
   {
    "duration": 45,
    "start_time": "2022-04-01T16:32:31.368Z"
   },
   {
    "duration": 45,
    "start_time": "2022-04-01T16:32:31.417Z"
   },
   {
    "duration": 2861,
    "start_time": "2022-04-01T16:32:31.463Z"
   },
   {
    "duration": 113,
    "start_time": "2022-04-01T16:32:34.326Z"
   },
   {
    "duration": 1656,
    "start_time": "2022-04-01T16:32:34.441Z"
   },
   {
    "duration": 5,
    "start_time": "2022-04-01T16:32:36.098Z"
   },
   {
    "duration": 5,
    "start_time": "2022-04-01T16:32:36.108Z"
   },
   {
    "duration": 261,
    "start_time": "2022-04-01T16:32:36.115Z"
   },
   {
    "duration": 1692,
    "start_time": "2022-04-01T16:32:36.378Z"
   },
   {
    "duration": 3,
    "start_time": "2022-04-01T16:32:38.072Z"
   },
   {
    "duration": 57,
    "start_time": "2022-04-01T16:32:38.077Z"
   },
   {
    "duration": 166,
    "start_time": "2022-04-01T16:32:38.136Z"
   },
   {
    "duration": 172,
    "start_time": "2022-04-01T16:32:38.304Z"
   },
   {
    "duration": 336,
    "start_time": "2022-04-01T16:32:38.478Z"
   },
   {
    "duration": 1527,
    "start_time": "2022-04-01T16:32:38.816Z"
   },
   {
    "duration": 35,
    "start_time": "2022-04-01T16:32:40.344Z"
   },
   {
    "duration": 7,
    "start_time": "2022-04-01T16:32:40.381Z"
   },
   {
    "duration": 41,
    "start_time": "2022-04-01T16:32:40.389Z"
   },
   {
    "duration": 8,
    "start_time": "2022-04-01T16:32:40.432Z"
   },
   {
    "duration": 1389,
    "start_time": "2022-04-01T16:32:40.443Z"
   },
   {
    "duration": 33,
    "start_time": "2022-04-01T16:32:41.834Z"
   },
   {
    "duration": 18,
    "start_time": "2022-04-01T16:32:41.869Z"
   },
   {
    "duration": 128,
    "start_time": "2022-04-01T16:32:41.889Z"
   },
   {
    "duration": 4,
    "start_time": "2022-04-01T16:32:42.019Z"
   },
   {
    "duration": 203,
    "start_time": "2022-04-01T16:32:42.024Z"
   },
   {
    "duration": 217,
    "start_time": "2022-04-01T16:32:42.229Z"
   },
   {
    "duration": 2,
    "start_time": "2022-04-01T16:32:42.448Z"
   },
   {
    "duration": 105,
    "start_time": "2022-04-01T16:32:42.452Z"
   },
   {
    "duration": 2,
    "start_time": "2022-04-01T16:32:42.559Z"
   },
   {
    "duration": 5,
    "start_time": "2022-04-01T16:32:42.563Z"
   },
   {
    "duration": 4,
    "start_time": "2022-04-01T16:32:42.570Z"
   },
   {
    "duration": 6,
    "start_time": "2022-04-01T16:32:42.576Z"
   },
   {
    "duration": 64475,
    "start_time": "2022-04-01T16:32:42.583Z"
   },
   {
    "duration": 4,
    "start_time": "2022-04-01T16:33:47.060Z"
   },
   {
    "duration": 428,
    "start_time": "2022-04-01T16:33:47.065Z"
   },
   {
    "duration": 2,
    "start_time": "2022-04-01T16:33:47.495Z"
   },
   {
    "duration": 2,
    "start_time": "2022-04-01T16:33:47.509Z"
   },
   {
    "duration": 4,
    "start_time": "2022-04-01T16:33:47.513Z"
   },
   {
    "duration": 4,
    "start_time": "2022-04-01T16:33:47.519Z"
   },
   {
    "duration": 5,
    "start_time": "2022-04-01T16:33:47.524Z"
   },
   {
    "duration": 5,
    "start_time": "2022-04-01T16:33:47.530Z"
   },
   {
    "duration": 274395,
    "start_time": "2022-04-01T16:33:47.537Z"
   },
   {
    "duration": 4,
    "start_time": "2022-04-01T16:38:21.934Z"
   },
   {
    "duration": 2616,
    "start_time": "2022-04-01T16:38:21.939Z"
   },
   {
    "duration": 0,
    "start_time": "2022-04-01T16:38:24.557Z"
   },
   {
    "duration": 3,
    "start_time": "2022-04-01T16:43:41.551Z"
   },
   {
    "duration": 4,
    "start_time": "2022-04-01T16:43:43.555Z"
   },
   {
    "duration": 5568,
    "start_time": "2022-04-01T16:43:47.555Z"
   },
   {
    "duration": 5539,
    "start_time": "2022-04-01T16:43:57.864Z"
   },
   {
    "duration": 6068,
    "start_time": "2022-04-01T16:44:07.684Z"
   },
   {
    "duration": 4,
    "start_time": "2022-04-01T16:46:51.556Z"
   },
   {
    "duration": 5554,
    "start_time": "2022-04-01T16:46:52.383Z"
   },
   {
    "duration": 11,
    "start_time": "2022-04-01T16:47:21.223Z"
   },
   {
    "duration": 7,
    "start_time": "2022-04-01T16:47:43.055Z"
   },
   {
    "duration": 9,
    "start_time": "2022-04-01T16:48:02.984Z"
   },
   {
    "duration": 9,
    "start_time": "2022-04-01T16:49:13.564Z"
   },
   {
    "duration": 6,
    "start_time": "2022-04-01T16:49:16.717Z"
   },
   {
    "duration": 10,
    "start_time": "2022-04-01T16:49:39.264Z"
   },
   {
    "duration": 2333,
    "start_time": "2022-04-03T06:44:09.831Z"
   },
   {
    "duration": 997,
    "start_time": "2022-04-03T06:44:12.167Z"
   },
   {
    "duration": 26,
    "start_time": "2022-04-03T06:44:13.168Z"
   },
   {
    "duration": 10,
    "start_time": "2022-04-03T06:44:13.196Z"
   },
   {
    "duration": 179,
    "start_time": "2022-04-03T06:44:13.210Z"
   },
   {
    "duration": 119,
    "start_time": "2022-04-03T06:44:13.391Z"
   },
   {
    "duration": 628,
    "start_time": "2022-04-03T06:44:13.513Z"
   },
   {
    "duration": 609,
    "start_time": "2022-04-03T06:44:14.144Z"
   },
   {
    "duration": 581,
    "start_time": "2022-04-03T06:44:14.756Z"
   },
   {
    "duration": 1013,
    "start_time": "2022-04-03T06:44:15.340Z"
   },
   {
    "duration": 60,
    "start_time": "2022-04-03T06:44:16.355Z"
   },
   {
    "duration": 88,
    "start_time": "2022-04-03T06:44:16.417Z"
   },
   {
    "duration": 849,
    "start_time": "2022-04-03T06:44:16.507Z"
   },
   {
    "duration": 10,
    "start_time": "2022-04-03T06:44:17.361Z"
   },
   {
    "duration": 6,
    "start_time": "2022-04-03T06:44:17.374Z"
   },
   {
    "duration": 9,
    "start_time": "2022-04-03T06:44:17.383Z"
   },
   {
    "duration": 84,
    "start_time": "2022-04-03T06:44:17.394Z"
   },
   {
    "duration": 98,
    "start_time": "2022-04-03T06:44:17.481Z"
   },
   {
    "duration": 57,
    "start_time": "2022-04-03T06:44:17.581Z"
   },
   {
    "duration": 447,
    "start_time": "2022-04-03T06:44:17.640Z"
   },
   {
    "duration": 668,
    "start_time": "2022-04-03T06:44:18.089Z"
   },
   {
    "duration": 59,
    "start_time": "2022-04-03T06:44:18.759Z"
   },
   {
    "duration": 377,
    "start_time": "2022-04-03T06:44:18.820Z"
   },
   {
    "duration": 832,
    "start_time": "2022-04-03T06:44:19.199Z"
   },
   {
    "duration": 69,
    "start_time": "2022-04-03T06:44:20.033Z"
   },
   {
    "duration": 440,
    "start_time": "2022-04-03T06:44:20.105Z"
   },
   {
    "duration": 647,
    "start_time": "2022-04-03T06:44:20.547Z"
   },
   {
    "duration": 71,
    "start_time": "2022-04-03T06:44:21.196Z"
   },
   {
    "duration": 56,
    "start_time": "2022-04-03T06:44:21.270Z"
   },
   {
    "duration": 4900,
    "start_time": "2022-04-03T06:44:21.328Z"
   },
   {
    "duration": 149,
    "start_time": "2022-04-03T06:44:26.230Z"
   },
   {
    "duration": 2111,
    "start_time": "2022-04-03T06:44:26.382Z"
   },
   {
    "duration": 6,
    "start_time": "2022-04-03T06:44:28.495Z"
   },
   {
    "duration": 9,
    "start_time": "2022-04-03T06:44:28.503Z"
   },
   {
    "duration": 378,
    "start_time": "2022-04-03T06:44:28.514Z"
   },
   {
    "duration": 2687,
    "start_time": "2022-04-03T06:44:28.894Z"
   },
   {
    "duration": 3,
    "start_time": "2022-04-03T06:44:31.583Z"
   },
   {
    "duration": 92,
    "start_time": "2022-04-03T06:44:31.589Z"
   },
   {
    "duration": 246,
    "start_time": "2022-04-03T06:44:31.683Z"
   },
   {
    "duration": 252,
    "start_time": "2022-04-03T06:44:31.931Z"
   },
   {
    "duration": 478,
    "start_time": "2022-04-03T06:44:32.190Z"
   },
   {
    "duration": 2552,
    "start_time": "2022-04-03T06:44:32.670Z"
   },
   {
    "duration": 83,
    "start_time": "2022-04-03T06:44:35.224Z"
   },
   {
    "duration": 10,
    "start_time": "2022-04-03T06:44:35.309Z"
   },
   {
    "duration": 65,
    "start_time": "2022-04-03T06:44:35.321Z"
   },
   {
    "duration": 9,
    "start_time": "2022-04-03T06:44:35.389Z"
   },
   {
    "duration": 1889,
    "start_time": "2022-04-03T06:44:35.400Z"
   },
   {
    "duration": 89,
    "start_time": "2022-04-03T06:44:37.292Z"
   },
   {
    "duration": 34,
    "start_time": "2022-04-03T06:44:37.384Z"
   },
   {
    "duration": 247,
    "start_time": "2022-04-03T06:44:37.421Z"
   },
   {
    "duration": 8,
    "start_time": "2022-04-03T06:44:37.671Z"
   },
   {
    "duration": 499,
    "start_time": "2022-04-03T06:44:37.683Z"
   },
   {
    "duration": 518,
    "start_time": "2022-04-03T06:44:38.185Z"
   },
   {
    "duration": 4,
    "start_time": "2022-04-03T06:44:38.706Z"
   },
   {
    "duration": 231,
    "start_time": "2022-04-03T06:44:38.712Z"
   },
   {
    "duration": 4,
    "start_time": "2022-04-03T06:44:38.945Z"
   },
   {
    "duration": 19,
    "start_time": "2022-04-03T06:44:38.952Z"
   },
   {
    "duration": 6,
    "start_time": "2022-04-03T06:44:38.974Z"
   },
   {
    "duration": 6,
    "start_time": "2022-04-03T06:44:38.983Z"
   },
   {
    "duration": 111248,
    "start_time": "2022-04-03T06:44:38.992Z"
   },
   {
    "duration": 5,
    "start_time": "2022-04-03T06:46:30.242Z"
   },
   {
    "duration": 661,
    "start_time": "2022-04-03T06:46:30.249Z"
   },
   {
    "duration": 3,
    "start_time": "2022-04-03T06:46:30.913Z"
   },
   {
    "duration": 13,
    "start_time": "2022-04-03T06:46:30.919Z"
   },
   {
    "duration": 5,
    "start_time": "2022-04-03T06:46:30.935Z"
   },
   {
    "duration": 25,
    "start_time": "2022-04-03T06:46:30.942Z"
   },
   {
    "duration": 4,
    "start_time": "2022-04-03T06:46:30.970Z"
   },
   {
    "duration": 6,
    "start_time": "2022-04-03T06:46:30.976Z"
   },
   {
    "duration": 11472,
    "start_time": "2022-04-03T06:46:30.985Z"
   },
   {
    "duration": 6,
    "start_time": "2022-04-03T06:46:42.461Z"
   },
   {
    "duration": 54,
    "start_time": "2022-04-03T06:46:42.470Z"
   },
   {
    "duration": 0,
    "start_time": "2022-04-03T06:46:42.526Z"
   },
   {
    "duration": 5,
    "start_time": "2022-04-03T06:49:12.709Z"
   },
   {
    "duration": 1221,
    "start_time": "2022-04-03T06:49:14.460Z"
   },
   {
    "duration": 28,
    "start_time": "2022-04-03T06:53:34.509Z"
   },
   {
    "duration": 6,
    "start_time": "2022-04-03T06:53:56.861Z"
   },
   {
    "duration": 389,
    "start_time": "2022-04-03T06:54:04.428Z"
   },
   {
    "duration": 90,
    "start_time": "2022-04-03T06:54:05.587Z"
   },
   {
    "duration": 6,
    "start_time": "2022-04-03T06:54:07.424Z"
   },
   {
    "duration": 7,
    "start_time": "2022-04-03T06:54:09.108Z"
   },
   {
    "duration": 5,
    "start_time": "2022-04-03T06:54:09.909Z"
   },
   {
    "duration": 63198,
    "start_time": "2022-04-03T06:54:11.472Z"
   },
   {
    "duration": 5,
    "start_time": "2022-04-03T06:55:17.676Z"
   },
   {
    "duration": 405,
    "start_time": "2022-04-03T06:55:19.308Z"
   },
   {
    "duration": 6,
    "start_time": "2022-04-03T06:55:52.348Z"
   },
   {
    "duration": 7,
    "start_time": "2022-04-03T06:56:54.502Z"
   },
   {
    "duration": 16,
    "start_time": "2022-04-03T06:57:35.148Z"
   },
   {
    "duration": 25,
    "start_time": "2022-04-03T06:57:39.868Z"
   },
   {
    "duration": 6,
    "start_time": "2022-04-03T06:58:54.610Z"
   },
   {
    "duration": 81,
    "start_time": "2022-04-03T06:58:56.180Z"
   },
   {
    "duration": 6,
    "start_time": "2022-04-03T06:59:00.388Z"
   },
   {
    "duration": 29,
    "start_time": "2022-04-03T07:00:45.788Z"
   },
   {
    "duration": 58,
    "start_time": "2022-04-03T07:09:52.581Z"
   },
   {
    "duration": 56,
    "start_time": "2022-04-03T07:10:09.997Z"
   },
   {
    "duration": 53,
    "start_time": "2022-04-03T07:10:11.637Z"
   },
   {
    "duration": 5,
    "start_time": "2022-04-03T07:10:14.710Z"
   },
   {
    "duration": 7,
    "start_time": "2022-04-03T07:10:16.629Z"
   },
   {
    "duration": 5,
    "start_time": "2022-04-03T07:10:17.996Z"
   },
   {
    "duration": 69143,
    "start_time": "2022-04-03T07:10:20.029Z"
   },
   {
    "duration": 5,
    "start_time": "2022-04-03T07:11:58.628Z"
   },
   {
    "duration": 117,
    "start_time": "2022-04-03T07:12:00.109Z"
   },
   {
    "duration": 6,
    "start_time": "2022-04-03T07:12:01.603Z"
   },
   {
    "duration": 7,
    "start_time": "2022-04-03T07:15:24.603Z"
   },
   {
    "duration": 1899,
    "start_time": "2022-04-03T17:03:21.144Z"
   },
   {
    "duration": 740,
    "start_time": "2022-04-03T17:03:23.045Z"
   },
   {
    "duration": 16,
    "start_time": "2022-04-03T17:03:23.787Z"
   },
   {
    "duration": 3,
    "start_time": "2022-04-03T17:03:23.804Z"
   },
   {
    "duration": 142,
    "start_time": "2022-04-03T17:03:23.809Z"
   },
   {
    "duration": 81,
    "start_time": "2022-04-03T17:03:23.953Z"
   },
   {
    "duration": 441,
    "start_time": "2022-04-03T17:03:24.036Z"
   },
   {
    "duration": 454,
    "start_time": "2022-04-03T17:03:24.479Z"
   },
   {
    "duration": 497,
    "start_time": "2022-04-03T17:03:24.935Z"
   },
   {
    "duration": 818,
    "start_time": "2022-04-03T17:03:25.434Z"
   },
   {
    "duration": 46,
    "start_time": "2022-04-03T17:03:26.254Z"
   },
   {
    "duration": 65,
    "start_time": "2022-04-03T17:03:26.302Z"
   },
   {
    "duration": 531,
    "start_time": "2022-04-03T17:03:26.369Z"
   },
   {
    "duration": 5,
    "start_time": "2022-04-03T17:03:26.903Z"
   },
   {
    "duration": 9,
    "start_time": "2022-04-03T17:03:26.909Z"
   },
   {
    "duration": 9,
    "start_time": "2022-04-03T17:03:26.919Z"
   },
   {
    "duration": 68,
    "start_time": "2022-04-03T17:03:26.929Z"
   },
   {
    "duration": 67,
    "start_time": "2022-04-03T17:03:26.999Z"
   },
   {
    "duration": 46,
    "start_time": "2022-04-03T17:03:27.068Z"
   },
   {
    "duration": 333,
    "start_time": "2022-04-03T17:03:27.116Z"
   },
   {
    "duration": 434,
    "start_time": "2022-04-03T17:03:27.450Z"
   },
   {
    "duration": 43,
    "start_time": "2022-04-03T17:03:27.886Z"
   },
   {
    "duration": 295,
    "start_time": "2022-04-03T17:03:27.931Z"
   },
   {
    "duration": 704,
    "start_time": "2022-04-03T17:03:28.228Z"
   },
   {
    "duration": 49,
    "start_time": "2022-04-03T17:03:28.934Z"
   },
   {
    "duration": 489,
    "start_time": "2022-04-03T17:03:28.985Z"
   },
   {
    "duration": 529,
    "start_time": "2022-04-03T17:03:29.476Z"
   },
   {
    "duration": 39,
    "start_time": "2022-04-03T17:03:30.008Z"
   },
   {
    "duration": 46,
    "start_time": "2022-04-03T17:03:30.063Z"
   },
   {
    "duration": 3088,
    "start_time": "2022-04-03T17:03:30.111Z"
   },
   {
    "duration": 125,
    "start_time": "2022-04-03T17:03:33.202Z"
   },
   {
    "duration": 2373,
    "start_time": "2022-04-03T17:03:33.330Z"
   },
   {
    "duration": 4,
    "start_time": "2022-04-03T17:03:35.705Z"
   },
   {
    "duration": 7,
    "start_time": "2022-04-03T17:03:35.711Z"
   },
   {
    "duration": 244,
    "start_time": "2022-04-03T17:03:35.720Z"
   },
   {
    "duration": 1580,
    "start_time": "2022-04-03T17:03:35.966Z"
   },
   {
    "duration": 2,
    "start_time": "2022-04-03T17:03:37.549Z"
   },
   {
    "duration": 57,
    "start_time": "2022-04-03T17:03:37.553Z"
   },
   {
    "duration": 143,
    "start_time": "2022-04-03T17:03:37.612Z"
   },
   {
    "duration": 144,
    "start_time": "2022-04-03T17:03:37.757Z"
   },
   {
    "duration": 309,
    "start_time": "2022-04-03T17:03:37.906Z"
   },
   {
    "duration": 1561,
    "start_time": "2022-04-03T17:03:38.217Z"
   },
   {
    "duration": 43,
    "start_time": "2022-04-03T17:03:39.780Z"
   },
   {
    "duration": 6,
    "start_time": "2022-04-03T17:03:39.825Z"
   },
   {
    "duration": 37,
    "start_time": "2022-04-03T17:03:39.833Z"
   },
   {
    "duration": 5,
    "start_time": "2022-04-03T17:03:39.872Z"
   },
   {
    "duration": 1474,
    "start_time": "2022-04-03T17:03:39.879Z"
   },
   {
    "duration": 44,
    "start_time": "2022-04-03T17:03:41.354Z"
   },
   {
    "duration": 19,
    "start_time": "2022-04-03T17:03:41.400Z"
   },
   {
    "duration": 123,
    "start_time": "2022-04-03T17:03:41.420Z"
   },
   {
    "duration": 4,
    "start_time": "2022-04-03T17:03:41.544Z"
   },
   {
    "duration": 178,
    "start_time": "2022-04-03T17:03:41.550Z"
   },
   {
    "duration": 195,
    "start_time": "2022-04-03T17:03:41.729Z"
   },
   {
    "duration": 2,
    "start_time": "2022-04-03T17:03:41.926Z"
   },
   {
    "duration": 265,
    "start_time": "2022-04-03T17:03:41.930Z"
   },
   {
    "duration": 68,
    "start_time": "2022-04-03T17:03:42.198Z"
   },
   {
    "duration": 51,
    "start_time": "2022-04-03T17:03:42.268Z"
   },
   {
    "duration": 4,
    "start_time": "2022-04-03T17:03:42.320Z"
   },
   {
    "duration": 6,
    "start_time": "2022-04-03T17:03:42.325Z"
   },
   {
    "duration": 7,
    "start_time": "2022-04-03T17:03:42.332Z"
   },
   {
    "duration": 48059,
    "start_time": "2022-04-03T17:03:42.340Z"
   },
   {
    "duration": 3,
    "start_time": "2022-04-03T17:04:30.401Z"
   },
   {
    "duration": 103,
    "start_time": "2022-04-03T17:04:30.406Z"
   },
   {
    "duration": 4,
    "start_time": "2022-04-03T17:04:30.511Z"
   },
   {
    "duration": 5,
    "start_time": "2022-04-03T17:04:30.516Z"
   },
   {
    "duration": 19,
    "start_time": "2022-04-03T17:04:30.523Z"
   },
   {
    "duration": 23,
    "start_time": "2022-04-03T17:04:30.544Z"
   },
   {
    "duration": 108,
    "start_time": "2022-04-03T17:04:30.568Z"
   },
   {
    "duration": 0,
    "start_time": "2022-04-03T17:04:30.677Z"
   },
   {
    "duration": 0,
    "start_time": "2022-04-03T17:04:30.678Z"
   },
   {
    "duration": 0,
    "start_time": "2022-04-03T17:04:30.679Z"
   },
   {
    "duration": 5,
    "start_time": "2022-04-03T17:05:08.305Z"
   },
   {
    "duration": 3,
    "start_time": "2022-04-03T17:05:17.945Z"
   },
   {
    "duration": 31154,
    "start_time": "2022-04-03T17:05:21.264Z"
   },
   {
    "duration": 4,
    "start_time": "2022-04-03T17:08:03.304Z"
   },
   {
    "duration": 13938,
    "start_time": "2022-04-03T17:08:07.784Z"
   },
   {
    "duration": 4,
    "start_time": "2022-04-03T17:08:27.504Z"
   },
   {
    "duration": 68860,
    "start_time": "2022-04-03T17:08:28.705Z"
   },
   {
    "duration": 4,
    "start_time": "2022-04-03T17:09:44.464Z"
   },
   {
    "duration": 907,
    "start_time": "2022-04-03T17:09:46.662Z"
   },
   {
    "duration": 5,
    "start_time": "2022-04-03T17:09:53.626Z"
   },
   {
    "duration": 5,
    "start_time": "2022-04-03T17:16:03.304Z"
   },
   {
    "duration": 158,
    "start_time": "2022-04-03T17:16:04.625Z"
   },
   {
    "duration": 4,
    "start_time": "2022-04-03T17:16:40.466Z"
   },
   {
    "duration": 287,
    "start_time": "2022-04-03T17:16:41.945Z"
   },
   {
    "duration": 5,
    "start_time": "2022-04-03T17:16:52.066Z"
   },
   {
    "duration": 150769,
    "start_time": "2022-04-03T17:16:53.425Z"
   },
   {
    "duration": 4,
    "start_time": "2022-04-03T17:19:29.785Z"
   },
   {
    "duration": 9,
    "start_time": "2022-04-03T17:19:32.385Z"
   },
   {
    "duration": 9,
    "start_time": "2022-04-03T17:19:51.952Z"
   },
   {
    "duration": 8,
    "start_time": "2022-04-03T17:20:15.825Z"
   },
   {
    "duration": 173,
    "start_time": "2022-04-03T17:20:42.024Z"
   },
   {
    "duration": 2474,
    "start_time": "2022-04-03T17:20:55.385Z"
   },
   {
    "duration": 4,
    "start_time": "2022-04-03T17:21:08.581Z"
   },
   {
    "duration": 3,
    "start_time": "2022-04-03T17:27:42.196Z"
   },
   {
    "duration": 53926,
    "start_time": "2022-04-03T17:27:44.857Z"
   },
   {
    "duration": 5,
    "start_time": "2022-04-03T17:28:45.664Z"
   },
   {
    "duration": 5941,
    "start_time": "2022-04-03T17:28:47.026Z"
   },
   {
    "duration": 5,
    "start_time": "2022-04-03T17:29:04.065Z"
   },
   {
    "duration": 9,
    "start_time": "2022-04-03T17:29:46.784Z"
   },
   {
    "duration": 16,
    "start_time": "2022-04-03T17:29:54.105Z"
   },
   {
    "duration": 8,
    "start_time": "2022-04-03T17:30:26.505Z"
   },
   {
    "duration": 4,
    "start_time": "2022-04-03T17:36:46.745Z"
   },
   {
    "duration": 10,
    "start_time": "2022-04-03T17:37:35.953Z"
   },
   {
    "duration": 4345,
    "start_time": "2022-04-03T17:38:03.225Z"
   },
   {
    "duration": 10,
    "start_time": "2022-04-03T17:38:39.064Z"
   },
   {
    "duration": 4989,
    "start_time": "2022-04-03T17:39:26.784Z"
   },
   {
    "duration": 49,
    "start_time": "2022-04-03T17:39:58.946Z"
   },
   {
    "duration": 5554,
    "start_time": "2022-04-03T17:40:55.025Z"
   },
   {
    "duration": 6498,
    "start_time": "2022-04-03T17:41:07.784Z"
   },
   {
    "duration": 6760,
    "start_time": "2022-04-03T17:41:35.506Z"
   },
   {
    "duration": 3,
    "start_time": "2022-04-03T17:43:52.416Z"
   },
   {
    "duration": 4,
    "start_time": "2022-04-03T17:43:57.145Z"
   },
   {
    "duration": 4,
    "start_time": "2022-04-03T17:44:20.457Z"
   },
   {
    "duration": 4,
    "start_time": "2022-04-03T17:45:59.785Z"
   },
   {
    "duration": 4,
    "start_time": "2022-04-03T17:50:26.528Z"
   },
   {
    "duration": 3,
    "start_time": "2022-04-03T17:51:30.785Z"
   },
   {
    "duration": 130187,
    "start_time": "2022-04-03T17:51:57.776Z"
   },
   {
    "duration": 28555,
    "start_time": "2022-04-03T17:56:51.417Z"
   },
   {
    "duration": 3,
    "start_time": "2022-04-03T18:02:51.824Z"
   },
   {
    "duration": 13,
    "start_time": "2022-04-03T18:02:53.584Z"
   },
   {
    "duration": 3,
    "start_time": "2022-04-03T18:03:24.825Z"
   },
   {
    "duration": 12,
    "start_time": "2022-04-03T18:03:25.760Z"
   },
   {
    "duration": 3,
    "start_time": "2022-04-03T18:03:50.617Z"
   },
   {
    "duration": 3,
    "start_time": "2022-04-03T18:03:51.617Z"
   },
   {
    "duration": 663,
    "start_time": "2022-04-03T18:03:55.416Z"
   },
   {
    "duration": 3,
    "start_time": "2022-04-03T18:04:05.185Z"
   },
   {
    "duration": 18,
    "start_time": "2022-04-03T18:04:07.145Z"
   },
   {
    "duration": 5,
    "start_time": "2022-04-03T18:04:09.304Z"
   },
   {
    "duration": 4,
    "start_time": "2022-04-03T18:06:16.825Z"
   },
   {
    "duration": 16,
    "start_time": "2022-04-03T18:06:31.464Z"
   },
   {
    "duration": 3,
    "start_time": "2022-04-03T18:06:36.864Z"
   },
   {
    "duration": 4,
    "start_time": "2022-04-03T18:06:38.144Z"
   },
   {
    "duration": 583,
    "start_time": "2022-04-03T18:06:39.584Z"
   },
   {
    "duration": 4,
    "start_time": "2022-04-03T18:06:45.544Z"
   },
   {
    "duration": 11,
    "start_time": "2022-04-03T18:06:47.025Z"
   },
   {
    "duration": 5,
    "start_time": "2022-04-03T18:06:58.584Z"
   },
   {
    "duration": 3,
    "start_time": "2022-04-03T18:07:12.705Z"
   },
   {
    "duration": 3,
    "start_time": "2022-04-03T18:07:13.817Z"
   },
   {
    "duration": 39409,
    "start_time": "2022-04-03T18:07:15.064Z"
   },
   {
    "duration": 4,
    "start_time": "2022-04-03T18:07:58.904Z"
   },
   {
    "duration": 126,
    "start_time": "2022-04-03T18:08:58.304Z"
   },
   {
    "duration": 3,
    "start_time": "2022-04-03T18:09:08.177Z"
   },
   {
    "duration": 4,
    "start_time": "2022-04-03T18:09:12.505Z"
   },
   {
    "duration": 186,
    "start_time": "2022-04-03T18:09:13.704Z"
   },
   {
    "duration": 4,
    "start_time": "2022-04-03T18:10:15.504Z"
   },
   {
    "duration": 3,
    "start_time": "2022-04-03T18:10:16.344Z"
   },
   {
    "duration": 166,
    "start_time": "2022-04-03T18:10:17.064Z"
   },
   {
    "duration": 4,
    "start_time": "2022-04-03T18:11:25.504Z"
   },
   {
    "duration": 3,
    "start_time": "2022-04-03T18:11:26.704Z"
   },
   {
    "duration": 42884,
    "start_time": "2022-04-03T18:11:27.736Z"
   },
   {
    "duration": 137,
    "start_time": "2022-04-03T18:20:02.026Z"
   },
   {
    "duration": 3,
    "start_time": "2022-04-03T18:20:09.417Z"
   },
   {
    "duration": 3,
    "start_time": "2022-04-03T18:20:10.984Z"
   },
   {
    "duration": 162,
    "start_time": "2022-04-03T18:20:12.873Z"
   },
   {
    "duration": 4,
    "start_time": "2022-04-03T18:21:06.604Z"
   },
   {
    "duration": 3,
    "start_time": "2022-04-03T18:21:07.656Z"
   },
   {
    "duration": 162,
    "start_time": "2022-04-03T18:21:08.416Z"
   },
   {
    "duration": 3,
    "start_time": "2022-04-03T18:21:34.104Z"
   },
   {
    "duration": 3,
    "start_time": "2022-04-03T18:21:35.545Z"
   },
   {
    "duration": 167,
    "start_time": "2022-04-03T18:21:36.256Z"
   },
   {
    "duration": 3,
    "start_time": "2022-04-03T18:21:49.913Z"
   },
   {
    "duration": 3,
    "start_time": "2022-04-03T18:21:50.904Z"
   },
   {
    "duration": 603,
    "start_time": "2022-04-03T18:21:52.065Z"
   },
   {
    "duration": 4,
    "start_time": "2022-04-03T18:22:33.944Z"
   },
   {
    "duration": 3,
    "start_time": "2022-04-03T18:22:34.864Z"
   },
   {
    "duration": 180,
    "start_time": "2022-04-03T18:22:35.625Z"
   },
   {
    "duration": 3,
    "start_time": "2022-04-03T18:26:04.785Z"
   },
   {
    "duration": 12,
    "start_time": "2022-04-03T18:26:07.535Z"
   },
   {
    "duration": 4,
    "start_time": "2022-04-03T18:26:22.345Z"
   },
   {
    "duration": 3,
    "start_time": "2022-04-03T18:26:24.024Z"
   },
   {
    "duration": 3,
    "start_time": "2022-04-03T18:26:26.353Z"
   },
   {
    "duration": 172,
    "start_time": "2022-04-03T18:26:27.226Z"
   },
   {
    "duration": 3,
    "start_time": "2022-04-03T18:27:07.536Z"
   },
   {
    "duration": 3,
    "start_time": "2022-04-03T18:27:08.945Z"
   },
   {
    "duration": 246,
    "start_time": "2022-04-03T18:27:09.705Z"
   },
   {
    "duration": 12,
    "start_time": "2022-04-03T18:29:10.976Z"
   },
   {
    "duration": 3,
    "start_time": "2022-04-03T18:29:17.704Z"
   },
   {
    "duration": 4,
    "start_time": "2022-04-03T18:29:26.535Z"
   },
   {
    "duration": 11,
    "start_time": "2022-04-03T18:32:52.329Z"
   },
   {
    "duration": 3,
    "start_time": "2022-04-03T18:33:21.480Z"
   },
   {
    "duration": 3,
    "start_time": "2022-04-03T18:33:22.704Z"
   },
   {
    "duration": 189,
    "start_time": "2022-04-03T18:33:23.496Z"
   },
   {
    "duration": 3,
    "start_time": "2022-04-03T18:33:59.672Z"
   },
   {
    "duration": 4,
    "start_time": "2022-04-03T18:34:01.248Z"
   },
   {
    "duration": 163,
    "start_time": "2022-04-03T18:34:01.984Z"
   },
   {
    "duration": 3,
    "start_time": "2022-04-03T18:34:17.944Z"
   },
   {
    "duration": 3,
    "start_time": "2022-04-03T18:34:18.784Z"
   },
   {
    "duration": 188,
    "start_time": "2022-04-03T18:34:19.464Z"
   },
   {
    "duration": 3,
    "start_time": "2022-04-03T18:34:34.665Z"
   },
   {
    "duration": 3,
    "start_time": "2022-04-03T18:34:36.633Z"
   },
   {
    "duration": 161,
    "start_time": "2022-04-03T18:34:37.465Z"
   },
   {
    "duration": 4,
    "start_time": "2022-04-03T18:34:54.784Z"
   },
   {
    "duration": 3,
    "start_time": "2022-04-03T18:34:56.144Z"
   },
   {
    "duration": 155,
    "start_time": "2022-04-03T18:34:58.616Z"
   },
   {
    "duration": 3,
    "start_time": "2022-04-03T18:35:58.385Z"
   },
   {
    "duration": 3,
    "start_time": "2022-04-03T18:35:59.145Z"
   },
   {
    "duration": 169,
    "start_time": "2022-04-03T18:35:59.760Z"
   },
   {
    "duration": 3,
    "start_time": "2022-04-03T18:36:44.744Z"
   },
   {
    "duration": 4,
    "start_time": "2022-04-03T18:36:45.584Z"
   },
   {
    "duration": 267,
    "start_time": "2022-04-03T18:36:46.376Z"
   },
   {
    "duration": 3,
    "start_time": "2022-04-03T18:37:17.135Z"
   },
   {
    "duration": 3,
    "start_time": "2022-04-03T18:37:18.176Z"
   },
   {
    "duration": 234,
    "start_time": "2022-04-03T18:37:19.104Z"
   },
   {
    "duration": 3,
    "start_time": "2022-04-03T18:37:29.024Z"
   },
   {
    "duration": 3,
    "start_time": "2022-04-03T18:37:30.119Z"
   },
   {
    "duration": 628,
    "start_time": "2022-04-03T18:37:30.744Z"
   },
   {
    "duration": 6,
    "start_time": "2022-04-03T18:37:54.264Z"
   },
   {
    "duration": 3,
    "start_time": "2022-04-03T18:38:23.016Z"
   },
   {
    "duration": 3,
    "start_time": "2022-04-03T18:38:23.832Z"
   },
   {
    "duration": 629,
    "start_time": "2022-04-03T18:38:25.544Z"
   },
   {
    "duration": 3,
    "start_time": "2022-04-03T18:38:30.864Z"
   },
   {
    "duration": 12,
    "start_time": "2022-04-03T18:38:34.296Z"
   },
   {
    "duration": 4,
    "start_time": "2022-04-03T18:38:35.336Z"
   },
   {
    "duration": 3,
    "start_time": "2022-04-03T18:39:27.728Z"
   },
   {
    "duration": 3,
    "start_time": "2022-04-03T18:39:28.552Z"
   },
   {
    "duration": 579,
    "start_time": "2022-04-03T18:39:29.296Z"
   },
   {
    "duration": 4,
    "start_time": "2022-04-03T18:39:33.392Z"
   },
   {
    "duration": 4,
    "start_time": "2022-04-03T18:43:19.465Z"
   },
   {
    "duration": 3,
    "start_time": "2022-04-03T18:44:21.664Z"
   },
   {
    "duration": 3,
    "start_time": "2022-04-03T18:44:22.985Z"
   },
   {
    "duration": 162,
    "start_time": "2022-04-03T18:44:23.904Z"
   },
   {
    "duration": 3,
    "start_time": "2022-04-03T18:44:41.185Z"
   },
   {
    "duration": 163,
    "start_time": "2022-04-03T18:44:42.784Z"
   },
   {
    "duration": 3,
    "start_time": "2022-04-03T18:45:16.736Z"
   },
   {
    "duration": 4,
    "start_time": "2022-04-03T18:45:18.664Z"
   },
   {
    "duration": 17910,
    "start_time": "2022-04-03T18:45:20.056Z"
   },
   {
    "duration": 2,
    "start_time": "2022-04-03T18:46:20.865Z"
   },
   {
    "duration": 3,
    "start_time": "2022-04-03T18:46:21.816Z"
   },
   {
    "duration": 7825,
    "start_time": "2022-04-03T18:46:23.345Z"
   },
   {
    "duration": 3,
    "start_time": "2022-04-03T18:46:34.777Z"
   },
   {
    "duration": 9,
    "start_time": "2022-04-03T18:46:37.864Z"
   },
   {
    "duration": 4,
    "start_time": "2022-04-03T18:46:39.377Z"
   },
   {
    "duration": 2,
    "start_time": "2022-04-03T18:47:01.537Z"
   },
   {
    "duration": 4,
    "start_time": "2022-04-03T18:47:02.624Z"
   },
   {
    "duration": 6011,
    "start_time": "2022-04-03T18:47:03.464Z"
   },
   {
    "duration": 4,
    "start_time": "2022-04-03T18:47:11.569Z"
   },
   {
    "duration": 10,
    "start_time": "2022-04-03T18:47:14.176Z"
   },
   {
    "duration": 5,
    "start_time": "2022-04-03T18:47:15.824Z"
   },
   {
    "duration": 12,
    "start_time": "2022-04-03T18:47:40.446Z"
   },
   {
    "duration": 12,
    "start_time": "2022-04-03T18:47:46.256Z"
   },
   {
    "duration": 3,
    "start_time": "2022-04-03T18:50:29.784Z"
   },
   {
    "duration": 3,
    "start_time": "2022-04-03T18:50:31.744Z"
   },
   {
    "duration": 59671,
    "start_time": "2022-04-03T18:50:32.504Z"
   },
   {
    "duration": 3,
    "start_time": "2022-04-03T18:51:56.025Z"
   },
   {
    "duration": 3,
    "start_time": "2022-04-03T18:52:03.385Z"
   },
   {
    "duration": 16,
    "start_time": "2022-04-03T18:52:06.265Z"
   },
   {
    "duration": 5,
    "start_time": "2022-04-03T18:52:13.904Z"
   },
   {
    "duration": 46,
    "start_time": "2022-04-03T18:53:10.944Z"
   },
   {
    "duration": 98,
    "start_time": "2022-04-03T18:54:22.385Z"
   },
   {
    "duration": 8,
    "start_time": "2022-04-03T18:55:13.544Z"
   },
   {
    "duration": 56,
    "start_time": "2022-04-03T18:55:22.185Z"
   },
   {
    "duration": 51,
    "start_time": "2022-04-03T18:55:23.394Z"
   },
   {
    "duration": 4,
    "start_time": "2022-04-03T18:55:25.744Z"
   },
   {
    "duration": 3,
    "start_time": "2022-04-03T18:55:31.144Z"
   },
   {
    "duration": 4,
    "start_time": "2022-04-03T18:55:31.984Z"
   },
   {
    "duration": 60021,
    "start_time": "2022-04-03T18:55:36.344Z"
   },
   {
    "duration": 4,
    "start_time": "2022-04-03T18:56:43.984Z"
   },
   {
    "duration": 7,
    "start_time": "2022-04-03T18:56:46.256Z"
   },
   {
    "duration": 5,
    "start_time": "2022-04-03T18:56:48.184Z"
   },
   {
    "duration": 4,
    "start_time": "2022-04-03T18:56:59.904Z"
   },
   {
    "duration": 71920,
    "start_time": "2022-04-03T18:57:03.145Z"
   },
   {
    "duration": 4,
    "start_time": "2022-04-03T18:58:20.336Z"
   },
   {
    "duration": 4,
    "start_time": "2022-04-03T18:58:44.070Z"
   },
   {
    "duration": 37996,
    "start_time": "2022-04-03T18:58:44.076Z"
   },
   {
    "duration": 5,
    "start_time": "2022-04-03T18:59:22.075Z"
   },
   {
    "duration": 3,
    "start_time": "2022-04-03T19:02:32.896Z"
   },
   {
    "duration": 53,
    "start_time": "2022-04-03T19:03:52.784Z"
   },
   {
    "duration": 3,
    "start_time": "2022-04-03T19:05:02.976Z"
   },
   {
    "duration": 3,
    "start_time": "2022-04-03T19:05:04.184Z"
   },
   {
    "duration": 59941,
    "start_time": "2022-04-03T19:05:05.224Z"
   },
   {
    "duration": 4,
    "start_time": "2022-04-03T19:07:01.600Z"
   },
   {
    "duration": 8,
    "start_time": "2022-04-03T19:07:04.401Z"
   },
   {
    "duration": 5,
    "start_time": "2022-04-03T19:07:05.865Z"
   },
   {
    "duration": 3,
    "start_time": "2022-04-03T19:08:38.064Z"
   },
   {
    "duration": 3,
    "start_time": "2022-04-03T19:08:38.985Z"
   },
   {
    "duration": 59381,
    "start_time": "2022-04-03T19:08:39.784Z"
   },
   {
    "duration": 4,
    "start_time": "2022-04-03T19:10:30.584Z"
   },
   {
    "duration": 12,
    "start_time": "2022-04-03T19:10:31.545Z"
   },
   {
    "duration": 4,
    "start_time": "2022-04-03T19:10:33.577Z"
   },
   {
    "duration": 5,
    "start_time": "2022-04-03T19:11:08.465Z"
   },
   {
    "duration": 3,
    "start_time": "2022-04-03T19:12:53.146Z"
   },
   {
    "duration": 4,
    "start_time": "2022-04-03T19:12:54.624Z"
   },
   {
    "duration": 3,
    "start_time": "2022-04-03T19:12:55.384Z"
   },
   {
    "duration": 59960,
    "start_time": "2022-04-03T19:12:56.105Z"
   },
   {
    "duration": 4,
    "start_time": "2022-04-03T19:13:58.944Z"
   },
   {
    "duration": 7,
    "start_time": "2022-04-03T19:13:59.985Z"
   },
   {
    "duration": 4,
    "start_time": "2022-04-03T19:14:01.105Z"
   },
   {
    "duration": 140,
    "start_time": "2022-04-03T19:15:02.745Z"
   },
   {
    "duration": 3,
    "start_time": "2022-04-03T19:15:45.273Z"
   },
   {
    "duration": 2,
    "start_time": "2022-04-03T19:15:46.105Z"
   },
   {
    "duration": 30579,
    "start_time": "2022-04-03T19:15:46.864Z"
   },
   {
    "duration": 8,
    "start_time": "2022-04-03T19:16:17.445Z"
   },
   {
    "duration": 0,
    "start_time": "2022-04-03T19:16:17.455Z"
   },
   {
    "duration": 0,
    "start_time": "2022-04-03T19:16:17.456Z"
   },
   {
    "duration": 3,
    "start_time": "2022-04-03T19:16:24.505Z"
   },
   {
    "duration": 3,
    "start_time": "2022-04-03T19:16:26.945Z"
   },
   {
    "duration": 90558,
    "start_time": "2022-04-03T19:16:29.305Z"
   },
   {
    "duration": 4,
    "start_time": "2022-04-03T19:19:31.146Z"
   },
   {
    "duration": 7,
    "start_time": "2022-04-03T19:19:33.068Z"
   },
   {
    "duration": 4,
    "start_time": "2022-04-03T19:19:37.425Z"
   },
   {
    "duration": 3,
    "start_time": "2022-04-03T19:20:46.944Z"
   },
   {
    "duration": 2,
    "start_time": "2022-04-03T19:20:47.785Z"
   },
   {
    "duration": 29970,
    "start_time": "2022-04-03T19:20:48.593Z"
   },
   {
    "duration": 4,
    "start_time": "2022-04-03T19:22:13.506Z"
   },
   {
    "duration": 7,
    "start_time": "2022-04-03T19:22:15.425Z"
   },
   {
    "duration": 3,
    "start_time": "2022-04-03T19:22:42.944Z"
   },
   {
    "duration": 3,
    "start_time": "2022-04-03T19:22:44.305Z"
   },
   {
    "duration": 3,
    "start_time": "2022-04-03T19:22:45.025Z"
   },
   {
    "duration": 5908,
    "start_time": "2022-04-03T19:22:45.865Z"
   },
   {
    "duration": 4,
    "start_time": "2022-04-03T19:22:54.465Z"
   },
   {
    "duration": 8,
    "start_time": "2022-04-03T19:22:55.617Z"
   },
   {
    "duration": 3,
    "start_time": "2022-04-03T19:23:00.945Z"
   },
   {
    "duration": 3,
    "start_time": "2022-04-03T19:23:01.697Z"
   },
   {
    "duration": 8605,
    "start_time": "2022-04-03T19:23:03.159Z"
   },
   {
    "duration": 4,
    "start_time": "2022-04-03T19:23:13.913Z"
   },
   {
    "duration": 8,
    "start_time": "2022-04-03T19:23:15.465Z"
   },
   {
    "duration": 5,
    "start_time": "2022-04-03T19:23:19.497Z"
   },
   {
    "duration": 3,
    "start_time": "2022-04-03T19:28:50.664Z"
   },
   {
    "duration": 3,
    "start_time": "2022-04-03T19:28:51.546Z"
   },
   {
    "duration": 17882,
    "start_time": "2022-04-03T19:28:52.392Z"
   },
   {
    "duration": 4,
    "start_time": "2022-04-03T19:29:13.776Z"
   },
   {
    "duration": 66,
    "start_time": "2022-04-03T19:29:15.097Z"
   },
   {
    "duration": 5,
    "start_time": "2022-04-03T19:29:16.544Z"
   },
   {
    "duration": 4,
    "start_time": "2022-04-03T19:29:43.585Z"
   },
   {
    "duration": 4,
    "start_time": "2022-04-03T19:29:44.224Z"
   },
   {
    "duration": 12244,
    "start_time": "2022-04-03T19:29:45.025Z"
   },
   {
    "duration": 4,
    "start_time": "2022-04-03T19:29:58.944Z"
   },
   {
    "duration": 13,
    "start_time": "2022-04-03T19:29:59.864Z"
   },
   {
    "duration": 5,
    "start_time": "2022-04-03T19:30:06.464Z"
   },
   {
    "duration": 3,
    "start_time": "2022-04-03T19:33:14.024Z"
   },
   {
    "duration": 3,
    "start_time": "2022-04-03T19:33:17.104Z"
   },
   {
    "duration": 3,
    "start_time": "2022-04-03T19:33:28.704Z"
   },
   {
    "duration": 3,
    "start_time": "2022-04-03T19:33:29.584Z"
   },
   {
    "duration": 3,
    "start_time": "2022-04-03T19:34:09.985Z"
   },
   {
    "duration": 3,
    "start_time": "2022-04-03T19:34:37.104Z"
   },
   {
    "duration": 3,
    "start_time": "2022-04-03T19:34:38.584Z"
   },
   {
    "duration": 4,
    "start_time": "2022-04-03T19:37:15.504Z"
   },
   {
    "duration": 34439,
    "start_time": "2022-04-03T19:37:16.937Z"
   },
   {
    "duration": 3,
    "start_time": "2022-04-03T19:39:03.513Z"
   },
   {
    "duration": 5873,
    "start_time": "2022-04-03T19:39:04.744Z"
   },
   {
    "duration": 5,
    "start_time": "2022-04-03T19:39:37.345Z"
   },
   {
    "duration": 3,
    "start_time": "2022-04-03T19:40:41.772Z"
   },
   {
    "duration": 17296,
    "start_time": "2022-04-03T19:40:41.776Z"
   },
   {
    "duration": 4,
    "start_time": "2022-04-03T19:41:10.224Z"
   },
   {
    "duration": 5,
    "start_time": "2022-04-03T19:43:48.912Z"
   },
   {
    "duration": 34512,
    "start_time": "2022-04-03T19:43:51.265Z"
   },
   {
    "duration": 4,
    "start_time": "2022-04-03T19:45:04.576Z"
   },
   {
    "duration": 2312,
    "start_time": "2022-04-03T19:45:12.256Z"
   },
   {
    "duration": 5,
    "start_time": "2022-04-03T19:45:15.944Z"
   },
   {
    "duration": 2,
    "start_time": "2022-04-03T19:56:54.897Z"
   },
   {
    "duration": 122,
    "start_time": "2022-04-03T19:56:56.065Z"
   },
   {
    "duration": 4,
    "start_time": "2022-04-03T19:57:12.065Z"
   },
   {
    "duration": 3,
    "start_time": "2022-04-03T19:57:32.625Z"
   },
   {
    "duration": 3,
    "start_time": "2022-04-03T19:57:35.137Z"
   },
   {
    "duration": 3,
    "start_time": "2022-04-03T19:57:50.993Z"
   },
   {
    "duration": 12011,
    "start_time": "2022-04-03T19:57:58.864Z"
   },
   {
    "duration": 4,
    "start_time": "2022-04-03T19:58:13.745Z"
   },
   {
    "duration": 11975,
    "start_time": "2022-04-03T19:59:17.897Z"
   },
   {
    "duration": 178,
    "start_time": "2022-04-03T20:04:58.145Z"
   },
   {
    "duration": 152,
    "start_time": "2022-04-03T20:05:13.866Z"
   },
   {
    "duration": 139,
    "start_time": "2022-04-03T20:05:42.194Z"
   },
   {
    "duration": 140,
    "start_time": "2022-04-03T20:06:13.793Z"
   },
   {
    "duration": 4,
    "start_time": "2022-04-03T20:06:34.546Z"
   },
   {
    "duration": 3,
    "start_time": "2022-04-03T20:06:37.105Z"
   },
   {
    "duration": 12226,
    "start_time": "2022-04-03T20:06:39.545Z"
   },
   {
    "duration": 4,
    "start_time": "2022-04-03T20:08:35.548Z"
   },
   {
    "duration": 2,
    "start_time": "2022-04-03T20:08:36.825Z"
   },
   {
    "duration": 4,
    "start_time": "2022-04-03T20:08:37.705Z"
   },
   {
    "duration": 3,
    "start_time": "2022-04-03T20:08:40.337Z"
   },
   {
    "duration": 12169,
    "start_time": "2022-04-03T20:08:41.505Z"
   },
   {
    "duration": 4,
    "start_time": "2022-04-03T20:11:20.275Z"
   },
   {
    "duration": 3,
    "start_time": "2022-04-03T20:11:22.555Z"
   },
   {
    "duration": 12238,
    "start_time": "2022-04-03T20:11:23.635Z"
   },
   {
    "duration": 4,
    "start_time": "2022-04-03T20:12:22.347Z"
   },
   {
    "duration": 12188,
    "start_time": "2022-04-03T20:12:28.585Z"
   },
   {
    "duration": 3,
    "start_time": "2022-04-03T20:13:42.074Z"
   },
   {
    "duration": 3,
    "start_time": "2022-04-03T20:13:45.177Z"
   },
   {
    "duration": 12215,
    "start_time": "2022-04-03T20:13:46.273Z"
   },
   {
    "duration": 4,
    "start_time": "2022-04-03T20:14:31.266Z"
   },
   {
    "duration": 3,
    "start_time": "2022-04-03T20:14:32.465Z"
   },
   {
    "duration": 3,
    "start_time": "2022-04-03T20:14:33.306Z"
   },
   {
    "duration": 3,
    "start_time": "2022-04-03T20:14:34.713Z"
   },
   {
    "duration": 11503,
    "start_time": "2022-04-03T20:14:36.577Z"
   },
   {
    "duration": 4,
    "start_time": "2022-04-03T20:14:52.705Z"
   },
   {
    "duration": 4,
    "start_time": "2022-04-03T20:15:37.345Z"
   },
   {
    "duration": 2,
    "start_time": "2022-04-03T20:15:38.425Z"
   },
   {
    "duration": 4,
    "start_time": "2022-04-03T20:15:40.173Z"
   },
   {
    "duration": 3,
    "start_time": "2022-04-03T20:15:40.505Z"
   },
   {
    "duration": 4,
    "start_time": "2022-04-03T20:16:05.754Z"
   },
   {
    "duration": 3,
    "start_time": "2022-04-03T20:16:07.224Z"
   },
   {
    "duration": 12047,
    "start_time": "2022-04-03T20:16:12.624Z"
   },
   {
    "duration": 3,
    "start_time": "2022-04-03T20:17:04.946Z"
   },
   {
    "duration": 3,
    "start_time": "2022-04-03T20:17:07.226Z"
   },
   {
    "duration": 11882,
    "start_time": "2022-04-03T20:17:08.985Z"
   },
   {
    "duration": 4,
    "start_time": "2022-04-03T20:17:36.310Z"
   },
   {
    "duration": 3,
    "start_time": "2022-04-03T20:17:37.265Z"
   },
   {
    "duration": 4,
    "start_time": "2022-04-03T20:17:37.945Z"
   },
   {
    "duration": 3,
    "start_time": "2022-04-03T20:17:39.057Z"
   },
   {
    "duration": 12087,
    "start_time": "2022-04-03T20:17:40.476Z"
   },
   {
    "duration": 16023,
    "start_time": "2022-04-03T20:18:55.545Z"
   },
   {
    "duration": 8,
    "start_time": "2022-04-03T20:19:11.667Z"
   },
   {
    "duration": 3,
    "start_time": "2022-04-03T20:19:17.545Z"
   },
   {
    "duration": 4,
    "start_time": "2022-04-03T20:19:19.664Z"
   },
   {
    "duration": 16781,
    "start_time": "2022-04-03T20:19:20.585Z"
   },
   {
    "duration": 3,
    "start_time": "2022-04-03T20:22:18.977Z"
   },
   {
    "duration": 89956,
    "start_time": "2022-04-03T20:22:23.706Z"
   },
   {
    "duration": 3,
    "start_time": "2022-04-03T20:28:50.545Z"
   },
   {
    "duration": 7731,
    "start_time": "2022-04-03T20:28:52.545Z"
   },
   {
    "duration": 3,
    "start_time": "2022-04-03T20:29:15.224Z"
   },
   {
    "duration": 9843,
    "start_time": "2022-04-03T20:29:16.704Z"
   },
   {
    "duration": 3,
    "start_time": "2022-04-03T20:31:11.227Z"
   },
   {
    "duration": 168,
    "start_time": "2022-04-03T20:31:18.504Z"
   },
   {
    "duration": 3,
    "start_time": "2022-04-03T20:31:35.185Z"
   },
   {
    "duration": 63844,
    "start_time": "2022-04-03T20:31:45.945Z"
   },
   {
    "duration": 3,
    "start_time": "2022-04-03T20:35:24.712Z"
   },
   {
    "duration": 140,
    "start_time": "2022-04-03T20:35:26.385Z"
   },
   {
    "duration": 3,
    "start_time": "2022-04-03T20:35:35.865Z"
   },
   {
    "duration": 321097,
    "start_time": "2022-04-03T20:35:37.016Z"
   },
   {
    "duration": 3,
    "start_time": "2022-04-03T20:41:20.665Z"
   },
   {
    "duration": 113409,
    "start_time": "2022-04-03T20:41:24.113Z"
   },
   {
    "duration": 3,
    "start_time": "2022-04-03T20:43:26.867Z"
   },
   {
    "duration": 296094,
    "start_time": "2022-04-03T20:43:29.578Z"
   },
   {
    "duration": 4,
    "start_time": "2022-04-03T20:49:39.985Z"
   },
   {
    "duration": 498353,
    "start_time": "2022-04-03T20:49:41.824Z"
   },
   {
    "duration": 14,
    "start_time": "2022-04-03T20:58:10.945Z"
   },
   {
    "duration": 4,
    "start_time": "2022-04-03T20:58:48.465Z"
   },
   {
    "duration": 4,
    "start_time": "2022-04-03T20:59:27.706Z"
   },
   {
    "duration": 774,
    "start_time": "2022-04-03T20:59:27.712Z"
   },
   {
    "duration": 14,
    "start_time": "2022-04-03T20:59:28.488Z"
   },
   {
    "duration": 13,
    "start_time": "2022-04-03T20:59:28.504Z"
   },
   {
    "duration": 140,
    "start_time": "2022-04-03T20:59:28.519Z"
   },
   {
    "duration": 80,
    "start_time": "2022-04-03T20:59:28.662Z"
   },
   {
    "duration": 390,
    "start_time": "2022-04-03T20:59:28.743Z"
   },
   {
    "duration": 410,
    "start_time": "2022-04-03T20:59:29.134Z"
   },
   {
    "duration": 393,
    "start_time": "2022-04-03T20:59:29.546Z"
   },
   {
    "duration": 827,
    "start_time": "2022-04-03T20:59:29.941Z"
   },
   {
    "duration": 42,
    "start_time": "2022-04-03T20:59:30.770Z"
   },
   {
    "duration": 71,
    "start_time": "2022-04-03T20:59:30.813Z"
   },
   {
    "duration": 483,
    "start_time": "2022-04-03T20:59:30.886Z"
   },
   {
    "duration": 5,
    "start_time": "2022-04-03T20:59:31.372Z"
   },
   {
    "duration": 15,
    "start_time": "2022-04-03T20:59:31.379Z"
   },
   {
    "duration": 10,
    "start_time": "2022-04-03T20:59:31.396Z"
   },
   {
    "duration": 60,
    "start_time": "2022-04-03T20:59:31.408Z"
   },
   {
    "duration": 55,
    "start_time": "2022-04-03T20:59:31.470Z"
   },
   {
    "duration": 56,
    "start_time": "2022-04-03T20:59:31.527Z"
   },
   {
    "duration": 401,
    "start_time": "2022-04-03T20:59:31.585Z"
   },
   {
    "duration": 434,
    "start_time": "2022-04-03T20:59:31.988Z"
   },
   {
    "duration": 49,
    "start_time": "2022-04-03T20:59:32.424Z"
   },
   {
    "duration": 254,
    "start_time": "2022-04-03T20:59:32.475Z"
   },
   {
    "duration": 411,
    "start_time": "2022-04-03T20:59:32.732Z"
   },
   {
    "duration": 52,
    "start_time": "2022-04-03T20:59:33.144Z"
   },
   {
    "duration": 300,
    "start_time": "2022-04-03T20:59:33.198Z"
   },
   {
    "duration": 408,
    "start_time": "2022-04-03T20:59:33.500Z"
   },
   {
    "duration": 33,
    "start_time": "2022-04-03T20:59:33.910Z"
   },
   {
    "duration": 57,
    "start_time": "2022-04-03T20:59:33.944Z"
   },
   {
    "duration": 2572,
    "start_time": "2022-04-03T20:59:34.003Z"
   },
   {
    "duration": 98,
    "start_time": "2022-04-03T20:59:36.577Z"
   },
   {
    "duration": 1417,
    "start_time": "2022-04-03T20:59:36.677Z"
   },
   {
    "duration": 5,
    "start_time": "2022-04-03T20:59:38.095Z"
   },
   {
    "duration": 7,
    "start_time": "2022-04-03T20:59:38.101Z"
   },
   {
    "duration": 225,
    "start_time": "2022-04-03T20:59:38.110Z"
   },
   {
    "duration": 1687,
    "start_time": "2022-04-03T20:59:38.337Z"
   },
   {
    "duration": 2,
    "start_time": "2022-04-03T20:59:40.026Z"
   },
   {
    "duration": 71,
    "start_time": "2022-04-03T20:59:40.030Z"
   },
   {
    "duration": 170,
    "start_time": "2022-04-03T20:59:40.103Z"
   },
   {
    "duration": 154,
    "start_time": "2022-04-03T20:59:40.275Z"
   },
   {
    "duration": 313,
    "start_time": "2022-04-03T20:59:40.434Z"
   },
   {
    "duration": 1448,
    "start_time": "2022-04-03T20:59:40.748Z"
   },
   {
    "duration": 40,
    "start_time": "2022-04-03T20:59:42.197Z"
   },
   {
    "duration": 6,
    "start_time": "2022-04-03T20:59:42.239Z"
   },
   {
    "duration": 29,
    "start_time": "2022-04-03T20:59:42.262Z"
   },
   {
    "duration": 6,
    "start_time": "2022-04-03T20:59:42.292Z"
   },
   {
    "duration": 1321,
    "start_time": "2022-04-03T20:59:42.299Z"
   },
   {
    "duration": 42,
    "start_time": "2022-04-03T20:59:43.621Z"
   },
   {
    "duration": 19,
    "start_time": "2022-04-03T20:59:43.664Z"
   },
   {
    "duration": 116,
    "start_time": "2022-04-03T20:59:43.685Z"
   },
   {
    "duration": 3,
    "start_time": "2022-04-03T20:59:43.803Z"
   },
   {
    "duration": 268,
    "start_time": "2022-04-03T20:59:43.808Z"
   },
   {
    "duration": 179,
    "start_time": "2022-04-03T20:59:44.078Z"
   },
   {
    "duration": 2,
    "start_time": "2022-04-03T20:59:44.262Z"
   },
   {
    "duration": 383,
    "start_time": "2022-04-03T20:59:44.266Z"
   },
   {
    "duration": 18,
    "start_time": "2022-04-03T20:59:44.651Z"
   },
   {
    "duration": 78,
    "start_time": "2022-04-03T20:59:44.671Z"
   },
   {
    "duration": 93,
    "start_time": "2022-04-03T20:59:44.751Z"
   },
   {
    "duration": 17,
    "start_time": "2022-04-03T20:59:44.846Z"
   },
   {
    "duration": 7,
    "start_time": "2022-04-03T20:59:44.865Z"
   },
   {
    "duration": 5,
    "start_time": "2022-04-03T20:59:44.873Z"
   },
   {
    "duration": 5,
    "start_time": "2022-04-03T20:59:44.879Z"
   },
   {
    "duration": 11988,
    "start_time": "2022-04-03T20:59:44.885Z"
   },
   {
    "duration": 90,
    "start_time": "2022-04-03T20:59:56.875Z"
   },
   {
    "duration": 17197,
    "start_time": "2022-04-03T20:59:56.967Z"
   },
   {
    "duration": 3,
    "start_time": "2022-04-03T21:00:14.166Z"
   },
   {
    "duration": 77099,
    "start_time": "2022-04-03T21:00:14.171Z"
   },
   {
    "duration": 4,
    "start_time": "2022-04-03T21:01:31.272Z"
   },
   {
    "duration": 70763,
    "start_time": "2022-04-03T21:01:31.277Z"
   },
   {
    "duration": 4,
    "start_time": "2022-04-03T21:02:42.042Z"
   },
   {
    "duration": 14092,
    "start_time": "2022-04-03T21:02:42.048Z"
   },
   {
    "duration": 3,
    "start_time": "2022-04-03T21:02:56.142Z"
   },
   {
    "duration": 19,
    "start_time": "2022-04-03T21:02:56.147Z"
   },
   {
    "duration": 0,
    "start_time": "2022-04-03T21:02:56.168Z"
   },
   {
    "duration": 0,
    "start_time": "2022-04-03T21:02:56.169Z"
   },
   {
    "duration": 3,
    "start_time": "2022-04-03T21:03:12.827Z"
   },
   {
    "duration": 362040,
    "start_time": "2022-04-03T21:03:15.824Z"
   },
   {
    "duration": 4,
    "start_time": "2022-04-03T21:10:23.225Z"
   },
   {
    "duration": 8,
    "start_time": "2022-04-03T21:10:27.697Z"
   },
   {
    "duration": 184,
    "start_time": "2022-04-03T21:12:49.585Z"
   },
   {
    "duration": 160,
    "start_time": "2022-04-03T21:14:53.065Z"
   },
   {
    "duration": 17540,
    "start_time": "2022-04-03T21:16:36.825Z"
   },
   {
    "duration": 6308,
    "start_time": "2022-04-03T21:18:20.505Z"
   },
   {
    "duration": 4,
    "start_time": "2022-04-03T21:30:40.266Z"
   },
   {
    "duration": 702,
    "start_time": "2022-04-03T21:30:40.272Z"
   },
   {
    "duration": 13,
    "start_time": "2022-04-03T21:30:40.975Z"
   },
   {
    "duration": 4,
    "start_time": "2022-04-03T21:30:40.990Z"
   },
   {
    "duration": 136,
    "start_time": "2022-04-03T21:30:40.997Z"
   },
   {
    "duration": 94,
    "start_time": "2022-04-03T21:30:41.135Z"
   },
   {
    "duration": 392,
    "start_time": "2022-04-03T21:30:41.230Z"
   },
   {
    "duration": 394,
    "start_time": "2022-04-03T21:30:41.624Z"
   },
   {
    "duration": 390,
    "start_time": "2022-04-03T21:30:42.020Z"
   },
   {
    "duration": 813,
    "start_time": "2022-04-03T21:30:42.412Z"
   },
   {
    "duration": 53,
    "start_time": "2022-04-03T21:30:43.226Z"
   },
   {
    "duration": 57,
    "start_time": "2022-04-03T21:30:43.281Z"
   },
   {
    "duration": 504,
    "start_time": "2022-04-03T21:30:43.339Z"
   },
   {
    "duration": 4,
    "start_time": "2022-04-03T21:30:43.847Z"
   },
   {
    "duration": 11,
    "start_time": "2022-04-03T21:30:43.852Z"
   },
   {
    "duration": 7,
    "start_time": "2022-04-03T21:30:43.865Z"
   },
   {
    "duration": 50,
    "start_time": "2022-04-03T21:30:43.874Z"
   },
   {
    "duration": 69,
    "start_time": "2022-04-03T21:30:43.926Z"
   },
   {
    "duration": 45,
    "start_time": "2022-04-03T21:30:43.997Z"
   },
   {
    "duration": 318,
    "start_time": "2022-04-03T21:30:44.044Z"
   },
   {
    "duration": 413,
    "start_time": "2022-04-03T21:30:44.364Z"
   },
   {
    "duration": 41,
    "start_time": "2022-04-03T21:30:44.779Z"
   },
   {
    "duration": 268,
    "start_time": "2022-04-03T21:30:44.821Z"
   },
   {
    "duration": 509,
    "start_time": "2022-04-03T21:30:45.091Z"
   },
   {
    "duration": 43,
    "start_time": "2022-04-03T21:30:45.601Z"
   },
   {
    "duration": 308,
    "start_time": "2022-04-03T21:30:45.646Z"
   },
   {
    "duration": 413,
    "start_time": "2022-04-03T21:30:45.962Z"
   },
   {
    "duration": 45,
    "start_time": "2022-04-03T21:30:46.377Z"
   },
   {
    "duration": 62,
    "start_time": "2022-04-03T21:30:46.424Z"
   },
   {
    "duration": 2591,
    "start_time": "2022-04-03T21:30:46.488Z"
   },
   {
    "duration": 102,
    "start_time": "2022-04-03T21:30:49.080Z"
   },
   {
    "duration": 1420,
    "start_time": "2022-04-03T21:30:49.183Z"
   },
   {
    "duration": 4,
    "start_time": "2022-04-03T21:30:50.605Z"
   },
   {
    "duration": 13,
    "start_time": "2022-04-03T21:30:50.611Z"
   },
   {
    "duration": 240,
    "start_time": "2022-04-03T21:30:50.626Z"
   },
   {
    "duration": 1548,
    "start_time": "2022-04-03T21:30:50.868Z"
   },
   {
    "duration": 64,
    "start_time": "2022-04-03T21:30:52.418Z"
   },
   {
    "duration": 142,
    "start_time": "2022-04-03T21:30:52.483Z"
   },
   {
    "duration": 146,
    "start_time": "2022-04-03T21:30:52.626Z"
   },
   {
    "duration": 304,
    "start_time": "2022-04-03T21:30:52.774Z"
   },
   {
    "duration": 1476,
    "start_time": "2022-04-03T21:30:53.083Z"
   },
   {
    "duration": 39,
    "start_time": "2022-04-03T21:30:54.562Z"
   },
   {
    "duration": 6,
    "start_time": "2022-04-03T21:30:54.603Z"
   },
   {
    "duration": 51,
    "start_time": "2022-04-03T21:30:54.611Z"
   },
   {
    "duration": 6,
    "start_time": "2022-04-03T21:30:54.664Z"
   },
   {
    "duration": 1291,
    "start_time": "2022-04-03T21:30:54.672Z"
   },
   {
    "duration": 38,
    "start_time": "2022-04-03T21:30:55.965Z"
   },
   {
    "duration": 20,
    "start_time": "2022-04-03T21:30:56.005Z"
   },
   {
    "duration": 125,
    "start_time": "2022-04-03T21:30:56.027Z"
   },
   {
    "duration": 10,
    "start_time": "2022-04-03T21:30:56.153Z"
   },
   {
    "duration": 297,
    "start_time": "2022-04-03T21:30:56.164Z"
   },
   {
    "duration": 192,
    "start_time": "2022-04-03T21:30:56.463Z"
   },
   {
    "duration": 263,
    "start_time": "2022-04-03T21:30:56.657Z"
   },
   {
    "duration": 15,
    "start_time": "2022-04-03T21:30:56.921Z"
   },
   {
    "duration": 71,
    "start_time": "2022-04-03T21:30:56.937Z"
   },
   {
    "duration": 56,
    "start_time": "2022-04-03T21:30:57.010Z"
   },
   {
    "duration": 4,
    "start_time": "2022-04-03T21:30:57.068Z"
   },
   {
    "duration": 8,
    "start_time": "2022-04-03T21:30:57.073Z"
   },
   {
    "duration": 5,
    "start_time": "2022-04-03T21:30:57.082Z"
   },
   {
    "duration": 5,
    "start_time": "2022-04-03T21:30:57.088Z"
   },
   {
    "duration": 12086,
    "start_time": "2022-04-03T21:30:57.094Z"
   },
   {
    "duration": 86,
    "start_time": "2022-04-03T21:31:09.182Z"
   },
   {
    "duration": 18698,
    "start_time": "2022-04-03T21:31:09.270Z"
   },
   {
    "duration": 94,
    "start_time": "2022-04-03T21:31:27.970Z"
   },
   {
    "duration": 65205,
    "start_time": "2022-04-03T21:31:28.067Z"
   },
   {
    "duration": 3,
    "start_time": "2022-04-03T21:32:33.274Z"
   },
   {
    "duration": 63485,
    "start_time": "2022-04-03T21:32:33.279Z"
   },
   {
    "duration": 3,
    "start_time": "2022-04-03T21:33:36.765Z"
   },
   {
    "duration": 343504,
    "start_time": "2022-04-03T21:33:36.770Z"
   },
   {
    "duration": 10019,
    "start_time": "2022-04-03T21:39:20.276Z"
   },
   {
    "duration": 6580,
    "start_time": "2022-04-03T21:39:30.296Z"
   },
   {
    "duration": 6977,
    "start_time": "2022-04-03T21:39:36.878Z"
   },
   {
    "duration": 5900,
    "start_time": "2022-04-03T21:40:05.185Z"
   },
   {
    "duration": 164493,
    "start_time": "2022-04-04T12:10:00.803Z"
   },
   {
    "duration": 6,
    "start_time": "2022-04-04T12:12:45.299Z"
   },
   {
    "duration": 2169,
    "start_time": "2022-04-04T12:13:06.160Z"
   },
   {
    "duration": 1196,
    "start_time": "2022-04-04T12:13:09.342Z"
   },
   {
    "duration": 27,
    "start_time": "2022-04-04T12:13:11.121Z"
   },
   {
    "duration": 5,
    "start_time": "2022-04-04T12:13:11.342Z"
   },
   {
    "duration": 303,
    "start_time": "2022-04-04T12:13:11.561Z"
   },
   {
    "duration": 139,
    "start_time": "2022-04-04T12:13:11.867Z"
   },
   {
    "duration": 688,
    "start_time": "2022-04-04T12:13:12.009Z"
   },
   {
    "duration": 732,
    "start_time": "2022-04-04T12:13:12.700Z"
   },
   {
    "duration": 597,
    "start_time": "2022-04-04T12:13:13.434Z"
   },
   {
    "duration": 1265,
    "start_time": "2022-04-04T12:13:14.034Z"
   },
   {
    "duration": 118,
    "start_time": "2022-04-04T12:13:15.301Z"
   },
   {
    "duration": 111,
    "start_time": "2022-04-04T12:13:15.422Z"
   },
   {
    "duration": 877,
    "start_time": "2022-04-04T12:13:15.536Z"
   },
   {
    "duration": 6,
    "start_time": "2022-04-04T12:13:16.416Z"
   },
   {
    "duration": 16,
    "start_time": "2022-04-04T12:13:16.424Z"
   },
   {
    "duration": 12,
    "start_time": "2022-04-04T12:13:16.443Z"
   },
   {
    "duration": 95,
    "start_time": "2022-04-04T12:13:16.457Z"
   },
   {
    "duration": 108,
    "start_time": "2022-04-04T12:13:16.554Z"
   },
   {
    "duration": 91,
    "start_time": "2022-04-04T12:13:16.664Z"
   },
   {
    "duration": 510,
    "start_time": "2022-04-04T12:13:16.758Z"
   },
   {
    "duration": 755,
    "start_time": "2022-04-04T12:13:17.271Z"
   },
   {
    "duration": 95,
    "start_time": "2022-04-04T12:13:18.030Z"
   },
   {
    "duration": 431,
    "start_time": "2022-04-04T12:13:18.127Z"
   },
   {
    "duration": 828,
    "start_time": "2022-04-04T12:13:18.560Z"
   },
   {
    "duration": 75,
    "start_time": "2022-04-04T12:13:19.393Z"
   },
   {
    "duration": 491,
    "start_time": "2022-04-04T12:13:19.484Z"
   },
   {
    "duration": 756,
    "start_time": "2022-04-04T12:13:19.982Z"
   },
   {
    "duration": 76,
    "start_time": "2022-04-04T12:13:20.742Z"
   },
   {
    "duration": 98,
    "start_time": "2022-04-04T12:13:20.823Z"
   },
   {
    "duration": 5203,
    "start_time": "2022-04-04T12:13:20.924Z"
   },
   {
    "duration": 163,
    "start_time": "2022-04-04T12:13:26.130Z"
   },
   {
    "duration": 2287,
    "start_time": "2022-04-04T12:13:26.295Z"
   },
   {
    "duration": 9,
    "start_time": "2022-04-04T12:13:28.588Z"
   },
   {
    "duration": 12,
    "start_time": "2022-04-04T12:13:28.599Z"
   },
   {
    "duration": 392,
    "start_time": "2022-04-04T12:13:28.613Z"
   },
   {
    "duration": 2962,
    "start_time": "2022-04-04T12:13:29.008Z"
   },
   {
    "duration": 90,
    "start_time": "2022-04-04T12:13:31.972Z"
   },
   {
    "duration": 271,
    "start_time": "2022-04-04T12:13:32.067Z"
   },
   {
    "duration": 262,
    "start_time": "2022-04-04T12:13:32.340Z"
   },
   {
    "duration": 507,
    "start_time": "2022-04-04T12:13:32.606Z"
   },
   {
    "duration": 2654,
    "start_time": "2022-04-04T12:13:33.115Z"
   },
   {
    "duration": 85,
    "start_time": "2022-04-04T12:13:35.771Z"
   },
   {
    "duration": 29,
    "start_time": "2022-04-04T12:13:35.859Z"
   },
   {
    "duration": 51,
    "start_time": "2022-04-04T12:13:35.891Z"
   },
   {
    "duration": 11,
    "start_time": "2022-04-04T12:13:35.944Z"
   },
   {
    "duration": 2017,
    "start_time": "2022-04-04T12:13:35.988Z"
   },
   {
    "duration": 61,
    "start_time": "2022-04-04T12:13:38.008Z"
   },
   {
    "duration": 44,
    "start_time": "2022-04-04T12:13:38.072Z"
   },
   {
    "duration": 189,
    "start_time": "2022-04-04T12:13:38.119Z"
   },
   {
    "duration": 5,
    "start_time": "2022-04-04T12:13:38.311Z"
   },
   {
    "duration": 345,
    "start_time": "2022-04-04T12:13:38.319Z"
   },
   {
    "duration": 374,
    "start_time": "2022-04-04T12:13:38.666Z"
   },
   {
    "duration": 437,
    "start_time": "2022-04-04T12:13:39.042Z"
   },
   {
    "duration": 28,
    "start_time": "2022-04-04T12:13:39.488Z"
   },
   {
    "duration": 181,
    "start_time": "2022-04-04T12:13:39.519Z"
   },
   {
    "duration": 0,
    "start_time": "2022-04-04T12:13:39.703Z"
   },
   {
    "duration": 0,
    "start_time": "2022-04-04T12:13:39.704Z"
   },
   {
    "duration": 0,
    "start_time": "2022-04-04T12:13:39.706Z"
   },
   {
    "duration": 0,
    "start_time": "2022-04-04T12:13:39.708Z"
   },
   {
    "duration": 0,
    "start_time": "2022-04-04T12:13:39.711Z"
   },
   {
    "duration": 0,
    "start_time": "2022-04-04T12:13:39.714Z"
   },
   {
    "duration": 0,
    "start_time": "2022-04-04T12:13:39.716Z"
   },
   {
    "duration": 0,
    "start_time": "2022-04-04T12:13:39.718Z"
   },
   {
    "duration": 0,
    "start_time": "2022-04-04T12:13:39.719Z"
   },
   {
    "duration": 0,
    "start_time": "2022-04-04T12:13:39.720Z"
   },
   {
    "duration": 0,
    "start_time": "2022-04-04T12:13:39.722Z"
   },
   {
    "duration": 0,
    "start_time": "2022-04-04T12:13:39.723Z"
   },
   {
    "duration": 0,
    "start_time": "2022-04-04T12:13:39.725Z"
   },
   {
    "duration": 0,
    "start_time": "2022-04-04T12:13:39.727Z"
   },
   {
    "duration": 0,
    "start_time": "2022-04-04T12:13:39.728Z"
   },
   {
    "duration": 0,
    "start_time": "2022-04-04T12:13:39.730Z"
   },
   {
    "duration": 0,
    "start_time": "2022-04-04T12:13:39.731Z"
   },
   {
    "duration": 146,
    "start_time": "2022-04-04T12:15:51.110Z"
   },
   {
    "duration": 136,
    "start_time": "2022-04-04T12:19:24.425Z"
   },
   {
    "duration": 172,
    "start_time": "2022-04-04T12:30:43.075Z"
   },
   {
    "duration": 167,
    "start_time": "2022-04-04T12:30:43.253Z"
   },
   {
    "duration": 53,
    "start_time": "2022-04-04T12:30:56.720Z"
   },
   {
    "duration": 5,
    "start_time": "2022-04-04T12:30:57.409Z"
   },
   {
    "duration": 4,
    "start_time": "2022-04-04T12:30:58.017Z"
   },
   {
    "duration": 5,
    "start_time": "2022-04-04T12:30:58.673Z"
   },
   {
    "duration": 4,
    "start_time": "2022-04-04T12:30:59.549Z"
   },
   {
    "duration": 11698,
    "start_time": "2022-04-04T12:31:00.115Z"
   },
   {
    "duration": 73,
    "start_time": "2022-04-04T12:31:11.817Z"
   },
   {
    "duration": 40594,
    "start_time": "2022-04-04T12:31:11.901Z"
   },
   {
    "duration": 7,
    "start_time": "2022-04-04T12:31:52.501Z"
   },
   {
    "duration": 6,
    "start_time": "2022-04-04T12:50:04.511Z"
   },
   {
    "duration": 7565,
    "start_time": "2022-04-04T12:50:04.520Z"
   },
   {
    "duration": 6,
    "start_time": "2022-04-04T12:50:12.094Z"
   },
   {
    "duration": 3745,
    "start_time": "2022-04-04T12:50:12.102Z"
   },
   {
    "duration": 10060,
    "start_time": "2022-04-04T12:50:15.851Z"
   },
   {
    "duration": 0,
    "start_time": "2022-04-04T12:50:25.915Z"
   },
   {
    "duration": 0,
    "start_time": "2022-04-04T12:50:25.918Z"
   },
   {
    "duration": 0,
    "start_time": "2022-04-04T12:50:26.008Z"
   },
   {
    "duration": 0,
    "start_time": "2022-04-04T12:50:26.017Z"
   },
   {
    "duration": 5,
    "start_time": "2022-04-04T12:50:27.827Z"
   },
   {
    "duration": 1549539,
    "start_time": "2022-04-04T12:50:28.515Z"
   },
   {
    "duration": 21,
    "start_time": "2022-04-04T13:16:59.836Z"
   },
   {
    "duration": 6,
    "start_time": "2022-04-04T13:19:15.552Z"
   },
   {
    "duration": 6,
    "start_time": "2022-04-04T13:19:25.220Z"
   },
   {
    "duration": 6,
    "start_time": "2022-04-04T13:19:45.496Z"
   },
   {
    "duration": 20,
    "start_time": "2022-04-04T13:20:17.348Z"
   },
   {
    "duration": 23,
    "start_time": "2022-04-04T13:21:04.271Z"
   },
   {
    "duration": 5,
    "start_time": "2022-04-04T13:24:05.339Z"
   },
   {
    "duration": 96751,
    "start_time": "2022-04-04T13:24:08.359Z"
   },
   {
    "duration": 33198,
    "start_time": "2022-04-04T13:30:30.062Z"
   },
   {
    "duration": 5,
    "start_time": "2022-04-04T13:31:03.308Z"
   },
   {
    "duration": 4,
    "start_time": "2022-04-04T13:31:07.071Z"
   },
   {
    "duration": 95522,
    "start_time": "2022-04-04T13:31:07.753Z"
   },
   {
    "duration": 5,
    "start_time": "2022-04-04T13:34:00.836Z"
   },
   {
    "duration": 100936,
    "start_time": "2022-04-04T13:34:01.547Z"
   },
   {
    "duration": 5,
    "start_time": "2022-04-04T13:36:07.790Z"
   },
   {
    "duration": 744807,
    "start_time": "2022-04-04T13:36:08.777Z"
   },
   {
    "duration": 10027,
    "start_time": "2022-04-04T13:52:09.854Z"
   },
   {
    "duration": 5,
    "start_time": "2022-04-04T13:52:29.122Z"
   },
   {
    "duration": 103762,
    "start_time": "2022-04-04T13:52:29.905Z"
   },
   {
    "duration": 50,
    "start_time": "2022-04-04T13:54:18.071Z"
   },
   {
    "duration": 70,
    "start_time": "2022-04-04T13:54:23.707Z"
   },
   {
    "duration": 5,
    "start_time": "2022-04-04T13:54:25.122Z"
   },
   {
    "duration": 3,
    "start_time": "2022-04-04T13:54:25.607Z"
   },
   {
    "duration": 5,
    "start_time": "2022-04-04T13:54:26.289Z"
   },
   {
    "duration": 5,
    "start_time": "2022-04-04T13:54:27.259Z"
   },
   {
    "duration": 12087,
    "start_time": "2022-04-04T13:54:27.899Z"
   },
   {
    "duration": 5,
    "start_time": "2022-04-04T13:54:41.994Z"
   },
   {
    "duration": 19747,
    "start_time": "2022-04-04T13:54:42.544Z"
   },
   {
    "duration": 5,
    "start_time": "2022-04-04T13:55:02.385Z"
   },
   {
    "duration": 85906,
    "start_time": "2022-04-04T13:55:02.483Z"
   },
   {
    "duration": 4,
    "start_time": "2022-04-04T13:56:28.392Z"
   },
   {
    "duration": 354365,
    "start_time": "2022-04-04T13:58:12.486Z"
   },
   {
    "duration": 10023,
    "start_time": "2022-04-04T14:04:06.853Z"
   },
   {
    "duration": 0,
    "start_time": "2022-04-04T14:04:16.879Z"
   },
   {
    "duration": 0,
    "start_time": "2022-04-04T14:04:16.881Z"
   },
   {
    "duration": 5,
    "start_time": "2022-04-04T14:04:23.429Z"
   },
   {
    "duration": 103743,
    "start_time": "2022-04-04T14:04:24.152Z"
   },
   {
    "duration": 4,
    "start_time": "2022-04-04T14:08:57.655Z"
   },
   {
    "duration": 420932,
    "start_time": "2022-04-04T14:08:59.763Z"
   },
   {
    "duration": 0,
    "start_time": "2022-04-04T14:16:10.730Z"
   },
   {
    "duration": 10030,
    "start_time": "2022-04-04T14:16:12.564Z"
   },
   {
    "duration": 7,
    "start_time": "2022-04-04T14:16:33.457Z"
   },
   {
    "duration": 4,
    "start_time": "2022-04-04T14:16:58.809Z"
   },
   {
    "duration": 6,
    "start_time": "2022-04-04T14:16:59.126Z"
   },
   {
    "duration": 4,
    "start_time": "2022-04-04T14:17:00.582Z"
   },
   {
    "duration": 12143,
    "start_time": "2022-04-04T14:17:00.944Z"
   },
   {
    "duration": 5,
    "start_time": "2022-04-04T14:17:13.182Z"
   },
   {
    "duration": 19399,
    "start_time": "2022-04-04T14:17:13.190Z"
   },
   {
    "duration": 7,
    "start_time": "2022-04-04T14:17:32.683Z"
   },
   {
    "duration": 96694,
    "start_time": "2022-04-04T14:17:32.693Z"
   },
   {
    "duration": 4,
    "start_time": "2022-04-04T14:19:09.390Z"
   },
   {
    "duration": 103851,
    "start_time": "2022-04-04T14:19:09.397Z"
   },
   {
    "duration": 5,
    "start_time": "2022-04-04T14:20:53.250Z"
   },
   {
    "duration": 393335,
    "start_time": "2022-04-04T14:20:53.257Z"
   },
   {
    "duration": 10023,
    "start_time": "2022-04-04T14:27:26.595Z"
   },
   {
    "duration": 8662,
    "start_time": "2022-04-04T14:27:36.620Z"
   },
   {
    "duration": 13007,
    "start_time": "2022-04-04T14:27:45.285Z"
   },
   {
    "duration": 46,
    "start_time": "2022-04-05T08:46:59.017Z"
   },
   {
    "duration": 8,
    "start_time": "2022-04-05T08:47:11.855Z"
   },
   {
    "duration": 767,
    "start_time": "2022-04-05T08:57:00.578Z"
   },
   {
    "duration": 2404,
    "start_time": "2022-04-05T09:04:08.979Z"
   },
   {
    "duration": 785,
    "start_time": "2022-04-05T09:04:11.385Z"
   },
   {
    "duration": 18,
    "start_time": "2022-04-05T09:04:12.172Z"
   },
   {
    "duration": 12,
    "start_time": "2022-04-05T09:04:12.191Z"
   },
   {
    "duration": 139,
    "start_time": "2022-04-05T09:04:12.206Z"
   },
   {
    "duration": 101,
    "start_time": "2022-04-05T09:04:12.347Z"
   },
   {
    "duration": 452,
    "start_time": "2022-04-05T09:04:12.450Z"
   },
   {
    "duration": 443,
    "start_time": "2022-04-05T09:04:12.904Z"
   },
   {
    "duration": 428,
    "start_time": "2022-04-05T09:04:13.349Z"
   },
   {
    "duration": 802,
    "start_time": "2022-04-05T09:04:13.779Z"
   },
   {
    "duration": 49,
    "start_time": "2022-04-05T09:04:14.583Z"
   },
   {
    "duration": 71,
    "start_time": "2022-04-05T09:04:14.634Z"
   },
   {
    "duration": 537,
    "start_time": "2022-04-05T09:04:14.707Z"
   },
   {
    "duration": 5,
    "start_time": "2022-04-05T09:04:15.247Z"
   },
   {
    "duration": 11,
    "start_time": "2022-04-05T09:04:15.253Z"
   },
   {
    "duration": 30,
    "start_time": "2022-04-05T09:04:15.266Z"
   },
   {
    "duration": 62,
    "start_time": "2022-04-05T09:04:15.298Z"
   },
   {
    "duration": 52,
    "start_time": "2022-04-05T09:04:15.361Z"
   },
   {
    "duration": 46,
    "start_time": "2022-04-05T09:04:15.415Z"
   },
   {
    "duration": 304,
    "start_time": "2022-04-05T09:04:15.463Z"
   },
   {
    "duration": 437,
    "start_time": "2022-04-05T09:04:15.769Z"
   },
   {
    "duration": 44,
    "start_time": "2022-04-05T09:04:16.208Z"
   },
   {
    "duration": 273,
    "start_time": "2022-04-05T09:04:16.254Z"
   },
   {
    "duration": 503,
    "start_time": "2022-04-05T09:04:16.529Z"
   },
   {
    "duration": 45,
    "start_time": "2022-04-05T09:04:17.033Z"
   },
   {
    "duration": 309,
    "start_time": "2022-04-05T09:04:17.080Z"
   },
   {
    "duration": 432,
    "start_time": "2022-04-05T09:04:17.390Z"
   },
   {
    "duration": 32,
    "start_time": "2022-04-05T09:04:17.824Z"
   },
   {
    "duration": 59,
    "start_time": "2022-04-05T09:04:17.857Z"
   },
   {
    "duration": 2689,
    "start_time": "2022-04-05T09:04:17.917Z"
   },
   {
    "duration": 106,
    "start_time": "2022-04-05T09:04:20.608Z"
   },
   {
    "duration": 1467,
    "start_time": "2022-04-05T09:04:20.716Z"
   },
   {
    "duration": 5,
    "start_time": "2022-04-05T09:04:22.185Z"
   },
   {
    "duration": 12,
    "start_time": "2022-04-05T09:04:22.191Z"
   },
   {
    "duration": 227,
    "start_time": "2022-04-05T09:04:22.204Z"
   },
   {
    "duration": 1545,
    "start_time": "2022-04-05T09:04:22.433Z"
   },
   {
    "duration": 53,
    "start_time": "2022-04-05T09:04:23.981Z"
   },
   {
    "duration": 139,
    "start_time": "2022-04-05T09:04:24.036Z"
   },
   {
    "duration": 143,
    "start_time": "2022-04-05T09:04:24.177Z"
   },
   {
    "duration": 280,
    "start_time": "2022-04-05T09:04:24.321Z"
   },
   {
    "duration": 1516,
    "start_time": "2022-04-05T09:04:24.605Z"
   },
   {
    "duration": 39,
    "start_time": "2022-04-05T09:04:26.123Z"
   },
   {
    "duration": 6,
    "start_time": "2022-04-05T09:04:26.164Z"
   },
   {
    "duration": 48,
    "start_time": "2022-04-05T09:04:26.172Z"
   },
   {
    "duration": 6,
    "start_time": "2022-04-05T09:04:26.221Z"
   },
   {
    "duration": 1241,
    "start_time": "2022-04-05T09:04:26.229Z"
   },
   {
    "duration": 45,
    "start_time": "2022-04-05T09:04:27.471Z"
   },
   {
    "duration": 16,
    "start_time": "2022-04-05T09:04:27.518Z"
   },
   {
    "duration": 112,
    "start_time": "2022-04-05T09:04:27.535Z"
   },
   {
    "duration": 4,
    "start_time": "2022-04-05T09:04:27.648Z"
   },
   {
    "duration": 181,
    "start_time": "2022-04-05T09:04:27.653Z"
   },
   {
    "duration": 196,
    "start_time": "2022-04-05T09:04:27.835Z"
   },
   {
    "duration": 259,
    "start_time": "2022-04-05T09:04:28.032Z"
   },
   {
    "duration": 22,
    "start_time": "2022-04-05T09:04:28.293Z"
   },
   {
    "duration": 5007,
    "start_time": "2022-04-05T09:04:28.317Z"
   },
   {
    "duration": 73,
    "start_time": "2022-04-05T09:04:33.326Z"
   },
   {
    "duration": 0,
    "start_time": "2022-04-05T09:04:33.401Z"
   },
   {
    "duration": 0,
    "start_time": "2022-04-05T09:04:33.403Z"
   },
   {
    "duration": 0,
    "start_time": "2022-04-05T09:04:33.404Z"
   },
   {
    "duration": 0,
    "start_time": "2022-04-05T09:04:33.405Z"
   },
   {
    "duration": 0,
    "start_time": "2022-04-05T09:04:33.407Z"
   },
   {
    "duration": 0,
    "start_time": "2022-04-05T09:04:33.408Z"
   },
   {
    "duration": 0,
    "start_time": "2022-04-05T09:04:33.410Z"
   },
   {
    "duration": 0,
    "start_time": "2022-04-05T09:04:33.411Z"
   },
   {
    "duration": 0,
    "start_time": "2022-04-05T09:04:33.413Z"
   },
   {
    "duration": 0,
    "start_time": "2022-04-05T09:04:33.414Z"
   },
   {
    "duration": 0,
    "start_time": "2022-04-05T09:04:33.415Z"
   },
   {
    "duration": 0,
    "start_time": "2022-04-05T09:04:33.417Z"
   },
   {
    "duration": 0,
    "start_time": "2022-04-05T09:04:33.418Z"
   },
   {
    "duration": 0,
    "start_time": "2022-04-05T09:04:33.420Z"
   },
   {
    "duration": 0,
    "start_time": "2022-04-05T09:04:33.421Z"
   },
   {
    "duration": 0,
    "start_time": "2022-04-05T09:04:33.422Z"
   },
   {
    "duration": 0,
    "start_time": "2022-04-05T09:04:33.423Z"
   },
   {
    "duration": 0,
    "start_time": "2022-04-05T09:04:33.425Z"
   },
   {
    "duration": 4,
    "start_time": "2022-04-05T09:07:14.579Z"
   },
   {
    "duration": 780,
    "start_time": "2022-04-05T09:07:14.585Z"
   },
   {
    "duration": 13,
    "start_time": "2022-04-05T09:07:15.367Z"
   },
   {
    "duration": 19,
    "start_time": "2022-04-05T09:07:15.382Z"
   },
   {
    "duration": 130,
    "start_time": "2022-04-05T09:07:15.404Z"
   },
   {
    "duration": 94,
    "start_time": "2022-04-05T09:07:15.536Z"
   },
   {
    "duration": 431,
    "start_time": "2022-04-05T09:07:15.632Z"
   },
   {
    "duration": 437,
    "start_time": "2022-04-05T09:07:16.065Z"
   },
   {
    "duration": 434,
    "start_time": "2022-04-05T09:07:16.504Z"
   },
   {
    "duration": 908,
    "start_time": "2022-04-05T09:07:16.940Z"
   },
   {
    "duration": 54,
    "start_time": "2022-04-05T09:07:17.849Z"
   },
   {
    "duration": 55,
    "start_time": "2022-04-05T09:07:17.904Z"
   },
   {
    "duration": 498,
    "start_time": "2022-04-05T09:07:17.961Z"
   },
   {
    "duration": 5,
    "start_time": "2022-04-05T09:07:18.462Z"
   },
   {
    "duration": 5,
    "start_time": "2022-04-05T09:07:18.468Z"
   },
   {
    "duration": 34,
    "start_time": "2022-04-05T09:07:18.474Z"
   },
   {
    "duration": 64,
    "start_time": "2022-04-05T09:07:18.510Z"
   },
   {
    "duration": 52,
    "start_time": "2022-04-05T09:07:18.575Z"
   },
   {
    "duration": 44,
    "start_time": "2022-04-05T09:07:18.629Z"
   },
   {
    "duration": 337,
    "start_time": "2022-04-05T09:07:18.675Z"
   },
   {
    "duration": 487,
    "start_time": "2022-04-05T09:07:19.014Z"
   },
   {
    "duration": 42,
    "start_time": "2022-04-05T09:07:19.503Z"
   },
   {
    "duration": 271,
    "start_time": "2022-04-05T09:07:19.547Z"
   },
   {
    "duration": 420,
    "start_time": "2022-04-05T09:07:19.820Z"
   },
   {
    "duration": 42,
    "start_time": "2022-04-05T09:07:20.241Z"
   },
   {
    "duration": 327,
    "start_time": "2022-04-05T09:07:20.284Z"
   },
   {
    "duration": 423,
    "start_time": "2022-04-05T09:07:20.612Z"
   },
   {
    "duration": 31,
    "start_time": "2022-04-05T09:07:21.037Z"
   },
   {
    "duration": 57,
    "start_time": "2022-04-05T09:07:21.070Z"
   },
   {
    "duration": 2640,
    "start_time": "2022-04-05T09:07:21.128Z"
   },
   {
    "duration": 97,
    "start_time": "2022-04-05T09:07:23.770Z"
   },
   {
    "duration": 1483,
    "start_time": "2022-04-05T09:07:23.868Z"
   },
   {
    "duration": 3,
    "start_time": "2022-04-05T09:07:25.353Z"
   },
   {
    "duration": 20,
    "start_time": "2022-04-05T09:07:25.358Z"
   },
   {
    "duration": 252,
    "start_time": "2022-04-05T09:07:25.379Z"
   },
   {
    "duration": 1598,
    "start_time": "2022-04-05T09:07:25.632Z"
   },
   {
    "duration": 43,
    "start_time": "2022-04-05T09:07:27.231Z"
   },
   {
    "duration": 164,
    "start_time": "2022-04-05T09:07:27.276Z"
   },
   {
    "duration": 159,
    "start_time": "2022-04-05T09:07:27.442Z"
   },
   {
    "duration": 309,
    "start_time": "2022-04-05T09:07:27.602Z"
   },
   {
    "duration": 1470,
    "start_time": "2022-04-05T09:07:27.916Z"
   },
   {
    "duration": 41,
    "start_time": "2022-04-05T09:07:29.388Z"
   },
   {
    "duration": 7,
    "start_time": "2022-04-05T09:07:29.431Z"
   },
   {
    "duration": 28,
    "start_time": "2022-04-05T09:07:29.440Z"
   },
   {
    "duration": 5,
    "start_time": "2022-04-05T09:07:29.470Z"
   },
   {
    "duration": 1336,
    "start_time": "2022-04-05T09:07:29.477Z"
   },
   {
    "duration": 34,
    "start_time": "2022-04-05T09:07:30.815Z"
   },
   {
    "duration": 18,
    "start_time": "2022-04-05T09:07:30.851Z"
   },
   {
    "duration": 131,
    "start_time": "2022-04-05T09:07:30.871Z"
   },
   {
    "duration": 4,
    "start_time": "2022-04-05T09:07:31.004Z"
   },
   {
    "duration": 201,
    "start_time": "2022-04-05T09:07:31.010Z"
   },
   {
    "duration": 197,
    "start_time": "2022-04-05T09:07:31.213Z"
   },
   {
    "duration": 266,
    "start_time": "2022-04-05T09:07:31.412Z"
   },
   {
    "duration": 23,
    "start_time": "2022-04-05T09:07:31.680Z"
   },
   {
    "duration": 177,
    "start_time": "2022-04-05T09:07:31.705Z"
   },
   {
    "duration": 54,
    "start_time": "2022-04-05T09:07:31.884Z"
   },
   {
    "duration": 4,
    "start_time": "2022-04-05T09:07:31.940Z"
   },
   {
    "duration": 8,
    "start_time": "2022-04-05T09:07:31.945Z"
   },
   {
    "duration": 5,
    "start_time": "2022-04-05T09:07:31.955Z"
   },
   {
    "duration": 189,
    "start_time": "2022-04-05T09:07:31.962Z"
   },
   {
    "duration": 0,
    "start_time": "2022-04-05T09:07:32.153Z"
   },
   {
    "duration": 0,
    "start_time": "2022-04-05T09:07:32.154Z"
   },
   {
    "duration": 0,
    "start_time": "2022-04-05T09:07:32.155Z"
   },
   {
    "duration": 0,
    "start_time": "2022-04-05T09:07:32.155Z"
   },
   {
    "duration": 0,
    "start_time": "2022-04-05T09:07:32.157Z"
   },
   {
    "duration": 0,
    "start_time": "2022-04-05T09:07:32.157Z"
   },
   {
    "duration": 0,
    "start_time": "2022-04-05T09:07:32.158Z"
   },
   {
    "duration": 0,
    "start_time": "2022-04-05T09:07:32.159Z"
   },
   {
    "duration": 0,
    "start_time": "2022-04-05T09:07:32.160Z"
   },
   {
    "duration": 0,
    "start_time": "2022-04-05T09:07:32.161Z"
   },
   {
    "duration": 0,
    "start_time": "2022-04-05T09:07:32.161Z"
   },
   {
    "duration": 0,
    "start_time": "2022-04-05T09:07:32.163Z"
   },
   {
    "duration": 4,
    "start_time": "2022-04-05T09:09:18.018Z"
   },
   {
    "duration": 11,
    "start_time": "2022-04-05T09:09:34.898Z"
   },
   {
    "duration": 3,
    "start_time": "2022-04-05T09:09:55.658Z"
   },
   {
    "duration": 4,
    "start_time": "2022-04-05T09:10:05.618Z"
   },
   {
    "duration": 343,
    "start_time": "2022-04-05T09:10:07.138Z"
   },
   {
    "duration": 4,
    "start_time": "2022-04-05T09:15:55.436Z"
   },
   {
    "duration": 730,
    "start_time": "2022-04-05T09:15:55.442Z"
   },
   {
    "duration": 13,
    "start_time": "2022-04-05T09:15:56.174Z"
   },
   {
    "duration": 5,
    "start_time": "2022-04-05T09:15:56.189Z"
   },
   {
    "duration": 138,
    "start_time": "2022-04-05T09:15:56.201Z"
   },
   {
    "duration": 84,
    "start_time": "2022-04-05T09:15:56.340Z"
   },
   {
    "duration": 416,
    "start_time": "2022-04-05T09:15:56.425Z"
   },
   {
    "duration": 387,
    "start_time": "2022-04-05T09:15:56.843Z"
   },
   {
    "duration": 391,
    "start_time": "2022-04-05T09:15:57.231Z"
   },
   {
    "duration": 801,
    "start_time": "2022-04-05T09:15:57.623Z"
   },
   {
    "duration": 48,
    "start_time": "2022-04-05T09:15:58.425Z"
   },
   {
    "duration": 73,
    "start_time": "2022-04-05T09:15:58.476Z"
   },
   {
    "duration": 475,
    "start_time": "2022-04-05T09:15:58.551Z"
   },
   {
    "duration": 4,
    "start_time": "2022-04-05T09:15:59.030Z"
   },
   {
    "duration": 5,
    "start_time": "2022-04-05T09:15:59.036Z"
   },
   {
    "duration": 109,
    "start_time": "2022-04-05T09:15:59.043Z"
   },
   {
    "duration": 57,
    "start_time": "2022-04-05T09:15:59.155Z"
   },
   {
    "duration": 52,
    "start_time": "2022-04-05T09:15:59.215Z"
   },
   {
    "duration": 57,
    "start_time": "2022-04-05T09:15:59.268Z"
   },
   {
    "duration": 331,
    "start_time": "2022-04-05T09:15:59.326Z"
   },
   {
    "duration": 445,
    "start_time": "2022-04-05T09:15:59.659Z"
   },
   {
    "duration": 43,
    "start_time": "2022-04-05T09:16:00.106Z"
   },
   {
    "duration": 279,
    "start_time": "2022-04-05T09:16:00.151Z"
   },
   {
    "duration": 415,
    "start_time": "2022-04-05T09:16:00.433Z"
   },
   {
    "duration": 58,
    "start_time": "2022-04-05T09:16:00.849Z"
   },
   {
    "duration": 325,
    "start_time": "2022-04-05T09:16:00.908Z"
   },
   {
    "duration": 424,
    "start_time": "2022-04-05T09:16:01.235Z"
   },
   {
    "duration": 41,
    "start_time": "2022-04-05T09:16:01.661Z"
   },
   {
    "duration": 44,
    "start_time": "2022-04-05T09:16:01.704Z"
   },
   {
    "duration": 3408,
    "start_time": "2022-04-05T09:16:01.750Z"
   },
   {
    "duration": 98,
    "start_time": "2022-04-05T09:16:05.160Z"
   },
   {
    "duration": 1513,
    "start_time": "2022-04-05T09:16:05.260Z"
   },
   {
    "duration": 5,
    "start_time": "2022-04-05T09:16:06.774Z"
   },
   {
    "duration": 12,
    "start_time": "2022-04-05T09:16:06.780Z"
   },
   {
    "duration": 234,
    "start_time": "2022-04-05T09:16:06.794Z"
   },
   {
    "duration": 1665,
    "start_time": "2022-04-05T09:16:07.030Z"
   },
   {
    "duration": 46,
    "start_time": "2022-04-05T09:16:08.697Z"
   },
   {
    "duration": 170,
    "start_time": "2022-04-05T09:16:08.745Z"
   },
   {
    "duration": 178,
    "start_time": "2022-04-05T09:16:08.916Z"
   },
   {
    "duration": 330,
    "start_time": "2022-04-05T09:16:09.096Z"
   },
   {
    "duration": 1551,
    "start_time": "2022-04-05T09:16:09.431Z"
   },
   {
    "duration": 49,
    "start_time": "2022-04-05T09:16:10.984Z"
   },
   {
    "duration": 7,
    "start_time": "2022-04-05T09:16:11.035Z"
   },
   {
    "duration": 32,
    "start_time": "2022-04-05T09:16:11.044Z"
   },
   {
    "duration": 29,
    "start_time": "2022-04-05T09:16:11.077Z"
   },
   {
    "duration": 1339,
    "start_time": "2022-04-05T09:16:11.108Z"
   },
   {
    "duration": 35,
    "start_time": "2022-04-05T09:16:12.449Z"
   },
   {
    "duration": 31,
    "start_time": "2022-04-05T09:16:12.486Z"
   },
   {
    "duration": 121,
    "start_time": "2022-04-05T09:16:12.518Z"
   },
   {
    "duration": 4,
    "start_time": "2022-04-05T09:16:12.641Z"
   },
   {
    "duration": 194,
    "start_time": "2022-04-05T09:16:12.646Z"
   },
   {
    "duration": 203,
    "start_time": "2022-04-05T09:16:12.841Z"
   },
   {
    "duration": 278,
    "start_time": "2022-04-05T09:16:13.046Z"
   },
   {
    "duration": 14,
    "start_time": "2022-04-05T09:16:13.326Z"
   },
   {
    "duration": 65,
    "start_time": "2022-04-05T09:16:13.342Z"
   },
   {
    "duration": 49,
    "start_time": "2022-04-05T09:16:13.409Z"
   },
   {
    "duration": 4,
    "start_time": "2022-04-05T09:16:13.460Z"
   },
   {
    "duration": 10,
    "start_time": "2022-04-05T09:16:13.466Z"
   },
   {
    "duration": 5,
    "start_time": "2022-04-05T09:16:13.478Z"
   },
   {
    "duration": 3,
    "start_time": "2022-04-05T09:16:13.501Z"
   },
   {
    "duration": 6,
    "start_time": "2022-04-05T09:16:13.506Z"
   },
   {
    "duration": 22460,
    "start_time": "2022-04-05T09:16:13.514Z"
   },
   {
    "duration": 3,
    "start_time": "2022-04-05T09:16:35.975Z"
   },
   {
    "duration": 30,
    "start_time": "2022-04-05T09:16:35.979Z"
   },
   {
    "duration": 1775,
    "start_time": "2022-04-05T09:19:52.784Z"
   },
   {
    "duration": 741,
    "start_time": "2022-04-05T09:19:54.561Z"
   },
   {
    "duration": 16,
    "start_time": "2022-04-05T09:19:55.303Z"
   },
   {
    "duration": 2,
    "start_time": "2022-04-05T09:19:55.321Z"
   },
   {
    "duration": 139,
    "start_time": "2022-04-05T09:19:55.326Z"
   },
   {
    "duration": 87,
    "start_time": "2022-04-05T09:19:55.467Z"
   },
   {
    "duration": 406,
    "start_time": "2022-04-05T09:19:55.555Z"
   },
   {
    "duration": 421,
    "start_time": "2022-04-05T09:19:55.963Z"
   },
   {
    "duration": 385,
    "start_time": "2022-04-05T09:19:56.385Z"
   },
   {
    "duration": 768,
    "start_time": "2022-04-05T09:19:56.772Z"
   },
   {
    "duration": 45,
    "start_time": "2022-04-05T09:19:57.541Z"
   },
   {
    "duration": 65,
    "start_time": "2022-04-05T09:19:57.587Z"
   },
   {
    "duration": 491,
    "start_time": "2022-04-05T09:19:57.654Z"
   },
   {
    "duration": 4,
    "start_time": "2022-04-05T09:19:58.148Z"
   },
   {
    "duration": 6,
    "start_time": "2022-04-05T09:19:58.154Z"
   },
   {
    "duration": 8,
    "start_time": "2022-04-05T09:19:58.161Z"
   },
   {
    "duration": 58,
    "start_time": "2022-04-05T09:19:58.170Z"
   },
   {
    "duration": 51,
    "start_time": "2022-04-05T09:19:58.229Z"
   },
   {
    "duration": 58,
    "start_time": "2022-04-05T09:19:58.282Z"
   },
   {
    "duration": 307,
    "start_time": "2022-04-05T09:19:58.341Z"
   },
   {
    "duration": 420,
    "start_time": "2022-04-05T09:19:58.649Z"
   },
   {
    "duration": 51,
    "start_time": "2022-04-05T09:19:59.070Z"
   },
   {
    "duration": 250,
    "start_time": "2022-04-05T09:19:59.123Z"
   },
   {
    "duration": 488,
    "start_time": "2022-04-05T09:19:59.375Z"
   },
   {
    "duration": 51,
    "start_time": "2022-04-05T09:19:59.864Z"
   },
   {
    "duration": 297,
    "start_time": "2022-04-05T09:19:59.917Z"
   },
   {
    "duration": 434,
    "start_time": "2022-04-05T09:20:00.216Z"
   },
   {
    "duration": 33,
    "start_time": "2022-04-05T09:20:00.652Z"
   },
   {
    "duration": 45,
    "start_time": "2022-04-05T09:20:00.700Z"
   },
   {
    "duration": 2658,
    "start_time": "2022-04-05T09:20:00.747Z"
   },
   {
    "duration": 103,
    "start_time": "2022-04-05T09:20:03.407Z"
   },
   {
    "duration": 1459,
    "start_time": "2022-04-05T09:20:03.512Z"
   },
   {
    "duration": 4,
    "start_time": "2022-04-05T09:20:04.973Z"
   },
   {
    "duration": 17,
    "start_time": "2022-04-05T09:20:04.979Z"
   },
   {
    "duration": 241,
    "start_time": "2022-04-05T09:20:04.998Z"
   },
   {
    "duration": 1564,
    "start_time": "2022-04-05T09:20:05.241Z"
   },
   {
    "duration": 51,
    "start_time": "2022-04-05T09:20:06.807Z"
   },
   {
    "duration": 162,
    "start_time": "2022-04-05T09:20:06.860Z"
   },
   {
    "duration": 150,
    "start_time": "2022-04-05T09:20:07.024Z"
   },
   {
    "duration": 320,
    "start_time": "2022-04-05T09:20:07.176Z"
   },
   {
    "duration": 1610,
    "start_time": "2022-04-05T09:20:07.501Z"
   },
   {
    "duration": 41,
    "start_time": "2022-04-05T09:20:09.113Z"
   },
   {
    "duration": 6,
    "start_time": "2022-04-05T09:20:09.155Z"
   },
   {
    "duration": 46,
    "start_time": "2022-04-05T09:20:09.163Z"
   },
   {
    "duration": 6,
    "start_time": "2022-04-05T09:20:09.211Z"
   },
   {
    "duration": 1309,
    "start_time": "2022-04-05T09:20:09.218Z"
   },
   {
    "duration": 39,
    "start_time": "2022-04-05T09:20:10.529Z"
   },
   {
    "duration": 34,
    "start_time": "2022-04-05T09:20:10.570Z"
   },
   {
    "duration": 117,
    "start_time": "2022-04-05T09:20:10.606Z"
   },
   {
    "duration": 4,
    "start_time": "2022-04-05T09:20:10.725Z"
   },
   {
    "duration": 195,
    "start_time": "2022-04-05T09:20:10.731Z"
   },
   {
    "duration": 220,
    "start_time": "2022-04-05T09:20:10.928Z"
   },
   {
    "duration": 280,
    "start_time": "2022-04-05T09:20:11.150Z"
   },
   {
    "duration": 15,
    "start_time": "2022-04-05T09:20:11.431Z"
   },
   {
    "duration": 74,
    "start_time": "2022-04-05T09:20:11.448Z"
   },
   {
    "duration": 51,
    "start_time": "2022-04-05T09:20:11.524Z"
   },
   {
    "duration": 4,
    "start_time": "2022-04-05T09:20:11.577Z"
   },
   {
    "duration": 4,
    "start_time": "2022-04-05T09:20:11.583Z"
   },
   {
    "duration": 4,
    "start_time": "2022-04-05T09:20:11.601Z"
   },
   {
    "duration": 10,
    "start_time": "2022-04-05T09:20:11.606Z"
   },
   {
    "duration": 5,
    "start_time": "2022-04-05T09:20:11.618Z"
   },
   {
    "duration": 22465,
    "start_time": "2022-04-05T09:20:11.625Z"
   },
   {
    "duration": 10,
    "start_time": "2022-04-05T09:20:34.091Z"
   },
   {
    "duration": 5,
    "start_time": "2022-04-05T09:20:34.103Z"
   },
   {
    "duration": 2475,
    "start_time": "2022-04-05T09:22:48.225Z"
   },
   {
    "duration": 1387,
    "start_time": "2022-04-05T09:22:50.702Z"
   },
   {
    "duration": 24,
    "start_time": "2022-04-05T09:22:52.091Z"
   },
   {
    "duration": 2,
    "start_time": "2022-04-05T09:22:52.117Z"
   },
   {
    "duration": 136,
    "start_time": "2022-04-05T09:22:52.121Z"
   },
   {
    "duration": 87,
    "start_time": "2022-04-05T09:22:52.259Z"
   },
   {
    "duration": 425,
    "start_time": "2022-04-05T09:22:52.348Z"
   },
   {
    "duration": 431,
    "start_time": "2022-04-05T09:22:52.775Z"
   },
   {
    "duration": 435,
    "start_time": "2022-04-05T09:22:53.208Z"
   },
   {
    "duration": 816,
    "start_time": "2022-04-05T09:22:53.645Z"
   },
   {
    "duration": 51,
    "start_time": "2022-04-05T09:22:54.463Z"
   },
   {
    "duration": 56,
    "start_time": "2022-04-05T09:22:54.515Z"
   },
   {
    "duration": 521,
    "start_time": "2022-04-05T09:22:54.572Z"
   },
   {
    "duration": 5,
    "start_time": "2022-04-05T09:22:55.100Z"
   },
   {
    "duration": 8,
    "start_time": "2022-04-05T09:22:55.106Z"
   },
   {
    "duration": 7,
    "start_time": "2022-04-05T09:22:55.116Z"
   },
   {
    "duration": 50,
    "start_time": "2022-04-05T09:22:55.125Z"
   },
   {
    "duration": 64,
    "start_time": "2022-04-05T09:22:55.177Z"
   },
   {
    "duration": 45,
    "start_time": "2022-04-05T09:22:55.242Z"
   },
   {
    "duration": 306,
    "start_time": "2022-04-05T09:22:55.289Z"
   },
   {
    "duration": 450,
    "start_time": "2022-04-05T09:22:55.596Z"
   },
   {
    "duration": 55,
    "start_time": "2022-04-05T09:22:56.047Z"
   },
   {
    "duration": 260,
    "start_time": "2022-04-05T09:22:56.104Z"
   },
   {
    "duration": 497,
    "start_time": "2022-04-05T09:22:56.366Z"
   },
   {
    "duration": 53,
    "start_time": "2022-04-05T09:22:56.865Z"
   },
   {
    "duration": 296,
    "start_time": "2022-04-05T09:22:56.919Z"
   },
   {
    "duration": 417,
    "start_time": "2022-04-05T09:22:57.217Z"
   },
   {
    "duration": 35,
    "start_time": "2022-04-05T09:22:57.636Z"
   },
   {
    "duration": 59,
    "start_time": "2022-04-05T09:22:57.673Z"
   },
   {
    "duration": 2643,
    "start_time": "2022-04-05T09:22:57.733Z"
   },
   {
    "duration": 110,
    "start_time": "2022-04-05T09:23:00.378Z"
   },
   {
    "duration": 1501,
    "start_time": "2022-04-05T09:23:00.490Z"
   },
   {
    "duration": 5,
    "start_time": "2022-04-05T09:23:01.992Z"
   },
   {
    "duration": 6,
    "start_time": "2022-04-05T09:23:02.000Z"
   },
   {
    "duration": 243,
    "start_time": "2022-04-05T09:23:02.007Z"
   },
   {
    "duration": 1690,
    "start_time": "2022-04-05T09:23:02.252Z"
   },
   {
    "duration": 57,
    "start_time": "2022-04-05T09:23:03.944Z"
   },
   {
    "duration": 145,
    "start_time": "2022-04-05T09:23:04.003Z"
   },
   {
    "duration": 151,
    "start_time": "2022-04-05T09:23:04.150Z"
   },
   {
    "duration": 304,
    "start_time": "2022-04-05T09:23:04.303Z"
   },
   {
    "duration": 1524,
    "start_time": "2022-04-05T09:23:04.612Z"
   },
   {
    "duration": 43,
    "start_time": "2022-04-05T09:23:06.138Z"
   },
   {
    "duration": 20,
    "start_time": "2022-04-05T09:23:06.183Z"
   },
   {
    "duration": 29,
    "start_time": "2022-04-05T09:23:06.205Z"
   },
   {
    "duration": 7,
    "start_time": "2022-04-05T09:23:06.236Z"
   },
   {
    "duration": 1406,
    "start_time": "2022-04-05T09:23:06.245Z"
   },
   {
    "duration": 51,
    "start_time": "2022-04-05T09:23:07.652Z"
   },
   {
    "duration": 18,
    "start_time": "2022-04-05T09:23:07.704Z"
   },
   {
    "duration": 133,
    "start_time": "2022-04-05T09:23:07.724Z"
   },
   {
    "duration": 4,
    "start_time": "2022-04-05T09:23:07.859Z"
   },
   {
    "duration": 206,
    "start_time": "2022-04-05T09:23:07.865Z"
   },
   {
    "duration": 211,
    "start_time": "2022-04-05T09:23:08.073Z"
   },
   {
    "duration": 289,
    "start_time": "2022-04-05T09:23:08.286Z"
   },
   {
    "duration": 15,
    "start_time": "2022-04-05T09:23:08.577Z"
   },
   {
    "duration": 57,
    "start_time": "2022-04-05T09:23:08.601Z"
   },
   {
    "duration": 70,
    "start_time": "2022-04-05T09:23:08.660Z"
   },
   {
    "duration": 5,
    "start_time": "2022-04-05T09:23:08.732Z"
   },
   {
    "duration": 8,
    "start_time": "2022-04-05T09:23:08.739Z"
   },
   {
    "duration": 9,
    "start_time": "2022-04-05T09:23:08.749Z"
   },
   {
    "duration": 10,
    "start_time": "2022-04-05T09:23:08.759Z"
   },
   {
    "duration": 4,
    "start_time": "2022-04-05T09:23:08.771Z"
   },
   {
    "duration": 39487,
    "start_time": "2022-04-05T09:23:08.777Z"
   },
   {
    "duration": 2,
    "start_time": "2022-04-05T09:23:48.266Z"
   },
   {
    "duration": 6,
    "start_time": "2022-04-05T09:23:48.270Z"
   },
   {
    "duration": 1859618,
    "start_time": "2022-04-05T09:23:48.277Z"
   },
   {
    "duration": 1948,
    "start_time": "2022-04-05T09:59:41.699Z"
   },
   {
    "duration": 768,
    "start_time": "2022-04-05T09:59:43.649Z"
   },
   {
    "duration": 17,
    "start_time": "2022-04-05T09:59:44.419Z"
   },
   {
    "duration": 11,
    "start_time": "2022-04-05T09:59:44.438Z"
   },
   {
    "duration": 144,
    "start_time": "2022-04-05T09:59:44.451Z"
   },
   {
    "duration": 86,
    "start_time": "2022-04-05T09:59:44.597Z"
   },
   {
    "duration": 446,
    "start_time": "2022-04-05T09:59:44.685Z"
   },
   {
    "duration": 420,
    "start_time": "2022-04-05T09:59:45.132Z"
   },
   {
    "duration": 391,
    "start_time": "2022-04-05T09:59:45.553Z"
   },
   {
    "duration": 796,
    "start_time": "2022-04-05T09:59:45.945Z"
   },
   {
    "duration": 44,
    "start_time": "2022-04-05T09:59:46.742Z"
   },
   {
    "duration": 64,
    "start_time": "2022-04-05T09:59:46.788Z"
   },
   {
    "duration": 517,
    "start_time": "2022-04-05T09:59:46.853Z"
   },
   {
    "duration": 4,
    "start_time": "2022-04-05T09:59:47.373Z"
   },
   {
    "duration": 21,
    "start_time": "2022-04-05T09:59:47.378Z"
   },
   {
    "duration": 10,
    "start_time": "2022-04-05T09:59:47.401Z"
   },
   {
    "duration": 52,
    "start_time": "2022-04-05T09:59:47.412Z"
   },
   {
    "duration": 61,
    "start_time": "2022-04-05T09:59:47.466Z"
   },
   {
    "duration": 43,
    "start_time": "2022-04-05T09:59:47.529Z"
   },
   {
    "duration": 300,
    "start_time": "2022-04-05T09:59:47.574Z"
   },
   {
    "duration": 440,
    "start_time": "2022-04-05T09:59:47.876Z"
   },
   {
    "duration": 42,
    "start_time": "2022-04-05T09:59:48.318Z"
   },
   {
    "duration": 267,
    "start_time": "2022-04-05T09:59:48.362Z"
   },
   {
    "duration": 491,
    "start_time": "2022-04-05T09:59:48.631Z"
   },
   {
    "duration": 43,
    "start_time": "2022-04-05T09:59:49.123Z"
   },
   {
    "duration": 287,
    "start_time": "2022-04-05T09:59:49.168Z"
   },
   {
    "duration": 420,
    "start_time": "2022-04-05T09:59:49.457Z"
   },
   {
    "duration": 39,
    "start_time": "2022-04-05T09:59:49.879Z"
   },
   {
    "duration": 42,
    "start_time": "2022-04-05T09:59:49.920Z"
   },
   {
    "duration": 2598,
    "start_time": "2022-04-05T09:59:49.964Z"
   },
   {
    "duration": 106,
    "start_time": "2022-04-05T09:59:52.564Z"
   },
   {
    "duration": 1479,
    "start_time": "2022-04-05T09:59:52.672Z"
   },
   {
    "duration": 5,
    "start_time": "2022-04-05T09:59:54.153Z"
   },
   {
    "duration": 13,
    "start_time": "2022-04-05T09:59:54.159Z"
   },
   {
    "duration": 227,
    "start_time": "2022-04-05T09:59:54.174Z"
   },
   {
    "duration": 1625,
    "start_time": "2022-04-05T09:59:54.402Z"
   },
   {
    "duration": 47,
    "start_time": "2022-04-05T09:59:56.028Z"
   },
   {
    "duration": 154,
    "start_time": "2022-04-05T09:59:56.077Z"
   },
   {
    "duration": 142,
    "start_time": "2022-04-05T09:59:56.233Z"
   },
   {
    "duration": 314,
    "start_time": "2022-04-05T09:59:56.376Z"
   },
   {
    "duration": 1586,
    "start_time": "2022-04-05T09:59:56.695Z"
   },
   {
    "duration": 53,
    "start_time": "2022-04-05T09:59:58.283Z"
   },
   {
    "duration": 6,
    "start_time": "2022-04-05T09:59:58.338Z"
   },
   {
    "duration": 52,
    "start_time": "2022-04-05T09:59:58.346Z"
   },
   {
    "duration": 6,
    "start_time": "2022-04-05T09:59:58.400Z"
   },
   {
    "duration": 1382,
    "start_time": "2022-04-05T09:59:58.407Z"
   },
   {
    "duration": 37,
    "start_time": "2022-04-05T09:59:59.791Z"
   },
   {
    "duration": 18,
    "start_time": "2022-04-05T09:59:59.830Z"
   },
   {
    "duration": 128,
    "start_time": "2022-04-05T09:59:59.849Z"
   },
   {
    "duration": 4,
    "start_time": "2022-04-05T09:59:59.978Z"
   },
   {
    "duration": 211,
    "start_time": "2022-04-05T09:59:59.984Z"
   },
   {
    "duration": 191,
    "start_time": "2022-04-05T10:00:00.197Z"
   },
   {
    "duration": 262,
    "start_time": "2022-04-05T10:00:00.389Z"
   },
   {
    "duration": 13,
    "start_time": "2022-04-05T10:00:00.653Z"
   },
   {
    "duration": 67,
    "start_time": "2022-04-05T10:00:00.668Z"
   },
   {
    "duration": 53,
    "start_time": "2022-04-05T10:00:00.737Z"
   },
   {
    "duration": 5,
    "start_time": "2022-04-05T10:00:00.801Z"
   },
   {
    "duration": 10,
    "start_time": "2022-04-05T10:00:00.807Z"
   },
   {
    "duration": 10,
    "start_time": "2022-04-05T10:00:00.819Z"
   },
   {
    "duration": 15,
    "start_time": "2022-04-05T10:00:00.831Z"
   },
   {
    "duration": 6,
    "start_time": "2022-04-05T10:00:00.847Z"
   },
   {
    "duration": 11883,
    "start_time": "2022-04-05T10:00:00.854Z"
   },
   {
    "duration": 2,
    "start_time": "2022-04-05T10:00:12.739Z"
   },
   {
    "duration": 8,
    "start_time": "2022-04-05T10:00:12.743Z"
   },
   {
    "duration": 277992,
    "start_time": "2022-04-05T10:00:12.752Z"
   },
   {
    "duration": 3,
    "start_time": "2022-04-05T10:04:50.746Z"
   },
   {
    "duration": 72961,
    "start_time": "2022-04-05T10:04:50.750Z"
   },
   {
    "duration": 3,
    "start_time": "2022-04-05T10:06:03.713Z"
   },
   {
    "duration": 2081,
    "start_time": "2022-04-05T10:07:28.789Z"
   },
   {
    "duration": 774,
    "start_time": "2022-04-05T10:07:30.872Z"
   },
   {
    "duration": 17,
    "start_time": "2022-04-05T10:07:31.648Z"
   },
   {
    "duration": 3,
    "start_time": "2022-04-05T10:07:31.666Z"
   },
   {
    "duration": 151,
    "start_time": "2022-04-05T10:07:31.671Z"
   },
   {
    "duration": 93,
    "start_time": "2022-04-05T10:07:31.824Z"
   },
   {
    "duration": 453,
    "start_time": "2022-04-05T10:07:31.919Z"
   },
   {
    "duration": 437,
    "start_time": "2022-04-05T10:07:32.374Z"
   },
   {
    "duration": 405,
    "start_time": "2022-04-05T10:07:32.813Z"
   },
   {
    "duration": 842,
    "start_time": "2022-04-05T10:07:33.219Z"
   },
   {
    "duration": 55,
    "start_time": "2022-04-05T10:07:34.063Z"
   },
   {
    "duration": 53,
    "start_time": "2022-04-05T10:07:34.119Z"
   },
   {
    "duration": 525,
    "start_time": "2022-04-05T10:07:34.173Z"
   },
   {
    "duration": 5,
    "start_time": "2022-04-05T10:07:34.701Z"
   },
   {
    "duration": 4,
    "start_time": "2022-04-05T10:07:34.708Z"
   },
   {
    "duration": 4,
    "start_time": "2022-04-05T10:07:34.714Z"
   },
   {
    "duration": 51,
    "start_time": "2022-04-05T10:07:34.720Z"
   },
   {
    "duration": 68,
    "start_time": "2022-04-05T10:07:34.773Z"
   },
   {
    "duration": 44,
    "start_time": "2022-04-05T10:07:34.843Z"
   },
   {
    "duration": 288,
    "start_time": "2022-04-05T10:07:34.901Z"
   },
   {
    "duration": 425,
    "start_time": "2022-04-05T10:07:35.190Z"
   },
   {
    "duration": 42,
    "start_time": "2022-04-05T10:07:35.617Z"
   },
   {
    "duration": 259,
    "start_time": "2022-04-05T10:07:35.661Z"
   },
   {
    "duration": 503,
    "start_time": "2022-04-05T10:07:35.922Z"
   },
   {
    "duration": 46,
    "start_time": "2022-04-05T10:07:36.426Z"
   },
   {
    "duration": 302,
    "start_time": "2022-04-05T10:07:36.474Z"
   },
   {
    "duration": 428,
    "start_time": "2022-04-05T10:07:36.777Z"
   },
   {
    "duration": 33,
    "start_time": "2022-04-05T10:07:37.206Z"
   },
   {
    "duration": 45,
    "start_time": "2022-04-05T10:07:37.240Z"
   },
   {
    "duration": 2661,
    "start_time": "2022-04-05T10:07:37.300Z"
   },
   {
    "duration": 106,
    "start_time": "2022-04-05T10:07:39.962Z"
   },
   {
    "duration": 1521,
    "start_time": "2022-04-05T10:07:40.070Z"
   },
   {
    "duration": 4,
    "start_time": "2022-04-05T10:07:41.601Z"
   },
   {
    "duration": 4,
    "start_time": "2022-04-05T10:07:41.607Z"
   },
   {
    "duration": 228,
    "start_time": "2022-04-05T10:07:41.613Z"
   },
   {
    "duration": 1676,
    "start_time": "2022-04-05T10:07:41.843Z"
   },
   {
    "duration": 44,
    "start_time": "2022-04-05T10:07:43.521Z"
   },
   {
    "duration": 155,
    "start_time": "2022-04-05T10:07:43.567Z"
   },
   {
    "duration": 145,
    "start_time": "2022-04-05T10:07:43.724Z"
   },
   {
    "duration": 287,
    "start_time": "2022-04-05T10:07:43.871Z"
   },
   {
    "duration": 1479,
    "start_time": "2022-04-05T10:07:44.162Z"
   },
   {
    "duration": 41,
    "start_time": "2022-04-05T10:07:45.643Z"
   },
   {
    "duration": 16,
    "start_time": "2022-04-05T10:07:45.685Z"
   },
   {
    "duration": 27,
    "start_time": "2022-04-05T10:07:45.702Z"
   },
   {
    "duration": 6,
    "start_time": "2022-04-05T10:07:45.730Z"
   },
   {
    "duration": 1374,
    "start_time": "2022-04-05T10:07:45.737Z"
   },
   {
    "duration": 40,
    "start_time": "2022-04-05T10:07:47.112Z"
   },
   {
    "duration": 17,
    "start_time": "2022-04-05T10:07:47.153Z"
   },
   {
    "duration": 133,
    "start_time": "2022-04-05T10:07:47.171Z"
   },
   {
    "duration": 4,
    "start_time": "2022-04-05T10:07:47.305Z"
   },
   {
    "duration": 194,
    "start_time": "2022-04-05T10:07:47.310Z"
   },
   {
    "duration": 189,
    "start_time": "2022-04-05T10:07:47.505Z"
   },
   {
    "duration": 260,
    "start_time": "2022-04-05T10:07:47.695Z"
   },
   {
    "duration": 14,
    "start_time": "2022-04-05T10:07:47.957Z"
   },
   {
    "duration": 71,
    "start_time": "2022-04-05T10:07:47.973Z"
   },
   {
    "duration": 54,
    "start_time": "2022-04-05T10:07:48.047Z"
   },
   {
    "duration": 4,
    "start_time": "2022-04-05T10:07:48.103Z"
   },
   {
    "duration": 6,
    "start_time": "2022-04-05T10:07:48.108Z"
   },
   {
    "duration": 4,
    "start_time": "2022-04-05T10:07:48.115Z"
   },
   {
    "duration": 6,
    "start_time": "2022-04-05T10:07:48.121Z"
   },
   {
    "duration": 4,
    "start_time": "2022-04-05T10:07:48.128Z"
   },
   {
    "duration": 11820,
    "start_time": "2022-04-05T10:07:48.134Z"
   },
   {
    "duration": 3,
    "start_time": "2022-04-05T10:07:59.956Z"
   },
   {
    "duration": 8,
    "start_time": "2022-04-05T10:07:59.962Z"
   },
   {
    "duration": 330,
    "start_time": "2022-04-05T10:07:59.971Z"
   },
   {
    "duration": 0,
    "start_time": "2022-04-05T10:08:00.303Z"
   },
   {
    "duration": 0,
    "start_time": "2022-04-05T10:08:00.305Z"
   },
   {
    "duration": 0,
    "start_time": "2022-04-05T10:08:00.306Z"
   },
   {
    "duration": 0,
    "start_time": "2022-04-05T10:08:00.307Z"
   },
   {
    "duration": 0,
    "start_time": "2022-04-05T10:08:00.308Z"
   },
   {
    "duration": 0,
    "start_time": "2022-04-05T10:08:00.309Z"
   },
   {
    "duration": 0,
    "start_time": "2022-04-05T10:08:00.310Z"
   },
   {
    "duration": 0,
    "start_time": "2022-04-05T10:08:00.311Z"
   },
   {
    "duration": 0,
    "start_time": "2022-04-05T10:08:00.312Z"
   },
   {
    "duration": 0,
    "start_time": "2022-04-05T10:08:00.314Z"
   },
   {
    "duration": 3,
    "start_time": "2022-04-05T10:08:29.781Z"
   },
   {
    "duration": 110,
    "start_time": "2022-04-05T10:08:47.501Z"
   },
   {
    "duration": 4,
    "start_time": "2022-04-05T10:09:54.582Z"
   },
   {
    "duration": 798,
    "start_time": "2022-04-05T10:09:54.588Z"
   },
   {
    "duration": 18,
    "start_time": "2022-04-05T10:09:55.388Z"
   },
   {
    "duration": 6,
    "start_time": "2022-04-05T10:09:55.407Z"
   },
   {
    "duration": 130,
    "start_time": "2022-04-05T10:09:55.415Z"
   },
   {
    "duration": 94,
    "start_time": "2022-04-05T10:09:55.546Z"
   },
   {
    "duration": 398,
    "start_time": "2022-04-05T10:09:55.642Z"
   },
   {
    "duration": 443,
    "start_time": "2022-04-05T10:09:56.042Z"
   },
   {
    "duration": 432,
    "start_time": "2022-04-05T10:09:56.486Z"
   },
   {
    "duration": 873,
    "start_time": "2022-04-05T10:09:56.920Z"
   },
   {
    "duration": 50,
    "start_time": "2022-04-05T10:09:57.800Z"
   },
   {
    "duration": 76,
    "start_time": "2022-04-05T10:09:57.852Z"
   },
   {
    "duration": 525,
    "start_time": "2022-04-05T10:09:57.929Z"
   },
   {
    "duration": 5,
    "start_time": "2022-04-05T10:09:58.459Z"
   },
   {
    "duration": 14,
    "start_time": "2022-04-05T10:09:58.466Z"
   },
   {
    "duration": 14,
    "start_time": "2022-04-05T10:09:58.482Z"
   },
   {
    "duration": 69,
    "start_time": "2022-04-05T10:09:58.498Z"
   },
   {
    "duration": 67,
    "start_time": "2022-04-05T10:09:58.569Z"
   },
   {
    "duration": 56,
    "start_time": "2022-04-05T10:09:58.638Z"
   },
   {
    "duration": 332,
    "start_time": "2022-04-05T10:09:58.701Z"
   },
   {
    "duration": 534,
    "start_time": "2022-04-05T10:09:59.035Z"
   },
   {
    "duration": 76,
    "start_time": "2022-04-05T10:09:59.571Z"
   },
   {
    "duration": 270,
    "start_time": "2022-04-05T10:09:59.649Z"
   },
   {
    "duration": 425,
    "start_time": "2022-04-05T10:09:59.921Z"
   },
   {
    "duration": 53,
    "start_time": "2022-04-05T10:10:00.348Z"
   },
   {
    "duration": 316,
    "start_time": "2022-04-05T10:10:00.403Z"
   },
   {
    "duration": 438,
    "start_time": "2022-04-05T10:10:00.721Z"
   },
   {
    "duration": 43,
    "start_time": "2022-04-05T10:10:01.161Z"
   },
   {
    "duration": 44,
    "start_time": "2022-04-05T10:10:01.206Z"
   },
   {
    "duration": 2763,
    "start_time": "2022-04-05T10:10:01.252Z"
   },
   {
    "duration": 104,
    "start_time": "2022-04-05T10:10:04.017Z"
   },
   {
    "duration": 1712,
    "start_time": "2022-04-05T10:10:04.122Z"
   },
   {
    "duration": 6,
    "start_time": "2022-04-05T10:10:05.836Z"
   },
   {
    "duration": 9,
    "start_time": "2022-04-05T10:10:05.844Z"
   },
   {
    "duration": 247,
    "start_time": "2022-04-05T10:10:05.854Z"
   },
   {
    "duration": 1664,
    "start_time": "2022-04-05T10:10:06.103Z"
   },
   {
    "duration": 55,
    "start_time": "2022-04-05T10:10:07.768Z"
   },
   {
    "duration": 154,
    "start_time": "2022-04-05T10:10:07.825Z"
   },
   {
    "duration": 163,
    "start_time": "2022-04-05T10:10:07.981Z"
   },
   {
    "duration": 341,
    "start_time": "2022-04-05T10:10:08.145Z"
   },
   {
    "duration": 1487,
    "start_time": "2022-04-05T10:10:08.490Z"
   },
   {
    "duration": 53,
    "start_time": "2022-04-05T10:10:09.979Z"
   },
   {
    "duration": 8,
    "start_time": "2022-04-05T10:10:10.034Z"
   },
   {
    "duration": 57,
    "start_time": "2022-04-05T10:10:10.044Z"
   },
   {
    "duration": 8,
    "start_time": "2022-04-05T10:10:10.103Z"
   },
   {
    "duration": 1354,
    "start_time": "2022-04-05T10:10:10.113Z"
   },
   {
    "duration": 46,
    "start_time": "2022-04-05T10:10:11.469Z"
   },
   {
    "duration": 20,
    "start_time": "2022-04-05T10:10:11.517Z"
   },
   {
    "duration": 131,
    "start_time": "2022-04-05T10:10:11.538Z"
   },
   {
    "duration": 5,
    "start_time": "2022-04-05T10:10:11.670Z"
   },
   {
    "duration": 205,
    "start_time": "2022-04-05T10:10:11.677Z"
   },
   {
    "duration": 206,
    "start_time": "2022-04-05T10:10:11.884Z"
   },
   {
    "duration": 274,
    "start_time": "2022-04-05T10:10:12.092Z"
   },
   {
    "duration": 14,
    "start_time": "2022-04-05T10:10:12.367Z"
   },
   {
    "duration": 72,
    "start_time": "2022-04-05T10:10:12.383Z"
   },
   {
    "duration": 55,
    "start_time": "2022-04-05T10:10:12.456Z"
   },
   {
    "duration": 5,
    "start_time": "2022-04-05T10:10:12.513Z"
   },
   {
    "duration": 27,
    "start_time": "2022-04-05T10:10:12.519Z"
   },
   {
    "duration": 20,
    "start_time": "2022-04-05T10:10:12.548Z"
   },
   {
    "duration": 27,
    "start_time": "2022-04-05T10:10:12.570Z"
   },
   {
    "duration": 29,
    "start_time": "2022-04-05T10:10:12.599Z"
   },
   {
    "duration": 11217,
    "start_time": "2022-04-05T10:10:12.630Z"
   },
   {
    "duration": 2,
    "start_time": "2022-04-05T10:10:23.849Z"
   },
   {
    "duration": 10,
    "start_time": "2022-04-05T10:10:23.853Z"
   },
   {
    "duration": 10,
    "start_time": "2022-04-05T10:10:23.865Z"
   },
   {
    "duration": 6,
    "start_time": "2022-04-05T10:10:23.877Z"
   },
   {
    "duration": 69627,
    "start_time": "2022-04-05T10:10:23.884Z"
   },
   {
    "duration": 3,
    "start_time": "2022-04-05T10:11:33.513Z"
   },
   {
    "duration": 78917,
    "start_time": "2022-04-05T10:11:33.602Z"
   },
   {
    "duration": 3,
    "start_time": "2022-04-05T10:12:52.521Z"
   },
   {
    "duration": 369482,
    "start_time": "2022-04-05T10:12:52.525Z"
   },
   {
    "duration": 10017,
    "start_time": "2022-04-05T10:19:02.009Z"
   },
   {
    "duration": 8781,
    "start_time": "2022-04-05T10:19:12.028Z"
   },
   {
    "duration": 8041,
    "start_time": "2022-04-05T10:19:20.811Z"
   },
   {
    "duration": 2397,
    "start_time": "2022-04-05T13:53:56.200Z"
   },
   {
    "duration": 1026,
    "start_time": "2022-04-05T13:53:59.180Z"
   },
   {
    "duration": 25,
    "start_time": "2022-04-05T13:54:00.209Z"
   },
   {
    "duration": 4,
    "start_time": "2022-04-05T13:54:00.848Z"
   },
   {
    "duration": 180,
    "start_time": "2022-04-05T13:54:02.027Z"
   },
   {
    "duration": 122,
    "start_time": "2022-04-05T13:54:02.404Z"
   },
   {
    "duration": 700,
    "start_time": "2022-04-05T13:54:02.904Z"
   },
   {
    "duration": 774,
    "start_time": "2022-04-05T13:54:03.607Z"
   },
   {
    "duration": 583,
    "start_time": "2022-04-05T13:54:04.383Z"
   },
   {
    "duration": 1083,
    "start_time": "2022-04-05T13:54:05.540Z"
   },
   {
    "duration": 67,
    "start_time": "2022-04-05T13:54:06.626Z"
   },
   {
    "duration": 83,
    "start_time": "2022-04-05T13:54:06.695Z"
   },
   {
    "duration": 756,
    "start_time": "2022-04-05T13:54:08.224Z"
   },
   {
    "duration": 6,
    "start_time": "2022-04-05T13:54:08.983Z"
   },
   {
    "duration": 5,
    "start_time": "2022-04-05T13:54:10.327Z"
   },
   {
    "duration": 7,
    "start_time": "2022-04-05T13:54:10.648Z"
   },
   {
    "duration": 63,
    "start_time": "2022-04-05T13:54:11.244Z"
   },
   {
    "duration": 85,
    "start_time": "2022-04-05T13:54:11.767Z"
   },
   {
    "duration": 58,
    "start_time": "2022-04-05T13:54:12.809Z"
   },
   {
    "duration": 456,
    "start_time": "2022-04-05T13:54:13.136Z"
   },
   {
    "duration": 679,
    "start_time": "2022-04-05T13:54:13.594Z"
   },
   {
    "duration": 56,
    "start_time": "2022-04-05T13:54:14.365Z"
   },
   {
    "duration": 371,
    "start_time": "2022-04-05T13:54:14.840Z"
   },
   {
    "duration": 735,
    "start_time": "2022-04-05T13:54:15.214Z"
   },
   {
    "duration": 66,
    "start_time": "2022-04-05T13:54:15.952Z"
   },
   {
    "duration": 429,
    "start_time": "2022-04-05T13:54:16.282Z"
   },
   {
    "duration": 671,
    "start_time": "2022-04-05T13:54:16.714Z"
   },
   {
    "duration": 56,
    "start_time": "2022-04-05T13:54:17.388Z"
   },
   {
    "duration": 57,
    "start_time": "2022-04-05T13:54:18.095Z"
   },
   {
    "duration": 4960,
    "start_time": "2022-04-05T13:54:18.378Z"
   },
   {
    "duration": 165,
    "start_time": "2022-04-05T13:54:23.340Z"
   },
   {
    "duration": 2246,
    "start_time": "2022-04-05T13:54:23.507Z"
   },
   {
    "duration": 6,
    "start_time": "2022-04-05T13:54:25.756Z"
   },
   {
    "duration": 19,
    "start_time": "2022-04-05T13:54:25.763Z"
   },
   {
    "duration": 388,
    "start_time": "2022-04-05T13:54:25.785Z"
   },
   {
    "duration": 2655,
    "start_time": "2022-04-05T13:54:26.176Z"
   },
   {
    "duration": 84,
    "start_time": "2022-04-05T13:54:28.833Z"
   },
   {
    "duration": 248,
    "start_time": "2022-04-05T13:54:28.919Z"
   },
   {
    "duration": 246,
    "start_time": "2022-04-05T13:54:29.174Z"
   },
   {
    "duration": 486,
    "start_time": "2022-04-05T13:54:29.422Z"
   },
   {
    "duration": 2483,
    "start_time": "2022-04-05T13:54:29.910Z"
   },
   {
    "duration": 79,
    "start_time": "2022-04-05T13:54:32.395Z"
   },
   {
    "duration": 10,
    "start_time": "2022-04-05T13:54:32.476Z"
   },
   {
    "duration": 48,
    "start_time": "2022-04-05T13:54:32.488Z"
   },
   {
    "duration": 36,
    "start_time": "2022-04-05T13:54:32.540Z"
   },
   {
    "duration": 1941,
    "start_time": "2022-04-05T13:54:32.579Z"
   },
   {
    "duration": 76,
    "start_time": "2022-04-05T13:54:34.523Z"
   },
   {
    "duration": 29,
    "start_time": "2022-04-05T13:54:34.602Z"
   },
   {
    "duration": 164,
    "start_time": "2022-04-05T13:54:34.633Z"
   },
   {
    "duration": 6,
    "start_time": "2022-04-05T13:54:34.799Z"
   },
   {
    "duration": 337,
    "start_time": "2022-04-05T13:54:34.807Z"
   },
   {
    "duration": 350,
    "start_time": "2022-04-05T13:54:35.146Z"
   },
   {
    "duration": 405,
    "start_time": "2022-04-05T13:54:35.498Z"
   },
   {
    "duration": 19,
    "start_time": "2022-04-05T13:54:35.905Z"
   },
   {
    "duration": 90,
    "start_time": "2022-04-05T13:54:35.927Z"
   },
   {
    "duration": 65,
    "start_time": "2022-04-05T13:54:38.082Z"
   },
   {
    "duration": 6,
    "start_time": "2022-04-05T13:54:39.209Z"
   },
   {
    "duration": 4,
    "start_time": "2022-04-05T13:54:39.571Z"
   },
   {
    "duration": 6,
    "start_time": "2022-04-05T13:54:40.006Z"
   },
   {
    "duration": 4,
    "start_time": "2022-04-05T13:54:41.267Z"
   },
   {
    "duration": 5,
    "start_time": "2022-04-05T13:54:41.772Z"
   },
   {
    "duration": 18731,
    "start_time": "2022-04-05T13:54:42.105Z"
   },
   {
    "duration": 4,
    "start_time": "2022-04-05T13:55:00.839Z"
   },
   {
    "duration": 10,
    "start_time": "2022-04-05T13:55:00.845Z"
   },
   {
    "duration": 18,
    "start_time": "2022-04-05T13:55:00.857Z"
   },
   {
    "duration": 25,
    "start_time": "2022-04-05T13:55:00.877Z"
   },
   {
    "duration": 89979,
    "start_time": "2022-04-05T13:55:00.904Z"
   },
   {
    "duration": 5,
    "start_time": "2022-04-05T13:56:30.886Z"
   },
   {
    "duration": 110577,
    "start_time": "2022-04-05T13:56:30.973Z"
   },
   {
    "duration": 5,
    "start_time": "2022-04-05T13:58:21.552Z"
   },
   {
    "duration": 450905,
    "start_time": "2022-04-05T13:58:21.576Z"
   },
   {
    "duration": 10022,
    "start_time": "2022-04-05T14:05:52.483Z"
   },
   {
    "duration": 8181,
    "start_time": "2022-04-05T14:06:02.507Z"
   },
   {
    "duration": 14322,
    "start_time": "2022-04-05T14:06:10.690Z"
   },
   {
    "duration": 1620,
    "start_time": "2022-04-06T06:59:32.305Z"
   },
   {
    "duration": 11,
    "start_time": "2022-04-06T07:00:41.987Z"
   },
   {
    "duration": 0,
    "start_time": "2022-04-06T07:00:42.000Z"
   },
   {
    "duration": 0,
    "start_time": "2022-04-06T07:00:42.002Z"
   },
   {
    "duration": 0,
    "start_time": "2022-04-06T07:00:42.003Z"
   },
   {
    "duration": 0,
    "start_time": "2022-04-06T07:00:42.005Z"
   },
   {
    "duration": 0,
    "start_time": "2022-04-06T07:00:42.006Z"
   },
   {
    "duration": 0,
    "start_time": "2022-04-06T07:00:42.007Z"
   },
   {
    "duration": 0,
    "start_time": "2022-04-06T07:00:42.008Z"
   },
   {
    "duration": 0,
    "start_time": "2022-04-06T07:00:42.009Z"
   },
   {
    "duration": 0,
    "start_time": "2022-04-06T07:00:42.011Z"
   },
   {
    "duration": 0,
    "start_time": "2022-04-06T07:00:42.012Z"
   },
   {
    "duration": 0,
    "start_time": "2022-04-06T07:00:42.013Z"
   },
   {
    "duration": 0,
    "start_time": "2022-04-06T07:00:42.014Z"
   },
   {
    "duration": 0,
    "start_time": "2022-04-06T07:00:42.015Z"
   },
   {
    "duration": 0,
    "start_time": "2022-04-06T07:00:42.016Z"
   },
   {
    "duration": 0,
    "start_time": "2022-04-06T07:00:42.017Z"
   },
   {
    "duration": 0,
    "start_time": "2022-04-06T07:00:42.018Z"
   },
   {
    "duration": 0,
    "start_time": "2022-04-06T07:00:42.019Z"
   },
   {
    "duration": 9,
    "start_time": "2022-04-06T07:00:42.020Z"
   },
   {
    "duration": 0,
    "start_time": "2022-04-06T07:00:42.030Z"
   },
   {
    "duration": 0,
    "start_time": "2022-04-06T07:00:42.032Z"
   },
   {
    "duration": 0,
    "start_time": "2022-04-06T07:00:42.033Z"
   },
   {
    "duration": 0,
    "start_time": "2022-04-06T07:00:42.034Z"
   },
   {
    "duration": 0,
    "start_time": "2022-04-06T07:00:42.035Z"
   },
   {
    "duration": 7,
    "start_time": "2022-04-06T07:00:42.036Z"
   },
   {
    "duration": 0,
    "start_time": "2022-04-06T07:00:42.045Z"
   },
   {
    "duration": 0,
    "start_time": "2022-04-06T07:00:42.046Z"
   },
   {
    "duration": 0,
    "start_time": "2022-04-06T07:00:42.047Z"
   },
   {
    "duration": 0,
    "start_time": "2022-04-06T07:00:42.048Z"
   },
   {
    "duration": 0,
    "start_time": "2022-04-06T07:00:42.049Z"
   },
   {
    "duration": 8,
    "start_time": "2022-04-06T07:00:42.054Z"
   },
   {
    "duration": 0,
    "start_time": "2022-04-06T07:00:42.064Z"
   },
   {
    "duration": 0,
    "start_time": "2022-04-06T07:00:42.065Z"
   },
   {
    "duration": 2,
    "start_time": "2022-04-06T07:00:42.070Z"
   },
   {
    "duration": 65,
    "start_time": "2022-04-06T07:00:42.074Z"
   },
   {
    "duration": 0,
    "start_time": "2022-04-06T07:00:42.142Z"
   },
   {
    "duration": 0,
    "start_time": "2022-04-06T07:00:42.143Z"
   },
   {
    "duration": 0,
    "start_time": "2022-04-06T07:00:42.143Z"
   },
   {
    "duration": 0,
    "start_time": "2022-04-06T07:00:42.144Z"
   },
   {
    "duration": 0,
    "start_time": "2022-04-06T07:00:42.146Z"
   },
   {
    "duration": 0,
    "start_time": "2022-04-06T07:00:42.146Z"
   },
   {
    "duration": 0,
    "start_time": "2022-04-06T07:00:42.147Z"
   },
   {
    "duration": 0,
    "start_time": "2022-04-06T07:00:42.148Z"
   },
   {
    "duration": 0,
    "start_time": "2022-04-06T07:00:42.149Z"
   },
   {
    "duration": 0,
    "start_time": "2022-04-06T07:00:42.150Z"
   },
   {
    "duration": 0,
    "start_time": "2022-04-06T07:00:42.152Z"
   },
   {
    "duration": 0,
    "start_time": "2022-04-06T07:00:42.153Z"
   },
   {
    "duration": 0,
    "start_time": "2022-04-06T07:00:42.153Z"
   },
   {
    "duration": 0,
    "start_time": "2022-04-06T07:00:42.154Z"
   },
   {
    "duration": 0,
    "start_time": "2022-04-06T07:00:42.155Z"
   },
   {
    "duration": 0,
    "start_time": "2022-04-06T07:00:42.156Z"
   },
   {
    "duration": 0,
    "start_time": "2022-04-06T07:00:42.157Z"
   },
   {
    "duration": 0,
    "start_time": "2022-04-06T07:00:42.158Z"
   },
   {
    "duration": 0,
    "start_time": "2022-04-06T07:00:42.158Z"
   },
   {
    "duration": 0,
    "start_time": "2022-04-06T07:00:42.159Z"
   },
   {
    "duration": 0,
    "start_time": "2022-04-06T07:00:42.160Z"
   },
   {
    "duration": 0,
    "start_time": "2022-04-06T07:00:42.161Z"
   },
   {
    "duration": 0,
    "start_time": "2022-04-06T07:00:42.161Z"
   },
   {
    "duration": 6,
    "start_time": "2022-04-06T07:00:42.164Z"
   },
   {
    "duration": 63,
    "start_time": "2022-04-06T07:00:42.172Z"
   },
   {
    "duration": 13,
    "start_time": "2022-04-06T07:00:42.237Z"
   },
   {
    "duration": 0,
    "start_time": "2022-04-06T07:00:42.252Z"
   },
   {
    "duration": 10,
    "start_time": "2022-04-06T07:00:58.623Z"
   },
   {
    "duration": 0,
    "start_time": "2022-04-06T07:00:58.634Z"
   },
   {
    "duration": 0,
    "start_time": "2022-04-06T07:00:58.635Z"
   },
   {
    "duration": 0,
    "start_time": "2022-04-06T07:00:58.637Z"
   },
   {
    "duration": 0,
    "start_time": "2022-04-06T07:00:58.637Z"
   },
   {
    "duration": 0,
    "start_time": "2022-04-06T07:00:58.638Z"
   },
   {
    "duration": 0,
    "start_time": "2022-04-06T07:00:58.639Z"
   },
   {
    "duration": 0,
    "start_time": "2022-04-06T07:00:58.640Z"
   },
   {
    "duration": 0,
    "start_time": "2022-04-06T07:00:58.641Z"
   },
   {
    "duration": 0,
    "start_time": "2022-04-06T07:00:58.642Z"
   },
   {
    "duration": 0,
    "start_time": "2022-04-06T07:00:58.643Z"
   },
   {
    "duration": 9,
    "start_time": "2022-04-06T07:00:58.645Z"
   },
   {
    "duration": 0,
    "start_time": "2022-04-06T07:00:58.656Z"
   },
   {
    "duration": 0,
    "start_time": "2022-04-06T07:00:58.657Z"
   },
   {
    "duration": 0,
    "start_time": "2022-04-06T07:00:58.658Z"
   },
   {
    "duration": 0,
    "start_time": "2022-04-06T07:00:58.658Z"
   },
   {
    "duration": 0,
    "start_time": "2022-04-06T07:00:58.659Z"
   },
   {
    "duration": 0,
    "start_time": "2022-04-06T07:00:58.660Z"
   },
   {
    "duration": 7,
    "start_time": "2022-04-06T07:00:58.678Z"
   },
   {
    "duration": 0,
    "start_time": "2022-04-06T07:00:58.687Z"
   },
   {
    "duration": 0,
    "start_time": "2022-04-06T07:00:58.687Z"
   },
   {
    "duration": 0,
    "start_time": "2022-04-06T07:00:58.730Z"
   },
   {
    "duration": 0,
    "start_time": "2022-04-06T07:00:58.731Z"
   },
   {
    "duration": 0,
    "start_time": "2022-04-06T07:00:58.732Z"
   },
   {
    "duration": 0,
    "start_time": "2022-04-06T07:00:58.733Z"
   },
   {
    "duration": 0,
    "start_time": "2022-04-06T07:00:58.734Z"
   },
   {
    "duration": 8,
    "start_time": "2022-04-06T07:00:58.736Z"
   },
   {
    "duration": 0,
    "start_time": "2022-04-06T07:00:58.745Z"
   },
   {
    "duration": 0,
    "start_time": "2022-04-06T07:00:58.746Z"
   },
   {
    "duration": 0,
    "start_time": "2022-04-06T07:00:58.747Z"
   },
   {
    "duration": 0,
    "start_time": "2022-04-06T07:00:58.748Z"
   },
   {
    "duration": 0,
    "start_time": "2022-04-06T07:00:58.749Z"
   },
   {
    "duration": 0,
    "start_time": "2022-04-06T07:00:58.750Z"
   },
   {
    "duration": 0,
    "start_time": "2022-04-06T07:00:58.751Z"
   },
   {
    "duration": 0,
    "start_time": "2022-04-06T07:00:58.752Z"
   },
   {
    "duration": 0,
    "start_time": "2022-04-06T07:00:58.753Z"
   },
   {
    "duration": 0,
    "start_time": "2022-04-06T07:00:58.753Z"
   },
   {
    "duration": 0,
    "start_time": "2022-04-06T07:00:58.754Z"
   },
   {
    "duration": 0,
    "start_time": "2022-04-06T07:00:58.755Z"
   },
   {
    "duration": 0,
    "start_time": "2022-04-06T07:00:58.756Z"
   },
   {
    "duration": 0,
    "start_time": "2022-04-06T07:00:58.757Z"
   },
   {
    "duration": 0,
    "start_time": "2022-04-06T07:00:58.758Z"
   },
   {
    "duration": 7,
    "start_time": "2022-04-06T07:00:58.761Z"
   },
   {
    "duration": 0,
    "start_time": "2022-04-06T07:00:58.830Z"
   },
   {
    "duration": 0,
    "start_time": "2022-04-06T07:00:58.831Z"
   },
   {
    "duration": 0,
    "start_time": "2022-04-06T07:00:58.832Z"
   },
   {
    "duration": 0,
    "start_time": "2022-04-06T07:00:58.833Z"
   },
   {
    "duration": 0,
    "start_time": "2022-04-06T07:00:58.833Z"
   },
   {
    "duration": 0,
    "start_time": "2022-04-06T07:00:58.834Z"
   },
   {
    "duration": 3,
    "start_time": "2022-04-06T07:00:58.837Z"
   },
   {
    "duration": 13,
    "start_time": "2022-04-06T07:00:58.842Z"
   },
   {
    "duration": 0,
    "start_time": "2022-04-06T07:00:58.856Z"
   },
   {
    "duration": 0,
    "start_time": "2022-04-06T07:00:58.857Z"
   },
   {
    "duration": 0,
    "start_time": "2022-04-06T07:00:58.858Z"
   },
   {
    "duration": 0,
    "start_time": "2022-04-06T07:00:58.859Z"
   },
   {
    "duration": 0,
    "start_time": "2022-04-06T07:00:58.860Z"
   },
   {
    "duration": 0,
    "start_time": "2022-04-06T07:00:58.861Z"
   },
   {
    "duration": 0,
    "start_time": "2022-04-06T07:00:58.862Z"
   },
   {
    "duration": 0,
    "start_time": "2022-04-06T07:00:58.863Z"
   },
   {
    "duration": 0,
    "start_time": "2022-04-06T07:00:58.864Z"
   },
   {
    "duration": 0,
    "start_time": "2022-04-06T07:00:58.865Z"
   },
   {
    "duration": 0,
    "start_time": "2022-04-06T07:00:58.865Z"
   },
   {
    "duration": 138,
    "start_time": "2022-04-06T07:01:05.965Z"
   },
   {
    "duration": 10,
    "start_time": "2022-04-06T07:01:10.826Z"
   },
   {
    "duration": 0,
    "start_time": "2022-04-06T07:01:10.837Z"
   },
   {
    "duration": 0,
    "start_time": "2022-04-06T07:01:10.838Z"
   },
   {
    "duration": 0,
    "start_time": "2022-04-06T07:01:10.839Z"
   },
   {
    "duration": 0,
    "start_time": "2022-04-06T07:01:10.840Z"
   },
   {
    "duration": 6,
    "start_time": "2022-04-06T07:01:10.845Z"
   },
   {
    "duration": 0,
    "start_time": "2022-04-06T07:01:10.852Z"
   },
   {
    "duration": 0,
    "start_time": "2022-04-06T07:01:10.854Z"
   },
   {
    "duration": 0,
    "start_time": "2022-04-06T07:01:10.854Z"
   },
   {
    "duration": 0,
    "start_time": "2022-04-06T07:01:10.856Z"
   },
   {
    "duration": 10,
    "start_time": "2022-04-06T07:01:10.861Z"
   },
   {
    "duration": 0,
    "start_time": "2022-04-06T07:01:10.872Z"
   },
   {
    "duration": 0,
    "start_time": "2022-04-06T07:01:10.873Z"
   },
   {
    "duration": 0,
    "start_time": "2022-04-06T07:01:10.874Z"
   },
   {
    "duration": 0,
    "start_time": "2022-04-06T07:01:10.875Z"
   },
   {
    "duration": 54,
    "start_time": "2022-04-06T07:01:10.876Z"
   },
   {
    "duration": 18,
    "start_time": "2022-04-06T07:01:10.931Z"
   },
   {
    "duration": 0,
    "start_time": "2022-04-06T07:01:10.952Z"
   },
   {
    "duration": 0,
    "start_time": "2022-04-06T07:01:10.952Z"
   },
   {
    "duration": 0,
    "start_time": "2022-04-06T07:01:10.953Z"
   },
   {
    "duration": 0,
    "start_time": "2022-04-06T07:01:10.954Z"
   },
   {
    "duration": 0,
    "start_time": "2022-04-06T07:01:10.955Z"
   },
   {
    "duration": 0,
    "start_time": "2022-04-06T07:01:10.956Z"
   },
   {
    "duration": 0,
    "start_time": "2022-04-06T07:01:10.958Z"
   },
   {
    "duration": 0,
    "start_time": "2022-04-06T07:01:10.958Z"
   },
   {
    "duration": 0,
    "start_time": "2022-04-06T07:01:10.960Z"
   },
   {
    "duration": 0,
    "start_time": "2022-04-06T07:01:10.961Z"
   },
   {
    "duration": 0,
    "start_time": "2022-04-06T07:01:10.961Z"
   },
   {
    "duration": 0,
    "start_time": "2022-04-06T07:01:10.962Z"
   },
   {
    "duration": 0,
    "start_time": "2022-04-06T07:01:10.963Z"
   },
   {
    "duration": 0,
    "start_time": "2022-04-06T07:01:10.964Z"
   },
   {
    "duration": 0,
    "start_time": "2022-04-06T07:01:10.965Z"
   },
   {
    "duration": 0,
    "start_time": "2022-04-06T07:01:10.966Z"
   },
   {
    "duration": 0,
    "start_time": "2022-04-06T07:01:10.967Z"
   },
   {
    "duration": 0,
    "start_time": "2022-04-06T07:01:10.968Z"
   },
   {
    "duration": 0,
    "start_time": "2022-04-06T07:01:10.969Z"
   },
   {
    "duration": 0,
    "start_time": "2022-04-06T07:01:10.970Z"
   },
   {
    "duration": 0,
    "start_time": "2022-04-06T07:01:10.971Z"
   },
   {
    "duration": 0,
    "start_time": "2022-04-06T07:01:10.972Z"
   },
   {
    "duration": 0,
    "start_time": "2022-04-06T07:01:10.973Z"
   },
   {
    "duration": 0,
    "start_time": "2022-04-06T07:01:10.974Z"
   },
   {
    "duration": 60,
    "start_time": "2022-04-06T07:01:10.976Z"
   },
   {
    "duration": 0,
    "start_time": "2022-04-06T07:01:11.038Z"
   },
   {
    "duration": 0,
    "start_time": "2022-04-06T07:01:11.039Z"
   },
   {
    "duration": 0,
    "start_time": "2022-04-06T07:01:11.040Z"
   },
   {
    "duration": 0,
    "start_time": "2022-04-06T07:01:11.041Z"
   },
   {
    "duration": 0,
    "start_time": "2022-04-06T07:01:11.042Z"
   },
   {
    "duration": 0,
    "start_time": "2022-04-06T07:01:11.043Z"
   },
   {
    "duration": 0,
    "start_time": "2022-04-06T07:01:11.044Z"
   },
   {
    "duration": 0,
    "start_time": "2022-04-06T07:01:11.045Z"
   },
   {
    "duration": 0,
    "start_time": "2022-04-06T07:01:11.046Z"
   },
   {
    "duration": 0,
    "start_time": "2022-04-06T07:01:11.047Z"
   },
   {
    "duration": 0,
    "start_time": "2022-04-06T07:01:11.048Z"
   },
   {
    "duration": 0,
    "start_time": "2022-04-06T07:01:11.049Z"
   },
   {
    "duration": 0,
    "start_time": "2022-04-06T07:01:11.050Z"
   },
   {
    "duration": 0,
    "start_time": "2022-04-06T07:01:11.051Z"
   },
   {
    "duration": 0,
    "start_time": "2022-04-06T07:01:11.052Z"
   },
   {
    "duration": 0,
    "start_time": "2022-04-06T07:01:11.053Z"
   },
   {
    "duration": 0,
    "start_time": "2022-04-06T07:01:11.054Z"
   },
   {
    "duration": 1,
    "start_time": "2022-04-06T07:01:11.054Z"
   },
   {
    "duration": 0,
    "start_time": "2022-04-06T07:01:11.055Z"
   },
   {
    "duration": 0,
    "start_time": "2022-04-06T07:01:11.056Z"
   },
   {
    "duration": 0,
    "start_time": "2022-04-06T07:01:11.057Z"
   },
   {
    "duration": 0,
    "start_time": "2022-04-06T07:01:11.058Z"
   },
   {
    "duration": 0,
    "start_time": "2022-04-06T07:01:11.059Z"
   },
   {
    "duration": 0,
    "start_time": "2022-04-06T07:01:11.060Z"
   },
   {
    "duration": 0,
    "start_time": "2022-04-06T07:01:11.061Z"
   },
   {
    "duration": 0,
    "start_time": "2022-04-06T07:01:11.062Z"
   },
   {
    "duration": 0,
    "start_time": "2022-04-06T07:01:11.063Z"
   },
   {
    "duration": 0,
    "start_time": "2022-04-06T07:01:11.064Z"
   },
   {
    "duration": 143,
    "start_time": "2022-04-06T07:01:11.131Z"
   },
   {
    "duration": 10018,
    "start_time": "2022-04-06T07:01:11.276Z"
   },
   {
    "duration": 0,
    "start_time": "2022-04-06T07:01:21.296Z"
   },
   {
    "duration": 0,
    "start_time": "2022-04-06T07:01:21.297Z"
   },
   {
    "duration": 273,
    "start_time": "2022-04-06T07:07:47.220Z"
   },
   {
    "duration": 762,
    "start_time": "2022-04-06T07:07:47.495Z"
   },
   {
    "duration": 16,
    "start_time": "2022-04-06T07:07:48.259Z"
   },
   {
    "duration": 3,
    "start_time": "2022-04-06T07:07:48.277Z"
   },
   {
    "duration": 114,
    "start_time": "2022-04-06T07:07:48.282Z"
   },
   {
    "duration": 90,
    "start_time": "2022-04-06T07:07:48.397Z"
   },
   {
    "duration": 449,
    "start_time": "2022-04-06T07:07:48.488Z"
   },
   {
    "duration": 422,
    "start_time": "2022-04-06T07:07:48.939Z"
   },
   {
    "duration": 423,
    "start_time": "2022-04-06T07:07:49.363Z"
   },
   {
    "duration": 831,
    "start_time": "2022-04-06T07:07:49.788Z"
   },
   {
    "duration": 43,
    "start_time": "2022-04-06T07:07:50.630Z"
   },
   {
    "duration": 63,
    "start_time": "2022-04-06T07:07:50.675Z"
   },
   {
    "duration": 508,
    "start_time": "2022-04-06T07:07:50.740Z"
   },
   {
    "duration": 4,
    "start_time": "2022-04-06T07:07:51.251Z"
   },
   {
    "duration": 6,
    "start_time": "2022-04-06T07:07:51.256Z"
   },
   {
    "duration": 5,
    "start_time": "2022-04-06T07:07:51.264Z"
   },
   {
    "duration": 44,
    "start_time": "2022-04-06T07:07:51.270Z"
   },
   {
    "duration": 73,
    "start_time": "2022-04-06T07:07:51.315Z"
   },
   {
    "duration": 52,
    "start_time": "2022-04-06T07:07:51.389Z"
   },
   {
    "duration": 274,
    "start_time": "2022-04-06T07:07:51.442Z"
   },
   {
    "duration": 412,
    "start_time": "2022-04-06T07:07:51.718Z"
   },
   {
    "duration": 32,
    "start_time": "2022-04-06T07:07:52.132Z"
   },
   {
    "duration": 316,
    "start_time": "2022-04-06T07:07:52.166Z"
   },
   {
    "duration": 427,
    "start_time": "2022-04-06T07:07:52.483Z"
   },
   {
    "duration": 37,
    "start_time": "2022-04-06T07:07:52.911Z"
   },
   {
    "duration": 244,
    "start_time": "2022-04-06T07:07:52.950Z"
   },
   {
    "duration": 384,
    "start_time": "2022-04-06T07:07:53.195Z"
   },
   {
    "duration": 36,
    "start_time": "2022-04-06T07:07:53.580Z"
   },
   {
    "duration": 43,
    "start_time": "2022-04-06T07:07:53.618Z"
   },
   {
    "duration": 2416,
    "start_time": "2022-04-06T07:07:53.662Z"
   },
   {
    "duration": 92,
    "start_time": "2022-04-06T07:07:56.079Z"
   },
   {
    "duration": 1382,
    "start_time": "2022-04-06T07:07:56.172Z"
   },
   {
    "duration": 4,
    "start_time": "2022-04-06T07:07:57.556Z"
   },
   {
    "duration": 6,
    "start_time": "2022-04-06T07:07:57.561Z"
   },
   {
    "duration": 221,
    "start_time": "2022-04-06T07:07:57.568Z"
   },
   {
    "duration": 1455,
    "start_time": "2022-04-06T07:07:57.790Z"
   },
   {
    "duration": 48,
    "start_time": "2022-04-06T07:07:59.247Z"
   },
   {
    "duration": 144,
    "start_time": "2022-04-06T07:07:59.297Z"
   },
   {
    "duration": 135,
    "start_time": "2022-04-06T07:07:59.442Z"
   },
   {
    "duration": 285,
    "start_time": "2022-04-06T07:07:59.579Z"
   },
   {
    "duration": 1390,
    "start_time": "2022-04-06T07:07:59.868Z"
   },
   {
    "duration": 42,
    "start_time": "2022-04-06T07:08:01.259Z"
   },
   {
    "duration": 6,
    "start_time": "2022-04-06T07:08:01.303Z"
   },
   {
    "duration": 51,
    "start_time": "2022-04-06T07:08:01.310Z"
   },
   {
    "duration": 5,
    "start_time": "2022-04-06T07:08:01.363Z"
   },
   {
    "duration": 1182,
    "start_time": "2022-04-06T07:08:01.369Z"
   },
   {
    "duration": 38,
    "start_time": "2022-04-06T07:08:02.552Z"
   },
   {
    "duration": 17,
    "start_time": "2022-04-06T07:08:02.592Z"
   },
   {
    "duration": 102,
    "start_time": "2022-04-06T07:08:02.610Z"
   },
   {
    "duration": 4,
    "start_time": "2022-04-06T07:08:02.713Z"
   },
   {
    "duration": 165,
    "start_time": "2022-04-06T07:08:02.729Z"
   },
   {
    "duration": 177,
    "start_time": "2022-04-06T07:08:02.895Z"
   },
   {
    "duration": 220,
    "start_time": "2022-04-06T07:08:03.074Z"
   },
   {
    "duration": 13,
    "start_time": "2022-04-06T07:08:03.296Z"
   },
   {
    "duration": 65,
    "start_time": "2022-04-06T07:08:03.311Z"
   },
   {
    "duration": 52,
    "start_time": "2022-04-06T07:08:03.378Z"
   },
   {
    "duration": 5,
    "start_time": "2022-04-06T07:08:03.431Z"
   },
   {
    "duration": 12,
    "start_time": "2022-04-06T07:08:03.437Z"
   },
   {
    "duration": 141,
    "start_time": "2022-04-06T07:08:03.450Z"
   },
   {
    "duration": 0,
    "start_time": "2022-04-06T07:08:03.593Z"
   },
   {
    "duration": 0,
    "start_time": "2022-04-06T07:08:03.593Z"
   },
   {
    "duration": 0,
    "start_time": "2022-04-06T07:08:03.595Z"
   },
   {
    "duration": 4,
    "start_time": "2022-04-06T07:08:17.450Z"
   },
   {
    "duration": 3,
    "start_time": "2022-04-06T07:08:22.561Z"
   },
   {
    "duration": 196,
    "start_time": "2022-04-06T07:08:22.923Z"
   },
   {
    "duration": 5,
    "start_time": "2022-04-06T07:09:00.143Z"
   },
   {
    "duration": 4,
    "start_time": "2022-04-06T07:09:03.730Z"
   },
   {
    "duration": 4230,
    "start_time": "2022-04-06T07:09:04.959Z"
   },
   {
    "duration": 14207,
    "start_time": "2022-04-06T07:11:08.855Z"
   },
   {
    "duration": 5,
    "start_time": "2022-04-06T07:14:36.770Z"
   },
   {
    "duration": 4,
    "start_time": "2022-04-06T07:14:41.575Z"
   },
   {
    "duration": 14910,
    "start_time": "2022-04-06T07:14:42.464Z"
   },
   {
    "duration": 5,
    "start_time": "2022-04-06T07:24:32.764Z"
   },
   {
    "duration": 3,
    "start_time": "2022-04-06T07:24:40.483Z"
   },
   {
    "duration": 14150,
    "start_time": "2022-04-06T07:24:41.444Z"
   },
   {
    "duration": 5,
    "start_time": "2022-04-06T07:25:33.192Z"
   },
   {
    "duration": 4,
    "start_time": "2022-04-06T07:25:36.943Z"
   },
   {
    "duration": 13989,
    "start_time": "2022-04-06T07:25:38.064Z"
   },
   {
    "duration": 5,
    "start_time": "2022-04-06T07:26:43.981Z"
   },
   {
    "duration": 151,
    "start_time": "2022-04-06T07:27:19.203Z"
   },
   {
    "duration": 3,
    "start_time": "2022-04-06T07:27:22.023Z"
   },
   {
    "duration": 325008,
    "start_time": "2022-04-06T07:27:22.864Z"
   },
   {
    "duration": 141,
    "start_time": "2022-04-06T07:32:47.875Z"
   },
   {
    "duration": 0,
    "start_time": "2022-04-06T07:34:32.747Z"
   },
   {
    "duration": 0,
    "start_time": "2022-04-06T07:34:32.748Z"
   },
   {
    "duration": 0,
    "start_time": "2022-04-06T07:34:32.749Z"
   },
   {
    "duration": 0,
    "start_time": "2022-04-06T07:34:32.750Z"
   },
   {
    "duration": 0,
    "start_time": "2022-04-06T07:34:32.751Z"
   },
   {
    "duration": 0,
    "start_time": "2022-04-06T07:34:32.752Z"
   },
   {
    "duration": 0,
    "start_time": "2022-04-06T07:34:32.753Z"
   },
   {
    "duration": 0,
    "start_time": "2022-04-06T07:34:32.754Z"
   },
   {
    "duration": 0,
    "start_time": "2022-04-06T07:34:32.754Z"
   },
   {
    "duration": 0,
    "start_time": "2022-04-06T07:34:32.756Z"
   },
   {
    "duration": 0,
    "start_time": "2022-04-06T07:34:32.757Z"
   },
   {
    "duration": 0,
    "start_time": "2022-04-06T07:34:32.757Z"
   },
   {
    "duration": 0,
    "start_time": "2022-04-06T07:34:32.758Z"
   },
   {
    "duration": 0,
    "start_time": "2022-04-06T07:34:32.759Z"
   },
   {
    "duration": 0,
    "start_time": "2022-04-06T07:34:32.760Z"
   },
   {
    "duration": 0,
    "start_time": "2022-04-06T07:34:32.761Z"
   },
   {
    "duration": 0,
    "start_time": "2022-04-06T07:34:32.762Z"
   },
   {
    "duration": 0,
    "start_time": "2022-04-06T07:34:32.763Z"
   },
   {
    "duration": 1,
    "start_time": "2022-04-06T07:34:32.763Z"
   },
   {
    "duration": 0,
    "start_time": "2022-04-06T07:34:32.764Z"
   },
   {
    "duration": 0,
    "start_time": "2022-04-06T07:34:32.765Z"
   },
   {
    "duration": 0,
    "start_time": "2022-04-06T07:34:32.766Z"
   },
   {
    "duration": 0,
    "start_time": "2022-04-06T07:34:32.767Z"
   },
   {
    "duration": 0,
    "start_time": "2022-04-06T07:34:32.768Z"
   },
   {
    "duration": 0,
    "start_time": "2022-04-06T07:34:32.769Z"
   },
   {
    "duration": 0,
    "start_time": "2022-04-06T07:34:32.770Z"
   },
   {
    "duration": 0,
    "start_time": "2022-04-06T07:34:32.771Z"
   },
   {
    "duration": 0,
    "start_time": "2022-04-06T07:34:32.772Z"
   },
   {
    "duration": 0,
    "start_time": "2022-04-06T07:34:32.772Z"
   },
   {
    "duration": 0,
    "start_time": "2022-04-06T07:34:32.773Z"
   },
   {
    "duration": 0,
    "start_time": "2022-04-06T07:34:32.774Z"
   },
   {
    "duration": 0,
    "start_time": "2022-04-06T07:34:32.775Z"
   },
   {
    "duration": 0,
    "start_time": "2022-04-06T07:34:32.776Z"
   },
   {
    "duration": 0,
    "start_time": "2022-04-06T07:34:32.777Z"
   },
   {
    "duration": 0,
    "start_time": "2022-04-06T07:34:32.778Z"
   },
   {
    "duration": 0,
    "start_time": "2022-04-06T07:34:32.830Z"
   },
   {
    "duration": 0,
    "start_time": "2022-04-06T07:34:32.831Z"
   },
   {
    "duration": 0,
    "start_time": "2022-04-06T07:34:32.832Z"
   },
   {
    "duration": 0,
    "start_time": "2022-04-06T07:34:32.833Z"
   },
   {
    "duration": 0,
    "start_time": "2022-04-06T07:34:32.834Z"
   },
   {
    "duration": 0,
    "start_time": "2022-04-06T07:34:32.835Z"
   },
   {
    "duration": 0,
    "start_time": "2022-04-06T07:34:32.837Z"
   },
   {
    "duration": 0,
    "start_time": "2022-04-06T07:34:32.838Z"
   },
   {
    "duration": 0,
    "start_time": "2022-04-06T07:34:32.838Z"
   },
   {
    "duration": 1,
    "start_time": "2022-04-06T07:34:32.839Z"
   },
   {
    "duration": 0,
    "start_time": "2022-04-06T07:34:32.840Z"
   },
   {
    "duration": 0,
    "start_time": "2022-04-06T07:34:32.841Z"
   },
   {
    "duration": 0,
    "start_time": "2022-04-06T07:34:32.842Z"
   },
   {
    "duration": 0,
    "start_time": "2022-04-06T07:34:32.843Z"
   },
   {
    "duration": 0,
    "start_time": "2022-04-06T07:34:32.844Z"
   },
   {
    "duration": 0,
    "start_time": "2022-04-06T07:34:32.845Z"
   },
   {
    "duration": 0,
    "start_time": "2022-04-06T07:34:32.846Z"
   },
   {
    "duration": 0,
    "start_time": "2022-04-06T07:34:32.847Z"
   },
   {
    "duration": 0,
    "start_time": "2022-04-06T07:34:32.848Z"
   },
   {
    "duration": 0,
    "start_time": "2022-04-06T07:34:32.849Z"
   },
   {
    "duration": 0,
    "start_time": "2022-04-06T07:34:32.850Z"
   },
   {
    "duration": 1,
    "start_time": "2022-04-06T07:34:32.850Z"
   },
   {
    "duration": 0,
    "start_time": "2022-04-06T07:34:32.852Z"
   },
   {
    "duration": 0,
    "start_time": "2022-04-06T07:34:32.853Z"
   },
   {
    "duration": 0,
    "start_time": "2022-04-06T07:34:32.853Z"
   },
   {
    "duration": 0,
    "start_time": "2022-04-06T07:34:32.854Z"
   },
   {
    "duration": 0,
    "start_time": "2022-04-06T07:34:32.855Z"
   },
   {
    "duration": 0,
    "start_time": "2022-04-06T07:34:32.856Z"
   },
   {
    "duration": 0,
    "start_time": "2022-04-06T07:34:32.857Z"
   },
   {
    "duration": 0,
    "start_time": "2022-04-06T07:34:32.858Z"
   },
   {
    "duration": 0,
    "start_time": "2022-04-06T07:34:32.859Z"
   },
   {
    "duration": 0,
    "start_time": "2022-04-06T07:34:32.860Z"
   },
   {
    "duration": 0,
    "start_time": "2022-04-06T07:34:32.861Z"
   },
   {
    "duration": 0,
    "start_time": "2022-04-06T07:34:32.862Z"
   },
   {
    "duration": 0,
    "start_time": "2022-04-06T07:34:32.863Z"
   },
   {
    "duration": 0,
    "start_time": "2022-04-06T07:34:32.864Z"
   },
   {
    "duration": 0,
    "start_time": "2022-04-06T07:34:32.864Z"
   },
   {
    "duration": 0,
    "start_time": "2022-04-06T07:34:32.865Z"
   },
   {
    "duration": 0,
    "start_time": "2022-04-06T07:34:32.866Z"
   },
   {
    "duration": 0,
    "start_time": "2022-04-06T07:34:32.867Z"
   },
   {
    "duration": 0,
    "start_time": "2022-04-06T07:34:32.934Z"
   },
   {
    "duration": 0,
    "start_time": "2022-04-06T07:34:32.935Z"
   },
   {
    "duration": 0,
    "start_time": "2022-04-06T07:34:32.936Z"
   },
   {
    "duration": 4,
    "start_time": "2022-04-06T07:34:48.792Z"
   },
   {
    "duration": 638,
    "start_time": "2022-04-06T07:34:48.797Z"
   },
   {
    "duration": 13,
    "start_time": "2022-04-06T07:34:49.437Z"
   },
   {
    "duration": 5,
    "start_time": "2022-04-06T07:34:49.451Z"
   },
   {
    "duration": 107,
    "start_time": "2022-04-06T07:34:49.458Z"
   },
   {
    "duration": 74,
    "start_time": "2022-04-06T07:34:49.566Z"
   },
   {
    "duration": 340,
    "start_time": "2022-04-06T07:34:49.642Z"
   },
   {
    "duration": 352,
    "start_time": "2022-04-06T07:34:49.984Z"
   },
   {
    "duration": 392,
    "start_time": "2022-04-06T07:34:50.337Z"
   },
   {
    "duration": 668,
    "start_time": "2022-04-06T07:34:50.731Z"
   },
   {
    "duration": 46,
    "start_time": "2022-04-06T07:34:51.401Z"
   },
   {
    "duration": 45,
    "start_time": "2022-04-06T07:34:51.448Z"
   },
   {
    "duration": 517,
    "start_time": "2022-04-06T07:34:51.495Z"
   },
   {
    "duration": 4,
    "start_time": "2022-04-06T07:34:52.013Z"
   },
   {
    "duration": 11,
    "start_time": "2022-04-06T07:34:52.019Z"
   },
   {
    "duration": 7,
    "start_time": "2022-04-06T07:34:52.032Z"
   },
   {
    "duration": 39,
    "start_time": "2022-04-06T07:34:52.040Z"
   },
   {
    "duration": 63,
    "start_time": "2022-04-06T07:34:52.080Z"
   },
   {
    "duration": 33,
    "start_time": "2022-04-06T07:34:52.145Z"
   },
   {
    "duration": 267,
    "start_time": "2022-04-06T07:34:52.180Z"
   },
   {
    "duration": 434,
    "start_time": "2022-04-06T07:34:52.448Z"
   },
   {
    "duration": 32,
    "start_time": "2022-04-06T07:34:52.883Z"
   },
   {
    "duration": 217,
    "start_time": "2022-04-06T07:34:52.917Z"
   },
   {
    "duration": 358,
    "start_time": "2022-04-06T07:34:53.135Z"
   },
   {
    "duration": 46,
    "start_time": "2022-04-06T07:34:53.494Z"
   },
   {
    "duration": 255,
    "start_time": "2022-04-06T07:34:53.541Z"
   },
   {
    "duration": 370,
    "start_time": "2022-04-06T07:34:53.798Z"
   },
   {
    "duration": 29,
    "start_time": "2022-04-06T07:34:54.170Z"
   },
   {
    "duration": 46,
    "start_time": "2022-04-06T07:34:54.203Z"
   },
   {
    "duration": 2405,
    "start_time": "2022-04-06T07:34:54.251Z"
   },
   {
    "duration": 122,
    "start_time": "2022-04-06T07:34:56.657Z"
   },
   {
    "duration": 1362,
    "start_time": "2022-04-06T07:34:56.781Z"
   },
   {
    "duration": 5,
    "start_time": "2022-04-06T07:34:58.144Z"
   },
   {
    "duration": 10,
    "start_time": "2022-04-06T07:34:58.151Z"
   },
   {
    "duration": 208,
    "start_time": "2022-04-06T07:34:58.163Z"
   },
   {
    "duration": 1477,
    "start_time": "2022-04-06T07:34:58.373Z"
   },
   {
    "duration": 41,
    "start_time": "2022-04-06T07:34:59.852Z"
   },
   {
    "duration": 141,
    "start_time": "2022-04-06T07:34:59.895Z"
   },
   {
    "duration": 148,
    "start_time": "2022-04-06T07:35:00.038Z"
   },
   {
    "duration": 295,
    "start_time": "2022-04-06T07:35:00.188Z"
   },
   {
    "duration": 1428,
    "start_time": "2022-04-06T07:35:00.485Z"
   },
   {
    "duration": 42,
    "start_time": "2022-04-06T07:35:01.915Z"
   },
   {
    "duration": 6,
    "start_time": "2022-04-06T07:35:01.959Z"
   },
   {
    "duration": 28,
    "start_time": "2022-04-06T07:35:01.966Z"
   },
   {
    "duration": 5,
    "start_time": "2022-04-06T07:35:01.995Z"
   },
   {
    "duration": 1237,
    "start_time": "2022-04-06T07:35:02.002Z"
   },
   {
    "duration": 32,
    "start_time": "2022-04-06T07:35:03.241Z"
   },
   {
    "duration": 16,
    "start_time": "2022-04-06T07:35:03.275Z"
   },
   {
    "duration": 103,
    "start_time": "2022-04-06T07:35:03.292Z"
   },
   {
    "duration": 4,
    "start_time": "2022-04-06T07:35:03.397Z"
   },
   {
    "duration": 172,
    "start_time": "2022-04-06T07:35:03.402Z"
   },
   {
    "duration": 178,
    "start_time": "2022-04-06T07:35:03.576Z"
   },
   {
    "duration": 223,
    "start_time": "2022-04-06T07:35:03.756Z"
   },
   {
    "duration": 14,
    "start_time": "2022-04-06T07:35:03.980Z"
   },
   {
    "duration": 61,
    "start_time": "2022-04-06T07:35:03.995Z"
   },
   {
    "duration": 40,
    "start_time": "2022-04-06T07:35:04.058Z"
   },
   {
    "duration": 4,
    "start_time": "2022-04-06T07:35:04.100Z"
   },
   {
    "duration": 7,
    "start_time": "2022-04-06T07:35:04.105Z"
   },
   {
    "duration": 15,
    "start_time": "2022-04-06T07:35:04.114Z"
   },
   {
    "duration": 2,
    "start_time": "2022-04-06T07:35:04.131Z"
   },
   {
    "duration": 4,
    "start_time": "2022-04-06T07:35:04.135Z"
   },
   {
    "duration": 13137,
    "start_time": "2022-04-06T07:35:04.141Z"
   },
   {
    "duration": 3929,
    "start_time": "2022-04-06T07:35:17.279Z"
   },
   {
    "duration": 3,
    "start_time": "2022-04-06T07:35:21.209Z"
   },
   {
    "duration": 4,
    "start_time": "2022-04-06T07:35:21.213Z"
   },
   {
    "duration": 10,
    "start_time": "2022-04-06T07:35:21.219Z"
   },
   {
    "duration": 11,
    "start_time": "2022-04-06T07:35:21.230Z"
   },
   {
    "duration": 59394,
    "start_time": "2022-04-06T07:35:21.242Z"
   },
   {
    "duration": 19643,
    "start_time": "2022-04-06T07:36:20.638Z"
   },
   {
    "duration": 4,
    "start_time": "2022-04-06T07:36:40.283Z"
   },
   {
    "duration": 4237,
    "start_time": "2022-04-06T07:36:40.288Z"
   },
   {
    "duration": 25811,
    "start_time": "2022-04-06T07:36:44.527Z"
   },
   {
    "duration": 3,
    "start_time": "2022-04-06T07:37:10.339Z"
   },
   {
    "duration": 1534,
    "start_time": "2022-04-06T07:38:11.291Z"
   },
   {
    "duration": 659,
    "start_time": "2022-04-06T07:38:12.827Z"
   },
   {
    "duration": 14,
    "start_time": "2022-04-06T07:38:13.488Z"
   },
   {
    "duration": 3,
    "start_time": "2022-04-06T07:38:13.504Z"
   },
   {
    "duration": 110,
    "start_time": "2022-04-06T07:38:13.508Z"
   },
   {
    "duration": 77,
    "start_time": "2022-04-06T07:38:13.619Z"
   },
   {
    "duration": 392,
    "start_time": "2022-04-06T07:38:13.698Z"
   },
   {
    "duration": 390,
    "start_time": "2022-04-06T07:38:14.091Z"
   },
   {
    "duration": 364,
    "start_time": "2022-04-06T07:38:14.483Z"
   },
   {
    "duration": 650,
    "start_time": "2022-04-06T07:38:14.849Z"
   },
   {
    "duration": 36,
    "start_time": "2022-04-06T07:38:15.501Z"
   },
   {
    "duration": 44,
    "start_time": "2022-04-06T07:38:15.538Z"
   },
   {
    "duration": 472,
    "start_time": "2022-04-06T07:38:15.584Z"
   },
   {
    "duration": 4,
    "start_time": "2022-04-06T07:38:16.057Z"
   },
   {
    "duration": 6,
    "start_time": "2022-04-06T07:38:16.062Z"
   },
   {
    "duration": 6,
    "start_time": "2022-04-06T07:38:16.069Z"
   },
   {
    "duration": 42,
    "start_time": "2022-04-06T07:38:16.077Z"
   },
   {
    "duration": 55,
    "start_time": "2022-04-06T07:38:16.129Z"
   },
   {
    "duration": 33,
    "start_time": "2022-04-06T07:38:16.185Z"
   },
   {
    "duration": 235,
    "start_time": "2022-04-06T07:38:16.230Z"
   },
   {
    "duration": 370,
    "start_time": "2022-04-06T07:38:16.467Z"
   },
   {
    "duration": 32,
    "start_time": "2022-04-06T07:38:16.838Z"
   },
   {
    "duration": 212,
    "start_time": "2022-04-06T07:38:16.871Z"
   },
   {
    "duration": 415,
    "start_time": "2022-04-06T07:38:17.085Z"
   },
   {
    "duration": 42,
    "start_time": "2022-04-06T07:38:17.501Z"
   },
   {
    "duration": 240,
    "start_time": "2022-04-06T07:38:17.545Z"
   },
   {
    "duration": 359,
    "start_time": "2022-04-06T07:38:17.787Z"
   },
   {
    "duration": 37,
    "start_time": "2022-04-06T07:38:18.149Z"
   },
   {
    "duration": 45,
    "start_time": "2022-04-06T07:38:18.188Z"
   },
   {
    "duration": 2392,
    "start_time": "2022-04-06T07:38:18.235Z"
   },
   {
    "duration": 115,
    "start_time": "2022-04-06T07:38:20.628Z"
   },
   {
    "duration": 1587,
    "start_time": "2022-04-06T07:38:20.744Z"
   },
   {
    "duration": 4,
    "start_time": "2022-04-06T07:38:22.333Z"
   },
   {
    "duration": 15,
    "start_time": "2022-04-06T07:38:22.339Z"
   },
   {
    "duration": 219,
    "start_time": "2022-04-06T07:38:22.356Z"
   },
   {
    "duration": 1425,
    "start_time": "2022-04-06T07:38:22.577Z"
   },
   {
    "duration": 57,
    "start_time": "2022-04-06T07:38:24.003Z"
   },
   {
    "duration": 135,
    "start_time": "2022-04-06T07:38:24.061Z"
   },
   {
    "duration": 138,
    "start_time": "2022-04-06T07:38:24.198Z"
   },
   {
    "duration": 263,
    "start_time": "2022-04-06T07:38:24.337Z"
   },
   {
    "duration": 1344,
    "start_time": "2022-04-06T07:38:24.602Z"
   },
   {
    "duration": 41,
    "start_time": "2022-04-06T07:38:25.947Z"
   },
   {
    "duration": 6,
    "start_time": "2022-04-06T07:38:25.989Z"
   },
   {
    "duration": 50,
    "start_time": "2022-04-06T07:38:25.996Z"
   },
   {
    "duration": 5,
    "start_time": "2022-04-06T07:38:26.047Z"
   },
   {
    "duration": 1227,
    "start_time": "2022-04-06T07:38:26.054Z"
   },
   {
    "duration": 46,
    "start_time": "2022-04-06T07:38:27.283Z"
   },
   {
    "duration": 17,
    "start_time": "2022-04-06T07:38:27.331Z"
   },
   {
    "duration": 101,
    "start_time": "2022-04-06T07:38:27.350Z"
   },
   {
    "duration": 4,
    "start_time": "2022-04-06T07:38:27.452Z"
   },
   {
    "duration": 173,
    "start_time": "2022-04-06T07:38:27.457Z"
   },
   {
    "duration": 177,
    "start_time": "2022-04-06T07:38:27.631Z"
   },
   {
    "duration": 228,
    "start_time": "2022-04-06T07:38:27.809Z"
   },
   {
    "duration": 15,
    "start_time": "2022-04-06T07:38:28.038Z"
   },
   {
    "duration": 49,
    "start_time": "2022-04-06T07:38:28.055Z"
   },
   {
    "duration": 61,
    "start_time": "2022-04-06T07:38:28.106Z"
   },
   {
    "duration": 4,
    "start_time": "2022-04-06T07:38:28.168Z"
   },
   {
    "duration": 6,
    "start_time": "2022-04-06T07:38:28.173Z"
   },
   {
    "duration": 6,
    "start_time": "2022-04-06T07:38:28.180Z"
   },
   {
    "duration": 8,
    "start_time": "2022-04-06T07:38:28.188Z"
   },
   {
    "duration": 5,
    "start_time": "2022-04-06T07:38:28.198Z"
   },
   {
    "duration": 10053,
    "start_time": "2022-04-06T07:38:28.204Z"
   },
   {
    "duration": 3995,
    "start_time": "2022-04-06T07:38:38.259Z"
   },
   {
    "duration": 3,
    "start_time": "2022-04-06T07:38:42.255Z"
   },
   {
    "duration": 21,
    "start_time": "2022-04-06T07:38:42.259Z"
   },
   {
    "duration": 13,
    "start_time": "2022-04-06T07:38:42.281Z"
   },
   {
    "duration": 24,
    "start_time": "2022-04-06T07:38:42.296Z"
   },
   {
    "duration": 48857,
    "start_time": "2022-04-06T07:38:42.321Z"
   },
   {
    "duration": 29458,
    "start_time": "2022-04-06T07:39:31.180Z"
   },
   {
    "duration": 3,
    "start_time": "2022-04-06T07:40:00.639Z"
   },
   {
    "duration": 12969,
    "start_time": "2022-04-06T07:40:00.644Z"
   },
   {
    "duration": 2971,
    "start_time": "2022-04-06T07:40:13.615Z"
   },
   {
    "duration": 3,
    "start_time": "2022-04-06T07:40:16.588Z"
   },
   {
    "duration": 8403,
    "start_time": "2022-04-06T07:40:16.592Z"
   },
   {
    "duration": 4284,
    "start_time": "2022-04-06T07:40:24.996Z"
   },
   {
    "duration": 1582,
    "start_time": "2022-04-06T07:40:29.282Z"
   },
   {
    "duration": 0,
    "start_time": "2022-04-06T07:40:30.866Z"
   },
   {
    "duration": 0,
    "start_time": "2022-04-06T07:40:30.867Z"
   },
   {
    "duration": 0,
    "start_time": "2022-04-06T07:40:30.869Z"
   },
   {
    "duration": 4,
    "start_time": "2022-04-06T07:40:38.481Z"
   },
   {
    "duration": 4,
    "start_time": "2022-04-06T07:40:42.339Z"
   },
   {
    "duration": 13913,
    "start_time": "2022-04-06T07:40:45.541Z"
   },
   {
    "duration": 4022,
    "start_time": "2022-04-06T07:41:02.536Z"
   },
   {
    "duration": 5,
    "start_time": "2022-04-06T07:41:31.140Z"
   },
   {
    "duration": 3856,
    "start_time": "2022-04-06T07:41:35.532Z"
   },
   {
    "duration": 4,
    "start_time": "2022-04-06T07:42:12.760Z"
   },
   {
    "duration": 4319,
    "start_time": "2022-04-06T07:42:18.780Z"
   },
   {
    "duration": 5,
    "start_time": "2022-04-06T07:44:11.257Z"
   },
   {
    "duration": 4145,
    "start_time": "2022-04-06T07:44:20.610Z"
   },
   {
    "duration": 4,
    "start_time": "2022-04-06T07:54:44.951Z"
   },
   {
    "duration": 5,
    "start_time": "2022-04-06T07:55:08.420Z"
   },
   {
    "duration": 13,
    "start_time": "2022-04-06T07:55:13.621Z"
   },
   {
    "duration": 13,
    "start_time": "2022-04-06T07:55:33.402Z"
   },
   {
    "duration": 13,
    "start_time": "2022-04-06T07:56:02.223Z"
   },
   {
    "duration": 13,
    "start_time": "2022-04-06T07:56:27.384Z"
   },
   {
    "duration": 13,
    "start_time": "2022-04-06T07:56:55.520Z"
   },
   {
    "duration": 14,
    "start_time": "2022-04-06T07:57:05.764Z"
   },
   {
    "duration": 4,
    "start_time": "2022-04-06T07:57:22.584Z"
   },
   {
    "duration": 14,
    "start_time": "2022-04-06T07:58:30.869Z"
   },
   {
    "duration": 13,
    "start_time": "2022-04-06T07:59:50.029Z"
   },
   {
    "duration": 15,
    "start_time": "2022-04-06T08:00:54.800Z"
   },
   {
    "duration": 15,
    "start_time": "2022-04-06T08:02:23.692Z"
   },
   {
    "duration": 8614,
    "start_time": "2022-04-06T08:04:52.249Z"
   },
   {
    "duration": 4,
    "start_time": "2022-04-06T08:07:16.960Z"
   },
   {
    "duration": 644,
    "start_time": "2022-04-06T08:07:16.967Z"
   },
   {
    "duration": 23,
    "start_time": "2022-04-06T08:07:17.613Z"
   },
   {
    "duration": 5,
    "start_time": "2022-04-06T08:07:17.638Z"
   },
   {
    "duration": 108,
    "start_time": "2022-04-06T08:07:17.645Z"
   },
   {
    "duration": 80,
    "start_time": "2022-04-06T08:07:17.754Z"
   },
   {
    "duration": 330,
    "start_time": "2022-04-06T08:07:17.835Z"
   },
   {
    "duration": 340,
    "start_time": "2022-04-06T08:07:18.167Z"
   },
   {
    "duration": 361,
    "start_time": "2022-04-06T08:07:18.509Z"
   },
   {
    "duration": 656,
    "start_time": "2022-04-06T08:07:18.874Z"
   },
   {
    "duration": 32,
    "start_time": "2022-04-06T08:07:19.532Z"
   },
   {
    "duration": 42,
    "start_time": "2022-04-06T08:07:19.566Z"
   },
   {
    "duration": 455,
    "start_time": "2022-04-06T08:07:19.609Z"
   },
   {
    "duration": 5,
    "start_time": "2022-04-06T08:07:20.065Z"
   },
   {
    "duration": 6,
    "start_time": "2022-04-06T08:07:20.072Z"
   },
   {
    "duration": 9,
    "start_time": "2022-04-06T08:07:20.079Z"
   },
   {
    "duration": 51,
    "start_time": "2022-04-06T08:07:20.090Z"
   },
   {
    "duration": 45,
    "start_time": "2022-04-06T08:07:20.143Z"
   },
   {
    "duration": 43,
    "start_time": "2022-04-06T08:07:20.190Z"
   },
   {
    "duration": 289,
    "start_time": "2022-04-06T08:07:20.234Z"
   },
   {
    "duration": 460,
    "start_time": "2022-04-06T08:07:20.529Z"
   },
   {
    "duration": 44,
    "start_time": "2022-04-06T08:07:20.990Z"
   },
   {
    "duration": 224,
    "start_time": "2022-04-06T08:07:21.035Z"
   },
   {
    "duration": 364,
    "start_time": "2022-04-06T08:07:21.260Z"
   },
   {
    "duration": 34,
    "start_time": "2022-04-06T08:07:21.629Z"
   },
   {
    "duration": 265,
    "start_time": "2022-04-06T08:07:21.664Z"
   },
   {
    "duration": 362,
    "start_time": "2022-04-06T08:07:21.931Z"
   },
   {
    "duration": 41,
    "start_time": "2022-04-06T08:07:22.297Z"
   },
   {
    "duration": 34,
    "start_time": "2022-04-06T08:07:22.340Z"
   },
   {
    "duration": 2484,
    "start_time": "2022-04-06T08:07:22.375Z"
   },
   {
    "duration": 94,
    "start_time": "2022-04-06T08:07:24.860Z"
   },
   {
    "duration": 1378,
    "start_time": "2022-04-06T08:07:24.956Z"
   },
   {
    "duration": 3,
    "start_time": "2022-04-06T08:07:26.336Z"
   },
   {
    "duration": 5,
    "start_time": "2022-04-06T08:07:26.341Z"
   },
   {
    "duration": 213,
    "start_time": "2022-04-06T08:07:26.348Z"
   },
   {
    "duration": 1445,
    "start_time": "2022-04-06T08:07:26.562Z"
   },
   {
    "duration": 52,
    "start_time": "2022-04-06T08:07:28.008Z"
   },
   {
    "duration": 138,
    "start_time": "2022-04-06T08:07:28.061Z"
   },
   {
    "duration": 147,
    "start_time": "2022-04-06T08:07:28.200Z"
   },
   {
    "duration": 277,
    "start_time": "2022-04-06T08:07:28.349Z"
   },
   {
    "duration": 1357,
    "start_time": "2022-04-06T08:07:28.630Z"
   },
   {
    "duration": 42,
    "start_time": "2022-04-06T08:07:29.989Z"
   },
   {
    "duration": 6,
    "start_time": "2022-04-06T08:07:30.033Z"
   },
   {
    "duration": 29,
    "start_time": "2022-04-06T08:07:30.040Z"
   },
   {
    "duration": 6,
    "start_time": "2022-04-06T08:07:30.070Z"
   },
   {
    "duration": 1188,
    "start_time": "2022-04-06T08:07:30.077Z"
   },
   {
    "duration": 33,
    "start_time": "2022-04-06T08:07:31.266Z"
   },
   {
    "duration": 29,
    "start_time": "2022-04-06T08:07:31.300Z"
   },
   {
    "duration": 100,
    "start_time": "2022-04-06T08:07:31.331Z"
   },
   {
    "duration": 4,
    "start_time": "2022-04-06T08:07:31.433Z"
   },
   {
    "duration": 184,
    "start_time": "2022-04-06T08:07:31.438Z"
   },
   {
    "duration": 170,
    "start_time": "2022-04-06T08:07:31.624Z"
   },
   {
    "duration": 218,
    "start_time": "2022-04-06T08:07:31.795Z"
   },
   {
    "duration": 16,
    "start_time": "2022-04-06T08:07:32.015Z"
   },
   {
    "duration": 42,
    "start_time": "2022-04-06T08:07:32.033Z"
   },
   {
    "duration": 53,
    "start_time": "2022-04-06T08:07:32.077Z"
   },
   {
    "duration": 4,
    "start_time": "2022-04-06T08:07:32.131Z"
   },
   {
    "duration": 15,
    "start_time": "2022-04-06T08:07:32.136Z"
   },
   {
    "duration": 10,
    "start_time": "2022-04-06T08:07:32.152Z"
   },
   {
    "duration": 8,
    "start_time": "2022-04-06T08:07:32.164Z"
   },
   {
    "duration": 10,
    "start_time": "2022-04-06T08:07:32.173Z"
   },
   {
    "duration": 9399,
    "start_time": "2022-04-06T08:07:32.184Z"
   },
   {
    "duration": 3921,
    "start_time": "2022-04-06T08:07:41.585Z"
   },
   {
    "duration": 3,
    "start_time": "2022-04-06T08:07:45.507Z"
   },
   {
    "duration": 7,
    "start_time": "2022-04-06T08:07:45.511Z"
   },
   {
    "duration": 10,
    "start_time": "2022-04-06T08:07:45.519Z"
   },
   {
    "duration": 6,
    "start_time": "2022-04-06T08:07:45.530Z"
   },
   {
    "duration": 1580,
    "start_time": "2022-04-06T10:37:14.883Z"
   },
   {
    "duration": 648,
    "start_time": "2022-04-06T10:37:16.464Z"
   },
   {
    "duration": 21,
    "start_time": "2022-04-06T10:37:17.114Z"
   },
   {
    "duration": 2,
    "start_time": "2022-04-06T10:37:17.137Z"
   },
   {
    "duration": 108,
    "start_time": "2022-04-06T10:37:17.141Z"
   },
   {
    "duration": 80,
    "start_time": "2022-04-06T10:37:17.250Z"
   },
   {
    "duration": 348,
    "start_time": "2022-04-06T10:37:17.332Z"
   },
   {
    "duration": 466,
    "start_time": "2022-04-06T10:37:17.681Z"
   },
   {
    "duration": 372,
    "start_time": "2022-04-06T10:37:18.148Z"
   },
   {
    "duration": 618,
    "start_time": "2022-04-06T10:37:18.522Z"
   },
   {
    "duration": 32,
    "start_time": "2022-04-06T10:37:19.141Z"
   },
   {
    "duration": 58,
    "start_time": "2022-04-06T10:37:19.174Z"
   },
   {
    "duration": 421,
    "start_time": "2022-04-06T10:37:19.233Z"
   },
   {
    "duration": 5,
    "start_time": "2022-04-06T10:37:19.657Z"
   },
   {
    "duration": 6,
    "start_time": "2022-04-06T10:37:19.663Z"
   },
   {
    "duration": 7,
    "start_time": "2022-04-06T10:37:19.670Z"
   },
   {
    "duration": 79,
    "start_time": "2022-04-06T10:37:19.679Z"
   },
   {
    "duration": 52,
    "start_time": "2022-04-06T10:37:19.759Z"
   },
   {
    "duration": 45,
    "start_time": "2022-04-06T10:37:19.813Z"
   },
   {
    "duration": 257,
    "start_time": "2022-04-06T10:37:19.859Z"
   },
   {
    "duration": 378,
    "start_time": "2022-04-06T10:37:20.118Z"
   },
   {
    "duration": 41,
    "start_time": "2022-04-06T10:37:20.498Z"
   },
   {
    "duration": 206,
    "start_time": "2022-04-06T10:37:20.541Z"
   },
   {
    "duration": 419,
    "start_time": "2022-04-06T10:37:20.749Z"
   },
   {
    "duration": 33,
    "start_time": "2022-04-06T10:37:21.170Z"
   },
   {
    "duration": 262,
    "start_time": "2022-04-06T10:37:21.205Z"
   },
   {
    "duration": 377,
    "start_time": "2022-04-06T10:37:21.469Z"
   },
   {
    "duration": 36,
    "start_time": "2022-04-06T10:37:21.847Z"
   },
   {
    "duration": 47,
    "start_time": "2022-04-06T10:37:21.885Z"
   },
   {
    "duration": 2387,
    "start_time": "2022-04-06T10:37:21.934Z"
   },
   {
    "duration": 84,
    "start_time": "2022-04-06T10:37:24.322Z"
   },
   {
    "duration": 1409,
    "start_time": "2022-04-06T10:37:24.408Z"
   },
   {
    "duration": 4,
    "start_time": "2022-04-06T10:37:25.819Z"
   },
   {
    "duration": 4,
    "start_time": "2022-04-06T10:37:25.829Z"
   },
   {
    "duration": 203,
    "start_time": "2022-04-06T10:37:25.834Z"
   },
   {
    "duration": 1460,
    "start_time": "2022-04-06T10:37:26.038Z"
   },
   {
    "duration": 54,
    "start_time": "2022-04-06T10:37:27.499Z"
   },
   {
    "duration": 138,
    "start_time": "2022-04-06T10:37:27.555Z"
   },
   {
    "duration": 140,
    "start_time": "2022-04-06T10:37:27.695Z"
   },
   {
    "duration": 295,
    "start_time": "2022-04-06T10:37:27.837Z"
   },
   {
    "duration": 1418,
    "start_time": "2022-04-06T10:37:28.136Z"
   },
   {
    "duration": 40,
    "start_time": "2022-04-06T10:37:29.555Z"
   },
   {
    "duration": 6,
    "start_time": "2022-04-06T10:37:29.597Z"
   },
   {
    "duration": 46,
    "start_time": "2022-04-06T10:37:29.605Z"
   },
   {
    "duration": 5,
    "start_time": "2022-04-06T10:37:29.654Z"
   },
   {
    "duration": 1303,
    "start_time": "2022-04-06T10:37:29.661Z"
   },
   {
    "duration": 37,
    "start_time": "2022-04-06T10:37:30.965Z"
   },
   {
    "duration": 29,
    "start_time": "2022-04-06T10:37:31.004Z"
   },
   {
    "duration": 96,
    "start_time": "2022-04-06T10:37:31.034Z"
   },
   {
    "duration": 4,
    "start_time": "2022-04-06T10:37:31.132Z"
   },
   {
    "duration": 176,
    "start_time": "2022-04-06T10:37:31.137Z"
   },
   {
    "duration": 177,
    "start_time": "2022-04-06T10:37:31.315Z"
   },
   {
    "duration": 225,
    "start_time": "2022-04-06T10:37:31.494Z"
   },
   {
    "duration": 17,
    "start_time": "2022-04-06T10:37:31.720Z"
   },
   {
    "duration": 48,
    "start_time": "2022-04-06T10:37:31.738Z"
   },
   {
    "duration": 58,
    "start_time": "2022-04-06T10:37:31.788Z"
   },
   {
    "duration": 4,
    "start_time": "2022-04-06T10:37:31.847Z"
   },
   {
    "duration": 25,
    "start_time": "2022-04-06T10:37:31.853Z"
   },
   {
    "duration": 98,
    "start_time": "2022-04-06T10:37:31.880Z"
   },
   {
    "duration": 0,
    "start_time": "2022-04-06T10:37:31.979Z"
   },
   {
    "duration": 0,
    "start_time": "2022-04-06T10:37:31.980Z"
   },
   {
    "duration": 0,
    "start_time": "2022-04-06T10:37:31.981Z"
   },
   {
    "duration": 0,
    "start_time": "2022-04-06T10:37:31.982Z"
   },
   {
    "duration": 0,
    "start_time": "2022-04-06T10:37:31.983Z"
   },
   {
    "duration": 0,
    "start_time": "2022-04-06T10:37:31.984Z"
   },
   {
    "duration": 0,
    "start_time": "2022-04-06T10:37:31.985Z"
   },
   {
    "duration": 0,
    "start_time": "2022-04-06T10:37:31.985Z"
   },
   {
    "duration": 0,
    "start_time": "2022-04-06T10:37:31.986Z"
   },
   {
    "duration": 0,
    "start_time": "2022-04-06T10:37:31.987Z"
   },
   {
    "duration": 0,
    "start_time": "2022-04-06T10:37:31.988Z"
   },
   {
    "duration": 0,
    "start_time": "2022-04-06T10:37:31.989Z"
   },
   {
    "duration": 0,
    "start_time": "2022-04-06T10:37:31.989Z"
   },
   {
    "duration": 0,
    "start_time": "2022-04-06T10:37:31.990Z"
   },
   {
    "duration": 0,
    "start_time": "2022-04-06T10:37:31.991Z"
   },
   {
    "duration": 0,
    "start_time": "2022-04-06T10:37:31.992Z"
   },
   {
    "duration": 0,
    "start_time": "2022-04-06T10:37:31.993Z"
   },
   {
    "duration": 0,
    "start_time": "2022-04-06T10:37:31.994Z"
   },
   {
    "duration": 0,
    "start_time": "2022-04-06T10:37:31.994Z"
   },
   {
    "duration": 5,
    "start_time": "2022-04-06T10:38:28.181Z"
   },
   {
    "duration": 4,
    "start_time": "2022-04-06T10:38:40.003Z"
   },
   {
    "duration": 703,
    "start_time": "2022-04-06T10:38:40.009Z"
   },
   {
    "duration": 16,
    "start_time": "2022-04-06T10:38:40.714Z"
   },
   {
    "duration": 15,
    "start_time": "2022-04-06T10:38:40.732Z"
   },
   {
    "duration": 97,
    "start_time": "2022-04-06T10:38:40.750Z"
   },
   {
    "duration": 83,
    "start_time": "2022-04-06T10:38:40.850Z"
   },
   {
    "duration": 361,
    "start_time": "2022-04-06T10:38:40.934Z"
   },
   {
    "duration": 378,
    "start_time": "2022-04-06T10:38:41.297Z"
   },
   {
    "duration": 364,
    "start_time": "2022-04-06T10:38:41.676Z"
   },
   {
    "duration": 697,
    "start_time": "2022-04-06T10:38:42.041Z"
   },
   {
    "duration": 34,
    "start_time": "2022-04-06T10:38:42.740Z"
   },
   {
    "duration": 62,
    "start_time": "2022-04-06T10:38:42.775Z"
   },
   {
    "duration": 430,
    "start_time": "2022-04-06T10:38:42.839Z"
   },
   {
    "duration": 4,
    "start_time": "2022-04-06T10:38:43.272Z"
   },
   {
    "duration": 8,
    "start_time": "2022-04-06T10:38:43.278Z"
   },
   {
    "duration": 10,
    "start_time": "2022-04-06T10:38:43.287Z"
   },
   {
    "duration": 47,
    "start_time": "2022-04-06T10:38:43.298Z"
   },
   {
    "duration": 49,
    "start_time": "2022-04-06T10:38:43.347Z"
   },
   {
    "duration": 47,
    "start_time": "2022-04-06T10:38:43.397Z"
   },
   {
    "duration": 263,
    "start_time": "2022-04-06T10:38:43.445Z"
   },
   {
    "duration": 443,
    "start_time": "2022-04-06T10:38:43.710Z"
   },
   {
    "duration": 33,
    "start_time": "2022-04-06T10:38:44.155Z"
   },
   {
    "duration": 231,
    "start_time": "2022-04-06T10:38:44.189Z"
   },
   {
    "duration": 408,
    "start_time": "2022-04-06T10:38:44.421Z"
   },
   {
    "duration": 37,
    "start_time": "2022-04-06T10:38:44.831Z"
   },
   {
    "duration": 272,
    "start_time": "2022-04-06T10:38:44.870Z"
   },
   {
    "duration": 379,
    "start_time": "2022-04-06T10:38:45.143Z"
   },
   {
    "duration": 34,
    "start_time": "2022-04-06T10:38:45.529Z"
   },
   {
    "duration": 34,
    "start_time": "2022-04-06T10:38:45.565Z"
   },
   {
    "duration": 2391,
    "start_time": "2022-04-06T10:38:45.601Z"
   },
   {
    "duration": 94,
    "start_time": "2022-04-06T10:38:47.994Z"
   },
   {
    "duration": 1393,
    "start_time": "2022-04-06T10:38:48.090Z"
   },
   {
    "duration": 4,
    "start_time": "2022-04-06T10:38:49.485Z"
   },
   {
    "duration": 6,
    "start_time": "2022-04-06T10:38:49.491Z"
   },
   {
    "duration": 229,
    "start_time": "2022-04-06T10:38:49.498Z"
   },
   {
    "duration": 1569,
    "start_time": "2022-04-06T10:38:49.728Z"
   },
   {
    "duration": 57,
    "start_time": "2022-04-06T10:38:51.299Z"
   },
   {
    "duration": 148,
    "start_time": "2022-04-06T10:38:51.358Z"
   },
   {
    "duration": 158,
    "start_time": "2022-04-06T10:38:51.508Z"
   },
   {
    "duration": 305,
    "start_time": "2022-04-06T10:38:51.667Z"
   },
   {
    "duration": 1457,
    "start_time": "2022-04-06T10:38:51.977Z"
   },
   {
    "duration": 38,
    "start_time": "2022-04-06T10:38:53.436Z"
   },
   {
    "duration": 6,
    "start_time": "2022-04-06T10:38:53.476Z"
   },
   {
    "duration": 47,
    "start_time": "2022-04-06T10:38:53.483Z"
   },
   {
    "duration": 6,
    "start_time": "2022-04-06T10:38:53.531Z"
   },
   {
    "duration": 1241,
    "start_time": "2022-04-06T10:38:53.538Z"
   },
   {
    "duration": 36,
    "start_time": "2022-04-06T10:38:54.780Z"
   },
   {
    "duration": 27,
    "start_time": "2022-04-06T10:38:54.818Z"
   },
   {
    "duration": 103,
    "start_time": "2022-04-06T10:38:54.847Z"
   },
   {
    "duration": 4,
    "start_time": "2022-04-06T10:38:54.952Z"
   },
   {
    "duration": 181,
    "start_time": "2022-04-06T10:38:54.957Z"
   },
   {
    "duration": 177,
    "start_time": "2022-04-06T10:38:55.140Z"
   },
   {
    "duration": 227,
    "start_time": "2022-04-06T10:38:55.319Z"
   },
   {
    "duration": 13,
    "start_time": "2022-04-06T10:38:55.548Z"
   },
   {
    "duration": 48,
    "start_time": "2022-04-06T10:38:55.562Z"
   },
   {
    "duration": 62,
    "start_time": "2022-04-06T10:38:55.612Z"
   },
   {
    "duration": 4,
    "start_time": "2022-04-06T10:38:55.676Z"
   },
   {
    "duration": 5,
    "start_time": "2022-04-06T10:38:55.681Z"
   },
   {
    "duration": 5,
    "start_time": "2022-04-06T10:38:55.687Z"
   },
   {
    "duration": 8,
    "start_time": "2022-04-06T10:38:55.694Z"
   },
   {
    "duration": 4,
    "start_time": "2022-04-06T10:38:55.704Z"
   },
   {
    "duration": 148,
    "start_time": "2022-04-06T10:38:55.710Z"
   },
   {
    "duration": 138,
    "start_time": "2022-04-06T10:38:55.859Z"
   },
   {
    "duration": 2,
    "start_time": "2022-04-06T10:38:55.998Z"
   },
   {
    "duration": 5,
    "start_time": "2022-04-06T10:38:56.002Z"
   },
   {
    "duration": 4,
    "start_time": "2022-04-06T10:38:56.009Z"
   },
   {
    "duration": 6,
    "start_time": "2022-04-06T10:38:56.014Z"
   },
   {
    "duration": 145,
    "start_time": "2022-04-06T10:38:56.021Z"
   },
   {
    "duration": 139,
    "start_time": "2022-04-06T10:38:56.167Z"
   },
   {
    "duration": 4,
    "start_time": "2022-04-06T10:38:56.307Z"
   },
   {
    "duration": 138,
    "start_time": "2022-04-06T10:38:56.313Z"
   },
   {
    "duration": 140,
    "start_time": "2022-04-06T10:38:56.453Z"
   },
   {
    "duration": 4,
    "start_time": "2022-04-06T10:38:56.595Z"
   },
   {
    "duration": 140,
    "start_time": "2022-04-06T10:38:56.601Z"
   },
   {
    "duration": 137,
    "start_time": "2022-04-06T10:38:56.743Z"
   },
   {
    "duration": 134,
    "start_time": "2022-04-06T10:38:56.882Z"
   },
   {
    "duration": 0,
    "start_time": "2022-04-06T10:38:57.018Z"
   },
   {
    "duration": 0,
    "start_time": "2022-04-06T10:38:57.018Z"
   },
   {
    "duration": 3,
    "start_time": "2022-04-06T10:41:36.903Z"
   },
   {
    "duration": 138,
    "start_time": "2022-04-06T10:41:38.203Z"
   },
   {
    "duration": 3,
    "start_time": "2022-04-06T10:41:51.964Z"
   },
   {
    "duration": 4,
    "start_time": "2022-04-06T10:42:04.343Z"
   },
   {
    "duration": 143,
    "start_time": "2022-04-06T10:42:06.384Z"
   },
   {
    "duration": 5,
    "start_time": "2022-04-06T10:44:03.545Z"
   },
   {
    "duration": 4,
    "start_time": "2022-04-06T10:44:06.723Z"
   },
   {
    "duration": 168,
    "start_time": "2022-04-06T10:44:08.083Z"
   },
   {
    "duration": 3,
    "start_time": "2022-04-06T10:44:30.543Z"
   },
   {
    "duration": 3,
    "start_time": "2022-04-06T10:45:10.222Z"
   },
   {
    "duration": 3,
    "start_time": "2022-04-06T10:45:29.583Z"
   },
   {
    "duration": 184,
    "start_time": "2022-04-06T10:45:31.847Z"
   },
   {
    "duration": 138,
    "start_time": "2022-04-06T10:45:56.983Z"
   },
   {
    "duration": 3,
    "start_time": "2022-04-06T10:46:01.703Z"
   },
   {
    "duration": 153,
    "start_time": "2022-04-06T10:46:02.943Z"
   },
   {
    "duration": 5,
    "start_time": "2022-04-06T10:47:38.323Z"
   },
   {
    "duration": 3,
    "start_time": "2022-04-06T10:47:41.844Z"
   },
   {
    "duration": 136,
    "start_time": "2022-04-06T10:47:43.035Z"
   },
   {
    "duration": 4,
    "start_time": "2022-04-06T10:47:55.605Z"
   },
   {
    "duration": 4,
    "start_time": "2022-04-06T10:47:59.482Z"
   },
   {
    "duration": 140,
    "start_time": "2022-04-06T10:48:00.703Z"
   },
   {
    "duration": 5,
    "start_time": "2022-04-06T10:49:30.632Z"
   },
   {
    "duration": 4,
    "start_time": "2022-04-06T10:49:34.323Z"
   },
   {
    "duration": 164,
    "start_time": "2022-04-06T10:49:36.663Z"
   },
   {
    "duration": 3,
    "start_time": "2022-04-06T10:49:43.543Z"
   },
   {
    "duration": 144,
    "start_time": "2022-04-06T10:49:44.763Z"
   },
   {
    "duration": 4,
    "start_time": "2022-04-06T10:49:56.483Z"
   },
   {
    "duration": 145,
    "start_time": "2022-04-06T10:49:57.783Z"
   },
   {
    "duration": 192,
    "start_time": "2022-04-06T10:51:13.224Z"
   },
   {
    "duration": 3,
    "start_time": "2022-04-06T10:51:28.351Z"
   },
   {
    "duration": 138,
    "start_time": "2022-04-06T10:51:30.931Z"
   },
   {
    "duration": 5,
    "start_time": "2022-04-06T10:55:35.304Z"
   },
   {
    "duration": 5,
    "start_time": "2022-04-06T10:56:22.243Z"
   },
   {
    "duration": 4,
    "start_time": "2022-04-06T10:56:25.670Z"
   },
   {
    "duration": 144,
    "start_time": "2022-04-06T10:56:26.902Z"
   },
   {
    "duration": 226,
    "start_time": "2022-04-06T10:56:33.262Z"
   },
   {
    "duration": 157,
    "start_time": "2022-04-06T10:57:04.243Z"
   },
   {
    "duration": 938,
    "start_time": "2022-04-06T10:57:08.982Z"
   },
   {
    "duration": 136,
    "start_time": "2022-04-06T10:57:33.791Z"
   },
   {
    "duration": 3,
    "start_time": "2022-04-06T10:57:40.174Z"
   },
   {
    "duration": 140,
    "start_time": "2022-04-06T10:57:41.215Z"
   },
   {
    "duration": 5,
    "start_time": "2022-04-06T10:59:27.085Z"
   },
   {
    "duration": 3,
    "start_time": "2022-04-06T10:59:33.603Z"
   },
   {
    "duration": 170,
    "start_time": "2022-04-06T10:59:34.463Z"
   },
   {
    "duration": 8,
    "start_time": "2022-04-06T10:59:55.043Z"
   },
   {
    "duration": 142,
    "start_time": "2022-04-06T11:01:40.064Z"
   },
   {
    "duration": 3,
    "start_time": "2022-04-06T11:01:43.964Z"
   },
   {
    "duration": 135,
    "start_time": "2022-04-06T11:01:45.383Z"
   },
   {
    "duration": 139,
    "start_time": "2022-04-06T11:03:45.591Z"
   },
   {
    "duration": 4,
    "start_time": "2022-04-06T11:03:49.872Z"
   },
   {
    "duration": 842,
    "start_time": "2022-04-06T11:03:55.302Z"
   },
   {
    "duration": 4,
    "start_time": "2022-04-06T11:08:55.702Z"
   },
   {
    "duration": 8,
    "start_time": "2022-04-06T11:08:59.983Z"
   },
   {
    "duration": 426,
    "start_time": "2022-04-06T11:09:17.103Z"
   },
   {
    "duration": 4,
    "start_time": "2022-04-06T11:10:07.263Z"
   },
   {
    "duration": 3,
    "start_time": "2022-04-06T11:13:43.023Z"
   },
   {
    "duration": 83,
    "start_time": "2022-04-06T11:13:48.010Z"
   },
   {
    "duration": 9,
    "start_time": "2022-04-06T11:13:55.805Z"
   },
   {
    "duration": 45,
    "start_time": "2022-04-06T11:14:21.051Z"
   },
   {
    "duration": 3,
    "start_time": "2022-04-06T11:14:31.271Z"
   },
   {
    "duration": 86,
    "start_time": "2022-04-06T11:14:32.423Z"
   },
   {
    "duration": 5,
    "start_time": "2022-04-06T11:14:55.823Z"
   },
   {
    "duration": 81,
    "start_time": "2022-04-06T11:15:00.122Z"
   },
   {
    "duration": 576,
    "start_time": "2022-04-06T11:16:01.863Z"
   },
   {
    "duration": 986,
    "start_time": "2022-04-06T11:16:11.463Z"
   },
   {
    "duration": 10,
    "start_time": "2022-04-06T11:19:56.463Z"
   },
   {
    "duration": 79,
    "start_time": "2022-04-06T11:20:02.124Z"
   },
   {
    "duration": 3,
    "start_time": "2022-04-06T11:29:29.753Z"
   },
   {
    "duration": 406,
    "start_time": "2022-04-06T11:29:30.803Z"
   },
   {
    "duration": 669,
    "start_time": "2022-04-06T11:29:40.962Z"
   },
   {
    "duration": 675,
    "start_time": "2022-04-06T11:30:32.075Z"
   },
   {
    "duration": 4,
    "start_time": "2022-04-06T11:30:44.625Z"
   },
   {
    "duration": 970,
    "start_time": "2022-04-06T11:30:48.283Z"
   },
   {
    "duration": 3,
    "start_time": "2022-04-06T11:33:52.250Z"
   },
   {
    "duration": 4,
    "start_time": "2022-04-06T11:39:38.008Z"
   },
   {
    "duration": 600,
    "start_time": "2022-04-06T11:39:38.014Z"
   },
   {
    "duration": 15,
    "start_time": "2022-04-06T11:39:38.616Z"
   },
   {
    "duration": 3,
    "start_time": "2022-04-06T11:39:38.633Z"
   },
   {
    "duration": 102,
    "start_time": "2022-04-06T11:39:38.638Z"
   },
   {
    "duration": 76,
    "start_time": "2022-04-06T11:39:38.742Z"
   },
   {
    "duration": 349,
    "start_time": "2022-04-06T11:39:38.819Z"
   },
   {
    "duration": 342,
    "start_time": "2022-04-06T11:39:39.169Z"
   },
   {
    "duration": 353,
    "start_time": "2022-04-06T11:39:39.512Z"
   },
   {
    "duration": 636,
    "start_time": "2022-04-06T11:39:39.867Z"
   },
   {
    "duration": 40,
    "start_time": "2022-04-06T11:39:40.505Z"
   },
   {
    "duration": 43,
    "start_time": "2022-04-06T11:39:40.547Z"
   },
   {
    "duration": 416,
    "start_time": "2022-04-06T11:39:40.591Z"
   },
   {
    "duration": 4,
    "start_time": "2022-04-06T11:39:41.009Z"
   },
   {
    "duration": 5,
    "start_time": "2022-04-06T11:39:41.014Z"
   },
   {
    "duration": 10,
    "start_time": "2022-04-06T11:39:41.021Z"
   },
   {
    "duration": 40,
    "start_time": "2022-04-06T11:39:41.033Z"
   },
   {
    "duration": 60,
    "start_time": "2022-04-06T11:39:41.075Z"
   },
   {
    "duration": 34,
    "start_time": "2022-04-06T11:39:41.136Z"
   },
   {
    "duration": 345,
    "start_time": "2022-04-06T11:39:41.172Z"
   },
   {
    "duration": 355,
    "start_time": "2022-04-06T11:39:41.519Z"
   },
   {
    "duration": 32,
    "start_time": "2022-04-06T11:39:41.876Z"
   },
   {
    "duration": 214,
    "start_time": "2022-04-06T11:39:41.909Z"
   },
   {
    "duration": 353,
    "start_time": "2022-04-06T11:39:42.129Z"
   },
   {
    "duration": 48,
    "start_time": "2022-04-06T11:39:42.484Z"
   },
   {
    "duration": 256,
    "start_time": "2022-04-06T11:39:42.534Z"
   },
   {
    "duration": 358,
    "start_time": "2022-04-06T11:39:42.791Z"
   },
   {
    "duration": 29,
    "start_time": "2022-04-06T11:39:43.153Z"
   },
   {
    "duration": 48,
    "start_time": "2022-04-06T11:39:43.184Z"
   },
   {
    "duration": 2459,
    "start_time": "2022-04-06T11:39:43.233Z"
   },
   {
    "duration": 86,
    "start_time": "2022-04-06T11:39:45.694Z"
   },
   {
    "duration": 1300,
    "start_time": "2022-04-06T11:39:45.781Z"
   },
   {
    "duration": 4,
    "start_time": "2022-04-06T11:39:47.083Z"
   },
   {
    "duration": 4,
    "start_time": "2022-04-06T11:39:47.089Z"
   },
   {
    "duration": 204,
    "start_time": "2022-04-06T11:39:47.094Z"
   },
   {
    "duration": 1397,
    "start_time": "2022-04-06T11:39:47.299Z"
   },
   {
    "duration": 61,
    "start_time": "2022-04-06T11:39:48.698Z"
   },
   {
    "duration": 137,
    "start_time": "2022-04-06T11:39:48.760Z"
   },
   {
    "duration": 150,
    "start_time": "2022-04-06T11:39:48.899Z"
   },
   {
    "duration": 257,
    "start_time": "2022-04-06T11:39:49.050Z"
   },
   {
    "duration": 1352,
    "start_time": "2022-04-06T11:39:49.308Z"
   },
   {
    "duration": 36,
    "start_time": "2022-04-06T11:39:50.662Z"
   },
   {
    "duration": 8,
    "start_time": "2022-04-06T11:39:50.700Z"
   },
   {
    "duration": 28,
    "start_time": "2022-04-06T11:39:50.729Z"
   },
   {
    "duration": 5,
    "start_time": "2022-04-06T11:39:50.759Z"
   },
   {
    "duration": 1201,
    "start_time": "2022-04-06T11:39:50.765Z"
   },
   {
    "duration": 33,
    "start_time": "2022-04-06T11:39:51.967Z"
   },
   {
    "duration": 28,
    "start_time": "2022-04-06T11:39:52.002Z"
   },
   {
    "duration": 87,
    "start_time": "2022-04-06T11:39:52.032Z"
   },
   {
    "duration": 3,
    "start_time": "2022-04-06T11:39:52.129Z"
   },
   {
    "duration": 178,
    "start_time": "2022-04-06T11:39:52.133Z"
   },
   {
    "duration": 182,
    "start_time": "2022-04-06T11:39:52.312Z"
   },
   {
    "duration": 230,
    "start_time": "2022-04-06T11:39:52.495Z"
   },
   {
    "duration": 14,
    "start_time": "2022-04-06T11:39:52.726Z"
   },
   {
    "duration": 43,
    "start_time": "2022-04-06T11:39:52.741Z"
   },
   {
    "duration": 66,
    "start_time": "2022-04-06T11:39:52.786Z"
   },
   {
    "duration": 4,
    "start_time": "2022-04-06T11:39:52.854Z"
   },
   {
    "duration": 5,
    "start_time": "2022-04-06T11:39:52.859Z"
   },
   {
    "duration": 10,
    "start_time": "2022-04-06T11:39:52.866Z"
   },
   {
    "duration": 8,
    "start_time": "2022-04-06T11:39:52.877Z"
   },
   {
    "duration": 5,
    "start_time": "2022-04-06T11:39:52.886Z"
   },
   {
    "duration": 397,
    "start_time": "2022-04-06T11:39:52.892Z"
   },
   {
    "duration": 998,
    "start_time": "2022-04-06T11:39:53.291Z"
   },
   {
    "duration": 2,
    "start_time": "2022-04-06T11:39:54.291Z"
   },
   {
    "duration": 16,
    "start_time": "2022-04-06T11:39:54.294Z"
   },
   {
    "duration": 8,
    "start_time": "2022-04-06T11:39:54.311Z"
   },
   {
    "duration": 4,
    "start_time": "2022-04-06T11:39:54.321Z"
   },
   {
    "duration": 5008,
    "start_time": "2022-04-06T11:39:54.326Z"
   },
   {
    "duration": 13100,
    "start_time": "2022-04-06T11:39:59.336Z"
   },
   {
    "duration": 3,
    "start_time": "2022-04-06T11:40:12.438Z"
   },
   {
    "duration": 27774,
    "start_time": "2022-04-06T11:40:12.442Z"
   },
   {
    "duration": 15800,
    "start_time": "2022-04-06T11:40:40.217Z"
   },
   {
    "duration": 3,
    "start_time": "2022-04-06T11:40:56.019Z"
   },
   {
    "duration": 36813,
    "start_time": "2022-04-06T11:40:56.023Z"
   },
   {
    "duration": 80368,
    "start_time": "2022-04-06T11:41:32.837Z"
   },
   {
    "duration": 10030,
    "start_time": "2022-04-06T11:42:53.207Z"
   },
   {
    "duration": 0,
    "start_time": "2022-04-06T11:43:03.239Z"
   },
   {
    "duration": 0,
    "start_time": "2022-04-06T11:43:03.241Z"
   },
   {
    "duration": 63,
    "start_time": "2022-04-06T11:43:28.483Z"
   },
   {
    "duration": 142,
    "start_time": "2022-04-06T11:43:42.110Z"
   },
   {
    "duration": 417,
    "start_time": "2022-04-06T11:43:55.384Z"
   },
   {
    "duration": 3,
    "start_time": "2022-04-06T11:44:27.802Z"
   },
   {
    "duration": 4,
    "start_time": "2022-04-06T11:47:10.003Z"
   },
   {
    "duration": 649,
    "start_time": "2022-04-06T11:47:10.009Z"
   },
   {
    "duration": 12,
    "start_time": "2022-04-06T11:47:10.660Z"
   },
   {
    "duration": 5,
    "start_time": "2022-04-06T11:47:10.674Z"
   },
   {
    "duration": 108,
    "start_time": "2022-04-06T11:47:10.681Z"
   },
   {
    "duration": 86,
    "start_time": "2022-04-06T11:47:10.791Z"
   },
   {
    "duration": 369,
    "start_time": "2022-04-06T11:47:10.879Z"
   },
   {
    "duration": 372,
    "start_time": "2022-04-06T11:47:11.250Z"
   },
   {
    "duration": 364,
    "start_time": "2022-04-06T11:47:11.623Z"
   },
   {
    "duration": 709,
    "start_time": "2022-04-06T11:47:11.988Z"
   },
   {
    "duration": 42,
    "start_time": "2022-04-06T11:47:12.698Z"
   },
   {
    "duration": 43,
    "start_time": "2022-04-06T11:47:12.742Z"
   },
   {
    "duration": 417,
    "start_time": "2022-04-06T11:47:12.786Z"
   },
   {
    "duration": 4,
    "start_time": "2022-04-06T11:47:13.206Z"
   },
   {
    "duration": 6,
    "start_time": "2022-04-06T11:47:13.211Z"
   },
   {
    "duration": 13,
    "start_time": "2022-04-06T11:47:13.219Z"
   },
   {
    "duration": 45,
    "start_time": "2022-04-06T11:47:13.233Z"
   },
   {
    "duration": 54,
    "start_time": "2022-04-06T11:47:13.279Z"
   },
   {
    "duration": 33,
    "start_time": "2022-04-06T11:47:13.335Z"
   },
   {
    "duration": 264,
    "start_time": "2022-04-06T11:47:13.370Z"
   },
   {
    "duration": 472,
    "start_time": "2022-04-06T11:47:13.635Z"
   },
   {
    "duration": 38,
    "start_time": "2022-04-06T11:47:14.108Z"
   },
   {
    "duration": 219,
    "start_time": "2022-04-06T11:47:14.148Z"
   },
   {
    "duration": 363,
    "start_time": "2022-04-06T11:47:14.368Z"
   },
   {
    "duration": 48,
    "start_time": "2022-04-06T11:47:14.733Z"
   },
   {
    "duration": 432,
    "start_time": "2022-04-06T11:47:14.783Z"
   },
   {
    "duration": 620,
    "start_time": "2022-04-06T11:47:15.217Z"
   },
   {
    "duration": 43,
    "start_time": "2022-04-06T11:47:15.839Z"
   },
   {
    "duration": 71,
    "start_time": "2022-04-06T11:47:15.884Z"
   },
   {
    "duration": 4647,
    "start_time": "2022-04-06T11:47:15.957Z"
   },
   {
    "duration": 158,
    "start_time": "2022-04-06T11:47:20.606Z"
   },
   {
    "duration": 2029,
    "start_time": "2022-04-06T11:47:20.766Z"
   },
   {
    "duration": 6,
    "start_time": "2022-04-06T11:47:22.797Z"
   },
   {
    "duration": 6,
    "start_time": "2022-04-06T11:47:22.805Z"
   },
   {
    "duration": 366,
    "start_time": "2022-04-06T11:47:22.813Z"
   },
   {
    "duration": 2586,
    "start_time": "2022-04-06T11:47:23.182Z"
   },
   {
    "duration": 67,
    "start_time": "2022-04-06T11:47:25.771Z"
   },
   {
    "duration": 217,
    "start_time": "2022-04-06T11:47:25.841Z"
   },
   {
    "duration": 238,
    "start_time": "2022-04-06T11:47:26.060Z"
   },
   {
    "duration": 484,
    "start_time": "2022-04-06T11:47:26.301Z"
   },
   {
    "duration": 2473,
    "start_time": "2022-04-06T11:47:26.791Z"
   },
   {
    "duration": 48,
    "start_time": "2022-04-06T11:47:29.267Z"
   },
   {
    "duration": 18,
    "start_time": "2022-04-06T11:47:29.318Z"
   },
   {
    "duration": 38,
    "start_time": "2022-04-06T11:47:29.339Z"
   },
   {
    "duration": 8,
    "start_time": "2022-04-06T11:47:29.379Z"
   },
   {
    "duration": 1891,
    "start_time": "2022-04-06T11:47:29.389Z"
   },
   {
    "duration": 55,
    "start_time": "2022-04-06T11:47:31.282Z"
   },
   {
    "duration": 23,
    "start_time": "2022-04-06T11:47:31.339Z"
   },
   {
    "duration": 150,
    "start_time": "2022-04-06T11:47:31.364Z"
   },
   {
    "duration": 5,
    "start_time": "2022-04-06T11:47:31.516Z"
   },
   {
    "duration": 264,
    "start_time": "2022-04-06T11:47:31.530Z"
   },
   {
    "duration": 295,
    "start_time": "2022-04-06T11:47:31.796Z"
   },
   {
    "duration": 409,
    "start_time": "2022-04-06T11:47:32.093Z"
   },
   {
    "duration": 25,
    "start_time": "2022-04-06T11:47:32.504Z"
   },
   {
    "duration": 58,
    "start_time": "2022-04-06T11:47:32.532Z"
   },
   {
    "duration": 104,
    "start_time": "2022-04-06T11:47:32.592Z"
   },
   {
    "duration": 5,
    "start_time": "2022-04-06T11:47:32.699Z"
   },
   {
    "duration": 3,
    "start_time": "2022-04-06T11:47:32.707Z"
   },
   {
    "duration": 18,
    "start_time": "2022-04-06T11:47:32.712Z"
   },
   {
    "duration": 3,
    "start_time": "2022-04-06T11:47:32.731Z"
   },
   {
    "duration": 5,
    "start_time": "2022-04-06T11:47:32.736Z"
   },
   {
    "duration": 623,
    "start_time": "2022-04-06T11:47:32.743Z"
   },
   {
    "duration": 1502,
    "start_time": "2022-04-06T11:47:33.368Z"
   },
   {
    "duration": 3,
    "start_time": "2022-04-06T11:47:34.872Z"
   },
   {
    "duration": 6,
    "start_time": "2022-04-06T11:47:34.877Z"
   },
   {
    "duration": 4,
    "start_time": "2022-04-06T11:47:34.885Z"
   },
   {
    "duration": 5,
    "start_time": "2022-04-06T11:47:34.891Z"
   },
   {
    "duration": 233932,
    "start_time": "2022-04-06T11:47:34.898Z"
   },
   {
    "duration": 173151,
    "start_time": "2022-04-06T11:51:28.833Z"
   },
   {
    "duration": 5,
    "start_time": "2022-04-06T11:54:21.986Z"
   },
   {
    "duration": 1720,
    "start_time": "2022-04-06T11:55:19.043Z"
   },
   {
    "duration": 702,
    "start_time": "2022-04-06T11:55:20.765Z"
   },
   {
    "duration": 16,
    "start_time": "2022-04-06T11:55:21.468Z"
   },
   {
    "duration": 4,
    "start_time": "2022-04-06T11:55:21.486Z"
   },
   {
    "duration": 120,
    "start_time": "2022-04-06T11:55:21.492Z"
   },
   {
    "duration": 77,
    "start_time": "2022-04-06T11:55:21.613Z"
   },
   {
    "duration": 404,
    "start_time": "2022-04-06T11:55:21.692Z"
   },
   {
    "duration": 412,
    "start_time": "2022-04-06T11:55:22.097Z"
   },
   {
    "duration": 379,
    "start_time": "2022-04-06T11:55:22.510Z"
   },
   {
    "duration": 709,
    "start_time": "2022-04-06T11:55:22.890Z"
   },
   {
    "duration": 42,
    "start_time": "2022-04-06T11:55:23.600Z"
   },
   {
    "duration": 42,
    "start_time": "2022-04-06T11:55:23.643Z"
   },
   {
    "duration": 483,
    "start_time": "2022-04-06T11:55:23.687Z"
   },
   {
    "duration": 4,
    "start_time": "2022-04-06T11:55:24.173Z"
   },
   {
    "duration": 5,
    "start_time": "2022-04-06T11:55:24.178Z"
   },
   {
    "duration": 7,
    "start_time": "2022-04-06T11:55:24.185Z"
   },
   {
    "duration": 58,
    "start_time": "2022-04-06T11:55:24.193Z"
   },
   {
    "duration": 48,
    "start_time": "2022-04-06T11:55:24.252Z"
   },
   {
    "duration": 51,
    "start_time": "2022-04-06T11:55:24.301Z"
   },
   {
    "duration": 262,
    "start_time": "2022-04-06T11:55:24.353Z"
   },
   {
    "duration": 488,
    "start_time": "2022-04-06T11:55:24.617Z"
   },
   {
    "duration": 43,
    "start_time": "2022-04-06T11:55:25.106Z"
   },
   {
    "duration": 207,
    "start_time": "2022-04-06T11:55:25.150Z"
   },
   {
    "duration": 433,
    "start_time": "2022-04-06T11:55:25.359Z"
   },
   {
    "duration": 47,
    "start_time": "2022-04-06T11:55:25.793Z"
   },
   {
    "duration": 254,
    "start_time": "2022-04-06T11:55:25.841Z"
   },
   {
    "duration": 485,
    "start_time": "2022-04-06T11:55:26.097Z"
   },
   {
    "duration": 46,
    "start_time": "2022-04-06T11:55:26.584Z"
   },
   {
    "duration": 36,
    "start_time": "2022-04-06T11:55:26.632Z"
   },
   {
    "duration": 2496,
    "start_time": "2022-04-06T11:55:26.670Z"
   },
   {
    "duration": 94,
    "start_time": "2022-04-06T11:55:29.168Z"
   },
   {
    "duration": 1494,
    "start_time": "2022-04-06T11:55:29.264Z"
   },
   {
    "duration": 4,
    "start_time": "2022-04-06T11:55:30.759Z"
   },
   {
    "duration": 15,
    "start_time": "2022-04-06T11:55:30.765Z"
   },
   {
    "duration": 226,
    "start_time": "2022-04-06T11:55:30.781Z"
   },
   {
    "duration": 1571,
    "start_time": "2022-04-06T11:55:31.009Z"
   },
   {
    "duration": 59,
    "start_time": "2022-04-06T11:55:32.582Z"
   },
   {
    "duration": 136,
    "start_time": "2022-04-06T11:55:32.643Z"
   },
   {
    "duration": 140,
    "start_time": "2022-04-06T11:55:32.780Z"
   },
   {
    "duration": 290,
    "start_time": "2022-04-06T11:55:32.929Z"
   },
   {
    "duration": 1444,
    "start_time": "2022-04-06T11:55:33.229Z"
   },
   {
    "duration": 60,
    "start_time": "2022-04-06T11:55:34.675Z"
   },
   {
    "duration": 8,
    "start_time": "2022-04-06T11:55:34.737Z"
   },
   {
    "duration": 38,
    "start_time": "2022-04-06T11:55:34.747Z"
   },
   {
    "duration": 6,
    "start_time": "2022-04-06T11:55:34.787Z"
   },
   {
    "duration": 1369,
    "start_time": "2022-04-06T11:55:34.795Z"
   },
   {
    "duration": 37,
    "start_time": "2022-04-06T11:55:36.165Z"
   },
   {
    "duration": 31,
    "start_time": "2022-04-06T11:55:36.204Z"
   },
   {
    "duration": 97,
    "start_time": "2022-04-06T11:55:36.237Z"
   },
   {
    "duration": 4,
    "start_time": "2022-04-06T11:55:36.336Z"
   },
   {
    "duration": 179,
    "start_time": "2022-04-06T11:55:36.341Z"
   },
   {
    "duration": 188,
    "start_time": "2022-04-06T11:55:36.529Z"
   },
   {
    "duration": 226,
    "start_time": "2022-04-06T11:55:36.719Z"
   },
   {
    "duration": 16,
    "start_time": "2022-04-06T11:55:36.947Z"
   },
   {
    "duration": 69,
    "start_time": "2022-04-06T11:55:36.965Z"
   },
   {
    "duration": 47,
    "start_time": "2022-04-06T11:55:37.035Z"
   },
   {
    "duration": 4,
    "start_time": "2022-04-06T11:55:37.084Z"
   },
   {
    "duration": 12,
    "start_time": "2022-04-06T11:55:37.089Z"
   },
   {
    "duration": 7,
    "start_time": "2022-04-06T11:55:37.103Z"
   },
   {
    "duration": 8,
    "start_time": "2022-04-06T11:55:37.112Z"
   },
   {
    "duration": 10,
    "start_time": "2022-04-06T11:55:37.121Z"
   },
   {
    "duration": 623,
    "start_time": "2022-04-06T11:55:37.133Z"
   },
   {
    "duration": 12318,
    "start_time": "2022-04-06T11:55:37.758Z"
   },
   {
    "duration": 2,
    "start_time": "2022-04-06T11:55:50.078Z"
   },
   {
    "duration": 9,
    "start_time": "2022-04-06T11:55:50.082Z"
   },
   {
    "duration": 9,
    "start_time": "2022-04-06T11:55:50.093Z"
   },
   {
    "duration": 5,
    "start_time": "2022-04-06T11:55:50.104Z"
   },
   {
    "duration": 2083,
    "start_time": "2022-04-06T11:57:17.802Z"
   },
   {
    "duration": 1134,
    "start_time": "2022-04-06T11:57:19.888Z"
   },
   {
    "duration": 29,
    "start_time": "2022-04-06T11:57:21.024Z"
   },
   {
    "duration": 3,
    "start_time": "2022-04-06T11:57:21.055Z"
   },
   {
    "duration": 112,
    "start_time": "2022-04-06T11:57:21.061Z"
   },
   {
    "duration": 86,
    "start_time": "2022-04-06T11:57:21.175Z"
   },
   {
    "duration": 396,
    "start_time": "2022-04-06T11:57:21.263Z"
   },
   {
    "duration": 401,
    "start_time": "2022-04-06T11:57:21.661Z"
   },
   {
    "duration": 374,
    "start_time": "2022-04-06T11:57:22.064Z"
   },
   {
    "duration": 813,
    "start_time": "2022-04-06T11:57:22.440Z"
   },
   {
    "duration": 34,
    "start_time": "2022-04-06T11:57:23.255Z"
   },
   {
    "duration": 63,
    "start_time": "2022-04-06T11:57:23.291Z"
   },
   {
    "duration": 461,
    "start_time": "2022-04-06T11:57:23.355Z"
   },
   {
    "duration": 10,
    "start_time": "2022-04-06T11:57:23.820Z"
   },
   {
    "duration": 10,
    "start_time": "2022-04-06T11:57:23.832Z"
   },
   {
    "duration": 5,
    "start_time": "2022-04-06T11:57:23.844Z"
   },
   {
    "duration": 42,
    "start_time": "2022-04-06T11:57:23.851Z"
   },
   {
    "duration": 62,
    "start_time": "2022-04-06T11:57:23.895Z"
   },
   {
    "duration": 37,
    "start_time": "2022-04-06T11:57:23.959Z"
   },
   {
    "duration": 272,
    "start_time": "2022-04-06T11:57:23.997Z"
   },
   {
    "duration": 401,
    "start_time": "2022-04-06T11:57:24.270Z"
   },
   {
    "duration": 35,
    "start_time": "2022-04-06T11:57:24.673Z"
   },
   {
    "duration": 229,
    "start_time": "2022-04-06T11:57:24.710Z"
   },
   {
    "duration": 444,
    "start_time": "2022-04-06T11:57:24.941Z"
   },
   {
    "duration": 45,
    "start_time": "2022-04-06T11:57:25.387Z"
   },
   {
    "duration": 252,
    "start_time": "2022-04-06T11:57:25.434Z"
   },
   {
    "duration": 383,
    "start_time": "2022-04-06T11:57:25.688Z"
   },
   {
    "duration": 38,
    "start_time": "2022-04-06T11:57:26.073Z"
   },
   {
    "duration": 43,
    "start_time": "2022-04-06T11:57:26.112Z"
   },
   {
    "duration": 2675,
    "start_time": "2022-04-06T11:57:26.156Z"
   },
   {
    "duration": 104,
    "start_time": "2022-04-06T11:57:28.834Z"
   },
   {
    "duration": 1537,
    "start_time": "2022-04-06T11:57:28.939Z"
   },
   {
    "duration": 6,
    "start_time": "2022-04-06T11:57:30.478Z"
   },
   {
    "duration": 24,
    "start_time": "2022-04-06T11:57:30.486Z"
   },
   {
    "duration": 229,
    "start_time": "2022-04-06T11:57:30.511Z"
   },
   {
    "duration": 1473,
    "start_time": "2022-04-06T11:57:30.742Z"
   },
   {
    "duration": 50,
    "start_time": "2022-04-06T11:57:32.217Z"
   },
   {
    "duration": 148,
    "start_time": "2022-04-06T11:57:32.269Z"
   },
   {
    "duration": 139,
    "start_time": "2022-04-06T11:57:32.419Z"
   },
   {
    "duration": 384,
    "start_time": "2022-04-06T11:57:32.560Z"
   },
   {
    "duration": 1588,
    "start_time": "2022-04-06T11:57:32.949Z"
   },
   {
    "duration": 41,
    "start_time": "2022-04-06T11:57:34.539Z"
   },
   {
    "duration": 7,
    "start_time": "2022-04-06T11:57:34.581Z"
   },
   {
    "duration": 51,
    "start_time": "2022-04-06T11:57:34.589Z"
   },
   {
    "duration": 6,
    "start_time": "2022-04-06T11:57:34.641Z"
   },
   {
    "duration": 1228,
    "start_time": "2022-04-06T11:57:34.649Z"
   },
   {
    "duration": 36,
    "start_time": "2022-04-06T11:57:35.879Z"
   },
   {
    "duration": 29,
    "start_time": "2022-04-06T11:57:35.916Z"
   },
   {
    "duration": 113,
    "start_time": "2022-04-06T11:57:35.946Z"
   },
   {
    "duration": 4,
    "start_time": "2022-04-06T11:57:36.061Z"
   },
   {
    "duration": 186,
    "start_time": "2022-04-06T11:57:36.067Z"
   },
   {
    "duration": 185,
    "start_time": "2022-04-06T11:57:36.254Z"
   },
   {
    "duration": 229,
    "start_time": "2022-04-06T11:57:36.441Z"
   },
   {
    "duration": 18,
    "start_time": "2022-04-06T11:57:36.672Z"
   },
   {
    "duration": 65,
    "start_time": "2022-04-06T11:57:36.693Z"
   },
   {
    "duration": 43,
    "start_time": "2022-04-06T11:57:36.760Z"
   },
   {
    "duration": 4,
    "start_time": "2022-04-06T11:57:36.805Z"
   },
   {
    "duration": 8,
    "start_time": "2022-04-06T11:57:36.810Z"
   },
   {
    "duration": 4,
    "start_time": "2022-04-06T11:57:36.830Z"
   },
   {
    "duration": 6,
    "start_time": "2022-04-06T11:57:36.835Z"
   },
   {
    "duration": 5,
    "start_time": "2022-04-06T11:57:36.842Z"
   },
   {
    "duration": 412,
    "start_time": "2022-04-06T11:57:36.849Z"
   },
   {
    "duration": 8578,
    "start_time": "2022-04-06T11:57:37.262Z"
   },
   {
    "duration": 3,
    "start_time": "2022-04-06T11:57:45.841Z"
   },
   {
    "duration": 5,
    "start_time": "2022-04-06T11:57:45.845Z"
   },
   {
    "duration": 6,
    "start_time": "2022-04-06T11:57:45.851Z"
   },
   {
    "duration": 6,
    "start_time": "2022-04-06T11:57:45.858Z"
   },
   {
    "duration": 361365,
    "start_time": "2022-04-06T11:57:45.865Z"
   },
   {
    "duration": 312719,
    "start_time": "2022-04-06T12:03:47.232Z"
   },
   {
    "duration": 3,
    "start_time": "2022-04-06T12:08:59.953Z"
   },
   {
    "duration": 28400,
    "start_time": "2022-04-06T12:08:59.958Z"
   },
   {
    "duration": 33017,
    "start_time": "2022-04-06T12:09:28.359Z"
   },
   {
    "duration": 3,
    "start_time": "2022-04-06T12:10:01.378Z"
   },
   {
    "duration": 74864,
    "start_time": "2022-04-06T12:10:01.383Z"
   },
   {
    "duration": 509589,
    "start_time": "2022-04-06T12:11:16.249Z"
   },
   {
    "duration": 10020,
    "start_time": "2022-04-06T12:19:45.840Z"
   },
   {
    "duration": 19783,
    "start_time": "2022-04-06T12:19:55.862Z"
   },
   {
    "duration": 6210,
    "start_time": "2022-04-06T12:20:15.647Z"
   },
   {
    "duration": 1778,
    "start_time": "2022-04-07T09:53:22.754Z"
   },
   {
    "duration": 805,
    "start_time": "2022-04-07T09:53:24.535Z"
   },
   {
    "duration": 17,
    "start_time": "2022-04-07T09:53:25.342Z"
   },
   {
    "duration": 3,
    "start_time": "2022-04-07T09:53:25.361Z"
   },
   {
    "duration": 149,
    "start_time": "2022-04-07T09:53:25.366Z"
   },
   {
    "duration": 95,
    "start_time": "2022-04-07T09:53:25.517Z"
   },
   {
    "duration": 477,
    "start_time": "2022-04-07T09:53:25.614Z"
   },
   {
    "duration": 487,
    "start_time": "2022-04-07T09:53:26.093Z"
   },
   {
    "duration": 441,
    "start_time": "2022-04-07T09:53:26.582Z"
   },
   {
    "duration": 862,
    "start_time": "2022-04-07T09:53:27.025Z"
   },
   {
    "duration": 51,
    "start_time": "2022-04-07T09:53:27.889Z"
   },
   {
    "duration": 54,
    "start_time": "2022-04-07T09:53:27.942Z"
   },
   {
    "duration": 554,
    "start_time": "2022-04-07T09:53:28.000Z"
   },
   {
    "duration": 4,
    "start_time": "2022-04-07T09:53:28.556Z"
   },
   {
    "duration": 7,
    "start_time": "2022-04-07T09:53:28.561Z"
   },
   {
    "duration": 7,
    "start_time": "2022-04-07T09:53:28.569Z"
   },
   {
    "duration": 48,
    "start_time": "2022-04-07T09:53:28.578Z"
   },
   {
    "duration": 53,
    "start_time": "2022-04-07T09:53:28.637Z"
   },
   {
    "duration": 53,
    "start_time": "2022-04-07T09:53:28.692Z"
   },
   {
    "duration": 292,
    "start_time": "2022-04-07T09:53:28.747Z"
   },
   {
    "duration": 415,
    "start_time": "2022-04-07T09:53:29.041Z"
   },
   {
    "duration": 42,
    "start_time": "2022-04-07T09:53:29.457Z"
   },
   {
    "duration": 259,
    "start_time": "2022-04-07T09:53:29.501Z"
   },
   {
    "duration": 500,
    "start_time": "2022-04-07T09:53:29.762Z"
   },
   {
    "duration": 42,
    "start_time": "2022-04-07T09:53:30.264Z"
   },
   {
    "duration": 303,
    "start_time": "2022-04-07T09:53:30.308Z"
   },
   {
    "duration": 415,
    "start_time": "2022-04-07T09:53:30.615Z"
   },
   {
    "duration": 40,
    "start_time": "2022-04-07T09:53:31.037Z"
   },
   {
    "duration": 42,
    "start_time": "2022-04-07T09:53:31.079Z"
   },
   {
    "duration": 2568,
    "start_time": "2022-04-07T09:53:31.138Z"
   },
   {
    "duration": 103,
    "start_time": "2022-04-07T09:53:33.708Z"
   },
   {
    "duration": 1451,
    "start_time": "2022-04-07T09:53:33.813Z"
   },
   {
    "duration": 4,
    "start_time": "2022-04-07T09:53:35.266Z"
   },
   {
    "duration": 10,
    "start_time": "2022-04-07T09:53:35.271Z"
   },
   {
    "duration": 237,
    "start_time": "2022-04-07T09:53:35.283Z"
   },
   {
    "duration": 1544,
    "start_time": "2022-04-07T09:53:35.521Z"
   },
   {
    "duration": 55,
    "start_time": "2022-04-07T09:53:37.067Z"
   },
   {
    "duration": 154,
    "start_time": "2022-04-07T09:53:37.124Z"
   },
   {
    "duration": 151,
    "start_time": "2022-04-07T09:53:37.279Z"
   },
   {
    "duration": 327,
    "start_time": "2022-04-07T09:53:37.437Z"
   },
   {
    "duration": 1431,
    "start_time": "2022-04-07T09:53:37.766Z"
   },
   {
    "duration": 56,
    "start_time": "2022-04-07T09:53:39.199Z"
   },
   {
    "duration": 9,
    "start_time": "2022-04-07T09:53:39.257Z"
   },
   {
    "duration": 33,
    "start_time": "2022-04-07T09:53:39.267Z"
   },
   {
    "duration": 7,
    "start_time": "2022-04-07T09:53:39.302Z"
   },
   {
    "duration": 1276,
    "start_time": "2022-04-07T09:53:39.311Z"
   },
   {
    "duration": 53,
    "start_time": "2022-04-07T09:53:40.589Z"
   },
   {
    "duration": 22,
    "start_time": "2022-04-07T09:53:40.644Z"
   },
   {
    "duration": 122,
    "start_time": "2022-04-07T09:53:40.667Z"
   },
   {
    "duration": 4,
    "start_time": "2022-04-07T09:53:40.791Z"
   },
   {
    "duration": 192,
    "start_time": "2022-04-07T09:53:40.797Z"
   },
   {
    "duration": 208,
    "start_time": "2022-04-07T09:53:40.992Z"
   },
   {
    "duration": 252,
    "start_time": "2022-04-07T09:53:41.205Z"
   },
   {
    "duration": 15,
    "start_time": "2022-04-07T09:53:41.459Z"
   },
   {
    "duration": 79,
    "start_time": "2022-04-07T09:53:41.476Z"
   },
   {
    "duration": 62,
    "start_time": "2022-04-07T09:53:41.557Z"
   },
   {
    "duration": 18,
    "start_time": "2022-04-07T09:53:41.620Z"
   },
   {
    "duration": 10,
    "start_time": "2022-04-07T09:53:41.640Z"
   },
   {
    "duration": 6,
    "start_time": "2022-04-07T09:53:41.652Z"
   },
   {
    "duration": 11,
    "start_time": "2022-04-07T09:53:41.659Z"
   },
   {
    "duration": 7,
    "start_time": "2022-04-07T09:53:41.671Z"
   },
   {
    "duration": 513,
    "start_time": "2022-04-07T09:53:41.679Z"
   },
   {
    "duration": 10047,
    "start_time": "2022-04-07T09:53:42.194Z"
   },
   {
    "duration": 2,
    "start_time": "2022-04-07T09:53:52.243Z"
   },
   {
    "duration": 12,
    "start_time": "2022-04-07T09:53:52.247Z"
   },
   {
    "duration": 5,
    "start_time": "2022-04-07T09:53:52.261Z"
   },
   {
    "duration": 19,
    "start_time": "2022-04-07T09:53:52.268Z"
   },
   {
    "duration": 6156,
    "start_time": "2022-04-07T09:53:52.289Z"
   },
   {
    "duration": 38198,
    "start_time": "2022-04-07T09:53:58.446Z"
   },
   {
    "duration": 3,
    "start_time": "2022-04-07T09:54:36.646Z"
   },
   {
    "duration": 29878,
    "start_time": "2022-04-07T09:54:36.650Z"
   },
   {
    "duration": 32853,
    "start_time": "2022-04-07T09:55:06.530Z"
   },
   {
    "duration": 3,
    "start_time": "2022-04-07T09:55:39.385Z"
   },
   {
    "duration": 39753,
    "start_time": "2022-04-07T09:55:39.389Z"
   },
   {
    "duration": 248204,
    "start_time": "2022-04-07T09:56:19.144Z"
   },
   {
    "duration": 10015,
    "start_time": "2022-04-07T10:00:27.349Z"
   },
   {
    "duration": 5884,
    "start_time": "2022-04-07T10:00:37.366Z"
   },
   {
    "duration": 6830,
    "start_time": "2022-04-07T10:00:43.252Z"
   }
  ],
  "kernelspec": {
   "display_name": "Python 3",
   "language": "python",
   "name": "python3"
  },
  "language_info": {
   "codemirror_mode": {
    "name": "ipython",
    "version": 3
   },
   "file_extension": ".py",
   "mimetype": "text/x-python",
   "name": "python",
   "nbconvert_exporter": "python",
   "pygments_lexer": "ipython3",
   "version": "3.8.8"
  },
  "toc": {
   "base_numbering": 1,
   "nav_menu": {},
   "number_sections": true,
   "sideBar": true,
   "skip_h1_title": true,
   "title_cell": "Table of Contents",
   "title_sidebar": "Contents",
   "toc_cell": false,
   "toc_position": {
    "height": "calc(100% - 180px)",
    "left": "10px",
    "top": "150px",
    "width": "430.396px"
   },
   "toc_section_display": true,
   "toc_window_display": true
  }
 },
 "nbformat": 4,
 "nbformat_minor": 2
}
