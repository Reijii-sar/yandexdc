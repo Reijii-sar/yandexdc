{
 "cells": [
  {
   "cell_type": "markdown",
   "metadata": {},
   "source": [
    "# Промышленность — задача проекта\n",
    "\n",
    "Чтобы оптимизировать производственные расходы, металлургический комбинат ООО «Так закаляем сталь» решил уменьшить потребление электроэнергии на этапе обработки стали. Вам предстоит построить модель, которая предскажет температуру стали.\n",
    "\n",
    "**Описание этапа обработки:**\n",
    "\n",
    "Сталь обрабатывают в металлическом ковше вместимостью около 100 тонн. Чтобы ковш выдерживал высокие температуры, изнутри его облицовывают огнеупорным кирпичом. Расплавленную сталь заливают в ковш и подогревают до нужной температуры графитовыми электродами. Они установлены в крышке ковша. \n",
    "\n",
    "Из сплава выводится сера (десульфурация), добавлением примесей корректируется химический состав и отбираются пробы. Сталь легируют — изменяют её состав — подавая куски сплава из бункера для сыпучих материалов или проволоку через специальный трайб-аппарат (англ. tribe, «масса»).\n",
    "\n",
    "Перед тем как первый раз ввести легирующие добавки, измеряют температуру стали и производят её химический анализ. Потом температуру на несколько минут повышают, добавляют легирующие материалы и продувают сплав инертным газом. Затем его перемешивают и снова проводят измерения. Такой цикл повторяется до достижения целевого химического состава и оптимальной температуры плавки.\n",
    "\n",
    "Тогда расплавленная сталь отправляется на доводку металла или поступает в машину непрерывной разливки. Оттуда готовый продукт выходит в виде заготовок-слябов (англ. *slab*, «плита»).\n",
    "\n",
    "**Описание данных:**\n",
    "\n",
    "Данные состоят из файлов, полученных из разных источников:\n",
    "\n",
    "- `data_arc.csv` — данные об электродах;\n",
    "- `data_bulk.csv` — данные о подаче сыпучих материалов (объём);\n",
    "- `data_bulk_time.csv` *—* данные о подаче сыпучих материалов (время);\n",
    "- `data_gas.csv` — данные о продувке сплава газом;\n",
    "- `data_temp.csv` — результаты измерения температуры;\n",
    "- `data_wire.csv` — данные о проволочных материалах (объём);\n",
    "- `data_wire_time.csv` — данные о проволочных материалах (время).\n",
    "\n",
    "Во всех файлах столбец `key` содержит номер партии. В файлах может быть несколько строк с одинаковым значением `key`: они соответствуют разным итерациям обработки."
   ]
  },
  {
   "cell_type": "code",
   "execution_count": 1,
   "metadata": {},
   "outputs": [],
   "source": [
    "import pandas as pd \n",
    "import numpy as np \n",
    "import matplotlib.pyplot as plt \n",
    "import seaborn as sns \n",
    "import warnings\n",
    "warnings.filterwarnings('ignore') \n",
    "\n",
    "from sklearn.preprocessing import MinMaxScaler\n",
    "from sklearn.model_selection import train_test_split, GridSearchCV\n",
    "from sklearn.metrics import mean_absolute_error\n",
    "\n",
    "from sklearn.linear_model import LinearRegression\n",
    "from sklearn.ensemble import RandomForestRegressor\n",
    "from lightgbm import LGBMRegressor"
   ]
  },
  {
   "cell_type": "code",
   "execution_count": 2,
   "metadata": {},
   "outputs": [],
   "source": [
    "arc = pd.read_csv('/datasets/final_steel/data_arc.csv')\n",
    "bulk = pd.read_csv('/datasets/final_steel/data_bulk.csv')\n",
    "bulk_time = pd.read_csv('/datasets/final_steel/data_bulk_time.csv')\n",
    "gas = pd.read_csv('/datasets/final_steel/data_gas.csv')\n",
    "temp = pd.read_csv('/datasets/final_steel/data_temp.csv')\n",
    "wire = pd.read_csv('/datasets/final_steel/data_wire.csv')\n",
    "wire_time = pd.read_csv('/datasets/final_steel/data_wire_time.csv')"
   ]
  },
  {
   "cell_type": "code",
   "execution_count": 3,
   "metadata": {},
   "outputs": [],
   "source": [
    "#arc = pd.read_csv('C:/datasets/data_arc.csv')\n",
    "#bulk = pd.read_csv('C:/datasets/data_bulk.csv')\n",
    "#bulk_time = pd.read_csv('C:/datasets/data_bulk_time.csv')\n",
    "#gas = pd.read_csv('C:/datasets/data_gas.csv')\n",
    "#temp = pd.read_csv('C:/datasets/data_temp.csv')\n",
    "#wire = pd.read_csv('C:/datasets/data_wire.csv')\n",
    "#wire_time = pd.read_csv('C:/datasets/data_wire_time.csv')  "
   ]
  },
  {
   "cell_type": "markdown",
   "metadata": {},
   "source": [
    "## Анализ данных"
   ]
  },
  {
   "cell_type": "code",
   "execution_count": 4,
   "metadata": {},
   "outputs": [],
   "source": [
    "#функция для получения информации о датасете\n",
    "def info_data(data):\n",
    "    display (data.head())\n",
    "    display (data.info())\n",
    "    display (data.describe())\n",
    "    print ('Уникальных партий:', len(data['key'].unique()))"
   ]
  },
  {
   "cell_type": "markdown",
   "metadata": {},
   "source": [
    "### Arc — данные об электродах"
   ]
  },
  {
   "cell_type": "code",
   "execution_count": 5,
   "metadata": {},
   "outputs": [
    {
     "data": {
      "text/html": [
       "<div>\n",
       "<style scoped>\n",
       "    .dataframe tbody tr th:only-of-type {\n",
       "        vertical-align: middle;\n",
       "    }\n",
       "\n",
       "    .dataframe tbody tr th {\n",
       "        vertical-align: top;\n",
       "    }\n",
       "\n",
       "    .dataframe thead th {\n",
       "        text-align: right;\n",
       "    }\n",
       "</style>\n",
       "<table border=\"1\" class=\"dataframe\">\n",
       "  <thead>\n",
       "    <tr style=\"text-align: right;\">\n",
       "      <th></th>\n",
       "      <th>key</th>\n",
       "      <th>Начало нагрева дугой</th>\n",
       "      <th>Конец нагрева дугой</th>\n",
       "      <th>Активная мощность</th>\n",
       "      <th>Реактивная мощность</th>\n",
       "    </tr>\n",
       "  </thead>\n",
       "  <tbody>\n",
       "    <tr>\n",
       "      <th>0</th>\n",
       "      <td>1</td>\n",
       "      <td>2019-05-03 11:02:14</td>\n",
       "      <td>2019-05-03 11:06:02</td>\n",
       "      <td>0.976059</td>\n",
       "      <td>0.687084</td>\n",
       "    </tr>\n",
       "    <tr>\n",
       "      <th>1</th>\n",
       "      <td>1</td>\n",
       "      <td>2019-05-03 11:07:28</td>\n",
       "      <td>2019-05-03 11:10:33</td>\n",
       "      <td>0.805607</td>\n",
       "      <td>0.520285</td>\n",
       "    </tr>\n",
       "    <tr>\n",
       "      <th>2</th>\n",
       "      <td>1</td>\n",
       "      <td>2019-05-03 11:11:44</td>\n",
       "      <td>2019-05-03 11:14:36</td>\n",
       "      <td>0.744363</td>\n",
       "      <td>0.498805</td>\n",
       "    </tr>\n",
       "    <tr>\n",
       "      <th>3</th>\n",
       "      <td>1</td>\n",
       "      <td>2019-05-03 11:18:14</td>\n",
       "      <td>2019-05-03 11:24:19</td>\n",
       "      <td>1.659363</td>\n",
       "      <td>1.062669</td>\n",
       "    </tr>\n",
       "    <tr>\n",
       "      <th>4</th>\n",
       "      <td>1</td>\n",
       "      <td>2019-05-03 11:26:09</td>\n",
       "      <td>2019-05-03 11:28:37</td>\n",
       "      <td>0.692755</td>\n",
       "      <td>0.414397</td>\n",
       "    </tr>\n",
       "  </tbody>\n",
       "</table>\n",
       "</div>"
      ],
      "text/plain": [
       "   key Начало нагрева дугой  Конец нагрева дугой  Активная мощность  \\\n",
       "0    1  2019-05-03 11:02:14  2019-05-03 11:06:02           0.976059   \n",
       "1    1  2019-05-03 11:07:28  2019-05-03 11:10:33           0.805607   \n",
       "2    1  2019-05-03 11:11:44  2019-05-03 11:14:36           0.744363   \n",
       "3    1  2019-05-03 11:18:14  2019-05-03 11:24:19           1.659363   \n",
       "4    1  2019-05-03 11:26:09  2019-05-03 11:28:37           0.692755   \n",
       "\n",
       "   Реактивная мощность  \n",
       "0             0.687084  \n",
       "1             0.520285  \n",
       "2             0.498805  \n",
       "3             1.062669  \n",
       "4             0.414397  "
      ]
     },
     "metadata": {},
     "output_type": "display_data"
    },
    {
     "name": "stdout",
     "output_type": "stream",
     "text": [
      "<class 'pandas.core.frame.DataFrame'>\n",
      "RangeIndex: 14876 entries, 0 to 14875\n",
      "Data columns (total 5 columns):\n",
      " #   Column                Non-Null Count  Dtype  \n",
      "---  ------                --------------  -----  \n",
      " 0   key                   14876 non-null  int64  \n",
      " 1   Начало нагрева дугой  14876 non-null  object \n",
      " 2   Конец нагрева дугой   14876 non-null  object \n",
      " 3   Активная мощность     14876 non-null  float64\n",
      " 4   Реактивная мощность   14876 non-null  float64\n",
      "dtypes: float64(2), int64(1), object(2)\n",
      "memory usage: 581.2+ KB\n"
     ]
    },
    {
     "data": {
      "text/plain": [
       "None"
      ]
     },
     "metadata": {},
     "output_type": "display_data"
    },
    {
     "data": {
      "text/html": [
       "<div>\n",
       "<style scoped>\n",
       "    .dataframe tbody tr th:only-of-type {\n",
       "        vertical-align: middle;\n",
       "    }\n",
       "\n",
       "    .dataframe tbody tr th {\n",
       "        vertical-align: top;\n",
       "    }\n",
       "\n",
       "    .dataframe thead th {\n",
       "        text-align: right;\n",
       "    }\n",
       "</style>\n",
       "<table border=\"1\" class=\"dataframe\">\n",
       "  <thead>\n",
       "    <tr style=\"text-align: right;\">\n",
       "      <th></th>\n",
       "      <th>key</th>\n",
       "      <th>Активная мощность</th>\n",
       "      <th>Реактивная мощность</th>\n",
       "    </tr>\n",
       "  </thead>\n",
       "  <tbody>\n",
       "    <tr>\n",
       "      <th>count</th>\n",
       "      <td>14876.000000</td>\n",
       "      <td>14876.000000</td>\n",
       "      <td>14876.000000</td>\n",
       "    </tr>\n",
       "    <tr>\n",
       "      <th>mean</th>\n",
       "      <td>1615.220422</td>\n",
       "      <td>0.670441</td>\n",
       "      <td>0.452592</td>\n",
       "    </tr>\n",
       "    <tr>\n",
       "      <th>std</th>\n",
       "      <td>934.571502</td>\n",
       "      <td>0.408159</td>\n",
       "      <td>5.878702</td>\n",
       "    </tr>\n",
       "    <tr>\n",
       "      <th>min</th>\n",
       "      <td>1.000000</td>\n",
       "      <td>0.030002</td>\n",
       "      <td>-715.504924</td>\n",
       "    </tr>\n",
       "    <tr>\n",
       "      <th>25%</th>\n",
       "      <td>806.000000</td>\n",
       "      <td>0.395297</td>\n",
       "      <td>0.290991</td>\n",
       "    </tr>\n",
       "    <tr>\n",
       "      <th>50%</th>\n",
       "      <td>1617.000000</td>\n",
       "      <td>0.555517</td>\n",
       "      <td>0.415962</td>\n",
       "    </tr>\n",
       "    <tr>\n",
       "      <th>75%</th>\n",
       "      <td>2429.000000</td>\n",
       "      <td>0.857034</td>\n",
       "      <td>0.637371</td>\n",
       "    </tr>\n",
       "    <tr>\n",
       "      <th>max</th>\n",
       "      <td>3241.000000</td>\n",
       "      <td>3.731596</td>\n",
       "      <td>2.676388</td>\n",
       "    </tr>\n",
       "  </tbody>\n",
       "</table>\n",
       "</div>"
      ],
      "text/plain": [
       "                key  Активная мощность  Реактивная мощность\n",
       "count  14876.000000       14876.000000         14876.000000\n",
       "mean    1615.220422           0.670441             0.452592\n",
       "std      934.571502           0.408159             5.878702\n",
       "min        1.000000           0.030002          -715.504924\n",
       "25%      806.000000           0.395297             0.290991\n",
       "50%     1617.000000           0.555517             0.415962\n",
       "75%     2429.000000           0.857034             0.637371\n",
       "max     3241.000000           3.731596             2.676388"
      ]
     },
     "metadata": {},
     "output_type": "display_data"
    },
    {
     "name": "stdout",
     "output_type": "stream",
     "text": [
      "Уникальных партий: 3214\n"
     ]
    }
   ],
   "source": [
    "info_data(arc)"
   ]
  },
  {
   "cell_type": "markdown",
   "metadata": {},
   "source": [
    "- всего 14876 значений итераций обработки в 3214 партиях\n",
    "- в среднем на каждую партию приходится 4,6 итераций\n",
    "- пропусков в данных нет\n",
    "- в данных о \"Реактивной мощности\" прослеживается явный выброс в минусовых значениях. Посмотрим эти данные"
   ]
  },
  {
   "cell_type": "code",
   "execution_count": 6,
   "metadata": {},
   "outputs": [
    {
     "name": "stdout",
     "output_type": "stream",
     "text": [
      "Количество отрицательных значений  в колонке \"Реактивная мощность\": 1\n"
     ]
    }
   ],
   "source": [
    "print('Количество отрицательных значений  в колонке \"Реактивная мощность\":',\n",
    "      len([item for item in arc['Реактивная мощность'] if item < 0]))"
   ]
  },
  {
   "cell_type": "code",
   "execution_count": 7,
   "metadata": {},
   "outputs": [
    {
     "data": {
      "text/html": [
       "<div>\n",
       "<style scoped>\n",
       "    .dataframe tbody tr th:only-of-type {\n",
       "        vertical-align: middle;\n",
       "    }\n",
       "\n",
       "    .dataframe tbody tr th {\n",
       "        vertical-align: top;\n",
       "    }\n",
       "\n",
       "    .dataframe thead th {\n",
       "        text-align: right;\n",
       "    }\n",
       "</style>\n",
       "<table border=\"1\" class=\"dataframe\">\n",
       "  <thead>\n",
       "    <tr style=\"text-align: right;\">\n",
       "      <th></th>\n",
       "      <th>key</th>\n",
       "      <th>Начало нагрева дугой</th>\n",
       "      <th>Конец нагрева дугой</th>\n",
       "      <th>Активная мощность</th>\n",
       "      <th>Реактивная мощность</th>\n",
       "    </tr>\n",
       "  </thead>\n",
       "  <tbody>\n",
       "    <tr>\n",
       "      <th>9777</th>\n",
       "      <td>2115</td>\n",
       "      <td>2019-07-24 00:21:20</td>\n",
       "      <td>2019-07-24 00:22:21</td>\n",
       "      <td>0.259949</td>\n",
       "      <td>0.175169</td>\n",
       "    </tr>\n",
       "    <tr>\n",
       "      <th>9778</th>\n",
       "      <td>2116</td>\n",
       "      <td>2019-07-24 00:29:52</td>\n",
       "      <td>2019-07-24 00:31:54</td>\n",
       "      <td>0.433266</td>\n",
       "      <td>0.306141</td>\n",
       "    </tr>\n",
       "    <tr>\n",
       "      <th>9779</th>\n",
       "      <td>2116</td>\n",
       "      <td>2019-07-24 00:35:50</td>\n",
       "      <td>2019-07-24 00:38:05</td>\n",
       "      <td>0.620265</td>\n",
       "      <td>0.408352</td>\n",
       "    </tr>\n",
       "    <tr>\n",
       "      <th>9780</th>\n",
       "      <td>2116</td>\n",
       "      <td>2019-07-24 00:44:48</td>\n",
       "      <td>2019-07-24 00:46:37</td>\n",
       "      <td>0.495782</td>\n",
       "      <td>-715.504924</td>\n",
       "    </tr>\n",
       "    <tr>\n",
       "      <th>9781</th>\n",
       "      <td>2116</td>\n",
       "      <td>2019-07-24 00:51:51</td>\n",
       "      <td>2019-07-24 00:52:58</td>\n",
       "      <td>0.299368</td>\n",
       "      <td>0.198796</td>\n",
       "    </tr>\n",
       "    <tr>\n",
       "      <th>9782</th>\n",
       "      <td>2117</td>\n",
       "      <td>2019-07-24 01:06:01</td>\n",
       "      <td>2019-07-24 01:07:57</td>\n",
       "      <td>0.443970</td>\n",
       "      <td>0.367739</td>\n",
       "    </tr>\n",
       "  </tbody>\n",
       "</table>\n",
       "</div>"
      ],
      "text/plain": [
       "       key Начало нагрева дугой  Конец нагрева дугой  Активная мощность  \\\n",
       "9777  2115  2019-07-24 00:21:20  2019-07-24 00:22:21           0.259949   \n",
       "9778  2116  2019-07-24 00:29:52  2019-07-24 00:31:54           0.433266   \n",
       "9779  2116  2019-07-24 00:35:50  2019-07-24 00:38:05           0.620265   \n",
       "9780  2116  2019-07-24 00:44:48  2019-07-24 00:46:37           0.495782   \n",
       "9781  2116  2019-07-24 00:51:51  2019-07-24 00:52:58           0.299368   \n",
       "9782  2117  2019-07-24 01:06:01  2019-07-24 01:07:57           0.443970   \n",
       "\n",
       "      Реактивная мощность  \n",
       "9777             0.175169  \n",
       "9778             0.306141  \n",
       "9779             0.408352  \n",
       "9780          -715.504924  \n",
       "9781             0.198796  \n",
       "9782             0.367739  "
      ]
     },
     "metadata": {},
     "output_type": "display_data"
    }
   ],
   "source": [
    "ind = int(arc[arc['Реактивная мощность'] <=0].index.values)\n",
    "display(arc.iloc[ind-3:ind+3])"
   ]
  },
  {
   "cell_type": "markdown",
   "metadata": {},
   "source": [
    "В данном случае прослеживается ошибка в данных. Какое значение должно быть фактически, мы не можем скзать. Единственное о чем можно сделать вывод, что реактивная мощность на этой итерации снижалась, а так же что реактивная мощность по результатам прочих наблюдений составляет 60-70% от активной мощности. Предлагаю заменить ошибочные данные на значение активной мощности с поправочным коэффициентом, который будет равен среднему % отклонению активной и реактивной мощнастей."
   ]
  },
  {
   "cell_type": "code",
   "execution_count": 8,
   "metadata": {},
   "outputs": [
    {
     "name": "stdout",
     "output_type": "stream",
     "text": [
      "Новое значение \"Реактивной мощности\" в 9780 строке: 0.3347080373509705\n"
     ]
    }
   ],
   "source": [
    "mean_activ=arc['Активная мощность'].mean()\n",
    "mean_reactiv=arc['Реактивная мощность'].sum()/len([item for item in arc['Реактивная мощность'] if item > 0])   \n",
    "k_reactiv = mean_reactiv/mean_activ\n",
    "arc.loc[ind,'Реактивная мощность'] = arc.loc[ind,'Активная мощность'] * k_reactiv\n",
    "print('Новое значение \"Реактивной мощности\" в', ind, 'строке:', arc.loc[ind,'Реактивная мощность'])"
   ]
  },
  {
   "cell_type": "markdown",
   "metadata": {},
   "source": [
    "### Bulk — данные о подаче сыпучих материалов "
   ]
  },
  {
   "cell_type": "code",
   "execution_count": 9,
   "metadata": {},
   "outputs": [
    {
     "data": {
      "text/html": [
       "<div>\n",
       "<style scoped>\n",
       "    .dataframe tbody tr th:only-of-type {\n",
       "        vertical-align: middle;\n",
       "    }\n",
       "\n",
       "    .dataframe tbody tr th {\n",
       "        vertical-align: top;\n",
       "    }\n",
       "\n",
       "    .dataframe thead th {\n",
       "        text-align: right;\n",
       "    }\n",
       "</style>\n",
       "<table border=\"1\" class=\"dataframe\">\n",
       "  <thead>\n",
       "    <tr style=\"text-align: right;\">\n",
       "      <th></th>\n",
       "      <th>key</th>\n",
       "      <th>Bulk 1</th>\n",
       "      <th>Bulk 2</th>\n",
       "      <th>Bulk 3</th>\n",
       "      <th>Bulk 4</th>\n",
       "      <th>Bulk 5</th>\n",
       "      <th>Bulk 6</th>\n",
       "      <th>Bulk 7</th>\n",
       "      <th>Bulk 8</th>\n",
       "      <th>Bulk 9</th>\n",
       "      <th>Bulk 10</th>\n",
       "      <th>Bulk 11</th>\n",
       "      <th>Bulk 12</th>\n",
       "      <th>Bulk 13</th>\n",
       "      <th>Bulk 14</th>\n",
       "      <th>Bulk 15</th>\n",
       "    </tr>\n",
       "  </thead>\n",
       "  <tbody>\n",
       "    <tr>\n",
       "      <th>0</th>\n",
       "      <td>1</td>\n",
       "      <td>NaN</td>\n",
       "      <td>NaN</td>\n",
       "      <td>NaN</td>\n",
       "      <td>43.0</td>\n",
       "      <td>NaN</td>\n",
       "      <td>NaN</td>\n",
       "      <td>NaN</td>\n",
       "      <td>NaN</td>\n",
       "      <td>NaN</td>\n",
       "      <td>NaN</td>\n",
       "      <td>NaN</td>\n",
       "      <td>206.0</td>\n",
       "      <td>NaN</td>\n",
       "      <td>150.0</td>\n",
       "      <td>154.0</td>\n",
       "    </tr>\n",
       "    <tr>\n",
       "      <th>1</th>\n",
       "      <td>2</td>\n",
       "      <td>NaN</td>\n",
       "      <td>NaN</td>\n",
       "      <td>NaN</td>\n",
       "      <td>73.0</td>\n",
       "      <td>NaN</td>\n",
       "      <td>NaN</td>\n",
       "      <td>NaN</td>\n",
       "      <td>NaN</td>\n",
       "      <td>NaN</td>\n",
       "      <td>NaN</td>\n",
       "      <td>NaN</td>\n",
       "      <td>206.0</td>\n",
       "      <td>NaN</td>\n",
       "      <td>149.0</td>\n",
       "      <td>154.0</td>\n",
       "    </tr>\n",
       "    <tr>\n",
       "      <th>2</th>\n",
       "      <td>3</td>\n",
       "      <td>NaN</td>\n",
       "      <td>NaN</td>\n",
       "      <td>NaN</td>\n",
       "      <td>34.0</td>\n",
       "      <td>NaN</td>\n",
       "      <td>NaN</td>\n",
       "      <td>NaN</td>\n",
       "      <td>NaN</td>\n",
       "      <td>NaN</td>\n",
       "      <td>NaN</td>\n",
       "      <td>NaN</td>\n",
       "      <td>205.0</td>\n",
       "      <td>NaN</td>\n",
       "      <td>152.0</td>\n",
       "      <td>153.0</td>\n",
       "    </tr>\n",
       "    <tr>\n",
       "      <th>3</th>\n",
       "      <td>4</td>\n",
       "      <td>NaN</td>\n",
       "      <td>NaN</td>\n",
       "      <td>NaN</td>\n",
       "      <td>81.0</td>\n",
       "      <td>NaN</td>\n",
       "      <td>NaN</td>\n",
       "      <td>NaN</td>\n",
       "      <td>NaN</td>\n",
       "      <td>NaN</td>\n",
       "      <td>NaN</td>\n",
       "      <td>NaN</td>\n",
       "      <td>207.0</td>\n",
       "      <td>NaN</td>\n",
       "      <td>153.0</td>\n",
       "      <td>154.0</td>\n",
       "    </tr>\n",
       "    <tr>\n",
       "      <th>4</th>\n",
       "      <td>5</td>\n",
       "      <td>NaN</td>\n",
       "      <td>NaN</td>\n",
       "      <td>NaN</td>\n",
       "      <td>78.0</td>\n",
       "      <td>NaN</td>\n",
       "      <td>NaN</td>\n",
       "      <td>NaN</td>\n",
       "      <td>NaN</td>\n",
       "      <td>NaN</td>\n",
       "      <td>NaN</td>\n",
       "      <td>NaN</td>\n",
       "      <td>203.0</td>\n",
       "      <td>NaN</td>\n",
       "      <td>151.0</td>\n",
       "      <td>152.0</td>\n",
       "    </tr>\n",
       "  </tbody>\n",
       "</table>\n",
       "</div>"
      ],
      "text/plain": [
       "   key  Bulk 1  Bulk 2  Bulk 3  Bulk 4  Bulk 5  Bulk 6  Bulk 7  Bulk 8  \\\n",
       "0    1     NaN     NaN     NaN    43.0     NaN     NaN     NaN     NaN   \n",
       "1    2     NaN     NaN     NaN    73.0     NaN     NaN     NaN     NaN   \n",
       "2    3     NaN     NaN     NaN    34.0     NaN     NaN     NaN     NaN   \n",
       "3    4     NaN     NaN     NaN    81.0     NaN     NaN     NaN     NaN   \n",
       "4    5     NaN     NaN     NaN    78.0     NaN     NaN     NaN     NaN   \n",
       "\n",
       "   Bulk 9  Bulk 10  Bulk 11  Bulk 12  Bulk 13  Bulk 14  Bulk 15  \n",
       "0     NaN      NaN      NaN    206.0      NaN    150.0    154.0  \n",
       "1     NaN      NaN      NaN    206.0      NaN    149.0    154.0  \n",
       "2     NaN      NaN      NaN    205.0      NaN    152.0    153.0  \n",
       "3     NaN      NaN      NaN    207.0      NaN    153.0    154.0  \n",
       "4     NaN      NaN      NaN    203.0      NaN    151.0    152.0  "
      ]
     },
     "metadata": {},
     "output_type": "display_data"
    },
    {
     "name": "stdout",
     "output_type": "stream",
     "text": [
      "<class 'pandas.core.frame.DataFrame'>\n",
      "RangeIndex: 3129 entries, 0 to 3128\n",
      "Data columns (total 16 columns):\n",
      " #   Column   Non-Null Count  Dtype  \n",
      "---  ------   --------------  -----  \n",
      " 0   key      3129 non-null   int64  \n",
      " 1   Bulk 1   252 non-null    float64\n",
      " 2   Bulk 2   22 non-null     float64\n",
      " 3   Bulk 3   1298 non-null   float64\n",
      " 4   Bulk 4   1014 non-null   float64\n",
      " 5   Bulk 5   77 non-null     float64\n",
      " 6   Bulk 6   576 non-null    float64\n",
      " 7   Bulk 7   25 non-null     float64\n",
      " 8   Bulk 8   1 non-null      float64\n",
      " 9   Bulk 9   19 non-null     float64\n",
      " 10  Bulk 10  176 non-null    float64\n",
      " 11  Bulk 11  177 non-null    float64\n",
      " 12  Bulk 12  2450 non-null   float64\n",
      " 13  Bulk 13  18 non-null     float64\n",
      " 14  Bulk 14  2806 non-null   float64\n",
      " 15  Bulk 15  2248 non-null   float64\n",
      "dtypes: float64(15), int64(1)\n",
      "memory usage: 391.2 KB\n"
     ]
    },
    {
     "data": {
      "text/plain": [
       "None"
      ]
     },
     "metadata": {},
     "output_type": "display_data"
    },
    {
     "data": {
      "text/html": [
       "<div>\n",
       "<style scoped>\n",
       "    .dataframe tbody tr th:only-of-type {\n",
       "        vertical-align: middle;\n",
       "    }\n",
       "\n",
       "    .dataframe tbody tr th {\n",
       "        vertical-align: top;\n",
       "    }\n",
       "\n",
       "    .dataframe thead th {\n",
       "        text-align: right;\n",
       "    }\n",
       "</style>\n",
       "<table border=\"1\" class=\"dataframe\">\n",
       "  <thead>\n",
       "    <tr style=\"text-align: right;\">\n",
       "      <th></th>\n",
       "      <th>key</th>\n",
       "      <th>Bulk 1</th>\n",
       "      <th>Bulk 2</th>\n",
       "      <th>Bulk 3</th>\n",
       "      <th>Bulk 4</th>\n",
       "      <th>Bulk 5</th>\n",
       "      <th>Bulk 6</th>\n",
       "      <th>Bulk 7</th>\n",
       "      <th>Bulk 8</th>\n",
       "      <th>Bulk 9</th>\n",
       "      <th>Bulk 10</th>\n",
       "      <th>Bulk 11</th>\n",
       "      <th>Bulk 12</th>\n",
       "      <th>Bulk 13</th>\n",
       "      <th>Bulk 14</th>\n",
       "      <th>Bulk 15</th>\n",
       "    </tr>\n",
       "  </thead>\n",
       "  <tbody>\n",
       "    <tr>\n",
       "      <th>count</th>\n",
       "      <td>3129.000000</td>\n",
       "      <td>252.000000</td>\n",
       "      <td>22.000000</td>\n",
       "      <td>1298.000000</td>\n",
       "      <td>1014.000000</td>\n",
       "      <td>77.000000</td>\n",
       "      <td>576.000000</td>\n",
       "      <td>25.000000</td>\n",
       "      <td>1.0</td>\n",
       "      <td>19.000000</td>\n",
       "      <td>176.000000</td>\n",
       "      <td>177.000000</td>\n",
       "      <td>2450.000000</td>\n",
       "      <td>18.000000</td>\n",
       "      <td>2806.000000</td>\n",
       "      <td>2248.000000</td>\n",
       "    </tr>\n",
       "    <tr>\n",
       "      <th>mean</th>\n",
       "      <td>1624.383509</td>\n",
       "      <td>39.242063</td>\n",
       "      <td>253.045455</td>\n",
       "      <td>113.879045</td>\n",
       "      <td>104.394477</td>\n",
       "      <td>107.025974</td>\n",
       "      <td>118.925347</td>\n",
       "      <td>305.600000</td>\n",
       "      <td>49.0</td>\n",
       "      <td>76.315789</td>\n",
       "      <td>83.284091</td>\n",
       "      <td>76.819209</td>\n",
       "      <td>260.471020</td>\n",
       "      <td>181.111111</td>\n",
       "      <td>170.284747</td>\n",
       "      <td>160.513345</td>\n",
       "    </tr>\n",
       "    <tr>\n",
       "      <th>std</th>\n",
       "      <td>933.337642</td>\n",
       "      <td>18.277654</td>\n",
       "      <td>21.180578</td>\n",
       "      <td>75.483494</td>\n",
       "      <td>48.184126</td>\n",
       "      <td>81.790646</td>\n",
       "      <td>72.057776</td>\n",
       "      <td>191.022904</td>\n",
       "      <td>NaN</td>\n",
       "      <td>21.720581</td>\n",
       "      <td>26.060347</td>\n",
       "      <td>59.655365</td>\n",
       "      <td>120.649269</td>\n",
       "      <td>46.088009</td>\n",
       "      <td>65.868652</td>\n",
       "      <td>51.765319</td>\n",
       "    </tr>\n",
       "    <tr>\n",
       "      <th>min</th>\n",
       "      <td>1.000000</td>\n",
       "      <td>10.000000</td>\n",
       "      <td>228.000000</td>\n",
       "      <td>6.000000</td>\n",
       "      <td>12.000000</td>\n",
       "      <td>11.000000</td>\n",
       "      <td>17.000000</td>\n",
       "      <td>47.000000</td>\n",
       "      <td>49.0</td>\n",
       "      <td>63.000000</td>\n",
       "      <td>24.000000</td>\n",
       "      <td>8.000000</td>\n",
       "      <td>53.000000</td>\n",
       "      <td>151.000000</td>\n",
       "      <td>16.000000</td>\n",
       "      <td>1.000000</td>\n",
       "    </tr>\n",
       "    <tr>\n",
       "      <th>25%</th>\n",
       "      <td>816.000000</td>\n",
       "      <td>27.000000</td>\n",
       "      <td>242.000000</td>\n",
       "      <td>58.000000</td>\n",
       "      <td>72.000000</td>\n",
       "      <td>70.000000</td>\n",
       "      <td>69.750000</td>\n",
       "      <td>155.000000</td>\n",
       "      <td>49.0</td>\n",
       "      <td>66.000000</td>\n",
       "      <td>64.000000</td>\n",
       "      <td>25.000000</td>\n",
       "      <td>204.000000</td>\n",
       "      <td>153.250000</td>\n",
       "      <td>119.000000</td>\n",
       "      <td>105.000000</td>\n",
       "    </tr>\n",
       "    <tr>\n",
       "      <th>50%</th>\n",
       "      <td>1622.000000</td>\n",
       "      <td>31.000000</td>\n",
       "      <td>251.500000</td>\n",
       "      <td>97.500000</td>\n",
       "      <td>102.000000</td>\n",
       "      <td>86.000000</td>\n",
       "      <td>100.000000</td>\n",
       "      <td>298.000000</td>\n",
       "      <td>49.0</td>\n",
       "      <td>68.000000</td>\n",
       "      <td>86.500000</td>\n",
       "      <td>64.000000</td>\n",
       "      <td>208.000000</td>\n",
       "      <td>155.500000</td>\n",
       "      <td>151.000000</td>\n",
       "      <td>160.000000</td>\n",
       "    </tr>\n",
       "    <tr>\n",
       "      <th>75%</th>\n",
       "      <td>2431.000000</td>\n",
       "      <td>46.000000</td>\n",
       "      <td>257.750000</td>\n",
       "      <td>152.000000</td>\n",
       "      <td>133.000000</td>\n",
       "      <td>132.000000</td>\n",
       "      <td>157.000000</td>\n",
       "      <td>406.000000</td>\n",
       "      <td>49.0</td>\n",
       "      <td>70.500000</td>\n",
       "      <td>102.000000</td>\n",
       "      <td>106.000000</td>\n",
       "      <td>316.000000</td>\n",
       "      <td>203.500000</td>\n",
       "      <td>205.750000</td>\n",
       "      <td>205.000000</td>\n",
       "    </tr>\n",
       "    <tr>\n",
       "      <th>max</th>\n",
       "      <td>3241.000000</td>\n",
       "      <td>185.000000</td>\n",
       "      <td>325.000000</td>\n",
       "      <td>454.000000</td>\n",
       "      <td>281.000000</td>\n",
       "      <td>603.000000</td>\n",
       "      <td>503.000000</td>\n",
       "      <td>772.000000</td>\n",
       "      <td>49.0</td>\n",
       "      <td>147.000000</td>\n",
       "      <td>159.000000</td>\n",
       "      <td>313.000000</td>\n",
       "      <td>1849.000000</td>\n",
       "      <td>305.000000</td>\n",
       "      <td>636.000000</td>\n",
       "      <td>405.000000</td>\n",
       "    </tr>\n",
       "  </tbody>\n",
       "</table>\n",
       "</div>"
      ],
      "text/plain": [
       "               key      Bulk 1      Bulk 2       Bulk 3       Bulk 4  \\\n",
       "count  3129.000000  252.000000   22.000000  1298.000000  1014.000000   \n",
       "mean   1624.383509   39.242063  253.045455   113.879045   104.394477   \n",
       "std     933.337642   18.277654   21.180578    75.483494    48.184126   \n",
       "min       1.000000   10.000000  228.000000     6.000000    12.000000   \n",
       "25%     816.000000   27.000000  242.000000    58.000000    72.000000   \n",
       "50%    1622.000000   31.000000  251.500000    97.500000   102.000000   \n",
       "75%    2431.000000   46.000000  257.750000   152.000000   133.000000   \n",
       "max    3241.000000  185.000000  325.000000   454.000000   281.000000   \n",
       "\n",
       "           Bulk 5      Bulk 6      Bulk 7  Bulk 8      Bulk 9     Bulk 10  \\\n",
       "count   77.000000  576.000000   25.000000     1.0   19.000000  176.000000   \n",
       "mean   107.025974  118.925347  305.600000    49.0   76.315789   83.284091   \n",
       "std     81.790646   72.057776  191.022904     NaN   21.720581   26.060347   \n",
       "min     11.000000   17.000000   47.000000    49.0   63.000000   24.000000   \n",
       "25%     70.000000   69.750000  155.000000    49.0   66.000000   64.000000   \n",
       "50%     86.000000  100.000000  298.000000    49.0   68.000000   86.500000   \n",
       "75%    132.000000  157.000000  406.000000    49.0   70.500000  102.000000   \n",
       "max    603.000000  503.000000  772.000000    49.0  147.000000  159.000000   \n",
       "\n",
       "          Bulk 11      Bulk 12     Bulk 13      Bulk 14      Bulk 15  \n",
       "count  177.000000  2450.000000   18.000000  2806.000000  2248.000000  \n",
       "mean    76.819209   260.471020  181.111111   170.284747   160.513345  \n",
       "std     59.655365   120.649269   46.088009    65.868652    51.765319  \n",
       "min      8.000000    53.000000  151.000000    16.000000     1.000000  \n",
       "25%     25.000000   204.000000  153.250000   119.000000   105.000000  \n",
       "50%     64.000000   208.000000  155.500000   151.000000   160.000000  \n",
       "75%    106.000000   316.000000  203.500000   205.750000   205.000000  \n",
       "max    313.000000  1849.000000  305.000000   636.000000   405.000000  "
      ]
     },
     "metadata": {},
     "output_type": "display_data"
    },
    {
     "name": "stdout",
     "output_type": "stream",
     "text": [
      "Уникальных партий: 3129\n"
     ]
    }
   ],
   "source": [
    "info_data(bulk)"
   ]
  },
  {
   "cell_type": "code",
   "execution_count": 10,
   "metadata": {},
   "outputs": [
    {
     "data": {
      "text/html": [
       "<div>\n",
       "<style scoped>\n",
       "    .dataframe tbody tr th:only-of-type {\n",
       "        vertical-align: middle;\n",
       "    }\n",
       "\n",
       "    .dataframe tbody tr th {\n",
       "        vertical-align: top;\n",
       "    }\n",
       "\n",
       "    .dataframe thead th {\n",
       "        text-align: right;\n",
       "    }\n",
       "</style>\n",
       "<table border=\"1\" class=\"dataframe\">\n",
       "  <thead>\n",
       "    <tr style=\"text-align: right;\">\n",
       "      <th></th>\n",
       "      <th>key</th>\n",
       "      <th>Bulk 1</th>\n",
       "      <th>Bulk 2</th>\n",
       "      <th>Bulk 3</th>\n",
       "      <th>Bulk 4</th>\n",
       "      <th>Bulk 5</th>\n",
       "      <th>Bulk 6</th>\n",
       "      <th>Bulk 7</th>\n",
       "      <th>Bulk 8</th>\n",
       "      <th>Bulk 9</th>\n",
       "      <th>Bulk 10</th>\n",
       "      <th>Bulk 11</th>\n",
       "      <th>Bulk 12</th>\n",
       "      <th>Bulk 13</th>\n",
       "      <th>Bulk 14</th>\n",
       "      <th>Bulk 15</th>\n",
       "    </tr>\n",
       "  </thead>\n",
       "  <tbody>\n",
       "    <tr>\n",
       "      <th>0</th>\n",
       "      <td>1</td>\n",
       "      <td>NaN</td>\n",
       "      <td>NaN</td>\n",
       "      <td>NaN</td>\n",
       "      <td>2019-05-03 11:21:30</td>\n",
       "      <td>NaN</td>\n",
       "      <td>NaN</td>\n",
       "      <td>NaN</td>\n",
       "      <td>NaN</td>\n",
       "      <td>NaN</td>\n",
       "      <td>NaN</td>\n",
       "      <td>NaN</td>\n",
       "      <td>2019-05-03 11:03:52</td>\n",
       "      <td>NaN</td>\n",
       "      <td>2019-05-03 11:03:52</td>\n",
       "      <td>2019-05-03 11:03:52</td>\n",
       "    </tr>\n",
       "    <tr>\n",
       "      <th>1</th>\n",
       "      <td>2</td>\n",
       "      <td>NaN</td>\n",
       "      <td>NaN</td>\n",
       "      <td>NaN</td>\n",
       "      <td>2019-05-03 11:46:38</td>\n",
       "      <td>NaN</td>\n",
       "      <td>NaN</td>\n",
       "      <td>NaN</td>\n",
       "      <td>NaN</td>\n",
       "      <td>NaN</td>\n",
       "      <td>NaN</td>\n",
       "      <td>NaN</td>\n",
       "      <td>2019-05-03 11:40:20</td>\n",
       "      <td>NaN</td>\n",
       "      <td>2019-05-03 11:40:20</td>\n",
       "      <td>2019-05-03 11:40:20</td>\n",
       "    </tr>\n",
       "    <tr>\n",
       "      <th>2</th>\n",
       "      <td>3</td>\n",
       "      <td>NaN</td>\n",
       "      <td>NaN</td>\n",
       "      <td>NaN</td>\n",
       "      <td>2019-05-03 12:31:06</td>\n",
       "      <td>NaN</td>\n",
       "      <td>NaN</td>\n",
       "      <td>NaN</td>\n",
       "      <td>NaN</td>\n",
       "      <td>NaN</td>\n",
       "      <td>NaN</td>\n",
       "      <td>NaN</td>\n",
       "      <td>2019-05-03 12:09:40</td>\n",
       "      <td>NaN</td>\n",
       "      <td>2019-05-03 12:09:40</td>\n",
       "      <td>2019-05-03 12:09:40</td>\n",
       "    </tr>\n",
       "    <tr>\n",
       "      <th>3</th>\n",
       "      <td>4</td>\n",
       "      <td>NaN</td>\n",
       "      <td>NaN</td>\n",
       "      <td>NaN</td>\n",
       "      <td>2019-05-03 12:48:43</td>\n",
       "      <td>NaN</td>\n",
       "      <td>NaN</td>\n",
       "      <td>NaN</td>\n",
       "      <td>NaN</td>\n",
       "      <td>NaN</td>\n",
       "      <td>NaN</td>\n",
       "      <td>NaN</td>\n",
       "      <td>2019-05-03 12:41:24</td>\n",
       "      <td>NaN</td>\n",
       "      <td>2019-05-03 12:41:24</td>\n",
       "      <td>2019-05-03 12:41:24</td>\n",
       "    </tr>\n",
       "    <tr>\n",
       "      <th>4</th>\n",
       "      <td>5</td>\n",
       "      <td>NaN</td>\n",
       "      <td>NaN</td>\n",
       "      <td>NaN</td>\n",
       "      <td>2019-05-03 13:18:50</td>\n",
       "      <td>NaN</td>\n",
       "      <td>NaN</td>\n",
       "      <td>NaN</td>\n",
       "      <td>NaN</td>\n",
       "      <td>NaN</td>\n",
       "      <td>NaN</td>\n",
       "      <td>NaN</td>\n",
       "      <td>2019-05-03 13:12:56</td>\n",
       "      <td>NaN</td>\n",
       "      <td>2019-05-03 13:12:56</td>\n",
       "      <td>2019-05-03 13:12:56</td>\n",
       "    </tr>\n",
       "  </tbody>\n",
       "</table>\n",
       "</div>"
      ],
      "text/plain": [
       "   key Bulk 1 Bulk 2 Bulk 3               Bulk 4 Bulk 5 Bulk 6 Bulk 7 Bulk 8  \\\n",
       "0    1    NaN    NaN    NaN  2019-05-03 11:21:30    NaN    NaN    NaN    NaN   \n",
       "1    2    NaN    NaN    NaN  2019-05-03 11:46:38    NaN    NaN    NaN    NaN   \n",
       "2    3    NaN    NaN    NaN  2019-05-03 12:31:06    NaN    NaN    NaN    NaN   \n",
       "3    4    NaN    NaN    NaN  2019-05-03 12:48:43    NaN    NaN    NaN    NaN   \n",
       "4    5    NaN    NaN    NaN  2019-05-03 13:18:50    NaN    NaN    NaN    NaN   \n",
       "\n",
       "  Bulk 9 Bulk 10 Bulk 11              Bulk 12 Bulk 13              Bulk 14  \\\n",
       "0    NaN     NaN     NaN  2019-05-03 11:03:52     NaN  2019-05-03 11:03:52   \n",
       "1    NaN     NaN     NaN  2019-05-03 11:40:20     NaN  2019-05-03 11:40:20   \n",
       "2    NaN     NaN     NaN  2019-05-03 12:09:40     NaN  2019-05-03 12:09:40   \n",
       "3    NaN     NaN     NaN  2019-05-03 12:41:24     NaN  2019-05-03 12:41:24   \n",
       "4    NaN     NaN     NaN  2019-05-03 13:12:56     NaN  2019-05-03 13:12:56   \n",
       "\n",
       "               Bulk 15  \n",
       "0  2019-05-03 11:03:52  \n",
       "1  2019-05-03 11:40:20  \n",
       "2  2019-05-03 12:09:40  \n",
       "3  2019-05-03 12:41:24  \n",
       "4  2019-05-03 13:12:56  "
      ]
     },
     "metadata": {},
     "output_type": "display_data"
    },
    {
     "name": "stdout",
     "output_type": "stream",
     "text": [
      "<class 'pandas.core.frame.DataFrame'>\n",
      "RangeIndex: 3129 entries, 0 to 3128\n",
      "Data columns (total 16 columns):\n",
      " #   Column   Non-Null Count  Dtype \n",
      "---  ------   --------------  ----- \n",
      " 0   key      3129 non-null   int64 \n",
      " 1   Bulk 1   252 non-null    object\n",
      " 2   Bulk 2   22 non-null     object\n",
      " 3   Bulk 3   1298 non-null   object\n",
      " 4   Bulk 4   1014 non-null   object\n",
      " 5   Bulk 5   77 non-null     object\n",
      " 6   Bulk 6   576 non-null    object\n",
      " 7   Bulk 7   25 non-null     object\n",
      " 8   Bulk 8   1 non-null      object\n",
      " 9   Bulk 9   19 non-null     object\n",
      " 10  Bulk 10  176 non-null    object\n",
      " 11  Bulk 11  177 non-null    object\n",
      " 12  Bulk 12  2450 non-null   object\n",
      " 13  Bulk 13  18 non-null     object\n",
      " 14  Bulk 14  2806 non-null   object\n",
      " 15  Bulk 15  2248 non-null   object\n",
      "dtypes: int64(1), object(15)\n",
      "memory usage: 391.2+ KB\n"
     ]
    },
    {
     "data": {
      "text/plain": [
       "None"
      ]
     },
     "metadata": {},
     "output_type": "display_data"
    },
    {
     "data": {
      "text/html": [
       "<div>\n",
       "<style scoped>\n",
       "    .dataframe tbody tr th:only-of-type {\n",
       "        vertical-align: middle;\n",
       "    }\n",
       "\n",
       "    .dataframe tbody tr th {\n",
       "        vertical-align: top;\n",
       "    }\n",
       "\n",
       "    .dataframe thead th {\n",
       "        text-align: right;\n",
       "    }\n",
       "</style>\n",
       "<table border=\"1\" class=\"dataframe\">\n",
       "  <thead>\n",
       "    <tr style=\"text-align: right;\">\n",
       "      <th></th>\n",
       "      <th>key</th>\n",
       "    </tr>\n",
       "  </thead>\n",
       "  <tbody>\n",
       "    <tr>\n",
       "      <th>count</th>\n",
       "      <td>3129.000000</td>\n",
       "    </tr>\n",
       "    <tr>\n",
       "      <th>mean</th>\n",
       "      <td>1624.383509</td>\n",
       "    </tr>\n",
       "    <tr>\n",
       "      <th>std</th>\n",
       "      <td>933.337642</td>\n",
       "    </tr>\n",
       "    <tr>\n",
       "      <th>min</th>\n",
       "      <td>1.000000</td>\n",
       "    </tr>\n",
       "    <tr>\n",
       "      <th>25%</th>\n",
       "      <td>816.000000</td>\n",
       "    </tr>\n",
       "    <tr>\n",
       "      <th>50%</th>\n",
       "      <td>1622.000000</td>\n",
       "    </tr>\n",
       "    <tr>\n",
       "      <th>75%</th>\n",
       "      <td>2431.000000</td>\n",
       "    </tr>\n",
       "    <tr>\n",
       "      <th>max</th>\n",
       "      <td>3241.000000</td>\n",
       "    </tr>\n",
       "  </tbody>\n",
       "</table>\n",
       "</div>"
      ],
      "text/plain": [
       "               key\n",
       "count  3129.000000\n",
       "mean   1624.383509\n",
       "std     933.337642\n",
       "min       1.000000\n",
       "25%     816.000000\n",
       "50%    1622.000000\n",
       "75%    2431.000000\n",
       "max    3241.000000"
      ]
     },
     "metadata": {},
     "output_type": "display_data"
    },
    {
     "name": "stdout",
     "output_type": "stream",
     "text": [
      "Уникальных партий: 3129\n"
     ]
    }
   ],
   "source": [
    "info_data(bulk_time)"
   ]
  },
  {
   "cell_type": "code",
   "execution_count": 11,
   "metadata": {},
   "outputs": [
    {
     "data": {
      "image/png": "[encoded data removed]",
      "text/plain": [
       "<Figure size 576x576 with 1 Axes>"
      ]
     },
     "metadata": {},
     "output_type": "display_data"
    }
   ],
   "source": [
    "non_null_bulk=pd.DataFrame(bulk[['Bulk %s' % i for i in range(1, 16)]].count(axis=0))\n",
    "plt.figure(figsize=(8,8))\n",
    "plt.pie(non_null_bulk[0], labels=non_null_bulk.index, autopct='%.0f%%')\n",
    "plt.xlabel('Доля бункеров от общего количества загрузок', fontsize=15)\n",
    "plt.show()"
   ]
  },
  {
   "cell_type": "markdown",
   "metadata": {},
   "source": [
    "- количество уникальных партий, а так же non-null объектов по 2 базам совпадает\n",
    "- как видим количество уникальных номеров партий сократилось с 3214 до 3129, на 2,6%\n",
    "- связано это с отсутсвием данных о подаче сыпучих материалов в сплав. Возможно это отсутствие связано с технологическим процессом. В дальнейшем уберем партии без полных данных из нашей финальной выборки.\n",
    "- так же мы видим большое количество пропусков, связано это скорее всего с технологическим процессом.\n",
    "- так же можно обратить внимание, что на 6 бункеров приходится 93% всех случаев добавления присадок.\n",
    "- в дальнейшим предлагаю избавится от оставшихся 8 признаков во избежания переобучения модели и снижения ресурсоемкости, так как данным по ним мало (до 2% от выборки на каждый признак) и перед нами не стоит задача классификации.\n",
    "- так же я не вижу какую практическую роль здесь может сыграть для нашей задачи время добавления сыпучих веществ в бункер, так как судя из данных, большая часть из них добавляется на 1 стадии нагрева, а оставшиеся материалы в основном на предпоследней стадии. Поэтому, что бы не перегружать модель, будем считать эти данные избыточными и, в дальнейшем, не учитывать их"
   ]
  },
  {
   "cell_type": "markdown",
   "metadata": {},
   "source": [
    "### Wire — данные о проволочных материалах "
   ]
  },
  {
   "cell_type": "code",
   "execution_count": 12,
   "metadata": {},
   "outputs": [
    {
     "data": {
      "text/html": [
       "<div>\n",
       "<style scoped>\n",
       "    .dataframe tbody tr th:only-of-type {\n",
       "        vertical-align: middle;\n",
       "    }\n",
       "\n",
       "    .dataframe tbody tr th {\n",
       "        vertical-align: top;\n",
       "    }\n",
       "\n",
       "    .dataframe thead th {\n",
       "        text-align: right;\n",
       "    }\n",
       "</style>\n",
       "<table border=\"1\" class=\"dataframe\">\n",
       "  <thead>\n",
       "    <tr style=\"text-align: right;\">\n",
       "      <th></th>\n",
       "      <th>key</th>\n",
       "      <th>Wire 1</th>\n",
       "      <th>Wire 2</th>\n",
       "      <th>Wire 3</th>\n",
       "      <th>Wire 4</th>\n",
       "      <th>Wire 5</th>\n",
       "      <th>Wire 6</th>\n",
       "      <th>Wire 7</th>\n",
       "      <th>Wire 8</th>\n",
       "      <th>Wire 9</th>\n",
       "    </tr>\n",
       "  </thead>\n",
       "  <tbody>\n",
       "    <tr>\n",
       "      <th>0</th>\n",
       "      <td>1</td>\n",
       "      <td>60.059998</td>\n",
       "      <td>NaN</td>\n",
       "      <td>NaN</td>\n",
       "      <td>NaN</td>\n",
       "      <td>NaN</td>\n",
       "      <td>NaN</td>\n",
       "      <td>NaN</td>\n",
       "      <td>NaN</td>\n",
       "      <td>NaN</td>\n",
       "    </tr>\n",
       "    <tr>\n",
       "      <th>1</th>\n",
       "      <td>2</td>\n",
       "      <td>96.052315</td>\n",
       "      <td>NaN</td>\n",
       "      <td>NaN</td>\n",
       "      <td>NaN</td>\n",
       "      <td>NaN</td>\n",
       "      <td>NaN</td>\n",
       "      <td>NaN</td>\n",
       "      <td>NaN</td>\n",
       "      <td>NaN</td>\n",
       "    </tr>\n",
       "    <tr>\n",
       "      <th>2</th>\n",
       "      <td>3</td>\n",
       "      <td>91.160157</td>\n",
       "      <td>NaN</td>\n",
       "      <td>NaN</td>\n",
       "      <td>NaN</td>\n",
       "      <td>NaN</td>\n",
       "      <td>NaN</td>\n",
       "      <td>NaN</td>\n",
       "      <td>NaN</td>\n",
       "      <td>NaN</td>\n",
       "    </tr>\n",
       "    <tr>\n",
       "      <th>3</th>\n",
       "      <td>4</td>\n",
       "      <td>89.063515</td>\n",
       "      <td>NaN</td>\n",
       "      <td>NaN</td>\n",
       "      <td>NaN</td>\n",
       "      <td>NaN</td>\n",
       "      <td>NaN</td>\n",
       "      <td>NaN</td>\n",
       "      <td>NaN</td>\n",
       "      <td>NaN</td>\n",
       "    </tr>\n",
       "    <tr>\n",
       "      <th>4</th>\n",
       "      <td>5</td>\n",
       "      <td>89.238236</td>\n",
       "      <td>9.11456</td>\n",
       "      <td>NaN</td>\n",
       "      <td>NaN</td>\n",
       "      <td>NaN</td>\n",
       "      <td>NaN</td>\n",
       "      <td>NaN</td>\n",
       "      <td>NaN</td>\n",
       "      <td>NaN</td>\n",
       "    </tr>\n",
       "  </tbody>\n",
       "</table>\n",
       "</div>"
      ],
      "text/plain": [
       "   key     Wire 1   Wire 2  Wire 3  Wire 4  Wire 5  Wire 6  Wire 7  Wire 8  \\\n",
       "0    1  60.059998      NaN     NaN     NaN     NaN     NaN     NaN     NaN   \n",
       "1    2  96.052315      NaN     NaN     NaN     NaN     NaN     NaN     NaN   \n",
       "2    3  91.160157      NaN     NaN     NaN     NaN     NaN     NaN     NaN   \n",
       "3    4  89.063515      NaN     NaN     NaN     NaN     NaN     NaN     NaN   \n",
       "4    5  89.238236  9.11456     NaN     NaN     NaN     NaN     NaN     NaN   \n",
       "\n",
       "   Wire 9  \n",
       "0     NaN  \n",
       "1     NaN  \n",
       "2     NaN  \n",
       "3     NaN  \n",
       "4     NaN  "
      ]
     },
     "metadata": {},
     "output_type": "display_data"
    },
    {
     "name": "stdout",
     "output_type": "stream",
     "text": [
      "<class 'pandas.core.frame.DataFrame'>\n",
      "RangeIndex: 3081 entries, 0 to 3080\n",
      "Data columns (total 10 columns):\n",
      " #   Column  Non-Null Count  Dtype  \n",
      "---  ------  --------------  -----  \n",
      " 0   key     3081 non-null   int64  \n",
      " 1   Wire 1  3055 non-null   float64\n",
      " 2   Wire 2  1079 non-null   float64\n",
      " 3   Wire 3  63 non-null     float64\n",
      " 4   Wire 4  14 non-null     float64\n",
      " 5   Wire 5  1 non-null      float64\n",
      " 6   Wire 6  73 non-null     float64\n",
      " 7   Wire 7  11 non-null     float64\n",
      " 8   Wire 8  19 non-null     float64\n",
      " 9   Wire 9  29 non-null     float64\n",
      "dtypes: float64(9), int64(1)\n",
      "memory usage: 240.8 KB\n"
     ]
    },
    {
     "data": {
      "text/plain": [
       "None"
      ]
     },
     "metadata": {},
     "output_type": "display_data"
    },
    {
     "data": {
      "text/html": [
       "<div>\n",
       "<style scoped>\n",
       "    .dataframe tbody tr th:only-of-type {\n",
       "        vertical-align: middle;\n",
       "    }\n",
       "\n",
       "    .dataframe tbody tr th {\n",
       "        vertical-align: top;\n",
       "    }\n",
       "\n",
       "    .dataframe thead th {\n",
       "        text-align: right;\n",
       "    }\n",
       "</style>\n",
       "<table border=\"1\" class=\"dataframe\">\n",
       "  <thead>\n",
       "    <tr style=\"text-align: right;\">\n",
       "      <th></th>\n",
       "      <th>key</th>\n",
       "      <th>Wire 1</th>\n",
       "      <th>Wire 2</th>\n",
       "      <th>Wire 3</th>\n",
       "      <th>Wire 4</th>\n",
       "      <th>Wire 5</th>\n",
       "      <th>Wire 6</th>\n",
       "      <th>Wire 7</th>\n",
       "      <th>Wire 8</th>\n",
       "      <th>Wire 9</th>\n",
       "    </tr>\n",
       "  </thead>\n",
       "  <tbody>\n",
       "    <tr>\n",
       "      <th>count</th>\n",
       "      <td>3081.000000</td>\n",
       "      <td>3055.000000</td>\n",
       "      <td>1079.000000</td>\n",
       "      <td>63.000000</td>\n",
       "      <td>14.000000</td>\n",
       "      <td>1.000</td>\n",
       "      <td>73.000000</td>\n",
       "      <td>11.000000</td>\n",
       "      <td>19.000000</td>\n",
       "      <td>29.000000</td>\n",
       "    </tr>\n",
       "    <tr>\n",
       "      <th>mean</th>\n",
       "      <td>1623.426485</td>\n",
       "      <td>100.895853</td>\n",
       "      <td>50.577323</td>\n",
       "      <td>189.482681</td>\n",
       "      <td>57.442841</td>\n",
       "      <td>15.132</td>\n",
       "      <td>48.016974</td>\n",
       "      <td>10.039007</td>\n",
       "      <td>53.625193</td>\n",
       "      <td>34.155752</td>\n",
       "    </tr>\n",
       "    <tr>\n",
       "      <th>std</th>\n",
       "      <td>932.996726</td>\n",
       "      <td>42.012518</td>\n",
       "      <td>39.320216</td>\n",
       "      <td>99.513444</td>\n",
       "      <td>28.824667</td>\n",
       "      <td>NaN</td>\n",
       "      <td>33.919845</td>\n",
       "      <td>8.610584</td>\n",
       "      <td>16.881728</td>\n",
       "      <td>19.931616</td>\n",
       "    </tr>\n",
       "    <tr>\n",
       "      <th>min</th>\n",
       "      <td>1.000000</td>\n",
       "      <td>1.918800</td>\n",
       "      <td>0.030160</td>\n",
       "      <td>0.144144</td>\n",
       "      <td>24.148801</td>\n",
       "      <td>15.132</td>\n",
       "      <td>0.034320</td>\n",
       "      <td>0.234208</td>\n",
       "      <td>45.076721</td>\n",
       "      <td>4.622800</td>\n",
       "    </tr>\n",
       "    <tr>\n",
       "      <th>25%</th>\n",
       "      <td>823.000000</td>\n",
       "      <td>72.115684</td>\n",
       "      <td>20.193680</td>\n",
       "      <td>95.135044</td>\n",
       "      <td>40.807002</td>\n",
       "      <td>15.132</td>\n",
       "      <td>25.053600</td>\n",
       "      <td>6.762756</td>\n",
       "      <td>46.094879</td>\n",
       "      <td>22.058401</td>\n",
       "    </tr>\n",
       "    <tr>\n",
       "      <th>50%</th>\n",
       "      <td>1619.000000</td>\n",
       "      <td>100.158234</td>\n",
       "      <td>40.142956</td>\n",
       "      <td>235.194977</td>\n",
       "      <td>45.234282</td>\n",
       "      <td>15.132</td>\n",
       "      <td>42.076324</td>\n",
       "      <td>9.017009</td>\n",
       "      <td>46.279999</td>\n",
       "      <td>30.066399</td>\n",
       "    </tr>\n",
       "    <tr>\n",
       "      <th>75%</th>\n",
       "      <td>2434.000000</td>\n",
       "      <td>126.060483</td>\n",
       "      <td>70.227558</td>\n",
       "      <td>276.252014</td>\n",
       "      <td>76.124619</td>\n",
       "      <td>15.132</td>\n",
       "      <td>64.212723</td>\n",
       "      <td>11.886057</td>\n",
       "      <td>48.089603</td>\n",
       "      <td>43.862003</td>\n",
       "    </tr>\n",
       "    <tr>\n",
       "      <th>max</th>\n",
       "      <td>3241.000000</td>\n",
       "      <td>330.314424</td>\n",
       "      <td>282.780152</td>\n",
       "      <td>385.008668</td>\n",
       "      <td>113.231044</td>\n",
       "      <td>15.132</td>\n",
       "      <td>180.454575</td>\n",
       "      <td>32.847674</td>\n",
       "      <td>102.762401</td>\n",
       "      <td>90.053604</td>\n",
       "    </tr>\n",
       "  </tbody>\n",
       "</table>\n",
       "</div>"
      ],
      "text/plain": [
       "               key       Wire 1       Wire 2      Wire 3      Wire 4  Wire 5  \\\n",
       "count  3081.000000  3055.000000  1079.000000   63.000000   14.000000   1.000   \n",
       "mean   1623.426485   100.895853    50.577323  189.482681   57.442841  15.132   \n",
       "std     932.996726    42.012518    39.320216   99.513444   28.824667     NaN   \n",
       "min       1.000000     1.918800     0.030160    0.144144   24.148801  15.132   \n",
       "25%     823.000000    72.115684    20.193680   95.135044   40.807002  15.132   \n",
       "50%    1619.000000   100.158234    40.142956  235.194977   45.234282  15.132   \n",
       "75%    2434.000000   126.060483    70.227558  276.252014   76.124619  15.132   \n",
       "max    3241.000000   330.314424   282.780152  385.008668  113.231044  15.132   \n",
       "\n",
       "           Wire 6     Wire 7      Wire 8     Wire 9  \n",
       "count   73.000000  11.000000   19.000000  29.000000  \n",
       "mean    48.016974  10.039007   53.625193  34.155752  \n",
       "std     33.919845   8.610584   16.881728  19.931616  \n",
       "min      0.034320   0.234208   45.076721   4.622800  \n",
       "25%     25.053600   6.762756   46.094879  22.058401  \n",
       "50%     42.076324   9.017009   46.279999  30.066399  \n",
       "75%     64.212723  11.886057   48.089603  43.862003  \n",
       "max    180.454575  32.847674  102.762401  90.053604  "
      ]
     },
     "metadata": {},
     "output_type": "display_data"
    },
    {
     "name": "stdout",
     "output_type": "stream",
     "text": [
      "Уникальных партий: 3081\n"
     ]
    }
   ],
   "source": [
    "info_data(wire)"
   ]
  },
  {
   "cell_type": "code",
   "execution_count": 13,
   "metadata": {},
   "outputs": [
    {
     "data": {
      "text/html": [
       "<div>\n",
       "<style scoped>\n",
       "    .dataframe tbody tr th:only-of-type {\n",
       "        vertical-align: middle;\n",
       "    }\n",
       "\n",
       "    .dataframe tbody tr th {\n",
       "        vertical-align: top;\n",
       "    }\n",
       "\n",
       "    .dataframe thead th {\n",
       "        text-align: right;\n",
       "    }\n",
       "</style>\n",
       "<table border=\"1\" class=\"dataframe\">\n",
       "  <thead>\n",
       "    <tr style=\"text-align: right;\">\n",
       "      <th></th>\n",
       "      <th>key</th>\n",
       "      <th>Wire 1</th>\n",
       "      <th>Wire 2</th>\n",
       "      <th>Wire 3</th>\n",
       "      <th>Wire 4</th>\n",
       "      <th>Wire 5</th>\n",
       "      <th>Wire 6</th>\n",
       "      <th>Wire 7</th>\n",
       "      <th>Wire 8</th>\n",
       "      <th>Wire 9</th>\n",
       "    </tr>\n",
       "  </thead>\n",
       "  <tbody>\n",
       "    <tr>\n",
       "      <th>0</th>\n",
       "      <td>1</td>\n",
       "      <td>2019-05-03 11:11:41</td>\n",
       "      <td>NaN</td>\n",
       "      <td>NaN</td>\n",
       "      <td>NaN</td>\n",
       "      <td>NaN</td>\n",
       "      <td>NaN</td>\n",
       "      <td>NaN</td>\n",
       "      <td>NaN</td>\n",
       "      <td>NaN</td>\n",
       "    </tr>\n",
       "    <tr>\n",
       "      <th>1</th>\n",
       "      <td>2</td>\n",
       "      <td>2019-05-03 11:46:10</td>\n",
       "      <td>NaN</td>\n",
       "      <td>NaN</td>\n",
       "      <td>NaN</td>\n",
       "      <td>NaN</td>\n",
       "      <td>NaN</td>\n",
       "      <td>NaN</td>\n",
       "      <td>NaN</td>\n",
       "      <td>NaN</td>\n",
       "    </tr>\n",
       "    <tr>\n",
       "      <th>2</th>\n",
       "      <td>3</td>\n",
       "      <td>2019-05-03 12:13:47</td>\n",
       "      <td>NaN</td>\n",
       "      <td>NaN</td>\n",
       "      <td>NaN</td>\n",
       "      <td>NaN</td>\n",
       "      <td>NaN</td>\n",
       "      <td>NaN</td>\n",
       "      <td>NaN</td>\n",
       "      <td>NaN</td>\n",
       "    </tr>\n",
       "    <tr>\n",
       "      <th>3</th>\n",
       "      <td>4</td>\n",
       "      <td>2019-05-03 12:48:05</td>\n",
       "      <td>NaN</td>\n",
       "      <td>NaN</td>\n",
       "      <td>NaN</td>\n",
       "      <td>NaN</td>\n",
       "      <td>NaN</td>\n",
       "      <td>NaN</td>\n",
       "      <td>NaN</td>\n",
       "      <td>NaN</td>\n",
       "    </tr>\n",
       "    <tr>\n",
       "      <th>4</th>\n",
       "      <td>5</td>\n",
       "      <td>2019-05-03 13:18:15</td>\n",
       "      <td>2019-05-03 13:32:06</td>\n",
       "      <td>NaN</td>\n",
       "      <td>NaN</td>\n",
       "      <td>NaN</td>\n",
       "      <td>NaN</td>\n",
       "      <td>NaN</td>\n",
       "      <td>NaN</td>\n",
       "      <td>NaN</td>\n",
       "    </tr>\n",
       "  </tbody>\n",
       "</table>\n",
       "</div>"
      ],
      "text/plain": [
       "   key               Wire 1               Wire 2 Wire 3 Wire 4 Wire 5 Wire 6  \\\n",
       "0    1  2019-05-03 11:11:41                  NaN    NaN    NaN    NaN    NaN   \n",
       "1    2  2019-05-03 11:46:10                  NaN    NaN    NaN    NaN    NaN   \n",
       "2    3  2019-05-03 12:13:47                  NaN    NaN    NaN    NaN    NaN   \n",
       "3    4  2019-05-03 12:48:05                  NaN    NaN    NaN    NaN    NaN   \n",
       "4    5  2019-05-03 13:18:15  2019-05-03 13:32:06    NaN    NaN    NaN    NaN   \n",
       "\n",
       "  Wire 7 Wire 8 Wire 9  \n",
       "0    NaN    NaN    NaN  \n",
       "1    NaN    NaN    NaN  \n",
       "2    NaN    NaN    NaN  \n",
       "3    NaN    NaN    NaN  \n",
       "4    NaN    NaN    NaN  "
      ]
     },
     "metadata": {},
     "output_type": "display_data"
    },
    {
     "name": "stdout",
     "output_type": "stream",
     "text": [
      "<class 'pandas.core.frame.DataFrame'>\n",
      "RangeIndex: 3081 entries, 0 to 3080\n",
      "Data columns (total 10 columns):\n",
      " #   Column  Non-Null Count  Dtype \n",
      "---  ------  --------------  ----- \n",
      " 0   key     3081 non-null   int64 \n",
      " 1   Wire 1  3055 non-null   object\n",
      " 2   Wire 2  1079 non-null   object\n",
      " 3   Wire 3  63 non-null     object\n",
      " 4   Wire 4  14 non-null     object\n",
      " 5   Wire 5  1 non-null      object\n",
      " 6   Wire 6  73 non-null     object\n",
      " 7   Wire 7  11 non-null     object\n",
      " 8   Wire 8  19 non-null     object\n",
      " 9   Wire 9  29 non-null     object\n",
      "dtypes: int64(1), object(9)\n",
      "memory usage: 240.8+ KB\n"
     ]
    },
    {
     "data": {
      "text/plain": [
       "None"
      ]
     },
     "metadata": {},
     "output_type": "display_data"
    },
    {
     "data": {
      "text/html": [
       "<div>\n",
       "<style scoped>\n",
       "    .dataframe tbody tr th:only-of-type {\n",
       "        vertical-align: middle;\n",
       "    }\n",
       "\n",
       "    .dataframe tbody tr th {\n",
       "        vertical-align: top;\n",
       "    }\n",
       "\n",
       "    .dataframe thead th {\n",
       "        text-align: right;\n",
       "    }\n",
       "</style>\n",
       "<table border=\"1\" class=\"dataframe\">\n",
       "  <thead>\n",
       "    <tr style=\"text-align: right;\">\n",
       "      <th></th>\n",
       "      <th>key</th>\n",
       "    </tr>\n",
       "  </thead>\n",
       "  <tbody>\n",
       "    <tr>\n",
       "      <th>count</th>\n",
       "      <td>3081.000000</td>\n",
       "    </tr>\n",
       "    <tr>\n",
       "      <th>mean</th>\n",
       "      <td>1623.426485</td>\n",
       "    </tr>\n",
       "    <tr>\n",
       "      <th>std</th>\n",
       "      <td>932.996726</td>\n",
       "    </tr>\n",
       "    <tr>\n",
       "      <th>min</th>\n",
       "      <td>1.000000</td>\n",
       "    </tr>\n",
       "    <tr>\n",
       "      <th>25%</th>\n",
       "      <td>823.000000</td>\n",
       "    </tr>\n",
       "    <tr>\n",
       "      <th>50%</th>\n",
       "      <td>1619.000000</td>\n",
       "    </tr>\n",
       "    <tr>\n",
       "      <th>75%</th>\n",
       "      <td>2434.000000</td>\n",
       "    </tr>\n",
       "    <tr>\n",
       "      <th>max</th>\n",
       "      <td>3241.000000</td>\n",
       "    </tr>\n",
       "  </tbody>\n",
       "</table>\n",
       "</div>"
      ],
      "text/plain": [
       "               key\n",
       "count  3081.000000\n",
       "mean   1623.426485\n",
       "std     932.996726\n",
       "min       1.000000\n",
       "25%     823.000000\n",
       "50%    1619.000000\n",
       "75%    2434.000000\n",
       "max    3241.000000"
      ]
     },
     "metadata": {},
     "output_type": "display_data"
    },
    {
     "name": "stdout",
     "output_type": "stream",
     "text": [
      "Уникальных партий: 3081\n"
     ]
    }
   ],
   "source": [
    "info_data(wire_time)"
   ]
  },
  {
   "cell_type": "code",
   "execution_count": 14,
   "metadata": {},
   "outputs": [
    {
     "data": {
      "image/png": "[encoded data removed]",
      "text/plain": [
       "<Figure size 576x576 with 1 Axes>"
      ]
     },
     "metadata": {},
     "output_type": "display_data"
    }
   ],
   "source": [
    "non_null_wire = pd.DataFrame(wire[['Wire %s' % i for i in range(1, 10)]].count(axis=0))\n",
    "plt.figure(figsize=(8,8))\n",
    "plt.pie(non_null_wire[0], labels=non_null_wire.index, autopct='%.0f%%')\n",
    "plt.xlabel('Доля трайб-аппаратов от общего количества загрузок', fontsize=15)\n",
    "plt.show()"
   ]
  },
  {
   "cell_type": "markdown",
   "metadata": {},
   "source": [
    "- с проволкой просматривается аналогичная ситуация как и с сыпучими материалами\n",
    "- кол-во уникальных партий еще сократилось и составило 3081\n",
    "- 95% всех добавок приходятся на 2 признака\n",
    "- так же предлагаю избавиться от оставшихся 7 признаков, и так же не принимать в расчет время внесения провалки в сплав"
   ]
  },
  {
   "cell_type": "markdown",
   "metadata": {},
   "source": [
    "### Gas — данные о продувке сплава газом"
   ]
  },
  {
   "cell_type": "code",
   "execution_count": 15,
   "metadata": {},
   "outputs": [
    {
     "data": {
      "text/html": [
       "<div>\n",
       "<style scoped>\n",
       "    .dataframe tbody tr th:only-of-type {\n",
       "        vertical-align: middle;\n",
       "    }\n",
       "\n",
       "    .dataframe tbody tr th {\n",
       "        vertical-align: top;\n",
       "    }\n",
       "\n",
       "    .dataframe thead th {\n",
       "        text-align: right;\n",
       "    }\n",
       "</style>\n",
       "<table border=\"1\" class=\"dataframe\">\n",
       "  <thead>\n",
       "    <tr style=\"text-align: right;\">\n",
       "      <th></th>\n",
       "      <th>key</th>\n",
       "      <th>Газ 1</th>\n",
       "    </tr>\n",
       "  </thead>\n",
       "  <tbody>\n",
       "    <tr>\n",
       "      <th>0</th>\n",
       "      <td>1</td>\n",
       "      <td>29.749986</td>\n",
       "    </tr>\n",
       "    <tr>\n",
       "      <th>1</th>\n",
       "      <td>2</td>\n",
       "      <td>12.555561</td>\n",
       "    </tr>\n",
       "    <tr>\n",
       "      <th>2</th>\n",
       "      <td>3</td>\n",
       "      <td>28.554793</td>\n",
       "    </tr>\n",
       "    <tr>\n",
       "      <th>3</th>\n",
       "      <td>4</td>\n",
       "      <td>18.841219</td>\n",
       "    </tr>\n",
       "    <tr>\n",
       "      <th>4</th>\n",
       "      <td>5</td>\n",
       "      <td>5.413692</td>\n",
       "    </tr>\n",
       "  </tbody>\n",
       "</table>\n",
       "</div>"
      ],
      "text/plain": [
       "   key      Газ 1\n",
       "0    1  29.749986\n",
       "1    2  12.555561\n",
       "2    3  28.554793\n",
       "3    4  18.841219\n",
       "4    5   5.413692"
      ]
     },
     "metadata": {},
     "output_type": "display_data"
    },
    {
     "name": "stdout",
     "output_type": "stream",
     "text": [
      "<class 'pandas.core.frame.DataFrame'>\n",
      "RangeIndex: 3239 entries, 0 to 3238\n",
      "Data columns (total 2 columns):\n",
      " #   Column  Non-Null Count  Dtype  \n",
      "---  ------  --------------  -----  \n",
      " 0   key     3239 non-null   int64  \n",
      " 1   Газ 1   3239 non-null   float64\n",
      "dtypes: float64(1), int64(1)\n",
      "memory usage: 50.7 KB\n"
     ]
    },
    {
     "data": {
      "text/plain": [
       "None"
      ]
     },
     "metadata": {},
     "output_type": "display_data"
    },
    {
     "data": {
      "text/html": [
       "<div>\n",
       "<style scoped>\n",
       "    .dataframe tbody tr th:only-of-type {\n",
       "        vertical-align: middle;\n",
       "    }\n",
       "\n",
       "    .dataframe tbody tr th {\n",
       "        vertical-align: top;\n",
       "    }\n",
       "\n",
       "    .dataframe thead th {\n",
       "        text-align: right;\n",
       "    }\n",
       "</style>\n",
       "<table border=\"1\" class=\"dataframe\">\n",
       "  <thead>\n",
       "    <tr style=\"text-align: right;\">\n",
       "      <th></th>\n",
       "      <th>key</th>\n",
       "      <th>Газ 1</th>\n",
       "    </tr>\n",
       "  </thead>\n",
       "  <tbody>\n",
       "    <tr>\n",
       "      <th>count</th>\n",
       "      <td>3239.000000</td>\n",
       "      <td>3239.000000</td>\n",
       "    </tr>\n",
       "    <tr>\n",
       "      <th>mean</th>\n",
       "      <td>1621.861377</td>\n",
       "      <td>11.002062</td>\n",
       "    </tr>\n",
       "    <tr>\n",
       "      <th>std</th>\n",
       "      <td>935.386334</td>\n",
       "      <td>6.220327</td>\n",
       "    </tr>\n",
       "    <tr>\n",
       "      <th>min</th>\n",
       "      <td>1.000000</td>\n",
       "      <td>0.008399</td>\n",
       "    </tr>\n",
       "    <tr>\n",
       "      <th>25%</th>\n",
       "      <td>812.500000</td>\n",
       "      <td>7.043089</td>\n",
       "    </tr>\n",
       "    <tr>\n",
       "      <th>50%</th>\n",
       "      <td>1622.000000</td>\n",
       "      <td>9.836267</td>\n",
       "    </tr>\n",
       "    <tr>\n",
       "      <th>75%</th>\n",
       "      <td>2431.500000</td>\n",
       "      <td>13.769915</td>\n",
       "    </tr>\n",
       "    <tr>\n",
       "      <th>max</th>\n",
       "      <td>3241.000000</td>\n",
       "      <td>77.995040</td>\n",
       "    </tr>\n",
       "  </tbody>\n",
       "</table>\n",
       "</div>"
      ],
      "text/plain": [
       "               key        Газ 1\n",
       "count  3239.000000  3239.000000\n",
       "mean   1621.861377    11.002062\n",
       "std     935.386334     6.220327\n",
       "min       1.000000     0.008399\n",
       "25%     812.500000     7.043089\n",
       "50%    1622.000000     9.836267\n",
       "75%    2431.500000    13.769915\n",
       "max    3241.000000    77.995040"
      ]
     },
     "metadata": {},
     "output_type": "display_data"
    },
    {
     "name": "stdout",
     "output_type": "stream",
     "text": [
      "Уникальных партий: 3239\n"
     ]
    }
   ],
   "source": [
    "info_data(gas)"
   ]
  },
  {
   "cell_type": "code",
   "execution_count": 16,
   "metadata": {},
   "outputs": [
    {
     "data": {
      "image/png": "[encoded data removed]",
      "text/plain": [
       "<Figure size 864x432 with 1 Axes>"
      ]
     },
     "metadata": {
      "needs_background": "light"
     },
     "output_type": "display_data"
    }
   ],
   "source": [
    "plt.figure(figsize=(12,6))\n",
    "plt.hist((gas['Газ 1']), bins=20, color='g')\n",
    "plt.title('Продувка сплава газом', fontsize=15)\n",
    "plt.xlabel('Показатели продувки')\n",
    "plt.ylabel('Распределение')\n",
    "plt.show()"
   ]
  },
  {
   "cell_type": "code",
   "execution_count": 17,
   "metadata": {},
   "outputs": [
    {
     "data": {
      "image/png": "[encoded data removed]",
      "text/plain": [
       "<Figure size 864x432 with 1 Axes>"
      ]
     },
     "metadata": {
      "needs_background": "light"
     },
     "output_type": "display_data"
    }
   ],
   "source": [
    "plt.figure(figsize=(12,6))\n",
    "plt.boxplot(gas['Газ 1'])\n",
    "plt.grid(axis='y')\n",
    "plt.title('Распределение по продувкам', fontsize=15)\n",
    "plt.show()"
   ]
  },
  {
   "cell_type": "code",
   "execution_count": 18,
   "metadata": {},
   "outputs": [
    {
     "name": "stdout",
     "output_type": "stream",
     "text": [
      "% выбросов key      3.12\n",
      "Газ 1    3.12\n",
      "dtype: float64\n"
     ]
    }
   ],
   "source": [
    "print('% выбросов', round(gas[gas['Газ 1']>25].count()/len(gas)*100, 2))"
   ]
  },
  {
   "cell_type": "markdown",
   "metadata": {},
   "source": [
    "- имеется некоторое количество выбросов = 3,12%, 101 партия\n",
    "- предлагаю избавиться от этих строк, для большего приближения к нормальному распределению"
   ]
  },
  {
   "cell_type": "markdown",
   "metadata": {},
   "source": [
    "### Temp — результаты измерения температуры"
   ]
  },
  {
   "cell_type": "code",
   "execution_count": 19,
   "metadata": {},
   "outputs": [
    {
     "data": {
      "text/html": [
       "<div>\n",
       "<style scoped>\n",
       "    .dataframe tbody tr th:only-of-type {\n",
       "        vertical-align: middle;\n",
       "    }\n",
       "\n",
       "    .dataframe tbody tr th {\n",
       "        vertical-align: top;\n",
       "    }\n",
       "\n",
       "    .dataframe thead th {\n",
       "        text-align: right;\n",
       "    }\n",
       "</style>\n",
       "<table border=\"1\" class=\"dataframe\">\n",
       "  <thead>\n",
       "    <tr style=\"text-align: right;\">\n",
       "      <th></th>\n",
       "      <th>key</th>\n",
       "      <th>Время замера</th>\n",
       "      <th>Температура</th>\n",
       "    </tr>\n",
       "  </thead>\n",
       "  <tbody>\n",
       "    <tr>\n",
       "      <th>0</th>\n",
       "      <td>1</td>\n",
       "      <td>2019-05-03 11:16:18</td>\n",
       "      <td>1571.0</td>\n",
       "    </tr>\n",
       "    <tr>\n",
       "      <th>1</th>\n",
       "      <td>1</td>\n",
       "      <td>2019-05-03 11:25:53</td>\n",
       "      <td>1604.0</td>\n",
       "    </tr>\n",
       "    <tr>\n",
       "      <th>2</th>\n",
       "      <td>1</td>\n",
       "      <td>2019-05-03 11:29:11</td>\n",
       "      <td>1618.0</td>\n",
       "    </tr>\n",
       "    <tr>\n",
       "      <th>3</th>\n",
       "      <td>1</td>\n",
       "      <td>2019-05-03 11:30:01</td>\n",
       "      <td>1601.0</td>\n",
       "    </tr>\n",
       "    <tr>\n",
       "      <th>4</th>\n",
       "      <td>1</td>\n",
       "      <td>2019-05-03 11:30:39</td>\n",
       "      <td>1613.0</td>\n",
       "    </tr>\n",
       "  </tbody>\n",
       "</table>\n",
       "</div>"
      ],
      "text/plain": [
       "   key         Время замера  Температура\n",
       "0    1  2019-05-03 11:16:18       1571.0\n",
       "1    1  2019-05-03 11:25:53       1604.0\n",
       "2    1  2019-05-03 11:29:11       1618.0\n",
       "3    1  2019-05-03 11:30:01       1601.0\n",
       "4    1  2019-05-03 11:30:39       1613.0"
      ]
     },
     "metadata": {},
     "output_type": "display_data"
    },
    {
     "name": "stdout",
     "output_type": "stream",
     "text": [
      "<class 'pandas.core.frame.DataFrame'>\n",
      "RangeIndex: 15907 entries, 0 to 15906\n",
      "Data columns (total 3 columns):\n",
      " #   Column        Non-Null Count  Dtype  \n",
      "---  ------        --------------  -----  \n",
      " 0   key           15907 non-null  int64  \n",
      " 1   Время замера  15907 non-null  object \n",
      " 2   Температура   13006 non-null  float64\n",
      "dtypes: float64(1), int64(1), object(1)\n",
      "memory usage: 372.9+ KB\n"
     ]
    },
    {
     "data": {
      "text/plain": [
       "None"
      ]
     },
     "metadata": {},
     "output_type": "display_data"
    },
    {
     "data": {
      "text/html": [
       "<div>\n",
       "<style scoped>\n",
       "    .dataframe tbody tr th:only-of-type {\n",
       "        vertical-align: middle;\n",
       "    }\n",
       "\n",
       "    .dataframe tbody tr th {\n",
       "        vertical-align: top;\n",
       "    }\n",
       "\n",
       "    .dataframe thead th {\n",
       "        text-align: right;\n",
       "    }\n",
       "</style>\n",
       "<table border=\"1\" class=\"dataframe\">\n",
       "  <thead>\n",
       "    <tr style=\"text-align: right;\">\n",
       "      <th></th>\n",
       "      <th>key</th>\n",
       "      <th>Температура</th>\n",
       "    </tr>\n",
       "  </thead>\n",
       "  <tbody>\n",
       "    <tr>\n",
       "      <th>count</th>\n",
       "      <td>15907.000000</td>\n",
       "      <td>13006.000000</td>\n",
       "    </tr>\n",
       "    <tr>\n",
       "      <th>mean</th>\n",
       "      <td>1607.880870</td>\n",
       "      <td>1591.840920</td>\n",
       "    </tr>\n",
       "    <tr>\n",
       "      <th>std</th>\n",
       "      <td>942.212073</td>\n",
       "      <td>21.375851</td>\n",
       "    </tr>\n",
       "    <tr>\n",
       "      <th>min</th>\n",
       "      <td>1.000000</td>\n",
       "      <td>1191.000000</td>\n",
       "    </tr>\n",
       "    <tr>\n",
       "      <th>25%</th>\n",
       "      <td>790.000000</td>\n",
       "      <td>1581.000000</td>\n",
       "    </tr>\n",
       "    <tr>\n",
       "      <th>50%</th>\n",
       "      <td>1618.000000</td>\n",
       "      <td>1591.000000</td>\n",
       "    </tr>\n",
       "    <tr>\n",
       "      <th>75%</th>\n",
       "      <td>2427.000000</td>\n",
       "      <td>1601.000000</td>\n",
       "    </tr>\n",
       "    <tr>\n",
       "      <th>max</th>\n",
       "      <td>3241.000000</td>\n",
       "      <td>1705.000000</td>\n",
       "    </tr>\n",
       "  </tbody>\n",
       "</table>\n",
       "</div>"
      ],
      "text/plain": [
       "                key   Температура\n",
       "count  15907.000000  13006.000000\n",
       "mean    1607.880870   1591.840920\n",
       "std      942.212073     21.375851\n",
       "min        1.000000   1191.000000\n",
       "25%      790.000000   1581.000000\n",
       "50%     1618.000000   1591.000000\n",
       "75%     2427.000000   1601.000000\n",
       "max     3241.000000   1705.000000"
      ]
     },
     "metadata": {},
     "output_type": "display_data"
    },
    {
     "name": "stdout",
     "output_type": "stream",
     "text": [
      "Уникальных партий: 3216\n"
     ]
    }
   ],
   "source": [
    "info_data(temp)"
   ]
  },
  {
   "cell_type": "code",
   "execution_count": 20,
   "metadata": {},
   "outputs": [
    {
     "data": {
      "image/png": "[encoded data removed]",
      "text/plain": [
       "<Figure size 864x432 with 1 Axes>"
      ]
     },
     "metadata": {
      "needs_background": "light"
     },
     "output_type": "display_data"
    }
   ],
   "source": [
    "plt.figure(figsize=(12,6))\n",
    "plt.hist((temp['Температура']), bins=100, color='r')\n",
    "plt.title('Распределение температур', fontsize=15)\n",
    "plt.xlabel('Температура')\n",
    "plt.ylabel('Распределение')\n",
    "plt.show()"
   ]
  },
  {
   "cell_type": "code",
   "execution_count": 21,
   "metadata": {},
   "outputs": [
    {
     "data": {
      "image/png": "[encoded data removed]",
      "text/plain": [
       "<Figure size 864x504 with 1 Axes>"
      ]
     },
     "metadata": {
      "needs_background": "light"
     },
     "output_type": "display_data"
    }
   ],
   "source": [
    "plt.figure(figsize=(12,7))\n",
    "sns.boxplot(temp['Температура'])\n",
    "plt.title('Температура', fontsize=15)\n",
    "plt.grid(True)\n",
    "plt.show()"
   ]
  },
  {
   "cell_type": "code",
   "execution_count": 22,
   "metadata": {},
   "outputs": [
    {
     "name": "stdout",
     "output_type": "stream",
     "text": [
      "% выбросов key             2.72\n",
      "Время замера    2.72\n",
      "Температура     2.72\n",
      "dtype: float64\n"
     ]
    }
   ],
   "source": [
    "print('% выбросов', round((temp[temp['Температура']>=1650].count()+temp[temp['Температура']<=1550].count())/len(temp)*100, 2))"
   ]
  },
  {
   "cell_type": "markdown",
   "metadata": {},
   "source": [
    "- имеются 2.72% выбросов по столбцу \"Температура\"\n",
    "- избавимся от них в дальнейшем, для приближения к нормальному распределению\n",
    "- так же имеься 2901 пропуск в данных, посмотрим их:"
   ]
  },
  {
   "cell_type": "code",
   "execution_count": 23,
   "metadata": {},
   "outputs": [
    {
     "data": {
      "text/html": [
       "<div>\n",
       "<style scoped>\n",
       "    .dataframe tbody tr th:only-of-type {\n",
       "        vertical-align: middle;\n",
       "    }\n",
       "\n",
       "    .dataframe tbody tr th {\n",
       "        vertical-align: top;\n",
       "    }\n",
       "\n",
       "    .dataframe thead th {\n",
       "        text-align: right;\n",
       "    }\n",
       "</style>\n",
       "<table border=\"1\" class=\"dataframe\">\n",
       "  <thead>\n",
       "    <tr style=\"text-align: right;\">\n",
       "      <th></th>\n",
       "      <th>key</th>\n",
       "      <th>Время замера</th>\n",
       "      <th>Температура</th>\n",
       "    </tr>\n",
       "  </thead>\n",
       "  <tbody>\n",
       "    <tr>\n",
       "      <th>12268</th>\n",
       "      <td>2500</td>\n",
       "      <td>2019-08-06 03:24:43</td>\n",
       "      <td>NaN</td>\n",
       "    </tr>\n",
       "    <tr>\n",
       "      <th>12269</th>\n",
       "      <td>2500</td>\n",
       "      <td>2019-08-06 03:25:16</td>\n",
       "      <td>NaN</td>\n",
       "    </tr>\n",
       "    <tr>\n",
       "      <th>12270</th>\n",
       "      <td>2500</td>\n",
       "      <td>2019-08-06 03:28:21</td>\n",
       "      <td>NaN</td>\n",
       "    </tr>\n",
       "    <tr>\n",
       "      <th>12272</th>\n",
       "      <td>2501</td>\n",
       "      <td>2019-08-06 04:01:59</td>\n",
       "      <td>NaN</td>\n",
       "    </tr>\n",
       "    <tr>\n",
       "      <th>12273</th>\n",
       "      <td>2501</td>\n",
       "      <td>2019-08-06 04:14:35</td>\n",
       "      <td>NaN</td>\n",
       "    </tr>\n",
       "    <tr>\n",
       "      <th>...</th>\n",
       "      <td>...</td>\n",
       "      <td>...</td>\n",
       "      <td>...</td>\n",
       "    </tr>\n",
       "    <tr>\n",
       "      <th>15901</th>\n",
       "      <td>3240</td>\n",
       "      <td>2019-09-01 03:35:16</td>\n",
       "      <td>NaN</td>\n",
       "    </tr>\n",
       "    <tr>\n",
       "      <th>15903</th>\n",
       "      <td>3241</td>\n",
       "      <td>2019-09-01 04:16:12</td>\n",
       "      <td>NaN</td>\n",
       "    </tr>\n",
       "    <tr>\n",
       "      <th>15904</th>\n",
       "      <td>3241</td>\n",
       "      <td>2019-09-01 04:22:39</td>\n",
       "      <td>NaN</td>\n",
       "    </tr>\n",
       "    <tr>\n",
       "      <th>15905</th>\n",
       "      <td>3241</td>\n",
       "      <td>2019-09-01 04:33:42</td>\n",
       "      <td>NaN</td>\n",
       "    </tr>\n",
       "    <tr>\n",
       "      <th>15906</th>\n",
       "      <td>3241</td>\n",
       "      <td>2019-09-01 04:38:08</td>\n",
       "      <td>NaN</td>\n",
       "    </tr>\n",
       "  </tbody>\n",
       "</table>\n",
       "<p>2901 rows × 3 columns</p>\n",
       "</div>"
      ],
      "text/plain": [
       "        key         Время замера  Температура\n",
       "12268  2500  2019-08-06 03:24:43          NaN\n",
       "12269  2500  2019-08-06 03:25:16          NaN\n",
       "12270  2500  2019-08-06 03:28:21          NaN\n",
       "12272  2501  2019-08-06 04:01:59          NaN\n",
       "12273  2501  2019-08-06 04:14:35          NaN\n",
       "...     ...                  ...          ...\n",
       "15901  3240  2019-09-01 03:35:16          NaN\n",
       "15903  3241  2019-09-01 04:16:12          NaN\n",
       "15904  3241  2019-09-01 04:22:39          NaN\n",
       "15905  3241  2019-09-01 04:33:42          NaN\n",
       "15906  3241  2019-09-01 04:38:08          NaN\n",
       "\n",
       "[2901 rows x 3 columns]"
      ]
     },
     "execution_count": 23,
     "metadata": {},
     "output_type": "execute_result"
    }
   ],
   "source": [
    "temp[temp['Температура'].isnull()]"
   ]
  },
  {
   "cell_type": "code",
   "execution_count": 24,
   "metadata": {},
   "outputs": [
    {
     "data": {
      "text/plain": [
       "3072    1\n",
       "2829    1\n",
       "2820    1\n",
       "2821    1\n",
       "2822    1\n",
       "Name: key, dtype: int64"
      ]
     },
     "execution_count": 24,
     "metadata": {},
     "output_type": "execute_result"
    }
   ],
   "source": [
    "temp_2500 = temp[temp['key']>=2500]\n",
    "temp_2500 = temp_2500[temp_2500['Температура']>0]\n",
    "temp_2500['key'].value_counts().head()"
   ]
  },
  {
   "cell_type": "markdown",
   "metadata": {},
   "source": [
    "- все пропуски втречаются после 2500 партии\n",
    "- в 3638 итерациях 2901 пропуск\n",
    "- по этим партиям известна лишь температура на входе, после 1-ой итерации\n",
    "- потери в данных по партиям составляют почти 23%"
   ]
  },
  {
   "cell_type": "markdown",
   "metadata": {},
   "source": [
    "## ПЛАН РАБОТЫ"
   ]
  },
  {
   "cell_type": "markdown",
   "metadata": {},
   "source": [
    "1. убрать из Temp все партии в которых отстутствует целевой признак\n",
    "2. создать общий датасет с ключом по номеру партии\n",
    "3. ввести доп.параметры: общее время нагрева, кол-во итераций в партии, возможно полную мощность\n",
    "4. \"почистить\" выборку: \n",
    "- избавляемся от избыточных признаков в Bulk и Wire\n",
    "- проверяем данные на мультиколлинеарность, при необходимости убираем лишние признаки\n",
    "- убираем все признаки, которые не влияют на целевой признак, например, номер партии\n",
    "5. разделить выборку на обучающую и тестовую.\n",
    "6. масштабируем количественные признаки\n",
    "7. создаем и тестируем модели: линейная регрессия, случайный лес, LGBM\n",
    "8. подбираем гиперпараметры к моделям\n",
    "9. определяем лучшую модель на основании показателей метрики MAE. Целевые значения MAE:\n",
    "(> 8.7 — 0 sp, 7.6 < MAE ≤ 8.7 — 4 sp, 6.8 < MAE ≤ 7.6 — 4.5 sp, 6.3 < MAE ≤ 6.8 — 5 sp, 6.0 < MAE ≤ 6.3 — 5.5 sp, MAE ≤ 6.0 — 6 sp)"
   ]
  },
  {
   "cell_type": "markdown",
   "metadata": {},
   "source": [
    "## Вопросы к тимлиду:"
   ]
  },
  {
   "cell_type": "markdown",
   "metadata": {},
   "source": [
    "- насколько критично для технологии время внесения сыпучки и проволки? судя по набору данных эти значения избыточны, т.е. можно их игнорировать.  \n",
    "- есть-ли смысл вводить параметр полной мощности, если там большинство данных по мощностям будет мультиколлинеарным?  \n",
    "- часть признаков занимает менее 1% от выборки. правильно ли будет избавиться от них, так как явно объема датасета не достаточно для обучения на этих признаках. Или лучше \"раздуть\" датасет каким-либо методом?"
   ]
  },
  {
   "cell_type": "markdown",
   "metadata": {},
   "source": [
    "## Преобразование данных"
   ]
  },
  {
   "cell_type": "code",
   "execution_count": 25,
   "metadata": {},
   "outputs": [],
   "source": [
    "#убираем из все партии в которых отстутствует целевой признак\n",
    "arc = arc.query('key < 2500')"
   ]
  },
  {
   "cell_type": "code",
   "execution_count": 27,
   "metadata": {},
   "outputs": [],
   "source": [
    "#Преобразуем формат данных на datetime\n",
    "arc['Начало нагрева дугой'] = pd.to_datetime(arc['Начало нагрева дугой'])\n",
    "arc['Конец нагрева дугой'] = pd.to_datetime(arc['Конец нагрева дугой'])"
   ]
  },
  {
   "cell_type": "code",
   "execution_count": 28,
   "metadata": {},
   "outputs": [],
   "source": [
    "#избавляемся от избыточных признаков\n",
    "wire = wire [['key', 'Wire 1', 'Wire 2']]\n",
    "bulk = bulk [['key', 'Bulk 3', 'Bulk 4', 'Bulk 6', 'Bulk 12', 'Bulk 14', 'Bulk 15']]"
   ]
  },
  {
   "cell_type": "code",
   "execution_count": 29,
   "metadata": {},
   "outputs": [],
   "source": [
    "#вводим новые параметры\n",
    "arc['Продолжительность нагрева'] = (arc['Конец нагрева дугой'] - arc['Начало нагрева дугой']) // pd.Timedelta('1s')\n",
    "arc['Полная мощность'] = np.sqrt(arc['Активная мощность']**2 + arc['Реактивная мощность']**2)"
   ]
  },
  {
   "cell_type": "code",
   "execution_count": 30,
   "metadata": {},
   "outputs": [],
   "source": [
    "#группируем по столбцу key\n",
    "arc_count = arc['key'].value_counts().sort_index().reset_index()\n",
    "arc_count = arc_count.rename(columns={'index': 'key', 'key': 'Количество запусков'})\n",
    "arc = arc.groupby(by = 'key', as_index=False).sum()\n",
    "arc = arc.merge(arc_count, how='left', on='key')"
   ]
  },
  {
   "cell_type": "code",
   "execution_count": 31,
   "metadata": {},
   "outputs": [
    {
     "data": {
      "text/html": [
       "<div>\n",
       "<style scoped>\n",
       "    .dataframe tbody tr th:only-of-type {\n",
       "        vertical-align: middle;\n",
       "    }\n",
       "\n",
       "    .dataframe tbody tr th {\n",
       "        vertical-align: top;\n",
       "    }\n",
       "\n",
       "    .dataframe thead th {\n",
       "        text-align: right;\n",
       "    }\n",
       "</style>\n",
       "<table border=\"1\" class=\"dataframe\">\n",
       "  <thead>\n",
       "    <tr style=\"text-align: right;\">\n",
       "      <th></th>\n",
       "      <th>Активная мощность</th>\n",
       "      <th>Реактивная мощность</th>\n",
       "      <th>Продолжительность нагрева</th>\n",
       "      <th>Полная мощность</th>\n",
       "      <th>Количество запусков</th>\n",
       "    </tr>\n",
       "  </thead>\n",
       "  <tbody>\n",
       "    <tr>\n",
       "      <th>Активная мощность</th>\n",
       "      <td>1.000000</td>\n",
       "      <td>0.959714</td>\n",
       "      <td>0.978183</td>\n",
       "      <td>0.993675</td>\n",
       "      <td>0.754084</td>\n",
       "    </tr>\n",
       "    <tr>\n",
       "      <th>Реактивная мощность</th>\n",
       "      <td>0.959714</td>\n",
       "      <td>1.000000</td>\n",
       "      <td>0.966453</td>\n",
       "      <td>0.985065</td>\n",
       "      <td>0.751363</td>\n",
       "    </tr>\n",
       "    <tr>\n",
       "      <th>Продолжительность нагрева</th>\n",
       "      <td>0.978183</td>\n",
       "      <td>0.966453</td>\n",
       "      <td>1.000000</td>\n",
       "      <td>0.982893</td>\n",
       "      <td>0.795824</td>\n",
       "    </tr>\n",
       "    <tr>\n",
       "      <th>Полная мощность</th>\n",
       "      <td>0.993675</td>\n",
       "      <td>0.985065</td>\n",
       "      <td>0.982893</td>\n",
       "      <td>1.000000</td>\n",
       "      <td>0.760277</td>\n",
       "    </tr>\n",
       "    <tr>\n",
       "      <th>Количество запусков</th>\n",
       "      <td>0.754084</td>\n",
       "      <td>0.751363</td>\n",
       "      <td>0.795824</td>\n",
       "      <td>0.760277</td>\n",
       "      <td>1.000000</td>\n",
       "    </tr>\n",
       "  </tbody>\n",
       "</table>\n",
       "</div>"
      ],
      "text/plain": [
       "                           Активная мощность  Реактивная мощность  \\\n",
       "Активная мощность                   1.000000             0.959714   \n",
       "Реактивная мощность                 0.959714             1.000000   \n",
       "Продолжительность нагрева           0.978183             0.966453   \n",
       "Полная мощность                     0.993675             0.985065   \n",
       "Количество запусков                 0.754084             0.751363   \n",
       "\n",
       "                           Продолжительность нагрева  Полная мощность  \\\n",
       "Активная мощность                           0.978183         0.993675   \n",
       "Реактивная мощность                         0.966453         0.985065   \n",
       "Продолжительность нагрева                   1.000000         0.982893   \n",
       "Полная мощность                             0.982893         1.000000   \n",
       "Количество запусков                         0.795824         0.760277   \n",
       "\n",
       "                           Количество запусков  \n",
       "Активная мощность                     0.754084  \n",
       "Реактивная мощность                   0.751363  \n",
       "Продолжительность нагрева             0.795824  \n",
       "Полная мощность                       0.760277  \n",
       "Количество запусков                   1.000000  "
      ]
     },
     "metadata": {},
     "output_type": "display_data"
    }
   ],
   "source": [
    "#проверка на мультиколленерарность\n",
    "display(arc[['Активная мощность', 'Реактивная мощность', 'Продолжительность нагрева', 'Полная мощность',\n",
    "       'Количество запусков']].corr())"
   ]
  },
  {
   "cell_type": "markdown",
   "metadata": {},
   "source": [
    "- между собой коррелируют: активная мощность, реактивная мощность, продолжительность нагрева и полная мощность \n",
    "- это приведет к переобучению модели\n",
    "- оставляем признак наиболее коррелеруемый с сотальными - полная мощность\n",
    "- от остальных избавляемся"
   ]
  },
  {
   "cell_type": "code",
   "execution_count": 32,
   "metadata": {},
   "outputs": [],
   "source": [
    "#избавляемся от мультиколинеарных данных\n",
    "arc = arc[['key', 'Полная мощность', 'Количество запусков']]"
   ]
  },
  {
   "cell_type": "code",
   "execution_count": 33,
   "metadata": {},
   "outputs": [],
   "source": [
    "#определяеи стартовую и окончательную температуры по партиям\n",
    "temp = temp.groupby(by = 'key').agg(['first', 'last']).reset_index()\n",
    "temp.columns = ['key', '1', '2', 'temp_start', 'temp_finish']\n",
    "temp = temp[['key', 'temp_start', 'temp_finish']]"
   ]
  },
  {
   "cell_type": "code",
   "execution_count": 34,
   "metadata": {},
   "outputs": [],
   "source": [
    "#объединяем в общий датасет\n",
    "df = (arc.merge(temp, how='left', on='key')\n",
    "         .merge(wire, how='left', on='key')\n",
    "         .merge(bulk, how='left', on='key')\n",
    "         .merge(gas, how='left', on='key'))"
   ]
  },
  {
   "cell_type": "code",
   "execution_count": 35,
   "metadata": {},
   "outputs": [],
   "source": [
    "df = df.drop(['key'], axis = 1)\n",
    "df = df.fillna(0)"
   ]
  },
  {
   "cell_type": "code",
   "execution_count": 36,
   "metadata": {},
   "outputs": [
    {
     "data": {
      "text/html": [
       "<div>\n",
       "<style scoped>\n",
       "    .dataframe tbody tr th:only-of-type {\n",
       "        vertical-align: middle;\n",
       "    }\n",
       "\n",
       "    .dataframe tbody tr th {\n",
       "        vertical-align: top;\n",
       "    }\n",
       "\n",
       "    .dataframe thead th {\n",
       "        text-align: right;\n",
       "    }\n",
       "</style>\n",
       "<table border=\"1\" class=\"dataframe\">\n",
       "  <thead>\n",
       "    <tr style=\"text-align: right;\">\n",
       "      <th></th>\n",
       "      <th>Полная мощность</th>\n",
       "      <th>Количество запусков</th>\n",
       "      <th>temp_start</th>\n",
       "      <th>temp_finish</th>\n",
       "      <th>Wire 1</th>\n",
       "      <th>Wire 2</th>\n",
       "      <th>Bulk 3</th>\n",
       "      <th>Bulk 4</th>\n",
       "      <th>Bulk 6</th>\n",
       "      <th>Bulk 12</th>\n",
       "      <th>Bulk 14</th>\n",
       "      <th>Bulk 15</th>\n",
       "      <th>Газ 1</th>\n",
       "    </tr>\n",
       "  </thead>\n",
       "  <tbody>\n",
       "    <tr>\n",
       "      <th>Полная мощность</th>\n",
       "      <td>1.000000</td>\n",
       "      <td>0.760277</td>\n",
       "      <td>-0.323045</td>\n",
       "      <td>0.221919</td>\n",
       "      <td>0.034270</td>\n",
       "      <td>0.043921</td>\n",
       "      <td>0.105725</td>\n",
       "      <td>-0.018277</td>\n",
       "      <td>0.155238</td>\n",
       "      <td>0.478345</td>\n",
       "      <td>0.452739</td>\n",
       "      <td>0.323548</td>\n",
       "      <td>0.371926</td>\n",
       "    </tr>\n",
       "    <tr>\n",
       "      <th>Количество запусков</th>\n",
       "      <td>0.760277</td>\n",
       "      <td>1.000000</td>\n",
       "      <td>-0.176449</td>\n",
       "      <td>0.050266</td>\n",
       "      <td>0.182710</td>\n",
       "      <td>0.084672</td>\n",
       "      <td>0.129923</td>\n",
       "      <td>0.023483</td>\n",
       "      <td>0.164286</td>\n",
       "      <td>0.317826</td>\n",
       "      <td>0.345431</td>\n",
       "      <td>0.217214</td>\n",
       "      <td>0.416007</td>\n",
       "    </tr>\n",
       "    <tr>\n",
       "      <th>temp_start</th>\n",
       "      <td>-0.323045</td>\n",
       "      <td>-0.176449</td>\n",
       "      <td>1.000000</td>\n",
       "      <td>0.376621</td>\n",
       "      <td>0.071876</td>\n",
       "      <td>-0.103083</td>\n",
       "      <td>-0.126958</td>\n",
       "      <td>0.098172</td>\n",
       "      <td>-0.116663</td>\n",
       "      <td>-0.068498</td>\n",
       "      <td>-0.154557</td>\n",
       "      <td>-0.115456</td>\n",
       "      <td>-0.001326</td>\n",
       "    </tr>\n",
       "    <tr>\n",
       "      <th>temp_finish</th>\n",
       "      <td>0.221919</td>\n",
       "      <td>0.050266</td>\n",
       "      <td>0.376621</td>\n",
       "      <td>1.000000</td>\n",
       "      <td>-0.066263</td>\n",
       "      <td>-0.205057</td>\n",
       "      <td>-0.086867</td>\n",
       "      <td>0.049758</td>\n",
       "      <td>-0.173874</td>\n",
       "      <td>0.161748</td>\n",
       "      <td>0.006859</td>\n",
       "      <td>0.008165</td>\n",
       "      <td>-0.033076</td>\n",
       "    </tr>\n",
       "    <tr>\n",
       "      <th>Wire 1</th>\n",
       "      <td>0.034270</td>\n",
       "      <td>0.182710</td>\n",
       "      <td>0.071876</td>\n",
       "      <td>-0.066263</td>\n",
       "      <td>1.000000</td>\n",
       "      <td>-0.010373</td>\n",
       "      <td>0.084719</td>\n",
       "      <td>0.318095</td>\n",
       "      <td>-0.179843</td>\n",
       "      <td>0.169770</td>\n",
       "      <td>0.000092</td>\n",
       "      <td>0.204983</td>\n",
       "      <td>0.161702</td>\n",
       "    </tr>\n",
       "    <tr>\n",
       "      <th>Wire 2</th>\n",
       "      <td>0.043921</td>\n",
       "      <td>0.084672</td>\n",
       "      <td>-0.103083</td>\n",
       "      <td>-0.205057</td>\n",
       "      <td>-0.010373</td>\n",
       "      <td>1.000000</td>\n",
       "      <td>0.099578</td>\n",
       "      <td>-0.250216</td>\n",
       "      <td>0.201639</td>\n",
       "      <td>-0.097572</td>\n",
       "      <td>0.029338</td>\n",
       "      <td>-0.074952</td>\n",
       "      <td>0.112754</td>\n",
       "    </tr>\n",
       "    <tr>\n",
       "      <th>Bulk 3</th>\n",
       "      <td>0.105725</td>\n",
       "      <td>0.129923</td>\n",
       "      <td>-0.126958</td>\n",
       "      <td>-0.086867</td>\n",
       "      <td>0.084719</td>\n",
       "      <td>0.099578</td>\n",
       "      <td>1.000000</td>\n",
       "      <td>-0.268084</td>\n",
       "      <td>0.074755</td>\n",
       "      <td>0.036251</td>\n",
       "      <td>0.039236</td>\n",
       "      <td>0.027576</td>\n",
       "      <td>0.080453</td>\n",
       "    </tr>\n",
       "    <tr>\n",
       "      <th>Bulk 4</th>\n",
       "      <td>-0.018277</td>\n",
       "      <td>0.023483</td>\n",
       "      <td>0.098172</td>\n",
       "      <td>0.049758</td>\n",
       "      <td>0.318095</td>\n",
       "      <td>-0.250216</td>\n",
       "      <td>-0.268084</td>\n",
       "      <td>1.000000</td>\n",
       "      <td>-0.232155</td>\n",
       "      <td>0.119985</td>\n",
       "      <td>-0.052717</td>\n",
       "      <td>0.140136</td>\n",
       "      <td>0.038209</td>\n",
       "    </tr>\n",
       "    <tr>\n",
       "      <th>Bulk 6</th>\n",
       "      <td>0.155238</td>\n",
       "      <td>0.164286</td>\n",
       "      <td>-0.116663</td>\n",
       "      <td>-0.173874</td>\n",
       "      <td>-0.179843</td>\n",
       "      <td>0.201639</td>\n",
       "      <td>0.074755</td>\n",
       "      <td>-0.232155</td>\n",
       "      <td>1.000000</td>\n",
       "      <td>-0.095454</td>\n",
       "      <td>0.186873</td>\n",
       "      <td>-0.074241</td>\n",
       "      <td>0.148112</td>\n",
       "    </tr>\n",
       "    <tr>\n",
       "      <th>Bulk 12</th>\n",
       "      <td>0.478345</td>\n",
       "      <td>0.317826</td>\n",
       "      <td>-0.068498</td>\n",
       "      <td>0.161748</td>\n",
       "      <td>0.169770</td>\n",
       "      <td>-0.097572</td>\n",
       "      <td>0.036251</td>\n",
       "      <td>0.119985</td>\n",
       "      <td>-0.095454</td>\n",
       "      <td>1.000000</td>\n",
       "      <td>0.505135</td>\n",
       "      <td>0.607225</td>\n",
       "      <td>0.227448</td>\n",
       "    </tr>\n",
       "    <tr>\n",
       "      <th>Bulk 14</th>\n",
       "      <td>0.452739</td>\n",
       "      <td>0.345431</td>\n",
       "      <td>-0.154557</td>\n",
       "      <td>0.006859</td>\n",
       "      <td>0.000092</td>\n",
       "      <td>0.029338</td>\n",
       "      <td>0.039236</td>\n",
       "      <td>-0.052717</td>\n",
       "      <td>0.186873</td>\n",
       "      <td>0.505135</td>\n",
       "      <td>1.000000</td>\n",
       "      <td>0.307066</td>\n",
       "      <td>0.279910</td>\n",
       "    </tr>\n",
       "    <tr>\n",
       "      <th>Bulk 15</th>\n",
       "      <td>0.323548</td>\n",
       "      <td>0.217214</td>\n",
       "      <td>-0.115456</td>\n",
       "      <td>0.008165</td>\n",
       "      <td>0.204983</td>\n",
       "      <td>-0.074952</td>\n",
       "      <td>0.027576</td>\n",
       "      <td>0.140136</td>\n",
       "      <td>-0.074241</td>\n",
       "      <td>0.607225</td>\n",
       "      <td>0.307066</td>\n",
       "      <td>1.000000</td>\n",
       "      <td>0.083465</td>\n",
       "    </tr>\n",
       "    <tr>\n",
       "      <th>Газ 1</th>\n",
       "      <td>0.371926</td>\n",
       "      <td>0.416007</td>\n",
       "      <td>-0.001326</td>\n",
       "      <td>-0.033076</td>\n",
       "      <td>0.161702</td>\n",
       "      <td>0.112754</td>\n",
       "      <td>0.080453</td>\n",
       "      <td>0.038209</td>\n",
       "      <td>0.148112</td>\n",
       "      <td>0.227448</td>\n",
       "      <td>0.279910</td>\n",
       "      <td>0.083465</td>\n",
       "      <td>1.000000</td>\n",
       "    </tr>\n",
       "  </tbody>\n",
       "</table>\n",
       "</div>"
      ],
      "text/plain": [
       "                     Полная мощность  Количество запусков  temp_start  \\\n",
       "Полная мощность             1.000000             0.760277   -0.323045   \n",
       "Количество запусков         0.760277             1.000000   -0.176449   \n",
       "temp_start                 -0.323045            -0.176449    1.000000   \n",
       "temp_finish                 0.221919             0.050266    0.376621   \n",
       "Wire 1                      0.034270             0.182710    0.071876   \n",
       "Wire 2                      0.043921             0.084672   -0.103083   \n",
       "Bulk 3                      0.105725             0.129923   -0.126958   \n",
       "Bulk 4                     -0.018277             0.023483    0.098172   \n",
       "Bulk 6                      0.155238             0.164286   -0.116663   \n",
       "Bulk 12                     0.478345             0.317826   -0.068498   \n",
       "Bulk 14                     0.452739             0.345431   -0.154557   \n",
       "Bulk 15                     0.323548             0.217214   -0.115456   \n",
       "Газ 1                       0.371926             0.416007   -0.001326   \n",
       "\n",
       "                     temp_finish    Wire 1    Wire 2    Bulk 3    Bulk 4  \\\n",
       "Полная мощность         0.221919  0.034270  0.043921  0.105725 -0.018277   \n",
       "Количество запусков     0.050266  0.182710  0.084672  0.129923  0.023483   \n",
       "temp_start              0.376621  0.071876 -0.103083 -0.126958  0.098172   \n",
       "temp_finish             1.000000 -0.066263 -0.205057 -0.086867  0.049758   \n",
       "Wire 1                 -0.066263  1.000000 -0.010373  0.084719  0.318095   \n",
       "Wire 2                 -0.205057 -0.010373  1.000000  0.099578 -0.250216   \n",
       "Bulk 3                 -0.086867  0.084719  0.099578  1.000000 -0.268084   \n",
       "Bulk 4                  0.049758  0.318095 -0.250216 -0.268084  1.000000   \n",
       "Bulk 6                 -0.173874 -0.179843  0.201639  0.074755 -0.232155   \n",
       "Bulk 12                 0.161748  0.169770 -0.097572  0.036251  0.119985   \n",
       "Bulk 14                 0.006859  0.000092  0.029338  0.039236 -0.052717   \n",
       "Bulk 15                 0.008165  0.204983 -0.074952  0.027576  0.140136   \n",
       "Газ 1                  -0.033076  0.161702  0.112754  0.080453  0.038209   \n",
       "\n",
       "                       Bulk 6   Bulk 12   Bulk 14   Bulk 15     Газ 1  \n",
       "Полная мощность      0.155238  0.478345  0.452739  0.323548  0.371926  \n",
       "Количество запусков  0.164286  0.317826  0.345431  0.217214  0.416007  \n",
       "temp_start          -0.116663 -0.068498 -0.154557 -0.115456 -0.001326  \n",
       "temp_finish         -0.173874  0.161748  0.006859  0.008165 -0.033076  \n",
       "Wire 1              -0.179843  0.169770  0.000092  0.204983  0.161702  \n",
       "Wire 2               0.201639 -0.097572  0.029338 -0.074952  0.112754  \n",
       "Bulk 3               0.074755  0.036251  0.039236  0.027576  0.080453  \n",
       "Bulk 4              -0.232155  0.119985 -0.052717  0.140136  0.038209  \n",
       "Bulk 6               1.000000 -0.095454  0.186873 -0.074241  0.148112  \n",
       "Bulk 12             -0.095454  1.000000  0.505135  0.607225  0.227448  \n",
       "Bulk 14              0.186873  0.505135  1.000000  0.307066  0.279910  \n",
       "Bulk 15             -0.074241  0.607225  0.307066  1.000000  0.083465  \n",
       "Газ 1                0.148112  0.227448  0.279910  0.083465  1.000000  "
      ]
     },
     "metadata": {},
     "output_type": "display_data"
    }
   ],
   "source": [
    "#проверяем итоговые данные на мультиколинеарность\n",
    "display(df.corr())"
   ]
  },
  {
   "cell_type": "code",
   "execution_count": 38,
   "metadata": {},
   "outputs": [],
   "source": [
    "df = df.rename(columns={'Полная мощность': 'full_power', 'Количество запусков':'number_heat', 'Газ 1': 'gas'})"
   ]
  },
  {
   "cell_type": "code",
   "execution_count": 39,
   "metadata": {},
   "outputs": [],
   "source": [
    "#делим на выборки\n",
    "x, y = train_test_split(df, test_size = .25, random_state = 12345)"
   ]
  },
  {
   "cell_type": "code",
   "execution_count": 40,
   "metadata": {},
   "outputs": [],
   "source": [
    "#масштабируем выборки\n",
    "numeric = df.columns.tolist()\n",
    "numeric = [i for i in numeric if i not in ('temp_finish')]\n",
    "scaler = MinMaxScaler()\n",
    "scaler.fit(x[numeric])\n",
    "\n",
    "x[numeric] = scaler.transform(x[numeric])\n",
    "y[numeric] = scaler.transform(y[numeric])"
   ]
  },
  {
   "cell_type": "code",
   "execution_count": 41,
   "metadata": {},
   "outputs": [],
   "source": [
    "x_train = x.drop(['temp_finish'], axis = 1)\n",
    "y_train = x['temp_finish']\n",
    "x_test = y.drop(['temp_finish'], axis = 1)\n",
    "y_test = y['temp_finish']"
   ]
  },
  {
   "cell_type": "markdown",
   "metadata": {},
   "source": [
    "## Модели"
   ]
  },
  {
   "cell_type": "markdown",
   "metadata": {},
   "source": [
    "### Linear Regression"
   ]
  },
  {
   "cell_type": "code",
   "execution_count": 42,
   "metadata": {},
   "outputs": [
    {
     "name": "stdout",
     "output_type": "stream",
     "text": [
      "{'fit_intercept': True, 'normalize': False}\n",
      "MAE на тестовой выборке:  8.131199083830797\n",
      "CPU times: user 158 ms, sys: 124 ms, total: 282 ms\n",
      "Wall time: 204 ms\n"
     ]
    }
   ],
   "source": [
    "%%time\n",
    "param_lr_grid = {'fit_intercept':[True, False], \n",
    "                 'normalize':[True, False]\n",
    "                }\n",
    "\n",
    "grid_lr = GridSearchCV(LinearRegression(), \n",
    "                       param_lr_grid, \n",
    "                       cv=5,\n",
    "                       scoring='neg_mean_absolute_error',\n",
    "                       )\n",
    "\n",
    "grid_lr.fit(x_train, y_train)\n",
    "params_lr = grid_lr.best_params_\n",
    "lr = LinearRegression(**params_lr)\n",
    "lr.fit(x_train, y_train)\n",
    "pred_test = lr.predict(x_test)\n",
    "print(params_lr)\n",
    "print('MAE на тестовой выборке: ', mean_absolute_error(y_test, pred_test))"
   ]
  },
  {
   "cell_type": "code",
   "execution_count": 43,
   "metadata": {},
   "outputs": [
    {
     "data": {
      "text/plain": [
       "Text(0.5, 0, 'Linear Regression: важность признаков')"
      ]
     },
     "execution_count": 43,
     "metadata": {},
     "output_type": "execute_result"
    },
    {
     "data": {
      "image/png": "[encoded data removed]",
      "text/plain": [
       "<Figure size 1080x720 with 1 Axes>"
      ]
     },
     "metadata": {
      "needs_background": "light"
     },
     "output_type": "display_data"
    }
   ],
   "source": [
    "fig, ax = plt.subplots(figsize=(15,10))\n",
    "sorted_idx = lr.coef_.argsort()\n",
    "plt.barh(x_test.columns.values[sorted_idx], lr.coef_[sorted_idx])\n",
    "plt.xlabel('Linear Regression: важность признаков')"
   ]
  },
  {
   "cell_type": "markdown",
   "metadata": {},
   "source": [
    "### Random Forest"
   ]
  },
  {
   "cell_type": "code",
   "execution_count": 44,
   "metadata": {},
   "outputs": [
    {
     "name": "stdout",
     "output_type": "stream",
     "text": [
      "{'max_depth': 5, 'max_features': 'auto', 'min_samples_split': 3, 'n_estimators': 50}\n",
      "MAE на тестовой выборке:  6.88067831560668\n",
      "CPU times: user 1min 20s, sys: 374 ms, total: 1min 20s\n",
      "Wall time: 1min 20s\n"
     ]
    }
   ],
   "source": [
    "%%time\n",
    "param_rf_grid = {'n_estimators': [50, 100, 200, 300], \n",
    "                 'max_depth': [2, 3, 5], \n",
    "                 'min_samples_split': [2, 3, 5], \n",
    "                 'max_features': ['auto'],\n",
    "                }\n",
    "grid_rf = GridSearchCV(RandomForestRegressor(random_state=12345), \n",
    "                       param_rf_grid, \n",
    "                       cv=5,\n",
    "                       scoring='neg_mean_absolute_error')\n",
    "grid_rf.fit(x_train, y_train)\n",
    "params_rf = grid_rf.best_params_\n",
    "rf = RandomForestRegressor(**params_rf, random_state=12345)\n",
    "rf.fit(x_train, y_train)\n",
    "pred_test = rf.predict(x_test)\n",
    "print(params_rf)\n",
    "print('MAE на тестовой выборке: ', mean_absolute_error(y_test, pred_test))"
   ]
  },
  {
   "cell_type": "code",
   "execution_count": 45,
   "metadata": {},
   "outputs": [
    {
     "data": {
      "text/plain": [
       "Text(0.5, 0, 'Random Forest: важность признаков')"
      ]
     },
     "execution_count": 45,
     "metadata": {},
     "output_type": "execute_result"
    },
    {
     "data": {
      "image/png": "[encoded data removed]",
      "text/plain": [
       "<Figure size 1080x720 with 1 Axes>"
      ]
     },
     "metadata": {
      "needs_background": "light"
     },
     "output_type": "display_data"
    }
   ],
   "source": [
    "fig, ax = plt.subplots(figsize=(15,10))\n",
    "sorted_idx = rf.feature_importances_.argsort()\n",
    "plt.barh(x_test.columns.values[sorted_idx], rf.feature_importances_[sorted_idx])\n",
    "plt.xlabel('Random Forest: важность признаков')"
   ]
  },
  {
   "cell_type": "markdown",
   "metadata": {},
   "source": [
    "### LGBMRegressor"
   ]
  },
  {
   "cell_type": "code",
   "execution_count": 48,
   "metadata": {},
   "outputs": [
    {
     "name": "stdout",
     "output_type": "stream",
     "text": [
      "{'boosting_type': 'gbdt', 'learning_rate': 0.01, 'max_depth': 4, 'n_estimators': 500}\n",
      "MAE on test:  6.631669407676265\n",
      "CPU times: user 12min 10s, sys: 3.24 s, total: 12min 14s\n",
      "Wall time: 13min 57s\n"
     ]
    }
   ],
   "source": [
    "%%time\n",
    "param_lgbm_grid = {'boosting_type' : ['gbdt'],\n",
    "                  'n_estimators': [500, 1000, 1250], \n",
    "                  'learning_rate': [0.01, 0.02, 0.03],\n",
    "                  'max_depth':[2, 3, 4],\n",
    "                  }\n",
    "\n",
    "grid_lgbm = GridSearchCV(LGBMRegressor(random_state=12345), \n",
    "                        param_lgbm_grid, \n",
    "                        cv=10, \n",
    "                        scoring='neg_mean_absolute_error'\n",
    "                       ) \n",
    "grid_lgbm.fit(x_train, y_train)\n",
    "params_lgbm = grid_lgbm.best_params_\n",
    "lgbm = LGBMRegressor(**params_lgbm)\n",
    "lgbm.fit(x_train, y_train)\n",
    "pred_test = lgbm.predict(x_test) \n",
    "print(params_lgbm)\n",
    "print(\"MAE on test: \", mean_absolute_error(y_test, pred_test))"
   ]
  },
  {
   "cell_type": "code",
   "execution_count": 49,
   "metadata": {
    "scrolled": true
   },
   "outputs": [
    {
     "data": {
      "text/plain": [
       "Text(0.5, 0, 'LGBMRegressor: важность признаков')"
      ]
     },
     "execution_count": 49,
     "metadata": {},
     "output_type": "execute_result"
    },
    {
     "data": {
      "image/png": "[encoded data removed]",
      "text/plain": [
       "<Figure size 1080x720 with 1 Axes>"
      ]
     },
     "metadata": {
      "needs_background": "light"
     },
     "output_type": "display_data"
    }
   ],
   "source": [
    "fig, ax = plt.subplots(figsize=(15,10))\n",
    "sorted_idx = lgbm.feature_importances_.argsort()\n",
    "plt.barh(x_test.columns.values[sorted_idx], lgbm.feature_importances_[sorted_idx])\n",
    "plt.xlabel('LGBMRegressor: важность признаков')"
   ]
  },
  {
   "cell_type": "markdown",
   "metadata": {},
   "source": [
    "## Выводы"
   ]
  },
  {
   "cell_type": "markdown",
   "metadata": {},
   "source": [
    "- подготовили данные и обучили модели\n",
    "- определили важность признаков для каждой модели\n",
    "- с помощью метрики MAE сравнили их эффективность\n",
    "- лучший результат у модели LGBMRegressor: MAE на тесте: 6.43"
   ]
  },
  {
   "cell_type": "markdown",
   "metadata": {},
   "source": [
    "## Отчет"
   ]
  },
  {
   "cell_type": "markdown",
   "metadata": {},
   "source": [
    "убрать из Temp все партии в которых отстутствует целевой признак  \n",
    "**выполнено**  \n",
    "создать общий датасет с ключом по номеру партии  \n",
    "**выполнено**  \n",
    "ввести доп.параметры: общее время нагрева, кол-во итераций в партии, возможно полную мощность\n",
    "**выполнено**    \n",
    "\"почистить\" выборку:  \n",
    "избавляемся от избыточных признаков в Bulk и Wire  \n",
    "**выполнено**    \n",
    "проверяем данные на мультиколлинеарность, при необходимости убираем лишние признаки  \n",
    "**выполнено**  \n",
    "убираем все признаки, которые не влияют на целевой признак, например, номер партии  \n",
    "**выполнено**  \n",
    "разделить выборку на обучающую и тестовую.  \n",
    "**выполнено**  \n",
    "масштабируем количественные признаки  \n",
    "**выполнено**  \n",
    "создаем и тестируем модели: линейная регрессия, случайный лес, LGBM  \n",
    "**выполнено**  \n",
    "подбираем гиперпараметры к моделям  \n",
    "**выполнено**  \n",
    "определяем лучшую модель на основании показателей метрики MAE. Целевые значения MAE: (> 8.7 — 0 sp, 7.6 < MAE ≤ 8.7 — 4 sp, 6.8 < MAE ≤ 7.6 — 4.5 sp, 6.3 < MAE ≤ 6.8 — 5 sp, 6.0 < MAE ≤ 6.3 — 5.5 sp, MAE ≤ 6.0 — 6 sp)  \n",
    "**выполнено**  "
   ]
  },
  {
   "cell_type": "markdown",
   "metadata": {},
   "source": [
    "**- в задумках так же было выкинуть выбросы из обычающей выборке, но последующий анализ показал снижение MAE на тесте в моделе LGBMRegressor**  \n",
    "**- так же можно  улучшить итоговую MAE если не \"выбрасывать\" данные из data_bulk и data_wire, однако это в на порядок увеличивает время обсчета модели, так как у нас не стояла задача максимального увеличения точности, то я оставил в приоритете модель с оптимальном значеинем качество\\время**\n",
    "**- как выше я у же обозначал, не хватает данных на входе для более точного предсказания, а имеено хим.состава изначального сырья**  \n",
    "**- имея его мы могли бы проверить множество гипотез воияющие на нагрев, а именно время внесения доп. компонентов, влияние их объема на нагрев, заивимость от количества итераций от нагрева и множества других. Имея только данные из задачи, данные показатели мы не можем предсказать с большой вероятномтью, так как фактически не зная всех данных на входе, последующие данные для нас становятся \"рандомные\"**  \n",
    "**- на практике, имея такие данные как в проекте, я бы предложил попробывать обучение без учителя и просто разбить на кластеры, так как все равно температура конечная будет колебаться. А там уже смотреть какие факторы нам нужно корректировать, что бы был переход между категориями**"
   ]
  }
 ],
 "metadata": {
  "ExecuteTimeLog": [
   {
    "duration": 55,
    "start_time": "2022-06-13T13:59:02.070Z"
   },
   {
    "duration": 1346,
    "start_time": "2022-06-13T13:59:07.021Z"
   },
   {
    "duration": 506,
    "start_time": "2022-06-13T13:59:09.381Z"
   },
   {
    "duration": 4,
    "start_time": "2022-06-13T14:01:22.143Z"
   },
   {
    "duration": 28,
    "start_time": "2022-06-13T14:03:17.658Z"
   },
   {
    "duration": 3,
    "start_time": "2022-06-13T14:05:52.049Z"
   },
   {
    "duration": 35,
    "start_time": "2022-06-13T14:05:53.418Z"
   },
   {
    "duration": 9,
    "start_time": "2022-06-13T14:06:09.421Z"
   },
   {
    "duration": 31,
    "start_time": "2022-06-13T14:06:13.149Z"
   },
   {
    "duration": 5,
    "start_time": "2022-06-13T14:15:29.018Z"
   },
   {
    "duration": 4,
    "start_time": "2022-06-13T14:15:43.743Z"
   },
   {
    "duration": 26,
    "start_time": "2022-06-13T14:19:22.458Z"
   },
   {
    "duration": 5,
    "start_time": "2022-06-13T14:19:29.659Z"
   },
   {
    "duration": 5,
    "start_time": "2022-06-13T14:19:50.497Z"
   },
   {
    "duration": 296,
    "start_time": "2022-06-13T14:28:32.139Z"
   },
   {
    "duration": 281,
    "start_time": "2022-06-13T14:28:55.780Z"
   },
   {
    "duration": 4,
    "start_time": "2022-06-13T14:29:13.540Z"
   },
   {
    "duration": 5,
    "start_time": "2022-06-13T14:29:23.181Z"
   },
   {
    "duration": 9,
    "start_time": "2022-06-13T14:30:35.542Z"
   },
   {
    "duration": 20,
    "start_time": "2022-06-13T14:30:44.980Z"
   },
   {
    "duration": 18,
    "start_time": "2022-06-13T14:31:09.780Z"
   },
   {
    "duration": 4,
    "start_time": "2022-06-13T14:34:24.830Z"
   },
   {
    "duration": 5,
    "start_time": "2022-06-13T14:34:34.898Z"
   },
   {
    "duration": 8,
    "start_time": "2022-06-13T14:34:46.945Z"
   },
   {
    "duration": 14,
    "start_time": "2022-06-13T14:35:14.098Z"
   },
   {
    "duration": 15,
    "start_time": "2022-06-13T14:35:24.578Z"
   },
   {
    "duration": 7,
    "start_time": "2022-06-13T14:36:16.659Z"
   },
   {
    "duration": 9,
    "start_time": "2022-06-13T14:36:28.290Z"
   },
   {
    "duration": 8,
    "start_time": "2022-06-13T14:36:47.025Z"
   },
   {
    "duration": 4,
    "start_time": "2022-06-13T14:37:46.644Z"
   },
   {
    "duration": 8,
    "start_time": "2022-06-13T14:38:43.778Z"
   },
   {
    "duration": 9,
    "start_time": "2022-06-13T14:38:49.378Z"
   },
   {
    "duration": 14,
    "start_time": "2022-06-13T14:39:02.898Z"
   },
   {
    "duration": 12,
    "start_time": "2022-06-13T14:39:27.938Z"
   },
   {
    "duration": 15,
    "start_time": "2022-06-13T14:39:43.690Z"
   },
   {
    "duration": 13,
    "start_time": "2022-06-13T14:40:12.899Z"
   },
   {
    "duration": 12,
    "start_time": "2022-06-13T14:40:36.258Z"
   },
   {
    "duration": 9,
    "start_time": "2022-06-13T14:40:46.667Z"
   },
   {
    "duration": 10,
    "start_time": "2022-06-13T14:41:04.144Z"
   },
   {
    "duration": 5,
    "start_time": "2022-06-13T14:49:45.826Z"
   },
   {
    "duration": 9,
    "start_time": "2022-06-13T14:49:58.258Z"
   },
   {
    "duration": 11,
    "start_time": "2022-06-13T14:50:20.617Z"
   },
   {
    "duration": 9,
    "start_time": "2022-06-13T14:50:58.338Z"
   },
   {
    "duration": 15,
    "start_time": "2022-06-13T14:51:15.450Z"
   },
   {
    "duration": 11,
    "start_time": "2022-06-13T14:52:54.897Z"
   },
   {
    "duration": 4,
    "start_time": "2022-06-13T14:54:10.786Z"
   },
   {
    "duration": 5,
    "start_time": "2022-06-13T14:56:14.019Z"
   },
   {
    "duration": 5,
    "start_time": "2022-06-13T14:56:19.021Z"
   },
   {
    "duration": 10,
    "start_time": "2022-06-13T14:56:36.261Z"
   },
   {
    "duration": 8,
    "start_time": "2022-06-13T15:00:16.464Z"
   },
   {
    "duration": 3,
    "start_time": "2022-06-13T15:00:21.264Z"
   },
   {
    "duration": 5,
    "start_time": "2022-06-13T15:02:57.193Z"
   },
   {
    "duration": 11,
    "start_time": "2022-06-13T15:03:01.150Z"
   },
   {
    "duration": 41,
    "start_time": "2022-06-13T15:03:09.634Z"
   },
   {
    "duration": 13,
    "start_time": "2022-06-13T15:03:15.517Z"
   },
   {
    "duration": 15,
    "start_time": "2022-06-13T15:03:28.160Z"
   },
   {
    "duration": 20,
    "start_time": "2022-06-13T15:03:32.627Z"
   },
   {
    "duration": 14,
    "start_time": "2022-06-13T15:08:56.030Z"
   },
   {
    "duration": 9,
    "start_time": "2022-06-13T15:17:39.552Z"
   },
   {
    "duration": 9,
    "start_time": "2022-06-13T15:17:51.435Z"
   },
   {
    "duration": 9,
    "start_time": "2022-06-13T15:17:54.757Z"
   },
   {
    "duration": 9,
    "start_time": "2022-06-13T15:19:06.962Z"
   },
   {
    "duration": 9,
    "start_time": "2022-06-13T15:19:10.869Z"
   },
   {
    "duration": 3,
    "start_time": "2022-06-13T15:19:17.796Z"
   },
   {
    "duration": 7,
    "start_time": "2022-06-13T15:19:25.068Z"
   },
   {
    "duration": 5,
    "start_time": "2022-06-13T15:19:34.798Z"
   },
   {
    "duration": 44,
    "start_time": "2022-06-13T15:22:09.021Z"
   },
   {
    "duration": 11,
    "start_time": "2022-06-13T15:23:27.632Z"
   },
   {
    "duration": 11,
    "start_time": "2022-06-13T15:23:35.757Z"
   },
   {
    "duration": 5,
    "start_time": "2022-06-13T15:23:49.911Z"
   },
   {
    "duration": 6,
    "start_time": "2022-06-13T15:24:04.037Z"
   },
   {
    "duration": 7,
    "start_time": "2022-06-13T15:24:47.989Z"
   },
   {
    "duration": 7,
    "start_time": "2022-06-13T15:24:55.158Z"
   },
   {
    "duration": 375,
    "start_time": "2022-06-13T15:26:49.191Z"
   },
   {
    "duration": 8,
    "start_time": "2022-06-13T15:28:48.109Z"
   },
   {
    "duration": 11,
    "start_time": "2022-06-13T15:31:53.950Z"
   },
   {
    "duration": 13,
    "start_time": "2022-06-13T15:32:05.279Z"
   },
   {
    "duration": 12,
    "start_time": "2022-06-13T15:33:06.989Z"
   },
   {
    "duration": 9,
    "start_time": "2022-06-13T15:33:21.268Z"
   },
   {
    "duration": 17,
    "start_time": "2022-06-13T15:33:29.589Z"
   },
   {
    "duration": 8,
    "start_time": "2022-06-13T15:34:38.151Z"
   },
   {
    "duration": 9,
    "start_time": "2022-06-13T15:36:07.379Z"
   },
   {
    "duration": 13,
    "start_time": "2022-06-13T15:45:22.777Z"
   },
   {
    "duration": 4,
    "start_time": "2022-06-13T15:49:26.186Z"
   },
   {
    "duration": 186,
    "start_time": "2022-06-13T15:49:26.191Z"
   },
   {
    "duration": 3,
    "start_time": "2022-06-13T15:49:26.379Z"
   },
   {
    "duration": 35,
    "start_time": "2022-06-13T15:49:26.383Z"
   },
   {
    "duration": 4,
    "start_time": "2022-06-13T15:49:26.420Z"
   },
   {
    "duration": 12,
    "start_time": "2022-06-13T15:49:26.425Z"
   },
   {
    "duration": 11,
    "start_time": "2022-06-13T15:49:26.439Z"
   },
   {
    "duration": 9,
    "start_time": "2022-06-13T15:51:25.897Z"
   },
   {
    "duration": 69,
    "start_time": "2022-06-13T15:51:30.618Z"
   },
   {
    "duration": 4,
    "start_time": "2022-06-13T15:56:00.360Z"
   },
   {
    "duration": 52,
    "start_time": "2022-06-13T15:56:02.621Z"
   },
   {
    "duration": 74,
    "start_time": "2022-06-13T15:56:21.300Z"
   },
   {
    "duration": 4,
    "start_time": "2022-06-13T15:57:43.980Z"
   },
   {
    "duration": 35,
    "start_time": "2022-06-13T15:57:46.781Z"
   },
   {
    "duration": 108,
    "start_time": "2022-06-13T15:59:02.659Z"
   },
   {
    "duration": 33,
    "start_time": "2022-06-13T16:09:55.740Z"
   },
   {
    "duration": 3,
    "start_time": "2022-06-13T16:25:53.974Z"
   },
   {
    "duration": 4,
    "start_time": "2022-06-13T16:25:57.775Z"
   },
   {
    "duration": 42,
    "start_time": "2022-06-13T16:26:07.547Z"
   },
   {
    "duration": 5,
    "start_time": "2022-06-13T16:26:30.294Z"
   },
   {
    "duration": 8,
    "start_time": "2022-06-13T16:27:08.545Z"
   },
   {
    "duration": 14,
    "start_time": "2022-06-13T16:27:12.623Z"
   },
   {
    "duration": 10,
    "start_time": "2022-06-13T16:37:22.137Z"
   },
   {
    "duration": 12,
    "start_time": "2022-06-13T16:44:16.581Z"
   },
   {
    "duration": 24,
    "start_time": "2022-06-13T16:44:31.814Z"
   },
   {
    "duration": 9,
    "start_time": "2022-06-13T16:46:46.093Z"
   },
   {
    "duration": 7,
    "start_time": "2022-06-13T16:47:42.576Z"
   },
   {
    "duration": 6,
    "start_time": "2022-06-13T16:47:48.414Z"
   },
   {
    "duration": 6,
    "start_time": "2022-06-13T16:47:54.974Z"
   },
   {
    "duration": 9,
    "start_time": "2022-06-13T16:48:14.455Z"
   },
   {
    "duration": 8,
    "start_time": "2022-06-13T16:48:22.062Z"
   },
   {
    "duration": 15,
    "start_time": "2022-06-13T16:53:13.823Z"
   },
   {
    "duration": 11,
    "start_time": "2022-06-13T16:53:20.174Z"
   },
   {
    "duration": 14,
    "start_time": "2022-06-13T16:53:25.537Z"
   },
   {
    "duration": 10,
    "start_time": "2022-06-13T16:54:04.502Z"
   },
   {
    "duration": 6,
    "start_time": "2022-06-13T16:54:10.938Z"
   },
   {
    "duration": 9,
    "start_time": "2022-06-13T16:54:16.622Z"
   },
   {
    "duration": 14,
    "start_time": "2022-06-13T16:55:39.614Z"
   },
   {
    "duration": 156,
    "start_time": "2022-06-13T16:55:46.455Z"
   },
   {
    "duration": 111,
    "start_time": "2022-06-13T16:58:30.255Z"
   },
   {
    "duration": 98,
    "start_time": "2022-06-13T16:58:42.178Z"
   },
   {
    "duration": 132,
    "start_time": "2022-06-13T16:59:36.774Z"
   },
   {
    "duration": 12,
    "start_time": "2022-06-13T17:00:19.978Z"
   },
   {
    "duration": 16,
    "start_time": "2022-06-13T17:00:35.736Z"
   },
   {
    "duration": 146,
    "start_time": "2022-06-13T17:00:45.375Z"
   },
   {
    "duration": 184,
    "start_time": "2022-06-13T17:01:25.867Z"
   },
   {
    "duration": 126,
    "start_time": "2022-06-13T17:02:48.937Z"
   },
   {
    "duration": 179,
    "start_time": "2022-06-13T17:03:09.585Z"
   },
   {
    "duration": 253,
    "start_time": "2022-06-13T17:03:22.655Z"
   },
   {
    "duration": 201,
    "start_time": "2022-06-13T17:03:29.340Z"
   },
   {
    "duration": 183,
    "start_time": "2022-06-13T17:04:26.295Z"
   },
   {
    "duration": 193,
    "start_time": "2022-06-13T17:08:52.215Z"
   },
   {
    "duration": 53,
    "start_time": "2022-06-13T17:24:52.414Z"
   },
   {
    "duration": 42,
    "start_time": "2022-06-13T17:25:09.214Z"
   },
   {
    "duration": 135,
    "start_time": "2022-06-13T17:31:45.254Z"
   },
   {
    "duration": 202,
    "start_time": "2022-06-13T17:40:26.816Z"
   },
   {
    "duration": 140,
    "start_time": "2022-06-13T17:41:18.415Z"
   },
   {
    "duration": 315,
    "start_time": "2022-06-13T17:44:41.373Z"
   },
   {
    "duration": 284,
    "start_time": "2022-06-13T17:45:13.224Z"
   },
   {
    "duration": 321,
    "start_time": "2022-06-13T17:45:31.197Z"
   },
   {
    "duration": 17,
    "start_time": "2022-06-13T17:45:43.702Z"
   },
   {
    "duration": 142,
    "start_time": "2022-06-13T17:45:46.413Z"
   },
   {
    "duration": 27,
    "start_time": "2022-06-13T17:47:16.139Z"
   },
   {
    "duration": 11,
    "start_time": "2022-06-13T17:47:29.974Z"
   },
   {
    "duration": 3,
    "start_time": "2022-06-13T17:48:06.614Z"
   },
   {
    "duration": 14,
    "start_time": "2022-06-13T17:48:13.252Z"
   },
   {
    "duration": 5,
    "start_time": "2022-06-13T17:50:17.214Z"
   },
   {
    "duration": 17,
    "start_time": "2022-06-13T17:50:24.988Z"
   },
   {
    "duration": 18,
    "start_time": "2022-06-13T17:51:33.463Z"
   },
   {
    "duration": 5,
    "start_time": "2022-06-13T17:52:25.255Z"
   },
   {
    "duration": 25,
    "start_time": "2022-06-13T17:53:47.774Z"
   },
   {
    "duration": 148,
    "start_time": "2022-06-13T18:08:11.904Z"
   },
   {
    "duration": 143,
    "start_time": "2022-06-13T18:08:39.235Z"
   },
   {
    "duration": 132,
    "start_time": "2022-06-13T18:10:56.742Z"
   },
   {
    "duration": 158,
    "start_time": "2022-06-13T18:11:25.814Z"
   },
   {
    "duration": 271,
    "start_time": "2022-06-13T18:11:32.814Z"
   },
   {
    "duration": 152,
    "start_time": "2022-06-13T18:11:37.693Z"
   },
   {
    "duration": 161,
    "start_time": "2022-06-13T18:11:45.415Z"
   },
   {
    "duration": 174,
    "start_time": "2022-06-13T18:11:52.260Z"
   },
   {
    "duration": 158,
    "start_time": "2022-06-13T18:12:04.734Z"
   },
   {
    "duration": 179,
    "start_time": "2022-06-13T18:12:17.935Z"
   },
   {
    "duration": 99,
    "start_time": "2022-06-13T18:12:49.292Z"
   },
   {
    "duration": 90,
    "start_time": "2022-06-13T18:12:56.138Z"
   },
   {
    "duration": 96,
    "start_time": "2022-06-13T18:13:06.852Z"
   },
   {
    "duration": 113,
    "start_time": "2022-06-13T18:13:33.136Z"
   },
   {
    "duration": 98,
    "start_time": "2022-06-13T18:18:06.253Z"
   },
   {
    "duration": 185,
    "start_time": "2022-06-13T18:18:46.740Z"
   },
   {
    "duration": 88,
    "start_time": "2022-06-13T18:19:42.044Z"
   },
   {
    "duration": 95,
    "start_time": "2022-06-13T18:19:46.462Z"
   },
   {
    "duration": 97,
    "start_time": "2022-06-13T18:20:21.573Z"
   },
   {
    "duration": 93,
    "start_time": "2022-06-13T18:20:36.412Z"
   },
   {
    "duration": 9,
    "start_time": "2022-06-13T18:24:22.380Z"
   },
   {
    "duration": 6,
    "start_time": "2022-06-13T18:24:35.335Z"
   },
   {
    "duration": 9,
    "start_time": "2022-06-13T18:24:50.012Z"
   },
   {
    "duration": 8,
    "start_time": "2022-06-13T18:25:23.853Z"
   },
   {
    "duration": 8,
    "start_time": "2022-06-13T18:25:28.452Z"
   },
   {
    "duration": 7,
    "start_time": "2022-06-13T18:25:52.692Z"
   },
   {
    "duration": 18,
    "start_time": "2022-06-13T18:27:24.013Z"
   },
   {
    "duration": 8,
    "start_time": "2022-06-13T18:27:39.745Z"
   },
   {
    "duration": 8,
    "start_time": "2022-06-13T18:28:18.149Z"
   },
   {
    "duration": 4,
    "start_time": "2022-06-13T19:59:04.729Z"
   },
   {
    "duration": 10,
    "start_time": "2022-06-13T19:59:11.498Z"
   },
   {
    "duration": 10,
    "start_time": "2022-06-13T20:00:39.411Z"
   },
   {
    "duration": 36,
    "start_time": "2022-06-13T20:03:08.330Z"
   },
   {
    "duration": 12,
    "start_time": "2022-06-13T20:04:55.467Z"
   },
   {
    "duration": 6,
    "start_time": "2022-06-13T20:05:34.780Z"
   },
   {
    "duration": 10,
    "start_time": "2022-06-13T20:08:30.452Z"
   },
   {
    "duration": 24,
    "start_time": "2022-06-13T20:12:27.660Z"
   },
   {
    "duration": 8,
    "start_time": "2022-06-13T20:12:40.252Z"
   },
   {
    "duration": 9,
    "start_time": "2022-06-13T20:12:46.851Z"
   },
   {
    "duration": 9,
    "start_time": "2022-06-13T20:12:55.131Z"
   },
   {
    "duration": 9,
    "start_time": "2022-06-13T20:13:07.411Z"
   },
   {
    "duration": 10,
    "start_time": "2022-06-13T20:13:30.171Z"
   },
   {
    "duration": 8,
    "start_time": "2022-06-13T20:13:55.172Z"
   },
   {
    "duration": 26,
    "start_time": "2022-06-13T20:14:14.211Z"
   },
   {
    "duration": 9,
    "start_time": "2022-06-13T20:14:20.812Z"
   },
   {
    "duration": 9,
    "start_time": "2022-06-13T20:14:48.851Z"
   },
   {
    "duration": 28,
    "start_time": "2022-06-13T20:15:33.643Z"
   },
   {
    "duration": 2,
    "start_time": "2022-06-13T20:15:37.411Z"
   },
   {
    "duration": 4,
    "start_time": "2022-06-13T20:15:43.363Z"
   },
   {
    "duration": 6,
    "start_time": "2022-06-13T20:16:44.572Z"
   },
   {
    "duration": 12,
    "start_time": "2022-06-13T20:17:04.411Z"
   },
   {
    "duration": 26,
    "start_time": "2022-06-13T20:22:49.534Z"
   },
   {
    "duration": 85,
    "start_time": "2022-06-13T20:22:55.372Z"
   },
   {
    "duration": 85,
    "start_time": "2022-06-13T20:23:08.051Z"
   },
   {
    "duration": 10,
    "start_time": "2022-06-13T20:24:02.372Z"
   },
   {
    "duration": 86,
    "start_time": "2022-06-13T20:24:16.372Z"
   },
   {
    "duration": 87,
    "start_time": "2022-06-13T20:24:25.692Z"
   },
   {
    "duration": 9,
    "start_time": "2022-06-13T20:24:35.812Z"
   },
   {
    "duration": 9,
    "start_time": "2022-06-13T20:24:45.173Z"
   },
   {
    "duration": 67,
    "start_time": "2022-06-13T20:25:47.411Z"
   },
   {
    "duration": 118,
    "start_time": "2022-06-13T20:27:25.771Z"
   },
   {
    "duration": 118,
    "start_time": "2022-06-13T20:27:34.052Z"
   },
   {
    "duration": 6,
    "start_time": "2022-06-13T20:32:18.614Z"
   },
   {
    "duration": 439,
    "start_time": "2022-06-13T20:32:31.134Z"
   },
   {
    "duration": 436,
    "start_time": "2022-06-13T20:32:55.612Z"
   },
   {
    "duration": 237,
    "start_time": "2022-06-13T20:33:31.292Z"
   },
   {
    "duration": 389,
    "start_time": "2022-06-13T20:34:23.532Z"
   },
   {
    "duration": 227,
    "start_time": "2022-06-13T20:35:33.412Z"
   },
   {
    "duration": 10,
    "start_time": "2022-06-13T20:39:43.563Z"
   },
   {
    "duration": 11,
    "start_time": "2022-06-13T20:39:50.691Z"
   },
   {
    "duration": 10,
    "start_time": "2022-06-13T20:39:55.853Z"
   },
   {
    "duration": 150,
    "start_time": "2022-06-13T20:50:48.092Z"
   },
   {
    "duration": 235,
    "start_time": "2022-06-13T20:51:21.412Z"
   },
   {
    "duration": 233,
    "start_time": "2022-06-13T20:52:09.851Z"
   },
   {
    "duration": 109,
    "start_time": "2022-06-13T20:53:25.131Z"
   },
   {
    "duration": 331,
    "start_time": "2022-06-13T20:53:32.124Z"
   },
   {
    "duration": 92,
    "start_time": "2022-06-13T20:53:41.571Z"
   },
   {
    "duration": 89,
    "start_time": "2022-06-13T20:54:19.763Z"
   },
   {
    "duration": 81,
    "start_time": "2022-06-13T20:54:40.899Z"
   },
   {
    "duration": 127,
    "start_time": "2022-06-13T20:55:10.771Z"
   },
   {
    "duration": 118,
    "start_time": "2022-06-13T20:55:20.334Z"
   },
   {
    "duration": 107,
    "start_time": "2022-06-13T20:55:28.027Z"
   },
   {
    "duration": 63,
    "start_time": "2022-06-14T04:11:38.965Z"
   },
   {
    "duration": 6,
    "start_time": "2022-06-14T04:14:04.164Z"
   },
   {
    "duration": 1257,
    "start_time": "2022-06-14T04:14:12.204Z"
   },
   {
    "duration": 434,
    "start_time": "2022-06-14T04:14:13.463Z"
   },
   {
    "duration": 4,
    "start_time": "2022-06-14T04:14:13.898Z"
   },
   {
    "duration": 43,
    "start_time": "2022-06-14T04:14:13.904Z"
   },
   {
    "duration": 5,
    "start_time": "2022-06-14T04:14:13.949Z"
   },
   {
    "duration": 22,
    "start_time": "2022-06-14T04:14:13.956Z"
   },
   {
    "duration": 10,
    "start_time": "2022-06-14T04:14:13.980Z"
   },
   {
    "duration": 105,
    "start_time": "2022-06-14T04:14:13.992Z"
   },
   {
    "duration": 30,
    "start_time": "2022-06-14T04:14:14.099Z"
   },
   {
    "duration": 228,
    "start_time": "2022-06-14T04:14:14.132Z"
   },
   {
    "duration": 50,
    "start_time": "2022-06-14T04:14:14.364Z"
   },
   {
    "duration": 52,
    "start_time": "2022-06-14T04:14:14.416Z"
   },
   {
    "duration": 154,
    "start_time": "2022-06-14T04:14:14.470Z"
   },
   {
    "duration": 40,
    "start_time": "2022-06-14T04:14:14.626Z"
   },
   {
    "duration": 170,
    "start_time": "2022-06-14T04:14:14.668Z"
   },
   {
    "duration": 123,
    "start_time": "2022-06-14T04:14:14.840Z"
   },
   {
    "duration": 7,
    "start_time": "2022-06-14T04:14:14.965Z"
   },
   {
    "duration": 38,
    "start_time": "2022-06-14T04:14:14.974Z"
   },
   {
    "duration": 276,
    "start_time": "2022-06-14T04:14:15.014Z"
   },
   {
    "duration": 122,
    "start_time": "2022-06-14T04:14:15.292Z"
   },
   {
    "duration": 11,
    "start_time": "2022-06-14T04:14:15.416Z"
   },
   {
    "duration": 6,
    "start_time": "2022-06-14T04:14:15.428Z"
   },
   {
    "duration": 28,
    "start_time": "2022-06-14T04:14:15.436Z"
   },
   {
    "duration": 5,
    "start_time": "2022-06-14T04:14:15.466Z"
   },
   {
    "duration": 8,
    "start_time": "2022-06-14T04:14:15.472Z"
   },
   {
    "duration": 13,
    "start_time": "2022-06-14T04:15:14.604Z"
   },
   {
    "duration": 61,
    "start_time": "2022-06-14T04:18:50.972Z"
   },
   {
    "duration": 10,
    "start_time": "2022-06-14T04:18:59.173Z"
   },
   {
    "duration": 8,
    "start_time": "2022-06-14T04:20:44.493Z"
   },
   {
    "duration": 11,
    "start_time": "2022-06-14T04:21:45.934Z"
   },
   {
    "duration": 12,
    "start_time": "2022-06-14T04:22:26.093Z"
   },
   {
    "duration": 10,
    "start_time": "2022-06-14T04:22:37.782Z"
   },
   {
    "duration": 11,
    "start_time": "2022-06-14T04:22:46.582Z"
   },
   {
    "duration": 9,
    "start_time": "2022-06-14T04:23:56.981Z"
   },
   {
    "duration": 20,
    "start_time": "2022-06-14T04:24:19.062Z"
   },
   {
    "duration": 149,
    "start_time": "2022-06-14T04:28:51.390Z"
   },
   {
    "duration": 283,
    "start_time": "2022-06-14T04:29:01.105Z"
   },
   {
    "duration": 114,
    "start_time": "2022-06-14T04:29:27.902Z"
   },
   {
    "duration": 11,
    "start_time": "2022-06-14T04:31:38.503Z"
   },
   {
    "duration": 8,
    "start_time": "2022-06-14T04:36:12.343Z"
   },
   {
    "duration": 8,
    "start_time": "2022-06-14T04:36:39.190Z"
   },
   {
    "duration": 3,
    "start_time": "2022-06-14T05:31:19.460Z"
   },
   {
    "duration": 228,
    "start_time": "2022-06-14T05:31:19.464Z"
   },
   {
    "duration": 3,
    "start_time": "2022-06-14T05:31:19.695Z"
   },
   {
    "duration": 45,
    "start_time": "2022-06-14T05:31:19.700Z"
   },
   {
    "duration": 6,
    "start_time": "2022-06-14T05:31:19.747Z"
   },
   {
    "duration": 33,
    "start_time": "2022-06-14T05:31:19.756Z"
   },
   {
    "duration": 19,
    "start_time": "2022-06-14T05:31:19.791Z"
   },
   {
    "duration": 78,
    "start_time": "2022-06-14T05:31:19.812Z"
   },
   {
    "duration": 34,
    "start_time": "2022-06-14T05:31:19.892Z"
   },
   {
    "duration": 247,
    "start_time": "2022-06-14T05:31:19.928Z"
   },
   {
    "duration": 57,
    "start_time": "2022-06-14T05:31:20.177Z"
   },
   {
    "duration": 54,
    "start_time": "2022-06-14T05:31:20.235Z"
   },
   {
    "duration": 170,
    "start_time": "2022-06-14T05:31:20.291Z"
   },
   {
    "duration": 31,
    "start_time": "2022-06-14T05:31:20.470Z"
   },
   {
    "duration": 205,
    "start_time": "2022-06-14T05:31:20.503Z"
   },
   {
    "duration": 136,
    "start_time": "2022-06-14T05:31:20.710Z"
   },
   {
    "duration": 17,
    "start_time": "2022-06-14T05:31:20.848Z"
   },
   {
    "duration": 31,
    "start_time": "2022-06-14T05:31:20.879Z"
   },
   {
    "duration": 289,
    "start_time": "2022-06-14T05:31:20.912Z"
   },
   {
    "duration": 132,
    "start_time": "2022-06-14T05:31:21.202Z"
   },
   {
    "duration": 11,
    "start_time": "2022-06-14T05:31:21.336Z"
   },
   {
    "duration": 28,
    "start_time": "2022-06-14T05:31:21.348Z"
   },
   {
    "duration": 9,
    "start_time": "2022-06-14T05:31:21.378Z"
   },
   {
    "duration": 2,
    "start_time": "2022-06-14T05:31:21.389Z"
   },
   {
    "duration": 5,
    "start_time": "2022-06-14T05:31:21.393Z"
   },
   {
    "duration": 6,
    "start_time": "2022-06-14T05:31:21.400Z"
   },
   {
    "duration": 2662,
    "start_time": "2022-06-14T10:38:20.206Z"
   },
   {
    "duration": 1321,
    "start_time": "2022-06-14T10:38:22.871Z"
   },
   {
    "duration": 3,
    "start_time": "2022-06-14T10:39:03.806Z"
   },
   {
    "duration": 68,
    "start_time": "2022-06-14T10:39:05.159Z"
   },
   {
    "duration": 7,
    "start_time": "2022-06-14T10:39:10.086Z"
   },
   {
    "duration": 70,
    "start_time": "2022-06-14T10:39:10.590Z"
   },
   {
    "duration": 23,
    "start_time": "2022-06-14T10:39:17.859Z"
   },
   {
    "duration": 97,
    "start_time": "2022-06-14T10:39:32.857Z"
   },
   {
    "duration": 42,
    "start_time": "2022-06-14T10:39:33.699Z"
   },
   {
    "duration": 1182,
    "start_time": "2022-06-14T10:39:34.346Z"
   },
   {
    "duration": 88,
    "start_time": "2022-06-14T10:40:21.735Z"
   },
   {
    "duration": 37,
    "start_time": "2022-06-14T10:40:22.447Z"
   },
   {
    "duration": 182,
    "start_time": "2022-06-14T10:40:23.068Z"
   },
   {
    "duration": 32,
    "start_time": "2022-06-14T10:40:25.587Z"
   },
   {
    "duration": 210,
    "start_time": "2022-06-14T10:40:25.823Z"
   },
   {
    "duration": 181,
    "start_time": "2022-06-14T10:40:26.157Z"
   },
   {
    "duration": 11,
    "start_time": "2022-06-14T10:40:26.564Z"
   },
   {
    "duration": 33,
    "start_time": "2022-06-14T10:40:28.416Z"
   },
   {
    "duration": 325,
    "start_time": "2022-06-14T10:40:28.950Z"
   },
   {
    "duration": 189,
    "start_time": "2022-06-14T10:40:33.520Z"
   },
   {
    "duration": 11,
    "start_time": "2022-06-14T10:40:38.400Z"
   },
   {
    "duration": 13,
    "start_time": "2022-06-14T10:40:39.298Z"
   },
   {
    "duration": 9,
    "start_time": "2022-06-14T10:40:39.728Z"
   },
   {
    "duration": 58,
    "start_time": "2022-06-16T15:11:51.443Z"
   },
   {
    "duration": 9,
    "start_time": "2022-06-16T15:12:45.090Z"
   },
   {
    "duration": 1434,
    "start_time": "2022-06-16T15:12:47.884Z"
   },
   {
    "duration": 482,
    "start_time": "2022-06-16T15:12:49.321Z"
   },
   {
    "duration": 3,
    "start_time": "2022-06-16T15:12:49.805Z"
   },
   {
    "duration": 40,
    "start_time": "2022-06-16T15:12:49.810Z"
   },
   {
    "duration": 5,
    "start_time": "2022-06-16T15:12:49.852Z"
   },
   {
    "duration": 24,
    "start_time": "2022-06-16T15:12:49.859Z"
   },
   {
    "duration": 12,
    "start_time": "2022-06-16T15:12:49.885Z"
   },
   {
    "duration": 117,
    "start_time": "2022-06-16T15:12:49.899Z"
   },
   {
    "duration": 68,
    "start_time": "2022-06-16T15:12:50.018Z"
   },
   {
    "duration": 248,
    "start_time": "2022-06-16T15:12:50.087Z"
   },
   {
    "duration": 66,
    "start_time": "2022-06-16T15:12:50.337Z"
   },
   {
    "duration": 31,
    "start_time": "2022-06-16T15:12:50.405Z"
   },
   {
    "duration": 198,
    "start_time": "2022-06-16T15:12:50.438Z"
   },
   {
    "duration": 47,
    "start_time": "2022-06-16T15:12:50.639Z"
   },
   {
    "duration": 194,
    "start_time": "2022-06-16T15:12:50.687Z"
   },
   {
    "duration": 134,
    "start_time": "2022-06-16T15:12:50.883Z"
   },
   {
    "duration": 9,
    "start_time": "2022-06-16T15:12:51.019Z"
   },
   {
    "duration": 60,
    "start_time": "2022-06-16T15:12:51.029Z"
   },
   {
    "duration": 296,
    "start_time": "2022-06-16T15:12:51.091Z"
   },
   {
    "duration": 140,
    "start_time": "2022-06-16T15:12:51.389Z"
   },
   {
    "duration": 13,
    "start_time": "2022-06-16T15:12:51.532Z"
   },
   {
    "duration": 32,
    "start_time": "2022-06-16T15:12:51.547Z"
   },
   {
    "duration": 17,
    "start_time": "2022-06-16T15:12:51.580Z"
   },
   {
    "duration": 13,
    "start_time": "2022-06-16T15:12:51.600Z"
   },
   {
    "duration": 3,
    "start_time": "2022-06-16T15:12:51.615Z"
   },
   {
    "duration": 9,
    "start_time": "2022-06-16T15:12:51.620Z"
   },
   {
    "duration": 16,
    "start_time": "2022-06-16T15:12:51.631Z"
   },
   {
    "duration": 78,
    "start_time": "2022-06-16T15:13:30.357Z"
   },
   {
    "duration": 3,
    "start_time": "2022-06-16T15:13:53.476Z"
   },
   {
    "duration": 211,
    "start_time": "2022-06-16T15:13:53.484Z"
   },
   {
    "duration": 3,
    "start_time": "2022-06-16T15:13:53.697Z"
   },
   {
    "duration": 36,
    "start_time": "2022-06-16T15:13:53.702Z"
   },
   {
    "duration": 5,
    "start_time": "2022-06-16T15:13:53.740Z"
   },
   {
    "duration": 22,
    "start_time": "2022-06-16T15:13:53.747Z"
   },
   {
    "duration": 12,
    "start_time": "2022-06-16T15:13:53.770Z"
   },
   {
    "duration": 84,
    "start_time": "2022-06-16T15:13:53.784Z"
   },
   {
    "duration": 35,
    "start_time": "2022-06-16T15:13:53.872Z"
   },
   {
    "duration": 237,
    "start_time": "2022-06-16T15:13:53.909Z"
   },
   {
    "duration": 147,
    "start_time": "2022-06-16T15:13:54.148Z"
   },
   {
    "duration": 28,
    "start_time": "2022-06-16T15:13:54.297Z"
   },
   {
    "duration": 169,
    "start_time": "2022-06-16T15:13:54.327Z"
   },
   {
    "duration": 26,
    "start_time": "2022-06-16T15:13:54.497Z"
   },
   {
    "duration": 188,
    "start_time": "2022-06-16T15:13:54.524Z"
   },
   {
    "duration": 123,
    "start_time": "2022-06-16T15:13:54.714Z"
   },
   {
    "duration": 7,
    "start_time": "2022-06-16T15:13:54.838Z"
   },
   {
    "duration": 52,
    "start_time": "2022-06-16T15:13:54.847Z"
   },
   {
    "duration": 260,
    "start_time": "2022-06-16T15:13:54.901Z"
   },
   {
    "duration": 124,
    "start_time": "2022-06-16T15:13:55.169Z"
   },
   {
    "duration": 20,
    "start_time": "2022-06-16T15:13:55.294Z"
   },
   {
    "duration": 38,
    "start_time": "2022-06-16T15:13:55.315Z"
   },
   {
    "duration": 29,
    "start_time": "2022-06-16T15:13:55.355Z"
   },
   {
    "duration": 24,
    "start_time": "2022-06-16T15:13:55.387Z"
   },
   {
    "duration": 34,
    "start_time": "2022-06-16T15:13:55.412Z"
   },
   {
    "duration": 16,
    "start_time": "2022-06-16T15:13:55.448Z"
   },
   {
    "duration": 41,
    "start_time": "2022-06-16T15:13:55.466Z"
   },
   {
    "duration": 6,
    "start_time": "2022-06-16T15:14:20.722Z"
   },
   {
    "duration": 28,
    "start_time": "2022-06-16T15:14:48.857Z"
   },
   {
    "duration": 4,
    "start_time": "2022-06-16T15:14:53.657Z"
   },
   {
    "duration": 2788,
    "start_time": "2022-06-20T22:50:57.455Z"
   },
   {
    "duration": 213,
    "start_time": "2022-06-20T22:51:02.721Z"
   },
   {
    "duration": 3,
    "start_time": "2022-06-20T22:51:03.763Z"
   },
   {
    "duration": 3,
    "start_time": "2022-06-20T22:51:04.429Z"
   },
   {
    "duration": 40,
    "start_time": "2022-06-20T22:51:05.751Z"
   },
   {
    "duration": 5,
    "start_time": "2022-06-20T22:51:06.307Z"
   },
   {
    "duration": 12,
    "start_time": "2022-06-20T22:51:06.509Z"
   },
   {
    "duration": 10,
    "start_time": "2022-06-20T22:51:06.869Z"
   },
   {
    "duration": 70,
    "start_time": "2022-06-20T22:51:07.742Z"
   },
   {
    "duration": 40,
    "start_time": "2022-06-20T22:51:07.872Z"
   },
   {
    "duration": 212,
    "start_time": "2022-06-20T22:51:08.001Z"
   },
   {
    "duration": 63,
    "start_time": "2022-06-20T22:51:08.872Z"
   },
   {
    "duration": 33,
    "start_time": "2022-06-20T22:51:09.052Z"
   },
   {
    "duration": 185,
    "start_time": "2022-06-20T22:51:09.232Z"
   },
   {
    "duration": 26,
    "start_time": "2022-06-20T22:51:09.771Z"
   },
   {
    "duration": 177,
    "start_time": "2022-06-20T22:51:09.958Z"
   },
   {
    "duration": 206,
    "start_time": "2022-06-20T22:51:10.137Z"
   },
   {
    "duration": 8,
    "start_time": "2022-06-20T22:51:10.345Z"
   },
   {
    "duration": 28,
    "start_time": "2022-06-20T22:51:10.837Z"
   },
   {
    "duration": 245,
    "start_time": "2022-06-20T22:51:11.049Z"
   },
   {
    "duration": 129,
    "start_time": "2022-06-20T22:51:11.296Z"
   },
   {
    "duration": 12,
    "start_time": "2022-06-20T22:51:11.502Z"
   },
   {
    "duration": 13,
    "start_time": "2022-06-20T22:51:11.898Z"
   },
   {
    "duration": 11,
    "start_time": "2022-06-20T22:51:12.542Z"
   },
   {
    "duration": 8,
    "start_time": "2022-06-20T22:51:59.853Z"
   },
   {
    "duration": 14,
    "start_time": "2022-06-20T22:52:00.857Z"
   },
   {
    "duration": 16,
    "start_time": "2022-06-20T22:53:03.646Z"
   },
   {
    "duration": 5,
    "start_time": "2022-06-20T22:53:04.557Z"
   },
   {
    "duration": 7,
    "start_time": "2022-06-20T22:53:05.195Z"
   },
   {
    "duration": 13,
    "start_time": "2022-06-20T22:53:05.808Z"
   },
   {
    "duration": 12,
    "start_time": "2022-06-20T22:53:06.263Z"
   },
   {
    "duration": 5,
    "start_time": "2022-06-20T22:53:11.732Z"
   },
   {
    "duration": 16,
    "start_time": "2022-06-20T22:53:29.503Z"
   },
   {
    "duration": 18,
    "start_time": "2022-06-20T22:53:30.061Z"
   },
   {
    "duration": 6,
    "start_time": "2022-06-20T22:53:30.270Z"
   },
   {
    "duration": 17,
    "start_time": "2022-06-20T22:53:30.947Z"
   },
   {
    "duration": 4,
    "start_time": "2022-06-20T22:53:34.980Z"
   },
   {
    "duration": 5,
    "start_time": "2022-06-20T22:53:41.050Z"
   },
   {
    "duration": 5,
    "start_time": "2022-06-20T22:53:59.836Z"
   },
   {
    "duration": 21,
    "start_time": "2022-06-20T22:53:59.843Z"
   },
   {
    "duration": 5,
    "start_time": "2022-06-20T22:53:59.865Z"
   },
   {
    "duration": 208,
    "start_time": "2022-06-20T22:54:03.844Z"
   },
   {
    "duration": 193,
    "start_time": "2022-06-20T22:54:11.983Z"
   },
   {
    "duration": 80748,
    "start_time": "2022-06-20T22:54:42.016Z"
   },
   {
    "duration": 236,
    "start_time": "2022-06-20T22:56:02.767Z"
   },
   {
    "duration": 950730,
    "start_time": "2022-06-20T22:56:19.547Z"
   },
   {
    "duration": 168,
    "start_time": "2022-06-20T23:12:10.279Z"
   },
   {
    "duration": 837806,
    "start_time": "2022-06-20T23:12:49.723Z"
   },
   {
    "duration": 434,
    "start_time": "2022-06-20T23:26:47.531Z"
   }
  ],
  "kernelspec": {
   "display_name": "Python 3",
   "language": "python",
   "name": "python3"
  },
  "language_info": {
   "codemirror_mode": {
    "name": "ipython",
    "version": 3
   },
   "file_extension": ".py",
   "mimetype": "text/x-python",
   "name": "python",
   "nbconvert_exporter": "python",
   "pygments_lexer": "ipython3",
   "version": "3.8.8"
  },
  "toc": {
   "base_numbering": 1,
   "nav_menu": {},
   "number_sections": true,
   "sideBar": true,
   "skip_h1_title": true,
   "title_cell": "Table of Contents",
   "title_sidebar": "Contents",
   "toc_cell": false,
   "toc_position": {},
   "toc_section_display": true,
   "toc_window_display": true
  }
 },
 "nbformat": 4,
 "nbformat_minor": 2
}
