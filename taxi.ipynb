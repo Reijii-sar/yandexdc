{
 "cells": [
  {
   "cell_type": "markdown",
   "metadata": {},
   "source": [
    "#  Прогнозирование заказов такси"
   ]
  },
  {
   "cell_type": "markdown",
   "metadata": {},
   "source": [
    "Компания «Чётенькое такси» собрала исторические данные о заказах такси в аэропортах. Чтобы привлекать больше водителей в период пиковой нагрузки, нужно спрогнозировать количество заказов такси на следующий час. Постройте модель для такого предсказания.\n",
    "\n",
    "Значение метрики *RMSE* на тестовой выборке должно быть не больше 48.\n",
    "\n",
    "Вам нужно:\n",
    "\n",
    "1. Загрузить данные и выполнить их ресемплирование по одному часу.\n",
    "2. Проанализировать данные.\n",
    "3. Обучить разные модели с различными гиперпараметрами. Сделать тестовую выборку размером 10% от исходных данных.\n",
    "4. Проверить данные на тестовой выборке и сделать выводы.\n",
    "\n",
    "\n",
    "Данные лежат в файле `taxi.csv`. Количество заказов находится в столбце `num_orders` (от англ. *number of orders*, «число заказов»)."
   ]
  },
  {
   "cell_type": "markdown",
   "metadata": {},
   "source": [
    "## Подготовка"
   ]
  },
  {
   "cell_type": "code",
   "execution_count": 306,
   "metadata": {},
   "outputs": [],
   "source": [
    "import pandas as pd\n",
    "from statsmodels.tsa.seasonal import seasonal_decompose\n",
    "import matplotlib.pyplot as plt \n",
    "from sklearn.model_selection import train_test_split\n",
    "from sklearn.metrics import mean_squared_error\n",
    "from sklearn.model_selection import train_test_split, GridSearchCV, TimeSeriesSplit\n",
    "from lightgbm import LGBMRegressor\n",
    "from catboost import CatBoostRegressor\n",
    "from sklearn.linear_model import Lasso\n",
    "import warnings\n",
    "warnings.filterwarnings(\"ignore\")\n",
    "import seaborn as sns"
   ]
  },
  {
   "cell_type": "code",
   "execution_count": 307,
   "metadata": {},
   "outputs": [],
   "source": [
    "#считываем датасет, переводим object в datetime и меняем индексы\n",
    "data = pd.read_csv('/datasets/taxi.csv', index_col = [0], parse_dates = [0])"
   ]
  },
  {
   "cell_type": "code",
   "execution_count": 308,
   "metadata": {},
   "outputs": [
    {
     "data": {
      "text/plain": [
       "True"
      ]
     },
     "execution_count": 308,
     "metadata": {},
     "output_type": "execute_result"
    }
   ],
   "source": [
    "#проверяем хронологический порядок\n",
    "data.index.is_monotonic"
   ]
  },
  {
   "cell_type": "code",
   "execution_count": 309,
   "metadata": {},
   "outputs": [
    {
     "name": "stdout",
     "output_type": "stream",
     "text": [
      "<class 'pandas.core.frame.DataFrame'>\n",
      "DatetimeIndex: 26496 entries, 2018-03-01 00:00:00 to 2018-08-31 23:50:00\n",
      "Data columns (total 1 columns):\n",
      " #   Column      Non-Null Count  Dtype\n",
      "---  ------      --------------  -----\n",
      " 0   num_orders  26496 non-null  int64\n",
      "dtypes: int64(1)\n",
      "memory usage: 414.0 KB\n"
     ]
    }
   ],
   "source": [
    "data.info()"
   ]
  },
  {
   "cell_type": "code",
   "execution_count": 310,
   "metadata": {},
   "outputs": [
    {
     "data": {
      "text/html": [
       "<div>\n",
       "<style scoped>\n",
       "    .dataframe tbody tr th:only-of-type {\n",
       "        vertical-align: middle;\n",
       "    }\n",
       "\n",
       "    .dataframe tbody tr th {\n",
       "        vertical-align: top;\n",
       "    }\n",
       "\n",
       "    .dataframe thead th {\n",
       "        text-align: right;\n",
       "    }\n",
       "</style>\n",
       "<table border=\"1\" class=\"dataframe\">\n",
       "  <thead>\n",
       "    <tr style=\"text-align: right;\">\n",
       "      <th></th>\n",
       "      <th>num_orders</th>\n",
       "    </tr>\n",
       "    <tr>\n",
       "      <th>datetime</th>\n",
       "      <th></th>\n",
       "    </tr>\n",
       "  </thead>\n",
       "  <tbody>\n",
       "    <tr>\n",
       "      <th>2018-03-01 00:00:00</th>\n",
       "      <td>9</td>\n",
       "    </tr>\n",
       "    <tr>\n",
       "      <th>2018-03-01 00:10:00</th>\n",
       "      <td>14</td>\n",
       "    </tr>\n",
       "    <tr>\n",
       "      <th>2018-03-01 00:20:00</th>\n",
       "      <td>28</td>\n",
       "    </tr>\n",
       "    <tr>\n",
       "      <th>2018-03-01 00:30:00</th>\n",
       "      <td>20</td>\n",
       "    </tr>\n",
       "    <tr>\n",
       "      <th>2018-03-01 00:40:00</th>\n",
       "      <td>32</td>\n",
       "    </tr>\n",
       "    <tr>\n",
       "      <th>2018-03-01 00:50:00</th>\n",
       "      <td>21</td>\n",
       "    </tr>\n",
       "  </tbody>\n",
       "</table>\n",
       "</div>"
      ],
      "text/plain": [
       "                     num_orders\n",
       "datetime                       \n",
       "2018-03-01 00:00:00           9\n",
       "2018-03-01 00:10:00          14\n",
       "2018-03-01 00:20:00          28\n",
       "2018-03-01 00:30:00          20\n",
       "2018-03-01 00:40:00          32\n",
       "2018-03-01 00:50:00          21"
      ]
     },
     "execution_count": 310,
     "metadata": {},
     "output_type": "execute_result"
    }
   ],
   "source": [
    "data.head(6)"
   ]
  },
  {
   "cell_type": "code",
   "execution_count": 311,
   "metadata": {},
   "outputs": [
    {
     "data": {
      "text/html": [
       "<div>\n",
       "<style scoped>\n",
       "    .dataframe tbody tr th:only-of-type {\n",
       "        vertical-align: middle;\n",
       "    }\n",
       "\n",
       "    .dataframe tbody tr th {\n",
       "        vertical-align: top;\n",
       "    }\n",
       "\n",
       "    .dataframe thead th {\n",
       "        text-align: right;\n",
       "    }\n",
       "</style>\n",
       "<table border=\"1\" class=\"dataframe\">\n",
       "  <thead>\n",
       "    <tr style=\"text-align: right;\">\n",
       "      <th></th>\n",
       "      <th>num_orders</th>\n",
       "    </tr>\n",
       "    <tr>\n",
       "      <th>datetime</th>\n",
       "      <th></th>\n",
       "    </tr>\n",
       "  </thead>\n",
       "  <tbody>\n",
       "    <tr>\n",
       "      <th>2018-03-01 00:00:00</th>\n",
       "      <td>124</td>\n",
       "    </tr>\n",
       "    <tr>\n",
       "      <th>2018-03-01 01:00:00</th>\n",
       "      <td>85</td>\n",
       "    </tr>\n",
       "    <tr>\n",
       "      <th>2018-03-01 02:00:00</th>\n",
       "      <td>71</td>\n",
       "    </tr>\n",
       "    <tr>\n",
       "      <th>2018-03-01 03:00:00</th>\n",
       "      <td>66</td>\n",
       "    </tr>\n",
       "    <tr>\n",
       "      <th>2018-03-01 04:00:00</th>\n",
       "      <td>43</td>\n",
       "    </tr>\n",
       "  </tbody>\n",
       "</table>\n",
       "</div>"
      ],
      "text/plain": [
       "                     num_orders\n",
       "datetime                       \n",
       "2018-03-01 00:00:00         124\n",
       "2018-03-01 01:00:00          85\n",
       "2018-03-01 02:00:00          71\n",
       "2018-03-01 03:00:00          66\n",
       "2018-03-01 04:00:00          43"
      ]
     },
     "execution_count": 311,
     "metadata": {},
     "output_type": "execute_result"
    }
   ],
   "source": [
    "#делаем ресемплирование по 1 часу, агрегируем с помощью суммы\n",
    "df = data.copy()\n",
    "df = df.resample('1H').sum()\n",
    "df.head()"
   ]
  },
  {
   "cell_type": "markdown",
   "metadata": {},
   "source": [
    "**- Данные загружены корректно.**  \n",
    "**- Пропусков нет.**  \n",
    "**- Данные разложены в хронологическом порядке.**  \n",
    "**- Произведено ресемплирование по 1 часу, агрегирование по сумме.**"
   ]
  },
  {
   "cell_type": "markdown",
   "metadata": {},
   "source": [
    "## Анализ"
   ]
  },
  {
   "cell_type": "code",
   "execution_count": 312,
   "metadata": {},
   "outputs": [],
   "source": [
    "df['rolling_mean'] = df['num_orders'].shift().rolling(24).mean()\n",
    "df['std'] = df['num_orders'].rolling(24).std()"
   ]
  },
  {
   "cell_type": "code",
   "execution_count": 313,
   "metadata": {},
   "outputs": [
    {
     "data": {
      "text/plain": [
       "<AxesSubplot:xlabel='datetime'>"
      ]
     },
     "execution_count": 313,
     "metadata": {},
     "output_type": "execute_result"
    },
    {
     "data": {
      "image/png": "[encoded data removed]",
      "text/plain": [
       "<Figure size 720x360 with 1 Axes>"
      ]
     },
     "metadata": {
      "needs_background": "light"
     },
     "output_type": "display_data"
    }
   ],
   "source": [
    "df[['num_orders', 'rolling_mean', 'std']].plot(figsize=(10,5))"
   ]
  },
  {
   "cell_type": "markdown",
   "metadata": {},
   "source": [
    "**- Среднее значение и стандартное отклонение увеличиваются со временем**  \n",
    "**- Временной ряд нестационарный**  \n",
    "**- На графике видно, что количество заказов растет от месяца к месяцу**"
   ]
  },
  {
   "cell_type": "code",
   "execution_count": 314,
   "metadata": {},
   "outputs": [],
   "source": [
    "#удалим добавленные колонки. Они не нужны нам в дальнейшем ни для анализа, ни для потсроения модели\n",
    "df=df.drop(['rolling_mean', 'std'], axis=1)"
   ]
  },
  {
   "cell_type": "code",
   "execution_count": 315,
   "metadata": {},
   "outputs": [
    {
     "data": {
      "text/plain": [
       "<AxesSubplot:title={'center':'Trend'}, xlabel='datetime'>"
      ]
     },
     "execution_count": 315,
     "metadata": {},
     "output_type": "execute_result"
    },
    {
     "data": {
      "image/png": "[encoded data removed]",
      "text/plain": [
       "<Figure size 720x360 with 1 Axes>"
      ]
     },
     "metadata": {
      "needs_background": "light"
     },
     "output_type": "display_data"
    }
   ],
   "source": [
    "decomposed_df = seasonal_decompose(df)\n",
    "decomposed_df.trend.plot(title='Trend', figsize=(10,5))"
   ]
  },
  {
   "cell_type": "code",
   "execution_count": 316,
   "metadata": {},
   "outputs": [
    {
     "data": {
      "text/plain": [
       "<AxesSubplot:title={'center':'Seasonal'}, xlabel='datetime'>"
      ]
     },
     "execution_count": 316,
     "metadata": {},
     "output_type": "execute_result"
    },
    {
     "data": {
      "image/png": "[encoded data removed]",
      "text/plain": [
       "<Figure size 720x360 with 1 Axes>"
      ]
     },
     "metadata": {
      "needs_background": "light"
     },
     "output_type": "display_data"
    }
   ],
   "source": [
    "#построим график сезонности с группировкой по 12 часов за первые 2 недели\n",
    "decomposed_df.seasonal.head(12*28).plot(title='Seasonal', figsize=(10,5), ax=plt.gca())"
   ]
  },
  {
   "cell_type": "markdown",
   "metadata": {},
   "source": [
    "**на графиках видно, что:**  \n",
    "**- имется восходящий тренд**  \n",
    "**- есть \"сезонность\" в рамках 1-го дня**"
   ]
  },
  {
   "cell_type": "code",
   "execution_count": 317,
   "metadata": {},
   "outputs": [
    {
     "name": "stdout",
     "output_type": "stream",
     "text": [
      "            num_orders\n",
      "datetime              \n",
      "2018-08-28       11209\n"
     ]
    }
   ],
   "source": [
    "#ищем 3 дня, когда количество поездок было максимальным\n",
    "day = df.resample('3D').sum()\n",
    "print(day[day.num_orders == day.num_orders.max()])"
   ]
  },
  {
   "cell_type": "code",
   "execution_count": 318,
   "metadata": {},
   "outputs": [
    {
     "data": {
      "image/png": "[encoded data removed]",
      "text/plain": [
       "<Figure size 720x360 with 1 Axes>"
      ]
     },
     "metadata": {
      "needs_background": "light"
     },
     "output_type": "display_data"
    }
   ],
   "source": [
    "plt.figure(figsize=(10, 5))\n",
    "decomposed_df.seasonal['2018-08-28':'2018-08-30'].plot(ax=plt.gca())\n",
    "plt.title('Seasonal в течении дня')\n",
    "plt.tight_layout()"
   ]
  },
  {
   "cell_type": "markdown",
   "metadata": {},
   "source": [
    "**Есть провалы в 6 утра и пиковые нагрузки в районе 10, 16 часов и в полночь**  \n",
    "**Есть множество причин такой зависимости, например:**  \n",
    "**- расписание работы общественного транспорта**  \n",
    "**- расписание рейсов, так как мы рассматриваем такси до аэропорта**  \n",
    "**Проверить на корректность эти пики у нас нет возможности, поэтому принимаем их за норму.**"
   ]
  },
  {
   "cell_type": "markdown",
   "metadata": {},
   "source": [
    "## Обучение"
   ]
  },
  {
   "cell_type": "code",
   "execution_count": 319,
   "metadata": {},
   "outputs": [
    {
     "data": {
      "text/html": [
       "<div>\n",
       "<style scoped>\n",
       "    .dataframe tbody tr th:only-of-type {\n",
       "        vertical-align: middle;\n",
       "    }\n",
       "\n",
       "    .dataframe tbody tr th {\n",
       "        vertical-align: top;\n",
       "    }\n",
       "\n",
       "    .dataframe thead th {\n",
       "        text-align: right;\n",
       "    }\n",
       "</style>\n",
       "<table border=\"1\" class=\"dataframe\">\n",
       "  <thead>\n",
       "    <tr style=\"text-align: right;\">\n",
       "      <th></th>\n",
       "      <th>num_orders</th>\n",
       "      <th>month</th>\n",
       "      <th>day</th>\n",
       "      <th>dayofweek</th>\n",
       "      <th>hour</th>\n",
       "      <th>lag_1</th>\n",
       "      <th>lag_2</th>\n",
       "      <th>lag_3</th>\n",
       "      <th>lag_4</th>\n",
       "      <th>lag_5</th>\n",
       "      <th>...</th>\n",
       "      <th>lag_16</th>\n",
       "      <th>lag_17</th>\n",
       "      <th>lag_18</th>\n",
       "      <th>lag_19</th>\n",
       "      <th>lag_20</th>\n",
       "      <th>lag_21</th>\n",
       "      <th>lag_22</th>\n",
       "      <th>lag_23</th>\n",
       "      <th>lag_24</th>\n",
       "      <th>rolling_mean</th>\n",
       "    </tr>\n",
       "    <tr>\n",
       "      <th>datetime</th>\n",
       "      <th></th>\n",
       "      <th></th>\n",
       "      <th></th>\n",
       "      <th></th>\n",
       "      <th></th>\n",
       "      <th></th>\n",
       "      <th></th>\n",
       "      <th></th>\n",
       "      <th></th>\n",
       "      <th></th>\n",
       "      <th></th>\n",
       "      <th></th>\n",
       "      <th></th>\n",
       "      <th></th>\n",
       "      <th></th>\n",
       "      <th></th>\n",
       "      <th></th>\n",
       "      <th></th>\n",
       "      <th></th>\n",
       "      <th></th>\n",
       "      <th></th>\n",
       "    </tr>\n",
       "  </thead>\n",
       "  <tbody>\n",
       "    <tr>\n",
       "      <th>2018-03-02 00:00:00</th>\n",
       "      <td>90</td>\n",
       "      <td>3</td>\n",
       "      <td>2</td>\n",
       "      <td>4</td>\n",
       "      <td>0</td>\n",
       "      <td>58.0</td>\n",
       "      <td>113.0</td>\n",
       "      <td>66.0</td>\n",
       "      <td>61.0</td>\n",
       "      <td>45.0</td>\n",
       "      <td>...</td>\n",
       "      <td>34.0</td>\n",
       "      <td>15.0</td>\n",
       "      <td>12.0</td>\n",
       "      <td>6.0</td>\n",
       "      <td>43.0</td>\n",
       "      <td>66.0</td>\n",
       "      <td>71.0</td>\n",
       "      <td>85.0</td>\n",
       "      <td>124.0</td>\n",
       "      <td>69.333333</td>\n",
       "    </tr>\n",
       "    <tr>\n",
       "      <th>2018-03-02 01:00:00</th>\n",
       "      <td>120</td>\n",
       "      <td>3</td>\n",
       "      <td>2</td>\n",
       "      <td>4</td>\n",
       "      <td>1</td>\n",
       "      <td>90.0</td>\n",
       "      <td>58.0</td>\n",
       "      <td>113.0</td>\n",
       "      <td>66.0</td>\n",
       "      <td>61.0</td>\n",
       "      <td>...</td>\n",
       "      <td>69.0</td>\n",
       "      <td>34.0</td>\n",
       "      <td>15.0</td>\n",
       "      <td>12.0</td>\n",
       "      <td>6.0</td>\n",
       "      <td>43.0</td>\n",
       "      <td>66.0</td>\n",
       "      <td>71.0</td>\n",
       "      <td>85.0</td>\n",
       "      <td>72.166667</td>\n",
       "    </tr>\n",
       "    <tr>\n",
       "      <th>2018-03-02 02:00:00</th>\n",
       "      <td>75</td>\n",
       "      <td>3</td>\n",
       "      <td>2</td>\n",
       "      <td>4</td>\n",
       "      <td>2</td>\n",
       "      <td>120.0</td>\n",
       "      <td>90.0</td>\n",
       "      <td>58.0</td>\n",
       "      <td>113.0</td>\n",
       "      <td>66.0</td>\n",
       "      <td>...</td>\n",
       "      <td>64.0</td>\n",
       "      <td>69.0</td>\n",
       "      <td>34.0</td>\n",
       "      <td>15.0</td>\n",
       "      <td>12.0</td>\n",
       "      <td>6.0</td>\n",
       "      <td>43.0</td>\n",
       "      <td>66.0</td>\n",
       "      <td>71.0</td>\n",
       "      <td>84.666667</td>\n",
       "    </tr>\n",
       "    <tr>\n",
       "      <th>2018-03-02 03:00:00</th>\n",
       "      <td>64</td>\n",
       "      <td>3</td>\n",
       "      <td>2</td>\n",
       "      <td>4</td>\n",
       "      <td>3</td>\n",
       "      <td>75.0</td>\n",
       "      <td>120.0</td>\n",
       "      <td>90.0</td>\n",
       "      <td>58.0</td>\n",
       "      <td>113.0</td>\n",
       "      <td>...</td>\n",
       "      <td>96.0</td>\n",
       "      <td>64.0</td>\n",
       "      <td>69.0</td>\n",
       "      <td>34.0</td>\n",
       "      <td>15.0</td>\n",
       "      <td>12.0</td>\n",
       "      <td>6.0</td>\n",
       "      <td>43.0</td>\n",
       "      <td>66.0</td>\n",
       "      <td>87.000000</td>\n",
       "    </tr>\n",
       "    <tr>\n",
       "      <th>2018-03-02 04:00:00</th>\n",
       "      <td>20</td>\n",
       "      <td>3</td>\n",
       "      <td>2</td>\n",
       "      <td>4</td>\n",
       "      <td>4</td>\n",
       "      <td>64.0</td>\n",
       "      <td>75.0</td>\n",
       "      <td>120.0</td>\n",
       "      <td>90.0</td>\n",
       "      <td>58.0</td>\n",
       "      <td>...</td>\n",
       "      <td>30.0</td>\n",
       "      <td>96.0</td>\n",
       "      <td>64.0</td>\n",
       "      <td>69.0</td>\n",
       "      <td>34.0</td>\n",
       "      <td>15.0</td>\n",
       "      <td>12.0</td>\n",
       "      <td>6.0</td>\n",
       "      <td>43.0</td>\n",
       "      <td>86.666667</td>\n",
       "    </tr>\n",
       "  </tbody>\n",
       "</table>\n",
       "<p>5 rows × 30 columns</p>\n",
       "</div>"
      ],
      "text/plain": [
       "                     num_orders  month  day  dayofweek  hour  lag_1  lag_2  \\\n",
       "datetime                                                                     \n",
       "2018-03-02 00:00:00          90      3    2          4     0   58.0  113.0   \n",
       "2018-03-02 01:00:00         120      3    2          4     1   90.0   58.0   \n",
       "2018-03-02 02:00:00          75      3    2          4     2  120.0   90.0   \n",
       "2018-03-02 03:00:00          64      3    2          4     3   75.0  120.0   \n",
       "2018-03-02 04:00:00          20      3    2          4     4   64.0   75.0   \n",
       "\n",
       "                     lag_3  lag_4  lag_5  ...  lag_16  lag_17  lag_18  lag_19  \\\n",
       "datetime                                  ...                                   \n",
       "2018-03-02 00:00:00   66.0   61.0   45.0  ...    34.0    15.0    12.0     6.0   \n",
       "2018-03-02 01:00:00  113.0   66.0   61.0  ...    69.0    34.0    15.0    12.0   \n",
       "2018-03-02 02:00:00   58.0  113.0   66.0  ...    64.0    69.0    34.0    15.0   \n",
       "2018-03-02 03:00:00   90.0   58.0  113.0  ...    96.0    64.0    69.0    34.0   \n",
       "2018-03-02 04:00:00  120.0   90.0   58.0  ...    30.0    96.0    64.0    69.0   \n",
       "\n",
       "                     lag_20  lag_21  lag_22  lag_23  lag_24  rolling_mean  \n",
       "datetime                                                                   \n",
       "2018-03-02 00:00:00    43.0    66.0    71.0    85.0   124.0     69.333333  \n",
       "2018-03-02 01:00:00     6.0    43.0    66.0    71.0    85.0     72.166667  \n",
       "2018-03-02 02:00:00    12.0     6.0    43.0    66.0    71.0     84.666667  \n",
       "2018-03-02 03:00:00    15.0    12.0     6.0    43.0    66.0     87.000000  \n",
       "2018-03-02 04:00:00    34.0    15.0    12.0     6.0    43.0     86.666667  \n",
       "\n",
       "[5 rows x 30 columns]"
      ]
     },
     "execution_count": 319,
     "metadata": {},
     "output_type": "execute_result"
    }
   ],
   "source": [
    "#за основу берем почасовой суточный лаг, и сглаживание в 6-часовом диапазоне.\n",
    "LAG = 24\n",
    "ROL = 6\n",
    "\n",
    "df['month'] = df.index.month\n",
    "df['day'] = df.index.day\n",
    "df['dayofweek'] = df.index.dayofweek\n",
    "df['hour'] = df.index.hour\n",
    "for i in range(1, LAG + 1):\n",
    "    df['lag_{}'.format(i)] = df['num_orders'].shift(i)\n",
    "df['rolling_mean'] = df['num_orders'].shift().rolling(ROL).mean()\n",
    "df.dropna(inplace=True)\n",
    "df.head()"
   ]
  },
  {
   "cell_type": "code",
   "execution_count": 320,
   "metadata": {},
   "outputs": [],
   "source": [
    "train, test = train_test_split(df, shuffle=False, test_size=0.1)\n",
    "features_train = train.drop(['num_orders'], axis=1)\n",
    "target_train = train['num_orders']\n",
    "features_test = test.drop(['num_orders'], axis=1)\n",
    "target_test = test['num_orders']"
   ]
  },
  {
   "cell_type": "code",
   "execution_count": 321,
   "metadata": {},
   "outputs": [
    {
     "name": "stdout",
     "output_type": "stream",
     "text": [
      "(3952, 29) 2018-03-02 00:00:00 2018-08-13 15:00:00\n",
      "(440, 29) 2018-08-13 16:00:00 2018-08-31 23:00:00\n"
     ]
    }
   ],
   "source": [
    "print(features_train.shape, features_train.index.min(), features_train.index.max())\n",
    "print(features_test.shape, features_test.index.min(), features_test.index.max())"
   ]
  },
  {
   "cell_type": "markdown",
   "metadata": {},
   "source": [
    "## Тестирование"
   ]
  },
  {
   "cell_type": "code",
   "execution_count": 322,
   "metadata": {},
   "outputs": [],
   "source": [
    "RS = 12345\n",
    "CV = TimeSeriesSplit(n_splits=3)\n",
    "value = []"
   ]
  },
  {
   "cell_type": "code",
   "execution_count": 323,
   "metadata": {},
   "outputs": [],
   "source": [
    "#функция для обучения модели и расчета RMSE\n",
    "def train_rmse(model):\n",
    "    model.fit(features_train, target_train)\n",
    "    train_pred = model.predict(features_train)\n",
    "    test_pred = model.predict(features_test)\n",
    "    rmse_train = mean_squared_error(target_train, train_pred)**0.5\n",
    "    rmse_test = mean_squared_error(target_test, test_pred)**0.5\n",
    "    print(\"RMSE обучающей выборки:\", rmse_train)\n",
    "    print(\"RMSE тестовой выборки: \", rmse_test)\n",
    "    return rmse_train, rmse_test"
   ]
  },
  {
   "cell_type": "code",
   "execution_count": 324,
   "metadata": {},
   "outputs": [],
   "source": [
    "#функия для подбора значений заданных гиперпараметров\n",
    "def grid (model, param):\n",
    "    print ('C гиперпараметрами:')\n",
    "    grid_search = GridSearchCV(estimator = model,\n",
    "                          param_grid = param,\n",
    "                          cv=CV,\n",
    "                          scoring='neg_mean_squared_error')\n",
    "    grid_search.fit(features_train, target_train)\n",
    "    print('Лучшие гиперпараметры: ', grid_search.best_params_)\n",
    "    return train_rmse (grid_search.best_estimator_)"
   ]
  },
  {
   "cell_type": "markdown",
   "metadata": {},
   "source": [
    "### LASSO"
   ]
  },
  {
   "cell_type": "code",
   "execution_count": 325,
   "metadata": {},
   "outputs": [],
   "source": [
    "lrg = Lasso (random_state = RS)"
   ]
  },
  {
   "cell_type": "code",
   "execution_count": 326,
   "metadata": {},
   "outputs": [
    {
     "name": "stdout",
     "output_type": "stream",
     "text": [
      "Без гиперпараметров:\n",
      "RMSE обучающей выборки: 25.75724181499572\n",
      "RMSE тестовой выборки:  45.36573799502852\n",
      "CPU times: user 96 ms, sys: 77.1 ms, total: 173 ms\n",
      "Wall time: 139 ms\n"
     ]
    }
   ],
   "source": [
    "%%time\n",
    "print ('Без гиперпараметров:')\n",
    "value.append(train_rmse(lrg))"
   ]
  },
  {
   "cell_type": "code",
   "execution_count": 327,
   "metadata": {},
   "outputs": [],
   "source": [
    "lrg_param = {\n",
    "    'fit_intercept':[True,False],\n",
    "    'normalize':[True,False],\n",
    "    'copy_X':[True, False]\n",
    "}"
   ]
  },
  {
   "cell_type": "code",
   "execution_count": 328,
   "metadata": {},
   "outputs": [
    {
     "name": "stdout",
     "output_type": "stream",
     "text": [
      "C гиперпараметрами:\n",
      "Лучшие гиперпараметры:  {'copy_X': True, 'fit_intercept': False, 'normalize': True}\n",
      "RMSE обучающей выборки: 25.779725085645186\n",
      "RMSE тестовой выборки:  45.32659867320945\n",
      "CPU times: user 3.38 s, sys: 4.4 s, total: 7.78 s\n",
      "Wall time: 7.8 s\n"
     ]
    }
   ],
   "source": [
    "%%time\n",
    "value.append(grid(lrg, lrg_param))"
   ]
  },
  {
   "cell_type": "markdown",
   "metadata": {},
   "source": [
    "### Cat Boost"
   ]
  },
  {
   "cell_type": "code",
   "execution_count": 329,
   "metadata": {},
   "outputs": [],
   "source": [
    "cat = CatBoostRegressor( random_state = RS, verbose = False)"
   ]
  },
  {
   "cell_type": "code",
   "execution_count": 330,
   "metadata": {},
   "outputs": [
    {
     "name": "stdout",
     "output_type": "stream",
     "text": [
      "Без гиперпараметров:\n",
      "RMSE обучающей выборки: 10.743804160605881\n",
      "RMSE тестовой выборки:  39.434886628052745\n",
      "CPU times: user 6.7 s, sys: 130 ms, total: 6.83 s\n",
      "Wall time: 8.83 s\n"
     ]
    }
   ],
   "source": [
    "%%time\n",
    "print ('Без гиперпараметров:')\n",
    "value.append(train_rmse(cat))"
   ]
  },
  {
   "cell_type": "code",
   "execution_count": 331,
   "metadata": {},
   "outputs": [],
   "source": [
    "cat_param = {\n",
    "    'depth' : [2, 5, 10],\n",
    "    'n_estimators': [100, 250, 500],\n",
    "}"
   ]
  },
  {
   "cell_type": "code",
   "execution_count": 332,
   "metadata": {},
   "outputs": [
    {
     "name": "stdout",
     "output_type": "stream",
     "text": [
      "C гиперпараметрами:\n",
      "Лучшие гиперпараметры:  {'depth': 5, 'n_estimators': 500}\n",
      "RMSE обучающей выборки: 13.617945086465992\n",
      "RMSE тестовой выборки:  39.31440073240048\n",
      "CPU times: user 1min 56s, sys: 1.06 s, total: 1min 57s\n",
      "Wall time: 2min 41s\n"
     ]
    }
   ],
   "source": [
    "%%time\n",
    "value.append(grid(cat, cat_param))"
   ]
  },
  {
   "cell_type": "markdown",
   "metadata": {},
   "source": [
    "### LightGBM"
   ]
  },
  {
   "cell_type": "code",
   "execution_count": 333,
   "metadata": {},
   "outputs": [],
   "source": [
    "lgb = LGBMRegressor(random_state = RS, force_col_wise=True)"
   ]
  },
  {
   "cell_type": "code",
   "execution_count": 334,
   "metadata": {},
   "outputs": [
    {
     "name": "stdout",
     "output_type": "stream",
     "text": [
      "Без гиперпараметров:\n",
      "RMSE обучающей выборки: 12.264536774570061\n",
      "RMSE тестовой выборки:  40.291535102480765\n",
      "CPU times: user 42.5 s, sys: 412 ms, total: 42.9 s\n",
      "Wall time: 43.3 s\n"
     ]
    }
   ],
   "source": [
    "%%time\n",
    "print ('Без гиперпараметров:')\n",
    "value.append(train_rmse(lgb))"
   ]
  },
  {
   "cell_type": "code",
   "execution_count": 335,
   "metadata": {},
   "outputs": [],
   "source": [
    "lgb_param = {\n",
    "    'learning_rate' : [0.05, 0.1, 0.2],\n",
    "    'n_estimators' : [50, 100, 200]\n",
    "}"
   ]
  },
  {
   "cell_type": "code",
   "execution_count": 336,
   "metadata": {},
   "outputs": [
    {
     "name": "stdout",
     "output_type": "stream",
     "text": [
      "C гиперпараметрами:\n",
      "Лучшие гиперпараметры:  {'learning_rate': 0.05, 'n_estimators': 200}\n",
      "RMSE обучающей выборки: 12.180696984104978\n",
      "RMSE тестовой выборки:  39.63701973845369\n",
      "CPU times: user 25min 16s, sys: 12.8 s, total: 25min 29s\n",
      "Wall time: 25min 42s\n"
     ]
    }
   ],
   "source": [
    "%%time\n",
    "value.append(grid(lgb, lgb_param))"
   ]
  },
  {
   "cell_type": "markdown",
   "metadata": {},
   "source": [
    "### Выводы"
   ]
  },
  {
   "cell_type": "code",
   "execution_count": 337,
   "metadata": {},
   "outputs": [
    {
     "data": {
      "text/html": [
       "<div>\n",
       "<style scoped>\n",
       "    .dataframe tbody tr th:only-of-type {\n",
       "        vertical-align: middle;\n",
       "    }\n",
       "\n",
       "    .dataframe tbody tr th {\n",
       "        vertical-align: top;\n",
       "    }\n",
       "\n",
       "    .dataframe thead th {\n",
       "        text-align: right;\n",
       "    }\n",
       "</style>\n",
       "<table border=\"1\" class=\"dataframe\">\n",
       "  <thead>\n",
       "    <tr style=\"text-align: right;\">\n",
       "      <th></th>\n",
       "      <th>RMSE обучающая выборка</th>\n",
       "      <th>RMSE тестовая выборка</th>\n",
       "    </tr>\n",
       "  </thead>\n",
       "  <tbody>\n",
       "    <tr>\n",
       "      <th>LASSO без гиперпараметров</th>\n",
       "      <td>25.757242</td>\n",
       "      <td>45.365738</td>\n",
       "    </tr>\n",
       "    <tr>\n",
       "      <th>LASSO с гиперпараметрами</th>\n",
       "      <td>25.779725</td>\n",
       "      <td>45.326599</td>\n",
       "    </tr>\n",
       "    <tr>\n",
       "      <th>Cat Boost без гиперпараметров</th>\n",
       "      <td>10.743804</td>\n",
       "      <td>39.434887</td>\n",
       "    </tr>\n",
       "    <tr>\n",
       "      <th>Cat Boost с гиперпараметрами</th>\n",
       "      <td>13.617945</td>\n",
       "      <td>39.314401</td>\n",
       "    </tr>\n",
       "    <tr>\n",
       "      <th>LightGBM без гиперпараметров</th>\n",
       "      <td>12.264537</td>\n",
       "      <td>40.291535</td>\n",
       "    </tr>\n",
       "    <tr>\n",
       "      <th>LightGBM с гиперпараметрами</th>\n",
       "      <td>12.180697</td>\n",
       "      <td>39.637020</td>\n",
       "    </tr>\n",
       "  </tbody>\n",
       "</table>\n",
       "</div>"
      ],
      "text/plain": [
       "                                RMSE обучающая выборка  RMSE тестовая выборка\n",
       " LASSO без гиперпараметров                   25.757242              45.365738\n",
       " LASSO с гиперпараметрами                    25.779725              45.326599\n",
       " Cat Boost без гиперпараметров               10.743804              39.434887\n",
       " Cat Boost с гиперпараметрами                13.617945              39.314401\n",
       " LightGBM без гиперпараметров                12.264537              40.291535\n",
       " LightGBM с гиперпараметрами                 12.180697              39.637020"
      ]
     },
     "execution_count": 337,
     "metadata": {},
     "output_type": "execute_result"
    }
   ],
   "source": [
    "pd.DataFrame(data=value,\n",
    "             index=[' LASSO без гиперпараметров',\n",
    "                    ' LASSO с гиперпараметрами',\n",
    "                    ' Cat Boost без гиперпараметров',\n",
    "                    ' Cat Boost с гиперпараметрами',\n",
    "                    ' LightGBM без гиперпараметров',\n",
    "                    ' LightGBM с гиперпараметрами'],\n",
    "             columns=['RMSE обучающая выборка', 'RMSE тестовая выборка'])"
   ]
  },
  {
   "cell_type": "markdown",
   "metadata": {},
   "source": [
    "**- обучили 3 различные модели**  \n",
    "**- видно, что происходит \"переобучение\" модели, так как разница RMSE при обучении и на тесте различается в 2-4 раза**\n",
    "**- однако все модели на тесте укладываются в значении метрики RMSE = 48**  \n",
    "**- самая точная модель - CatBoost**  \n",
    "**- однако, если нет требований по улучшению качества предсказания и устраивает метрика размеров в 48, порекомендовал бы модель LASSO как значительно более быструю, чем остальные.**"
   ]
  }
 ],
 "metadata": {
  "ExecuteTimeLog": [
   {
    "duration": 506,
    "start_time": "2022-04-07T10:36:12.137Z"
   },
   {
    "duration": 94,
    "start_time": "2022-04-07T10:37:36.017Z"
   },
   {
    "duration": 39,
    "start_time": "2022-04-07T10:37:39.056Z"
   },
   {
    "duration": 23,
    "start_time": "2022-04-07T10:37:39.817Z"
   },
   {
    "duration": 45,
    "start_time": "2022-04-07T10:38:19.969Z"
   },
   {
    "duration": 17,
    "start_time": "2022-04-07T10:38:22.057Z"
   },
   {
    "duration": 13,
    "start_time": "2022-04-07T10:40:36.539Z"
   },
   {
    "duration": 7,
    "start_time": "2022-04-07T10:41:04.377Z"
   },
   {
    "duration": 69,
    "start_time": "2022-04-07T10:43:02.658Z"
   },
   {
    "duration": 6,
    "start_time": "2022-04-07T10:43:20.738Z"
   },
   {
    "duration": 7,
    "start_time": "2022-04-07T10:56:48.289Z"
   },
   {
    "duration": 214,
    "start_time": "2022-04-07T10:57:43.353Z"
   },
   {
    "duration": 248,
    "start_time": "2022-04-07T10:57:54.459Z"
   },
   {
    "duration": 231,
    "start_time": "2022-04-07T10:57:58.089Z"
   },
   {
    "duration": 237,
    "start_time": "2022-04-07T11:34:05.859Z"
   },
   {
    "duration": 215,
    "start_time": "2022-04-07T11:34:49.020Z"
   },
   {
    "duration": 159089,
    "start_time": "2022-04-07T11:54:45.303Z"
   },
   {
    "duration": 0,
    "start_time": "2022-04-07T11:57:24.395Z"
   },
   {
    "duration": 0,
    "start_time": "2022-04-07T11:57:24.397Z"
   },
   {
    "duration": 0,
    "start_time": "2022-04-07T11:57:24.399Z"
   },
   {
    "duration": 0,
    "start_time": "2022-04-07T11:57:24.400Z"
   },
   {
    "duration": 46,
    "start_time": "2022-04-08T08:20:26.596Z"
   },
   {
    "duration": 396,
    "start_time": "2022-04-08T08:20:31.736Z"
   },
   {
    "duration": 47,
    "start_time": "2022-04-08T08:20:32.134Z"
   },
   {
    "duration": 8,
    "start_time": "2022-04-08T08:20:32.182Z"
   },
   {
    "duration": 10,
    "start_time": "2022-04-08T08:20:32.191Z"
   },
   {
    "duration": 12,
    "start_time": "2022-04-08T08:20:32.203Z"
   },
   {
    "duration": 10,
    "start_time": "2022-04-08T08:20:40.316Z"
   },
   {
    "duration": 29,
    "start_time": "2022-04-08T08:21:46.515Z"
   },
   {
    "duration": 5,
    "start_time": "2022-04-08T08:22:14.455Z"
   },
   {
    "duration": 7,
    "start_time": "2022-04-08T08:22:44.096Z"
   },
   {
    "duration": 2,
    "start_time": "2022-04-08T08:23:06.195Z"
   },
   {
    "duration": 38,
    "start_time": "2022-04-08T08:23:06.199Z"
   },
   {
    "duration": 4,
    "start_time": "2022-04-08T08:23:06.238Z"
   },
   {
    "duration": 11,
    "start_time": "2022-04-08T08:23:06.243Z"
   },
   {
    "duration": 6,
    "start_time": "2022-04-08T08:23:06.255Z"
   },
   {
    "duration": 5,
    "start_time": "2022-04-08T08:23:06.262Z"
   },
   {
    "duration": 6,
    "start_time": "2022-04-08T08:23:06.269Z"
   },
   {
    "duration": 10,
    "start_time": "2022-04-08T08:23:35.236Z"
   },
   {
    "duration": 6,
    "start_time": "2022-04-08T08:27:09.596Z"
   },
   {
    "duration": 6,
    "start_time": "2022-04-08T08:27:14.675Z"
   },
   {
    "duration": 6,
    "start_time": "2022-04-08T08:27:31.496Z"
   },
   {
    "duration": 2,
    "start_time": "2022-04-08T08:27:38.727Z"
   },
   {
    "duration": 36,
    "start_time": "2022-04-08T08:27:38.734Z"
   },
   {
    "duration": 3,
    "start_time": "2022-04-08T08:27:38.772Z"
   },
   {
    "duration": 10,
    "start_time": "2022-04-08T08:27:38.777Z"
   },
   {
    "duration": 6,
    "start_time": "2022-04-08T08:27:38.789Z"
   },
   {
    "duration": 9,
    "start_time": "2022-04-08T08:27:38.797Z"
   },
   {
    "duration": 3,
    "start_time": "2022-04-08T08:27:53.836Z"
   },
   {
    "duration": 37,
    "start_time": "2022-04-08T08:27:53.840Z"
   },
   {
    "duration": 4,
    "start_time": "2022-04-08T08:27:53.878Z"
   },
   {
    "duration": 10,
    "start_time": "2022-04-08T08:27:53.883Z"
   },
   {
    "duration": 5,
    "start_time": "2022-04-08T08:27:53.895Z"
   },
   {
    "duration": 10,
    "start_time": "2022-04-08T08:27:53.902Z"
   },
   {
    "duration": 3,
    "start_time": "2022-04-08T08:28:01.816Z"
   },
   {
    "duration": 54,
    "start_time": "2022-04-08T08:28:01.821Z"
   },
   {
    "duration": 4,
    "start_time": "2022-04-08T08:28:01.876Z"
   },
   {
    "duration": 14,
    "start_time": "2022-04-08T08:28:01.882Z"
   },
   {
    "duration": 6,
    "start_time": "2022-04-08T08:28:01.899Z"
   },
   {
    "duration": 25,
    "start_time": "2022-04-08T08:28:01.907Z"
   },
   {
    "duration": 8,
    "start_time": "2022-04-08T08:29:05.227Z"
   },
   {
    "duration": 3027,
    "start_time": "2022-04-08T08:29:11.994Z"
   },
   {
    "duration": 6,
    "start_time": "2022-04-08T08:31:29.155Z"
   },
   {
    "duration": 3,
    "start_time": "2022-04-08T08:32:09.563Z"
   },
   {
    "duration": 2,
    "start_time": "2022-04-08T08:32:11.815Z"
   },
   {
    "duration": 4,
    "start_time": "2022-04-08T08:32:15.475Z"
   },
   {
    "duration": 3,
    "start_time": "2022-04-08T08:32:30.056Z"
   },
   {
    "duration": 4,
    "start_time": "2022-04-08T08:32:34.323Z"
   },
   {
    "duration": 3,
    "start_time": "2022-04-08T08:32:48.815Z"
   },
   {
    "duration": 3,
    "start_time": "2022-04-08T08:33:24.155Z"
   },
   {
    "duration": 39,
    "start_time": "2022-04-08T08:33:24.160Z"
   },
   {
    "duration": 6,
    "start_time": "2022-04-08T08:33:24.201Z"
   },
   {
    "duration": 12,
    "start_time": "2022-04-08T08:33:24.208Z"
   },
   {
    "duration": 6,
    "start_time": "2022-04-08T08:33:24.222Z"
   },
   {
    "duration": 8,
    "start_time": "2022-04-08T08:33:24.229Z"
   },
   {
    "duration": 5,
    "start_time": "2022-04-08T08:33:24.238Z"
   },
   {
    "duration": 37,
    "start_time": "2022-04-08T08:33:24.245Z"
   },
   {
    "duration": 3,
    "start_time": "2022-04-08T08:38:07.463Z"
   },
   {
    "duration": 36,
    "start_time": "2022-04-08T08:38:07.467Z"
   },
   {
    "duration": 3,
    "start_time": "2022-04-08T08:38:07.505Z"
   },
   {
    "duration": 12,
    "start_time": "2022-04-08T08:38:07.510Z"
   },
   {
    "duration": 6,
    "start_time": "2022-04-08T08:38:07.524Z"
   },
   {
    "duration": 11,
    "start_time": "2022-04-08T08:38:07.532Z"
   },
   {
    "duration": 6,
    "start_time": "2022-04-08T08:40:07.475Z"
   },
   {
    "duration": 7,
    "start_time": "2022-04-08T08:40:54.635Z"
   },
   {
    "duration": 10,
    "start_time": "2022-04-08T08:41:01.958Z"
   },
   {
    "duration": 9,
    "start_time": "2022-04-08T08:47:28.615Z"
   },
   {
    "duration": 5,
    "start_time": "2022-04-08T08:47:34.395Z"
   },
   {
    "duration": 8,
    "start_time": "2022-04-08T08:47:35.335Z"
   },
   {
    "duration": 734,
    "start_time": "2022-04-08T08:47:39.927Z"
   },
   {
    "duration": 372,
    "start_time": "2022-04-08T08:47:55.278Z"
   },
   {
    "duration": 186,
    "start_time": "2022-04-08T08:48:22.855Z"
   },
   {
    "duration": 268,
    "start_time": "2022-04-08T08:48:27.734Z"
   },
   {
    "duration": 243,
    "start_time": "2022-04-08T08:48:39.778Z"
   },
   {
    "duration": 4,
    "start_time": "2022-04-08T08:53:02.507Z"
   },
   {
    "duration": 20,
    "start_time": "2022-04-08T08:53:06.035Z"
   },
   {
    "duration": 3,
    "start_time": "2022-04-08T08:53:11.254Z"
   },
   {
    "duration": 47,
    "start_time": "2022-04-08T08:53:11.259Z"
   },
   {
    "duration": 4,
    "start_time": "2022-04-08T08:53:11.308Z"
   },
   {
    "duration": 10,
    "start_time": "2022-04-08T08:53:11.314Z"
   },
   {
    "duration": 5,
    "start_time": "2022-04-08T08:53:11.326Z"
   },
   {
    "duration": 13,
    "start_time": "2022-04-08T08:53:11.333Z"
   },
   {
    "duration": 6,
    "start_time": "2022-04-08T08:53:11.347Z"
   },
   {
    "duration": 266,
    "start_time": "2022-04-08T08:53:11.354Z"
   },
   {
    "duration": 9,
    "start_time": "2022-04-08T08:53:11.622Z"
   },
   {
    "duration": 8,
    "start_time": "2022-04-08T08:54:12.387Z"
   },
   {
    "duration": 543,
    "start_time": "2022-04-08T08:55:14.467Z"
   },
   {
    "duration": 218,
    "start_time": "2022-04-08T08:55:22.856Z"
   },
   {
    "duration": 3,
    "start_time": "2022-04-08T08:56:12.955Z"
   },
   {
    "duration": 46,
    "start_time": "2022-04-08T08:56:12.960Z"
   },
   {
    "duration": 3,
    "start_time": "2022-04-08T08:56:13.008Z"
   },
   {
    "duration": 11,
    "start_time": "2022-04-08T08:56:13.013Z"
   },
   {
    "duration": 6,
    "start_time": "2022-04-08T08:56:13.026Z"
   },
   {
    "duration": 11,
    "start_time": "2022-04-08T08:56:13.034Z"
   },
   {
    "duration": 6,
    "start_time": "2022-04-08T08:56:13.047Z"
   },
   {
    "duration": 334,
    "start_time": "2022-04-08T08:56:13.055Z"
   },
   {
    "duration": 4,
    "start_time": "2022-04-08T08:56:13.391Z"
   },
   {
    "duration": 221,
    "start_time": "2022-04-08T08:56:13.397Z"
   },
   {
    "duration": 191,
    "start_time": "2022-04-08T08:56:28.935Z"
   },
   {
    "duration": 203,
    "start_time": "2022-04-08T08:56:35.555Z"
   },
   {
    "duration": 34,
    "start_time": "2022-04-08T09:00:33.667Z"
   },
   {
    "duration": 3,
    "start_time": "2022-04-08T09:00:51.187Z"
   },
   {
    "duration": 208,
    "start_time": "2022-04-08T09:00:56.334Z"
   },
   {
    "duration": 301,
    "start_time": "2022-04-08T09:01:19.675Z"
   },
   {
    "duration": 12,
    "start_time": "2022-04-08T09:01:43.496Z"
   },
   {
    "duration": 3,
    "start_time": "2022-04-08T09:01:48.975Z"
   },
   {
    "duration": 37,
    "start_time": "2022-04-08T09:01:48.981Z"
   },
   {
    "duration": 4,
    "start_time": "2022-04-08T09:01:49.020Z"
   },
   {
    "duration": 17,
    "start_time": "2022-04-08T09:01:49.026Z"
   },
   {
    "duration": 6,
    "start_time": "2022-04-08T09:01:49.046Z"
   },
   {
    "duration": 11,
    "start_time": "2022-04-08T09:01:49.053Z"
   },
   {
    "duration": 19,
    "start_time": "2022-04-08T09:01:49.065Z"
   },
   {
    "duration": 331,
    "start_time": "2022-04-08T09:01:49.086Z"
   },
   {
    "duration": 4,
    "start_time": "2022-04-08T09:01:49.419Z"
   },
   {
    "duration": 213,
    "start_time": "2022-04-08T09:01:49.425Z"
   },
   {
    "duration": 217,
    "start_time": "2022-04-08T09:01:49.639Z"
   },
   {
    "duration": 183,
    "start_time": "2022-04-08T09:02:03.275Z"
   },
   {
    "duration": 11,
    "start_time": "2022-04-08T09:02:43.695Z"
   },
   {
    "duration": 185,
    "start_time": "2022-04-08T09:05:49.096Z"
   },
   {
    "duration": 146,
    "start_time": "2022-04-08T09:06:01.915Z"
   },
   {
    "duration": 195,
    "start_time": "2022-04-08T09:06:13.955Z"
   },
   {
    "duration": 141,
    "start_time": "2022-04-08T09:06:28.435Z"
   },
   {
    "duration": 127,
    "start_time": "2022-04-08T09:06:50.143Z"
   },
   {
    "duration": 188,
    "start_time": "2022-04-08T09:07:13.326Z"
   },
   {
    "duration": 159,
    "start_time": "2022-04-08T09:07:23.655Z"
   },
   {
    "duration": 162,
    "start_time": "2022-04-08T09:07:38.676Z"
   },
   {
    "duration": 165,
    "start_time": "2022-04-08T09:07:59.615Z"
   },
   {
    "duration": 253,
    "start_time": "2022-04-08T09:08:21.615Z"
   },
   {
    "duration": 133,
    "start_time": "2022-04-08T09:08:30.015Z"
   },
   {
    "duration": 156,
    "start_time": "2022-04-08T09:08:56.616Z"
   },
   {
    "duration": 238,
    "start_time": "2022-04-08T09:09:03.335Z"
   },
   {
    "duration": 159,
    "start_time": "2022-04-08T09:09:11.596Z"
   },
   {
    "duration": 171,
    "start_time": "2022-04-08T09:10:14.715Z"
   },
   {
    "duration": 171,
    "start_time": "2022-04-08T09:10:42.851Z"
   },
   {
    "duration": 191,
    "start_time": "2022-04-08T09:10:50.323Z"
   },
   {
    "duration": 3,
    "start_time": "2022-04-08T09:10:59.316Z"
   },
   {
    "duration": 47,
    "start_time": "2022-04-08T09:10:59.322Z"
   },
   {
    "duration": 4,
    "start_time": "2022-04-08T09:10:59.370Z"
   },
   {
    "duration": 14,
    "start_time": "2022-04-08T09:10:59.375Z"
   },
   {
    "duration": 6,
    "start_time": "2022-04-08T09:10:59.391Z"
   },
   {
    "duration": 13,
    "start_time": "2022-04-08T09:10:59.399Z"
   },
   {
    "duration": 5,
    "start_time": "2022-04-08T09:10:59.414Z"
   },
   {
    "duration": 255,
    "start_time": "2022-04-08T09:10:59.420Z"
   },
   {
    "duration": 6,
    "start_time": "2022-04-08T09:10:59.676Z"
   },
   {
    "duration": 226,
    "start_time": "2022-04-08T09:10:59.683Z"
   },
   {
    "duration": 195,
    "start_time": "2022-04-08T09:10:59.911Z"
   },
   {
    "duration": 6,
    "start_time": "2022-04-08T09:11:51.543Z"
   },
   {
    "duration": 4,
    "start_time": "2022-04-08T09:12:11.446Z"
   },
   {
    "duration": 8,
    "start_time": "2022-04-08T09:12:37.555Z"
   },
   {
    "duration": 3,
    "start_time": "2022-04-08T09:12:44.015Z"
   },
   {
    "duration": 11,
    "start_time": "2022-04-08T09:12:55.874Z"
   },
   {
    "duration": 4,
    "start_time": "2022-04-08T09:13:00.735Z"
   },
   {
    "duration": 8,
    "start_time": "2022-04-08T09:18:23.006Z"
   },
   {
    "duration": 8,
    "start_time": "2022-04-08T09:18:35.075Z"
   },
   {
    "duration": 3,
    "start_time": "2022-04-08T09:19:18.494Z"
   },
   {
    "duration": 37,
    "start_time": "2022-04-08T09:19:18.499Z"
   },
   {
    "duration": 3,
    "start_time": "2022-04-08T09:19:18.537Z"
   },
   {
    "duration": 12,
    "start_time": "2022-04-08T09:19:18.542Z"
   },
   {
    "duration": 6,
    "start_time": "2022-04-08T09:19:18.556Z"
   },
   {
    "duration": 21,
    "start_time": "2022-04-08T09:19:18.563Z"
   },
   {
    "duration": 5,
    "start_time": "2022-04-08T09:19:18.586Z"
   },
   {
    "duration": 289,
    "start_time": "2022-04-08T09:19:18.592Z"
   },
   {
    "duration": 5,
    "start_time": "2022-04-08T09:19:18.884Z"
   },
   {
    "duration": 246,
    "start_time": "2022-04-08T09:19:18.891Z"
   },
   {
    "duration": 179,
    "start_time": "2022-04-08T09:19:19.140Z"
   },
   {
    "duration": 8,
    "start_time": "2022-04-08T09:19:19.321Z"
   },
   {
    "duration": 8,
    "start_time": "2022-04-08T09:19:46.054Z"
   },
   {
    "duration": 4,
    "start_time": "2022-04-08T09:20:20.634Z"
   },
   {
    "duration": 5,
    "start_time": "2022-04-08T09:20:42.897Z"
   },
   {
    "duration": 3117,
    "start_time": "2022-04-08T09:24:18.054Z"
   },
   {
    "duration": 5072,
    "start_time": "2022-04-08T09:24:27.447Z"
   },
   {
    "duration": 191,
    "start_time": "2022-04-08T09:24:49.854Z"
   },
   {
    "duration": 209,
    "start_time": "2022-04-08T09:24:58.774Z"
   },
   {
    "duration": 6,
    "start_time": "2022-04-08T09:26:50.593Z"
   },
   {
    "duration": 8,
    "start_time": "2022-04-08T09:28:15.035Z"
   },
   {
    "duration": 278,
    "start_time": "2022-04-08T09:37:57.274Z"
   },
   {
    "duration": 248,
    "start_time": "2022-04-08T09:38:04.274Z"
   },
   {
    "duration": 3,
    "start_time": "2022-04-08T09:38:37.014Z"
   },
   {
    "duration": 2378,
    "start_time": "2022-04-08T09:38:37.020Z"
   },
   {
    "duration": 4,
    "start_time": "2022-04-08T09:38:39.400Z"
   },
   {
    "duration": 17,
    "start_time": "2022-04-08T09:38:39.405Z"
   },
   {
    "duration": 9,
    "start_time": "2022-04-08T09:38:39.423Z"
   },
   {
    "duration": 16,
    "start_time": "2022-04-08T09:38:39.434Z"
   },
   {
    "duration": 6,
    "start_time": "2022-04-08T09:38:39.451Z"
   },
   {
    "duration": 390,
    "start_time": "2022-04-08T09:38:39.458Z"
   },
   {
    "duration": 3,
    "start_time": "2022-04-08T09:38:39.849Z"
   },
   {
    "duration": 17,
    "start_time": "2022-04-08T09:38:39.853Z"
   },
   {
    "duration": 0,
    "start_time": "2022-04-08T09:38:39.871Z"
   },
   {
    "duration": 0,
    "start_time": "2022-04-08T09:38:39.872Z"
   },
   {
    "duration": 0,
    "start_time": "2022-04-08T09:38:39.881Z"
   },
   {
    "duration": 3,
    "start_time": "2022-04-08T09:39:51.464Z"
   },
   {
    "duration": 46,
    "start_time": "2022-04-08T09:39:51.469Z"
   },
   {
    "duration": 4,
    "start_time": "2022-04-08T09:39:51.516Z"
   },
   {
    "duration": 11,
    "start_time": "2022-04-08T09:39:51.522Z"
   },
   {
    "duration": 6,
    "start_time": "2022-04-08T09:39:51.535Z"
   },
   {
    "duration": 15,
    "start_time": "2022-04-08T09:39:51.542Z"
   },
   {
    "duration": 5,
    "start_time": "2022-04-08T09:39:51.559Z"
   },
   {
    "duration": 256,
    "start_time": "2022-04-08T09:39:51.566Z"
   },
   {
    "duration": 7,
    "start_time": "2022-04-08T09:39:51.823Z"
   },
   {
    "duration": 28,
    "start_time": "2022-04-08T09:39:51.831Z"
   },
   {
    "duration": 0,
    "start_time": "2022-04-08T09:39:51.860Z"
   },
   {
    "duration": 0,
    "start_time": "2022-04-08T09:39:51.861Z"
   },
   {
    "duration": 0,
    "start_time": "2022-04-08T09:39:51.862Z"
   },
   {
    "duration": 3,
    "start_time": "2022-04-08T09:40:09.744Z"
   },
   {
    "duration": 36,
    "start_time": "2022-04-08T09:40:09.749Z"
   },
   {
    "duration": 4,
    "start_time": "2022-04-08T09:40:09.787Z"
   },
   {
    "duration": 15,
    "start_time": "2022-04-08T09:40:09.792Z"
   },
   {
    "duration": 9,
    "start_time": "2022-04-08T09:40:09.809Z"
   },
   {
    "duration": 15,
    "start_time": "2022-04-08T09:40:09.820Z"
   },
   {
    "duration": 13,
    "start_time": "2022-04-08T09:40:09.837Z"
   },
   {
    "duration": 447,
    "start_time": "2022-04-08T09:40:09.851Z"
   },
   {
    "duration": 6,
    "start_time": "2022-04-08T09:40:10.300Z"
   },
   {
    "duration": 21,
    "start_time": "2022-04-08T09:40:10.308Z"
   },
   {
    "duration": 0,
    "start_time": "2022-04-08T09:40:10.331Z"
   },
   {
    "duration": 0,
    "start_time": "2022-04-08T09:40:10.332Z"
   },
   {
    "duration": 0,
    "start_time": "2022-04-08T09:40:10.332Z"
   },
   {
    "duration": 2,
    "start_time": "2022-04-08T09:40:48.342Z"
   },
   {
    "duration": 36,
    "start_time": "2022-04-08T09:40:48.346Z"
   },
   {
    "duration": 3,
    "start_time": "2022-04-08T09:40:48.384Z"
   },
   {
    "duration": 10,
    "start_time": "2022-04-08T09:40:48.389Z"
   },
   {
    "duration": 5,
    "start_time": "2022-04-08T09:40:48.401Z"
   },
   {
    "duration": 11,
    "start_time": "2022-04-08T09:40:48.408Z"
   },
   {
    "duration": 6,
    "start_time": "2022-04-08T09:40:48.420Z"
   },
   {
    "duration": 278,
    "start_time": "2022-04-08T09:40:48.427Z"
   },
   {
    "duration": 5,
    "start_time": "2022-04-08T09:40:48.707Z"
   },
   {
    "duration": 22,
    "start_time": "2022-04-08T09:40:48.714Z"
   },
   {
    "duration": 0,
    "start_time": "2022-04-08T09:40:48.737Z"
   },
   {
    "duration": 0,
    "start_time": "2022-04-08T09:40:48.738Z"
   },
   {
    "duration": 0,
    "start_time": "2022-04-08T09:40:48.739Z"
   },
   {
    "duration": 3,
    "start_time": "2022-04-08T09:41:27.694Z"
   },
   {
    "duration": 39,
    "start_time": "2022-04-08T09:41:27.698Z"
   },
   {
    "duration": 4,
    "start_time": "2022-04-08T09:41:27.739Z"
   },
   {
    "duration": 12,
    "start_time": "2022-04-08T09:41:27.744Z"
   },
   {
    "duration": 5,
    "start_time": "2022-04-08T09:41:27.758Z"
   },
   {
    "duration": 10,
    "start_time": "2022-04-08T09:41:27.765Z"
   },
   {
    "duration": 7,
    "start_time": "2022-04-08T09:41:27.776Z"
   },
   {
    "duration": 250,
    "start_time": "2022-04-08T09:41:27.784Z"
   },
   {
    "duration": 3,
    "start_time": "2022-04-08T09:41:28.036Z"
   },
   {
    "duration": 201,
    "start_time": "2022-04-08T09:41:28.041Z"
   },
   {
    "duration": 184,
    "start_time": "2022-04-08T09:41:28.243Z"
   },
   {
    "duration": 8,
    "start_time": "2022-04-08T09:41:28.429Z"
   },
   {
    "duration": 270,
    "start_time": "2022-04-08T09:41:28.439Z"
   },
   {
    "duration": 3,
    "start_time": "2022-04-08T09:42:13.175Z"
   },
   {
    "duration": 48,
    "start_time": "2022-04-08T09:42:13.181Z"
   },
   {
    "duration": 3,
    "start_time": "2022-04-08T09:42:13.231Z"
   },
   {
    "duration": 13,
    "start_time": "2022-04-08T09:42:13.236Z"
   },
   {
    "duration": 5,
    "start_time": "2022-04-08T09:42:13.251Z"
   },
   {
    "duration": 11,
    "start_time": "2022-04-08T09:42:13.258Z"
   },
   {
    "duration": 10,
    "start_time": "2022-04-08T09:42:13.271Z"
   },
   {
    "duration": 251,
    "start_time": "2022-04-08T09:42:13.282Z"
   },
   {
    "duration": 7,
    "start_time": "2022-04-08T09:42:13.535Z"
   },
   {
    "duration": 11,
    "start_time": "2022-04-08T09:42:13.543Z"
   },
   {
    "duration": 0,
    "start_time": "2022-04-08T09:42:13.555Z"
   },
   {
    "duration": 0,
    "start_time": "2022-04-08T09:42:13.580Z"
   },
   {
    "duration": 0,
    "start_time": "2022-04-08T09:42:13.581Z"
   },
   {
    "duration": 13,
    "start_time": "2022-04-08T09:42:29.434Z"
   },
   {
    "duration": 18,
    "start_time": "2022-04-08T09:42:38.273Z"
   },
   {
    "duration": 184,
    "start_time": "2022-04-08T09:43:47.234Z"
   },
   {
    "duration": 3,
    "start_time": "2022-04-08T09:44:00.134Z"
   },
   {
    "duration": 342,
    "start_time": "2022-04-08T09:44:01.414Z"
   },
   {
    "duration": 3,
    "start_time": "2022-04-08T09:44:53.124Z"
   },
   {
    "duration": 37,
    "start_time": "2022-04-08T09:44:53.129Z"
   },
   {
    "duration": 4,
    "start_time": "2022-04-08T09:44:53.168Z"
   },
   {
    "duration": 11,
    "start_time": "2022-04-08T09:44:53.173Z"
   },
   {
    "duration": 6,
    "start_time": "2022-04-08T09:44:53.186Z"
   },
   {
    "duration": 10,
    "start_time": "2022-04-08T09:44:53.194Z"
   },
   {
    "duration": 8,
    "start_time": "2022-04-08T09:44:53.206Z"
   },
   {
    "duration": 259,
    "start_time": "2022-04-08T09:44:53.215Z"
   },
   {
    "duration": 5,
    "start_time": "2022-04-08T09:44:53.476Z"
   },
   {
    "duration": 195,
    "start_time": "2022-04-08T09:44:53.482Z"
   },
   {
    "duration": 170,
    "start_time": "2022-04-08T09:44:53.681Z"
   },
   {
    "duration": 8,
    "start_time": "2022-04-08T09:44:53.853Z"
   },
   {
    "duration": 267,
    "start_time": "2022-04-08T09:44:53.862Z"
   },
   {
    "duration": 2,
    "start_time": "2022-04-08T09:45:01.134Z"
   },
   {
    "duration": 3,
    "start_time": "2022-04-08T09:45:05.003Z"
   },
   {
    "duration": 38,
    "start_time": "2022-04-08T09:45:05.008Z"
   },
   {
    "duration": 4,
    "start_time": "2022-04-08T09:45:05.048Z"
   },
   {
    "duration": 11,
    "start_time": "2022-04-08T09:45:05.053Z"
   },
   {
    "duration": 6,
    "start_time": "2022-04-08T09:45:05.066Z"
   },
   {
    "duration": 11,
    "start_time": "2022-04-08T09:45:05.074Z"
   },
   {
    "duration": 5,
    "start_time": "2022-04-08T09:45:05.087Z"
   },
   {
    "duration": 252,
    "start_time": "2022-04-08T09:45:05.093Z"
   },
   {
    "duration": 2,
    "start_time": "2022-04-08T09:45:05.347Z"
   },
   {
    "duration": 13,
    "start_time": "2022-04-08T09:45:05.350Z"
   },
   {
    "duration": 0,
    "start_time": "2022-04-08T09:45:05.364Z"
   },
   {
    "duration": 1,
    "start_time": "2022-04-08T09:45:05.380Z"
   },
   {
    "duration": 0,
    "start_time": "2022-04-08T09:45:05.382Z"
   },
   {
    "duration": 2,
    "start_time": "2022-04-08T09:45:59.264Z"
   },
   {
    "duration": 34,
    "start_time": "2022-04-08T09:45:59.268Z"
   },
   {
    "duration": 3,
    "start_time": "2022-04-08T09:45:59.304Z"
   },
   {
    "duration": 10,
    "start_time": "2022-04-08T09:45:59.309Z"
   },
   {
    "duration": 5,
    "start_time": "2022-04-08T09:45:59.321Z"
   },
   {
    "duration": 10,
    "start_time": "2022-04-08T09:45:59.328Z"
   },
   {
    "duration": 5,
    "start_time": "2022-04-08T09:45:59.340Z"
   },
   {
    "duration": 262,
    "start_time": "2022-04-08T09:45:59.347Z"
   },
   {
    "duration": 5,
    "start_time": "2022-04-08T09:45:59.611Z"
   },
   {
    "duration": 18,
    "start_time": "2022-04-08T09:45:59.617Z"
   },
   {
    "duration": 0,
    "start_time": "2022-04-08T09:45:59.636Z"
   },
   {
    "duration": 0,
    "start_time": "2022-04-08T09:45:59.638Z"
   },
   {
    "duration": 0,
    "start_time": "2022-04-08T09:45:59.639Z"
   },
   {
    "duration": 14,
    "start_time": "2022-04-08T09:46:10.534Z"
   },
   {
    "duration": 13,
    "start_time": "2022-04-08T09:46:35.674Z"
   },
   {
    "duration": 11,
    "start_time": "2022-04-08T09:49:26.854Z"
   },
   {
    "duration": 18,
    "start_time": "2022-04-08T09:49:28.414Z"
   },
   {
    "duration": 3,
    "start_time": "2022-04-08T09:51:09.862Z"
   },
   {
    "duration": 41,
    "start_time": "2022-04-08T09:51:09.867Z"
   },
   {
    "duration": 4,
    "start_time": "2022-04-08T09:51:09.910Z"
   },
   {
    "duration": 10,
    "start_time": "2022-04-08T09:51:09.916Z"
   },
   {
    "duration": 6,
    "start_time": "2022-04-08T09:51:09.928Z"
   },
   {
    "duration": 12,
    "start_time": "2022-04-08T09:51:09.936Z"
   },
   {
    "duration": 6,
    "start_time": "2022-04-08T09:51:09.950Z"
   },
   {
    "duration": 287,
    "start_time": "2022-04-08T09:51:09.957Z"
   },
   {
    "duration": 4,
    "start_time": "2022-04-08T09:51:10.245Z"
   },
   {
    "duration": 204,
    "start_time": "2022-04-08T09:51:10.250Z"
   },
   {
    "duration": 169,
    "start_time": "2022-04-08T09:51:10.456Z"
   },
   {
    "duration": 8,
    "start_time": "2022-04-08T09:51:10.627Z"
   },
   {
    "duration": 305,
    "start_time": "2022-04-08T09:51:10.636Z"
   },
   {
    "duration": 272,
    "start_time": "2022-04-08T09:57:59.274Z"
   },
   {
    "duration": 281,
    "start_time": "2022-04-08T09:58:14.153Z"
   },
   {
    "duration": 276,
    "start_time": "2022-04-08T09:59:07.313Z"
   },
   {
    "duration": 9,
    "start_time": "2022-04-08T09:59:15.594Z"
   },
   {
    "duration": 9,
    "start_time": "2022-04-08T09:59:32.853Z"
   },
   {
    "duration": 11,
    "start_time": "2022-04-08T09:59:55.354Z"
   },
   {
    "duration": 8,
    "start_time": "2022-04-08T10:00:09.274Z"
   },
   {
    "duration": 217,
    "start_time": "2022-04-08T10:00:29.097Z"
   },
   {
    "duration": 28,
    "start_time": "2022-04-08T10:08:26.551Z"
   },
   {
    "duration": 3,
    "start_time": "2022-04-08T10:08:41.396Z"
   },
   {
    "duration": 36,
    "start_time": "2022-04-08T10:08:41.401Z"
   },
   {
    "duration": 4,
    "start_time": "2022-04-08T10:08:41.439Z"
   },
   {
    "duration": 16,
    "start_time": "2022-04-08T10:08:41.444Z"
   },
   {
    "duration": 6,
    "start_time": "2022-04-08T10:08:41.462Z"
   },
   {
    "duration": 30,
    "start_time": "2022-04-08T10:08:41.470Z"
   },
   {
    "duration": 6,
    "start_time": "2022-04-08T10:08:41.502Z"
   },
   {
    "duration": 260,
    "start_time": "2022-04-08T10:08:41.510Z"
   },
   {
    "duration": 9,
    "start_time": "2022-04-08T10:08:41.772Z"
   },
   {
    "duration": 216,
    "start_time": "2022-04-08T10:08:41.783Z"
   },
   {
    "duration": 173,
    "start_time": "2022-04-08T10:08:42.000Z"
   },
   {
    "duration": 16,
    "start_time": "2022-04-08T10:08:42.175Z"
   },
   {
    "duration": 429,
    "start_time": "2022-04-08T10:08:42.194Z"
   },
   {
    "duration": 23,
    "start_time": "2022-04-08T10:08:42.624Z"
   },
   {
    "duration": 3,
    "start_time": "2022-04-08T10:09:54.112Z"
   },
   {
    "duration": 38,
    "start_time": "2022-04-08T10:09:54.117Z"
   },
   {
    "duration": 4,
    "start_time": "2022-04-08T10:09:54.157Z"
   },
   {
    "duration": 13,
    "start_time": "2022-04-08T10:09:54.162Z"
   },
   {
    "duration": 6,
    "start_time": "2022-04-08T10:09:54.177Z"
   },
   {
    "duration": 29,
    "start_time": "2022-04-08T10:09:54.184Z"
   },
   {
    "duration": 6,
    "start_time": "2022-04-08T10:09:54.215Z"
   },
   {
    "duration": 252,
    "start_time": "2022-04-08T10:09:54.222Z"
   },
   {
    "duration": 6,
    "start_time": "2022-04-08T10:09:54.476Z"
   },
   {
    "duration": 217,
    "start_time": "2022-04-08T10:09:54.485Z"
   },
   {
    "duration": 192,
    "start_time": "2022-04-08T10:09:54.704Z"
   },
   {
    "duration": 9,
    "start_time": "2022-04-08T10:09:54.898Z"
   },
   {
    "duration": 303,
    "start_time": "2022-04-08T10:09:54.909Z"
   },
   {
    "duration": 33,
    "start_time": "2022-04-08T10:09:55.214Z"
   },
   {
    "duration": 27,
    "start_time": "2022-04-08T10:10:22.513Z"
   },
   {
    "duration": 3,
    "start_time": "2022-04-08T10:11:21.700Z"
   },
   {
    "duration": 49,
    "start_time": "2022-04-08T10:11:21.704Z"
   },
   {
    "duration": 4,
    "start_time": "2022-04-08T10:11:21.754Z"
   },
   {
    "duration": 13,
    "start_time": "2022-04-08T10:11:21.759Z"
   },
   {
    "duration": 6,
    "start_time": "2022-04-08T10:11:21.775Z"
   },
   {
    "duration": 13,
    "start_time": "2022-04-08T10:11:21.783Z"
   },
   {
    "duration": 6,
    "start_time": "2022-04-08T10:11:21.797Z"
   },
   {
    "duration": 260,
    "start_time": "2022-04-08T10:11:21.804Z"
   },
   {
    "duration": 4,
    "start_time": "2022-04-08T10:11:22.065Z"
   },
   {
    "duration": 204,
    "start_time": "2022-04-08T10:11:22.070Z"
   },
   {
    "duration": 167,
    "start_time": "2022-04-08T10:11:22.275Z"
   },
   {
    "duration": 9,
    "start_time": "2022-04-08T10:11:22.444Z"
   },
   {
    "duration": 276,
    "start_time": "2022-04-08T10:11:22.455Z"
   },
   {
    "duration": 29,
    "start_time": "2022-04-08T10:11:22.733Z"
   },
   {
    "duration": 27,
    "start_time": "2022-04-08T10:13:42.679Z"
   },
   {
    "duration": 2,
    "start_time": "2022-04-08T10:14:05.192Z"
   },
   {
    "duration": 47,
    "start_time": "2022-04-08T10:14:05.198Z"
   },
   {
    "duration": 4,
    "start_time": "2022-04-08T10:14:05.246Z"
   },
   {
    "duration": 16,
    "start_time": "2022-04-08T10:14:05.252Z"
   },
   {
    "duration": 7,
    "start_time": "2022-04-08T10:14:05.272Z"
   },
   {
    "duration": 11,
    "start_time": "2022-04-08T10:14:05.282Z"
   },
   {
    "duration": 6,
    "start_time": "2022-04-08T10:14:05.294Z"
   },
   {
    "duration": 265,
    "start_time": "2022-04-08T10:14:05.302Z"
   },
   {
    "duration": 12,
    "start_time": "2022-04-08T10:14:05.569Z"
   },
   {
    "duration": 199,
    "start_time": "2022-04-08T10:14:05.583Z"
   },
   {
    "duration": 179,
    "start_time": "2022-04-08T10:14:05.784Z"
   },
   {
    "duration": 20,
    "start_time": "2022-04-08T10:14:05.965Z"
   },
   {
    "duration": 248,
    "start_time": "2022-04-08T10:14:05.986Z"
   },
   {
    "duration": 46,
    "start_time": "2022-04-08T10:14:06.236Z"
   },
   {
    "duration": 9,
    "start_time": "2022-04-08T10:17:29.051Z"
   },
   {
    "duration": 9,
    "start_time": "2022-04-08T10:17:32.613Z"
   },
   {
    "duration": 497,
    "start_time": "2022-04-08T10:18:04.460Z"
   },
   {
    "duration": 34,
    "start_time": "2022-04-08T10:18:04.959Z"
   },
   {
    "duration": 3,
    "start_time": "2022-04-08T10:18:04.995Z"
   },
   {
    "duration": 12,
    "start_time": "2022-04-08T10:18:05.000Z"
   },
   {
    "duration": 8,
    "start_time": "2022-04-08T10:18:05.014Z"
   },
   {
    "duration": 17,
    "start_time": "2022-04-08T10:18:05.024Z"
   },
   {
    "duration": 25,
    "start_time": "2022-04-08T10:18:05.042Z"
   },
   {
    "duration": 267,
    "start_time": "2022-04-08T10:18:05.069Z"
   },
   {
    "duration": 4,
    "start_time": "2022-04-08T10:18:05.337Z"
   },
   {
    "duration": 204,
    "start_time": "2022-04-08T10:18:05.342Z"
   },
   {
    "duration": 184,
    "start_time": "2022-04-08T10:18:05.548Z"
   },
   {
    "duration": 8,
    "start_time": "2022-04-08T10:18:05.734Z"
   },
   {
    "duration": 270,
    "start_time": "2022-04-08T10:18:05.744Z"
   },
   {
    "duration": 33,
    "start_time": "2022-04-08T10:18:06.016Z"
   },
   {
    "duration": 6,
    "start_time": "2022-04-08T10:18:06.051Z"
   },
   {
    "duration": 24,
    "start_time": "2022-04-08T10:18:06.058Z"
   },
   {
    "duration": 238,
    "start_time": "2022-04-08T10:25:17.021Z"
   },
   {
    "duration": 3,
    "start_time": "2022-04-08T10:33:23.640Z"
   },
   {
    "duration": 202,
    "start_time": "2022-04-08T10:33:24.512Z"
   },
   {
    "duration": 3,
    "start_time": "2022-04-08T10:39:06.344Z"
   },
   {
    "duration": 49,
    "start_time": "2022-04-08T10:39:06.349Z"
   },
   {
    "duration": 4,
    "start_time": "2022-04-08T10:39:06.400Z"
   },
   {
    "duration": 12,
    "start_time": "2022-04-08T10:39:06.405Z"
   },
   {
    "duration": 8,
    "start_time": "2022-04-08T10:39:06.420Z"
   },
   {
    "duration": 13,
    "start_time": "2022-04-08T10:39:06.430Z"
   },
   {
    "duration": 36,
    "start_time": "2022-04-08T10:39:06.445Z"
   },
   {
    "duration": 716,
    "start_time": "2022-04-08T10:39:06.484Z"
   },
   {
    "duration": 5,
    "start_time": "2022-04-08T10:39:07.202Z"
   },
   {
    "duration": 380,
    "start_time": "2022-04-08T10:39:07.209Z"
   },
   {
    "duration": 184,
    "start_time": "2022-04-08T10:39:07.591Z"
   },
   {
    "duration": 12,
    "start_time": "2022-04-08T10:39:07.776Z"
   },
   {
    "duration": 261,
    "start_time": "2022-04-08T10:39:07.789Z"
   },
   {
    "duration": 53,
    "start_time": "2022-04-08T10:39:08.053Z"
   },
   {
    "duration": 7,
    "start_time": "2022-04-08T10:39:08.108Z"
   },
   {
    "duration": 7,
    "start_time": "2022-04-08T10:39:08.117Z"
   },
   {
    "duration": 8,
    "start_time": "2022-04-08T10:39:08.125Z"
   },
   {
    "duration": 201,
    "start_time": "2022-04-08T10:39:08.135Z"
   },
   {
    "duration": 0,
    "start_time": "2022-04-08T10:39:08.337Z"
   },
   {
    "duration": 0,
    "start_time": "2022-04-08T10:39:08.338Z"
   },
   {
    "duration": 0,
    "start_time": "2022-04-08T10:39:08.339Z"
   },
   {
    "duration": 0,
    "start_time": "2022-04-08T10:39:08.341Z"
   },
   {
    "duration": 3,
    "start_time": "2022-04-08T10:40:12.481Z"
   },
   {
    "duration": 3,
    "start_time": "2022-04-08T10:40:13.992Z"
   },
   {
    "duration": 113,
    "start_time": "2022-04-08T10:40:15.432Z"
   },
   {
    "duration": 244,
    "start_time": "2022-04-08T10:40:36.777Z"
   },
   {
    "duration": 3,
    "start_time": "2022-04-08T10:40:41.712Z"
   },
   {
    "duration": 345,
    "start_time": "2022-04-08T10:40:44.092Z"
   },
   {
    "duration": 3,
    "start_time": "2022-04-08T10:40:49.812Z"
   },
   {
    "duration": 258,
    "start_time": "2022-04-08T10:40:51.712Z"
   },
   {
    "duration": 169,
    "start_time": "2022-04-08T10:41:04.212Z"
   },
   {
    "duration": 4,
    "start_time": "2022-04-08T10:41:07.592Z"
   },
   {
    "duration": 3,
    "start_time": "2022-04-08T10:42:15.312Z"
   },
   {
    "duration": 101,
    "start_time": "2022-04-08T10:42:16.372Z"
   },
   {
    "duration": 159,
    "start_time": "2022-04-08T10:42:38.231Z"
   },
   {
    "duration": 2,
    "start_time": "2022-04-08T10:42:40.332Z"
   },
   {
    "duration": 202,
    "start_time": "2022-04-08T10:42:51.212Z"
   },
   {
    "duration": 3860,
    "start_time": "2022-04-08T10:43:01.134Z"
   },
   {
    "duration": 2,
    "start_time": "2022-04-08T10:43:40.453Z"
   },
   {
    "duration": 196,
    "start_time": "2022-04-08T10:43:41.552Z"
   },
   {
    "duration": 194,
    "start_time": "2022-04-08T10:44:13.611Z"
   },
   {
    "duration": 28,
    "start_time": "2022-04-08T10:45:08.360Z"
   },
   {
    "duration": 3,
    "start_time": "2022-04-08T10:45:17.813Z"
   },
   {
    "duration": 4,
    "start_time": "2022-04-08T10:45:22.139Z"
   },
   {
    "duration": 3,
    "start_time": "2022-04-08T10:45:23.933Z"
   },
   {
    "duration": 3,
    "start_time": "2022-04-08T10:45:25.812Z"
   },
   {
    "duration": 69,
    "start_time": "2022-04-08T10:45:26.925Z"
   },
   {
    "duration": 4,
    "start_time": "2022-04-08T10:48:01.892Z"
   },
   {
    "duration": 4,
    "start_time": "2022-04-08T10:48:03.239Z"
   },
   {
    "duration": 151,
    "start_time": "2022-04-08T10:48:19.432Z"
   },
   {
    "duration": 3,
    "start_time": "2022-04-08T10:48:23.932Z"
   },
   {
    "duration": 6197,
    "start_time": "2022-04-08T10:48:25.212Z"
   },
   {
    "duration": 197,
    "start_time": "2022-04-08T10:49:08.652Z"
   },
   {
    "duration": 209,
    "start_time": "2022-04-08T10:49:19.971Z"
   },
   {
    "duration": 9,
    "start_time": "2022-04-08T10:49:40.354Z"
   },
   {
    "duration": 3,
    "start_time": "2022-04-08T10:49:47.252Z"
   },
   {
    "duration": 10,
    "start_time": "2022-04-08T10:49:54.984Z"
   },
   {
    "duration": 2,
    "start_time": "2022-04-08T10:50:00.792Z"
   },
   {
    "duration": 3,
    "start_time": "2022-04-08T10:50:03.271Z"
   },
   {
    "duration": 230,
    "start_time": "2022-04-08T10:50:07.652Z"
   },
   {
    "duration": 5,
    "start_time": "2022-04-08T10:51:12.624Z"
   },
   {
    "duration": 3,
    "start_time": "2022-04-08T10:51:17.564Z"
   },
   {
    "duration": 3,
    "start_time": "2022-04-08T10:51:20.752Z"
   },
   {
    "duration": 215,
    "start_time": "2022-04-08T10:51:22.033Z"
   },
   {
    "duration": 3,
    "start_time": "2022-04-08T10:51:31.079Z"
   },
   {
    "duration": 3,
    "start_time": "2022-04-08T10:51:33.732Z"
   },
   {
    "duration": 206,
    "start_time": "2022-04-08T10:51:36.111Z"
   },
   {
    "duration": 4,
    "start_time": "2022-04-08T10:52:41.673Z"
   },
   {
    "duration": 3,
    "start_time": "2022-04-08T10:52:44.092Z"
   },
   {
    "duration": 2760,
    "start_time": "2022-04-08T10:52:45.432Z"
   },
   {
    "duration": 4,
    "start_time": "2022-04-08T10:55:45.120Z"
   },
   {
    "duration": 3,
    "start_time": "2022-04-08T10:55:48.372Z"
   },
   {
    "duration": 3018,
    "start_time": "2022-04-08T10:55:49.773Z"
   },
   {
    "duration": 4,
    "start_time": "2022-04-08T10:56:08.453Z"
   },
   {
    "duration": 42,
    "start_time": "2022-04-08T10:56:08.460Z"
   },
   {
    "duration": 5,
    "start_time": "2022-04-08T10:56:08.504Z"
   },
   {
    "duration": 15,
    "start_time": "2022-04-08T10:56:08.511Z"
   },
   {
    "duration": 6,
    "start_time": "2022-04-08T10:56:08.528Z"
   },
   {
    "duration": 11,
    "start_time": "2022-04-08T10:56:08.536Z"
   },
   {
    "duration": 33,
    "start_time": "2022-04-08T10:56:08.548Z"
   },
   {
    "duration": 269,
    "start_time": "2022-04-08T10:56:08.582Z"
   },
   {
    "duration": 3,
    "start_time": "2022-04-08T10:56:08.853Z"
   },
   {
    "duration": 214,
    "start_time": "2022-04-08T10:56:08.858Z"
   },
   {
    "duration": 189,
    "start_time": "2022-04-08T10:56:09.074Z"
   },
   {
    "duration": 19,
    "start_time": "2022-04-08T10:56:09.266Z"
   },
   {
    "duration": 373,
    "start_time": "2022-04-08T10:56:09.287Z"
   },
   {
    "duration": 45,
    "start_time": "2022-04-08T10:56:09.662Z"
   },
   {
    "duration": 7,
    "start_time": "2022-04-08T10:56:09.708Z"
   },
   {
    "duration": 8,
    "start_time": "2022-04-08T10:56:09.717Z"
   },
   {
    "duration": 8,
    "start_time": "2022-04-08T10:56:09.727Z"
   },
   {
    "duration": 6,
    "start_time": "2022-04-08T10:56:09.737Z"
   },
   {
    "duration": 5,
    "start_time": "2022-04-08T10:56:09.745Z"
   },
   {
    "duration": 139,
    "start_time": "2022-04-08T10:56:09.752Z"
   },
   {
    "duration": 6,
    "start_time": "2022-04-08T10:56:09.980Z"
   },
   {
    "duration": 1406,
    "start_time": "2022-04-08T10:56:09.988Z"
   },
   {
    "duration": 10,
    "start_time": "2022-04-08T10:57:32.592Z"
   },
   {
    "duration": 1300,
    "start_time": "2022-04-08T10:57:50.493Z"
   },
   {
    "duration": 187,
    "start_time": "2022-04-08T10:59:45.073Z"
   },
   {
    "duration": 208,
    "start_time": "2022-04-08T10:59:55.091Z"
   },
   {
    "duration": 4,
    "start_time": "2022-04-08T10:59:57.837Z"
   },
   {
    "duration": 242,
    "start_time": "2022-04-08T11:00:00.257Z"
   },
   {
    "duration": 1405,
    "start_time": "2022-04-08T11:00:12.793Z"
   },
   {
    "duration": 225,
    "start_time": "2022-04-08T11:00:18.542Z"
   },
   {
    "duration": 1317,
    "start_time": "2022-04-08T11:00:29.104Z"
   },
   {
    "duration": 4,
    "start_time": "2022-04-08T11:00:50.440Z"
   },
   {
    "duration": 3035,
    "start_time": "2022-04-08T11:00:53.892Z"
   },
   {
    "duration": 2632,
    "start_time": "2022-04-08T11:01:05.375Z"
   },
   {
    "duration": 4,
    "start_time": "2022-04-08T11:03:02.173Z"
   },
   {
    "duration": 2483,
    "start_time": "2022-04-08T11:03:07.412Z"
   },
   {
    "duration": 231,
    "start_time": "2022-04-08T11:08:30.040Z"
   },
   {
    "duration": 5,
    "start_time": "2022-04-08T11:08:41.172Z"
   },
   {
    "duration": 3,
    "start_time": "2022-04-08T11:08:44.524Z"
   },
   {
    "duration": 4290,
    "start_time": "2022-04-08T11:08:45.412Z"
   },
   {
    "duration": 4,
    "start_time": "2022-04-08T11:09:04.373Z"
   },
   {
    "duration": 2400,
    "start_time": "2022-04-08T11:09:07.092Z"
   },
   {
    "duration": 4,
    "start_time": "2022-04-08T11:10:15.493Z"
   },
   {
    "duration": 3564,
    "start_time": "2022-04-08T11:10:28.733Z"
   },
   {
    "duration": 4,
    "start_time": "2022-04-08T11:11:03.996Z"
   },
   {
    "duration": 1260,
    "start_time": "2022-04-08T11:11:06.932Z"
   },
   {
    "duration": 5,
    "start_time": "2022-04-08T11:16:59.235Z"
   },
   {
    "duration": 264,
    "start_time": "2022-04-08T11:17:58.749Z"
   },
   {
    "duration": 2490,
    "start_time": "2022-04-08T11:18:01.832Z"
   },
   {
    "duration": 4,
    "start_time": "2022-04-08T11:19:29.394Z"
   },
   {
    "duration": 3711,
    "start_time": "2022-04-08T11:19:33.071Z"
   },
   {
    "duration": 4,
    "start_time": "2022-04-08T11:20:59.032Z"
   },
   {
    "duration": 4,
    "start_time": "2022-04-08T11:21:02.632Z"
   },
   {
    "duration": 4580,
    "start_time": "2022-04-08T11:21:08.833Z"
   },
   {
    "duration": 4,
    "start_time": "2022-04-08T11:21:29.832Z"
   },
   {
    "duration": 3,
    "start_time": "2022-04-08T11:21:32.693Z"
   },
   {
    "duration": 4552,
    "start_time": "2022-04-08T11:21:35.932Z"
   },
   {
    "duration": 3490,
    "start_time": "2022-04-08T11:22:16.292Z"
   },
   {
    "duration": 3,
    "start_time": "2022-04-08T11:22:24.833Z"
   },
   {
    "duration": 68,
    "start_time": "2022-04-08T11:23:31.913Z"
   },
   {
    "duration": 3,
    "start_time": "2022-04-08T11:23:33.604Z"
   },
   {
    "duration": 3348,
    "start_time": "2022-04-08T11:23:34.252Z"
   },
   {
    "duration": 5,
    "start_time": "2022-04-08T11:23:42.253Z"
   },
   {
    "duration": 1569,
    "start_time": "2022-04-08T11:23:44.613Z"
   },
   {
    "duration": 93,
    "start_time": "2022-04-08T11:25:38.312Z"
   },
   {
    "duration": 5922,
    "start_time": "2022-04-08T11:25:45.952Z"
   },
   {
    "duration": 201,
    "start_time": "2022-04-08T11:28:57.192Z"
   },
   {
    "duration": 2,
    "start_time": "2022-04-08T11:29:00.513Z"
   },
   {
    "duration": 5029,
    "start_time": "2022-04-08T11:29:01.332Z"
   },
   {
    "duration": 3,
    "start_time": "2022-04-08T11:29:41.572Z"
   },
   {
    "duration": 129891,
    "start_time": "2022-04-08T11:29:43.764Z"
   },
   {
    "duration": 2196,
    "start_time": "2022-04-08T11:32:25.850Z"
   },
   {
    "duration": 886,
    "start_time": "2022-04-08T11:32:28.048Z"
   },
   {
    "duration": 6,
    "start_time": "2022-04-08T11:32:28.936Z"
   },
   {
    "duration": 13,
    "start_time": "2022-04-08T11:32:28.944Z"
   },
   {
    "duration": 12,
    "start_time": "2022-04-08T11:32:28.960Z"
   },
   {
    "duration": 18,
    "start_time": "2022-04-08T11:32:28.974Z"
   },
   {
    "duration": 8,
    "start_time": "2022-04-08T11:32:28.994Z"
   },
   {
    "duration": 286,
    "start_time": "2022-04-08T11:32:29.003Z"
   },
   {
    "duration": 4,
    "start_time": "2022-04-08T11:32:29.291Z"
   },
   {
    "duration": 272,
    "start_time": "2022-04-08T11:32:29.296Z"
   },
   {
    "duration": 182,
    "start_time": "2022-04-08T11:32:29.570Z"
   },
   {
    "duration": 8,
    "start_time": "2022-04-08T11:32:29.754Z"
   },
   {
    "duration": 280,
    "start_time": "2022-04-08T11:32:29.763Z"
   },
   {
    "duration": 46,
    "start_time": "2022-04-08T11:32:30.045Z"
   },
   {
    "duration": 6,
    "start_time": "2022-04-08T11:32:30.093Z"
   },
   {
    "duration": 7,
    "start_time": "2022-04-08T11:32:30.101Z"
   },
   {
    "duration": 6,
    "start_time": "2022-04-08T11:32:30.109Z"
   },
   {
    "duration": 5,
    "start_time": "2022-04-08T11:32:30.116Z"
   },
   {
    "duration": 7,
    "start_time": "2022-04-08T11:32:30.122Z"
   },
   {
    "duration": 11,
    "start_time": "2022-04-08T11:32:30.130Z"
   },
   {
    "duration": 154,
    "start_time": "2022-04-08T11:32:30.143Z"
   },
   {
    "duration": 3,
    "start_time": "2022-04-08T11:32:30.299Z"
   },
   {
    "duration": 4487,
    "start_time": "2022-04-08T11:32:30.303Z"
   },
   {
    "duration": 4,
    "start_time": "2022-04-08T11:32:34.882Z"
   },
   {
    "duration": 5869,
    "start_time": "2022-04-08T11:32:34.887Z"
   },
   {
    "duration": 3,
    "start_time": "2022-04-08T11:32:40.757Z"
   },
   {
    "duration": 30665,
    "start_time": "2022-04-08T11:32:40.762Z"
   },
   {
    "duration": 3,
    "start_time": "2022-04-08T11:33:28.873Z"
   },
   {
    "duration": 4,
    "start_time": "2022-04-08T11:33:52.603Z"
   },
   {
    "duration": 37,
    "start_time": "2022-04-08T11:33:52.609Z"
   },
   {
    "duration": 5,
    "start_time": "2022-04-08T11:33:52.648Z"
   },
   {
    "duration": 10,
    "start_time": "2022-04-08T11:33:52.655Z"
   },
   {
    "duration": 7,
    "start_time": "2022-04-08T11:33:52.666Z"
   },
   {
    "duration": 15,
    "start_time": "2022-04-08T11:33:52.675Z"
   },
   {
    "duration": 7,
    "start_time": "2022-04-08T11:33:52.692Z"
   },
   {
    "duration": 423,
    "start_time": "2022-04-08T11:33:52.701Z"
   },
   {
    "duration": 5,
    "start_time": "2022-04-08T11:33:53.128Z"
   },
   {
    "duration": 341,
    "start_time": "2022-04-08T11:33:53.134Z"
   },
   {
    "duration": 284,
    "start_time": "2022-04-08T11:33:53.482Z"
   },
   {
    "duration": 17,
    "start_time": "2022-04-08T11:33:53.768Z"
   },
   {
    "duration": 257,
    "start_time": "2022-04-08T11:33:53.787Z"
   },
   {
    "duration": 46,
    "start_time": "2022-04-08T11:33:54.045Z"
   },
   {
    "duration": 6,
    "start_time": "2022-04-08T11:33:54.093Z"
   },
   {
    "duration": 6,
    "start_time": "2022-04-08T11:33:54.101Z"
   },
   {
    "duration": 4,
    "start_time": "2022-04-08T11:33:54.109Z"
   },
   {
    "duration": 10,
    "start_time": "2022-04-08T11:33:54.115Z"
   },
   {
    "duration": 8,
    "start_time": "2022-04-08T11:33:54.126Z"
   },
   {
    "duration": 11,
    "start_time": "2022-04-08T11:33:54.136Z"
   },
   {
    "duration": 41,
    "start_time": "2022-04-08T11:33:54.149Z"
   },
   {
    "duration": 91,
    "start_time": "2022-04-08T11:33:54.192Z"
   },
   {
    "duration": 1804,
    "start_time": "2022-04-08T11:33:54.285Z"
   },
   {
    "duration": 89,
    "start_time": "2022-04-08T11:33:56.091Z"
   },
   {
    "duration": 1771,
    "start_time": "2022-04-08T11:34:04.494Z"
   },
   {
    "duration": 35,
    "start_time": "2022-04-08T11:34:06.267Z"
   },
   {
    "duration": 5,
    "start_time": "2022-04-08T11:34:06.303Z"
   },
   {
    "duration": 13,
    "start_time": "2022-04-08T11:34:06.310Z"
   },
   {
    "duration": 7,
    "start_time": "2022-04-08T11:34:06.325Z"
   },
   {
    "duration": 12,
    "start_time": "2022-04-08T11:34:06.333Z"
   },
   {
    "duration": 6,
    "start_time": "2022-04-08T11:34:06.347Z"
   },
   {
    "duration": 315,
    "start_time": "2022-04-08T11:34:06.354Z"
   },
   {
    "duration": 3,
    "start_time": "2022-04-08T11:34:06.672Z"
   },
   {
    "duration": 283,
    "start_time": "2022-04-08T11:34:06.678Z"
   },
   {
    "duration": 177,
    "start_time": "2022-04-08T11:34:06.963Z"
   },
   {
    "duration": 8,
    "start_time": "2022-04-08T11:34:07.142Z"
   },
   {
    "duration": 278,
    "start_time": "2022-04-08T11:34:07.152Z"
   },
   {
    "duration": 49,
    "start_time": "2022-04-08T11:34:07.432Z"
   },
   {
    "duration": 7,
    "start_time": "2022-04-08T11:34:07.483Z"
   },
   {
    "duration": 7,
    "start_time": "2022-04-08T11:34:07.491Z"
   },
   {
    "duration": 5,
    "start_time": "2022-04-08T11:34:07.499Z"
   },
   {
    "duration": 6,
    "start_time": "2022-04-08T11:34:07.505Z"
   },
   {
    "duration": 6,
    "start_time": "2022-04-08T11:34:07.512Z"
   },
   {
    "duration": 5,
    "start_time": "2022-04-08T11:34:07.520Z"
   },
   {
    "duration": 155,
    "start_time": "2022-04-08T11:34:07.527Z"
   },
   {
    "duration": 3,
    "start_time": "2022-04-08T11:34:07.684Z"
   },
   {
    "duration": 2102,
    "start_time": "2022-04-08T11:34:07.689Z"
   },
   {
    "duration": 3,
    "start_time": "2022-04-08T11:34:09.882Z"
   },
   {
    "duration": 5819,
    "start_time": "2022-04-08T11:34:09.887Z"
   },
   {
    "duration": 2,
    "start_time": "2022-04-08T11:34:15.708Z"
   },
   {
    "duration": 38547,
    "start_time": "2022-04-08T11:34:15.712Z"
   },
   {
    "duration": 4,
    "start_time": "2022-04-08T11:40:51.985Z"
   },
   {
    "duration": 60859,
    "start_time": "2022-04-08T11:40:53.232Z"
   },
   {
    "duration": 4,
    "start_time": "2022-04-08T11:42:23.493Z"
   },
   {
    "duration": 228543,
    "start_time": "2022-04-08T11:42:24.373Z"
   },
   {
    "duration": 3,
    "start_time": "2022-04-08T11:46:28.752Z"
   },
   {
    "duration": 50456,
    "start_time": "2022-04-08T11:46:31.432Z"
   },
   {
    "duration": 4,
    "start_time": "2022-04-08T11:47:34.233Z"
   },
   {
    "duration": 52,
    "start_time": "2022-04-08T11:47:34.239Z"
   },
   {
    "duration": 4,
    "start_time": "2022-04-08T11:47:34.293Z"
   },
   {
    "duration": 11,
    "start_time": "2022-04-08T11:47:34.298Z"
   },
   {
    "duration": 6,
    "start_time": "2022-04-08T11:47:34.311Z"
   },
   {
    "duration": 16,
    "start_time": "2022-04-08T11:47:34.319Z"
   },
   {
    "duration": 5,
    "start_time": "2022-04-08T11:47:34.337Z"
   },
   {
    "duration": 277,
    "start_time": "2022-04-08T11:47:34.344Z"
   },
   {
    "duration": 4,
    "start_time": "2022-04-08T11:47:34.623Z"
   },
   {
    "duration": 211,
    "start_time": "2022-04-08T11:47:34.628Z"
   },
   {
    "duration": 180,
    "start_time": "2022-04-08T11:47:34.841Z"
   },
   {
    "duration": 9,
    "start_time": "2022-04-08T11:47:35.022Z"
   },
   {
    "duration": 278,
    "start_time": "2022-04-08T11:47:35.032Z"
   },
   {
    "duration": 34,
    "start_time": "2022-04-08T11:47:35.314Z"
   },
   {
    "duration": 7,
    "start_time": "2022-04-08T11:47:35.350Z"
   },
   {
    "duration": 24,
    "start_time": "2022-04-08T11:47:35.359Z"
   },
   {
    "duration": 7,
    "start_time": "2022-04-08T11:47:35.385Z"
   },
   {
    "duration": 6,
    "start_time": "2022-04-08T11:47:35.393Z"
   },
   {
    "duration": 12,
    "start_time": "2022-04-08T11:47:35.400Z"
   },
   {
    "duration": 10,
    "start_time": "2022-04-08T11:47:35.413Z"
   },
   {
    "duration": 156,
    "start_time": "2022-04-08T11:47:35.425Z"
   },
   {
    "duration": 4,
    "start_time": "2022-04-08T11:47:35.583Z"
   },
   {
    "duration": 2004,
    "start_time": "2022-04-08T11:47:35.589Z"
   },
   {
    "duration": 87,
    "start_time": "2022-04-08T11:47:37.595Z"
   },
   {
    "duration": 5962,
    "start_time": "2022-04-08T11:47:37.684Z"
   },
   {
    "duration": 3,
    "start_time": "2022-04-08T11:47:43.648Z"
   },
   {
    "duration": 36970,
    "start_time": "2022-04-08T11:47:43.652Z"
   },
   {
    "duration": 3,
    "start_time": "2022-04-08T11:48:20.623Z"
   },
   {
    "duration": 52859,
    "start_time": "2022-04-08T11:48:20.627Z"
   },
   {
    "duration": 3,
    "start_time": "2022-04-08T11:49:13.487Z"
   },
   {
    "duration": 127400,
    "start_time": "2022-04-08T11:49:13.492Z"
   },
   {
    "duration": 3,
    "start_time": "2022-04-08T11:54:28.132Z"
   },
   {
    "duration": 14650,
    "start_time": "2022-04-08T11:54:29.432Z"
   },
   {
    "duration": 3,
    "start_time": "2022-04-08T11:56:52.132Z"
   },
   {
    "duration": 18992,
    "start_time": "2022-04-08T11:56:57.152Z"
   },
   {
    "duration": 3,
    "start_time": "2022-04-08T11:58:28.672Z"
   },
   {
    "duration": 6819,
    "start_time": "2022-04-08T11:58:30.273Z"
   },
   {
    "duration": 3,
    "start_time": "2022-04-08T11:59:01.592Z"
   },
   {
    "duration": 205,
    "start_time": "2022-04-08T12:04:17.112Z"
   },
   {
    "duration": 3,
    "start_time": "2022-04-08T12:04:24.712Z"
   },
   {
    "duration": 56296,
    "start_time": "2022-04-08T12:04:26.092Z"
   },
   {
    "duration": 3,
    "start_time": "2022-04-08T12:05:22.389Z"
   },
   {
    "duration": 3,
    "start_time": "2022-04-08T12:05:26.012Z"
   },
   {
    "duration": 9101,
    "start_time": "2022-04-08T12:05:29.212Z"
   },
   {
    "duration": 3,
    "start_time": "2022-04-08T12:06:17.093Z"
   },
   {
    "duration": 78463,
    "start_time": "2022-04-08T12:06:19.092Z"
   },
   {
    "duration": 3,
    "start_time": "2022-04-08T12:07:56.492Z"
   },
   {
    "duration": 3,
    "start_time": "2022-04-08T12:08:07.489Z"
   },
   {
    "duration": 22331,
    "start_time": "2022-04-08T12:08:08.924Z"
   },
   {
    "duration": 11,
    "start_time": "2022-04-08T12:09:00.932Z"
   },
   {
    "duration": 3,
    "start_time": "2022-04-08T12:09:10.212Z"
   },
   {
    "duration": 4999,
    "start_time": "2022-04-08T12:09:11.985Z"
   },
   {
    "duration": 2,
    "start_time": "2022-04-08T12:09:24.693Z"
   },
   {
    "duration": 20214,
    "start_time": "2022-04-08T12:09:53.831Z"
   },
   {
    "duration": 1794,
    "start_time": "2022-04-08T12:10:34.494Z"
   },
   {
    "duration": 2,
    "start_time": "2022-04-08T12:10:38.712Z"
   },
   {
    "duration": 3,
    "start_time": "2022-04-08T12:10:48.227Z"
   },
   {
    "duration": 259,
    "start_time": "2022-04-08T12:10:49.180Z"
   },
   {
    "duration": 2,
    "start_time": "2022-04-08T12:11:02.272Z"
   },
   {
    "duration": 3221,
    "start_time": "2022-04-08T12:11:04.964Z"
   },
   {
    "duration": 9,
    "start_time": "2022-04-08T12:11:29.112Z"
   },
   {
    "duration": 3,
    "start_time": "2022-04-08T12:11:33.732Z"
   },
   {
    "duration": 1855,
    "start_time": "2022-04-08T12:11:37.732Z"
   },
   {
    "duration": 3,
    "start_time": "2022-04-08T12:11:49.292Z"
   },
   {
    "duration": 44561,
    "start_time": "2022-04-08T12:11:50.732Z"
   },
   {
    "duration": 233,
    "start_time": "2022-04-08T12:17:54.307Z"
   },
   {
    "duration": 16,
    "start_time": "2022-04-08T12:18:05.134Z"
   },
   {
    "duration": 4,
    "start_time": "2022-04-08T12:18:25.921Z"
   },
   {
    "duration": 22,
    "start_time": "2022-04-08T12:20:32.579Z"
   },
   {
    "duration": 3,
    "start_time": "2022-04-08T12:20:55.881Z"
   },
   {
    "duration": 51,
    "start_time": "2022-04-08T12:20:55.886Z"
   },
   {
    "duration": 5,
    "start_time": "2022-04-08T12:20:55.939Z"
   },
   {
    "duration": 11,
    "start_time": "2022-04-08T12:20:55.945Z"
   },
   {
    "duration": 8,
    "start_time": "2022-04-08T12:20:55.959Z"
   },
   {
    "duration": 21,
    "start_time": "2022-04-08T12:20:55.969Z"
   },
   {
    "duration": 6,
    "start_time": "2022-04-08T12:20:55.992Z"
   },
   {
    "duration": 342,
    "start_time": "2022-04-08T12:20:55.999Z"
   },
   {
    "duration": 4,
    "start_time": "2022-04-08T12:20:56.342Z"
   },
   {
    "duration": 209,
    "start_time": "2022-04-08T12:20:56.348Z"
   },
   {
    "duration": 174,
    "start_time": "2022-04-08T12:20:56.559Z"
   },
   {
    "duration": 8,
    "start_time": "2022-04-08T12:20:56.735Z"
   },
   {
    "duration": 265,
    "start_time": "2022-04-08T12:20:56.745Z"
   },
   {
    "duration": 32,
    "start_time": "2022-04-08T12:20:57.013Z"
   },
   {
    "duration": 6,
    "start_time": "2022-04-08T12:20:57.047Z"
   },
   {
    "duration": 4,
    "start_time": "2022-04-08T12:20:57.055Z"
   },
   {
    "duration": 4,
    "start_time": "2022-04-08T12:20:57.081Z"
   },
   {
    "duration": 6,
    "start_time": "2022-04-08T12:20:57.086Z"
   },
   {
    "duration": 10,
    "start_time": "2022-04-08T12:20:57.093Z"
   },
   {
    "duration": 10,
    "start_time": "2022-04-08T12:20:57.104Z"
   },
   {
    "duration": 172,
    "start_time": "2022-04-08T12:20:57.116Z"
   },
   {
    "duration": 6,
    "start_time": "2022-04-08T12:20:57.290Z"
   },
   {
    "duration": 1890,
    "start_time": "2022-04-08T12:20:57.299Z"
   },
   {
    "duration": 89,
    "start_time": "2022-04-08T12:20:59.192Z"
   },
   {
    "duration": 5249,
    "start_time": "2022-04-08T12:20:59.284Z"
   },
   {
    "duration": 3,
    "start_time": "2022-04-08T12:21:04.534Z"
   },
   {
    "duration": 20715,
    "start_time": "2022-04-08T12:21:04.539Z"
   },
   {
    "duration": 3,
    "start_time": "2022-04-08T12:21:25.256Z"
   },
   {
    "duration": 166123,
    "start_time": "2022-04-08T12:21:25.260Z"
   },
   {
    "duration": 4,
    "start_time": "2022-04-08T12:24:11.384Z"
   },
   {
    "duration": 382495,
    "start_time": "2022-04-08T12:24:11.390Z"
   },
   {
    "duration": 4,
    "start_time": "2022-04-08T12:30:33.887Z"
   },
   {
    "duration": 23,
    "start_time": "2022-04-08T12:30:33.892Z"
   },
   {
    "duration": 37,
    "start_time": "2022-04-08T12:32:54.199Z"
   },
   {
    "duration": 4,
    "start_time": "2022-04-08T12:32:58.572Z"
   },
   {
    "duration": 45,
    "start_time": "2022-04-08T12:32:58.578Z"
   },
   {
    "duration": 4,
    "start_time": "2022-04-08T12:32:58.624Z"
   },
   {
    "duration": 11,
    "start_time": "2022-04-08T12:32:58.629Z"
   },
   {
    "duration": 6,
    "start_time": "2022-04-08T12:32:58.642Z"
   },
   {
    "duration": 10,
    "start_time": "2022-04-08T12:32:58.649Z"
   },
   {
    "duration": 20,
    "start_time": "2022-04-08T12:32:58.661Z"
   },
   {
    "duration": 264,
    "start_time": "2022-04-08T12:32:58.682Z"
   },
   {
    "duration": 4,
    "start_time": "2022-04-08T12:32:58.948Z"
   },
   {
    "duration": 212,
    "start_time": "2022-04-08T12:32:58.953Z"
   },
   {
    "duration": 182,
    "start_time": "2022-04-08T12:32:59.167Z"
   },
   {
    "duration": 8,
    "start_time": "2022-04-08T12:32:59.350Z"
   },
   {
    "duration": 380,
    "start_time": "2022-04-08T12:32:59.360Z"
   },
   {
    "duration": 62,
    "start_time": "2022-04-08T12:32:59.742Z"
   },
   {
    "duration": 7,
    "start_time": "2022-04-08T12:32:59.805Z"
   },
   {
    "duration": 7,
    "start_time": "2022-04-08T12:32:59.813Z"
   },
   {
    "duration": 10,
    "start_time": "2022-04-08T12:32:59.821Z"
   },
   {
    "duration": 14,
    "start_time": "2022-04-08T12:32:59.833Z"
   },
   {
    "duration": 6,
    "start_time": "2022-04-08T12:32:59.848Z"
   },
   {
    "duration": 7,
    "start_time": "2022-04-08T12:32:59.856Z"
   },
   {
    "duration": 222,
    "start_time": "2022-04-08T12:32:59.865Z"
   },
   {
    "duration": 4,
    "start_time": "2022-04-08T12:33:00.089Z"
   },
   {
    "duration": 4899,
    "start_time": "2022-04-08T12:33:00.095Z"
   },
   {
    "duration": 84,
    "start_time": "2022-04-08T12:33:05.002Z"
   },
   {
    "duration": 7712,
    "start_time": "2022-04-08T12:33:05.088Z"
   },
   {
    "duration": 3,
    "start_time": "2022-04-08T12:33:12.801Z"
   },
   {
    "duration": 21060,
    "start_time": "2022-04-08T12:33:12.805Z"
   },
   {
    "duration": 3,
    "start_time": "2022-04-08T12:33:33.866Z"
   },
   {
    "duration": 4830,
    "start_time": "2022-04-08T12:33:33.871Z"
   },
   {
    "duration": 3,
    "start_time": "2022-04-08T12:33:38.703Z"
   },
   {
    "duration": 47977,
    "start_time": "2022-04-08T12:33:38.708Z"
   },
   {
    "duration": 6,
    "start_time": "2022-04-08T12:34:26.690Z"
   },
   {
    "duration": 10,
    "start_time": "2022-04-08T12:34:26.697Z"
   },
   {
    "duration": 4,
    "start_time": "2022-04-08T12:36:40.282Z"
   },
   {
    "duration": 46,
    "start_time": "2022-04-08T12:36:40.288Z"
   },
   {
    "duration": 4,
    "start_time": "2022-04-08T12:36:40.335Z"
   },
   {
    "duration": 12,
    "start_time": "2022-04-08T12:36:40.341Z"
   },
   {
    "duration": 6,
    "start_time": "2022-04-08T12:36:40.355Z"
   },
   {
    "duration": 23,
    "start_time": "2022-04-08T12:36:40.362Z"
   },
   {
    "duration": 10,
    "start_time": "2022-04-08T12:36:40.386Z"
   },
   {
    "duration": 248,
    "start_time": "2022-04-08T12:36:40.398Z"
   },
   {
    "duration": 4,
    "start_time": "2022-04-08T12:36:40.648Z"
   },
   {
    "duration": 209,
    "start_time": "2022-04-08T12:36:40.653Z"
   },
   {
    "duration": 173,
    "start_time": "2022-04-08T12:36:40.864Z"
   },
   {
    "duration": 8,
    "start_time": "2022-04-08T12:36:41.038Z"
   },
   {
    "duration": 290,
    "start_time": "2022-04-08T12:36:41.047Z"
   },
   {
    "duration": 55,
    "start_time": "2022-04-08T12:36:41.340Z"
   },
   {
    "duration": 10,
    "start_time": "2022-04-08T12:36:41.397Z"
   },
   {
    "duration": 8,
    "start_time": "2022-04-08T12:36:41.409Z"
   },
   {
    "duration": 6,
    "start_time": "2022-04-08T12:36:41.419Z"
   },
   {
    "duration": 7,
    "start_time": "2022-04-08T12:36:41.426Z"
   },
   {
    "duration": 7,
    "start_time": "2022-04-08T12:36:41.434Z"
   },
   {
    "duration": 6,
    "start_time": "2022-04-08T12:36:41.442Z"
   },
   {
    "duration": 155,
    "start_time": "2022-04-08T12:36:41.449Z"
   },
   {
    "duration": 5,
    "start_time": "2022-04-08T12:36:41.682Z"
   },
   {
    "duration": 3016,
    "start_time": "2022-04-08T12:36:41.688Z"
   },
   {
    "duration": 83,
    "start_time": "2022-04-08T12:36:44.706Z"
   },
   {
    "duration": 7673,
    "start_time": "2022-04-08T12:36:44.793Z"
   },
   {
    "duration": 2,
    "start_time": "2022-04-08T12:36:52.468Z"
   },
   {
    "duration": 156133,
    "start_time": "2022-04-08T12:36:52.471Z"
   },
   {
    "duration": 4,
    "start_time": "2022-04-08T12:39:28.606Z"
   },
   {
    "duration": 5383,
    "start_time": "2022-04-08T12:39:28.611Z"
   },
   {
    "duration": 3,
    "start_time": "2022-04-08T12:39:33.996Z"
   },
   {
    "duration": 307588,
    "start_time": "2022-04-08T12:39:34.000Z"
   },
   {
    "duration": 5,
    "start_time": "2022-04-08T12:44:41.593Z"
   },
   {
    "duration": 11,
    "start_time": "2022-04-08T12:44:41.599Z"
   },
   {
    "duration": 15,
    "start_time": "2022-04-08T12:45:44.952Z"
   },
   {
    "duration": 4281,
    "start_time": "2022-04-08T12:45:49.412Z"
   },
   {
    "duration": 9,
    "start_time": "2022-04-08T12:54:39.924Z"
   },
   {
    "duration": 4,
    "start_time": "2022-04-08T12:55:08.494Z"
   },
   {
    "duration": 2,
    "start_time": "2022-04-08T12:55:22.932Z"
   },
   {
    "duration": 16,
    "start_time": "2022-04-08T12:55:25.694Z"
   },
   {
    "duration": 3,
    "start_time": "2022-04-08T12:55:40.652Z"
   },
   {
    "duration": 1232,
    "start_time": "2022-04-08T12:55:42.751Z"
   },
   {
    "duration": 3,
    "start_time": "2022-04-08T12:56:15.032Z"
   },
   {
    "duration": 3,
    "start_time": "2022-04-08T12:56:22.933Z"
   },
   {
    "duration": 235,
    "start_time": "2022-04-08T12:56:23.751Z"
   },
   {
    "duration": 3,
    "start_time": "2022-04-08T12:56:25.094Z"
   },
   {
    "duration": 7360,
    "start_time": "2022-04-08T12:56:26.024Z"
   },
   {
    "duration": 15,
    "start_time": "2022-04-08T12:57:13.912Z"
   },
   {
    "duration": 6,
    "start_time": "2022-04-08T12:57:46.780Z"
   },
   {
    "duration": 2,
    "start_time": "2022-04-08T12:57:53.232Z"
   },
   {
    "duration": 290,
    "start_time": "2022-04-08T12:57:54.294Z"
   },
   {
    "duration": 3,
    "start_time": "2022-04-08T12:57:55.712Z"
   },
   {
    "duration": 6617,
    "start_time": "2022-04-08T12:57:56.772Z"
   },
   {
    "duration": 5,
    "start_time": "2022-04-08T13:02:22.155Z"
   },
   {
    "duration": 65,
    "start_time": "2022-04-08T13:02:22.162Z"
   },
   {
    "duration": 5,
    "start_time": "2022-04-08T13:02:22.229Z"
   },
   {
    "duration": 14,
    "start_time": "2022-04-08T13:02:22.236Z"
   },
   {
    "duration": 8,
    "start_time": "2022-04-08T13:02:22.251Z"
   },
   {
    "duration": 32,
    "start_time": "2022-04-08T13:02:22.261Z"
   },
   {
    "duration": 6,
    "start_time": "2022-04-08T13:02:22.295Z"
   },
   {
    "duration": 258,
    "start_time": "2022-04-08T13:02:22.303Z"
   },
   {
    "duration": 4,
    "start_time": "2022-04-08T13:02:22.563Z"
   },
   {
    "duration": 339,
    "start_time": "2022-04-08T13:02:22.568Z"
   },
   {
    "duration": 185,
    "start_time": "2022-04-08T13:02:22.908Z"
   },
   {
    "duration": 9,
    "start_time": "2022-04-08T13:02:23.095Z"
   },
   {
    "duration": 294,
    "start_time": "2022-04-08T13:02:23.106Z"
   },
   {
    "duration": 43,
    "start_time": "2022-04-08T13:02:23.402Z"
   },
   {
    "duration": 6,
    "start_time": "2022-04-08T13:02:23.446Z"
   },
   {
    "duration": 9,
    "start_time": "2022-04-08T13:02:23.454Z"
   },
   {
    "duration": 4,
    "start_time": "2022-04-08T13:02:23.483Z"
   },
   {
    "duration": 16,
    "start_time": "2022-04-08T13:02:23.490Z"
   },
   {
    "duration": 14,
    "start_time": "2022-04-08T13:02:23.507Z"
   },
   {
    "duration": 7,
    "start_time": "2022-04-08T13:02:23.523Z"
   },
   {
    "duration": 359,
    "start_time": "2022-04-08T13:02:23.532Z"
   },
   {
    "duration": 11,
    "start_time": "2022-04-08T13:02:23.900Z"
   },
   {
    "duration": 7712,
    "start_time": "2022-04-08T13:02:23.987Z"
   },
   {
    "duration": 86,
    "start_time": "2022-04-08T13:02:31.703Z"
   },
   {
    "duration": 7734,
    "start_time": "2022-04-08T13:02:31.791Z"
   },
   {
    "duration": 3,
    "start_time": "2022-04-08T13:02:39.527Z"
   },
   {
    "duration": 171525,
    "start_time": "2022-04-08T13:02:39.532Z"
   },
   {
    "duration": 3,
    "start_time": "2022-04-08T13:05:31.059Z"
   },
   {
    "duration": 185426,
    "start_time": "2022-04-08T13:05:31.064Z"
   },
   {
    "duration": 7,
    "start_time": "2022-04-08T13:08:36.494Z"
   },
   {
    "duration": 659265,
    "start_time": "2022-04-08T13:08:36.503Z"
   },
   {
    "duration": 17,
    "start_time": "2022-04-08T13:19:35.770Z"
   },
   {
    "duration": 5,
    "start_time": "2022-04-08T13:20:18.052Z"
   },
   {
    "duration": 44,
    "start_time": "2022-04-08T13:20:18.059Z"
   },
   {
    "duration": 11,
    "start_time": "2022-04-08T13:20:18.106Z"
   },
   {
    "duration": 12,
    "start_time": "2022-04-08T13:20:18.124Z"
   },
   {
    "duration": 7,
    "start_time": "2022-04-08T13:20:18.139Z"
   },
   {
    "duration": 15,
    "start_time": "2022-04-08T13:20:18.148Z"
   },
   {
    "duration": 18,
    "start_time": "2022-04-08T13:20:18.165Z"
   },
   {
    "duration": 362,
    "start_time": "2022-04-08T13:20:18.185Z"
   },
   {
    "duration": 4,
    "start_time": "2022-04-08T13:20:18.549Z"
   },
   {
    "duration": 229,
    "start_time": "2022-04-08T13:20:18.556Z"
   },
   {
    "duration": 198,
    "start_time": "2022-04-08T13:20:18.788Z"
   },
   {
    "duration": 9,
    "start_time": "2022-04-08T13:20:18.988Z"
   },
   {
    "duration": 245,
    "start_time": "2022-04-08T13:20:18.999Z"
   },
   {
    "duration": 83,
    "start_time": "2022-04-08T13:20:19.245Z"
   },
   {
    "duration": 10,
    "start_time": "2022-04-08T13:20:19.330Z"
   },
   {
    "duration": 0,
    "start_time": "2022-04-08T13:20:19.342Z"
   },
   {
    "duration": 0,
    "start_time": "2022-04-08T13:20:19.343Z"
   },
   {
    "duration": 0,
    "start_time": "2022-04-08T13:20:19.345Z"
   },
   {
    "duration": 0,
    "start_time": "2022-04-08T13:20:19.347Z"
   },
   {
    "duration": 0,
    "start_time": "2022-04-08T13:20:19.348Z"
   },
   {
    "duration": 0,
    "start_time": "2022-04-08T13:20:19.350Z"
   },
   {
    "duration": 0,
    "start_time": "2022-04-08T13:20:19.352Z"
   },
   {
    "duration": 0,
    "start_time": "2022-04-08T13:20:19.381Z"
   },
   {
    "duration": 0,
    "start_time": "2022-04-08T13:20:19.383Z"
   },
   {
    "duration": 0,
    "start_time": "2022-04-08T13:20:19.384Z"
   },
   {
    "duration": 0,
    "start_time": "2022-04-08T13:20:19.385Z"
   },
   {
    "duration": 0,
    "start_time": "2022-04-08T13:20:19.388Z"
   },
   {
    "duration": 0,
    "start_time": "2022-04-08T13:20:19.390Z"
   },
   {
    "duration": 0,
    "start_time": "2022-04-08T13:20:19.391Z"
   },
   {
    "duration": 0,
    "start_time": "2022-04-08T13:20:19.394Z"
   },
   {
    "duration": 0,
    "start_time": "2022-04-08T13:20:19.395Z"
   },
   {
    "duration": 0,
    "start_time": "2022-04-08T13:20:19.398Z"
   },
   {
    "duration": 0,
    "start_time": "2022-04-08T13:20:19.399Z"
   },
   {
    "duration": 48,
    "start_time": "2022-04-08T13:20:36.953Z"
   },
   {
    "duration": 5,
    "start_time": "2022-04-08T13:20:39.521Z"
   },
   {
    "duration": 38,
    "start_time": "2022-04-08T13:20:39.528Z"
   },
   {
    "duration": 5,
    "start_time": "2022-04-08T13:20:39.567Z"
   },
   {
    "duration": 18,
    "start_time": "2022-04-08T13:20:39.574Z"
   },
   {
    "duration": 18,
    "start_time": "2022-04-08T13:20:39.595Z"
   },
   {
    "duration": 17,
    "start_time": "2022-04-08T13:20:39.615Z"
   },
   {
    "duration": 7,
    "start_time": "2022-04-08T13:20:39.634Z"
   },
   {
    "duration": 332,
    "start_time": "2022-04-08T13:20:39.643Z"
   },
   {
    "duration": 5,
    "start_time": "2022-04-08T13:20:39.977Z"
   },
   {
    "duration": 257,
    "start_time": "2022-04-08T13:20:39.983Z"
   },
   {
    "duration": 213,
    "start_time": "2022-04-08T13:20:40.242Z"
   },
   {
    "duration": 10,
    "start_time": "2022-04-08T13:20:40.456Z"
   },
   {
    "duration": 371,
    "start_time": "2022-04-08T13:20:40.468Z"
   },
   {
    "duration": 194,
    "start_time": "2022-04-08T13:20:40.842Z"
   },
   {
    "duration": 464,
    "start_time": "2022-04-08T13:20:41.038Z"
   },
   {
    "duration": 10,
    "start_time": "2022-04-08T13:20:41.504Z"
   },
   {
    "duration": 5,
    "start_time": "2022-04-08T13:20:41.516Z"
   },
   {
    "duration": 7,
    "start_time": "2022-04-08T13:20:41.524Z"
   },
   {
    "duration": 8,
    "start_time": "2022-04-08T13:20:41.533Z"
   },
   {
    "duration": 5,
    "start_time": "2022-04-08T13:20:41.543Z"
   },
   {
    "duration": 8,
    "start_time": "2022-04-08T13:20:41.550Z"
   },
   {
    "duration": 502,
    "start_time": "2022-04-08T13:20:41.580Z"
   },
   {
    "duration": 10,
    "start_time": "2022-04-08T13:20:42.091Z"
   },
   {
    "duration": 7497,
    "start_time": "2022-04-08T13:20:42.111Z"
   },
   {
    "duration": 9,
    "start_time": "2022-04-08T13:20:49.685Z"
   },
   {
    "duration": 8062,
    "start_time": "2022-04-08T13:20:49.702Z"
   },
   {
    "duration": 3,
    "start_time": "2022-04-08T13:20:57.766Z"
   },
   {
    "duration": 173541,
    "start_time": "2022-04-08T13:20:57.770Z"
   },
   {
    "duration": 4,
    "start_time": "2022-04-08T13:23:51.313Z"
   },
   {
    "duration": 230164,
    "start_time": "2022-04-08T13:23:51.319Z"
   },
   {
    "duration": 4,
    "start_time": "2022-04-08T13:27:41.485Z"
   },
   {
    "duration": 5253099,
    "start_time": "2022-04-08T13:27:41.491Z"
   },
   {
    "duration": 9,
    "start_time": "2022-04-08T14:55:14.592Z"
   },
   {
    "duration": 16,
    "start_time": "2022-04-08T15:27:06.432Z"
   },
   {
    "duration": 343,
    "start_time": "2022-04-08T15:32:40.254Z"
   },
   {
    "duration": 293,
    "start_time": "2022-04-08T15:33:26.914Z"
   },
   {
    "duration": 5,
    "start_time": "2022-04-08T15:49:52.260Z"
   },
   {
    "duration": 38,
    "start_time": "2022-04-08T15:49:52.267Z"
   },
   {
    "duration": 4,
    "start_time": "2022-04-08T15:49:52.307Z"
   },
   {
    "duration": 21,
    "start_time": "2022-04-08T15:49:52.312Z"
   },
   {
    "duration": 9,
    "start_time": "2022-04-08T15:49:52.336Z"
   },
   {
    "duration": 15,
    "start_time": "2022-04-08T15:49:52.347Z"
   },
   {
    "duration": 21,
    "start_time": "2022-04-08T15:49:52.364Z"
   },
   {
    "duration": 257,
    "start_time": "2022-04-08T15:49:52.387Z"
   },
   {
    "duration": 4,
    "start_time": "2022-04-08T15:49:52.646Z"
   },
   {
    "duration": 217,
    "start_time": "2022-04-08T15:49:52.652Z"
   },
   {
    "duration": 183,
    "start_time": "2022-04-08T15:49:52.871Z"
   },
   {
    "duration": 10,
    "start_time": "2022-04-08T15:49:53.056Z"
   },
   {
    "duration": 259,
    "start_time": "2022-04-08T15:49:53.068Z"
   },
   {
    "duration": 60,
    "start_time": "2022-04-08T15:49:53.330Z"
   },
   {
    "duration": 8,
    "start_time": "2022-04-08T15:49:53.391Z"
   },
   {
    "duration": 5,
    "start_time": "2022-04-08T15:49:53.401Z"
   },
   {
    "duration": 7,
    "start_time": "2022-04-08T15:49:53.408Z"
   },
   {
    "duration": 7,
    "start_time": "2022-04-08T15:49:53.417Z"
   },
   {
    "duration": 9,
    "start_time": "2022-04-08T15:49:53.426Z"
   },
   {
    "duration": 6,
    "start_time": "2022-04-08T15:49:53.436Z"
   },
   {
    "duration": 147,
    "start_time": "2022-04-08T15:49:53.444Z"
   },
   {
    "duration": 91,
    "start_time": "2022-04-08T15:49:53.592Z"
   },
   {
    "duration": 7806,
    "start_time": "2022-04-08T15:49:53.685Z"
   },
   {
    "duration": 89,
    "start_time": "2022-04-08T15:50:01.494Z"
   },
   {
    "duration": 8948,
    "start_time": "2022-04-08T15:50:01.586Z"
   },
   {
    "duration": 5,
    "start_time": "2022-04-08T15:50:10.536Z"
   },
   {
    "duration": 161361,
    "start_time": "2022-04-08T15:50:10.543Z"
   },
   {
    "duration": 3,
    "start_time": "2022-04-08T15:52:51.906Z"
   },
   {
    "duration": 43273,
    "start_time": "2022-04-08T15:52:51.911Z"
   },
   {
    "duration": 4,
    "start_time": "2022-04-08T15:53:35.186Z"
   },
   {
    "duration": 1542412,
    "start_time": "2022-04-08T15:53:35.191Z"
   },
   {
    "duration": 83,
    "start_time": "2022-04-08T16:19:17.605Z"
   }
  ],
  "kernelspec": {
   "display_name": "Python 3",
   "language": "python",
   "name": "python3"
  },
  "language_info": {
   "codemirror_mode": {
    "name": "ipython",
    "version": 3
   },
   "file_extension": ".py",
   "mimetype": "text/x-python",
   "name": "python",
   "nbconvert_exporter": "python",
   "pygments_lexer": "ipython3",
   "version": "3.8.8"
  },
  "toc": {
   "base_numbering": 1,
   "nav_menu": {},
   "number_sections": true,
   "sideBar": true,
   "skip_h1_title": true,
   "title_cell": "Содержание",
   "title_sidebar": "Contents",
   "toc_cell": true,
   "toc_position": {
    "height": "calc(100% - 180px)",
    "left": "10px",
    "top": "150px",
    "width": "295.391px"
   },
   "toc_section_display": true,
   "toc_window_display": false
  }
 },
 "nbformat": 4,
 "nbformat_minor": 2
}
