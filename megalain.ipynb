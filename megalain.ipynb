{
 "cells": [
  {
   "cell_type": "markdown",
   "metadata": {},
   "source": [
    "## Определение перспективного тарифа для телеком компании\n",
    "\n",
    "__Описание тарифов__ \n",
    "\n",
    "___Тариф «Смарт»___\n",
    "- Ежемесячная плата: 550 рублей  \n",
    "- Включено 500 минут разговора, 50 сообщений и 15 Гб интернет-трафика  \n",
    "- Стоимость услуг сверх тарифного пакета:  \n",
    "    * минута разговора: 3 рубля \n",
    "    * сообщение: 3 рубля\n",
    "    * 1 Гб интернет-трафика: 200 рублей.  \n",
    "\n",
    "___Тариф «Ультра»___\n",
    "- Ежемесячная плата: 1950 рублей  \n",
    "- Включено 3000 минут разговора, 1000 сообщений и 30 Гб интернет-трафика  \n",
    "- Стоимость услуг сверх тарифного пакета: \n",
    "    * минута разговора: 1 рубль\n",
    "    * сообщение: 1 рубль\n",
    "    * 1 Гб интернет-трафика: 150 рублей.    \n",
    "\n",
    "«Мегалайн» всегда округляет вверх значения минут и мегабайтов. Если пользователь проговорил всего 1 секунду, в тарифе засчитывается целая минута.  \n",
    "Для веб-трафика отдельные сессии не считаются. Вместо этого общая сумма за месяц округляется в бо́льшую сторону. Если абонент использует 1025 мегабайт в этом месяце, с него возьмут плату за 2 гигабайта.  \n",
    "\n",
    "__Поставленная задача__\n",
    "- Необходимо для каждого пользователя посчитать:\n",
    "    * количество сделанных звонков и израсходованных минут разговора по месяцам;\n",
    "    * количество отправленных сообщений по месяцам;\n",
    "    * объем израсходованного интернет-трафика по месяцам;\n",
    "    * помесячную выручку с каждого пользователя.\n",
    "- Сколько минут разговора, сколько сообщений и какой объём интернет-трафика требуется пользователям каждого тарифа в месяц?\n",
    "- Посчитать по вышеуказанным данным среднее количество, дисперсию и стандартное отклонение.\n",
    "- Построить гистограммы и описать распределение.\n",
    "- Проверить гипотезы:\n",
    "    * средняя выручка пользователей тарифов «Ультра» и «Смарт» различаются;\n",
    "    * средняя выручка пользователей из Москвы отличается от выручки пользователей из других регионов.\n",
    "\n",
    "__Описание данных__\n",
    "\n",
    "___Таблица users (информация о пользователях):___\n",
    "user_id — уникальный идентификатор пользователя  \n",
    "first_name — имя пользователя  \n",
    "last_name — фамилия пользователя  \n",
    "age — возраст пользователя (годы)  \n",
    "reg_date — дата подключения тарифа (день, месяц, год)  \n",
    "churn_date — дата прекращения пользования тарифом (если значение пропущено, то тариф ещё действовал на момент выгрузки данных)  \n",
    "city — город проживания пользователя  \n",
    "tarif — название тарифного плана  \n",
    "\n",
    "___Таблица calls (информация о звонках):___\n",
    "id — уникальный номер звонка  \n",
    "call_date — дата звонка  \n",
    "duration — длительность звонка в минутах  \n",
    "user_id — идентификатор пользователя, сделавшего звонок  \n",
    "\n",
    "___Таблица messages (информация о сообщениях):___\n",
    "id — уникальный номер сообщения  \n",
    "message_date — дата сообщения  \n",
    "user_id — идентификатор пользователя, отправившего сообщение  \n",
    "\n",
    "___Таблица internet (информация об интернет-сессиях):___\n",
    "id — уникальный номер сессии  \n",
    "mb_used — объём потраченного за сессию интернет-трафика (в мегабайтах)  \n",
    "session_date — дата интернет-сессии  \n",
    "user_id — идентификатор пользователя  \n",
    "\n",
    "___Таблица tariffs (информация о тарифах):___\n",
    "tariff_name — название тарифа  \n",
    "rub_monthly_fee — ежемесячная абонентская плата в рублях  \n",
    "minutes_included — количество минут разговора в месяц, включённых в абонентскую плату  \n",
    "messages_included — количество сообщений в месяц, включённых в абонентскую плату  \n",
    "mb_per_month_included — объём интернет-трафика, включённого в абонентскую плату (в мегабайтах)  \n",
    "rub_per_minute — стоимость минуты разговора сверх тарифного пакета (например, если в тарифе 100 минут разговора в месяц, то со 101 минуты будет взиматься плата)  \n",
    "rub_per_message — стоимость отправки сообщения сверх тарифного пакета  \n",
    "rub_per_gb — стоимость дополнительного гигабайта интернет-трафика сверх тарифного пакета (1 гигабайт = 1024 мегабайта)  "
   ]
  },
  {
   "cell_type": "markdown",
   "metadata": {},
   "source": [
    "## Открываем данные и изучаем общую информацию"
   ]
  },
  {
   "cell_type": "markdown",
   "metadata": {},
   "source": [
    "### Открываем данные"
   ]
  },
  {
   "cell_type": "code",
   "execution_count": 192,
   "metadata": {},
   "outputs": [],
   "source": [
    "import pandas as pd\n",
    "import numpy as np\n",
    "import matplotlib.pyplot as plt\n",
    "from scipy import stats as st"
   ]
  },
  {
   "cell_type": "code",
   "execution_count": 193,
   "metadata": {},
   "outputs": [
    {
     "data": {
      "text/plain": [
       "'Все данные загружены'"
      ]
     },
     "metadata": {},
     "output_type": "display_data"
    }
   ],
   "source": [
    "try:\n",
    "    df_calls=pd.read_csv('/datasets/calls.csv') \n",
    "    df_internet=pd.read_csv('/datasets/internet.csv')\n",
    "    df_messages=pd.read_csv('/datasets/messages.csv')\n",
    "    df_tariffs=pd.read_csv('/datasets/tariffs.csv')\n",
    "    df_users=pd.read_csv('/datasets/users.csv')\n",
    "    display(\"Все данные загружены\")\n",
    "except:\n",
    "    display('Ошибка при чтении файла') "
   ]
  },
  {
   "cell_type": "markdown",
   "metadata": {},
   "source": [
    "### Изучаем общую информацию"
   ]
  },
  {
   "cell_type": "code",
   "execution_count": 194,
   "metadata": {},
   "outputs": [
    {
     "data": {
      "text/plain": [
       "'calls'"
      ]
     },
     "metadata": {},
     "output_type": "display_data"
    },
    {
     "data": {
      "text/html": [
       "<div>\n",
       "<style scoped>\n",
       "    .dataframe tbody tr th:only-of-type {\n",
       "        vertical-align: middle;\n",
       "    }\n",
       "\n",
       "    .dataframe tbody tr th {\n",
       "        vertical-align: top;\n",
       "    }\n",
       "\n",
       "    .dataframe thead th {\n",
       "        text-align: right;\n",
       "    }\n",
       "</style>\n",
       "<table border=\"1\" class=\"dataframe\">\n",
       "  <thead>\n",
       "    <tr style=\"text-align: right;\">\n",
       "      <th></th>\n",
       "      <th>id</th>\n",
       "      <th>call_date</th>\n",
       "      <th>duration</th>\n",
       "      <th>user_id</th>\n",
       "    </tr>\n",
       "  </thead>\n",
       "  <tbody>\n",
       "    <tr>\n",
       "      <td>114063</td>\n",
       "      <td>1291_689</td>\n",
       "      <td>2018-09-13</td>\n",
       "      <td>13.17</td>\n",
       "      <td>1291</td>\n",
       "    </tr>\n",
       "    <tr>\n",
       "      <td>200593</td>\n",
       "      <td>1494_255</td>\n",
       "      <td>2018-12-14</td>\n",
       "      <td>5.84</td>\n",
       "      <td>1494</td>\n",
       "    </tr>\n",
       "  </tbody>\n",
       "</table>\n",
       "</div>"
      ],
      "text/plain": [
       "              id   call_date  duration  user_id\n",
       "114063  1291_689  2018-09-13     13.17     1291\n",
       "200593  1494_255  2018-12-14      5.84     1494"
      ]
     },
     "metadata": {},
     "output_type": "display_data"
    },
    {
     "data": {
      "text/plain": [
       "'internet'"
      ]
     },
     "metadata": {},
     "output_type": "display_data"
    },
    {
     "data": {
      "text/html": [
       "<div>\n",
       "<style scoped>\n",
       "    .dataframe tbody tr th:only-of-type {\n",
       "        vertical-align: middle;\n",
       "    }\n",
       "\n",
       "    .dataframe tbody tr th {\n",
       "        vertical-align: top;\n",
       "    }\n",
       "\n",
       "    .dataframe thead th {\n",
       "        text-align: right;\n",
       "    }\n",
       "</style>\n",
       "<table border=\"1\" class=\"dataframe\">\n",
       "  <thead>\n",
       "    <tr style=\"text-align: right;\">\n",
       "      <th></th>\n",
       "      <th>Unnamed: 0</th>\n",
       "      <th>id</th>\n",
       "      <th>mb_used</th>\n",
       "      <th>session_date</th>\n",
       "      <th>user_id</th>\n",
       "    </tr>\n",
       "  </thead>\n",
       "  <tbody>\n",
       "    <tr>\n",
       "      <td>33560</td>\n",
       "      <td>33560</td>\n",
       "      <td>1118_177</td>\n",
       "      <td>441.02</td>\n",
       "      <td>2018-11-09</td>\n",
       "      <td>1118</td>\n",
       "    </tr>\n",
       "    <tr>\n",
       "      <td>6457</td>\n",
       "      <td>6457</td>\n",
       "      <td>1021_101</td>\n",
       "      <td>858.50</td>\n",
       "      <td>2018-06-20</td>\n",
       "      <td>1021</td>\n",
       "    </tr>\n",
       "  </tbody>\n",
       "</table>\n",
       "</div>"
      ],
      "text/plain": [
       "       Unnamed: 0        id  mb_used session_date  user_id\n",
       "33560       33560  1118_177   441.02   2018-11-09     1118\n",
       "6457         6457  1021_101   858.50   2018-06-20     1021"
      ]
     },
     "metadata": {},
     "output_type": "display_data"
    },
    {
     "data": {
      "text/plain": [
       "'messages'"
      ]
     },
     "metadata": {},
     "output_type": "display_data"
    },
    {
     "data": {
      "text/html": [
       "<div>\n",
       "<style scoped>\n",
       "    .dataframe tbody tr th:only-of-type {\n",
       "        vertical-align: middle;\n",
       "    }\n",
       "\n",
       "    .dataframe tbody tr th {\n",
       "        vertical-align: top;\n",
       "    }\n",
       "\n",
       "    .dataframe thead th {\n",
       "        text-align: right;\n",
       "    }\n",
       "</style>\n",
       "<table border=\"1\" class=\"dataframe\">\n",
       "  <thead>\n",
       "    <tr style=\"text-align: right;\">\n",
       "      <th></th>\n",
       "      <th>id</th>\n",
       "      <th>message_date</th>\n",
       "      <th>user_id</th>\n",
       "    </tr>\n",
       "  </thead>\n",
       "  <tbody>\n",
       "    <tr>\n",
       "      <td>34988</td>\n",
       "      <td>1150_168</td>\n",
       "      <td>2018-09-13</td>\n",
       "      <td>1150</td>\n",
       "    </tr>\n",
       "    <tr>\n",
       "      <td>65450</td>\n",
       "      <td>1281_337</td>\n",
       "      <td>2018-06-15</td>\n",
       "      <td>1281</td>\n",
       "    </tr>\n",
       "  </tbody>\n",
       "</table>\n",
       "</div>"
      ],
      "text/plain": [
       "             id message_date  user_id\n",
       "34988  1150_168   2018-09-13     1150\n",
       "65450  1281_337   2018-06-15     1281"
      ]
     },
     "metadata": {},
     "output_type": "display_data"
    },
    {
     "data": {
      "text/plain": [
       "'tariffs'"
      ]
     },
     "metadata": {},
     "output_type": "display_data"
    },
    {
     "data": {
      "text/html": [
       "<div>\n",
       "<style scoped>\n",
       "    .dataframe tbody tr th:only-of-type {\n",
       "        vertical-align: middle;\n",
       "    }\n",
       "\n",
       "    .dataframe tbody tr th {\n",
       "        vertical-align: top;\n",
       "    }\n",
       "\n",
       "    .dataframe thead th {\n",
       "        text-align: right;\n",
       "    }\n",
       "</style>\n",
       "<table border=\"1\" class=\"dataframe\">\n",
       "  <thead>\n",
       "    <tr style=\"text-align: right;\">\n",
       "      <th></th>\n",
       "      <th>messages_included</th>\n",
       "      <th>mb_per_month_included</th>\n",
       "      <th>minutes_included</th>\n",
       "      <th>rub_monthly_fee</th>\n",
       "      <th>rub_per_gb</th>\n",
       "      <th>rub_per_message</th>\n",
       "      <th>rub_per_minute</th>\n",
       "      <th>tariff_name</th>\n",
       "    </tr>\n",
       "  </thead>\n",
       "  <tbody>\n",
       "    <tr>\n",
       "      <td>0</td>\n",
       "      <td>50</td>\n",
       "      <td>15360</td>\n",
       "      <td>500</td>\n",
       "      <td>550</td>\n",
       "      <td>200</td>\n",
       "      <td>3</td>\n",
       "      <td>3</td>\n",
       "      <td>smart</td>\n",
       "    </tr>\n",
       "    <tr>\n",
       "      <td>1</td>\n",
       "      <td>1000</td>\n",
       "      <td>30720</td>\n",
       "      <td>3000</td>\n",
       "      <td>1950</td>\n",
       "      <td>150</td>\n",
       "      <td>1</td>\n",
       "      <td>1</td>\n",
       "      <td>ultra</td>\n",
       "    </tr>\n",
       "  </tbody>\n",
       "</table>\n",
       "</div>"
      ],
      "text/plain": [
       "   messages_included  mb_per_month_included  minutes_included  \\\n",
       "0                 50                  15360               500   \n",
       "1               1000                  30720              3000   \n",
       "\n",
       "   rub_monthly_fee  rub_per_gb  rub_per_message  rub_per_minute tariff_name  \n",
       "0              550         200                3               3       smart  \n",
       "1             1950         150                1               1       ultra  "
      ]
     },
     "metadata": {},
     "output_type": "display_data"
    },
    {
     "data": {
      "text/plain": [
       "'users'"
      ]
     },
     "metadata": {},
     "output_type": "display_data"
    },
    {
     "data": {
      "text/html": [
       "<div>\n",
       "<style scoped>\n",
       "    .dataframe tbody tr th:only-of-type {\n",
       "        vertical-align: middle;\n",
       "    }\n",
       "\n",
       "    .dataframe tbody tr th {\n",
       "        vertical-align: top;\n",
       "    }\n",
       "\n",
       "    .dataframe thead th {\n",
       "        text-align: right;\n",
       "    }\n",
       "</style>\n",
       "<table border=\"1\" class=\"dataframe\">\n",
       "  <thead>\n",
       "    <tr style=\"text-align: right;\">\n",
       "      <th></th>\n",
       "      <th>user_id</th>\n",
       "      <th>age</th>\n",
       "      <th>churn_date</th>\n",
       "      <th>city</th>\n",
       "      <th>first_name</th>\n",
       "      <th>last_name</th>\n",
       "      <th>reg_date</th>\n",
       "      <th>tariff</th>\n",
       "    </tr>\n",
       "  </thead>\n",
       "  <tbody>\n",
       "    <tr>\n",
       "      <td>145</td>\n",
       "      <td>1145</td>\n",
       "      <td>45</td>\n",
       "      <td>NaN</td>\n",
       "      <td>Тюмень</td>\n",
       "      <td>Юлий</td>\n",
       "      <td>Алешин</td>\n",
       "      <td>2018-04-11</td>\n",
       "      <td>smart</td>\n",
       "    </tr>\n",
       "    <tr>\n",
       "      <td>480</td>\n",
       "      <td>1480</td>\n",
       "      <td>29</td>\n",
       "      <td>2018-09-26</td>\n",
       "      <td>Новокузнецк</td>\n",
       "      <td>Гелена</td>\n",
       "      <td>Емельянова</td>\n",
       "      <td>2018-02-14</td>\n",
       "      <td>smart</td>\n",
       "    </tr>\n",
       "  </tbody>\n",
       "</table>\n",
       "</div>"
      ],
      "text/plain": [
       "     user_id  age  churn_date         city first_name   last_name    reg_date  \\\n",
       "145     1145   45         NaN       Тюмень       Юлий      Алешин  2018-04-11   \n",
       "480     1480   29  2018-09-26  Новокузнецк     Гелена  Емельянова  2018-02-14   \n",
       "\n",
       "    tariff  \n",
       "145  smart  \n",
       "480  smart  "
      ]
     },
     "metadata": {},
     "output_type": "display_data"
    }
   ],
   "source": [
    "display('calls', df_calls.sample(2))\n",
    "display('internet', df_internet.sample(2))\n",
    "display('messages', df_messages.sample(2))\n",
    "display('tariffs', df_tariffs)\n",
    "display('users', df_users.sample(2))"
   ]
  },
  {
   "cell_type": "code",
   "execution_count": 195,
   "metadata": {},
   "outputs": [
    {
     "data": {
      "text/plain": [
       "'calls'"
      ]
     },
     "metadata": {},
     "output_type": "display_data"
    },
    {
     "name": "stdout",
     "output_type": "stream",
     "text": [
      "<class 'pandas.core.frame.DataFrame'>\n",
      "RangeIndex: 202607 entries, 0 to 202606\n",
      "Data columns (total 4 columns):\n",
      "id           202607 non-null object\n",
      "call_date    202607 non-null object\n",
      "duration     202607 non-null float64\n",
      "user_id      202607 non-null int64\n",
      "dtypes: float64(1), int64(1), object(2)\n",
      "memory usage: 6.2+ MB\n"
     ]
    },
    {
     "data": {
      "text/plain": [
       "None"
      ]
     },
     "metadata": {},
     "output_type": "display_data"
    },
    {
     "data": {
      "text/plain": [
       "'internet'"
      ]
     },
     "metadata": {},
     "output_type": "display_data"
    },
    {
     "name": "stdout",
     "output_type": "stream",
     "text": [
      "<class 'pandas.core.frame.DataFrame'>\n",
      "RangeIndex: 149396 entries, 0 to 149395\n",
      "Data columns (total 5 columns):\n",
      "Unnamed: 0      149396 non-null int64\n",
      "id              149396 non-null object\n",
      "mb_used         149396 non-null float64\n",
      "session_date    149396 non-null object\n",
      "user_id         149396 non-null int64\n",
      "dtypes: float64(1), int64(2), object(2)\n",
      "memory usage: 5.7+ MB\n"
     ]
    },
    {
     "data": {
      "text/plain": [
       "None"
      ]
     },
     "metadata": {},
     "output_type": "display_data"
    },
    {
     "data": {
      "text/plain": [
       "'messages'"
      ]
     },
     "metadata": {},
     "output_type": "display_data"
    },
    {
     "name": "stdout",
     "output_type": "stream",
     "text": [
      "<class 'pandas.core.frame.DataFrame'>\n",
      "RangeIndex: 123036 entries, 0 to 123035\n",
      "Data columns (total 3 columns):\n",
      "id              123036 non-null object\n",
      "message_date    123036 non-null object\n",
      "user_id         123036 non-null int64\n",
      "dtypes: int64(1), object(2)\n",
      "memory usage: 2.8+ MB\n"
     ]
    },
    {
     "data": {
      "text/plain": [
       "None"
      ]
     },
     "metadata": {},
     "output_type": "display_data"
    },
    {
     "data": {
      "text/plain": [
       "'tariffs'"
      ]
     },
     "metadata": {},
     "output_type": "display_data"
    },
    {
     "name": "stdout",
     "output_type": "stream",
     "text": [
      "<class 'pandas.core.frame.DataFrame'>\n",
      "RangeIndex: 2 entries, 0 to 1\n",
      "Data columns (total 8 columns):\n",
      "messages_included        2 non-null int64\n",
      "mb_per_month_included    2 non-null int64\n",
      "minutes_included         2 non-null int64\n",
      "rub_monthly_fee          2 non-null int64\n",
      "rub_per_gb               2 non-null int64\n",
      "rub_per_message          2 non-null int64\n",
      "rub_per_minute           2 non-null int64\n",
      "tariff_name              2 non-null object\n",
      "dtypes: int64(7), object(1)\n",
      "memory usage: 256.0+ bytes\n"
     ]
    },
    {
     "data": {
      "text/plain": [
       "None"
      ]
     },
     "metadata": {},
     "output_type": "display_data"
    },
    {
     "data": {
      "text/plain": [
       "'users'"
      ]
     },
     "metadata": {},
     "output_type": "display_data"
    },
    {
     "name": "stdout",
     "output_type": "stream",
     "text": [
      "<class 'pandas.core.frame.DataFrame'>\n",
      "RangeIndex: 500 entries, 0 to 499\n",
      "Data columns (total 8 columns):\n",
      "user_id       500 non-null int64\n",
      "age           500 non-null int64\n",
      "churn_date    38 non-null object\n",
      "city          500 non-null object\n",
      "first_name    500 non-null object\n",
      "last_name     500 non-null object\n",
      "reg_date      500 non-null object\n",
      "tariff        500 non-null object\n",
      "dtypes: int64(2), object(6)\n",
      "memory usage: 31.4+ KB\n"
     ]
    },
    {
     "data": {
      "text/plain": [
       "None"
      ]
     },
     "metadata": {},
     "output_type": "display_data"
    }
   ],
   "source": [
    "# смотрим типы и общее количество данных\n",
    "display('calls')\n",
    "display(df_calls.info())\n",
    "display('internet')\n",
    "display(df_internet.info())\n",
    "display('messages')\n",
    "display(df_messages.info())\n",
    "display('tariffs')\n",
    "display(df_tariffs.info())\n",
    "display('users')\n",
    "display(df_users.info())"
   ]
  },
  {
   "cell_type": "markdown",
   "metadata": {},
   "source": [
    "### Выводы"
   ]
  },
  {
   "cell_type": "markdown",
   "metadata": {},
   "source": [
    "исходя из полученных данных, определим, какие данные привести к нужным типам и какие ошибки нужно исправить  \n",
    "\n",
    "<code> DF       | Столбец        | Замена на тип         | Пропуски   | Примечание    \n",
    ":--------- |:-------------:| :-------------:| :-------------:| -------------:\n",
    "calls      | duration      | int8           | 0              | округлить до целых \n",
    "calls      | user_id       | int16          | 0              | \n",
    "           |               |                |                |\n",
    "internet   | Unnamed: 0    | не требуется   | удалить        | дублирует индекс \n",
    "internet   | mb_used       | int16          | 0              | округлить до целых\n",
    "internet   | user_id       | int16          | 0              |   \n",
    "           |               |                |                |    \n",
    "messages   | user_id       | int16          | 0              |\n",
    "           |               |                |                |    \n",
    "tariffs    | messages_included      | int16          | 0              | небольшой объем данных\n",
    "tariffs    | mb_per_month_included  | int16          | 0              | небольшой объем данных\n",
    "tariffs    | minutes_included       | int16          | 0              | небольшой объем данных\n",
    "tariffs    | rub_monthly_fee        | int16          | 0              | небольшой объем данных\n",
    "tariffs    | rub_per_gb             | int16          | 0              | небольшой объем данных\n",
    "tariffs    | rub_per_message        | int8           | 0              | небольшой объем данных\n",
    "tariffs    | rub_per_minute         | int8           | 0              | небольшой объем данных\n",
    "           |               |                |                |    \n",
    "users      | user_id\t   | int16          | 0              | небольшой объем данных\n",
    "users      | age           | int8           | 0              | небольшой объем данных\n",
    "users      | churn_date    | не требуется   | 462            | NaN\n",
    "\n",
    "</code>\n",
    "\n",
    "В столбце calls['duration'] имеются данные равные 0. Это не является ошибкой. Это пропущенные звонки.  \n",
    "В столбце internet['mb_used'] имеются данные равные 0. Это не является ошибкой. Пользователь просто не пользовался интернетом.  \n",
    "В столбце users['churn_date'] имеются пропуски. Это означает что тариф действовал на моент выгрузки данных.  \n",
    "Колонки с датами не трогаем, оставляем их в формате год-месяц-день.  \n",
    "В df tariffs и users пренебрежем заменой типов данных, так как объем этих df не превышает 32KB"
   ]
  },
  {
   "cell_type": "markdown",
   "metadata": {},
   "source": [
    "## Подготовка данных"
   ]
  },
  {
   "cell_type": "code",
   "execution_count": 196,
   "metadata": {},
   "outputs": [],
   "source": [
    "#заменим NaN на 'действует'\n",
    "df_users['churn_date']=df_users['churn_date'].fillna('действует')"
   ]
  },
  {
   "cell_type": "code",
   "execution_count": 197,
   "metadata": {},
   "outputs": [],
   "source": [
    "# удаляем столбец df_internet['Unnamed: 0']\n",
    "df_internet = df_internet.drop('Unnamed: 0', 1)"
   ]
  },
  {
   "cell_type": "code",
   "execution_count": 198,
   "metadata": {},
   "outputs": [],
   "source": [
    "# округляем до целых значений\n",
    "# по правилам компании длительность разговоров каждой сессии всегда округляется вверх\n",
    "#df_calls['duration']=df_calls['duration'].apply(np.ceil)\n",
    "#df_internet['mb_used']=df_internet['mb_used'].round()"
   ]
  },
  {
   "cell_type": "code",
   "execution_count": 199,
   "metadata": {},
   "outputs": [],
   "source": [
    "# мяняем типы данных\n",
    "df_calls['duration']=df_calls['duration'].astype('int8') \n",
    "df_calls['user_id']=df_calls['user_id'].astype('int16')\n",
    "#df_internet['mb_used']=df_internet['mb_used'].astype('int16')\n",
    "df_internet['user_id']=df_internet['user_id'].astype('int16')\n",
    "df_messages['user_id']=df_messages['user_id'].astype('int16')"
   ]
  },
  {
   "cell_type": "code",
   "execution_count": 200,
   "metadata": {},
   "outputs": [
    {
     "data": {
      "text/plain": [
       "0     3\n",
       "1     6\n",
       "2     9\n",
       "3    12\n",
       "4    15\n",
       "5   -91\n",
       "dtype: int8"
      ]
     },
     "execution_count": 200,
     "metadata": {},
     "output_type": "execute_result"
    }
   ],
   "source": [
    "# Код ревьюера\n",
    "\n",
    "s1 = pd.Series([1,2,3,4,5,55],dtype='int8')\n",
    "\n",
    "s1 * 3"
   ]
  },
  {
   "cell_type": "markdown",
   "metadata": {},
   "source": [
    "### Вывод\n",
    "- заменили NaN на другие значения\n",
    "- удалили дублирующиеся столбцы\n",
    "- по правилам компании длительность разговоров каждой сессии всегда округляется вверх - скорректировали данные\n",
    "- преобразовали тип данных в столбцах. Это позволило сократить размер предоставленных данных с 14.7 до 8.6Mb. Экономия ресурсов составила более 41%"
   ]
  },
  {
   "cell_type": "markdown",
   "metadata": {},
   "source": [
    "## Расчет значений для каждого пользователя"
   ]
  },
  {
   "cell_type": "markdown",
   "metadata": {},
   "source": [
    "### Количество сделанных звонков и израсходованных минут разговора по месяцам"
   ]
  },
  {
   "cell_type": "code",
   "execution_count": 201,
   "metadata": {},
   "outputs": [],
   "source": [
    "# добавим столбец \"месяц\"\n",
    "df_calls['mounth'] = pd.DatetimeIndex(df_calls['call_date']).month\n",
    "\n",
    "# считаем среднюю продолжительность звонка по каждому пользователю за каждый месяц\n",
    "user_calls_month_lenght=df_calls.pivot_table(index=['user_id', 'mounth'], values=['duration'], aggfunc=np.sum)\n",
    "\n",
    "# считаем количество звонков по каждому пользователю за каждый месяц\n",
    "df_calls['user_id_copy']=df_calls['user_id']\n",
    "user_calls_month_sum=df_calls.pivot_table(index=['user_id', 'mounth'], values=[\"user_id_copy\"], aggfunc=[len])\n",
    "user_calls_month_sum.columns = ['calls_sum']\n",
    "\n",
    "# объеденим в общую таблицу\n",
    "user_calls_month=user_calls_month_lenght.join(user_calls_month_sum)"
   ]
  },
  {
   "cell_type": "markdown",
   "metadata": {},
   "source": [
    "### Количество отправленных сообщений по месяцам"
   ]
  },
  {
   "cell_type": "code",
   "execution_count": 202,
   "metadata": {},
   "outputs": [],
   "source": [
    "# добавим столбец \"месяц\"\n",
    "df_messages['mounth'] = pd.DatetimeIndex(df_messages['message_date']).month\n",
    "\n",
    "# считаем количество sms по каждому пользователю за каждый месяц\n",
    "df_messages['user_id_copy']=df_messages['user_id']\n",
    "user_messages_month=df_messages.pivot_table(index=['user_id', 'mounth'], values=[\"user_id_copy\"], aggfunc=[len])\n",
    "user_messages_month.columns = ['messages_sum']\n",
    "\n",
    "# объеденим данные\n",
    "stat=user_calls_month.join(user_messages_month, how='outer')"
   ]
  },
  {
   "cell_type": "markdown",
   "metadata": {},
   "source": [
    "### Объем израсходованного интернет-трафика по месяцам"
   ]
  },
  {
   "cell_type": "code",
   "execution_count": 203,
   "metadata": {},
   "outputs": [],
   "source": [
    "# добавим столбец \"месяц\"\n",
    "df_internet['mounth'] = pd.DatetimeIndex(df_internet['session_date']).month\n",
    "\n",
    "# считаем количество интернет-трафика по каждому пользователю за каждый месяц\n",
    "#df_internet['user_id_copy']=df_internet['user_id']\n",
    "user_internet_month=df_internet.pivot_table(index=['user_id', 'mounth'], values=[\"mb_used\"], aggfunc=[np.sum])\n",
    "user_internet_month.columns = ['internet_sum']\n",
    "\n",
    "# объеденим данные\n",
    "stat=stat.join(user_internet_month, how='outer')"
   ]
  },
  {
   "cell_type": "markdown",
   "metadata": {},
   "source": [
    "### Чистим получившиеся данные"
   ]
  },
  {
   "cell_type": "code",
   "execution_count": 204,
   "metadata": {
    "scrolled": true
   },
   "outputs": [],
   "source": [
    "# добавляем индекс тарифа: smart=0, ultra=1\n",
    "df_users['id_tariff']=df_users['tariff']\n",
    "df_users['id_tariff'] = df_users['id_tariff'].replace('smart', 0)\n",
    "df_users['id_tariff'] = df_users['id_tariff'].replace('ultra', 1)\n",
    "\n",
    "# сбрасываем индесы, для получения df\n",
    "stat = stat.reset_index()\n",
    "\n",
    "# объеденяем df\n",
    "stat=stat.merge(df_users[['user_id', 'id_tariff']]) \n",
    "stat=stat.merge(df_users[['user_id', 'city']]) #добавляем для дальнейшей проверки гипотез\n",
    "\n",
    "# переведем трафик в Gb\n",
    "stat['internet_gb'] = stat['internet_sum']/1024\n",
    "    \n",
    "# для трафика отдельные сесси не считаются \n",
    "# общая сумма трафика за месяц оклугляется в большую сторону\n",
    "stat['internet_gb']=stat['internet_gb'].apply(np.ceil)\n",
    "\n",
    "# убераем NaN из полученных данныx\n",
    "# NaN появились из-за отсутствия данных в разных базах \n",
    "# можно сделать вывод что данными услугами не пользовались, поэтому они и отсутствуют, заменим на 0\n",
    "stat['messages_sum']=stat['messages_sum'].fillna(0)\n",
    "stat['duration']=stat['duration'].fillna(0)\n",
    "stat['calls_sum']=stat['calls_sum'].fillna(0)\n",
    "stat['internet_sum']=stat['internet_sum'].fillna(0)\n",
    "stat['internet_gb']=stat['internet_gb'].fillna(0)\n"
   ]
  },
  {
   "cell_type": "markdown",
   "metadata": {},
   "source": [
    "### Помесячная выручка с каждого пользователя"
   ]
  },
  {
   "cell_type": "markdown",
   "metadata": {},
   "source": [
    "помесячную выручку будем считать по формуле: ((sum кол-во звонков - бесплатный лимит) + (sum кол-во сообщений - бесплатный лимит) + (sum кол-во трафика - sum бесплатный лимит)) * тарифный план + абонетская плата"
   ]
  },
  {
   "cell_type": "code",
   "execution_count": 205,
   "metadata": {
    "scrolled": true
   },
   "outputs": [],
   "source": [
    "# sum кол-во звонков - бесплатный лимит\n",
    "# лимит: Смарт = 500 мин, Ультра = 3000 мин\n",
    "# окрлугление секунд до минут в кажой сессии\n",
    "\n",
    "# функция для подсчета значений \n",
    "def sum_limit(x):\n",
    "    duration = x['duration']\n",
    "    id_t = x['id_tariff']\n",
    "    if id_t == 0:\n",
    "#        if (duration - 500) > 0:\n",
    "#            return duration - 500\n",
    "        if (duration - df_tariffs.loc[0,'minutes_included']) > 0:\n",
    "            return duration - df_tariffs.loc[0,'minutes_included']\n",
    "        return 0\n",
    "    if id_t == 1:\n",
    "#        if (duration - 3000) > 0:\n",
    "#            return duration - 3000\n",
    "        if (duration - df_tariffs.loc[1,'minutes_included']) > 0:\n",
    "            return duration - df_tariffs.loc[1,'minutes_included']\n",
    "        return 0\n",
    "    return 'Error'\n",
    " \n",
    "stat['calls_limit']=stat.apply(sum_limit, axis=1)   # считаем значения "
   ]
  },
  {
   "cell_type": "code",
   "execution_count": 206,
   "metadata": {},
   "outputs": [],
   "source": [
    "# sum кол-во сообщений - бесплатный лимит\n",
    "# лимит: Смарт = 50 sms, Ультра = 1000 sms\n",
    "\n",
    "# функция для подсчета значений\n",
    "def sum_limit(x):\n",
    "    message = x['messages_sum']\n",
    "    id_t = x['id_tariff']\n",
    "    if id_t == 0:\n",
    "        if (message - 50) >0:\n",
    "            return message - 50\n",
    "        return 0\n",
    "    if id_t == 1:\n",
    "        if (message - 1000) >0:\n",
    "            return message - 1000\n",
    "        return 0\n",
    "    return 'Error'\n",
    " \n",
    "stat['message_limit']=stat.apply(sum_limit, axis=1)   # считаем значения "
   ]
  },
  {
   "cell_type": "code",
   "execution_count": 207,
   "metadata": {},
   "outputs": [],
   "source": [
    "# sum кол-во трафика - sum бесплатный лимит\n",
    "# лимит: Смарт = 15 Gb, Ультра = 30 Gb\n",
    "# для трафика отдельные сесси не считаются \n",
    "# общая сумма трафика за месяц оклугляется в большую сторону\n",
    "\n",
    "# функция для подсчета значений\n",
    "def sum_limit(x):\n",
    "    internet = x['internet_gb']\n",
    "    id_t = x['id_tariff']\n",
    "    if id_t == 0:\n",
    "        if (internet - 15) >0:\n",
    "            return internet - 15\n",
    "        return 0\n",
    "    if id_t == 1:\n",
    "        if (internet - 30) >0:\n",
    "            return internet - 30\n",
    "        return 0\n",
    "    return 'Error'\n",
    " \n",
    "stat['internet_limit']=stat.apply(sum_limit, axis=1)   # считаем значения "
   ]
  },
  {
   "cell_type": "code",
   "execution_count": 208,
   "metadata": {},
   "outputs": [
    {
     "data": {
      "text/html": [
       "<div>\n",
       "<style scoped>\n",
       "    .dataframe tbody tr th:only-of-type {\n",
       "        vertical-align: middle;\n",
       "    }\n",
       "\n",
       "    .dataframe tbody tr th {\n",
       "        vertical-align: top;\n",
       "    }\n",
       "\n",
       "    .dataframe thead th {\n",
       "        text-align: right;\n",
       "    }\n",
       "</style>\n",
       "<table border=\"1\" class=\"dataframe\">\n",
       "  <thead>\n",
       "    <tr style=\"text-align: right;\">\n",
       "      <th></th>\n",
       "      <th>user_id</th>\n",
       "      <th>mounth</th>\n",
       "      <th>duration</th>\n",
       "      <th>calls_sum</th>\n",
       "      <th>messages_sum</th>\n",
       "      <th>internet_sum</th>\n",
       "      <th>id_tariff</th>\n",
       "      <th>city</th>\n",
       "      <th>internet_gb</th>\n",
       "      <th>calls_limit</th>\n",
       "      <th>message_limit</th>\n",
       "      <th>internet_limit</th>\n",
       "      <th>revenu</th>\n",
       "    </tr>\n",
       "  </thead>\n",
       "  <tbody>\n",
       "    <tr>\n",
       "      <td>1026</td>\n",
       "      <td>1161</td>\n",
       "      <td>9</td>\n",
       "      <td>345.0</td>\n",
       "      <td>53.0</td>\n",
       "      <td>44.0</td>\n",
       "      <td>17334.06</td>\n",
       "      <td>0</td>\n",
       "      <td>Набережные Челны</td>\n",
       "      <td>17.0</td>\n",
       "      <td>0.0</td>\n",
       "      <td>0.0</td>\n",
       "      <td>2.0</td>\n",
       "      <td>950.0</td>\n",
       "    </tr>\n",
       "    <tr>\n",
       "      <td>386</td>\n",
       "      <td>1061</td>\n",
       "      <td>9</td>\n",
       "      <td>500.0</td>\n",
       "      <td>77.0</td>\n",
       "      <td>8.0</td>\n",
       "      <td>18582.97</td>\n",
       "      <td>0</td>\n",
       "      <td>Санкт-Петербург</td>\n",
       "      <td>19.0</td>\n",
       "      <td>0.0</td>\n",
       "      <td>0.0</td>\n",
       "      <td>4.0</td>\n",
       "      <td>1350.0</td>\n",
       "    </tr>\n",
       "  </tbody>\n",
       "</table>\n",
       "</div>"
      ],
      "text/plain": [
       "      user_id  mounth  duration  calls_sum  messages_sum  internet_sum  \\\n",
       "1026     1161       9     345.0       53.0          44.0      17334.06   \n",
       "386      1061       9     500.0       77.0           8.0      18582.97   \n",
       "\n",
       "      id_tariff              city  internet_gb  calls_limit  message_limit  \\\n",
       "1026          0  Набережные Челны         17.0          0.0            0.0   \n",
       "386           0   Санкт-Петербург         19.0          0.0            0.0   \n",
       "\n",
       "      internet_limit  revenu  \n",
       "1026             2.0   950.0  \n",
       "386              4.0  1350.0  "
      ]
     },
     "execution_count": 208,
     "metadata": {},
     "output_type": "execute_result"
    }
   ],
   "source": [
    "# считаем помесячную выручку с каждого пользователя\n",
    "# превышение лимита оплачивается: \n",
    "# Смарт - звонки 3руб/мин, sms 3руб/мин, трафик 200руб/gb, абон.плата = 200\n",
    "# Ультра - звонки 1руб/мин, sms 1руб/мин, трафик 200руб/gb, абон.плата = 150\n",
    "\n",
    "def revenu(x):\n",
    "    duration = x['calls_limit']\n",
    "    message = x['message_limit']    \n",
    "    internet = x['internet_limit']\n",
    "    id_t = x['id_tariff']\n",
    "    if id_t == 0: \n",
    "        return duration*3+message*3+internet*200+550\n",
    "    return duration*1+message*1+internet*150+1950\n",
    "\n",
    "stat['revenu']=stat.apply(revenu, axis=1) \n",
    "stat['revenu']=stat['revenu'].round(2) #округляем до целых копеек\n",
    "\n",
    "stat.sample(2)"
   ]
  },
  {
   "cell_type": "markdown",
   "metadata": {},
   "source": [
    "### Выводы\n",
    "- сгруппировали данные по ежемесячному количеству звонков, sms и интернет-трафика по каждому клиенту\n",
    "- для интернет-трафика отдельные сесси не считаются, общая сумма трафика в Gb за месяц оклугляется в большую сторону. Привели к нужному виду\n",
    "- в связи с разницей в данных, в итоговой таблице появились NaN. Можно сделать предположение, что эти данные отстутствуют по причине того, что пользователи не пользовались какой-либо услугой за предоставленный месяц. Заменили на 0 (не пользовались)\n",
    "- посчитали помесячную выручку по каждому пользователю\n",
    "- для получения более релевантных данных необходимо разделить пользователей различных тарифов и провести анализ по каждой группе"
   ]
  },
  {
   "cell_type": "markdown",
   "metadata": {},
   "source": [
    "## Разница в предпочтениях пользователей разных тарифов."
   ]
  },
  {
   "cell_type": "markdown",
   "metadata": {},
   "source": [
    "### Разделение по тарифам"
   ]
  },
  {
   "cell_type": "code",
   "execution_count": 209,
   "metadata": {},
   "outputs": [],
   "source": [
    "#создадим две таблицы по тарифам\n",
    "smart = stat[stat['id_tariff'] == 0]\n",
    "ultra = stat[stat['id_tariff'] == 1]"
   ]
  },
  {
   "cell_type": "code",
   "execution_count": 210,
   "metadata": {
    "scrolled": true
   },
   "outputs": [
    {
     "data": {
      "text/html": [
       "<div>\n",
       "<style scoped>\n",
       "    .dataframe tbody tr th:only-of-type {\n",
       "        vertical-align: middle;\n",
       "    }\n",
       "\n",
       "    .dataframe tbody tr th {\n",
       "        vertical-align: top;\n",
       "    }\n",
       "\n",
       "    .dataframe thead th {\n",
       "        text-align: right;\n",
       "    }\n",
       "</style>\n",
       "<table border=\"1\" class=\"dataframe\">\n",
       "  <thead>\n",
       "    <tr style=\"text-align: right;\">\n",
       "      <th></th>\n",
       "      <th>count</th>\n",
       "      <th>mean</th>\n",
       "      <th>std</th>\n",
       "      <th>min</th>\n",
       "      <th>25%</th>\n",
       "      <th>50%</th>\n",
       "      <th>75%</th>\n",
       "      <th>max</th>\n",
       "    </tr>\n",
       "  </thead>\n",
       "  <tbody>\n",
       "    <tr>\n",
       "      <td>user_id</td>\n",
       "      <td>2229.0</td>\n",
       "      <td>1246.506505</td>\n",
       "      <td>146.119496</td>\n",
       "      <td>1001.0</td>\n",
       "      <td>1121.00</td>\n",
       "      <td>1239.00</td>\n",
       "      <td>1376.00</td>\n",
       "      <td>1499.00</td>\n",
       "    </tr>\n",
       "    <tr>\n",
       "      <td>mounth</td>\n",
       "      <td>2229.0</td>\n",
       "      <td>8.346792</td>\n",
       "      <td>2.920316</td>\n",
       "      <td>1.0</td>\n",
       "      <td>6.00</td>\n",
       "      <td>9.00</td>\n",
       "      <td>11.00</td>\n",
       "      <td>12.00</td>\n",
       "    </tr>\n",
       "    <tr>\n",
       "      <td>duration</td>\n",
       "      <td>2229.0</td>\n",
       "      <td>371.444145</td>\n",
       "      <td>169.885089</td>\n",
       "      <td>0.0</td>\n",
       "      <td>251.00</td>\n",
       "      <td>375.00</td>\n",
       "      <td>485.00</td>\n",
       "      <td>1275.00</td>\n",
       "    </tr>\n",
       "    <tr>\n",
       "      <td>calls_sum</td>\n",
       "      <td>2229.0</td>\n",
       "      <td>58.463437</td>\n",
       "      <td>25.939858</td>\n",
       "      <td>0.0</td>\n",
       "      <td>40.00</td>\n",
       "      <td>60.00</td>\n",
       "      <td>76.00</td>\n",
       "      <td>198.00</td>\n",
       "    </tr>\n",
       "    <tr>\n",
       "      <td>messages_sum</td>\n",
       "      <td>2229.0</td>\n",
       "      <td>33.384029</td>\n",
       "      <td>28.227876</td>\n",
       "      <td>0.0</td>\n",
       "      <td>10.00</td>\n",
       "      <td>28.00</td>\n",
       "      <td>51.00</td>\n",
       "      <td>143.00</td>\n",
       "    </tr>\n",
       "    <tr>\n",
       "      <td>internet_sum</td>\n",
       "      <td>2229.0</td>\n",
       "      <td>16208.386990</td>\n",
       "      <td>5870.476681</td>\n",
       "      <td>0.0</td>\n",
       "      <td>12643.01</td>\n",
       "      <td>16506.84</td>\n",
       "      <td>20042.93</td>\n",
       "      <td>38552.45</td>\n",
       "    </tr>\n",
       "    <tr>\n",
       "      <td>id_tariff</td>\n",
       "      <td>2229.0</td>\n",
       "      <td>0.000000</td>\n",
       "      <td>0.000000</td>\n",
       "      <td>0.0</td>\n",
       "      <td>0.00</td>\n",
       "      <td>0.00</td>\n",
       "      <td>0.00</td>\n",
       "      <td>0.00</td>\n",
       "    </tr>\n",
       "    <tr>\n",
       "      <td>internet_gb</td>\n",
       "      <td>2229.0</td>\n",
       "      <td>16.328847</td>\n",
       "      <td>5.747061</td>\n",
       "      <td>0.0</td>\n",
       "      <td>13.00</td>\n",
       "      <td>17.00</td>\n",
       "      <td>20.00</td>\n",
       "      <td>38.00</td>\n",
       "    </tr>\n",
       "    <tr>\n",
       "      <td>calls_limit</td>\n",
       "      <td>2229.0</td>\n",
       "      <td>21.788694</td>\n",
       "      <td>58.832963</td>\n",
       "      <td>0.0</td>\n",
       "      <td>0.00</td>\n",
       "      <td>0.00</td>\n",
       "      <td>0.00</td>\n",
       "      <td>775.00</td>\n",
       "    </tr>\n",
       "    <tr>\n",
       "      <td>message_limit</td>\n",
       "      <td>2229.0</td>\n",
       "      <td>5.799910</td>\n",
       "      <td>13.442456</td>\n",
       "      <td>0.0</td>\n",
       "      <td>0.00</td>\n",
       "      <td>0.00</td>\n",
       "      <td>1.00</td>\n",
       "      <td>93.00</td>\n",
       "    </tr>\n",
       "    <tr>\n",
       "      <td>internet_limit</td>\n",
       "      <td>2229.0</td>\n",
       "      <td>2.988784</td>\n",
       "      <td>3.682820</td>\n",
       "      <td>0.0</td>\n",
       "      <td>0.00</td>\n",
       "      <td>2.00</td>\n",
       "      <td>5.00</td>\n",
       "      <td>23.00</td>\n",
       "    </tr>\n",
       "    <tr>\n",
       "      <td>revenu</td>\n",
       "      <td>2229.0</td>\n",
       "      <td>1230.522656</td>\n",
       "      <td>785.489800</td>\n",
       "      <td>550.0</td>\n",
       "      <td>550.00</td>\n",
       "      <td>950.00</td>\n",
       "      <td>1667.00</td>\n",
       "      <td>6425.00</td>\n",
       "    </tr>\n",
       "  </tbody>\n",
       "</table>\n",
       "</div>"
      ],
      "text/plain": [
       "                 count          mean          std     min       25%       50%  \\\n",
       "user_id         2229.0   1246.506505   146.119496  1001.0   1121.00   1239.00   \n",
       "mounth          2229.0      8.346792     2.920316     1.0      6.00      9.00   \n",
       "duration        2229.0    371.444145   169.885089     0.0    251.00    375.00   \n",
       "calls_sum       2229.0     58.463437    25.939858     0.0     40.00     60.00   \n",
       "messages_sum    2229.0     33.384029    28.227876     0.0     10.00     28.00   \n",
       "internet_sum    2229.0  16208.386990  5870.476681     0.0  12643.01  16506.84   \n",
       "id_tariff       2229.0      0.000000     0.000000     0.0      0.00      0.00   \n",
       "internet_gb     2229.0     16.328847     5.747061     0.0     13.00     17.00   \n",
       "calls_limit     2229.0     21.788694    58.832963     0.0      0.00      0.00   \n",
       "message_limit   2229.0      5.799910    13.442456     0.0      0.00      0.00   \n",
       "internet_limit  2229.0      2.988784     3.682820     0.0      0.00      2.00   \n",
       "revenu          2229.0   1230.522656   785.489800   550.0    550.00    950.00   \n",
       "\n",
       "                     75%       max  \n",
       "user_id          1376.00   1499.00  \n",
       "mounth             11.00     12.00  \n",
       "duration          485.00   1275.00  \n",
       "calls_sum          76.00    198.00  \n",
       "messages_sum       51.00    143.00  \n",
       "internet_sum    20042.93  38552.45  \n",
       "id_tariff           0.00      0.00  \n",
       "internet_gb        20.00     38.00  \n",
       "calls_limit         0.00    775.00  \n",
       "message_limit       1.00     93.00  \n",
       "internet_limit      5.00     23.00  \n",
       "revenu           1667.00   6425.00  "
      ]
     },
     "execution_count": 210,
     "metadata": {},
     "output_type": "execute_result"
    }
   ],
   "source": [
    "smart.describe().T"
   ]
  },
  {
   "cell_type": "code",
   "execution_count": 211,
   "metadata": {
    "scrolled": true
   },
   "outputs": [
    {
     "data": {
      "text/html": [
       "<div>\n",
       "<style scoped>\n",
       "    .dataframe tbody tr th:only-of-type {\n",
       "        vertical-align: middle;\n",
       "    }\n",
       "\n",
       "    .dataframe tbody tr th {\n",
       "        vertical-align: top;\n",
       "    }\n",
       "\n",
       "    .dataframe thead th {\n",
       "        text-align: right;\n",
       "    }\n",
       "</style>\n",
       "<table border=\"1\" class=\"dataframe\">\n",
       "  <thead>\n",
       "    <tr style=\"text-align: right;\">\n",
       "      <th></th>\n",
       "      <th>count</th>\n",
       "      <th>mean</th>\n",
       "      <th>std</th>\n",
       "      <th>min</th>\n",
       "      <th>25%</th>\n",
       "      <th>50%</th>\n",
       "      <th>75%</th>\n",
       "      <th>max</th>\n",
       "    </tr>\n",
       "  </thead>\n",
       "  <tbody>\n",
       "    <tr>\n",
       "      <td>user_id</td>\n",
       "      <td>985.0</td>\n",
       "      <td>1263.094416</td>\n",
       "      <td>140.694908</td>\n",
       "      <td>1000.0</td>\n",
       "      <td>1143.00</td>\n",
       "      <td>1277.00</td>\n",
       "      <td>1381.00</td>\n",
       "      <td>1495.00</td>\n",
       "    </tr>\n",
       "    <tr>\n",
       "      <td>mounth</td>\n",
       "      <td>985.0</td>\n",
       "      <td>8.250761</td>\n",
       "      <td>2.871762</td>\n",
       "      <td>1.0</td>\n",
       "      <td>6.00</td>\n",
       "      <td>9.00</td>\n",
       "      <td>11.00</td>\n",
       "      <td>12.00</td>\n",
       "    </tr>\n",
       "    <tr>\n",
       "      <td>duration</td>\n",
       "      <td>985.0</td>\n",
       "      <td>467.923858</td>\n",
       "      <td>282.660479</td>\n",
       "      <td>0.0</td>\n",
       "      <td>253.00</td>\n",
       "      <td>458.00</td>\n",
       "      <td>670.00</td>\n",
       "      <td>1484.00</td>\n",
       "    </tr>\n",
       "    <tr>\n",
       "      <td>calls_sum</td>\n",
       "      <td>985.0</td>\n",
       "      <td>73.392893</td>\n",
       "      <td>43.916853</td>\n",
       "      <td>0.0</td>\n",
       "      <td>41.00</td>\n",
       "      <td>74.00</td>\n",
       "      <td>104.00</td>\n",
       "      <td>244.00</td>\n",
       "    </tr>\n",
       "    <tr>\n",
       "      <td>messages_sum</td>\n",
       "      <td>985.0</td>\n",
       "      <td>49.363452</td>\n",
       "      <td>47.804457</td>\n",
       "      <td>0.0</td>\n",
       "      <td>6.00</td>\n",
       "      <td>38.00</td>\n",
       "      <td>79.00</td>\n",
       "      <td>224.00</td>\n",
       "    </tr>\n",
       "    <tr>\n",
       "      <td>internet_sum</td>\n",
       "      <td>985.0</td>\n",
       "      <td>19468.805208</td>\n",
       "      <td>10087.170752</td>\n",
       "      <td>0.0</td>\n",
       "      <td>11770.26</td>\n",
       "      <td>19308.01</td>\n",
       "      <td>26837.69</td>\n",
       "      <td>49745.69</td>\n",
       "    </tr>\n",
       "    <tr>\n",
       "      <td>id_tariff</td>\n",
       "      <td>985.0</td>\n",
       "      <td>1.000000</td>\n",
       "      <td>0.000000</td>\n",
       "      <td>1.0</td>\n",
       "      <td>1.00</td>\n",
       "      <td>1.00</td>\n",
       "      <td>1.00</td>\n",
       "      <td>1.00</td>\n",
       "    </tr>\n",
       "    <tr>\n",
       "      <td>internet_gb</td>\n",
       "      <td>985.0</td>\n",
       "      <td>19.494416</td>\n",
       "      <td>9.853511</td>\n",
       "      <td>0.0</td>\n",
       "      <td>12.00</td>\n",
       "      <td>19.00</td>\n",
       "      <td>27.00</td>\n",
       "      <td>49.00</td>\n",
       "    </tr>\n",
       "    <tr>\n",
       "      <td>calls_limit</td>\n",
       "      <td>985.0</td>\n",
       "      <td>0.000000</td>\n",
       "      <td>0.000000</td>\n",
       "      <td>0.0</td>\n",
       "      <td>0.00</td>\n",
       "      <td>0.00</td>\n",
       "      <td>0.00</td>\n",
       "      <td>0.00</td>\n",
       "    </tr>\n",
       "    <tr>\n",
       "      <td>message_limit</td>\n",
       "      <td>985.0</td>\n",
       "      <td>0.000000</td>\n",
       "      <td>0.000000</td>\n",
       "      <td>0.0</td>\n",
       "      <td>0.00</td>\n",
       "      <td>0.00</td>\n",
       "      <td>0.00</td>\n",
       "      <td>0.00</td>\n",
       "    </tr>\n",
       "    <tr>\n",
       "      <td>internet_limit</td>\n",
       "      <td>985.0</td>\n",
       "      <td>0.801015</td>\n",
       "      <td>2.507914</td>\n",
       "      <td>0.0</td>\n",
       "      <td>0.00</td>\n",
       "      <td>0.00</td>\n",
       "      <td>0.00</td>\n",
       "      <td>19.00</td>\n",
       "    </tr>\n",
       "    <tr>\n",
       "      <td>revenu</td>\n",
       "      <td>985.0</td>\n",
       "      <td>2070.152284</td>\n",
       "      <td>376.187114</td>\n",
       "      <td>1950.0</td>\n",
       "      <td>1950.00</td>\n",
       "      <td>1950.00</td>\n",
       "      <td>1950.00</td>\n",
       "      <td>4800.00</td>\n",
       "    </tr>\n",
       "  </tbody>\n",
       "</table>\n",
       "</div>"
      ],
      "text/plain": [
       "                count          mean           std     min       25%       50%  \\\n",
       "user_id         985.0   1263.094416    140.694908  1000.0   1143.00   1277.00   \n",
       "mounth          985.0      8.250761      2.871762     1.0      6.00      9.00   \n",
       "duration        985.0    467.923858    282.660479     0.0    253.00    458.00   \n",
       "calls_sum       985.0     73.392893     43.916853     0.0     41.00     74.00   \n",
       "messages_sum    985.0     49.363452     47.804457     0.0      6.00     38.00   \n",
       "internet_sum    985.0  19468.805208  10087.170752     0.0  11770.26  19308.01   \n",
       "id_tariff       985.0      1.000000      0.000000     1.0      1.00      1.00   \n",
       "internet_gb     985.0     19.494416      9.853511     0.0     12.00     19.00   \n",
       "calls_limit     985.0      0.000000      0.000000     0.0      0.00      0.00   \n",
       "message_limit   985.0      0.000000      0.000000     0.0      0.00      0.00   \n",
       "internet_limit  985.0      0.801015      2.507914     0.0      0.00      0.00   \n",
       "revenu          985.0   2070.152284    376.187114  1950.0   1950.00   1950.00   \n",
       "\n",
       "                     75%       max  \n",
       "user_id          1381.00   1495.00  \n",
       "mounth             11.00     12.00  \n",
       "duration          670.00   1484.00  \n",
       "calls_sum         104.00    244.00  \n",
       "messages_sum       79.00    224.00  \n",
       "internet_sum    26837.69  49745.69  \n",
       "id_tariff           1.00      1.00  \n",
       "internet_gb        27.00     49.00  \n",
       "calls_limit         0.00      0.00  \n",
       "message_limit       0.00      0.00  \n",
       "internet_limit      0.00     19.00  \n",
       "revenu           1950.00   4800.00  "
      ]
     },
     "execution_count": 211,
     "metadata": {},
     "output_type": "execute_result"
    }
   ],
   "source": [
    "ultra.describe().T"
   ]
  },
  {
   "cell_type": "markdown",
   "metadata": {},
   "source": [
    "### Вывод по средним значениям"
   ]
  },
  {
   "cell_type": "markdown",
   "metadata": {},
   "source": [
    "__Смарт, в среднем за месяц:__"
   ]
  },
  {
   "cell_type": "code",
   "execution_count": 212,
   "metadata": {},
   "outputs": [
    {
     "name": "stdout",
     "output_type": "stream",
     "text": [
      "Минут разговора: 371.4441453566622\n",
      "Количество звонков: 58.46343651861822\n",
      "SMS: 33.384028712427096\n",
      "Интернет-трафика (Gb): 16.328847016599372\n",
      "Оплата: 1230.5226558995066\n",
      "\n",
      "Стандартное отклонение минут разговора: 169.88508933963502\n",
      "Стандартное отклонение количества звонков: 25.939858197409944\n",
      "Стандартное отклонение SMS: 28.22787555676141\n",
      "Стандартное отклонение интернет-трафика: 5.7470605685090534\n",
      "Стандартное отклонение оплаты: 785.4897996547785\n",
      "\n",
      "Дисперсия минут разговора: 28860.94357993577\n",
      "Дисперсия количества звонков: 672.8762433017358\n",
      "Дисперсия SMS: 796.8129584480083\n",
      "Дисперсия интернет-трафика: 33.02870517811161\n",
      "Дисперсия оплаты: 616994.225361704\n"
     ]
    }
   ],
   "source": [
    "print('Минут разговора:', smart['duration'].describe()['mean'])\n",
    "print('Количество звонков:', smart['calls_sum'].describe()['mean'])\n",
    "print('SMS:', smart['messages_sum'].describe()['mean'])\n",
    "print('Интернет-трафика (Gb):', smart['internet_gb'].describe()['mean'])\n",
    "print('Оплата:', smart['revenu'].describe()['mean'])\n",
    "print('')\n",
    "print('Стандартное отклонение минут разговора:', smart['duration'].describe()['std'])\n",
    "print('Стандартное отклонение количества звонков:', smart['calls_sum'].describe()['std'])\n",
    "print('Стандартное отклонение SMS:', smart['messages_sum'].describe()['std'])\n",
    "print('Стандартное отклонение интернет-трафика:', smart['internet_gb'].describe()['std'])\n",
    "print('Стандартное отклонение оплаты:', smart['revenu'].describe()['std'])\n",
    "print('')\n",
    "print('Дисперсия минут разговора:', smart['duration'].describe()['std'] ** 2)\n",
    "print('Дисперсия количества звонков:', smart['calls_sum'].describe()['std'] ** 2)\n",
    "print('Дисперсия SMS:', smart['messages_sum'].describe()['std'] ** 2)\n",
    "print('Дисперсия интернет-трафика:', smart['internet_gb'].describe()['std'] ** 2)\n",
    "print('Дисперсия оплаты:', smart['revenu'].describe()['std'] ** 2)"
   ]
  },
  {
   "cell_type": "markdown",
   "metadata": {},
   "source": [
    "__Ультра, в среднем за месяц:__"
   ]
  },
  {
   "cell_type": "code",
   "execution_count": 213,
   "metadata": {},
   "outputs": [
    {
     "name": "stdout",
     "output_type": "stream",
     "text": [
      "Минут разговора: 467.9238578680203\n",
      "Количество звонков: 73.39289340101523\n",
      "SMS: 49.36345177664975\n",
      "Интернет-трафика (Gb): 19.494416243654822\n",
      "Оплата: 2070.1522842639592\n",
      "\n",
      "Стандартное отклонение минут разговора: 282.66047907738397\n",
      "Стандартное отклонение количества звонков: 43.91685314426948\n",
      "Стандартное отклонение SMS: 47.80445735017472\n",
      "Стандартное отклонение интернет-трафика: 9.853511367510293\n",
      "Стандартное отклонение оплаты: 376.1871144505328\n",
      "\n",
      "Дисперсия минут разговора: 79896.94643225623\n",
      "Дисперсия количества звонков: 1928.6899900953322\n",
      "Дисперсия SMS: 2285.266142544674\n",
      "Дисперсия интернет-трафика: 97.09168626965457\n",
      "Дисперсия оплаты: 141516.7450786183\n"
     ]
    }
   ],
   "source": [
    "print('Минут разговора:', ultra['duration'].describe()['mean'])\n",
    "print('Количество звонков:', ultra['calls_sum'].describe()['mean'])\n",
    "print('SMS:', ultra['messages_sum'].describe()['mean'])\n",
    "print('Интернет-трафика (Gb):', ultra['internet_gb'].describe()['mean'])\n",
    "print('Оплата:', ultra['revenu'].describe()['mean'])\n",
    "print('')\n",
    "print('Стандартное отклонение минут разговора:', ultra['duration'].describe()['std'])\n",
    "print('Стандартное отклонение количества звонков:', ultra['calls_sum'].describe()['std'])\n",
    "print('Стандартное отклонение SMS:', ultra['messages_sum'].describe()['std'])\n",
    "print('Стандартное отклонение интернет-трафика:', ultra['internet_gb'].describe()['std'])\n",
    "print('Стандартное отклонение оплаты:', ultra['revenu'].describe()['std'])\n",
    "print('')\n",
    "print('Дисперсия минут разговора:', ultra['duration'].describe()['std'] ** 2)\n",
    "print('Дисперсия количества звонков:', ultra['calls_sum'].describe()['std'] ** 2)\n",
    "print('Дисперсия SMS:', ultra['messages_sum'].describe()['std'] ** 2)\n",
    "print('Дисперсия интернет-трафика:', ultra['internet_gb'].describe()['std'] ** 2)\n",
    "print('Дисперсия оплаты:', ultra['revenu'].describe()['std'] ** 2)"
   ]
  },
  {
   "cell_type": "markdown",
   "metadata": {},
   "source": [
    "- в среднем на обоих тарифах лимит не превышен исходя из средней продолжительности разговора\n",
    "- на тарифе Ультра в среднем длительность разговора превышает длительность на Смарт на 21%, при этом лимит разговоров выбран чуть более чем на 1/6\n",
    "- на тарифе Ультра в среднем количество звонков выше на 20%, из чего можно сделать вывод, что на обоих тарифах средняя продолжительность разговора примерно одинакова\n",
    "- в среднем, исходя из кол-ва отправленных SMS, на обоих тарифах лимит не превышен. В среднем на тарифе Ультра SMS отправляют чаще на 32%\n",
    "- интернет-трафика в на тарифе Смарт явно не хватает - он превышен более чем у 50% пользователей. На тарифе Ультра интернетом пользуются в среднем на 16% больше\n",
    "- средняя оплата на тарифе Смарт значительно превышает минимальную оплату (на 134%), медиана больше почти в 2 раза. \n",
    "- на обоих тарифах наблюдаентся очень большой разброс по стандартному отклонению (разброс до 1100%), кроме интернет-трафика (разброс от 5,7 до 9,9%%). Это может говорить о большом количестве выбросов в показателях\n",
    "- уже из полученных данных видно, что необходим 3-ий тариф с более высокой оплатой чем Смарт и с увеличенным количеством интернета, SMS и длительности звонков. Из медианы по этим показателям видно, что потенциальных клиентов для перехода со Смарта на 3-ий тариф более 50%"
   ]
  },
  {
   "cell_type": "markdown",
   "metadata": {},
   "source": [
    "### Распределение показателей"
   ]
  },
  {
   "cell_type": "markdown",
   "metadata": {},
   "source": [
    "#### Продолжительность звонков"
   ]
  },
  {
   "cell_type": "code",
   "execution_count": 214,
   "metadata": {},
   "outputs": [
    {
     "data": {
      "text/plain": [
       "Text(0, 0.5, 'Количество пользователей')"
      ]
     },
     "execution_count": 214,
     "metadata": {},
     "output_type": "execute_result"
    },
    {
     "data": {
      "image/png": "[encoded data removed]",
      "text/plain": [
       "<Figure size 720x360 with 1 Axes>"
      ]
     },
     "metadata": {
      "needs_background": "light"
     },
     "output_type": "display_data"
    }
   ],
   "source": [
    "#Смарт\n",
    "smart['duration'].plot(kind='hist', label='Смарт: продолжительность звонков, мин/мес',\n",
    "                       legend=True, bins=50)\n",
    "\n",
    "#Ультра\n",
    "ultra['duration'].plot(kind='hist', label='Ультра: продолжительность звонков, мин/мес',\n",
    "                       legend=True, grid=True, bins=50, figsize=(10,5), alpha=0.5)\n",
    "\n",
    "plt.xlabel('Продолжительность звонков')\n",
    "plt.ylabel('Количество пользователей') "
   ]
  },
  {
   "cell_type": "markdown",
   "metadata": {},
   "source": [
    "#### Количество звонков"
   ]
  },
  {
   "cell_type": "code",
   "execution_count": 215,
   "metadata": {},
   "outputs": [
    {
     "data": {
      "text/plain": [
       "Text(0, 0.5, 'Количество пользователей')"
      ]
     },
     "execution_count": 215,
     "metadata": {},
     "output_type": "execute_result"
    },
    {
     "data": {
      "image/png": "[encoded data removed]",
      "text/plain": [
       "<Figure size 720x360 with 1 Axes>"
      ]
     },
     "metadata": {
      "needs_background": "light"
     },
     "output_type": "display_data"
    }
   ],
   "source": [
    "#Смарт\n",
    "smart['calls_sum'].plot(kind='hist', label='Смарт: количество звонков за месяц',\n",
    "                       legend=True, grid=True, bins=50, figsize=(10,5))\n",
    "\n",
    "#Ультра\n",
    "ultra['calls_sum'].plot(kind='hist', label='Ультра: количество звонков за месяц',\n",
    "                       legend=True, grid=True, bins=50, figsize=(10,5), alpha=0.5)\n",
    "\n",
    "plt.xlabel('Количество звонков за месяц')\n",
    "plt.ylabel('Количество пользователей') "
   ]
  },
  {
   "cell_type": "markdown",
   "metadata": {},
   "source": [
    "#### Количество SMS"
   ]
  },
  {
   "cell_type": "code",
   "execution_count": 216,
   "metadata": {},
   "outputs": [
    {
     "data": {
      "text/plain": [
       "Text(0, 0.5, 'Количество пользователей')"
      ]
     },
     "execution_count": 216,
     "metadata": {},
     "output_type": "execute_result"
    },
    {
     "data": {
      "image/png": "[encoded data removed]",
      "text/plain": [
       "<Figure size 720x360 with 1 Axes>"
      ]
     },
     "metadata": {
      "needs_background": "light"
     },
     "output_type": "display_data"
    }
   ],
   "source": [
    "#Смарт\n",
    "smart['messages_sum'].plot(kind='hist', label='Смарт: количество SMS за месяц',\n",
    "                       legend=True, bins=50)\n",
    "\n",
    "#Ультра\n",
    "ultra['messages_sum'].plot(kind='hist', label='Ультра: количество SMS за месяц',\n",
    "                       legend=True, grid=True, bins=50, figsize=(10,5), alpha=0.5)\n",
    "\n",
    "plt.xlabel('Количество SMS за месяц')\n",
    "plt.ylabel('Количество пользователей') "
   ]
  },
  {
   "cell_type": "markdown",
   "metadata": {},
   "source": [
    "#### Количество интернет-трафика"
   ]
  },
  {
   "cell_type": "code",
   "execution_count": 217,
   "metadata": {},
   "outputs": [
    {
     "data": {
      "text/plain": [
       "Text(0, 0.5, 'Количество пользователей')"
      ]
     },
     "execution_count": 217,
     "metadata": {},
     "output_type": "execute_result"
    },
    {
     "data": {
      "image/png": "[encoded data removed]",
      "text/plain": [
       "<Figure size 720x360 with 1 Axes>"
      ]
     },
     "metadata": {
      "needs_background": "light"
     },
     "output_type": "display_data"
    }
   ],
   "source": [
    "#Смарт\n",
    "i=smart['internet_gb'].plot(kind='hist', label='Смарт: количество интернет-трафика Gb/мес',\n",
    "                       legend=True, bins=15)\n",
    "i.annotate('Лимит трафика Смарт', xy=(15, 350), xytext=(30, 300),\n",
    "            arrowprops={'facecolor': 'red', 'shrink': 0.1})\n",
    "\n",
    "\n",
    "#Ультра\n",
    "n=ultra['internet_gb'].plot(kind='hist', label='Ультра: количество интернет-трафика Gb/мес',\n",
    "                       legend=True, grid=True, bins=15, figsize=(10,5), alpha=0.5)\n",
    "n.annotate('Лимит трафика Ультра', xy=(30, 50), xytext=(30, 250),\n",
    "            arrowprops={'facecolor': 'green', 'shrink': 0.1})\n",
    "\n",
    "plt.xlabel('Количество интернет-трафика Gb/мес')\n",
    "plt.ylabel('Количество пользователей') "
   ]
  },
  {
   "cell_type": "markdown",
   "metadata": {},
   "source": [
    "#### Оплата за месяц"
   ]
  },
  {
   "cell_type": "code",
   "execution_count": 218,
   "metadata": {
    "scrolled": true
   },
   "outputs": [
    {
     "data": {
      "text/plain": [
       "Text(0, 0.5, 'Количество пользователей')"
      ]
     },
     "execution_count": 218,
     "metadata": {},
     "output_type": "execute_result"
    },
    {
     "data": {
      "image/png": "[encoded data removed]",
      "text/plain": [
       "<Figure size 720x360 with 1 Axes>"
      ]
     },
     "metadata": {
      "needs_background": "light"
     },
     "output_type": "display_data"
    }
   ],
   "source": [
    "#Смарт\n",
    "smart['revenu'].plot(kind='hist', label='Смарт: оплата за месяц',\n",
    "                       legend=True, bins=50)\n",
    "\n",
    "#Ультра\n",
    "ultra['revenu'].plot(kind='hist', label='Ультра: оплата за месяц',\n",
    "                       legend=True, grid=True, bins=50, figsize=(10,5), alpha=0.5)\n",
    "\n",
    "plt.xlabel('Оплата за месяц')\n",
    "plt.ylabel('Количество пользователей') "
   ]
  },
  {
   "cell_type": "markdown",
   "metadata": {},
   "source": [
    "### Вывод по распределениям\n",
    "- продолжительность звонков:\n",
    "    - Смарт: нормальное распределение\n",
    "    - Ультра: распределаение Пуасона\n",
    "- количество звонков:\n",
    "    - Смарт: нормальное распределение\n",
    "    - Ультра: распределаение Пуасона\n",
    "- количество SMS:\n",
    "    - Смарт: распределаение Пуасона\n",
    "    - Ультра: распределаение Пуасона\n",
    "- количество интернет-трафика:\n",
    "    - Смарт: нормальное распределение\n",
    "    - Ультра: нормальное распределение\n",
    "- оплата за месяц:\n",
    "    - Смарт: распределаение Пуасона\n",
    "    - Ультра: распределаение Пуасона"
   ]
  },
  {
   "cell_type": "markdown",
   "metadata": {},
   "source": [
    "### Общий вывод по предпочтениям пользователей разных тарифов\n",
    "- не укладываюься в лимит звонков: на тарифе Смарт около 34%, на тарифе Ультра 0%\n",
    "- на тарифе Ультра в среднем длительность разговора превышает длительность на Смарт на 21%\n",
    "- средняя продолжительность 1 звонка: Смарт - 7 мин 9 сек, Ультра - 7 мин 11 сек.\n",
    "- на тарифе Ультра в среднем количество звонков выше на 20%\n",
    "- не укладываюься в лимит SMS: на тарифе Смарт около 26%, на тарифе Ультра 0%\n",
    "- в среднем на тарифе Ультра SMS отправляют чаще на 32%\n",
    "- не укладываюься в лимит инертнет-трафика: на тарифе Смарт около 65%, на тарифе Ультра 15%\n",
    "- на тарифе Ультра интернетом пользуются в среднем на 16% больше\n",
    "- не укладываются в абонентскую плату: на тарифе Смарт окло 75%, на тарифе Ультра около 14%\n",
    "- показатели на тарифе Ультра распределены более сглажено чем на тарифе Смарт. Происходит это по двум причинам:\n",
    "    - диапазон значений разговоров, SMS и интернета в тарифе Ультра больше чем в Смарт\n",
    "    - выборка по количеству пользователей на тарифе Смарт превышает аналогичную выборку по тарифу Ультра более чем в 2 раза\n",
    "- выборка на тарифе Смарт состоит из 350 уникальных пользователей, в среднем каждый пользовался тарифом 6.4 месяца в заданный период\n",
    "- выборка на тарифе Ультра состоит из 148 уникальных пользователей, в среднем каждый пользовался тарифом 2.8 месяца в заданный период\n",
    "- отток клиентов с тарифа Ультра возможен из-за того, что пользователи укладываются в лимиты более дешевого тарифа Смарт - в случае продолжительности звонков в 54% случаев, в случае SMS в 59%, в случае с интернет-трафиком в 36%\n",
    "- рекомендуется добавить 3-ий тариф с более высокой оплатой чем Смарт и с увеличенным количеством интернета, SMS и длительности звонков. Количество потенциальных клиентов для перехода со Смарта на новый тариф, которые не укладываются в абон.плату хотя бы в один из месяцев более чем на 20%, составляет более 68%.\n",
    "- уже сейчас можно сделать обзвон клиентов тарифа Смарт, чьи расходы превышают 1950 руб. в месяц, с предложением перейти на тариф Ультра. Таких в выборке почти 19%"
   ]
  },
  {
   "cell_type": "markdown",
   "metadata": {},
   "source": [
    "## Гипотезы"
   ]
  },
  {
   "cell_type": "markdown",
   "metadata": {},
   "source": [
    "### Отличие выручки пользвателей разных тарифов"
   ]
  },
  {
   "cell_type": "code",
   "execution_count": 219,
   "metadata": {},
   "outputs": [
    {
     "name": "stdout",
     "output_type": "stream",
     "text": [
      "P-value: 5.5514986360950055e-295\n"
     ]
    },
    {
     "data": {
      "text/plain": [
       "'Отвергаем нулевую гипотезу'"
      ]
     },
     "metadata": {},
     "output_type": "display_data"
    }
   ],
   "source": [
    "# Нулевая гипотеза - средняя выручка равна.\n",
    "# Альтернативная гипотеза - средняя выручка пользователей тарифов «Ультра» и «Смарт» различается\".\n",
    "# Использую метод scipy.stats.ttest_ind (проверка равенства 2-х совокупностей)\n",
    "# Установим equal_var = False, потому что выборки отличаются.\n",
    "# Критический уровень значимости - 5%.\n",
    "\n",
    "alpha=0.05\n",
    "results=st.ttest_ind(smart['revenu'], ultra['revenu'], equal_var=False)\n",
    "print('P-value:', results.pvalue)\n",
    "\n",
    "if results.pvalue < alpha:\n",
    "    display(\"Отвергаем нулевую гипотезу\")\n",
    "else:\n",
    "    display(\"Не получилось отвергнуть нулевую гипотезу\")"
   ]
  },
  {
   "cell_type": "markdown",
   "metadata": {},
   "source": [
    "### Отличие выручки пользователей из Москвы от других регионов"
   ]
  },
  {
   "cell_type": "code",
   "execution_count": 220,
   "metadata": {},
   "outputs": [
    {
     "name": "stdout",
     "output_type": "stream",
     "text": [
      "Количество пользователей тарифа Смарт в Москве: 386\n",
      "Количество пользователей тарифа Ультра в Москве: 225\n",
      "Количество пользователей тарифа Смарт в регионах: 1843\n",
      "Количество пользователей тарифа Ультра в регионах: 760\n",
      "\n",
      "Гипотеза по всей выборке:\n",
      "P-value: 0.4324575194613709\n",
      "Не получилось отвергнуть нулевую гипотезу\n",
      "\n",
      "Гипотеза по тарифу Смарт:\n",
      "P-value: 0.14349671693663177\n",
      "Не получилось отвергнуть нулевую гипотезу\n",
      "\n",
      "Гипотеза по тарифу Ультра:\n",
      "P-value: 0.8544997530689904\n",
      "Не получилось отвергнуть нулевую гипотезу\n"
     ]
    }
   ],
   "source": [
    "# Нулевая гипотеза - средняя выручка пользователей из Москвы равна средней выручке пользователей из других регионов.\n",
    "# Альтернативная гипотеза - средняя выручка пользователей из Москвы различается со средней региональной выручкой\".\n",
    "# Использую метод scipy.stats.ttest_ind (проверка равенства 2-х совокупностей)\n",
    "# Установим equal_var = False, потому что выборки отличаются.\n",
    "# Критический уровень значимости - 5%.\n",
    "\n",
    "#создаем 2 таблицы, в одной будут все пользователи из москвы, во второй - из регионов\n",
    "moscow=stat[stat['city'] == 'Москва']\n",
    "region=stat[stat['city'] != 'Москва']\n",
    "\n",
    "#соотношениt пользователей разных тарифов в Москве и регионах\n",
    "moscow_smart=moscow[moscow['id_tariff']==0]\n",
    "moscow_ultra=moscow[moscow['id_tariff']==1]\n",
    "region_smart=region[region['id_tariff']==0]\n",
    "region_ultra=region[region['id_tariff']==1]\n",
    "print ('Количество пользователей тарифа Смарт в Москве:', len(moscow_smart))\n",
    "print ('Количество пользователей тарифа Ультра в Москве:', len(moscow_ultra))\n",
    "print ('Количество пользователей тарифа Смарт в регионах:', len(region_smart))\n",
    "print ('Количество пользователей тарифа Ультра в регионах:', len(region_ultra))\n",
    "\n",
    "# проверяем гипотезу по всей выборке\n",
    "alpha=0.05\n",
    "results=st.ttest_ind(moscow['revenu'], region['revenu'], equal_var = False)\n",
    "print('')\n",
    "print('Гипотеза по всей выборке:')\n",
    "print('P-value:', results.pvalue)\n",
    "if (results.pvalue < alpha):\n",
    "    print(\"Отвергаем нулевую гипотезу\")\n",
    "else:\n",
    "    print(\"Не получилось отвергнуть нулевую гипотезу\")\n",
    "    \n",
    "# проверяем гипотезу по тарифу Смарт\n",
    "alpha=0.05\n",
    "results=st.ttest_ind(moscow_smart['revenu'], region_smart['revenu'], equal_var = False)\n",
    "print('')\n",
    "print('Гипотеза по тарифу Смарт:')\n",
    "print('P-value:', results.pvalue)\n",
    "if (results.pvalue < alpha):\n",
    "    print(\"Отвергаем нулевую гипотезу\")\n",
    "else:\n",
    "    print(\"Не получилось отвергнуть нулевую гипотезу\")\n",
    "\n",
    "# проверяем гипотезу по тарифу Ультра\n",
    "alpha=0.05\n",
    "results=st.ttest_ind(moscow_ultra['revenu'], region_ultra['revenu'], equal_var = False)\n",
    "print('')\n",
    "print('Гипотеза по тарифу Ультра:')\n",
    "print('P-value:', results.pvalue)\n",
    "if (results.pvalue < alpha):\n",
    "    print(\"Отвергаем нулевую гипотезу\")\n",
    "else:\n",
    "    print(\"Не получилось отвергнуть нулевую гипотезу\") "
   ]
  },
  {
   "cell_type": "markdown",
   "metadata": {},
   "source": [
    "### Вывод\n",
    "- Гипотеза об отличии выручки пользователей разных тарифов:\n",
    "    - нулевой гипотезой была гипотеза о равенстве средней выручки. Очень маленькое значение p-value говорит нам о том, вероятность случайного совпадения средних ничтожно мало. Нулевая гипотеза отвергается.\n",
    "    - альтернативная гипотеза о том, что средняя выручка пользователей тарифов «Ультра» и «Смарт» различается, не отвергается.\n",
    "- Гиппотеза об отличии выручки пользователей из Москвы и регионов\n",
    "    - p-value всо всех 3-х случаях больше нашего критического уровня значимости, а значит мы не можем отвергнуть нулевую гипотезу, которая говорит нам о равенстве средней выручки.\n",
    "    - альтернативную гипотезу о различии средней выручки мы отвергаем."
   ]
  },
  {
   "cell_type": "markdown",
   "metadata": {},
   "source": [
    "## Общий вывод\n",
    "- в данных о длительности разговора и потребленном интернет-трафике имелись 0. Это не являлось ошибкой, так как это пропущенные звонки и отсутствие интернет-сессий.\n",
    "- по правилам компании длительность разговоров каждой сессии всегда округляется вверх - скорректировали данные\n",
    "- преобразовали тип данных в столбцах. Это позволило сократить размер предоставленных данных с 14.7 до 8.6Mb. Экономия ресурсов составила более 41%\n",
    "- для интернет-трафика отдельные сессии не считаются, общая сумма трафика в Gb за месяц оклугляется в большую сторону. Привели к нужному виду\n",
    "- более 1/3 пользователей тарифа Смарт не укладываются в лимит по звонкам и SMS, в тарфе Ультра такой проблемы нет\n",
    "- средняя продолжительность звонков на обоих тарифах практически совпадает\n",
    "- на тарифе Ультра в среднем количество звонков выше на 20%\n",
    "- в среднем на тарифе Ультра SMS отправляют чаще на 32%\n",
    "- не укладываюься в лимит инертнет-трафика: на тарифе Смарт около 65%, на тарифе Ультра 15%\n",
    "- на тарифе Ультра интернетом пользуются в среднем на 16% больше\n",
    "- не укладываются в абонентскую плату: на тарифе Смарт окло 75%, на тарифе Ультра около 14%\n",
    "- в среднем в заданный интервал времени пользователи пользуются тарифом Смарт 6,4 месяца, тарифом Ультра 2,8 месяца\n",
    "- отток клиентов с тарифа Ультра возможен из-за того, что больше половины пользователи укладываются в лимиты более дешевого тарифа Смарт\n",
    "- рекомендуется добавить 3-ий тариф с более высокой оплатой чем Смарт и с увеличенным количеством интернета, SMS и длительности звонков. Количество потенциальных клиентов для перехода со Смарта на новый тариф, которые не укладывались в абон.плату более чем на 20% хотя бы в один из месяцев, составляет более 68%.\n",
    "- уже сейчас можно сделать обзвон клиентов тарифа Смарт, чьи расходы превышают 1950 руб. в месяц, с предложением перейти на тариф Ультра. Таких в выборке почти 19%"
   ]
  }
 ],
 "metadata": {
  "ExecuteTimeLog": [
   {
    "duration": 9,
    "start_time": "2021-12-11T06:52:50.162Z"
   },
   {
    "duration": 457,
    "start_time": "2021-12-11T06:53:50.312Z"
   },
   {
    "duration": 88,
    "start_time": "2021-12-11T06:53:50.683Z"
   },
   {
    "duration": 919,
    "start_time": "2021-12-11T06:54:03.733Z"
   },
   {
    "duration": 15,
    "start_time": "2021-12-11T06:54:04.654Z"
   },
   {
    "duration": 512,
    "start_time": "2021-12-11T06:55:55.077Z"
   },
   {
    "duration": 540,
    "start_time": "2021-12-11T06:56:32.158Z"
   },
   {
    "duration": 112,
    "start_time": "2021-12-11T06:56:39.770Z"
   },
   {
    "duration": 520,
    "start_time": "2021-12-11T06:56:53.832Z"
   },
   {
    "duration": 599,
    "start_time": "2021-12-11T06:57:04.212Z"
   },
   {
    "duration": 3962,
    "start_time": "2021-12-11T07:04:42.612Z"
   },
   {
    "duration": 14195,
    "start_time": "2021-12-11T07:04:58.244Z"
   },
   {
    "duration": 9531,
    "start_time": "2021-12-11T07:05:33.675Z"
   },
   {
    "duration": 787,
    "start_time": "2021-12-11T07:05:43.210Z"
   },
   {
    "duration": 549,
    "start_time": "2021-12-11T07:05:44.001Z"
   },
   {
    "duration": 111,
    "start_time": "2021-12-11T07:08:04.950Z"
   },
   {
    "duration": 118,
    "start_time": "2021-12-11T07:08:15.075Z"
   },
   {
    "duration": 130,
    "start_time": "2021-12-11T07:09:44.896Z"
   },
   {
    "duration": 105,
    "start_time": "2021-12-11T07:15:27.105Z"
   },
   {
    "duration": 97,
    "start_time": "2021-12-11T07:16:04.265Z"
   },
   {
    "duration": 9382,
    "start_time": "2021-12-11T07:16:37.963Z"
   },
   {
    "duration": 5,
    "start_time": "2021-12-11T07:17:37.510Z"
   },
   {
    "duration": 832,
    "start_time": "2021-12-11T07:18:09.935Z"
   },
   {
    "duration": 549,
    "start_time": "2021-12-11T07:18:10.770Z"
   },
   {
    "duration": 546,
    "start_time": "2021-12-11T07:22:54.906Z"
   },
   {
    "duration": 20,
    "start_time": "2021-12-11T07:23:52.546Z"
   },
   {
    "duration": 19,
    "start_time": "2021-12-11T07:24:08.854Z"
   },
   {
    "duration": 76,
    "start_time": "2021-12-11T07:25:10.974Z"
   },
   {
    "duration": 1350,
    "start_time": "2021-12-11T07:26:32.365Z"
   },
   {
    "duration": 64,
    "start_time": "2021-12-11T07:27:27.974Z"
   },
   {
    "duration": 71,
    "start_time": "2021-12-11T07:27:44.293Z"
   },
   {
    "duration": 83,
    "start_time": "2021-12-11T07:28:00.486Z"
   },
   {
    "duration": 76,
    "start_time": "2021-12-11T07:28:18.107Z"
   },
   {
    "duration": 57,
    "start_time": "2021-12-11T07:28:56.399Z"
   },
   {
    "duration": 302,
    "start_time": "2021-12-11T07:30:00.009Z"
   },
   {
    "duration": 72,
    "start_time": "2021-12-11T07:30:10.929Z"
   },
   {
    "duration": 72,
    "start_time": "2021-12-11T07:30:47.437Z"
   },
   {
    "duration": 532,
    "start_time": "2021-12-11T07:35:00.164Z"
   },
   {
    "duration": 103,
    "start_time": "2021-12-11T07:36:51.166Z"
   },
   {
    "duration": 99,
    "start_time": "2021-12-11T07:37:51.525Z"
   },
   {
    "duration": 91,
    "start_time": "2021-12-11T07:38:31.901Z"
   },
   {
    "duration": 91,
    "start_time": "2021-12-11T07:38:54.006Z"
   },
   {
    "duration": 89,
    "start_time": "2021-12-11T07:39:56.004Z"
   },
   {
    "duration": 107,
    "start_time": "2021-12-11T07:40:55.370Z"
   },
   {
    "duration": 98,
    "start_time": "2021-12-11T07:54:21.628Z"
   },
   {
    "duration": 440,
    "start_time": "2021-12-11T08:05:49.444Z"
   },
   {
    "duration": 538,
    "start_time": "2021-12-11T08:06:30.404Z"
   },
   {
    "duration": 123,
    "start_time": "2021-12-11T08:06:52.855Z"
   },
   {
    "duration": 137,
    "start_time": "2021-12-11T08:11:17.655Z"
   },
   {
    "duration": 115,
    "start_time": "2021-12-11T08:11:34.995Z"
   },
   {
    "duration": 139,
    "start_time": "2021-12-11T08:13:31.739Z"
   },
   {
    "duration": 140,
    "start_time": "2021-12-11T08:18:17.494Z"
   },
   {
    "duration": 146,
    "start_time": "2021-12-11T08:26:05.155Z"
   },
   {
    "duration": 101,
    "start_time": "2021-12-11T08:26:17.281Z"
   },
   {
    "duration": 141,
    "start_time": "2021-12-11T08:35:08.727Z"
   },
   {
    "duration": 125,
    "start_time": "2021-12-11T08:38:45.094Z"
   },
   {
    "duration": 175,
    "start_time": "2021-12-11T08:41:29.194Z"
   },
   {
    "duration": 701,
    "start_time": "2021-12-11T08:43:43.254Z"
   },
   {
    "duration": 621,
    "start_time": "2021-12-11T08:43:57.066Z"
   },
   {
    "duration": 146,
    "start_time": "2021-12-11T08:44:06.062Z"
   },
   {
    "duration": 150,
    "start_time": "2021-12-11T08:45:01.525Z"
   },
   {
    "duration": 101,
    "start_time": "2021-12-11T08:48:58.003Z"
   },
   {
    "duration": 120,
    "start_time": "2021-12-11T08:49:01.506Z"
   },
   {
    "duration": 118,
    "start_time": "2021-12-11T08:50:53.261Z"
   },
   {
    "duration": 3,
    "start_time": "2021-12-11T08:51:49.278Z"
   },
   {
    "duration": 110,
    "start_time": "2021-12-11T08:56:15.873Z"
   },
   {
    "duration": 6,
    "start_time": "2021-12-11T09:00:06.582Z"
   },
   {
    "duration": 6,
    "start_time": "2021-12-11T09:01:00.820Z"
   },
   {
    "duration": 5,
    "start_time": "2021-12-11T09:01:08.467Z"
   },
   {
    "duration": 4,
    "start_time": "2021-12-11T09:01:16.273Z"
   },
   {
    "duration": 4,
    "start_time": "2021-12-11T09:01:19.280Z"
   },
   {
    "duration": 5,
    "start_time": "2021-12-11T09:01:33.292Z"
   },
   {
    "duration": 5,
    "start_time": "2021-12-11T09:02:58.710Z"
   },
   {
    "duration": 5,
    "start_time": "2021-12-11T09:03:05.274Z"
   },
   {
    "duration": 289,
    "start_time": "2021-12-11T09:06:51.386Z"
   },
   {
    "duration": 626,
    "start_time": "2021-12-11T09:06:56.338Z"
   },
   {
    "duration": 388,
    "start_time": "2021-12-11T09:08:43.380Z"
   },
   {
    "duration": 304,
    "start_time": "2021-12-11T09:09:28.507Z"
   },
   {
    "duration": 94,
    "start_time": "2021-12-11T09:09:46.955Z"
   },
   {
    "duration": 314,
    "start_time": "2021-12-11T09:10:00.033Z"
   },
   {
    "duration": 6,
    "start_time": "2021-12-11T09:11:56.154Z"
   },
   {
    "duration": 17,
    "start_time": "2021-12-11T09:12:09.897Z"
   },
   {
    "duration": 314,
    "start_time": "2021-12-11T09:12:31.420Z"
   },
   {
    "duration": 305,
    "start_time": "2021-12-11T09:12:45.935Z"
   },
   {
    "duration": 17,
    "start_time": "2021-12-11T09:14:10.027Z"
   },
   {
    "duration": 17,
    "start_time": "2021-12-11T09:14:20.315Z"
   },
   {
    "duration": 4,
    "start_time": "2021-12-11T09:14:29.755Z"
   },
   {
    "duration": 513,
    "start_time": "2021-12-11T09:14:29.761Z"
   },
   {
    "duration": 98,
    "start_time": "2021-12-11T09:14:30.277Z"
   },
   {
    "duration": 110,
    "start_time": "2021-12-11T09:14:30.378Z"
   },
   {
    "duration": 17,
    "start_time": "2021-12-11T09:14:30.490Z"
   },
   {
    "duration": 316,
    "start_time": "2021-12-11T09:15:50.373Z"
   },
   {
    "duration": 11,
    "start_time": "2021-12-11T09:15:58.606Z"
   },
   {
    "duration": 338,
    "start_time": "2021-12-11T09:16:33.148Z"
   },
   {
    "duration": 18,
    "start_time": "2021-12-11T09:18:28.934Z"
   },
   {
    "duration": 37,
    "start_time": "2021-12-11T09:18:47.314Z"
   },
   {
    "duration": 11,
    "start_time": "2021-12-11T09:23:48.653Z"
   },
   {
    "duration": 24,
    "start_time": "2021-12-11T09:23:56.914Z"
   },
   {
    "duration": 4,
    "start_time": "2021-12-11T09:24:06.036Z"
   },
   {
    "duration": 531,
    "start_time": "2021-12-11T09:24:06.042Z"
   },
   {
    "duration": 95,
    "start_time": "2021-12-11T09:24:06.577Z"
   },
   {
    "duration": 118,
    "start_time": "2021-12-11T09:24:06.675Z"
   },
   {
    "duration": 20,
    "start_time": "2021-12-11T09:24:06.796Z"
   },
   {
    "duration": 26,
    "start_time": "2021-12-11T09:25:31.602Z"
   },
   {
    "duration": 344,
    "start_time": "2021-12-11T09:26:05.983Z"
   },
   {
    "duration": 3,
    "start_time": "2021-12-11T09:26:16.595Z"
   },
   {
    "duration": 528,
    "start_time": "2021-12-11T09:26:16.602Z"
   },
   {
    "duration": 86,
    "start_time": "2021-12-11T09:26:17.134Z"
   },
   {
    "duration": 162,
    "start_time": "2021-12-11T09:26:17.224Z"
   },
   {
    "duration": 28,
    "start_time": "2021-12-11T09:26:17.389Z"
   },
   {
    "duration": 308,
    "start_time": "2021-12-11T09:26:39.766Z"
   },
   {
    "duration": 4,
    "start_time": "2021-12-11T09:26:47.134Z"
   },
   {
    "duration": 547,
    "start_time": "2021-12-11T09:26:47.140Z"
   },
   {
    "duration": 89,
    "start_time": "2021-12-11T09:26:47.690Z"
   },
   {
    "duration": 127,
    "start_time": "2021-12-11T09:26:47.783Z"
   },
   {
    "duration": 12,
    "start_time": "2021-12-11T09:26:47.913Z"
   },
   {
    "duration": 5,
    "start_time": "2021-12-11T09:29:35.108Z"
   },
   {
    "duration": 12,
    "start_time": "2021-12-11T09:30:00.148Z"
   },
   {
    "duration": 38,
    "start_time": "2021-12-11T09:30:34.480Z"
   },
   {
    "duration": 9,
    "start_time": "2021-12-11T09:36:02.154Z"
   },
   {
    "duration": 8,
    "start_time": "2021-12-11T09:36:08.187Z"
   },
   {
    "duration": 34,
    "start_time": "2021-12-11T09:36:27.270Z"
   },
   {
    "duration": 108,
    "start_time": "2021-12-11T09:37:14.345Z"
   },
   {
    "duration": 311,
    "start_time": "2021-12-11T09:37:19.133Z"
   },
   {
    "duration": 6,
    "start_time": "2021-12-11T09:38:21.155Z"
   },
   {
    "duration": 10,
    "start_time": "2021-12-11T09:38:33.714Z"
   },
   {
    "duration": 6,
    "start_time": "2021-12-11T09:38:52.322Z"
   },
   {
    "duration": 38,
    "start_time": "2021-12-11T09:39:23.842Z"
   },
   {
    "duration": 6,
    "start_time": "2021-12-11T09:40:00.045Z"
   },
   {
    "duration": 34,
    "start_time": "2021-12-11T09:40:09.633Z"
   },
   {
    "duration": 3,
    "start_time": "2021-12-11T09:40:20.801Z"
   },
   {
    "duration": 556,
    "start_time": "2021-12-11T09:40:20.807Z"
   },
   {
    "duration": 68,
    "start_time": "2021-12-11T09:40:21.366Z"
   },
   {
    "duration": 120,
    "start_time": "2021-12-11T09:40:21.469Z"
   },
   {
    "duration": 4,
    "start_time": "2021-12-11T09:40:21.591Z"
   },
   {
    "duration": 29,
    "start_time": "2021-12-11T09:40:21.598Z"
   },
   {
    "duration": 60,
    "start_time": "2021-12-11T09:40:21.630Z"
   },
   {
    "duration": 33,
    "start_time": "2021-12-11T09:40:21.693Z"
   },
   {
    "duration": 18,
    "start_time": "2021-12-11T09:47:21.736Z"
   },
   {
    "duration": 100,
    "start_time": "2021-12-11T09:47:36.814Z"
   },
   {
    "duration": 8,
    "start_time": "2021-12-11T09:52:31.011Z"
   },
   {
    "duration": 3,
    "start_time": "2021-12-11T09:59:33.039Z"
   },
   {
    "duration": 529,
    "start_time": "2021-12-11T09:59:33.045Z"
   },
   {
    "duration": 100,
    "start_time": "2021-12-11T09:59:33.578Z"
   },
   {
    "duration": 117,
    "start_time": "2021-12-11T09:59:33.681Z"
   },
   {
    "duration": 4,
    "start_time": "2021-12-11T09:59:33.801Z"
   },
   {
    "duration": 14,
    "start_time": "2021-12-11T09:59:33.807Z"
   },
   {
    "duration": 73,
    "start_time": "2021-12-11T09:59:33.824Z"
   },
   {
    "duration": 10,
    "start_time": "2021-12-11T09:59:33.899Z"
   },
   {
    "duration": 6,
    "start_time": "2021-12-11T09:59:42.199Z"
   },
   {
    "duration": 10,
    "start_time": "2021-12-11T09:59:49.002Z"
   },
   {
    "duration": 95,
    "start_time": "2021-12-11T10:02:43.277Z"
   },
   {
    "duration": 425,
    "start_time": "2021-12-11T10:04:31.763Z"
   },
   {
    "duration": 100,
    "start_time": "2021-12-11T10:04:41.953Z"
   },
   {
    "duration": 143,
    "start_time": "2021-12-11T10:04:47.190Z"
   },
   {
    "duration": 241,
    "start_time": "2021-12-11T10:06:11.982Z"
   },
   {
    "duration": 875,
    "start_time": "2021-12-11T10:06:23.122Z"
   },
   {
    "duration": 76,
    "start_time": "2021-12-11T10:06:32.852Z"
   },
   {
    "duration": 68,
    "start_time": "2021-12-11T10:06:45.765Z"
   },
   {
    "duration": 3,
    "start_time": "2021-12-11T10:06:51.164Z"
   },
   {
    "duration": 540,
    "start_time": "2021-12-11T10:06:51.174Z"
   },
   {
    "duration": 92,
    "start_time": "2021-12-11T10:06:51.718Z"
   },
   {
    "duration": 154,
    "start_time": "2021-12-11T10:06:51.813Z"
   },
   {
    "duration": 5,
    "start_time": "2021-12-11T10:06:51.970Z"
   },
   {
    "duration": 30,
    "start_time": "2021-12-11T10:06:51.977Z"
   },
   {
    "duration": 17,
    "start_time": "2021-12-11T10:06:52.010Z"
   },
   {
    "duration": 89,
    "start_time": "2021-12-11T10:06:52.030Z"
   },
   {
    "duration": 7,
    "start_time": "2021-12-11T10:07:40.954Z"
   },
   {
    "duration": 9,
    "start_time": "2021-12-11T10:08:11.006Z"
   },
   {
    "duration": 9,
    "start_time": "2021-12-11T10:11:15.198Z"
   },
   {
    "duration": 15,
    "start_time": "2021-12-11T10:12:32.868Z"
   },
   {
    "duration": 9,
    "start_time": "2021-12-11T10:14:09.124Z"
   },
   {
    "duration": 3,
    "start_time": "2021-12-11T10:14:21.359Z"
   },
   {
    "duration": 536,
    "start_time": "2021-12-11T10:14:21.365Z"
   },
   {
    "duration": 27,
    "start_time": "2021-12-11T10:14:21.904Z"
   },
   {
    "duration": 70,
    "start_time": "2021-12-11T10:14:21.934Z"
   },
   {
    "duration": 116,
    "start_time": "2021-12-11T10:14:22.007Z"
   },
   {
    "duration": 4,
    "start_time": "2021-12-11T10:14:22.126Z"
   },
   {
    "duration": 20,
    "start_time": "2021-12-11T10:14:22.168Z"
   },
   {
    "duration": 12,
    "start_time": "2021-12-11T10:14:22.192Z"
   },
   {
    "duration": 10,
    "start_time": "2021-12-11T10:14:22.207Z"
   },
   {
    "duration": 18,
    "start_time": "2021-12-11T10:14:44.171Z"
   },
   {
    "duration": 16,
    "start_time": "2021-12-11T10:14:58.455Z"
   },
   {
    "duration": 303,
    "start_time": "2021-12-11T10:18:03.936Z"
   },
   {
    "duration": 309,
    "start_time": "2021-12-11T10:18:13.608Z"
   },
   {
    "duration": 14,
    "start_time": "2021-12-11T10:18:18.875Z"
   },
   {
    "duration": 17,
    "start_time": "2021-12-11T10:18:31.501Z"
   },
   {
    "duration": 20,
    "start_time": "2021-12-11T10:20:43.206Z"
   },
   {
    "duration": 17,
    "start_time": "2021-12-11T10:22:53.134Z"
   },
   {
    "duration": 3,
    "start_time": "2021-12-11T10:22:59.895Z"
   },
   {
    "duration": 636,
    "start_time": "2021-12-11T10:22:59.902Z"
   },
   {
    "duration": 21,
    "start_time": "2021-12-11T10:23:00.542Z"
   },
   {
    "duration": 105,
    "start_time": "2021-12-11T10:23:00.566Z"
   },
   {
    "duration": 133,
    "start_time": "2021-12-11T10:23:00.674Z"
   },
   {
    "duration": 5,
    "start_time": "2021-12-11T10:23:00.810Z"
   },
   {
    "duration": 51,
    "start_time": "2021-12-11T10:23:00.818Z"
   },
   {
    "duration": 27,
    "start_time": "2021-12-11T10:23:00.872Z"
   },
   {
    "duration": 13,
    "start_time": "2021-12-11T10:23:00.903Z"
   },
   {
    "duration": 24,
    "start_time": "2021-12-11T10:23:09.914Z"
   },
   {
    "duration": 3,
    "start_time": "2021-12-11T10:33:31.674Z"
   },
   {
    "duration": 364,
    "start_time": "2021-12-11T10:34:44.874Z"
   },
   {
    "duration": 81,
    "start_time": "2021-12-11T10:35:10.874Z"
   },
   {
    "duration": 112,
    "start_time": "2021-12-11T10:42:14.103Z"
   },
   {
    "duration": 112,
    "start_time": "2021-12-11T10:42:38.541Z"
   },
   {
    "duration": 112,
    "start_time": "2021-12-11T10:43:43.567Z"
   },
   {
    "duration": 109,
    "start_time": "2021-12-11T10:44:03.693Z"
   },
   {
    "duration": 131,
    "start_time": "2021-12-11T10:44:18.514Z"
   },
   {
    "duration": 139,
    "start_time": "2021-12-11T10:44:27.298Z"
   },
   {
    "duration": 110,
    "start_time": "2021-12-11T10:45:31.223Z"
   },
   {
    "duration": 108,
    "start_time": "2021-12-11T10:46:48.210Z"
   },
   {
    "duration": 361,
    "start_time": "2021-12-11T10:47:19.977Z"
   },
   {
    "duration": 123,
    "start_time": "2021-12-11T10:47:25.766Z"
   },
   {
    "duration": 123,
    "start_time": "2021-12-11T10:48:53.133Z"
   },
   {
    "duration": 142,
    "start_time": "2021-12-11T10:48:57.192Z"
   },
   {
    "duration": 356,
    "start_time": "2021-12-11T10:52:37.395Z"
   },
   {
    "duration": 124,
    "start_time": "2021-12-11T10:53:03.986Z"
   },
   {
    "duration": 102,
    "start_time": "2021-12-11T10:53:17.355Z"
   },
   {
    "duration": 131,
    "start_time": "2021-12-11T10:53:21.568Z"
   },
   {
    "duration": 118,
    "start_time": "2021-12-11T10:56:12.240Z"
   },
   {
    "duration": 372,
    "start_time": "2021-12-11T10:56:21.098Z"
   },
   {
    "duration": 124,
    "start_time": "2021-12-11T10:56:34.783Z"
   },
   {
    "duration": 5838,
    "start_time": "2021-12-11T10:57:25.714Z"
   },
   {
    "duration": 134,
    "start_time": "2021-12-11T10:57:46.355Z"
   },
   {
    "duration": 106,
    "start_time": "2021-12-11T10:59:00.613Z"
   },
   {
    "duration": 369,
    "start_time": "2021-12-11T10:59:06.335Z"
   },
   {
    "duration": 391,
    "start_time": "2021-12-11T10:59:40.164Z"
   },
   {
    "duration": 132,
    "start_time": "2021-12-11T10:59:50.360Z"
   },
   {
    "duration": 134,
    "start_time": "2021-12-11T10:59:59.136Z"
   },
   {
    "duration": 89,
    "start_time": "2021-12-11T11:00:18.757Z"
   },
   {
    "duration": 123,
    "start_time": "2021-12-11T11:00:21.318Z"
   },
   {
    "duration": 129,
    "start_time": "2021-12-11T11:00:35.782Z"
   },
   {
    "duration": 213,
    "start_time": "2021-12-11T11:03:17.074Z"
   },
   {
    "duration": 139,
    "start_time": "2021-12-11T11:04:46.193Z"
   },
   {
    "duration": 111,
    "start_time": "2021-12-11T11:10:30.233Z"
   },
   {
    "duration": 373,
    "start_time": "2021-12-11T11:10:44.353Z"
   },
   {
    "duration": 372,
    "start_time": "2021-12-11T11:13:24.033Z"
   },
   {
    "duration": 228,
    "start_time": "2021-12-11T11:16:51.114Z"
   },
   {
    "duration": 393,
    "start_time": "2021-12-11T11:17:24.515Z"
   },
   {
    "duration": 377,
    "start_time": "2021-12-11T11:17:38.010Z"
   },
   {
    "duration": 429,
    "start_time": "2021-12-11T11:17:42.993Z"
   },
   {
    "duration": 3,
    "start_time": "2021-12-11T11:17:48.455Z"
   },
   {
    "duration": 530,
    "start_time": "2021-12-11T11:17:48.460Z"
   },
   {
    "duration": 24,
    "start_time": "2021-12-11T11:17:48.993Z"
   },
   {
    "duration": 83,
    "start_time": "2021-12-11T11:17:49.020Z"
   },
   {
    "duration": 121,
    "start_time": "2021-12-11T11:17:49.106Z"
   },
   {
    "duration": 39,
    "start_time": "2021-12-11T11:17:49.229Z"
   },
   {
    "duration": 14,
    "start_time": "2021-12-11T11:17:49.271Z"
   },
   {
    "duration": 22,
    "start_time": "2021-12-11T11:17:49.288Z"
   },
   {
    "duration": 11,
    "start_time": "2021-12-11T11:17:49.313Z"
   },
   {
    "duration": 374,
    "start_time": "2021-12-11T11:17:49.368Z"
   },
   {
    "duration": 148,
    "start_time": "2021-12-11T11:17:54.854Z"
   },
   {
    "duration": 192,
    "start_time": "2021-12-11T11:19:08.634Z"
   },
   {
    "duration": 439,
    "start_time": "2021-12-11T11:19:48.874Z"
   },
   {
    "duration": 200,
    "start_time": "2021-12-11T11:20:00.534Z"
   },
   {
    "duration": 185,
    "start_time": "2021-12-11T11:20:23.073Z"
   },
   {
    "duration": 199,
    "start_time": "2021-12-11T11:20:49.474Z"
   },
   {
    "duration": 201,
    "start_time": "2021-12-11T11:22:48.894Z"
   },
   {
    "duration": 207,
    "start_time": "2021-12-11T11:27:45.274Z"
   },
   {
    "duration": 260,
    "start_time": "2021-12-11T11:28:48.935Z"
   },
   {
    "duration": 107,
    "start_time": "2021-12-11T11:28:58.982Z"
   },
   {
    "duration": 95,
    "start_time": "2021-12-11T11:29:04.834Z"
   },
   {
    "duration": 4,
    "start_time": "2021-12-11T11:29:09.485Z"
   },
   {
    "duration": 529,
    "start_time": "2021-12-11T11:29:09.496Z"
   },
   {
    "duration": 24,
    "start_time": "2021-12-11T11:29:10.028Z"
   },
   {
    "duration": 112,
    "start_time": "2021-12-11T11:29:10.056Z"
   },
   {
    "duration": 126,
    "start_time": "2021-12-11T11:29:10.171Z"
   },
   {
    "duration": 5,
    "start_time": "2021-12-11T11:29:10.299Z"
   },
   {
    "duration": 22,
    "start_time": "2021-12-11T11:29:10.306Z"
   },
   {
    "duration": 56,
    "start_time": "2021-12-11T11:29:10.331Z"
   },
   {
    "duration": 11,
    "start_time": "2021-12-11T11:29:10.389Z"
   },
   {
    "duration": 178,
    "start_time": "2021-12-11T11:29:10.403Z"
   },
   {
    "duration": 4,
    "start_time": "2021-12-11T11:29:15.549Z"
   },
   {
    "duration": 573,
    "start_time": "2021-12-11T11:29:15.557Z"
   },
   {
    "duration": 26,
    "start_time": "2021-12-11T11:29:16.134Z"
   },
   {
    "duration": 117,
    "start_time": "2021-12-11T11:29:16.164Z"
   },
   {
    "duration": 144,
    "start_time": "2021-12-11T11:29:16.283Z"
   },
   {
    "duration": 36,
    "start_time": "2021-12-11T11:29:16.431Z"
   },
   {
    "duration": 14,
    "start_time": "2021-12-11T11:29:16.471Z"
   },
   {
    "duration": 30,
    "start_time": "2021-12-11T11:29:16.490Z"
   },
   {
    "duration": 52,
    "start_time": "2021-12-11T11:29:16.523Z"
   },
   {
    "duration": 99,
    "start_time": "2021-12-11T11:29:16.578Z"
   },
   {
    "duration": 213,
    "start_time": "2021-12-11T11:29:19.294Z"
   },
   {
    "duration": 194,
    "start_time": "2021-12-11T11:31:57.075Z"
   },
   {
    "duration": 561,
    "start_time": "2021-12-11T11:33:27.454Z"
   },
   {
    "duration": 454,
    "start_time": "2021-12-11T11:33:40.982Z"
   },
   {
    "duration": 178,
    "start_time": "2021-12-11T11:34:03.814Z"
   },
   {
    "duration": 187,
    "start_time": "2021-12-11T11:35:18.635Z"
   },
   {
    "duration": 184,
    "start_time": "2021-12-11T11:35:35.494Z"
   },
   {
    "duration": 221,
    "start_time": "2021-12-11T11:36:04.715Z"
   },
   {
    "duration": 192,
    "start_time": "2021-12-11T11:36:15.675Z"
   },
   {
    "duration": 189,
    "start_time": "2021-12-11T11:36:35.294Z"
   },
   {
    "duration": 189,
    "start_time": "2021-12-11T11:40:52.234Z"
   },
   {
    "duration": 416,
    "start_time": "2021-12-11T11:41:31.956Z"
   },
   {
    "duration": 192,
    "start_time": "2021-12-11T11:42:03.774Z"
   },
   {
    "duration": 212,
    "start_time": "2021-12-11T11:44:15.776Z"
   },
   {
    "duration": 3,
    "start_time": "2021-12-11T11:44:29.254Z"
   },
   {
    "duration": 526,
    "start_time": "2021-12-11T11:44:29.260Z"
   },
   {
    "duration": 25,
    "start_time": "2021-12-11T11:44:29.789Z"
   },
   {
    "duration": 87,
    "start_time": "2021-12-11T11:44:29.817Z"
   },
   {
    "duration": 176,
    "start_time": "2021-12-11T11:44:29.908Z"
   },
   {
    "duration": 5,
    "start_time": "2021-12-11T11:44:30.087Z"
   },
   {
    "duration": 15,
    "start_time": "2021-12-11T11:44:30.095Z"
   },
   {
    "duration": 66,
    "start_time": "2021-12-11T11:44:30.113Z"
   },
   {
    "duration": 11,
    "start_time": "2021-12-11T11:44:30.183Z"
   },
   {
    "duration": 522,
    "start_time": "2021-12-11T11:44:30.196Z"
   },
   {
    "duration": 194,
    "start_time": "2021-12-11T11:45:18.100Z"
   },
   {
    "duration": 4,
    "start_time": "2021-12-11T11:45:24.413Z"
   },
   {
    "duration": 531,
    "start_time": "2021-12-11T11:45:24.420Z"
   },
   {
    "duration": 23,
    "start_time": "2021-12-11T11:45:24.954Z"
   },
   {
    "duration": 99,
    "start_time": "2021-12-11T11:45:24.980Z"
   },
   {
    "duration": 118,
    "start_time": "2021-12-11T11:45:25.081Z"
   },
   {
    "duration": 5,
    "start_time": "2021-12-11T11:45:25.201Z"
   },
   {
    "duration": 15,
    "start_time": "2021-12-11T11:45:25.208Z"
   },
   {
    "duration": 58,
    "start_time": "2021-12-11T11:45:25.226Z"
   },
   {
    "duration": 10,
    "start_time": "2021-12-11T11:45:25.287Z"
   },
   {
    "duration": 573,
    "start_time": "2021-12-11T11:45:25.299Z"
   },
   {
    "duration": 208,
    "start_time": "2021-12-11T11:46:23.015Z"
   },
   {
    "duration": 102,
    "start_time": "2021-12-11T11:46:35.515Z"
   },
   {
    "duration": 3,
    "start_time": "2021-12-11T11:46:42.351Z"
   },
   {
    "duration": 528,
    "start_time": "2021-12-11T11:46:42.357Z"
   },
   {
    "duration": 21,
    "start_time": "2021-12-11T11:46:42.888Z"
   },
   {
    "duration": 77,
    "start_time": "2021-12-11T11:46:42.912Z"
   },
   {
    "duration": 124,
    "start_time": "2021-12-11T11:46:42.991Z"
   },
   {
    "duration": 4,
    "start_time": "2021-12-11T11:46:43.117Z"
   },
   {
    "duration": 43,
    "start_time": "2021-12-11T11:46:43.124Z"
   },
   {
    "duration": 30,
    "start_time": "2021-12-11T11:46:43.170Z"
   },
   {
    "duration": 10,
    "start_time": "2021-12-11T11:46:43.204Z"
   },
   {
    "duration": 153,
    "start_time": "2021-12-11T11:46:43.216Z"
   },
   {
    "duration": 481,
    "start_time": "2021-12-11T11:46:50.877Z"
   },
   {
    "duration": 177,
    "start_time": "2021-12-11T11:47:10.914Z"
   },
   {
    "duration": 206,
    "start_time": "2021-12-11T11:47:22.955Z"
   },
   {
    "duration": 4,
    "start_time": "2021-12-11T11:47:26.494Z"
   },
   {
    "duration": 531,
    "start_time": "2021-12-11T11:47:26.500Z"
   },
   {
    "duration": 22,
    "start_time": "2021-12-11T11:47:27.034Z"
   },
   {
    "duration": 68,
    "start_time": "2021-12-11T11:47:27.058Z"
   },
   {
    "duration": 154,
    "start_time": "2021-12-11T11:47:27.129Z"
   },
   {
    "duration": 5,
    "start_time": "2021-12-11T11:47:27.285Z"
   },
   {
    "duration": 16,
    "start_time": "2021-12-11T11:47:27.292Z"
   },
   {
    "duration": 67,
    "start_time": "2021-12-11T11:47:27.311Z"
   },
   {
    "duration": 10,
    "start_time": "2021-12-11T11:47:27.382Z"
   },
   {
    "duration": 491,
    "start_time": "2021-12-11T11:47:27.394Z"
   },
   {
    "duration": 3,
    "start_time": "2021-12-11T11:48:05.133Z"
   },
   {
    "duration": 516,
    "start_time": "2021-12-11T11:48:05.139Z"
   },
   {
    "duration": 22,
    "start_time": "2021-12-11T11:48:05.658Z"
   },
   {
    "duration": 103,
    "start_time": "2021-12-11T11:48:05.682Z"
   },
   {
    "duration": 133,
    "start_time": "2021-12-11T11:48:05.787Z"
   },
   {
    "duration": 4,
    "start_time": "2021-12-11T11:48:05.923Z"
   },
   {
    "duration": 44,
    "start_time": "2021-12-11T11:48:05.929Z"
   },
   {
    "duration": 22,
    "start_time": "2021-12-11T11:48:05.977Z"
   },
   {
    "duration": 11,
    "start_time": "2021-12-11T11:48:06.001Z"
   },
   {
    "duration": 520,
    "start_time": "2021-12-11T11:48:06.015Z"
   },
   {
    "duration": 3,
    "start_time": "2021-12-11T11:48:30.794Z"
   },
   {
    "duration": 556,
    "start_time": "2021-12-11T11:48:30.800Z"
   },
   {
    "duration": 22,
    "start_time": "2021-12-11T11:48:31.360Z"
   },
   {
    "duration": 105,
    "start_time": "2021-12-11T11:48:31.385Z"
   },
   {
    "duration": 121,
    "start_time": "2021-12-11T11:48:31.493Z"
   },
   {
    "duration": 5,
    "start_time": "2021-12-11T11:48:31.616Z"
   },
   {
    "duration": 52,
    "start_time": "2021-12-11T11:48:31.624Z"
   },
   {
    "duration": 44,
    "start_time": "2021-12-11T11:48:31.679Z"
   },
   {
    "duration": 12,
    "start_time": "2021-12-11T11:48:31.726Z"
   },
   {
    "duration": 7572,
    "start_time": "2021-12-11T11:48:31.741Z"
   },
   {
    "duration": 7943,
    "start_time": "2021-12-11T11:49:33.834Z"
   },
   {
    "duration": 7551,
    "start_time": "2021-12-11T11:50:10.641Z"
   },
   {
    "duration": -366,
    "start_time": "2021-12-11T11:51:22.411Z"
   },
   {
    "duration": 179,
    "start_time": "2021-12-11T11:51:29.994Z"
   },
   {
    "duration": 191,
    "start_time": "2021-12-11T11:51:53.234Z"
   },
   {
    "duration": 4,
    "start_time": "2021-12-11T11:51:58.193Z"
   },
   {
    "duration": 512,
    "start_time": "2021-12-11T11:51:58.200Z"
   },
   {
    "duration": 22,
    "start_time": "2021-12-11T11:51:58.715Z"
   },
   {
    "duration": 71,
    "start_time": "2021-12-11T11:51:58.739Z"
   },
   {
    "duration": 154,
    "start_time": "2021-12-11T11:51:58.813Z"
   },
   {
    "duration": 5,
    "start_time": "2021-12-11T11:51:58.970Z"
   },
   {
    "duration": 28,
    "start_time": "2021-12-11T11:51:58.977Z"
   },
   {
    "duration": 24,
    "start_time": "2021-12-11T11:51:59.009Z"
   },
   {
    "duration": 39,
    "start_time": "2021-12-11T11:51:59.035Z"
   },
   {
    "duration": 649,
    "start_time": "2021-12-11T11:51:59.077Z"
   },
   {
    "duration": 546,
    "start_time": "2021-12-11T11:54:02.416Z"
   },
   {
    "duration": 190,
    "start_time": "2021-12-11T11:54:14.682Z"
   },
   {
    "duration": 276,
    "start_time": "2021-12-11T11:54:19.502Z"
   },
   {
    "duration": 3,
    "start_time": "2021-12-11T11:54:23.955Z"
   },
   {
    "duration": 531,
    "start_time": "2021-12-11T11:54:23.962Z"
   },
   {
    "duration": 22,
    "start_time": "2021-12-11T11:54:24.496Z"
   },
   {
    "duration": 77,
    "start_time": "2021-12-11T11:54:24.520Z"
   },
   {
    "duration": 125,
    "start_time": "2021-12-11T11:54:24.599Z"
   },
   {
    "duration": 41,
    "start_time": "2021-12-11T11:54:24.726Z"
   },
   {
    "duration": 19,
    "start_time": "2021-12-11T11:54:24.769Z"
   },
   {
    "duration": 23,
    "start_time": "2021-12-11T11:54:24.791Z"
   },
   {
    "duration": 11,
    "start_time": "2021-12-11T11:54:24.816Z"
   },
   {
    "duration": 9379,
    "start_time": "2021-12-11T11:54:24.830Z"
   },
   {
    "duration": 188,
    "start_time": "2021-12-11T11:55:05.735Z"
   },
   {
    "duration": 187,
    "start_time": "2021-12-11T11:55:57.154Z"
   },
   {
    "duration": 184,
    "start_time": "2021-12-11T11:56:23.201Z"
   },
   {
    "duration": 176,
    "start_time": "2021-12-11T11:57:11.594Z"
   },
   {
    "duration": 174,
    "start_time": "2021-12-11T12:00:33.894Z"
   },
   {
    "duration": 3,
    "start_time": "2021-12-11T12:00:38.674Z"
   },
   {
    "duration": 534,
    "start_time": "2021-12-11T12:00:38.679Z"
   },
   {
    "duration": 22,
    "start_time": "2021-12-11T12:00:39.218Z"
   },
   {
    "duration": 65,
    "start_time": "2021-12-11T12:00:39.243Z"
   },
   {
    "duration": 168,
    "start_time": "2021-12-11T12:00:39.310Z"
   },
   {
    "duration": 7,
    "start_time": "2021-12-11T12:00:39.481Z"
   },
   {
    "duration": 15,
    "start_time": "2021-12-11T12:00:39.491Z"
   },
   {
    "duration": 67,
    "start_time": "2021-12-11T12:00:39.511Z"
   },
   {
    "duration": 14,
    "start_time": "2021-12-11T12:00:39.582Z"
   },
   {
    "duration": 8461,
    "start_time": "2021-12-11T12:00:39.599Z"
   },
   {
    "duration": 170,
    "start_time": "2021-12-11T12:01:09.642Z"
   },
   {
    "duration": 419,
    "start_time": "2021-12-11T12:01:37.175Z"
   },
   {
    "duration": 173,
    "start_time": "2021-12-11T12:03:27.894Z"
   },
   {
    "duration": 4,
    "start_time": "2021-12-11T12:04:09.162Z"
   },
   {
    "duration": 514,
    "start_time": "2021-12-11T12:04:09.168Z"
   },
   {
    "duration": 22,
    "start_time": "2021-12-11T12:04:09.686Z"
   },
   {
    "duration": 86,
    "start_time": "2021-12-11T12:04:09.711Z"
   },
   {
    "duration": 122,
    "start_time": "2021-12-11T12:04:09.799Z"
   },
   {
    "duration": 5,
    "start_time": "2021-12-11T12:04:09.923Z"
   },
   {
    "duration": 45,
    "start_time": "2021-12-11T12:04:09.931Z"
   },
   {
    "duration": 23,
    "start_time": "2021-12-11T12:04:09.979Z"
   },
   {
    "duration": 11,
    "start_time": "2021-12-11T12:04:10.005Z"
   },
   {
    "duration": 213,
    "start_time": "2021-12-11T12:04:10.019Z"
   },
   {
    "duration": 3,
    "start_time": "2021-12-11T12:04:22.395Z"
   },
   {
    "duration": 523,
    "start_time": "2021-12-11T12:04:22.401Z"
   },
   {
    "duration": 26,
    "start_time": "2021-12-11T12:04:22.928Z"
   },
   {
    "duration": 69,
    "start_time": "2021-12-11T12:04:22.957Z"
   },
   {
    "duration": 162,
    "start_time": "2021-12-11T12:04:23.029Z"
   },
   {
    "duration": 6,
    "start_time": "2021-12-11T12:04:23.194Z"
   },
   {
    "duration": 14,
    "start_time": "2021-12-11T12:04:23.203Z"
   },
   {
    "duration": 24,
    "start_time": "2021-12-11T12:04:23.266Z"
   },
   {
    "duration": 10,
    "start_time": "2021-12-11T12:04:23.293Z"
   },
   {
    "duration": 206,
    "start_time": "2021-12-11T12:04:23.306Z"
   },
   {
    "duration": 5,
    "start_time": "2021-12-11T12:04:37.126Z"
   },
   {
    "duration": 629,
    "start_time": "2021-12-11T12:04:37.144Z"
   },
   {
    "duration": 23,
    "start_time": "2021-12-11T12:04:37.776Z"
   },
   {
    "duration": 94,
    "start_time": "2021-12-11T12:04:37.802Z"
   },
   {
    "duration": 128,
    "start_time": "2021-12-11T12:04:37.898Z"
   },
   {
    "duration": 5,
    "start_time": "2021-12-11T12:04:38.067Z"
   },
   {
    "duration": 13,
    "start_time": "2021-12-11T12:04:38.075Z"
   },
   {
    "duration": 24,
    "start_time": "2021-12-11T12:04:38.091Z"
   },
   {
    "duration": 50,
    "start_time": "2021-12-11T12:04:38.118Z"
   },
   {
    "duration": 191,
    "start_time": "2021-12-11T12:04:38.171Z"
   },
   {
    "duration": 184,
    "start_time": "2021-12-11T12:04:57.494Z"
   },
   {
    "duration": 4,
    "start_time": "2021-12-11T12:05:10.593Z"
   },
   {
    "duration": 519,
    "start_time": "2021-12-11T12:05:10.599Z"
   },
   {
    "duration": 21,
    "start_time": "2021-12-11T12:05:11.122Z"
   },
   {
    "duration": 72,
    "start_time": "2021-12-11T12:05:11.146Z"
   },
   {
    "duration": 158,
    "start_time": "2021-12-11T12:05:11.222Z"
   },
   {
    "duration": 5,
    "start_time": "2021-12-11T12:05:11.382Z"
   },
   {
    "duration": 15,
    "start_time": "2021-12-11T12:05:11.389Z"
   },
   {
    "duration": 65,
    "start_time": "2021-12-11T12:05:11.406Z"
   },
   {
    "duration": 15,
    "start_time": "2021-12-11T12:05:11.476Z"
   },
   {
    "duration": 306,
    "start_time": "2021-12-11T12:05:11.494Z"
   },
   {
    "duration": 5,
    "start_time": "2021-12-11T12:05:17.105Z"
   },
   {
    "duration": 778,
    "start_time": "2021-12-11T12:05:17.117Z"
   },
   {
    "duration": 21,
    "start_time": "2021-12-11T12:05:17.898Z"
   },
   {
    "duration": 72,
    "start_time": "2021-12-11T12:05:17.922Z"
   },
   {
    "duration": 124,
    "start_time": "2021-12-11T12:05:17.996Z"
   },
   {
    "duration": 5,
    "start_time": "2021-12-11T12:05:18.122Z"
   },
   {
    "duration": 46,
    "start_time": "2021-12-11T12:05:18.129Z"
   },
   {
    "duration": 25,
    "start_time": "2021-12-11T12:05:18.177Z"
   },
   {
    "duration": 9,
    "start_time": "2021-12-11T12:05:18.206Z"
   },
   {
    "duration": 216,
    "start_time": "2021-12-11T12:05:18.218Z"
   },
   {
    "duration": 181,
    "start_time": "2021-12-11T12:05:32.914Z"
   },
   {
    "duration": 3,
    "start_time": "2021-12-11T12:05:45.566Z"
   },
   {
    "duration": 533,
    "start_time": "2021-12-11T12:05:45.576Z"
   },
   {
    "duration": 20,
    "start_time": "2021-12-11T12:05:46.112Z"
   },
   {
    "duration": 75,
    "start_time": "2021-12-11T12:05:46.135Z"
   },
   {
    "duration": 171,
    "start_time": "2021-12-11T12:05:46.213Z"
   },
   {
    "duration": 5,
    "start_time": "2021-12-11T12:05:46.388Z"
   },
   {
    "duration": 17,
    "start_time": "2021-12-11T12:05:46.397Z"
   },
   {
    "duration": 66,
    "start_time": "2021-12-11T12:05:46.418Z"
   },
   {
    "duration": 10,
    "start_time": "2021-12-11T12:05:46.487Z"
   },
   {
    "duration": 213,
    "start_time": "2021-12-11T12:05:46.501Z"
   },
   {
    "duration": 473,
    "start_time": "2021-12-11T12:06:15.436Z"
   },
   {
    "duration": 491,
    "start_time": "2021-12-11T12:06:32.634Z"
   },
   {
    "duration": 463,
    "start_time": "2021-12-11T12:06:36.374Z"
   },
   {
    "duration": 9229,
    "start_time": "2021-12-11T12:07:07.434Z"
   },
   {
    "duration": 174,
    "start_time": "2021-12-11T12:07:29.895Z"
   },
   {
    "duration": 4,
    "start_time": "2021-12-11T12:07:40.174Z"
   },
   {
    "duration": 527,
    "start_time": "2021-12-11T12:07:40.181Z"
   },
   {
    "duration": 22,
    "start_time": "2021-12-11T12:07:40.711Z"
   },
   {
    "duration": 71,
    "start_time": "2021-12-11T12:07:40.736Z"
   },
   {
    "duration": 125,
    "start_time": "2021-12-11T12:07:40.809Z"
   },
   {
    "duration": 5,
    "start_time": "2021-12-11T12:07:40.967Z"
   },
   {
    "duration": 17,
    "start_time": "2021-12-11T12:07:40.974Z"
   },
   {
    "duration": 21,
    "start_time": "2021-12-11T12:07:40.995Z"
   },
   {
    "duration": 48,
    "start_time": "2021-12-11T12:07:41.019Z"
   },
   {
    "duration": 7838,
    "start_time": "2021-12-11T12:07:41.069Z"
   },
   {
    "duration": 191,
    "start_time": "2021-12-11T12:08:11.654Z"
   },
   {
    "duration": 1384,
    "start_time": "2021-12-11T12:15:37.175Z"
   },
   {
    "duration": 478,
    "start_time": "2021-12-11T12:16:31.614Z"
   },
   {
    "duration": 130,
    "start_time": "2021-12-11T12:17:19.914Z"
   },
   {
    "duration": 166,
    "start_time": "2021-12-11T12:18:15.634Z"
   },
   {
    "duration": 3,
    "start_time": "2021-12-11T12:21:17.016Z"
   },
   {
    "duration": 535,
    "start_time": "2021-12-11T12:21:17.022Z"
   },
   {
    "duration": 23,
    "start_time": "2021-12-11T12:21:17.560Z"
   },
   {
    "duration": 97,
    "start_time": "2021-12-11T12:21:17.585Z"
   },
   {
    "duration": 129,
    "start_time": "2021-12-11T12:21:17.685Z"
   },
   {
    "duration": 5,
    "start_time": "2021-12-11T12:21:17.816Z"
   },
   {
    "duration": 51,
    "start_time": "2021-12-11T12:21:17.825Z"
   },
   {
    "duration": 26,
    "start_time": "2021-12-11T12:21:17.879Z"
   },
   {
    "duration": 16,
    "start_time": "2021-12-11T12:21:17.910Z"
   },
   {
    "duration": 192,
    "start_time": "2021-12-11T12:21:17.968Z"
   },
   {
    "duration": 3,
    "start_time": "2021-12-11T12:22:21.746Z"
   },
   {
    "duration": 532,
    "start_time": "2021-12-11T12:22:21.763Z"
   },
   {
    "duration": 22,
    "start_time": "2021-12-11T12:22:22.299Z"
   },
   {
    "duration": 78,
    "start_time": "2021-12-11T12:22:22.324Z"
   },
   {
    "duration": 165,
    "start_time": "2021-12-11T12:22:22.405Z"
   },
   {
    "duration": 6,
    "start_time": "2021-12-11T12:22:22.573Z"
   },
   {
    "duration": 20,
    "start_time": "2021-12-11T12:22:22.582Z"
   },
   {
    "duration": 67,
    "start_time": "2021-12-11T12:22:22.604Z"
   },
   {
    "duration": 11,
    "start_time": "2021-12-11T12:22:22.674Z"
   },
   {
    "duration": 1442,
    "start_time": "2021-12-11T12:22:22.689Z"
   },
   {
    "duration": 186,
    "start_time": "2021-12-11T12:23:09.356Z"
   },
   {
    "duration": 1363,
    "start_time": "2021-12-11T12:23:18.422Z"
   },
   {
    "duration": 182,
    "start_time": "2021-12-11T12:25:01.643Z"
   },
   {
    "duration": 233,
    "start_time": "2021-12-11T12:28:10.555Z"
   },
   {
    "duration": 184,
    "start_time": "2021-12-11T12:28:14.675Z"
   },
   {
    "duration": 3,
    "start_time": "2021-12-11T12:28:22.066Z"
   },
   {
    "duration": 536,
    "start_time": "2021-12-11T12:28:22.077Z"
   },
   {
    "duration": 26,
    "start_time": "2021-12-11T12:28:22.616Z"
   },
   {
    "duration": 71,
    "start_time": "2021-12-11T12:28:22.645Z"
   },
   {
    "duration": 150,
    "start_time": "2021-12-11T12:28:22.719Z"
   },
   {
    "duration": 6,
    "start_time": "2021-12-11T12:28:22.873Z"
   },
   {
    "duration": 16,
    "start_time": "2021-12-11T12:28:22.883Z"
   },
   {
    "duration": 70,
    "start_time": "2021-12-11T12:28:22.903Z"
   },
   {
    "duration": 10,
    "start_time": "2021-12-11T12:28:22.976Z"
   },
   {
    "duration": 1363,
    "start_time": "2021-12-11T12:28:22.990Z"
   },
   {
    "duration": 187,
    "start_time": "2021-12-11T12:28:30.497Z"
   },
   {
    "duration": 4,
    "start_time": "2021-12-11T12:28:41.725Z"
   },
   {
    "duration": 517,
    "start_time": "2021-12-11T12:28:41.738Z"
   },
   {
    "duration": 21,
    "start_time": "2021-12-11T12:28:42.257Z"
   },
   {
    "duration": 101,
    "start_time": "2021-12-11T12:28:42.281Z"
   },
   {
    "duration": 133,
    "start_time": "2021-12-11T12:28:42.385Z"
   },
   {
    "duration": 6,
    "start_time": "2021-12-11T12:28:42.522Z"
   },
   {
    "duration": 16,
    "start_time": "2021-12-11T12:28:42.568Z"
   },
   {
    "duration": 36,
    "start_time": "2021-12-11T12:28:42.587Z"
   },
   {
    "duration": 45,
    "start_time": "2021-12-11T12:28:42.626Z"
   },
   {
    "duration": 210,
    "start_time": "2021-12-11T12:28:42.675Z"
   },
   {
    "duration": 3,
    "start_time": "2021-12-11T12:28:45.685Z"
   },
   {
    "duration": 545,
    "start_time": "2021-12-11T12:28:45.695Z"
   },
   {
    "duration": 24,
    "start_time": "2021-12-11T12:28:46.243Z"
   },
   {
    "duration": 116,
    "start_time": "2021-12-11T12:28:46.271Z"
   },
   {
    "duration": 133,
    "start_time": "2021-12-11T12:28:46.390Z"
   },
   {
    "duration": 5,
    "start_time": "2021-12-11T12:28:46.526Z"
   },
   {
    "duration": 13,
    "start_time": "2021-12-11T12:28:46.568Z"
   },
   {
    "duration": 48,
    "start_time": "2021-12-11T12:28:46.584Z"
   },
   {
    "duration": 36,
    "start_time": "2021-12-11T12:28:46.635Z"
   },
   {
    "duration": 190,
    "start_time": "2021-12-11T12:28:46.674Z"
   },
   {
    "duration": 3,
    "start_time": "2021-12-11T12:28:54.045Z"
   },
   {
    "duration": 509,
    "start_time": "2021-12-11T12:28:54.056Z"
   },
   {
    "duration": 21,
    "start_time": "2021-12-11T12:28:54.568Z"
   },
   {
    "duration": 100,
    "start_time": "2021-12-11T12:28:54.592Z"
   },
   {
    "duration": 126,
    "start_time": "2021-12-11T12:28:54.695Z"
   },
   {
    "duration": 5,
    "start_time": "2021-12-11T12:28:54.825Z"
   },
   {
    "duration": 10,
    "start_time": "2021-12-11T12:28:54.867Z"
   },
   {
    "duration": 31,
    "start_time": "2021-12-11T12:28:54.880Z"
   },
   {
    "duration": 11,
    "start_time": "2021-12-11T12:28:54.913Z"
   },
   {
    "duration": 218,
    "start_time": "2021-12-11T12:28:54.927Z"
   },
   {
    "duration": 174,
    "start_time": "2021-12-11T12:29:24.903Z"
   },
   {
    "duration": 4,
    "start_time": "2021-12-11T12:29:51.655Z"
   },
   {
    "duration": 551,
    "start_time": "2021-12-11T12:29:51.662Z"
   },
   {
    "duration": 21,
    "start_time": "2021-12-11T12:29:52.216Z"
   },
   {
    "duration": 73,
    "start_time": "2021-12-11T12:29:52.240Z"
   },
   {
    "duration": 155,
    "start_time": "2021-12-11T12:29:52.315Z"
   },
   {
    "duration": 4,
    "start_time": "2021-12-11T12:29:52.473Z"
   },
   {
    "duration": 18,
    "start_time": "2021-12-11T12:29:52.480Z"
   },
   {
    "duration": 29,
    "start_time": "2021-12-11T12:29:52.502Z"
   },
   {
    "duration": 11,
    "start_time": "2021-12-11T12:29:52.567Z"
   },
   {
    "duration": 196,
    "start_time": "2021-12-11T12:29:52.580Z"
   },
   {
    "duration": 129,
    "start_time": "2021-12-11T12:30:09.715Z"
   },
   {
    "duration": 177,
    "start_time": "2021-12-11T12:30:14.312Z"
   },
   {
    "duration": 3,
    "start_time": "2021-12-11T12:31:06.935Z"
   },
   {
    "duration": 500,
    "start_time": "2021-12-11T12:31:06.941Z"
   },
   {
    "duration": 24,
    "start_time": "2021-12-11T12:31:07.444Z"
   },
   {
    "duration": 97,
    "start_time": "2021-12-11T12:31:07.471Z"
   },
   {
    "duration": 116,
    "start_time": "2021-12-11T12:31:07.571Z"
   },
   {
    "duration": 4,
    "start_time": "2021-12-11T12:31:07.690Z"
   },
   {
    "duration": 26,
    "start_time": "2021-12-11T12:31:07.696Z"
   },
   {
    "duration": 54,
    "start_time": "2021-12-11T12:31:07.725Z"
   },
   {
    "duration": 12,
    "start_time": "2021-12-11T12:31:07.783Z"
   },
   {
    "duration": 208,
    "start_time": "2021-12-11T12:31:07.798Z"
   },
   {
    "duration": 3,
    "start_time": "2021-12-11T12:31:37.496Z"
   },
   {
    "duration": 552,
    "start_time": "2021-12-11T12:31:37.506Z"
   },
   {
    "duration": 23,
    "start_time": "2021-12-11T12:31:38.060Z"
   },
   {
    "duration": 96,
    "start_time": "2021-12-11T12:31:38.086Z"
   },
   {
    "duration": 120,
    "start_time": "2021-12-11T12:31:38.184Z"
   },
   {
    "duration": 4,
    "start_time": "2021-12-11T12:31:38.306Z"
   },
   {
    "duration": 16,
    "start_time": "2021-12-11T12:31:38.312Z"
   },
   {
    "duration": 57,
    "start_time": "2021-12-11T12:31:38.330Z"
   },
   {
    "duration": 11,
    "start_time": "2021-12-11T12:31:38.390Z"
   },
   {
    "duration": 217,
    "start_time": "2021-12-11T12:31:38.404Z"
   },
   {
    "duration": 179,
    "start_time": "2021-12-11T12:31:51.634Z"
   },
   {
    "duration": 192,
    "start_time": "2021-12-11T12:32:18.017Z"
   },
   {
    "duration": 187,
    "start_time": "2021-12-11T12:32:36.580Z"
   },
   {
    "duration": 4,
    "start_time": "2021-12-11T12:32:39.782Z"
   },
   {
    "duration": 524,
    "start_time": "2021-12-11T12:32:39.788Z"
   },
   {
    "duration": 21,
    "start_time": "2021-12-11T12:32:40.315Z"
   },
   {
    "duration": 68,
    "start_time": "2021-12-11T12:32:40.339Z"
   },
   {
    "duration": 119,
    "start_time": "2021-12-11T12:32:40.409Z"
   },
   {
    "duration": 4,
    "start_time": "2021-12-11T12:32:40.567Z"
   },
   {
    "duration": 17,
    "start_time": "2021-12-11T12:32:40.574Z"
   },
   {
    "duration": 21,
    "start_time": "2021-12-11T12:32:40.594Z"
   },
   {
    "duration": 10,
    "start_time": "2021-12-11T12:32:40.618Z"
   },
   {
    "duration": 185,
    "start_time": "2021-12-11T12:32:40.667Z"
   },
   {
    "duration": 208,
    "start_time": "2021-12-11T12:33:41.694Z"
   },
   {
    "duration": 4,
    "start_time": "2021-12-11T12:33:45.825Z"
   },
   {
    "duration": 530,
    "start_time": "2021-12-11T12:33:45.832Z"
   },
   {
    "duration": 23,
    "start_time": "2021-12-11T12:33:46.365Z"
   },
   {
    "duration": 116,
    "start_time": "2021-12-11T12:33:46.392Z"
   },
   {
    "duration": 158,
    "start_time": "2021-12-11T12:33:46.511Z"
   },
   {
    "duration": 6,
    "start_time": "2021-12-11T12:33:46.672Z"
   },
   {
    "duration": 33,
    "start_time": "2021-12-11T12:33:46.681Z"
   },
   {
    "duration": 52,
    "start_time": "2021-12-11T12:33:46.717Z"
   },
   {
    "duration": 11,
    "start_time": "2021-12-11T12:33:46.772Z"
   },
   {
    "duration": 203,
    "start_time": "2021-12-11T12:33:46.785Z"
   },
   {
    "duration": 194,
    "start_time": "2021-12-11T12:34:11.726Z"
   },
   {
    "duration": 3,
    "start_time": "2021-12-11T12:34:35.053Z"
   },
   {
    "duration": 545,
    "start_time": "2021-12-11T12:34:35.068Z"
   },
   {
    "duration": 23,
    "start_time": "2021-12-11T12:34:35.616Z"
   },
   {
    "duration": 75,
    "start_time": "2021-12-11T12:34:35.642Z"
   },
   {
    "duration": 161,
    "start_time": "2021-12-11T12:34:35.720Z"
   },
   {
    "duration": 5,
    "start_time": "2021-12-11T12:34:35.883Z"
   },
   {
    "duration": 35,
    "start_time": "2021-12-11T12:34:35.891Z"
   },
   {
    "duration": 46,
    "start_time": "2021-12-11T12:34:35.929Z"
   },
   {
    "duration": 11,
    "start_time": "2021-12-11T12:34:35.979Z"
   },
   {
    "duration": 228,
    "start_time": "2021-12-11T12:34:35.993Z"
   },
   {
    "duration": 167,
    "start_time": "2021-12-11T12:36:14.475Z"
   },
   {
    "duration": 200,
    "start_time": "2021-12-11T12:37:16.322Z"
   },
   {
    "duration": 186,
    "start_time": "2021-12-11T12:37:47.122Z"
   },
   {
    "duration": 4,
    "start_time": "2021-12-11T12:37:54.085Z"
   },
   {
    "duration": 605,
    "start_time": "2021-12-11T12:37:54.098Z"
   },
   {
    "duration": 20,
    "start_time": "2021-12-11T12:37:54.706Z"
   },
   {
    "duration": 67,
    "start_time": "2021-12-11T12:37:54.729Z"
   },
   {
    "duration": 117,
    "start_time": "2021-12-11T12:37:54.799Z"
   },
   {
    "duration": 4,
    "start_time": "2021-12-11T12:37:54.919Z"
   },
   {
    "duration": 52,
    "start_time": "2021-12-11T12:37:54.925Z"
   },
   {
    "duration": 23,
    "start_time": "2021-12-11T12:37:54.980Z"
   },
   {
    "duration": 10,
    "start_time": "2021-12-11T12:37:55.005Z"
   },
   {
    "duration": 225,
    "start_time": "2021-12-11T12:37:55.018Z"
   },
   {
    "duration": 181,
    "start_time": "2021-12-11T12:38:11.375Z"
   },
   {
    "duration": 198,
    "start_time": "2021-12-11T12:38:51.323Z"
   },
   {
    "duration": 185,
    "start_time": "2021-12-11T12:39:05.475Z"
   },
   {
    "duration": 10458,
    "start_time": "2021-12-11T12:39:57.597Z"
   },
   {
    "duration": 7898,
    "start_time": "2021-12-11T12:40:48.555Z"
   },
   {
    "duration": 4,
    "start_time": "2021-12-11T12:40:58.293Z"
   },
   {
    "duration": 518,
    "start_time": "2021-12-11T12:40:58.318Z"
   },
   {
    "duration": 21,
    "start_time": "2021-12-11T12:40:58.839Z"
   },
   {
    "duration": 68,
    "start_time": "2021-12-11T12:40:58.863Z"
   },
   {
    "duration": 182,
    "start_time": "2021-12-11T12:40:58.935Z"
   },
   {
    "duration": 47,
    "start_time": "2021-12-11T12:40:59.120Z"
   },
   {
    "duration": 18,
    "start_time": "2021-12-11T12:40:59.171Z"
   },
   {
    "duration": 23,
    "start_time": "2021-12-11T12:40:59.192Z"
   },
   {
    "duration": 51,
    "start_time": "2021-12-11T12:40:59.218Z"
   },
   {
    "duration": 8117,
    "start_time": "2021-12-11T12:40:59.273Z"
   },
   {
    "duration": 420,
    "start_time": "2021-12-11T12:41:34.678Z"
   },
   {
    "duration": 12483,
    "start_time": "2021-12-11T12:41:42.795Z"
   },
   {
    "duration": 4,
    "start_time": "2021-12-11T12:42:54.773Z"
   },
   {
    "duration": 549,
    "start_time": "2021-12-11T12:42:54.779Z"
   },
   {
    "duration": 21,
    "start_time": "2021-12-11T12:42:55.332Z"
   },
   {
    "duration": 76,
    "start_time": "2021-12-11T12:42:55.356Z"
   },
   {
    "duration": 162,
    "start_time": "2021-12-11T12:42:55.435Z"
   },
   {
    "duration": 5,
    "start_time": "2021-12-11T12:42:55.600Z"
   },
   {
    "duration": 62,
    "start_time": "2021-12-11T12:42:55.608Z"
   },
   {
    "duration": 28,
    "start_time": "2021-12-11T12:42:55.674Z"
   },
   {
    "duration": 12,
    "start_time": "2021-12-11T12:42:55.706Z"
   },
   {
    "duration": 7822,
    "start_time": "2021-12-11T12:42:55.721Z"
   },
   {
    "duration": 7548,
    "start_time": "2021-12-11T12:43:44.474Z"
   },
   {
    "duration": 4,
    "start_time": "2021-12-11T12:44:11.693Z"
   },
   {
    "duration": 528,
    "start_time": "2021-12-11T12:44:11.699Z"
   },
   {
    "duration": 20,
    "start_time": "2021-12-11T12:44:12.231Z"
   },
   {
    "duration": 64,
    "start_time": "2021-12-11T12:44:12.254Z"
   },
   {
    "duration": 147,
    "start_time": "2021-12-11T12:44:12.320Z"
   },
   {
    "duration": 5,
    "start_time": "2021-12-11T12:44:12.469Z"
   },
   {
    "duration": 15,
    "start_time": "2021-12-11T12:44:12.477Z"
   },
   {
    "duration": 21,
    "start_time": "2021-12-11T12:44:12.495Z"
   },
   {
    "duration": 54,
    "start_time": "2021-12-11T12:44:12.519Z"
   },
   {
    "duration": 7658,
    "start_time": "2021-12-11T12:44:12.576Z"
   },
   {
    "duration": -392,
    "start_time": "2021-12-11T12:44:38.310Z"
   },
   {
    "duration": 7891,
    "start_time": "2021-12-11T12:44:41.356Z"
   },
   {
    "duration": 167,
    "start_time": "2021-12-11T12:45:16.764Z"
   },
   {
    "duration": 147,
    "start_time": "2021-12-11T12:46:14.475Z"
   },
   {
    "duration": 149,
    "start_time": "2021-12-11T12:46:33.836Z"
   },
   {
    "duration": 145,
    "start_time": "2021-12-11T12:46:53.967Z"
   },
   {
    "duration": 5,
    "start_time": "2021-12-11T12:47:00.797Z"
   },
   {
    "duration": 540,
    "start_time": "2021-12-11T12:47:00.804Z"
   },
   {
    "duration": 20,
    "start_time": "2021-12-11T12:47:01.347Z"
   },
   {
    "duration": 99,
    "start_time": "2021-12-11T12:47:01.370Z"
   },
   {
    "duration": 117,
    "start_time": "2021-12-11T12:47:01.472Z"
   },
   {
    "duration": 5,
    "start_time": "2021-12-11T12:47:01.591Z"
   },
   {
    "duration": 39,
    "start_time": "2021-12-11T12:47:01.598Z"
   },
   {
    "duration": 59,
    "start_time": "2021-12-11T12:47:01.641Z"
   },
   {
    "duration": 10,
    "start_time": "2021-12-11T12:47:01.703Z"
   },
   {
    "duration": 161,
    "start_time": "2021-12-11T12:47:01.715Z"
   },
   {
    "duration": 4,
    "start_time": "2021-12-11T12:47:05.214Z"
   },
   {
    "duration": 523,
    "start_time": "2021-12-11T12:47:05.220Z"
   },
   {
    "duration": 21,
    "start_time": "2021-12-11T12:47:05.746Z"
   },
   {
    "duration": 98,
    "start_time": "2021-12-11T12:47:05.769Z"
   },
   {
    "duration": 133,
    "start_time": "2021-12-11T12:47:05.870Z"
   },
   {
    "duration": 5,
    "start_time": "2021-12-11T12:47:06.005Z"
   },
   {
    "duration": 54,
    "start_time": "2021-12-11T12:47:06.012Z"
   },
   {
    "duration": 51,
    "start_time": "2021-12-11T12:47:06.069Z"
   },
   {
    "duration": 22,
    "start_time": "2021-12-11T12:47:06.123Z"
   },
   {
    "duration": 167,
    "start_time": "2021-12-11T12:47:06.147Z"
   },
   {
    "duration": 151,
    "start_time": "2021-12-11T12:47:36.355Z"
   },
   {
    "duration": 142,
    "start_time": "2021-12-11T12:47:47.395Z"
   },
   {
    "duration": 146,
    "start_time": "2021-12-11T12:47:51.595Z"
   },
   {
    "duration": 4,
    "start_time": "2021-12-11T12:48:00.593Z"
   },
   {
    "duration": 538,
    "start_time": "2021-12-11T12:48:00.599Z"
   },
   {
    "duration": 19,
    "start_time": "2021-12-11T12:48:01.140Z"
   },
   {
    "duration": 104,
    "start_time": "2021-12-11T12:48:01.161Z"
   },
   {
    "duration": 119,
    "start_time": "2021-12-11T12:48:01.267Z"
   },
   {
    "duration": 5,
    "start_time": "2021-12-11T12:48:01.388Z"
   },
   {
    "duration": 45,
    "start_time": "2021-12-11T12:48:01.396Z"
   },
   {
    "duration": 37,
    "start_time": "2021-12-11T12:48:01.444Z"
   },
   {
    "duration": 45,
    "start_time": "2021-12-11T12:48:01.484Z"
   },
   {
    "duration": 166,
    "start_time": "2021-12-11T12:48:01.531Z"
   },
   {
    "duration": 161,
    "start_time": "2021-12-11T12:48:15.136Z"
   },
   {
    "duration": 179,
    "start_time": "2021-12-11T12:49:48.281Z"
   },
   {
    "duration": 172,
    "start_time": "2021-12-11T12:50:10.383Z"
   },
   {
    "duration": 4,
    "start_time": "2021-12-11T12:50:14.945Z"
   },
   {
    "duration": 528,
    "start_time": "2021-12-11T12:50:14.956Z"
   },
   {
    "duration": 22,
    "start_time": "2021-12-11T12:50:15.487Z"
   },
   {
    "duration": 86,
    "start_time": "2021-12-11T12:50:15.512Z"
   },
   {
    "duration": 126,
    "start_time": "2021-12-11T12:50:15.601Z"
   },
   {
    "duration": 40,
    "start_time": "2021-12-11T12:50:15.729Z"
   },
   {
    "duration": 28,
    "start_time": "2021-12-11T12:50:15.771Z"
   },
   {
    "duration": 33,
    "start_time": "2021-12-11T12:50:15.801Z"
   },
   {
    "duration": 16,
    "start_time": "2021-12-11T12:50:15.837Z"
   },
   {
    "duration": 178,
    "start_time": "2021-12-11T12:50:15.868Z"
   },
   {
    "duration": 173,
    "start_time": "2021-12-11T12:51:57.400Z"
   },
   {
    "duration": 171,
    "start_time": "2021-12-11T12:52:02.817Z"
   },
   {
    "duration": 168,
    "start_time": "2021-12-11T12:52:13.032Z"
   },
   {
    "duration": 169,
    "start_time": "2021-12-11T12:52:41.841Z"
   },
   {
    "duration": 156,
    "start_time": "2021-12-11T12:52:53.485Z"
   },
   {
    "duration": 155,
    "start_time": "2021-12-11T12:52:58.815Z"
   },
   {
    "duration": 159,
    "start_time": "2021-12-11T12:53:07.760Z"
   },
   {
    "duration": 11,
    "start_time": "2021-12-11T12:53:54.433Z"
   },
   {
    "duration": 300,
    "start_time": "2021-12-11T12:54:16.888Z"
   },
   {
    "duration": 13,
    "start_time": "2021-12-11T12:54:24.622Z"
   },
   {
    "duration": 48,
    "start_time": "2021-12-11T12:55:32.373Z"
   },
   {
    "duration": 53,
    "start_time": "2021-12-11T12:55:48.594Z"
   },
   {
    "duration": 397,
    "start_time": "2021-12-11T12:58:22.004Z"
   },
   {
    "duration": 138,
    "start_time": "2021-12-11T12:58:29.046Z"
   },
   {
    "duration": 8982,
    "start_time": "2021-12-11T12:58:53.674Z"
   },
   {
    "duration": 4,
    "start_time": "2021-12-11T12:59:11.993Z"
   },
   {
    "duration": 580,
    "start_time": "2021-12-11T12:59:12.000Z"
   },
   {
    "duration": 20,
    "start_time": "2021-12-11T12:59:12.583Z"
   },
   {
    "duration": 91,
    "start_time": "2021-12-11T12:59:12.606Z"
   },
   {
    "duration": 169,
    "start_time": "2021-12-11T12:59:12.700Z"
   },
   {
    "duration": 6,
    "start_time": "2021-12-11T12:59:12.872Z"
   },
   {
    "duration": 14,
    "start_time": "2021-12-11T12:59:12.881Z"
   },
   {
    "duration": 69,
    "start_time": "2021-12-11T12:59:12.899Z"
   },
   {
    "duration": 11,
    "start_time": "2021-12-11T12:59:12.973Z"
   },
   {
    "duration": 190,
    "start_time": "2021-12-11T12:59:12.987Z"
   },
   {
    "duration": 10961,
    "start_time": "2021-12-11T12:59:13.180Z"
   },
   {
    "duration": 4,
    "start_time": "2021-12-11T12:59:31.393Z"
   },
   {
    "duration": 565,
    "start_time": "2021-12-11T12:59:31.400Z"
   },
   {
    "duration": 20,
    "start_time": "2021-12-11T12:59:31.968Z"
   },
   {
    "duration": 98,
    "start_time": "2021-12-11T12:59:31.991Z"
   },
   {
    "duration": 121,
    "start_time": "2021-12-11T12:59:32.091Z"
   },
   {
    "duration": 4,
    "start_time": "2021-12-11T12:59:32.214Z"
   },
   {
    "duration": 48,
    "start_time": "2021-12-11T12:59:32.220Z"
   },
   {
    "duration": 21,
    "start_time": "2021-12-11T12:59:32.271Z"
   },
   {
    "duration": 10,
    "start_time": "2021-12-11T12:59:32.294Z"
   },
   {
    "duration": 197,
    "start_time": "2021-12-11T12:59:32.307Z"
   },
   {
    "duration": 106,
    "start_time": "2021-12-11T12:59:32.507Z"
   },
   {
    "duration": 383,
    "start_time": "2021-12-11T12:59:53.603Z"
   },
   {
    "duration": 91,
    "start_time": "2021-12-11T13:00:06.957Z"
   },
   {
    "duration": 103,
    "start_time": "2021-12-11T13:01:55.933Z"
   },
   {
    "duration": 128,
    "start_time": "2021-12-11T13:02:08.054Z"
   },
   {
    "duration": 398,
    "start_time": "2021-12-11T13:02:49.643Z"
   },
   {
    "duration": 110,
    "start_time": "2021-12-11T13:03:35.613Z"
   },
   {
    "duration": 113,
    "start_time": "2021-12-11T13:03:45.544Z"
   },
   {
    "duration": 3,
    "start_time": "2021-12-11T13:04:35.544Z"
   },
   {
    "duration": 552,
    "start_time": "2021-12-11T13:04:35.549Z"
   },
   {
    "duration": 19,
    "start_time": "2021-12-11T13:04:36.104Z"
   },
   {
    "duration": 74,
    "start_time": "2021-12-11T13:04:36.126Z"
   },
   {
    "duration": 125,
    "start_time": "2021-12-11T13:04:36.203Z"
   },
   {
    "duration": 38,
    "start_time": "2021-12-11T13:04:36.330Z"
   },
   {
    "duration": 36,
    "start_time": "2021-12-11T13:04:36.370Z"
   },
   {
    "duration": 28,
    "start_time": "2021-12-11T13:04:36.409Z"
   },
   {
    "duration": 36,
    "start_time": "2021-12-11T13:04:36.442Z"
   },
   {
    "duration": 177,
    "start_time": "2021-12-11T13:04:36.481Z"
   },
   {
    "duration": 117,
    "start_time": "2021-12-11T13:04:36.668Z"
   },
   {
    "duration": 3,
    "start_time": "2021-12-11T13:07:12.623Z"
   },
   {
    "duration": 516,
    "start_time": "2021-12-11T13:07:12.629Z"
   },
   {
    "duration": 22,
    "start_time": "2021-12-11T13:07:13.148Z"
   },
   {
    "duration": 96,
    "start_time": "2021-12-11T13:07:13.173Z"
   },
   {
    "duration": 117,
    "start_time": "2021-12-11T13:07:13.271Z"
   },
   {
    "duration": 5,
    "start_time": "2021-12-11T13:07:13.390Z"
   },
   {
    "duration": 17,
    "start_time": "2021-12-11T13:07:13.397Z"
   },
   {
    "duration": 64,
    "start_time": "2021-12-11T13:07:13.417Z"
   },
   {
    "duration": 10,
    "start_time": "2021-12-11T13:07:13.484Z"
   },
   {
    "duration": 189,
    "start_time": "2021-12-11T13:07:13.497Z"
   },
   {
    "duration": 121,
    "start_time": "2021-12-11T13:07:13.689Z"
   },
   {
    "duration": 103,
    "start_time": "2021-12-11T13:07:22.674Z"
   },
   {
    "duration": 4,
    "start_time": "2021-12-11T13:07:27.593Z"
   },
   {
    "duration": 538,
    "start_time": "2021-12-11T13:07:27.607Z"
   },
   {
    "duration": 20,
    "start_time": "2021-12-11T13:07:28.148Z"
   },
   {
    "duration": 99,
    "start_time": "2021-12-11T13:07:28.171Z"
   },
   {
    "duration": 130,
    "start_time": "2021-12-11T13:07:28.272Z"
   },
   {
    "duration": 4,
    "start_time": "2021-12-11T13:07:28.405Z"
   },
   {
    "duration": 16,
    "start_time": "2021-12-11T13:07:28.411Z"
   },
   {
    "duration": 56,
    "start_time": "2021-12-11T13:07:28.429Z"
   },
   {
    "duration": 10,
    "start_time": "2021-12-11T13:07:28.487Z"
   },
   {
    "duration": 200,
    "start_time": "2021-12-11T13:07:28.502Z"
   },
   {
    "duration": 114,
    "start_time": "2021-12-11T13:07:28.705Z"
   },
   {
    "duration": 4,
    "start_time": "2021-12-11T13:07:36.673Z"
   },
   {
    "duration": 516,
    "start_time": "2021-12-11T13:07:36.686Z"
   },
   {
    "duration": 22,
    "start_time": "2021-12-11T13:07:37.206Z"
   },
   {
    "duration": 81,
    "start_time": "2021-12-11T13:07:37.232Z"
   },
   {
    "duration": 163,
    "start_time": "2021-12-11T13:07:37.316Z"
   },
   {
    "duration": 6,
    "start_time": "2021-12-11T13:07:37.482Z"
   },
   {
    "duration": 28,
    "start_time": "2021-12-11T13:07:37.491Z"
   },
   {
    "duration": 53,
    "start_time": "2021-12-11T13:07:37.522Z"
   },
   {
    "duration": 10,
    "start_time": "2021-12-11T13:07:37.577Z"
   },
   {
    "duration": 181,
    "start_time": "2021-12-11T13:07:37.590Z"
   },
   {
    "duration": 117,
    "start_time": "2021-12-11T13:07:37.774Z"
   },
   {
    "duration": 3,
    "start_time": "2021-12-11T13:07:54.705Z"
   },
   {
    "duration": 524,
    "start_time": "2021-12-11T13:07:54.721Z"
   },
   {
    "duration": 21,
    "start_time": "2021-12-11T13:07:55.247Z"
   },
   {
    "duration": 64,
    "start_time": "2021-12-11T13:07:55.271Z"
   },
   {
    "duration": 120,
    "start_time": "2021-12-11T13:07:55.367Z"
   },
   {
    "duration": 4,
    "start_time": "2021-12-11T13:07:55.490Z"
   },
   {
    "duration": 35,
    "start_time": "2021-12-11T13:07:55.496Z"
   },
   {
    "duration": 48,
    "start_time": "2021-12-11T13:07:55.534Z"
   },
   {
    "duration": 11,
    "start_time": "2021-12-11T13:07:55.584Z"
   },
   {
    "duration": 189,
    "start_time": "2021-12-11T13:07:55.598Z"
   },
   {
    "duration": 104,
    "start_time": "2021-12-11T13:07:55.789Z"
   },
   {
    "duration": 4,
    "start_time": "2021-12-11T13:08:20.961Z"
   },
   {
    "duration": 538,
    "start_time": "2021-12-11T13:08:20.967Z"
   },
   {
    "duration": 21,
    "start_time": "2021-12-11T13:08:21.508Z"
   },
   {
    "duration": 72,
    "start_time": "2021-12-11T13:08:21.532Z"
   },
   {
    "duration": 162,
    "start_time": "2021-12-11T13:08:21.607Z"
   },
   {
    "duration": 5,
    "start_time": "2021-12-11T13:08:21.771Z"
   },
   {
    "duration": 17,
    "start_time": "2021-12-11T13:08:21.779Z"
   },
   {
    "duration": 22,
    "start_time": "2021-12-11T13:08:21.798Z"
   },
   {
    "duration": 52,
    "start_time": "2021-12-11T13:08:21.823Z"
   },
   {
    "duration": 194,
    "start_time": "2021-12-11T13:08:21.877Z"
   },
   {
    "duration": 133,
    "start_time": "2021-12-11T13:08:22.073Z"
   },
   {
    "duration": 112,
    "start_time": "2021-12-11T13:08:33.275Z"
   },
   {
    "duration": 3,
    "start_time": "2021-12-11T13:08:44.933Z"
   },
   {
    "duration": 538,
    "start_time": "2021-12-11T13:08:44.944Z"
   },
   {
    "duration": 23,
    "start_time": "2021-12-11T13:08:45.486Z"
   },
   {
    "duration": 110,
    "start_time": "2021-12-11T13:08:45.513Z"
   },
   {
    "duration": 150,
    "start_time": "2021-12-11T13:08:45.627Z"
   },
   {
    "duration": 5,
    "start_time": "2021-12-11T13:08:45.779Z"
   },
   {
    "duration": 15,
    "start_time": "2021-12-11T13:08:45.787Z"
   },
   {
    "duration": 62,
    "start_time": "2021-12-11T13:08:45.805Z"
   },
   {
    "duration": 11,
    "start_time": "2021-12-11T13:08:45.870Z"
   },
   {
    "duration": 187,
    "start_time": "2021-12-11T13:08:45.884Z"
   },
   {
    "duration": 173,
    "start_time": "2021-12-11T13:08:46.074Z"
   },
   {
    "duration": 746,
    "start_time": "2021-12-11T13:08:56.686Z"
   },
   {
    "duration": 532,
    "start_time": "2021-12-11T13:08:57.435Z"
   },
   {
    "duration": 24,
    "start_time": "2021-12-11T13:08:57.971Z"
   },
   {
    "duration": 102,
    "start_time": "2021-12-11T13:08:57.998Z"
   },
   {
    "duration": 117,
    "start_time": "2021-12-11T13:08:58.103Z"
   },
   {
    "duration": 4,
    "start_time": "2021-12-11T13:08:58.222Z"
   },
   {
    "duration": 48,
    "start_time": "2021-12-11T13:08:58.228Z"
   },
   {
    "duration": 25,
    "start_time": "2021-12-11T13:08:58.279Z"
   },
   {
    "duration": 10,
    "start_time": "2021-12-11T13:08:58.307Z"
   },
   {
    "duration": 218,
    "start_time": "2021-12-11T13:08:58.320Z"
   },
   {
    "duration": 127,
    "start_time": "2021-12-11T13:08:58.541Z"
   },
   {
    "duration": 744,
    "start_time": "2021-12-11T13:09:19.979Z"
   },
   {
    "duration": 533,
    "start_time": "2021-12-11T13:09:20.726Z"
   },
   {
    "duration": 22,
    "start_time": "2021-12-11T13:09:21.262Z"
   },
   {
    "duration": 92,
    "start_time": "2021-12-11T13:09:21.287Z"
   },
   {
    "duration": 124,
    "start_time": "2021-12-11T13:09:21.382Z"
   },
   {
    "duration": 6,
    "start_time": "2021-12-11T13:09:21.509Z"
   },
   {
    "duration": 56,
    "start_time": "2021-12-11T13:09:21.518Z"
   },
   {
    "duration": 32,
    "start_time": "2021-12-11T13:09:21.577Z"
   },
   {
    "duration": 11,
    "start_time": "2021-12-11T13:09:21.613Z"
   },
   {
    "duration": 223,
    "start_time": "2021-12-11T13:09:21.627Z"
   },
   {
    "duration": 130,
    "start_time": "2021-12-11T13:09:21.852Z"
   },
   {
    "duration": 113,
    "start_time": "2021-12-11T13:09:33.990Z"
   },
   {
    "duration": 130,
    "start_time": "2021-12-11T13:09:46.575Z"
   },
   {
    "duration": 116,
    "start_time": "2021-12-11T13:09:57.158Z"
   },
   {
    "duration": 121,
    "start_time": "2021-12-11T13:10:06.660Z"
   },
   {
    "duration": 112,
    "start_time": "2021-12-11T13:10:29.872Z"
   },
   {
    "duration": 127,
    "start_time": "2021-12-11T13:11:10.913Z"
   },
   {
    "duration": 110,
    "start_time": "2021-12-11T13:11:28.032Z"
   },
   {
    "duration": 115,
    "start_time": "2021-12-11T13:11:33.852Z"
   },
   {
    "duration": 108,
    "start_time": "2021-12-11T13:12:05.519Z"
   },
   {
    "duration": 126,
    "start_time": "2021-12-11T13:14:57.352Z"
   },
   {
    "duration": 4,
    "start_time": "2021-12-11T13:15:04.141Z"
   },
   {
    "duration": 563,
    "start_time": "2021-12-11T13:15:04.148Z"
   },
   {
    "duration": 25,
    "start_time": "2021-12-11T13:15:04.714Z"
   },
   {
    "duration": 73,
    "start_time": "2021-12-11T13:15:04.742Z"
   },
   {
    "duration": 160,
    "start_time": "2021-12-11T13:15:04.818Z"
   },
   {
    "duration": 5,
    "start_time": "2021-12-11T13:15:04.981Z"
   },
   {
    "duration": 18,
    "start_time": "2021-12-11T13:15:04.988Z"
   },
   {
    "duration": 62,
    "start_time": "2021-12-11T13:15:05.008Z"
   },
   {
    "duration": 9,
    "start_time": "2021-12-11T13:15:05.074Z"
   },
   {
    "duration": 198,
    "start_time": "2021-12-11T13:15:05.086Z"
   },
   {
    "duration": 120,
    "start_time": "2021-12-11T13:15:05.286Z"
   },
   {
    "duration": 114,
    "start_time": "2021-12-11T13:15:41.092Z"
   },
   {
    "duration": 116,
    "start_time": "2021-12-11T13:15:58.031Z"
   },
   {
    "duration": 3,
    "start_time": "2021-12-11T13:16:14.300Z"
   },
   {
    "duration": 532,
    "start_time": "2021-12-11T13:16:14.306Z"
   },
   {
    "duration": 22,
    "start_time": "2021-12-11T13:16:14.841Z"
   },
   {
    "duration": 76,
    "start_time": "2021-12-11T13:16:14.866Z"
   },
   {
    "duration": 117,
    "start_time": "2021-12-11T13:16:14.968Z"
   },
   {
    "duration": 4,
    "start_time": "2021-12-11T13:16:15.088Z"
   },
   {
    "duration": 40,
    "start_time": "2021-12-11T13:16:15.094Z"
   },
   {
    "duration": 38,
    "start_time": "2021-12-11T13:16:15.137Z"
   },
   {
    "duration": 10,
    "start_time": "2021-12-11T13:16:15.179Z"
   },
   {
    "duration": 192,
    "start_time": "2021-12-11T13:16:15.192Z"
   },
   {
    "duration": 125,
    "start_time": "2021-12-11T13:16:15.386Z"
   },
   {
    "duration": 109,
    "start_time": "2021-12-11T13:16:48.112Z"
   },
   {
    "duration": 170,
    "start_time": "2021-12-11T13:17:24.171Z"
   },
   {
    "duration": 107,
    "start_time": "2021-12-11T13:18:09.528Z"
   },
   {
    "duration": 8364,
    "start_time": "2021-12-11T13:19:56.771Z"
   },
   {
    "duration": 128,
    "start_time": "2021-12-11T13:20:55.472Z"
   },
   {
    "duration": 120,
    "start_time": "2021-12-11T13:21:50.793Z"
   },
   {
    "duration": 924,
    "start_time": "2021-12-11T13:23:45.032Z"
   },
   {
    "duration": 142,
    "start_time": "2021-12-11T13:24:14.752Z"
   },
   {
    "duration": 147,
    "start_time": "2021-12-11T13:24:31.422Z"
   },
   {
    "duration": 133,
    "start_time": "2021-12-11T13:24:46.412Z"
   },
   {
    "duration": 4,
    "start_time": "2021-12-11T13:25:27.022Z"
   },
   {
    "duration": 521,
    "start_time": "2021-12-11T13:25:27.035Z"
   },
   {
    "duration": 23,
    "start_time": "2021-12-11T13:25:27.559Z"
   },
   {
    "duration": 108,
    "start_time": "2021-12-11T13:25:27.586Z"
   },
   {
    "duration": 178,
    "start_time": "2021-12-11T13:25:27.698Z"
   },
   {
    "duration": 6,
    "start_time": "2021-12-11T13:25:27.879Z"
   },
   {
    "duration": 15,
    "start_time": "2021-12-11T13:25:27.887Z"
   },
   {
    "duration": 66,
    "start_time": "2021-12-11T13:25:27.905Z"
   },
   {
    "duration": 14,
    "start_time": "2021-12-11T13:25:27.975Z"
   },
   {
    "duration": 285,
    "start_time": "2021-12-11T13:25:27.994Z"
   },
   {
    "duration": 224,
    "start_time": "2021-12-11T13:25:28.283Z"
   },
   {
    "duration": 120,
    "start_time": "2021-12-11T13:26:11.184Z"
   },
   {
    "duration": 107,
    "start_time": "2021-12-11T13:26:35.591Z"
   },
   {
    "duration": 386,
    "start_time": "2021-12-11T13:26:48.212Z"
   },
   {
    "duration": 404,
    "start_time": "2021-12-11T13:27:35.575Z"
   },
   {
    "duration": 119,
    "start_time": "2021-12-11T13:28:42.248Z"
   },
   {
    "duration": 99,
    "start_time": "2021-12-11T13:28:54.498Z"
   },
   {
    "duration": 117,
    "start_time": "2021-12-11T13:28:58.590Z"
   },
   {
    "duration": 114,
    "start_time": "2021-12-11T13:29:13.332Z"
   },
   {
    "duration": 132,
    "start_time": "2021-12-11T13:30:02.539Z"
   },
   {
    "duration": 129,
    "start_time": "2021-12-11T13:30:10.851Z"
   },
   {
    "duration": 4,
    "start_time": "2021-12-11T13:30:48.282Z"
   },
   {
    "duration": 535,
    "start_time": "2021-12-11T13:30:48.298Z"
   },
   {
    "duration": 22,
    "start_time": "2021-12-11T13:30:48.835Z"
   },
   {
    "duration": 66,
    "start_time": "2021-12-11T13:30:48.860Z"
   },
   {
    "duration": 146,
    "start_time": "2021-12-11T13:30:48.928Z"
   },
   {
    "duration": 5,
    "start_time": "2021-12-11T13:30:49.076Z"
   },
   {
    "duration": 16,
    "start_time": "2021-12-11T13:30:49.083Z"
   },
   {
    "duration": 69,
    "start_time": "2021-12-11T13:30:49.102Z"
   },
   {
    "duration": 11,
    "start_time": "2021-12-11T13:30:49.173Z"
   },
   {
    "duration": 184,
    "start_time": "2021-12-11T13:30:49.187Z"
   },
   {
    "duration": 193,
    "start_time": "2021-12-11T13:30:49.374Z"
   },
   {
    "duration": 109,
    "start_time": "2021-12-11T13:30:59.812Z"
   },
   {
    "duration": 3,
    "start_time": "2021-12-11T13:31:08.241Z"
   },
   {
    "duration": 518,
    "start_time": "2021-12-11T13:31:08.247Z"
   },
   {
    "duration": 23,
    "start_time": "2021-12-11T13:31:08.768Z"
   },
   {
    "duration": 101,
    "start_time": "2021-12-11T13:31:08.794Z"
   },
   {
    "duration": 115,
    "start_time": "2021-12-11T13:31:08.897Z"
   },
   {
    "duration": 4,
    "start_time": "2021-12-11T13:31:09.014Z"
   },
   {
    "duration": 51,
    "start_time": "2021-12-11T13:31:09.021Z"
   },
   {
    "duration": 23,
    "start_time": "2021-12-11T13:31:09.074Z"
   },
   {
    "duration": 10,
    "start_time": "2021-12-11T13:31:09.101Z"
   },
   {
    "duration": 197,
    "start_time": "2021-12-11T13:31:09.114Z"
   },
   {
    "duration": 171,
    "start_time": "2021-12-11T13:31:09.314Z"
   },
   {
    "duration": 127,
    "start_time": "2021-12-11T13:31:53.939Z"
   },
   {
    "duration": 3,
    "start_time": "2021-12-11T13:32:55.263Z"
   },
   {
    "duration": 522,
    "start_time": "2021-12-11T13:32:55.279Z"
   },
   {
    "duration": 23,
    "start_time": "2021-12-11T13:32:55.805Z"
   },
   {
    "duration": 73,
    "start_time": "2021-12-11T13:32:55.831Z"
   },
   {
    "duration": 118,
    "start_time": "2021-12-11T13:32:55.907Z"
   },
   {
    "duration": 4,
    "start_time": "2021-12-11T13:32:56.028Z"
   },
   {
    "duration": 12,
    "start_time": "2021-12-11T13:32:56.068Z"
   },
   {
    "duration": 25,
    "start_time": "2021-12-11T13:32:56.083Z"
   },
   {
    "duration": 11,
    "start_time": "2021-12-11T13:32:56.110Z"
   },
   {
    "duration": 206,
    "start_time": "2021-12-11T13:32:56.125Z"
   },
   {
    "duration": 8983,
    "start_time": "2021-12-11T13:32:56.334Z"
   },
   {
    "duration": 3,
    "start_time": "2021-12-11T13:33:15.231Z"
   },
   {
    "duration": 569,
    "start_time": "2021-12-11T13:33:15.237Z"
   },
   {
    "duration": 24,
    "start_time": "2021-12-11T13:33:15.809Z"
   },
   {
    "duration": 77,
    "start_time": "2021-12-11T13:33:15.837Z"
   },
   {
    "duration": 167,
    "start_time": "2021-12-11T13:33:15.917Z"
   },
   {
    "duration": 5,
    "start_time": "2021-12-11T13:33:16.087Z"
   },
   {
    "duration": 18,
    "start_time": "2021-12-11T13:33:16.094Z"
   },
   {
    "duration": 64,
    "start_time": "2021-12-11T13:33:16.114Z"
   },
   {
    "duration": 11,
    "start_time": "2021-12-11T13:33:16.181Z"
   },
   {
    "duration": 188,
    "start_time": "2021-12-11T13:33:16.195Z"
   },
   {
    "duration": 135,
    "start_time": "2021-12-11T13:33:16.386Z"
   },
   {
    "duration": 109,
    "start_time": "2021-12-11T13:33:54.799Z"
   },
   {
    "duration": 4,
    "start_time": "2021-12-11T13:34:48.122Z"
   },
   {
    "duration": 536,
    "start_time": "2021-12-11T13:34:48.140Z"
   },
   {
    "duration": 24,
    "start_time": "2021-12-11T13:34:48.679Z"
   },
   {
    "duration": 92,
    "start_time": "2021-12-11T13:34:48.706Z"
   },
   {
    "duration": 119,
    "start_time": "2021-12-11T13:34:48.801Z"
   },
   {
    "duration": 5,
    "start_time": "2021-12-11T13:34:48.922Z"
   },
   {
    "duration": 48,
    "start_time": "2021-12-11T13:34:48.929Z"
   },
   {
    "duration": 25,
    "start_time": "2021-12-11T13:34:48.980Z"
   },
   {
    "duration": 11,
    "start_time": "2021-12-11T13:34:49.009Z"
   },
   {
    "duration": 202,
    "start_time": "2021-12-11T13:34:49.023Z"
   },
   {
    "duration": 120,
    "start_time": "2021-12-11T13:34:49.228Z"
   },
   {
    "duration": 394,
    "start_time": "2021-12-11T13:35:39.403Z"
   },
   {
    "duration": 121,
    "start_time": "2021-12-11T13:35:57.952Z"
   },
   {
    "duration": 121,
    "start_time": "2021-12-11T13:37:17.515Z"
   },
   {
    "duration": 95,
    "start_time": "2021-12-11T13:39:54.192Z"
   },
   {
    "duration": 161,
    "start_time": "2021-12-11T13:39:58.924Z"
   },
   {
    "duration": 3,
    "start_time": "2021-12-11T13:40:10.811Z"
   },
   {
    "duration": 546,
    "start_time": "2021-12-11T13:40:10.818Z"
   },
   {
    "duration": 22,
    "start_time": "2021-12-11T13:40:11.368Z"
   },
   {
    "duration": 103,
    "start_time": "2021-12-11T13:40:11.393Z"
   },
   {
    "duration": 123,
    "start_time": "2021-12-11T13:40:11.499Z"
   },
   {
    "duration": 5,
    "start_time": "2021-12-11T13:40:11.624Z"
   },
   {
    "duration": 45,
    "start_time": "2021-12-11T13:40:11.632Z"
   },
   {
    "duration": 43,
    "start_time": "2021-12-11T13:40:11.679Z"
   },
   {
    "duration": 42,
    "start_time": "2021-12-11T13:40:11.725Z"
   },
   {
    "duration": 167,
    "start_time": "2021-12-11T13:40:11.769Z"
   },
   {
    "duration": 112,
    "start_time": "2021-12-11T13:40:11.939Z"
   },
   {
    "duration": 19,
    "start_time": "2021-12-11T13:40:12.054Z"
   },
   {
    "duration": 31,
    "start_time": "2021-12-11T13:40:22.595Z"
   },
   {
    "duration": 3,
    "start_time": "2021-12-11T13:42:08.583Z"
   },
   {
    "duration": 520,
    "start_time": "2021-12-11T13:43:28.731Z"
   },
   {
    "duration": 9239,
    "start_time": "2021-12-11T13:43:56.511Z"
   },
   {
    "duration": 63,
    "start_time": "2021-12-11T13:44:14.730Z"
   },
   {
    "duration": 472,
    "start_time": "2021-12-11T13:46:39.190Z"
   },
   {
    "duration": 126,
    "start_time": "2021-12-11T13:47:06.129Z"
   },
   {
    "duration": 103,
    "start_time": "2021-12-11T13:47:34.342Z"
   },
   {
    "duration": 114,
    "start_time": "2021-12-11T13:48:01.433Z"
   },
   {
    "duration": 142,
    "start_time": "2021-12-11T13:48:51.779Z"
   },
   {
    "duration": 416,
    "start_time": "2021-12-11T13:49:14.291Z"
   },
   {
    "duration": 437,
    "start_time": "2021-12-11T13:49:56.996Z"
   },
   {
    "duration": 4,
    "start_time": "2021-12-11T13:50:08.979Z"
   },
   {
    "duration": 570,
    "start_time": "2021-12-11T13:50:08.986Z"
   },
   {
    "duration": 21,
    "start_time": "2021-12-11T13:50:09.560Z"
   },
   {
    "duration": 104,
    "start_time": "2021-12-11T13:50:09.584Z"
   },
   {
    "duration": 122,
    "start_time": "2021-12-11T13:50:09.691Z"
   },
   {
    "duration": 4,
    "start_time": "2021-12-11T13:50:09.815Z"
   },
   {
    "duration": 50,
    "start_time": "2021-12-11T13:50:09.823Z"
   },
   {
    "duration": 25,
    "start_time": "2021-12-11T13:50:09.875Z"
   },
   {
    "duration": 11,
    "start_time": "2021-12-11T13:50:09.903Z"
   },
   {
    "duration": 211,
    "start_time": "2021-12-11T13:50:09.917Z"
   },
   {
    "duration": 121,
    "start_time": "2021-12-11T13:50:10.131Z"
   },
   {
    "duration": 196,
    "start_time": "2021-12-11T13:50:10.268Z"
   },
   {
    "duration": 33,
    "start_time": "2021-12-11T13:50:10.468Z"
   },
   {
    "duration": 313,
    "start_time": "2021-12-11T13:50:45.830Z"
   },
   {
    "duration": 35,
    "start_time": "2021-12-11T13:51:15.436Z"
   },
   {
    "duration": 4,
    "start_time": "2021-12-11T13:57:16.628Z"
   },
   {
    "duration": 299,
    "start_time": "2021-12-11T14:06:24.250Z"
   },
   {
    "duration": 323,
    "start_time": "2021-12-11T14:06:47.357Z"
   },
   {
    "duration": 96,
    "start_time": "2021-12-11T14:09:00.872Z"
   },
   {
    "duration": 302,
    "start_time": "2021-12-11T14:09:31.672Z"
   },
   {
    "duration": 9160,
    "start_time": "2021-12-11T14:10:02.618Z"
   },
   {
    "duration": 8867,
    "start_time": "2021-12-11T14:11:18.091Z"
   },
   {
    "duration": 412,
    "start_time": "2021-12-11T14:12:05.531Z"
   },
   {
    "duration": 527,
    "start_time": "2021-12-11T14:12:10.690Z"
   },
   {
    "duration": 4,
    "start_time": "2021-12-11T14:12:18.874Z"
   },
   {
    "duration": 529,
    "start_time": "2021-12-11T14:12:18.881Z"
   },
   {
    "duration": 22,
    "start_time": "2021-12-11T14:12:19.414Z"
   },
   {
    "duration": 79,
    "start_time": "2021-12-11T14:12:19.439Z"
   },
   {
    "duration": 169,
    "start_time": "2021-12-11T14:12:19.521Z"
   },
   {
    "duration": 4,
    "start_time": "2021-12-11T14:12:19.693Z"
   },
   {
    "duration": 14,
    "start_time": "2021-12-11T14:12:19.701Z"
   },
   {
    "duration": 72,
    "start_time": "2021-12-11T14:12:19.720Z"
   },
   {
    "duration": 12,
    "start_time": "2021-12-11T14:12:19.796Z"
   },
   {
    "duration": 205,
    "start_time": "2021-12-11T14:12:19.810Z"
   },
   {
    "duration": 125,
    "start_time": "2021-12-11T14:12:20.018Z"
   },
   {
    "duration": 137,
    "start_time": "2021-12-11T14:12:20.146Z"
   },
   {
    "duration": 3,
    "start_time": "2021-12-11T14:12:20.285Z"
   },
   {
    "duration": 36,
    "start_time": "2021-12-11T14:12:20.291Z"
   },
   {
    "duration": 428,
    "start_time": "2021-12-11T14:13:01.391Z"
   },
   {
    "duration": 4,
    "start_time": "2021-12-11T14:13:04.871Z"
   },
   {
    "duration": 532,
    "start_time": "2021-12-11T14:13:04.879Z"
   },
   {
    "duration": 22,
    "start_time": "2021-12-11T14:13:05.414Z"
   },
   {
    "duration": 66,
    "start_time": "2021-12-11T14:13:05.439Z"
   },
   {
    "duration": 118,
    "start_time": "2021-12-11T14:13:05.508Z"
   },
   {
    "duration": 42,
    "start_time": "2021-12-11T14:13:05.628Z"
   },
   {
    "duration": 16,
    "start_time": "2021-12-11T14:13:05.672Z"
   },
   {
    "duration": 22,
    "start_time": "2021-12-11T14:13:05.690Z"
   },
   {
    "duration": 10,
    "start_time": "2021-12-11T14:13:05.715Z"
   },
   {
    "duration": 175,
    "start_time": "2021-12-11T14:13:05.767Z"
   },
   {
    "duration": 124,
    "start_time": "2021-12-11T14:13:05.944Z"
   },
   {
    "duration": 136,
    "start_time": "2021-12-11T14:13:06.071Z"
   },
   {
    "duration": 3,
    "start_time": "2021-12-11T14:13:06.209Z"
   },
   {
    "duration": 53,
    "start_time": "2021-12-11T14:13:06.214Z"
   },
   {
    "duration": 8822,
    "start_time": "2021-12-11T14:15:58.571Z"
   },
   {
    "duration": 5430,
    "start_time": "2021-12-11T14:16:44.147Z"
   },
   {
    "duration": 357,
    "start_time": "2021-12-11T14:18:35.232Z"
   },
   {
    "duration": 12,
    "start_time": "2021-12-11T14:18:59.712Z"
   },
   {
    "duration": 4,
    "start_time": "2021-12-11T14:19:36.631Z"
   },
   {
    "duration": 539,
    "start_time": "2021-12-11T14:19:36.638Z"
   },
   {
    "duration": 22,
    "start_time": "2021-12-11T14:19:37.180Z"
   },
   {
    "duration": 100,
    "start_time": "2021-12-11T14:19:37.205Z"
   },
   {
    "duration": 126,
    "start_time": "2021-12-11T14:19:37.308Z"
   },
   {
    "duration": 5,
    "start_time": "2021-12-11T14:19:37.467Z"
   },
   {
    "duration": 15,
    "start_time": "2021-12-11T14:19:37.474Z"
   },
   {
    "duration": 21,
    "start_time": "2021-12-11T14:19:37.492Z"
   },
   {
    "duration": 9,
    "start_time": "2021-12-11T14:19:37.516Z"
   },
   {
    "duration": 163,
    "start_time": "2021-12-11T14:19:37.567Z"
   },
   {
    "duration": 112,
    "start_time": "2021-12-11T14:19:37.732Z"
   },
   {
    "duration": 198,
    "start_time": "2021-12-11T14:19:37.846Z"
   },
   {
    "duration": 26,
    "start_time": "2021-12-11T14:19:38.047Z"
   },
   {
    "duration": 26,
    "start_time": "2021-12-11T14:19:38.076Z"
   },
   {
    "duration": 3,
    "start_time": "2021-12-11T14:20:31.683Z"
   },
   {
    "duration": 543,
    "start_time": "2021-12-11T14:20:31.699Z"
   },
   {
    "duration": 22,
    "start_time": "2021-12-11T14:20:32.244Z"
   },
   {
    "duration": 109,
    "start_time": "2021-12-11T14:20:32.269Z"
   },
   {
    "duration": 117,
    "start_time": "2021-12-11T14:20:32.380Z"
   },
   {
    "duration": 4,
    "start_time": "2021-12-11T14:20:32.500Z"
   },
   {
    "duration": 17,
    "start_time": "2021-12-11T14:20:32.507Z"
   },
   {
    "duration": 59,
    "start_time": "2021-12-11T14:20:32.527Z"
   },
   {
    "duration": 32,
    "start_time": "2021-12-11T14:20:32.589Z"
   },
   {
    "duration": 289,
    "start_time": "2021-12-11T14:20:32.625Z"
   },
   {
    "duration": 120,
    "start_time": "2021-12-11T14:20:32.916Z"
   },
   {
    "duration": 137,
    "start_time": "2021-12-11T14:20:33.038Z"
   },
   {
    "duration": 13,
    "start_time": "2021-12-11T14:20:33.177Z"
   },
   {
    "duration": 30,
    "start_time": "2021-12-11T14:20:33.193Z"
   },
   {
    "duration": 4,
    "start_time": "2021-12-11T14:22:34.470Z"
   },
   {
    "duration": 545,
    "start_time": "2021-12-11T14:22:34.477Z"
   },
   {
    "duration": 22,
    "start_time": "2021-12-11T14:22:35.025Z"
   },
   {
    "duration": 72,
    "start_time": "2021-12-11T14:22:35.050Z"
   },
   {
    "duration": 152,
    "start_time": "2021-12-11T14:22:35.124Z"
   },
   {
    "duration": 5,
    "start_time": "2021-12-11T14:22:35.278Z"
   },
   {
    "duration": 21,
    "start_time": "2021-12-11T14:22:35.286Z"
   },
   {
    "duration": 58,
    "start_time": "2021-12-11T14:22:35.310Z"
   },
   {
    "duration": 10,
    "start_time": "2021-12-11T14:22:35.371Z"
   },
   {
    "duration": 178,
    "start_time": "2021-12-11T14:22:35.383Z"
   },
   {
    "duration": 116,
    "start_time": "2021-12-11T14:22:35.567Z"
   },
   {
    "duration": 137,
    "start_time": "2021-12-11T14:22:35.685Z"
   },
   {
    "duration": 25,
    "start_time": "2021-12-11T14:22:35.824Z"
   },
   {
    "duration": 114,
    "start_time": "2021-12-11T14:22:35.868Z"
   },
   {
    "duration": 3,
    "start_time": "2021-12-11T14:22:48.723Z"
   },
   {
    "duration": 509,
    "start_time": "2021-12-11T14:22:48.734Z"
   },
   {
    "duration": 24,
    "start_time": "2021-12-11T14:22:49.246Z"
   },
   {
    "duration": 106,
    "start_time": "2021-12-11T14:22:49.274Z"
   },
   {
    "duration": 125,
    "start_time": "2021-12-11T14:22:49.383Z"
   },
   {
    "duration": 5,
    "start_time": "2021-12-11T14:22:49.510Z"
   },
   {
    "duration": 55,
    "start_time": "2021-12-11T14:22:49.518Z"
   },
   {
    "duration": 25,
    "start_time": "2021-12-11T14:22:49.575Z"
   },
   {
    "duration": 24,
    "start_time": "2021-12-11T14:22:49.603Z"
   },
   {
    "duration": 200,
    "start_time": "2021-12-11T14:22:49.632Z"
   },
   {
    "duration": 115,
    "start_time": "2021-12-11T14:22:49.835Z"
   },
   {
    "duration": 150,
    "start_time": "2021-12-11T14:22:49.953Z"
   },
   {
    "duration": 22,
    "start_time": "2021-12-11T14:22:50.106Z"
   },
   {
    "duration": 97,
    "start_time": "2021-12-11T14:22:50.131Z"
   },
   {
    "duration": 108,
    "start_time": "2021-12-11T14:23:30.872Z"
   },
   {
    "duration": 4,
    "start_time": "2021-12-11T14:23:52.231Z"
   },
   {
    "duration": 536,
    "start_time": "2021-12-11T14:23:52.237Z"
   },
   {
    "duration": 21,
    "start_time": "2021-12-11T14:23:52.776Z"
   },
   {
    "duration": 92,
    "start_time": "2021-12-11T14:23:52.801Z"
   },
   {
    "duration": 134,
    "start_time": "2021-12-11T14:23:52.896Z"
   },
   {
    "duration": 5,
    "start_time": "2021-12-11T14:23:53.068Z"
   },
   {
    "duration": 15,
    "start_time": "2021-12-11T14:23:53.075Z"
   },
   {
    "duration": 23,
    "start_time": "2021-12-11T14:23:53.092Z"
   },
   {
    "duration": 51,
    "start_time": "2021-12-11T14:23:53.119Z"
   },
   {
    "duration": 171,
    "start_time": "2021-12-11T14:23:53.173Z"
   },
   {
    "duration": 115,
    "start_time": "2021-12-11T14:23:53.346Z"
   },
   {
    "duration": 135,
    "start_time": "2021-12-11T14:23:53.468Z"
   },
   {
    "duration": 25,
    "start_time": "2021-12-11T14:23:53.606Z"
   },
   {
    "duration": 105,
    "start_time": "2021-12-11T14:23:53.634Z"
   },
   {
    "duration": 3,
    "start_time": "2021-12-11T14:24:04.143Z"
   },
   {
    "duration": 534,
    "start_time": "2021-12-11T14:24:04.154Z"
   },
   {
    "duration": 21,
    "start_time": "2021-12-11T14:24:04.691Z"
   },
   {
    "duration": 86,
    "start_time": "2021-12-11T14:24:04.714Z"
   },
   {
    "duration": 126,
    "start_time": "2021-12-11T14:24:04.803Z"
   },
   {
    "duration": 37,
    "start_time": "2021-12-11T14:24:04.931Z"
   },
   {
    "duration": 13,
    "start_time": "2021-12-11T14:24:04.971Z"
   },
   {
    "duration": 21,
    "start_time": "2021-12-11T14:24:04.987Z"
   },
   {
    "duration": 10,
    "start_time": "2021-12-11T14:24:05.010Z"
   },
   {
    "duration": 205,
    "start_time": "2021-12-11T14:24:05.024Z"
   },
   {
    "duration": 111,
    "start_time": "2021-12-11T14:24:05.232Z"
   },
   {
    "duration": 137,
    "start_time": "2021-12-11T14:24:05.346Z"
   },
   {
    "duration": 23,
    "start_time": "2021-12-11T14:24:05.487Z"
   },
   {
    "duration": 13,
    "start_time": "2021-12-11T14:24:05.513Z"
   },
   {
    "duration": 24,
    "start_time": "2021-12-11T14:26:09.272Z"
   },
   {
    "duration": 17,
    "start_time": "2021-12-11T14:26:42.273Z"
   },
   {
    "duration": 480,
    "start_time": "2021-12-11T14:53:33.294Z"
   },
   {
    "duration": 306,
    "start_time": "2021-12-11T15:09:33.453Z"
   },
   {
    "duration": 311,
    "start_time": "2021-12-11T15:12:16.932Z"
   },
   {
    "duration": 680,
    "start_time": "2021-12-11T15:13:07.531Z"
   },
   {
    "duration": 4,
    "start_time": "2021-12-11T15:13:11.718Z"
   },
   {
    "duration": 626,
    "start_time": "2021-12-11T15:13:11.724Z"
   },
   {
    "duration": 22,
    "start_time": "2021-12-11T15:13:12.354Z"
   },
   {
    "duration": 100,
    "start_time": "2021-12-11T15:13:12.380Z"
   },
   {
    "duration": 126,
    "start_time": "2021-12-11T15:13:12.483Z"
   },
   {
    "duration": 6,
    "start_time": "2021-12-11T15:13:12.612Z"
   },
   {
    "duration": 56,
    "start_time": "2021-12-11T15:13:12.621Z"
   },
   {
    "duration": 26,
    "start_time": "2021-12-11T15:13:12.681Z"
   },
   {
    "duration": 13,
    "start_time": "2021-12-11T15:13:12.710Z"
   },
   {
    "duration": 201,
    "start_time": "2021-12-11T15:13:12.767Z"
   },
   {
    "duration": 130,
    "start_time": "2021-12-11T15:13:12.971Z"
   },
   {
    "duration": 135,
    "start_time": "2021-12-11T15:13:13.104Z"
   },
   {
    "duration": 41,
    "start_time": "2021-12-11T15:13:13.241Z"
   },
   {
    "duration": 981,
    "start_time": "2021-12-11T15:13:13.284Z"
   },
   {
    "duration": 4,
    "start_time": "2021-12-11T15:19:07.423Z"
   },
   {
    "duration": 537,
    "start_time": "2021-12-11T15:19:07.438Z"
   },
   {
    "duration": 22,
    "start_time": "2021-12-11T15:19:07.978Z"
   },
   {
    "duration": 98,
    "start_time": "2021-12-11T15:19:08.003Z"
   },
   {
    "duration": 123,
    "start_time": "2021-12-11T15:19:08.104Z"
   },
   {
    "duration": 40,
    "start_time": "2021-12-11T15:19:08.229Z"
   },
   {
    "duration": 42,
    "start_time": "2021-12-11T15:19:08.272Z"
   },
   {
    "duration": 43,
    "start_time": "2021-12-11T15:19:08.316Z"
   },
   {
    "duration": 11,
    "start_time": "2021-12-11T15:19:08.362Z"
   },
   {
    "duration": 267,
    "start_time": "2021-12-11T15:19:08.377Z"
   },
   {
    "duration": 122,
    "start_time": "2021-12-11T15:19:08.648Z"
   },
   {
    "duration": 141,
    "start_time": "2021-12-11T15:19:08.773Z"
   },
   {
    "duration": 103,
    "start_time": "2021-12-11T15:19:08.917Z"
   },
   {
    "duration": -514,
    "start_time": "2021-12-11T15:19:09.537Z"
   },
   {
    "duration": 312,
    "start_time": "2021-12-11T15:19:20.732Z"
   },
   {
    "duration": 9733,
    "start_time": "2021-12-11T15:30:01.100Z"
   },
   {
    "duration": 7480,
    "start_time": "2021-12-11T15:30:36.799Z"
   },
   {
    "duration": 3,
    "start_time": "2021-12-11T15:31:08.213Z"
   },
   {
    "duration": 539,
    "start_time": "2021-12-11T15:31:08.219Z"
   },
   {
    "duration": 22,
    "start_time": "2021-12-11T15:31:08.760Z"
   },
   {
    "duration": 96,
    "start_time": "2021-12-11T15:31:08.785Z"
   },
   {
    "duration": 117,
    "start_time": "2021-12-11T15:31:08.884Z"
   },
   {
    "duration": 5,
    "start_time": "2021-12-11T15:31:09.004Z"
   },
   {
    "duration": 24,
    "start_time": "2021-12-11T15:31:09.011Z"
   },
   {
    "duration": 54,
    "start_time": "2021-12-11T15:31:09.037Z"
   },
   {
    "duration": 11,
    "start_time": "2021-12-11T15:31:09.095Z"
   },
   {
    "duration": 198,
    "start_time": "2021-12-11T15:31:09.109Z"
   },
   {
    "duration": 120,
    "start_time": "2021-12-11T15:31:09.310Z"
   },
   {
    "duration": 139,
    "start_time": "2021-12-11T15:31:09.432Z"
   },
   {
    "duration": 8580,
    "start_time": "2021-12-11T15:31:09.573Z"
   },
   {
    "duration": -742,
    "start_time": "2021-12-11T15:31:18.898Z"
   },
   {
    "duration": 8573,
    "start_time": "2021-12-11T15:31:39.320Z"
   },
   {
    "duration": -659,
    "start_time": "2021-12-11T15:32:37.752Z"
   },
   {
    "duration": 4,
    "start_time": "2021-12-11T15:32:52.812Z"
   },
   {
    "duration": 528,
    "start_time": "2021-12-11T15:32:52.818Z"
   },
   {
    "duration": 22,
    "start_time": "2021-12-11T15:32:53.349Z"
   },
   {
    "duration": 103,
    "start_time": "2021-12-11T15:32:53.374Z"
   },
   {
    "duration": 121,
    "start_time": "2021-12-11T15:32:53.479Z"
   },
   {
    "duration": 4,
    "start_time": "2021-12-11T15:32:53.603Z"
   },
   {
    "duration": 15,
    "start_time": "2021-12-11T15:32:53.610Z"
   },
   {
    "duration": 59,
    "start_time": "2021-12-11T15:32:53.628Z"
   },
   {
    "duration": 11,
    "start_time": "2021-12-11T15:32:53.691Z"
   },
   {
    "duration": 225,
    "start_time": "2021-12-11T15:32:53.705Z"
   },
   {
    "duration": 112,
    "start_time": "2021-12-11T15:32:53.932Z"
   },
   {
    "duration": 161,
    "start_time": "2021-12-11T15:32:54.047Z"
   },
   {
    "duration": 7907,
    "start_time": "2021-12-11T15:32:54.211Z"
   },
   {
    "duration": -635,
    "start_time": "2021-12-11T15:33:02.757Z"
   },
   {
    "duration": 28,
    "start_time": "2021-12-11T15:33:58.435Z"
   },
   {
    "duration": 375,
    "start_time": "2021-12-11T15:36:35.273Z"
   },
   {
    "duration": 318,
    "start_time": "2021-12-11T15:36:44.299Z"
   },
   {
    "duration": 41,
    "start_time": "2021-12-11T15:38:53.512Z"
   },
   {
    "duration": 56,
    "start_time": "2021-12-11T15:39:35.153Z"
   },
   {
    "duration": 647,
    "start_time": "2021-12-11T15:40:32.860Z"
   },
   {
    "duration": 339,
    "start_time": "2021-12-11T15:40:49.973Z"
   },
   {
    "duration": 4,
    "start_time": "2021-12-11T15:41:03.979Z"
   },
   {
    "duration": 548,
    "start_time": "2021-12-11T15:41:03.985Z"
   },
   {
    "duration": 21,
    "start_time": "2021-12-11T15:41:04.537Z"
   },
   {
    "duration": 72,
    "start_time": "2021-12-11T15:41:04.561Z"
   },
   {
    "duration": 117,
    "start_time": "2021-12-11T15:41:04.668Z"
   },
   {
    "duration": 4,
    "start_time": "2021-12-11T15:41:04.788Z"
   },
   {
    "duration": 16,
    "start_time": "2021-12-11T15:41:04.795Z"
   },
   {
    "duration": 64,
    "start_time": "2021-12-11T15:41:04.814Z"
   },
   {
    "duration": 10,
    "start_time": "2021-12-11T15:41:04.882Z"
   },
   {
    "duration": 191,
    "start_time": "2021-12-11T15:41:04.895Z"
   },
   {
    "duration": 115,
    "start_time": "2021-12-11T15:41:05.089Z"
   },
   {
    "duration": 134,
    "start_time": "2021-12-11T15:41:05.206Z"
   },
   {
    "duration": 66,
    "start_time": "2021-12-11T15:41:05.343Z"
   },
   {
    "duration": 779,
    "start_time": "2021-12-11T15:41:05.412Z"
   },
   {
    "duration": 485,
    "start_time": "2021-12-11T15:42:24.393Z"
   },
   {
    "duration": 25,
    "start_time": "2021-12-11T15:43:11.973Z"
   },
   {
    "duration": 30,
    "start_time": "2021-12-11T15:44:53.648Z"
   },
   {
    "duration": 130,
    "start_time": "2021-12-11T15:44:57.292Z"
   },
   {
    "duration": 115,
    "start_time": "2021-12-11T15:45:18.432Z"
   },
   {
    "duration": 335,
    "start_time": "2021-12-11T15:45:28.133Z"
   },
   {
    "duration": 324,
    "start_time": "2021-12-11T15:46:15.099Z"
   },
   {
    "duration": 3193,
    "start_time": "2021-12-11T15:46:29.956Z"
   },
   {
    "duration": 4,
    "start_time": "2021-12-11T15:46:36.962Z"
   },
   {
    "duration": 541,
    "start_time": "2021-12-11T15:46:36.969Z"
   },
   {
    "duration": 21,
    "start_time": "2021-12-11T15:46:37.513Z"
   },
   {
    "duration": 78,
    "start_time": "2021-12-11T15:46:37.537Z"
   },
   {
    "duration": 118,
    "start_time": "2021-12-11T15:46:37.617Z"
   },
   {
    "duration": 31,
    "start_time": "2021-12-11T15:46:37.738Z"
   },
   {
    "duration": 25,
    "start_time": "2021-12-11T15:46:37.771Z"
   },
   {
    "duration": 23,
    "start_time": "2021-12-11T15:46:37.799Z"
   },
   {
    "duration": 43,
    "start_time": "2021-12-11T15:46:37.826Z"
   },
   {
    "duration": 170,
    "start_time": "2021-12-11T15:46:37.872Z"
   },
   {
    "duration": 124,
    "start_time": "2021-12-11T15:46:38.045Z"
   },
   {
    "duration": 186,
    "start_time": "2021-12-11T15:46:38.171Z"
   },
   {
    "duration": 47,
    "start_time": "2021-12-11T15:46:38.359Z"
   },
   {
    "duration": 624,
    "start_time": "2021-12-11T15:46:38.408Z"
   },
   {
    "duration": 46,
    "start_time": "2021-12-11T15:46:48.613Z"
   },
   {
    "duration": 42,
    "start_time": "2021-12-11T15:47:36.512Z"
   },
   {
    "duration": 318,
    "start_time": "2021-12-11T15:47:54.319Z"
   },
   {
    "duration": 4,
    "start_time": "2021-12-11T15:47:58.863Z"
   },
   {
    "duration": 545,
    "start_time": "2021-12-11T15:47:58.878Z"
   },
   {
    "duration": 20,
    "start_time": "2021-12-11T15:47:59.426Z"
   },
   {
    "duration": 67,
    "start_time": "2021-12-11T15:47:59.450Z"
   },
   {
    "duration": 117,
    "start_time": "2021-12-11T15:47:59.520Z"
   },
   {
    "duration": 5,
    "start_time": "2021-12-11T15:47:59.667Z"
   },
   {
    "duration": 28,
    "start_time": "2021-12-11T15:47:59.674Z"
   },
   {
    "duration": 37,
    "start_time": "2021-12-11T15:47:59.705Z"
   },
   {
    "duration": 23,
    "start_time": "2021-12-11T15:47:59.744Z"
   },
   {
    "duration": 165,
    "start_time": "2021-12-11T15:47:59.771Z"
   },
   {
    "duration": 115,
    "start_time": "2021-12-11T15:47:59.939Z"
   },
   {
    "duration": 152,
    "start_time": "2021-12-11T15:48:00.056Z"
   },
   {
    "duration": 65,
    "start_time": "2021-12-11T15:48:00.210Z"
   },
   {
    "duration": 597,
    "start_time": "2021-12-11T15:48:00.278Z"
   },
   {
    "duration": 103,
    "start_time": "2021-12-11T15:51:22.234Z"
   },
   {
    "duration": 187,
    "start_time": "2021-12-11T15:51:31.929Z"
   },
   {
    "duration": 47,
    "start_time": "2021-12-11T15:51:47.553Z"
   },
   {
    "duration": 3,
    "start_time": "2021-12-11T15:52:33.152Z"
   },
   {
    "duration": 539,
    "start_time": "2021-12-11T15:52:33.158Z"
   },
   {
    "duration": 21,
    "start_time": "2021-12-11T15:52:33.700Z"
   },
   {
    "duration": 70,
    "start_time": "2021-12-11T15:52:33.724Z"
   },
   {
    "duration": 123,
    "start_time": "2021-12-11T15:52:33.796Z"
   },
   {
    "duration": 5,
    "start_time": "2021-12-11T15:52:33.921Z"
   },
   {
    "duration": 48,
    "start_time": "2021-12-11T15:52:33.929Z"
   },
   {
    "duration": 23,
    "start_time": "2021-12-11T15:52:33.980Z"
   },
   {
    "duration": 10,
    "start_time": "2021-12-11T15:52:34.006Z"
   },
   {
    "duration": 210,
    "start_time": "2021-12-11T15:52:34.019Z"
   },
   {
    "duration": 119,
    "start_time": "2021-12-11T15:52:34.232Z"
   },
   {
    "duration": 146,
    "start_time": "2021-12-11T15:52:34.354Z"
   },
   {
    "duration": 75,
    "start_time": "2021-12-11T15:52:34.503Z"
   },
   {
    "duration": 591,
    "start_time": "2021-12-11T15:52:34.581Z"
   },
   {
    "duration": 48,
    "start_time": "2021-12-11T15:53:16.232Z"
   },
   {
    "duration": 796,
    "start_time": "2021-12-11T15:53:39.749Z"
   },
   {
    "duration": 305,
    "start_time": "2021-12-11T15:56:52.864Z"
   },
   {
    "duration": 367,
    "start_time": "2021-12-11T15:57:11.211Z"
   },
   {
    "duration": 6,
    "start_time": "2021-12-11T15:57:15.630Z"
   },
   {
    "duration": 531,
    "start_time": "2021-12-11T15:57:15.638Z"
   },
   {
    "duration": 20,
    "start_time": "2021-12-11T15:57:16.173Z"
   },
   {
    "duration": 105,
    "start_time": "2021-12-11T15:57:16.196Z"
   },
   {
    "duration": 115,
    "start_time": "2021-12-11T15:57:16.303Z"
   },
   {
    "duration": 4,
    "start_time": "2021-12-11T15:57:16.420Z"
   },
   {
    "duration": 49,
    "start_time": "2021-12-11T15:57:16.427Z"
   },
   {
    "duration": 39,
    "start_time": "2021-12-11T15:57:16.479Z"
   },
   {
    "duration": 10,
    "start_time": "2021-12-11T15:57:16.521Z"
   },
   {
    "duration": 184,
    "start_time": "2021-12-11T15:57:16.534Z"
   },
   {
    "duration": 111,
    "start_time": "2021-12-11T15:57:16.721Z"
   },
   {
    "duration": 139,
    "start_time": "2021-12-11T15:57:16.834Z"
   },
   {
    "duration": 332,
    "start_time": "2021-12-11T15:57:16.975Z"
   },
   {
    "duration": -621,
    "start_time": "2021-12-11T15:57:17.931Z"
   },
   {
    "duration": 9834,
    "start_time": "2021-12-11T16:00:34.462Z"
   },
   {
    "duration": 3,
    "start_time": "2021-12-11T16:00:45.359Z"
   },
   {
    "duration": 542,
    "start_time": "2021-12-11T16:00:45.365Z"
   },
   {
    "duration": 22,
    "start_time": "2021-12-11T16:00:45.910Z"
   },
   {
    "duration": 73,
    "start_time": "2021-12-11T16:00:45.935Z"
   },
   {
    "duration": 124,
    "start_time": "2021-12-11T16:00:46.010Z"
   },
   {
    "duration": 33,
    "start_time": "2021-12-11T16:00:46.136Z"
   },
   {
    "duration": 23,
    "start_time": "2021-12-11T16:00:46.171Z"
   },
   {
    "duration": 23,
    "start_time": "2021-12-11T16:00:46.198Z"
   },
   {
    "duration": 47,
    "start_time": "2021-12-11T16:00:46.224Z"
   },
   {
    "duration": 179,
    "start_time": "2021-12-11T16:00:46.274Z"
   },
   {
    "duration": 120,
    "start_time": "2021-12-11T16:00:46.455Z"
   },
   {
    "duration": 136,
    "start_time": "2021-12-11T16:00:46.577Z"
   },
   {
    "duration": 7474,
    "start_time": "2021-12-11T16:00:46.716Z"
   },
   {
    "duration": -620,
    "start_time": "2021-12-11T16:00:54.813Z"
   },
   {
    "duration": 40,
    "start_time": "2021-12-11T16:06:11.400Z"
   },
   {
    "duration": 39,
    "start_time": "2021-12-11T16:06:56.932Z"
   },
   {
    "duration": 4,
    "start_time": "2021-12-11T16:07:02.731Z"
   },
   {
    "duration": 555,
    "start_time": "2021-12-11T16:07:02.737Z"
   },
   {
    "duration": 20,
    "start_time": "2021-12-11T16:07:03.295Z"
   },
   {
    "duration": 81,
    "start_time": "2021-12-11T16:07:03.318Z"
   },
   {
    "duration": 173,
    "start_time": "2021-12-11T16:07:03.402Z"
   },
   {
    "duration": 5,
    "start_time": "2021-12-11T16:07:03.577Z"
   },
   {
    "duration": 23,
    "start_time": "2021-12-11T16:07:03.585Z"
   },
   {
    "duration": 60,
    "start_time": "2021-12-11T16:07:03.613Z"
   },
   {
    "duration": 12,
    "start_time": "2021-12-11T16:07:03.677Z"
   },
   {
    "duration": 195,
    "start_time": "2021-12-11T16:07:03.692Z"
   },
   {
    "duration": 120,
    "start_time": "2021-12-11T16:07:03.891Z"
   },
   {
    "duration": 139,
    "start_time": "2021-12-11T16:07:04.014Z"
   },
   {
    "duration": 50,
    "start_time": "2021-12-11T16:07:04.156Z"
   },
   {
    "duration": 622,
    "start_time": "2021-12-11T16:07:04.209Z"
   },
   {
    "duration": 4,
    "start_time": "2021-12-11T16:07:28.332Z"
   },
   {
    "duration": 523,
    "start_time": "2021-12-11T16:07:28.338Z"
   },
   {
    "duration": 21,
    "start_time": "2021-12-11T16:07:28.866Z"
   },
   {
    "duration": 103,
    "start_time": "2021-12-11T16:07:28.890Z"
   },
   {
    "duration": 118,
    "start_time": "2021-12-11T16:07:28.996Z"
   },
   {
    "duration": 5,
    "start_time": "2021-12-11T16:07:29.118Z"
   },
   {
    "duration": 49,
    "start_time": "2021-12-11T16:07:29.126Z"
   },
   {
    "duration": 24,
    "start_time": "2021-12-11T16:07:29.178Z"
   },
   {
    "duration": 10,
    "start_time": "2021-12-11T16:07:29.206Z"
   },
   {
    "duration": 214,
    "start_time": "2021-12-11T16:07:29.219Z"
   },
   {
    "duration": 116,
    "start_time": "2021-12-11T16:07:29.436Z"
   },
   {
    "duration": 147,
    "start_time": "2021-12-11T16:07:29.554Z"
   },
   {
    "duration": 42,
    "start_time": "2021-12-11T16:07:29.704Z"
   },
   {
    "duration": 677,
    "start_time": "2021-12-11T16:07:29.767Z"
   },
   {
    "duration": 46,
    "start_time": "2021-12-11T16:07:47.012Z"
   },
   {
    "duration": 415,
    "start_time": "2021-12-11T16:08:10.952Z"
   },
   {
    "duration": 4,
    "start_time": "2021-12-11T16:08:18.171Z"
   },
   {
    "duration": 558,
    "start_time": "2021-12-11T16:08:18.178Z"
   },
   {
    "duration": 22,
    "start_time": "2021-12-11T16:08:18.740Z"
   },
   {
    "duration": 118,
    "start_time": "2021-12-11T16:08:18.765Z"
   },
   {
    "duration": 123,
    "start_time": "2021-12-11T16:08:18.886Z"
   },
   {
    "duration": 4,
    "start_time": "2021-12-11T16:08:19.011Z"
   },
   {
    "duration": 57,
    "start_time": "2021-12-11T16:08:19.018Z"
   },
   {
    "duration": 27,
    "start_time": "2021-12-11T16:08:19.078Z"
   },
   {
    "duration": 12,
    "start_time": "2021-12-11T16:08:19.108Z"
   },
   {
    "duration": 211,
    "start_time": "2021-12-11T16:08:19.122Z"
   },
   {
    "duration": 130,
    "start_time": "2021-12-11T16:08:19.336Z"
   },
   {
    "duration": 176,
    "start_time": "2021-12-11T16:08:19.469Z"
   },
   {
    "duration": 53,
    "start_time": "2021-12-11T16:08:19.649Z"
   },
   {
    "duration": 1113,
    "start_time": "2021-12-11T16:08:19.705Z"
   },
   {
    "duration": 40,
    "start_time": "2021-12-11T16:08:41.000Z"
   },
   {
    "duration": 4,
    "start_time": "2021-12-11T16:09:02.280Z"
   },
   {
    "duration": 545,
    "start_time": "2021-12-11T16:09:02.287Z"
   },
   {
    "duration": 22,
    "start_time": "2021-12-11T16:09:02.837Z"
   },
   {
    "duration": 70,
    "start_time": "2021-12-11T16:09:02.861Z"
   },
   {
    "duration": 149,
    "start_time": "2021-12-11T16:09:02.934Z"
   },
   {
    "duration": 4,
    "start_time": "2021-12-11T16:09:03.086Z"
   },
   {
    "duration": 18,
    "start_time": "2021-12-11T16:09:03.092Z"
   },
   {
    "duration": 60,
    "start_time": "2021-12-11T16:09:03.113Z"
   },
   {
    "duration": 11,
    "start_time": "2021-12-11T16:09:03.177Z"
   },
   {
    "duration": 184,
    "start_time": "2021-12-11T16:09:03.190Z"
   },
   {
    "duration": 120,
    "start_time": "2021-12-11T16:09:03.377Z"
   },
   {
    "duration": 135,
    "start_time": "2021-12-11T16:09:03.500Z"
   },
   {
    "duration": 57,
    "start_time": "2021-12-11T16:09:03.637Z"
   },
   {
    "duration": 605,
    "start_time": "2021-12-11T16:09:03.696Z"
   },
   {
    "duration": 3,
    "start_time": "2021-12-11T16:09:13.441Z"
   },
   {
    "duration": 544,
    "start_time": "2021-12-11T16:09:13.447Z"
   },
   {
    "duration": 20,
    "start_time": "2021-12-11T16:09:13.994Z"
   },
   {
    "duration": 79,
    "start_time": "2021-12-11T16:09:14.018Z"
   },
   {
    "duration": 116,
    "start_time": "2021-12-11T16:09:14.100Z"
   },
   {
    "duration": 5,
    "start_time": "2021-12-11T16:09:14.218Z"
   },
   {
    "duration": 55,
    "start_time": "2021-12-11T16:09:14.225Z"
   },
   {
    "duration": 28,
    "start_time": "2021-12-11T16:09:14.283Z"
   },
   {
    "duration": 11,
    "start_time": "2021-12-11T16:09:14.314Z"
   },
   {
    "duration": 191,
    "start_time": "2021-12-11T16:09:14.328Z"
   },
   {
    "duration": 111,
    "start_time": "2021-12-11T16:09:14.522Z"
   },
   {
    "duration": 146,
    "start_time": "2021-12-11T16:09:14.635Z"
   },
   {
    "duration": 44,
    "start_time": "2021-12-11T16:09:14.784Z"
   },
   {
    "duration": 623,
    "start_time": "2021-12-11T16:09:14.830Z"
   },
   {
    "duration": 34,
    "start_time": "2021-12-11T16:09:45.233Z"
   },
   {
    "duration": 3,
    "start_time": "2021-12-11T16:10:33.727Z"
   },
   {
    "duration": 538,
    "start_time": "2021-12-11T16:10:33.738Z"
   },
   {
    "duration": 21,
    "start_time": "2021-12-11T16:10:34.279Z"
   },
   {
    "duration": 99,
    "start_time": "2021-12-11T16:10:34.304Z"
   },
   {
    "duration": 127,
    "start_time": "2021-12-11T16:10:34.406Z"
   },
   {
    "duration": 34,
    "start_time": "2021-12-11T16:10:34.535Z"
   },
   {
    "duration": 18,
    "start_time": "2021-12-11T16:10:34.573Z"
   },
   {
    "duration": 74,
    "start_time": "2021-12-11T16:10:34.595Z"
   },
   {
    "duration": 11,
    "start_time": "2021-12-11T16:10:34.672Z"
   },
   {
    "duration": 236,
    "start_time": "2021-12-11T16:10:34.688Z"
   },
   {
    "duration": 165,
    "start_time": "2021-12-11T16:10:34.927Z"
   },
   {
    "duration": 225,
    "start_time": "2021-12-11T16:10:35.095Z"
   },
   {
    "duration": 63,
    "start_time": "2021-12-11T16:10:35.324Z"
   },
   {
    "duration": 4,
    "start_time": "2021-12-11T16:10:35.390Z"
   },
   {
    "duration": 32,
    "start_time": "2021-12-11T16:13:46.573Z"
   },
   {
    "duration": 3,
    "start_time": "2021-12-11T16:13:51.471Z"
   },
   {
    "duration": 531,
    "start_time": "2021-12-11T16:13:51.477Z"
   },
   {
    "duration": 25,
    "start_time": "2021-12-11T16:13:52.011Z"
   },
   {
    "duration": 68,
    "start_time": "2021-12-11T16:13:52.039Z"
   },
   {
    "duration": 116,
    "start_time": "2021-12-11T16:13:52.109Z"
   },
   {
    "duration": 41,
    "start_time": "2021-12-11T16:13:52.228Z"
   },
   {
    "duration": 15,
    "start_time": "2021-12-11T16:13:52.271Z"
   },
   {
    "duration": 23,
    "start_time": "2021-12-11T16:13:52.290Z"
   },
   {
    "duration": 10,
    "start_time": "2021-12-11T16:13:52.316Z"
   },
   {
    "duration": 230,
    "start_time": "2021-12-11T16:13:52.367Z"
   },
   {
    "duration": 121,
    "start_time": "2021-12-11T16:13:52.599Z"
   },
   {
    "duration": 135,
    "start_time": "2021-12-11T16:13:52.722Z"
   },
   {
    "duration": 35,
    "start_time": "2021-12-11T16:13:52.867Z"
   },
   {
    "duration": 103,
    "start_time": "2021-12-11T16:13:52.904Z"
   },
   {
    "duration": 4,
    "start_time": "2021-12-11T16:14:31.011Z"
   },
   {
    "duration": 1576,
    "start_time": "2021-12-11T16:14:31.017Z"
   },
   {
    "duration": 22,
    "start_time": "2021-12-11T16:14:32.597Z"
   },
   {
    "duration": 78,
    "start_time": "2021-12-11T16:14:32.622Z"
   },
   {
    "duration": 123,
    "start_time": "2021-12-11T16:14:32.703Z"
   },
   {
    "duration": 5,
    "start_time": "2021-12-11T16:14:32.829Z"
   },
   {
    "duration": 44,
    "start_time": "2021-12-11T16:14:32.836Z"
   },
   {
    "duration": 24,
    "start_time": "2021-12-11T16:14:32.884Z"
   },
   {
    "duration": 56,
    "start_time": "2021-12-11T16:14:32.911Z"
   },
   {
    "duration": 175,
    "start_time": "2021-12-11T16:14:32.971Z"
   },
   {
    "duration": 126,
    "start_time": "2021-12-11T16:14:33.149Z"
   },
   {
    "duration": 139,
    "start_time": "2021-12-11T16:14:33.278Z"
   },
   {
    "duration": 48,
    "start_time": "2021-12-11T16:14:33.419Z"
   },
   {
    "duration": 92,
    "start_time": "2021-12-11T16:14:33.470Z"
   },
   {
    "duration": 4,
    "start_time": "2021-12-11T16:14:48.492Z"
   },
   {
    "duration": 535,
    "start_time": "2021-12-11T16:14:48.499Z"
   },
   {
    "duration": 22,
    "start_time": "2021-12-11T16:14:49.037Z"
   },
   {
    "duration": 104,
    "start_time": "2021-12-11T16:14:49.062Z"
   },
   {
    "duration": 121,
    "start_time": "2021-12-11T16:14:49.169Z"
   },
   {
    "duration": 5,
    "start_time": "2021-12-11T16:14:49.292Z"
   },
   {
    "duration": 31,
    "start_time": "2021-12-11T16:14:49.299Z"
   },
   {
    "duration": 44,
    "start_time": "2021-12-11T16:14:49.332Z"
   },
   {
    "duration": 10,
    "start_time": "2021-12-11T16:14:49.380Z"
   },
   {
    "duration": 191,
    "start_time": "2021-12-11T16:14:49.393Z"
   },
   {
    "duration": 139,
    "start_time": "2021-12-11T16:14:49.587Z"
   },
   {
    "duration": 151,
    "start_time": "2021-12-11T16:14:49.729Z"
   },
   {
    "duration": 32,
    "start_time": "2021-12-11T16:14:49.884Z"
   },
   {
    "duration": 171,
    "start_time": "2021-12-11T16:14:49.919Z"
   },
   {
    "duration": 4,
    "start_time": "2021-12-11T16:15:41.671Z"
   },
   {
    "duration": 557,
    "start_time": "2021-12-11T16:15:41.677Z"
   },
   {
    "duration": 22,
    "start_time": "2021-12-11T16:15:42.237Z"
   },
   {
    "duration": 68,
    "start_time": "2021-12-11T16:15:42.262Z"
   },
   {
    "duration": 158,
    "start_time": "2021-12-11T16:15:42.333Z"
   },
   {
    "duration": 4,
    "start_time": "2021-12-11T16:15:42.494Z"
   },
   {
    "duration": 31,
    "start_time": "2021-12-11T16:15:42.501Z"
   },
   {
    "duration": 49,
    "start_time": "2021-12-11T16:15:42.534Z"
   },
   {
    "duration": 11,
    "start_time": "2021-12-11T16:15:42.587Z"
   },
   {
    "duration": 217,
    "start_time": "2021-12-11T16:15:42.601Z"
   },
   {
    "duration": 127,
    "start_time": "2021-12-11T16:15:42.820Z"
   },
   {
    "duration": 145,
    "start_time": "2021-12-11T16:15:42.950Z"
   },
   {
    "duration": 40,
    "start_time": "2021-12-11T16:15:43.098Z"
   },
   {
    "duration": 140,
    "start_time": "2021-12-11T16:15:43.141Z"
   },
   {
    "duration": 32,
    "start_time": "2021-12-11T16:16:00.600Z"
   },
   {
    "duration": 5,
    "start_time": "2021-12-11T16:16:12.413Z"
   },
   {
    "duration": 628,
    "start_time": "2021-12-11T16:16:12.421Z"
   },
   {
    "duration": 26,
    "start_time": "2021-12-11T16:16:13.053Z"
   },
   {
    "duration": 113,
    "start_time": "2021-12-11T16:16:13.083Z"
   },
   {
    "duration": 144,
    "start_time": "2021-12-11T16:16:13.199Z"
   },
   {
    "duration": 5,
    "start_time": "2021-12-11T16:16:13.368Z"
   },
   {
    "duration": 14,
    "start_time": "2021-12-11T16:16:13.378Z"
   },
   {
    "duration": 72,
    "start_time": "2021-12-11T16:16:13.395Z"
   },
   {
    "duration": 14,
    "start_time": "2021-12-11T16:16:13.470Z"
   },
   {
    "duration": 210,
    "start_time": "2021-12-11T16:16:13.487Z"
   },
   {
    "duration": 142,
    "start_time": "2021-12-11T16:16:13.700Z"
   },
   {
    "duration": 183,
    "start_time": "2021-12-11T16:16:13.845Z"
   },
   {
    "duration": 48,
    "start_time": "2021-12-11T16:16:14.031Z"
   },
   {
    "duration": 213,
    "start_time": "2021-12-11T16:16:14.081Z"
   },
   {
    "duration": 31,
    "start_time": "2021-12-11T16:17:47.342Z"
   },
   {
    "duration": 4,
    "start_time": "2021-12-11T16:17:53.563Z"
   },
   {
    "duration": 523,
    "start_time": "2021-12-11T16:17:53.573Z"
   },
   {
    "duration": 21,
    "start_time": "2021-12-11T16:17:54.099Z"
   },
   {
    "duration": 72,
    "start_time": "2021-12-11T16:17:54.123Z"
   },
   {
    "duration": 124,
    "start_time": "2021-12-11T16:17:54.198Z"
   },
   {
    "duration": 4,
    "start_time": "2021-12-11T16:17:54.324Z"
   },
   {
    "duration": 47,
    "start_time": "2021-12-11T16:17:54.330Z"
   },
   {
    "duration": 23,
    "start_time": "2021-12-11T16:17:54.380Z"
   },
   {
    "duration": 10,
    "start_time": "2021-12-11T16:17:54.406Z"
   },
   {
    "duration": 200,
    "start_time": "2021-12-11T16:17:54.418Z"
   },
   {
    "duration": 119,
    "start_time": "2021-12-11T16:17:54.620Z"
   },
   {
    "duration": 137,
    "start_time": "2021-12-11T16:17:54.741Z"
   },
   {
    "duration": 34,
    "start_time": "2021-12-11T16:17:54.881Z"
   },
   {
    "duration": 133,
    "start_time": "2021-12-11T16:17:54.918Z"
   },
   {
    "duration": 37,
    "start_time": "2021-12-11T16:18:35.513Z"
   },
   {
    "duration": 112,
    "start_time": "2021-12-11T16:19:27.061Z"
   },
   {
    "duration": 158,
    "start_time": "2021-12-11T16:19:49.253Z"
   },
   {
    "duration": 95,
    "start_time": "2021-12-11T16:19:57.952Z"
   },
   {
    "duration": 866,
    "start_time": "2021-12-11T16:20:02.432Z"
   },
   {
    "duration": 4,
    "start_time": "2021-12-11T16:20:05.940Z"
   },
   {
    "duration": 517,
    "start_time": "2021-12-11T16:20:05.948Z"
   },
   {
    "duration": 23,
    "start_time": "2021-12-11T16:20:06.469Z"
   },
   {
    "duration": 104,
    "start_time": "2021-12-11T16:20:06.495Z"
   },
   {
    "duration": 121,
    "start_time": "2021-12-11T16:20:06.601Z"
   },
   {
    "duration": 46,
    "start_time": "2021-12-11T16:20:06.724Z"
   },
   {
    "duration": 35,
    "start_time": "2021-12-11T16:20:06.773Z"
   },
   {
    "duration": 28,
    "start_time": "2021-12-11T16:20:06.810Z"
   },
   {
    "duration": 29,
    "start_time": "2021-12-11T16:20:06.842Z"
   },
   {
    "duration": 193,
    "start_time": "2021-12-11T16:20:06.874Z"
   },
   {
    "duration": 127,
    "start_time": "2021-12-11T16:20:07.070Z"
   },
   {
    "duration": 141,
    "start_time": "2021-12-11T16:20:07.199Z"
   },
   {
    "duration": 498,
    "start_time": "2021-12-11T16:20:07.343Z"
   },
   {
    "duration": -653,
    "start_time": "2021-12-11T16:20:08.496Z"
   },
   {
    "duration": 4,
    "start_time": "2021-12-11T16:21:31.279Z"
   },
   {
    "duration": 550,
    "start_time": "2021-12-11T16:21:31.286Z"
   },
   {
    "duration": 21,
    "start_time": "2021-12-11T16:21:31.839Z"
   },
   {
    "duration": 66,
    "start_time": "2021-12-11T16:21:31.863Z"
   },
   {
    "duration": 152,
    "start_time": "2021-12-11T16:21:31.932Z"
   },
   {
    "duration": 5,
    "start_time": "2021-12-11T16:21:32.086Z"
   },
   {
    "duration": 26,
    "start_time": "2021-12-11T16:21:32.093Z"
   },
   {
    "duration": 48,
    "start_time": "2021-12-11T16:21:32.122Z"
   },
   {
    "duration": 10,
    "start_time": "2021-12-11T16:21:32.173Z"
   },
   {
    "duration": 185,
    "start_time": "2021-12-11T16:21:32.186Z"
   },
   {
    "duration": 123,
    "start_time": "2021-12-11T16:21:32.373Z"
   },
   {
    "duration": 136,
    "start_time": "2021-12-11T16:21:32.499Z"
   },
   {
    "duration": 52,
    "start_time": "2021-12-11T16:21:32.638Z"
   },
   {
    "duration": 98,
    "start_time": "2021-12-11T16:21:32.693Z"
   },
   {
    "duration": 33,
    "start_time": "2021-12-11T16:22:01.907Z"
   },
   {
    "duration": 3,
    "start_time": "2021-12-11T16:22:09.003Z"
   },
   {
    "duration": 499,
    "start_time": "2021-12-11T16:22:09.020Z"
   },
   {
    "duration": 21,
    "start_time": "2021-12-11T16:22:09.522Z"
   },
   {
    "duration": 75,
    "start_time": "2021-12-11T16:22:09.546Z"
   },
   {
    "duration": 153,
    "start_time": "2021-12-11T16:22:09.624Z"
   },
   {
    "duration": 5,
    "start_time": "2021-12-11T16:22:09.779Z"
   },
   {
    "duration": 42,
    "start_time": "2021-12-11T16:22:09.786Z"
   },
   {
    "duration": 42,
    "start_time": "2021-12-11T16:22:09.831Z"
   },
   {
    "duration": 11,
    "start_time": "2021-12-11T16:22:09.875Z"
   },
   {
    "duration": 181,
    "start_time": "2021-12-11T16:22:09.890Z"
   },
   {
    "duration": 121,
    "start_time": "2021-12-11T16:22:10.074Z"
   },
   {
    "duration": 142,
    "start_time": "2021-12-11T16:22:10.198Z"
   },
   {
    "duration": 40,
    "start_time": "2021-12-11T16:22:10.342Z"
   },
   {
    "duration": 99,
    "start_time": "2021-12-11T16:22:10.384Z"
   },
   {
    "duration": 3,
    "start_time": "2021-12-11T16:22:38.184Z"
   },
   {
    "duration": 533,
    "start_time": "2021-12-11T16:22:38.199Z"
   },
   {
    "duration": 20,
    "start_time": "2021-12-11T16:22:38.734Z"
   },
   {
    "duration": 69,
    "start_time": "2021-12-11T16:22:38.757Z"
   },
   {
    "duration": 151,
    "start_time": "2021-12-11T16:22:38.829Z"
   },
   {
    "duration": 5,
    "start_time": "2021-12-11T16:22:38.982Z"
   },
   {
    "duration": 20,
    "start_time": "2021-12-11T16:22:38.989Z"
   },
   {
    "duration": 63,
    "start_time": "2021-12-11T16:22:39.011Z"
   },
   {
    "duration": 10,
    "start_time": "2021-12-11T16:22:39.076Z"
   },
   {
    "duration": 177,
    "start_time": "2021-12-11T16:22:39.090Z"
   },
   {
    "duration": 118,
    "start_time": "2021-12-11T16:22:39.269Z"
   },
   {
    "duration": 139,
    "start_time": "2021-12-11T16:22:39.390Z"
   },
   {
    "duration": 49,
    "start_time": "2021-12-11T16:22:39.532Z"
   },
   {
    "duration": 98,
    "start_time": "2021-12-11T16:22:39.583Z"
   },
   {
    "duration": 35,
    "start_time": "2021-12-11T16:23:15.952Z"
   },
   {
    "duration": 4,
    "start_time": "2021-12-11T16:23:27.112Z"
   },
   {
    "duration": 542,
    "start_time": "2021-12-11T16:23:27.119Z"
   },
   {
    "duration": 20,
    "start_time": "2021-12-11T16:23:27.664Z"
   },
   {
    "duration": 96,
    "start_time": "2021-12-11T16:23:27.687Z"
   },
   {
    "duration": 119,
    "start_time": "2021-12-11T16:23:27.785Z"
   },
   {
    "duration": 4,
    "start_time": "2021-12-11T16:23:27.907Z"
   },
   {
    "duration": 27,
    "start_time": "2021-12-11T16:23:27.913Z"
   },
   {
    "duration": 22,
    "start_time": "2021-12-11T16:23:27.967Z"
   },
   {
    "duration": 10,
    "start_time": "2021-12-11T16:23:27.993Z"
   },
   {
    "duration": 205,
    "start_time": "2021-12-11T16:23:28.006Z"
   },
   {
    "duration": 122,
    "start_time": "2021-12-11T16:23:28.213Z"
   },
   {
    "duration": 190,
    "start_time": "2021-12-11T16:23:28.338Z"
   },
   {
    "duration": 47,
    "start_time": "2021-12-11T16:23:28.530Z"
   },
   {
    "duration": 96,
    "start_time": "2021-12-11T16:23:28.579Z"
   },
   {
    "duration": 4,
    "start_time": "2021-12-11T16:23:55.580Z"
   },
   {
    "duration": 519,
    "start_time": "2021-12-11T16:23:55.587Z"
   },
   {
    "duration": 21,
    "start_time": "2021-12-11T16:23:56.110Z"
   },
   {
    "duration": 75,
    "start_time": "2021-12-11T16:23:56.134Z"
   },
   {
    "duration": 155,
    "start_time": "2021-12-11T16:23:56.212Z"
   },
   {
    "duration": 5,
    "start_time": "2021-12-11T16:23:56.370Z"
   },
   {
    "duration": 17,
    "start_time": "2021-12-11T16:23:56.378Z"
   },
   {
    "duration": 22,
    "start_time": "2021-12-11T16:23:56.397Z"
   },
   {
    "duration": 46,
    "start_time": "2021-12-11T16:23:56.422Z"
   },
   {
    "duration": 178,
    "start_time": "2021-12-11T16:23:56.471Z"
   },
   {
    "duration": 123,
    "start_time": "2021-12-11T16:23:56.652Z"
   },
   {
    "duration": 140,
    "start_time": "2021-12-11T16:23:56.777Z"
   },
   {
    "duration": 52,
    "start_time": "2021-12-11T16:23:56.920Z"
   },
   {
    "duration": 304,
    "start_time": "2021-12-11T16:23:56.975Z"
   },
   {
    "duration": 4,
    "start_time": "2021-12-11T16:24:50.043Z"
   },
   {
    "duration": 508,
    "start_time": "2021-12-11T16:24:50.059Z"
   },
   {
    "duration": 21,
    "start_time": "2021-12-11T16:24:50.569Z"
   },
   {
    "duration": 99,
    "start_time": "2021-12-11T16:24:50.593Z"
   },
   {
    "duration": 122,
    "start_time": "2021-12-11T16:24:50.695Z"
   },
   {
    "duration": 4,
    "start_time": "2021-12-11T16:24:50.820Z"
   },
   {
    "duration": 13,
    "start_time": "2021-12-11T16:24:50.866Z"
   },
   {
    "duration": 25,
    "start_time": "2021-12-11T16:24:50.882Z"
   },
   {
    "duration": 58,
    "start_time": "2021-12-11T16:24:50.910Z"
   },
   {
    "duration": 172,
    "start_time": "2021-12-11T16:24:50.972Z"
   },
   {
    "duration": 124,
    "start_time": "2021-12-11T16:24:51.147Z"
   },
   {
    "duration": 134,
    "start_time": "2021-12-11T16:24:51.273Z"
   },
   {
    "duration": 32,
    "start_time": "2021-12-11T16:24:51.410Z"
   },
   {
    "duration": 94,
    "start_time": "2021-12-11T16:24:51.444Z"
   },
   {
    "duration": 311,
    "start_time": "2021-12-11T16:37:14.412Z"
   },
   {
    "duration": 313,
    "start_time": "2021-12-11T16:38:25.252Z"
   },
   {
    "duration": 4,
    "start_time": "2021-12-11T16:38:31.011Z"
   },
   {
    "duration": 764,
    "start_time": "2021-12-11T16:38:31.018Z"
   },
   {
    "duration": 22,
    "start_time": "2021-12-11T16:38:31.787Z"
   },
   {
    "duration": 101,
    "start_time": "2021-12-11T16:38:31.812Z"
   },
   {
    "duration": 158,
    "start_time": "2021-12-11T16:38:31.915Z"
   },
   {
    "duration": 5,
    "start_time": "2021-12-11T16:38:32.075Z"
   },
   {
    "duration": 16,
    "start_time": "2021-12-11T16:38:32.082Z"
   },
   {
    "duration": 66,
    "start_time": "2021-12-11T16:38:32.103Z"
   },
   {
    "duration": 11,
    "start_time": "2021-12-11T16:38:32.171Z"
   },
   {
    "duration": 188,
    "start_time": "2021-12-11T16:38:32.185Z"
   },
   {
    "duration": 145,
    "start_time": "2021-12-11T16:38:32.376Z"
   },
   {
    "duration": 211,
    "start_time": "2021-12-11T16:38:32.524Z"
   },
   {
    "duration": 45,
    "start_time": "2021-12-11T16:38:32.737Z"
   },
   {
    "duration": 332,
    "start_time": "2021-12-11T16:38:32.784Z"
   },
   {
    "duration": 484,
    "start_time": "2021-12-11T16:39:57.991Z"
   },
   {
    "duration": 452,
    "start_time": "2021-12-11T16:40:06.039Z"
   },
   {
    "duration": 559,
    "start_time": "2021-12-11T16:40:15.552Z"
   },
   {
    "duration": 1988,
    "start_time": "2021-12-11T16:43:15.644Z"
   },
   {
    "duration": 322,
    "start_time": "2021-12-11T16:49:06.600Z"
   },
   {
    "duration": 4,
    "start_time": "2021-12-11T16:49:32.551Z"
   },
   {
    "duration": 504,
    "start_time": "2021-12-11T16:49:32.558Z"
   },
   {
    "duration": 21,
    "start_time": "2021-12-11T16:49:33.065Z"
   },
   {
    "duration": 99,
    "start_time": "2021-12-11T16:49:33.089Z"
   },
   {
    "duration": 137,
    "start_time": "2021-12-11T16:49:33.191Z"
   },
   {
    "duration": 37,
    "start_time": "2021-12-11T16:49:33.330Z"
   },
   {
    "duration": 14,
    "start_time": "2021-12-11T16:49:33.370Z"
   },
   {
    "duration": 23,
    "start_time": "2021-12-11T16:49:33.387Z"
   },
   {
    "duration": 10,
    "start_time": "2021-12-11T16:49:33.414Z"
   },
   {
    "duration": 202,
    "start_time": "2021-12-11T16:49:33.427Z"
   },
   {
    "duration": 114,
    "start_time": "2021-12-11T16:49:33.632Z"
   },
   {
    "duration": 144,
    "start_time": "2021-12-11T16:49:33.749Z"
   },
   {
    "duration": 32,
    "start_time": "2021-12-11T16:49:33.896Z"
   },
   {
    "duration": 308,
    "start_time": "2021-12-11T16:49:33.931Z"
   },
   {
    "duration": 305,
    "start_time": "2021-12-11T16:50:29.512Z"
   },
   {
    "duration": 2809,
    "start_time": "2021-12-11T16:50:37.833Z"
   },
   {
    "duration": 1781,
    "start_time": "2021-12-11T16:52:47.852Z"
   },
   {
    "duration": 4,
    "start_time": "2021-12-11T16:54:35.992Z"
   },
   {
    "duration": 530,
    "start_time": "2021-12-11T16:54:35.998Z"
   },
   {
    "duration": 25,
    "start_time": "2021-12-11T16:54:36.531Z"
   },
   {
    "duration": 82,
    "start_time": "2021-12-11T16:54:36.559Z"
   },
   {
    "duration": 137,
    "start_time": "2021-12-11T16:54:36.643Z"
   },
   {
    "duration": 5,
    "start_time": "2021-12-11T16:54:36.783Z"
   },
   {
    "duration": 37,
    "start_time": "2021-12-11T16:54:36.790Z"
   },
   {
    "duration": 40,
    "start_time": "2021-12-11T16:54:36.830Z"
   },
   {
    "duration": 11,
    "start_time": "2021-12-11T16:54:36.873Z"
   },
   {
    "duration": 181,
    "start_time": "2021-12-11T16:54:36.887Z"
   },
   {
    "duration": 124,
    "start_time": "2021-12-11T16:54:37.070Z"
   },
   {
    "duration": 133,
    "start_time": "2021-12-11T16:54:37.196Z"
   },
   {
    "duration": 46,
    "start_time": "2021-12-11T16:54:37.331Z"
   },
   {
    "duration": 1748,
    "start_time": "2021-12-11T16:54:37.379Z"
   },
   {
    "duration": 1616,
    "start_time": "2021-12-11T16:55:02.252Z"
   },
   {
    "duration": 1609,
    "start_time": "2021-12-11T16:55:10.159Z"
   },
   {
    "duration": 1589,
    "start_time": "2021-12-11T16:55:17.593Z"
   },
   {
    "duration": 1608,
    "start_time": "2021-12-11T16:58:44.292Z"
   },
   {
    "duration": 3,
    "start_time": "2021-12-11T16:59:19.739Z"
   },
   {
    "duration": 507,
    "start_time": "2021-12-11T16:59:19.745Z"
   },
   {
    "duration": 20,
    "start_time": "2021-12-11T16:59:20.255Z"
   },
   {
    "duration": 113,
    "start_time": "2021-12-11T16:59:20.278Z"
   },
   {
    "duration": 197,
    "start_time": "2021-12-11T16:59:20.394Z"
   },
   {
    "duration": 5,
    "start_time": "2021-12-11T16:59:20.594Z"
   },
   {
    "duration": 17,
    "start_time": "2021-12-11T16:59:20.602Z"
   },
   {
    "duration": 65,
    "start_time": "2021-12-11T16:59:20.622Z"
   },
   {
    "duration": 11,
    "start_time": "2021-12-11T16:59:20.690Z"
   },
   {
    "duration": 198,
    "start_time": "2021-12-11T16:59:20.704Z"
   },
   {
    "duration": 196,
    "start_time": "2021-12-11T16:59:20.906Z"
   },
   {
    "duration": 208,
    "start_time": "2021-12-11T16:59:21.105Z"
   },
   {
    "duration": 66,
    "start_time": "2021-12-11T16:59:21.316Z"
   },
   {
    "duration": 2811,
    "start_time": "2021-12-11T16:59:21.386Z"
   },
   {
    "duration": 1714,
    "start_time": "2021-12-11T16:59:58.054Z"
   },
   {
    "duration": 1488,
    "start_time": "2021-12-11T17:03:55.780Z"
   },
   {
    "duration": 1729,
    "start_time": "2021-12-11T17:04:21.320Z"
   },
   {
    "duration": 100,
    "start_time": "2021-12-11T17:05:41.752Z"
   },
   {
    "duration": 1731,
    "start_time": "2021-12-11T17:05:47.292Z"
   },
   {
    "duration": 185,
    "start_time": "2021-12-11T17:06:47.721Z"
   },
   {
    "duration": 5,
    "start_time": "2021-12-11T17:06:51.951Z"
   },
   {
    "duration": 525,
    "start_time": "2021-12-11T17:06:51.959Z"
   },
   {
    "duration": 21,
    "start_time": "2021-12-11T17:06:52.488Z"
   },
   {
    "duration": 97,
    "start_time": "2021-12-11T17:06:52.513Z"
   },
   {
    "duration": 163,
    "start_time": "2021-12-11T17:06:52.613Z"
   },
   {
    "duration": 4,
    "start_time": "2021-12-11T17:06:52.779Z"
   },
   {
    "duration": 17,
    "start_time": "2021-12-11T17:06:52.786Z"
   },
   {
    "duration": 62,
    "start_time": "2021-12-11T17:06:52.806Z"
   },
   {
    "duration": 12,
    "start_time": "2021-12-11T17:06:52.873Z"
   },
   {
    "duration": 185,
    "start_time": "2021-12-11T17:06:52.888Z"
   },
   {
    "duration": 129,
    "start_time": "2021-12-11T17:06:53.076Z"
   },
   {
    "duration": 139,
    "start_time": "2021-12-11T17:06:53.208Z"
   },
   {
    "duration": 44,
    "start_time": "2021-12-11T17:06:53.349Z"
   },
   {
    "duration": 110,
    "start_time": "2021-12-11T17:06:53.396Z"
   },
   {
    "duration": 26398,
    "start_time": "2021-12-11T17:07:32.312Z"
   },
   {
    "duration": -716,
    "start_time": "2021-12-11T17:08:30.538Z"
   },
   {
    "duration": -716,
    "start_time": "2021-12-11T17:08:30.540Z"
   },
   {
    "duration": -716,
    "start_time": "2021-12-11T17:08:30.541Z"
   },
   {
    "duration": -716,
    "start_time": "2021-12-11T17:08:30.543Z"
   },
   {
    "duration": -717,
    "start_time": "2021-12-11T17:08:30.545Z"
   },
   {
    "duration": -718,
    "start_time": "2021-12-11T17:08:30.547Z"
   },
   {
    "duration": -717,
    "start_time": "2021-12-11T17:08:30.548Z"
   },
   {
    "duration": -717,
    "start_time": "2021-12-11T17:08:30.550Z"
   },
   {
    "duration": -717,
    "start_time": "2021-12-11T17:08:30.551Z"
   },
   {
    "duration": -716,
    "start_time": "2021-12-11T17:08:30.552Z"
   },
   {
    "duration": -717,
    "start_time": "2021-12-11T17:08:30.554Z"
   },
   {
    "duration": -751,
    "start_time": "2021-12-11T17:08:30.590Z"
   },
   {
    "duration": -751,
    "start_time": "2021-12-11T17:08:30.591Z"
   },
   {
    "duration": -753,
    "start_time": "2021-12-11T17:08:30.595Z"
   },
   {
    "duration": 4,
    "start_time": "2021-12-11T17:08:45.631Z"
   },
   {
    "duration": 590,
    "start_time": "2021-12-11T17:08:45.638Z"
   },
   {
    "duration": 20,
    "start_time": "2021-12-11T17:08:46.231Z"
   },
   {
    "duration": 78,
    "start_time": "2021-12-11T17:08:46.254Z"
   },
   {
    "duration": 150,
    "start_time": "2021-12-11T17:08:46.335Z"
   },
   {
    "duration": 4,
    "start_time": "2021-12-11T17:08:46.488Z"
   },
   {
    "duration": 24,
    "start_time": "2021-12-11T17:08:46.496Z"
   },
   {
    "duration": 55,
    "start_time": "2021-12-11T17:08:46.522Z"
   },
   {
    "duration": 10,
    "start_time": "2021-12-11T17:08:46.581Z"
   },
   {
    "duration": 196,
    "start_time": "2021-12-11T17:08:46.594Z"
   },
   {
    "duration": 119,
    "start_time": "2021-12-11T17:08:46.793Z"
   },
   {
    "duration": 140,
    "start_time": "2021-12-11T17:08:46.914Z"
   },
   {
    "duration": 36,
    "start_time": "2021-12-11T17:08:47.068Z"
   },
   {
    "duration": 27388,
    "start_time": "2021-12-11T17:08:47.106Z"
   },
   {
    "duration": 61000,
    "start_time": "2021-12-11T17:10:21.532Z"
   },
   {
    "duration": 23,
    "start_time": "2021-12-11T17:13:41.012Z"
   },
   {
    "duration": 4,
    "start_time": "2021-12-11T17:13:46.891Z"
   },
   {
    "duration": 518,
    "start_time": "2021-12-11T17:13:46.898Z"
   },
   {
    "duration": 25,
    "start_time": "2021-12-11T17:13:47.421Z"
   },
   {
    "duration": 117,
    "start_time": "2021-12-11T17:13:47.450Z"
   },
   {
    "duration": 123,
    "start_time": "2021-12-11T17:13:47.569Z"
   },
   {
    "duration": 5,
    "start_time": "2021-12-11T17:13:47.695Z"
   },
   {
    "duration": 17,
    "start_time": "2021-12-11T17:13:47.703Z"
   },
   {
    "duration": 59,
    "start_time": "2021-12-11T17:13:47.722Z"
   },
   {
    "duration": 11,
    "start_time": "2021-12-11T17:13:47.785Z"
   },
   {
    "duration": 206,
    "start_time": "2021-12-11T17:13:47.798Z"
   },
   {
    "duration": 119,
    "start_time": "2021-12-11T17:13:48.006Z"
   },
   {
    "duration": 139,
    "start_time": "2021-12-11T17:13:48.127Z"
   },
   {
    "duration": 32,
    "start_time": "2021-12-11T17:13:48.269Z"
   },
   {
    "duration": 23,
    "start_time": "2021-12-11T17:13:48.304Z"
   },
   {
    "duration": 27,
    "start_time": "2021-12-11T17:14:34.740Z"
   },
   {
    "duration": 26,
    "start_time": "2021-12-11T17:15:04.088Z"
   },
   {
    "duration": 307,
    "start_time": "2021-12-11T17:15:26.153Z"
   },
   {
    "duration": 297,
    "start_time": "2021-12-11T17:15:55.971Z"
   },
   {
    "duration": 298,
    "start_time": "2021-12-11T17:16:14.408Z"
   },
   {
    "duration": 5,
    "start_time": "2021-12-11T17:16:29.491Z"
   },
   {
    "duration": 535,
    "start_time": "2021-12-11T17:16:29.499Z"
   },
   {
    "duration": 20,
    "start_time": "2021-12-11T17:16:30.037Z"
   },
   {
    "duration": 75,
    "start_time": "2021-12-11T17:16:30.060Z"
   },
   {
    "duration": 151,
    "start_time": "2021-12-11T17:16:30.139Z"
   },
   {
    "duration": 5,
    "start_time": "2021-12-11T17:16:30.293Z"
   },
   {
    "duration": 28,
    "start_time": "2021-12-11T17:16:30.302Z"
   },
   {
    "duration": 44,
    "start_time": "2021-12-11T17:16:30.334Z"
   },
   {
    "duration": 13,
    "start_time": "2021-12-11T17:16:30.380Z"
   },
   {
    "duration": 206,
    "start_time": "2021-12-11T17:16:30.396Z"
   },
   {
    "duration": 123,
    "start_time": "2021-12-11T17:16:30.604Z"
   },
   {
    "duration": 188,
    "start_time": "2021-12-11T17:16:30.729Z"
   },
   {
    "duration": 49,
    "start_time": "2021-12-11T17:16:30.919Z"
   },
   {
    "duration": 548,
    "start_time": "2021-12-11T17:16:30.972Z"
   },
   {
    "duration": 21,
    "start_time": "2021-12-11T17:16:41.411Z"
   },
   {
    "duration": 303,
    "start_time": "2021-12-11T17:17:02.493Z"
   },
   {
    "duration": 111,
    "start_time": "2021-12-11T17:17:20.681Z"
   },
   {
    "duration": 22,
    "start_time": "2021-12-11T17:17:26.854Z"
   },
   {
    "duration": 394,
    "start_time": "2021-12-11T17:18:12.081Z"
   },
   {
    "duration": 359,
    "start_time": "2021-12-11T17:18:32.561Z"
   },
   {
    "duration": 3,
    "start_time": "2021-12-11T17:18:35.999Z"
   },
   {
    "duration": 545,
    "start_time": "2021-12-11T17:18:36.005Z"
   },
   {
    "duration": 20,
    "start_time": "2021-12-11T17:18:36.553Z"
   },
   {
    "duration": 98,
    "start_time": "2021-12-11T17:18:36.577Z"
   },
   {
    "duration": 125,
    "start_time": "2021-12-11T17:18:36.677Z"
   },
   {
    "duration": 5,
    "start_time": "2021-12-11T17:18:36.804Z"
   },
   {
    "duration": 16,
    "start_time": "2021-12-11T17:18:36.812Z"
   },
   {
    "duration": 56,
    "start_time": "2021-12-11T17:18:36.830Z"
   },
   {
    "duration": 11,
    "start_time": "2021-12-11T17:18:36.889Z"
   },
   {
    "duration": 197,
    "start_time": "2021-12-11T17:18:36.903Z"
   },
   {
    "duration": 120,
    "start_time": "2021-12-11T17:18:37.102Z"
   },
   {
    "duration": 129,
    "start_time": "2021-12-11T17:18:37.225Z"
   },
   {
    "duration": 42,
    "start_time": "2021-12-11T17:18:37.357Z"
   },
   {
    "duration": 305,
    "start_time": "2021-12-11T17:18:37.402Z"
   },
   {
    "duration": 95,
    "start_time": "2021-12-11T17:19:11.514Z"
   },
   {
    "duration": 108,
    "start_time": "2021-12-11T17:19:22.521Z"
   },
   {
    "duration": 611,
    "start_time": "2021-12-11T17:19:29.613Z"
   },
   {
    "duration": 1611,
    "start_time": "2021-12-11T17:20:10.067Z"
   },
   {
    "duration": 1573,
    "start_time": "2021-12-11T17:20:35.976Z"
   },
   {
    "duration": 5,
    "start_time": "2021-12-11T17:21:13.481Z"
   },
   {
    "duration": 528,
    "start_time": "2021-12-11T17:21:13.489Z"
   },
   {
    "duration": 22,
    "start_time": "2021-12-11T17:21:14.023Z"
   },
   {
    "duration": 69,
    "start_time": "2021-12-11T17:21:14.048Z"
   },
   {
    "duration": 153,
    "start_time": "2021-12-11T17:21:14.120Z"
   },
   {
    "duration": 4,
    "start_time": "2021-12-11T17:21:14.276Z"
   },
   {
    "duration": 14,
    "start_time": "2021-12-11T17:21:14.282Z"
   },
   {
    "duration": 21,
    "start_time": "2021-12-11T17:21:14.299Z"
   },
   {
    "duration": 51,
    "start_time": "2021-12-11T17:21:14.324Z"
   },
   {
    "duration": 170,
    "start_time": "2021-12-11T17:21:14.378Z"
   },
   {
    "duration": 139,
    "start_time": "2021-12-11T17:21:14.551Z"
   },
   {
    "duration": 140,
    "start_time": "2021-12-11T17:21:14.693Z"
   },
   {
    "duration": 44,
    "start_time": "2021-12-11T17:21:14.835Z"
   },
   {
    "duration": 1779,
    "start_time": "2021-12-11T17:21:14.882Z"
   },
   {
    "duration": 6498,
    "start_time": "2021-12-11T17:32:21.294Z"
   },
   {
    "duration": 8632,
    "start_time": "2021-12-11T17:32:37.332Z"
   },
   {
    "duration": 567,
    "start_time": "2021-12-11T18:14:58.713Z"
   },
   {
    "duration": 561,
    "start_time": "2021-12-11T18:18:23.154Z"
   },
   {
    "duration": 328,
    "start_time": "2021-12-11T18:24:21.592Z"
   },
   {
    "duration": 1360,
    "start_time": "2021-12-11T18:24:31.075Z"
   },
   {
    "duration": 123,
    "start_time": "2021-12-11T18:41:05.371Z"
   },
   {
    "duration": 4,
    "start_time": "2021-12-11T18:41:18.568Z"
   },
   {
    "duration": 531,
    "start_time": "2021-12-11T18:41:18.574Z"
   },
   {
    "duration": 20,
    "start_time": "2021-12-11T18:41:19.108Z"
   },
   {
    "duration": 73,
    "start_time": "2021-12-11T18:41:19.130Z"
   },
   {
    "duration": 123,
    "start_time": "2021-12-11T18:41:19.205Z"
   },
   {
    "duration": 38,
    "start_time": "2021-12-11T18:41:19.330Z"
   },
   {
    "duration": 17,
    "start_time": "2021-12-11T18:41:19.371Z"
   },
   {
    "duration": 22,
    "start_time": "2021-12-11T18:41:19.390Z"
   },
   {
    "duration": 10,
    "start_time": "2021-12-11T18:41:19.416Z"
   },
   {
    "duration": 183,
    "start_time": "2021-12-11T18:41:19.468Z"
   },
   {
    "duration": 123,
    "start_time": "2021-12-11T18:41:19.653Z"
   },
   {
    "duration": 143,
    "start_time": "2021-12-11T18:41:19.778Z"
   },
   {
    "duration": 44,
    "start_time": "2021-12-11T18:41:19.924Z"
   },
   {
    "duration": 135,
    "start_time": "2021-12-11T18:41:19.971Z"
   },
   {
    "duration": 123,
    "start_time": "2021-12-11T18:44:17.968Z"
   },
   {
    "duration": 392,
    "start_time": "2021-12-11T18:54:47.554Z"
   },
   {
    "duration": 384,
    "start_time": "2021-12-11T18:55:53.131Z"
   },
   {
    "duration": 380,
    "start_time": "2021-12-11T18:56:38.912Z"
   },
   {
    "duration": 88,
    "start_time": "2021-12-11T18:56:55.592Z"
   },
   {
    "duration": 3,
    "start_time": "2021-12-11T18:57:01.931Z"
   },
   {
    "duration": 542,
    "start_time": "2021-12-11T18:57:01.937Z"
   },
   {
    "duration": 20,
    "start_time": "2021-12-11T18:57:02.483Z"
   },
   {
    "duration": 93,
    "start_time": "2021-12-11T18:57:02.506Z"
   },
   {
    "duration": 118,
    "start_time": "2021-12-11T18:57:02.601Z"
   },
   {
    "duration": 5,
    "start_time": "2021-12-11T18:57:02.722Z"
   },
   {
    "duration": 12,
    "start_time": "2021-12-11T18:57:02.768Z"
   },
   {
    "duration": 35,
    "start_time": "2021-12-11T18:57:02.784Z"
   },
   {
    "duration": 27,
    "start_time": "2021-12-11T18:57:02.821Z"
   },
   {
    "duration": 183,
    "start_time": "2021-12-11T18:57:02.851Z"
   },
   {
    "duration": 111,
    "start_time": "2021-12-11T18:57:03.037Z"
   },
   {
    "duration": 99,
    "start_time": "2021-12-11T18:57:03.150Z"
   },
   {
    "duration": 8376,
    "start_time": "2021-12-11T18:57:03.251Z"
   },
   {
    "duration": -853,
    "start_time": "2021-12-11T18:57:12.486Z"
   },
   {
    "duration": 97,
    "start_time": "2021-12-11T18:57:41.432Z"
   },
   {
    "duration": 96,
    "start_time": "2021-12-11T18:57:57.172Z"
   },
   {
    "duration": 385,
    "start_time": "2021-12-11T18:58:07.072Z"
   },
   {
    "duration": 91,
    "start_time": "2021-12-11T18:58:14.892Z"
   },
   {
    "duration": 114,
    "start_time": "2021-12-11T18:58:50.557Z"
   },
   {
    "duration": 3,
    "start_time": "2021-12-11T18:59:10.772Z"
   },
   {
    "duration": 539,
    "start_time": "2021-12-11T18:59:10.778Z"
   },
   {
    "duration": 22,
    "start_time": "2021-12-11T18:59:11.320Z"
   },
   {
    "duration": 73,
    "start_time": "2021-12-11T18:59:11.345Z"
   },
   {
    "duration": 157,
    "start_time": "2021-12-11T18:59:11.421Z"
   },
   {
    "duration": 5,
    "start_time": "2021-12-11T18:59:11.580Z"
   },
   {
    "duration": 19,
    "start_time": "2021-12-11T18:59:11.588Z"
   },
   {
    "duration": 62,
    "start_time": "2021-12-11T18:59:11.609Z"
   },
   {
    "duration": 10,
    "start_time": "2021-12-11T18:59:11.674Z"
   },
   {
    "duration": 180,
    "start_time": "2021-12-11T18:59:11.687Z"
   },
   {
    "duration": 122,
    "start_time": "2021-12-11T18:59:11.870Z"
   },
   {
    "duration": 109,
    "start_time": "2021-12-11T18:59:11.995Z"
   },
   {
    "duration": 7500,
    "start_time": "2021-12-11T18:59:12.107Z"
   },
   {
    "duration": -846,
    "start_time": "2021-12-11T18:59:20.457Z"
   },
   {
    "duration": 430,
    "start_time": "2021-12-11T18:59:21.251Z"
   },
   {
    "duration": 3,
    "start_time": "2021-12-11T18:59:25.070Z"
   },
   {
    "duration": 512,
    "start_time": "2021-12-11T18:59:25.076Z"
   },
   {
    "duration": 19,
    "start_time": "2021-12-11T18:59:25.591Z"
   },
   {
    "duration": 84,
    "start_time": "2021-12-11T18:59:25.613Z"
   },
   {
    "duration": 122,
    "start_time": "2021-12-11T18:59:25.699Z"
   },
   {
    "duration": 4,
    "start_time": "2021-12-11T18:59:25.824Z"
   },
   {
    "duration": 42,
    "start_time": "2021-12-11T18:59:25.831Z"
   },
   {
    "duration": 24,
    "start_time": "2021-12-11T18:59:25.876Z"
   },
   {
    "duration": 12,
    "start_time": "2021-12-11T18:59:25.903Z"
   },
   {
    "duration": 208,
    "start_time": "2021-12-11T18:59:25.918Z"
   },
   {
    "duration": 116,
    "start_time": "2021-12-11T18:59:26.129Z"
   },
   {
    "duration": 130,
    "start_time": "2021-12-11T18:59:26.249Z"
   },
   {
    "duration": 36,
    "start_time": "2021-12-11T18:59:26.382Z"
   },
   {
    "duration": 195,
    "start_time": "2021-12-11T18:59:26.421Z"
   },
   {
    "duration": 383,
    "start_time": "2021-12-11T18:59:33.814Z"
   },
   {
    "duration": 3,
    "start_time": "2021-12-11T18:59:37.192Z"
   },
   {
    "duration": 555,
    "start_time": "2021-12-11T18:59:37.203Z"
   },
   {
    "duration": 20,
    "start_time": "2021-12-11T18:59:37.761Z"
   },
   {
    "duration": 97,
    "start_time": "2021-12-11T18:59:37.784Z"
   },
   {
    "duration": 118,
    "start_time": "2021-12-11T18:59:37.885Z"
   },
   {
    "duration": 5,
    "start_time": "2021-12-11T18:59:38.005Z"
   },
   {
    "duration": 29,
    "start_time": "2021-12-11T18:59:38.012Z"
   },
   {
    "duration": 44,
    "start_time": "2021-12-11T18:59:38.044Z"
   },
   {
    "duration": 14,
    "start_time": "2021-12-11T18:59:38.091Z"
   },
   {
    "duration": 201,
    "start_time": "2021-12-11T18:59:38.109Z"
   },
   {
    "duration": 122,
    "start_time": "2021-12-11T18:59:38.314Z"
   },
   {
    "duration": 110,
    "start_time": "2021-12-11T18:59:38.439Z"
   },
   {
    "duration": 47,
    "start_time": "2021-12-11T18:59:38.551Z"
   },
   {
    "duration": 194,
    "start_time": "2021-12-11T18:59:38.600Z"
   },
   {
    "duration": 4,
    "start_time": "2021-12-11T19:01:34.731Z"
   },
   {
    "duration": 549,
    "start_time": "2021-12-11T19:01:34.738Z"
   },
   {
    "duration": 19,
    "start_time": "2021-12-11T19:01:35.290Z"
   },
   {
    "duration": 82,
    "start_time": "2021-12-11T19:01:35.312Z"
   },
   {
    "duration": 119,
    "start_time": "2021-12-11T19:01:35.397Z"
   },
   {
    "duration": 4,
    "start_time": "2021-12-11T19:01:35.518Z"
   },
   {
    "duration": 49,
    "start_time": "2021-12-11T19:01:35.525Z"
   },
   {
    "duration": 25,
    "start_time": "2021-12-11T19:01:35.579Z"
   },
   {
    "duration": 16,
    "start_time": "2021-12-11T19:01:35.607Z"
   },
   {
    "duration": 197,
    "start_time": "2021-12-11T19:01:35.626Z"
   },
   {
    "duration": 117,
    "start_time": "2021-12-11T19:01:35.826Z"
   },
   {
    "duration": 123,
    "start_time": "2021-12-11T19:01:35.945Z"
   },
   {
    "duration": 36,
    "start_time": "2021-12-11T19:01:36.071Z"
   },
   {
    "duration": 200,
    "start_time": "2021-12-11T19:01:36.110Z"
   },
   {
    "duration": 316,
    "start_time": "2021-12-11T19:03:11.733Z"
   },
   {
    "duration": 34,
    "start_time": "2021-12-11T19:03:22.073Z"
   },
   {
    "duration": 171,
    "start_time": "2021-12-11T19:06:17.214Z"
   },
   {
    "duration": 206,
    "start_time": "2021-12-11T19:06:24.013Z"
   },
   {
    "duration": 135,
    "start_time": "2021-12-11T19:19:44.631Z"
   },
   {
    "duration": 4,
    "start_time": "2021-12-11T19:19:49.132Z"
   },
   {
    "duration": 535,
    "start_time": "2021-12-11T19:19:49.139Z"
   },
   {
    "duration": 21,
    "start_time": "2021-12-11T19:19:49.677Z"
   },
   {
    "duration": 101,
    "start_time": "2021-12-11T19:19:49.701Z"
   },
   {
    "duration": 125,
    "start_time": "2021-12-11T19:19:49.804Z"
   },
   {
    "duration": 6,
    "start_time": "2021-12-11T19:19:49.968Z"
   },
   {
    "duration": 14,
    "start_time": "2021-12-11T19:19:49.977Z"
   },
   {
    "duration": 21,
    "start_time": "2021-12-11T19:19:49.994Z"
   },
   {
    "duration": 50,
    "start_time": "2021-12-11T19:19:50.019Z"
   },
   {
    "duration": 168,
    "start_time": "2021-12-11T19:19:50.072Z"
   },
   {
    "duration": 115,
    "start_time": "2021-12-11T19:19:50.242Z"
   },
   {
    "duration": 110,
    "start_time": "2021-12-11T19:19:50.367Z"
   },
   {
    "duration": 34,
    "start_time": "2021-12-11T19:19:50.479Z"
   },
   {
    "duration": 128,
    "start_time": "2021-12-11T19:19:50.515Z"
   },
   {
    "duration": 118,
    "start_time": "2021-12-11T19:19:50.645Z"
   },
   {
    "duration": 138,
    "start_time": "2021-12-11T19:19:50.766Z"
   },
   {
    "duration": 124,
    "start_time": "2021-12-11T19:20:58.792Z"
   },
   {
    "duration": 104,
    "start_time": "2021-12-11T19:21:59.333Z"
   },
   {
    "duration": 191,
    "start_time": "2021-12-11T19:30:43.071Z"
   },
   {
    "duration": 192,
    "start_time": "2021-12-11T19:32:11.632Z"
   },
   {
    "duration": 194,
    "start_time": "2021-12-11T19:32:17.819Z"
   },
   {
    "duration": 193,
    "start_time": "2021-12-11T19:32:44.611Z"
   },
   {
    "duration": 191,
    "start_time": "2021-12-11T19:41:52.771Z"
   },
   {
    "duration": 42,
    "start_time": "2021-12-11T19:52:32.749Z"
   },
   {
    "duration": 3,
    "start_time": "2021-12-11T19:52:39.991Z"
   },
   {
    "duration": 542,
    "start_time": "2021-12-11T19:52:39.997Z"
   },
   {
    "duration": 18,
    "start_time": "2021-12-11T19:52:40.543Z"
   },
   {
    "duration": 68,
    "start_time": "2021-12-11T19:52:40.564Z"
   },
   {
    "duration": 152,
    "start_time": "2021-12-11T19:52:40.635Z"
   },
   {
    "duration": 5,
    "start_time": "2021-12-11T19:52:40.789Z"
   },
   {
    "duration": 14,
    "start_time": "2021-12-11T19:52:40.796Z"
   },
   {
    "duration": 65,
    "start_time": "2021-12-11T19:52:40.813Z"
   },
   {
    "duration": 11,
    "start_time": "2021-12-11T19:52:40.882Z"
   },
   {
    "duration": 203,
    "start_time": "2021-12-11T19:52:40.896Z"
   },
   {
    "duration": 119,
    "start_time": "2021-12-11T19:52:41.101Z"
   },
   {
    "duration": 108,
    "start_time": "2021-12-11T19:52:41.223Z"
   },
   {
    "duration": 58,
    "start_time": "2021-12-11T19:52:41.334Z"
   },
   {
    "duration": 115,
    "start_time": "2021-12-11T19:52:41.395Z"
   },
   {
    "duration": 118,
    "start_time": "2021-12-11T19:52:41.512Z"
   },
   {
    "duration": 112,
    "start_time": "2021-12-11T19:52:41.633Z"
   },
   {
    "duration": 205,
    "start_time": "2021-12-11T19:52:41.748Z"
   },
   {
    "duration": 37,
    "start_time": "2021-12-11T20:08:33.472Z"
   },
   {
    "duration": 390,
    "start_time": "2021-12-11T20:11:35.231Z"
   },
   {
    "duration": 4,
    "start_time": "2021-12-11T20:11:40.143Z"
   },
   {
    "duration": 531,
    "start_time": "2021-12-11T20:11:40.164Z"
   },
   {
    "duration": 20,
    "start_time": "2021-12-11T20:11:40.697Z"
   },
   {
    "duration": 90,
    "start_time": "2021-12-11T20:11:40.721Z"
   },
   {
    "duration": 122,
    "start_time": "2021-12-11T20:11:40.813Z"
   },
   {
    "duration": 5,
    "start_time": "2021-12-11T20:11:40.967Z"
   },
   {
    "duration": 20,
    "start_time": "2021-12-11T20:11:40.975Z"
   },
   {
    "duration": 30,
    "start_time": "2021-12-11T20:11:40.998Z"
   },
   {
    "duration": 424,
    "start_time": "2021-12-11T20:11:41.031Z"
   },
   {
    "duration": -914,
    "start_time": "2021-12-11T20:11:42.372Z"
   },
   {
    "duration": -915,
    "start_time": "2021-12-11T20:11:42.375Z"
   },
   {
    "duration": -916,
    "start_time": "2021-12-11T20:11:42.377Z"
   },
   {
    "duration": -916,
    "start_time": "2021-12-11T20:11:42.379Z"
   },
   {
    "duration": -916,
    "start_time": "2021-12-11T20:11:42.381Z"
   },
   {
    "duration": -917,
    "start_time": "2021-12-11T20:11:42.383Z"
   },
   {
    "duration": -918,
    "start_time": "2021-12-11T20:11:42.386Z"
   },
   {
    "duration": -969,
    "start_time": "2021-12-11T20:11:42.438Z"
   },
   {
    "duration": -970,
    "start_time": "2021-12-11T20:11:42.441Z"
   },
   {
    "duration": 17,
    "start_time": "2021-12-11T20:16:32.319Z"
   },
   {
    "duration": 4,
    "start_time": "2021-12-11T20:16:58.220Z"
   },
   {
    "duration": 530,
    "start_time": "2021-12-11T20:16:58.227Z"
   },
   {
    "duration": 24,
    "start_time": "2021-12-11T20:16:58.761Z"
   },
   {
    "duration": 95,
    "start_time": "2021-12-11T20:16:58.788Z"
   },
   {
    "duration": 121,
    "start_time": "2021-12-11T20:16:58.885Z"
   },
   {
    "duration": 5,
    "start_time": "2021-12-11T20:16:59.008Z"
   },
   {
    "duration": 17,
    "start_time": "2021-12-11T20:16:59.015Z"
   },
   {
    "duration": 23,
    "start_time": "2021-12-11T20:16:59.068Z"
   },
   {
    "duration": 23,
    "start_time": "2021-12-11T20:16:59.095Z"
   },
   {
    "duration": 53,
    "start_time": "2021-12-11T20:16:59.120Z"
   },
   {
    "duration": 186,
    "start_time": "2021-12-11T20:16:59.176Z"
   },
   {
    "duration": 122,
    "start_time": "2021-12-11T20:16:59.368Z"
   },
   {
    "duration": 115,
    "start_time": "2021-12-11T20:16:59.492Z"
   },
   {
    "duration": 641,
    "start_time": "2021-12-11T20:16:59.609Z"
   },
   {
    "duration": -946,
    "start_time": "2021-12-11T20:17:01.198Z"
   },
   {
    "duration": -983,
    "start_time": "2021-12-11T20:17:01.237Z"
   },
   {
    "duration": -985,
    "start_time": "2021-12-11T20:17:01.240Z"
   },
   {
    "duration": -987,
    "start_time": "2021-12-11T20:17:01.243Z"
   },
   {
    "duration": 31,
    "start_time": "2021-12-11T20:17:28.983Z"
   },
   {
    "duration": 33,
    "start_time": "2021-12-11T20:29:37.231Z"
   },
   {
    "duration": 5,
    "start_time": "2021-12-11T20:29:47.908Z"
   },
   {
    "duration": 548,
    "start_time": "2021-12-11T20:29:47.916Z"
   },
   {
    "duration": 22,
    "start_time": "2021-12-11T20:29:48.468Z"
   },
   {
    "duration": 101,
    "start_time": "2021-12-11T20:29:48.493Z"
   },
   {
    "duration": 132,
    "start_time": "2021-12-11T20:29:48.597Z"
   },
   {
    "duration": 36,
    "start_time": "2021-12-11T20:29:48.731Z"
   },
   {
    "duration": 17,
    "start_time": "2021-12-11T20:29:48.770Z"
   },
   {
    "duration": 23,
    "start_time": "2021-12-11T20:29:48.790Z"
   },
   {
    "duration": 60,
    "start_time": "2021-12-11T20:29:48.816Z"
   },
   {
    "duration": 10,
    "start_time": "2021-12-11T20:29:48.879Z"
   },
   {
    "duration": 217,
    "start_time": "2021-12-11T20:29:48.892Z"
   },
   {
    "duration": 193,
    "start_time": "2021-12-11T20:29:49.112Z"
   },
   {
    "duration": 122,
    "start_time": "2021-12-11T20:29:49.308Z"
   },
   {
    "duration": 455,
    "start_time": "2021-12-11T20:29:49.433Z"
   },
   {
    "duration": -960,
    "start_time": "2021-12-11T20:29:50.851Z"
   },
   {
    "duration": -963,
    "start_time": "2021-12-11T20:29:50.855Z"
   },
   {
    "duration": -965,
    "start_time": "2021-12-11T20:29:50.858Z"
   },
   {
    "duration": -966,
    "start_time": "2021-12-11T20:29:50.861Z"
   },
   {
    "duration": 316,
    "start_time": "2021-12-11T20:34:57.152Z"
   },
   {
    "duration": 31,
    "start_time": "2021-12-11T20:35:05.872Z"
   },
   {
    "duration": 4,
    "start_time": "2021-12-11T20:35:13.463Z"
   },
   {
    "duration": 550,
    "start_time": "2021-12-11T20:35:13.474Z"
   },
   {
    "duration": 24,
    "start_time": "2021-12-11T20:35:14.028Z"
   },
   {
    "duration": 65,
    "start_time": "2021-12-11T20:35:14.056Z"
   },
   {
    "duration": 152,
    "start_time": "2021-12-11T20:35:14.124Z"
   },
   {
    "duration": 6,
    "start_time": "2021-12-11T20:35:14.279Z"
   },
   {
    "duration": 14,
    "start_time": "2021-12-11T20:35:14.288Z"
   },
   {
    "duration": 74,
    "start_time": "2021-12-11T20:35:14.305Z"
   },
   {
    "duration": 24,
    "start_time": "2021-12-11T20:35:14.381Z"
   },
   {
    "duration": 11,
    "start_time": "2021-12-11T20:35:14.409Z"
   },
   {
    "duration": 216,
    "start_time": "2021-12-11T20:35:14.422Z"
   },
   {
    "duration": 111,
    "start_time": "2021-12-11T20:35:14.640Z"
   },
   {
    "duration": 121,
    "start_time": "2021-12-11T20:35:14.753Z"
   },
   {
    "duration": 349,
    "start_time": "2021-12-11T20:35:14.876Z"
   },
   {
    "duration": -1152,
    "start_time": "2021-12-11T20:35:16.380Z"
   },
   {
    "duration": -1154,
    "start_time": "2021-12-11T20:35:16.383Z"
   },
   {
    "duration": -1174,
    "start_time": "2021-12-11T20:35:16.405Z"
   },
   {
    "duration": -1178,
    "start_time": "2021-12-11T20:35:16.411Z"
   },
   {
    "duration": 4,
    "start_time": "2021-12-11T20:35:45.375Z"
   },
   {
    "duration": 555,
    "start_time": "2021-12-11T20:35:45.381Z"
   },
   {
    "duration": 22,
    "start_time": "2021-12-11T20:35:45.939Z"
   },
   {
    "duration": 68,
    "start_time": "2021-12-11T20:35:45.964Z"
   },
   {
    "duration": 121,
    "start_time": "2021-12-11T20:35:46.068Z"
   },
   {
    "duration": 4,
    "start_time": "2021-12-11T20:35:46.192Z"
   },
   {
    "duration": 14,
    "start_time": "2021-12-11T20:35:46.198Z"
   },
   {
    "duration": 63,
    "start_time": "2021-12-11T20:35:46.215Z"
   },
   {
    "duration": 353,
    "start_time": "2021-12-11T20:35:46.280Z"
   },
   {
    "duration": -907,
    "start_time": "2021-12-11T20:35:47.543Z"
   },
   {
    "duration": -943,
    "start_time": "2021-12-11T20:35:47.580Z"
   },
   {
    "duration": -946,
    "start_time": "2021-12-11T20:35:47.585Z"
   },
   {
    "duration": -947,
    "start_time": "2021-12-11T20:35:47.587Z"
   },
   {
    "duration": -946,
    "start_time": "2021-12-11T20:35:47.588Z"
   },
   {
    "duration": -947,
    "start_time": "2021-12-11T20:35:47.590Z"
   },
   {
    "duration": -948,
    "start_time": "2021-12-11T20:35:47.592Z"
   },
   {
    "duration": -947,
    "start_time": "2021-12-11T20:35:47.593Z"
   },
   {
    "duration": -947,
    "start_time": "2021-12-11T20:35:47.595Z"
   },
   {
    "duration": 23,
    "start_time": "2021-12-11T20:38:05.592Z"
   },
   {
    "duration": 3,
    "start_time": "2021-12-11T20:38:16.492Z"
   },
   {
    "duration": 544,
    "start_time": "2021-12-11T20:38:16.498Z"
   },
   {
    "duration": 26,
    "start_time": "2021-12-11T20:38:17.045Z"
   },
   {
    "duration": 107,
    "start_time": "2021-12-11T20:38:17.073Z"
   },
   {
    "duration": 129,
    "start_time": "2021-12-11T20:38:17.183Z"
   },
   {
    "duration": 6,
    "start_time": "2021-12-11T20:38:17.315Z"
   },
   {
    "duration": 56,
    "start_time": "2021-12-11T20:38:17.325Z"
   },
   {
    "duration": 23,
    "start_time": "2021-12-11T20:38:17.386Z"
   },
   {
    "duration": 57,
    "start_time": "2021-12-11T20:38:17.412Z"
   },
   {
    "duration": 11,
    "start_time": "2021-12-11T20:38:17.471Z"
   },
   {
    "duration": 193,
    "start_time": "2021-12-11T20:38:17.485Z"
   },
   {
    "duration": 118,
    "start_time": "2021-12-11T20:38:17.681Z"
   },
   {
    "duration": 118,
    "start_time": "2021-12-11T20:38:17.802Z"
   },
   {
    "duration": 469,
    "start_time": "2021-12-11T20:38:17.923Z"
   },
   {
    "duration": -1028,
    "start_time": "2021-12-11T20:38:19.422Z"
   },
   {
    "duration": -1029,
    "start_time": "2021-12-11T20:38:19.425Z"
   },
   {
    "duration": -1030,
    "start_time": "2021-12-11T20:38:19.427Z"
   },
   {
    "duration": -1030,
    "start_time": "2021-12-11T20:38:19.428Z"
   },
   {
    "duration": 4,
    "start_time": "2021-12-11T20:38:43.831Z"
   },
   {
    "duration": 535,
    "start_time": "2021-12-11T20:38:43.846Z"
   },
   {
    "duration": 24,
    "start_time": "2021-12-11T20:38:44.384Z"
   },
   {
    "duration": 89,
    "start_time": "2021-12-11T20:38:44.411Z"
   },
   {
    "duration": 124,
    "start_time": "2021-12-11T20:38:44.503Z"
   },
   {
    "duration": 37,
    "start_time": "2021-12-11T20:38:44.630Z"
   },
   {
    "duration": 11,
    "start_time": "2021-12-11T20:38:44.670Z"
   },
   {
    "duration": 23,
    "start_time": "2021-12-11T20:38:44.684Z"
   },
   {
    "duration": 69,
    "start_time": "2021-12-11T20:38:44.711Z"
   },
   {
    "duration": 10,
    "start_time": "2021-12-11T20:38:44.783Z"
   },
   {
    "duration": 193,
    "start_time": "2021-12-11T20:38:44.796Z"
   },
   {
    "duration": 124,
    "start_time": "2021-12-11T20:38:44.992Z"
   },
   {
    "duration": 111,
    "start_time": "2021-12-11T20:38:45.119Z"
   },
   {
    "duration": 340,
    "start_time": "2021-12-11T20:38:45.232Z"
   },
   {
    "duration": -1027,
    "start_time": "2021-12-11T20:38:46.601Z"
   },
   {
    "duration": -1027,
    "start_time": "2021-12-11T20:38:46.603Z"
   },
   {
    "duration": -1028,
    "start_time": "2021-12-11T20:38:46.605Z"
   },
   {
    "duration": -1027,
    "start_time": "2021-12-11T20:38:46.606Z"
   },
   {
    "duration": 6,
    "start_time": "2021-12-11T20:39:43.713Z"
   },
   {
    "duration": 4,
    "start_time": "2021-12-11T20:40:10.333Z"
   },
   {
    "duration": 529,
    "start_time": "2021-12-11T20:40:10.346Z"
   },
   {
    "duration": 20,
    "start_time": "2021-12-11T20:40:10.877Z"
   },
   {
    "duration": 297,
    "start_time": "2021-12-11T20:40:10.900Z"
   },
   {
    "duration": 113,
    "start_time": "2021-12-11T20:40:11.199Z"
   },
   {
    "duration": 4,
    "start_time": "2021-12-11T20:40:11.314Z"
   },
   {
    "duration": 53,
    "start_time": "2021-12-11T20:40:11.320Z"
   },
   {
    "duration": 6,
    "start_time": "2021-12-11T20:40:11.376Z"
   },
   {
    "duration": 21,
    "start_time": "2021-12-11T20:40:11.384Z"
   },
   {
    "duration": 11,
    "start_time": "2021-12-11T20:40:11.409Z"
   },
   {
    "duration": 223,
    "start_time": "2021-12-11T20:40:11.422Z"
   },
   {
    "duration": 122,
    "start_time": "2021-12-11T20:40:11.649Z"
   },
   {
    "duration": 116,
    "start_time": "2021-12-11T20:40:11.774Z"
   },
   {
    "duration": 331,
    "start_time": "2021-12-11T20:40:11.893Z"
   },
   {
    "duration": -963,
    "start_time": "2021-12-11T20:40:13.189Z"
   },
   {
    "duration": -963,
    "start_time": "2021-12-11T20:40:13.191Z"
   },
   {
    "duration": -963,
    "start_time": "2021-12-11T20:40:13.193Z"
   },
   {
    "duration": -971,
    "start_time": "2021-12-11T20:40:13.202Z"
   },
   {
    "duration": 27,
    "start_time": "2021-12-11T20:40:26.092Z"
   },
   {
    "duration": 4,
    "start_time": "2021-12-11T20:42:12.951Z"
   },
   {
    "duration": 555,
    "start_time": "2021-12-11T20:42:12.958Z"
   },
   {
    "duration": 20,
    "start_time": "2021-12-11T20:42:13.516Z"
   },
   {
    "duration": 79,
    "start_time": "2021-12-11T20:42:13.540Z"
   },
   {
    "duration": 147,
    "start_time": "2021-12-11T20:42:13.622Z"
   },
   {
    "duration": 5,
    "start_time": "2021-12-11T20:42:13.771Z"
   },
   {
    "duration": 26,
    "start_time": "2021-12-11T20:42:13.778Z"
   },
   {
    "duration": 32,
    "start_time": "2021-12-11T20:42:13.807Z"
   },
   {
    "duration": 31,
    "start_time": "2021-12-11T20:42:13.845Z"
   },
   {
    "duration": 182,
    "start_time": "2021-12-11T20:42:13.879Z"
   },
   {
    "duration": 128,
    "start_time": "2021-12-11T20:42:14.068Z"
   },
   {
    "duration": 117,
    "start_time": "2021-12-11T20:42:14.199Z"
   },
   {
    "duration": 321,
    "start_time": "2021-12-11T20:42:14.318Z"
   },
   {
    "duration": -983,
    "start_time": "2021-12-11T20:42:15.624Z"
   },
   {
    "duration": -983,
    "start_time": "2021-12-11T20:42:15.626Z"
   },
   {
    "duration": -983,
    "start_time": "2021-12-11T20:42:15.628Z"
   },
   {
    "duration": -984,
    "start_time": "2021-12-11T20:42:15.630Z"
   },
   {
    "duration": 33,
    "start_time": "2021-12-11T20:42:57.372Z"
   },
   {
    "duration": 34,
    "start_time": "2021-12-11T20:44:03.072Z"
   },
   {
    "duration": 317,
    "start_time": "2021-12-11T20:44:10.468Z"
   },
   {
    "duration": 310,
    "start_time": "2021-12-11T20:45:22.892Z"
   },
   {
    "duration": 4,
    "start_time": "2021-12-11T20:45:30.687Z"
   },
   {
    "duration": 571,
    "start_time": "2021-12-11T20:45:30.694Z"
   },
   {
    "duration": 27,
    "start_time": "2021-12-11T20:45:31.268Z"
   },
   {
    "duration": 101,
    "start_time": "2021-12-11T20:45:31.298Z"
   },
   {
    "duration": 120,
    "start_time": "2021-12-11T20:45:31.402Z"
   },
   {
    "duration": 5,
    "start_time": "2021-12-11T20:45:31.524Z"
   },
   {
    "duration": 61,
    "start_time": "2021-12-11T20:45:31.531Z"
   },
   {
    "duration": 38,
    "start_time": "2021-12-11T20:45:31.594Z"
   },
   {
    "duration": 33,
    "start_time": "2021-12-11T20:45:31.636Z"
   },
   {
    "duration": 186,
    "start_time": "2021-12-11T20:45:31.672Z"
   },
   {
    "duration": 118,
    "start_time": "2021-12-11T20:45:31.868Z"
   },
   {
    "duration": 122,
    "start_time": "2021-12-11T20:45:31.989Z"
   },
   {
    "duration": 335,
    "start_time": "2021-12-11T20:45:32.113Z"
   },
   {
    "duration": -981,
    "start_time": "2021-12-11T20:45:33.431Z"
   },
   {
    "duration": -981,
    "start_time": "2021-12-11T20:45:33.433Z"
   },
   {
    "duration": -984,
    "start_time": "2021-12-11T20:45:33.437Z"
   },
   {
    "duration": -987,
    "start_time": "2021-12-11T20:45:33.441Z"
   },
   {
    "duration": 34,
    "start_time": "2021-12-11T20:46:07.492Z"
   },
   {
    "duration": 40,
    "start_time": "2021-12-11T20:46:29.592Z"
   },
   {
    "duration": 311,
    "start_time": "2021-12-11T20:46:49.572Z"
   },
   {
    "duration": 296,
    "start_time": "2021-12-11T20:47:06.339Z"
   },
   {
    "duration": 4,
    "start_time": "2021-12-11T20:47:09.820Z"
   },
   {
    "duration": 573,
    "start_time": "2021-12-11T20:47:09.826Z"
   },
   {
    "duration": 20,
    "start_time": "2021-12-11T20:47:10.403Z"
   },
   {
    "duration": 73,
    "start_time": "2021-12-11T20:47:10.426Z"
   },
   {
    "duration": 123,
    "start_time": "2021-12-11T20:47:10.501Z"
   },
   {
    "duration": 4,
    "start_time": "2021-12-11T20:47:10.626Z"
   },
   {
    "duration": 44,
    "start_time": "2021-12-11T20:47:10.633Z"
   },
   {
    "duration": 9,
    "start_time": "2021-12-11T20:47:10.680Z"
   },
   {
    "duration": 10,
    "start_time": "2021-12-11T20:47:10.693Z"
   },
   {
    "duration": 212,
    "start_time": "2021-12-11T20:47:10.706Z"
   },
   {
    "duration": 117,
    "start_time": "2021-12-11T20:47:10.920Z"
   },
   {
    "duration": 112,
    "start_time": "2021-12-11T20:47:11.040Z"
   },
   {
    "duration": 75,
    "start_time": "2021-12-11T20:47:11.167Z"
   },
   {
    "duration": 128,
    "start_time": "2021-12-11T20:47:11.244Z"
   },
   {
    "duration": 114,
    "start_time": "2021-12-11T20:47:11.375Z"
   },
   {
    "duration": 119,
    "start_time": "2021-12-11T20:47:11.491Z"
   },
   {
    "duration": 204,
    "start_time": "2021-12-11T20:47:11.612Z"
   },
   {
    "duration": 28,
    "start_time": "2021-12-11T20:49:14.899Z"
   },
   {
    "duration": 27,
    "start_time": "2021-12-11T20:49:20.459Z"
   },
   {
    "duration": 320,
    "start_time": "2021-12-11T20:49:23.853Z"
   },
   {
    "duration": 4,
    "start_time": "2021-12-11T20:49:30.423Z"
   },
   {
    "duration": 544,
    "start_time": "2021-12-11T20:49:30.429Z"
   },
   {
    "duration": 22,
    "start_time": "2021-12-11T20:49:30.976Z"
   },
   {
    "duration": 102,
    "start_time": "2021-12-11T20:49:31.002Z"
   },
   {
    "duration": 160,
    "start_time": "2021-12-11T20:49:31.107Z"
   },
   {
    "duration": 5,
    "start_time": "2021-12-11T20:49:31.269Z"
   },
   {
    "duration": 19,
    "start_time": "2021-12-11T20:49:31.277Z"
   },
   {
    "duration": 7,
    "start_time": "2021-12-11T20:49:31.300Z"
   },
   {
    "duration": 29,
    "start_time": "2021-12-11T20:49:31.309Z"
   },
   {
    "duration": 185,
    "start_time": "2021-12-11T20:49:31.340Z"
   },
   {
    "duration": 121,
    "start_time": "2021-12-11T20:49:31.527Z"
   },
   {
    "duration": 131,
    "start_time": "2021-12-11T20:49:31.652Z"
   },
   {
    "duration": 95,
    "start_time": "2021-12-11T20:49:31.787Z"
   },
   {
    "duration": 125,
    "start_time": "2021-12-11T20:49:31.885Z"
   },
   {
    "duration": 121,
    "start_time": "2021-12-11T20:49:32.013Z"
   },
   {
    "duration": 123,
    "start_time": "2021-12-11T20:49:32.136Z"
   },
   {
    "duration": 209,
    "start_time": "2021-12-11T20:49:32.262Z"
   },
   {
    "duration": 4,
    "start_time": "2021-12-11T20:49:38.831Z"
   },
   {
    "duration": 533,
    "start_time": "2021-12-11T20:49:38.838Z"
   },
   {
    "duration": 19,
    "start_time": "2021-12-11T20:49:39.375Z"
   },
   {
    "duration": 96,
    "start_time": "2021-12-11T20:49:39.397Z"
   },
   {
    "duration": 124,
    "start_time": "2021-12-11T20:49:39.496Z"
   },
   {
    "duration": 4,
    "start_time": "2021-12-11T20:49:39.623Z"
   },
   {
    "duration": 43,
    "start_time": "2021-12-11T20:49:39.630Z"
   },
   {
    "duration": 7,
    "start_time": "2021-12-11T20:49:39.676Z"
   },
   {
    "duration": 10,
    "start_time": "2021-12-11T20:49:39.687Z"
   },
   {
    "duration": 204,
    "start_time": "2021-12-11T20:49:39.700Z"
   },
   {
    "duration": 123,
    "start_time": "2021-12-11T20:49:39.906Z"
   },
   {
    "duration": 112,
    "start_time": "2021-12-11T20:49:40.032Z"
   },
   {
    "duration": 89,
    "start_time": "2021-12-11T20:49:40.146Z"
   },
   {
    "duration": 129,
    "start_time": "2021-12-11T20:49:40.238Z"
   },
   {
    "duration": 118,
    "start_time": "2021-12-11T20:49:40.370Z"
   },
   {
    "duration": 119,
    "start_time": "2021-12-11T20:49:40.491Z"
   },
   {
    "duration": 201,
    "start_time": "2021-12-11T20:49:40.613Z"
   },
   {
    "duration": 364,
    "start_time": "2021-12-11T20:52:24.252Z"
   },
   {
    "duration": 4,
    "start_time": "2021-12-11T20:52:29.054Z"
   },
   {
    "duration": 530,
    "start_time": "2021-12-11T20:52:29.061Z"
   },
   {
    "duration": 21,
    "start_time": "2021-12-11T20:52:29.596Z"
   },
   {
    "duration": 90,
    "start_time": "2021-12-11T20:52:29.620Z"
   },
   {
    "duration": 118,
    "start_time": "2021-12-11T20:52:29.712Z"
   },
   {
    "duration": 38,
    "start_time": "2021-12-11T20:52:29.832Z"
   },
   {
    "duration": 16,
    "start_time": "2021-12-11T20:52:29.872Z"
   },
   {
    "duration": 7,
    "start_time": "2021-12-11T20:52:29.891Z"
   },
   {
    "duration": 11,
    "start_time": "2021-12-11T20:52:29.901Z"
   },
   {
    "duration": 218,
    "start_time": "2021-12-11T20:52:29.915Z"
   },
   {
    "duration": 123,
    "start_time": "2021-12-11T20:52:30.135Z"
   },
   {
    "duration": 196,
    "start_time": "2021-12-11T20:52:30.261Z"
   },
   {
    "duration": 80,
    "start_time": "2021-12-11T20:52:30.459Z"
   },
   {
    "duration": 133,
    "start_time": "2021-12-11T20:52:30.541Z"
   },
   {
    "duration": 115,
    "start_time": "2021-12-11T20:52:30.676Z"
   },
   {
    "duration": 114,
    "start_time": "2021-12-11T20:52:30.794Z"
   },
   {
    "duration": 220,
    "start_time": "2021-12-11T20:52:30.910Z"
   },
   {
    "duration": 392,
    "start_time": "2021-12-11T20:52:47.932Z"
   },
   {
    "duration": 4,
    "start_time": "2021-12-11T20:54:02.111Z"
   },
   {
    "duration": 541,
    "start_time": "2021-12-11T20:54:02.118Z"
   },
   {
    "duration": 20,
    "start_time": "2021-12-11T20:54:02.662Z"
   },
   {
    "duration": 97,
    "start_time": "2021-12-11T20:54:02.685Z"
   },
   {
    "duration": 120,
    "start_time": "2021-12-11T20:54:02.784Z"
   },
   {
    "duration": 4,
    "start_time": "2021-12-11T20:54:02.906Z"
   },
   {
    "duration": 19,
    "start_time": "2021-12-11T20:54:02.913Z"
   },
   {
    "duration": 7,
    "start_time": "2021-12-11T20:54:02.968Z"
   },
   {
    "duration": 12,
    "start_time": "2021-12-11T20:54:02.979Z"
   },
   {
    "duration": 196,
    "start_time": "2021-12-11T20:54:02.994Z"
   },
   {
    "duration": 122,
    "start_time": "2021-12-11T20:54:03.193Z"
   },
   {
    "duration": 113,
    "start_time": "2021-12-11T20:54:03.318Z"
   },
   {
    "duration": 400,
    "start_time": "2021-12-11T20:54:03.434Z"
   },
   {
    "duration": -913,
    "start_time": "2021-12-11T20:54:04.750Z"
   },
   {
    "duration": -917,
    "start_time": "2021-12-11T20:54:04.755Z"
   },
   {
    "duration": -960,
    "start_time": "2021-12-11T20:54:04.800Z"
   },
   {
    "duration": -962,
    "start_time": "2021-12-11T20:54:04.803Z"
   },
   {
    "duration": 4,
    "start_time": "2021-12-11T20:55:46.891Z"
   },
   {
    "duration": 543,
    "start_time": "2021-12-11T20:55:46.898Z"
   },
   {
    "duration": 20,
    "start_time": "2021-12-11T20:55:47.444Z"
   },
   {
    "duration": 69,
    "start_time": "2021-12-11T20:55:47.467Z"
   },
   {
    "duration": 130,
    "start_time": "2021-12-11T20:55:47.568Z"
   },
   {
    "duration": 6,
    "start_time": "2021-12-11T20:55:47.701Z"
   },
   {
    "duration": 59,
    "start_time": "2021-12-11T20:55:47.710Z"
   },
   {
    "duration": 8,
    "start_time": "2021-12-11T20:55:47.773Z"
   },
   {
    "duration": 13,
    "start_time": "2021-12-11T20:55:47.784Z"
   },
   {
    "duration": 209,
    "start_time": "2021-12-11T20:55:47.800Z"
   },
   {
    "duration": 127,
    "start_time": "2021-12-11T20:55:48.013Z"
   },
   {
    "duration": 112,
    "start_time": "2021-12-11T20:55:48.143Z"
   },
   {
    "duration": 112,
    "start_time": "2021-12-11T20:55:48.257Z"
   },
   {
    "duration": -930,
    "start_time": "2021-12-11T20:55:49.302Z"
   },
   {
    "duration": -934,
    "start_time": "2021-12-11T20:55:49.307Z"
   },
   {
    "duration": -934,
    "start_time": "2021-12-11T20:55:49.309Z"
   },
   {
    "duration": -935,
    "start_time": "2021-12-11T20:55:49.311Z"
   },
   {
    "duration": 102,
    "start_time": "2021-12-11T20:56:02.473Z"
   },
   {
    "duration": 1494,
    "start_time": "2021-12-11T20:56:34.601Z"
   },
   {
    "duration": 70,
    "start_time": "2021-12-11T20:57:36.439Z"
   },
   {
    "duration": 3,
    "start_time": "2021-12-11T20:58:59.664Z"
   },
   {
    "duration": 545,
    "start_time": "2021-12-11T20:58:59.676Z"
   },
   {
    "duration": 22,
    "start_time": "2021-12-11T20:59:00.225Z"
   },
   {
    "duration": 75,
    "start_time": "2021-12-11T20:59:00.250Z"
   },
   {
    "duration": 172,
    "start_time": "2021-12-11T20:59:00.329Z"
   },
   {
    "duration": 4,
    "start_time": "2021-12-11T20:59:00.504Z"
   },
   {
    "duration": 25,
    "start_time": "2021-12-11T20:59:00.511Z"
   },
   {
    "duration": 32,
    "start_time": "2021-12-11T20:59:00.539Z"
   },
   {
    "duration": 15,
    "start_time": "2021-12-11T20:59:00.575Z"
   },
   {
    "duration": 186,
    "start_time": "2021-12-11T20:59:00.593Z"
   },
   {
    "duration": 129,
    "start_time": "2021-12-11T20:59:00.781Z"
   },
   {
    "duration": 111,
    "start_time": "2021-12-11T20:59:00.912Z"
   },
   {
    "duration": 88,
    "start_time": "2021-12-11T20:59:01.025Z"
   },
   {
    "duration": 116,
    "start_time": "2021-12-11T20:59:01.115Z"
   },
   {
    "duration": 118,
    "start_time": "2021-12-11T20:59:01.233Z"
   },
   {
    "duration": 128,
    "start_time": "2021-12-11T20:59:01.353Z"
   },
   {
    "duration": 202,
    "start_time": "2021-12-11T20:59:01.484Z"
   },
   {
    "duration": 306,
    "start_time": "2021-12-11T20:59:59.835Z"
   },
   {
    "duration": 99,
    "start_time": "2021-12-11T21:00:43.112Z"
   },
   {
    "duration": 3,
    "start_time": "2021-12-11T21:00:45.942Z"
   },
   {
    "duration": 545,
    "start_time": "2021-12-11T21:00:45.953Z"
   },
   {
    "duration": 24,
    "start_time": "2021-12-11T21:00:46.501Z"
   },
   {
    "duration": 84,
    "start_time": "2021-12-11T21:00:46.528Z"
   },
   {
    "duration": 160,
    "start_time": "2021-12-11T21:00:46.614Z"
   },
   {
    "duration": 4,
    "start_time": "2021-12-11T21:00:46.776Z"
   },
   {
    "duration": 25,
    "start_time": "2021-12-11T21:00:46.782Z"
   },
   {
    "duration": 10,
    "start_time": "2021-12-11T21:00:46.810Z"
   },
   {
    "duration": 47,
    "start_time": "2021-12-11T21:00:46.823Z"
   },
   {
    "duration": 192,
    "start_time": "2021-12-11T21:00:46.875Z"
   },
   {
    "duration": 124,
    "start_time": "2021-12-11T21:00:47.070Z"
   },
   {
    "duration": 120,
    "start_time": "2021-12-11T21:00:47.197Z"
   },
   {
    "duration": 110,
    "start_time": "2021-12-11T21:00:47.320Z"
   },
   {
    "duration": -932,
    "start_time": "2021-12-11T21:00:48.364Z"
   },
   {
    "duration": -934,
    "start_time": "2021-12-11T21:00:48.368Z"
   },
   {
    "duration": -937,
    "start_time": "2021-12-11T21:00:48.372Z"
   },
   {
    "duration": -972,
    "start_time": "2021-12-11T21:00:48.409Z"
   },
   {
    "duration": 76,
    "start_time": "2021-12-11T21:01:09.592Z"
   },
   {
    "duration": 3,
    "start_time": "2021-12-11T21:04:37.191Z"
   },
   {
    "duration": 541,
    "start_time": "2021-12-11T21:04:37.197Z"
   },
   {
    "duration": 22,
    "start_time": "2021-12-11T21:04:37.741Z"
   },
   {
    "duration": 70,
    "start_time": "2021-12-11T21:04:37.766Z"
   },
   {
    "duration": 119,
    "start_time": "2021-12-11T21:04:37.868Z"
   },
   {
    "duration": 4,
    "start_time": "2021-12-11T21:04:37.989Z"
   },
   {
    "duration": 13,
    "start_time": "2021-12-11T21:04:37.996Z"
   },
   {
    "duration": 6,
    "start_time": "2021-12-11T21:04:38.012Z"
   },
   {
    "duration": 10,
    "start_time": "2021-12-11T21:04:38.067Z"
   },
   {
    "duration": 208,
    "start_time": "2021-12-11T21:04:38.080Z"
   },
   {
    "duration": 124,
    "start_time": "2021-12-11T21:04:38.290Z"
   },
   {
    "duration": 117,
    "start_time": "2021-12-11T21:04:38.416Z"
   },
   {
    "duration": 416,
    "start_time": "2021-12-11T21:04:38.537Z"
   },
   {
    "duration": -930,
    "start_time": "2021-12-11T21:04:39.887Z"
   },
   {
    "duration": -937,
    "start_time": "2021-12-11T21:04:39.896Z"
   },
   {
    "duration": -971,
    "start_time": "2021-12-11T21:04:39.932Z"
   },
   {
    "duration": -971,
    "start_time": "2021-12-11T21:04:39.935Z"
   },
   {
    "duration": 3,
    "start_time": "2021-12-11T21:07:04.711Z"
   },
   {
    "duration": 582,
    "start_time": "2021-12-11T21:07:04.718Z"
   },
   {
    "duration": 19,
    "start_time": "2021-12-11T21:07:05.303Z"
   },
   {
    "duration": 72,
    "start_time": "2021-12-11T21:07:05.325Z"
   },
   {
    "duration": 122,
    "start_time": "2021-12-11T21:07:05.399Z"
   },
   {
    "duration": 6,
    "start_time": "2021-12-11T21:07:05.524Z"
   },
   {
    "duration": 12,
    "start_time": "2021-12-11T21:07:05.568Z"
   },
   {
    "duration": 28,
    "start_time": "2021-12-11T21:07:05.584Z"
   },
   {
    "duration": 17,
    "start_time": "2021-12-11T21:07:05.615Z"
   },
   {
    "duration": 187,
    "start_time": "2021-12-11T21:07:05.635Z"
   },
   {
    "duration": 115,
    "start_time": "2021-12-11T21:07:05.825Z"
   },
   {
    "duration": 117,
    "start_time": "2021-12-11T21:07:05.943Z"
   },
   {
    "duration": 141,
    "start_time": "2021-12-11T21:07:06.068Z"
   },
   {
    "duration": -941,
    "start_time": "2021-12-11T21:07:07.152Z"
   },
   {
    "duration": -941,
    "start_time": "2021-12-11T21:07:07.154Z"
   },
   {
    "duration": -942,
    "start_time": "2021-12-11T21:07:07.156Z"
   },
   {
    "duration": -942,
    "start_time": "2021-12-11T21:07:07.158Z"
   },
   {
    "duration": 119,
    "start_time": "2021-12-11T21:07:18.594Z"
   },
   {
    "duration": 78,
    "start_time": "2021-12-11T21:07:45.873Z"
   },
   {
    "duration": 79,
    "start_time": "2021-12-11T21:08:09.752Z"
   },
   {
    "duration": 318,
    "start_time": "2021-12-11T21:08:20.636Z"
   },
   {
    "duration": 318,
    "start_time": "2021-12-11T21:08:33.553Z"
   },
   {
    "duration": 4,
    "start_time": "2021-12-11T21:08:37.422Z"
   },
   {
    "duration": 557,
    "start_time": "2021-12-11T21:08:37.433Z"
   },
   {
    "duration": 23,
    "start_time": "2021-12-11T21:08:37.994Z"
   },
   {
    "duration": 89,
    "start_time": "2021-12-11T21:08:38.021Z"
   },
   {
    "duration": 158,
    "start_time": "2021-12-11T21:08:38.112Z"
   },
   {
    "duration": 6,
    "start_time": "2021-12-11T21:08:38.273Z"
   },
   {
    "duration": 34,
    "start_time": "2021-12-11T21:08:38.281Z"
   },
   {
    "duration": 12,
    "start_time": "2021-12-11T21:08:38.318Z"
   },
   {
    "duration": 18,
    "start_time": "2021-12-11T21:08:38.333Z"
   },
   {
    "duration": 184,
    "start_time": "2021-12-11T21:08:38.355Z"
   },
   {
    "duration": 127,
    "start_time": "2021-12-11T21:08:38.542Z"
   },
   {
    "duration": 113,
    "start_time": "2021-12-11T21:08:38.671Z"
   },
   {
    "duration": 86,
    "start_time": "2021-12-11T21:08:38.786Z"
   },
   {
    "duration": 114,
    "start_time": "2021-12-11T21:08:38.874Z"
   },
   {
    "duration": 113,
    "start_time": "2021-12-11T21:08:38.991Z"
   },
   {
    "duration": 114,
    "start_time": "2021-12-11T21:08:39.107Z"
   },
   {
    "duration": 204,
    "start_time": "2021-12-11T21:08:39.223Z"
   },
   {
    "duration": 38,
    "start_time": "2021-12-11T21:08:56.813Z"
   },
   {
    "duration": 3,
    "start_time": "2021-12-11T21:09:24.223Z"
   },
   {
    "duration": 560,
    "start_time": "2021-12-11T21:09:24.232Z"
   },
   {
    "duration": 21,
    "start_time": "2021-12-11T21:09:24.795Z"
   },
   {
    "duration": 78,
    "start_time": "2021-12-11T21:09:24.819Z"
   },
   {
    "duration": 128,
    "start_time": "2021-12-11T21:09:24.900Z"
   },
   {
    "duration": 38,
    "start_time": "2021-12-11T21:09:25.031Z"
   },
   {
    "duration": 41,
    "start_time": "2021-12-11T21:09:25.071Z"
   },
   {
    "duration": 19,
    "start_time": "2021-12-11T21:09:25.115Z"
   },
   {
    "duration": 20,
    "start_time": "2021-12-11T21:09:25.137Z"
   },
   {
    "duration": 189,
    "start_time": "2021-12-11T21:09:25.160Z"
   },
   {
    "duration": 134,
    "start_time": "2021-12-11T21:09:25.351Z"
   },
   {
    "duration": 116,
    "start_time": "2021-12-11T21:09:25.487Z"
   },
   {
    "duration": 44,
    "start_time": "2021-12-11T21:09:25.605Z"
   },
   {
    "duration": 115,
    "start_time": "2021-12-11T21:09:25.668Z"
   },
   {
    "duration": 125,
    "start_time": "2021-12-11T21:09:25.786Z"
   },
   {
    "duration": 114,
    "start_time": "2021-12-11T21:09:25.914Z"
   },
   {
    "duration": 202,
    "start_time": "2021-12-11T21:09:26.031Z"
   },
   {
    "duration": 43,
    "start_time": "2021-12-11T21:09:59.973Z"
   },
   {
    "duration": 36,
    "start_time": "2021-12-11T21:10:08.753Z"
   },
   {
    "duration": 379,
    "start_time": "2021-12-11T21:10:22.515Z"
   },
   {
    "duration": 4,
    "start_time": "2021-12-11T21:10:26.210Z"
   },
   {
    "duration": 553,
    "start_time": "2021-12-11T21:10:26.217Z"
   },
   {
    "duration": 20,
    "start_time": "2021-12-11T21:10:26.773Z"
   },
   {
    "duration": 105,
    "start_time": "2021-12-11T21:10:26.797Z"
   },
   {
    "duration": 123,
    "start_time": "2021-12-11T21:10:26.904Z"
   },
   {
    "duration": 38,
    "start_time": "2021-12-11T21:10:27.030Z"
   },
   {
    "duration": 17,
    "start_time": "2021-12-11T21:10:27.071Z"
   },
   {
    "duration": 8,
    "start_time": "2021-12-11T21:10:27.093Z"
   },
   {
    "duration": 15,
    "start_time": "2021-12-11T21:10:27.104Z"
   },
   {
    "duration": 218,
    "start_time": "2021-12-11T21:10:27.121Z"
   },
   {
    "duration": 135,
    "start_time": "2021-12-11T21:10:27.341Z"
   },
   {
    "duration": 116,
    "start_time": "2021-12-11T21:10:27.478Z"
   },
   {
    "duration": 424,
    "start_time": "2021-12-11T21:10:27.597Z"
   },
   {
    "duration": -1024,
    "start_time": "2021-12-11T21:10:29.047Z"
   },
   {
    "duration": -1025,
    "start_time": "2021-12-11T21:10:29.049Z"
   },
   {
    "duration": -1025,
    "start_time": "2021-12-11T21:10:29.050Z"
   },
   {
    "duration": -1025,
    "start_time": "2021-12-11T21:10:29.052Z"
   },
   {
    "duration": 34,
    "start_time": "2021-12-11T21:10:38.190Z"
   },
   {
    "duration": 89,
    "start_time": "2021-12-11T21:10:49.711Z"
   },
   {
    "duration": 450,
    "start_time": "2021-12-11T21:11:39.332Z"
   },
   {
    "duration": 3,
    "start_time": "2021-12-11T21:11:42.432Z"
   },
   {
    "duration": 542,
    "start_time": "2021-12-11T21:11:42.438Z"
   },
   {
    "duration": 25,
    "start_time": "2021-12-11T21:11:42.984Z"
   },
   {
    "duration": 83,
    "start_time": "2021-12-11T21:11:43.012Z"
   },
   {
    "duration": 121,
    "start_time": "2021-12-11T21:11:43.098Z"
   },
   {
    "duration": 4,
    "start_time": "2021-12-11T21:11:43.222Z"
   },
   {
    "duration": 49,
    "start_time": "2021-12-11T21:11:43.228Z"
   },
   {
    "duration": 6,
    "start_time": "2021-12-11T21:11:43.279Z"
   },
   {
    "duration": 13,
    "start_time": "2021-12-11T21:11:43.289Z"
   },
   {
    "duration": 202,
    "start_time": "2021-12-11T21:11:43.305Z"
   },
   {
    "duration": 122,
    "start_time": "2021-12-11T21:11:43.509Z"
   },
   {
    "duration": 111,
    "start_time": "2021-12-11T21:11:43.633Z"
   },
   {
    "duration": 90,
    "start_time": "2021-12-11T21:11:43.746Z"
   },
   {
    "duration": 118,
    "start_time": "2021-12-11T21:11:43.838Z"
   },
   {
    "duration": 115,
    "start_time": "2021-12-11T21:11:43.959Z"
   },
   {
    "duration": 116,
    "start_time": "2021-12-11T21:11:44.076Z"
   },
   {
    "duration": 207,
    "start_time": "2021-12-11T21:11:44.194Z"
   },
   {
    "duration": 4,
    "start_time": "2021-12-11T21:13:20.371Z"
   },
   {
    "duration": 543,
    "start_time": "2021-12-11T21:13:20.377Z"
   },
   {
    "duration": 22,
    "start_time": "2021-12-11T21:13:20.923Z"
   },
   {
    "duration": 69,
    "start_time": "2021-12-11T21:13:20.948Z"
   },
   {
    "duration": 151,
    "start_time": "2021-12-11T21:13:21.020Z"
   },
   {
    "duration": 5,
    "start_time": "2021-12-11T21:13:21.173Z"
   },
   {
    "duration": 38,
    "start_time": "2021-12-11T21:13:21.181Z"
   },
   {
    "duration": 14,
    "start_time": "2021-12-11T21:13:21.222Z"
   },
   {
    "duration": 33,
    "start_time": "2021-12-11T21:13:21.239Z"
   },
   {
    "duration": 236,
    "start_time": "2021-12-11T21:13:21.276Z"
   },
   {
    "duration": 125,
    "start_time": "2021-12-11T21:13:21.514Z"
   },
   {
    "duration": 114,
    "start_time": "2021-12-11T21:13:21.641Z"
   },
   {
    "duration": 38,
    "start_time": "2021-12-11T21:13:21.766Z"
   },
   {
    "duration": 138,
    "start_time": "2021-12-11T21:13:21.807Z"
   },
   {
    "duration": 119,
    "start_time": "2021-12-11T21:13:21.948Z"
   },
   {
    "duration": 114,
    "start_time": "2021-12-11T21:13:22.069Z"
   },
   {
    "duration": 205,
    "start_time": "2021-12-11T21:13:22.186Z"
   },
   {
    "duration": 3,
    "start_time": "2021-12-11T21:18:38.332Z"
   },
   {
    "duration": 538,
    "start_time": "2021-12-11T21:18:38.338Z"
   },
   {
    "duration": 20,
    "start_time": "2021-12-11T21:18:38.879Z"
   },
   {
    "duration": 93,
    "start_time": "2021-12-11T21:18:38.902Z"
   },
   {
    "duration": 118,
    "start_time": "2021-12-11T21:18:38.998Z"
   },
   {
    "duration": 4,
    "start_time": "2021-12-11T21:18:39.119Z"
   },
   {
    "duration": 47,
    "start_time": "2021-12-11T21:18:39.126Z"
   },
   {
    "duration": 6,
    "start_time": "2021-12-11T21:18:39.176Z"
   },
   {
    "duration": 12,
    "start_time": "2021-12-11T21:18:39.185Z"
   },
   {
    "duration": 200,
    "start_time": "2021-12-11T21:18:39.199Z"
   },
   {
    "duration": 129,
    "start_time": "2021-12-11T21:18:39.401Z"
   },
   {
    "duration": 107,
    "start_time": "2021-12-11T21:18:39.533Z"
   },
   {
    "duration": 47,
    "start_time": "2021-12-11T21:18:39.642Z"
   },
   {
    "duration": 123,
    "start_time": "2021-12-11T21:18:39.691Z"
   },
   {
    "duration": 114,
    "start_time": "2021-12-11T21:18:39.817Z"
   },
   {
    "duration": 116,
    "start_time": "2021-12-11T21:18:39.933Z"
   },
   {
    "duration": 218,
    "start_time": "2021-12-11T21:18:40.052Z"
   },
   {
    "duration": 461,
    "start_time": "2021-12-11T21:24:53.679Z"
   },
   {
    "duration": 225,
    "start_time": "2021-12-11T21:25:06.871Z"
   },
   {
    "duration": 237,
    "start_time": "2021-12-11T21:27:33.343Z"
   },
   {
    "duration": 460,
    "start_time": "2021-12-11T21:29:01.375Z"
   },
   {
    "duration": 371,
    "start_time": "2021-12-11T21:29:20.212Z"
   },
   {
    "duration": 3,
    "start_time": "2021-12-11T21:29:23.671Z"
   },
   {
    "duration": 555,
    "start_time": "2021-12-11T21:29:23.685Z"
   },
   {
    "duration": 15,
    "start_time": "2021-12-11T21:29:24.243Z"
   },
   {
    "duration": 71,
    "start_time": "2021-12-11T21:29:24.261Z"
   },
   {
    "duration": 150,
    "start_time": "2021-12-11T21:29:24.335Z"
   },
   {
    "duration": 5,
    "start_time": "2021-12-11T21:29:24.488Z"
   },
   {
    "duration": 18,
    "start_time": "2021-12-11T21:29:24.495Z"
   },
   {
    "duration": 16,
    "start_time": "2021-12-11T21:29:24.516Z"
   },
   {
    "duration": 41,
    "start_time": "2021-12-11T21:29:24.534Z"
   },
   {
    "duration": 205,
    "start_time": "2021-12-11T21:29:24.579Z"
   },
   {
    "duration": 129,
    "start_time": "2021-12-11T21:29:24.787Z"
   },
   {
    "duration": 108,
    "start_time": "2021-12-11T21:29:24.919Z"
   },
   {
    "duration": 53,
    "start_time": "2021-12-11T21:29:25.030Z"
   },
   {
    "duration": 141,
    "start_time": "2021-12-11T21:29:25.086Z"
   },
   {
    "duration": 189,
    "start_time": "2021-12-11T21:29:25.230Z"
   },
   {
    "duration": 124,
    "start_time": "2021-12-11T21:29:25.422Z"
   },
   {
    "duration": 247,
    "start_time": "2021-12-11T21:29:25.549Z"
   },
   {
    "duration": 3,
    "start_time": "2021-12-11T21:30:09.403Z"
   },
   {
    "duration": 526,
    "start_time": "2021-12-11T21:30:09.413Z"
   },
   {
    "duration": 19,
    "start_time": "2021-12-11T21:30:09.943Z"
   },
   {
    "duration": 67,
    "start_time": "2021-12-11T21:30:09.966Z"
   },
   {
    "duration": 156,
    "start_time": "2021-12-11T21:30:10.036Z"
   },
   {
    "duration": 6,
    "start_time": "2021-12-11T21:30:10.195Z"
   },
   {
    "duration": 20,
    "start_time": "2021-12-11T21:30:10.204Z"
   },
   {
    "duration": 44,
    "start_time": "2021-12-11T21:30:10.226Z"
   },
   {
    "duration": 10,
    "start_time": "2021-12-11T21:30:10.273Z"
   },
   {
    "duration": 192,
    "start_time": "2021-12-11T21:30:10.287Z"
   },
   {
    "duration": 122,
    "start_time": "2021-12-11T21:30:10.482Z"
   },
   {
    "duration": 106,
    "start_time": "2021-12-11T21:30:10.607Z"
   },
   {
    "duration": 31,
    "start_time": "2021-12-11T21:30:10.715Z"
   },
   {
    "duration": 128,
    "start_time": "2021-12-11T21:30:10.749Z"
   },
   {
    "duration": 116,
    "start_time": "2021-12-11T21:30:10.880Z"
   },
   {
    "duration": 114,
    "start_time": "2021-12-11T21:30:10.998Z"
   },
   {
    "duration": 247,
    "start_time": "2021-12-11T21:30:11.114Z"
   },
   {
    "duration": 398,
    "start_time": "2021-12-11T21:30:53.312Z"
   },
   {
    "duration": 3,
    "start_time": "2021-12-11T21:30:56.571Z"
   },
   {
    "duration": 542,
    "start_time": "2021-12-11T21:30:56.577Z"
   },
   {
    "duration": 23,
    "start_time": "2021-12-11T21:30:57.122Z"
   },
   {
    "duration": 80,
    "start_time": "2021-12-11T21:30:57.148Z"
   },
   {
    "duration": 146,
    "start_time": "2021-12-11T21:30:57.230Z"
   },
   {
    "duration": 4,
    "start_time": "2021-12-11T21:30:57.378Z"
   },
   {
    "duration": 36,
    "start_time": "2021-12-11T21:30:57.384Z"
   },
   {
    "duration": 21,
    "start_time": "2021-12-11T21:30:57.424Z"
   },
   {
    "duration": 23,
    "start_time": "2021-12-11T21:30:57.448Z"
   },
   {
    "duration": 193,
    "start_time": "2021-12-11T21:30:57.473Z"
   },
   {
    "duration": 118,
    "start_time": "2021-12-11T21:30:57.668Z"
   },
   {
    "duration": 387,
    "start_time": "2021-12-11T21:30:57.788Z"
   },
   {
    "duration": -965,
    "start_time": "2021-12-11T21:30:59.142Z"
   },
   {
    "duration": -1007,
    "start_time": "2021-12-11T21:30:59.185Z"
   },
   {
    "duration": -1008,
    "start_time": "2021-12-11T21:30:59.188Z"
   },
   {
    "duration": -1009,
    "start_time": "2021-12-11T21:30:59.190Z"
   },
   {
    "duration": -1008,
    "start_time": "2021-12-11T21:30:59.191Z"
   },
   {
    "duration": 381,
    "start_time": "2021-12-11T21:31:07.119Z"
   },
   {
    "duration": 4,
    "start_time": "2021-12-11T21:31:10.150Z"
   },
   {
    "duration": 571,
    "start_time": "2021-12-11T21:31:10.158Z"
   },
   {
    "duration": 21,
    "start_time": "2021-12-11T21:31:10.733Z"
   },
   {
    "duration": 119,
    "start_time": "2021-12-11T21:31:10.757Z"
   },
   {
    "duration": 188,
    "start_time": "2021-12-11T21:31:10.879Z"
   },
   {
    "duration": 5,
    "start_time": "2021-12-11T21:31:11.070Z"
   },
   {
    "duration": 25,
    "start_time": "2021-12-11T21:31:11.077Z"
   },
   {
    "duration": 13,
    "start_time": "2021-12-11T21:31:11.104Z"
   },
   {
    "duration": 33,
    "start_time": "2021-12-11T21:31:11.120Z"
   },
   {
    "duration": 182,
    "start_time": "2021-12-11T21:31:11.156Z"
   },
   {
    "duration": 132,
    "start_time": "2021-12-11T21:31:11.340Z"
   },
   {
    "duration": 107,
    "start_time": "2021-12-11T21:31:11.476Z"
   },
   {
    "duration": 34,
    "start_time": "2021-12-11T21:31:11.585Z"
   },
   {
    "duration": 131,
    "start_time": "2021-12-11T21:31:11.621Z"
   },
   {
    "duration": 137,
    "start_time": "2021-12-11T21:31:11.754Z"
   },
   {
    "duration": 118,
    "start_time": "2021-12-11T21:31:11.894Z"
   },
   {
    "duration": 254,
    "start_time": "2021-12-11T21:31:12.015Z"
   },
   {
    "duration": 385,
    "start_time": "2021-12-11T21:35:16.193Z"
   },
   {
    "duration": 4,
    "start_time": "2021-12-11T21:35:19.130Z"
   },
   {
    "duration": 562,
    "start_time": "2021-12-11T21:35:19.137Z"
   },
   {
    "duration": 24,
    "start_time": "2021-12-11T21:35:19.702Z"
   },
   {
    "duration": 80,
    "start_time": "2021-12-11T21:35:19.729Z"
   },
   {
    "duration": 126,
    "start_time": "2021-12-11T21:35:19.812Z"
   },
   {
    "duration": 5,
    "start_time": "2021-12-11T21:35:19.968Z"
   },
   {
    "duration": 16,
    "start_time": "2021-12-11T21:35:19.976Z"
   },
   {
    "duration": 7,
    "start_time": "2021-12-11T21:35:19.996Z"
   },
   {
    "duration": 19,
    "start_time": "2021-12-11T21:35:20.006Z"
   },
   {
    "duration": 218,
    "start_time": "2021-12-11T21:35:20.029Z"
   },
   {
    "duration": 118,
    "start_time": "2021-12-11T21:35:20.253Z"
   },
   {
    "duration": 395,
    "start_time": "2021-12-11T21:35:20.374Z"
   },
   {
    "duration": -988,
    "start_time": "2021-12-11T21:35:21.760Z"
   },
   {
    "duration": -988,
    "start_time": "2021-12-11T21:35:21.762Z"
   },
   {
    "duration": -1037,
    "start_time": "2021-12-11T21:35:21.812Z"
   },
   {
    "duration": -1039,
    "start_time": "2021-12-11T21:35:21.815Z"
   },
   {
    "duration": -1039,
    "start_time": "2021-12-11T21:35:21.817Z"
   },
   {
    "duration": 3,
    "start_time": "2021-12-11T21:35:39.983Z"
   },
   {
    "duration": 542,
    "start_time": "2021-12-11T21:35:39.998Z"
   },
   {
    "duration": 25,
    "start_time": "2021-12-11T21:35:40.543Z"
   },
   {
    "duration": 98,
    "start_time": "2021-12-11T21:35:40.571Z"
   },
   {
    "duration": 117,
    "start_time": "2021-12-11T21:35:40.671Z"
   },
   {
    "duration": 4,
    "start_time": "2021-12-11T21:35:40.790Z"
   },
   {
    "duration": 15,
    "start_time": "2021-12-11T21:35:40.797Z"
   },
   {
    "duration": 6,
    "start_time": "2021-12-11T21:35:40.815Z"
   },
   {
    "duration": 54,
    "start_time": "2021-12-11T21:35:40.824Z"
   },
   {
    "duration": 192,
    "start_time": "2021-12-11T21:35:40.882Z"
   },
   {
    "duration": 125,
    "start_time": "2021-12-11T21:35:41.076Z"
   },
   {
    "duration": 139,
    "start_time": "2021-12-11T21:35:41.203Z"
   },
   {
    "duration": 48,
    "start_time": "2021-12-11T21:35:41.345Z"
   },
   {
    "duration": 126,
    "start_time": "2021-12-11T21:35:41.396Z"
   },
   {
    "duration": 112,
    "start_time": "2021-12-11T21:35:41.525Z"
   },
   {
    "duration": 111,
    "start_time": "2021-12-11T21:35:41.639Z"
   },
   {
    "duration": 244,
    "start_time": "2021-12-11T21:35:41.752Z"
   },
   {
    "duration": 4,
    "start_time": "2021-12-11T21:37:20.462Z"
   },
   {
    "duration": 527,
    "start_time": "2021-12-11T21:37:20.478Z"
   },
   {
    "duration": 21,
    "start_time": "2021-12-11T21:37:21.008Z"
   },
   {
    "duration": 69,
    "start_time": "2021-12-11T21:37:21.032Z"
   },
   {
    "duration": 122,
    "start_time": "2021-12-11T21:37:21.104Z"
   },
   {
    "duration": 42,
    "start_time": "2021-12-11T21:37:21.228Z"
   },
   {
    "duration": 21,
    "start_time": "2021-12-11T21:37:21.273Z"
   },
   {
    "duration": 7,
    "start_time": "2021-12-11T21:37:21.297Z"
   },
   {
    "duration": 14,
    "start_time": "2021-12-11T21:37:21.306Z"
   },
   {
    "duration": 201,
    "start_time": "2021-12-11T21:37:21.324Z"
   },
   {
    "duration": 116,
    "start_time": "2021-12-11T21:37:21.528Z"
   },
   {
    "duration": 140,
    "start_time": "2021-12-11T21:37:21.646Z"
   },
   {
    "duration": 33,
    "start_time": "2021-12-11T21:37:21.788Z"
   },
   {
    "duration": 132,
    "start_time": "2021-12-11T21:37:21.824Z"
   },
   {
    "duration": 113,
    "start_time": "2021-12-11T21:37:21.959Z"
   },
   {
    "duration": 116,
    "start_time": "2021-12-11T21:37:22.074Z"
   },
   {
    "duration": 253,
    "start_time": "2021-12-11T21:37:22.193Z"
   },
   {
    "duration": 389,
    "start_time": "2021-12-11T21:37:52.271Z"
   },
   {
    "duration": 4,
    "start_time": "2021-12-11T21:37:55.333Z"
   },
   {
    "duration": 520,
    "start_time": "2021-12-11T21:37:55.340Z"
   },
   {
    "duration": 23,
    "start_time": "2021-12-11T21:37:55.863Z"
   },
   {
    "duration": 96,
    "start_time": "2021-12-11T21:37:55.889Z"
   },
   {
    "duration": 116,
    "start_time": "2021-12-11T21:37:55.987Z"
   },
   {
    "duration": 4,
    "start_time": "2021-12-11T21:37:56.106Z"
   },
   {
    "duration": 17,
    "start_time": "2021-12-11T21:37:56.113Z"
   },
   {
    "duration": 7,
    "start_time": "2021-12-11T21:37:56.167Z"
   },
   {
    "duration": 10,
    "start_time": "2021-12-11T21:37:56.176Z"
   },
   {
    "duration": 202,
    "start_time": "2021-12-11T21:37:56.189Z"
   },
   {
    "duration": 124,
    "start_time": "2021-12-11T21:37:56.394Z"
   },
   {
    "duration": 118,
    "start_time": "2021-12-11T21:37:56.521Z"
   },
   {
    "duration": 47,
    "start_time": "2021-12-11T21:37:56.642Z"
   },
   {
    "duration": 131,
    "start_time": "2021-12-11T21:37:56.691Z"
   },
   {
    "duration": 112,
    "start_time": "2021-12-11T21:37:56.824Z"
   },
   {
    "duration": 115,
    "start_time": "2021-12-11T21:37:56.939Z"
   },
   {
    "duration": 247,
    "start_time": "2021-12-11T21:37:57.056Z"
   },
   {
    "duration": 4,
    "start_time": "2021-12-11T21:38:37.363Z"
   },
   {
    "duration": 552,
    "start_time": "2021-12-11T21:38:37.370Z"
   },
   {
    "duration": 20,
    "start_time": "2021-12-11T21:38:37.925Z"
   },
   {
    "duration": 68,
    "start_time": "2021-12-11T21:38:37.948Z"
   },
   {
    "duration": 152,
    "start_time": "2021-12-11T21:38:38.019Z"
   },
   {
    "duration": 5,
    "start_time": "2021-12-11T21:38:38.173Z"
   },
   {
    "duration": 24,
    "start_time": "2021-12-11T21:38:38.181Z"
   },
   {
    "duration": 6,
    "start_time": "2021-12-11T21:38:38.208Z"
   },
   {
    "duration": 10,
    "start_time": "2021-12-11T21:38:38.219Z"
   },
   {
    "duration": 206,
    "start_time": "2021-12-11T21:38:38.231Z"
   },
   {
    "duration": 128,
    "start_time": "2021-12-11T21:38:38.440Z"
   },
   {
    "duration": 126,
    "start_time": "2021-12-11T21:38:38.570Z"
   },
   {
    "duration": 32,
    "start_time": "2021-12-11T21:38:38.699Z"
   },
   {
    "duration": 127,
    "start_time": "2021-12-11T21:38:38.733Z"
   },
   {
    "duration": 115,
    "start_time": "2021-12-11T21:38:38.866Z"
   },
   {
    "duration": 111,
    "start_time": "2021-12-11T21:38:38.983Z"
   },
   {
    "duration": 344,
    "start_time": "2021-12-11T21:38:39.097Z"
   },
   {
    "duration": 5,
    "start_time": "2021-12-11T21:38:54.599Z"
   },
   {
    "duration": 539,
    "start_time": "2021-12-11T21:38:54.608Z"
   },
   {
    "duration": 19,
    "start_time": "2021-12-11T21:38:55.151Z"
   },
   {
    "duration": 96,
    "start_time": "2021-12-11T21:38:55.173Z"
   },
   {
    "duration": 116,
    "start_time": "2021-12-11T21:38:55.271Z"
   },
   {
    "duration": 4,
    "start_time": "2021-12-11T21:38:55.390Z"
   },
   {
    "duration": 36,
    "start_time": "2021-12-11T21:38:55.396Z"
   },
   {
    "duration": 9,
    "start_time": "2021-12-11T21:38:55.435Z"
   },
   {
    "duration": 26,
    "start_time": "2021-12-11T21:38:55.447Z"
   },
   {
    "duration": 192,
    "start_time": "2021-12-11T21:38:55.476Z"
   },
   {
    "duration": 119,
    "start_time": "2021-12-11T21:38:55.671Z"
   },
   {
    "duration": 126,
    "start_time": "2021-12-11T21:38:55.792Z"
   },
   {
    "duration": 47,
    "start_time": "2021-12-11T21:38:55.920Z"
   },
   {
    "duration": 131,
    "start_time": "2021-12-11T21:38:55.970Z"
   },
   {
    "duration": 116,
    "start_time": "2021-12-11T21:38:56.104Z"
   },
   {
    "duration": 110,
    "start_time": "2021-12-11T21:38:56.223Z"
   },
   {
    "duration": 242,
    "start_time": "2021-12-11T21:38:56.335Z"
   },
   {
    "duration": 404,
    "start_time": "2021-12-11T21:39:48.971Z"
   },
   {
    "duration": 3,
    "start_time": "2021-12-11T21:39:53.092Z"
   },
   {
    "duration": 539,
    "start_time": "2021-12-11T21:39:53.098Z"
   },
   {
    "duration": 20,
    "start_time": "2021-12-11T21:39:53.640Z"
   },
   {
    "duration": 68,
    "start_time": "2021-12-11T21:39:53.663Z"
   },
   {
    "duration": 142,
    "start_time": "2021-12-11T21:39:53.733Z"
   },
   {
    "duration": 5,
    "start_time": "2021-12-11T21:39:53.877Z"
   },
   {
    "duration": 14,
    "start_time": "2021-12-11T21:39:53.884Z"
   },
   {
    "duration": 7,
    "start_time": "2021-12-11T21:39:53.900Z"
   },
   {
    "duration": 8,
    "start_time": "2021-12-11T21:39:53.911Z"
   },
   {
    "duration": 225,
    "start_time": "2021-12-11T21:39:53.922Z"
   },
   {
    "duration": 125,
    "start_time": "2021-12-11T21:39:54.150Z"
   },
   {
    "duration": 126,
    "start_time": "2021-12-11T21:39:54.277Z"
   },
   {
    "duration": 34,
    "start_time": "2021-12-11T21:39:54.406Z"
   },
   {
    "duration": 132,
    "start_time": "2021-12-11T21:39:54.443Z"
   },
   {
    "duration": 110,
    "start_time": "2021-12-11T21:39:54.578Z"
   },
   {
    "duration": 114,
    "start_time": "2021-12-11T21:39:54.691Z"
   },
   {
    "duration": 362,
    "start_time": "2021-12-11T21:39:54.808Z"
   },
   {
    "duration": 4,
    "start_time": "2021-12-11T21:40:30.412Z"
   },
   {
    "duration": 527,
    "start_time": "2021-12-11T21:40:30.419Z"
   },
   {
    "duration": 20,
    "start_time": "2021-12-11T21:40:30.949Z"
   },
   {
    "duration": 97,
    "start_time": "2021-12-11T21:40:30.972Z"
   },
   {
    "duration": 118,
    "start_time": "2021-12-11T21:40:31.071Z"
   },
   {
    "duration": 4,
    "start_time": "2021-12-11T21:40:31.192Z"
   },
   {
    "duration": 45,
    "start_time": "2021-12-11T21:40:31.199Z"
   },
   {
    "duration": 31,
    "start_time": "2021-12-11T21:40:31.246Z"
   },
   {
    "duration": 24,
    "start_time": "2021-12-11T21:40:31.281Z"
   },
   {
    "duration": 188,
    "start_time": "2021-12-11T21:40:31.308Z"
   },
   {
    "duration": 141,
    "start_time": "2021-12-11T21:40:31.499Z"
   },
   {
    "duration": 137,
    "start_time": "2021-12-11T21:40:31.643Z"
   },
   {
    "duration": 31,
    "start_time": "2021-12-11T21:40:31.783Z"
   },
   {
    "duration": 124,
    "start_time": "2021-12-11T21:40:31.817Z"
   },
   {
    "duration": 112,
    "start_time": "2021-12-11T21:40:31.943Z"
   },
   {
    "duration": 117,
    "start_time": "2021-12-11T21:40:32.058Z"
   },
   {
    "duration": 237,
    "start_time": "2021-12-11T21:40:32.178Z"
   },
   {
    "duration": 36,
    "start_time": "2021-12-11T21:43:25.412Z"
   },
   {
    "duration": 4,
    "start_time": "2021-12-11T21:43:30.042Z"
   },
   {
    "duration": 537,
    "start_time": "2021-12-11T21:43:30.055Z"
   },
   {
    "duration": 20,
    "start_time": "2021-12-11T21:43:30.595Z"
   },
   {
    "duration": 80,
    "start_time": "2021-12-11T21:43:30.618Z"
   },
   {
    "duration": 119,
    "start_time": "2021-12-11T21:43:30.701Z"
   },
   {
    "duration": 5,
    "start_time": "2021-12-11T21:43:30.823Z"
   },
   {
    "duration": 45,
    "start_time": "2021-12-11T21:43:30.831Z"
   },
   {
    "duration": 7,
    "start_time": "2021-12-11T21:43:30.879Z"
   },
   {
    "duration": 12,
    "start_time": "2021-12-11T21:43:30.890Z"
   },
   {
    "duration": 205,
    "start_time": "2021-12-11T21:43:30.905Z"
   },
   {
    "duration": 121,
    "start_time": "2021-12-11T21:43:31.112Z"
   },
   {
    "duration": 142,
    "start_time": "2021-12-11T21:43:31.236Z"
   },
   {
    "duration": 34,
    "start_time": "2021-12-11T21:43:31.381Z"
   },
   {
    "duration": 130,
    "start_time": "2021-12-11T21:43:31.418Z"
   },
   {
    "duration": 120,
    "start_time": "2021-12-11T21:43:31.551Z"
   },
   {
    "duration": 122,
    "start_time": "2021-12-11T21:43:31.674Z"
   },
   {
    "duration": 246,
    "start_time": "2021-12-11T21:43:31.799Z"
   },
   {
    "duration": 4,
    "start_time": "2021-12-11T21:45:02.237Z"
   },
   {
    "duration": 551,
    "start_time": "2021-12-11T21:45:02.244Z"
   },
   {
    "duration": 21,
    "start_time": "2021-12-11T21:45:02.799Z"
   },
   {
    "duration": 82,
    "start_time": "2021-12-11T21:45:02.823Z"
   },
   {
    "duration": 161,
    "start_time": "2021-12-11T21:45:02.908Z"
   },
   {
    "duration": 6,
    "start_time": "2021-12-11T21:45:03.073Z"
   },
   {
    "duration": 37,
    "start_time": "2021-12-11T21:45:03.082Z"
   },
   {
    "duration": 12,
    "start_time": "2021-12-11T21:45:03.122Z"
   },
   {
    "duration": 32,
    "start_time": "2021-12-11T21:45:03.139Z"
   },
   {
    "duration": 194,
    "start_time": "2021-12-11T21:45:03.174Z"
   },
   {
    "duration": 128,
    "start_time": "2021-12-11T21:45:03.371Z"
   },
   {
    "duration": 133,
    "start_time": "2021-12-11T21:45:03.502Z"
   },
   {
    "duration": 46,
    "start_time": "2021-12-11T21:45:03.638Z"
   },
   {
    "duration": 114,
    "start_time": "2021-12-11T21:45:03.688Z"
   },
   {
    "duration": 113,
    "start_time": "2021-12-11T21:45:03.805Z"
   },
   {
    "duration": 118,
    "start_time": "2021-12-11T21:45:03.920Z"
   },
   {
    "duration": 249,
    "start_time": "2021-12-11T21:45:04.041Z"
   },
   {
    "duration": 3,
    "start_time": "2021-12-11T21:48:58.243Z"
   },
   {
    "duration": 535,
    "start_time": "2021-12-11T21:48:58.259Z"
   },
   {
    "duration": 24,
    "start_time": "2021-12-11T21:48:58.797Z"
   },
   {
    "duration": 72,
    "start_time": "2021-12-11T21:48:58.824Z"
   },
   {
    "duration": 119,
    "start_time": "2021-12-11T21:48:58.899Z"
   },
   {
    "duration": 5,
    "start_time": "2021-12-11T21:48:59.020Z"
   },
   {
    "duration": 11,
    "start_time": "2021-12-11T21:48:59.067Z"
   },
   {
    "duration": 25,
    "start_time": "2021-12-11T21:48:59.081Z"
   },
   {
    "duration": 21,
    "start_time": "2021-12-11T21:48:59.108Z"
   },
   {
    "duration": 185,
    "start_time": "2021-12-11T21:48:59.133Z"
   },
   {
    "duration": 115,
    "start_time": "2021-12-11T21:48:59.321Z"
   },
   {
    "duration": 134,
    "start_time": "2021-12-11T21:48:59.439Z"
   },
   {
    "duration": 35,
    "start_time": "2021-12-11T21:48:59.575Z"
   },
   {
    "duration": 124,
    "start_time": "2021-12-11T21:48:59.612Z"
   },
   {
    "duration": 112,
    "start_time": "2021-12-11T21:48:59.739Z"
   },
   {
    "duration": 113,
    "start_time": "2021-12-11T21:48:59.854Z"
   },
   {
    "duration": 254,
    "start_time": "2021-12-11T21:48:59.970Z"
   },
   {
    "duration": 4,
    "start_time": "2021-12-11T22:05:17.490Z"
   },
   {
    "duration": 543,
    "start_time": "2021-12-11T22:05:17.497Z"
   },
   {
    "duration": 24,
    "start_time": "2021-12-11T22:05:18.043Z"
   },
   {
    "duration": 68,
    "start_time": "2021-12-11T22:05:18.070Z"
   },
   {
    "duration": 119,
    "start_time": "2021-12-11T22:05:18.167Z"
   },
   {
    "duration": 4,
    "start_time": "2021-12-11T22:05:18.289Z"
   },
   {
    "duration": 39,
    "start_time": "2021-12-11T22:05:18.295Z"
   },
   {
    "duration": 17,
    "start_time": "2021-12-11T22:05:18.338Z"
   },
   {
    "duration": 14,
    "start_time": "2021-12-11T22:05:18.358Z"
   },
   {
    "duration": 175,
    "start_time": "2021-12-11T22:05:18.374Z"
   },
   {
    "duration": 97,
    "start_time": "2021-12-11T22:05:18.552Z"
   },
   {
    "duration": 116,
    "start_time": "2021-12-11T22:05:18.651Z"
   },
   {
    "duration": 31,
    "start_time": "2021-12-11T22:05:18.769Z"
   },
   {
    "duration": 124,
    "start_time": "2021-12-11T22:05:18.802Z"
   },
   {
    "duration": 112,
    "start_time": "2021-12-11T22:05:18.928Z"
   },
   {
    "duration": 112,
    "start_time": "2021-12-11T22:05:19.043Z"
   },
   {
    "duration": 181,
    "start_time": "2021-12-11T22:05:19.158Z"
   },
   {
    "duration": 174,
    "start_time": "2021-12-11T22:06:12.071Z"
   },
   {
    "duration": 184,
    "start_time": "2021-12-11T22:06:18.430Z"
   },
   {
    "duration": 179,
    "start_time": "2021-12-11T22:06:26.711Z"
   },
   {
    "duration": 180,
    "start_time": "2021-12-11T22:06:44.811Z"
   },
   {
    "duration": 195,
    "start_time": "2021-12-11T22:07:39.472Z"
   },
   {
    "duration": 308,
    "start_time": "2021-12-11T22:11:47.090Z"
   },
   {
    "duration": 8,
    "start_time": "2021-12-11T22:11:54.050Z"
   },
   {
    "duration": 65,
    "start_time": "2021-12-11T22:11:56.451Z"
   },
   {
    "duration": 63,
    "start_time": "2021-12-11T22:12:10.702Z"
   },
   {
    "duration": 64,
    "start_time": "2021-12-11T22:13:12.930Z"
   },
   {
    "duration": 4,
    "start_time": "2021-12-11T22:16:58.470Z"
   },
   {
    "duration": 8575,
    "start_time": "2021-12-11T22:33:29.817Z"
   },
   {
    "duration": 165,
    "start_time": "2021-12-11T22:34:21.473Z"
   },
   {
    "duration": 165,
    "start_time": "2021-12-11T22:36:56.861Z"
   },
   {
    "duration": 116,
    "start_time": "2021-12-11T22:37:10.860Z"
   },
   {
    "duration": 80,
    "start_time": "2021-12-11T22:37:16.312Z"
   },
   {
    "duration": 4,
    "start_time": "2021-12-11T22:38:37.802Z"
   },
   {
    "duration": 7,
    "start_time": "2021-12-11T23:31:50.753Z"
   },
   {
    "duration": 406,
    "start_time": "2021-12-12T07:02:09.780Z"
   },
   {
    "duration": 773,
    "start_time": "2021-12-12T07:02:19.317Z"
   },
   {
    "duration": 537,
    "start_time": "2021-12-12T07:02:20.093Z"
   },
   {
    "duration": 23,
    "start_time": "2021-12-12T07:02:20.634Z"
   },
   {
    "duration": 98,
    "start_time": "2021-12-12T07:02:20.659Z"
   },
   {
    "duration": 122,
    "start_time": "2021-12-12T07:02:20.759Z"
   },
   {
    "duration": 4,
    "start_time": "2021-12-12T07:02:20.918Z"
   },
   {
    "duration": 19,
    "start_time": "2021-12-12T07:02:20.924Z"
   },
   {
    "duration": 9,
    "start_time": "2021-12-12T07:02:20.945Z"
   },
   {
    "duration": 8,
    "start_time": "2021-12-12T07:02:20.958Z"
   },
   {
    "duration": 215,
    "start_time": "2021-12-12T07:02:20.969Z"
   },
   {
    "duration": 100,
    "start_time": "2021-12-12T07:02:21.186Z"
   },
   {
    "duration": 106,
    "start_time": "2021-12-12T07:02:21.290Z"
   },
   {
    "duration": 42,
    "start_time": "2021-12-12T07:02:21.398Z"
   },
   {
    "duration": 112,
    "start_time": "2021-12-12T07:02:21.442Z"
   },
   {
    "duration": 107,
    "start_time": "2021-12-12T07:02:21.557Z"
   },
   {
    "duration": 109,
    "start_time": "2021-12-12T07:02:21.666Z"
   },
   {
    "duration": 187,
    "start_time": "2021-12-12T07:02:21.777Z"
   },
   {
    "duration": 6,
    "start_time": "2021-12-12T07:02:21.966Z"
   },
   {
    "duration": 78,
    "start_time": "2021-12-12T07:02:21.975Z"
   },
   {
    "duration": 71,
    "start_time": "2021-12-12T07:02:22.055Z"
   },
   {
    "duration": 96,
    "start_time": "2021-12-12T07:02:22.129Z"
   },
   {
    "duration": 101,
    "start_time": "2021-12-12T07:02:22.227Z"
   },
   {
    "duration": 6,
    "start_time": "2021-12-12T07:02:22.330Z"
   },
   {
    "duration": 832,
    "start_time": "2021-12-13T08:03:32.119Z"
   },
   {
    "duration": 508,
    "start_time": "2021-12-13T08:03:32.954Z"
   },
   {
    "duration": 23,
    "start_time": "2021-12-13T08:03:33.466Z"
   },
   {
    "duration": 78,
    "start_time": "2021-12-13T08:03:33.492Z"
   },
   {
    "duration": 152,
    "start_time": "2021-12-13T08:03:33.573Z"
   },
   {
    "duration": 4,
    "start_time": "2021-12-13T08:03:33.728Z"
   },
   {
    "duration": 24,
    "start_time": "2021-12-13T08:03:33.734Z"
   },
   {
    "duration": 26,
    "start_time": "2021-12-13T08:03:33.760Z"
   },
   {
    "duration": 15,
    "start_time": "2021-12-13T08:03:33.790Z"
   },
   {
    "duration": 188,
    "start_time": "2021-12-13T08:03:33.807Z"
   },
   {
    "duration": 93,
    "start_time": "2021-12-13T08:03:33.998Z"
   },
   {
    "duration": 100,
    "start_time": "2021-12-13T08:03:34.094Z"
   },
   {
    "duration": 44,
    "start_time": "2021-12-13T08:03:34.196Z"
   },
   {
    "duration": 102,
    "start_time": "2021-12-13T08:03:34.243Z"
   },
   {
    "duration": 106,
    "start_time": "2021-12-13T08:03:34.348Z"
   },
   {
    "duration": 102,
    "start_time": "2021-12-13T08:03:34.456Z"
   },
   {
    "duration": 185,
    "start_time": "2021-12-13T08:03:34.560Z"
   },
   {
    "duration": 7,
    "start_time": "2021-12-13T08:03:34.747Z"
   },
   {
    "duration": 80,
    "start_time": "2021-12-13T08:03:34.756Z"
   },
   {
    "duration": 58,
    "start_time": "2021-12-13T08:03:34.838Z"
   },
   {
    "duration": 102,
    "start_time": "2021-12-13T08:03:34.899Z"
   },
   {
    "duration": 130,
    "start_time": "2021-12-13T08:03:35.004Z"
   },
   {
    "duration": 6,
    "start_time": "2021-12-13T08:03:35.136Z"
   },
   {
    "duration": 3,
    "start_time": "2021-12-13T08:08:20.968Z"
   },
   {
    "duration": 526,
    "start_time": "2021-12-13T08:08:20.973Z"
   },
   {
    "duration": 21,
    "start_time": "2021-12-13T08:08:21.502Z"
   },
   {
    "duration": 60,
    "start_time": "2021-12-13T08:08:21.526Z"
   },
   {
    "duration": 141,
    "start_time": "2021-12-13T08:08:21.588Z"
   },
   {
    "duration": 4,
    "start_time": "2021-12-13T08:08:21.731Z"
   },
   {
    "duration": 16,
    "start_time": "2021-12-13T08:08:21.739Z"
   },
   {
    "duration": 9,
    "start_time": "2021-12-13T08:08:21.758Z"
   },
   {
    "duration": 10,
    "start_time": "2021-12-13T08:08:21.769Z"
   },
   {
    "duration": 194,
    "start_time": "2021-12-13T08:08:21.781Z"
   },
   {
    "duration": 100,
    "start_time": "2021-12-13T08:08:21.977Z"
   },
   {
    "duration": 94,
    "start_time": "2021-12-13T08:08:22.079Z"
   },
   {
    "duration": 24,
    "start_time": "2021-12-13T08:08:22.175Z"
   },
   {
    "duration": 104,
    "start_time": "2021-12-13T08:08:22.201Z"
   },
   {
    "duration": 107,
    "start_time": "2021-12-13T08:08:22.308Z"
   },
   {
    "duration": 105,
    "start_time": "2021-12-13T08:08:22.424Z"
   },
   {
    "duration": 188,
    "start_time": "2021-12-13T08:08:22.532Z"
   },
   {
    "duration": 6,
    "start_time": "2021-12-13T08:08:22.723Z"
   },
   {
    "duration": 79,
    "start_time": "2021-12-13T08:08:22.733Z"
   },
   {
    "duration": 56,
    "start_time": "2021-12-13T08:08:22.815Z"
   },
   {
    "duration": 91,
    "start_time": "2021-12-13T08:08:22.874Z"
   },
   {
    "duration": 95,
    "start_time": "2021-12-13T08:08:22.968Z"
   },
   {
    "duration": 3,
    "start_time": "2021-12-13T08:08:23.065Z"
   },
   {
    "duration": 13,
    "start_time": "2021-12-13T08:08:23.070Z"
   },
   {
    "duration": 322,
    "start_time": "2021-12-13T08:15:49.551Z"
   },
   {
    "duration": 689,
    "start_time": "2021-12-13T08:17:09.572Z"
   },
   {
    "duration": 4,
    "start_time": "2021-12-13T08:17:33.188Z"
   },
   {
    "duration": 487,
    "start_time": "2021-12-13T08:17:33.203Z"
   },
   {
    "duration": 25,
    "start_time": "2021-12-13T08:17:33.693Z"
   },
   {
    "duration": 60,
    "start_time": "2021-12-13T08:17:33.721Z"
   },
   {
    "duration": 145,
    "start_time": "2021-12-13T08:17:33.784Z"
   },
   {
    "duration": 4,
    "start_time": "2021-12-13T08:17:33.931Z"
   },
   {
    "duration": 15,
    "start_time": "2021-12-13T08:17:33.937Z"
   },
   {
    "duration": 6,
    "start_time": "2021-12-13T08:17:33.954Z"
   },
   {
    "duration": 11,
    "start_time": "2021-12-13T08:17:33.962Z"
   },
   {
    "duration": 178,
    "start_time": "2021-12-13T08:17:33.977Z"
   },
   {
    "duration": 92,
    "start_time": "2021-12-13T08:17:34.158Z"
   },
   {
    "duration": 95,
    "start_time": "2021-12-13T08:17:34.252Z"
   },
   {
    "duration": 24,
    "start_time": "2021-12-13T08:17:34.349Z"
   },
   {
    "duration": 113,
    "start_time": "2021-12-13T08:17:34.376Z"
   },
   {
    "duration": 113,
    "start_time": "2021-12-13T08:17:34.491Z"
   },
   {
    "duration": 97,
    "start_time": "2021-12-13T08:17:34.607Z"
   },
   {
    "duration": 189,
    "start_time": "2021-12-13T08:17:34.707Z"
   },
   {
    "duration": 7,
    "start_time": "2021-12-13T08:17:34.899Z"
   },
   {
    "duration": 67,
    "start_time": "2021-12-13T08:17:34.908Z"
   },
   {
    "duration": 81,
    "start_time": "2021-12-13T08:17:34.977Z"
   },
   {
    "duration": 99,
    "start_time": "2021-12-13T08:17:35.060Z"
   },
   {
    "duration": 93,
    "start_time": "2021-12-13T08:17:35.162Z"
   },
   {
    "duration": 615,
    "start_time": "2021-12-13T08:17:35.257Z"
   },
   {
    "duration": 738,
    "start_time": "2021-12-13T08:17:35.137Z"
   },
   {
    "duration": 555,
    "start_time": "2021-12-13T08:18:22.011Z"
   },
   {
    "duration": 1949,
    "start_time": "2021-12-13T08:18:52.517Z"
   },
   {
    "duration": 406,
    "start_time": "2021-12-13T08:19:00.647Z"
   },
   {
    "duration": 546,
    "start_time": "2021-12-13T08:19:07.979Z"
   },
   {
    "duration": 532,
    "start_time": "2021-12-13T08:19:35.372Z"
   },
   {
    "duration": 557,
    "start_time": "2021-12-13T08:19:39.125Z"
   },
   {
    "duration": 528,
    "start_time": "2021-12-13T08:19:45.453Z"
   },
   {
    "duration": 608,
    "start_time": "2021-12-13T08:19:50.715Z"
   },
   {
    "duration": 594,
    "start_time": "2021-12-13T08:21:06.909Z"
   },
   {
    "duration": 295,
    "start_time": "2021-12-13T08:22:25.590Z"
   },
   {
    "duration": 306,
    "start_time": "2021-12-13T08:25:00.415Z"
   },
   {
    "duration": 725,
    "start_time": "2021-12-13T08:24:59.999Z"
   },
   {
    "duration": 718,
    "start_time": "2021-12-13T08:25:00.008Z"
   },
   {
    "duration": 706,
    "start_time": "2021-12-13T08:25:00.021Z"
   },
   {
    "duration": 705,
    "start_time": "2021-12-13T08:25:00.024Z"
   },
   {
    "duration": 703,
    "start_time": "2021-12-13T08:25:00.027Z"
   },
   {
    "duration": 700,
    "start_time": "2021-12-13T08:25:00.031Z"
   },
   {
    "duration": 694,
    "start_time": "2021-12-13T08:25:00.039Z"
   },
   {
    "duration": 694,
    "start_time": "2021-12-13T08:25:00.041Z"
   },
   {
    "duration": 692,
    "start_time": "2021-12-13T08:25:00.044Z"
   },
   {
    "duration": 688,
    "start_time": "2021-12-13T08:25:00.050Z"
   },
   {
    "duration": 685,
    "start_time": "2021-12-13T08:25:00.054Z"
   },
   {
    "duration": 683,
    "start_time": "2021-12-13T08:25:00.057Z"
   },
   {
    "duration": 682,
    "start_time": "2021-12-13T08:25:00.060Z"
   },
   {
    "duration": 674,
    "start_time": "2021-12-13T08:25:00.069Z"
   },
   {
    "duration": 672,
    "start_time": "2021-12-13T08:25:00.072Z"
   },
   {
    "duration": 671,
    "start_time": "2021-12-13T08:25:00.075Z"
   },
   {
    "duration": 670,
    "start_time": "2021-12-13T08:25:00.078Z"
   },
   {
    "duration": 659,
    "start_time": "2021-12-13T08:25:00.090Z"
   },
   {
    "duration": 658,
    "start_time": "2021-12-13T08:25:00.093Z"
   },
   {
    "duration": 654,
    "start_time": "2021-12-13T08:25:00.098Z"
   },
   {
    "duration": 651,
    "start_time": "2021-12-13T08:25:00.103Z"
   },
   {
    "duration": 650,
    "start_time": "2021-12-13T08:25:00.105Z"
   },
   {
    "duration": 649,
    "start_time": "2021-12-13T08:25:00.107Z"
   },
   {
    "duration": 287,
    "start_time": "2021-12-13T08:25:08.640Z"
   },
   {
    "duration": 739,
    "start_time": "2021-12-13T08:25:08.192Z"
   },
   {
    "duration": 722,
    "start_time": "2021-12-13T08:25:08.210Z"
   },
   {
    "duration": 719,
    "start_time": "2021-12-13T08:25:08.215Z"
   },
   {
    "duration": 693,
    "start_time": "2021-12-13T08:25:08.243Z"
   },
   {
    "duration": 691,
    "start_time": "2021-12-13T08:25:08.246Z"
   },
   {
    "duration": 685,
    "start_time": "2021-12-13T08:25:08.254Z"
   },
   {
    "duration": 684,
    "start_time": "2021-12-13T08:25:08.256Z"
   },
   {
    "duration": 682,
    "start_time": "2021-12-13T08:25:08.259Z"
   },
   {
    "duration": 680,
    "start_time": "2021-12-13T08:25:08.262Z"
   },
   {
    "duration": 680,
    "start_time": "2021-12-13T08:25:08.264Z"
   },
   {
    "duration": 677,
    "start_time": "2021-12-13T08:25:08.268Z"
   },
   {
    "duration": 677,
    "start_time": "2021-12-13T08:25:08.270Z"
   },
   {
    "duration": 676,
    "start_time": "2021-12-13T08:25:08.272Z"
   },
   {
    "duration": 676,
    "start_time": "2021-12-13T08:25:08.274Z"
   },
   {
    "duration": 675,
    "start_time": "2021-12-13T08:25:08.276Z"
   },
   {
    "duration": 666,
    "start_time": "2021-12-13T08:25:08.286Z"
   },
   {
    "duration": 662,
    "start_time": "2021-12-13T08:25:08.292Z"
   },
   {
    "duration": 660,
    "start_time": "2021-12-13T08:25:08.295Z"
   },
   {
    "duration": 657,
    "start_time": "2021-12-13T08:25:08.299Z"
   },
   {
    "duration": 657,
    "start_time": "2021-12-13T08:25:08.301Z"
   },
   {
    "duration": 655,
    "start_time": "2021-12-13T08:25:08.304Z"
   },
   {
    "duration": 652,
    "start_time": "2021-12-13T08:25:08.308Z"
   },
   {
    "duration": 652,
    "start_time": "2021-12-13T08:25:08.310Z"
   },
   {
    "duration": 280,
    "start_time": "2021-12-13T08:25:33.508Z"
   },
   {
    "duration": 731,
    "start_time": "2021-12-13T08:25:33.060Z"
   },
   {
    "duration": 728,
    "start_time": "2021-12-13T08:25:33.064Z"
   },
   {
    "duration": 728,
    "start_time": "2021-12-13T08:25:33.066Z"
   },
   {
    "duration": 707,
    "start_time": "2021-12-13T08:25:33.088Z"
   },
   {
    "duration": 705,
    "start_time": "2021-12-13T08:25:33.091Z"
   },
   {
    "duration": 704,
    "start_time": "2021-12-13T08:25:33.094Z"
   },
   {
    "duration": 698,
    "start_time": "2021-12-13T08:25:33.102Z"
   },
   {
    "duration": 696,
    "start_time": "2021-12-13T08:25:33.105Z"
   },
   {
    "duration": 695,
    "start_time": "2021-12-13T08:25:33.107Z"
   },
   {
    "duration": 694,
    "start_time": "2021-12-13T08:25:33.110Z"
   },
   {
    "duration": 693,
    "start_time": "2021-12-13T08:25:33.112Z"
   },
   {
    "duration": 690,
    "start_time": "2021-12-13T08:25:33.116Z"
   },
   {
    "duration": 689,
    "start_time": "2021-12-13T08:25:33.118Z"
   },
   {
    "duration": 687,
    "start_time": "2021-12-13T08:25:33.121Z"
   },
   {
    "duration": 686,
    "start_time": "2021-12-13T08:25:33.124Z"
   },
   {
    "duration": 684,
    "start_time": "2021-12-13T08:25:33.127Z"
   },
   {
    "duration": 682,
    "start_time": "2021-12-13T08:25:33.130Z"
   },
   {
    "duration": 682,
    "start_time": "2021-12-13T08:25:33.132Z"
   },
   {
    "duration": 681,
    "start_time": "2021-12-13T08:25:33.134Z"
   },
   {
    "duration": 679,
    "start_time": "2021-12-13T08:25:33.137Z"
   },
   {
    "duration": 670,
    "start_time": "2021-12-13T08:25:33.147Z"
   },
   {
    "duration": 669,
    "start_time": "2021-12-13T08:25:33.150Z"
   },
   {
    "duration": 668,
    "start_time": "2021-12-13T08:25:33.152Z"
   },
   {
    "duration": 336,
    "start_time": "2021-12-13T08:25:47.062Z"
   },
   {
    "duration": 221,
    "start_time": "2021-12-13T08:25:47.180Z"
   },
   {
    "duration": 221,
    "start_time": "2021-12-13T08:25:47.182Z"
   },
   {
    "duration": 199,
    "start_time": "2021-12-13T08:25:47.205Z"
   },
   {
    "duration": 195,
    "start_time": "2021-12-13T08:25:47.211Z"
   },
   {
    "duration": 194,
    "start_time": "2021-12-13T08:25:47.213Z"
   },
   {
    "duration": 194,
    "start_time": "2021-12-13T08:25:47.215Z"
   },
   {
    "duration": 193,
    "start_time": "2021-12-13T08:25:47.217Z"
   },
   {
    "duration": 192,
    "start_time": "2021-12-13T08:25:47.220Z"
   },
   {
    "duration": 190,
    "start_time": "2021-12-13T08:25:47.223Z"
   },
   {
    "duration": 190,
    "start_time": "2021-12-13T08:25:47.225Z"
   },
   {
    "duration": 189,
    "start_time": "2021-12-13T08:25:47.228Z"
   },
   {
    "duration": 184,
    "start_time": "2021-12-13T08:25:47.235Z"
   },
   {
    "duration": 181,
    "start_time": "2021-12-13T08:25:47.239Z"
   },
   {
    "duration": 180,
    "start_time": "2021-12-13T08:25:47.241Z"
   },
   {
    "duration": 179,
    "start_time": "2021-12-13T08:25:47.244Z"
   },
   {
    "duration": 176,
    "start_time": "2021-12-13T08:25:47.249Z"
   },
   {
    "duration": 175,
    "start_time": "2021-12-13T08:25:47.252Z"
   },
   {
    "duration": 175,
    "start_time": "2021-12-13T08:25:47.254Z"
   },
   {
    "duration": 173,
    "start_time": "2021-12-13T08:25:47.257Z"
   },
   {
    "duration": 172,
    "start_time": "2021-12-13T08:25:47.259Z"
   },
   {
    "duration": 172,
    "start_time": "2021-12-13T08:25:47.261Z"
   },
   {
    "duration": 166,
    "start_time": "2021-12-13T08:25:47.268Z"
   },
   {
    "duration": 165,
    "start_time": "2021-12-13T08:25:47.271Z"
   },
   {
    "duration": 85,
    "start_time": "2021-12-13T08:25:55.762Z"
   },
   {
    "duration": 307,
    "start_time": "2021-12-13T08:26:00.361Z"
   },
   {
    "duration": 714,
    "start_time": "2021-12-13T08:25:59.958Z"
   },
   {
    "duration": 712,
    "start_time": "2021-12-13T08:25:59.961Z"
   },
   {
    "duration": 710,
    "start_time": "2021-12-13T08:25:59.965Z"
   },
   {
    "duration": 700,
    "start_time": "2021-12-13T08:25:59.976Z"
   },
   {
    "duration": 699,
    "start_time": "2021-12-13T08:25:59.979Z"
   },
   {
    "duration": 696,
    "start_time": "2021-12-13T08:25:59.983Z"
   },
   {
    "duration": 691,
    "start_time": "2021-12-13T08:25:59.990Z"
   },
   {
    "duration": 690,
    "start_time": "2021-12-13T08:25:59.992Z"
   },
   {
    "duration": 690,
    "start_time": "2021-12-13T08:25:59.994Z"
   },
   {
    "duration": 686,
    "start_time": "2021-12-13T08:25:59.999Z"
   },
   {
    "duration": 685,
    "start_time": "2021-12-13T08:26:00.002Z"
   },
   {
    "duration": 684,
    "start_time": "2021-12-13T08:26:00.004Z"
   },
   {
    "duration": 684,
    "start_time": "2021-12-13T08:26:00.006Z"
   },
   {
    "duration": 683,
    "start_time": "2021-12-13T08:26:00.008Z"
   },
   {
    "duration": 682,
    "start_time": "2021-12-13T08:26:00.011Z"
   },
   {
    "duration": 680,
    "start_time": "2021-12-13T08:26:00.014Z"
   },
   {
    "duration": 679,
    "start_time": "2021-12-13T08:26:00.017Z"
   },
   {
    "duration": 678,
    "start_time": "2021-12-13T08:26:00.019Z"
   },
   {
    "duration": 668,
    "start_time": "2021-12-13T08:26:00.031Z"
   },
   {
    "duration": 665,
    "start_time": "2021-12-13T08:26:00.035Z"
   },
   {
    "duration": 662,
    "start_time": "2021-12-13T08:26:00.040Z"
   },
   {
    "duration": 661,
    "start_time": "2021-12-13T08:26:00.042Z"
   },
   {
    "duration": 660,
    "start_time": "2021-12-13T08:26:00.045Z"
   },
   {
    "duration": 526,
    "start_time": "2021-12-13T08:26:16.782Z"
   },
   {
    "duration": 4,
    "start_time": "2021-12-13T08:27:27.696Z"
   },
   {
    "duration": 512,
    "start_time": "2021-12-13T08:27:27.703Z"
   },
   {
    "duration": 21,
    "start_time": "2021-12-13T08:27:28.219Z"
   },
   {
    "duration": 92,
    "start_time": "2021-12-13T08:27:28.243Z"
   },
   {
    "duration": 111,
    "start_time": "2021-12-13T08:27:28.338Z"
   },
   {
    "duration": 4,
    "start_time": "2021-12-13T08:27:28.452Z"
   },
   {
    "duration": 19,
    "start_time": "2021-12-13T08:27:28.459Z"
   },
   {
    "duration": 7,
    "start_time": "2021-12-13T08:27:28.480Z"
   },
   {
    "duration": 9,
    "start_time": "2021-12-13T08:27:28.526Z"
   },
   {
    "duration": 161,
    "start_time": "2021-12-13T08:27:28.537Z"
   },
   {
    "duration": 95,
    "start_time": "2021-12-13T08:27:28.701Z"
   },
   {
    "duration": 88,
    "start_time": "2021-12-13T08:27:28.798Z"
   },
   {
    "duration": 41,
    "start_time": "2021-12-13T08:27:28.888Z"
   },
   {
    "duration": 101,
    "start_time": "2021-12-13T08:27:28.931Z"
   },
   {
    "duration": 101,
    "start_time": "2021-12-13T08:27:29.034Z"
   },
   {
    "duration": 105,
    "start_time": "2021-12-13T08:27:29.138Z"
   },
   {
    "duration": 178,
    "start_time": "2021-12-13T08:27:29.245Z"
   },
   {
    "duration": 7,
    "start_time": "2021-12-13T08:27:29.425Z"
   },
   {
    "duration": 61,
    "start_time": "2021-12-13T08:27:29.435Z"
   },
   {
    "duration": 75,
    "start_time": "2021-12-13T08:27:29.499Z"
   },
   {
    "duration": 101,
    "start_time": "2021-12-13T08:27:29.576Z"
   },
   {
    "duration": 101,
    "start_time": "2021-12-13T08:27:29.680Z"
   },
   {
    "duration": 563,
    "start_time": "2021-12-13T08:27:29.784Z"
   },
   {
    "duration": 6,
    "start_time": "2021-12-13T08:27:30.349Z"
   },
   {
    "duration": 94,
    "start_time": "2021-12-13T08:28:24.372Z"
   },
   {
    "duration": 959,
    "start_time": "2021-12-13T08:28:34.491Z"
   },
   {
    "duration": 522,
    "start_time": "2021-12-13T08:29:00.553Z"
   },
   {
    "duration": 783,
    "start_time": "2021-12-13T08:29:18.617Z"
   },
   {
    "duration": 629,
    "start_time": "2021-12-13T08:29:24.596Z"
   },
   {
    "duration": 529,
    "start_time": "2021-12-13T08:29:59.267Z"
   },
   {
    "duration": 521,
    "start_time": "2021-12-13T08:30:13.735Z"
   },
   {
    "duration": 610,
    "start_time": "2021-12-13T08:30:55.820Z"
   },
   {
    "duration": 95,
    "start_time": "2021-12-13T08:31:28.864Z"
   },
   {
    "duration": 725,
    "start_time": "2021-12-13T08:31:34.831Z"
   },
   {
    "duration": 746,
    "start_time": "2021-12-13T08:32:09.115Z"
   },
   {
    "duration": 906,
    "start_time": "2021-12-13T08:34:26.609Z"
   },
   {
    "duration": 721,
    "start_time": "2021-12-13T08:34:35.840Z"
   },
   {
    "duration": 725,
    "start_time": "2021-12-13T08:34:52.135Z"
   },
   {
    "duration": 625,
    "start_time": "2021-12-13T08:35:00.676Z"
   },
   {
    "duration": 661,
    "start_time": "2021-12-13T08:35:04.228Z"
   },
   {
    "duration": 647,
    "start_time": "2021-12-13T08:35:10.481Z"
   },
   {
    "duration": 652,
    "start_time": "2021-12-13T08:36:39.074Z"
   },
   {
    "duration": 973,
    "start_time": "2021-12-13T08:37:15.117Z"
   },
   {
    "duration": 842,
    "start_time": "2021-12-13T08:38:01.417Z"
   },
   {
    "duration": 663,
    "start_time": "2021-12-13T08:38:12.136Z"
   },
   {
    "duration": 663,
    "start_time": "2021-12-13T08:39:25.676Z"
   },
   {
    "duration": 506,
    "start_time": "2021-12-13T08:39:37.038Z"
   },
   {
    "duration": 504,
    "start_time": "2021-12-13T08:51:45.336Z"
   },
   {
    "duration": 771,
    "start_time": "2021-12-13T08:52:01.478Z"
   },
   {
    "duration": 550,
    "start_time": "2021-12-13T08:52:19.619Z"
   },
   {
    "duration": 471,
    "start_time": "2021-12-13T08:52:50.480Z"
   },
   {
    "duration": 897,
    "start_time": "2021-12-13T08:53:38.241Z"
   },
   {
    "duration": 789,
    "start_time": "2021-12-13T08:55:48.248Z"
   },
   {
    "duration": 1048,
    "start_time": "2021-12-13T08:56:20.567Z"
   },
   {
    "duration": 112,
    "start_time": "2021-12-13T08:56:33.704Z"
   },
   {
    "duration": 788,
    "start_time": "2021-12-13T08:56:43.550Z"
   },
   {
    "duration": 780,
    "start_time": "2021-12-13T08:57:26.324Z"
   },
   {
    "duration": 391,
    "start_time": "2021-12-13T08:57:45.445Z"
   },
   {
    "duration": 1271,
    "start_time": "2021-12-13T08:57:59.810Z"
   },
   {
    "duration": 459,
    "start_time": "2021-12-13T08:58:09.291Z"
   },
   {
    "duration": 514,
    "start_time": "2021-12-13T08:58:15.625Z"
   },
   {
    "duration": 398,
    "start_time": "2021-12-13T08:58:28.132Z"
   },
   {
    "duration": 465,
    "start_time": "2021-12-13T08:58:45.946Z"
   },
   {
    "duration": 1174,
    "start_time": "2021-12-13T08:58:51.328Z"
   },
   {
    "duration": 655,
    "start_time": "2021-12-13T08:59:18.460Z"
   },
   {
    "duration": 894,
    "start_time": "2021-12-13T08:59:24.295Z"
   },
   {
    "duration": 682,
    "start_time": "2021-12-13T08:59:33.884Z"
   },
   {
    "duration": 942,
    "start_time": "2021-12-13T08:59:53.760Z"
   },
   {
    "duration": 660,
    "start_time": "2021-12-13T09:00:00.130Z"
   },
   {
    "duration": 672,
    "start_time": "2021-12-13T09:00:23.830Z"
   },
   {
    "duration": 634,
    "start_time": "2021-12-13T09:01:35.553Z"
   },
   {
    "duration": 663,
    "start_time": "2021-12-13T09:01:58.108Z"
   },
   {
    "duration": 770,
    "start_time": "2021-12-13T09:02:03.614Z"
   },
   {
    "duration": 1336,
    "start_time": "2021-12-13T09:02:43.964Z"
   },
   {
    "duration": 1044,
    "start_time": "2021-12-13T09:02:48.371Z"
   },
   {
    "duration": 662,
    "start_time": "2021-12-13T09:02:51.502Z"
   },
   {
    "duration": 1388,
    "start_time": "2021-12-13T09:09:03.142Z"
   },
   {
    "duration": 1126,
    "start_time": "2021-12-13T09:09:47.001Z"
   },
   {
    "duration": 1147,
    "start_time": "2021-12-13T09:09:59.725Z"
   },
   {
    "duration": 660,
    "start_time": "2021-12-13T09:10:32.634Z"
   },
   {
    "duration": 654,
    "start_time": "2021-12-13T09:10:38.964Z"
   },
   {
    "duration": 1160,
    "start_time": "2021-12-13T09:11:22.818Z"
   },
   {
    "duration": 534,
    "start_time": "2021-12-13T09:11:30.756Z"
   },
   {
    "duration": 473,
    "start_time": "2021-12-13T09:11:35.335Z"
   },
   {
    "duration": 412,
    "start_time": "2021-12-13T09:12:45.114Z"
   },
   {
    "duration": 405,
    "start_time": "2021-12-13T09:13:15.688Z"
   },
   {
    "duration": 1064,
    "start_time": "2021-12-13T09:13:36.138Z"
   },
   {
    "duration": 413,
    "start_time": "2021-12-13T09:14:00.202Z"
   },
   {
    "duration": 409,
    "start_time": "2021-12-13T09:14:11.945Z"
   },
   {
    "duration": 4,
    "start_time": "2021-12-13T09:14:25.263Z"
   },
   {
    "duration": 476,
    "start_time": "2021-12-13T09:14:25.272Z"
   },
   {
    "duration": 23,
    "start_time": "2021-12-13T09:14:25.751Z"
   },
   {
    "duration": 75,
    "start_time": "2021-12-13T09:14:25.778Z"
   },
   {
    "duration": 119,
    "start_time": "2021-12-13T09:14:25.857Z"
   },
   {
    "duration": 4,
    "start_time": "2021-12-13T09:14:25.978Z"
   },
   {
    "duration": 49,
    "start_time": "2021-12-13T09:14:25.984Z"
   },
   {
    "duration": 6,
    "start_time": "2021-12-13T09:14:26.036Z"
   },
   {
    "duration": 10,
    "start_time": "2021-12-13T09:14:26.046Z"
   },
   {
    "duration": 165,
    "start_time": "2021-12-13T09:14:26.059Z"
   },
   {
    "duration": 98,
    "start_time": "2021-12-13T09:14:26.226Z"
   },
   {
    "duration": 85,
    "start_time": "2021-12-13T09:14:26.326Z"
   },
   {
    "duration": 25,
    "start_time": "2021-12-13T09:14:26.423Z"
   },
   {
    "duration": 112,
    "start_time": "2021-12-13T09:14:26.450Z"
   },
   {
    "duration": 103,
    "start_time": "2021-12-13T09:14:26.564Z"
   },
   {
    "duration": 108,
    "start_time": "2021-12-13T09:14:26.669Z"
   },
   {
    "duration": 191,
    "start_time": "2021-12-13T09:14:26.780Z"
   },
   {
    "duration": 7,
    "start_time": "2021-12-13T09:14:26.974Z"
   },
   {
    "duration": 78,
    "start_time": "2021-12-13T09:14:26.983Z"
   },
   {
    "duration": 68,
    "start_time": "2021-12-13T09:14:27.063Z"
   },
   {
    "duration": 108,
    "start_time": "2021-12-13T09:14:27.133Z"
   },
   {
    "duration": 96,
    "start_time": "2021-12-13T09:14:27.244Z"
   },
   {
    "duration": 415,
    "start_time": "2021-12-13T09:14:27.343Z"
   },
   {
    "duration": 6,
    "start_time": "2021-12-13T09:14:27.762Z"
   },
   {
    "duration": 427,
    "start_time": "2021-12-13T09:14:47.955Z"
   },
   {
    "duration": 406,
    "start_time": "2021-12-13T09:15:07.645Z"
   },
   {
    "duration": 405,
    "start_time": "2021-12-13T09:19:47.685Z"
   },
   {
    "duration": 512,
    "start_time": "2021-12-13T09:19:58.312Z"
   },
   {
    "duration": 469,
    "start_time": "2021-12-13T09:20:25.443Z"
   },
   {
    "duration": 643,
    "start_time": "2021-12-13T09:21:05.880Z"
   },
   {
    "duration": 487,
    "start_time": "2021-12-13T09:21:11.343Z"
   },
   {
    "duration": 682,
    "start_time": "2021-12-13T09:21:36.793Z"
   },
   {
    "duration": 3896,
    "start_time": "2021-12-13T09:21:43.866Z"
   },
   {
    "duration": 2280,
    "start_time": "2021-12-13T09:21:56.186Z"
   },
   {
    "duration": 674,
    "start_time": "2021-12-13T09:22:04.249Z"
   },
   {
    "duration": 494,
    "start_time": "2021-12-13T09:23:24.813Z"
   },
   {
    "duration": 517,
    "start_time": "2021-12-13T09:29:51.608Z"
   },
   {
    "duration": 1008,
    "start_time": "2021-12-13T09:32:01.774Z"
   },
   {
    "duration": 978,
    "start_time": "2021-12-13T09:32:30.200Z"
   },
   {
    "duration": 972,
    "start_time": "2021-12-13T09:33:16.381Z"
   },
   {
    "duration": 671,
    "start_time": "2021-12-13T09:33:52.211Z"
   },
   {
    "duration": 765,
    "start_time": "2021-12-13T09:34:34.282Z"
   },
   {
    "duration": 341,
    "start_time": "2021-12-13T09:34:44.031Z"
   },
   {
    "duration": 1032,
    "start_time": "2021-12-13T09:35:08.266Z"
   },
   {
    "duration": 677,
    "start_time": "2021-12-13T09:35:13.038Z"
   },
   {
    "duration": 3,
    "start_time": "2021-12-13T09:35:18.938Z"
   },
   {
    "duration": 498,
    "start_time": "2021-12-13T09:35:18.944Z"
   },
   {
    "duration": 22,
    "start_time": "2021-12-13T09:35:19.445Z"
   },
   {
    "duration": 76,
    "start_time": "2021-12-13T09:35:19.470Z"
   },
   {
    "duration": 112,
    "start_time": "2021-12-13T09:35:19.549Z"
   },
   {
    "duration": 5,
    "start_time": "2021-12-13T09:35:19.663Z"
   },
   {
    "duration": 19,
    "start_time": "2021-12-13T09:35:19.670Z"
   },
   {
    "duration": 36,
    "start_time": "2021-12-13T09:35:19.693Z"
   },
   {
    "duration": 14,
    "start_time": "2021-12-13T09:35:19.732Z"
   },
   {
    "duration": 161,
    "start_time": "2021-12-13T09:35:19.748Z"
   },
   {
    "duration": 95,
    "start_time": "2021-12-13T09:35:19.911Z"
   },
   {
    "duration": 100,
    "start_time": "2021-12-13T09:35:20.008Z"
   },
   {
    "duration": 35,
    "start_time": "2021-12-13T09:35:20.111Z"
   },
   {
    "duration": 125,
    "start_time": "2021-12-13T09:35:20.148Z"
   },
   {
    "duration": 101,
    "start_time": "2021-12-13T09:35:20.275Z"
   },
   {
    "duration": 102,
    "start_time": "2021-12-13T09:35:20.378Z"
   },
   {
    "duration": 183,
    "start_time": "2021-12-13T09:35:20.482Z"
   },
   {
    "duration": 7,
    "start_time": "2021-12-13T09:35:20.668Z"
   },
   {
    "duration": 81,
    "start_time": "2021-12-13T09:35:20.677Z"
   },
   {
    "duration": 71,
    "start_time": "2021-12-13T09:35:20.760Z"
   },
   {
    "duration": 97,
    "start_time": "2021-12-13T09:35:20.833Z"
   },
   {
    "duration": 93,
    "start_time": "2021-12-13T09:35:20.932Z"
   },
   {
    "duration": 707,
    "start_time": "2021-12-13T09:35:21.029Z"
   },
   {
    "duration": 1035,
    "start_time": "2021-12-13T09:35:21.738Z"
   },
   {
    "duration": 543,
    "start_time": "2021-12-13T09:35:22.776Z"
   },
   {
    "duration": 6,
    "start_time": "2021-12-13T09:35:23.321Z"
   },
   {
    "duration": 99,
    "start_time": "2021-12-13T09:36:14.175Z"
   },
   {
    "duration": 676,
    "start_time": "2021-12-13T09:36:24.951Z"
   },
   {
    "duration": 702,
    "start_time": "2021-12-13T09:36:30.048Z"
   },
   {
    "duration": 3,
    "start_time": "2021-12-13T09:36:41.443Z"
   },
   {
    "duration": 495,
    "start_time": "2021-12-13T09:36:41.456Z"
   },
   {
    "duration": 19,
    "start_time": "2021-12-13T09:36:41.954Z"
   },
   {
    "duration": 70,
    "start_time": "2021-12-13T09:36:41.977Z"
   },
   {
    "duration": 120,
    "start_time": "2021-12-13T09:36:42.050Z"
   },
   {
    "duration": 4,
    "start_time": "2021-12-13T09:36:42.173Z"
   },
   {
    "duration": 48,
    "start_time": "2021-12-13T09:36:42.179Z"
   },
   {
    "duration": 29,
    "start_time": "2021-12-13T09:36:42.230Z"
   },
   {
    "duration": 18,
    "start_time": "2021-12-13T09:36:42.261Z"
   },
   {
    "duration": 143,
    "start_time": "2021-12-13T09:36:42.282Z"
   },
   {
    "duration": 96,
    "start_time": "2021-12-13T09:36:42.428Z"
   },
   {
    "duration": 83,
    "start_time": "2021-12-13T09:36:42.526Z"
   },
   {
    "duration": 33,
    "start_time": "2021-12-13T09:36:42.611Z"
   },
   {
    "duration": 122,
    "start_time": "2021-12-13T09:36:42.646Z"
   },
   {
    "duration": 108,
    "start_time": "2021-12-13T09:36:42.770Z"
   },
   {
    "duration": 108,
    "start_time": "2021-12-13T09:36:42.880Z"
   },
   {
    "duration": 188,
    "start_time": "2021-12-13T09:36:42.991Z"
   },
   {
    "duration": 8,
    "start_time": "2021-12-13T09:36:43.182Z"
   },
   {
    "duration": 72,
    "start_time": "2021-12-13T09:36:43.193Z"
   },
   {
    "duration": 75,
    "start_time": "2021-12-13T09:36:43.268Z"
   },
   {
    "duration": 101,
    "start_time": "2021-12-13T09:36:43.345Z"
   },
   {
    "duration": 98,
    "start_time": "2021-12-13T09:36:43.448Z"
   },
   {
    "duration": 707,
    "start_time": "2021-12-13T09:36:43.549Z"
   },
   {
    "duration": 564,
    "start_time": "2021-12-13T09:36:44.259Z"
   },
   {
    "duration": 7,
    "start_time": "2021-12-13T09:36:44.825Z"
   },
   {
    "duration": 683,
    "start_time": "2021-12-13T09:36:51.491Z"
   },
   {
    "duration": 712,
    "start_time": "2021-12-13T09:36:56.968Z"
   },
   {
    "duration": 1067,
    "start_time": "2021-12-13T09:38:08.729Z"
   },
   {
    "duration": 1116,
    "start_time": "2021-12-13T09:38:16.726Z"
   },
   {
    "duration": 677,
    "start_time": "2021-12-13T09:38:48.557Z"
   },
   {
    "duration": 715,
    "start_time": "2021-12-13T09:39:08.652Z"
   },
   {
    "duration": 673,
    "start_time": "2021-12-13T09:39:16.610Z"
   },
   {
    "duration": 687,
    "start_time": "2021-12-13T09:39:25.504Z"
   },
   {
    "duration": 658,
    "start_time": "2021-12-13T09:39:44.181Z"
   },
   {
    "duration": 5,
    "start_time": "2021-12-13T09:39:55.920Z"
   },
   {
    "duration": 504,
    "start_time": "2021-12-13T09:39:55.928Z"
   },
   {
    "duration": 22,
    "start_time": "2021-12-13T09:39:56.435Z"
   },
   {
    "duration": 89,
    "start_time": "2021-12-13T09:39:56.460Z"
   },
   {
    "duration": 117,
    "start_time": "2021-12-13T09:39:56.551Z"
   },
   {
    "duration": 5,
    "start_time": "2021-12-13T09:39:56.670Z"
   },
   {
    "duration": 52,
    "start_time": "2021-12-13T09:39:56.677Z"
   },
   {
    "duration": 7,
    "start_time": "2021-12-13T09:39:56.732Z"
   },
   {
    "duration": 9,
    "start_time": "2021-12-13T09:39:56.742Z"
   },
   {
    "duration": 170,
    "start_time": "2021-12-13T09:39:56.753Z"
   },
   {
    "duration": 85,
    "start_time": "2021-12-13T09:39:56.925Z"
   },
   {
    "duration": 92,
    "start_time": "2021-12-13T09:39:57.013Z"
   },
   {
    "duration": 38,
    "start_time": "2021-12-13T09:39:57.107Z"
   },
   {
    "duration": 108,
    "start_time": "2021-12-13T09:39:57.147Z"
   },
   {
    "duration": 108,
    "start_time": "2021-12-13T09:39:57.257Z"
   },
   {
    "duration": 105,
    "start_time": "2021-12-13T09:39:57.367Z"
   },
   {
    "duration": 186,
    "start_time": "2021-12-13T09:39:57.474Z"
   },
   {
    "duration": 7,
    "start_time": "2021-12-13T09:39:57.662Z"
   },
   {
    "duration": 76,
    "start_time": "2021-12-13T09:39:57.671Z"
   },
   {
    "duration": 75,
    "start_time": "2021-12-13T09:39:57.750Z"
   },
   {
    "duration": 98,
    "start_time": "2021-12-13T09:39:57.827Z"
   },
   {
    "duration": 76,
    "start_time": "2021-12-13T09:39:57.927Z"
   },
   {
    "duration": 694,
    "start_time": "2021-12-13T09:39:58.023Z"
   },
   {
    "duration": 694,
    "start_time": "2021-12-13T09:39:58.719Z"
   },
   {
    "duration": 7,
    "start_time": "2021-12-13T09:39:59.423Z"
   },
   {
    "duration": 662,
    "start_time": "2021-12-13T09:42:15.493Z"
   },
   {
    "duration": 669,
    "start_time": "2021-12-13T09:42:37.435Z"
   },
   {
    "duration": 640,
    "start_time": "2021-12-13T09:42:46.686Z"
   },
   {
    "duration": 704,
    "start_time": "2021-12-13T09:43:07.741Z"
   },
   {
    "duration": 1079,
    "start_time": "2021-12-13T09:43:14.416Z"
   },
   {
    "duration": 678,
    "start_time": "2021-12-13T09:43:44.961Z"
   },
   {
    "duration": 681,
    "start_time": "2021-12-13T09:43:56.490Z"
   },
   {
    "duration": 683,
    "start_time": "2021-12-13T09:44:15.279Z"
   },
   {
    "duration": 661,
    "start_time": "2021-12-13T09:44:18.734Z"
   },
   {
    "duration": 553,
    "start_time": "2021-12-13T09:44:36.423Z"
   },
   {
    "duration": 474,
    "start_time": "2021-12-13T09:44:47.615Z"
   },
   {
    "duration": 562,
    "start_time": "2021-12-13T09:44:56.769Z"
   },
   {
    "duration": 735,
    "start_time": "2021-12-13T09:45:19.688Z"
   },
   {
    "duration": 721,
    "start_time": "2021-12-13T09:45:33.543Z"
   },
   {
    "duration": 846,
    "start_time": "2021-12-13T09:45:44.242Z"
   },
   {
    "duration": 616,
    "start_time": "2021-12-13T09:46:01.315Z"
   },
   {
    "duration": 779,
    "start_time": "2021-12-13T09:46:17.481Z"
   },
   {
    "duration": 705,
    "start_time": "2021-12-13T09:46:46.266Z"
   },
   {
    "duration": 818,
    "start_time": "2021-12-13T09:47:02.380Z"
   },
   {
    "duration": 671,
    "start_time": "2021-12-13T09:47:08.064Z"
   },
   {
    "duration": 1131,
    "start_time": "2021-12-13T09:49:31.432Z"
   },
   {
    "duration": 783,
    "start_time": "2021-12-13T09:50:07.243Z"
   },
   {
    "duration": 731,
    "start_time": "2021-12-13T09:51:17.875Z"
   },
   {
    "duration": 729,
    "start_time": "2021-12-13T09:54:07.134Z"
   },
   {
    "duration": 874,
    "start_time": "2021-12-13T09:55:02.637Z"
   },
   {
    "duration": 741,
    "start_time": "2021-12-13T09:55:30.290Z"
   },
   {
    "duration": 728,
    "start_time": "2021-12-13T09:55:45.459Z"
   },
   {
    "duration": 715,
    "start_time": "2021-12-13T09:56:08.097Z"
   },
   {
    "duration": 739,
    "start_time": "2021-12-13T09:56:17.077Z"
   },
   {
    "duration": 742,
    "start_time": "2021-12-13T09:56:23.216Z"
   },
   {
    "duration": 732,
    "start_time": "2021-12-13T09:56:46.731Z"
   },
   {
    "duration": 719,
    "start_time": "2021-12-13T09:57:08.141Z"
   },
   {
    "duration": 742,
    "start_time": "2021-12-13T09:57:14.428Z"
   },
   {
    "duration": 679,
    "start_time": "2021-12-13T09:57:43.378Z"
   },
   {
    "duration": 670,
    "start_time": "2021-12-13T09:59:05.548Z"
   },
   {
    "duration": 589,
    "start_time": "2021-12-13T09:59:19.726Z"
   },
   {
    "duration": 466,
    "start_time": "2021-12-13T09:59:43.591Z"
   },
   {
    "duration": 106,
    "start_time": "2021-12-13T10:02:06.437Z"
   },
   {
    "duration": 429,
    "start_time": "2021-12-13T10:03:22.073Z"
   },
   {
    "duration": 433,
    "start_time": "2021-12-13T10:03:39.551Z"
   },
   {
    "duration": 437,
    "start_time": "2021-12-13T10:04:12.352Z"
   },
   {
    "duration": 981,
    "start_time": "2021-12-13T10:04:30.206Z"
   },
   {
    "duration": 433,
    "start_time": "2021-12-13T10:04:46.050Z"
   },
   {
    "duration": 95,
    "start_time": "2021-12-13T10:05:57.522Z"
   },
   {
    "duration": 475,
    "start_time": "2021-12-13T10:06:13.576Z"
   },
   {
    "duration": 491,
    "start_time": "2021-12-13T10:06:51.787Z"
   },
   {
    "duration": 530,
    "start_time": "2021-12-13T10:07:50.654Z"
   },
   {
    "duration": 531,
    "start_time": "2021-12-13T10:07:55.546Z"
   },
   {
    "duration": 530,
    "start_time": "2021-12-13T10:08:06.071Z"
   },
   {
    "duration": 784,
    "start_time": "2021-12-13T10:08:13.263Z"
   },
   {
    "duration": 558,
    "start_time": "2021-12-13T10:08:17.126Z"
   },
   {
    "duration": 522,
    "start_time": "2021-12-13T10:08:26.401Z"
   },
   {
    "duration": 551,
    "start_time": "2021-12-13T10:10:55.072Z"
   },
   {
    "duration": 685,
    "start_time": "2021-12-13T10:11:59.114Z"
   },
   {
    "duration": 682,
    "start_time": "2021-12-13T10:17:30.230Z"
   },
   {
    "duration": 104,
    "start_time": "2021-12-13T10:22:02.637Z"
   },
   {
    "duration": 293,
    "start_time": "2021-12-13T10:22:10.669Z"
   },
   {
    "duration": 4,
    "start_time": "2021-12-13T10:22:25.367Z"
   },
   {
    "duration": 495,
    "start_time": "2021-12-13T10:22:25.373Z"
   },
   {
    "duration": 23,
    "start_time": "2021-12-13T10:22:25.870Z"
   },
   {
    "duration": 61,
    "start_time": "2021-12-13T10:22:25.896Z"
   },
   {
    "duration": 118,
    "start_time": "2021-12-13T10:22:25.959Z"
   },
   {
    "duration": 4,
    "start_time": "2021-12-13T10:22:26.079Z"
   },
   {
    "duration": 45,
    "start_time": "2021-12-13T10:22:26.085Z"
   },
   {
    "duration": 6,
    "start_time": "2021-12-13T10:22:26.134Z"
   },
   {
    "duration": 11,
    "start_time": "2021-12-13T10:22:26.143Z"
   },
   {
    "duration": 161,
    "start_time": "2021-12-13T10:22:26.156Z"
   },
   {
    "duration": 100,
    "start_time": "2021-12-13T10:22:26.323Z"
   },
   {
    "duration": 83,
    "start_time": "2021-12-13T10:22:26.426Z"
   },
   {
    "duration": 33,
    "start_time": "2021-12-13T10:22:26.511Z"
   },
   {
    "duration": 115,
    "start_time": "2021-12-13T10:22:26.546Z"
   },
   {
    "duration": 98,
    "start_time": "2021-12-13T10:22:26.664Z"
   },
   {
    "duration": 103,
    "start_time": "2021-12-13T10:22:26.765Z"
   },
   {
    "duration": 183,
    "start_time": "2021-12-13T10:22:26.871Z"
   },
   {
    "duration": 7,
    "start_time": "2021-12-13T10:22:27.056Z"
   },
   {
    "duration": 80,
    "start_time": "2021-12-13T10:22:27.065Z"
   },
   {
    "duration": 80,
    "start_time": "2021-12-13T10:22:27.147Z"
   },
   {
    "duration": 93,
    "start_time": "2021-12-13T10:22:27.230Z"
   },
   {
    "duration": 76,
    "start_time": "2021-12-13T10:22:27.325Z"
   },
   {
    "duration": 702,
    "start_time": "2021-12-13T10:22:27.405Z"
   },
   {
    "duration": 697,
    "start_time": "2021-12-13T10:22:28.110Z"
   },
   {
    "duration": 680,
    "start_time": "2021-12-13T10:22:28.809Z"
   },
   {
    "duration": 537,
    "start_time": "2021-12-13T10:22:29.492Z"
   },
   {
    "duration": 715,
    "start_time": "2021-12-13T10:22:30.031Z"
   },
   {
    "duration": 296,
    "start_time": "2021-12-13T10:22:30.749Z"
   },
   {
    "duration": 563,
    "start_time": "2021-12-13T10:22:30.485Z"
   },
   {
    "duration": 280,
    "start_time": "2021-12-13T10:22:57.514Z"
   },
   {
    "duration": 298,
    "start_time": "2021-12-13T10:23:39.356Z"
   },
   {
    "duration": 6,
    "start_time": "2021-12-13T10:23:54.596Z"
   },
   {
    "duration": 6,
    "start_time": "2021-12-13T10:24:02.734Z"
   },
   {
    "duration": 6,
    "start_time": "2021-12-13T10:24:12.813Z"
   },
   {
    "duration": 7,
    "start_time": "2021-12-13T10:24:22.933Z"
   },
   {
    "duration": 5,
    "start_time": "2021-12-13T10:25:30.503Z"
   },
   {
    "duration": 7,
    "start_time": "2021-12-13T10:31:53.156Z"
   },
   {
    "duration": 6,
    "start_time": "2021-12-13T10:32:03.082Z"
   },
   {
    "duration": 94,
    "start_time": "2021-12-13T10:32:51.527Z"
   },
   {
    "duration": 9,
    "start_time": "2021-12-13T10:32:55.657Z"
   },
   {
    "duration": 8,
    "start_time": "2021-12-13T10:33:02.164Z"
   },
   {
    "duration": 6,
    "start_time": "2021-12-13T10:33:33.886Z"
   },
   {
    "duration": 7,
    "start_time": "2021-12-13T10:34:20.983Z"
   },
   {
    "duration": 307,
    "start_time": "2021-12-13T10:35:58.087Z"
   },
   {
    "duration": 8,
    "start_time": "2021-12-13T10:36:01.102Z"
   },
   {
    "duration": 9,
    "start_time": "2021-12-13T10:37:35.132Z"
   },
   {
    "duration": 6,
    "start_time": "2021-12-13T10:37:38.792Z"
   },
   {
    "duration": 10,
    "start_time": "2021-12-13T10:39:34.056Z"
   },
   {
    "duration": 6,
    "start_time": "2021-12-13T10:40:30.556Z"
   },
   {
    "duration": 6,
    "start_time": "2021-12-13T10:43:38.932Z"
   },
   {
    "duration": 7,
    "start_time": "2021-12-13T10:43:45.958Z"
   },
   {
    "duration": 6,
    "start_time": "2021-12-13T10:45:10.211Z"
   },
   {
    "duration": 7,
    "start_time": "2021-12-13T10:50:55.732Z"
   },
   {
    "duration": 6,
    "start_time": "2021-12-13T10:53:02.415Z"
   },
   {
    "duration": 13,
    "start_time": "2021-12-13T10:58:38.960Z"
   },
   {
    "duration": 9,
    "start_time": "2021-12-13T10:59:19.119Z"
   },
   {
    "duration": 11,
    "start_time": "2021-12-13T10:59:46.875Z"
   },
   {
    "duration": 8991,
    "start_time": "2021-12-13T10:59:52.839Z"
   },
   {
    "duration": 12,
    "start_time": "2021-12-13T11:00:15.228Z"
   },
   {
    "duration": 8,
    "start_time": "2021-12-13T11:00:31.147Z"
   },
   {
    "duration": 378,
    "start_time": "2021-12-13T11:00:38.096Z"
   },
   {
    "duration": 496,
    "start_time": "2021-12-13T11:01:33.000Z"
   },
   {
    "duration": 6,
    "start_time": "2021-12-13T11:01:37.737Z"
   },
   {
    "duration": 7,
    "start_time": "2021-12-13T11:01:55.460Z"
   },
   {
    "duration": 8,
    "start_time": "2021-12-13T11:02:26.099Z"
   },
   {
    "duration": 11,
    "start_time": "2021-12-13T11:02:59.978Z"
   },
   {
    "duration": 7,
    "start_time": "2021-12-13T11:04:23.625Z"
   },
   {
    "duration": 9,
    "start_time": "2021-12-13T11:05:10.503Z"
   },
   {
    "duration": 7,
    "start_time": "2021-12-13T11:08:22.214Z"
   },
   {
    "duration": 10,
    "start_time": "2021-12-13T11:10:09.430Z"
   },
   {
    "duration": 8,
    "start_time": "2021-12-13T11:10:25.448Z"
   },
   {
    "duration": 8,
    "start_time": "2021-12-13T11:10:51.744Z"
   },
   {
    "duration": 7,
    "start_time": "2021-12-13T11:11:10.374Z"
   },
   {
    "duration": 7,
    "start_time": "2021-12-13T11:11:25.818Z"
   },
   {
    "duration": 10,
    "start_time": "2021-12-13T11:11:38.997Z"
   },
   {
    "duration": 9,
    "start_time": "2021-12-13T11:11:46.665Z"
   },
   {
    "duration": 9,
    "start_time": "2021-12-13T11:11:56.186Z"
   },
   {
    "duration": 9,
    "start_time": "2021-12-13T11:12:06.663Z"
   },
   {
    "duration": 8,
    "start_time": "2021-12-13T11:12:22.322Z"
   },
   {
    "duration": 7,
    "start_time": "2021-12-13T11:12:39.478Z"
   },
   {
    "duration": 7,
    "start_time": "2021-12-13T11:12:43.478Z"
   },
   {
    "duration": 8,
    "start_time": "2021-12-13T11:13:03.194Z"
   },
   {
    "duration": 412,
    "start_time": "2021-12-13T11:24:20.831Z"
   },
   {
    "duration": 531,
    "start_time": "2021-12-13T11:24:21.247Z"
   },
   {
    "duration": 21,
    "start_time": "2021-12-13T11:24:21.783Z"
   },
   {
    "duration": 67,
    "start_time": "2021-12-13T11:24:21.807Z"
   },
   {
    "duration": 157,
    "start_time": "2021-12-13T11:24:21.877Z"
   },
   {
    "duration": 6,
    "start_time": "2021-12-13T11:24:22.037Z"
   },
   {
    "duration": 14,
    "start_time": "2021-12-13T11:24:22.045Z"
   },
   {
    "duration": 13,
    "start_time": "2021-12-13T11:24:22.062Z"
   },
   {
    "duration": 45,
    "start_time": "2021-12-13T11:24:22.083Z"
   },
   {
    "duration": 174,
    "start_time": "2021-12-13T11:24:22.131Z"
   },
   {
    "duration": 104,
    "start_time": "2021-12-13T11:24:22.308Z"
   },
   {
    "duration": 97,
    "start_time": "2021-12-13T11:24:22.414Z"
   },
   {
    "duration": 28,
    "start_time": "2021-12-13T11:24:22.524Z"
   },
   {
    "duration": 143,
    "start_time": "2021-12-13T11:24:22.555Z"
   },
   {
    "duration": 133,
    "start_time": "2021-12-13T11:24:22.701Z"
   },
   {
    "duration": 119,
    "start_time": "2021-12-13T11:24:22.837Z"
   },
   {
    "duration": 219,
    "start_time": "2021-12-13T11:24:22.958Z"
   },
   {
    "duration": 7,
    "start_time": "2021-12-13T11:24:23.180Z"
   },
   {
    "duration": 88,
    "start_time": "2021-12-13T11:24:23.189Z"
   },
   {
    "duration": 73,
    "start_time": "2021-12-13T11:24:23.280Z"
   },
   {
    "duration": 96,
    "start_time": "2021-12-13T11:24:23.356Z"
   },
   {
    "duration": 107,
    "start_time": "2021-12-13T11:24:23.454Z"
   },
   {
    "duration": 743,
    "start_time": "2021-12-13T11:24:23.563Z"
   },
   {
    "duration": 708,
    "start_time": "2021-12-13T11:24:24.308Z"
   },
   {
    "duration": 709,
    "start_time": "2021-12-13T11:24:25.022Z"
   },
   {
    "duration": 531,
    "start_time": "2021-12-13T11:24:25.733Z"
   },
   {
    "duration": 693,
    "start_time": "2021-12-13T11:24:26.269Z"
   },
   {
    "duration": 10,
    "start_time": "2021-12-13T11:24:26.965Z"
   },
   {
    "duration": 13,
    "start_time": "2021-12-13T11:24:26.977Z"
   },
   {
    "duration": 7,
    "start_time": "2021-12-13T11:25:42.121Z"
   },
   {
    "duration": 7,
    "start_time": "2021-12-13T11:28:47.376Z"
   },
   {
    "duration": 7,
    "start_time": "2021-12-13T11:29:06.804Z"
   },
   {
    "duration": 7,
    "start_time": "2021-12-13T11:29:16.482Z"
   },
   {
    "duration": 8,
    "start_time": "2021-12-13T11:29:21.685Z"
   },
   {
    "duration": 8,
    "start_time": "2021-12-13T11:31:26.452Z"
   },
   {
    "duration": 11,
    "start_time": "2021-12-13T11:33:41.068Z"
   },
   {
    "duration": 8,
    "start_time": "2021-12-13T11:33:55.281Z"
   },
   {
    "duration": 9,
    "start_time": "2021-12-13T11:34:16.756Z"
   },
   {
    "duration": 408,
    "start_time": "2021-12-13T11:50:12.345Z"
   },
   {
    "duration": 4,
    "start_time": "2021-12-13T12:01:08.341Z"
   },
   {
    "duration": 498,
    "start_time": "2021-12-13T12:01:08.353Z"
   },
   {
    "duration": 28,
    "start_time": "2021-12-13T12:01:08.853Z"
   },
   {
    "duration": 67,
    "start_time": "2021-12-13T12:01:08.885Z"
   },
   {
    "duration": 119,
    "start_time": "2021-12-13T12:01:08.954Z"
   },
   {
    "duration": 4,
    "start_time": "2021-12-13T12:01:09.075Z"
   },
   {
    "duration": 46,
    "start_time": "2021-12-13T12:01:09.081Z"
   },
   {
    "duration": 19,
    "start_time": "2021-12-13T12:01:09.129Z"
   },
   {
    "duration": 19,
    "start_time": "2021-12-13T12:01:09.151Z"
   },
   {
    "duration": 150,
    "start_time": "2021-12-13T12:01:09.174Z"
   },
   {
    "duration": 98,
    "start_time": "2021-12-13T12:01:09.327Z"
   },
   {
    "duration": 82,
    "start_time": "2021-12-13T12:01:09.427Z"
   },
   {
    "duration": 353,
    "start_time": "2021-12-13T12:01:09.511Z"
   },
   {
    "duration": 417,
    "start_time": "2021-12-13T12:01:09.449Z"
   },
   {
    "duration": 417,
    "start_time": "2021-12-13T12:01:09.451Z"
   },
   {
    "duration": 407,
    "start_time": "2021-12-13T12:01:09.463Z"
   },
   {
    "duration": 405,
    "start_time": "2021-12-13T12:01:09.466Z"
   },
   {
    "duration": 402,
    "start_time": "2021-12-13T12:01:09.471Z"
   },
   {
    "duration": 398,
    "start_time": "2021-12-13T12:01:09.476Z"
   },
   {
    "duration": 396,
    "start_time": "2021-12-13T12:01:09.480Z"
   },
   {
    "duration": 393,
    "start_time": "2021-12-13T12:01:09.484Z"
   },
   {
    "duration": 382,
    "start_time": "2021-12-13T12:01:09.497Z"
   },
   {
    "duration": 380,
    "start_time": "2021-12-13T12:01:09.500Z"
   },
   {
    "duration": 378,
    "start_time": "2021-12-13T12:01:09.504Z"
   },
   {
    "duration": 375,
    "start_time": "2021-12-13T12:01:09.508Z"
   },
   {
    "duration": 374,
    "start_time": "2021-12-13T12:01:09.511Z"
   },
   {
    "duration": 373,
    "start_time": "2021-12-13T12:01:09.513Z"
   },
   {
    "duration": 372,
    "start_time": "2021-12-13T12:01:09.516Z"
   },
   {
    "duration": 360,
    "start_time": "2021-12-13T12:01:09.529Z"
   },
   {
    "duration": 56,
    "start_time": "2021-12-13T12:01:51.977Z"
   },
   {
    "duration": 4,
    "start_time": "2021-12-13T12:02:31.504Z"
   },
   {
    "duration": 498,
    "start_time": "2021-12-13T12:02:31.511Z"
   },
   {
    "duration": 22,
    "start_time": "2021-12-13T12:02:32.012Z"
   },
   {
    "duration": 92,
    "start_time": "2021-12-13T12:02:32.038Z"
   },
   {
    "duration": 121,
    "start_time": "2021-12-13T12:02:32.132Z"
   },
   {
    "duration": 5,
    "start_time": "2021-12-13T12:02:32.255Z"
   },
   {
    "duration": 29,
    "start_time": "2021-12-13T12:02:32.262Z"
   },
   {
    "duration": 30,
    "start_time": "2021-12-13T12:02:32.294Z"
   },
   {
    "duration": 16,
    "start_time": "2021-12-13T12:02:32.329Z"
   },
   {
    "duration": 155,
    "start_time": "2021-12-13T12:02:32.348Z"
   },
   {
    "duration": 95,
    "start_time": "2021-12-13T12:02:32.505Z"
   },
   {
    "duration": 97,
    "start_time": "2021-12-13T12:02:32.603Z"
   },
   {
    "duration": 61,
    "start_time": "2021-12-13T12:02:32.703Z"
   },
   {
    "duration": 113,
    "start_time": "2021-12-13T12:02:32.766Z"
   },
   {
    "duration": 98,
    "start_time": "2021-12-13T12:02:32.882Z"
   },
   {
    "duration": 103,
    "start_time": "2021-12-13T12:02:32.982Z"
   },
   {
    "duration": 206,
    "start_time": "2021-12-13T12:02:33.087Z"
   },
   {
    "duration": 7,
    "start_time": "2021-12-13T12:02:33.296Z"
   },
   {
    "duration": 86,
    "start_time": "2021-12-13T12:02:33.306Z"
   },
   {
    "duration": 69,
    "start_time": "2021-12-13T12:02:33.395Z"
   },
   {
    "duration": 102,
    "start_time": "2021-12-13T12:02:33.467Z"
   },
   {
    "duration": 103,
    "start_time": "2021-12-13T12:02:33.573Z"
   },
   {
    "duration": 708,
    "start_time": "2021-12-13T12:02:33.678Z"
   },
   {
    "duration": 697,
    "start_time": "2021-12-13T12:02:34.389Z"
   },
   {
    "duration": 1362,
    "start_time": "2021-12-13T12:02:35.089Z"
   },
   {
    "duration": 537,
    "start_time": "2021-12-13T12:02:36.454Z"
   },
   {
    "duration": 803,
    "start_time": "2021-12-13T12:02:36.995Z"
   },
   {
    "duration": 9,
    "start_time": "2021-12-13T12:02:37.801Z"
   },
   {
    "duration": 284,
    "start_time": "2021-12-13T12:02:37.824Z"
   },
   {
    "duration": 38,
    "start_time": "2021-12-13T12:03:22.418Z"
   },
   {
    "duration": 34,
    "start_time": "2021-12-13T12:03:36.487Z"
   },
   {
    "duration": 306,
    "start_time": "2021-12-13T12:08:15.536Z"
   },
   {
    "duration": 297,
    "start_time": "2021-12-13T12:08:36.218Z"
   },
   {
    "duration": 355,
    "start_time": "2021-12-13T12:08:45.228Z"
   },
   {
    "duration": 403,
    "start_time": "2021-12-13T12:09:10.655Z"
   },
   {
    "duration": 321,
    "start_time": "2021-12-13T12:09:19.271Z"
   },
   {
    "duration": 4,
    "start_time": "2021-12-13T12:09:23.722Z"
   },
   {
    "duration": 514,
    "start_time": "2021-12-13T12:09:23.729Z"
   },
   {
    "duration": 22,
    "start_time": "2021-12-13T12:09:24.246Z"
   },
   {
    "duration": 79,
    "start_time": "2021-12-13T12:09:24.270Z"
   },
   {
    "duration": 119,
    "start_time": "2021-12-13T12:09:24.351Z"
   },
   {
    "duration": 6,
    "start_time": "2021-12-13T12:09:24.473Z"
   },
   {
    "duration": 49,
    "start_time": "2021-12-13T12:09:24.482Z"
   },
   {
    "duration": 7,
    "start_time": "2021-12-13T12:09:24.537Z"
   },
   {
    "duration": 25,
    "start_time": "2021-12-13T12:09:24.547Z"
   },
   {
    "duration": 168,
    "start_time": "2021-12-13T12:09:24.575Z"
   },
   {
    "duration": 104,
    "start_time": "2021-12-13T12:09:24.746Z"
   },
   {
    "duration": 92,
    "start_time": "2021-12-13T12:09:24.852Z"
   },
   {
    "duration": 28,
    "start_time": "2021-12-13T12:09:24.947Z"
   },
   {
    "duration": 111,
    "start_time": "2021-12-13T12:09:24.978Z"
   },
   {
    "duration": 103,
    "start_time": "2021-12-13T12:09:25.092Z"
   },
   {
    "duration": 103,
    "start_time": "2021-12-13T12:09:25.197Z"
   },
   {
    "duration": 181,
    "start_time": "2021-12-13T12:09:25.302Z"
   },
   {
    "duration": 7,
    "start_time": "2021-12-13T12:09:25.485Z"
   },
   {
    "duration": 76,
    "start_time": "2021-12-13T12:09:25.495Z"
   },
   {
    "duration": 72,
    "start_time": "2021-12-13T12:09:25.573Z"
   },
   {
    "duration": 99,
    "start_time": "2021-12-13T12:09:25.648Z"
   },
   {
    "duration": 99,
    "start_time": "2021-12-13T12:09:25.749Z"
   },
   {
    "duration": 749,
    "start_time": "2021-12-13T12:09:25.853Z"
   },
   {
    "duration": 718,
    "start_time": "2021-12-13T12:09:26.605Z"
   },
   {
    "duration": 734,
    "start_time": "2021-12-13T12:09:27.326Z"
   },
   {
    "duration": 578,
    "start_time": "2021-12-13T12:09:28.063Z"
   },
   {
    "duration": 713,
    "start_time": "2021-12-13T12:09:28.644Z"
   },
   {
    "duration": 9,
    "start_time": "2021-12-13T12:09:29.361Z"
   },
   {
    "duration": 327,
    "start_time": "2021-12-13T12:09:29.373Z"
   },
   {
    "duration": 77,
    "start_time": "2021-12-13T12:09:53.902Z"
   },
   {
    "duration": 28,
    "start_time": "2021-12-13T12:10:15.564Z"
   },
   {
    "duration": 24,
    "start_time": "2021-12-13T12:11:21.728Z"
   },
   {
    "duration": 26,
    "start_time": "2021-12-13T12:11:26.855Z"
   },
   {
    "duration": 35,
    "start_time": "2021-12-13T12:11:33.949Z"
   },
   {
    "duration": 36,
    "start_time": "2021-12-13T12:12:43.104Z"
   },
   {
    "duration": 32,
    "start_time": "2021-12-13T12:12:54.723Z"
   },
   {
    "duration": 40,
    "start_time": "2021-12-13T12:14:01.886Z"
   },
   {
    "duration": 40,
    "start_time": "2021-12-13T12:14:22.530Z"
   },
   {
    "duration": 41,
    "start_time": "2021-12-13T12:15:11.819Z"
   },
   {
    "duration": 42,
    "start_time": "2021-12-13T12:15:19.128Z"
   },
   {
    "duration": 37,
    "start_time": "2021-12-13T12:15:26.488Z"
   },
   {
    "duration": 41,
    "start_time": "2021-12-13T12:16:09.715Z"
   },
   {
    "duration": 39,
    "start_time": "2021-12-13T12:18:47.430Z"
   },
   {
    "duration": 40,
    "start_time": "2021-12-13T12:22:55.424Z"
   },
   {
    "duration": 623,
    "start_time": "2021-12-13T12:25:14.577Z"
   },
   {
    "duration": 36,
    "start_time": "2021-12-13T12:25:27.649Z"
   },
   {
    "duration": 36,
    "start_time": "2021-12-13T12:25:40.479Z"
   },
   {
    "duration": 40,
    "start_time": "2021-12-13T12:26:07.314Z"
   },
   {
    "duration": 58,
    "start_time": "2021-12-13T12:26:36.263Z"
   },
   {
    "duration": 61,
    "start_time": "2021-12-13T12:26:43.110Z"
   },
   {
    "duration": 40,
    "start_time": "2021-12-13T12:29:57.839Z"
   },
   {
    "duration": 17,
    "start_time": "2021-12-13T12:31:06.336Z"
   },
   {
    "duration": 22,
    "start_time": "2021-12-13T12:32:12.645Z"
   },
   {
    "duration": 165,
    "start_time": "2021-12-13T12:34:13.300Z"
   },
   {
    "duration": 20,
    "start_time": "2021-12-13T12:34:24.251Z"
   },
   {
    "duration": 22,
    "start_time": "2021-12-13T12:35:14.616Z"
   },
   {
    "duration": 22,
    "start_time": "2021-12-13T12:35:19.648Z"
   },
   {
    "duration": 26,
    "start_time": "2021-12-13T12:36:31.190Z"
   },
   {
    "duration": 31,
    "start_time": "2021-12-13T12:37:08.022Z"
   },
   {
    "duration": 29,
    "start_time": "2021-12-13T12:38:22.127Z"
   },
   {
    "duration": 4,
    "start_time": "2021-12-13T12:56:33.697Z"
   },
   {
    "duration": 524,
    "start_time": "2021-12-13T12:56:33.711Z"
   },
   {
    "duration": 21,
    "start_time": "2021-12-13T12:56:34.238Z"
   },
   {
    "duration": 95,
    "start_time": "2021-12-13T12:56:34.262Z"
   },
   {
    "duration": 165,
    "start_time": "2021-12-13T12:56:34.361Z"
   },
   {
    "duration": 146,
    "start_time": "2021-12-13T12:56:34.530Z"
   },
   {
    "duration": 23,
    "start_time": "2021-12-13T12:56:34.678Z"
   },
   {
    "duration": 7,
    "start_time": "2021-12-13T12:56:34.703Z"
   },
   {
    "duration": 16,
    "start_time": "2021-12-13T12:56:34.712Z"
   },
   {
    "duration": 152,
    "start_time": "2021-12-13T12:56:34.734Z"
   },
   {
    "duration": 95,
    "start_time": "2021-12-13T12:56:34.890Z"
   },
   {
    "duration": 103,
    "start_time": "2021-12-13T12:56:34.987Z"
   },
   {
    "duration": 46,
    "start_time": "2021-12-13T12:56:35.093Z"
   },
   {
    "duration": 173,
    "start_time": "2021-12-13T12:56:35.142Z"
   },
   {
    "duration": 115,
    "start_time": "2021-12-13T12:56:35.322Z"
   },
   {
    "duration": 106,
    "start_time": "2021-12-13T12:56:35.440Z"
   },
   {
    "duration": 177,
    "start_time": "2021-12-13T12:56:35.549Z"
   },
   {
    "duration": 9,
    "start_time": "2021-12-13T12:56:35.729Z"
   },
   {
    "duration": 84,
    "start_time": "2021-12-13T12:56:35.741Z"
   },
   {
    "duration": 62,
    "start_time": "2021-12-13T12:56:35.827Z"
   },
   {
    "duration": 100,
    "start_time": "2021-12-13T12:56:35.891Z"
   },
   {
    "duration": 107,
    "start_time": "2021-12-13T12:56:35.994Z"
   },
   {
    "duration": 761,
    "start_time": "2021-12-13T12:56:36.103Z"
   },
   {
    "duration": 706,
    "start_time": "2021-12-13T12:56:36.866Z"
   },
   {
    "duration": 738,
    "start_time": "2021-12-13T12:56:37.575Z"
   },
   {
    "duration": 537,
    "start_time": "2021-12-13T12:56:38.315Z"
   },
   {
    "duration": 719,
    "start_time": "2021-12-13T12:56:38.854Z"
   },
   {
    "duration": 9,
    "start_time": "2021-12-13T12:56:39.577Z"
   },
   {
    "duration": 52,
    "start_time": "2021-12-13T12:56:39.589Z"
   },
   {
    "duration": 4,
    "start_time": "2021-12-13T13:07:51.862Z"
   },
   {
    "duration": 527,
    "start_time": "2021-12-13T13:07:51.868Z"
   },
   {
    "duration": 2,
    "start_time": "2021-12-13T13:07:52.398Z"
   },
   {
    "duration": 67,
    "start_time": "2021-12-13T13:07:52.403Z"
   },
   {
    "duration": 113,
    "start_time": "2021-12-13T13:07:52.473Z"
   },
   {
    "duration": 4,
    "start_time": "2021-12-13T13:07:52.623Z"
   },
   {
    "duration": 24,
    "start_time": "2021-12-13T13:07:52.629Z"
   },
   {
    "duration": 6,
    "start_time": "2021-12-13T13:07:52.657Z"
   },
   {
    "duration": 15,
    "start_time": "2021-12-13T13:07:52.666Z"
   },
   {
    "duration": 146,
    "start_time": "2021-12-13T13:07:52.684Z"
   },
   {
    "duration": 94,
    "start_time": "2021-12-13T13:07:52.832Z"
   },
   {
    "duration": 80,
    "start_time": "2021-12-13T13:07:52.928Z"
   },
   {
    "duration": 30,
    "start_time": "2021-12-13T13:07:53.022Z"
   },
   {
    "duration": 113,
    "start_time": "2021-12-13T13:07:53.054Z"
   },
   {
    "duration": 105,
    "start_time": "2021-12-13T13:07:53.169Z"
   },
   {
    "duration": 100,
    "start_time": "2021-12-13T13:07:53.277Z"
   },
   {
    "duration": 179,
    "start_time": "2021-12-13T13:07:53.379Z"
   },
   {
    "duration": 7,
    "start_time": "2021-12-13T13:07:53.561Z"
   },
   {
    "duration": 75,
    "start_time": "2021-12-13T13:07:53.570Z"
   },
   {
    "duration": 59,
    "start_time": "2021-12-13T13:07:53.647Z"
   },
   {
    "duration": 77,
    "start_time": "2021-12-13T13:07:53.724Z"
   },
   {
    "duration": 97,
    "start_time": "2021-12-13T13:07:53.804Z"
   },
   {
    "duration": 703,
    "start_time": "2021-12-13T13:07:53.927Z"
   },
   {
    "duration": 684,
    "start_time": "2021-12-13T13:07:54.632Z"
   },
   {
    "duration": 667,
    "start_time": "2021-12-13T13:07:55.318Z"
   },
   {
    "duration": 523,
    "start_time": "2021-12-13T13:07:55.988Z"
   },
   {
    "duration": 718,
    "start_time": "2021-12-13T13:07:56.514Z"
   },
   {
    "duration": 9,
    "start_time": "2021-12-13T13:07:57.236Z"
   },
   {
    "duration": 33,
    "start_time": "2021-12-13T13:07:57.248Z"
   },
   {
    "duration": 37,
    "start_time": "2021-12-13T13:23:13.664Z"
   },
   {
    "duration": 4,
    "start_time": "2021-12-13T13:26:14.274Z"
   },
   {
    "duration": 655,
    "start_time": "2021-12-13T13:26:14.281Z"
   },
   {
    "duration": 99,
    "start_time": "2021-12-13T13:26:14.940Z"
   },
   {
    "duration": 126,
    "start_time": "2021-12-13T13:26:15.042Z"
   },
   {
    "duration": 7,
    "start_time": "2021-12-13T13:26:15.172Z"
   },
   {
    "duration": 21,
    "start_time": "2021-12-13T13:26:15.183Z"
   },
   {
    "duration": 37,
    "start_time": "2021-12-13T13:26:15.208Z"
   },
   {
    "duration": 39,
    "start_time": "2021-12-13T13:26:15.248Z"
   },
   {
    "duration": 244,
    "start_time": "2021-12-13T13:26:15.291Z"
   },
   {
    "duration": 124,
    "start_time": "2021-12-13T13:26:15.540Z"
   },
   {
    "duration": 103,
    "start_time": "2021-12-13T13:26:15.667Z"
   },
   {
    "duration": 52,
    "start_time": "2021-12-13T13:26:15.773Z"
   },
   {
    "duration": 141,
    "start_time": "2021-12-13T13:26:15.829Z"
   },
   {
    "duration": 112,
    "start_time": "2021-12-13T13:26:15.973Z"
   },
   {
    "duration": 113,
    "start_time": "2021-12-13T13:26:16.088Z"
   },
   {
    "duration": 202,
    "start_time": "2021-12-13T13:26:16.204Z"
   },
   {
    "duration": 15,
    "start_time": "2021-12-13T13:26:16.408Z"
   },
   {
    "duration": 73,
    "start_time": "2021-12-13T13:26:16.426Z"
   },
   {
    "duration": 79,
    "start_time": "2021-12-13T13:26:16.502Z"
   },
   {
    "duration": 94,
    "start_time": "2021-12-13T13:26:16.584Z"
   },
   {
    "duration": 85,
    "start_time": "2021-12-13T13:26:16.681Z"
   },
   {
    "duration": 816,
    "start_time": "2021-12-13T13:26:16.769Z"
   },
   {
    "duration": 816,
    "start_time": "2021-12-13T13:26:17.588Z"
   },
   {
    "duration": 718,
    "start_time": "2021-12-13T13:26:18.407Z"
   },
   {
    "duration": 567,
    "start_time": "2021-12-13T13:26:19.128Z"
   },
   {
    "duration": 708,
    "start_time": "2021-12-13T13:26:19.697Z"
   },
   {
    "duration": 17,
    "start_time": "2021-12-13T13:26:20.410Z"
   },
   {
    "duration": 28,
    "start_time": "2021-12-13T13:26:20.430Z"
   },
   {
    "duration": 708,
    "start_time": "2021-12-14T08:09:24.902Z"
   },
   {
    "duration": 1378,
    "start_time": "2021-12-14T09:03:07.994Z"
   },
   {
    "duration": 509,
    "start_time": "2021-12-14T09:03:09.375Z"
   },
   {
    "duration": 72,
    "start_time": "2021-12-14T09:03:09.888Z"
   },
   {
    "duration": 113,
    "start_time": "2021-12-14T09:03:09.963Z"
   },
   {
    "duration": 4,
    "start_time": "2021-12-14T09:03:10.078Z"
   },
   {
    "duration": 48,
    "start_time": "2021-12-14T09:03:10.085Z"
   },
   {
    "duration": 4,
    "start_time": "2021-12-14T09:03:10.136Z"
   },
   {
    "duration": 16,
    "start_time": "2021-12-14T09:03:10.142Z"
   },
   {
    "duration": 13,
    "start_time": "2021-12-14T09:03:10.161Z"
   },
   {
    "duration": 194,
    "start_time": "2021-12-14T09:03:10.177Z"
   },
   {
    "duration": 107,
    "start_time": "2021-12-14T09:03:10.374Z"
   },
   {
    "duration": 99,
    "start_time": "2021-12-14T09:03:10.484Z"
   },
   {
    "duration": 52,
    "start_time": "2021-12-14T09:03:10.586Z"
   },
   {
    "duration": 117,
    "start_time": "2021-12-14T09:03:10.640Z"
   },
   {
    "duration": 108,
    "start_time": "2021-12-14T09:03:10.760Z"
   },
   {
    "duration": 119,
    "start_time": "2021-12-14T09:03:10.871Z"
   },
   {
    "duration": 198,
    "start_time": "2021-12-14T09:03:10.993Z"
   },
   {
    "duration": 7,
    "start_time": "2021-12-14T09:03:11.193Z"
   },
   {
    "duration": 79,
    "start_time": "2021-12-14T09:03:11.202Z"
   },
   {
    "duration": 88,
    "start_time": "2021-12-14T09:03:11.283Z"
   },
   {
    "duration": 85,
    "start_time": "2021-12-14T09:03:11.373Z"
   },
   {
    "duration": 93,
    "start_time": "2021-12-14T09:03:11.460Z"
   },
   {
    "duration": 741,
    "start_time": "2021-12-14T09:03:11.556Z"
   },
   {
    "duration": 751,
    "start_time": "2021-12-14T09:03:12.300Z"
   },
   {
    "duration": 785,
    "start_time": "2021-12-14T09:03:13.054Z"
   },
   {
    "duration": 587,
    "start_time": "2021-12-14T09:03:13.842Z"
   },
   {
    "duration": 824,
    "start_time": "2021-12-14T09:03:14.435Z"
   },
   {
    "duration": 10,
    "start_time": "2021-12-14T09:03:15.263Z"
   },
   {
    "duration": 69,
    "start_time": "2021-12-14T09:03:15.276Z"
   },
   {
    "duration": 104,
    "start_time": "2021-12-14T09:23:13.140Z"
   },
   {
    "duration": 105,
    "start_time": "2021-12-14T09:23:22.116Z"
   },
   {
    "duration": 5,
    "start_time": "2021-12-14T09:23:32.744Z"
   },
   {
    "duration": 535,
    "start_time": "2021-12-14T09:23:32.751Z"
   },
   {
    "duration": 71,
    "start_time": "2021-12-14T09:23:33.289Z"
   },
   {
    "duration": 165,
    "start_time": "2021-12-14T09:23:33.363Z"
   },
   {
    "duration": 6,
    "start_time": "2021-12-14T09:23:33.531Z"
   },
   {
    "duration": 25,
    "start_time": "2021-12-14T09:23:33.540Z"
   },
   {
    "duration": 18,
    "start_time": "2021-12-14T09:23:33.569Z"
   },
   {
    "duration": 29,
    "start_time": "2021-12-14T09:23:33.590Z"
   },
   {
    "duration": 22,
    "start_time": "2021-12-14T09:23:33.626Z"
   },
   {
    "duration": 174,
    "start_time": "2021-12-14T09:23:33.651Z"
   },
   {
    "duration": 125,
    "start_time": "2021-12-14T09:23:33.828Z"
   },
   {
    "duration": 107,
    "start_time": "2021-12-14T09:23:33.955Z"
   },
   {
    "duration": 30,
    "start_time": "2021-12-14T09:23:34.065Z"
   },
   {
    "duration": 118,
    "start_time": "2021-12-14T09:23:34.097Z"
   },
   {
    "duration": 118,
    "start_time": "2021-12-14T09:23:34.217Z"
   },
   {
    "duration": 112,
    "start_time": "2021-12-14T09:23:34.339Z"
   },
   {
    "duration": 209,
    "start_time": "2021-12-14T09:23:34.453Z"
   },
   {
    "duration": 9,
    "start_time": "2021-12-14T09:23:34.665Z"
   },
   {
    "duration": 90,
    "start_time": "2021-12-14T09:23:34.677Z"
   },
   {
    "duration": 88,
    "start_time": "2021-12-14T09:23:34.770Z"
   },
   {
    "duration": 89,
    "start_time": "2021-12-14T09:23:34.860Z"
   },
   {
    "duration": 88,
    "start_time": "2021-12-14T09:23:34.952Z"
   },
   {
    "duration": 728,
    "start_time": "2021-12-14T09:23:35.043Z"
   },
   {
    "duration": 725,
    "start_time": "2021-12-14T09:23:35.773Z"
   },
   {
    "duration": 716,
    "start_time": "2021-12-14T09:23:36.501Z"
   },
   {
    "duration": 563,
    "start_time": "2021-12-14T09:23:37.226Z"
   },
   {
    "duration": 854,
    "start_time": "2021-12-14T09:23:37.793Z"
   },
   {
    "duration": 8,
    "start_time": "2021-12-14T09:23:38.649Z"
   },
   {
    "duration": 38,
    "start_time": "2021-12-14T09:23:38.660Z"
   },
   {
    "duration": 6,
    "start_time": "2021-12-14T09:28:28.588Z"
   },
   {
    "duration": 9933,
    "start_time": "2021-12-14T09:28:56.177Z"
   },
   {
    "duration": 4,
    "start_time": "2021-12-14T09:33:40.187Z"
   },
   {
    "duration": 518,
    "start_time": "2021-12-14T09:33:40.194Z"
   },
   {
    "duration": 69,
    "start_time": "2021-12-14T09:33:40.715Z"
   },
   {
    "duration": 151,
    "start_time": "2021-12-14T09:33:40.787Z"
   },
   {
    "duration": 5,
    "start_time": "2021-12-14T09:33:40.942Z"
   },
   {
    "duration": 14,
    "start_time": "2021-12-14T09:33:40.950Z"
   },
   {
    "duration": 3,
    "start_time": "2021-12-14T09:33:40.967Z"
   },
   {
    "duration": 59,
    "start_time": "2021-12-14T09:33:40.973Z"
   },
   {
    "duration": 13,
    "start_time": "2021-12-14T09:33:41.040Z"
   },
   {
    "duration": 182,
    "start_time": "2021-12-14T09:33:41.057Z"
   },
   {
    "duration": 114,
    "start_time": "2021-12-14T09:33:41.242Z"
   },
   {
    "duration": 99,
    "start_time": "2021-12-14T09:33:41.358Z"
   },
   {
    "duration": 28,
    "start_time": "2021-12-14T09:33:41.459Z"
   },
   {
    "duration": 8437,
    "start_time": "2021-12-14T09:33:41.490Z"
   },
   {
    "duration": -221,
    "start_time": "2021-12-14T09:33:50.152Z"
   },
   {
    "duration": -222,
    "start_time": "2021-12-14T09:33:50.156Z"
   },
   {
    "duration": -257,
    "start_time": "2021-12-14T09:33:50.193Z"
   },
   {
    "duration": -263,
    "start_time": "2021-12-14T09:33:50.201Z"
   },
   {
    "duration": -264,
    "start_time": "2021-12-14T09:33:50.204Z"
   },
   {
    "duration": -265,
    "start_time": "2021-12-14T09:33:50.207Z"
   },
   {
    "duration": -269,
    "start_time": "2021-12-14T09:33:50.213Z"
   },
   {
    "duration": -271,
    "start_time": "2021-12-14T09:33:50.216Z"
   },
   {
    "duration": -273,
    "start_time": "2021-12-14T09:33:50.219Z"
   },
   {
    "duration": -275,
    "start_time": "2021-12-14T09:33:50.222Z"
   },
   {
    "duration": -278,
    "start_time": "2021-12-14T09:33:50.226Z"
   },
   {
    "duration": -280,
    "start_time": "2021-12-14T09:33:50.230Z"
   },
   {
    "duration": -282,
    "start_time": "2021-12-14T09:33:50.233Z"
   },
   {
    "duration": -284,
    "start_time": "2021-12-14T09:33:50.236Z"
   },
   {
    "duration": -286,
    "start_time": "2021-12-14T09:33:50.239Z"
   },
   {
    "duration": 98,
    "start_time": "2021-12-14T09:36:09.443Z"
   },
   {
    "duration": 226,
    "start_time": "2021-12-14T09:36:17.121Z"
   },
   {
    "duration": 5,
    "start_time": "2021-12-14T09:36:45.686Z"
   },
   {
    "duration": 533,
    "start_time": "2021-12-14T09:36:45.706Z"
   },
   {
    "duration": 85,
    "start_time": "2021-12-14T09:36:46.242Z"
   },
   {
    "duration": 117,
    "start_time": "2021-12-14T09:36:46.331Z"
   },
   {
    "duration": 4,
    "start_time": "2021-12-14T09:36:46.451Z"
   },
   {
    "duration": 17,
    "start_time": "2021-12-14T09:36:46.458Z"
   },
   {
    "duration": 3,
    "start_time": "2021-12-14T09:36:46.477Z"
   },
   {
    "duration": 49,
    "start_time": "2021-12-14T09:36:46.483Z"
   },
   {
    "duration": 13,
    "start_time": "2021-12-14T09:36:46.536Z"
   },
   {
    "duration": 170,
    "start_time": "2021-12-14T09:36:46.553Z"
   },
   {
    "duration": 122,
    "start_time": "2021-12-14T09:36:46.728Z"
   },
   {
    "duration": 102,
    "start_time": "2021-12-14T09:36:46.853Z"
   },
   {
    "duration": 29,
    "start_time": "2021-12-14T09:36:46.958Z"
   },
   {
    "duration": 253,
    "start_time": "2021-12-14T09:36:46.989Z"
   },
   {
    "duration": 127,
    "start_time": "2021-12-14T09:36:47.244Z"
   },
   {
    "duration": 110,
    "start_time": "2021-12-14T09:36:47.373Z"
   },
   {
    "duration": 193,
    "start_time": "2021-12-14T09:36:47.486Z"
   },
   {
    "duration": 8,
    "start_time": "2021-12-14T09:36:47.681Z"
   },
   {
    "duration": 83,
    "start_time": "2021-12-14T09:36:47.691Z"
   },
   {
    "duration": 84,
    "start_time": "2021-12-14T09:36:47.776Z"
   },
   {
    "duration": 91,
    "start_time": "2021-12-14T09:36:47.863Z"
   },
   {
    "duration": 92,
    "start_time": "2021-12-14T09:36:47.957Z"
   },
   {
    "duration": 750,
    "start_time": "2021-12-14T09:36:48.052Z"
   },
   {
    "duration": 753,
    "start_time": "2021-12-14T09:36:48.804Z"
   },
   {
    "duration": 729,
    "start_time": "2021-12-14T09:36:49.559Z"
   },
   {
    "duration": 579,
    "start_time": "2021-12-14T09:36:50.290Z"
   },
   {
    "duration": 864,
    "start_time": "2021-12-14T09:36:50.872Z"
   },
   {
    "duration": 9,
    "start_time": "2021-12-14T09:36:51.741Z"
   },
   {
    "duration": 29,
    "start_time": "2021-12-14T09:36:51.752Z"
   },
   {
    "duration": 4,
    "start_time": "2021-12-14T09:37:22.186Z"
   },
   {
    "duration": 519,
    "start_time": "2021-12-14T09:37:22.193Z"
   },
   {
    "duration": 70,
    "start_time": "2021-12-14T09:37:22.715Z"
   },
   {
    "duration": 150,
    "start_time": "2021-12-14T09:37:22.788Z"
   },
   {
    "duration": 5,
    "start_time": "2021-12-14T09:37:22.941Z"
   },
   {
    "duration": 13,
    "start_time": "2021-12-14T09:37:22.949Z"
   },
   {
    "duration": 3,
    "start_time": "2021-12-14T09:37:22.964Z"
   },
   {
    "duration": 11,
    "start_time": "2021-12-14T09:37:22.971Z"
   },
   {
    "duration": 43,
    "start_time": "2021-12-14T09:37:22.985Z"
   },
   {
    "duration": 180,
    "start_time": "2021-12-14T09:37:23.031Z"
   },
   {
    "duration": 119,
    "start_time": "2021-12-14T09:37:23.214Z"
   },
   {
    "duration": 102,
    "start_time": "2021-12-14T09:37:23.338Z"
   },
   {
    "duration": 32,
    "start_time": "2021-12-14T09:37:23.442Z"
   },
   {
    "duration": 146,
    "start_time": "2021-12-14T09:37:23.477Z"
   },
   {
    "duration": 112,
    "start_time": "2021-12-14T09:37:23.627Z"
   },
   {
    "duration": 111,
    "start_time": "2021-12-14T09:37:23.742Z"
   },
   {
    "duration": 198,
    "start_time": "2021-12-14T09:37:23.856Z"
   },
   {
    "duration": 7,
    "start_time": "2021-12-14T09:37:24.057Z"
   },
   {
    "duration": 83,
    "start_time": "2021-12-14T09:37:24.067Z"
   },
   {
    "duration": 83,
    "start_time": "2021-12-14T09:37:24.153Z"
   },
   {
    "duration": 86,
    "start_time": "2021-12-14T09:37:24.239Z"
   },
   {
    "duration": 71,
    "start_time": "2021-12-14T09:37:24.328Z"
   },
   {
    "duration": 757,
    "start_time": "2021-12-14T09:37:24.423Z"
   },
   {
    "duration": 772,
    "start_time": "2021-12-14T09:37:25.183Z"
   },
   {
    "duration": 732,
    "start_time": "2021-12-14T09:37:25.958Z"
   },
   {
    "duration": 581,
    "start_time": "2021-12-14T09:37:26.692Z"
   },
   {
    "duration": 857,
    "start_time": "2021-12-14T09:37:27.275Z"
   },
   {
    "duration": 12,
    "start_time": "2021-12-14T09:37:28.135Z"
   },
   {
    "duration": 30,
    "start_time": "2021-12-14T09:37:28.150Z"
   },
   {
    "duration": 204,
    "start_time": "2021-12-14T09:38:05.851Z"
   },
   {
    "duration": 4,
    "start_time": "2021-12-14T09:40:21.536Z"
   },
   {
    "duration": 528,
    "start_time": "2021-12-14T09:40:21.546Z"
   },
   {
    "duration": 68,
    "start_time": "2021-12-14T09:40:22.077Z"
   },
   {
    "duration": 127,
    "start_time": "2021-12-14T09:40:22.148Z"
   },
   {
    "duration": 44,
    "start_time": "2021-12-14T09:40:22.279Z"
   },
   {
    "duration": 19,
    "start_time": "2021-12-14T09:40:22.327Z"
   },
   {
    "duration": 3,
    "start_time": "2021-12-14T09:40:22.349Z"
   },
   {
    "duration": 12,
    "start_time": "2021-12-14T09:40:22.355Z"
   },
   {
    "duration": 6,
    "start_time": "2021-12-14T09:40:22.371Z"
   },
   {
    "duration": 215,
    "start_time": "2021-12-14T09:40:22.381Z"
   },
   {
    "duration": 112,
    "start_time": "2021-12-14T09:40:22.599Z"
   },
   {
    "duration": 123,
    "start_time": "2021-12-14T09:40:22.714Z"
   },
   {
    "duration": 29,
    "start_time": "2021-12-14T09:40:22.840Z"
   },
   {
    "duration": 242,
    "start_time": "2021-12-14T09:40:22.871Z"
   },
   {
    "duration": 121,
    "start_time": "2021-12-14T09:40:23.116Z"
   },
   {
    "duration": 112,
    "start_time": "2021-12-14T09:40:23.240Z"
   },
   {
    "duration": 201,
    "start_time": "2021-12-14T09:40:23.355Z"
   },
   {
    "duration": 8,
    "start_time": "2021-12-14T09:40:23.559Z"
   },
   {
    "duration": 84,
    "start_time": "2021-12-14T09:40:23.570Z"
   },
   {
    "duration": 72,
    "start_time": "2021-12-14T09:40:23.657Z"
   },
   {
    "duration": 104,
    "start_time": "2021-12-14T09:40:23.733Z"
   },
   {
    "duration": 87,
    "start_time": "2021-12-14T09:40:23.839Z"
   },
   {
    "duration": 940,
    "start_time": "2021-12-14T09:40:23.931Z"
   },
   {
    "duration": 1046,
    "start_time": "2021-12-14T09:40:24.877Z"
   },
   {
    "duration": 867,
    "start_time": "2021-12-14T09:40:25.927Z"
   },
   {
    "duration": 582,
    "start_time": "2021-12-14T09:40:26.796Z"
   },
   {
    "duration": 747,
    "start_time": "2021-12-14T09:40:27.381Z"
   },
   {
    "duration": 11,
    "start_time": "2021-12-14T09:40:28.133Z"
   },
   {
    "duration": 32,
    "start_time": "2021-12-14T09:40:28.146Z"
   },
   {
    "duration": 99,
    "start_time": "2021-12-14T09:56:20.155Z"
   },
   {
    "duration": 369,
    "start_time": "2021-12-14T09:56:36.176Z"
   },
   {
    "duration": 267,
    "start_time": "2021-12-14T09:57:32.490Z"
   },
   {
    "duration": 97,
    "start_time": "2021-12-14T09:58:01.898Z"
   },
   {
    "duration": 7,
    "start_time": "2021-12-14T09:58:08.273Z"
   },
   {
    "duration": 10516,
    "start_time": "2021-12-14T09:59:36.047Z"
   },
   {
    "duration": 121,
    "start_time": "2021-12-14T10:02:34.774Z"
   },
   {
    "duration": 7469,
    "start_time": "2021-12-14T10:02:52.757Z"
   },
   {
    "duration": 9298,
    "start_time": "2021-12-14T10:03:35.178Z"
   },
   {
    "duration": 23,
    "start_time": "2021-12-14T10:04:13.150Z"
   },
   {
    "duration": 311,
    "start_time": "2021-12-14T10:04:52.935Z"
   },
   {
    "duration": 285,
    "start_time": "2021-12-14T10:05:09.072Z"
   },
   {
    "duration": 96,
    "start_time": "2021-12-14T10:05:51.175Z"
   },
   {
    "duration": 293,
    "start_time": "2021-12-14T10:06:05.640Z"
   },
   {
    "duration": 13,
    "start_time": "2021-12-14T10:06:13.326Z"
   },
   {
    "duration": 168,
    "start_time": "2021-12-14T10:07:03.341Z"
   },
   {
    "duration": 286,
    "start_time": "2021-12-14T10:07:17.897Z"
   },
   {
    "duration": 397,
    "start_time": "2021-12-14T10:08:35.189Z"
   },
   {
    "duration": 98,
    "start_time": "2021-12-14T10:09:21.335Z"
   },
   {
    "duration": 100,
    "start_time": "2021-12-14T10:09:24.789Z"
   },
   {
    "duration": 307,
    "start_time": "2021-12-14T10:09:30.091Z"
   },
   {
    "duration": 26,
    "start_time": "2021-12-14T10:09:40.438Z"
   },
   {
    "duration": 10,
    "start_time": "2021-12-14T10:11:04.721Z"
   },
   {
    "duration": 10,
    "start_time": "2021-12-14T10:11:35.002Z"
   },
   {
    "duration": 5,
    "start_time": "2021-12-14T10:16:31.746Z"
   },
   {
    "duration": 591,
    "start_time": "2021-12-14T10:16:31.754Z"
   },
   {
    "duration": 80,
    "start_time": "2021-12-14T10:16:32.348Z"
   },
   {
    "duration": 128,
    "start_time": "2021-12-14T10:16:32.432Z"
   },
   {
    "duration": 4,
    "start_time": "2021-12-14T10:16:32.563Z"
   },
   {
    "duration": 33,
    "start_time": "2021-12-14T10:16:32.570Z"
   },
   {
    "duration": 25,
    "start_time": "2021-12-14T10:16:32.606Z"
   },
   {
    "duration": 25,
    "start_time": "2021-12-14T10:16:32.637Z"
   },
   {
    "duration": 31,
    "start_time": "2021-12-14T10:16:32.666Z"
   },
   {
    "duration": 180,
    "start_time": "2021-12-14T10:16:32.699Z"
   },
   {
    "duration": 103,
    "start_time": "2021-12-14T10:16:32.881Z"
   },
   {
    "duration": 93,
    "start_time": "2021-12-14T10:16:32.986Z"
   },
   {
    "duration": 49,
    "start_time": "2021-12-14T10:16:33.082Z"
   },
   {
    "duration": 223,
    "start_time": "2021-12-14T10:16:33.134Z"
   },
   {
    "duration": 114,
    "start_time": "2021-12-14T10:16:33.359Z"
   },
   {
    "duration": 113,
    "start_time": "2021-12-14T10:16:33.475Z"
   },
   {
    "duration": 188,
    "start_time": "2021-12-14T10:16:33.590Z"
   },
   {
    "duration": 8,
    "start_time": "2021-12-14T10:16:33.780Z"
   },
   {
    "duration": 85,
    "start_time": "2021-12-14T10:16:33.790Z"
   },
   {
    "duration": 78,
    "start_time": "2021-12-14T10:16:33.877Z"
   },
   {
    "duration": 89,
    "start_time": "2021-12-14T10:16:33.958Z"
   },
   {
    "duration": 84,
    "start_time": "2021-12-14T10:16:34.050Z"
   },
   {
    "duration": 745,
    "start_time": "2021-12-14T10:16:34.141Z"
   },
   {
    "duration": 750,
    "start_time": "2021-12-14T10:16:34.889Z"
   },
   {
    "duration": 936,
    "start_time": "2021-12-14T10:16:35.641Z"
   },
   {
    "duration": 591,
    "start_time": "2021-12-14T10:16:36.579Z"
   },
   {
    "duration": 753,
    "start_time": "2021-12-14T10:16:37.173Z"
   },
   {
    "duration": 8,
    "start_time": "2021-12-14T10:16:37.929Z"
   },
   {
    "duration": 47,
    "start_time": "2021-12-14T10:16:37.940Z"
   }
  ],
  "kernelspec": {
   "display_name": "Python 3",
   "language": "python",
   "name": "python3"
  },
  "language_info": {
   "codemirror_mode": {
    "name": "ipython",
    "version": 3
   },
   "file_extension": ".py",
   "mimetype": "text/x-python",
   "name": "python",
   "nbconvert_exporter": "python",
   "pygments_lexer": "ipython3",
   "version": "3.8.8"
  },
  "toc": {
   "base_numbering": 1,
   "nav_menu": {},
   "number_sections": true,
   "sideBar": true,
   "skip_h1_title": true,
   "title_cell": "Table of Contents",
   "title_sidebar": "Contents",
   "toc_cell": false,
   "toc_position": {
    "height": "calc(100% - 180px)",
    "left": "10px",
    "top": "150px",
    "width": "355.762px"
   },
   "toc_section_display": true,
   "toc_window_display": true
  }
 },
 "nbformat": 4,
 "nbformat_minor": 2
}
