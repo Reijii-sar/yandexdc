{
 "cells": [
  {
   "cell_type": "markdown",
   "metadata": {},
   "source": [
    "# Выбор локации для скважины"
   ]
  },
  {
   "cell_type": "markdown",
   "metadata": {},
   "source": [
    "Допустим, вы работаете в добывающей компании «ГлавРосГосНефть». Нужно решить, где бурить новую скважину.\n",
    "\n",
    "Вам предоставлены пробы нефти в трёх регионах: в каждом 10 000 месторождений, где измерили качество нефти и объём её запасов. Постройте модель машинного обучения, которая поможет определить регион, где добыча принесёт наибольшую прибыль. Проанализируйте возможную прибыль и риски техникой *Bootstrap.*\n",
    "\n",
    "**Шаги для выбора локации:**\n",
    "\n",
    "- В избранном регионе ищут месторождения, для каждого определяют значения признаков;\n",
    "- Строят модель и оценивают объём запасов;\n",
    "- Выбирают месторождения с самым высокими оценками значений. Количество месторождений зависит от бюджета компании и стоимости разработки одной скважины;\n",
    "- Прибыль равна суммарной прибыли отобранных месторождений.\n",
    "\n",
    "**Задача**\n",
    "1. Обучить и проверите модель для каждого региона.\n",
    "2. Расчитать средний запас предсказанного сырья и RMSE модели.\n",
    "3. Рассчитать достаточный объём сырья для безубыточной разработки новой скважины. Сравнить полученный объём сырья со средним запасом в каждом регионе.\n",
    "4. Просуммировать целевое значение объёма сырья на скважинах с максимальными значениями предсказаний.\n",
    "5. Рассчитайть прибыль для полученного объёма сырья.\n",
    "5. Посчитайте риски и прибыль для каждого региона.\n",
    "\n",
    "**Описание данных**  \n",
    "- id — уникальный идентификатор скважины;\n",
    "- f0, f1, f2 — три признака точек;\n",
    "- product — объём запасов в скважине (тыс. баррелей).\n",
    "\n",
    "**Условия задачи:**  \n",
    "- Для обучения модели подходит только линейная регрессия (остальные — недостаточно предсказуемые).\n",
    "- При разведке региона исследуют 500 точек, из которых с помощью машинного обучения выбирают 200 лучших для разработки.\n",
    "- Бюджет на разработку скважин в регионе — 10 млрд рублей.\n",
    "- При нынешних ценах один баррель сырья приносит 450 рублей дохода. Доход с каждой единицы продукта составляет 450 тыс. рублей, поскольку объём указан в тысячах баррелей.\n",
    "- После оценки рисков нужно оставить лишь те регионы, в которых вероятность убытков меньше 2.5%. Среди них выбирают регион с наибольшей средней прибылью."
   ]
  },
  {
   "cell_type": "markdown",
   "metadata": {},
   "source": [
    "## Загрузка и подготовка данных"
   ]
  },
  {
   "cell_type": "code",
   "execution_count": 361,
   "metadata": {},
   "outputs": [],
   "source": [
    "import pandas as pd\n",
    "import numpy as np\n",
    "from sklearn.model_selection import train_test_split\n",
    "from sklearn.linear_model import LinearRegression\n",
    "from sklearn.metrics import mean_squared_error"
   ]
  },
  {
   "cell_type": "code",
   "execution_count": 362,
   "metadata": {},
   "outputs": [],
   "source": [
    "data_zero = pd.read_csv('/datasets/geo_data_0.csv')\n",
    "data_one = pd.read_csv('/datasets/geo_data_1.csv')\n",
    "data_two = pd.read_csv('/datasets/geo_data_2.csv')"
   ]
  },
  {
   "cell_type": "code",
   "execution_count": 363,
   "metadata": {},
   "outputs": [
    {
     "name": "stdout",
     "output_type": "stream",
     "text": [
      "      id        f0        f1        f2     product\n",
      "0  txEyH  0.705745 -0.497823  1.221170  105.280062\n",
      "1  2acmU  1.334711 -0.340164  4.365080   73.037750\n",
      "2  409Wp  1.022732  0.151990  1.419926   85.265647\n",
      "3  iJLyR -0.032172  0.139033  2.978566  168.620776\n",
      "4  Xdl7t  1.988431  0.155413  4.751769  154.036647\n",
      "      id         f0         f1        f2     product\n",
      "0  kBEdx -15.001348  -8.276000 -0.005876    3.179103\n",
      "1  62mP7  14.272088  -3.475083  0.999183   26.953261\n",
      "2  vyE1P   6.263187  -5.948386  5.001160  134.766305\n",
      "3  KcrkZ -13.081196 -11.506057  4.999415  137.945408\n",
      "4  AHL4O  12.702195  -8.147433  5.004363  134.766305\n",
      "      id        f0        f1        f2     product\n",
      "0  fwXo0 -1.146987  0.963328 -0.828965   27.758673\n",
      "1  WJtFt  0.262778  0.269839 -2.530187   56.069697\n",
      "2  ovLUW  0.194587  0.289035 -5.586433   62.871910\n",
      "3  q6cA6  2.236060 -0.553760  0.930038  114.572842\n",
      "4  WPMUX -0.515993  1.716266  5.899011  149.600746\n"
     ]
    }
   ],
   "source": [
    "print(data_zero.head())\n",
    "print(data_one.head())\n",
    "print(data_two.head())"
   ]
  },
  {
   "cell_type": "code",
   "execution_count": 364,
   "metadata": {},
   "outputs": [
    {
     "name": "stdout",
     "output_type": "stream",
     "text": [
      "<class 'pandas.core.frame.DataFrame'>\n",
      "RangeIndex: 100000 entries, 0 to 99999\n",
      "Data columns (total 5 columns):\n",
      "id         100000 non-null object\n",
      "f0         100000 non-null float64\n",
      "f1         100000 non-null float64\n",
      "f2         100000 non-null float64\n",
      "product    100000 non-null float64\n",
      "dtypes: float64(4), object(1)\n",
      "memory usage: 3.8+ MB\n",
      "None\n",
      "<class 'pandas.core.frame.DataFrame'>\n",
      "RangeIndex: 100000 entries, 0 to 99999\n",
      "Data columns (total 5 columns):\n",
      "id         100000 non-null object\n",
      "f0         100000 non-null float64\n",
      "f1         100000 non-null float64\n",
      "f2         100000 non-null float64\n",
      "product    100000 non-null float64\n",
      "dtypes: float64(4), object(1)\n",
      "memory usage: 3.8+ MB\n",
      "None\n",
      "<class 'pandas.core.frame.DataFrame'>\n",
      "RangeIndex: 100000 entries, 0 to 99999\n",
      "Data columns (total 5 columns):\n",
      "id         100000 non-null object\n",
      "f0         100000 non-null float64\n",
      "f1         100000 non-null float64\n",
      "f2         100000 non-null float64\n",
      "product    100000 non-null float64\n",
      "dtypes: float64(4), object(1)\n",
      "memory usage: 3.8+ MB\n",
      "None\n"
     ]
    }
   ],
   "source": [
    "# проверим данные на пропуски ина соответствие типов данных\n",
    "print(data_zero.info())\n",
    "print(data_one.info())\n",
    "print(data_two.info())"
   ]
  },
  {
   "cell_type": "code",
   "execution_count": 365,
   "metadata": {},
   "outputs": [
    {
     "name": "stdout",
     "output_type": "stream",
     "text": [
      "0 0 0\n"
     ]
    }
   ],
   "source": [
    "# проверим данные на наличие полных дубликатов\n",
    "print (data_zero.duplicated().sum(), data_one.duplicated().sum(), data_two.duplicated().sum())"
   ]
  },
  {
   "cell_type": "code",
   "execution_count": 366,
   "metadata": {},
   "outputs": [
    {
     "name": "stdout",
     "output_type": "stream",
     "text": [
      "Kоличество ошибок (нулевые показатели запасов, отрицательные показатели запасов):\n",
      "Регион 0 (1, 0) Регион 1 (8235, 0) Регион 2 (1, 0)\n"
     ]
    }
   ],
   "source": [
    "# проверим выборки на ошибки в данных\n",
    "def product(data):\n",
    "    zero = 0\n",
    "    minus = 0\n",
    "    for i in range(data.shape[0]):\n",
    "        if data.loc[i, 'product'] == 0:\n",
    "            zero += 1\n",
    "        else:\n",
    "            if data.loc[i, 'product'] <0:\n",
    "                minus += 1\n",
    "    return zero, minus\n",
    "\n",
    "print ('Kоличество ошибок (нулевые показатели запасов, отрицательные показатели запасов):')\n",
    "print ('Регион 0', product(data_zero), 'Регион 1', product(data_one), 'Регион 2', product(data_two))"
   ]
  },
  {
   "cell_type": "code",
   "execution_count": 367,
   "metadata": {},
   "outputs": [
    {
     "name": "stdout",
     "output_type": "stream",
     "text": [
      "Корреляция признаков\n",
      "\n",
      "Регион 0\n",
      "               f0        f1        f2   product\n",
      "f0       1.000000 -0.440723 -0.003153  0.143536\n",
      "f1      -0.440723  1.000000  0.001724 -0.192356\n",
      "f2      -0.003153  0.001724  1.000000  0.483663\n",
      "product  0.143536 -0.192356  0.483663  1.000000\n",
      "\n",
      "Регион 1\n",
      "               f0        f1        f2   product\n",
      "f0       1.000000  0.182287 -0.001777 -0.030491\n",
      "f1       0.182287  1.000000 -0.002595 -0.010155\n",
      "f2      -0.001777 -0.002595  1.000000  0.999397\n",
      "product -0.030491 -0.010155  0.999397  1.000000\n",
      "\n",
      "Регион 2\n",
      "               f0        f1        f2   product\n",
      "f0       1.000000  0.000528 -0.000448 -0.001987\n",
      "f1       0.000528  1.000000  0.000779 -0.001012\n",
      "f2      -0.000448  0.000779  1.000000  0.445871\n",
      "product -0.001987 -0.001012  0.445871  1.000000\n"
     ]
    }
   ],
   "source": [
    "print ('Корреляция признаков', '', 'Регион 0', data_zero.corr(),'',\n",
    "       'Регион 1', data_one.corr(), '', 'Регион 2', data_two.corr(), sep='\\n')"
   ]
  },
  {
   "cell_type": "code",
   "execution_count": 368,
   "metadata": {},
   "outputs": [],
   "source": [
    "# избавляемся от мультиколлинеарности\n",
    "data_one_drop = data_one.drop('f2', axis=1)"
   ]
  },
  {
   "cell_type": "code",
   "execution_count": 369,
   "metadata": {},
   "outputs": [],
   "source": [
    "# убираем столбцы не нужные нам для создания модели\n",
    "data_zero_drop = data_zero.drop('id', axis=1)\n",
    "data_one_drop = data_one.drop('id', axis=1)\n",
    "data_two_drop = data_two.drop('id', axis=1)"
   ]
  },
  {
   "cell_type": "markdown",
   "metadata": {},
   "source": [
    "### Вывод:\n",
    "- пропусков и несоответствия типов данных в наших датасетах не выявлено\n",
    "- невыявленно так же наличие полных дубликатов\n",
    "- так как нам не известно, что означают признаки f0, f1 и f2 - мы не моодем проанализировать наличие ошибок в этих данных\n",
    "- проверим на наличие ошибок значение запасов в скважине\n",
    "- отрицаткльных значений не выявлено, однако в регионе №1 - выявлено большое количество 0-ых значений\n",
    "- у нас не достаточно информации - является ли данное значение ошибочным либо это действительно \"пустая\" скважина\n",
    "- с учетом что такое количество значений не превышает 10% от выборки, а так же может являться корректным - оставим данную графу без изменений\n",
    "- как видно из таблицы, существет корреляция во всех регионах между признаком f2 и объемом запасов в скважине\n",
    "- так же имеется некоторая обратная корреляция признаков f1 и f0 в нулевом регионе\n",
    "- так как сами признаки нам не известны, но являются значимыми, примем что корреляция менее 0,5 является для наших признаков нормальной\n",
    "- однако сильно выбивается корреляция признаков f2 и product во втором регионе - составляет практически 1\n",
    "- для избежания искажения результатов в модели уберем в данной выборке один из мультиколлинеарных признаков - f2\n",
    "- так же уберем из наших данных столбец 'id', так как он не нужен нам для задач нашего анализа"
   ]
  },
  {
   "cell_type": "markdown",
   "metadata": {},
   "source": [
    "## Обучение и проверка модели"
   ]
  },
  {
   "cell_type": "markdown",
   "metadata": {},
   "source": [
    "### Обучаем модель"
   ]
  },
  {
   "cell_type": "code",
   "execution_count": 370,
   "metadata": {},
   "outputs": [],
   "source": [
    "# функция для обучения модели (линейная регрессия)\n",
    "# обучающая и валидационные выборки разбиты в соотношении 75:25\n",
    "\n",
    "def predictictions (data):\n",
    "    features = data.drop(['product'], axis = 1)\n",
    "    target = data['product']\n",
    "    features_train, features_valid, target_train, target_valid = train_test_split(features, \n",
    "                                                                                  target, test_size=0.25, random_state=12345)\n",
    "    model = LinearRegression()\n",
    "    model.fit(features_train, target_train)\n",
    "    return pd.Series(model.predict(features_valid)), target_valid"
   ]
  },
  {
   "cell_type": "code",
   "execution_count": 371,
   "metadata": {},
   "outputs": [],
   "source": [
    "predicted_0, target_0 = predictictions(data_zero_drop)\n",
    "predicted_1, target_1 = predictictions(data_one_drop)\n",
    "predicted_2, target_2 = predictictions(data_two_drop)"
   ]
  },
  {
   "cell_type": "markdown",
   "metadata": {},
   "source": [
    "### Расчет среднего запаса предсказанного сырья и RMSE модели"
   ]
  },
  {
   "cell_type": "code",
   "execution_count": 372,
   "metadata": {},
   "outputs": [],
   "source": [
    "# функция для расчета среднего запаса и RMSE\n",
    "def mean_rmse (target, predictions):\n",
    "    mse = mean_squared_error(target, predictions)\n",
    "    print('Средний запас сырья, тыс. баррелей:', round (predictions.mean(), 6))\n",
    "    print('RMSE модели:', round (mse**0.5, 4))"
   ]
  },
  {
   "cell_type": "code",
   "execution_count": 373,
   "metadata": {
    "scrolled": true
   },
   "outputs": [
    {
     "name": "stdout",
     "output_type": "stream",
     "text": [
      "Регион 0:\n",
      "Средний запас сырья, тыс. баррелей: 92.592568\n",
      "RMSE модели: 37.5794\n",
      "None\n",
      "\n",
      "Регион 1:\n",
      "Средний запас сырья, тыс. баррелей: 68.728547\n",
      "RMSE модели: 0.8931\n",
      "None\n",
      "\n",
      "Регион 2:\n",
      "Средний запас сырья, тыс. баррелей: 94.965046\n",
      "RMSE модели: 40.0297\n",
      "None\n"
     ]
    }
   ],
   "source": [
    "print ('Регион 0:')\n",
    "print (mean_rmse(target_0, predicted_0))\n",
    "print ('')\n",
    "print ('Регион 1:')\n",
    "print (mean_rmse(target_1, predicted_1))\n",
    "print ('')\n",
    "print ('Регион 2:')\n",
    "print (mean_rmse(target_2, predicted_2))"
   ]
  },
  {
   "cell_type": "code",
   "execution_count": 374,
   "metadata": {},
   "outputs": [
    {
     "data": {
      "text/plain": [
       "array([[<matplotlib.axes._subplots.AxesSubplot object at 0x7fc25e52b610>]],\n",
       "      dtype=object)"
      ]
     },
     "execution_count": 374,
     "metadata": {},
     "output_type": "execute_result"
    },
    {
     "data": {
      "image/png": "[encoded data removed]",
      "text/plain": [
       "<Figure size 432x288 with 1 Axes>"
      ]
     },
     "metadata": {
      "needs_background": "light"
     },
     "output_type": "display_data"
    }
   ],
   "source": [
    "data_one.hist('product')"
   ]
  },
  {
   "cell_type": "code",
   "execution_count": 375,
   "metadata": {},
   "outputs": [
    {
     "data": {
      "text/html": [
       "<div>\n",
       "<style scoped>\n",
       "    .dataframe tbody tr th:only-of-type {\n",
       "        vertical-align: middle;\n",
       "    }\n",
       "\n",
       "    .dataframe tbody tr th {\n",
       "        vertical-align: top;\n",
       "    }\n",
       "\n",
       "    .dataframe thead th {\n",
       "        text-align: right;\n",
       "    }\n",
       "</style>\n",
       "<table border=\"1\" class=\"dataframe\">\n",
       "  <thead>\n",
       "    <tr style=\"text-align: right;\">\n",
       "      <th></th>\n",
       "      <th>f0</th>\n",
       "      <th>f1</th>\n",
       "      <th>f2</th>\n",
       "      <th>product</th>\n",
       "    </tr>\n",
       "  </thead>\n",
       "  <tbody>\n",
       "    <tr>\n",
       "      <td>count</td>\n",
       "      <td>100000.000000</td>\n",
       "      <td>100000.000000</td>\n",
       "      <td>100000.000000</td>\n",
       "      <td>100000.000000</td>\n",
       "    </tr>\n",
       "    <tr>\n",
       "      <td>mean</td>\n",
       "      <td>0.500419</td>\n",
       "      <td>0.250143</td>\n",
       "      <td>2.502647</td>\n",
       "      <td>92.500000</td>\n",
       "    </tr>\n",
       "    <tr>\n",
       "      <td>std</td>\n",
       "      <td>0.871832</td>\n",
       "      <td>0.504433</td>\n",
       "      <td>3.248248</td>\n",
       "      <td>44.288691</td>\n",
       "    </tr>\n",
       "    <tr>\n",
       "      <td>min</td>\n",
       "      <td>-1.408605</td>\n",
       "      <td>-0.848218</td>\n",
       "      <td>-12.088328</td>\n",
       "      <td>0.000000</td>\n",
       "    </tr>\n",
       "    <tr>\n",
       "      <td>25%</td>\n",
       "      <td>-0.072580</td>\n",
       "      <td>-0.200881</td>\n",
       "      <td>0.287748</td>\n",
       "      <td>56.497507</td>\n",
       "    </tr>\n",
       "    <tr>\n",
       "      <td>50%</td>\n",
       "      <td>0.502360</td>\n",
       "      <td>0.250252</td>\n",
       "      <td>2.515969</td>\n",
       "      <td>91.849972</td>\n",
       "    </tr>\n",
       "    <tr>\n",
       "      <td>75%</td>\n",
       "      <td>1.073581</td>\n",
       "      <td>0.700646</td>\n",
       "      <td>4.715088</td>\n",
       "      <td>128.564089</td>\n",
       "    </tr>\n",
       "    <tr>\n",
       "      <td>max</td>\n",
       "      <td>2.362331</td>\n",
       "      <td>1.343769</td>\n",
       "      <td>16.003790</td>\n",
       "      <td>185.364347</td>\n",
       "    </tr>\n",
       "  </tbody>\n",
       "</table>\n",
       "</div>"
      ],
      "text/plain": [
       "                  f0             f1             f2        product\n",
       "count  100000.000000  100000.000000  100000.000000  100000.000000\n",
       "mean        0.500419       0.250143       2.502647      92.500000\n",
       "std         0.871832       0.504433       3.248248      44.288691\n",
       "min        -1.408605      -0.848218     -12.088328       0.000000\n",
       "25%        -0.072580      -0.200881       0.287748      56.497507\n",
       "50%         0.502360       0.250252       2.515969      91.849972\n",
       "75%         1.073581       0.700646       4.715088     128.564089\n",
       "max         2.362331       1.343769      16.003790     185.364347"
      ]
     },
     "execution_count": 375,
     "metadata": {},
     "output_type": "execute_result"
    }
   ],
   "source": [
    "data_zero.describe()"
   ]
  },
  {
   "cell_type": "code",
   "execution_count": 376,
   "metadata": {},
   "outputs": [
    {
     "data": {
      "text/html": [
       "<div>\n",
       "<style scoped>\n",
       "    .dataframe tbody tr th:only-of-type {\n",
       "        vertical-align: middle;\n",
       "    }\n",
       "\n",
       "    .dataframe tbody tr th {\n",
       "        vertical-align: top;\n",
       "    }\n",
       "\n",
       "    .dataframe thead th {\n",
       "        text-align: right;\n",
       "    }\n",
       "</style>\n",
       "<table border=\"1\" class=\"dataframe\">\n",
       "  <thead>\n",
       "    <tr style=\"text-align: right;\">\n",
       "      <th></th>\n",
       "      <th>f0</th>\n",
       "      <th>f1</th>\n",
       "      <th>f2</th>\n",
       "      <th>product</th>\n",
       "    </tr>\n",
       "  </thead>\n",
       "  <tbody>\n",
       "    <tr>\n",
       "      <td>count</td>\n",
       "      <td>100000.000000</td>\n",
       "      <td>100000.000000</td>\n",
       "      <td>100000.000000</td>\n",
       "      <td>100000.000000</td>\n",
       "    </tr>\n",
       "    <tr>\n",
       "      <td>mean</td>\n",
       "      <td>0.002023</td>\n",
       "      <td>-0.002081</td>\n",
       "      <td>2.495128</td>\n",
       "      <td>95.000000</td>\n",
       "    </tr>\n",
       "    <tr>\n",
       "      <td>std</td>\n",
       "      <td>1.732045</td>\n",
       "      <td>1.730417</td>\n",
       "      <td>3.473445</td>\n",
       "      <td>44.749921</td>\n",
       "    </tr>\n",
       "    <tr>\n",
       "      <td>min</td>\n",
       "      <td>-8.760004</td>\n",
       "      <td>-7.084020</td>\n",
       "      <td>-11.970335</td>\n",
       "      <td>0.000000</td>\n",
       "    </tr>\n",
       "    <tr>\n",
       "      <td>25%</td>\n",
       "      <td>-1.162288</td>\n",
       "      <td>-1.174820</td>\n",
       "      <td>0.130359</td>\n",
       "      <td>59.450441</td>\n",
       "    </tr>\n",
       "    <tr>\n",
       "      <td>50%</td>\n",
       "      <td>0.009424</td>\n",
       "      <td>-0.009482</td>\n",
       "      <td>2.484236</td>\n",
       "      <td>94.925613</td>\n",
       "    </tr>\n",
       "    <tr>\n",
       "      <td>75%</td>\n",
       "      <td>1.158535</td>\n",
       "      <td>1.163678</td>\n",
       "      <td>4.858794</td>\n",
       "      <td>130.595027</td>\n",
       "    </tr>\n",
       "    <tr>\n",
       "      <td>max</td>\n",
       "      <td>7.238262</td>\n",
       "      <td>7.844801</td>\n",
       "      <td>16.739402</td>\n",
       "      <td>190.029838</td>\n",
       "    </tr>\n",
       "  </tbody>\n",
       "</table>\n",
       "</div>"
      ],
      "text/plain": [
       "                  f0             f1             f2        product\n",
       "count  100000.000000  100000.000000  100000.000000  100000.000000\n",
       "mean        0.002023      -0.002081       2.495128      95.000000\n",
       "std         1.732045       1.730417       3.473445      44.749921\n",
       "min        -8.760004      -7.084020     -11.970335       0.000000\n",
       "25%        -1.162288      -1.174820       0.130359      59.450441\n",
       "50%         0.009424      -0.009482       2.484236      94.925613\n",
       "75%         1.158535       1.163678       4.858794     130.595027\n",
       "max         7.238262       7.844801      16.739402     190.029838"
      ]
     },
     "execution_count": 376,
     "metadata": {},
     "output_type": "execute_result"
    }
   ],
   "source": [
    "data_two.describe()"
   ]
  },
  {
   "cell_type": "markdown",
   "metadata": {},
   "source": [
    "### Вывод:\n",
    "- наибольший средний запас предсказанного сырья находится в региое №2\n",
    "- наилучший результат RMSE у региона №1\n",
    "- низкое RMSE у региона №1 обусловлено особенностью распределения данных - выбросы в минимальных и максимальных значениях, и равномерным распределением около 70% данных\n",
    "- значение RMSE в регионах №0 и №2 вписывается в межквартильный размах всей нашей выборки и поэтому можно считать работу нашей модели достаточно корректной"
   ]
  },
  {
   "cell_type": "markdown",
   "metadata": {},
   "source": [
    "## Подготовка к расчёту прибыли"
   ]
  },
  {
   "cell_type": "markdown",
   "metadata": {},
   "source": [
    "### Ключевые значения для расчета"
   ]
  },
  {
   "cell_type": "code",
   "execution_count": 377,
   "metadata": {},
   "outputs": [],
   "source": [
    "# количество исследуемых точек при разведке\n",
    "oilwell = 500\n",
    "# количество лучших точек для разработки\n",
    "best_well = 200\n",
    "# бюджет на разработку скважин в регионе\n",
    "budget = 10 ** 10\n",
    "# доход с каждой единицы продукта\n",
    "revenue = 450 * 10 ** 3"
   ]
  },
  {
   "cell_type": "markdown",
   "metadata": {},
   "source": [
    "### Минимальный объем сырья в скважине для безубыточной добычи"
   ]
  },
  {
   "cell_type": "code",
   "execution_count": 378,
   "metadata": {},
   "outputs": [
    {
     "name": "stdout",
     "output_type": "stream",
     "text": [
      "Минимальный объем сырья в скважине для безубыточной добычи: 111.111 тыс. баррелей\n"
     ]
    }
   ],
   "source": [
    "# стоимость разработки одной скважины\n",
    "price = budget / best_well\n",
    "# минимальный объем сырья\n",
    "min_volume = price / revenue\n",
    "print ('Минимальный объем сырья в скважине для безубыточной добычи:', round(min_volume, 3), 'тыс. баррелей')"
   ]
  },
  {
   "cell_type": "markdown",
   "metadata": {},
   "source": [
    "### Средний запас сырья по регионам"
   ]
  },
  {
   "cell_type": "code",
   "execution_count": 379,
   "metadata": {},
   "outputs": [
    {
     "name": "stdout",
     "output_type": "stream",
     "text": [
      "Регион 0: 92.5\n",
      "Регион 1: 68.825\n",
      "Регион 2: 95.0\n"
     ]
    }
   ],
   "source": [
    "print('Регион 0:', round(data_zero['product'].mean(), 3))\n",
    "print('Регион 1:', round(data_one['product'].mean(), 3))\n",
    "print('Регион 2:', round(data_two['product'].mean(), 3))"
   ]
  },
  {
   "cell_type": "markdown",
   "metadata": {},
   "source": [
    "### Вывод:\n",
    "- мимнимальный объем сырья в скважине для безубыточной добычи 111.111 тыс.баррелей\n",
    "- если исходить из среднего запаса сырья в регионах, разработка скважин в любом регионе будет убыточной"
   ]
  },
  {
   "cell_type": "markdown",
   "metadata": {},
   "source": [
    "## Расчёт прибыли и рисков "
   ]
  },
  {
   "cell_type": "markdown",
   "metadata": {},
   "source": [
    "### Прибыль по скважинам с максимальным значением предсказаний:"
   ]
  },
  {
   "cell_type": "code",
   "execution_count": 380,
   "metadata": {},
   "outputs": [],
   "source": [
    "# функция расчета прибыли по выбранным скважинам и предсказаниям модели\n",
    "def revenue_region(target, probabilities):\n",
    "    target = pd.Series(target).reset_index(drop=True) \n",
    "    probabilities = pd.Series(probabilities).reset_index(drop=True)\n",
    "    probabilities_sorted = probabilities.sort_values(ascending=False)\n",
    "    best = target[probabilities_sorted.index][:best_well]\n",
    "    revenue_reg = revenue * best.sum() - budget\n",
    "    return revenue_reg"
   ]
  },
  {
   "cell_type": "code",
   "execution_count": 381,
   "metadata": {},
   "outputs": [
    {
     "name": "stdout",
     "output_type": "stream",
     "text": [
      "Общая прибыль с 200 лучших предсказанных скважин региона 0: 3.321 млрд.руб.\n",
      "Общая прибыль с 200 лучших предсказанных скважин региона 1: 2.415 млрд.руб.\n",
      "Общая прибыль с 200 лучших предсказанных скважин региона 2: 2.71 млрд.руб.\n"
     ]
    }
   ],
   "source": [
    "print ('Общая прибыль с 200 лучших предсказанных скважин региона 0:', round(revenue_region(target_0, predicted_0)/(10**9), 3), 'млрд.руб.')\n",
    "print ('Общая прибыль с 200 лучших предсказанных скважин региона 1:', round(revenue_region(target_1, predicted_1)/(10**9), 3), 'млрд.руб.')\n",
    "print ('Общая прибыль с 200 лучших предсказанных скважин региона 2:', round(revenue_region(target_2, predicted_2)/(10**9), 3), 'млрд.руб.')"
   ]
  },
  {
   "cell_type": "markdown",
   "metadata": {},
   "source": [
    "### Средняя прибыль и риски с 1000 выборок"
   ]
  },
  {
   "cell_type": "code",
   "execution_count": 394,
   "metadata": {},
   "outputs": [],
   "source": [
    "# функция Bootstrap. Кол-во выборок 1000, доверительный интервал 95%\n",
    "# выбираем из 200 лучших скважин из 500 случайных точек из нашей выборки\n",
    "\n",
    "sample = 1000 #кол-во выборок\n",
    "state = np.random.RandomState(12345)\n",
    "def bootstrap (target, predictions):\n",
    "    values = []\n",
    "    losses = 0\n",
    "    for i in range(sample):\n",
    "        target_sample = target.reset_index(drop=True).sample(n=oilwell, replace=True, random_state=state)\n",
    "        probs_sample = predictions[target_sample.index]\n",
    "        rev = revenue_region(target_sample, probs_sample)\n",
    "        values.append(rev)    \n",
    "#        if values[i]<0:\n",
    "#            losses +=1\n",
    "    values = pd.Series(values)\n",
    "    values = values/(10**9)\n",
    "    interval = (values.quantile(0.025), values.quantile(0.975))\n",
    "    print(\"Средняя прибыль:\", round(values.mean(), 3), 'млрд.руб')\n",
    "    print(\"Доверительный интервал:\", interval)\n",
    "#    print(\"Риск убытка:\", round((losses/sample)*100, 2), '%')\n",
    "    print('Риск убытка', round((values < 0).mean()*100, 2), '%')"
   ]
  },
  {
   "cell_type": "code",
   "execution_count": 395,
   "metadata": {},
   "outputs": [
    {
     "name": "stdout",
     "output_type": "stream",
     "text": [
      "Регион 0\n",
      "Средняя прибыль: 0.396 млрд.руб\n",
      "Доверительный интервал: (-0.11121554589049525, 0.9097669415534225)\n",
      "Риск убытка 6.9 %\n",
      "\n",
      "Регион 1\n",
      "Средняя прибыль: 0.461 млрд.руб\n",
      "Доверительный интервал: (0.07805081075174171, 0.8629520602637234)\n",
      "Риск убытка 0.7 %\n",
      "\n",
      "Регион 2\n",
      "Средняя прибыль: 0.393 млрд.руб\n",
      "Доверительный интервал: (-0.11222762537857565, 0.9345629145511635)\n",
      "Риск убытка 6.5 %\n"
     ]
    }
   ],
   "source": [
    "print ('Регион 0')\n",
    "bootstrap(target_0, predicted_0)\n",
    "print ('')\n",
    "print ('Регион 1')\n",
    "bootstrap(target_1, predicted_1)\n",
    "print ('')\n",
    "print ('Регион 2')\n",
    "bootstrap(target_2, predicted_2)"
   ]
  },
  {
   "cell_type": "markdown",
   "metadata": {},
   "source": [
    "### Вывод:\n",
    "- по результатам отбора 200 лучших предсказанных скважин лидирует регион №0, с общей прогнозируемой прибылью в 3.321 млрд.руб.\n",
    "- если ориентироваться на случайную выборку из 500 скважин, то единственным регионом удовлетворяющим условию \"вероятность убытков менее 2,5%\" является регион №1 со средней прибыльностью 0,461 млрд.руб.\n",
    "- при условии если наша модель сможет предсказать наиболее полные по объему запасов скважины, тем самым сократив общую выборку, тогда стоит рассмотреть для добычи регион №0, так как там имеются наиболее богатые скважины\n",
    "- если же отталкиваться от имеющихся данных, то на основании случайной выборки наиболее доходное будет месторождение №1 за счет минимазации рисков\n"
   ]
  }
 ],
 "metadata": {
  "ExecuteTimeLog": [
   {
    "duration": 648,
    "start_time": "2022-02-08T07:10:43.786Z"
   },
   {
    "duration": 632,
    "start_time": "2022-02-08T07:10:44.955Z"
   },
   {
    "duration": 383,
    "start_time": "2022-02-08T07:10:51.869Z"
   },
   {
    "duration": 7,
    "start_time": "2022-02-08T07:11:23.786Z"
   },
   {
    "duration": 12,
    "start_time": "2022-02-08T07:11:56.546Z"
   },
   {
    "duration": 26,
    "start_time": "2022-02-08T07:14:17.714Z"
   },
   {
    "duration": 250,
    "start_time": "2022-02-08T07:15:52.786Z"
   },
   {
    "duration": 311,
    "start_time": "2022-02-08T07:16:57.707Z"
   },
   {
    "duration": 82,
    "start_time": "2022-02-08T07:17:19.066Z"
   },
   {
    "duration": 245,
    "start_time": "2022-02-08T07:17:23.986Z"
   },
   {
    "duration": 269,
    "start_time": "2022-02-08T07:17:53.819Z"
   },
   {
    "duration": 254,
    "start_time": "2022-02-08T07:17:59.778Z"
   },
   {
    "duration": 264,
    "start_time": "2022-02-08T07:18:53.146Z"
   },
   {
    "duration": 17,
    "start_time": "2022-02-08T07:18:58.706Z"
   },
   {
    "duration": 51,
    "start_time": "2022-02-08T07:20:54.946Z"
   },
   {
    "duration": 60,
    "start_time": "2022-02-08T07:22:08.946Z"
   },
   {
    "duration": 258,
    "start_time": "2022-02-08T07:22:48.267Z"
   },
   {
    "duration": 89,
    "start_time": "2022-02-08T07:22:54.786Z"
   },
   {
    "duration": 53,
    "start_time": "2022-02-08T07:23:15.786Z"
   },
   {
    "duration": 156,
    "start_time": "2022-02-08T07:23:41.674Z"
   },
   {
    "duration": 428,
    "start_time": "2022-02-08T07:26:08.547Z"
   },
   {
    "duration": 209,
    "start_time": "2022-02-08T07:26:28.594Z"
   },
   {
    "duration": 439,
    "start_time": "2022-02-08T07:27:22.476Z"
   },
   {
    "duration": 272,
    "start_time": "2022-02-08T07:27:40.862Z"
   },
   {
    "duration": 682,
    "start_time": "2022-02-08T07:33:01.746Z"
   },
   {
    "duration": 394,
    "start_time": "2022-02-08T07:33:07.945Z"
   },
   {
    "duration": 365,
    "start_time": "2022-02-08T07:36:28.987Z"
   },
   {
    "duration": 1458,
    "start_time": "2022-02-08T07:37:09.186Z"
   },
   {
    "duration": 441,
    "start_time": "2022-02-08T07:37:23.667Z"
   },
   {
    "duration": 257,
    "start_time": "2022-02-08T07:37:36.345Z"
   },
   {
    "duration": 249,
    "start_time": "2022-02-08T07:37:46.465Z"
   },
   {
    "duration": 550,
    "start_time": "2022-02-08T07:38:42.945Z"
   },
   {
    "duration": 320,
    "start_time": "2022-02-08T07:39:16.865Z"
   },
   {
    "duration": 314,
    "start_time": "2022-02-08T07:39:28.546Z"
   },
   {
    "duration": 108,
    "start_time": "2022-02-08T07:40:45.866Z"
   },
   {
    "duration": 305,
    "start_time": "2022-02-08T07:50:26.786Z"
   },
   {
    "duration": 470,
    "start_time": "2022-02-08T07:50:32.826Z"
   },
   {
    "duration": 99,
    "start_time": "2022-02-08T07:51:24.827Z"
   },
   {
    "duration": 90,
    "start_time": "2022-02-08T07:51:48.545Z"
   },
   {
    "duration": 453,
    "start_time": "2022-02-08T07:52:23.626Z"
   },
   {
    "duration": 462,
    "start_time": "2022-02-08T07:52:42.186Z"
   },
   {
    "duration": 78,
    "start_time": "2022-02-08T07:52:56.546Z"
   },
   {
    "duration": 466,
    "start_time": "2022-02-08T07:53:33.034Z"
   },
   {
    "duration": 438,
    "start_time": "2022-02-08T07:53:56.920Z"
   },
   {
    "duration": 466,
    "start_time": "2022-02-08T07:56:21.586Z"
   },
   {
    "duration": 300,
    "start_time": "2022-02-08T07:57:29.625Z"
   },
   {
    "duration": 269,
    "start_time": "2022-02-08T07:59:04.273Z"
   },
   {
    "duration": 7121,
    "start_time": "2022-02-08T07:59:39.185Z"
   },
   {
    "duration": 6835,
    "start_time": "2022-02-08T08:00:04.544Z"
   },
   {
    "duration": 6554,
    "start_time": "2022-02-08T08:00:37.953Z"
   },
   {
    "duration": 1377,
    "start_time": "2022-02-08T08:01:11.945Z"
   },
   {
    "duration": 1338,
    "start_time": "2022-02-08T08:02:12.865Z"
   },
   {
    "duration": 1118,
    "start_time": "2022-02-08T08:02:35.234Z"
   },
   {
    "duration": 1378,
    "start_time": "2022-02-08T08:02:43.426Z"
   },
   {
    "duration": 1374,
    "start_time": "2022-02-08T08:02:54.305Z"
   },
   {
    "duration": 7454,
    "start_time": "2022-02-08T08:03:04.545Z"
   },
   {
    "duration": 1354,
    "start_time": "2022-02-08T08:03:17.827Z"
   },
   {
    "duration": 1347,
    "start_time": "2022-02-08T08:04:23.506Z"
   },
   {
    "duration": 343,
    "start_time": "2022-02-08T08:05:07.396Z"
   },
   {
    "duration": 1327,
    "start_time": "2022-02-08T08:06:32.545Z"
   },
   {
    "duration": 95,
    "start_time": "2022-02-08T08:07:19.267Z"
   },
   {
    "duration": 1356,
    "start_time": "2022-02-08T08:07:48.706Z"
   },
   {
    "duration": 12366,
    "start_time": "2022-02-08T08:08:27.826Z"
   },
   {
    "duration": 1355,
    "start_time": "2022-02-08T08:09:18.386Z"
   },
   {
    "duration": 510,
    "start_time": "2022-02-08T08:11:41.177Z"
   },
   {
    "duration": 443,
    "start_time": "2022-02-08T08:11:52.907Z"
   },
   {
    "duration": 1321,
    "start_time": "2022-02-08T08:12:11.226Z"
   },
   {
    "duration": 3930,
    "start_time": "2022-02-08T08:15:56.947Z"
   },
   {
    "duration": 86,
    "start_time": "2022-02-08T08:18:20.627Z"
   },
   {
    "duration": 3860,
    "start_time": "2022-02-08T08:18:48.354Z"
   },
   {
    "duration": 104,
    "start_time": "2022-02-08T08:19:12.708Z"
   },
   {
    "duration": 3869,
    "start_time": "2022-02-08T08:19:23.187Z"
   },
   {
    "duration": 3968,
    "start_time": "2022-02-08T08:20:12.867Z"
   },
   {
    "duration": 14,
    "start_time": "2022-02-08T08:24:24.178Z"
   },
   {
    "duration": 10,
    "start_time": "2022-02-08T08:25:17.266Z"
   },
   {
    "duration": 11,
    "start_time": "2022-02-08T08:26:05.226Z"
   },
   {
    "duration": 36,
    "start_time": "2022-02-08T08:26:51.026Z"
   },
   {
    "duration": 25,
    "start_time": "2022-02-08T08:27:18.946Z"
   },
   {
    "duration": 25,
    "start_time": "2022-02-08T08:31:13.146Z"
   },
   {
    "duration": 27,
    "start_time": "2022-02-08T08:31:55.986Z"
   },
   {
    "duration": 26,
    "start_time": "2022-02-08T08:32:06.466Z"
   },
   {
    "duration": 1510,
    "start_time": "2022-02-08T08:35:10.748Z"
   },
   {
    "duration": 1185,
    "start_time": "2022-02-08T08:35:15.186Z"
   },
   {
    "duration": 1087,
    "start_time": "2022-02-08T08:35:33.906Z"
   },
   {
    "duration": 758,
    "start_time": "2022-02-08T08:35:54.875Z"
   },
   {
    "duration": 744,
    "start_time": "2022-02-08T08:38:38.387Z"
   },
   {
    "duration": 279,
    "start_time": "2022-02-08T08:39:47.106Z"
   },
   {
    "duration": 18,
    "start_time": "2022-02-08T08:43:00.666Z"
   },
   {
    "duration": 17,
    "start_time": "2022-02-08T08:43:34.548Z"
   },
   {
    "duration": 20,
    "start_time": "2022-02-08T08:43:48.754Z"
   },
   {
    "duration": 18,
    "start_time": "2022-02-08T08:44:17.226Z"
   },
   {
    "duration": 6,
    "start_time": "2022-02-08T08:46:57.866Z"
   },
   {
    "duration": 18,
    "start_time": "2022-02-08T08:47:17.226Z"
   },
   {
    "duration": 3,
    "start_time": "2022-02-08T08:48:41.586Z"
   },
   {
    "duration": 387,
    "start_time": "2022-02-08T08:48:41.591Z"
   },
   {
    "duration": 11,
    "start_time": "2022-02-08T08:48:41.980Z"
   },
   {
    "duration": 29,
    "start_time": "2022-02-08T08:48:41.993Z"
   },
   {
    "duration": 126,
    "start_time": "2022-02-08T08:48:42.024Z"
   },
   {
    "duration": 4262,
    "start_time": "2022-02-08T08:48:42.152Z"
   },
   {
    "duration": 26,
    "start_time": "2022-02-08T08:48:46.416Z"
   },
   {
    "duration": 18553,
    "start_time": "2022-02-08T08:49:11.754Z"
   },
   {
    "duration": 18684,
    "start_time": "2022-02-08T08:49:47.634Z"
   },
   {
    "duration": 497,
    "start_time": "2022-02-08T09:17:02.226Z"
   },
   {
    "duration": 3,
    "start_time": "2022-02-08T09:17:04.075Z"
   },
   {
    "duration": 13,
    "start_time": "2022-02-08T09:17:12.706Z"
   },
   {
    "duration": 5,
    "start_time": "2022-02-08T09:17:16.355Z"
   },
   {
    "duration": 396,
    "start_time": "2022-02-08T09:19:58.707Z"
   },
   {
    "duration": 3,
    "start_time": "2022-02-08T09:24:26.427Z"
   },
   {
    "duration": 569,
    "start_time": "2022-02-08T09:26:28.506Z"
   },
   {
    "duration": 3,
    "start_time": "2022-02-08T09:26:58.466Z"
   },
   {
    "duration": 6,
    "start_time": "2022-02-08T09:27:05.626Z"
   },
   {
    "duration": 6,
    "start_time": "2022-02-08T09:27:36.666Z"
   },
   {
    "duration": 7,
    "start_time": "2022-02-08T09:27:47.506Z"
   },
   {
    "duration": 7,
    "start_time": "2022-02-08T09:28:15.306Z"
   },
   {
    "duration": 7,
    "start_time": "2022-02-08T09:29:00.826Z"
   },
   {
    "duration": 6,
    "start_time": "2022-02-08T09:29:09.266Z"
   },
   {
    "duration": 11,
    "start_time": "2022-02-08T09:29:58.386Z"
   },
   {
    "duration": 84,
    "start_time": "2022-02-08T09:31:19.226Z"
   },
   {
    "duration": 92,
    "start_time": "2022-02-08T09:31:54.319Z"
   },
   {
    "duration": 3,
    "start_time": "2022-02-08T09:32:17.467Z"
   },
   {
    "duration": 10,
    "start_time": "2022-02-08T09:32:19.586Z"
   },
   {
    "duration": 3,
    "start_time": "2022-02-08T09:33:05.507Z"
   },
   {
    "duration": 11,
    "start_time": "2022-02-08T09:33:06.866Z"
   },
   {
    "duration": 3,
    "start_time": "2022-02-08T10:04:10.546Z"
   },
   {
    "duration": 499,
    "start_time": "2022-02-08T10:04:13.785Z"
   },
   {
    "duration": 4,
    "start_time": "2022-02-08T10:04:50.026Z"
   },
   {
    "duration": 538,
    "start_time": "2022-02-08T10:04:53.865Z"
   },
   {
    "duration": 3,
    "start_time": "2022-02-08T10:06:22.465Z"
   },
   {
    "duration": 525,
    "start_time": "2022-02-08T10:06:26.949Z"
   },
   {
    "duration": 3,
    "start_time": "2022-02-08T10:06:40.746Z"
   },
   {
    "duration": 10,
    "start_time": "2022-02-08T10:06:43.114Z"
   },
   {
    "duration": 1473,
    "start_time": "2022-02-08T10:36:04.066Z"
   },
   {
    "duration": 40,
    "start_time": "2022-02-08T10:36:47.225Z"
   },
   {
    "duration": 36,
    "start_time": "2022-02-08T10:38:35.545Z"
   },
   {
    "duration": 226,
    "start_time": "2022-02-08T10:46:14.584Z"
   },
   {
    "duration": 289,
    "start_time": "2022-02-08T10:47:17.465Z"
   },
   {
    "duration": 234,
    "start_time": "2022-02-08T10:47:50.356Z"
   },
   {
    "duration": 220,
    "start_time": "2022-02-08T10:47:53.585Z"
   },
   {
    "duration": 213,
    "start_time": "2022-02-08T10:48:24.746Z"
   },
   {
    "duration": 554,
    "start_time": "2022-02-08T10:50:17.626Z"
   },
   {
    "duration": 300,
    "start_time": "2022-02-08T11:01:21.590Z"
   },
   {
    "duration": 316,
    "start_time": "2022-02-08T11:02:18.467Z"
   },
   {
    "duration": 37,
    "start_time": "2022-02-08T11:10:22.588Z"
   },
   {
    "duration": 37,
    "start_time": "2022-02-08T11:11:36.235Z"
   },
   {
    "duration": 3,
    "start_time": "2022-02-08T11:17:36.814Z"
   },
   {
    "duration": 3,
    "start_time": "2022-02-08T11:27:39.909Z"
   },
   {
    "duration": 3,
    "start_time": "2022-02-08T11:29:30.593Z"
   },
   {
    "duration": 528,
    "start_time": "2022-02-08T11:36:13.949Z"
   },
   {
    "duration": 277,
    "start_time": "2022-02-08T11:36:21.077Z"
   },
   {
    "duration": 3,
    "start_time": "2022-02-08T11:36:28.237Z"
   },
   {
    "duration": 3,
    "start_time": "2022-02-08T11:37:19.879Z"
   },
   {
    "duration": 5,
    "start_time": "2022-02-08T11:37:29.156Z"
   },
   {
    "duration": 4,
    "start_time": "2022-02-08T11:43:09.788Z"
   },
   {
    "duration": 141,
    "start_time": "2022-02-08T11:43:30.308Z"
   },
   {
    "duration": 85,
    "start_time": "2022-02-08T11:43:38.621Z"
   },
   {
    "duration": 5,
    "start_time": "2022-02-08T11:43:43.388Z"
   },
   {
    "duration": 8,
    "start_time": "2022-02-08T11:44:16.236Z"
   },
   {
    "duration": 4,
    "start_time": "2022-02-08T12:09:29.306Z"
   },
   {
    "duration": 265,
    "start_time": "2022-02-08T12:10:38.426Z"
   },
   {
    "duration": 11,
    "start_time": "2022-02-08T12:10:43.106Z"
   },
   {
    "duration": 10,
    "start_time": "2022-02-08T12:11:15.986Z"
   },
   {
    "duration": 12,
    "start_time": "2022-02-08T12:11:29.345Z"
   },
   {
    "duration": 10,
    "start_time": "2022-02-08T12:12:09.226Z"
   },
   {
    "duration": 11,
    "start_time": "2022-02-08T12:12:13.066Z"
   },
   {
    "duration": 11,
    "start_time": "2022-02-08T12:12:16.905Z"
   },
   {
    "duration": 85,
    "start_time": "2022-02-08T12:13:46.705Z"
   },
   {
    "duration": 11,
    "start_time": "2022-02-08T12:13:58.553Z"
   },
   {
    "duration": 11,
    "start_time": "2022-02-08T12:14:13.306Z"
   },
   {
    "duration": 23,
    "start_time": "2022-02-08T12:14:47.586Z"
   },
   {
    "duration": 24,
    "start_time": "2022-02-08T12:15:18.145Z"
   },
   {
    "duration": 4,
    "start_time": "2022-02-08T12:29:55.226Z"
   },
   {
    "duration": 4,
    "start_time": "2022-02-08T12:30:01.108Z"
   },
   {
    "duration": 5,
    "start_time": "2022-02-08T12:33:44.906Z"
   },
   {
    "duration": 596,
    "start_time": "2022-02-08T12:35:55.985Z"
   },
   {
    "duration": 5,
    "start_time": "2022-02-08T12:36:14.948Z"
   },
   {
    "duration": 4165,
    "start_time": "2022-02-08T12:36:15.905Z"
   },
   {
    "duration": 5,
    "start_time": "2022-02-08T12:37:02.074Z"
   },
   {
    "duration": 3647,
    "start_time": "2022-02-08T12:37:05.753Z"
   },
   {
    "duration": 3,
    "start_time": "2022-02-08T12:40:00.147Z"
   },
   {
    "duration": 389,
    "start_time": "2022-02-08T12:40:00.152Z"
   },
   {
    "duration": 13,
    "start_time": "2022-02-08T12:40:00.543Z"
   },
   {
    "duration": 40,
    "start_time": "2022-02-08T12:40:00.558Z"
   },
   {
    "duration": 117,
    "start_time": "2022-02-08T12:40:00.600Z"
   },
   {
    "duration": 4315,
    "start_time": "2022-02-08T12:40:00.719Z"
   },
   {
    "duration": 28,
    "start_time": "2022-02-08T12:40:05.036Z"
   },
   {
    "duration": 6,
    "start_time": "2022-02-08T12:40:05.066Z"
   },
   {
    "duration": 31,
    "start_time": "2022-02-08T12:40:05.075Z"
   },
   {
    "duration": 6,
    "start_time": "2022-02-08T12:40:05.108Z"
   },
   {
    "duration": 482,
    "start_time": "2022-02-08T12:40:05.116Z"
   },
   {
    "duration": 5,
    "start_time": "2022-02-08T12:40:05.600Z"
   },
   {
    "duration": 103,
    "start_time": "2022-02-08T12:40:05.607Z"
   },
   {
    "duration": 266,
    "start_time": "2022-02-08T12:40:05.712Z"
   },
   {
    "duration": 50,
    "start_time": "2022-02-08T12:40:05.980Z"
   },
   {
    "duration": 40,
    "start_time": "2022-02-08T12:40:06.032Z"
   },
   {
    "duration": 3,
    "start_time": "2022-02-08T12:40:06.074Z"
   },
   {
    "duration": 5,
    "start_time": "2022-02-08T12:40:06.098Z"
   },
   {
    "duration": 26,
    "start_time": "2022-02-08T12:40:06.105Z"
   },
   {
    "duration": 18,
    "start_time": "2022-02-08T12:40:06.133Z"
   },
   {
    "duration": 52,
    "start_time": "2022-02-08T12:40:06.153Z"
   },
   {
    "duration": 9,
    "start_time": "2022-02-08T12:40:06.208Z"
   },
   {
    "duration": 3797,
    "start_time": "2022-02-08T12:40:06.219Z"
   },
   {
    "duration": 100,
    "start_time": "2022-02-08T12:41:29.268Z"
   },
   {
    "duration": 23,
    "start_time": "2022-02-08T12:41:34.747Z"
   },
   {
    "duration": 4,
    "start_time": "2022-02-08T12:42:43.346Z"
   },
   {
    "duration": 3,
    "start_time": "2022-02-08T12:43:19.425Z"
   },
   {
    "duration": 383,
    "start_time": "2022-02-08T12:43:19.430Z"
   },
   {
    "duration": 12,
    "start_time": "2022-02-08T12:43:19.816Z"
   },
   {
    "duration": 27,
    "start_time": "2022-02-08T12:43:19.830Z"
   },
   {
    "duration": 127,
    "start_time": "2022-02-08T12:43:19.858Z"
   },
   {
    "duration": 4033,
    "start_time": "2022-02-08T12:43:19.987Z"
   },
   {
    "duration": 24,
    "start_time": "2022-02-08T12:43:24.022Z"
   },
   {
    "duration": 5,
    "start_time": "2022-02-08T12:43:24.047Z"
   },
   {
    "duration": 13,
    "start_time": "2022-02-08T12:43:24.055Z"
   },
   {
    "duration": 5,
    "start_time": "2022-02-08T12:43:24.070Z"
   },
   {
    "duration": 423,
    "start_time": "2022-02-08T12:43:24.077Z"
   },
   {
    "duration": 4,
    "start_time": "2022-02-08T12:43:24.503Z"
   },
   {
    "duration": 20,
    "start_time": "2022-02-08T12:43:24.600Z"
   },
   {
    "duration": 293,
    "start_time": "2022-02-08T12:43:24.623Z"
   },
   {
    "duration": 38,
    "start_time": "2022-02-08T12:43:24.918Z"
   },
   {
    "duration": 62,
    "start_time": "2022-02-08T12:43:24.958Z"
   },
   {
    "duration": 3,
    "start_time": "2022-02-08T12:43:25.022Z"
   },
   {
    "duration": 11,
    "start_time": "2022-02-08T12:43:25.028Z"
   },
   {
    "duration": 9,
    "start_time": "2022-02-08T12:43:25.041Z"
   },
   {
    "duration": 4,
    "start_time": "2022-02-08T12:43:25.053Z"
   },
   {
    "duration": 58,
    "start_time": "2022-02-08T12:43:25.059Z"
   },
   {
    "duration": 6,
    "start_time": "2022-02-08T12:43:25.119Z"
   },
   {
    "duration": 3629,
    "start_time": "2022-02-08T12:43:25.127Z"
   },
   {
    "duration": 3,
    "start_time": "2022-02-08T12:45:25.546Z"
   },
   {
    "duration": 24,
    "start_time": "2022-02-08T12:45:28.794Z"
   },
   {
    "duration": 3,
    "start_time": "2022-02-08T12:45:35.387Z"
   },
   {
    "duration": 389,
    "start_time": "2022-02-08T12:45:35.392Z"
   },
   {
    "duration": 15,
    "start_time": "2022-02-08T12:45:35.784Z"
   },
   {
    "duration": 37,
    "start_time": "2022-02-08T12:45:35.801Z"
   },
   {
    "duration": 108,
    "start_time": "2022-02-08T12:45:35.839Z"
   },
   {
    "duration": 3967,
    "start_time": "2022-02-08T12:45:35.948Z"
   },
   {
    "duration": 25,
    "start_time": "2022-02-08T12:45:39.916Z"
   },
   {
    "duration": 6,
    "start_time": "2022-02-08T12:45:39.943Z"
   },
   {
    "duration": 22,
    "start_time": "2022-02-08T12:45:39.951Z"
   },
   {
    "duration": 20,
    "start_time": "2022-02-08T12:45:39.975Z"
   },
   {
    "duration": 309,
    "start_time": "2022-02-08T12:45:39.998Z"
   },
   {
    "duration": 5,
    "start_time": "2022-02-08T12:45:40.400Z"
   },
   {
    "duration": 116,
    "start_time": "2022-02-08T12:45:40.409Z"
   },
   {
    "duration": 287,
    "start_time": "2022-02-08T12:45:40.527Z"
   },
   {
    "duration": 38,
    "start_time": "2022-02-08T12:45:40.817Z"
   },
   {
    "duration": 62,
    "start_time": "2022-02-08T12:45:40.857Z"
   },
   {
    "duration": 4,
    "start_time": "2022-02-08T12:45:40.921Z"
   },
   {
    "duration": 28,
    "start_time": "2022-02-08T12:45:40.927Z"
   },
   {
    "duration": 22,
    "start_time": "2022-02-08T12:45:40.957Z"
   },
   {
    "duration": 13,
    "start_time": "2022-02-08T12:45:40.982Z"
   },
   {
    "duration": 40,
    "start_time": "2022-02-08T12:45:40.997Z"
   },
   {
    "duration": 6,
    "start_time": "2022-02-08T12:45:41.039Z"
   },
   {
    "duration": 3353,
    "start_time": "2022-02-08T12:45:41.048Z"
   },
   {
    "duration": 5,
    "start_time": "2022-02-08T12:46:47.467Z"
   },
   {
    "duration": 6,
    "start_time": "2022-02-08T12:46:56.627Z"
   },
   {
    "duration": 3540,
    "start_time": "2022-02-08T12:46:59.065Z"
   },
   {
    "duration": 6,
    "start_time": "2022-02-08T12:48:09.546Z"
   },
   {
    "duration": 4047,
    "start_time": "2022-02-08T12:48:13.193Z"
   },
   {
    "duration": 5,
    "start_time": "2022-02-08T12:48:41.147Z"
   },
   {
    "duration": 177,
    "start_time": "2022-02-08T12:49:04.955Z"
   },
   {
    "duration": 5,
    "start_time": "2022-02-08T12:49:16.547Z"
   },
   {
    "duration": 4089,
    "start_time": "2022-02-08T12:49:17.665Z"
   },
   {
    "duration": 6,
    "start_time": "2022-02-08T12:50:05.556Z"
   },
   {
    "duration": 3485,
    "start_time": "2022-02-08T12:50:06.825Z"
   },
   {
    "duration": 5,
    "start_time": "2022-02-08T12:50:41.508Z"
   },
   {
    "duration": 3581,
    "start_time": "2022-02-08T12:50:49.555Z"
   },
   {
    "duration": 5,
    "start_time": "2022-02-08T12:51:34.547Z"
   },
   {
    "duration": 3840,
    "start_time": "2022-02-08T12:51:36.786Z"
   },
   {
    "duration": 101,
    "start_time": "2022-02-08T12:52:39.874Z"
   },
   {
    "duration": 233,
    "start_time": "2022-02-08T12:52:49.105Z"
   },
   {
    "duration": 5,
    "start_time": "2022-02-08T12:53:10.707Z"
   },
   {
    "duration": 5,
    "start_time": "2022-02-08T12:54:23.746Z"
   },
   {
    "duration": 4021,
    "start_time": "2022-02-08T12:54:24.829Z"
   },
   {
    "duration": 6,
    "start_time": "2022-02-08T12:54:48.466Z"
   },
   {
    "duration": 4232,
    "start_time": "2022-02-08T12:55:11.506Z"
   },
   {
    "duration": 5,
    "start_time": "2022-02-08T12:55:22.474Z"
   },
   {
    "duration": 4889,
    "start_time": "2022-02-08T12:55:26.305Z"
   },
   {
    "duration": 6,
    "start_time": "2022-02-08T12:55:59.114Z"
   },
   {
    "duration": 10868,
    "start_time": "2022-02-08T12:56:04.439Z"
   },
   {
    "duration": 3,
    "start_time": "2022-02-08T12:57:52.033Z"
   },
   {
    "duration": 6,
    "start_time": "2022-02-08T12:58:30.667Z"
   },
   {
    "duration": 9567,
    "start_time": "2022-02-08T12:58:39.666Z"
   },
   {
    "duration": 95,
    "start_time": "2022-02-08T13:02:12.465Z"
   },
   {
    "duration": 9751,
    "start_time": "2022-02-08T13:02:19.065Z"
   },
   {
    "duration": 9786,
    "start_time": "2022-02-08T13:02:48.945Z"
   },
   {
    "duration": 10108,
    "start_time": "2022-02-08T13:03:30.585Z"
   },
   {
    "duration": 9980,
    "start_time": "2022-02-08T13:03:50.225Z"
   },
   {
    "duration": 6,
    "start_time": "2022-02-08T13:06:09.028Z"
   },
   {
    "duration": 10026,
    "start_time": "2022-02-08T13:06:11.626Z"
   },
   {
    "duration": 6,
    "start_time": "2022-02-08T13:07:20.787Z"
   },
   {
    "duration": 9940,
    "start_time": "2022-02-08T13:07:27.945Z"
   },
   {
    "duration": 7,
    "start_time": "2022-02-08T13:12:17.108Z"
   },
   {
    "duration": 6,
    "start_time": "2022-02-08T13:13:26.627Z"
   },
   {
    "duration": 9932,
    "start_time": "2022-02-08T13:13:41.746Z"
   },
   {
    "duration": 6,
    "start_time": "2022-02-08T13:14:15.548Z"
   },
   {
    "duration": 9838,
    "start_time": "2022-02-08T13:14:19.627Z"
   },
   {
    "duration": 7,
    "start_time": "2022-02-08T13:18:20.069Z"
   },
   {
    "duration": 3941,
    "start_time": "2022-02-08T13:18:24.545Z"
   },
   {
    "duration": 7,
    "start_time": "2022-02-08T13:19:37.149Z"
   },
   {
    "duration": 521,
    "start_time": "2022-02-08T13:19:38.586Z"
   },
   {
    "duration": 6,
    "start_time": "2022-02-08T13:19:51.269Z"
   },
   {
    "duration": 805,
    "start_time": "2022-02-08T13:19:56.705Z"
   },
   {
    "duration": 6,
    "start_time": "2022-02-08T13:20:07.629Z"
   },
   {
    "duration": 2341,
    "start_time": "2022-02-08T13:20:08.675Z"
   },
   {
    "duration": 6,
    "start_time": "2022-02-08T13:20:42.787Z"
   },
   {
    "duration": 3787,
    "start_time": "2022-02-08T13:20:43.787Z"
   },
   {
    "duration": 6,
    "start_time": "2022-02-08T13:22:04.628Z"
   },
   {
    "duration": 615,
    "start_time": "2022-02-08T13:22:06.026Z"
   },
   {
    "duration": 6,
    "start_time": "2022-02-08T13:22:21.749Z"
   },
   {
    "duration": 3978,
    "start_time": "2022-02-08T13:22:23.146Z"
   },
   {
    "duration": 6,
    "start_time": "2022-02-08T13:22:44.877Z"
   },
   {
    "duration": 534,
    "start_time": "2022-02-08T13:22:47.714Z"
   },
   {
    "duration": 117,
    "start_time": "2022-02-08T13:23:55.549Z"
   },
   {
    "duration": 7,
    "start_time": "2022-02-08T13:24:01.427Z"
   },
   {
    "duration": 525,
    "start_time": "2022-02-08T13:24:02.474Z"
   },
   {
    "duration": 6,
    "start_time": "2022-02-08T13:25:44.635Z"
   },
   {
    "duration": 6,
    "start_time": "2022-02-08T13:25:51.587Z"
   },
   {
    "duration": 576,
    "start_time": "2022-02-08T13:25:53.065Z"
   },
   {
    "duration": 6,
    "start_time": "2022-02-08T13:26:04.229Z"
   },
   {
    "duration": 9795,
    "start_time": "2022-02-08T13:26:05.148Z"
   },
   {
    "duration": 6,
    "start_time": "2022-02-08T13:27:05.989Z"
   },
   {
    "duration": 10198,
    "start_time": "2022-02-08T13:27:07.234Z"
   },
   {
    "duration": 99,
    "start_time": "2022-02-08T13:27:31.469Z"
   },
   {
    "duration": 6,
    "start_time": "2022-02-08T13:27:43.110Z"
   },
   {
    "duration": 9645,
    "start_time": "2022-02-08T13:27:44.546Z"
   },
   {
    "duration": 6,
    "start_time": "2022-02-08T13:30:32.188Z"
   },
   {
    "duration": 3847,
    "start_time": "2022-02-08T13:30:33.426Z"
   },
   {
    "duration": 6,
    "start_time": "2022-02-08T13:34:07.429Z"
   },
   {
    "duration": 9748,
    "start_time": "2022-02-08T13:34:09.907Z"
   },
   {
    "duration": 7,
    "start_time": "2022-02-08T13:34:48.667Z"
   },
   {
    "duration": 9866,
    "start_time": "2022-02-08T13:34:51.426Z"
   },
   {
    "duration": 6,
    "start_time": "2022-02-08T13:39:26.508Z"
   },
   {
    "duration": 9726,
    "start_time": "2022-02-08T13:39:27.906Z"
   },
   {
    "duration": 6,
    "start_time": "2022-02-08T13:42:20.109Z"
   },
   {
    "duration": 9819,
    "start_time": "2022-02-08T13:42:21.666Z"
   },
   {
    "duration": 4,
    "start_time": "2022-02-08T13:55:26.347Z"
   },
   {
    "duration": 259,
    "start_time": "2022-02-08T15:21:47.509Z"
   },
   {
    "duration": 4,
    "start_time": "2022-02-08T15:22:02.271Z"
   },
   {
    "duration": 400,
    "start_time": "2022-02-08T15:22:02.277Z"
   },
   {
    "duration": 14,
    "start_time": "2022-02-08T15:22:02.680Z"
   },
   {
    "duration": 35,
    "start_time": "2022-02-08T15:22:02.699Z"
   },
   {
    "duration": 132,
    "start_time": "2022-02-08T15:22:02.736Z"
   },
   {
    "duration": 4156,
    "start_time": "2022-02-08T15:22:02.871Z"
   },
   {
    "duration": 28,
    "start_time": "2022-02-08T15:22:07.029Z"
   },
   {
    "duration": 6,
    "start_time": "2022-02-08T15:22:07.060Z"
   },
   {
    "duration": 34,
    "start_time": "2022-02-08T15:22:07.069Z"
   },
   {
    "duration": 10,
    "start_time": "2022-02-08T15:22:07.105Z"
   },
   {
    "duration": 289,
    "start_time": "2022-02-08T15:22:07.117Z"
   },
   {
    "duration": 7,
    "start_time": "2022-02-08T15:22:07.500Z"
   },
   {
    "duration": 11,
    "start_time": "2022-02-08T15:22:07.600Z"
   },
   {
    "duration": 297,
    "start_time": "2022-02-08T15:22:07.614Z"
   },
   {
    "duration": 39,
    "start_time": "2022-02-08T15:22:07.913Z"
   },
   {
    "duration": 51,
    "start_time": "2022-02-08T15:22:07.954Z"
   },
   {
    "duration": 2,
    "start_time": "2022-02-08T15:22:08.007Z"
   },
   {
    "duration": 9,
    "start_time": "2022-02-08T15:22:08.011Z"
   },
   {
    "duration": 15,
    "start_time": "2022-02-08T15:22:08.022Z"
   },
   {
    "duration": 5,
    "start_time": "2022-02-08T15:22:08.039Z"
   },
   {
    "duration": 27,
    "start_time": "2022-02-08T15:22:08.045Z"
   },
   {
    "duration": 29,
    "start_time": "2022-02-08T15:22:08.074Z"
   },
   {
    "duration": 9989,
    "start_time": "2022-02-08T15:22:08.107Z"
   },
   {
    "duration": 8,
    "start_time": "2022-02-08T15:23:51.509Z"
   },
   {
    "duration": 4,
    "start_time": "2022-02-08T15:23:54.589Z"
   },
   {
    "duration": 2770,
    "start_time": "2022-02-08T15:23:54.594Z"
   },
   {
    "duration": 12,
    "start_time": "2022-02-08T15:23:57.367Z"
   },
   {
    "duration": 43,
    "start_time": "2022-02-08T15:23:57.382Z"
   },
   {
    "duration": 157,
    "start_time": "2022-02-08T15:23:57.426Z"
   },
   {
    "duration": 4824,
    "start_time": "2022-02-08T15:23:57.585Z"
   },
   {
    "duration": 27,
    "start_time": "2022-02-08T15:24:02.411Z"
   },
   {
    "duration": 6,
    "start_time": "2022-02-08T15:24:02.441Z"
   },
   {
    "duration": 25,
    "start_time": "2022-02-08T15:24:02.450Z"
   },
   {
    "duration": 8,
    "start_time": "2022-02-08T15:24:02.477Z"
   },
   {
    "duration": 413,
    "start_time": "2022-02-08T15:24:02.487Z"
   },
   {
    "duration": 5,
    "start_time": "2022-02-08T15:24:02.903Z"
   },
   {
    "duration": 112,
    "start_time": "2022-02-08T15:24:03.000Z"
   },
   {
    "duration": 273,
    "start_time": "2022-02-08T15:24:03.114Z"
   },
   {
    "duration": 44,
    "start_time": "2022-02-08T15:24:03.389Z"
   },
   {
    "duration": 43,
    "start_time": "2022-02-08T15:24:03.435Z"
   },
   {
    "duration": 20,
    "start_time": "2022-02-08T15:24:03.480Z"
   },
   {
    "duration": 11,
    "start_time": "2022-02-08T15:24:03.502Z"
   },
   {
    "duration": 12,
    "start_time": "2022-02-08T15:24:03.515Z"
   },
   {
    "duration": 4,
    "start_time": "2022-02-08T15:24:03.530Z"
   },
   {
    "duration": 30,
    "start_time": "2022-02-08T15:24:03.536Z"
   },
   {
    "duration": 31,
    "start_time": "2022-02-08T15:24:03.568Z"
   },
   {
    "duration": 10541,
    "start_time": "2022-02-08T15:24:03.602Z"
   },
   {
    "duration": 7,
    "start_time": "2022-02-08T15:24:34.472Z"
   },
   {
    "duration": 6,
    "start_time": "2022-02-08T15:24:44.673Z"
   },
   {
    "duration": 9825,
    "start_time": "2022-02-08T15:24:47.357Z"
   },
   {
    "duration": 95,
    "start_time": "2022-02-08T15:25:58.714Z"
   },
   {
    "duration": 103,
    "start_time": "2022-02-08T15:26:31.599Z"
   },
   {
    "duration": 84,
    "start_time": "2022-02-08T15:26:43.918Z"
   },
   {
    "duration": 6,
    "start_time": "2022-02-08T15:26:51.601Z"
   },
   {
    "duration": 9914,
    "start_time": "2022-02-08T15:26:54.315Z"
   },
   {
    "duration": 6,
    "start_time": "2022-02-08T15:27:24.917Z"
   },
   {
    "duration": 3767,
    "start_time": "2022-02-08T15:27:26.951Z"
   },
   {
    "duration": 7,
    "start_time": "2022-02-08T15:27:37.537Z"
   },
   {
    "duration": 9845,
    "start_time": "2022-02-08T15:27:43.468Z"
   }
  ],
  "kernelspec": {
   "display_name": "Python 3",
   "language": "python",
   "name": "python3"
  },
  "language_info": {
   "codemirror_mode": {
    "name": "ipython",
    "version": 3
   },
   "file_extension": ".py",
   "mimetype": "text/x-python",
   "name": "python",
   "nbconvert_exporter": "python",
   "pygments_lexer": "ipython3",
   "version": "3.8.8"
  },
  "toc": {
   "base_numbering": 1,
   "nav_menu": {},
   "number_sections": true,
   "sideBar": true,
   "skip_h1_title": true,
   "title_cell": "Table of Contents",
   "title_sidebar": "Contents",
   "toc_cell": false,
   "toc_position": {},
   "toc_section_display": true,
   "toc_window_display": true
  }
 },
 "nbformat": 4,
 "nbformat_minor": 2
}
